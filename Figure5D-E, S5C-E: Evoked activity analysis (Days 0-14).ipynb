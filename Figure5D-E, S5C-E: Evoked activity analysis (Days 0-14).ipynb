{
 "cells": [
  {
   "cell_type": "markdown",
   "metadata": {},
   "source": [
    "## Evoked activity analysis (Days 0-14) (Figure 5C, SuppFigure 5)"
   ]
  },
  {
   "cell_type": "markdown",
   "metadata": {},
   "source": [
    "Then saving peak information as .csv files to open in R for statistical analysis"
   ]
  },
  {
   "cell_type": "code",
   "execution_count": 1,
   "metadata": {},
   "outputs": [],
   "source": [
    "import scipy\n",
    "import os\n",
    "import numpy as np\n",
    "import pandas as pd\n",
    "import skimage as sk\n",
    "import seaborn as sns\n",
    "import cv2\n",
    "import matplotlib.pyplot as plt\n",
    "# set plot defaults\n",
    "import matplotlib as mpl\n",
    "import math"
   ]
  },
  {
   "cell_type": "markdown",
   "metadata": {},
   "source": [
    "Read in files as a dictionary that contains the session as keys and arrays of fluorescence as values"
   ]
  },
  {
   "cell_type": "code",
   "execution_count": 17,
   "metadata": {
    "scrolled": true
   },
   "outputs": [],
   "source": [
    "dir_data = r'C:\\Users\\stuberadmin\\Documents\\2p_analysis_20220217\\Day0-14_analysis\\Evoked_activity_analysis\\average_PSTH'\n",
    "save_dir = r'C:\\Users\\stuberadmin\\Documents\\2p_analysis_20220217\\Day0-14_analysis\\Evoked_activity_analysis\\output'\n",
    "dir_files = os.listdir(dir_data)"
   ]
  },
  {
   "cell_type": "markdown",
   "metadata": {},
   "source": [
    "Importing everything as two massive dictionaries: one for sucrose, and one for airpuff"
   ]
  },
  {
   "cell_type": "code",
   "execution_count": 18,
   "metadata": {},
   "outputs": [],
   "source": [
    "list_conditions = ['saline_Day0','morphine_Day0','saline_Day2','morphine_Day2','saline_Day4','morphine_Day4','saline_Day6','morphine_Day6','saline_Day14', 'morphine_Day14']"
   ]
  },
  {
   "cell_type": "code",
   "execution_count": 19,
   "metadata": {},
   "outputs": [],
   "source": [
    "os.chdir(dir_data)\n",
    "\n",
    "puff = pd.DataFrame()\n",
    "suc = pd.DataFrame()\n",
    "\n",
    "array_dict_suc = dict()\n",
    "array_dict_puff = dict()\n",
    "\n",
    "for string in list_conditions:\n",
    "    for file in dir_files:\n",
    "        if string in file:\n",
    "            if 'puff' in file:\n",
    "                temp1 = pd.read_excel(file).drop('Unnamed: 0', axis=1)#.iloc[:,0:57]\n",
    "                puff = pd.concat([puff, temp1])\n",
    "            elif 'suc' in file:\n",
    "                temp2 = pd.read_excel(file).drop('Unnamed: 0', axis=1)#.iloc[:,0:57]\n",
    "                suc = pd.concat([suc, temp2])\n",
    "    array_dict_suc[string] = suc\n",
    "    array_dict_puff[string] = puff\n",
    "    puff = pd.DataFrame()\n",
    "    suc = pd.DataFrame()  "
   ]
  },
  {
   "cell_type": "markdown",
   "metadata": {},
   "source": [
    "Zscoring the traces within each session"
   ]
  },
  {
   "cell_type": "code",
   "execution_count": 20,
   "metadata": {},
   "outputs": [],
   "source": [
    "from scipy import stats"
   ]
  },
  {
   "cell_type": "code",
   "execution_count": 21,
   "metadata": {},
   "outputs": [],
   "source": [
    "Zscore_df = pd.DataFrame()\n",
    "puff_zscore = dict()\n",
    "\n",
    "for key in array_dict_puff:\n",
    "    zscored = stats.zscore(array_dict_puff[key].iloc[:,0:75], axis=1)\n",
    "    Zscore_df = pd.concat([Zscore_df, zscored])\n",
    "    puff_zscore[key] = Zscore_df\n",
    "    Zscore_df = pd.DataFrame()\n",
    "    \n",
    "Zscore_df = pd.DataFrame()\n",
    "suc_zscore = dict()\n",
    "\n",
    "for key in array_dict_suc:\n",
    "    zscored = stats.zscore(array_dict_suc[key].iloc[:,0:75], axis=1)\n",
    "    Zscore_df = pd.concat([Zscore_df, zscored])\n",
    "    suc_zscore[key] = Zscore_df\n",
    "    Zscore_df = pd.DataFrame()"
   ]
  },
  {
   "cell_type": "markdown",
   "metadata": {},
   "source": [
    "Or dF/F"
   ]
  },
  {
   "cell_type": "code",
   "execution_count": 22,
   "metadata": {},
   "outputs": [],
   "source": [
    "dF_df = pd.DataFrame()\n",
    "puff_dF = dict()\n",
    "\n",
    "for key in array_dict_puff:\n",
    "    for index, row in array_dict_puff[key].iterrows():\n",
    "        df_list = list()\n",
    "        for frame in row:\n",
    "            #dF/F calculation using the timestamps prior to airpuff/suc delivery\n",
    "            df = (frame - np.nanmean(row[0:19]))/np.nanmean(row[0:19])\n",
    "            df_list.append(df)\n",
    "        dF_df = pd.concat([dF_df, pd.DataFrame(df_list[0:75])], axis=1)\n",
    "        df_list = list()\n",
    "    puff_dF[key] = dF_df.transpose()\n",
    "    dF_df = pd.DataFrame()\n",
    "    \n",
    "dF_df = pd.DataFrame()\n",
    "suc_dF = dict()\n",
    "\n",
    "for key in array_dict_puff:\n",
    "    for index, row in array_dict_suc[key].iterrows():\n",
    "        df_list = list()\n",
    "        for frame in row:\n",
    "            #dF/F calculation using the timestamps prior to airpuff/suc delivery\n",
    "            df = (frame - np.mean(row[0:19]))/np.mean(row[0:19])\n",
    "            df_list.append(df)\n",
    "        dF_df = pd.concat([dF_df, pd.DataFrame(df_list[0:75])], axis=1)\n",
    "        df_list = list()\n",
    "    suc_dF[key] = dF_df.transpose()\n",
    "    dF_df = pd.DataFrame()"
   ]
  },
  {
   "cell_type": "markdown",
   "metadata": {},
   "source": [
    "### Plotting traces"
   ]
  },
  {
   "cell_type": "markdown",
   "metadata": {},
   "source": [
    "Airpuff trials"
   ]
  },
  {
   "cell_type": "code",
   "execution_count": null,
   "metadata": {},
   "outputs": [],
   "source": [
    "os.getcwd()"
   ]
  },
  {
   "cell_type": "code",
   "execution_count": null,
   "metadata": {},
   "outputs": [],
   "source": [
    "os.chdir(r'C:\\Users\\stuberadmin\\Documents\\2p_analysis_20220217\\Day0-14_analysis\\Evoked_activity_analysis\\output')"
   ]
  },
  {
   "cell_type": "code",
   "execution_count": null,
   "metadata": {},
   "outputs": [],
   "source": [
    "time = np.arange(0, 57)"
   ]
  },
  {
   "cell_type": "code",
   "execution_count": null,
   "metadata": {},
   "outputs": [],
   "source": [
    "sal = puff_dF['saline_Day0'].iloc[:,0:57].mean(axis=0)\n",
    "sal_sem = puff_dF['saline_Day0'].iloc[:,0:57].sem(axis=0)\n",
    "mor = puff_dF['morphine_Day0'].iloc[:,0:57].mean(axis=0)\n",
    "mor_sem = puff_dF['morphine_Day0'].iloc[:,0:57].sem(axis=0)"
   ]
  },
  {
   "cell_type": "code",
   "execution_count": null,
   "metadata": {},
   "outputs": [],
   "source": [
    "len(time)"
   ]
  },
  {
   "cell_type": "code",
   "execution_count": null,
   "metadata": {},
   "outputs": [],
   "source": [
    "fig, ax = plt.subplots(ncols=1, figsize=(3,3))\n",
    "plt.title(\"Airpuff responses Day0\")\n",
    "sns.lineplot(x=time, y=sal, color='gray',label=\"saline\")\n",
    "plt.fill_between(time, sal-sal_sem,  sal + sal_sem, color='gray', alpha=0.5)\n",
    "sns.lineplot(x=time, y=mor, label=\"morphine\", color='darkorange')\n",
    "plt.fill_between(time, mor-mor_sem,  mor + mor_sem, alpha=0.5, color='darkorange')\n",
    "\n",
    "ax.set_ylim(-.05, 0.4)\n",
    "ax.get_legend().remove()\n",
    "ax.set_xticks([0,19,38,57])\n",
    "ax.set_xticklabels(['-2.5','0','2.5','5'])\n",
    "ax.axvline(19, lw='1', color='k', linestyle='--')\n",
    "ax.set(xlabel='Time from Delivery (s)', ylabel='dF/F')\n",
    "os.chdir(save_dir)\n",
    "fig.savefig('Day0_airpuff_mean_dF.pdf', format='pdF', dpi=300)\n",
    "fig.savefig('Day0_airpuff_mean_dF.png', format='png', dpi=300)"
   ]
  },
  {
   "cell_type": "code",
   "execution_count": null,
   "metadata": {},
   "outputs": [],
   "source": [
    "sal = puff_dF['saline_Day2'].iloc[:,0:57].mean(axis=0)\n",
    "sal_sem = puff_dF['saline_Day2'].iloc[:,0:57].sem(axis=0)\n",
    "mor = puff_dF['morphine_Day2'].iloc[:,0:57].mean(axis=0)\n",
    "mor_sem = puff_dF['morphine_Day2'].iloc[:,0:57].sem(axis=0)"
   ]
  },
  {
   "cell_type": "code",
   "execution_count": null,
   "metadata": {},
   "outputs": [],
   "source": [
    "fig, ax = plt.subplots(ncols=1, figsize=(3,3))\n",
    "plt.title(\"Airpuff responses Day2\")\n",
    "sns.lineplot(x=time, y=sal, color='gray',label=\"saline\")\n",
    "plt.fill_between(time, sal-sal_sem,  sal + sal_sem, color='gray', alpha=0.5)\n",
    "sns.lineplot(x=time, y=mor, label=\"morphine\", color='darkorange')\n",
    "plt.fill_between(time, mor-mor_sem,  mor + mor_sem, alpha=0.5, color='darkorange')\n",
    "\n",
    "ax.set_ylim(-.05, 0.4)\n",
    "ax.get_legend().remove()\n",
    "ax.set_xticks([0,19,38,57])\n",
    "ax.set_xticklabels(['-2.5','0','2.5','5'])\n",
    "ax.axvline(19, lw='1', color='k', linestyle='--')\n",
    "ax.set(xlabel='Time from Delivery (s)', ylabel='dF/F')\n",
    "os.chdir(save_dir)\n",
    "fig.savefig('Day2_Airpuff_mean_dF.pdF', format='pdF', dpi=300)\n",
    "fig.savefig('Day2_Airpuff_mean_dF.png', format='png', dpi=300)"
   ]
  },
  {
   "cell_type": "code",
   "execution_count": null,
   "metadata": {},
   "outputs": [],
   "source": [
    "sal = puff_dF['saline_Day4'].iloc[:,0:57].mean(axis=0)\n",
    "sal_sem = puff_dF['saline_Day4'].iloc[:,0:57].sem(axis=0)\n",
    "mor = puff_dF['morphine_Day4'].iloc[:,0:57].mean(axis=0)\n",
    "mor_sem = puff_dF['morphine_Day4'].iloc[:,0:57].sem(axis=0)"
   ]
  },
  {
   "cell_type": "code",
   "execution_count": null,
   "metadata": {},
   "outputs": [],
   "source": [
    "fig, ax = plt.subplots(ncols=1, figsize=(3,3))\n",
    "plt.title(\"Airpuff responses Day4\")\n",
    "sns.lineplot(x=time, y=sal, color='gray',label=\"saline\")\n",
    "plt.fill_between(time, sal-sal_sem,  sal + sal_sem, color='gray', alpha=0.5)\n",
    "sns.lineplot(x=time, y=mor, label=\"morphine\", color='darkorange')\n",
    "plt.fill_between(time, mor-mor_sem,  mor + mor_sem, alpha=0.5, color='darkorange')\n",
    "\n",
    "ax.set_ylim(-.05, 0.4)\n",
    "ax.get_legend().remove()\n",
    "ax.set_xticks([0,19,38,57])\n",
    "ax.set_xticklabels(['-2.5','0','2.5','5'])\n",
    "ax.axvline(19, lw='1', color='k', linestyle='--')\n",
    "ax.set(xlabel='Time from Delivery (s)', ylabel='dF/F')\n",
    "os.chdir(save_dir)\n",
    "fig.savefig('Day4_Airpuff_mean_dF.pdF', format='pdF', dpi=300)\n",
    "fig.savefig('Day4_Airpuff_mean_dF.png', format='png', dpi=300)"
   ]
  },
  {
   "cell_type": "code",
   "execution_count": null,
   "metadata": {},
   "outputs": [],
   "source": [
    "sal = puff_dF['saline_Day6'].iloc[:,0:57].mean(axis=0)\n",
    "sal_sem = puff_dF['saline_Day6'].iloc[:,0:57].sem(axis=0)\n",
    "mor = puff_dF['morphine_Day6'].iloc[:,0:57].mean(axis=0)\n",
    "mor_sem = puff_dF['morphine_Day6'].iloc[:,0:57].sem(axis=0)"
   ]
  },
  {
   "cell_type": "code",
   "execution_count": null,
   "metadata": {},
   "outputs": [],
   "source": [
    "fig, ax = plt.subplots(ncols=1, figsize=(3,3))\n",
    "plt.title(\"Airpuff responses Day6\")\n",
    "sns.lineplot(x=time, y=sal, color='gray',label=\"saline\")\n",
    "plt.fill_between(time, sal-sal_sem,  sal + sal_sem, color='gray', alpha=0.5)\n",
    "sns.lineplot(x=time, y=mor, label=\"morphine\", color='darkorange')\n",
    "plt.fill_between(time, mor-mor_sem,  mor + mor_sem, alpha=0.5, color='darkorange')\n",
    "\n",
    "ax.set_ylim(-.05, 0.4)\n",
    "ax.get_legend().remove()\n",
    "ax.set_xticks([0,19,38,57])\n",
    "ax.set_xticklabels(['-2.5','0','2.5','5'])\n",
    "ax.axvline(19, lw='1', color='k', linestyle='--')\n",
    "ax.set(xlabel='Time from Delivery (s)', ylabel='dF/F')\n",
    "os.chdir(save_dir)\n",
    "fig.savefig('Day6_Airpuff_mean_dF.pdF', format='pdF', dpi=300)\n",
    "fig.savefig('Day6_Airpuff_mean_dF.png', format='png', dpi=300)"
   ]
  },
  {
   "cell_type": "code",
   "execution_count": null,
   "metadata": {},
   "outputs": [],
   "source": [
    "#Excluding LS3 and LS4 from Day14\n",
    "sal = puff_dF['saline_Day14'].iloc[:,0:57].mean(axis=0)\n",
    "sal_sem = puff_dF['saline_Day14'].iloc[:,0:57].sem(axis=0)\n",
    "mor = puff_dF['morphine_Day14'].iloc[:,0:57].mean(axis=0)\n",
    "mor_sem = puff_dF['morphine_Day14'].iloc[:,0:57].sem(axis=0)"
   ]
  },
  {
   "cell_type": "code",
   "execution_count": null,
   "metadata": {
    "scrolled": true
   },
   "outputs": [],
   "source": [
    "fig, ax = plt.subplots(ncols=1, figsize=(3,3))\n",
    "plt.title(\"Airpuff responses Day14\")\n",
    "sns.lineplot(x=time, y=sal, color='gray',label=\"saline\")\n",
    "plt.fill_between(time, sal-sal_sem,  sal + sal_sem, color='gray', alpha=0.5)\n",
    "sns.lineplot(x=time, y=mor, label=\"morphine\", color='darkorange')\n",
    "plt.fill_between(time, mor-mor_sem,  mor + mor_sem, alpha=0.5, color='darkorange')\n",
    "\n",
    "ax.set_ylim(-.05, 0.4)\n",
    "ax.get_legend().remove()\n",
    "ax.set_xticks([0,19,38,57])\n",
    "ax.set_xticklabels(['-2.5','0','2.5','5'])\n",
    "ax.axvline(19, lw='1', color='k', linestyle='--')\n",
    "ax.set(xlabel='Time from Delivery (s)', ylabel='dF/F')\n",
    "os.chdir(save_dir)\n",
    "fig.savefig('Day14_Airpuff_mean_dF.pdF', format='pdF', dpi=300)\n",
    "fig.savefig('Day14_Airpuff_mean_dF.png', format='png', dpi=300)"
   ]
  },
  {
   "cell_type": "markdown",
   "metadata": {},
   "source": [
    "Sucrose trials"
   ]
  },
  {
   "cell_type": "code",
   "execution_count": null,
   "metadata": {},
   "outputs": [],
   "source": [
    "time = np.arange(0, 57)"
   ]
  },
  {
   "cell_type": "code",
   "execution_count": null,
   "metadata": {},
   "outputs": [],
   "source": [
    "sal = suc_zscore['saline_Day0'].iloc[:,0:57].mean(axis=0)\n",
    "sal_sem = suc_zscore['saline_Day0'].iloc[:,0:57].sem(axis=0)\n",
    "mor = suc_zscore['morphine_Day0'].iloc[:,0:57].mean(axis=0)\n",
    "mor_sem = suc_zscore['morphine_Day0'].iloc[:,0:57].sem(axis=0)"
   ]
  },
  {
   "cell_type": "code",
   "execution_count": null,
   "metadata": {},
   "outputs": [],
   "source": [
    "fig, ax = plt.subplots(ncols=1, figsize=(3,3))\n",
    "plt.title(\"Sucrose responses Day0\")\n",
    "sns.lineplot(x=time, y=sal, color='gray',label=\"saline\")\n",
    "plt.fill_between(time, sal-sal_sem,  sal + sal_sem, color='gray', alpha=0.5)\n",
    "sns.lineplot(x=time, y=mor, label=\"morphine\", color='darkorange')\n",
    "plt.fill_between(time, mor-mor_sem,  mor + mor_sem, alpha=0.5, color='darkorange')\n",
    "\n",
    "ax.set_ylim(-1.5,1.5)\n",
    "ax.set_xticks([0,19,38,57])\n",
    "ax.set_xticklabels(['-2.5','0','2.5','5'])\n",
    "ax.axvline(19, lw='1', color='k', linestyle='--')\n",
    "ax.set(xlabel='Time from Delivery (s)', ylabel='Z scored activity')\n",
    "os.chdir(save_dir)\n",
    "fig.savefig('Day0_sucrose_mean_zscore.pdf', format='pdf', dpi=300)\n",
    "fig.savefig('Day0_sucrose_mean_zscore.png', format='png', dpi=300)"
   ]
  },
  {
   "cell_type": "code",
   "execution_count": null,
   "metadata": {},
   "outputs": [],
   "source": [
    "sal = suc_zscore['saline_Day2'].iloc[:,0:57].mean(axis=0)\n",
    "sal_sem = suc_zscore['saline_Day2'].iloc[:,0:57].sem(axis=0)\n",
    "mor = suc_zscore['morphine_Day2'].iloc[:,0:57].mean(axis=0)\n",
    "mor_sem = suc_zscore['morphine_Day2'].iloc[:,0:57].sem(axis=0)"
   ]
  },
  {
   "cell_type": "code",
   "execution_count": null,
   "metadata": {},
   "outputs": [],
   "source": [
    "fig, ax = plt.subplots(ncols=1, figsize=(3,3))\n",
    "plt.title(\"Sucrose responses Day2\")\n",
    "sns.lineplot(x=time, y=sal, color='gray',label=\"saline\")\n",
    "plt.fill_between(time, sal-sal_sem,  sal + sal_sem, color='gray', alpha=0.5)\n",
    "sns.lineplot(x=time, y=mor, label=\"morphine\", color='darkorange')\n",
    "plt.fill_between(time, mor-mor_sem,  mor + mor_sem, alpha=0.5, color='darkorange')\n",
    "\n",
    "ax.set_ylim(-1.5,1.5)\n",
    "ax.set_xticks([0,19,38,57])\n",
    "ax.set_xticklabels(['-2.5','0','2.5','5'])\n",
    "ax.axvline(19, lw='1', color='k', linestyle='--')\n",
    "ax.set(xlabel='Time from Delivery (s)', ylabel='Z scored activity')\n",
    "os.chdir(save_dir)\n",
    "fig.savefig('Day2_sucrose_mean_zscore.pdf', format='pdf', dpi=300)\n",
    "fig.savefig('Day2_sucrose_mean_zscore.png', format='png', dpi=300)"
   ]
  },
  {
   "cell_type": "code",
   "execution_count": null,
   "metadata": {},
   "outputs": [],
   "source": [
    "sal = suc_zscore['saline_Day4'].iloc[:,0:57].mean(axis=0)\n",
    "sal_sem = suc_zscore['saline_Day4'].iloc[:,0:57].sem(axis=0)\n",
    "mor = suc_zscore['morphine_Day4'].iloc[:,0:57].mean(axis=0)\n",
    "mor_sem = suc_zscore['morphine_Day4'].iloc[:,0:57].sem(axis=0)"
   ]
  },
  {
   "cell_type": "code",
   "execution_count": null,
   "metadata": {},
   "outputs": [],
   "source": [
    "fig, ax = plt.subplots(ncols=1, figsize=(3,3))\n",
    "plt.title(\"Sucrose responses Day4\")\n",
    "sns.lineplot(x=time, y=sal, color='gray',label=\"saline\")\n",
    "plt.fill_between(time, sal-sal_sem,  sal + sal_sem, color='gray', alpha=0.5)\n",
    "sns.lineplot(x=time, y=mor, label=\"morphine\", color='darkorange')\n",
    "plt.fill_between(time, mor-mor_sem,  mor + mor_sem, alpha=0.5, color='darkorange')\n",
    "\n",
    "ax.set_ylim(-1.5,1.5)\n",
    "ax.set_xticks([0,19,38,57])\n",
    "ax.set_xticklabels(['-2.5','0','2.5','5'])\n",
    "ax.axvline(19, lw='1', color='k', linestyle='--')\n",
    "ax.set(xlabel='Time from Delivery (s)', ylabel='Z scored activity')\n",
    "os.chdir(save_dir)\n",
    "fig.savefig('Day4_sucrose_mean_zscore.pdf', format='pdf', dpi=300)\n",
    "fig.savefig('Day4_sucrose_mean_zscore.png', format='png', dpi=300)"
   ]
  },
  {
   "cell_type": "code",
   "execution_count": null,
   "metadata": {},
   "outputs": [],
   "source": [
    "sal = suc_zscore['saline_Day6'].iloc[:,0:57].mean(axis=0)\n",
    "sal_sem = suc_zscore['saline_Day6'].iloc[:,0:57].sem(axis=0)\n",
    "mor = suc_zscore['morphine_Day6'].iloc[:,0:57].mean(axis=0)\n",
    "mor_sem = suc_zscore['morphine_Day6'].iloc[:,0:57].sem(axis=0)"
   ]
  },
  {
   "cell_type": "code",
   "execution_count": null,
   "metadata": {},
   "outputs": [],
   "source": [
    "fig, ax = plt.subplots(ncols=1, figsize=(3,3))\n",
    "plt.title(\"Sucrose responses Day6\")\n",
    "sns.lineplot(x=time, y=sal, color='gray',label=\"saline\")\n",
    "plt.fill_between(time, sal-sal_sem,  sal + sal_sem, color='gray', alpha=0.5)\n",
    "sns.lineplot(x=time, y=mor, label=\"morphine\", color='darkorange')\n",
    "plt.fill_between(time, mor-mor_sem,  mor + mor_sem, alpha=0.5, color='darkorange')\n",
    "\n",
    "ax.set_ylim(-1.5,1.5)\n",
    "ax.set_xticks([0,19,38,57])\n",
    "ax.set_xticklabels(['-2.5','0','2.5','5'])\n",
    "ax.axvline(19, lw='1', color='k', linestyle='--')\n",
    "ax.set(xlabel='Time from Delivery (s)', ylabel='Z scored activity')\n",
    "os.chdir(save_dir)\n",
    "fig.savefig('Day6_sucrose_mean_zscore.pdf', format='pdf', dpi=300)\n",
    "fig.savefig('Day6_sucrose_mean_zscore.png', format='png', dpi=300)"
   ]
  },
  {
   "cell_type": "code",
   "execution_count": null,
   "metadata": {},
   "outputs": [],
   "source": [
    "sal = suc_zscore['saline_Day14'].iloc[:,0:57].mean(axis=0)\n",
    "sal_sem = suc_zscore['saline_Day14'].iloc[:,0:57].sem(axis=0)\n",
    "mor = suc_zscore['morphine_Day14'].iloc[:,0:57].mean(axis=0)\n",
    "mor_sem = suc_zscore['morphine_Day14'].iloc[:,0:57].sem(axis=0)"
   ]
  },
  {
   "cell_type": "code",
   "execution_count": null,
   "metadata": {},
   "outputs": [],
   "source": [
    "fig, ax = plt.subplots(ncols=1, figsize=(3,3))\n",
    "plt.title(\"Sucrose responses Day14\")\n",
    "sns.lineplot(x=time, y=sal, color='gray',label=\"saline\")\n",
    "plt.fill_between(time, sal-sal_sem,  sal + sal_sem, color='gray', alpha=0.5)\n",
    "sns.lineplot(x=time, y=mor, label=\"morphine\", color='darkorange')\n",
    "plt.fill_between(time, mor-mor_sem,  mor + mor_sem, alpha=0.5, color='darkorange')\n",
    "\n",
    "ax.set_ylim(-1.5,1.5)\n",
    "ax.set_xticks([0,19,38,57])\n",
    "ax.set_xticklabels(['-2.5','0','2.5','5'])\n",
    "ax.axvline(19, lw='1', color='k', linestyle='--')\n",
    "ax.set(xlabel='Time from Delivery (s)', ylabel='Z scored activity')\n",
    "os.chdir(save_dir)\n",
    "fig.savefig('Day14_sucrose_mean_zscore.pdf', format='pdf', dpi=300)\n",
    "fig.savefig('Day14_sucrose_mean_zscore.png', format='png', dpi=300)"
   ]
  },
  {
   "cell_type": "code",
   "execution_count": null,
   "metadata": {},
   "outputs": [],
   "source": []
  },
  {
   "cell_type": "code",
   "execution_count": null,
   "metadata": {},
   "outputs": [],
   "source": []
  },
  {
   "cell_type": "code",
   "execution_count": 85,
   "metadata": {},
   "outputs": [],
   "source": [
    "Day0_df_sal = puff_dF['saline_Day0'].iloc[:,0:75]\n",
    "Day2_df_sal = puff_dF['saline_Day2'].iloc[:,0:75]\n",
    "Day4_df_sal = puff_dF['saline_Day4'].iloc[:,0:75]\n",
    "Day6_df_sal = puff_dF['saline_Day6'].iloc[:,0:75]\n",
    "Day14_df_sal = puff_dF['saline_Day14'].iloc[:,0:75]"
   ]
  },
  {
   "cell_type": "code",
   "execution_count": 86,
   "metadata": {},
   "outputs": [],
   "source": [
    "Day0_df_mor = puff_dF['morphine_Day0'].iloc[:,0:75]\n",
    "Day2_df_mor = puff_dF['morphine_Day2'].iloc[:,0:75]\n",
    "Day4_df_mor = puff_dF['morphine_Day4'].iloc[:,0:75]\n",
    "Day6_df_mor = puff_dF['morphine_Day6'].iloc[:,0:75]\n",
    "Day14_df_mor = puff_dF['morphine_Day14'].iloc[:,0:75]"
   ]
  },
  {
   "cell_type": "code",
   "execution_count": 87,
   "metadata": {},
   "outputs": [],
   "source": [
    "big_dict_sal = {'Day0': Day0_df_sal,\n",
    "            'Day2': Day2_df_sal,\n",
    "            'Day4': Day4_df_sal,\n",
    "            'Day6': Day6_df_sal,\n",
    "            'Day14': Day14_df_sal\n",
    "}"
   ]
  },
  {
   "cell_type": "code",
   "execution_count": 88,
   "metadata": {},
   "outputs": [],
   "source": [
    "big_dict_mor = {'Day0': Day0_df_mor,\n",
    "            'Day2': Day2_df_mor,\n",
    "            'Day4': Day4_df_mor,\n",
    "            'Day6': Day6_df_mor,\n",
    "            'Day14': Day14_df_mor\n",
    "}"
   ]
  },
  {
   "cell_type": "markdown",
   "metadata": {},
   "source": [
    "Calculating area under the curve"
   ]
  },
  {
   "cell_type": "code",
   "execution_count": 92,
   "metadata": {},
   "outputs": [],
   "source": [
    "import numpy as np\n",
    "from scipy.integrate import simpson\n",
    "from numpy import trapz"
   ]
  },
  {
   "cell_type": "code",
   "execution_count": 93,
   "metadata": {},
   "outputs": [],
   "source": [
    "auc_list = list()\n",
    "auc_df = pd.DataFrame()\n",
    "\n",
    "for key in big_dict_sal:\n",
    "    for index, row in big_dict_sal[key].iterrows():\n",
    "        t = row\n",
    "        auc = trapz(row[20:77], dx=1)\n",
    "        auc_list.append(auc)\n",
    "    auc_df = pd.concat([auc_df, pd.DataFrame(auc_list)], axis=1)\n",
    "    auc_list = list()\n",
    "auc_df.columns = ['Day0','Day2','Day4','Day6','Day14']"
   ]
  },
  {
   "cell_type": "code",
   "execution_count": 94,
   "metadata": {},
   "outputs": [],
   "source": [
    "auc_df.to_excel(r'C:\\Users\\stuberadmin\\Documents\\2p_analysis_20220217\\Day7_analysis\\Spontaneous_activity_analysis\\auc_puffrose_dF_responsive_sal.xlsx')"
   ]
  },
  {
   "cell_type": "code",
   "execution_count": null,
   "metadata": {},
   "outputs": [],
   "source": []
  },
  {
   "cell_type": "code",
   "execution_count": null,
   "metadata": {},
   "outputs": [],
   "source": []
  },
  {
   "cell_type": "code",
   "execution_count": null,
   "metadata": {},
   "outputs": [],
   "source": []
  },
  {
   "cell_type": "code",
   "execution_count": null,
   "metadata": {},
   "outputs": [],
   "source": []
  },
  {
   "cell_type": "code",
   "execution_count": null,
   "metadata": {},
   "outputs": [],
   "source": []
  },
  {
   "cell_type": "markdown",
   "metadata": {},
   "source": [
    "### Plotting all cells: splitting by group and session"
   ]
  },
  {
   "cell_type": "code",
   "execution_count": null,
   "metadata": {},
   "outputs": [],
   "source": [
    "#Loading in only the saline cells on day 0 to define the sort order\n",
    "d0_df_puff_sal = puff_dF['saline_Day0']\n",
    "d0_df_suc_sal = suc_dF['saline_Day0']\n",
    "\n",
    "#Loading in only the morphine cells on day 0 to define the sort order\n",
    "d0_df_puff_mor = puff_dF['morphine_Day0']\n",
    "d0_df_suc_mor = suc_dF['morphine_Day0']"
   ]
  },
  {
   "cell_type": "code",
   "execution_count": null,
   "metadata": {},
   "outputs": [],
   "source": [
    "d0_df_arr_puff_sal = np.array(d0_df_puff_sal)\n",
    "d0_df_arr_suc_sal = np.array(d0_df_suc_sal)\n",
    "\n",
    "d0_df_arr_puff_mor = np.array(d0_df_puff_mor)\n",
    "d0_df_arr_suc_mor = np.array(d0_df_suc_mor)"
   ]
  },
  {
   "cell_type": "code",
   "execution_count": null,
   "metadata": {},
   "outputs": [],
   "source": [
    "activity_puff_sal = np.nanmean(d0_df_arr_puff_sal[:,19:57], axis=1)\n",
    "sort_response_puff_sal = np.argsort(activity_puff_sal)\n",
    "\n",
    "activity_suc_sal = np.nanmean(d0_df_arr_suc_sal[:,19:57], axis=1)\n",
    "sort_response_suc_sal = np.argsort(activity_suc_sal)\n",
    "\n",
    "activity_puff_mor = np.nanmean(d0_df_arr_puff_mor[:,19:57], axis=1)\n",
    "sort_response_puff_mor = np.argsort(activity_puff_mor)\n",
    "\n",
    "activity_suc_mor = np.nanmean(d0_df_arr_suc_mor[:,19:57], axis=1)\n",
    "sort_response_suc_mor = np.argsort(activity_suc_mor)"
   ]
  },
  {
   "cell_type": "code",
   "execution_count": null,
   "metadata": {},
   "outputs": [],
   "source": [
    "# sort PUFF by Sucrose Key and plot them next to each other \n",
    "aligned_PUFF_PSTH=d0_df_arr_puff_sal[sort_response_suc_sal][::-1] # [::-1] negates array to sort high-->  low instead of low-->high \n",
    "aligned_suc_PSTH=d0_df_arr_suc_sal[sort_response_suc_sal][::-1]\n",
    "window_size=d0_df_puff_sal.shape[1]-1\n",
    "framerate=30/4\n",
    "numrois=aligned_PUFF_PSTH.shape[0]"
   ]
  },
  {
   "cell_type": "code",
   "execution_count": null,
   "metadata": {},
   "outputs": [],
   "source": [
    "fig, axs = plt.subplots(ncols=2, figsize=(10,10)) \n",
    "cax = sns.heatmap(aligned_PUFF_PSTH[:,:],\n",
    "                    ax=axs[0],\n",
    "                    cmap=plt.get_cmap('PuOr_r'),\n",
    "                    vmin=-1,\n",
    "                    vmax=1)\n",
    "\n",
    "#fig.suptitle('Cells Aligned to Sucrose Response')\n",
    "#ax[0].imshow(, cmap='coolwarm')\n",
    "axs[0].grid(False)\n",
    "axs[0].set_title('20psi Airpuff')\n",
    "axs[0].set_ylabel('Sorted ROI number')\n",
    "axs[0].set_xlabel('Time from Airpuff Delivery')\n",
    "axs[0].set_xticks([0,19,38,57,window_size])\n",
    "axs[0].set_xticklabels(['-2.5','0','2.5','5','7.5'])\n",
    "#ax[0].set_xticklabels([str(np.round(((a-pre_window+0.0)/framerate), decimals=2)) for a in range(0, window_size+1, 10)])\n",
    "axs[0].set_xlim([0,window_size])\n",
    "axs[0].set_yticks(range(0, numrois, 50))\n",
    "axs[0].set_yticklabels([str(a) for a in range(0, numrois, 50)])\n",
    "\n",
    "axs[0].axvline(19, color='k', linestyle='--')\n",
    "cbar = cax.collections[0].colorbar\n",
    "    #cbar.set_ticks([-0.2, 0, 0.2])\n",
    "    #cbar.set_ticklabels(['-0.2', '0', '0.2'])\n",
    "#cbar.set_label('dF/F', rotation='270', labelpad=10)#, fontsize='5', labelpad=10)\n",
    "cax = sns.heatmap(aligned_suc_PSTH[:,:],\n",
    "                    ax=axs[1],\n",
    "                    cmap=plt.get_cmap('PuOr_r'),\n",
    "                    vmin=0.5,\n",
    "                    vmax=-0.5)\n",
    "#axs[1].imshow(aligned_PUFF_PSTH[:,0:40], cmap='coolwarm')\n",
    "axs[1].grid(False)\n",
    "axs[1].set_title('10% Sucrose')\n",
    "#axs[1].set_ylabel('Sorted ROI number')\n",
    "axs[1].set_xlabel('Time from Sucrose Delivery')\n",
    "axs[1].set_xticks([0,19,38,57,window_size])\n",
    "axs[1].set_xticklabels(['-2.5','0','2.5','5','7.5'])\n",
    "axs[1].axvline(19, color='k', linestyle='--')\n",
    "axs[1].set_xlim([0,window_size])\n",
    "axs[1].set_yticks(range(0, numrois, 50))\n",
    "axs[1].set_yticklabels([str(a) for a in range(0, numrois, 50)])\n",
    "\n",
    "cbar = cax.collections[0].colorbar\n",
    "    #cbar.set_ticks([-0.2, 0, 0.2])\n",
    "    #cbar.set_ticklabels(['-0.2', '0', '0.2'])\n",
    "cbar.set_label(r'$\\Delta F/F$', rotation='270', labelpad=10)#, fontsize='5', labelpad=10)\n",
    "fig.savefig('All_cells_heatmap_d0_saline_sucrose-aligned.pdf', format='pdf', dpi=300)"
   ]
  },
  {
   "cell_type": "code",
   "execution_count": null,
   "metadata": {},
   "outputs": [],
   "source": [
    "# sort PUFF by Sucrose Key and plot them next to each other \n",
    "aligned_PUFF_PSTH=d0_df_arr_puff_mor[sort_response_suc_mor][::-1] # [::-1] negates array to sort high-->  low instead of low-->high \n",
    "aligned_suc_PSTH=d0_df_arr_suc_mor[sort_response_suc_mor][::-1]\n",
    "window_size=d0_df_puff_mor.shape[1]-1\n",
    "framerate=30/4\n",
    "numrois=aligned_PUFF_PSTH.shape[0]"
   ]
  },
  {
   "cell_type": "code",
   "execution_count": null,
   "metadata": {
    "scrolled": true
   },
   "outputs": [],
   "source": [
    "fig, axs = plt.subplots(ncols=2, figsize=(10,10)) \n",
    "cax = sns.heatmap(aligned_PUFF_PSTH[:,:],\n",
    "                    ax=axs[0],\n",
    "                    cmap=plt.get_cmap('PuOr_r'),\n",
    "                    vmin=-1,\n",
    "                    vmax=1)\n",
    "\n",
    "#fig.suptitle('Cells Aligned to Sucrose Response')\n",
    "#ax[0].imshow(, cmap='coolwarm')\n",
    "axs[0].grid(False)\n",
    "axs[0].set_title('20psi Airpuff')\n",
    "axs[0].set_ylabel('Sorted ROI number')\n",
    "axs[0].set_xlabel('Time from Airpuff Delivery')\n",
    "axs[0].set_xticks([0,19,38,57,window_size])\n",
    "axs[0].set_xticklabels(['-2.5','0','2.5','5','7.5'])\n",
    "#ax[0].set_xticklabels([str(np.round(((a-pre_window+0.0)/framerate), decimals=2)) for a in range(0, window_size+1, 10)])\n",
    "axs[0].set_xlim([0,window_size])\n",
    "axs[0].set_yticks(range(0, numrois, 50))\n",
    "axs[0].set_yticklabels([str(a) for a in range(0, numrois, 50)])\n",
    "\n",
    "axs[0].axvline(19, color='k', linestyle='--')\n",
    "cbar = cax.collections[0].colorbar\n",
    "    #cbar.set_ticks([-0.2, 0, 0.2])\n",
    "    #cbar.set_ticklabels(['-0.2', '0', '0.2'])\n",
    "#cbar.set_label('dF/F', rotation='270', labelpad=10)#, fontsize='5', labelpad=10)\n",
    "cax = sns.heatmap(aligned_suc_PSTH[:,:],\n",
    "                    ax=axs[1],\n",
    "                    cmap=plt.get_cmap('PuOr_r'),\n",
    "                    vmin=0.5,\n",
    "                    vmax=-0.5)\n",
    "#axs[1].imshow(aligned_PUFF_PSTH[:,0:40], cmap='coolwarm')\n",
    "axs[1].grid(False)\n",
    "axs[1].set_title('10% Sucrose')\n",
    "#axs[1].set_ylabel('Sorted ROI number')\n",
    "axs[1].set_xlabel('Time from Sucrose Delivery')\n",
    "axs[1].set_xticks([0,19,38,57,window_size])\n",
    "axs[1].set_xticklabels(['-2.5','0','2.5','5','7.5'])\n",
    "axs[1].axvline(19, color='k', linestyle='--')\n",
    "axs[1].set_xlim([0,window_size])\n",
    "axs[1].set_yticks(range(0, numrois, 50))\n",
    "axs[1].set_yticklabels([str(a) for a in range(0, numrois, 50)])\n",
    "\n",
    "cbar = cax.collections[0].colorbar\n",
    "    #cbar.set_ticks([-0.2, 0, 0.2])\n",
    "    #cbar.set_ticklabels(['-0.2', '0', '0.2'])\n",
    "cbar.set_label(r'$\\Delta F/F$', rotation='270', labelpad=10)#, fontsize='5', labelpad=10)\n",
    "fig.savefig('All_cells_heatmap_d0_morphine_sucrose-aligned.pdf', format='pdf', dpi=300)"
   ]
  },
  {
   "cell_type": "markdown",
   "metadata": {},
   "source": [
    "Now plotting across all sessions, but order sorted according to the first day"
   ]
  },
  {
   "cell_type": "code",
   "execution_count": null,
   "metadata": {},
   "outputs": [],
   "source": [
    "#Loading in only the saline cells on day 2 to define the sort order\n",
    "d14_df_puff_sal = puff_dF['saline_Day14']\n",
    "d14_df_suc_sal = suc_dF['saline_Day14']\n",
    "\n",
    "#Loading in only the morphine cells on day 2 to define the sort order\n",
    "d14_df_puff_mor = puff_dF['morphine_Day14']\n",
    "d14_df_suc_mor = suc_dF['morphine_Day14']"
   ]
  },
  {
   "cell_type": "code",
   "execution_count": null,
   "metadata": {},
   "outputs": [],
   "source": [
    "d14_df_arr_puff_sal = np.array(d14_df_puff_sal)\n",
    "d14_df_arr_suc_sal = np.array(d14_df_suc_sal)\n",
    "\n",
    "d14_df_arr_puff_mor = np.array(d14_df_puff_mor)\n",
    "d14_df_arr_suc_mor = np.array(d14_df_suc_mor)"
   ]
  },
  {
   "cell_type": "code",
   "execution_count": null,
   "metadata": {},
   "outputs": [],
   "source": [
    "# sort PUFF by Sucrose Key and plot them next to each other \n",
    "aligned_PUFF_PSTH=d14_df_arr_puff_sal[sort_response_suc_sal][::-1] # [::-1] negates array to sort high-->  low instead of low-->high \n",
    "aligned_suc_PSTH=d14_df_arr_suc_sal[sort_response_suc_sal][::-1]\n",
    "window_size=d14_df_puff_sal.shape[1]-1\n",
    "framerate=30/4\n",
    "numrois=aligned_PUFF_PSTH.shape[0]"
   ]
  },
  {
   "cell_type": "code",
   "execution_count": null,
   "metadata": {},
   "outputs": [],
   "source": [
    "fig, axs = plt.subplots(ncols=2, figsize=(10,10)) \n",
    "cax = sns.heatmap(aligned_PUFF_PSTH[:,:],\n",
    "                    ax=axs[0],\n",
    "                    cmap=plt.get_cmap('PuOr_r'),\n",
    "                    vmin=-1,\n",
    "                    vmax=1)\n",
    "\n",
    "#fig.suptitle('Cells Aligned to Sucrose Response')\n",
    "#ax[0].imshow(, cmap='coolwarm')\n",
    "axs[0].grid(False)\n",
    "axs[0].set_title('20psi Airpuff')\n",
    "axs[0].set_ylabel('Sorted ROI number')\n",
    "axs[0].set_xlabel('Time from Airpuff Delivery')\n",
    "axs[0].set_xticks([0,19,38,57,window_size])\n",
    "axs[0].set_xticklabels(['-2.5','0','2.5','5','7.5'])\n",
    "#ax[0].set_xticklabels([str(np.round(((a-pre_window+0.0)/framerate), decimals=2)) for a in range(0, window_size+1, 10)])\n",
    "axs[0].set_xlim([0,window_size])\n",
    "axs[0].set_yticks(range(0, numrois, 50))\n",
    "axs[0].set_yticklabels([str(a) for a in range(0, numrois, 50)])\n",
    "\n",
    "axs[0].axvline(19, color='k', linestyle='--')\n",
    "cbar = cax.collections[0].colorbar\n",
    "    #cbar.set_ticks([-0.2, 0, 0.2])\n",
    "    #cbar.set_ticklabels(['-0.2', '0', '0.2'])\n",
    "#cbar.set_label('dF/F', rotation='270', labelpad=10)#, fontsize='5', labelpad=10)\n",
    "cax = sns.heatmap(aligned_suc_PSTH[:,:],\n",
    "                    ax=axs[1],\n",
    "                    cmap=plt.get_cmap('PuOr_r'),\n",
    "                    vmin=0.5,\n",
    "                    vmax=-0.5)\n",
    "#axs[1].imshow(aligned_PUFF_PSTH[:,0:40], cmap='coolwarm')\n",
    "axs[1].grid(False)\n",
    "axs[1].set_title('10% Sucrose')\n",
    "#axs[1].set_ylabel('Sorted ROI number')\n",
    "axs[1].set_xlabel('Time from Sucrose Delivery')\n",
    "axs[1].set_xticks([0,19,38,57,window_size])\n",
    "axs[1].set_xticklabels(['-2.5','0','2.5','5','7.5'])\n",
    "axs[1].axvline(19, color='k', linestyle='--')\n",
    "axs[1].set_xlim([0,window_size])\n",
    "axs[1].set_yticks(range(0, numrois, 50))\n",
    "axs[1].set_yticklabels([str(a) for a in range(0, numrois, 50)])\n",
    "\n",
    "cbar = cax.collections[0].colorbar\n",
    "    #cbar.set_ticks([-0.2, 0, 0.2])\n",
    "    #cbar.set_ticklabels(['-0.2', '0', '0.2'])\n",
    "cbar.set_label(r'$\\Delta F/F$', rotation='270', labelpad=10)#, fontsize='5', labelpad=10)\n",
    "fig.savefig('All_cells_heatmap_d14_saline_sucrose-aligned.pdf', format='pdf', dpi=300)"
   ]
  },
  {
   "cell_type": "code",
   "execution_count": null,
   "metadata": {},
   "outputs": [],
   "source": [
    "# sort PUFF by Sucrose Key and plot them next to each other \n",
    "aligned_PUFF_PSTH=d14_df_arr_puff_mor[sort_response_suc_mor][::-1] # [::-1] negates array to sort high-->  low instead of low-->high \n",
    "aligned_suc_PSTH=d14_df_arr_suc_mor[sort_response_suc_mor][::-1]\n",
    "window_size=d14_df_puff_mor.shape[1]-1\n",
    "framerate=30/4\n",
    "numrois=aligned_PUFF_PSTH.shape[0]"
   ]
  },
  {
   "cell_type": "code",
   "execution_count": null,
   "metadata": {},
   "outputs": [],
   "source": [
    "fig, axs = plt.subplots(ncols=2, figsize=(10,10)) \n",
    "cax = sns.heatmap(aligned_PUFF_PSTH[:,:],\n",
    "                    ax=axs[0],\n",
    "                    cmap=plt.get_cmap('PuOr_r'),\n",
    "                    vmin=-1,\n",
    "                    vmax=1)\n",
    "\n",
    "#fig.suptitle('Cells Aligned to Sucrose Response')\n",
    "#ax[0].imshow(, cmap='coolwarm')\n",
    "axs[0].grid(False)\n",
    "axs[0].set_title('20psi Airpuff')\n",
    "axs[0].set_ylabel('Sorted ROI number')\n",
    "axs[0].set_xlabel('Time from Airpuff Delivery')\n",
    "axs[0].set_xticks([0,19,38,57,window_size])\n",
    "axs[0].set_xticklabels(['-2.5','0','2.5','5','7.5'])\n",
    "#ax[0].set_xticklabels([str(np.round(((a-pre_window+0.0)/framerate), decimals=2)) for a in range(0, window_size+1, 10)])\n",
    "axs[0].set_xlim([0,window_size])\n",
    "axs[0].set_yticks(range(0, numrois, 50))\n",
    "axs[0].set_yticklabels([str(a) for a in range(0, numrois, 50)])\n",
    "\n",
    "axs[0].axvline(19, color='k', linestyle='--')\n",
    "cbar = cax.collections[0].colorbar\n",
    "    #cbar.set_ticks([-0.2, 0, 0.2])\n",
    "    #cbar.set_ticklabels(['-0.2', '0', '0.2'])\n",
    "#cbar.set_label('dF/F', rotation='270', labelpad=10)#, fontsize='5', labelpad=10)\n",
    "cax = sns.heatmap(aligned_suc_PSTH[:,:],\n",
    "                    ax=axs[1],\n",
    "                    cmap=plt.get_cmap('PuOr_r'),\n",
    "                    vmin=0.5,\n",
    "                    vmax=-0.5)\n",
    "#axs[1].imshow(aligned_PUFF_PSTH[:,0:40], cmap='coolwarm')\n",
    "axs[1].grid(False)\n",
    "axs[1].set_title('10% Sucrose')\n",
    "#axs[1].set_ylabel('Sorted ROI number')\n",
    "axs[1].set_xlabel('Time from Sucrose Delivery')\n",
    "axs[1].set_xticks([0,19,38,57,window_size])\n",
    "axs[1].set_xticklabels(['-2.5','0','2.5','5','7.5'])\n",
    "axs[1].axvline(19, color='k', linestyle='--')\n",
    "axs[1].set_xlim([0,window_size])\n",
    "axs[1].set_yticks(range(0, numrois, 50))\n",
    "axs[1].set_yticklabels([str(a) for a in range(0, numrois, 50)])\n",
    "\n",
    "cbar = cax.collections[0].colorbar\n",
    "    #cbar.set_ticks([-0.2, 0, 0.2])\n",
    "    #cbar.set_ticklabels(['-0.2', '0', '0.2'])\n",
    "cbar.set_label(r'$\\Delta F/F$', rotation='270', labelpad=10)#, fontsize='5', labelpad=10)\n",
    "fig.savefig('All_cells_heatmap_d14_morphine_sucrose-aligned.pdf', format='pdf', dpi=300)"
   ]
  },
  {
   "cell_type": "code",
   "execution_count": null,
   "metadata": {},
   "outputs": [],
   "source": []
  },
  {
   "cell_type": "code",
   "execution_count": null,
   "metadata": {},
   "outputs": [],
   "source": []
  },
  {
   "cell_type": "code",
   "execution_count": null,
   "metadata": {},
   "outputs": [],
   "source": []
  },
  {
   "cell_type": "markdown",
   "metadata": {},
   "source": [
    "### Determining if cells are responsive to each stimulus across sessions"
   ]
  },
  {
   "cell_type": "markdown",
   "metadata": {},
   "source": [
    "0-19 is the baseline period. 19 and onwards is the response period (restrict to 57)"
   ]
  },
  {
   "cell_type": "code",
   "execution_count": 23,
   "metadata": {
    "scrolled": true
   },
   "outputs": [
    {
     "data": {
      "text/plain": [
       "['puff_PSTH_LS1_saline_Day0.npy',\n",
       " 'puff_PSTH_LS1_saline_Day14.npy',\n",
       " 'puff_PSTH_LS1_saline_Day2.npy',\n",
       " 'puff_PSTH_LS1_saline_Day4.npy',\n",
       " 'puff_PSTH_LS1_saline_Day6.npy',\n",
       " 'puff_PSTH_LS3_morphine_Day0.npy',\n",
       " 'puff_PSTH_LS3_morphine_Day2.npy',\n",
       " 'puff_PSTH_LS3_morphine_Day4.npy',\n",
       " 'puff_PSTH_LS3_morphine_Day6.npy',\n",
       " 'puff_PSTH_LS4_saline_Day0.npy',\n",
       " 'puff_PSTH_LS4_saline_Day2.npy',\n",
       " 'puff_PSTH_LS4_saline_Day4.npy',\n",
       " 'puff_PSTH_LS4_saline_Day6.npy',\n",
       " 'puff_PSTH_LS5_saline_Day0.npy',\n",
       " 'puff_PSTH_LS5_saline_Day14.npy',\n",
       " 'puff_PSTH_LS5_saline_Day2.npy',\n",
       " 'puff_PSTH_LS5_saline_Day4.npy',\n",
       " 'puff_PSTH_LS5_saline_Day6.npy',\n",
       " 'puff_PSTH_LS6_morphine_Day0.npy',\n",
       " 'puff_PSTH_LS6_morphine_Day14.npy',\n",
       " 'puff_PSTH_LS6_morphine_Day2.npy',\n",
       " 'puff_PSTH_LS6_morphine_Day4.npy',\n",
       " 'puff_PSTH_LS6_morphine_Day6.npy',\n",
       " 'suc_PSTH_LS1_saline_Day0.npy',\n",
       " 'suc_PSTH_LS1_saline_Day14.npy',\n",
       " 'suc_PSTH_LS1_saline_Day2.npy',\n",
       " 'suc_PSTH_LS1_saline_Day4.npy',\n",
       " 'suc_PSTH_LS1_saline_Day6.npy',\n",
       " 'suc_PSTH_LS3_morphine_Day0.npy',\n",
       " 'suc_PSTH_LS3_morphine_Day14.npy',\n",
       " 'suc_PSTH_LS3_morphine_Day2.npy',\n",
       " 'suc_PSTH_LS3_morphine_Day4.npy',\n",
       " 'suc_PSTH_LS3_morphine_Day6.npy',\n",
       " 'suc_PSTH_LS4_saline_Day0.npy',\n",
       " 'suc_PSTH_LS4_saline_Day14.npy',\n",
       " 'suc_PSTH_LS4_saline_Day2.npy',\n",
       " 'suc_PSTH_LS4_saline_Day4.npy',\n",
       " 'suc_PSTH_LS4_saline_Day6.npy',\n",
       " 'suc_PSTH_LS5_saline_Day0.npy',\n",
       " 'suc_PSTH_LS5_saline_Day14.npy',\n",
       " 'suc_PSTH_LS5_saline_Day2.npy',\n",
       " 'suc_PSTH_LS5_saline_Day4.npy',\n",
       " 'suc_PSTH_LS5_saline_Day6.npy',\n",
       " 'suc_PSTH_LS6_morphine_Day0.npy',\n",
       " 'suc_PSTH_LS6_morphine_Day14.npy',\n",
       " 'suc_PSTH_LS6_morphine_Day2.npy',\n",
       " 'suc_PSTH_LS6_morphine_Day4.npy']"
      ]
     },
     "execution_count": 23,
     "metadata": {},
     "output_type": "execute_result"
    }
   ],
   "source": [
    "dir_data = r'C:\\Users\\stuberadmin\\Documents\\2p_analysis_20220217\\Day0-14_analysis\\Evoked_activity_analysis\\Complete_PSTH'\n",
    "save_dir = r'C:\\Users\\stuberadmin\\Documents\\2p_analysis_20220217\\Day0-14_analysis\\Evoked_activity_analysis\\output'\n",
    "dir_files = os.listdir(dir_data)\n",
    "dir_files"
   ]
  },
  {
   "cell_type": "code",
   "execution_count": 24,
   "metadata": {},
   "outputs": [],
   "source": [
    "os.chdir(dir_data)"
   ]
  },
  {
   "cell_type": "code",
   "execution_count": 25,
   "metadata": {},
   "outputs": [],
   "source": [
    "list_conditions = ['saline_Day0','morphine_Day0','saline_Day2','morphine_Day2','saline_Day4','morphine_Day4','saline_Day6','morphine_Day6','saline_Day14', 'morphine_Day14']"
   ]
  },
  {
   "cell_type": "markdown",
   "metadata": {},
   "source": [
    "Loading in complete PSTH data for all animals and sessions"
   ]
  },
  {
   "cell_type": "code",
   "execution_count": 26,
   "metadata": {},
   "outputs": [],
   "source": [
    "psth_dict_puff = dict()\n",
    "psth_dict_suc = dict()\n",
    "string_list_puff = list()\n",
    "string_list_suc = list()\n",
    "\n",
    "for string in list_conditions:\n",
    "    for file in dir_files: \n",
    "        if string in file:\n",
    "            if 'puff' in file:\n",
    "                temp1 = np.load(file)\n",
    "                string_list_puff.append(temp1)\n",
    "            if 'suc' in file:\n",
    "                temp2 = np.load(file)\n",
    "                string_list_suc.append(temp2)\n",
    "    psth_dict_puff[string] = string_list_puff\n",
    "    psth_dict_suc[string] = string_list_suc\n",
    "    string_list_puff = list()\n",
    "    string_list_suc = list()"
   ]
  },
  {
   "cell_type": "markdown",
   "metadata": {},
   "source": [
    "Defining a function to determine whether a cell is responsive to either airpuff or sucrose"
   ]
  },
  {
   "cell_type": "code",
   "execution_count": 27,
   "metadata": {},
   "outputs": [],
   "source": [
    "from scipy import stats"
   ]
  },
  {
   "cell_type": "code",
   "execution_count": 28,
   "metadata": {},
   "outputs": [],
   "source": [
    "def sig_test(psth):\n",
    "    \n",
    "    trial_means_list_0 = list()\n",
    "    trial_means_list_1 = list()\n",
    "    trial_means_df_0 = pd.DataFrame()\n",
    "    trial_means_df_1 = pd.DataFrame()\n",
    "\n",
    "    #taking the mean fluorescence of baseline period (F0) and response period (F1)\n",
    "    #accepts epochs that have already undergone df/f normalization OR raw fluorescence traces\n",
    "    for cell in psth:\n",
    "        dat1 = pd.DataFrame(cell)\n",
    "        for trial in dat1:\n",
    "            F0 = dat1[trial][0:20].mean()\n",
    "            trial_means_list_0.append(F0)\n",
    "            F1 = dat1[trial][21:58].mean()\n",
    "            trial_means_list_1.append(F1)\n",
    "    \n",
    "        trial_means_df_0 = pd.concat([trial_means_df_0, pd.DataFrame(trial_means_list_0)], axis=1)\n",
    "        trial_means_list_0 = list()\n",
    "    \n",
    "        trial_means_df_1 = pd.concat([trial_means_df_1, pd.DataFrame(trial_means_list_1)], axis=1)\n",
    "        trial_means_list_1 = list()\n",
    "    \n",
    "    #need cell indices\n",
    "    cell_ix = list(range(0,len(psth[:,0])))\n",
    "    \n",
    "    #computing p-values using Wilcoxon signed tank test\n",
    "    p_value_list = list()\n",
    "    mean_list = list()\n",
    "\n",
    "    for cell in cell_ix:\n",
    "        F0 = trial_means_df_0.iloc[:,cell]\n",
    "        F1 = trial_means_df_1.iloc[:,cell]\n",
    "        mean_diff = F1.mean() - F0.mean()\n",
    "        p = stats.wilcoxon(x = F0, y = F1)[1]\n",
    "        p_value_list.append(p)\n",
    "        mean_list.append(mean_diff)\n",
    "    return p_value_list, mean_list"
   ]
  },
  {
   "cell_type": "code",
   "execution_count": 62,
   "metadata": {
    "scrolled": true
   },
   "outputs": [],
   "source": [
    "plist_sal = list()\n",
    "plist_mor = list()\n",
    "\n",
    "mlist_sal = list()\n",
    "mlist_mor = list()\n",
    "\n",
    "pdf_sal = pd.DataFrame()\n",
    "pdf_mor = pd.DataFrame()\n",
    "\n",
    "pdf_sal_delta = pd.DataFrame()\n",
    "pdf_mor_delta = pd.DataFrame()\n",
    "\n",
    "for key in psth_dict_suc:\n",
    "    if 'saline' in key: \n",
    "        for ix in psth_dict_suc[key]:\n",
    "            temp1 = sig_test(ix)[0]\n",
    "            plist_sal = plist_sal + temp1\n",
    "            temp2 = sig_test(ix)[1]\n",
    "            mlist_sal = mlist_sal + temp2\n",
    "        pdf_sal = pd.concat([pdf_sal, pd.DataFrame(plist_sal)], ignore_index=True, axis=1)\n",
    "        #pdf_sal[key] = plist_sal\n",
    "        pdf_sal_delta = pd.concat([pdf_sal_delta, pd.DataFrame(mlist_sal)], ignore_index=True, axis=1)\n",
    "        #pdf_sal_delta[key] = mlist_sal\n",
    "        plist_sal = list()\n",
    "        mlist_sal = list()\n",
    "    if 'morphine' in key: \n",
    "        for ix in psth_dict_suc[key]:\n",
    "            temp1 = sig_test(ix)[0]\n",
    "            plist_mor = plist_mor + temp1\n",
    "            temp2 = sig_test(ix)[1]\n",
    "            mlist_mor = mlist_mor + temp2\n",
    "        pdf_mor = pd.concat([pdf_mor, pd.DataFrame(plist_mor)], ignore_index=True, axis=1)\n",
    "        #pdf_mor[key] = plist_mor\n",
    "        pdf_mor_delta = pd.concat([pdf_mor_delta, pd.DataFrame(mlist_mor)], ignore_index=True, axis=1)\n",
    "        #pdf_mor_delta[key] = mlist_mor\n",
    "        plist_mor = list()\n",
    "        mlist_mor = list()"
   ]
  },
  {
   "cell_type": "code",
   "execution_count": 63,
   "metadata": {},
   "outputs": [],
   "source": [
    "pdf_sal.columns = ['saline_Day0','saline_Day2','saline_Day4','saline_Day6','saline_Day14']\n",
    "pdf_mor.columns = ['morphine_Day0','morphine_Day2','morphine_Day4','morphine_Day6','morphine_Day14']"
   ]
  },
  {
   "cell_type": "code",
   "execution_count": 64,
   "metadata": {},
   "outputs": [],
   "source": [
    "#use this to perform multiple comparisons correction\n",
    "#here, the correction was evaluated to be 5 (number of comparisons for each cell)\n",
    "#pdfc_sal = pdf_sal * 5\n",
    "pdfc_sal = pdf_sal\n",
    "pdfc_sal[pdfc_sal > 1] = 1"
   ]
  },
  {
   "cell_type": "code",
   "execution_count": 65,
   "metadata": {},
   "outputs": [],
   "source": [
    "#pdfc_mor = pdf_mor * 5\n",
    "pdfc_mor = pdf_mor\n",
    "pdfc_mor[pdfc_mor > 1] = 1"
   ]
  },
  {
   "cell_type": "code",
   "execution_count": 66,
   "metadata": {
    "scrolled": true
   },
   "outputs": [
    {
     "name": "stdout",
     "output_type": "stream",
     "text": [
      "[[29, 16], [10, 16]]\n"
     ]
    },
    {
     "data": {
      "text/plain": [
       "0.04800100480505996"
      ]
     },
     "execution_count": 66,
     "metadata": {},
     "output_type": "execute_result"
    }
   ],
   "source": [
    "#Fisher's exact test\n",
    "sal_pos = sum(pdfc_sal['saline_Day14'] < 0.05) \n",
    "sal_neg = pdfc_sal.shape[0] - sal_pos\n",
    "mor_pos = sum(pdfc_mor['morphine_Day14'] < 0.05) \n",
    "mor_neg = pdfc_mor.shape[0] - mor_pos \n",
    "\n",
    "fisher_dat = [[sal_pos, mor_pos],[sal_neg, mor_neg]]\n",
    "fisher_dat\n",
    "print(fisher_dat)\n",
    "stats.fisher_exact(fisher_dat, alternative='two-sided')[1]"
   ]
  },
  {
   "cell_type": "code",
   "execution_count": null,
   "metadata": {},
   "outputs": [],
   "source": [
    "fisher_dat[0][0]/39"
   ]
  },
  {
   "cell_type": "code",
   "execution_count": null,
   "metadata": {},
   "outputs": [],
   "source": [
    "fisher_dat[0][1]/32"
   ]
  },
  {
   "cell_type": "code",
   "execution_count": null,
   "metadata": {},
   "outputs": [],
   "source": [
    "fisher_dat[1][0]/39"
   ]
  },
  {
   "cell_type": "code",
   "execution_count": null,
   "metadata": {},
   "outputs": [],
   "source": [
    "fisher_dat[1][1]/32"
   ]
  },
  {
   "cell_type": "markdown",
   "metadata": {},
   "source": [
    "### Identifying indices of responsive cells"
   ]
  },
  {
   "cell_type": "code",
   "execution_count": 68,
   "metadata": {},
   "outputs": [],
   "source": [
    "pos_sal_d0 = pdfc_sal[pdfc_sal.iloc[:,0].lt(0.05)].index\n",
    "pos_sal_d2 = pdfc_sal[pdfc_sal.iloc[:,1].lt(0.05)].index\n",
    "pos_sal_d4 = pdfc_sal[pdfc_sal.iloc[:,2].lt(0.05)].index\n",
    "pos_sal_d6 = pdfc_sal[pdfc_sal.iloc[:,3].lt(0.05)].index\n",
    "pos_sal_d14 = pdfc_sal[pdfc_sal.iloc[:,4].lt(0.05)].index\n",
    "\n",
    "pos_mor_d0 = pdfc_mor[pdfc_mor.iloc[:,0].lt(0.05)].index\n",
    "pos_mor_d2 = pdfc_mor[pdfc_mor.iloc[:,1].lt(0.05)].index\n",
    "pos_mor_d4 = pdfc_mor[pdfc_mor.iloc[:,2].lt(0.05)].index\n",
    "pos_mor_d6 = pdfc_mor[pdfc_mor.iloc[:,3].lt(0.05)].index\n",
    "pos_mor_d14 = pdfc_mor[pdfc_mor.iloc[:,4].lt(0.05)].index"
   ]
  },
  {
   "cell_type": "markdown",
   "metadata": {},
   "source": [
    "Plotting only the responsive cells"
   ]
  },
  {
   "cell_type": "code",
   "execution_count": 48,
   "metadata": {},
   "outputs": [],
   "source": [
    "time = np.arange(0, 57)"
   ]
  },
  {
   "cell_type": "code",
   "execution_count": 60,
   "metadata": {},
   "outputs": [],
   "source": [
    "sal = suc_dF['saline_Day4'].iloc[pos_sal_d4,0:57].mean(axis=0)\n",
    "sal_sem = suc_dF['saline_Day4'].iloc[pos_sal_d4,0:57].sem(axis=0)\n",
    "mor = suc_dF['morphine_Day4'].iloc[pos_mor_d4,0:57].mean(axis=0)\n",
    "mor_sem = suc_dF['morphine_Day4'].iloc[pos_mor_d4,0:57].sem(axis=0)"
   ]
  },
  {
   "cell_type": "code",
   "execution_count": 61,
   "metadata": {},
   "outputs": [
    {
     "data": {
      "image/png": "[encoded data removed]",
      "text/plain": [
       "<Figure size 216x216 with 1 Axes>"
      ]
     },
     "metadata": {
      "needs_background": "light"
     },
     "output_type": "display_data"
    }
   ],
   "source": [
    "fig, ax = plt.subplots(ncols=1, figsize=(3,3))\n",
    "plt.title(\"sucrose responses Day4\")\n",
    "sns.lineplot(x=time, y=sal, color='gray',label=\"saline\")\n",
    "plt.fill_between(time, sal-sal_sem,  sal + sal_sem, color='gray', alpha=0.5)\n",
    "sns.lineplot(x=time, y=mor, label=\"morphine\", color='darkorange')\n",
    "plt.fill_between(time, mor-mor_sem,  mor + mor_sem, alpha=0.5, color='darkorange')\n",
    "\n",
    "#ax.set_ylim(-.1, 0.15)\n",
    "ax.set_ylim(-0.1,0.5)\n",
    "ax.get_legend().remove()\n",
    "ax.set_xticks([0,19,38,57])\n",
    "ax.set_xticklabels(['-2.5','0','2.5','5'])\n",
    "ax.axvline(19, lw='1', color='k', linestyle='--')\n",
    "ax.set(xlabel='Time from Delivery (s)', ylabel='dF/F')\n",
    "os.chdir(save_dir)\n",
    "fig.savefig('Day4_suc_mean_dF_lax-cutoff.pdf', format='pdF', dpi=300)\n",
    "fig.savefig('Day4_suc_mean_dF_lax-cutoff.png', format='png', dpi=300)"
   ]
  },
  {
   "cell_type": "markdown",
   "metadata": {},
   "source": [
    "### Identifying indices of responsive cells"
   ]
  },
  {
   "cell_type": "code",
   "execution_count": 95,
   "metadata": {},
   "outputs": [],
   "source": [
    "pos_sal_d0 = pdfc_sal[pdfc_sal.iloc[:,0].gt(0.05)].index\n",
    "pos_sal_d2 = pdfc_sal[pdfc_sal.iloc[:,1].gt(0.05)].index\n",
    "pos_sal_d4 = pdfc_sal[pdfc_sal.iloc[:,2].gt(0.05)].index\n",
    "pos_sal_d6 = pdfc_sal[pdfc_sal.iloc[:,3].gt(0.05)].index\n",
    "pos_sal_d14 = pdfc_sal[pdfc_sal.iloc[:,4].gt(0.05)].index\n",
    "\n",
    "pos_mor_d0 = pdfc_mor[pdfc_mor.iloc[:,0].gt(0.05)].index\n",
    "pos_mor_d2 = pdfc_mor[pdfc_mor.iloc[:,1].gt(0.05)].index\n",
    "pos_mor_d4 = pdfc_mor[pdfc_mor.iloc[:,2].gt(0.05)].index\n",
    "pos_mor_d6 = pdfc_mor[pdfc_mor.iloc[:,3].gt(0.05)].index\n",
    "pos_mor_d14 = pdfc_mor[pdfc_mor.iloc[:,4].gt(0.05)].index"
   ]
  },
  {
   "cell_type": "markdown",
   "metadata": {},
   "source": [
    "Plotting only the responsive cells"
   ]
  },
  {
   "cell_type": "code",
   "execution_count": 48,
   "metadata": {},
   "outputs": [],
   "source": [
    "time = np.arange(0, 57)"
   ]
  },
  {
   "cell_type": "code",
   "execution_count": 99,
   "metadata": {},
   "outputs": [],
   "source": [
    "sal = suc_dF['saline_Day6'].iloc[pos_sal_d6,0:57].mean(axis=0)\n",
    "sal_sem = suc_dF['saline_Day6'].iloc[pos_sal_d6,0:57].sem(axis=0)\n",
    "mor = suc_dF['morphine_Day6'].iloc[pos_mor_d6,0:57].mean(axis=0)\n",
    "mor_sem = suc_dF['morphine_Day6'].iloc[pos_mor_d6,0:57].sem(axis=0)"
   ]
  },
  {
   "cell_type": "code",
   "execution_count": 100,
   "metadata": {},
   "outputs": [
    {
     "data": {
      "image/png": "[encoded data removed]",
      "text/plain": [
       "<Figure size 216x216 with 1 Axes>"
      ]
     },
     "metadata": {
      "needs_background": "light"
     },
     "output_type": "display_data"
    }
   ],
   "source": [
    "fig, ax = plt.subplots(ncols=1, figsize=(3,3))\n",
    "plt.title(\"sucrose responses Day4\")\n",
    "sns.lineplot(x=time, y=sal, color='gray',label=\"saline\")\n",
    "plt.fill_between(time, sal-sal_sem,  sal + sal_sem, color='gray', alpha=0.5)\n",
    "sns.lineplot(x=time, y=mor, label=\"morphine\", color='darkorange')\n",
    "plt.fill_between(time, mor-mor_sem,  mor + mor_sem, alpha=0.5, color='darkorange')\n",
    "\n",
    "#ax.set_ylim(-.1, 0.15)\n",
    "ax.set_ylim(-0.1,0.5)\n",
    "ax.get_legend().remove()\n",
    "ax.set_xticks([0,19,38,57])\n",
    "ax.set_xticklabels(['-2.5','0','2.5','5'])\n",
    "ax.axvline(19, lw='1', color='k', linestyle='--')\n",
    "ax.set(xlabel='Time from Delivery (s)', ylabel='dF/F')\n",
    "os.chdir(save_dir)\n",
    "#fig.savefig('Day4_suc_mean_dF_lax-cutoff.pdf', format='pdF', dpi=300)\n",
    "#fig.savefig('Day4_suc_mean_dF_lax-cutoff.png', format='png', dpi=300)"
   ]
  },
  {
   "cell_type": "code",
   "execution_count": null,
   "metadata": {},
   "outputs": [],
   "source": []
  },
  {
   "cell_type": "code",
   "execution_count": null,
   "metadata": {},
   "outputs": [],
   "source": []
  },
  {
   "cell_type": "code",
   "execution_count": null,
   "metadata": {},
   "outputs": [],
   "source": []
  },
  {
   "cell_type": "code",
   "execution_count": null,
   "metadata": {},
   "outputs": [],
   "source": []
  },
  {
   "cell_type": "code",
   "execution_count": null,
   "metadata": {},
   "outputs": [],
   "source": []
  },
  {
   "cell_type": "markdown",
   "metadata": {},
   "source": [
    "### Evaluating peak features of responsive cells"
   ]
  },
  {
   "cell_type": "code",
   "execution_count": null,
   "metadata": {},
   "outputs": [],
   "source": [
    "Day0_df = pd.concat([suc_dF['saline_Day0'].iloc[pos_sal_d0,0:75], suc_dF['salphine_Day0'].iloc[pos_sal_d0,0:75]], axis=0)\n",
    "Day2_df = pd.concat([suc_dF['saline_Day2'].iloc[pos_sal_d2,0:75], suc_dF['salphine_Day2'].iloc[pos_sal_d2,0:75]], axis=0)\n",
    "Day4_df = pd.concat([suc_dF['saline_Day4'].iloc[pos_sal_d4,0:75], suc_dF['salphine_Day4'].iloc[pos_sal_d4,0:75]], axis=0)\n",
    "Day6_df = pd.concat([suc_dF['saline_Day6'].iloc[pos_sal_d6,0:75], suc_dF['salphine_Day6'].iloc[pos_sal_d6,0:75]], axis=0)\n",
    "Day14_df = pd.concat([suc_dF['saline_Day14'].iloc[pos_sal_d14,0:75], suc_dF['salphine_Day14'].iloc[pos_sal_d14,0:75]], axis=0)"
   ]
  },
  {
   "cell_type": "code",
   "execution_count": null,
   "metadata": {},
   "outputs": [],
   "source": [
    "Day0_df_sal = suc_dF['saline_Day0'].iloc[pos_sal_d0,0:75]\n",
    "Day2_df_sal = suc_dF['saline_Day2'].iloc[pos_sal_d2,0:75]\n",
    "Day4_df_sal = suc_dF['saline_Day4'].iloc[pos_sal_d4,0:75]\n",
    "Day6_df_sal = suc_dF['saline_Day6'].iloc[pos_sal_d6,0:75]\n",
    "Day14_df_sal = suc_dF['saline_Day14'].iloc[pos_sal_d14,0:75]"
   ]
  },
  {
   "cell_type": "code",
   "execution_count": null,
   "metadata": {},
   "outputs": [],
   "source": [
    "Day0_df_mor = suc_dF['morphine_Day0'].iloc[pos_mor_d0,0:75]\n",
    "Day2_df_mor = suc_dF['morphine_Day2'].iloc[pos_mor_d2,0:75]\n",
    "Day4_df_mor = suc_dF['morphine_Day4'].iloc[pos_mor_d4,0:75]\n",
    "Day6_df_mor = suc_dF['morphine_Day6'].iloc[pos_mor_d6,0:75]\n",
    "Day14_df_mor = suc_dF['morphine_Day14'].iloc[pos_mor_d14,0:75]"
   ]
  },
  {
   "cell_type": "code",
   "execution_count": null,
   "metadata": {},
   "outputs": [],
   "source": [
    "big_dict_sal = {'Day0': Day0_df_sal,\n",
    "            'Day2': Day2_df_sal,\n",
    "            'Day4': Day4_df_sal,\n",
    "            'Day6': Day6_df_sal,\n",
    "            'Day14': Day14_df_sal\n",
    "}"
   ]
  },
  {
   "cell_type": "code",
   "execution_count": null,
   "metadata": {},
   "outputs": [],
   "source": [
    "big_dict_mor = {'Day0': Day0_df_mor,\n",
    "            'Day2': Day2_df_mor,\n",
    "            'Day4': Day4_df_mor,\n",
    "            'Day6': Day6_df_mor,\n",
    "            'Day14': Day14_df_mor\n",
    "}"
   ]
  },
  {
   "cell_type": "markdown",
   "metadata": {},
   "source": [
    "Calculating area under the curve"
   ]
  },
  {
   "cell_type": "code",
   "execution_count": null,
   "metadata": {},
   "outputs": [],
   "source": [
    "import numpy as np\n",
    "from scipy.integrate import simpson\n",
    "from numpy import trapz"
   ]
  },
  {
   "cell_type": "code",
   "execution_count": null,
   "metadata": {},
   "outputs": [],
   "source": [
    "auc_list = list()\n",
    "auc_df = pd.DataFrame()\n",
    "\n",
    "for key in big_dict_sal:\n",
    "    for index, row in big_dict_sal[key].iterrows():\n",
    "        t = row\n",
    "        auc = trapz(row[20:77], dx=1)\n",
    "        auc_list.append(auc)\n",
    "    auc_df = pd.concat([auc_df, pd.DataFrame(auc_list)], axis=1)\n",
    "    auc_list = list()\n",
    "auc_df.columns = ['Day0','Day2','Day4','Day6','Day14']"
   ]
  },
  {
   "cell_type": "code",
   "execution_count": null,
   "metadata": {},
   "outputs": [],
   "source": [
    "auc_df.to_excel(save_dir + '/responsive_cells/auc_suc_dF_responsive_sal.xlsx')"
   ]
  }
 ],
 "metadata": {
  "kernelspec": {
   "display_name": "Python 3",
   "language": "python",
   "name": "python3"
  },
  "language_info": {
   "codemirror_mode": {
    "name": "ipython",
    "version": 3
   },
   "file_extension": ".py",
   "mimetype": "text/x-python",
   "name": "python",
   "nbconvert_exporter": "python",
   "pygments_lexer": "ipython3",
   "version": "3.7.4"
  }
 },
 "nbformat": 4,
 "nbformat_minor": 5
}
