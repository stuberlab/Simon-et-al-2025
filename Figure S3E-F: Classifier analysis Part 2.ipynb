{
 "cells": [
  {
   "cell_type": "markdown",
   "metadata": {},
   "source": [
    "## Classifier analysis part 2 (Supp. Figure 3)"
   ]
  },
  {
   "cell_type": "markdown",
   "metadata": {},
   "source": [
    "This notebook applies augur to calculate AUC scores for each cell type in each condition. Because the version of Augur that we used is not compatible with the version of Seurat primarily used throughout the project, this notebook calculates AUC scores on seurat objects that are transformed to a previous version of Seurat. Part 2 will then detail how we performed analysis on these values."
   ]
  },
  {
   "cell_type": "markdown",
   "metadata": {},
   "source": [
    "#### Import libraries"
   ]
  },
  {
   "cell_type": "code",
   "execution_count": 1,
   "metadata": {
    "scrolled": true
   },
   "outputs": [
    {
     "name": "stderr",
     "output_type": "stream",
     "text": [
      "Attaching SeuratObject\n",
      "\n",
      "\n",
      "Attaching package: 'dplyr'\n",
      "\n",
      "\n",
      "The following objects are masked from 'package:stats':\n",
      "\n",
      "    filter, lag\n",
      "\n",
      "\n",
      "The following objects are masked from 'package:base':\n",
      "\n",
      "    intersect, setdiff, setequal, union\n",
      "\n",
      "\n",
      "\n",
      "Attaching package: 'tidyr'\n",
      "\n",
      "\n",
      "The following object is masked from 'package:magrittr':\n",
      "\n",
      "    extract\n",
      "\n",
      "\n",
      "\n",
      "Attaching package: 'reshape2'\n",
      "\n",
      "\n",
      "The following object is masked from 'package:tidyr':\n",
      "\n",
      "    smiths\n",
      "\n",
      "\n"
     ]
    }
   ],
   "source": [
    "library(Seurat)\n",
    "library(dplyr)\n",
    "library(magrittr)\n",
    "library(ggplot2)\n",
    "library(xlsx)\n",
    "library(tidyr)\n",
    "library(scales)\n",
    "library(reshape2)"
   ]
  },
  {
   "cell_type": "markdown",
   "metadata": {},
   "source": [
    "#### Loading .rds files"
   ]
  },
  {
   "cell_type": "code",
   "execution_count": 2,
   "metadata": {},
   "outputs": [],
   "source": [
    "LS.integrated <- readRDS('C:/Users/stuberadmin/Documents/scRNAseq/211119-RS-rv4/Neurons_only_iter2/LS_integrated.rds')"
   ]
  },
  {
   "cell_type": "code",
   "execution_count": 3,
   "metadata": {},
   "outputs": [],
   "source": [
    "LS_sal<-readRDS(file = \"C:/Users/stuberadmin/Documents/scRNAseq/211119-RS/Neurons_only_iter5/LS_sal.rds\")\n",
    "LS_mor<-readRDS(file = \"C:/Users/stuberadmin/Documents/scRNAseq/211119-RS/Neurons_only_iter5/LS_mor.rds\")\n",
    "LS_nal<-readRDS(file = \"C:/Users/stuberadmin/Documents/scRNAseq/211119-RS/Neurons_only_iter5/LS_nal.rds\")\n",
    "LS_one_mor<-readRDS( file = \"C:/Users/stuberadmin/Documents/scRNAseq/211119-RS/Neurons_only_iter5/LS_one_mor.rds\")\n",
    "LS_nal_no_mor<-readRDS( file = \"C:/Users/stuberadmin/Documents/scRNAseq/211119-RS/Neurons_only_iter5/LS_nal_no_mor.rds\")"
   ]
  },
  {
   "cell_type": "markdown",
   "metadata": {},
   "source": [
    "#### Assigning cell identities"
   ]
  },
  {
   "cell_type": "code",
   "execution_count": 4,
   "metadata": {},
   "outputs": [],
   "source": [
    "new.ident <- c(\"Gaba1\",\"Gaba2\",\"Gaba3\",\"Gaba4\",\"Gaba5\",\"Gaba6\",\"Gaba7\",\"Glu1\",\"Gaba8\",\"Gaba9\",\"Gaba10\",\"Glu2\",\"Gaba11\",\"Gaba12\")\n",
    "names(x = new.ident) <- levels(x =LS.integrated)\n",
    "LS.integrated<- RenameIdents(object =LS.integrated, new.ident)"
   ]
  },
  {
   "cell_type": "code",
   "execution_count": 5,
   "metadata": {},
   "outputs": [
    {
     "data": {
      "text/plain": [
       "\n",
       " Gaba1  Gaba2  Gaba3  Gaba4  Gaba5  Gaba6  Gaba7   Glu1  Gaba8  Gaba9 Gaba10 \n",
       "  3124   2731   2316   2248   2157   2116   2028   1919   1904   1860   1634 \n",
       "  Glu2 Gaba11 Gaba12 \n",
       "  1015    437    118 "
      ]
     },
     "metadata": {},
     "output_type": "display_data"
    }
   ],
   "source": [
    "table(Idents(LS.integrated))"
   ]
  },
  {
   "cell_type": "code",
   "execution_count": 6,
   "metadata": {},
   "outputs": [],
   "source": [
    "for (i in 1:length(new.ident)){\n",
    "assign(paste(new.ident[i],\"_barcode\",sep=\"\"),colnames(LS.integrated@assays$RNA@data[,which(Idents(object=LS.integrated) %in% new.ident[i])]))# this gives all barcodes in cluster\n",
    "assign(paste(new.ident[i],\"_barcode_LS_sal\",sep=\"\"),intersect(colnames(LS_sal@assays$RNA@data),eval(parse(text = paste(new.ident[i],\"_barcode\",sep=\"\")))))\n",
    "assign(paste(new.ident[i],\"_barcode_LS_mor\",sep=\"\"),intersect(colnames(LS_mor@assays$RNA@data),eval(parse(text = paste(new.ident[i],\"_barcode\",sep=\"\")))))\n",
    "assign(paste(new.ident[i],\"_barcode_LS_nal\",sep=\"\"),intersect(colnames(LS_nal@assays$RNA@data),eval(parse(text = paste(new.ident[i],\"_barcode\",sep=\"\")))))\n",
    "assign(paste(new.ident[i],\"_barcode_LS_one_mor\",sep=\"\"),intersect(colnames(LS_one_mor@assays$RNA@data),eval(parse(text = paste(new.ident[i],\"_barcode\",sep=\"\")))))\n",
    "assign(paste(new.ident[i],\"_barcode_LS_nal_no_mor\",sep=\"\"),intersect(colnames(LS_nal_no_mor@assays$RNA@data),eval(parse(text = paste(new.ident[i],\"_barcode\",sep=\"\")))))\n",
    "}"
   ]
  },
  {
   "cell_type": "code",
   "execution_count": 7,
   "metadata": {},
   "outputs": [],
   "source": [
    "celltype<-vector()\n",
    "for (i in 1:dim(LS.integrated@meta.data)[1]){\n",
    "    celltype[i]<-toString(new.ident[LS.integrated@meta.data$integrated_snn_res.0.2[i]])\n",
    "}\n",
    "LS.integrated@meta.data$cell_type<-celltype"
   ]
  },
  {
   "cell_type": "code",
   "execution_count": 8,
   "metadata": {},
   "outputs": [],
   "source": [
    "LS.integrated <- NormalizeData(LS.integrated)"
   ]
  },
  {
   "cell_type": "code",
   "execution_count": 9,
   "metadata": {},
   "outputs": [],
   "source": [
    "DefaultAssay(LS.integrated) <- 'RNA'"
   ]
  },
  {
   "cell_type": "markdown",
   "metadata": {},
   "source": [
    "#### Load in AUC scores from Part 1"
   ]
  },
  {
   "cell_type": "code",
   "execution_count": 15,
   "metadata": {},
   "outputs": [],
   "source": [
    "augur_nosal <- readRDS(file='C:/Users/stuberadmin/Documents/scRNAseq/211119-RS-rv4/Neurons_only_iter2/augur/augur_mor_v_nal.rds')$AUC #mor vs nal\n",
    "augur_nonal <- readRDS(file='C:/Users/stuberadmin/Documents/scRNAseq/211119-RS-rv4/Neurons_only_iter2/augur/augur_sal_v_mor.rds')$AUC #sal vs mor"
   ]
  },
  {
   "cell_type": "markdown",
   "metadata": {},
   "source": [
    "#### Rank bump plot"
   ]
  },
  {
   "cell_type": "markdown",
   "metadata": {},
   "source": [
    "For sal vs mor comparison"
   ]
  },
  {
   "cell_type": "code",
   "execution_count": 11,
   "metadata": {},
   "outputs": [],
   "source": [
    "AUC <- augur_nonal"
   ]
  },
  {
   "cell_type": "code",
   "execution_count": 12,
   "metadata": {},
   "outputs": [],
   "source": [
    "Cell_type <- c(\"Gaba1\",\"Gaba2\",\"Gaba3\",\"Gaba4\",\"Gaba5\",\"Gaba6\",\"Gaba7\",\"Glu1\",\"Gaba8\",\"Gaba9\",\"Gaba10\",\"Glu2\",\"Gaba11\",\"Gaba12\")"
   ]
  },
  {
   "cell_type": "code",
   "execution_count": 16,
   "metadata": {},
   "outputs": [],
   "source": [
    "augur_nonal <- augur_nonal[match(Cell_type, augur_nonal$cell_type),]\n",
    "augur_nosal <- augur_nosal[match(Cell_type, augur_nosal$cell_type),]"
   ]
  },
  {
   "cell_type": "code",
   "execution_count": 18,
   "metadata": {},
   "outputs": [],
   "source": [
    "augur <- cbind(augur_nonal, augur_nosal[2])"
   ]
  },
  {
   "cell_type": "code",
   "execution_count": 19,
   "metadata": {},
   "outputs": [],
   "source": [
    "colnames(augur) <- c(\"celltype\", \"Sal_v_mor\", \"Mor_v_nal\")"
   ]
  },
  {
   "cell_type": "code",
   "execution_count": 20,
   "metadata": {},
   "outputs": [],
   "source": [
    "augur[2]<-as.numeric((rank(-augur$Sal_v_mor)))\n",
    "augur[3]<-as.numeric((rank(-augur$Mor_v_nal)))"
   ]
  },
  {
   "cell_type": "code",
   "execution_count": 21,
   "metadata": {},
   "outputs": [
    {
     "name": "stderr",
     "output_type": "stream",
     "text": [
      "Using celltype as id variables\n",
      "\n"
     ]
    }
   ],
   "source": [
    "augur.2 <- melt(augur)"
   ]
  },
  {
   "cell_type": "code",
   "execution_count": 25,
   "metadata": {
    "scrolled": true
   },
   "outputs": [],
   "source": [
    "p1 <- ggplot(augur.2, aes(x=variable,y=value, group=celltype, col=celltype)) +\n",
    "    geom_point(size=1) +\n",
    "    geom_line(size=0.25, alpha=0.35) +\n",
    "    theme_classic() +\n",
    "    scale_y_reverse( lim=c(14,1), breaks = seq(14, 1, by = -1)) +\n",
    "    #geom_text(data=subset(augur.2, variable=='Sal_v_mor'), aes(x=variable, label=celltype),hjust=1.5, vjust=0.5, size=2)+\n",
    "    NoLegend() +\n",
    "    theme(axis.line = element_line(size=0.25),\n",
    "          axis.ticks = element_line(size=0.25),\n",
    "         axis.text = element_text(size=6),\n",
    "         axis.title.x = element_blank())\n",
    "\n",
    "p2 <- p1 + geom_text(data=subset(augur.2, variable=='Mor_v_nal'), aes(x=variable, label=celltype),hjust=-1, vjust=0.5, size=2)+\n",
    "    theme(axis.title.y = element_text(size=8)) +\n",
    "    scale_color_manual(values=c(\"gray\",\"gray\",\"gray\",\"gray\",\"gray\",\"gray\",\"gray\",\"gray\",\"gray\",\"gray\",\"gray\",\"gray\",\"gray\",\"gray\",\"gray\",\"gray\",\"gray\",\"gray\",\"gray\",\"gray\",\"gray\",\"gray\",\"gray\",\"gray\"))+\n",
    "    geom_hline(yintercept=7.5, size=0.25, linetype='dashed')"
   ]
  },
  {
   "cell_type": "code",
   "execution_count": 26,
   "metadata": {},
   "outputs": [
    {
     "data": {
      "image/png": "[encoded data removed]",
      "text/plain": [
       "plot without title"
      ]
     },
     "metadata": {
      "image/png": {
       "height": 420,
       "width": 420
      }
     },
     "output_type": "display_data"
    }
   ],
   "source": [
    "p2"
   ]
  },
  {
   "cell_type": "markdown",
   "metadata": {},
   "source": [
    "#### Decoding accuracy CDFs"
   ]
  },
  {
   "cell_type": "code",
   "execution_count": 138,
   "metadata": {},
   "outputs": [],
   "source": [
    "augur_nosal_shuffle <- readRDS(file='C:/Users/stuberadmin/Documents/scRNAseq/211119-RS-rv4/Neurons_only_iter2/augur/augur_mor_v_nal_shuffle.rds')\n",
    "augur_nonal_shuffle <- readRDS(file='C:/Users/stuberadmin/Documents/scRNAseq/211119-RS-rv4/Neurons_only_iter2/augur/augur_sal_v_mor_shuffle.rds')\n",
    "augur_nonal <- readRDS(file='C:/Users/stuberadmin/Documents/scRNAseq/211119-RS-rV4/Neurons_only_iter2/augur/augur_sal_v_mor.rds')\n",
    "augur_nosal <- readRDS(file='C:/Users/stuberadmin/Documents/scRNAseq/211119-RS-rV4/Neurons_only_iter2/augur/augur_mor_v_nal.rds')"
   ]
  },
  {
   "cell_type": "code",
   "execution_count": 201,
   "metadata": {},
   "outputs": [],
   "source": [
    "#sal vs mor\n",
    "data1 <- data.frame(augur_nonal$results)\n",
    "Gaba12_svm <- data1[data1$cell_type == 'Gaba12',]\n",
    "data1<-data.frame(Gaba12_svm[Gaba12_svm$metric == 'roc_auc',]$estimate)\n",
    "colnames(data1) <- c(\"Gaba12_svm.estimate\")"
   ]
  },
  {
   "cell_type": "code",
   "execution_count": 202,
   "metadata": {},
   "outputs": [],
   "source": [
    "#mor vs nal\n",
    "data2 <- data.frame(augur_nosal$results)\n",
    "Gaba12_mvn <- data2[data2$cell_type == 'Gaba12',]\n",
    "data2<-data.frame(Gaba12_mvn[Gaba12_mvn$metric == 'roc_auc',]$estimate)\n",
    "colnames(data2) <- c(\"Gaba12_svm.estimate\")"
   ]
  },
  {
   "cell_type": "code",
   "execution_count": 203,
   "metadata": {},
   "outputs": [],
   "source": [
    "#mor vs nal shuffle\n",
    "data3 <- data.frame(augur_nosal_shuffle$results)\n",
    "Gaba12_svms <- data3[data3$cell_type == 'Gaba12',]\n",
    "data3<-data.frame(Gaba12_svms[Gaba12_svms$metric == 'roc_auc',]$estimate)\n",
    "colnames(data3) <- c(\"Gaba12_svm.estimate\")"
   ]
  },
  {
   "cell_type": "code",
   "execution_count": 204,
   "metadata": {},
   "outputs": [],
   "source": [
    "p <- ggplot(data1, aes(x=Gaba12_svm.estimate)) + \n",
    "    geom_histogram(aes(y=cumsum(..count..)/dim(data1)[1]),fill='white', binwidth=0.1) +\n",
    "    geom_histogram(data=data2, aes(x=Gaba12_svm.estimate, y=cumsum(..count..)/dim(data2)[1]), fill=\"white\", binwidth=0.1) +\n",
    "    geom_histogram(data=data3, aes(x=Gaba12_svm.estimate, y=cumsum(..count..)/dim(data3)[1]), fill=\"white\", binwidth=0.1)"
   ]
  },
  {
   "cell_type": "code",
   "execution_count": 205,
   "metadata": {},
   "outputs": [],
   "source": [
    "d <- ggplot_build(p)$data[[1]]\n",
    "df1 <- data.frame(x = c(0, d$xmax), y = c(0, d$y))\n",
    "\n",
    "d <- ggplot_build(p)$data[[2]]\n",
    "df2 <- data.frame(x = c(0, d$xmax), y = c(0, d$y))\n",
    "\n",
    "d <- ggplot_build(p)$data[[3]]\n",
    "df3 <- data.frame(x = c(0, d$xmax), y = c(0, d$y))"
   ]
  },
  {
   "cell_type": "code",
   "execution_count": 206,
   "metadata": {
    "scrolled": true
   },
   "outputs": [
    {
     "data": {
      "image/png": "[encoded data removed]",
      "text/plain": [
       "plot without title"
      ]
     },
     "metadata": {
      "image/png": {
       "height": 420,
       "width": 420
      }
     },
     "output_type": "display_data"
    }
   ],
   "source": [
    "#df1 = sal vs mor\n",
    "#df2 = mor vs nal\n",
    "#df3 = mor vs nal shuffle\n",
    "\n",
    "p2<- p + \n",
    "    geom_line(data = df1, aes(x = x*100, y = y*100), color = \"#4392FE\", size = 0.25) +\n",
    "    geom_line(data = df2, aes(x = x*100, y = y*100), color = \"orange\", size = 0.25) +\n",
    "    geom_line(data = df3, aes(x = x*100, y = y*100), color = \"black\", size = 0.25) +\n",
    "        theme_classic() +\n",
    "        theme(axis.title.x=element_text(size=6,colour = \"black\"),\n",
    "              axis.title.y=element_text(size=6,colour = \"black\"),\n",
    "          axis.text.y=element_text(size=6,colour = \"black\"),\n",
    "          axis.text.x=element_text(size=6, colour = \"black\"),\n",
    "          axis.line = element_line(size=0.25),\n",
    "          axis.ticks = element_line(size=0.25)) +\n",
    "    xlab(\"Decoding accuracy (%)\") +\n",
    "    ylab(\"Proportion of iterations (%)\")\n",
    "p2\n",
    "\n",
    "ggsave(file=\"C:/Users/stuberadmin/Documents/scRNAseq/211119-RS-rv4/Neurons_only_iter2/augur/decode_accuracy_Gaba12_auc-roc-only.png\", height=2, width=1.5)\n",
    "ggsave(file=\"C:/Users/stuberadmin/Documents/scRNAseq/211119-RS-rv4/Neurons_only_iter2/augur/decode_accuracy_Gaba12_auc-roc-only.pdf\", height=2, width=1.5)"
   ]
  },
  {
   "cell_type": "markdown",
   "metadata": {},
   "source": [
    "Statistical testing"
   ]
  },
  {
   "cell_type": "code",
   "execution_count": 207,
   "metadata": {},
   "outputs": [
    {
     "data": {
      "text/html": [
       "4.65227548279468e-14"
      ],
      "text/latex": [
       "4.65227548279468e-14"
      ],
      "text/markdown": [
       "4.65227548279468e-14"
      ],
      "text/plain": [
       "[1] 4.652275e-14"
      ]
     },
     "metadata": {},
     "output_type": "display_data"
    },
    {
     "data": {
      "text/html": [
       "<strong>W:</strong> 838310.5"
      ],
      "text/latex": [
       "\\textbf{W:} 838310.5"
      ],
      "text/markdown": [
       "**W:** 838310.5"
      ],
      "text/plain": [
       "       W \n",
       "838310.5 "
      ]
     },
     "metadata": {},
     "output_type": "display_data"
    }
   ],
   "source": [
    "test <- wilcox.test(Gaba12_svm$estimate,Gaba12_svms$estimate)\n",
    "test$p.value\n",
    "test$statistic"
   ]
  },
  {
   "cell_type": "code",
   "execution_count": 208,
   "metadata": {},
   "outputs": [
    {
     "data": {
      "text/html": [
       "0.754966871976011"
      ],
      "text/latex": [
       "0.754966871976011"
      ],
      "text/markdown": [
       "0.754966871976011"
      ],
      "text/plain": [
       "[1] 0.7549669"
      ]
     },
     "metadata": {},
     "output_type": "display_data"
    },
    {
     "data": {
      "text/html": [
       "<strong>W:</strong> 702232.5"
      ],
      "text/latex": [
       "\\textbf{W:} 702232.5"
      ],
      "text/markdown": [
       "**W:** 702232.5"
      ],
      "text/plain": [
       "       W \n",
       "702232.5 "
      ]
     },
     "metadata": {},
     "output_type": "display_data"
    }
   ],
   "source": [
    "test <- wilcox.test(Gaba12_mvn$estimate,Gaba12_svms$estimate)\n",
    "test$p.value\n",
    "test$statistic"
   ]
  }
 ],
 "metadata": {
  "kernelspec": {
   "display_name": "R",
   "language": "R",
   "name": "ir"
  },
  "language_info": {
   "codemirror_mode": "r",
   "file_extension": ".r",
   "mimetype": "text/x-r-source",
   "name": "R",
   "pygments_lexer": "r",
   "version": "4.1.2"
  }
 },
 "nbformat": 4,
 "nbformat_minor": 2
}
