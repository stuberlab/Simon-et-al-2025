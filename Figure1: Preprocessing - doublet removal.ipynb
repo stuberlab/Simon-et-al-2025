{
 "cells": [
  {
   "cell_type": "markdown",
   "metadata": {},
   "source": [
    "## Doublet simulation and removal using DoubletDecon"
   ]
  },
  {
   "cell_type": "markdown",
   "metadata": {},
   "source": [
    "https://satijalab.org/seurat/articles/get_started.html"
   ]
  },
  {
   "cell_type": "markdown",
   "metadata": {},
   "source": [
    "#### import libraries"
   ]
  },
  {
   "cell_type": "code",
   "execution_count": 1,
   "metadata": {},
   "outputs": [
    {
     "name": "stderr",
     "output_type": "stream",
     "text": [
      "Attaching SeuratObject\n",
      "\n",
      "\n",
      "Attaching package: 'dplyr'\n",
      "\n",
      "\n",
      "The following objects are masked from 'package:stats':\n",
      "\n",
      "    filter, lag\n",
      "\n",
      "\n",
      "The following objects are masked from 'package:base':\n",
      "\n",
      "    intersect, setdiff, setequal, union\n",
      "\n",
      "\n"
     ]
    },
    {
     "data": {
      "text/html": [
       "<style> .container { width:95% !important; } </style>"
      ]
     },
     "metadata": {},
     "output_type": "display_data"
    }
   ],
   "source": [
    "library(Seurat)\n",
    "library(dplyr)\n",
    "library(magrittr)\n",
    "IRdisplay::display_html(\"<style> .container { width:95% !important; } </style>\")\n",
    "library(\"xlsx\")\n",
    "#library(mgsa)"
   ]
  },
  {
   "cell_type": "markdown",
   "metadata": {},
   "source": [
    "#### Check data quality"
   ]
  },
  {
   "cell_type": "markdown",
   "metadata": {},
   "source": [
    "Saline (control) group"
   ]
  },
  {
   "cell_type": "code",
   "execution_count": 4,
   "metadata": {},
   "outputs": [],
   "source": [
    "LS_sal.data <-Read10X(data.dir = \"/LS-SAL-1/raw_feature_bc_matrix\")"
   ]
  },
  {
   "cell_type": "code",
   "execution_count": null,
   "metadata": {},
   "outputs": [],
   "source": [
    "LS_sal.data <-Read10X(data.dir = \"/LS-SAL-1/raw_feature_bc_matrix\")\n",
    "colnames(LS_sal.data) = paste0(colnames(LS_sal.data),\"LS_sal\")\n",
    "LS_sal<- CreateSeuratObject(counts = LS_sal.data, min.cells = 3, min.features = 200, project = \"10X_LS_morphine\")\n",
    "LS_sal@meta.data$stim <- \"LS_sal\"\n",
    "\n",
    "mito.features <- grep(pattern = \"^mt-\", x = rownames(x =LS_sal), value = TRUE)\n",
    "percent.mito <- Matrix::colSums(x = GetAssayData(object = LS_sal, slot = 'counts')[mito.features, ]) / Matrix::colSums(x = GetAssayData(object = LS_sal, slot = 'counts'))\n",
    "LS_sal[['percent.mito']] <- percent.mito"
   ]
  },
  {
   "cell_type": "code",
   "execution_count": null,
   "metadata": {},
   "outputs": [],
   "source": [
    "FeatureScatter(object = LS_sal, feature1 = \"nCount_RNA\", feature2 = \"percent.mito\",pt.size=0.1) \n",
    "hist(LS_sal@meta.data$percent.mito,breaks=seq(0,0.7,0.01))\n",
    "hist(LS_sal@meta.data$nCount_RNA,breaks=seq(0,1000000,300),xlim = c(0,8000))"
   ]
  },
  {
   "cell_type": "markdown",
   "metadata": {},
   "source": [
    "Chronic morphine group"
   ]
  },
  {
   "cell_type": "code",
   "execution_count": null,
   "metadata": {},
   "outputs": [],
   "source": [
    "LS_mor.data <-Read10X(data.dir = \"/LS-MOR-1/raw_feature_bc_matrix\")\n",
    "colnames(LS_mor.data) = paste0(colnames(LS_mor.data),\"LS_mor\")\n",
    "LS_mor<- CreateSeuratObject(counts = LS_mor.data, min.cells = 3, min.features = 200, project = \"10X_LS_morphine\")\n",
    "LS_mor@meta.data$stim <- \"LS_mor\"\n",
    "\n",
    "mito.features <- grep(pattern = \"^mt-\", x = rownames(x =LS_mor), value = TRUE)\n",
    "percent.mito <- Matrix::colSums(x = GetAssayData(object = LS_mor, slot = 'counts')[mito.features, ]) / Matrix::colSums(x = GetAssayData(object =LS_mor, slot = 'counts'))\n",
    "LS_mor[['percent.mito']] <- percent.mito"
   ]
  },
  {
   "cell_type": "code",
   "execution_count": null,
   "metadata": {},
   "outputs": [],
   "source": [
    "FeatureScatter(object = LS_mor , feature1 = \"nCount_RNA\", feature2 = \"percent.mito\",pt.size=0.1)\n",
    "hist(LS_mor@meta.data$percent.mito,breaks=seq(0,0.7,0.01))\n",
    "hist(LS_mor@meta.data$nCount_RNA,breaks=seq(0,1000000,300),xlim = c(0,8000))"
   ]
  },
  {
   "cell_type": "markdown",
   "metadata": {},
   "source": [
    "Precipitated withdrawal group"
   ]
  },
  {
   "cell_type": "code",
   "execution_count": null,
   "metadata": {},
   "outputs": [],
   "source": [
    "LS_nal.data <-Read10X(data.dir = \"/LS-NAL-1/raw_feature_bc_matrix\")\n",
    "colnames(LS_nal.data) = paste0(colnames(LS_nal.data),\"LS_nal\")\n",
    "LS_nal<- CreateSeuratObject(counts = LS_nal.data, min.cells = 3, min.features = 200, project = \"10X_LS_morphine\")\n",
    "LS_nal@meta.data$stim <- \"LS_nal\"\n",
    "\n",
    "mito.features <- grep(pattern = \"^mt-\", x = rownames(x =LS_nal), value = TRUE)\n",
    "percent.mito <- Matrix::colSums(x = GetAssayData(object = LS_nal, slot = 'counts')[mito.features, ]) / Matrix::colSums(x = GetAssayData(object = LS_nal, slot = 'counts'))\n",
    "LS_nal[['percent.mito']] <- percent.mito"
   ]
  },
  {
   "cell_type": "code",
   "execution_count": null,
   "metadata": {},
   "outputs": [],
   "source": [
    "FeatureScatter(object = LS_nal , feature1 = \"nCount_RNA\", feature2 = \"percent.mito\",pt.size=0.1)\n",
    "hist(LS_nal@meta.data$percent.mito,breaks=seq(0,0.7,0.01))\n",
    "hist(LS_nal@meta.data$nCount_RNA,breaks=seq(0,1000000,300),xlim = c(0,8000))"
   ]
  },
  {
   "cell_type": "markdown",
   "metadata": {},
   "source": [
    "Acute morphine"
   ]
  },
  {
   "cell_type": "code",
   "execution_count": 2,
   "metadata": {},
   "outputs": [],
   "source": [
    "LS_one_mor.data <-Read10X(data.dir = \"/Mor_single/analysis\")\n",
    "colnames(LS_one_mor.data) = paste0(colnames(LS_one_mor.data),\"LS_one_mor\")\n",
    "LS_one_mor<- CreateSeuratObject(counts = LS_one_mor.data, min.cells = 3, min.features = 200, project = \"10X_LS_morphine\")\n",
    "LS_one_mor@meta.data$stim <- \"LS_one_mor\"\n",
    "\n",
    "mito.features <- grep(pattern = \"^mt-\", x = rownames(x =LS_one_mor), value = TRUE)\n",
    "percent.mito <- Matrix::colSums(x = GetAssayData(object = LS_one_mor, slot = 'counts')[mito.features, ]) / Matrix::colSums(x = GetAssayData(object = LS_one_mor, slot = 'counts'))\n",
    "LS_one_mor[['percent.mito']] <- percent.mito"
   ]
  },
  {
   "cell_type": "code",
   "execution_count": null,
   "metadata": {
    "scrolled": true
   },
   "outputs": [],
   "source": [
    "head(LS_one_mor@meta.data)"
   ]
  },
  {
   "cell_type": "code",
   "execution_count": null,
   "metadata": {},
   "outputs": [],
   "source": [
    "FeatureScatter(object = LS_one_mor , feature1 = \"nCount_RNA\", feature2 = \"percent.mito\",pt.size=0.1)\n",
    "hist(LS_one_mor@meta.data$percent.mito,breaks=seq(0,0.7,0.01))\n",
    "hist(LS_one_mor@meta.data$nCount_RNA,breaks=seq(0,1000000,300),xlim = c(0,8000))"
   ]
  },
  {
   "cell_type": "markdown",
   "metadata": {},
   "source": [
    "Acute naloxone (drug-naive)"
   ]
  },
  {
   "cell_type": "code",
   "execution_count": 3,
   "metadata": {},
   "outputs": [],
   "source": [
    "LS_nal_no_mor.data <-Read10X(data.dir = \"/Nal_no_mor/analysis\")\n",
    "colnames(LS_nal_no_mor.data) = paste0(colnames(LS_nal_no_mor.data),\"LS_nal_no_mor\")\n",
    "LS_nal_no_mor<- CreateSeuratObject(counts = LS_nal_no_mor.data, min.cells = 3, min.features = 200, project = \"10X_LS_morphine\")\n",
    "LS_nal_no_mor@meta.data$stim <- \"LS_nal_no_mor\"\n",
    "\n",
    "mito.features <- grep(pattern = \"^mt-\", x = rownames(x =LS_nal_no_mor), value = TRUE)\n",
    "percent.mito <- Matrix::colSums(x = GetAssayData(object = LS_nal_no_mor, slot = 'counts')[mito.features, ]) / Matrix::colSums(x = GetAssayData(object = LS_nal_no_mor, slot = 'counts'))\n",
    "LS_nal_no_mor[['percent.mito']] <- percent.mito"
   ]
  },
  {
   "cell_type": "code",
   "execution_count": null,
   "metadata": {},
   "outputs": [],
   "source": [
    "LS_nal_no_mor"
   ]
  },
  {
   "cell_type": "markdown",
   "metadata": {},
   "source": [
    "#### Sample normalization, scaling, and dimensionality reduction for each sample separately"
   ]
  },
  {
   "cell_type": "code",
   "execution_count": null,
   "metadata": {},
   "outputs": [],
   "source": [
    "sample<-c(\"LS_sal\",\"LS_mor\",\"LS_nal\")\n",
    "sample[i]"
   ]
  },
  {
   "cell_type": "code",
   "execution_count": null,
   "metadata": {},
   "outputs": [],
   "source": [
    "LS_sal <- subset(x = LS_sal, subset = nCount_RNA > 500 & nCount_RNA < 25000 & percent.mito < 0.1) # you may change percent.mito from 0.2 to 0.3 \n",
    "\n",
    "LS_sal<- NormalizeData(object = LS_sal,verbose = FALSE) \n",
    "\n",
    "LS_sal<- FindVariableFeatures(object =LS_sal,selection.method = \"vst\", nfeatures = 2000, verbose = FALSE)\n",
    "\n",
    "LS_sal<- ScaleData(object = LS_sal, features = rownames(x =LS_sal), vars.to.regress = c(\"nCount_RNA\", \"percent.mito\"))\n",
    "\n",
    "LS_sal<- RunPCA(object = LS_sal, features = VariableFeatures(object =LS_sal), verbose = FALSE)\n",
    "\n",
    "LS_sal<- FindNeighbors(object =LS_sal, dims = 1:30)\n",
    "LS_sal<- FindClusters(object = LS_sal, resolution = 0.8)\n",
    "\n",
    "saveRDS(LS_sal,file = \"/Doublet_processing/LS_sal\")"
   ]
  },
  {
   "cell_type": "code",
   "execution_count": null,
   "metadata": {},
   "outputs": [],
   "source": [
    "LS_mor <- subset(x = LS_mor, subset = nCount_RNA > 500 & nCount_RNA < 25000 & percent.mito < 0.10) # you may change percent.mito from 0.2 to 0.3 \n",
    "\n",
    "LS_mor<- NormalizeData(object = LS_mor,verbose = FALSE) \n",
    "\n",
    "LS_mor<- FindVariableFeatures(object =LS_mor,selection.method = \"vst\", nfeatures = 2000, verbose = FALSE)\n",
    "\n",
    "LS_mor<- ScaleData(object = LS_mor, features = rownames(x =LS_mor), vars.to.regress = c(\"nCount_RNA\", \"percent.mito\"))\n",
    "\n",
    "LS_mor<- RunPCA(object = LS_mor, features = VariableFeatures(object =LS_mor), verbose = FALSE)\n",
    "\n",
    "LS_mor<- FindNeighbors(object =LS_mor, dims = 1:30)\n",
    "LS_mor<- FindClusters(object = LS_mor, resolution = 0.8)\n",
    "\n",
    "saveRDS(LS_mor,file = \"/Doublet_processing/LS_mor\")"
   ]
  },
  {
   "cell_type": "code",
   "execution_count": null,
   "metadata": {},
   "outputs": [],
   "source": [
    "LS_nal <- subset(x = LS_nal, subset = nCount_RNA > 500 & nCount_RNA < 25000 & percent.mito < 0.10) # you may change percent.mito from 0.2 to 0.3 \n",
    "\n",
    "LS_nal<- NormalizeData(object = LS_nal,verbose = FALSE) \n",
    "\n",
    "LS_nal<- FindVariableFeatures(object =LS_nal,selection.method = \"vst\", nfeatures = 2000, verbose = FALSE)\n",
    "\n",
    "LS_nal<- ScaleData(object = LS_nal, features = rownames(x =LS_nal), vars.to.regress = c(\"nCount_RNA\", \"percent.mito\"))\n",
    "\n",
    "LS_nal<- RunPCA(object = LS_nal, features = VariableFeatures(object =LS_nal), verbose = FALSE)\n",
    "\n",
    "LS_nal<- FindNeighbors(object =LS_nal, dims = 1:30)\n",
    "LS_nal<- FindClusters(object = LS_nal, resolution = 0.8)\n",
    "\n",
    "saveRDS(LS_nal,file = \"/Doublet_processing/LS_nal\")"
   ]
  },
  {
   "cell_type": "code",
   "execution_count": 4,
   "metadata": {},
   "outputs": [],
   "source": [
    "LS_one_mor <- subset(x = LS_one_mor, subset = nCount_RNA > 500 & nCount_RNA < 25000 & percent.mito < 0.10) # you may change percent.mito from 0.2 to 0.3 "
   ]
  },
  {
   "cell_type": "code",
   "execution_count": 11,
   "metadata": {
    "collapsed": true
   },
   "outputs": [
    {
     "name": "stderr",
     "output_type": "stream",
     "text": [
      "Regressing out nCount_RNA, percent.mito\n",
      "Centering and scaling data matrix\n",
      "Computing nearest neighbor graph\n",
      "Computing SNN\n"
     ]
    },
    {
     "name": "stdout",
     "output_type": "stream",
     "text": [
      "Modularity Optimizer version 1.3.0 by Ludo Waltman and Nees Jan van Eck\n",
      "\n",
      "Number of nodes: 8632\n",
      "Number of edges: 301626\n",
      "\n",
      "Running Louvain algorithm...\n",
      "Maximum modularity in 10 random starts: 0.9014\n",
      "Number of communities: 22\n",
      "Elapsed time: 0 seconds\n"
     ]
    },
    {
     "name": "stderr",
     "output_type": "stream",
     "text": [
      "Warning message in gzfile(file, mode):\n",
      "\"cannot open file '/Users/stuberadmin/Documents/scRNAseq/211119-RS/Doublet_processing/LS_one_mor': it is a directory\""
     ]
    },
    {
     "ename": "ERROR",
     "evalue": "Error in gzfile(file, mode): cannot open the connection\n",
     "output_type": "error",
     "traceback": [
      "Error in gzfile(file, mode): cannot open the connection\nTraceback:\n",
      "1. saveRDS(LS_one_mor, file = \"/Users/stuberadmin/Documents/scRNAseq/211119-RS/Doublet_processing/LS_one_mor\")",
      "2. gzfile(file, mode)"
     ]
    }
   ],
   "source": [
    "LS_one_mor<- NormalizeData(object = LS_one_mor,verbose = FALSE) \n",
    "\n",
    "LS_one_mor<- FindVariableFeatures(object =LS_one_mor,selection.method = \"vst\", nfeatures = 2000, verbose = FALSE)\n",
    "\n",
    "LS_one_mor<- ScaleData(object = LS_one_mor, features = rownames(x =LS_one_mor), vars.to.regress = c(\"nCount_RNA\", \"percent.mito\"))\n",
    "\n",
    "LS_one_mor<- RunPCA(object = LS_one_mor, features = VariableFeatures(object =LS_one_mor), verbose = FALSE)\n",
    "\n",
    "LS_one_mor<- FindNeighbors(object =LS_one_mor, dims = 1:30)\n",
    "LS_one_mor<- FindClusters(object = LS_one_mor, resolution = 0.8)\n",
    "\n",
    "saveRDS(LS_one_mor,file = \"/Doublet_processing/LS_one_mor\")"
   ]
  },
  {
   "cell_type": "code",
   "execution_count": 14,
   "metadata": {},
   "outputs": [],
   "source": [
    "saveRDS(LS_one_mor,file = \"/Doublet_processing/LS_one_mor.RDS\")"
   ]
  },
  {
   "cell_type": "code",
   "execution_count": 7,
   "metadata": {},
   "outputs": [],
   "source": [
    "LS_nal_no_mor <- subset(x = LS_nal_no_mor, subset = nCount_RNA > 500 & nCount_RNA < 25000 & percent.mito < 0.10) # you may change percent.mito from 0.2 to 0.3 "
   ]
  },
  {
   "cell_type": "code",
   "execution_count": 15,
   "metadata": {},
   "outputs": [
    {
     "name": "stderr",
     "output_type": "stream",
     "text": [
      "Regressing out nCount_RNA, percent.mito\n",
      "Centering and scaling data matrix\n",
      "Computing nearest neighbor graph\n",
      "Computing SNN\n"
     ]
    },
    {
     "name": "stdout",
     "output_type": "stream",
     "text": [
      "Modularity Optimizer version 1.3.0 by Ludo Waltman and Nees Jan van Eck\n",
      "\n",
      "Number of nodes: 9539\n",
      "Number of edges: 371751\n",
      "\n",
      "Running Louvain algorithm...\n",
      "Maximum modularity in 10 random starts: 0.9091\n",
      "Number of communities: 24\n",
      "Elapsed time: 0 seconds\n"
     ]
    }
   ],
   "source": [
    "LS_nal_no_mor <- subset(x = LS_nal_no_mor, subset = nCount_RNA > 500 & nCount_RNA < 25000 & percent.mito < 0.10) # you may change percent.mito from 0.2 to 0.3 \n",
    "\n",
    "LS_nal_no_mor<- NormalizeData(object = LS_nal_no_mor,verbose = FALSE) \n",
    "\n",
    "LS_nal_no_mor<- FindVariableFeatures(object =LS_nal_no_mor,selection.method = \"vst\", nfeatures = 2000, verbose = FALSE)\n",
    "\n",
    "LS_nal_no_mor<- ScaleData(object = LS_nal_no_mor, features = rownames(x =LS_nal_no_mor), vars.to.regress = c(\"nCount_RNA\", \"percent.mito\"))\n",
    "\n",
    "LS_nal_no_mor<- RunPCA(object = LS_nal_no_mor, features = VariableFeatures(object =LS_nal_no_mor), verbose = FALSE)\n",
    "\n",
    "LS_nal_no_mor<- FindNeighbors(object =LS_nal_no_mor, dims = 1:30)\n",
    "LS_nal_no_mor<- FindClusters(object = LS_nal_no_mor, resolution = 0.8)\n",
    "\n",
    "saveRDS(LS_nal_no_mor,file = \"/Doublet_processing/LS_nal_no_mor.rds\")"
   ]
  },
  {
   "cell_type": "code",
   "execution_count": null,
   "metadata": {},
   "outputs": [],
   "source": [
    "LS_sal <- RunUMAP(LS_sal, reduction='pca', dims=1:30)"
   ]
  },
  {
   "cell_type": "code",
   "execution_count": null,
   "metadata": {},
   "outputs": [],
   "source": [
    "LS_mor <- RunUMAP(LS_mor, reduction='pca', dims=1:30)"
   ]
  },
  {
   "cell_type": "code",
   "execution_count": null,
   "metadata": {},
   "outputs": [],
   "source": [
    "LS_nal <- RunUMAP(LS_nal, reduction='pca', dims=1:30)"
   ]
  },
  {
   "cell_type": "code",
   "execution_count": 16,
   "metadata": {},
   "outputs": [
    {
     "name": "stderr",
     "output_type": "stream",
     "text": [
      "Warning message:\n",
      "\"The default method for RunUMAP has changed from calling Python UMAP via reticulate to the R-native UWOT using the cosine metric\n",
      "To use Python UMAP via reticulate, set umap.method to 'umap-learn' and metric to 'correlation'\n",
      "This message will be shown once per session\"18:28:27 UMAP embedding parameters a = 0.9922 b = 1.112\n",
      "18:28:27 Read 8632 rows and found 30 numeric columns\n",
      "18:28:27 Using Annoy for neighbor search, n_neighbors = 30\n",
      "18:28:27 Building Annoy index with metric = cosine, n_trees = 50\n",
      "0%   10   20   30   40   50   60   70   80   90   100%\n",
      "[----|----|----|----|----|----|----|----|----|----|\n",
      "**************************************************|\n",
      "18:28:29 Writing NN index file to temp file C:\\Users\\STUBER~1\\AppData\\Local\\Temp\\RtmpoF8MPH\\file3b0030e35960\n",
      "18:28:29 Searching Annoy index using 1 thread, search_k = 3000\n",
      "18:28:30 Annoy recall = 100%\n",
      "18:28:31 Commencing smooth kNN distance calibration using 1 thread\n",
      "18:28:33 Initializing from normalized Laplacian + noise\n",
      "18:28:33 Commencing optimization for 500 epochs, with 359746 positive edges\n",
      "18:28:51 Optimization finished\n"
     ]
    }
   ],
   "source": [
    "LS_one_mor <- RunUMAP(LS_one_mor, reduction='pca', dims=1:30)"
   ]
  },
  {
   "cell_type": "code",
   "execution_count": 17,
   "metadata": {},
   "outputs": [
    {
     "name": "stderr",
     "output_type": "stream",
     "text": [
      "18:28:51 UMAP embedding parameters a = 0.9922 b = 1.112\n",
      "18:28:51 Read 9539 rows and found 30 numeric columns\n",
      "18:28:51 Using Annoy for neighbor search, n_neighbors = 30\n",
      "18:28:51 Building Annoy index with metric = cosine, n_trees = 50\n",
      "0%   10   20   30   40   50   60   70   80   90   100%\n",
      "[----|----|----|----|----|----|----|----|----|----|\n",
      "**************************************************|\n",
      "18:28:53 Writing NN index file to temp file C:\\Users\\STUBER~1\\AppData\\Local\\Temp\\RtmpoF8MPH\\file3b006cb935d6\n",
      "18:28:53 Searching Annoy index using 1 thread, search_k = 3000\n",
      "18:28:55 Annoy recall = 100%\n",
      "18:28:55 Commencing smooth kNN distance calibration using 1 thread\n",
      "18:28:57 Initializing from normalized Laplacian + noise\n",
      "18:28:57 Commencing optimization for 500 epochs, with 409678 positive edges\n",
      "18:29:18 Optimization finished\n"
     ]
    }
   ],
   "source": [
    "LS_nal_no_mor <- RunUMAP(LS_nal_no_mor, reduction='pca', dims=1:30)"
   ]
  },
  {
   "cell_type": "markdown",
   "metadata": {},
   "source": [
    "#### Load in files if necessary"
   ]
  },
  {
   "cell_type": "code",
   "execution_count": null,
   "metadata": {},
   "outputs": [],
   "source": [
    "LS_sal<-readRDS(file = \"/Doublet_processing/LS_sal.rds\")\n",
    "LS_mor<-readRDS(file = \"/Doublet_processing/LS_mor.rds\")\n",
    "LS_nal<-readRDS(file = \"/Doublet_processing/LS_nal.rds\")"
   ]
  },
  {
   "cell_type": "code",
   "execution_count": null,
   "metadata": {},
   "outputs": [],
   "source": [
    "counts<-as.matrix(LS_sal@assays$RNA@data)\n",
    "write.table(data.frame(\"GENE\"=rownames(counts),counts),file=\"/LS_sal/counts.txt\",row.names=FALSE,sep=\"\\t\")\n",
    "markers <- FindAllMarkers(object = LS_sal, only.pos = TRUE, min.pct = 0.25)\n",
    "top_50<-markers %>% group_by(cluster) %>% top_n(50)\n",
    "write.table(data.frame(\"test\"=as.character(rownames(top_50)),top_50),file=\"/LS_sal/Top50Genes.txt\",row.names=FALSE,col.names=c(\"\",colnames(top_50)),sep=\"\\t\",eol=\"\\n\")\n",
    "cluster<-Idents(object=LS_sal)\n",
    "cluster<-as.matrix(cluster)\n",
    "cluster[,1]<-as.character(cluster[,1])\n",
    "cluster[,0]<-as.character(cluster[,0])\n",
    "cluster<-data.frame(\"x\"=rownames(cluster),cluster)\n",
    "write.table(cluster,file=\"/LS_sal/Cluster.txt\",row.names=FALSE,col.names=c(\"\",\"x\"),sep=\"\\t\",eol=\"\\n\")"
   ]
  },
  {
   "cell_type": "code",
   "execution_count": null,
   "metadata": {},
   "outputs": [],
   "source": [
    "library(\"DoubletDecon\")\n",
    "location=\"/Doublet_processing/LS_sal/\" #Update as needed \n",
    "expressionFile=paste0(location, \"counts.txt\")\n",
    "genesFile=paste0(location, \"Top50Genes.txt\")\n",
    "clustersFile=paste0(location, \"Cluster.txt\")\n",
    "\n",
    "newFiles=Seurat_Pre_Process(expressionFile, genesFile, clustersFile)\n",
    "\n",
    "results=Main_Doublet_Decon(rawDataFile=newFiles$newExpressionFile, \n",
    "                           groupsFile=newFiles$newGroupsFile, \n",
    "                           filename=\"cntl\", \n",
    "                           location=location,\n",
    "                           fullDataFile=NULL, \n",
    "                           removeCC=FALSE, \n",
    "                           species=\"mmu\", \n",
    "                           rhop=1.1, \n",
    "                           write=TRUE, \n",
    "                           PMF=TRUE, \n",
    "                           useFull=FALSE, \n",
    "                           heatmap=FALSE,\n",
    "                           centroids=TRUE,\n",
    "                           num_doubs=100, \n",
    "                           only50=TRUE,\n",
    "                           min_uniq=4)"
   ]
  },
  {
   "cell_type": "code",
   "execution_count": null,
   "metadata": {},
   "outputs": [],
   "source": [
    "counts<-as.matrix(LS_mor@assays$RNA@data)\n",
    "write.table(data.frame(\"GENE\"=rownames(counts),counts),file=\"/Doublet_processing/LS_mor/counts.txt\",row.names=FALSE,sep=\"\\t\")\n",
    "markers <- FindAllMarkers(object = LS_mor, only.pos = TRUE, min.pct = 0.25)\n",
    "top_50<-markers %>% group_by(cluster) %>% top_n(50)\n",
    "write.table(data.frame(\"test\"=as.character(rownames(top_50)),top_50),file=\"/Doublet_processing/LS_mor/Top50Genes.txt\",row.names=FALSE,col.names=c(\"\",colnames(top_50)),sep=\"\\t\",eol=\"\\n\")\n",
    "cluster<-Idents(object=LS_mor)\n",
    "cluster<-as.matrix(cluster)\n",
    "cluster[,1]<-as.character(cluster[,1])\n",
    "cluster[,0]<-as.character(cluster[,0])\n",
    "cluster<-data.frame(\"x\"=rownames(cluster),cluster)\n",
    "write.table(cluster,file=\"/Doublet_processing/LS_mor/Cluster.txt\",row.names=FALSE,col.names=c(\"\",\"x\"),sep=\"\\t\",eol=\"\\n\")\n"
   ]
  },
  {
   "cell_type": "code",
   "execution_count": null,
   "metadata": {},
   "outputs": [],
   "source": [
    "library(\"DoubletDecon\")\n",
    "location=\"/Doublet_processing/LS_mor/\" #Update as needed \n",
    "expressionFile=paste0(location, \"counts.txt\")\n",
    "genesFile=paste0(location, \"Top50Genes.txt\")\n",
    "clustersFile=paste0(location, \"Cluster.txt\")\n",
    "\n",
    "newFiles=Seurat_Pre_Process(expressionFile, genesFile, clustersFile)\n",
    "\n",
    "results=Main_Doublet_Decon(rawDataFile=newFiles$newExpressionFile, \n",
    "                           groupsFile=newFiles$newGroupsFile, \n",
    "                           filename=\"cntl\", \n",
    "                           location=location,\n",
    "                           fullDataFile=NULL, \n",
    "                           removeCC=FALSE, \n",
    "                           species=\"mmu\", \n",
    "                           rhop=1.1, \n",
    "                           write=TRUE, \n",
    "                           PMF=TRUE, \n",
    "                           useFull=FALSE, \n",
    "                           heatmap=FALSE,\n",
    "                           centroids=TRUE,\n",
    "                           num_doubs=100, \n",
    "                           only50=TRUE,\n",
    "                           min_uniq=4)"
   ]
  },
  {
   "cell_type": "code",
   "execution_count": null,
   "metadata": {},
   "outputs": [],
   "source": [
    "counts<-as.matrix(LS_nal@assays$RNA@data)\n",
    "write.table(data.frame(\"GENE\"=rownames(counts),counts),file=\"/Doublet_processing/LS_nal/counts.txt\",row.names=FALSE,sep=\"\\t\")\n",
    "markers <- FindAllMarkers(object = LS_nal, only.pos = TRUE, min.pct = 0.25)\n",
    "top_50<-markers %>% group_by(cluster) %>% top_n(50)\n",
    "write.table(data.frame(\"test\"=as.character(rownames(top_50)),top_50),file=\"/Doublet_processing/LS_nal/Top50Genes.txt\",row.names=FALSE,col.names=c(\"\",colnames(top_50)),sep=\"\\t\",eol=\"\\n\")\n",
    "cluster<-Idents(object=LS_nal)\n",
    "cluster<-as.matrix(cluster)\n",
    "cluster[,1]<-as.character(cluster[,1])\n",
    "cluster[,0]<-as.character(cluster[,0])\n",
    "cluster<-data.frame(\"x\"=rownames(cluster),cluster)\n",
    "write.table(cluster,file=\"/Doublet_processing/LS_nal/Cluster.txt\",row.names=FALSE,col.names=c(\"\",\"x\"),sep=\"\\t\",eol=\"\\n\")"
   ]
  },
  {
   "cell_type": "code",
   "execution_count": null,
   "metadata": {},
   "outputs": [],
   "source": [
    "library(\"DoubletDecon\")\n",
    "location=\"/Doublet_processing/LS_nal/\" #Update as needed \n",
    "expressionFile=paste0(location, \"counts.txt\")\n",
    "genesFile=paste0(location, \"Top50Genes.txt\")\n",
    "clustersFile=paste0(location, \"Cluster.txt\")\n",
    "\n",
    "newFiles=Seurat_Pre_Process(expressionFile, genesFile, clustersFile)\n",
    "\n",
    "results=Main_Doublet_Decon(rawDataFile=newFiles$newExpressionFile, \n",
    "                           groupsFile=newFiles$newGroupsFile, \n",
    "                           filename=\"cntl\", \n",
    "                           location=location,\n",
    "                           fullDataFile=NULL, \n",
    "                           removeCC=FALSE, \n",
    "                           species=\"mmu\", \n",
    "                           rhop=1.1, \n",
    "                           write=TRUE, \n",
    "                           PMF=TRUE, \n",
    "                           useFull=FALSE, \n",
    "                           heatmap=FALSE,\n",
    "                           centroids=TRUE,\n",
    "                           num_doubs=100, \n",
    "                           only50=TRUE,\n",
    "                           min_uniq=4)"
   ]
  },
  {
   "cell_type": "code",
   "execution_count": 18,
   "metadata": {},
   "outputs": [
    {
     "name": "stderr",
     "output_type": "stream",
     "text": [
      "Calculating cluster 0\n",
      "Calculating cluster 1\n",
      "Calculating cluster 2\n",
      "Calculating cluster 3\n",
      "Calculating cluster 4\n",
      "Calculating cluster 5\n",
      "Calculating cluster 6\n",
      "Calculating cluster 7\n",
      "Calculating cluster 8\n",
      "Calculating cluster 9\n",
      "Calculating cluster 10\n",
      "Calculating cluster 11\n",
      "Calculating cluster 12\n",
      "Calculating cluster 13\n",
      "Calculating cluster 14\n",
      "Calculating cluster 15\n",
      "Calculating cluster 16\n",
      "Calculating cluster 17\n",
      "Calculating cluster 18\n",
      "Calculating cluster 19\n",
      "Calculating cluster 20\n",
      "Calculating cluster 21\n",
      "Selecting by gene\n"
     ]
    }
   ],
   "source": [
    "counts<-as.matrix(LS_one_mor@assays$RNA@data)\n",
    "write.table(data.frame(\"GENE\"=rownames(counts),counts),file=\"/Doublet_processing/LS_one_mor/counts.txt\",row.names=FALSE,sep=\"\\t\")\n",
    "markers <- FindAllMarkers(object = LS_one_mor, only.pos = TRUE, min.pct = 0.25)\n",
    "top_50<-markers %>% group_by(cluster) %>% top_n(50)\n",
    "write.table(data.frame(\"test\"=as.character(rownames(top_50)),top_50),file=\"/Doublet_processing/LS_one_mor/Top50Genes.txt\",row.names=FALSE,col.names=c(\"\",colnames(top_50)),sep=\"\\t\",eol=\"\\n\")\n",
    "cluster<-Idents(object=LS_one_mor)\n",
    "cluster<-as.matrix(cluster)\n",
    "cluster[,1]<-as.character(cluster[,1])\n",
    "cluster[,0]<-as.character(cluster[,0])\n",
    "cluster<-data.frame(\"x\"=rownames(cluster),cluster)\n",
    "write.table(cluster,file=\"/Doublet_processing/LS_one_mor/Cluster.txt\",row.names=FALSE,col.names=c(\"\",\"x\"),sep=\"\\t\",eol=\"\\n\")"
   ]
  },
  {
   "cell_type": "code",
   "execution_count": 19,
   "metadata": {},
   "outputs": [
    {
     "name": "stdout",
     "output_type": "stream",
     "text": [
      "Loading packages...\n"
     ]
    },
    {
     "name": "stderr",
     "output_type": "stream",
     "text": [
      "Warning message:\n",
      "\"package 'limSolve' was built under R version 3.6.3\"Warning message:\n",
      "\"package 'ggplot2' was built under R version 3.6.3\"Warning message:\n",
      "\"package 'gplots' was built under R version 3.6.3\"Warning message in library(package, lib.loc = lib.loc, character.only = TRUE, logical.return = TRUE, :\n",
      "\"there is no package called 'clusterProfiler'\"Warning message:\n",
      "\"package 'GenomicFeatures' was built under R version 3.6.2\"Warning message:\n",
      "\"package 'S4Vectors' was built under R version 3.6.3\"Warning message:\n",
      "\"package 'IRanges' was built under R version 3.6.2\"Warning message:\n",
      "\"package 'GenomeInfoDb' was built under R version 3.6.3\"Warning message:\n",
      "\"package 'tidyr' was built under R version 3.6.3\"Warning message:\n",
      "\"package 'R.utils' was built under R version 3.6.3\"Warning message:\n",
      "\"package 'R.oo' was built under R version 3.6.3\"Warning message:\n",
      "\"package 'R.methodsS3' was built under R version 3.6.3\"Warning message:\n",
      "\"package 'foreach' was built under R version 3.6.3\"Warning message:\n",
      "\"package 'doParallel' was built under R version 3.6.3\"Warning message:\n",
      "\"package 'iterators' was built under R version 3.6.3\""
     ]
    },
    {
     "name": "stdout",
     "output_type": "stream",
     "text": [
      "Reading data...\n",
      "Processing raw data...\n",
      "Combining similar clusters...\n",
      "Creating synthetic doublet profiles...\n",
      "svd calculated PCA\n",
      "Importance of component(s):\n",
      "                 PC1    PC2     PC3     PC4     PC5     PC6     PC7     PC8\n",
      "R2            0.4229 0.0429 0.01994 0.01651 0.01266 0.01167 0.01043 0.00939\n",
      "Cumulative R2 0.4229 0.4658 0.48571 0.50222 0.51488 0.52655 0.53698 0.54637\n",
      "                  PC9    PC10    PC11    PC12    PC13\n",
      "R2            0.00875 0.00791 0.00705 0.00535 0.00513\n",
      "Cumulative R2 0.55512 0.56303 0.57008 0.57543 0.58056\n",
      "\n",
      " Attention: the number of pure cell types = 13  defined in the signature matrix;\n",
      "\n",
      " PCA results indicate that the number of cell types in the mixtures = 1 \n",
      "Step 1: Removing possible doublets...\n",
      "svd calculated PCA\n",
      "Importance of component(s):\n",
      "                 PC1     PC2     PC3     PC4     PC5    PC6     PC7     PC8\n",
      "R2            0.3759 0.05711 0.03498 0.01571 0.01077 0.0084 0.00784 0.00686\n",
      "Cumulative R2 0.3759 0.43303 0.46801 0.48372 0.49449 0.5029 0.51073 0.51759\n",
      "                  PC9    PC10    PC11    PC12    PC13\n",
      "R2            0.00591 0.00579 0.00558 0.00505 0.00435\n",
      "Cumulative R2 0.52350 0.52929 0.53487 0.53992 0.54427\n",
      "\n",
      " Attention: the number of pure cell types = 13  defined in the signature matrix;\n",
      "\n",
      " PCA results indicate that the number of cell types in the mixtures = 1 \n",
      "Step 2: Re-clustering possible doublets...\n",
      "Step 3: Rescuing cells with unique gene expression...\n",
      "Finished!\n"
     ]
    },
    {
     "data": {
      "image/png": "[encoded data removed]",
      "text/plain": [
       "Plot with title \"Color Key\n",
       "and Histogram\""
      ]
     },
     "metadata": {},
     "output_type": "display_data"
    }
   ],
   "source": [
    "library(\"DoubletDecon\")\n",
    "location=LS_one_mor/\" #Update as needed \n",
    "expressionFile=paste0(location, \"counts.txt\")\n",
    "genesFile=paste0(location, \"Top50Genes.txt\")\n",
    "clustersFile=paste0(location, \"Cluster.txt\")\n",
    "\n",
    "newFiles=Seurat_Pre_Process(expressionFile, genesFile, clustersFile)\n",
    "\n",
    "results=Main_Doublet_Decon(rawDataFile=newFiles$newExpressionFile, \n",
    "                           groupsFile=newFiles$newGroupsFile, \n",
    "                           filename=\"cntl\", \n",
    "                           location=location,\n",
    "                           fullDataFile=NULL, \n",
    "                           removeCC=FALSE, \n",
    "                           species=\"mmu\", \n",
    "                           rhop=1.1, \n",
    "                           write=TRUE, \n",
    "                           PMF=TRUE, \n",
    "                           useFull=FALSE, \n",
    "                           heatmap=FALSE,\n",
    "                           centroids=TRUE,\n",
    "                           num_doubs=100, \n",
    "                           only50=TRUE,\n",
    "                           min_uniq=4)"
   ]
  },
  {
   "cell_type": "code",
   "execution_count": 20,
   "metadata": {},
   "outputs": [
    {
     "name": "stderr",
     "output_type": "stream",
     "text": [
      "Calculating cluster 0\n",
      "Calculating cluster 1\n",
      "Calculating cluster 2\n",
      "Calculating cluster 3\n",
      "Calculating cluster 4\n",
      "Calculating cluster 5\n",
      "Calculating cluster 6\n",
      "Calculating cluster 7\n",
      "Calculating cluster 8\n",
      "Calculating cluster 9\n",
      "Calculating cluster 10\n",
      "Calculating cluster 11\n",
      "Calculating cluster 12\n",
      "Calculating cluster 13\n",
      "Calculating cluster 14\n",
      "Calculating cluster 15\n",
      "Calculating cluster 16\n",
      "Calculating cluster 17\n",
      "Calculating cluster 18\n",
      "Calculating cluster 19\n",
      "Calculating cluster 20\n",
      "Calculating cluster 21\n",
      "Calculating cluster 22\n",
      "Calculating cluster 23\n",
      "Selecting by gene\n"
     ]
    }
   ],
   "source": [
    "counts<-as.matrix(LS_nal_no_mor@assays$RNA@data)\n",
    "write.table(data.frame(\"GENE\"=rownames(counts),counts),file=\"/Doublet_processing/LS_nal_no_mor/counts.txt\",row.names=FALSE,sep=\"\\t\")\n",
    "markers <- FindAllMarkers(object = LS_nal_no_mor, only.pos = TRUE, min.pct = 0.25)\n",
    "top_50<-markers %>% group_by(cluster) %>% top_n(50)\n",
    "write.table(data.frame(\"test\"=as.character(rownames(top_50)),top_50),file=\"/Doublet_processing/LS_nal_no_mor/Top50Genes.txt\",row.names=FALSE,col.names=c(\"\",colnames(top_50)),sep=\"\\t\",eol=\"\\n\")\n",
    "cluster<-Idents(object=LS_nal_no_mor)\n",
    "cluster<-as.matrix(cluster)\n",
    "cluster[,1]<-as.character(cluster[,1])\n",
    "cluster[,0]<-as.character(cluster[,0])\n",
    "cluster<-data.frame(\"x\"=rownames(cluster),cluster)\n",
    "write.table(cluster,file=\"/Doublet_processing/LS_nal_no_mor/Cluster.txt\",row.names=FALSE,col.names=c(\"\",\"x\"),sep=\"\\t\",eol=\"\\n\")"
   ]
  },
  {
   "cell_type": "code",
   "execution_count": 22,
   "metadata": {},
   "outputs": [
    {
     "name": "stdout",
     "output_type": "stream",
     "text": [
      "Loading packages...\n"
     ]
    },
    {
     "name": "stderr",
     "output_type": "stream",
     "text": [
      "Warning message in library(package, lib.loc = lib.loc, character.only = TRUE, logical.return = TRUE, :\n",
      "\"there is no package called 'clusterProfiler'\""
     ]
    },
    {
     "name": "stdout",
     "output_type": "stream",
     "text": [
      "Reading data...\n",
      "Processing raw data...\n",
      "Combining similar clusters...\n",
      "Creating synthetic doublet profiles...\n",
      "svd calculated PCA\n",
      "Importance of component(s):\n",
      "                 PC1     PC2     PC3     PC4     PC5     PC6     PC7     PC8\n",
      "R2            0.3196 0.04234 0.02653 0.02282 0.01502 0.01331 0.01275 0.01093\n",
      "Cumulative R2 0.3196 0.36199 0.38852 0.41134 0.42636 0.43967 0.45242 0.46335\n",
      "                  PC9    PC10    PC11    PC12\n",
      "R2            0.01016 0.00776 0.00725 0.00619\n",
      "Cumulative R2 0.47351 0.48127 0.48852 0.49471\n",
      "\n",
      " Attention: the number of pure cell types = 12  defined in the signature matrix;\n",
      "\n",
      " PCA results indicate that the number of cell types in the mixtures = 1 \n",
      "Step 1: Removing possible doublets...\n",
      "svd calculated PCA\n",
      "Importance of component(s):\n",
      "                 PC1     PC2     PC3     PC4    PC5     PC6     PC7     PC8\n",
      "R2            0.2909 0.04934 0.03484 0.02441 0.0102 0.00923 0.00658 0.00597\n",
      "Cumulative R2 0.2909 0.34027 0.37511 0.39952 0.4097 0.41895 0.42553 0.43150\n",
      "                  PC9    PC10    PC11    PC12\n",
      "R2            0.00549 0.00542 0.00491 0.00462\n",
      "Cumulative R2 0.43699 0.44241 0.44732 0.45194\n",
      "\n",
      " Attention: the number of pure cell types = 12  defined in the signature matrix;\n",
      "\n",
      " PCA results indicate that the number of cell types in the mixtures = 1 \n",
      "Step 2: Re-clustering possible doublets...\n",
      "Step 3: Rescuing cells with unique gene expression...\n",
      "Finished!\n"
     ]
    },
    {
     "data": {
      "image/png": "[encoded data removed]",
      "text/plain": [
       "Plot with title \"Color Key\n",
       "and Histogram\""
      ]
     },
     "metadata": {},
     "output_type": "display_data"
    }
   ],
   "source": [
    "library(\"DoubletDecon\")\n",
    "location=LS_nal_no_mor/\" #Update as needed \n",
    "expressionFile=paste0(location, \"counts.txt\")\n",
    "genesFile=paste0(location, \"Top50Genes.txt\")\n",
    "clustersFile=paste0(location, \"Cluster.txt\")\n",
    "\n",
    "newFiles=Seurat_Pre_Process(expressionFile, genesFile, clustersFile)\n",
    "\n",
    "results=Main_Doublet_Decon(rawDataFile=newFiles$newExpressionFile, \n",
    "                           groupsFile=newFiles$newGroupsFile, \n",
    "                           filename=\"cntl\", \n",
    "                           location=location,\n",
    "                           fullDataFile=NULL, \n",
    "                           removeCC=FALSE, \n",
    "                           species=\"mmu\", \n",
    "                           rhop=1.1, \n",
    "                           write=TRUE, \n",
    "                           PMF=TRUE, \n",
    "                           useFull=FALSE, \n",
    "                           heatmap=FALSE,\n",
    "                           centroids=TRUE,\n",
    "                           num_doubs=100, \n",
    "                           only50=TRUE,\n",
    "                           min_uniq=4)"
   ]
  },
  {
   "cell_type": "markdown",
   "metadata": {},
   "source": [
    "# checking doublet results and barcode "
   ]
  },
  {
   "cell_type": "code",
   "execution_count": null,
   "metadata": {
    "scrolled": true
   },
   "outputs": [],
   "source": [
    "LS_sal.data <-Read10X(data.dir = \"/LS-SAL-1/raw_feature_bc_matrix\")\n",
    "colnames(LS_sal.data) = paste0(colnames(LS_sal.data),\"LS_sal\")\n",
    "LS_sal<- CreateSeuratObject(counts = LS_sal.data, min.cells = 3, min.features = 200, project = \"10X_LS_morphine\")\n",
    "LS_sal@meta.data$stim <- \"LS_sal\"\n",
    "\n",
    "LS_sal_clean<-rownames(read.table(file=\"/Users/stuberadmin/Documents/scRNAseq/201130/Doublet_processing/LS_sal/Final_nondoublets_groups_cntl.txt\"))\n",
    "LS_sal_doublet<-rownames(read.table(file=\"/Users/stuberadmin/Documents/scRNAseq/201130/Doublet_processing/LS_sal/Final_doublets_groups_cntl.txt\"))\n",
    "doubletrate_LS_sal<-100*length(LS_sal_doublet)/(length(LS_sal_clean)+length(LS_sal_doublet))\n",
    "doubletrate_LS_sal\n",
    "LS_sal<-subset(x=LS_sal,cells=LS_sal_clean)"
   ]
  },
  {
   "cell_type": "code",
   "execution_count": null,
   "metadata": {},
   "outputs": [],
   "source": [
    "LS_mor.data <-Read10X(data.dir = \"/LS-MOR-1/raw_feature_bc_matrix\")\n",
    "colnames(LS_mor.data) = paste0(colnames(LS_mor.data),\"LS_mor\")\n",
    "LS_mor<- CreateSeuratObject(counts = LS_mor.data, min.cells = 3, min.features = 200, project = \"10X_LS_morphine\")\n",
    "LS_mor@meta.data$stim <- \"LS_mor\"\n",
    "\n",
    "LS_mor_clean<-rownames(read.table(file=\"/Doublet_processing/LS_mor/Final_nondoublets_groups_cntl.txt\"))\n",
    "LS_mor_doublet<-rownames(read.table(file=\"/Doublet_processing/LS_mor/Final_doublets_groups_cntl.txt\"))\n",
    "doubletrate_LS_mor<-100*length(LS_mor_doublet)/(length(LS_mor_clean)+length(LS_mor_doublet))\n",
    "doubletrate_LS_mor"
   ]
  },
  {
   "cell_type": "code",
   "execution_count": null,
   "metadata": {},
   "outputs": [],
   "source": [
    "LS_nal.data <-Read10X(data.dir = \"/LS-NAL-1/raw_feature_bc_matrix\")\n",
    "colnames(LS_nal.data) = paste0(colnames(LS_nal.data),\"LS_nal\")\n",
    "LS_nal<- CreateSeuratObject(counts = LS_nal.data, min.cells = 3, min.features = 200, project = \"10X_LS_morphine\")\n",
    "LS_nal@meta.data$stim <- \"LS_nal\"\n",
    "\n",
    "LS_nal_clean<-rownames(read.table(file=\"/Doublet_processing/LS_nal/Final_nondoublets_groups_cntl.txt\"))\n",
    "LS_nal_doublet<-rownames(read.table(file=\"/Doublet_processing/LS_nal/Final_doublets_groups_cntl.txt\"))\n",
    "doubletrate_LS_nal<-100*length(LS_nal_doublet)/(length(LS_nal_clean)+length(LS_nal_doublet))\n",
    "doubletrate_LS_nal"
   ]
  },
  {
   "cell_type": "code",
   "execution_count": 23,
   "metadata": {},
   "outputs": [
    {
     "data": {
      "text/html": [
       "10.6580166821131"
      ],
      "text/latex": [
       "10.6580166821131"
      ],
      "text/markdown": [
       "10.6580166821131"
      ],
      "text/plain": [
       "[1] 10.65802"
      ]
     },
     "metadata": {},
     "output_type": "display_data"
    }
   ],
   "source": [
    "LS_one_mor.data <-Read10X(data.dir = \"/Mor_single/analysis\")\n",
    "colnames(LS_one_mor.data) = paste0(colnames(LS_one_mor.data),\"LS_one_mor\")\n",
    "LS_one_mor<- CreateSeuratObject(counts = LS_one_mor.data, min.cells = 3, min.features = 200, project = \"10X_LS_morphine\")\n",
    "LS_one_mor@meta.data$stim <- \"LS_one_mor\"\n",
    "\n",
    "LS_one_mor_clean<-rownames(read.table(file=LS_one_mor/Final_nondoublets_groups_cntl.txt\"))\n",
    "LS_one_mor_doublet<-rownames(read.table(file=LS_one_mor/Final_doublets_groups_cntl.txt\"))\n",
    "doubletrate_LS_one_mor<-100*length(LS_one_mor_doublet)/(length(LS_one_mor_clean)+length(LS_one_mor_doublet))\n",
    "doubletrate_LS_one_mor"
   ]
  },
  {
   "cell_type": "code",
   "execution_count": 25,
   "metadata": {},
   "outputs": [
    {
     "data": {
      "text/html": [
       "7.48506132718314"
      ],
      "text/latex": [
       "7.48506132718314"
      ],
      "text/markdown": [
       "7.48506132718314"
      ],
      "text/plain": [
       "[1] 7.485061"
      ]
     },
     "metadata": {},
     "output_type": "display_data"
    }
   ],
   "source": [
    "LS_nal_no_mor.data <-Read10X(data.dir = \"/Nal_no_mor/analysis\")\n",
    "colnames(LS_nal_no_mor.data) = paste0(colnames(LS_nal_no_mor.data),\"LS_nal_no_mor\")\n",
    "LS_nal_no_mor<- CreateSeuratObject(counts = LS_nal_no_mor.data, min.cells = 3, min.features = 200, project = \"10X_LS_morphine\")\n",
    "LS_nal_no_mor@meta.data$stim <- \"LS_nal_no_mor\"\n",
    "\n",
    "LS_nal_no_mor_clean<-rownames(read.table(file=LS_nal_no_mor/Final_nondoublets_groups_cntl.txt\"))\n",
    "LS_nal_no_mor_doublet<-rownames(read.table(file=LS_nal_no_mor/Final_doublets_groups_cntl.txt\"))\n",
    "doubletrate_LS_nal_no_mor<-100*length(LS_nal_no_mor_doublet)/(length(LS_nal_no_mor_clean)+length(LS_nal_no_mor_doublet))\n",
    "doubletrate_LS_nal_no_mor"
   ]
  },
  {
   "cell_type": "code",
   "execution_count": null,
   "metadata": {},
   "outputs": [],
   "source": []
  }
 ],
 "metadata": {
  "kernelspec": {
   "display_name": "R",
   "language": "R",
   "name": "ir"
  },
  "language_info": {
   "codemirror_mode": "r",
   "file_extension": ".r",
   "mimetype": "text/x-r-source",
   "name": "R",
   "pygments_lexer": "r",
   "version": "4.1.2"
  }
 },
 "nbformat": 4,
 "nbformat_minor": 2
}
