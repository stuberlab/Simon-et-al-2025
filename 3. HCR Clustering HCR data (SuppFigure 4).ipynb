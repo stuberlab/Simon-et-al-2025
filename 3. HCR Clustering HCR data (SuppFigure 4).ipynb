{
 "cells": [
  {
   "cell_type": "markdown",
   "metadata": {},
   "source": [
    "## Clustering HCR data (SuppFigure 4)"
   ]
  },
  {
   "cell_type": "markdown",
   "metadata": {},
   "source": [
    "To examine similarities between the snRNAseq and HCR datasets, we clustered HCR data using the Seurat pipeline"
   ]
  },
  {
   "cell_type": "markdown",
   "metadata": {},
   "source": [
    "#### Import libraries"
   ]
  },
  {
   "cell_type": "code",
   "execution_count": 1,
   "metadata": {
    "scrolled": true
   },
   "outputs": [
    {
     "name": "stderr",
     "output_type": "stream",
     "text": [
      "Attaching SeuratObject\n",
      "\n"
     ]
    }
   ],
   "source": [
    "library(Seurat)\n",
    "library('xlsx')\n",
    "library(data.table)"
   ]
  },
  {
   "cell_type": "markdown",
   "metadata": {},
   "source": [
    "#### Formatting the HCR data as a digital expression matrix"
   ]
  },
  {
   "cell_type": "markdown",
   "metadata": {},
   "source": [
    "Thresholding cells based on spot counts"
   ]
  },
  {
   "cell_type": "code",
   "execution_count": 2,
   "metadata": {},
   "outputs": [],
   "source": [
    "ct.t <- readRDS('HCR_snRNAseq_files/counts_no_threshold.rds')"
   ]
  },
  {
   "cell_type": "code",
   "execution_count": 3,
   "metadata": {},
   "outputs": [],
   "source": [
    "ct.t[ct.t<5]=0"
   ]
  },
  {
   "cell_type": "code",
   "execution_count": null,
   "metadata": {},
   "outputs": [],
   "source": [
    "saveRDS(ct.t, file='HCR_snRNAseq_files/counts_threshold.rds')"
   ]
  },
  {
   "cell_type": "code",
   "execution_count": null,
   "metadata": {},
   "outputs": [],
   "source": [
    "ct.t <- readRDS(file='HCR_snRNAseq_files/counts_threshold.rds')"
   ]
  },
  {
   "cell_type": "code",
   "execution_count": 4,
   "metadata": {},
   "outputs": [],
   "source": [
    "ct.mask <- ct.t == 0"
   ]
  },
  {
   "cell_type": "code",
   "execution_count": 7,
   "metadata": {},
   "outputs": [],
   "source": [
    "int <- readRDS(file = 'HCR_snRNAseq_files/intensity.rds')"
   ]
  },
  {
   "cell_type": "code",
   "execution_count": 8,
   "metadata": {},
   "outputs": [
    {
     "name": "stderr",
     "output_type": "stream",
     "text": [
      "-- \u001b[1mAttaching packages\u001b[22m ------------------------------------------------------------------------------- tidyverse 1.3.1 --\n",
      "\n",
      "\u001b[32mv\u001b[39m \u001b[34mggplot2\u001b[39m 3.3.5     \u001b[32mv\u001b[39m \u001b[34mpurrr  \u001b[39m 0.3.4\n",
      "\u001b[32mv\u001b[39m \u001b[34mtibble \u001b[39m 3.1.6     \u001b[32mv\u001b[39m \u001b[34mdplyr  \u001b[39m 1.0.7\n",
      "\u001b[32mv\u001b[39m \u001b[34mtidyr  \u001b[39m 1.1.4     \u001b[32mv\u001b[39m \u001b[34mstringr\u001b[39m 1.4.0\n",
      "\u001b[32mv\u001b[39m \u001b[34mreadr  \u001b[39m 2.1.1     \u001b[32mv\u001b[39m \u001b[34mforcats\u001b[39m 0.5.1\n",
      "\n",
      "-- \u001b[1mConflicts\u001b[22m ---------------------------------------------------------------------------------- tidyverse_conflicts() --\n",
      "\u001b[31mx\u001b[39m \u001b[34mdplyr\u001b[39m::\u001b[32mbetween()\u001b[39m   masks \u001b[34mdata.table\u001b[39m::between()\n",
      "\u001b[31mx\u001b[39m \u001b[34mdplyr\u001b[39m::\u001b[32mfilter()\u001b[39m    masks \u001b[34mstats\u001b[39m::filter()\n",
      "\u001b[31mx\u001b[39m \u001b[34mdplyr\u001b[39m::\u001b[32mfirst()\u001b[39m     masks \u001b[34mdata.table\u001b[39m::first()\n",
      "\u001b[31mx\u001b[39m \u001b[34mdplyr\u001b[39m::\u001b[32mlag()\u001b[39m       masks \u001b[34mstats\u001b[39m::lag()\n",
      "\u001b[31mx\u001b[39m \u001b[34mdplyr\u001b[39m::\u001b[32mlast()\u001b[39m      masks \u001b[34mdata.table\u001b[39m::last()\n",
      "\u001b[31mx\u001b[39m \u001b[34mpurrr\u001b[39m::\u001b[32mtranspose()\u001b[39m masks \u001b[34mdata.table\u001b[39m::transpose()\n",
      "\n"
     ]
    }
   ],
   "source": [
    "library(tidyverse)\n",
    "int2 <- int %>% remove_rownames %>% column_to_rownames(var=\"id\")\n",
    "\n",
    "int.t <- transpose(int2)\n",
    "\n",
    "int.t <- as.data.frame(t(as.matrix(int2)))\n",
    "\n",
    "int.t.masked <- replace(int.t, !ct.mask, 0)"
   ]
  },
  {
   "cell_type": "code",
   "execution_count": 9,
   "metadata": {},
   "outputs": [],
   "source": [
    "saveRDS(int.t.masked, file='HCR_snRNAseq_files/intensity_threshold.rds')"
   ]
  },
  {
   "cell_type": "code",
   "execution_count": 10,
   "metadata": {},
   "outputs": [],
   "source": [
    "saveRDS(ct.t, file='HCR_snRNAseq_files/counts_threshold.rds')"
   ]
  },
  {
   "cell_type": "code",
   "execution_count": null,
   "metadata": {},
   "outputs": [],
   "source": [
    "int <- readRDS(file='HCR_snRNAseq_files/intensity_threshold.rds')"
   ]
  },
  {
   "cell_type": "markdown",
   "metadata": {},
   "source": [
    "#### Creating a seurat object based on cell intensity values"
   ]
  },
  {
   "cell_type": "code",
   "execution_count": 11,
   "metadata": {},
   "outputs": [],
   "source": [
    "ct.t <- readRDS(file='HCR_snRNAseq_files/counts_threshold.rds')\n",
    "rownames(ct.t) <- c('Drd2','Drd3','Esr1','Foxp2','Met','Nts','Onecut2','Pax6','Samd3','Sst',\"Tacr1\",'Slc32a1','Slc17a6','Col15a1','Crhr2')"
   ]
  },
  {
   "cell_type": "code",
   "execution_count": 12,
   "metadata": {},
   "outputs": [],
   "source": [
    "int <- readRDS(file='HCR_snRNAseq_files/intensity_threshold.rds')\n",
    "rownames(int) <- c('Drd2','Drd3','Esr1','Foxp2','Met','Nts','Onecut2','Pax6','Samd3','Sst',\"Tacr1\",'Slc32a1','Slc17a6','Col15a1','Crhr2')"
   ]
  },
  {
   "cell_type": "code",
   "execution_count": 13,
   "metadata": {
    "scrolled": true
   },
   "outputs": [],
   "source": [
    "LS.HCR<-CreateSeuratObject(ct.t)"
   ]
  },
  {
   "cell_type": "code",
   "execution_count": 14,
   "metadata": {},
   "outputs": [],
   "source": [
    "saveRDS(LS.HCR, \"HCR_snRNAseq_files/LS_HCR_ct_threshold.rds\")"
   ]
  },
  {
   "cell_type": "code",
   "execution_count": 15,
   "metadata": {},
   "outputs": [],
   "source": [
    "LS.HCR <- readRDS(\"HCR_snRNAseq_files/LS_HCR_ct_threshold.rds\")"
   ]
  },
  {
   "cell_type": "code",
   "execution_count": 16,
   "metadata": {},
   "outputs": [],
   "source": [
    "drd2 <- int[1,]\n",
    "drd3 <- int[2,]\n",
    "esr1 <- int[3,]\n",
    "foxp2 <- int[4,]\n",
    "met <- int[5,]\n",
    "nts <- int[6,]\n",
    "onecut2 <- int[7,]\n",
    "pax6 <- int[8,]\n",
    "samd3 <- int[9,]\n",
    "sst <- int[10,]\n",
    "tacr1 <- int[11,]\n",
    "vgat <- int[12,]\n",
    "vglut2<- int[13,]\n",
    "col15a1 <- int[14,]\n",
    "crhr2 <- int[15,] "
   ]
  },
  {
   "cell_type": "code",
   "execution_count": 17,
   "metadata": {},
   "outputs": [],
   "source": [
    "LS.HCR@meta.data$drd2 <- unlist(drd2)\n",
    "LS.HCR@meta.data$drd3 <- unlist(drd3)\n",
    "LS.HCR@meta.data$esr1 <- unlist(esr1)\n",
    "LS.HCR@meta.data$foxp2 <- unlist(foxp2)\n",
    "LS.HCR@meta.data$met <- unlist(met)\n",
    "LS.HCR@meta.data$nts <- unlist(nts)\n",
    "LS.HCR@meta.data$onecut2 <- unlist(onecut2)\n",
    "LS.HCR@meta.data$pax6 <- unlist(pax6)\n",
    "LS.HCR@meta.data$samd3 <- unlist(samd3)\n",
    "LS.HCR@meta.data$sst <- unlist(sst)\n",
    "LS.HCR@meta.data$tacr1 <- unlist(tacr1)\n",
    "LS.HCR@meta.data$vgat <- unlist(vgat)\n",
    "LS.HCR@meta.data$vglut2 <- unlist(vglut2)\n",
    "LS.HCR@meta.data$col15a1 <- unlist(col15a1)\n",
    "LS.HCR@meta.data$crhr2 <- unlist(crhr2)"
   ]
  },
  {
   "cell_type": "code",
   "execution_count": 18,
   "metadata": {},
   "outputs": [],
   "source": [
    "LS.HCR <- subset(x = LS.HCR, subset = nCount_RNA > 0 & nCount_RNA < 2000 & nFeature_RNA > 1) "
   ]
  },
  {
   "cell_type": "code",
   "execution_count": 19,
   "metadata": {},
   "outputs": [],
   "source": [
    "library('ggplot2')"
   ]
  },
  {
   "cell_type": "code",
   "execution_count": 20,
   "metadata": {},
   "outputs": [],
   "source": [
    "#sampling only a subset of cells due to the size of the dataset\n",
    "#set.seed(140)\n",
    "#sam <- sample(nrow(LS.HCR@meta.data), size=20000)"
   ]
  },
  {
   "cell_type": "code",
   "execution_count": 21,
   "metadata": {},
   "outputs": [],
   "source": [
    "#sam <- rownames(LS.HCR@meta.data[sam,])\n",
    "#LS.HCR <- subset(LS.HCR, cells=sam)"
   ]
  },
  {
   "cell_type": "code",
   "execution_count": 22,
   "metadata": {},
   "outputs": [
    {
     "data": {
      "text/html": [
       "<table class=\"dataframe\">\n",
       "<caption>A data.frame: 20000 × 18</caption>\n",
       "<thead>\n",
       "\t<tr><th></th><th scope=col>orig.ident</th><th scope=col>nCount_RNA</th><th scope=col>nFeature_RNA</th><th scope=col>drd2</th><th scope=col>drd3</th><th scope=col>esr1</th><th scope=col>foxp2</th><th scope=col>met</th><th scope=col>nts</th><th scope=col>onecut2</th><th scope=col>pax6</th><th scope=col>samd3</th><th scope=col>sst</th><th scope=col>tacr1</th><th scope=col>vgat</th><th scope=col>vglut2</th><th scope=col>col15a1</th><th scope=col>crhr2</th></tr>\n",
       "\t<tr><th></th><th scope=col>&lt;fct&gt;</th><th scope=col>&lt;dbl&gt;</th><th scope=col>&lt;int&gt;</th><th scope=col>&lt;dbl&gt;</th><th scope=col>&lt;dbl&gt;</th><th scope=col>&lt;dbl&gt;</th><th scope=col>&lt;dbl&gt;</th><th scope=col>&lt;dbl&gt;</th><th scope=col>&lt;dbl&gt;</th><th scope=col>&lt;dbl&gt;</th><th scope=col>&lt;dbl&gt;</th><th scope=col>&lt;dbl&gt;</th><th scope=col>&lt;dbl&gt;</th><th scope=col>&lt;dbl&gt;</th><th scope=col>&lt;dbl&gt;</th><th scope=col>&lt;dbl&gt;</th><th scope=col>&lt;dbl&gt;</th><th scope=col>&lt;dbl&gt;</th></tr>\n",
       "</thead>\n",
       "<tbody>\n",
       "\t<tr><th scope=row>WT-2-S4 _ 9783</th><td>SeuratProject</td><td> 91</td><td>3</td><td>0.615064</td><td>0.213441</td><td>0.000000</td><td>0.000000</td><td>1.933600</td><td>0.000000</td><td>0.000000</td><td>0.000000</td><td>0.000000</td><td> 0.078304</td><td>0.000000</td><td>0.000000</td><td>0.000000</td><td>0.000000</td><td>0.000000</td></tr>\n",
       "\t<tr><th scope=row>WT-3-S4 _ 2845</th><td>SeuratProject</td><td>130</td><td>4</td><td>1.752996</td><td>0.049256</td><td>0.000000</td><td>1.411996</td><td>2.522142</td><td>0.000000</td><td>0.000000</td><td>0.000000</td><td>0.000000</td><td> 0.000000</td><td>0.000000</td><td>0.000000</td><td>0.000000</td><td>0.298060</td><td>0.000000</td></tr>\n",
       "\t<tr><th scope=row>WT-5-S6 _ 6885</th><td>SeuratProject</td><td>155</td><td>4</td><td>0.000000</td><td>0.000000</td><td>0.000000</td><td>1.327377</td><td>0.000000</td><td>0.000000</td><td>0.000000</td><td>0.000000</td><td>0.000000</td><td> 0.088408</td><td>5.339819</td><td>0.000000</td><td>0.253856</td><td>0.000000</td><td>2.866932</td></tr>\n",
       "\t<tr><th scope=row>WT-1-S5 - 3340</th><td>SeuratProject</td><td>910</td><td>2</td><td>0.000000</td><td>0.000000</td><td>0.000000</td><td>0.000000</td><td>0.000000</td><td>0.000000</td><td>0.000000</td><td>0.000000</td><td>0.000000</td><td> 0.000000</td><td>0.000000</td><td>0.000000</td><td>0.000000</td><td>0.000000</td><td>4.718137</td></tr>\n",
       "\t<tr><th scope=row>WT-4-S5 _ 296</th><td>SeuratProject</td><td>880</td><td>8</td><td>0.000000</td><td>0.141452</td><td>0.000000</td><td>0.000000</td><td>0.000000</td><td>0.000000</td><td>0.000000</td><td>0.000000</td><td>0.131348</td><td> 0.166711</td><td>0.526657</td><td>0.000000</td><td>1.280647</td><td>0.000000</td><td>0.000000</td></tr>\n",
       "\t<tr><th scope=row>WT-7-S6 _ 4263</th><td>SeuratProject</td><td>546</td><td>6</td><td>0.000000</td><td>1.492825</td><td>0.000000</td><td>0.000000</td><td>0.000000</td><td>0.000000</td><td>0.000000</td><td>0.222282</td><td>0.065674</td><td> 0.247541</td><td>2.706536</td><td>0.000000</td><td>0.510238</td><td>0.000000</td><td>3.769953</td></tr>\n",
       "\t<tr><th scope=row>WT-2-S6 _ 1771</th><td>SeuratProject</td><td>418</td><td>3</td><td>1.257914</td><td>0.075778</td><td>0.000000</td><td>1.292014</td><td>0.000000</td><td>0.132611</td><td>0.000000</td><td>0.109878</td><td>0.138926</td><td> 0.433197</td><td>0.707261</td><td>0.000000</td><td>0.122508</td><td>0.000000</td><td>0.558231</td></tr>\n",
       "\t<tr><th scope=row>WT-4-S4 _ 6846</th><td>SeuratProject</td><td>111</td><td>2</td><td>0.825980</td><td>0.000000</td><td>0.000000</td><td>0.620116</td><td>0.603698</td><td>0.000000</td><td>0.000000</td><td>0.000000</td><td>0.000000</td><td> 0.000000</td><td>0.000000</td><td>0.000000</td><td>0.000000</td><td>0.178078</td><td>0.116193</td></tr>\n",
       "\t<tr><th scope=row>WT-7-S6 _ 9435</th><td>SeuratProject</td><td>103</td><td>2</td><td>0.325845</td><td>0.000000</td><td>0.000000</td><td>0.000000</td><td>0.628957</td><td>0.000000</td><td>0.000000</td><td>0.000000</td><td>0.137663</td><td> 0.137663</td><td>0.000000</td><td>0.000000</td><td>0.000000</td><td>0.176815</td><td>0.000000</td></tr>\n",
       "\t<tr><th scope=row>WT-7-S6 _ 10103</th><td>SeuratProject</td><td>103</td><td>2</td><td>0.458457</td><td>3.758586</td><td>0.000000</td><td>1.540818</td><td>0.536760</td><td>0.418042</td><td>0.000000</td><td>0.087145</td><td>0.074515</td><td> 0.000000</td><td>0.000000</td><td>0.000000</td><td>0.000000</td><td>0.000000</td><td>0.000000</td></tr>\n",
       "\t<tr><th scope=row>WT-7-S6 _ 8533</th><td>SeuratProject</td><td>125</td><td>2</td><td>0.000000</td><td>0.404149</td><td>0.000000</td><td>0.000000</td><td>1.586285</td><td>0.378890</td><td>0.000000</td><td>0.041678</td><td>0.132611</td><td> 0.000000</td><td>0.000000</td><td>0.000000</td><td>0.818402</td><td>0.454668</td><td>0.000000</td></tr>\n",
       "\t<tr><th scope=row>WT-5-S3 _ 827</th><td>SeuratProject</td><td> 69</td><td>3</td><td>0.573386</td><td>0.000000</td><td>0.000000</td><td>3.322863</td><td>0.574649</td><td>0.391519</td><td>0.000000</td><td>0.000000</td><td>0.000000</td><td> 0.000000</td><td>1.854034</td><td>0.000000</td><td>0.000000</td><td>0.000000</td><td>0.000000</td></tr>\n",
       "\t<tr><th scope=row>WT-6-S3 _ 1467</th><td>SeuratProject</td><td>190</td><td>3</td><td>0.419305</td><td>0.000000</td><td>0.000000</td><td>0.000000</td><td>0.429408</td><td>0.603698</td><td>0.000000</td><td>0.000000</td><td>0.000000</td><td>13.988608</td><td>0.000000</td><td>0.000000</td><td>0.267749</td><td>0.000000</td><td>0.117456</td></tr>\n",
       "\t<tr><th scope=row>WT-2-S4 _ 7446</th><td>SeuratProject</td><td>148</td><td>4</td><td>0.000000</td><td>0.366260</td><td>0.000000</td><td>0.000000</td><td>0.000000</td><td>0.409201</td><td>0.000000</td><td>0.000000</td><td>0.065674</td><td> 0.071989</td><td>2.661069</td><td>0.000000</td><td>0.000000</td><td>0.243752</td><td>3.197829</td></tr>\n",
       "\t<tr><th scope=row>WT-1-S5 - 10466</th><td>SeuratProject</td><td>103</td><td>2</td><td>0.000000</td><td>0.000000</td><td>0.000000</td><td>0.000000</td><td>0.000000</td><td>0.000000</td><td>0.000000</td><td>0.000000</td><td>0.000000</td><td> 0.000000</td><td>0.000000</td><td>0.000000</td><td>0.000000</td><td>0.000000</td><td>3.247549</td></tr>\n",
       "\t<tr><th scope=row>WT-6-S5.afi _ 3556</th><td>SeuratProject</td><td> 26</td><td>2</td><td>1.004058</td><td>0.000000</td><td>0.000000</td><td>0.000000</td><td>0.409201</td><td>0.142715</td><td>0.000000</td><td>0.000000</td><td>0.000000</td><td> 0.226071</td><td>0.000000</td><td>0.000000</td><td>0.000000</td><td>0.000000</td><td>1.372844</td></tr>\n",
       "\t<tr><th scope=row>WT-6-S4 _ 2878</th><td>SeuratProject</td><td>582</td><td>8</td><td>0.837203</td><td>0.000000</td><td>0.000000</td><td>2.143967</td><td>4.639195</td><td>0.729822</td><td>0.000000</td><td>0.000000</td><td>0.000000</td><td> 0.000000</td><td>0.158341</td><td>0.000000</td><td>0.000000</td><td>0.000000</td><td>1.548825</td></tr>\n",
       "\t<tr><th scope=row>WT-6-S5.afi _ 3854</th><td>SeuratProject</td><td>500</td><td>6</td><td>0.000000</td><td>0.000000</td><td>0.000000</td><td>0.000000</td><td>0.265223</td><td>0.303112</td><td>0.000000</td><td>0.000000</td><td>0.000000</td><td> 0.000000</td><td>0.000000</td><td>0.000000</td><td>0.545601</td><td>0.000000</td><td>1.715107</td></tr>\n",
       "\t<tr><th scope=row>WT-8-S6 _ 4550</th><td>SeuratProject</td><td>329</td><td>5</td><td>0.330897</td><td>0.556968</td><td>0.138926</td><td>0.000000</td><td>1.197291</td><td>0.000000</td><td>0.000000</td><td>2.542350</td><td>0.000000</td><td> 0.068200</td><td>0.000000</td><td>0.000000</td><td>2.337749</td><td>0.000000</td><td>0.752728</td></tr>\n",
       "\t<tr><th scope=row>WT-3-S4 _ 3055</th><td>SeuratProject</td><td>373</td><td>5</td><td>0.000000</td><td>0.000000</td><td>0.000000</td><td>0.718627</td><td>0.000000</td><td>0.000000</td><td>0.000000</td><td>0.000000</td><td>0.000000</td><td> 0.661794</td><td>0.000000</td><td>0.000000</td><td>0.000000</td><td>0.399097</td><td>1.975278</td></tr>\n",
       "\t<tr><th scope=row>WT-7-S6 _ 7120</th><td>SeuratProject</td><td> 82</td><td>4</td><td>0.000000</td><td>0.000000</td><td>0.000000</td><td>0.000000</td><td>0.000000</td><td>0.000000</td><td>0.000000</td><td>0.000000</td><td>0.000000</td><td> 0.000000</td><td>0.000000</td><td>0.000000</td><td>0.000000</td><td>0.358682</td><td>0.568335</td></tr>\n",
       "\t<tr><th scope=row>WT-4-S3 _ 6768</th><td>SeuratProject</td><td> 12</td><td>2</td><td>0.466034</td><td>0.000000</td><td>0.066937</td><td>0.000000</td><td>0.000000</td><td>0.169237</td><td>0.000000</td><td>0.000000</td><td>0.000000</td><td> 0.000000</td><td>0.000000</td><td>0.000000</td><td>0.000000</td><td>0.258908</td><td>0.318267</td></tr>\n",
       "\t<tr><th scope=row>WT-5-S4 _ 3408</th><td>SeuratProject</td><td>161</td><td>3</td><td>0.219756</td><td>0.433197</td><td>0.000000</td><td>3.320337</td><td>0.841135</td><td>0.000000</td><td>0.000000</td><td>0.000000</td><td>0.000000</td><td> 0.000000</td><td>0.280378</td><td>0.000000</td><td>1.509244</td><td>0.716102</td><td>0.000000</td></tr>\n",
       "\t<tr><th scope=row>WT-4-S5 _ 7327</th><td>SeuratProject</td><td>231</td><td>5</td><td>0.000000</td><td>0.348579</td><td>0.306901</td><td>0.000000</td><td>1.721422</td><td>0.362471</td><td>0.000000</td><td>0.000000</td><td>0.000000</td><td> 0.166711</td><td>1.992960</td><td>0.000000</td><td>0.275327</td><td>0.000000</td><td>1.722685</td></tr>\n",
       "\t<tr><th scope=row>WT-4-S4 _ 5923</th><td>SeuratProject</td><td> 48</td><td>3</td><td>0.000000</td><td>0.159134</td><td>0.000000</td><td>3.204144</td><td>2.034638</td><td>0.362471</td><td>0.000000</td><td>0.213441</td><td>0.000000</td><td> 0.000000</td><td>0.000000</td><td>0.121245</td><td>0.394045</td><td>0.822191</td><td>0.000000</td></tr>\n",
       "\t<tr><th scope=row>WT-8-S4 _ 1120</th><td>SeuratProject</td><td>404</td><td>4</td><td>0.000000</td><td>1.016687</td><td>0.000000</td><td>5.522949</td><td>0.000000</td><td>0.000000</td><td>0.000000</td><td>0.257645</td><td>0.136400</td><td> 0.000000</td><td>0.966169</td><td>0.000000</td><td>1.033106</td><td>0.290482</td><td>0.632746</td></tr>\n",
       "\t<tr><th scope=row>WT-7-S3 _ 2727</th><td>SeuratProject</td><td>393</td><td>7</td><td>0.000000</td><td>0.000000</td><td>0.000000</td><td>5.788172</td><td>0.000000</td><td>0.000000</td><td>0.000000</td><td>0.524131</td><td>0.000000</td><td> 0.000000</td><td>0.464771</td><td>0.000000</td><td>0.000000</td><td>0.000000</td><td>3.732064</td></tr>\n",
       "\t<tr><th scope=row>WT-3-S2 _ 4572</th><td>SeuratProject</td><td>583</td><td>7</td><td>0.000000</td><td>0.000000</td><td>0.000000</td><td>0.000000</td><td>0.973747</td><td>0.000000</td><td>0.000000</td><td>0.000000</td><td>0.065674</td><td> 0.035363</td><td>1.321062</td><td>0.000000</td><td>0.395308</td><td>0.000000</td><td>0.000000</td></tr>\n",
       "\t<tr><th scope=row>WT-5-S4 _ 2040</th><td>SeuratProject</td><td> 76</td><td>3</td><td>0.114930</td><td>0.000000</td><td>0.000000</td><td>0.430671</td><td>0.704735</td><td>0.000000</td><td>0.092196</td><td>0.000000</td><td>0.000000</td><td> 0.000000</td><td>2.801258</td><td>0.000000</td><td>0.000000</td><td>0.000000</td><td>0.000000</td></tr>\n",
       "\t<tr><th scope=row>WT-1-S2 _ 5571</th><td>SeuratProject</td><td>458</td><td>2</td><td>0.000000</td><td>0.000000</td><td>0.000000</td><td>0.000000</td><td>1.605392</td><td>1.703431</td><td>0.000000</td><td>0.000000</td><td>0.000000</td><td> 0.324755</td><td>0.000000</td><td>0.000000</td><td>1.176471</td><td>0.000000</td><td>0.000000</td></tr>\n",
       "\t<tr><th scope=row>...</th><td>...</td><td>...</td><td>...</td><td>...</td><td>...</td><td>...</td><td>...</td><td>...</td><td>...</td><td>...</td><td>...</td><td>...</td><td>...</td><td>...</td><td>...</td><td>...</td><td>...</td><td>...</td></tr>\n",
       "\t<tr><th scope=row>WT-1-S4 _ 3503</th><td>SeuratProject</td><td>1018</td><td>4</td><td>0.000000</td><td>2.426471</td><td>0.000000</td><td> 0.000000</td><td>0.000000</td><td>0.000000</td><td>0</td><td>0.000000</td><td>0.000000</td><td>0.000000</td><td>6.636029</td><td>0.000000</td><td>0.000000</td><td>0.000000</td><td>0.000000</td></tr>\n",
       "\t<tr><th scope=row>WT-4-S5 _ 5584</th><td>SeuratProject</td><td> 588</td><td>8</td><td>0.000000</td><td>0.000000</td><td>0.000000</td><td> 1.250336</td><td>0.000000</td><td>0.000000</td><td>0</td><td>0.000000</td><td>0.000000</td><td>0.341001</td><td>0.466034</td><td>0.000000</td><td>0.000000</td><td>0.000000</td><td>0.000000</td></tr>\n",
       "\t<tr><th scope=row>WT-4-S4 _ 8192</th><td>SeuratProject</td><td> 196</td><td>4</td><td>0.000000</td><td>4.405224</td><td>0.000000</td><td> 1.036895</td><td>1.908341</td><td>0.267749</td><td>0</td><td>0.000000</td><td>0.000000</td><td>0.294271</td><td>1.665852</td><td>0.000000</td><td>0.000000</td><td>0.501397</td><td>0.000000</td></tr>\n",
       "\t<tr><th scope=row>WT-6-S4 _ 1102</th><td>SeuratProject</td><td> 544</td><td>6</td><td>0.000000</td><td>0.000000</td><td>0.000000</td><td> 2.473388</td><td>0.669762</td><td>0.222041</td><td>0</td><td>0.000000</td><td>0.000000</td><td>0.000000</td><td>0.000000</td><td>0.000000</td><td>1.275824</td><td>0.000000</td><td>2.629909</td></tr>\n",
       "\t<tr><th scope=row>WT-8-S4 _ 7864</th><td>SeuratProject</td><td> 556</td><td>2</td><td>0.000000</td><td>0.127560</td><td>0.065674</td><td> 2.224082</td><td>0.150293</td><td>0.000000</td><td>0</td><td>0.325845</td><td>0.075778</td><td>0.000000</td><td>0.000000</td><td>0.123771</td><td>0.762831</td><td>0.604961</td><td>0.937121</td></tr>\n",
       "\t<tr><th scope=row>WT-2-S3 _ 1211</th><td>SeuratProject</td><td>  16</td><td>2</td><td>0.785565</td><td>0.000000</td><td>0.000000</td><td> 1.720159</td><td>0.856291</td><td>0.000000</td><td>0</td><td>0.000000</td><td>0.000000</td><td>0.272801</td><td>0.746413</td><td>0.000000</td><td>0.000000</td><td>0.167974</td><td>0.107352</td></tr>\n",
       "\t<tr><th scope=row>WT-7-S6 _ 8918</th><td>SeuratProject</td><td> 434</td><td>7</td><td>0.000000</td><td>0.534234</td><td>0.000000</td><td> 0.000000</td><td>1.087413</td><td>0.000000</td><td>0</td><td>0.041678</td><td>0.000000</td><td>0.000000</td><td>0.685790</td><td>0.000000</td><td>0.000000</td><td>0.000000</td><td>0.599909</td></tr>\n",
       "\t<tr><th scope=row>WT-2-S2 _ 3966</th><td>SeuratProject</td><td>  43</td><td>2</td><td>0.233649</td><td>0.631483</td><td>0.000000</td><td> 0.000000</td><td>0.000000</td><td>0.000000</td><td>0</td><td>0.000000</td><td>0.000000</td><td>0.128823</td><td>1.249073</td><td>0.000000</td><td>0.000000</td><td>0.000000</td><td>0.000000</td></tr>\n",
       "\t<tr><th scope=row>WT-7-S6 _ 9555</th><td>SeuratProject</td><td> 244</td><td>6</td><td>0.000000</td><td>0.000000</td><td>0.000000</td><td> 0.000000</td><td>0.527920</td><td>0.490031</td><td>0</td><td>0.000000</td><td>0.540549</td><td>0.000000</td><td>0.000000</td><td>0.000000</td><td>0.258908</td><td>0.000000</td><td>0.824717</td></tr>\n",
       "\t<tr><th scope=row>WT-3-S6 _ 1004</th><td>SeuratProject</td><td> 386</td><td>5</td><td>0.592331</td><td>0.285430</td><td>0.000000</td><td> 0.218493</td><td>0.000000</td><td>0.000000</td><td>0</td><td>0.000000</td><td>0.065674</td><td>0.000000</td><td>0.294271</td><td>0.000000</td><td>0.000000</td><td>0.000000</td><td>1.106358</td></tr>\n",
       "\t<tr><th scope=row>WT-1-S5 - 548</th><td>SeuratProject</td><td> 179</td><td>3</td><td>0.000000</td><td>0.000000</td><td>0.000000</td><td> 0.000000</td><td>2.763480</td><td>0.000000</td><td>0</td><td>0.000000</td><td>0.000000</td><td>3.345588</td><td>0.000000</td><td>0.000000</td><td>0.000000</td><td>0.000000</td><td>0.000000</td></tr>\n",
       "\t<tr><th scope=row>WT-6-S4 _ 6372</th><td>SeuratProject</td><td> 119</td><td>2</td><td>0.000000</td><td>0.050960</td><td>0.000000</td><td> 0.000000</td><td>0.374921</td><td>0.216581</td><td>0</td><td>0.076440</td><td>0.000000</td><td>0.161981</td><td>0.000000</td><td>0.000000</td><td>0.000000</td><td>0.087360</td><td>0.567842</td></tr>\n",
       "\t<tr><th scope=row>WT-3-S6 _ 9243</th><td>SeuratProject</td><td>  36</td><td>3</td><td>0.000000</td><td>0.514027</td><td>0.000000</td><td> 0.108615</td><td>1.699952</td><td>0.000000</td><td>0</td><td>0.000000</td><td>0.000000</td><td>0.034100</td><td>0.000000</td><td>0.383942</td><td>0.420568</td><td>0.000000</td><td>1.398103</td></tr>\n",
       "\t<tr><th scope=row>WT-7-S4 _ 1730</th><td>SeuratProject</td><td> 378</td><td>5</td><td>0.219756</td><td>0.130085</td><td>0.000000</td><td> 0.000000</td><td>0.000000</td><td>0.000000</td><td>0</td><td>0.260171</td><td>0.271538</td><td>0.000000</td><td>0.000000</td><td>0.000000</td><td>0.000000</td><td>0.000000</td><td>0.000000</td></tr>\n",
       "\t<tr><th scope=row>WT-3-S6 _ 906</th><td>SeuratProject</td><td> 147</td><td>5</td><td>0.563283</td><td>0.050519</td><td>0.000000</td><td> 0.000000</td><td>0.000000</td><td>0.000000</td><td>0</td><td>0.000000</td><td>0.000000</td><td>0.034100</td><td>0.000000</td><td>0.000000</td><td>0.133874</td><td>0.000000</td><td>0.952276</td></tr>\n",
       "\t<tr><th scope=row>WT-7-S6 _ 4950</th><td>SeuratProject</td><td> 157</td><td>2</td><td>0.237438</td><td>0.045467</td><td>0.000000</td><td> 0.000000</td><td>0.000000</td><td>1.403155</td><td>0</td><td>0.185656</td><td>0.000000</td><td>0.069463</td><td>0.221019</td><td>0.000000</td><td>0.000000</td><td>0.066937</td><td>0.698420</td></tr>\n",
       "\t<tr><th scope=row>WT-1-S3 - 2154</th><td>SeuratProject</td><td>  85</td><td>2</td><td>0.000000</td><td>0.000000</td><td>0.000000</td><td>24.515932</td><td>4.522059</td><td>0.000000</td><td>0</td><td>0.000000</td><td>0.000000</td><td>0.000000</td><td>0.000000</td><td>0.000000</td><td>2.714461</td><td>0.000000</td><td>1.256127</td></tr>\n",
       "\t<tr><th scope=row>WT-6-S4 _ 6487</th><td>SeuratProject</td><td> 122</td><td>2</td><td>0.305761</td><td>0.000000</td><td>0.000000</td><td> 0.000000</td><td>0.000000</td><td>4.457195</td><td>0</td><td>0.000000</td><td>0.000000</td><td>0.309401</td><td>0.000000</td><td>0.000000</td><td>0.000000</td><td>0.349441</td><td>2.034767</td></tr>\n",
       "\t<tr><th scope=row>WT-4-S5 _ 3366</th><td>SeuratProject</td><td> 424</td><td>3</td><td>0.000000</td><td>0.000000</td><td>0.000000</td><td> 1.807304</td><td>2.726743</td><td>0.000000</td><td>0</td><td>0.054308</td><td>0.204600</td><td>0.000000</td><td>0.000000</td><td>0.000000</td><td>0.842398</td><td>0.000000</td><td>0.000000</td></tr>\n",
       "\t<tr><th scope=row>WT-3-S2 _ 801</th><td>SeuratProject</td><td>  24</td><td>3</td><td>0.243752</td><td>2.004327</td><td>0.147767</td><td> 0.000000</td><td>0.000000</td><td>6.827592</td><td>0</td><td>0.000000</td><td>0.066937</td><td>0.069463</td><td>1.065943</td><td>0.000000</td><td>2.782313</td><td>0.114930</td><td>6.999356</td></tr>\n",
       "\t<tr><th scope=row>WT-2-S2 _ 118</th><td>SeuratProject</td><td> 174</td><td>3</td><td>0.228597</td><td>0.000000</td><td>0.000000</td><td> 0.000000</td><td>0.000000</td><td>0.066937</td><td>0</td><td>0.149030</td><td>0.000000</td><td>0.000000</td><td>2.116730</td><td>0.000000</td><td>0.000000</td><td>0.335949</td><td>1.798463</td></tr>\n",
       "\t<tr><th scope=row>WT-4-S4 _ 3411</th><td>SeuratProject</td><td> 208</td><td>3</td><td>0.000000</td><td>0.169237</td><td>0.000000</td><td> 1.153088</td><td>0.770409</td><td>0.847450</td><td>0</td><td>0.000000</td><td>0.420568</td><td>0.036626</td><td>0.956065</td><td>0.000000</td><td>0.862606</td><td>2.249342</td><td>2.389531</td></tr>\n",
       "\t<tr><th scope=row>WT-4-S3 _ 2368</th><td>SeuratProject</td><td>  23</td><td>3</td><td>0.651690</td><td>0.407938</td><td>0.000000</td><td> 0.759042</td><td>0.910598</td><td>0.000000</td><td>0</td><td>0.275327</td><td>0.000000</td><td>0.000000</td><td>0.000000</td><td>0.000000</td><td>0.000000</td><td>0.175552</td><td>0.442038</td></tr>\n",
       "\t<tr><th scope=row>WT-6-S2 _ 655</th><td>SeuratProject</td><td>  19</td><td>2</td><td>0.000000</td><td>0.000000</td><td>0.000000</td><td> 0.000000</td><td>0.000000</td><td>0.000000</td><td>0</td><td>0.000000</td><td>0.000000</td><td>0.164186</td><td>8.209277</td><td>0.000000</td><td>0.000000</td><td>0.113667</td><td>5.591149</td></tr>\n",
       "\t<tr><th scope=row>WT-4-S4 _ 3829</th><td>SeuratProject</td><td> 125</td><td>4</td><td>0.000000</td><td>2.312490</td><td>0.000000</td><td> 0.000000</td><td>1.207395</td><td>0.344790</td><td>0</td><td>0.165449</td><td>0.071989</td><td>0.348579</td><td>0.399097</td><td>0.000000</td><td>0.000000</td><td>0.755253</td><td>3.677756</td></tr>\n",
       "\t<tr><th scope=row>WT-3-S6 _ 6138</th><td>SeuratProject</td><td> 307</td><td>6</td><td>1.175821</td><td>0.218493</td><td>0.000000</td><td> 0.000000</td><td>0.000000</td><td>0.000000</td><td>0</td><td>0.046730</td><td>0.000000</td><td>0.000000</td><td>0.000000</td><td>0.000000</td><td>0.000000</td><td>0.000000</td><td>0.000000</td></tr>\n",
       "\t<tr><th scope=row>WT-2-S3 _ 1824</th><td>SeuratProject</td><td> 128</td><td>6</td><td>0.000000</td><td>0.000000</td><td>0.000000</td><td> 0.000000</td><td>0.000000</td><td>0.000000</td><td>0</td><td>0.000000</td><td>0.000000</td><td>0.000000</td><td>0.000000</td><td>0.000000</td><td>0.260171</td><td>0.189445</td><td>0.000000</td></tr>\n",
       "\t<tr><th scope=row>WT-7-S4 _ 3283</th><td>SeuratProject</td><td> 299</td><td>4</td><td>0.944698</td><td>0.372575</td><td>0.626431</td><td> 0.000000</td><td>0.000000</td><td>0.217230</td><td>0</td><td>0.572123</td><td>0.000000</td><td>0.000000</td><td>0.000000</td><td>0.000000</td><td>0.660531</td><td>0.000000</td><td>0.241226</td></tr>\n",
       "\t<tr><th scope=row>WT-4-S4 _ 1826</th><td>SeuratProject</td><td> 260</td><td>4</td><td>0.000000</td><td>0.000000</td><td>0.000000</td><td> 0.000000</td><td>1.289488</td><td>0.000000</td><td>0</td><td>0.214704</td><td>0.065674</td><td>0.103563</td><td>0.000000</td><td>0.000000</td><td>0.263960</td><td>0.000000</td><td>0.323319</td></tr>\n",
       "\t<tr><th scope=row>WT-8-S4 _ 7317</th><td>SeuratProject</td><td>  65</td><td>3</td><td>0.313215</td><td>0.044204</td><td>0.000000</td><td> 0.000000</td><td>0.269012</td><td>0.596120</td><td>0</td><td>0.221019</td><td>0.000000</td><td>0.000000</td><td>0.000000</td><td>0.000000</td><td>0.118719</td><td>0.000000</td><td>0.000000</td></tr>\n",
       "</tbody>\n",
       "</table>\n"
      ],
      "text/latex": [
       "A data.frame: 20000 × 18\n",
       "\\begin{tabular}{r|llllllllllllllllll}\n",
       "  & orig.ident & nCount\\_RNA & nFeature\\_RNA & drd2 & drd3 & esr1 & foxp2 & met & nts & onecut2 & pax6 & samd3 & sst & tacr1 & vgat & vglut2 & col15a1 & crhr2\\\\\n",
       "  & <fct> & <dbl> & <int> & <dbl> & <dbl> & <dbl> & <dbl> & <dbl> & <dbl> & <dbl> & <dbl> & <dbl> & <dbl> & <dbl> & <dbl> & <dbl> & <dbl> & <dbl>\\\\\n",
       "\\hline\n",
       "\tWT-2-S4 \\_ 9783 & SeuratProject &  91 & 3 & 0.615064 & 0.213441 & 0.000000 & 0.000000 & 1.933600 & 0.000000 & 0.000000 & 0.000000 & 0.000000 &  0.078304 & 0.000000 & 0.000000 & 0.000000 & 0.000000 & 0.000000\\\\\n",
       "\tWT-3-S4 \\_ 2845 & SeuratProject & 130 & 4 & 1.752996 & 0.049256 & 0.000000 & 1.411996 & 2.522142 & 0.000000 & 0.000000 & 0.000000 & 0.000000 &  0.000000 & 0.000000 & 0.000000 & 0.000000 & 0.298060 & 0.000000\\\\\n",
       "\tWT-5-S6 \\_ 6885 & SeuratProject & 155 & 4 & 0.000000 & 0.000000 & 0.000000 & 1.327377 & 0.000000 & 0.000000 & 0.000000 & 0.000000 & 0.000000 &  0.088408 & 5.339819 & 0.000000 & 0.253856 & 0.000000 & 2.866932\\\\\n",
       "\tWT-1-S5 - 3340 & SeuratProject & 910 & 2 & 0.000000 & 0.000000 & 0.000000 & 0.000000 & 0.000000 & 0.000000 & 0.000000 & 0.000000 & 0.000000 &  0.000000 & 0.000000 & 0.000000 & 0.000000 & 0.000000 & 4.718137\\\\\n",
       "\tWT-4-S5 \\_ 296 & SeuratProject & 880 & 8 & 0.000000 & 0.141452 & 0.000000 & 0.000000 & 0.000000 & 0.000000 & 0.000000 & 0.000000 & 0.131348 &  0.166711 & 0.526657 & 0.000000 & 1.280647 & 0.000000 & 0.000000\\\\\n",
       "\tWT-7-S6 \\_ 4263 & SeuratProject & 546 & 6 & 0.000000 & 1.492825 & 0.000000 & 0.000000 & 0.000000 & 0.000000 & 0.000000 & 0.222282 & 0.065674 &  0.247541 & 2.706536 & 0.000000 & 0.510238 & 0.000000 & 3.769953\\\\\n",
       "\tWT-2-S6 \\_ 1771 & SeuratProject & 418 & 3 & 1.257914 & 0.075778 & 0.000000 & 1.292014 & 0.000000 & 0.132611 & 0.000000 & 0.109878 & 0.138926 &  0.433197 & 0.707261 & 0.000000 & 0.122508 & 0.000000 & 0.558231\\\\\n",
       "\tWT-4-S4 \\_ 6846 & SeuratProject & 111 & 2 & 0.825980 & 0.000000 & 0.000000 & 0.620116 & 0.603698 & 0.000000 & 0.000000 & 0.000000 & 0.000000 &  0.000000 & 0.000000 & 0.000000 & 0.000000 & 0.178078 & 0.116193\\\\\n",
       "\tWT-7-S6 \\_ 9435 & SeuratProject & 103 & 2 & 0.325845 & 0.000000 & 0.000000 & 0.000000 & 0.628957 & 0.000000 & 0.000000 & 0.000000 & 0.137663 &  0.137663 & 0.000000 & 0.000000 & 0.000000 & 0.176815 & 0.000000\\\\\n",
       "\tWT-7-S6 \\_ 10103 & SeuratProject & 103 & 2 & 0.458457 & 3.758586 & 0.000000 & 1.540818 & 0.536760 & 0.418042 & 0.000000 & 0.087145 & 0.074515 &  0.000000 & 0.000000 & 0.000000 & 0.000000 & 0.000000 & 0.000000\\\\\n",
       "\tWT-7-S6 \\_ 8533 & SeuratProject & 125 & 2 & 0.000000 & 0.404149 & 0.000000 & 0.000000 & 1.586285 & 0.378890 & 0.000000 & 0.041678 & 0.132611 &  0.000000 & 0.000000 & 0.000000 & 0.818402 & 0.454668 & 0.000000\\\\\n",
       "\tWT-5-S3 \\_ 827 & SeuratProject &  69 & 3 & 0.573386 & 0.000000 & 0.000000 & 3.322863 & 0.574649 & 0.391519 & 0.000000 & 0.000000 & 0.000000 &  0.000000 & 1.854034 & 0.000000 & 0.000000 & 0.000000 & 0.000000\\\\\n",
       "\tWT-6-S3 \\_ 1467 & SeuratProject & 190 & 3 & 0.419305 & 0.000000 & 0.000000 & 0.000000 & 0.429408 & 0.603698 & 0.000000 & 0.000000 & 0.000000 & 13.988608 & 0.000000 & 0.000000 & 0.267749 & 0.000000 & 0.117456\\\\\n",
       "\tWT-2-S4 \\_ 7446 & SeuratProject & 148 & 4 & 0.000000 & 0.366260 & 0.000000 & 0.000000 & 0.000000 & 0.409201 & 0.000000 & 0.000000 & 0.065674 &  0.071989 & 2.661069 & 0.000000 & 0.000000 & 0.243752 & 3.197829\\\\\n",
       "\tWT-1-S5 - 10466 & SeuratProject & 103 & 2 & 0.000000 & 0.000000 & 0.000000 & 0.000000 & 0.000000 & 0.000000 & 0.000000 & 0.000000 & 0.000000 &  0.000000 & 0.000000 & 0.000000 & 0.000000 & 0.000000 & 3.247549\\\\\n",
       "\tWT-6-S5.afi \\_ 3556 & SeuratProject &  26 & 2 & 1.004058 & 0.000000 & 0.000000 & 0.000000 & 0.409201 & 0.142715 & 0.000000 & 0.000000 & 0.000000 &  0.226071 & 0.000000 & 0.000000 & 0.000000 & 0.000000 & 1.372844\\\\\n",
       "\tWT-6-S4 \\_ 2878 & SeuratProject & 582 & 8 & 0.837203 & 0.000000 & 0.000000 & 2.143967 & 4.639195 & 0.729822 & 0.000000 & 0.000000 & 0.000000 &  0.000000 & 0.158341 & 0.000000 & 0.000000 & 0.000000 & 1.548825\\\\\n",
       "\tWT-6-S5.afi \\_ 3854 & SeuratProject & 500 & 6 & 0.000000 & 0.000000 & 0.000000 & 0.000000 & 0.265223 & 0.303112 & 0.000000 & 0.000000 & 0.000000 &  0.000000 & 0.000000 & 0.000000 & 0.545601 & 0.000000 & 1.715107\\\\\n",
       "\tWT-8-S6 \\_ 4550 & SeuratProject & 329 & 5 & 0.330897 & 0.556968 & 0.138926 & 0.000000 & 1.197291 & 0.000000 & 0.000000 & 2.542350 & 0.000000 &  0.068200 & 0.000000 & 0.000000 & 2.337749 & 0.000000 & 0.752728\\\\\n",
       "\tWT-3-S4 \\_ 3055 & SeuratProject & 373 & 5 & 0.000000 & 0.000000 & 0.000000 & 0.718627 & 0.000000 & 0.000000 & 0.000000 & 0.000000 & 0.000000 &  0.661794 & 0.000000 & 0.000000 & 0.000000 & 0.399097 & 1.975278\\\\\n",
       "\tWT-7-S6 \\_ 7120 & SeuratProject &  82 & 4 & 0.000000 & 0.000000 & 0.000000 & 0.000000 & 0.000000 & 0.000000 & 0.000000 & 0.000000 & 0.000000 &  0.000000 & 0.000000 & 0.000000 & 0.000000 & 0.358682 & 0.568335\\\\\n",
       "\tWT-4-S3 \\_ 6768 & SeuratProject &  12 & 2 & 0.466034 & 0.000000 & 0.066937 & 0.000000 & 0.000000 & 0.169237 & 0.000000 & 0.000000 & 0.000000 &  0.000000 & 0.000000 & 0.000000 & 0.000000 & 0.258908 & 0.318267\\\\\n",
       "\tWT-5-S4 \\_ 3408 & SeuratProject & 161 & 3 & 0.219756 & 0.433197 & 0.000000 & 3.320337 & 0.841135 & 0.000000 & 0.000000 & 0.000000 & 0.000000 &  0.000000 & 0.280378 & 0.000000 & 1.509244 & 0.716102 & 0.000000\\\\\n",
       "\tWT-4-S5 \\_ 7327 & SeuratProject & 231 & 5 & 0.000000 & 0.348579 & 0.306901 & 0.000000 & 1.721422 & 0.362471 & 0.000000 & 0.000000 & 0.000000 &  0.166711 & 1.992960 & 0.000000 & 0.275327 & 0.000000 & 1.722685\\\\\n",
       "\tWT-4-S4 \\_ 5923 & SeuratProject &  48 & 3 & 0.000000 & 0.159134 & 0.000000 & 3.204144 & 2.034638 & 0.362471 & 0.000000 & 0.213441 & 0.000000 &  0.000000 & 0.000000 & 0.121245 & 0.394045 & 0.822191 & 0.000000\\\\\n",
       "\tWT-8-S4 \\_ 1120 & SeuratProject & 404 & 4 & 0.000000 & 1.016687 & 0.000000 & 5.522949 & 0.000000 & 0.000000 & 0.000000 & 0.257645 & 0.136400 &  0.000000 & 0.966169 & 0.000000 & 1.033106 & 0.290482 & 0.632746\\\\\n",
       "\tWT-7-S3 \\_ 2727 & SeuratProject & 393 & 7 & 0.000000 & 0.000000 & 0.000000 & 5.788172 & 0.000000 & 0.000000 & 0.000000 & 0.524131 & 0.000000 &  0.000000 & 0.464771 & 0.000000 & 0.000000 & 0.000000 & 3.732064\\\\\n",
       "\tWT-3-S2 \\_ 4572 & SeuratProject & 583 & 7 & 0.000000 & 0.000000 & 0.000000 & 0.000000 & 0.973747 & 0.000000 & 0.000000 & 0.000000 & 0.065674 &  0.035363 & 1.321062 & 0.000000 & 0.395308 & 0.000000 & 0.000000\\\\\n",
       "\tWT-5-S4 \\_ 2040 & SeuratProject &  76 & 3 & 0.114930 & 0.000000 & 0.000000 & 0.430671 & 0.704735 & 0.000000 & 0.092196 & 0.000000 & 0.000000 &  0.000000 & 2.801258 & 0.000000 & 0.000000 & 0.000000 & 0.000000\\\\\n",
       "\tWT-1-S2 \\_ 5571 & SeuratProject & 458 & 2 & 0.000000 & 0.000000 & 0.000000 & 0.000000 & 1.605392 & 1.703431 & 0.000000 & 0.000000 & 0.000000 &  0.324755 & 0.000000 & 0.000000 & 1.176471 & 0.000000 & 0.000000\\\\\n",
       "\t... & ... & ... & ... & ... & ... & ... & ... & ... & ... & ... & ... & ... & ... & ... & ... & ... & ... & ...\\\\\n",
       "\tWT-1-S4 \\_ 3503 & SeuratProject & 1018 & 4 & 0.000000 & 2.426471 & 0.000000 &  0.000000 & 0.000000 & 0.000000 & 0 & 0.000000 & 0.000000 & 0.000000 & 6.636029 & 0.000000 & 0.000000 & 0.000000 & 0.000000\\\\\n",
       "\tWT-4-S5 \\_ 5584 & SeuratProject &  588 & 8 & 0.000000 & 0.000000 & 0.000000 &  1.250336 & 0.000000 & 0.000000 & 0 & 0.000000 & 0.000000 & 0.341001 & 0.466034 & 0.000000 & 0.000000 & 0.000000 & 0.000000\\\\\n",
       "\tWT-4-S4 \\_ 8192 & SeuratProject &  196 & 4 & 0.000000 & 4.405224 & 0.000000 &  1.036895 & 1.908341 & 0.267749 & 0 & 0.000000 & 0.000000 & 0.294271 & 1.665852 & 0.000000 & 0.000000 & 0.501397 & 0.000000\\\\\n",
       "\tWT-6-S4 \\_ 1102 & SeuratProject &  544 & 6 & 0.000000 & 0.000000 & 0.000000 &  2.473388 & 0.669762 & 0.222041 & 0 & 0.000000 & 0.000000 & 0.000000 & 0.000000 & 0.000000 & 1.275824 & 0.000000 & 2.629909\\\\\n",
       "\tWT-8-S4 \\_ 7864 & SeuratProject &  556 & 2 & 0.000000 & 0.127560 & 0.065674 &  2.224082 & 0.150293 & 0.000000 & 0 & 0.325845 & 0.075778 & 0.000000 & 0.000000 & 0.123771 & 0.762831 & 0.604961 & 0.937121\\\\\n",
       "\tWT-2-S3 \\_ 1211 & SeuratProject &   16 & 2 & 0.785565 & 0.000000 & 0.000000 &  1.720159 & 0.856291 & 0.000000 & 0 & 0.000000 & 0.000000 & 0.272801 & 0.746413 & 0.000000 & 0.000000 & 0.167974 & 0.107352\\\\\n",
       "\tWT-7-S6 \\_ 8918 & SeuratProject &  434 & 7 & 0.000000 & 0.534234 & 0.000000 &  0.000000 & 1.087413 & 0.000000 & 0 & 0.041678 & 0.000000 & 0.000000 & 0.685790 & 0.000000 & 0.000000 & 0.000000 & 0.599909\\\\\n",
       "\tWT-2-S2 \\_ 3966 & SeuratProject &   43 & 2 & 0.233649 & 0.631483 & 0.000000 &  0.000000 & 0.000000 & 0.000000 & 0 & 0.000000 & 0.000000 & 0.128823 & 1.249073 & 0.000000 & 0.000000 & 0.000000 & 0.000000\\\\\n",
       "\tWT-7-S6 \\_ 9555 & SeuratProject &  244 & 6 & 0.000000 & 0.000000 & 0.000000 &  0.000000 & 0.527920 & 0.490031 & 0 & 0.000000 & 0.540549 & 0.000000 & 0.000000 & 0.000000 & 0.258908 & 0.000000 & 0.824717\\\\\n",
       "\tWT-3-S6 \\_ 1004 & SeuratProject &  386 & 5 & 0.592331 & 0.285430 & 0.000000 &  0.218493 & 0.000000 & 0.000000 & 0 & 0.000000 & 0.065674 & 0.000000 & 0.294271 & 0.000000 & 0.000000 & 0.000000 & 1.106358\\\\\n",
       "\tWT-1-S5 - 548 & SeuratProject &  179 & 3 & 0.000000 & 0.000000 & 0.000000 &  0.000000 & 2.763480 & 0.000000 & 0 & 0.000000 & 0.000000 & 3.345588 & 0.000000 & 0.000000 & 0.000000 & 0.000000 & 0.000000\\\\\n",
       "\tWT-6-S4 \\_ 6372 & SeuratProject &  119 & 2 & 0.000000 & 0.050960 & 0.000000 &  0.000000 & 0.374921 & 0.216581 & 0 & 0.076440 & 0.000000 & 0.161981 & 0.000000 & 0.000000 & 0.000000 & 0.087360 & 0.567842\\\\\n",
       "\tWT-3-S6 \\_ 9243 & SeuratProject &   36 & 3 & 0.000000 & 0.514027 & 0.000000 &  0.108615 & 1.699952 & 0.000000 & 0 & 0.000000 & 0.000000 & 0.034100 & 0.000000 & 0.383942 & 0.420568 & 0.000000 & 1.398103\\\\\n",
       "\tWT-7-S4 \\_ 1730 & SeuratProject &  378 & 5 & 0.219756 & 0.130085 & 0.000000 &  0.000000 & 0.000000 & 0.000000 & 0 & 0.260171 & 0.271538 & 0.000000 & 0.000000 & 0.000000 & 0.000000 & 0.000000 & 0.000000\\\\\n",
       "\tWT-3-S6 \\_ 906 & SeuratProject &  147 & 5 & 0.563283 & 0.050519 & 0.000000 &  0.000000 & 0.000000 & 0.000000 & 0 & 0.000000 & 0.000000 & 0.034100 & 0.000000 & 0.000000 & 0.133874 & 0.000000 & 0.952276\\\\\n",
       "\tWT-7-S6 \\_ 4950 & SeuratProject &  157 & 2 & 0.237438 & 0.045467 & 0.000000 &  0.000000 & 0.000000 & 1.403155 & 0 & 0.185656 & 0.000000 & 0.069463 & 0.221019 & 0.000000 & 0.000000 & 0.066937 & 0.698420\\\\\n",
       "\tWT-1-S3 - 2154 & SeuratProject &   85 & 2 & 0.000000 & 0.000000 & 0.000000 & 24.515932 & 4.522059 & 0.000000 & 0 & 0.000000 & 0.000000 & 0.000000 & 0.000000 & 0.000000 & 2.714461 & 0.000000 & 1.256127\\\\\n",
       "\tWT-6-S4 \\_ 6487 & SeuratProject &  122 & 2 & 0.305761 & 0.000000 & 0.000000 &  0.000000 & 0.000000 & 4.457195 & 0 & 0.000000 & 0.000000 & 0.309401 & 0.000000 & 0.000000 & 0.000000 & 0.349441 & 2.034767\\\\\n",
       "\tWT-4-S5 \\_ 3366 & SeuratProject &  424 & 3 & 0.000000 & 0.000000 & 0.000000 &  1.807304 & 2.726743 & 0.000000 & 0 & 0.054308 & 0.204600 & 0.000000 & 0.000000 & 0.000000 & 0.842398 & 0.000000 & 0.000000\\\\\n",
       "\tWT-3-S2 \\_ 801 & SeuratProject &   24 & 3 & 0.243752 & 2.004327 & 0.147767 &  0.000000 & 0.000000 & 6.827592 & 0 & 0.000000 & 0.066937 & 0.069463 & 1.065943 & 0.000000 & 2.782313 & 0.114930 & 6.999356\\\\\n",
       "\tWT-2-S2 \\_ 118 & SeuratProject &  174 & 3 & 0.228597 & 0.000000 & 0.000000 &  0.000000 & 0.000000 & 0.066937 & 0 & 0.149030 & 0.000000 & 0.000000 & 2.116730 & 0.000000 & 0.000000 & 0.335949 & 1.798463\\\\\n",
       "\tWT-4-S4 \\_ 3411 & SeuratProject &  208 & 3 & 0.000000 & 0.169237 & 0.000000 &  1.153088 & 0.770409 & 0.847450 & 0 & 0.000000 & 0.420568 & 0.036626 & 0.956065 & 0.000000 & 0.862606 & 2.249342 & 2.389531\\\\\n",
       "\tWT-4-S3 \\_ 2368 & SeuratProject &   23 & 3 & 0.651690 & 0.407938 & 0.000000 &  0.759042 & 0.910598 & 0.000000 & 0 & 0.275327 & 0.000000 & 0.000000 & 0.000000 & 0.000000 & 0.000000 & 0.175552 & 0.442038\\\\\n",
       "\tWT-6-S2 \\_ 655 & SeuratProject &   19 & 2 & 0.000000 & 0.000000 & 0.000000 &  0.000000 & 0.000000 & 0.000000 & 0 & 0.000000 & 0.000000 & 0.164186 & 8.209277 & 0.000000 & 0.000000 & 0.113667 & 5.591149\\\\\n",
       "\tWT-4-S4 \\_ 3829 & SeuratProject &  125 & 4 & 0.000000 & 2.312490 & 0.000000 &  0.000000 & 1.207395 & 0.344790 & 0 & 0.165449 & 0.071989 & 0.348579 & 0.399097 & 0.000000 & 0.000000 & 0.755253 & 3.677756\\\\\n",
       "\tWT-3-S6 \\_ 6138 & SeuratProject &  307 & 6 & 1.175821 & 0.218493 & 0.000000 &  0.000000 & 0.000000 & 0.000000 & 0 & 0.046730 & 0.000000 & 0.000000 & 0.000000 & 0.000000 & 0.000000 & 0.000000 & 0.000000\\\\\n",
       "\tWT-2-S3 \\_ 1824 & SeuratProject &  128 & 6 & 0.000000 & 0.000000 & 0.000000 &  0.000000 & 0.000000 & 0.000000 & 0 & 0.000000 & 0.000000 & 0.000000 & 0.000000 & 0.000000 & 0.260171 & 0.189445 & 0.000000\\\\\n",
       "\tWT-7-S4 \\_ 3283 & SeuratProject &  299 & 4 & 0.944698 & 0.372575 & 0.626431 &  0.000000 & 0.000000 & 0.217230 & 0 & 0.572123 & 0.000000 & 0.000000 & 0.000000 & 0.000000 & 0.660531 & 0.000000 & 0.241226\\\\\n",
       "\tWT-4-S4 \\_ 1826 & SeuratProject &  260 & 4 & 0.000000 & 0.000000 & 0.000000 &  0.000000 & 1.289488 & 0.000000 & 0 & 0.214704 & 0.065674 & 0.103563 & 0.000000 & 0.000000 & 0.263960 & 0.000000 & 0.323319\\\\\n",
       "\tWT-8-S4 \\_ 7317 & SeuratProject &   65 & 3 & 0.313215 & 0.044204 & 0.000000 &  0.000000 & 0.269012 & 0.596120 & 0 & 0.221019 & 0.000000 & 0.000000 & 0.000000 & 0.000000 & 0.118719 & 0.000000 & 0.000000\\\\\n",
       "\\end{tabular}\n"
      ],
      "text/markdown": [
       "\n",
       "A data.frame: 20000 × 18\n",
       "\n",
       "| <!--/--> | orig.ident &lt;fct&gt; | nCount_RNA &lt;dbl&gt; | nFeature_RNA &lt;int&gt; | drd2 &lt;dbl&gt; | drd3 &lt;dbl&gt; | esr1 &lt;dbl&gt; | foxp2 &lt;dbl&gt; | met &lt;dbl&gt; | nts &lt;dbl&gt; | onecut2 &lt;dbl&gt; | pax6 &lt;dbl&gt; | samd3 &lt;dbl&gt; | sst &lt;dbl&gt; | tacr1 &lt;dbl&gt; | vgat &lt;dbl&gt; | vglut2 &lt;dbl&gt; | col15a1 &lt;dbl&gt; | crhr2 &lt;dbl&gt; |\n",
       "|---|---|---|---|---|---|---|---|---|---|---|---|---|---|---|---|---|---|---|\n",
       "| WT-2-S4 _ 9783 | SeuratProject |  91 | 3 | 0.615064 | 0.213441 | 0.000000 | 0.000000 | 1.933600 | 0.000000 | 0.000000 | 0.000000 | 0.000000 |  0.078304 | 0.000000 | 0.000000 | 0.000000 | 0.000000 | 0.000000 |\n",
       "| WT-3-S4 _ 2845 | SeuratProject | 130 | 4 | 1.752996 | 0.049256 | 0.000000 | 1.411996 | 2.522142 | 0.000000 | 0.000000 | 0.000000 | 0.000000 |  0.000000 | 0.000000 | 0.000000 | 0.000000 | 0.298060 | 0.000000 |\n",
       "| WT-5-S6 _ 6885 | SeuratProject | 155 | 4 | 0.000000 | 0.000000 | 0.000000 | 1.327377 | 0.000000 | 0.000000 | 0.000000 | 0.000000 | 0.000000 |  0.088408 | 5.339819 | 0.000000 | 0.253856 | 0.000000 | 2.866932 |\n",
       "| WT-1-S5 - 3340 | SeuratProject | 910 | 2 | 0.000000 | 0.000000 | 0.000000 | 0.000000 | 0.000000 | 0.000000 | 0.000000 | 0.000000 | 0.000000 |  0.000000 | 0.000000 | 0.000000 | 0.000000 | 0.000000 | 4.718137 |\n",
       "| WT-4-S5 _ 296 | SeuratProject | 880 | 8 | 0.000000 | 0.141452 | 0.000000 | 0.000000 | 0.000000 | 0.000000 | 0.000000 | 0.000000 | 0.131348 |  0.166711 | 0.526657 | 0.000000 | 1.280647 | 0.000000 | 0.000000 |\n",
       "| WT-7-S6 _ 4263 | SeuratProject | 546 | 6 | 0.000000 | 1.492825 | 0.000000 | 0.000000 | 0.000000 | 0.000000 | 0.000000 | 0.222282 | 0.065674 |  0.247541 | 2.706536 | 0.000000 | 0.510238 | 0.000000 | 3.769953 |\n",
       "| WT-2-S6 _ 1771 | SeuratProject | 418 | 3 | 1.257914 | 0.075778 | 0.000000 | 1.292014 | 0.000000 | 0.132611 | 0.000000 | 0.109878 | 0.138926 |  0.433197 | 0.707261 | 0.000000 | 0.122508 | 0.000000 | 0.558231 |\n",
       "| WT-4-S4 _ 6846 | SeuratProject | 111 | 2 | 0.825980 | 0.000000 | 0.000000 | 0.620116 | 0.603698 | 0.000000 | 0.000000 | 0.000000 | 0.000000 |  0.000000 | 0.000000 | 0.000000 | 0.000000 | 0.178078 | 0.116193 |\n",
       "| WT-7-S6 _ 9435 | SeuratProject | 103 | 2 | 0.325845 | 0.000000 | 0.000000 | 0.000000 | 0.628957 | 0.000000 | 0.000000 | 0.000000 | 0.137663 |  0.137663 | 0.000000 | 0.000000 | 0.000000 | 0.176815 | 0.000000 |\n",
       "| WT-7-S6 _ 10103 | SeuratProject | 103 | 2 | 0.458457 | 3.758586 | 0.000000 | 1.540818 | 0.536760 | 0.418042 | 0.000000 | 0.087145 | 0.074515 |  0.000000 | 0.000000 | 0.000000 | 0.000000 | 0.000000 | 0.000000 |\n",
       "| WT-7-S6 _ 8533 | SeuratProject | 125 | 2 | 0.000000 | 0.404149 | 0.000000 | 0.000000 | 1.586285 | 0.378890 | 0.000000 | 0.041678 | 0.132611 |  0.000000 | 0.000000 | 0.000000 | 0.818402 | 0.454668 | 0.000000 |\n",
       "| WT-5-S3 _ 827 | SeuratProject |  69 | 3 | 0.573386 | 0.000000 | 0.000000 | 3.322863 | 0.574649 | 0.391519 | 0.000000 | 0.000000 | 0.000000 |  0.000000 | 1.854034 | 0.000000 | 0.000000 | 0.000000 | 0.000000 |\n",
       "| WT-6-S3 _ 1467 | SeuratProject | 190 | 3 | 0.419305 | 0.000000 | 0.000000 | 0.000000 | 0.429408 | 0.603698 | 0.000000 | 0.000000 | 0.000000 | 13.988608 | 0.000000 | 0.000000 | 0.267749 | 0.000000 | 0.117456 |\n",
       "| WT-2-S4 _ 7446 | SeuratProject | 148 | 4 | 0.000000 | 0.366260 | 0.000000 | 0.000000 | 0.000000 | 0.409201 | 0.000000 | 0.000000 | 0.065674 |  0.071989 | 2.661069 | 0.000000 | 0.000000 | 0.243752 | 3.197829 |\n",
       "| WT-1-S5 - 10466 | SeuratProject | 103 | 2 | 0.000000 | 0.000000 | 0.000000 | 0.000000 | 0.000000 | 0.000000 | 0.000000 | 0.000000 | 0.000000 |  0.000000 | 0.000000 | 0.000000 | 0.000000 | 0.000000 | 3.247549 |\n",
       "| WT-6-S5.afi _ 3556 | SeuratProject |  26 | 2 | 1.004058 | 0.000000 | 0.000000 | 0.000000 | 0.409201 | 0.142715 | 0.000000 | 0.000000 | 0.000000 |  0.226071 | 0.000000 | 0.000000 | 0.000000 | 0.000000 | 1.372844 |\n",
       "| WT-6-S4 _ 2878 | SeuratProject | 582 | 8 | 0.837203 | 0.000000 | 0.000000 | 2.143967 | 4.639195 | 0.729822 | 0.000000 | 0.000000 | 0.000000 |  0.000000 | 0.158341 | 0.000000 | 0.000000 | 0.000000 | 1.548825 |\n",
       "| WT-6-S5.afi _ 3854 | SeuratProject | 500 | 6 | 0.000000 | 0.000000 | 0.000000 | 0.000000 | 0.265223 | 0.303112 | 0.000000 | 0.000000 | 0.000000 |  0.000000 | 0.000000 | 0.000000 | 0.545601 | 0.000000 | 1.715107 |\n",
       "| WT-8-S6 _ 4550 | SeuratProject | 329 | 5 | 0.330897 | 0.556968 | 0.138926 | 0.000000 | 1.197291 | 0.000000 | 0.000000 | 2.542350 | 0.000000 |  0.068200 | 0.000000 | 0.000000 | 2.337749 | 0.000000 | 0.752728 |\n",
       "| WT-3-S4 _ 3055 | SeuratProject | 373 | 5 | 0.000000 | 0.000000 | 0.000000 | 0.718627 | 0.000000 | 0.000000 | 0.000000 | 0.000000 | 0.000000 |  0.661794 | 0.000000 | 0.000000 | 0.000000 | 0.399097 | 1.975278 |\n",
       "| WT-7-S6 _ 7120 | SeuratProject |  82 | 4 | 0.000000 | 0.000000 | 0.000000 | 0.000000 | 0.000000 | 0.000000 | 0.000000 | 0.000000 | 0.000000 |  0.000000 | 0.000000 | 0.000000 | 0.000000 | 0.358682 | 0.568335 |\n",
       "| WT-4-S3 _ 6768 | SeuratProject |  12 | 2 | 0.466034 | 0.000000 | 0.066937 | 0.000000 | 0.000000 | 0.169237 | 0.000000 | 0.000000 | 0.000000 |  0.000000 | 0.000000 | 0.000000 | 0.000000 | 0.258908 | 0.318267 |\n",
       "| WT-5-S4 _ 3408 | SeuratProject | 161 | 3 | 0.219756 | 0.433197 | 0.000000 | 3.320337 | 0.841135 | 0.000000 | 0.000000 | 0.000000 | 0.000000 |  0.000000 | 0.280378 | 0.000000 | 1.509244 | 0.716102 | 0.000000 |\n",
       "| WT-4-S5 _ 7327 | SeuratProject | 231 | 5 | 0.000000 | 0.348579 | 0.306901 | 0.000000 | 1.721422 | 0.362471 | 0.000000 | 0.000000 | 0.000000 |  0.166711 | 1.992960 | 0.000000 | 0.275327 | 0.000000 | 1.722685 |\n",
       "| WT-4-S4 _ 5923 | SeuratProject |  48 | 3 | 0.000000 | 0.159134 | 0.000000 | 3.204144 | 2.034638 | 0.362471 | 0.000000 | 0.213441 | 0.000000 |  0.000000 | 0.000000 | 0.121245 | 0.394045 | 0.822191 | 0.000000 |\n",
       "| WT-8-S4 _ 1120 | SeuratProject | 404 | 4 | 0.000000 | 1.016687 | 0.000000 | 5.522949 | 0.000000 | 0.000000 | 0.000000 | 0.257645 | 0.136400 |  0.000000 | 0.966169 | 0.000000 | 1.033106 | 0.290482 | 0.632746 |\n",
       "| WT-7-S3 _ 2727 | SeuratProject | 393 | 7 | 0.000000 | 0.000000 | 0.000000 | 5.788172 | 0.000000 | 0.000000 | 0.000000 | 0.524131 | 0.000000 |  0.000000 | 0.464771 | 0.000000 | 0.000000 | 0.000000 | 3.732064 |\n",
       "| WT-3-S2 _ 4572 | SeuratProject | 583 | 7 | 0.000000 | 0.000000 | 0.000000 | 0.000000 | 0.973747 | 0.000000 | 0.000000 | 0.000000 | 0.065674 |  0.035363 | 1.321062 | 0.000000 | 0.395308 | 0.000000 | 0.000000 |\n",
       "| WT-5-S4 _ 2040 | SeuratProject |  76 | 3 | 0.114930 | 0.000000 | 0.000000 | 0.430671 | 0.704735 | 0.000000 | 0.092196 | 0.000000 | 0.000000 |  0.000000 | 2.801258 | 0.000000 | 0.000000 | 0.000000 | 0.000000 |\n",
       "| WT-1-S2 _ 5571 | SeuratProject | 458 | 2 | 0.000000 | 0.000000 | 0.000000 | 0.000000 | 1.605392 | 1.703431 | 0.000000 | 0.000000 | 0.000000 |  0.324755 | 0.000000 | 0.000000 | 1.176471 | 0.000000 | 0.000000 |\n",
       "| ... | ... | ... | ... | ... | ... | ... | ... | ... | ... | ... | ... | ... | ... | ... | ... | ... | ... | ... |\n",
       "| WT-1-S4 _ 3503 | SeuratProject | 1018 | 4 | 0.000000 | 2.426471 | 0.000000 |  0.000000 | 0.000000 | 0.000000 | 0 | 0.000000 | 0.000000 | 0.000000 | 6.636029 | 0.000000 | 0.000000 | 0.000000 | 0.000000 |\n",
       "| WT-4-S5 _ 5584 | SeuratProject |  588 | 8 | 0.000000 | 0.000000 | 0.000000 |  1.250336 | 0.000000 | 0.000000 | 0 | 0.000000 | 0.000000 | 0.341001 | 0.466034 | 0.000000 | 0.000000 | 0.000000 | 0.000000 |\n",
       "| WT-4-S4 _ 8192 | SeuratProject |  196 | 4 | 0.000000 | 4.405224 | 0.000000 |  1.036895 | 1.908341 | 0.267749 | 0 | 0.000000 | 0.000000 | 0.294271 | 1.665852 | 0.000000 | 0.000000 | 0.501397 | 0.000000 |\n",
       "| WT-6-S4 _ 1102 | SeuratProject |  544 | 6 | 0.000000 | 0.000000 | 0.000000 |  2.473388 | 0.669762 | 0.222041 | 0 | 0.000000 | 0.000000 | 0.000000 | 0.000000 | 0.000000 | 1.275824 | 0.000000 | 2.629909 |\n",
       "| WT-8-S4 _ 7864 | SeuratProject |  556 | 2 | 0.000000 | 0.127560 | 0.065674 |  2.224082 | 0.150293 | 0.000000 | 0 | 0.325845 | 0.075778 | 0.000000 | 0.000000 | 0.123771 | 0.762831 | 0.604961 | 0.937121 |\n",
       "| WT-2-S3 _ 1211 | SeuratProject |   16 | 2 | 0.785565 | 0.000000 | 0.000000 |  1.720159 | 0.856291 | 0.000000 | 0 | 0.000000 | 0.000000 | 0.272801 | 0.746413 | 0.000000 | 0.000000 | 0.167974 | 0.107352 |\n",
       "| WT-7-S6 _ 8918 | SeuratProject |  434 | 7 | 0.000000 | 0.534234 | 0.000000 |  0.000000 | 1.087413 | 0.000000 | 0 | 0.041678 | 0.000000 | 0.000000 | 0.685790 | 0.000000 | 0.000000 | 0.000000 | 0.599909 |\n",
       "| WT-2-S2 _ 3966 | SeuratProject |   43 | 2 | 0.233649 | 0.631483 | 0.000000 |  0.000000 | 0.000000 | 0.000000 | 0 | 0.000000 | 0.000000 | 0.128823 | 1.249073 | 0.000000 | 0.000000 | 0.000000 | 0.000000 |\n",
       "| WT-7-S6 _ 9555 | SeuratProject |  244 | 6 | 0.000000 | 0.000000 | 0.000000 |  0.000000 | 0.527920 | 0.490031 | 0 | 0.000000 | 0.540549 | 0.000000 | 0.000000 | 0.000000 | 0.258908 | 0.000000 | 0.824717 |\n",
       "| WT-3-S6 _ 1004 | SeuratProject |  386 | 5 | 0.592331 | 0.285430 | 0.000000 |  0.218493 | 0.000000 | 0.000000 | 0 | 0.000000 | 0.065674 | 0.000000 | 0.294271 | 0.000000 | 0.000000 | 0.000000 | 1.106358 |\n",
       "| WT-1-S5 - 548 | SeuratProject |  179 | 3 | 0.000000 | 0.000000 | 0.000000 |  0.000000 | 2.763480 | 0.000000 | 0 | 0.000000 | 0.000000 | 3.345588 | 0.000000 | 0.000000 | 0.000000 | 0.000000 | 0.000000 |\n",
       "| WT-6-S4 _ 6372 | SeuratProject |  119 | 2 | 0.000000 | 0.050960 | 0.000000 |  0.000000 | 0.374921 | 0.216581 | 0 | 0.076440 | 0.000000 | 0.161981 | 0.000000 | 0.000000 | 0.000000 | 0.087360 | 0.567842 |\n",
       "| WT-3-S6 _ 9243 | SeuratProject |   36 | 3 | 0.000000 | 0.514027 | 0.000000 |  0.108615 | 1.699952 | 0.000000 | 0 | 0.000000 | 0.000000 | 0.034100 | 0.000000 | 0.383942 | 0.420568 | 0.000000 | 1.398103 |\n",
       "| WT-7-S4 _ 1730 | SeuratProject |  378 | 5 | 0.219756 | 0.130085 | 0.000000 |  0.000000 | 0.000000 | 0.000000 | 0 | 0.260171 | 0.271538 | 0.000000 | 0.000000 | 0.000000 | 0.000000 | 0.000000 | 0.000000 |\n",
       "| WT-3-S6 _ 906 | SeuratProject |  147 | 5 | 0.563283 | 0.050519 | 0.000000 |  0.000000 | 0.000000 | 0.000000 | 0 | 0.000000 | 0.000000 | 0.034100 | 0.000000 | 0.000000 | 0.133874 | 0.000000 | 0.952276 |\n",
       "| WT-7-S6 _ 4950 | SeuratProject |  157 | 2 | 0.237438 | 0.045467 | 0.000000 |  0.000000 | 0.000000 | 1.403155 | 0 | 0.185656 | 0.000000 | 0.069463 | 0.221019 | 0.000000 | 0.000000 | 0.066937 | 0.698420 |\n",
       "| WT-1-S3 - 2154 | SeuratProject |   85 | 2 | 0.000000 | 0.000000 | 0.000000 | 24.515932 | 4.522059 | 0.000000 | 0 | 0.000000 | 0.000000 | 0.000000 | 0.000000 | 0.000000 | 2.714461 | 0.000000 | 1.256127 |\n",
       "| WT-6-S4 _ 6487 | SeuratProject |  122 | 2 | 0.305761 | 0.000000 | 0.000000 |  0.000000 | 0.000000 | 4.457195 | 0 | 0.000000 | 0.000000 | 0.309401 | 0.000000 | 0.000000 | 0.000000 | 0.349441 | 2.034767 |\n",
       "| WT-4-S5 _ 3366 | SeuratProject |  424 | 3 | 0.000000 | 0.000000 | 0.000000 |  1.807304 | 2.726743 | 0.000000 | 0 | 0.054308 | 0.204600 | 0.000000 | 0.000000 | 0.000000 | 0.842398 | 0.000000 | 0.000000 |\n",
       "| WT-3-S2 _ 801 | SeuratProject |   24 | 3 | 0.243752 | 2.004327 | 0.147767 |  0.000000 | 0.000000 | 6.827592 | 0 | 0.000000 | 0.066937 | 0.069463 | 1.065943 | 0.000000 | 2.782313 | 0.114930 | 6.999356 |\n",
       "| WT-2-S2 _ 118 | SeuratProject |  174 | 3 | 0.228597 | 0.000000 | 0.000000 |  0.000000 | 0.000000 | 0.066937 | 0 | 0.149030 | 0.000000 | 0.000000 | 2.116730 | 0.000000 | 0.000000 | 0.335949 | 1.798463 |\n",
       "| WT-4-S4 _ 3411 | SeuratProject |  208 | 3 | 0.000000 | 0.169237 | 0.000000 |  1.153088 | 0.770409 | 0.847450 | 0 | 0.000000 | 0.420568 | 0.036626 | 0.956065 | 0.000000 | 0.862606 | 2.249342 | 2.389531 |\n",
       "| WT-4-S3 _ 2368 | SeuratProject |   23 | 3 | 0.651690 | 0.407938 | 0.000000 |  0.759042 | 0.910598 | 0.000000 | 0 | 0.275327 | 0.000000 | 0.000000 | 0.000000 | 0.000000 | 0.000000 | 0.175552 | 0.442038 |\n",
       "| WT-6-S2 _ 655 | SeuratProject |   19 | 2 | 0.000000 | 0.000000 | 0.000000 |  0.000000 | 0.000000 | 0.000000 | 0 | 0.000000 | 0.000000 | 0.164186 | 8.209277 | 0.000000 | 0.000000 | 0.113667 | 5.591149 |\n",
       "| WT-4-S4 _ 3829 | SeuratProject |  125 | 4 | 0.000000 | 2.312490 | 0.000000 |  0.000000 | 1.207395 | 0.344790 | 0 | 0.165449 | 0.071989 | 0.348579 | 0.399097 | 0.000000 | 0.000000 | 0.755253 | 3.677756 |\n",
       "| WT-3-S6 _ 6138 | SeuratProject |  307 | 6 | 1.175821 | 0.218493 | 0.000000 |  0.000000 | 0.000000 | 0.000000 | 0 | 0.046730 | 0.000000 | 0.000000 | 0.000000 | 0.000000 | 0.000000 | 0.000000 | 0.000000 |\n",
       "| WT-2-S3 _ 1824 | SeuratProject |  128 | 6 | 0.000000 | 0.000000 | 0.000000 |  0.000000 | 0.000000 | 0.000000 | 0 | 0.000000 | 0.000000 | 0.000000 | 0.000000 | 0.000000 | 0.260171 | 0.189445 | 0.000000 |\n",
       "| WT-7-S4 _ 3283 | SeuratProject |  299 | 4 | 0.944698 | 0.372575 | 0.626431 |  0.000000 | 0.000000 | 0.217230 | 0 | 0.572123 | 0.000000 | 0.000000 | 0.000000 | 0.000000 | 0.660531 | 0.000000 | 0.241226 |\n",
       "| WT-4-S4 _ 1826 | SeuratProject |  260 | 4 | 0.000000 | 0.000000 | 0.000000 |  0.000000 | 1.289488 | 0.000000 | 0 | 0.214704 | 0.065674 | 0.103563 | 0.000000 | 0.000000 | 0.263960 | 0.000000 | 0.323319 |\n",
       "| WT-8-S4 _ 7317 | SeuratProject |   65 | 3 | 0.313215 | 0.044204 | 0.000000 |  0.000000 | 0.269012 | 0.596120 | 0 | 0.221019 | 0.000000 | 0.000000 | 0.000000 | 0.000000 | 0.118719 | 0.000000 | 0.000000 |\n",
       "\n"
      ],
      "text/plain": [
       "                   orig.ident    nCount_RNA nFeature_RNA drd2     drd3    \n",
       "WT-2-S4 _ 9783     SeuratProject  91        3            0.615064 0.213441\n",
       "WT-3-S4 _ 2845     SeuratProject 130        4            1.752996 0.049256\n",
       "WT-5-S6 _ 6885     SeuratProject 155        4            0.000000 0.000000\n",
       "WT-1-S5 - 3340     SeuratProject 910        2            0.000000 0.000000\n",
       "WT-4-S5 _ 296      SeuratProject 880        8            0.000000 0.141452\n",
       "WT-7-S6 _ 4263     SeuratProject 546        6            0.000000 1.492825\n",
       "WT-2-S6 _ 1771     SeuratProject 418        3            1.257914 0.075778\n",
       "WT-4-S4 _ 6846     SeuratProject 111        2            0.825980 0.000000\n",
       "WT-7-S6 _ 9435     SeuratProject 103        2            0.325845 0.000000\n",
       "WT-7-S6 _ 10103    SeuratProject 103        2            0.458457 3.758586\n",
       "WT-7-S6 _ 8533     SeuratProject 125        2            0.000000 0.404149\n",
       "WT-5-S3 _ 827      SeuratProject  69        3            0.573386 0.000000\n",
       "WT-6-S3 _ 1467     SeuratProject 190        3            0.419305 0.000000\n",
       "WT-2-S4 _ 7446     SeuratProject 148        4            0.000000 0.366260\n",
       "WT-1-S5 - 10466    SeuratProject 103        2            0.000000 0.000000\n",
       "WT-6-S5.afi _ 3556 SeuratProject  26        2            1.004058 0.000000\n",
       "WT-6-S4 _ 2878     SeuratProject 582        8            0.837203 0.000000\n",
       "WT-6-S5.afi _ 3854 SeuratProject 500        6            0.000000 0.000000\n",
       "WT-8-S6 _ 4550     SeuratProject 329        5            0.330897 0.556968\n",
       "WT-3-S4 _ 3055     SeuratProject 373        5            0.000000 0.000000\n",
       "WT-7-S6 _ 7120     SeuratProject  82        4            0.000000 0.000000\n",
       "WT-4-S3 _ 6768     SeuratProject  12        2            0.466034 0.000000\n",
       "WT-5-S4 _ 3408     SeuratProject 161        3            0.219756 0.433197\n",
       "WT-4-S5 _ 7327     SeuratProject 231        5            0.000000 0.348579\n",
       "WT-4-S4 _ 5923     SeuratProject  48        3            0.000000 0.159134\n",
       "WT-8-S4 _ 1120     SeuratProject 404        4            0.000000 1.016687\n",
       "WT-7-S3 _ 2727     SeuratProject 393        7            0.000000 0.000000\n",
       "WT-3-S2 _ 4572     SeuratProject 583        7            0.000000 0.000000\n",
       "WT-5-S4 _ 2040     SeuratProject  76        3            0.114930 0.000000\n",
       "WT-1-S2 _ 5571     SeuratProject 458        2            0.000000 0.000000\n",
       "...                ...           ...        ...          ...      ...     \n",
       "WT-1-S4 _ 3503     SeuratProject 1018       4            0.000000 2.426471\n",
       "WT-4-S5 _ 5584     SeuratProject  588       8            0.000000 0.000000\n",
       "WT-4-S4 _ 8192     SeuratProject  196       4            0.000000 4.405224\n",
       "WT-6-S4 _ 1102     SeuratProject  544       6            0.000000 0.000000\n",
       "WT-8-S4 _ 7864     SeuratProject  556       2            0.000000 0.127560\n",
       "WT-2-S3 _ 1211     SeuratProject   16       2            0.785565 0.000000\n",
       "WT-7-S6 _ 8918     SeuratProject  434       7            0.000000 0.534234\n",
       "WT-2-S2 _ 3966     SeuratProject   43       2            0.233649 0.631483\n",
       "WT-7-S6 _ 9555     SeuratProject  244       6            0.000000 0.000000\n",
       "WT-3-S6 _ 1004     SeuratProject  386       5            0.592331 0.285430\n",
       "WT-1-S5 - 548      SeuratProject  179       3            0.000000 0.000000\n",
       "WT-6-S4 _ 6372     SeuratProject  119       2            0.000000 0.050960\n",
       "WT-3-S6 _ 9243     SeuratProject   36       3            0.000000 0.514027\n",
       "WT-7-S4 _ 1730     SeuratProject  378       5            0.219756 0.130085\n",
       "WT-3-S6 _ 906      SeuratProject  147       5            0.563283 0.050519\n",
       "WT-7-S6 _ 4950     SeuratProject  157       2            0.237438 0.045467\n",
       "WT-1-S3 - 2154     SeuratProject   85       2            0.000000 0.000000\n",
       "WT-6-S4 _ 6487     SeuratProject  122       2            0.305761 0.000000\n",
       "WT-4-S5 _ 3366     SeuratProject  424       3            0.000000 0.000000\n",
       "WT-3-S2 _ 801      SeuratProject   24       3            0.243752 2.004327\n",
       "WT-2-S2 _ 118      SeuratProject  174       3            0.228597 0.000000\n",
       "WT-4-S4 _ 3411     SeuratProject  208       3            0.000000 0.169237\n",
       "WT-4-S3 _ 2368     SeuratProject   23       3            0.651690 0.407938\n",
       "WT-6-S2 _ 655      SeuratProject   19       2            0.000000 0.000000\n",
       "WT-4-S4 _ 3829     SeuratProject  125       4            0.000000 2.312490\n",
       "WT-3-S6 _ 6138     SeuratProject  307       6            1.175821 0.218493\n",
       "WT-2-S3 _ 1824     SeuratProject  128       6            0.000000 0.000000\n",
       "WT-7-S4 _ 3283     SeuratProject  299       4            0.944698 0.372575\n",
       "WT-4-S4 _ 1826     SeuratProject  260       4            0.000000 0.000000\n",
       "WT-8-S4 _ 7317     SeuratProject   65       3            0.313215 0.044204\n",
       "                   esr1     foxp2     met      nts      onecut2  pax6    \n",
       "WT-2-S4 _ 9783     0.000000 0.000000  1.933600 0.000000 0.000000 0.000000\n",
       "WT-3-S4 _ 2845     0.000000 1.411996  2.522142 0.000000 0.000000 0.000000\n",
       "WT-5-S6 _ 6885     0.000000 1.327377  0.000000 0.000000 0.000000 0.000000\n",
       "WT-1-S5 - 3340     0.000000 0.000000  0.000000 0.000000 0.000000 0.000000\n",
       "WT-4-S5 _ 296      0.000000 0.000000  0.000000 0.000000 0.000000 0.000000\n",
       "WT-7-S6 _ 4263     0.000000 0.000000  0.000000 0.000000 0.000000 0.222282\n",
       "WT-2-S6 _ 1771     0.000000 1.292014  0.000000 0.132611 0.000000 0.109878\n",
       "WT-4-S4 _ 6846     0.000000 0.620116  0.603698 0.000000 0.000000 0.000000\n",
       "WT-7-S6 _ 9435     0.000000 0.000000  0.628957 0.000000 0.000000 0.000000\n",
       "WT-7-S6 _ 10103    0.000000 1.540818  0.536760 0.418042 0.000000 0.087145\n",
       "WT-7-S6 _ 8533     0.000000 0.000000  1.586285 0.378890 0.000000 0.041678\n",
       "WT-5-S3 _ 827      0.000000 3.322863  0.574649 0.391519 0.000000 0.000000\n",
       "WT-6-S3 _ 1467     0.000000 0.000000  0.429408 0.603698 0.000000 0.000000\n",
       "WT-2-S4 _ 7446     0.000000 0.000000  0.000000 0.409201 0.000000 0.000000\n",
       "WT-1-S5 - 10466    0.000000 0.000000  0.000000 0.000000 0.000000 0.000000\n",
       "WT-6-S5.afi _ 3556 0.000000 0.000000  0.409201 0.142715 0.000000 0.000000\n",
       "WT-6-S4 _ 2878     0.000000 2.143967  4.639195 0.729822 0.000000 0.000000\n",
       "WT-6-S5.afi _ 3854 0.000000 0.000000  0.265223 0.303112 0.000000 0.000000\n",
       "WT-8-S6 _ 4550     0.138926 0.000000  1.197291 0.000000 0.000000 2.542350\n",
       "WT-3-S4 _ 3055     0.000000 0.718627  0.000000 0.000000 0.000000 0.000000\n",
       "WT-7-S6 _ 7120     0.000000 0.000000  0.000000 0.000000 0.000000 0.000000\n",
       "WT-4-S3 _ 6768     0.066937 0.000000  0.000000 0.169237 0.000000 0.000000\n",
       "WT-5-S4 _ 3408     0.000000 3.320337  0.841135 0.000000 0.000000 0.000000\n",
       "WT-4-S5 _ 7327     0.306901 0.000000  1.721422 0.362471 0.000000 0.000000\n",
       "WT-4-S4 _ 5923     0.000000 3.204144  2.034638 0.362471 0.000000 0.213441\n",
       "WT-8-S4 _ 1120     0.000000 5.522949  0.000000 0.000000 0.000000 0.257645\n",
       "WT-7-S3 _ 2727     0.000000 5.788172  0.000000 0.000000 0.000000 0.524131\n",
       "WT-3-S2 _ 4572     0.000000 0.000000  0.973747 0.000000 0.000000 0.000000\n",
       "WT-5-S4 _ 2040     0.000000 0.430671  0.704735 0.000000 0.092196 0.000000\n",
       "WT-1-S2 _ 5571     0.000000 0.000000  1.605392 1.703431 0.000000 0.000000\n",
       "...                ...      ...       ...      ...      ...      ...     \n",
       "WT-1-S4 _ 3503     0.000000  0.000000 0.000000 0.000000 0        0.000000\n",
       "WT-4-S5 _ 5584     0.000000  1.250336 0.000000 0.000000 0        0.000000\n",
       "WT-4-S4 _ 8192     0.000000  1.036895 1.908341 0.267749 0        0.000000\n",
       "WT-6-S4 _ 1102     0.000000  2.473388 0.669762 0.222041 0        0.000000\n",
       "WT-8-S4 _ 7864     0.065674  2.224082 0.150293 0.000000 0        0.325845\n",
       "WT-2-S3 _ 1211     0.000000  1.720159 0.856291 0.000000 0        0.000000\n",
       "WT-7-S6 _ 8918     0.000000  0.000000 1.087413 0.000000 0        0.041678\n",
       "WT-2-S2 _ 3966     0.000000  0.000000 0.000000 0.000000 0        0.000000\n",
       "WT-7-S6 _ 9555     0.000000  0.000000 0.527920 0.490031 0        0.000000\n",
       "WT-3-S6 _ 1004     0.000000  0.218493 0.000000 0.000000 0        0.000000\n",
       "WT-1-S5 - 548      0.000000  0.000000 2.763480 0.000000 0        0.000000\n",
       "WT-6-S4 _ 6372     0.000000  0.000000 0.374921 0.216581 0        0.076440\n",
       "WT-3-S6 _ 9243     0.000000  0.108615 1.699952 0.000000 0        0.000000\n",
       "WT-7-S4 _ 1730     0.000000  0.000000 0.000000 0.000000 0        0.260171\n",
       "WT-3-S6 _ 906      0.000000  0.000000 0.000000 0.000000 0        0.000000\n",
       "WT-7-S6 _ 4950     0.000000  0.000000 0.000000 1.403155 0        0.185656\n",
       "WT-1-S3 - 2154     0.000000 24.515932 4.522059 0.000000 0        0.000000\n",
       "WT-6-S4 _ 6487     0.000000  0.000000 0.000000 4.457195 0        0.000000\n",
       "WT-4-S5 _ 3366     0.000000  1.807304 2.726743 0.000000 0        0.054308\n",
       "WT-3-S2 _ 801      0.147767  0.000000 0.000000 6.827592 0        0.000000\n",
       "WT-2-S2 _ 118      0.000000  0.000000 0.000000 0.066937 0        0.149030\n",
       "WT-4-S4 _ 3411     0.000000  1.153088 0.770409 0.847450 0        0.000000\n",
       "WT-4-S3 _ 2368     0.000000  0.759042 0.910598 0.000000 0        0.275327\n",
       "WT-6-S2 _ 655      0.000000  0.000000 0.000000 0.000000 0        0.000000\n",
       "WT-4-S4 _ 3829     0.000000  0.000000 1.207395 0.344790 0        0.165449\n",
       "WT-3-S6 _ 6138     0.000000  0.000000 0.000000 0.000000 0        0.046730\n",
       "WT-2-S3 _ 1824     0.000000  0.000000 0.000000 0.000000 0        0.000000\n",
       "WT-7-S4 _ 3283     0.626431  0.000000 0.000000 0.217230 0        0.572123\n",
       "WT-4-S4 _ 1826     0.000000  0.000000 1.289488 0.000000 0        0.214704\n",
       "WT-8-S4 _ 7317     0.000000  0.000000 0.269012 0.596120 0        0.221019\n",
       "                   samd3    sst       tacr1    vgat     vglut2   col15a1 \n",
       "WT-2-S4 _ 9783     0.000000  0.078304 0.000000 0.000000 0.000000 0.000000\n",
       "WT-3-S4 _ 2845     0.000000  0.000000 0.000000 0.000000 0.000000 0.298060\n",
       "WT-5-S6 _ 6885     0.000000  0.088408 5.339819 0.000000 0.253856 0.000000\n",
       "WT-1-S5 - 3340     0.000000  0.000000 0.000000 0.000000 0.000000 0.000000\n",
       "WT-4-S5 _ 296      0.131348  0.166711 0.526657 0.000000 1.280647 0.000000\n",
       "WT-7-S6 _ 4263     0.065674  0.247541 2.706536 0.000000 0.510238 0.000000\n",
       "WT-2-S6 _ 1771     0.138926  0.433197 0.707261 0.000000 0.122508 0.000000\n",
       "WT-4-S4 _ 6846     0.000000  0.000000 0.000000 0.000000 0.000000 0.178078\n",
       "WT-7-S6 _ 9435     0.137663  0.137663 0.000000 0.000000 0.000000 0.176815\n",
       "WT-7-S6 _ 10103    0.074515  0.000000 0.000000 0.000000 0.000000 0.000000\n",
       "WT-7-S6 _ 8533     0.132611  0.000000 0.000000 0.000000 0.818402 0.454668\n",
       "WT-5-S3 _ 827      0.000000  0.000000 1.854034 0.000000 0.000000 0.000000\n",
       "WT-6-S3 _ 1467     0.000000 13.988608 0.000000 0.000000 0.267749 0.000000\n",
       "WT-2-S4 _ 7446     0.065674  0.071989 2.661069 0.000000 0.000000 0.243752\n",
       "WT-1-S5 - 10466    0.000000  0.000000 0.000000 0.000000 0.000000 0.000000\n",
       "WT-6-S5.afi _ 3556 0.000000  0.226071 0.000000 0.000000 0.000000 0.000000\n",
       "WT-6-S4 _ 2878     0.000000  0.000000 0.158341 0.000000 0.000000 0.000000\n",
       "WT-6-S5.afi _ 3854 0.000000  0.000000 0.000000 0.000000 0.545601 0.000000\n",
       "WT-8-S6 _ 4550     0.000000  0.068200 0.000000 0.000000 2.337749 0.000000\n",
       "WT-3-S4 _ 3055     0.000000  0.661794 0.000000 0.000000 0.000000 0.399097\n",
       "WT-7-S6 _ 7120     0.000000  0.000000 0.000000 0.000000 0.000000 0.358682\n",
       "WT-4-S3 _ 6768     0.000000  0.000000 0.000000 0.000000 0.000000 0.258908\n",
       "WT-5-S4 _ 3408     0.000000  0.000000 0.280378 0.000000 1.509244 0.716102\n",
       "WT-4-S5 _ 7327     0.000000  0.166711 1.992960 0.000000 0.275327 0.000000\n",
       "WT-4-S4 _ 5923     0.000000  0.000000 0.000000 0.121245 0.394045 0.822191\n",
       "WT-8-S4 _ 1120     0.136400  0.000000 0.966169 0.000000 1.033106 0.290482\n",
       "WT-7-S3 _ 2727     0.000000  0.000000 0.464771 0.000000 0.000000 0.000000\n",
       "WT-3-S2 _ 4572     0.065674  0.035363 1.321062 0.000000 0.395308 0.000000\n",
       "WT-5-S4 _ 2040     0.000000  0.000000 2.801258 0.000000 0.000000 0.000000\n",
       "WT-1-S2 _ 5571     0.000000  0.324755 0.000000 0.000000 1.176471 0.000000\n",
       "...                ...      ...       ...      ...      ...      ...     \n",
       "WT-1-S4 _ 3503     0.000000 0.000000  6.636029 0.000000 0.000000 0.000000\n",
       "WT-4-S5 _ 5584     0.000000 0.341001  0.466034 0.000000 0.000000 0.000000\n",
       "WT-4-S4 _ 8192     0.000000 0.294271  1.665852 0.000000 0.000000 0.501397\n",
       "WT-6-S4 _ 1102     0.000000 0.000000  0.000000 0.000000 1.275824 0.000000\n",
       "WT-8-S4 _ 7864     0.075778 0.000000  0.000000 0.123771 0.762831 0.604961\n",
       "WT-2-S3 _ 1211     0.000000 0.272801  0.746413 0.000000 0.000000 0.167974\n",
       "WT-7-S6 _ 8918     0.000000 0.000000  0.685790 0.000000 0.000000 0.000000\n",
       "WT-2-S2 _ 3966     0.000000 0.128823  1.249073 0.000000 0.000000 0.000000\n",
       "WT-7-S6 _ 9555     0.540549 0.000000  0.000000 0.000000 0.258908 0.000000\n",
       "WT-3-S6 _ 1004     0.065674 0.000000  0.294271 0.000000 0.000000 0.000000\n",
       "WT-1-S5 - 548      0.000000 3.345588  0.000000 0.000000 0.000000 0.000000\n",
       "WT-6-S4 _ 6372     0.000000 0.161981  0.000000 0.000000 0.000000 0.087360\n",
       "WT-3-S6 _ 9243     0.000000 0.034100  0.000000 0.383942 0.420568 0.000000\n",
       "WT-7-S4 _ 1730     0.271538 0.000000  0.000000 0.000000 0.000000 0.000000\n",
       "WT-3-S6 _ 906      0.000000 0.034100  0.000000 0.000000 0.133874 0.000000\n",
       "WT-7-S6 _ 4950     0.000000 0.069463  0.221019 0.000000 0.000000 0.066937\n",
       "WT-1-S3 - 2154     0.000000 0.000000  0.000000 0.000000 2.714461 0.000000\n",
       "WT-6-S4 _ 6487     0.000000 0.309401  0.000000 0.000000 0.000000 0.349441\n",
       "WT-4-S5 _ 3366     0.204600 0.000000  0.000000 0.000000 0.842398 0.000000\n",
       "WT-3-S2 _ 801      0.066937 0.069463  1.065943 0.000000 2.782313 0.114930\n",
       "WT-2-S2 _ 118      0.000000 0.000000  2.116730 0.000000 0.000000 0.335949\n",
       "WT-4-S4 _ 3411     0.420568 0.036626  0.956065 0.000000 0.862606 2.249342\n",
       "WT-4-S3 _ 2368     0.000000 0.000000  0.000000 0.000000 0.000000 0.175552\n",
       "WT-6-S2 _ 655      0.000000 0.164186  8.209277 0.000000 0.000000 0.113667\n",
       "WT-4-S4 _ 3829     0.071989 0.348579  0.399097 0.000000 0.000000 0.755253\n",
       "WT-3-S6 _ 6138     0.000000 0.000000  0.000000 0.000000 0.000000 0.000000\n",
       "WT-2-S3 _ 1824     0.000000 0.000000  0.000000 0.000000 0.260171 0.189445\n",
       "WT-7-S4 _ 3283     0.000000 0.000000  0.000000 0.000000 0.660531 0.000000\n",
       "WT-4-S4 _ 1826     0.065674 0.103563  0.000000 0.000000 0.263960 0.000000\n",
       "WT-8-S4 _ 7317     0.000000 0.000000  0.000000 0.000000 0.118719 0.000000\n",
       "                   crhr2   \n",
       "WT-2-S4 _ 9783     0.000000\n",
       "WT-3-S4 _ 2845     0.000000\n",
       "WT-5-S6 _ 6885     2.866932\n",
       "WT-1-S5 - 3340     4.718137\n",
       "WT-4-S5 _ 296      0.000000\n",
       "WT-7-S6 _ 4263     3.769953\n",
       "WT-2-S6 _ 1771     0.558231\n",
       "WT-4-S4 _ 6846     0.116193\n",
       "WT-7-S6 _ 9435     0.000000\n",
       "WT-7-S6 _ 10103    0.000000\n",
       "WT-7-S6 _ 8533     0.000000\n",
       "WT-5-S3 _ 827      0.000000\n",
       "WT-6-S3 _ 1467     0.117456\n",
       "WT-2-S4 _ 7446     3.197829\n",
       "WT-1-S5 - 10466    3.247549\n",
       "WT-6-S5.afi _ 3556 1.372844\n",
       "WT-6-S4 _ 2878     1.548825\n",
       "WT-6-S5.afi _ 3854 1.715107\n",
       "WT-8-S6 _ 4550     0.752728\n",
       "WT-3-S4 _ 3055     1.975278\n",
       "WT-7-S6 _ 7120     0.568335\n",
       "WT-4-S3 _ 6768     0.318267\n",
       "WT-5-S4 _ 3408     0.000000\n",
       "WT-4-S5 _ 7327     1.722685\n",
       "WT-4-S4 _ 5923     0.000000\n",
       "WT-8-S4 _ 1120     0.632746\n",
       "WT-7-S3 _ 2727     3.732064\n",
       "WT-3-S2 _ 4572     0.000000\n",
       "WT-5-S4 _ 2040     0.000000\n",
       "WT-1-S2 _ 5571     0.000000\n",
       "...                ...     \n",
       "WT-1-S4 _ 3503     0.000000\n",
       "WT-4-S5 _ 5584     0.000000\n",
       "WT-4-S4 _ 8192     0.000000\n",
       "WT-6-S4 _ 1102     2.629909\n",
       "WT-8-S4 _ 7864     0.937121\n",
       "WT-2-S3 _ 1211     0.107352\n",
       "WT-7-S6 _ 8918     0.599909\n",
       "WT-2-S2 _ 3966     0.000000\n",
       "WT-7-S6 _ 9555     0.824717\n",
       "WT-3-S6 _ 1004     1.106358\n",
       "WT-1-S5 - 548      0.000000\n",
       "WT-6-S4 _ 6372     0.567842\n",
       "WT-3-S6 _ 9243     1.398103\n",
       "WT-7-S4 _ 1730     0.000000\n",
       "WT-3-S6 _ 906      0.952276\n",
       "WT-7-S6 _ 4950     0.698420\n",
       "WT-1-S3 - 2154     1.256127\n",
       "WT-6-S4 _ 6487     2.034767\n",
       "WT-4-S5 _ 3366     0.000000\n",
       "WT-3-S2 _ 801      6.999356\n",
       "WT-2-S2 _ 118      1.798463\n",
       "WT-4-S4 _ 3411     2.389531\n",
       "WT-4-S3 _ 2368     0.442038\n",
       "WT-6-S2 _ 655      5.591149\n",
       "WT-4-S4 _ 3829     3.677756\n",
       "WT-3-S6 _ 6138     0.000000\n",
       "WT-2-S3 _ 1824     0.000000\n",
       "WT-7-S4 _ 3283     0.241226\n",
       "WT-4-S4 _ 1826     0.323319\n",
       "WT-8-S4 _ 7317     0.000000"
      ]
     },
     "metadata": {},
     "output_type": "display_data"
    }
   ],
   "source": [
    "LS.HCR@meta.data"
   ]
  },
  {
   "cell_type": "markdown",
   "metadata": {},
   "source": [
    "#### Data scaling, dimensionality reduction, and visualization"
   ]
  },
  {
   "cell_type": "code",
   "execution_count": 23,
   "metadata": {},
   "outputs": [
    {
     "name": "stderr",
     "output_type": "stream",
     "text": [
      "Regressing out nCount_RNA, nFeature_RNA, drd2, drd3, nts, sst, crhr2, foxp2, col15a1, vgat, vglut2, pax6, tacr1, esr1, met, samd3, onecut2\n",
      "\n",
      "Centering and scaling data matrix\n",
      "\n"
     ]
    }
   ],
   "source": [
    "LS.HCR <- ScaleData(object = LS.HCR, features = rownames(x =LS.HCR), vars.to.regress = c('nCount_RNA','nFeature_RNA','drd2','drd3','nts','sst','crhr2','foxp2','col15a1','vgat','vglut2','pax6','tacr1','esr1','met','samd3','onecut2'))"
   ]
  },
  {
   "cell_type": "code",
   "execution_count": 24,
   "metadata": {
    "scrolled": true
   },
   "outputs": [
    {
     "name": "stderr",
     "output_type": "stream",
     "text": [
      "Warning message in irlba(A = t(x = object), nv = npcs, ...):\n",
      "\"You're computing too large a percentage of total singular values, use a standard svd instead.\"\n"
     ]
    }
   ],
   "source": [
    "LS.HCR<- RunPCA(object = LS.HCR, features = rownames(LS.HCR), verbose = FALSE)"
   ]
  },
  {
   "cell_type": "code",
   "execution_count": 25,
   "metadata": {},
   "outputs": [
    {
     "data": {
      "image/png": "[encoded data removed]",
      "text/plain": [
       "plot without title"
      ]
     },
     "metadata": {
      "image/png": {
       "height": 420,
       "width": 420
      }
     },
     "output_type": "display_data"
    }
   ],
   "source": [
    "DimPlot(LS.HCR, reduction='pca')"
   ]
  },
  {
   "cell_type": "code",
   "execution_count": 26,
   "metadata": {},
   "outputs": [
    {
     "name": "stderr",
     "output_type": "stream",
     "text": [
      "Warning message in ElbowPlot(LS.HCR):\n",
      "\"The object only has information for 14 reductions\"\n"
     ]
    },
    {
     "data": {
      "image/png": "[encoded data removed]",
      "text/plain": [
       "plot without title"
      ]
     },
     "metadata": {
      "image/png": {
       "height": 420,
       "width": 420
      }
     },
     "output_type": "display_data"
    }
   ],
   "source": [
    "ElbowPlot(LS.HCR)"
   ]
  },
  {
   "cell_type": "code",
   "execution_count": 27,
   "metadata": {
    "scrolled": true
   },
   "outputs": [
    {
     "name": "stderr",
     "output_type": "stream",
     "text": [
      "Warning message:\n",
      "\"The default method for RunUMAP has changed from calling Python UMAP via reticulate to the R-native UWOT using the cosine metric\n",
      "To use Python UMAP via reticulate, set umap.method to 'umap-learn' and metric to 'correlation'\n",
      "This message will be shown once per session\"\n",
      "09:21:00 UMAP embedding parameters a = 0.9922 b = 1.112\n",
      "\n",
      "09:21:00 Read 20000 rows and found 13 numeric columns\n",
      "\n",
      "09:21:00 Using Annoy for neighbor search, n_neighbors = 30\n",
      "\n",
      "09:21:00 Building Annoy index with metric = cosine, n_trees = 50\n",
      "\n",
      "0%   10   20   30   40   50   60   70   80   90   100%\n",
      "\n",
      "[----|----|----|----|----|----|----|----|----|----|\n",
      "\n",
      "*\n",
      "*\n",
      "*\n",
      "*\n",
      "*\n",
      "*\n",
      "*\n",
      "*\n",
      "*\n",
      "*\n",
      "*\n",
      "*\n",
      "*\n",
      "*\n",
      "*\n",
      "*\n",
      "*\n",
      "*\n",
      "*\n",
      "*\n",
      "*\n",
      "*\n",
      "*\n",
      "*\n",
      "*\n",
      "*\n",
      "*\n",
      "*\n",
      "*\n",
      "*\n",
      "*\n",
      "*\n",
      "*\n",
      "*\n",
      "*\n",
      "*\n",
      "*\n",
      "*\n",
      "*\n",
      "*\n",
      "*\n",
      "*\n",
      "*\n",
      "*\n",
      "*\n",
      "*\n",
      "*\n",
      "*\n",
      "*\n",
      "*\n",
      "|\n",
      "\n",
      "09:21:03 Writing NN index file to temp file C:\\Users\\STUBER~1\\AppData\\Local\\Temp\\RtmpmIRxWk\\file263c7876138a\n",
      "\n",
      "09:21:03 Searching Annoy index using 1 thread, search_k = 3000\n",
      "\n",
      "09:21:08 Annoy recall = 100%\n",
      "\n",
      "09:21:09 Commencing smooth kNN distance calibration using 1 thread\n",
      "\n",
      "09:21:12 Initializing from normalized Laplacian + noise\n",
      "\n",
      "09:21:12 Commencing optimization for 200 epochs, with 836254 positive edges\n",
      "\n",
      "09:21:28 Optimization finished\n",
      "\n"
     ]
    }
   ],
   "source": [
    "LS.HCR <- RunUMAP(LS.HCR, reduction='pca', dims=1:13)"
   ]
  },
  {
   "cell_type": "code",
   "execution_count": 28,
   "metadata": {
    "scrolled": false
   },
   "outputs": [
    {
     "name": "stderr",
     "output_type": "stream",
     "text": [
      "Computing nearest neighbor graph\n",
      "\n",
      "Computing SNN\n",
      "\n"
     ]
    }
   ],
   "source": [
    "LS.HCR<- FindNeighbors(object =LS.HCR, dims=1:13)"
   ]
  },
  {
   "cell_type": "code",
   "execution_count": 29,
   "metadata": {},
   "outputs": [
    {
     "name": "stdout",
     "output_type": "stream",
     "text": [
      "Modularity Optimizer version 1.3.0 by Ludo Waltman and Nees Jan van Eck\n",
      "\n",
      "Number of nodes: 20000\n",
      "Number of edges: 656073\n",
      "\n",
      "Running Louvain algorithm...\n",
      "Maximum modularity in 10 random starts: 0.9587\n",
      "Number of communities: 14\n",
      "Elapsed time: 1 seconds\n"
     ]
    }
   ],
   "source": [
    "LS.HCR<- FindClusters(object = LS.HCR, resolution = 0.15)"
   ]
  },
  {
   "cell_type": "code",
   "execution_count": 30,
   "metadata": {},
   "outputs": [],
   "source": [
    "?FindClusters"
   ]
  },
  {
   "cell_type": "code",
   "execution_count": null,
   "metadata": {},
   "outputs": [],
   "source": [
    "library(ggplot2)"
   ]
  },
  {
   "cell_type": "code",
   "execution_count": 31,
   "metadata": {},
   "outputs": [],
   "source": [
    "saveRDS(LS.HCR, file=\"HCR_snRNAseq_files/LS_HCR_int_threshold_UMAP_scaled-int.rds\")"
   ]
  },
  {
   "cell_type": "markdown",
   "metadata": {},
   "source": [
    "#### Looking at the clustered data"
   ]
  },
  {
   "cell_type": "code",
   "execution_count": 77,
   "metadata": {},
   "outputs": [],
   "source": [
    "LS.HCR <- readRDS(file=\"HCR_snRNAseq_files/LS_HCR_int_threshold_UMAP_scaled-int.rds\")"
   ]
  },
  {
   "cell_type": "code",
   "execution_count": 78,
   "metadata": {},
   "outputs": [
    {
     "data": {
      "text/plain": [
       "\n",
       "    0     1     2     3     4     5     6     7     8     9    10    11    12 \n",
       "25467 23076 22898 21621 17733 14264 12888  9089  6291  5813  5675  5307  3278 \n",
       "   13 \n",
       " 2237 "
      ]
     },
     "metadata": {},
     "output_type": "display_data"
    }
   ],
   "source": [
    "table(Idents(LS.HCR))"
   ]
  },
  {
   "cell_type": "code",
   "execution_count": 82,
   "metadata": {},
   "outputs": [
    {
     "data": {
      "image/png": "[encoded data removed]",
      "text/plain": [
       "plot without title"
      ]
     },
     "metadata": {
      "image/png": {
       "height": 420,
       "width": 420
      }
     },
     "output_type": "display_data"
    }
   ],
   "source": [
    "DotPlot(LS.HCR,feature=c('Col15a1','Met','Nts','Sst','Crhr2','Drd3','Esr1','Foxp2','Tacr1','Pax6','Drd2','Samd3','Onecut2','Slc17a6','Slc32a1'), scale=FALSE, cols=c('gray','red'), assay='RNA')+\n",
    "theme_classic() +\n",
    "    theme(axis.line = element_line(color=\"black\",size=0.25), \n",
    "          axis.text.y=element_text(size=6),\n",
    "          axis.title.x = element_blank(), \n",
    "          axis.title.y = element_text(size=6),\n",
    "          axis.text.x=element_text(size=6) ,\n",
    "          plot.title=element_blank(),\n",
    "          axis.ticks = element_line(colour = \"black\", size = .25),\n",
    "          legend.position='bottom') \n",
    "#ggsave(\"HCR_snRNAseq_files/LS_HCR_discplot.pdf\", width=6, height=5)"
   ]
  },
  {
   "cell_type": "markdown",
   "metadata": {},
   "source": [
    "Rename idents based on supervised cluster labeling"
   ]
  },
  {
   "cell_type": "code",
   "execution_count": 83,
   "metadata": {},
   "outputs": [],
   "source": [
    "new.ident <- c('Sst','Met','Col15a1','Nts','Drd3','Drd2','Foxp2','Tacr1','Samd3','Pax6','Slc17a6','Crhr2','Esr1','Onecut2')\n",
    "names(x = new.ident) <- levels(x =LS.HCR)\n",
    "LS.HCR <- RenameIdents(object =LS.HCR, new.ident)"
   ]
  },
  {
   "cell_type": "code",
   "execution_count": 84,
   "metadata": {},
   "outputs": [
    {
     "data": {
      "text/plain": [
       "\n",
       "    Sst     Met Col15a1     Nts    Drd3    Drd2   Foxp2   Tacr1   Samd3    Pax6 \n",
       "  25467   23076   22898   21621   17733   14264   12888    9089    6291    5813 \n",
       "Slc17a6   Crhr2    Esr1 Onecut2 \n",
       "   5675    5307    3278    2237 "
      ]
     },
     "metadata": {},
     "output_type": "display_data"
    }
   ],
   "source": [
    "table(Idents(LS.HCR))"
   ]
  },
  {
   "cell_type": "code",
   "execution_count": null,
   "metadata": {},
   "outputs": [],
   "source": []
  },
  {
   "cell_type": "code",
   "execution_count": 85,
   "metadata": {},
   "outputs": [],
   "source": [
    "mycols <- c('Col15a1'='#D2797F','Sst'='#D47D9A','Esr1'='#C579D2','Pax6'='#9D79D2','Tacr1'='#8189D5','Foxp2'='#85A0D6','Drd3'='#88B9D7','Crhr2'='#88D7D7','Nts'='#90DAB9','Met'='#94DB96','Samd3'='#DDE0A3','Onecut2'='#E7BFB6')"
   ]
  },
  {
   "cell_type": "code",
   "execution_count": 86,
   "metadata": {},
   "outputs": [
    {
     "name": "stderr",
     "output_type": "stream",
     "text": [
      "Warning message in order(as.integer(names(mycols))):\n",
      "\"NAs introduced by coercion\"\n"
     ]
    },
    {
     "data": {
      "image/png": "[encoded data removed]",
      "text/plain": [
       "plot without title"
      ]
     },
     "metadata": {
      "image/png": {
       "height": 420,
       "width": 420
      }
     },
     "output_type": "display_data"
    }
   ],
   "source": [
    "my_cols2 <- mycols[order(as.integer(names(mycols)))]\n",
    "scales::show_col(my_cols2)"
   ]
  },
  {
   "cell_type": "code",
   "execution_count": 87,
   "metadata": {},
   "outputs": [
    {
     "name": "stderr",
     "output_type": "stream",
     "text": [
      "Rasterizing points since number of points exceeds 100,000.\n",
      "To disable this behavior set `raster=FALSE`\n",
      "\n"
     ]
    },
    {
     "data": {
      "image/png": "[encoded data removed]",
      "text/plain": [
       "plot without title"
      ]
     },
     "metadata": {
      "image/png": {
       "height": 420,
       "width": 420
      }
     },
     "output_type": "display_data"
    }
   ],
   "source": [
    "DimPlot(object = LS.HCR, reduction = \"umap\", label = TRUE, repel = TRUE, pt.size = 0.25, label.size=2.5, cols=my_cols2) +\n",
    "theme_classic() + \n",
    "NoLegend() + \n",
    "theme(axis.line=element_blank(),\n",
    "     axis.text=element_blank(),\n",
    "     axis.title=element_blank(),\n",
    "     axis.ticks=element_blank())"
   ]
  },
  {
   "cell_type": "markdown",
   "metadata": {},
   "source": [
    "#### Quantifying gene expression"
   ]
  },
  {
   "cell_type": "code",
   "execution_count": 143,
   "metadata": {},
   "outputs": [],
   "source": [
    "for (i in 1:length(new.ident)){\n",
    "assign(paste(new.ident[i],\"_barcode\",sep=\"\"),colnames(LS.HCR@assays$RNA@data[,which(Idents(object=LS.HCR) %in% new.ident[i])]))}"
   ]
  },
  {
   "cell_type": "code",
   "execution_count": 91,
   "metadata": {},
   "outputs": [],
   "source": [
    "celltype<-vector()\n",
    "for (i in 1:dim(LS.HCR@meta.data)[1]){\n",
    "    celltype[i]<-toString(new.ident[LS.HCR@meta.data$seurat_clusters[i]])\n",
    "}\n",
    "LS.HCR@meta.data$celltype<-celltype"
   ]
  },
  {
   "cell_type": "code",
   "execution_count": 144,
   "metadata": {},
   "outputs": [],
   "source": [
    "barcode_names <- unique(paste(Idents(LS.HCR),\"_barcode\",sep=\"\"))"
   ]
  },
  {
   "cell_type": "code",
   "execution_count": 96,
   "metadata": {},
   "outputs": [
    {
     "data": {
      "text/html": [
       "<table class=\"dataframe\">\n",
       "<caption>A data.frame: 175637 × 21</caption>\n",
       "<thead>\n",
       "\t<tr><th></th><th scope=col>orig.ident</th><th scope=col>nCount_RNA</th><th scope=col>nFeature_RNA</th><th scope=col>drd2</th><th scope=col>drd3</th><th scope=col>esr1</th><th scope=col>foxp2</th><th scope=col>met</th><th scope=col>nts</th><th scope=col>onecut2</th><th scope=col>...</th><th scope=col>samd3</th><th scope=col>sst</th><th scope=col>tacr1</th><th scope=col>vgat</th><th scope=col>vglut2</th><th scope=col>col15a1</th><th scope=col>crhr2</th><th scope=col>RNA_snn_res.0.15</th><th scope=col>seurat_clusters</th><th scope=col>celltype</th></tr>\n",
       "\t<tr><th></th><th scope=col>&lt;fct&gt;</th><th scope=col>&lt;dbl&gt;</th><th scope=col>&lt;int&gt;</th><th scope=col>&lt;dbl&gt;</th><th scope=col>&lt;dbl&gt;</th><th scope=col>&lt;dbl&gt;</th><th scope=col>&lt;dbl&gt;</th><th scope=col>&lt;dbl&gt;</th><th scope=col>&lt;dbl&gt;</th><th scope=col>&lt;dbl&gt;</th><th scope=col>...</th><th scope=col>&lt;dbl&gt;</th><th scope=col>&lt;dbl&gt;</th><th scope=col>&lt;dbl&gt;</th><th scope=col>&lt;dbl&gt;</th><th scope=col>&lt;dbl&gt;</th><th scope=col>&lt;dbl&gt;</th><th scope=col>&lt;dbl&gt;</th><th scope=col>&lt;fct&gt;</th><th scope=col>&lt;fct&gt;</th><th scope=col>&lt;chr&gt;</th></tr>\n",
       "</thead>\n",
       "<tbody>\n",
       "\t<tr><th scope=row>WT-1-S2 _ 1</th><td>SeuratProject</td><td>118</td><td>2</td><td>0.000000</td><td>0.000000</td><td>0.000000</td><td> 0.000000</td><td> 0.000000</td><td>0.000000</td><td>0</td><td>...</td><td>0</td><td>0.000000</td><td>0.808824</td><td>0</td><td>10.042892</td><td>0.000000</td><td> 0.000000</td><td>3</td><td>3</td><td>Nts    </td></tr>\n",
       "\t<tr><th scope=row>WT-1-S2 _ 2</th><td>SeuratProject</td><td> 86</td><td>2</td><td>0.000000</td><td>0.814951</td><td>0.000000</td><td> 0.000000</td><td> 9.099265</td><td>0.000000</td><td>0</td><td>...</td><td>0</td><td>0.000000</td><td>0.000000</td><td>0</td><td> 0.000000</td><td>0.000000</td><td> 0.000000</td><td>3</td><td>3</td><td>Nts    </td></tr>\n",
       "\t<tr><th scope=row>WT-1-S2 _ 3</th><td>SeuratProject</td><td> 84</td><td>2</td><td>0.000000</td><td>0.000000</td><td>0.000000</td><td> 0.000000</td><td> 0.000000</td><td>5.110294</td><td>0</td><td>...</td><td>0</td><td>0.000000</td><td>0.000000</td><td>0</td><td> 0.000000</td><td>0.000000</td><td> 0.000000</td><td>2</td><td>2</td><td>Col15a1</td></tr>\n",
       "\t<tr><th scope=row>WT-1-S2 _ 4</th><td>SeuratProject</td><td>206</td><td>2</td><td>0.000000</td><td>1.011029</td><td>0.000000</td><td> 0.000000</td><td> 0.000000</td><td>3.633579</td><td>0</td><td>...</td><td>0</td><td>0.000000</td><td>0.000000</td><td>0</td><td> 0.000000</td><td>0.000000</td><td> 0.000000</td><td>2</td><td>2</td><td>Col15a1</td></tr>\n",
       "\t<tr><th scope=row>WT-1-S2 _ 6</th><td>SeuratProject</td><td>174</td><td>2</td><td>0.000000</td><td>0.000000</td><td>0.000000</td><td> 0.000000</td><td>11.047794</td><td>0.000000</td><td>0</td><td>...</td><td>0</td><td>0.000000</td><td>1.734069</td><td>0</td><td> 0.000000</td><td>0.000000</td><td> 0.000000</td><td>3</td><td>3</td><td>Nts    </td></tr>\n",
       "\t<tr><th scope=row>WT-1-S2 _ 12</th><td>SeuratProject</td><td> 89</td><td>3</td><td>0.000000</td><td>0.379902</td><td>0.000000</td><td> 0.000000</td><td> 0.000000</td><td>0.000000</td><td>0</td><td>...</td><td>0</td><td>0.000000</td><td>0.000000</td><td>0</td><td> 0.000000</td><td>0.000000</td><td> 0.000000</td><td>8</td><td>8</td><td>Samd3  </td></tr>\n",
       "\t<tr><th scope=row>WT-1-S2 _ 16</th><td>SeuratProject</td><td> 68</td><td>2</td><td>0.000000</td><td>0.000000</td><td>0.000000</td><td> 0.000000</td><td> 0.000000</td><td>0.000000</td><td>0</td><td>...</td><td>0</td><td>0.000000</td><td>0.000000</td><td>0</td><td> 0.000000</td><td>0.416667</td><td> 0.000000</td><td>2</td><td>2</td><td>Col15a1</td></tr>\n",
       "\t<tr><th scope=row>WT-1-S2 _ 17</th><td>SeuratProject</td><td> 45</td><td>2</td><td>0.000000</td><td>0.000000</td><td>0.000000</td><td> 0.000000</td><td> 0.000000</td><td>0.000000</td><td>0</td><td>...</td><td>0</td><td>0.000000</td><td>0.000000</td><td>0</td><td> 0.000000</td><td>0.000000</td><td> 0.000000</td><td>2</td><td>2</td><td>Col15a1</td></tr>\n",
       "\t<tr><th scope=row>WT-1-S2 _ 20</th><td>SeuratProject</td><td> 26</td><td>3</td><td>0.000000</td><td>0.000000</td><td>0.000000</td><td> 0.000000</td><td> 0.000000</td><td>0.000000</td><td>0</td><td>...</td><td>0</td><td>0.000000</td><td>0.000000</td><td>0</td><td> 0.000000</td><td>0.000000</td><td> 0.000000</td><td>2</td><td>2</td><td>Col15a1</td></tr>\n",
       "\t<tr><th scope=row>WT-1-S2 _ 23</th><td>SeuratProject</td><td>149</td><td>2</td><td>0.000000</td><td>0.000000</td><td>0.000000</td><td> 0.000000</td><td> 0.000000</td><td>7.965686</td><td>0</td><td>...</td><td>0</td><td>0.337010</td><td>0.000000</td><td>0</td><td> 3.645833</td><td>0.000000</td><td> 0.000000</td><td>2</td><td>2</td><td>Col15a1</td></tr>\n",
       "\t<tr><th scope=row>WT-1-S2 _ 25</th><td>SeuratProject</td><td>100</td><td>2</td><td>0.000000</td><td>0.000000</td><td>0.000000</td><td> 0.000000</td><td> 0.000000</td><td>2.064951</td><td>0</td><td>...</td><td>0</td><td>0.000000</td><td>0.000000</td><td>0</td><td> 0.000000</td><td>0.000000</td><td> 0.000000</td><td>2</td><td>2</td><td>Col15a1</td></tr>\n",
       "\t<tr><th scope=row>WT-1-S2 _ 30</th><td>SeuratProject</td><td>127</td><td>2</td><td>0.000000</td><td>0.000000</td><td>0.000000</td><td> 0.000000</td><td> 0.000000</td><td>6.850490</td><td>0</td><td>...</td><td>0</td><td>0.000000</td><td>0.416667</td><td>0</td><td> 0.000000</td><td>0.000000</td><td> 0.000000</td><td>3</td><td>3</td><td>Nts    </td></tr>\n",
       "\t<tr><th scope=row>WT-1-S2 _ 33</th><td>SeuratProject</td><td> 81</td><td>2</td><td>0.000000</td><td>0.000000</td><td>0.000000</td><td> 0.000000</td><td> 0.000000</td><td>0.000000</td><td>0</td><td>...</td><td>0</td><td>0.484069</td><td>0.784314</td><td>0</td><td> 0.000000</td><td>0.000000</td><td> 0.000000</td><td>3</td><td>3</td><td>Nts    </td></tr>\n",
       "\t<tr><th scope=row>WT-1-S2 _ 34</th><td>SeuratProject</td><td>150</td><td>2</td><td>0.000000</td><td>4.001225</td><td>0.306373</td><td>38.988970</td><td> 0.000000</td><td>0.000000</td><td>0</td><td>...</td><td>0</td><td>0.000000</td><td>0.000000</td><td>0</td><td> 0.000000</td><td>0.000000</td><td> 0.000000</td><td>2</td><td>2</td><td>Col15a1</td></tr>\n",
       "\t<tr><th scope=row>WT-1-S2 _ 35</th><td>SeuratProject</td><td> 49</td><td>2</td><td>4.019608</td><td>0.441176</td><td>0.000000</td><td> 0.000000</td><td> 0.000000</td><td>4.957108</td><td>0</td><td>...</td><td>0</td><td>0.367647</td><td>0.000000</td><td>0</td><td> 0.000000</td><td>0.000000</td><td> 0.000000</td><td>3</td><td>3</td><td>Nts    </td></tr>\n",
       "\t<tr><th scope=row>WT-1-S2 _ 38</th><td>SeuratProject</td><td>157</td><td>2</td><td>0.000000</td><td>1.795343</td><td>0.000000</td><td> 0.000000</td><td> 0.000000</td><td>0.502451</td><td>0</td><td>...</td><td>0</td><td>0.000000</td><td>0.000000</td><td>0</td><td> 0.000000</td><td>0.000000</td><td> 0.000000</td><td>2</td><td>2</td><td>Col15a1</td></tr>\n",
       "\t<tr><th scope=row>WT-1-S2 _ 39</th><td>SeuratProject</td><td>136</td><td>2</td><td>0.000000</td><td>0.000000</td><td>0.000000</td><td> 0.000000</td><td> 0.000000</td><td>0.000000</td><td>0</td><td>...</td><td>0</td><td>0.000000</td><td>0.000000</td><td>0</td><td> 0.000000</td><td>0.000000</td><td> 0.000000</td><td>8</td><td>8</td><td>Samd3  </td></tr>\n",
       "\t<tr><th scope=row>WT-1-S2 _ 40</th><td>SeuratProject</td><td>115</td><td>2</td><td>0.000000</td><td>1.960784</td><td>0.000000</td><td> 0.000000</td><td> 0.000000</td><td>4.509804</td><td>0</td><td>...</td><td>0</td><td>0.165441</td><td>0.000000</td><td>0</td><td> 0.000000</td><td>0.000000</td><td> 0.000000</td><td>2</td><td>2</td><td>Col15a1</td></tr>\n",
       "\t<tr><th scope=row>WT-1-S2 _ 42</th><td>SeuratProject</td><td> 65</td><td>2</td><td>0.000000</td><td>0.000000</td><td>0.000000</td><td> 0.000000</td><td> 0.000000</td><td>0.000000</td><td>0</td><td>...</td><td>0</td><td>0.000000</td><td>0.000000</td><td>0</td><td> 0.000000</td><td>0.000000</td><td> 0.000000</td><td>3</td><td>3</td><td>Nts    </td></tr>\n",
       "\t<tr><th scope=row>WT-1-S2 _ 47</th><td>SeuratProject</td><td> 62</td><td>3</td><td>0.000000</td><td>0.000000</td><td>0.000000</td><td> 0.000000</td><td> 0.000000</td><td>0.000000</td><td>0</td><td>...</td><td>0</td><td>0.000000</td><td>0.000000</td><td>0</td><td> 1.133578</td><td>0.000000</td><td> 0.000000</td><td>8</td><td>8</td><td>Samd3  </td></tr>\n",
       "\t<tr><th scope=row>WT-1-S2 _ 49</th><td>SeuratProject</td><td>145</td><td>2</td><td>0.000000</td><td>0.000000</td><td>0.000000</td><td> 0.000000</td><td> 0.000000</td><td>0.000000</td><td>0</td><td>...</td><td>0</td><td>0.870098</td><td>0.000000</td><td>0</td><td> 0.000000</td><td>0.000000</td><td> 0.000000</td><td>3</td><td>3</td><td>Nts    </td></tr>\n",
       "\t<tr><th scope=row>WT-1-S2 _ 51</th><td>SeuratProject</td><td> 21</td><td>2</td><td>0.000000</td><td>0.000000</td><td>0.000000</td><td> 0.000000</td><td> 0.000000</td><td>0.000000</td><td>0</td><td>...</td><td>0</td><td>0.000000</td><td>0.000000</td><td>0</td><td> 0.000000</td><td>0.000000</td><td> 0.000000</td><td>2</td><td>2</td><td>Col15a1</td></tr>\n",
       "\t<tr><th scope=row>WT-1-S2 _ 55</th><td>SeuratProject</td><td>152</td><td>2</td><td>0.000000</td><td>2.916667</td><td>0.000000</td><td>52.892160</td><td> 0.000000</td><td>0.000000</td><td>0</td><td>...</td><td>0</td><td>0.000000</td><td>0.000000</td><td>0</td><td>23.014706</td><td>0.000000</td><td> 0.000000</td><td>2</td><td>2</td><td>Col15a1</td></tr>\n",
       "\t<tr><th scope=row>WT-1-S2 _ 56</th><td>SeuratProject</td><td>141</td><td>2</td><td>0.000000</td><td>1.023284</td><td>0.000000</td><td> 0.000000</td><td> 0.000000</td><td>1.158088</td><td>0</td><td>...</td><td>0</td><td>0.000000</td><td>0.000000</td><td>0</td><td> 0.000000</td><td>0.000000</td><td> 0.000000</td><td>6</td><td>6</td><td>Foxp2  </td></tr>\n",
       "\t<tr><th scope=row>WT-1-S2 _ 62</th><td>SeuratProject</td><td>110</td><td>3</td><td>0.000000</td><td>0.000000</td><td>0.000000</td><td> 0.000000</td><td> 0.000000</td><td>0.000000</td><td>0</td><td>...</td><td>0</td><td>0.000000</td><td>0.000000</td><td>0</td><td> 0.000000</td><td>0.000000</td><td> 0.000000</td><td>2</td><td>2</td><td>Col15a1</td></tr>\n",
       "\t<tr><th scope=row>WT-1-S2 _ 64</th><td>SeuratProject</td><td> 83</td><td>2</td><td>0.000000</td><td>0.000000</td><td>0.000000</td><td>79.944855</td><td> 0.000000</td><td>0.000000</td><td>0</td><td>...</td><td>0</td><td>0.000000</td><td>0.000000</td><td>0</td><td> 0.000000</td><td>0.416667</td><td> 0.000000</td><td>3</td><td>3</td><td>Nts    </td></tr>\n",
       "\t<tr><th scope=row>WT-1-S2 _ 69</th><td>SeuratProject</td><td>230</td><td>2</td><td>0.000000</td><td>1.960784</td><td>0.294118</td><td> 2.959559</td><td> 0.000000</td><td>1.182598</td><td>0</td><td>...</td><td>0</td><td>0.000000</td><td>0.000000</td><td>0</td><td> 0.000000</td><td>0.000000</td><td> 0.000000</td><td>2</td><td>2</td><td>Col15a1</td></tr>\n",
       "\t<tr><th scope=row>WT-1-S2 _ 72</th><td>SeuratProject</td><td> 82</td><td>2</td><td>1.715686</td><td>0.000000</td><td>0.000000</td><td> 0.000000</td><td> 0.000000</td><td>6.795343</td><td>0</td><td>...</td><td>0</td><td>0.000000</td><td>0.000000</td><td>0</td><td> 0.000000</td><td>0.000000</td><td> 2.561275</td><td>8</td><td>8</td><td>Samd3  </td></tr>\n",
       "\t<tr><th scope=row>WT-1-S2 _ 73</th><td>SeuratProject</td><td>427</td><td>2</td><td>0.000000</td><td>8.137255</td><td>0.000000</td><td> 0.000000</td><td> 0.000000</td><td>0.000000</td><td>0</td><td>...</td><td>0</td><td>0.000000</td><td>2.414216</td><td>0</td><td> 0.000000</td><td>0.000000</td><td>10.196078</td><td>3</td><td>3</td><td>Nts    </td></tr>\n",
       "\t<tr><th scope=row>WT-1-S2 _ 74</th><td>SeuratProject</td><td>368</td><td>2</td><td>0.000000</td><td>0.000000</td><td>0.000000</td><td> 0.000000</td><td> 0.000000</td><td>8.878676</td><td>0</td><td>...</td><td>0</td><td>0.502451</td><td>0.000000</td><td>0</td><td> 0.000000</td><td>0.000000</td><td> 0.000000</td><td>3</td><td>3</td><td>Nts    </td></tr>\n",
       "\t<tr><th scope=row>...</th><td>...</td><td>...</td><td>...</td><td>...</td><td>...</td><td>...</td><td>...</td><td>...</td><td>...</td><td>...</td><td></td><td>...</td><td>...</td><td>...</td><td>...</td><td>...</td><td>...</td><td>...</td><td>...</td><td>...</td><td>...</td></tr>\n",
       "\t<tr><th scope=row>WT-8-S6 _ 10066</th><td>SeuratProject</td><td>176</td><td>4</td><td>0.217230</td><td>0.084619</td><td>0.000000</td><td>9.345946</td><td>0.000000</td><td>0.064411</td><td>0</td><td>...</td><td>0.000000</td><td>0.000000</td><td>0.957328</td><td>0.000000</td><td> 0.502660</td><td>0.056833</td><td>0.764094</td><td>12</td><td>12</td><td>Esr1   </td></tr>\n",
       "\t<tr><th scope=row>WT-8-S6 _ 10067</th><td>SeuratProject</td><td> 17</td><td>2</td><td>0.548127</td><td>0.087145</td><td>0.000000</td><td>0.000000</td><td>0.593594</td><td>0.000000</td><td>0</td><td>...</td><td>0.332160</td><td>0.000000</td><td>0.474875</td><td>0.000000</td><td> 0.000000</td><td>0.000000</td><td>0.000000</td><td>10</td><td>10</td><td>Slc17a6</td></tr>\n",
       "\t<tr><th scope=row>WT-8-S6 _ 10068</th><td>SeuratProject</td><td> 20</td><td>3</td><td>0.000000</td><td>0.000000</td><td>0.000000</td><td>0.000000</td><td>4.672973</td><td>0.334686</td><td>0</td><td>...</td><td>0.000000</td><td>0.391519</td><td>0.000000</td><td>0.000000</td><td> 0.000000</td><td>0.000000</td><td>1.515559</td><td>10</td><td>10</td><td>Slc17a6</td></tr>\n",
       "\t<tr><th scope=row>WT-8-S6 _ 10071</th><td>SeuratProject</td><td> 84</td><td>2</td><td>0.652953</td><td>0.088408</td><td>0.000000</td><td>0.000000</td><td>0.000000</td><td>0.613801</td><td>0</td><td>...</td><td>0.000000</td><td>0.068200</td><td>0.000000</td><td>0.000000</td><td> 6.365347</td><td>0.184393</td><td>0.000000</td><td>8 </td><td>8 </td><td>Samd3  </td></tr>\n",
       "\t<tr><th scope=row>WT-8-S6 _ 10074</th><td>SeuratProject</td><td> 36</td><td>4</td><td>1.609018</td><td>0.430671</td><td>0.468560</td><td>5.770490</td><td>0.000000</td><td>0.000000</td><td>0</td><td>...</td><td>0.000000</td><td>0.000000</td><td>0.000000</td><td>0.000000</td><td> 0.000000</td><td>0.000000</td><td>1.142984</td><td>10</td><td>10</td><td>Slc17a6</td></tr>\n",
       "\t<tr><th scope=row>WT-8-S6 _ 10081</th><td>SeuratProject</td><td>108</td><td>2</td><td>0.000000</td><td>0.962380</td><td>0.335949</td><td>2.931343</td><td>0.000000</td><td>0.000000</td><td>0</td><td>...</td><td>0.000000</td><td>0.000000</td><td>0.000000</td><td>0.000000</td><td> 0.000000</td><td>0.000000</td><td>0.000000</td><td>2 </td><td>2 </td><td>Col15a1</td></tr>\n",
       "\t<tr><th scope=row>WT-8-S6 _ 10084</th><td>SeuratProject</td><td> 12</td><td>2</td><td>0.000000</td><td>0.042941</td><td>0.000000</td><td>1.672167</td><td>0.419305</td><td>0.000000</td><td>0</td><td>...</td><td>0.405412</td><td>0.000000</td><td>0.000000</td><td>0.000000</td><td> 0.135137</td><td>0.000000</td><td>0.000000</td><td>2 </td><td>2 </td><td>Col15a1</td></tr>\n",
       "\t<tr><th scope=row>WT-8-S6 _ 10088</th><td>SeuratProject</td><td>100</td><td>2</td><td>0.000000</td><td>0.042941</td><td>0.563283</td><td>5.222363</td><td>4.239776</td><td>0.484979</td><td>0</td><td>...</td><td>0.000000</td><td>0.000000</td><td>0.000000</td><td>0.000000</td><td> 1.458725</td><td>0.000000</td><td>0.314478</td><td>8 </td><td>8 </td><td>Samd3  </td></tr>\n",
       "\t<tr><th scope=row>WT-8-S6 _ 10089</th><td>SeuratProject</td><td> 31</td><td>3</td><td>0.767883</td><td>0.092196</td><td>0.000000</td><td>0.000000</td><td>0.421831</td><td>2.123045</td><td>0</td><td>...</td><td>0.000000</td><td>0.185656</td><td>0.000000</td><td>0.000000</td><td> 0.000000</td><td>0.000000</td><td>2.532246</td><td>10</td><td>10</td><td>Slc17a6</td></tr>\n",
       "\t<tr><th scope=row>WT-8-S6 _ 10092</th><td>SeuratProject</td><td>139</td><td>2</td><td>0.000000</td><td>0.000000</td><td>0.000000</td><td>0.000000</td><td>0.000000</td><td>0.000000</td><td>0</td><td>...</td><td>0.000000</td><td>0.000000</td><td>0.000000</td><td>0.000000</td><td> 0.000000</td><td>0.000000</td><td>0.000000</td><td>13</td><td>13</td><td>Onecut2</td></tr>\n",
       "\t<tr><th scope=row>WT-8-S6 _ 10094</th><td>SeuratProject</td><td> 51</td><td>2</td><td>0.109878</td><td>0.089671</td><td>0.000000</td><td>0.000000</td><td>0.000000</td><td>0.450879</td><td>0</td><td>...</td><td>0.000000</td><td>0.000000</td><td>0.000000</td><td>0.000000</td><td> 7.656098</td><td>0.000000</td><td>0.323319</td><td>8 </td><td>8 </td><td>Samd3  </td></tr>\n",
       "\t<tr><th scope=row>WT-8-S6 _ 10100</th><td>SeuratProject</td><td> 16</td><td>2</td><td>0.109878</td><td>0.450879</td><td>0.065674</td><td>2.883351</td><td>0.000000</td><td>1.007847</td><td>0</td><td>...</td><td>0.000000</td><td>0.000000</td><td>0.000000</td><td>0.000000</td><td> 9.436879</td><td>0.000000</td><td>0.108615</td><td>1 </td><td>1 </td><td>Met    </td></tr>\n",
       "\t<tr><th scope=row>WT-8-S6 _ 10101</th><td>SeuratProject</td><td> 84</td><td>2</td><td>0.543075</td><td>0.000000</td><td>0.152819</td><td>0.000000</td><td>1.020476</td><td>0.000000</td><td>0</td><td>...</td><td>0.000000</td><td>0.000000</td><td>0.000000</td><td>0.000000</td><td> 5.553260</td><td>0.000000</td><td>0.323319</td><td>8 </td><td>8 </td><td>Samd3  </td></tr>\n",
       "\t<tr><th scope=row>WT-8-S6 _ 10103</th><td>SeuratProject</td><td> 11</td><td>2</td><td>0.000000</td><td>0.000000</td><td>0.132611</td><td>0.000000</td><td>0.553179</td><td>0.000000</td><td>0</td><td>...</td><td>0.000000</td><td>0.000000</td><td>1.145510</td><td>0.000000</td><td> 0.000000</td><td>0.311953</td><td>0.582227</td><td>10</td><td>10</td><td>Slc17a6</td></tr>\n",
       "\t<tr><th scope=row>WT-8-S6 _ 10104</th><td>SeuratProject</td><td> 59</td><td>2</td><td>0.109878</td><td>0.042941</td><td>0.075778</td><td>0.000000</td><td>1.190977</td><td>0.564546</td><td>0</td><td>...</td><td>0.000000</td><td>0.000000</td><td>0.000000</td><td>0.000000</td><td>16.027035</td><td>0.445827</td><td>0.813350</td><td>8 </td><td>8 </td><td>Samd3  </td></tr>\n",
       "\t<tr><th scope=row>WT-8-S6 _ 10108</th><td>SeuratProject</td><td>113</td><td>3</td><td>0.111141</td><td>2.661069</td><td>0.160397</td><td>0.000000</td><td>0.553179</td><td>1.149299</td><td>0</td><td>...</td><td>0.000000</td><td>0.074515</td><td>0.000000</td><td>0.000000</td><td> 0.000000</td><td>0.549390</td><td>1.731526</td><td>10</td><td>10</td><td>Slc17a6</td></tr>\n",
       "\t<tr><th scope=row>WT-8-S6 _ 10110</th><td>SeuratProject</td><td>101</td><td>2</td><td>0.109878</td><td>0.000000</td><td>0.000000</td><td>0.000000</td><td>3.877305</td><td>0.217230</td><td>0</td><td>...</td><td>0.267749</td><td>0.000000</td><td>0.000000</td><td>0.000000</td><td> 0.397834</td><td>0.000000</td><td>0.676950</td><td>2 </td><td>2 </td><td>Col15a1</td></tr>\n",
       "\t<tr><th scope=row>WT-8-S6 _ 10114</th><td>SeuratProject</td><td> 15</td><td>2</td><td>0.109878</td><td>0.042941</td><td>0.000000</td><td>1.688585</td><td>1.473881</td><td>0.000000</td><td>0</td><td>...</td><td>0.000000</td><td>0.000000</td><td>0.828506</td><td>0.000000</td><td> 0.000000</td><td>0.000000</td><td>0.767883</td><td>10</td><td>10</td><td>Slc17a6</td></tr>\n",
       "\t<tr><th scope=row>WT-8-S6 _ 10117</th><td>SeuratProject</td><td> 88</td><td>3</td><td>0.109878</td><td>0.042941</td><td>0.000000</td><td>4.892729</td><td>0.133874</td><td>1.045736</td><td>0</td><td>...</td><td>0.000000</td><td>1.113936</td><td>0.788091</td><td>0.000000</td><td> 0.000000</td><td>0.000000</td><td>1.740367</td><td>10</td><td>10</td><td>Slc17a6</td></tr>\n",
       "\t<tr><th scope=row>WT-8-S6 _ 10122</th><td>SeuratProject</td><td>135</td><td>3</td><td>0.550653</td><td>0.342264</td><td>0.000000</td><td>2.138201</td><td>2.695169</td><td>0.064411</td><td>0</td><td>...</td><td>0.000000</td><td>0.102300</td><td>0.000000</td><td>0.000000</td><td> 0.000000</td><td>0.108615</td><td>0.322056</td><td>10</td><td>10</td><td>Slc17a6</td></tr>\n",
       "\t<tr><th scope=row>WT-8-S6 _ 10125</th><td>SeuratProject</td><td>259</td><td>3</td><td>0.108615</td><td>0.263960</td><td>0.281641</td><td>1.518085</td><td>1.572392</td><td>0.000000</td><td>0</td><td>...</td><td>0.000000</td><td>0.034100</td><td>0.862606</td><td>0.000000</td><td> 0.000000</td><td>0.000000</td><td>0.712313</td><td>10</td><td>10</td><td>Slc17a6</td></tr>\n",
       "\t<tr><th scope=row>WT-8-S6 _ 10136</th><td>SeuratProject</td><td>273</td><td>4</td><td>0.000000</td><td>0.000000</td><td>0.526657</td><td>0.000000</td><td>0.401623</td><td>0.652953</td><td>0</td><td>...</td><td>0.000000</td><td>0.000000</td><td>0.000000</td><td>0.000000</td><td> 3.439056</td><td>0.000000</td><td>0.940909</td><td>0 </td><td>0 </td><td>Sst    </td></tr>\n",
       "\t<tr><th scope=row>WT-8-S6 _ 10137</th><td>SeuratProject</td><td>359</td><td>6</td><td>0.108615</td><td>0.000000</td><td>0.000000</td><td>0.000000</td><td>0.000000</td><td>0.000000</td><td>0</td><td>...</td><td>0.000000</td><td>0.000000</td><td>0.000000</td><td>0.000000</td><td> 0.798194</td><td>0.000000</td><td>0.317004</td><td>9 </td><td>9 </td><td>Pax6   </td></tr>\n",
       "\t<tr><th scope=row>WT-8-S6 _ 10141</th><td>SeuratProject</td><td> 13</td><td>2</td><td>0.000000</td><td>0.771672</td><td>0.000000</td><td>0.000000</td><td>0.000000</td><td>0.000000</td><td>0</td><td>...</td><td>0.000000</td><td>0.032837</td><td>1.429677</td><td>0.373838</td><td> 7.379508</td><td>0.169237</td><td>0.000000</td><td>8 </td><td>8 </td><td>Samd3  </td></tr>\n",
       "\t<tr><th scope=row>WT-8-S6 _ 10149</th><td>SeuratProject</td><td> 25</td><td>2</td><td>0.334686</td><td>0.132611</td><td>0.149030</td><td>3.643656</td><td>0.735046</td><td>0.000000</td><td>0</td><td>...</td><td>0.000000</td><td>0.000000</td><td>0.000000</td><td>0.000000</td><td> 2.956603</td><td>0.000000</td><td>2.906084</td><td>8 </td><td>8 </td><td>Samd3  </td></tr>\n",
       "\t<tr><th scope=row>WT-8-S6 _ 10155</th><td>SeuratProject</td><td>256</td><td>2</td><td>0.000000</td><td>0.000000</td><td>0.000000</td><td>3.370855</td><td>3.080373</td><td>0.000000</td><td>0</td><td>...</td><td>0.000000</td><td>0.000000</td><td>0.000000</td><td>0.000000</td><td> 4.078116</td><td>0.000000</td><td>0.000000</td><td>8 </td><td>8 </td><td>Samd3  </td></tr>\n",
       "\t<tr><th scope=row>WT-8-S6 _ 10156</th><td>SeuratProject</td><td> 75</td><td>5</td><td>0.558231</td><td>0.764094</td><td>0.346053</td><td>0.000000</td><td>2.956603</td><td>1.212447</td><td>0</td><td>...</td><td>0.000000</td><td>0.000000</td><td>0.000000</td><td>0.000000</td><td> 0.000000</td><td>0.000000</td><td>0.000000</td><td>10</td><td>10</td><td>Slc17a6</td></tr>\n",
       "\t<tr><th scope=row>WT-8-S6 _ 10160</th><td>SeuratProject</td><td> 35</td><td>2</td><td>0.985113</td><td>0.363734</td><td>0.000000</td><td>1.411996</td><td>0.000000</td><td>0.415516</td><td>0</td><td>...</td><td>0.000000</td><td>0.065674</td><td>0.000000</td><td>0.000000</td><td> 1.269281</td><td>0.000000</td><td>1.395577</td><td>2 </td><td>2 </td><td>Col15a1</td></tr>\n",
       "\t<tr><th scope=row>WT-8-S6 _ 10161</th><td>SeuratProject</td><td>382</td><td>6</td><td>1.448622</td><td>0.925754</td><td>0.000000</td><td>1.478933</td><td>2.519617</td><td>0.903020</td><td>0</td><td>...</td><td>0.000000</td><td>0.000000</td><td>0.000000</td><td>0.000000</td><td> 0.000000</td><td>0.000000</td><td>0.318267</td><td>10</td><td>10</td><td>Slc17a6</td></tr>\n",
       "\t<tr><th scope=row>WT-8-S6 _ 10180</th><td>SeuratProject</td><td> 53</td><td>3</td><td>0.899232</td><td>0.472349</td><td>0.000000</td><td>0.000000</td><td>0.988902</td><td>0.137663</td><td>0</td><td>...</td><td>0.000000</td><td>0.000000</td><td>0.000000</td><td>0.000000</td><td> 4.574462</td><td>0.000000</td><td>0.704735</td><td>8 </td><td>8 </td><td>Samd3  </td></tr>\n",
       "</tbody>\n",
       "</table>\n"
      ],
      "text/latex": [
       "A data.frame: 175637 × 21\n",
       "\\begin{tabular}{r|lllllllllllllllllllll}\n",
       "  & orig.ident & nCount\\_RNA & nFeature\\_RNA & drd2 & drd3 & esr1 & foxp2 & met & nts & onecut2 & ... & samd3 & sst & tacr1 & vgat & vglut2 & col15a1 & crhr2 & RNA\\_snn\\_res.0.15 & seurat\\_clusters & celltype\\\\\n",
       "  & <fct> & <dbl> & <int> & <dbl> & <dbl> & <dbl> & <dbl> & <dbl> & <dbl> & <dbl> & ... & <dbl> & <dbl> & <dbl> & <dbl> & <dbl> & <dbl> & <dbl> & <fct> & <fct> & <chr>\\\\\n",
       "\\hline\n",
       "\tWT-1-S2 \\_ 1 & SeuratProject & 118 & 2 & 0.000000 & 0.000000 & 0.000000 &  0.000000 &  0.000000 & 0.000000 & 0 & ... & 0 & 0.000000 & 0.808824 & 0 & 10.042892 & 0.000000 &  0.000000 & 3 & 3 & Nts    \\\\\n",
       "\tWT-1-S2 \\_ 2 & SeuratProject &  86 & 2 & 0.000000 & 0.814951 & 0.000000 &  0.000000 &  9.099265 & 0.000000 & 0 & ... & 0 & 0.000000 & 0.000000 & 0 &  0.000000 & 0.000000 &  0.000000 & 3 & 3 & Nts    \\\\\n",
       "\tWT-1-S2 \\_ 3 & SeuratProject &  84 & 2 & 0.000000 & 0.000000 & 0.000000 &  0.000000 &  0.000000 & 5.110294 & 0 & ... & 0 & 0.000000 & 0.000000 & 0 &  0.000000 & 0.000000 &  0.000000 & 2 & 2 & Col15a1\\\\\n",
       "\tWT-1-S2 \\_ 4 & SeuratProject & 206 & 2 & 0.000000 & 1.011029 & 0.000000 &  0.000000 &  0.000000 & 3.633579 & 0 & ... & 0 & 0.000000 & 0.000000 & 0 &  0.000000 & 0.000000 &  0.000000 & 2 & 2 & Col15a1\\\\\n",
       "\tWT-1-S2 \\_ 6 & SeuratProject & 174 & 2 & 0.000000 & 0.000000 & 0.000000 &  0.000000 & 11.047794 & 0.000000 & 0 & ... & 0 & 0.000000 & 1.734069 & 0 &  0.000000 & 0.000000 &  0.000000 & 3 & 3 & Nts    \\\\\n",
       "\tWT-1-S2 \\_ 12 & SeuratProject &  89 & 3 & 0.000000 & 0.379902 & 0.000000 &  0.000000 &  0.000000 & 0.000000 & 0 & ... & 0 & 0.000000 & 0.000000 & 0 &  0.000000 & 0.000000 &  0.000000 & 8 & 8 & Samd3  \\\\\n",
       "\tWT-1-S2 \\_ 16 & SeuratProject &  68 & 2 & 0.000000 & 0.000000 & 0.000000 &  0.000000 &  0.000000 & 0.000000 & 0 & ... & 0 & 0.000000 & 0.000000 & 0 &  0.000000 & 0.416667 &  0.000000 & 2 & 2 & Col15a1\\\\\n",
       "\tWT-1-S2 \\_ 17 & SeuratProject &  45 & 2 & 0.000000 & 0.000000 & 0.000000 &  0.000000 &  0.000000 & 0.000000 & 0 & ... & 0 & 0.000000 & 0.000000 & 0 &  0.000000 & 0.000000 &  0.000000 & 2 & 2 & Col15a1\\\\\n",
       "\tWT-1-S2 \\_ 20 & SeuratProject &  26 & 3 & 0.000000 & 0.000000 & 0.000000 &  0.000000 &  0.000000 & 0.000000 & 0 & ... & 0 & 0.000000 & 0.000000 & 0 &  0.000000 & 0.000000 &  0.000000 & 2 & 2 & Col15a1\\\\\n",
       "\tWT-1-S2 \\_ 23 & SeuratProject & 149 & 2 & 0.000000 & 0.000000 & 0.000000 &  0.000000 &  0.000000 & 7.965686 & 0 & ... & 0 & 0.337010 & 0.000000 & 0 &  3.645833 & 0.000000 &  0.000000 & 2 & 2 & Col15a1\\\\\n",
       "\tWT-1-S2 \\_ 25 & SeuratProject & 100 & 2 & 0.000000 & 0.000000 & 0.000000 &  0.000000 &  0.000000 & 2.064951 & 0 & ... & 0 & 0.000000 & 0.000000 & 0 &  0.000000 & 0.000000 &  0.000000 & 2 & 2 & Col15a1\\\\\n",
       "\tWT-1-S2 \\_ 30 & SeuratProject & 127 & 2 & 0.000000 & 0.000000 & 0.000000 &  0.000000 &  0.000000 & 6.850490 & 0 & ... & 0 & 0.000000 & 0.416667 & 0 &  0.000000 & 0.000000 &  0.000000 & 3 & 3 & Nts    \\\\\n",
       "\tWT-1-S2 \\_ 33 & SeuratProject &  81 & 2 & 0.000000 & 0.000000 & 0.000000 &  0.000000 &  0.000000 & 0.000000 & 0 & ... & 0 & 0.484069 & 0.784314 & 0 &  0.000000 & 0.000000 &  0.000000 & 3 & 3 & Nts    \\\\\n",
       "\tWT-1-S2 \\_ 34 & SeuratProject & 150 & 2 & 0.000000 & 4.001225 & 0.306373 & 38.988970 &  0.000000 & 0.000000 & 0 & ... & 0 & 0.000000 & 0.000000 & 0 &  0.000000 & 0.000000 &  0.000000 & 2 & 2 & Col15a1\\\\\n",
       "\tWT-1-S2 \\_ 35 & SeuratProject &  49 & 2 & 4.019608 & 0.441176 & 0.000000 &  0.000000 &  0.000000 & 4.957108 & 0 & ... & 0 & 0.367647 & 0.000000 & 0 &  0.000000 & 0.000000 &  0.000000 & 3 & 3 & Nts    \\\\\n",
       "\tWT-1-S2 \\_ 38 & SeuratProject & 157 & 2 & 0.000000 & 1.795343 & 0.000000 &  0.000000 &  0.000000 & 0.502451 & 0 & ... & 0 & 0.000000 & 0.000000 & 0 &  0.000000 & 0.000000 &  0.000000 & 2 & 2 & Col15a1\\\\\n",
       "\tWT-1-S2 \\_ 39 & SeuratProject & 136 & 2 & 0.000000 & 0.000000 & 0.000000 &  0.000000 &  0.000000 & 0.000000 & 0 & ... & 0 & 0.000000 & 0.000000 & 0 &  0.000000 & 0.000000 &  0.000000 & 8 & 8 & Samd3  \\\\\n",
       "\tWT-1-S2 \\_ 40 & SeuratProject & 115 & 2 & 0.000000 & 1.960784 & 0.000000 &  0.000000 &  0.000000 & 4.509804 & 0 & ... & 0 & 0.165441 & 0.000000 & 0 &  0.000000 & 0.000000 &  0.000000 & 2 & 2 & Col15a1\\\\\n",
       "\tWT-1-S2 \\_ 42 & SeuratProject &  65 & 2 & 0.000000 & 0.000000 & 0.000000 &  0.000000 &  0.000000 & 0.000000 & 0 & ... & 0 & 0.000000 & 0.000000 & 0 &  0.000000 & 0.000000 &  0.000000 & 3 & 3 & Nts    \\\\\n",
       "\tWT-1-S2 \\_ 47 & SeuratProject &  62 & 3 & 0.000000 & 0.000000 & 0.000000 &  0.000000 &  0.000000 & 0.000000 & 0 & ... & 0 & 0.000000 & 0.000000 & 0 &  1.133578 & 0.000000 &  0.000000 & 8 & 8 & Samd3  \\\\\n",
       "\tWT-1-S2 \\_ 49 & SeuratProject & 145 & 2 & 0.000000 & 0.000000 & 0.000000 &  0.000000 &  0.000000 & 0.000000 & 0 & ... & 0 & 0.870098 & 0.000000 & 0 &  0.000000 & 0.000000 &  0.000000 & 3 & 3 & Nts    \\\\\n",
       "\tWT-1-S2 \\_ 51 & SeuratProject &  21 & 2 & 0.000000 & 0.000000 & 0.000000 &  0.000000 &  0.000000 & 0.000000 & 0 & ... & 0 & 0.000000 & 0.000000 & 0 &  0.000000 & 0.000000 &  0.000000 & 2 & 2 & Col15a1\\\\\n",
       "\tWT-1-S2 \\_ 55 & SeuratProject & 152 & 2 & 0.000000 & 2.916667 & 0.000000 & 52.892160 &  0.000000 & 0.000000 & 0 & ... & 0 & 0.000000 & 0.000000 & 0 & 23.014706 & 0.000000 &  0.000000 & 2 & 2 & Col15a1\\\\\n",
       "\tWT-1-S2 \\_ 56 & SeuratProject & 141 & 2 & 0.000000 & 1.023284 & 0.000000 &  0.000000 &  0.000000 & 1.158088 & 0 & ... & 0 & 0.000000 & 0.000000 & 0 &  0.000000 & 0.000000 &  0.000000 & 6 & 6 & Foxp2  \\\\\n",
       "\tWT-1-S2 \\_ 62 & SeuratProject & 110 & 3 & 0.000000 & 0.000000 & 0.000000 &  0.000000 &  0.000000 & 0.000000 & 0 & ... & 0 & 0.000000 & 0.000000 & 0 &  0.000000 & 0.000000 &  0.000000 & 2 & 2 & Col15a1\\\\\n",
       "\tWT-1-S2 \\_ 64 & SeuratProject &  83 & 2 & 0.000000 & 0.000000 & 0.000000 & 79.944855 &  0.000000 & 0.000000 & 0 & ... & 0 & 0.000000 & 0.000000 & 0 &  0.000000 & 0.416667 &  0.000000 & 3 & 3 & Nts    \\\\\n",
       "\tWT-1-S2 \\_ 69 & SeuratProject & 230 & 2 & 0.000000 & 1.960784 & 0.294118 &  2.959559 &  0.000000 & 1.182598 & 0 & ... & 0 & 0.000000 & 0.000000 & 0 &  0.000000 & 0.000000 &  0.000000 & 2 & 2 & Col15a1\\\\\n",
       "\tWT-1-S2 \\_ 72 & SeuratProject &  82 & 2 & 1.715686 & 0.000000 & 0.000000 &  0.000000 &  0.000000 & 6.795343 & 0 & ... & 0 & 0.000000 & 0.000000 & 0 &  0.000000 & 0.000000 &  2.561275 & 8 & 8 & Samd3  \\\\\n",
       "\tWT-1-S2 \\_ 73 & SeuratProject & 427 & 2 & 0.000000 & 8.137255 & 0.000000 &  0.000000 &  0.000000 & 0.000000 & 0 & ... & 0 & 0.000000 & 2.414216 & 0 &  0.000000 & 0.000000 & 10.196078 & 3 & 3 & Nts    \\\\\n",
       "\tWT-1-S2 \\_ 74 & SeuratProject & 368 & 2 & 0.000000 & 0.000000 & 0.000000 &  0.000000 &  0.000000 & 8.878676 & 0 & ... & 0 & 0.502451 & 0.000000 & 0 &  0.000000 & 0.000000 &  0.000000 & 3 & 3 & Nts    \\\\\n",
       "\t... & ... & ... & ... & ... & ... & ... & ... & ... & ... & ... &  & ... & ... & ... & ... & ... & ... & ... & ... & ... & ...\\\\\n",
       "\tWT-8-S6 \\_ 10066 & SeuratProject & 176 & 4 & 0.217230 & 0.084619 & 0.000000 & 9.345946 & 0.000000 & 0.064411 & 0 & ... & 0.000000 & 0.000000 & 0.957328 & 0.000000 &  0.502660 & 0.056833 & 0.764094 & 12 & 12 & Esr1   \\\\\n",
       "\tWT-8-S6 \\_ 10067 & SeuratProject &  17 & 2 & 0.548127 & 0.087145 & 0.000000 & 0.000000 & 0.593594 & 0.000000 & 0 & ... & 0.332160 & 0.000000 & 0.474875 & 0.000000 &  0.000000 & 0.000000 & 0.000000 & 10 & 10 & Slc17a6\\\\\n",
       "\tWT-8-S6 \\_ 10068 & SeuratProject &  20 & 3 & 0.000000 & 0.000000 & 0.000000 & 0.000000 & 4.672973 & 0.334686 & 0 & ... & 0.000000 & 0.391519 & 0.000000 & 0.000000 &  0.000000 & 0.000000 & 1.515559 & 10 & 10 & Slc17a6\\\\\n",
       "\tWT-8-S6 \\_ 10071 & SeuratProject &  84 & 2 & 0.652953 & 0.088408 & 0.000000 & 0.000000 & 0.000000 & 0.613801 & 0 & ... & 0.000000 & 0.068200 & 0.000000 & 0.000000 &  6.365347 & 0.184393 & 0.000000 & 8  & 8  & Samd3  \\\\\n",
       "\tWT-8-S6 \\_ 10074 & SeuratProject &  36 & 4 & 1.609018 & 0.430671 & 0.468560 & 5.770490 & 0.000000 & 0.000000 & 0 & ... & 0.000000 & 0.000000 & 0.000000 & 0.000000 &  0.000000 & 0.000000 & 1.142984 & 10 & 10 & Slc17a6\\\\\n",
       "\tWT-8-S6 \\_ 10081 & SeuratProject & 108 & 2 & 0.000000 & 0.962380 & 0.335949 & 2.931343 & 0.000000 & 0.000000 & 0 & ... & 0.000000 & 0.000000 & 0.000000 & 0.000000 &  0.000000 & 0.000000 & 0.000000 & 2  & 2  & Col15a1\\\\\n",
       "\tWT-8-S6 \\_ 10084 & SeuratProject &  12 & 2 & 0.000000 & 0.042941 & 0.000000 & 1.672167 & 0.419305 & 0.000000 & 0 & ... & 0.405412 & 0.000000 & 0.000000 & 0.000000 &  0.135137 & 0.000000 & 0.000000 & 2  & 2  & Col15a1\\\\\n",
       "\tWT-8-S6 \\_ 10088 & SeuratProject & 100 & 2 & 0.000000 & 0.042941 & 0.563283 & 5.222363 & 4.239776 & 0.484979 & 0 & ... & 0.000000 & 0.000000 & 0.000000 & 0.000000 &  1.458725 & 0.000000 & 0.314478 & 8  & 8  & Samd3  \\\\\n",
       "\tWT-8-S6 \\_ 10089 & SeuratProject &  31 & 3 & 0.767883 & 0.092196 & 0.000000 & 0.000000 & 0.421831 & 2.123045 & 0 & ... & 0.000000 & 0.185656 & 0.000000 & 0.000000 &  0.000000 & 0.000000 & 2.532246 & 10 & 10 & Slc17a6\\\\\n",
       "\tWT-8-S6 \\_ 10092 & SeuratProject & 139 & 2 & 0.000000 & 0.000000 & 0.000000 & 0.000000 & 0.000000 & 0.000000 & 0 & ... & 0.000000 & 0.000000 & 0.000000 & 0.000000 &  0.000000 & 0.000000 & 0.000000 & 13 & 13 & Onecut2\\\\\n",
       "\tWT-8-S6 \\_ 10094 & SeuratProject &  51 & 2 & 0.109878 & 0.089671 & 0.000000 & 0.000000 & 0.000000 & 0.450879 & 0 & ... & 0.000000 & 0.000000 & 0.000000 & 0.000000 &  7.656098 & 0.000000 & 0.323319 & 8  & 8  & Samd3  \\\\\n",
       "\tWT-8-S6 \\_ 10100 & SeuratProject &  16 & 2 & 0.109878 & 0.450879 & 0.065674 & 2.883351 & 0.000000 & 1.007847 & 0 & ... & 0.000000 & 0.000000 & 0.000000 & 0.000000 &  9.436879 & 0.000000 & 0.108615 & 1  & 1  & Met    \\\\\n",
       "\tWT-8-S6 \\_ 10101 & SeuratProject &  84 & 2 & 0.543075 & 0.000000 & 0.152819 & 0.000000 & 1.020476 & 0.000000 & 0 & ... & 0.000000 & 0.000000 & 0.000000 & 0.000000 &  5.553260 & 0.000000 & 0.323319 & 8  & 8  & Samd3  \\\\\n",
       "\tWT-8-S6 \\_ 10103 & SeuratProject &  11 & 2 & 0.000000 & 0.000000 & 0.132611 & 0.000000 & 0.553179 & 0.000000 & 0 & ... & 0.000000 & 0.000000 & 1.145510 & 0.000000 &  0.000000 & 0.311953 & 0.582227 & 10 & 10 & Slc17a6\\\\\n",
       "\tWT-8-S6 \\_ 10104 & SeuratProject &  59 & 2 & 0.109878 & 0.042941 & 0.075778 & 0.000000 & 1.190977 & 0.564546 & 0 & ... & 0.000000 & 0.000000 & 0.000000 & 0.000000 & 16.027035 & 0.445827 & 0.813350 & 8  & 8  & Samd3  \\\\\n",
       "\tWT-8-S6 \\_ 10108 & SeuratProject & 113 & 3 & 0.111141 & 2.661069 & 0.160397 & 0.000000 & 0.553179 & 1.149299 & 0 & ... & 0.000000 & 0.074515 & 0.000000 & 0.000000 &  0.000000 & 0.549390 & 1.731526 & 10 & 10 & Slc17a6\\\\\n",
       "\tWT-8-S6 \\_ 10110 & SeuratProject & 101 & 2 & 0.109878 & 0.000000 & 0.000000 & 0.000000 & 3.877305 & 0.217230 & 0 & ... & 0.267749 & 0.000000 & 0.000000 & 0.000000 &  0.397834 & 0.000000 & 0.676950 & 2  & 2  & Col15a1\\\\\n",
       "\tWT-8-S6 \\_ 10114 & SeuratProject &  15 & 2 & 0.109878 & 0.042941 & 0.000000 & 1.688585 & 1.473881 & 0.000000 & 0 & ... & 0.000000 & 0.000000 & 0.828506 & 0.000000 &  0.000000 & 0.000000 & 0.767883 & 10 & 10 & Slc17a6\\\\\n",
       "\tWT-8-S6 \\_ 10117 & SeuratProject &  88 & 3 & 0.109878 & 0.042941 & 0.000000 & 4.892729 & 0.133874 & 1.045736 & 0 & ... & 0.000000 & 1.113936 & 0.788091 & 0.000000 &  0.000000 & 0.000000 & 1.740367 & 10 & 10 & Slc17a6\\\\\n",
       "\tWT-8-S6 \\_ 10122 & SeuratProject & 135 & 3 & 0.550653 & 0.342264 & 0.000000 & 2.138201 & 2.695169 & 0.064411 & 0 & ... & 0.000000 & 0.102300 & 0.000000 & 0.000000 &  0.000000 & 0.108615 & 0.322056 & 10 & 10 & Slc17a6\\\\\n",
       "\tWT-8-S6 \\_ 10125 & SeuratProject & 259 & 3 & 0.108615 & 0.263960 & 0.281641 & 1.518085 & 1.572392 & 0.000000 & 0 & ... & 0.000000 & 0.034100 & 0.862606 & 0.000000 &  0.000000 & 0.000000 & 0.712313 & 10 & 10 & Slc17a6\\\\\n",
       "\tWT-8-S6 \\_ 10136 & SeuratProject & 273 & 4 & 0.000000 & 0.000000 & 0.526657 & 0.000000 & 0.401623 & 0.652953 & 0 & ... & 0.000000 & 0.000000 & 0.000000 & 0.000000 &  3.439056 & 0.000000 & 0.940909 & 0  & 0  & Sst    \\\\\n",
       "\tWT-8-S6 \\_ 10137 & SeuratProject & 359 & 6 & 0.108615 & 0.000000 & 0.000000 & 0.000000 & 0.000000 & 0.000000 & 0 & ... & 0.000000 & 0.000000 & 0.000000 & 0.000000 &  0.798194 & 0.000000 & 0.317004 & 9  & 9  & Pax6   \\\\\n",
       "\tWT-8-S6 \\_ 10141 & SeuratProject &  13 & 2 & 0.000000 & 0.771672 & 0.000000 & 0.000000 & 0.000000 & 0.000000 & 0 & ... & 0.000000 & 0.032837 & 1.429677 & 0.373838 &  7.379508 & 0.169237 & 0.000000 & 8  & 8  & Samd3  \\\\\n",
       "\tWT-8-S6 \\_ 10149 & SeuratProject &  25 & 2 & 0.334686 & 0.132611 & 0.149030 & 3.643656 & 0.735046 & 0.000000 & 0 & ... & 0.000000 & 0.000000 & 0.000000 & 0.000000 &  2.956603 & 0.000000 & 2.906084 & 8  & 8  & Samd3  \\\\\n",
       "\tWT-8-S6 \\_ 10155 & SeuratProject & 256 & 2 & 0.000000 & 0.000000 & 0.000000 & 3.370855 & 3.080373 & 0.000000 & 0 & ... & 0.000000 & 0.000000 & 0.000000 & 0.000000 &  4.078116 & 0.000000 & 0.000000 & 8  & 8  & Samd3  \\\\\n",
       "\tWT-8-S6 \\_ 10156 & SeuratProject &  75 & 5 & 0.558231 & 0.764094 & 0.346053 & 0.000000 & 2.956603 & 1.212447 & 0 & ... & 0.000000 & 0.000000 & 0.000000 & 0.000000 &  0.000000 & 0.000000 & 0.000000 & 10 & 10 & Slc17a6\\\\\n",
       "\tWT-8-S6 \\_ 10160 & SeuratProject &  35 & 2 & 0.985113 & 0.363734 & 0.000000 & 1.411996 & 0.000000 & 0.415516 & 0 & ... & 0.000000 & 0.065674 & 0.000000 & 0.000000 &  1.269281 & 0.000000 & 1.395577 & 2  & 2  & Col15a1\\\\\n",
       "\tWT-8-S6 \\_ 10161 & SeuratProject & 382 & 6 & 1.448622 & 0.925754 & 0.000000 & 1.478933 & 2.519617 & 0.903020 & 0 & ... & 0.000000 & 0.000000 & 0.000000 & 0.000000 &  0.000000 & 0.000000 & 0.318267 & 10 & 10 & Slc17a6\\\\\n",
       "\tWT-8-S6 \\_ 10180 & SeuratProject &  53 & 3 & 0.899232 & 0.472349 & 0.000000 & 0.000000 & 0.988902 & 0.137663 & 0 & ... & 0.000000 & 0.000000 & 0.000000 & 0.000000 &  4.574462 & 0.000000 & 0.704735 & 8  & 8  & Samd3  \\\\\n",
       "\\end{tabular}\n"
      ],
      "text/markdown": [
       "\n",
       "A data.frame: 175637 × 21\n",
       "\n",
       "| <!--/--> | orig.ident &lt;fct&gt; | nCount_RNA &lt;dbl&gt; | nFeature_RNA &lt;int&gt; | drd2 &lt;dbl&gt; | drd3 &lt;dbl&gt; | esr1 &lt;dbl&gt; | foxp2 &lt;dbl&gt; | met &lt;dbl&gt; | nts &lt;dbl&gt; | onecut2 &lt;dbl&gt; | ... ... | samd3 &lt;dbl&gt; | sst &lt;dbl&gt; | tacr1 &lt;dbl&gt; | vgat &lt;dbl&gt; | vglut2 &lt;dbl&gt; | col15a1 &lt;dbl&gt; | crhr2 &lt;dbl&gt; | RNA_snn_res.0.15 &lt;fct&gt; | seurat_clusters &lt;fct&gt; | celltype &lt;chr&gt; |\n",
       "|---|---|---|---|---|---|---|---|---|---|---|---|---|---|---|---|---|---|---|---|---|---|\n",
       "| WT-1-S2 _ 1 | SeuratProject | 118 | 2 | 0.000000 | 0.000000 | 0.000000 |  0.000000 |  0.000000 | 0.000000 | 0 | ... | 0 | 0.000000 | 0.808824 | 0 | 10.042892 | 0.000000 |  0.000000 | 3 | 3 | Nts     |\n",
       "| WT-1-S2 _ 2 | SeuratProject |  86 | 2 | 0.000000 | 0.814951 | 0.000000 |  0.000000 |  9.099265 | 0.000000 | 0 | ... | 0 | 0.000000 | 0.000000 | 0 |  0.000000 | 0.000000 |  0.000000 | 3 | 3 | Nts     |\n",
       "| WT-1-S2 _ 3 | SeuratProject |  84 | 2 | 0.000000 | 0.000000 | 0.000000 |  0.000000 |  0.000000 | 5.110294 | 0 | ... | 0 | 0.000000 | 0.000000 | 0 |  0.000000 | 0.000000 |  0.000000 | 2 | 2 | Col15a1 |\n",
       "| WT-1-S2 _ 4 | SeuratProject | 206 | 2 | 0.000000 | 1.011029 | 0.000000 |  0.000000 |  0.000000 | 3.633579 | 0 | ... | 0 | 0.000000 | 0.000000 | 0 |  0.000000 | 0.000000 |  0.000000 | 2 | 2 | Col15a1 |\n",
       "| WT-1-S2 _ 6 | SeuratProject | 174 | 2 | 0.000000 | 0.000000 | 0.000000 |  0.000000 | 11.047794 | 0.000000 | 0 | ... | 0 | 0.000000 | 1.734069 | 0 |  0.000000 | 0.000000 |  0.000000 | 3 | 3 | Nts     |\n",
       "| WT-1-S2 _ 12 | SeuratProject |  89 | 3 | 0.000000 | 0.379902 | 0.000000 |  0.000000 |  0.000000 | 0.000000 | 0 | ... | 0 | 0.000000 | 0.000000 | 0 |  0.000000 | 0.000000 |  0.000000 | 8 | 8 | Samd3   |\n",
       "| WT-1-S2 _ 16 | SeuratProject |  68 | 2 | 0.000000 | 0.000000 | 0.000000 |  0.000000 |  0.000000 | 0.000000 | 0 | ... | 0 | 0.000000 | 0.000000 | 0 |  0.000000 | 0.416667 |  0.000000 | 2 | 2 | Col15a1 |\n",
       "| WT-1-S2 _ 17 | SeuratProject |  45 | 2 | 0.000000 | 0.000000 | 0.000000 |  0.000000 |  0.000000 | 0.000000 | 0 | ... | 0 | 0.000000 | 0.000000 | 0 |  0.000000 | 0.000000 |  0.000000 | 2 | 2 | Col15a1 |\n",
       "| WT-1-S2 _ 20 | SeuratProject |  26 | 3 | 0.000000 | 0.000000 | 0.000000 |  0.000000 |  0.000000 | 0.000000 | 0 | ... | 0 | 0.000000 | 0.000000 | 0 |  0.000000 | 0.000000 |  0.000000 | 2 | 2 | Col15a1 |\n",
       "| WT-1-S2 _ 23 | SeuratProject | 149 | 2 | 0.000000 | 0.000000 | 0.000000 |  0.000000 |  0.000000 | 7.965686 | 0 | ... | 0 | 0.337010 | 0.000000 | 0 |  3.645833 | 0.000000 |  0.000000 | 2 | 2 | Col15a1 |\n",
       "| WT-1-S2 _ 25 | SeuratProject | 100 | 2 | 0.000000 | 0.000000 | 0.000000 |  0.000000 |  0.000000 | 2.064951 | 0 | ... | 0 | 0.000000 | 0.000000 | 0 |  0.000000 | 0.000000 |  0.000000 | 2 | 2 | Col15a1 |\n",
       "| WT-1-S2 _ 30 | SeuratProject | 127 | 2 | 0.000000 | 0.000000 | 0.000000 |  0.000000 |  0.000000 | 6.850490 | 0 | ... | 0 | 0.000000 | 0.416667 | 0 |  0.000000 | 0.000000 |  0.000000 | 3 | 3 | Nts     |\n",
       "| WT-1-S2 _ 33 | SeuratProject |  81 | 2 | 0.000000 | 0.000000 | 0.000000 |  0.000000 |  0.000000 | 0.000000 | 0 | ... | 0 | 0.484069 | 0.784314 | 0 |  0.000000 | 0.000000 |  0.000000 | 3 | 3 | Nts     |\n",
       "| WT-1-S2 _ 34 | SeuratProject | 150 | 2 | 0.000000 | 4.001225 | 0.306373 | 38.988970 |  0.000000 | 0.000000 | 0 | ... | 0 | 0.000000 | 0.000000 | 0 |  0.000000 | 0.000000 |  0.000000 | 2 | 2 | Col15a1 |\n",
       "| WT-1-S2 _ 35 | SeuratProject |  49 | 2 | 4.019608 | 0.441176 | 0.000000 |  0.000000 |  0.000000 | 4.957108 | 0 | ... | 0 | 0.367647 | 0.000000 | 0 |  0.000000 | 0.000000 |  0.000000 | 3 | 3 | Nts     |\n",
       "| WT-1-S2 _ 38 | SeuratProject | 157 | 2 | 0.000000 | 1.795343 | 0.000000 |  0.000000 |  0.000000 | 0.502451 | 0 | ... | 0 | 0.000000 | 0.000000 | 0 |  0.000000 | 0.000000 |  0.000000 | 2 | 2 | Col15a1 |\n",
       "| WT-1-S2 _ 39 | SeuratProject | 136 | 2 | 0.000000 | 0.000000 | 0.000000 |  0.000000 |  0.000000 | 0.000000 | 0 | ... | 0 | 0.000000 | 0.000000 | 0 |  0.000000 | 0.000000 |  0.000000 | 8 | 8 | Samd3   |\n",
       "| WT-1-S2 _ 40 | SeuratProject | 115 | 2 | 0.000000 | 1.960784 | 0.000000 |  0.000000 |  0.000000 | 4.509804 | 0 | ... | 0 | 0.165441 | 0.000000 | 0 |  0.000000 | 0.000000 |  0.000000 | 2 | 2 | Col15a1 |\n",
       "| WT-1-S2 _ 42 | SeuratProject |  65 | 2 | 0.000000 | 0.000000 | 0.000000 |  0.000000 |  0.000000 | 0.000000 | 0 | ... | 0 | 0.000000 | 0.000000 | 0 |  0.000000 | 0.000000 |  0.000000 | 3 | 3 | Nts     |\n",
       "| WT-1-S2 _ 47 | SeuratProject |  62 | 3 | 0.000000 | 0.000000 | 0.000000 |  0.000000 |  0.000000 | 0.000000 | 0 | ... | 0 | 0.000000 | 0.000000 | 0 |  1.133578 | 0.000000 |  0.000000 | 8 | 8 | Samd3   |\n",
       "| WT-1-S2 _ 49 | SeuratProject | 145 | 2 | 0.000000 | 0.000000 | 0.000000 |  0.000000 |  0.000000 | 0.000000 | 0 | ... | 0 | 0.870098 | 0.000000 | 0 |  0.000000 | 0.000000 |  0.000000 | 3 | 3 | Nts     |\n",
       "| WT-1-S2 _ 51 | SeuratProject |  21 | 2 | 0.000000 | 0.000000 | 0.000000 |  0.000000 |  0.000000 | 0.000000 | 0 | ... | 0 | 0.000000 | 0.000000 | 0 |  0.000000 | 0.000000 |  0.000000 | 2 | 2 | Col15a1 |\n",
       "| WT-1-S2 _ 55 | SeuratProject | 152 | 2 | 0.000000 | 2.916667 | 0.000000 | 52.892160 |  0.000000 | 0.000000 | 0 | ... | 0 | 0.000000 | 0.000000 | 0 | 23.014706 | 0.000000 |  0.000000 | 2 | 2 | Col15a1 |\n",
       "| WT-1-S2 _ 56 | SeuratProject | 141 | 2 | 0.000000 | 1.023284 | 0.000000 |  0.000000 |  0.000000 | 1.158088 | 0 | ... | 0 | 0.000000 | 0.000000 | 0 |  0.000000 | 0.000000 |  0.000000 | 6 | 6 | Foxp2   |\n",
       "| WT-1-S2 _ 62 | SeuratProject | 110 | 3 | 0.000000 | 0.000000 | 0.000000 |  0.000000 |  0.000000 | 0.000000 | 0 | ... | 0 | 0.000000 | 0.000000 | 0 |  0.000000 | 0.000000 |  0.000000 | 2 | 2 | Col15a1 |\n",
       "| WT-1-S2 _ 64 | SeuratProject |  83 | 2 | 0.000000 | 0.000000 | 0.000000 | 79.944855 |  0.000000 | 0.000000 | 0 | ... | 0 | 0.000000 | 0.000000 | 0 |  0.000000 | 0.416667 |  0.000000 | 3 | 3 | Nts     |\n",
       "| WT-1-S2 _ 69 | SeuratProject | 230 | 2 | 0.000000 | 1.960784 | 0.294118 |  2.959559 |  0.000000 | 1.182598 | 0 | ... | 0 | 0.000000 | 0.000000 | 0 |  0.000000 | 0.000000 |  0.000000 | 2 | 2 | Col15a1 |\n",
       "| WT-1-S2 _ 72 | SeuratProject |  82 | 2 | 1.715686 | 0.000000 | 0.000000 |  0.000000 |  0.000000 | 6.795343 | 0 | ... | 0 | 0.000000 | 0.000000 | 0 |  0.000000 | 0.000000 |  2.561275 | 8 | 8 | Samd3   |\n",
       "| WT-1-S2 _ 73 | SeuratProject | 427 | 2 | 0.000000 | 8.137255 | 0.000000 |  0.000000 |  0.000000 | 0.000000 | 0 | ... | 0 | 0.000000 | 2.414216 | 0 |  0.000000 | 0.000000 | 10.196078 | 3 | 3 | Nts     |\n",
       "| WT-1-S2 _ 74 | SeuratProject | 368 | 2 | 0.000000 | 0.000000 | 0.000000 |  0.000000 |  0.000000 | 8.878676 | 0 | ... | 0 | 0.502451 | 0.000000 | 0 |  0.000000 | 0.000000 |  0.000000 | 3 | 3 | Nts     |\n",
       "| ... | ... | ... | ... | ... | ... | ... | ... | ... | ... | ... | <!----> | ... | ... | ... | ... | ... | ... | ... | ... | ... | ... |\n",
       "| WT-8-S6 _ 10066 | SeuratProject | 176 | 4 | 0.217230 | 0.084619 | 0.000000 | 9.345946 | 0.000000 | 0.064411 | 0 | ... | 0.000000 | 0.000000 | 0.957328 | 0.000000 |  0.502660 | 0.056833 | 0.764094 | 12 | 12 | Esr1    |\n",
       "| WT-8-S6 _ 10067 | SeuratProject |  17 | 2 | 0.548127 | 0.087145 | 0.000000 | 0.000000 | 0.593594 | 0.000000 | 0 | ... | 0.332160 | 0.000000 | 0.474875 | 0.000000 |  0.000000 | 0.000000 | 0.000000 | 10 | 10 | Slc17a6 |\n",
       "| WT-8-S6 _ 10068 | SeuratProject |  20 | 3 | 0.000000 | 0.000000 | 0.000000 | 0.000000 | 4.672973 | 0.334686 | 0 | ... | 0.000000 | 0.391519 | 0.000000 | 0.000000 |  0.000000 | 0.000000 | 1.515559 | 10 | 10 | Slc17a6 |\n",
       "| WT-8-S6 _ 10071 | SeuratProject |  84 | 2 | 0.652953 | 0.088408 | 0.000000 | 0.000000 | 0.000000 | 0.613801 | 0 | ... | 0.000000 | 0.068200 | 0.000000 | 0.000000 |  6.365347 | 0.184393 | 0.000000 | 8  | 8  | Samd3   |\n",
       "| WT-8-S6 _ 10074 | SeuratProject |  36 | 4 | 1.609018 | 0.430671 | 0.468560 | 5.770490 | 0.000000 | 0.000000 | 0 | ... | 0.000000 | 0.000000 | 0.000000 | 0.000000 |  0.000000 | 0.000000 | 1.142984 | 10 | 10 | Slc17a6 |\n",
       "| WT-8-S6 _ 10081 | SeuratProject | 108 | 2 | 0.000000 | 0.962380 | 0.335949 | 2.931343 | 0.000000 | 0.000000 | 0 | ... | 0.000000 | 0.000000 | 0.000000 | 0.000000 |  0.000000 | 0.000000 | 0.000000 | 2  | 2  | Col15a1 |\n",
       "| WT-8-S6 _ 10084 | SeuratProject |  12 | 2 | 0.000000 | 0.042941 | 0.000000 | 1.672167 | 0.419305 | 0.000000 | 0 | ... | 0.405412 | 0.000000 | 0.000000 | 0.000000 |  0.135137 | 0.000000 | 0.000000 | 2  | 2  | Col15a1 |\n",
       "| WT-8-S6 _ 10088 | SeuratProject | 100 | 2 | 0.000000 | 0.042941 | 0.563283 | 5.222363 | 4.239776 | 0.484979 | 0 | ... | 0.000000 | 0.000000 | 0.000000 | 0.000000 |  1.458725 | 0.000000 | 0.314478 | 8  | 8  | Samd3   |\n",
       "| WT-8-S6 _ 10089 | SeuratProject |  31 | 3 | 0.767883 | 0.092196 | 0.000000 | 0.000000 | 0.421831 | 2.123045 | 0 | ... | 0.000000 | 0.185656 | 0.000000 | 0.000000 |  0.000000 | 0.000000 | 2.532246 | 10 | 10 | Slc17a6 |\n",
       "| WT-8-S6 _ 10092 | SeuratProject | 139 | 2 | 0.000000 | 0.000000 | 0.000000 | 0.000000 | 0.000000 | 0.000000 | 0 | ... | 0.000000 | 0.000000 | 0.000000 | 0.000000 |  0.000000 | 0.000000 | 0.000000 | 13 | 13 | Onecut2 |\n",
       "| WT-8-S6 _ 10094 | SeuratProject |  51 | 2 | 0.109878 | 0.089671 | 0.000000 | 0.000000 | 0.000000 | 0.450879 | 0 | ... | 0.000000 | 0.000000 | 0.000000 | 0.000000 |  7.656098 | 0.000000 | 0.323319 | 8  | 8  | Samd3   |\n",
       "| WT-8-S6 _ 10100 | SeuratProject |  16 | 2 | 0.109878 | 0.450879 | 0.065674 | 2.883351 | 0.000000 | 1.007847 | 0 | ... | 0.000000 | 0.000000 | 0.000000 | 0.000000 |  9.436879 | 0.000000 | 0.108615 | 1  | 1  | Met     |\n",
       "| WT-8-S6 _ 10101 | SeuratProject |  84 | 2 | 0.543075 | 0.000000 | 0.152819 | 0.000000 | 1.020476 | 0.000000 | 0 | ... | 0.000000 | 0.000000 | 0.000000 | 0.000000 |  5.553260 | 0.000000 | 0.323319 | 8  | 8  | Samd3   |\n",
       "| WT-8-S6 _ 10103 | SeuratProject |  11 | 2 | 0.000000 | 0.000000 | 0.132611 | 0.000000 | 0.553179 | 0.000000 | 0 | ... | 0.000000 | 0.000000 | 1.145510 | 0.000000 |  0.000000 | 0.311953 | 0.582227 | 10 | 10 | Slc17a6 |\n",
       "| WT-8-S6 _ 10104 | SeuratProject |  59 | 2 | 0.109878 | 0.042941 | 0.075778 | 0.000000 | 1.190977 | 0.564546 | 0 | ... | 0.000000 | 0.000000 | 0.000000 | 0.000000 | 16.027035 | 0.445827 | 0.813350 | 8  | 8  | Samd3   |\n",
       "| WT-8-S6 _ 10108 | SeuratProject | 113 | 3 | 0.111141 | 2.661069 | 0.160397 | 0.000000 | 0.553179 | 1.149299 | 0 | ... | 0.000000 | 0.074515 | 0.000000 | 0.000000 |  0.000000 | 0.549390 | 1.731526 | 10 | 10 | Slc17a6 |\n",
       "| WT-8-S6 _ 10110 | SeuratProject | 101 | 2 | 0.109878 | 0.000000 | 0.000000 | 0.000000 | 3.877305 | 0.217230 | 0 | ... | 0.267749 | 0.000000 | 0.000000 | 0.000000 |  0.397834 | 0.000000 | 0.676950 | 2  | 2  | Col15a1 |\n",
       "| WT-8-S6 _ 10114 | SeuratProject |  15 | 2 | 0.109878 | 0.042941 | 0.000000 | 1.688585 | 1.473881 | 0.000000 | 0 | ... | 0.000000 | 0.000000 | 0.828506 | 0.000000 |  0.000000 | 0.000000 | 0.767883 | 10 | 10 | Slc17a6 |\n",
       "| WT-8-S6 _ 10117 | SeuratProject |  88 | 3 | 0.109878 | 0.042941 | 0.000000 | 4.892729 | 0.133874 | 1.045736 | 0 | ... | 0.000000 | 1.113936 | 0.788091 | 0.000000 |  0.000000 | 0.000000 | 1.740367 | 10 | 10 | Slc17a6 |\n",
       "| WT-8-S6 _ 10122 | SeuratProject | 135 | 3 | 0.550653 | 0.342264 | 0.000000 | 2.138201 | 2.695169 | 0.064411 | 0 | ... | 0.000000 | 0.102300 | 0.000000 | 0.000000 |  0.000000 | 0.108615 | 0.322056 | 10 | 10 | Slc17a6 |\n",
       "| WT-8-S6 _ 10125 | SeuratProject | 259 | 3 | 0.108615 | 0.263960 | 0.281641 | 1.518085 | 1.572392 | 0.000000 | 0 | ... | 0.000000 | 0.034100 | 0.862606 | 0.000000 |  0.000000 | 0.000000 | 0.712313 | 10 | 10 | Slc17a6 |\n",
       "| WT-8-S6 _ 10136 | SeuratProject | 273 | 4 | 0.000000 | 0.000000 | 0.526657 | 0.000000 | 0.401623 | 0.652953 | 0 | ... | 0.000000 | 0.000000 | 0.000000 | 0.000000 |  3.439056 | 0.000000 | 0.940909 | 0  | 0  | Sst     |\n",
       "| WT-8-S6 _ 10137 | SeuratProject | 359 | 6 | 0.108615 | 0.000000 | 0.000000 | 0.000000 | 0.000000 | 0.000000 | 0 | ... | 0.000000 | 0.000000 | 0.000000 | 0.000000 |  0.798194 | 0.000000 | 0.317004 | 9  | 9  | Pax6    |\n",
       "| WT-8-S6 _ 10141 | SeuratProject |  13 | 2 | 0.000000 | 0.771672 | 0.000000 | 0.000000 | 0.000000 | 0.000000 | 0 | ... | 0.000000 | 0.032837 | 1.429677 | 0.373838 |  7.379508 | 0.169237 | 0.000000 | 8  | 8  | Samd3   |\n",
       "| WT-8-S6 _ 10149 | SeuratProject |  25 | 2 | 0.334686 | 0.132611 | 0.149030 | 3.643656 | 0.735046 | 0.000000 | 0 | ... | 0.000000 | 0.000000 | 0.000000 | 0.000000 |  2.956603 | 0.000000 | 2.906084 | 8  | 8  | Samd3   |\n",
       "| WT-8-S6 _ 10155 | SeuratProject | 256 | 2 | 0.000000 | 0.000000 | 0.000000 | 3.370855 | 3.080373 | 0.000000 | 0 | ... | 0.000000 | 0.000000 | 0.000000 | 0.000000 |  4.078116 | 0.000000 | 0.000000 | 8  | 8  | Samd3   |\n",
       "| WT-8-S6 _ 10156 | SeuratProject |  75 | 5 | 0.558231 | 0.764094 | 0.346053 | 0.000000 | 2.956603 | 1.212447 | 0 | ... | 0.000000 | 0.000000 | 0.000000 | 0.000000 |  0.000000 | 0.000000 | 0.000000 | 10 | 10 | Slc17a6 |\n",
       "| WT-8-S6 _ 10160 | SeuratProject |  35 | 2 | 0.985113 | 0.363734 | 0.000000 | 1.411996 | 0.000000 | 0.415516 | 0 | ... | 0.000000 | 0.065674 | 0.000000 | 0.000000 |  1.269281 | 0.000000 | 1.395577 | 2  | 2  | Col15a1 |\n",
       "| WT-8-S6 _ 10161 | SeuratProject | 382 | 6 | 1.448622 | 0.925754 | 0.000000 | 1.478933 | 2.519617 | 0.903020 | 0 | ... | 0.000000 | 0.000000 | 0.000000 | 0.000000 |  0.000000 | 0.000000 | 0.318267 | 10 | 10 | Slc17a6 |\n",
       "| WT-8-S6 _ 10180 | SeuratProject |  53 | 3 | 0.899232 | 0.472349 | 0.000000 | 0.000000 | 0.988902 | 0.137663 | 0 | ... | 0.000000 | 0.000000 | 0.000000 | 0.000000 |  4.574462 | 0.000000 | 0.704735 | 8  | 8  | Samd3   |\n",
       "\n"
      ],
      "text/plain": [
       "                orig.ident    nCount_RNA nFeature_RNA drd2     drd3    \n",
       "WT-1-S2 _ 1     SeuratProject 118        2            0.000000 0.000000\n",
       "WT-1-S2 _ 2     SeuratProject  86        2            0.000000 0.814951\n",
       "WT-1-S2 _ 3     SeuratProject  84        2            0.000000 0.000000\n",
       "WT-1-S2 _ 4     SeuratProject 206        2            0.000000 1.011029\n",
       "WT-1-S2 _ 6     SeuratProject 174        2            0.000000 0.000000\n",
       "WT-1-S2 _ 12    SeuratProject  89        3            0.000000 0.379902\n",
       "WT-1-S2 _ 16    SeuratProject  68        2            0.000000 0.000000\n",
       "WT-1-S2 _ 17    SeuratProject  45        2            0.000000 0.000000\n",
       "WT-1-S2 _ 20    SeuratProject  26        3            0.000000 0.000000\n",
       "WT-1-S2 _ 23    SeuratProject 149        2            0.000000 0.000000\n",
       "WT-1-S2 _ 25    SeuratProject 100        2            0.000000 0.000000\n",
       "WT-1-S2 _ 30    SeuratProject 127        2            0.000000 0.000000\n",
       "WT-1-S2 _ 33    SeuratProject  81        2            0.000000 0.000000\n",
       "WT-1-S2 _ 34    SeuratProject 150        2            0.000000 4.001225\n",
       "WT-1-S2 _ 35    SeuratProject  49        2            4.019608 0.441176\n",
       "WT-1-S2 _ 38    SeuratProject 157        2            0.000000 1.795343\n",
       "WT-1-S2 _ 39    SeuratProject 136        2            0.000000 0.000000\n",
       "WT-1-S2 _ 40    SeuratProject 115        2            0.000000 1.960784\n",
       "WT-1-S2 _ 42    SeuratProject  65        2            0.000000 0.000000\n",
       "WT-1-S2 _ 47    SeuratProject  62        3            0.000000 0.000000\n",
       "WT-1-S2 _ 49    SeuratProject 145        2            0.000000 0.000000\n",
       "WT-1-S2 _ 51    SeuratProject  21        2            0.000000 0.000000\n",
       "WT-1-S2 _ 55    SeuratProject 152        2            0.000000 2.916667\n",
       "WT-1-S2 _ 56    SeuratProject 141        2            0.000000 1.023284\n",
       "WT-1-S2 _ 62    SeuratProject 110        3            0.000000 0.000000\n",
       "WT-1-S2 _ 64    SeuratProject  83        2            0.000000 0.000000\n",
       "WT-1-S2 _ 69    SeuratProject 230        2            0.000000 1.960784\n",
       "WT-1-S2 _ 72    SeuratProject  82        2            1.715686 0.000000\n",
       "WT-1-S2 _ 73    SeuratProject 427        2            0.000000 8.137255\n",
       "WT-1-S2 _ 74    SeuratProject 368        2            0.000000 0.000000\n",
       "...             ...           ...        ...          ...      ...     \n",
       "WT-8-S6 _ 10066 SeuratProject 176        4            0.217230 0.084619\n",
       "WT-8-S6 _ 10067 SeuratProject  17        2            0.548127 0.087145\n",
       "WT-8-S6 _ 10068 SeuratProject  20        3            0.000000 0.000000\n",
       "WT-8-S6 _ 10071 SeuratProject  84        2            0.652953 0.088408\n",
       "WT-8-S6 _ 10074 SeuratProject  36        4            1.609018 0.430671\n",
       "WT-8-S6 _ 10081 SeuratProject 108        2            0.000000 0.962380\n",
       "WT-8-S6 _ 10084 SeuratProject  12        2            0.000000 0.042941\n",
       "WT-8-S6 _ 10088 SeuratProject 100        2            0.000000 0.042941\n",
       "WT-8-S6 _ 10089 SeuratProject  31        3            0.767883 0.092196\n",
       "WT-8-S6 _ 10092 SeuratProject 139        2            0.000000 0.000000\n",
       "WT-8-S6 _ 10094 SeuratProject  51        2            0.109878 0.089671\n",
       "WT-8-S6 _ 10100 SeuratProject  16        2            0.109878 0.450879\n",
       "WT-8-S6 _ 10101 SeuratProject  84        2            0.543075 0.000000\n",
       "WT-8-S6 _ 10103 SeuratProject  11        2            0.000000 0.000000\n",
       "WT-8-S6 _ 10104 SeuratProject  59        2            0.109878 0.042941\n",
       "WT-8-S6 _ 10108 SeuratProject 113        3            0.111141 2.661069\n",
       "WT-8-S6 _ 10110 SeuratProject 101        2            0.109878 0.000000\n",
       "WT-8-S6 _ 10114 SeuratProject  15        2            0.109878 0.042941\n",
       "WT-8-S6 _ 10117 SeuratProject  88        3            0.109878 0.042941\n",
       "WT-8-S6 _ 10122 SeuratProject 135        3            0.550653 0.342264\n",
       "WT-8-S6 _ 10125 SeuratProject 259        3            0.108615 0.263960\n",
       "WT-8-S6 _ 10136 SeuratProject 273        4            0.000000 0.000000\n",
       "WT-8-S6 _ 10137 SeuratProject 359        6            0.108615 0.000000\n",
       "WT-8-S6 _ 10141 SeuratProject  13        2            0.000000 0.771672\n",
       "WT-8-S6 _ 10149 SeuratProject  25        2            0.334686 0.132611\n",
       "WT-8-S6 _ 10155 SeuratProject 256        2            0.000000 0.000000\n",
       "WT-8-S6 _ 10156 SeuratProject  75        5            0.558231 0.764094\n",
       "WT-8-S6 _ 10160 SeuratProject  35        2            0.985113 0.363734\n",
       "WT-8-S6 _ 10161 SeuratProject 382        6            1.448622 0.925754\n",
       "WT-8-S6 _ 10180 SeuratProject  53        3            0.899232 0.472349\n",
       "                esr1     foxp2     met       nts      onecut2 ... samd3   \n",
       "WT-1-S2 _ 1     0.000000  0.000000  0.000000 0.000000 0       ... 0       \n",
       "WT-1-S2 _ 2     0.000000  0.000000  9.099265 0.000000 0       ... 0       \n",
       "WT-1-S2 _ 3     0.000000  0.000000  0.000000 5.110294 0       ... 0       \n",
       "WT-1-S2 _ 4     0.000000  0.000000  0.000000 3.633579 0       ... 0       \n",
       "WT-1-S2 _ 6     0.000000  0.000000 11.047794 0.000000 0       ... 0       \n",
       "WT-1-S2 _ 12    0.000000  0.000000  0.000000 0.000000 0       ... 0       \n",
       "WT-1-S2 _ 16    0.000000  0.000000  0.000000 0.000000 0       ... 0       \n",
       "WT-1-S2 _ 17    0.000000  0.000000  0.000000 0.000000 0       ... 0       \n",
       "WT-1-S2 _ 20    0.000000  0.000000  0.000000 0.000000 0       ... 0       \n",
       "WT-1-S2 _ 23    0.000000  0.000000  0.000000 7.965686 0       ... 0       \n",
       "WT-1-S2 _ 25    0.000000  0.000000  0.000000 2.064951 0       ... 0       \n",
       "WT-1-S2 _ 30    0.000000  0.000000  0.000000 6.850490 0       ... 0       \n",
       "WT-1-S2 _ 33    0.000000  0.000000  0.000000 0.000000 0       ... 0       \n",
       "WT-1-S2 _ 34    0.306373 38.988970  0.000000 0.000000 0       ... 0       \n",
       "WT-1-S2 _ 35    0.000000  0.000000  0.000000 4.957108 0       ... 0       \n",
       "WT-1-S2 _ 38    0.000000  0.000000  0.000000 0.502451 0       ... 0       \n",
       "WT-1-S2 _ 39    0.000000  0.000000  0.000000 0.000000 0       ... 0       \n",
       "WT-1-S2 _ 40    0.000000  0.000000  0.000000 4.509804 0       ... 0       \n",
       "WT-1-S2 _ 42    0.000000  0.000000  0.000000 0.000000 0       ... 0       \n",
       "WT-1-S2 _ 47    0.000000  0.000000  0.000000 0.000000 0       ... 0       \n",
       "WT-1-S2 _ 49    0.000000  0.000000  0.000000 0.000000 0       ... 0       \n",
       "WT-1-S2 _ 51    0.000000  0.000000  0.000000 0.000000 0       ... 0       \n",
       "WT-1-S2 _ 55    0.000000 52.892160  0.000000 0.000000 0       ... 0       \n",
       "WT-1-S2 _ 56    0.000000  0.000000  0.000000 1.158088 0       ... 0       \n",
       "WT-1-S2 _ 62    0.000000  0.000000  0.000000 0.000000 0       ... 0       \n",
       "WT-1-S2 _ 64    0.000000 79.944855  0.000000 0.000000 0       ... 0       \n",
       "WT-1-S2 _ 69    0.294118  2.959559  0.000000 1.182598 0       ... 0       \n",
       "WT-1-S2 _ 72    0.000000  0.000000  0.000000 6.795343 0       ... 0       \n",
       "WT-1-S2 _ 73    0.000000  0.000000  0.000000 0.000000 0       ... 0       \n",
       "WT-1-S2 _ 74    0.000000  0.000000  0.000000 8.878676 0       ... 0       \n",
       "...             ...      ...       ...       ...      ...         ...     \n",
       "WT-8-S6 _ 10066 0.000000 9.345946  0.000000  0.064411 0       ... 0.000000\n",
       "WT-8-S6 _ 10067 0.000000 0.000000  0.593594  0.000000 0       ... 0.332160\n",
       "WT-8-S6 _ 10068 0.000000 0.000000  4.672973  0.334686 0       ... 0.000000\n",
       "WT-8-S6 _ 10071 0.000000 0.000000  0.000000  0.613801 0       ... 0.000000\n",
       "WT-8-S6 _ 10074 0.468560 5.770490  0.000000  0.000000 0       ... 0.000000\n",
       "WT-8-S6 _ 10081 0.335949 2.931343  0.000000  0.000000 0       ... 0.000000\n",
       "WT-8-S6 _ 10084 0.000000 1.672167  0.419305  0.000000 0       ... 0.405412\n",
       "WT-8-S6 _ 10088 0.563283 5.222363  4.239776  0.484979 0       ... 0.000000\n",
       "WT-8-S6 _ 10089 0.000000 0.000000  0.421831  2.123045 0       ... 0.000000\n",
       "WT-8-S6 _ 10092 0.000000 0.000000  0.000000  0.000000 0       ... 0.000000\n",
       "WT-8-S6 _ 10094 0.000000 0.000000  0.000000  0.450879 0       ... 0.000000\n",
       "WT-8-S6 _ 10100 0.065674 2.883351  0.000000  1.007847 0       ... 0.000000\n",
       "WT-8-S6 _ 10101 0.152819 0.000000  1.020476  0.000000 0       ... 0.000000\n",
       "WT-8-S6 _ 10103 0.132611 0.000000  0.553179  0.000000 0       ... 0.000000\n",
       "WT-8-S6 _ 10104 0.075778 0.000000  1.190977  0.564546 0       ... 0.000000\n",
       "WT-8-S6 _ 10108 0.160397 0.000000  0.553179  1.149299 0       ... 0.000000\n",
       "WT-8-S6 _ 10110 0.000000 0.000000  3.877305  0.217230 0       ... 0.267749\n",
       "WT-8-S6 _ 10114 0.000000 1.688585  1.473881  0.000000 0       ... 0.000000\n",
       "WT-8-S6 _ 10117 0.000000 4.892729  0.133874  1.045736 0       ... 0.000000\n",
       "WT-8-S6 _ 10122 0.000000 2.138201  2.695169  0.064411 0       ... 0.000000\n",
       "WT-8-S6 _ 10125 0.281641 1.518085  1.572392  0.000000 0       ... 0.000000\n",
       "WT-8-S6 _ 10136 0.526657 0.000000  0.401623  0.652953 0       ... 0.000000\n",
       "WT-8-S6 _ 10137 0.000000 0.000000  0.000000  0.000000 0       ... 0.000000\n",
       "WT-8-S6 _ 10141 0.000000 0.000000  0.000000  0.000000 0       ... 0.000000\n",
       "WT-8-S6 _ 10149 0.149030 3.643656  0.735046  0.000000 0       ... 0.000000\n",
       "WT-8-S6 _ 10155 0.000000 3.370855  3.080373  0.000000 0       ... 0.000000\n",
       "WT-8-S6 _ 10156 0.346053 0.000000  2.956603  1.212447 0       ... 0.000000\n",
       "WT-8-S6 _ 10160 0.000000 1.411996  0.000000  0.415516 0       ... 0.000000\n",
       "WT-8-S6 _ 10161 0.000000 1.478933  2.519617  0.903020 0       ... 0.000000\n",
       "WT-8-S6 _ 10180 0.000000 0.000000  0.988902  0.137663 0       ... 0.000000\n",
       "                sst      tacr1    vgat     vglut2    col15a1  crhr2    \n",
       "WT-1-S2 _ 1     0.000000 0.808824 0        10.042892 0.000000  0.000000\n",
       "WT-1-S2 _ 2     0.000000 0.000000 0         0.000000 0.000000  0.000000\n",
       "WT-1-S2 _ 3     0.000000 0.000000 0         0.000000 0.000000  0.000000\n",
       "WT-1-S2 _ 4     0.000000 0.000000 0         0.000000 0.000000  0.000000\n",
       "WT-1-S2 _ 6     0.000000 1.734069 0         0.000000 0.000000  0.000000\n",
       "WT-1-S2 _ 12    0.000000 0.000000 0         0.000000 0.000000  0.000000\n",
       "WT-1-S2 _ 16    0.000000 0.000000 0         0.000000 0.416667  0.000000\n",
       "WT-1-S2 _ 17    0.000000 0.000000 0         0.000000 0.000000  0.000000\n",
       "WT-1-S2 _ 20    0.000000 0.000000 0         0.000000 0.000000  0.000000\n",
       "WT-1-S2 _ 23    0.337010 0.000000 0         3.645833 0.000000  0.000000\n",
       "WT-1-S2 _ 25    0.000000 0.000000 0         0.000000 0.000000  0.000000\n",
       "WT-1-S2 _ 30    0.000000 0.416667 0         0.000000 0.000000  0.000000\n",
       "WT-1-S2 _ 33    0.484069 0.784314 0         0.000000 0.000000  0.000000\n",
       "WT-1-S2 _ 34    0.000000 0.000000 0         0.000000 0.000000  0.000000\n",
       "WT-1-S2 _ 35    0.367647 0.000000 0         0.000000 0.000000  0.000000\n",
       "WT-1-S2 _ 38    0.000000 0.000000 0         0.000000 0.000000  0.000000\n",
       "WT-1-S2 _ 39    0.000000 0.000000 0         0.000000 0.000000  0.000000\n",
       "WT-1-S2 _ 40    0.165441 0.000000 0         0.000000 0.000000  0.000000\n",
       "WT-1-S2 _ 42    0.000000 0.000000 0         0.000000 0.000000  0.000000\n",
       "WT-1-S2 _ 47    0.000000 0.000000 0         1.133578 0.000000  0.000000\n",
       "WT-1-S2 _ 49    0.870098 0.000000 0         0.000000 0.000000  0.000000\n",
       "WT-1-S2 _ 51    0.000000 0.000000 0         0.000000 0.000000  0.000000\n",
       "WT-1-S2 _ 55    0.000000 0.000000 0        23.014706 0.000000  0.000000\n",
       "WT-1-S2 _ 56    0.000000 0.000000 0         0.000000 0.000000  0.000000\n",
       "WT-1-S2 _ 62    0.000000 0.000000 0         0.000000 0.000000  0.000000\n",
       "WT-1-S2 _ 64    0.000000 0.000000 0         0.000000 0.416667  0.000000\n",
       "WT-1-S2 _ 69    0.000000 0.000000 0         0.000000 0.000000  0.000000\n",
       "WT-1-S2 _ 72    0.000000 0.000000 0         0.000000 0.000000  2.561275\n",
       "WT-1-S2 _ 73    0.000000 2.414216 0         0.000000 0.000000 10.196078\n",
       "WT-1-S2 _ 74    0.502451 0.000000 0         0.000000 0.000000  0.000000\n",
       "...             ...      ...      ...      ...       ...      ...      \n",
       "WT-8-S6 _ 10066 0.000000 0.957328 0.000000  0.502660 0.056833 0.764094 \n",
       "WT-8-S6 _ 10067 0.000000 0.474875 0.000000  0.000000 0.000000 0.000000 \n",
       "WT-8-S6 _ 10068 0.391519 0.000000 0.000000  0.000000 0.000000 1.515559 \n",
       "WT-8-S6 _ 10071 0.068200 0.000000 0.000000  6.365347 0.184393 0.000000 \n",
       "WT-8-S6 _ 10074 0.000000 0.000000 0.000000  0.000000 0.000000 1.142984 \n",
       "WT-8-S6 _ 10081 0.000000 0.000000 0.000000  0.000000 0.000000 0.000000 \n",
       "WT-8-S6 _ 10084 0.000000 0.000000 0.000000  0.135137 0.000000 0.000000 \n",
       "WT-8-S6 _ 10088 0.000000 0.000000 0.000000  1.458725 0.000000 0.314478 \n",
       "WT-8-S6 _ 10089 0.185656 0.000000 0.000000  0.000000 0.000000 2.532246 \n",
       "WT-8-S6 _ 10092 0.000000 0.000000 0.000000  0.000000 0.000000 0.000000 \n",
       "WT-8-S6 _ 10094 0.000000 0.000000 0.000000  7.656098 0.000000 0.323319 \n",
       "WT-8-S6 _ 10100 0.000000 0.000000 0.000000  9.436879 0.000000 0.108615 \n",
       "WT-8-S6 _ 10101 0.000000 0.000000 0.000000  5.553260 0.000000 0.323319 \n",
       "WT-8-S6 _ 10103 0.000000 1.145510 0.000000  0.000000 0.311953 0.582227 \n",
       "WT-8-S6 _ 10104 0.000000 0.000000 0.000000 16.027035 0.445827 0.813350 \n",
       "WT-8-S6 _ 10108 0.074515 0.000000 0.000000  0.000000 0.549390 1.731526 \n",
       "WT-8-S6 _ 10110 0.000000 0.000000 0.000000  0.397834 0.000000 0.676950 \n",
       "WT-8-S6 _ 10114 0.000000 0.828506 0.000000  0.000000 0.000000 0.767883 \n",
       "WT-8-S6 _ 10117 1.113936 0.788091 0.000000  0.000000 0.000000 1.740367 \n",
       "WT-8-S6 _ 10122 0.102300 0.000000 0.000000  0.000000 0.108615 0.322056 \n",
       "WT-8-S6 _ 10125 0.034100 0.862606 0.000000  0.000000 0.000000 0.712313 \n",
       "WT-8-S6 _ 10136 0.000000 0.000000 0.000000  3.439056 0.000000 0.940909 \n",
       "WT-8-S6 _ 10137 0.000000 0.000000 0.000000  0.798194 0.000000 0.317004 \n",
       "WT-8-S6 _ 10141 0.032837 1.429677 0.373838  7.379508 0.169237 0.000000 \n",
       "WT-8-S6 _ 10149 0.000000 0.000000 0.000000  2.956603 0.000000 2.906084 \n",
       "WT-8-S6 _ 10155 0.000000 0.000000 0.000000  4.078116 0.000000 0.000000 \n",
       "WT-8-S6 _ 10156 0.000000 0.000000 0.000000  0.000000 0.000000 0.000000 \n",
       "WT-8-S6 _ 10160 0.065674 0.000000 0.000000  1.269281 0.000000 1.395577 \n",
       "WT-8-S6 _ 10161 0.000000 0.000000 0.000000  0.000000 0.000000 0.318267 \n",
       "WT-8-S6 _ 10180 0.000000 0.000000 0.000000  4.574462 0.000000 0.704735 \n",
       "                RNA_snn_res.0.15 seurat_clusters celltype\n",
       "WT-1-S2 _ 1     3                3               Nts     \n",
       "WT-1-S2 _ 2     3                3               Nts     \n",
       "WT-1-S2 _ 3     2                2               Col15a1 \n",
       "WT-1-S2 _ 4     2                2               Col15a1 \n",
       "WT-1-S2 _ 6     3                3               Nts     \n",
       "WT-1-S2 _ 12    8                8               Samd3   \n",
       "WT-1-S2 _ 16    2                2               Col15a1 \n",
       "WT-1-S2 _ 17    2                2               Col15a1 \n",
       "WT-1-S2 _ 20    2                2               Col15a1 \n",
       "WT-1-S2 _ 23    2                2               Col15a1 \n",
       "WT-1-S2 _ 25    2                2               Col15a1 \n",
       "WT-1-S2 _ 30    3                3               Nts     \n",
       "WT-1-S2 _ 33    3                3               Nts     \n",
       "WT-1-S2 _ 34    2                2               Col15a1 \n",
       "WT-1-S2 _ 35    3                3               Nts     \n",
       "WT-1-S2 _ 38    2                2               Col15a1 \n",
       "WT-1-S2 _ 39    8                8               Samd3   \n",
       "WT-1-S2 _ 40    2                2               Col15a1 \n",
       "WT-1-S2 _ 42    3                3               Nts     \n",
       "WT-1-S2 _ 47    8                8               Samd3   \n",
       "WT-1-S2 _ 49    3                3               Nts     \n",
       "WT-1-S2 _ 51    2                2               Col15a1 \n",
       "WT-1-S2 _ 55    2                2               Col15a1 \n",
       "WT-1-S2 _ 56    6                6               Foxp2   \n",
       "WT-1-S2 _ 62    2                2               Col15a1 \n",
       "WT-1-S2 _ 64    3                3               Nts     \n",
       "WT-1-S2 _ 69    2                2               Col15a1 \n",
       "WT-1-S2 _ 72    8                8               Samd3   \n",
       "WT-1-S2 _ 73    3                3               Nts     \n",
       "WT-1-S2 _ 74    3                3               Nts     \n",
       "...             ...              ...             ...     \n",
       "WT-8-S6 _ 10066 12               12              Esr1    \n",
       "WT-8-S6 _ 10067 10               10              Slc17a6 \n",
       "WT-8-S6 _ 10068 10               10              Slc17a6 \n",
       "WT-8-S6 _ 10071 8                8               Samd3   \n",
       "WT-8-S6 _ 10074 10               10              Slc17a6 \n",
       "WT-8-S6 _ 10081 2                2               Col15a1 \n",
       "WT-8-S6 _ 10084 2                2               Col15a1 \n",
       "WT-8-S6 _ 10088 8                8               Samd3   \n",
       "WT-8-S6 _ 10089 10               10              Slc17a6 \n",
       "WT-8-S6 _ 10092 13               13              Onecut2 \n",
       "WT-8-S6 _ 10094 8                8               Samd3   \n",
       "WT-8-S6 _ 10100 1                1               Met     \n",
       "WT-8-S6 _ 10101 8                8               Samd3   \n",
       "WT-8-S6 _ 10103 10               10              Slc17a6 \n",
       "WT-8-S6 _ 10104 8                8               Samd3   \n",
       "WT-8-S6 _ 10108 10               10              Slc17a6 \n",
       "WT-8-S6 _ 10110 2                2               Col15a1 \n",
       "WT-8-S6 _ 10114 10               10              Slc17a6 \n",
       "WT-8-S6 _ 10117 10               10              Slc17a6 \n",
       "WT-8-S6 _ 10122 10               10              Slc17a6 \n",
       "WT-8-S6 _ 10125 10               10              Slc17a6 \n",
       "WT-8-S6 _ 10136 0                0               Sst     \n",
       "WT-8-S6 _ 10137 9                9               Pax6    \n",
       "WT-8-S6 _ 10141 8                8               Samd3   \n",
       "WT-8-S6 _ 10149 8                8               Samd3   \n",
       "WT-8-S6 _ 10155 8                8               Samd3   \n",
       "WT-8-S6 _ 10156 10               10              Slc17a6 \n",
       "WT-8-S6 _ 10160 2                2               Col15a1 \n",
       "WT-8-S6 _ 10161 10               10              Slc17a6 \n",
       "WT-8-S6 _ 10180 8                8               Samd3   "
      ]
     },
     "metadata": {},
     "output_type": "display_data"
    }
   ],
   "source": [
    "LS.HCR@meta.data"
   ]
  },
  {
   "cell_type": "markdown",
   "metadata": {},
   "source": [
    "Calculate expression of each gene in each cluster"
   ]
  },
  {
   "cell_type": "code",
   "execution_count": 135,
   "metadata": {},
   "outputs": [],
   "source": [
    "exp.data <- data.frame(GetAssayData(LS.HCR))"
   ]
  },
  {
   "cell_type": "code",
   "execution_count": 136,
   "metadata": {},
   "outputs": [],
   "source": [
    "labels <- colnames(GetAssayData(LS.HCR))\n",
    "colnames(exp.data) <- labels"
   ]
  },
  {
   "cell_type": "code",
   "execution_count": 137,
   "metadata": {},
   "outputs": [
    {
     "data": {
      "text/html": [
       "<table class=\"dataframe\">\n",
       "<caption>A data.frame: 15 × 175637</caption>\n",
       "<thead>\n",
       "\t<tr><th></th><th scope=col>WT-1-S2 _ 1</th><th scope=col>WT-1-S2 _ 2</th><th scope=col>WT-1-S2 _ 3</th><th scope=col>WT-1-S2 _ 4</th><th scope=col>WT-1-S2 _ 6</th><th scope=col>WT-1-S2 _ 12</th><th scope=col>WT-1-S2 _ 16</th><th scope=col>WT-1-S2 _ 17</th><th scope=col>WT-1-S2 _ 20</th><th scope=col>WT-1-S2 _ 23</th><th scope=col>...</th><th scope=col>WT-8-S6 _ 10125</th><th scope=col>WT-8-S6 _ 10136</th><th scope=col>WT-8-S6 _ 10137</th><th scope=col>WT-8-S6 _ 10141</th><th scope=col>WT-8-S6 _ 10149</th><th scope=col>WT-8-S6 _ 10155</th><th scope=col>WT-8-S6 _ 10156</th><th scope=col>WT-8-S6 _ 10160</th><th scope=col>WT-8-S6 _ 10161</th><th scope=col>WT-8-S6 _ 10180</th></tr>\n",
       "\t<tr><th></th><th scope=col>&lt;dbl&gt;</th><th scope=col>&lt;dbl&gt;</th><th scope=col>&lt;dbl&gt;</th><th scope=col>&lt;dbl&gt;</th><th scope=col>&lt;dbl&gt;</th><th scope=col>&lt;dbl&gt;</th><th scope=col>&lt;dbl&gt;</th><th scope=col>&lt;dbl&gt;</th><th scope=col>&lt;dbl&gt;</th><th scope=col>&lt;dbl&gt;</th><th scope=col>...</th><th scope=col>&lt;dbl&gt;</th><th scope=col>&lt;dbl&gt;</th><th scope=col>&lt;dbl&gt;</th><th scope=col>&lt;dbl&gt;</th><th scope=col>&lt;dbl&gt;</th><th scope=col>&lt;dbl&gt;</th><th scope=col>&lt;dbl&gt;</th><th scope=col>&lt;dbl&gt;</th><th scope=col>&lt;dbl&gt;</th><th scope=col>&lt;dbl&gt;</th></tr>\n",
       "</thead>\n",
       "<tbody>\n",
       "\t<tr><th scope=row>Drd2</th><td>  0</td><td> 0</td><td> 0</td><td>  0</td><td>  0</td><td> 0</td><td> 0</td><td> 0</td><td> 0</td><td>  0</td><td>...</td><td>  0</td><td>  0</td><td>  0</td><td>0</td><td> 0</td><td>  0</td><td> 0</td><td> 0</td><td>  0</td><td> 0</td></tr>\n",
       "\t<tr><th scope=row>Drd3</th><td>  0</td><td> 0</td><td> 0</td><td>  0</td><td>  0</td><td> 0</td><td> 0</td><td> 0</td><td> 0</td><td>  0</td><td>...</td><td>  0</td><td>  0</td><td>  5</td><td>0</td><td> 0</td><td>  0</td><td> 0</td><td> 0</td><td>  0</td><td> 0</td></tr>\n",
       "\t<tr><th scope=row>Esr1</th><td>  0</td><td> 0</td><td> 0</td><td>  0</td><td>  0</td><td> 0</td><td> 0</td><td> 0</td><td> 0</td><td>  0</td><td>...</td><td>  0</td><td>  0</td><td>  0</td><td>0</td><td> 0</td><td>  0</td><td> 0</td><td> 0</td><td>  0</td><td> 0</td></tr>\n",
       "\t<tr><th scope=row>Foxp2</th><td>  0</td><td> 0</td><td> 0</td><td>  0</td><td>  0</td><td> 0</td><td> 0</td><td> 0</td><td> 0</td><td>  0</td><td>...</td><td>  0</td><td>  0</td><td>  0</td><td>0</td><td> 0</td><td>  0</td><td> 0</td><td> 0</td><td>  0</td><td> 0</td></tr>\n",
       "\t<tr><th scope=row>Met</th><td>  0</td><td> 0</td><td> 0</td><td>  0</td><td>  0</td><td> 0</td><td> 0</td><td> 0</td><td> 0</td><td>  0</td><td>...</td><td>  0</td><td>  0</td><td>  0</td><td>0</td><td> 0</td><td>  0</td><td> 0</td><td> 0</td><td>  0</td><td> 0</td></tr>\n",
       "\t<tr><th scope=row>Nts</th><td>  7</td><td> 5</td><td> 0</td><td>  0</td><td>  6</td><td> 0</td><td> 0</td><td> 0</td><td> 0</td><td>  0</td><td>...</td><td>  0</td><td>  0</td><td>  7</td><td>6</td><td> 0</td><td>  0</td><td> 0</td><td> 0</td><td>  0</td><td> 0</td></tr>\n",
       "\t<tr><th scope=row>Onecut2</th><td>  0</td><td> 0</td><td> 6</td><td>  0</td><td>  0</td><td> 0</td><td>17</td><td> 0</td><td> 6</td><td> 49</td><td>...</td><td>169</td><td> 53</td><td>  0</td><td>0</td><td> 0</td><td>248</td><td> 9</td><td>10</td><td>229</td><td> 0</td></tr>\n",
       "\t<tr><th scope=row>Pax6</th><td>  0</td><td> 0</td><td> 0</td><td>  0</td><td>  0</td><td> 0</td><td> 0</td><td> 0</td><td> 0</td><td>  0</td><td>...</td><td>  0</td><td>  0</td><td>  5</td><td>0</td><td> 0</td><td>  0</td><td> 0</td><td> 0</td><td>  7</td><td> 0</td></tr>\n",
       "\t<tr><th scope=row>Samd3</th><td>  0</td><td> 0</td><td> 0</td><td>  0</td><td>  0</td><td>24</td><td> 0</td><td> 0</td><td> 0</td><td>  0</td><td>...</td><td> 85</td><td>  0</td><td>  0</td><td>7</td><td>17</td><td>  8</td><td>37</td><td> 0</td><td>  0</td><td>12</td></tr>\n",
       "\t<tr><th scope=row>Sst</th><td>  0</td><td> 0</td><td> 0</td><td>  0</td><td>  0</td><td> 0</td><td> 0</td><td> 0</td><td> 0</td><td>  0</td><td>...</td><td>  0</td><td>  8</td><td>  7</td><td>0</td><td> 0</td><td>  0</td><td> 0</td><td> 0</td><td>  5</td><td> 0</td></tr>\n",
       "\t<tr><th scope=row>Tacr1</th><td>  0</td><td> 0</td><td> 0</td><td>  0</td><td>  0</td><td> 0</td><td> 0</td><td> 0</td><td> 0</td><td>  0</td><td>...</td><td>  0</td><td>  0</td><td>  0</td><td>0</td><td> 0</td><td>  0</td><td> 0</td><td> 0</td><td>  0</td><td> 0</td></tr>\n",
       "\t<tr><th scope=row>Slc32a1</th><td>111</td><td>81</td><td>78</td><td>176</td><td>168</td><td>60</td><td>51</td><td>39</td><td>15</td><td>100</td><td>...</td><td>  0</td><td>199</td><td>297</td><td>0</td><td> 0</td><td>  0</td><td> 0</td><td>25</td><td> 87</td><td> 8</td></tr>\n",
       "\t<tr><th scope=row>Slc17a6</th><td>  0</td><td> 0</td><td> 0</td><td>  0</td><td>  0</td><td> 0</td><td> 0</td><td> 0</td><td> 0</td><td>  0</td><td>...</td><td>  5</td><td>  0</td><td>  0</td><td>0</td><td> 0</td><td>  0</td><td> 9</td><td> 0</td><td>  7</td><td> 0</td></tr>\n",
       "\t<tr><th scope=row>Col15a1</th><td>  0</td><td> 0</td><td> 0</td><td> 30</td><td>  0</td><td> 5</td><td> 0</td><td> 6</td><td> 5</td><td>  0</td><td>...</td><td>  0</td><td> 13</td><td> 38</td><td>0</td><td> 8</td><td>  0</td><td>14</td><td> 0</td><td> 47</td><td>33</td></tr>\n",
       "\t<tr><th scope=row>Crhr2</th><td>  0</td><td> 0</td><td> 0</td><td>  0</td><td>  0</td><td> 0</td><td> 0</td><td> 0</td><td> 0</td><td>  0</td><td>...</td><td>  0</td><td>  0</td><td>  0</td><td>0</td><td> 0</td><td>  0</td><td> 6</td><td> 0</td><td>  0</td><td> 0</td></tr>\n",
       "</tbody>\n",
       "</table>\n"
      ],
      "text/latex": [
       "A data.frame: 15 × 175637\n",
       "\\begin{tabular}{r|lllllllllllllllllllll}\n",
       "  & WT-1-S2 \\_ 1 & WT-1-S2 \\_ 2 & WT-1-S2 \\_ 3 & WT-1-S2 \\_ 4 & WT-1-S2 \\_ 6 & WT-1-S2 \\_ 12 & WT-1-S2 \\_ 16 & WT-1-S2 \\_ 17 & WT-1-S2 \\_ 20 & WT-1-S2 \\_ 23 & ... & WT-8-S6 \\_ 10125 & WT-8-S6 \\_ 10136 & WT-8-S6 \\_ 10137 & WT-8-S6 \\_ 10141 & WT-8-S6 \\_ 10149 & WT-8-S6 \\_ 10155 & WT-8-S6 \\_ 10156 & WT-8-S6 \\_ 10160 & WT-8-S6 \\_ 10161 & WT-8-S6 \\_ 10180\\\\\n",
       "  & <dbl> & <dbl> & <dbl> & <dbl> & <dbl> & <dbl> & <dbl> & <dbl> & <dbl> & <dbl> & ... & <dbl> & <dbl> & <dbl> & <dbl> & <dbl> & <dbl> & <dbl> & <dbl> & <dbl> & <dbl>\\\\\n",
       "\\hline\n",
       "\tDrd2 &   0 &  0 &  0 &   0 &   0 &  0 &  0 &  0 &  0 &   0 & ... &   0 &   0 &   0 & 0 &  0 &   0 &  0 &  0 &   0 &  0\\\\\n",
       "\tDrd3 &   0 &  0 &  0 &   0 &   0 &  0 &  0 &  0 &  0 &   0 & ... &   0 &   0 &   5 & 0 &  0 &   0 &  0 &  0 &   0 &  0\\\\\n",
       "\tEsr1 &   0 &  0 &  0 &   0 &   0 &  0 &  0 &  0 &  0 &   0 & ... &   0 &   0 &   0 & 0 &  0 &   0 &  0 &  0 &   0 &  0\\\\\n",
       "\tFoxp2 &   0 &  0 &  0 &   0 &   0 &  0 &  0 &  0 &  0 &   0 & ... &   0 &   0 &   0 & 0 &  0 &   0 &  0 &  0 &   0 &  0\\\\\n",
       "\tMet &   0 &  0 &  0 &   0 &   0 &  0 &  0 &  0 &  0 &   0 & ... &   0 &   0 &   0 & 0 &  0 &   0 &  0 &  0 &   0 &  0\\\\\n",
       "\tNts &   7 &  5 &  0 &   0 &   6 &  0 &  0 &  0 &  0 &   0 & ... &   0 &   0 &   7 & 6 &  0 &   0 &  0 &  0 &   0 &  0\\\\\n",
       "\tOnecut2 &   0 &  0 &  6 &   0 &   0 &  0 & 17 &  0 &  6 &  49 & ... & 169 &  53 &   0 & 0 &  0 & 248 &  9 & 10 & 229 &  0\\\\\n",
       "\tPax6 &   0 &  0 &  0 &   0 &   0 &  0 &  0 &  0 &  0 &   0 & ... &   0 &   0 &   5 & 0 &  0 &   0 &  0 &  0 &   7 &  0\\\\\n",
       "\tSamd3 &   0 &  0 &  0 &   0 &   0 & 24 &  0 &  0 &  0 &   0 & ... &  85 &   0 &   0 & 7 & 17 &   8 & 37 &  0 &   0 & 12\\\\\n",
       "\tSst &   0 &  0 &  0 &   0 &   0 &  0 &  0 &  0 &  0 &   0 & ... &   0 &   8 &   7 & 0 &  0 &   0 &  0 &  0 &   5 &  0\\\\\n",
       "\tTacr1 &   0 &  0 &  0 &   0 &   0 &  0 &  0 &  0 &  0 &   0 & ... &   0 &   0 &   0 & 0 &  0 &   0 &  0 &  0 &   0 &  0\\\\\n",
       "\tSlc32a1 & 111 & 81 & 78 & 176 & 168 & 60 & 51 & 39 & 15 & 100 & ... &   0 & 199 & 297 & 0 &  0 &   0 &  0 & 25 &  87 &  8\\\\\n",
       "\tSlc17a6 &   0 &  0 &  0 &   0 &   0 &  0 &  0 &  0 &  0 &   0 & ... &   5 &   0 &   0 & 0 &  0 &   0 &  9 &  0 &   7 &  0\\\\\n",
       "\tCol15a1 &   0 &  0 &  0 &  30 &   0 &  5 &  0 &  6 &  5 &   0 & ... &   0 &  13 &  38 & 0 &  8 &   0 & 14 &  0 &  47 & 33\\\\\n",
       "\tCrhr2 &   0 &  0 &  0 &   0 &   0 &  0 &  0 &  0 &  0 &   0 & ... &   0 &   0 &   0 & 0 &  0 &   0 &  6 &  0 &   0 &  0\\\\\n",
       "\\end{tabular}\n"
      ],
      "text/markdown": [
       "\n",
       "A data.frame: 15 × 175637\n",
       "\n",
       "| <!--/--> | WT-1-S2 _ 1 &lt;dbl&gt; | WT-1-S2 _ 2 &lt;dbl&gt; | WT-1-S2 _ 3 &lt;dbl&gt; | WT-1-S2 _ 4 &lt;dbl&gt; | WT-1-S2 _ 6 &lt;dbl&gt; | WT-1-S2 _ 12 &lt;dbl&gt; | WT-1-S2 _ 16 &lt;dbl&gt; | WT-1-S2 _ 17 &lt;dbl&gt; | WT-1-S2 _ 20 &lt;dbl&gt; | WT-1-S2 _ 23 &lt;dbl&gt; | ... ... | WT-8-S6 _ 10125 &lt;dbl&gt; | WT-8-S6 _ 10136 &lt;dbl&gt; | WT-8-S6 _ 10137 &lt;dbl&gt; | WT-8-S6 _ 10141 &lt;dbl&gt; | WT-8-S6 _ 10149 &lt;dbl&gt; | WT-8-S6 _ 10155 &lt;dbl&gt; | WT-8-S6 _ 10156 &lt;dbl&gt; | WT-8-S6 _ 10160 &lt;dbl&gt; | WT-8-S6 _ 10161 &lt;dbl&gt; | WT-8-S6 _ 10180 &lt;dbl&gt; |\n",
       "|---|---|---|---|---|---|---|---|---|---|---|---|---|---|---|---|---|---|---|---|---|---|\n",
       "| Drd2 |   0 |  0 |  0 |   0 |   0 |  0 |  0 |  0 |  0 |   0 | ... |   0 |   0 |   0 | 0 |  0 |   0 |  0 |  0 |   0 |  0 |\n",
       "| Drd3 |   0 |  0 |  0 |   0 |   0 |  0 |  0 |  0 |  0 |   0 | ... |   0 |   0 |   5 | 0 |  0 |   0 |  0 |  0 |   0 |  0 |\n",
       "| Esr1 |   0 |  0 |  0 |   0 |   0 |  0 |  0 |  0 |  0 |   0 | ... |   0 |   0 |   0 | 0 |  0 |   0 |  0 |  0 |   0 |  0 |\n",
       "| Foxp2 |   0 |  0 |  0 |   0 |   0 |  0 |  0 |  0 |  0 |   0 | ... |   0 |   0 |   0 | 0 |  0 |   0 |  0 |  0 |   0 |  0 |\n",
       "| Met |   0 |  0 |  0 |   0 |   0 |  0 |  0 |  0 |  0 |   0 | ... |   0 |   0 |   0 | 0 |  0 |   0 |  0 |  0 |   0 |  0 |\n",
       "| Nts |   7 |  5 |  0 |   0 |   6 |  0 |  0 |  0 |  0 |   0 | ... |   0 |   0 |   7 | 6 |  0 |   0 |  0 |  0 |   0 |  0 |\n",
       "| Onecut2 |   0 |  0 |  6 |   0 |   0 |  0 | 17 |  0 |  6 |  49 | ... | 169 |  53 |   0 | 0 |  0 | 248 |  9 | 10 | 229 |  0 |\n",
       "| Pax6 |   0 |  0 |  0 |   0 |   0 |  0 |  0 |  0 |  0 |   0 | ... |   0 |   0 |   5 | 0 |  0 |   0 |  0 |  0 |   7 |  0 |\n",
       "| Samd3 |   0 |  0 |  0 |   0 |   0 | 24 |  0 |  0 |  0 |   0 | ... |  85 |   0 |   0 | 7 | 17 |   8 | 37 |  0 |   0 | 12 |\n",
       "| Sst |   0 |  0 |  0 |   0 |   0 |  0 |  0 |  0 |  0 |   0 | ... |   0 |   8 |   7 | 0 |  0 |   0 |  0 |  0 |   5 |  0 |\n",
       "| Tacr1 |   0 |  0 |  0 |   0 |   0 |  0 |  0 |  0 |  0 |   0 | ... |   0 |   0 |   0 | 0 |  0 |   0 |  0 |  0 |   0 |  0 |\n",
       "| Slc32a1 | 111 | 81 | 78 | 176 | 168 | 60 | 51 | 39 | 15 | 100 | ... |   0 | 199 | 297 | 0 |  0 |   0 |  0 | 25 |  87 |  8 |\n",
       "| Slc17a6 |   0 |  0 |  0 |   0 |   0 |  0 |  0 |  0 |  0 |   0 | ... |   5 |   0 |   0 | 0 |  0 |   0 |  9 |  0 |   7 |  0 |\n",
       "| Col15a1 |   0 |  0 |  0 |  30 |   0 |  5 |  0 |  6 |  5 |   0 | ... |   0 |  13 |  38 | 0 |  8 |   0 | 14 |  0 |  47 | 33 |\n",
       "| Crhr2 |   0 |  0 |  0 |   0 |   0 |  0 |  0 |  0 |  0 |   0 | ... |   0 |   0 |   0 | 0 |  0 |   0 |  6 |  0 |   0 |  0 |\n",
       "\n"
      ],
      "text/plain": [
       "        WT-1-S2 _ 1 WT-1-S2 _ 2 WT-1-S2 _ 3 WT-1-S2 _ 4 WT-1-S2 _ 6\n",
       "Drd2      0          0           0            0           0        \n",
       "Drd3      0          0           0            0           0        \n",
       "Esr1      0          0           0            0           0        \n",
       "Foxp2     0          0           0            0           0        \n",
       "Met       0          0           0            0           0        \n",
       "Nts       7          5           0            0           6        \n",
       "Onecut2   0          0           6            0           0        \n",
       "Pax6      0          0           0            0           0        \n",
       "Samd3     0          0           0            0           0        \n",
       "Sst       0          0           0            0           0        \n",
       "Tacr1     0          0           0            0           0        \n",
       "Slc32a1 111         81          78          176         168        \n",
       "Slc17a6   0          0           0            0           0        \n",
       "Col15a1   0          0           0           30           0        \n",
       "Crhr2     0          0           0            0           0        \n",
       "        WT-1-S2 _ 12 WT-1-S2 _ 16 WT-1-S2 _ 17 WT-1-S2 _ 20 WT-1-S2 _ 23 ...\n",
       "Drd2     0            0            0            0             0          ...\n",
       "Drd3     0            0            0            0             0          ...\n",
       "Esr1     0            0            0            0             0          ...\n",
       "Foxp2    0            0            0            0             0          ...\n",
       "Met      0            0            0            0             0          ...\n",
       "Nts      0            0            0            0             0          ...\n",
       "Onecut2  0           17            0            6            49          ...\n",
       "Pax6     0            0            0            0             0          ...\n",
       "Samd3   24            0            0            0             0          ...\n",
       "Sst      0            0            0            0             0          ...\n",
       "Tacr1    0            0            0            0             0          ...\n",
       "Slc32a1 60           51           39           15           100          ...\n",
       "Slc17a6  0            0            0            0             0          ...\n",
       "Col15a1  5            0            6            5             0          ...\n",
       "Crhr2    0            0            0            0             0          ...\n",
       "        WT-8-S6 _ 10125 WT-8-S6 _ 10136 WT-8-S6 _ 10137 WT-8-S6 _ 10141\n",
       "Drd2      0               0               0             0              \n",
       "Drd3      0               0               5             0              \n",
       "Esr1      0               0               0             0              \n",
       "Foxp2     0               0               0             0              \n",
       "Met       0               0               0             0              \n",
       "Nts       0               0               7             6              \n",
       "Onecut2 169              53               0             0              \n",
       "Pax6      0               0               5             0              \n",
       "Samd3    85               0               0             7              \n",
       "Sst       0               8               7             0              \n",
       "Tacr1     0               0               0             0              \n",
       "Slc32a1   0             199             297             0              \n",
       "Slc17a6   5               0               0             0              \n",
       "Col15a1   0              13              38             0              \n",
       "Crhr2     0               0               0             0              \n",
       "        WT-8-S6 _ 10149 WT-8-S6 _ 10155 WT-8-S6 _ 10156 WT-8-S6 _ 10160\n",
       "Drd2     0                0              0               0             \n",
       "Drd3     0                0              0               0             \n",
       "Esr1     0                0              0               0             \n",
       "Foxp2    0                0              0               0             \n",
       "Met      0                0              0               0             \n",
       "Nts      0                0              0               0             \n",
       "Onecut2  0              248              9              10             \n",
       "Pax6     0                0              0               0             \n",
       "Samd3   17                8             37               0             \n",
       "Sst      0                0              0               0             \n",
       "Tacr1    0                0              0               0             \n",
       "Slc32a1  0                0              0              25             \n",
       "Slc17a6  0                0              9               0             \n",
       "Col15a1  8                0             14               0             \n",
       "Crhr2    0                0              6               0             \n",
       "        WT-8-S6 _ 10161 WT-8-S6 _ 10180\n",
       "Drd2      0              0             \n",
       "Drd3      0              0             \n",
       "Esr1      0              0             \n",
       "Foxp2     0              0             \n",
       "Met       0              0             \n",
       "Nts       0              0             \n",
       "Onecut2 229              0             \n",
       "Pax6      7              0             \n",
       "Samd3     0             12             \n",
       "Sst       5              0             \n",
       "Tacr1     0              0             \n",
       "Slc32a1  87              8             \n",
       "Slc17a6   7              0             \n",
       "Col15a1  47             33             \n",
       "Crhr2     0              0             "
      ]
     },
     "metadata": {},
     "output_type": "display_data"
    }
   ],
   "source": [
    "exp.data"
   ]
  },
  {
   "cell_type": "markdown",
   "metadata": {},
   "source": [
    "For the expression of each gene"
   ]
  },
  {
   "cell_type": "code",
   "execution_count": 351,
   "metadata": {},
   "outputs": [],
   "source": [
    "df.exp <- data.frame(rownames=rownames(exp.data))\n",
    "for (type in barcode_names){\n",
    "    sub <- subset(exp.data, select=eval(parse(text=type)))\n",
    "    means <- data.frame(rowMeans(sub))\n",
    "    df.exp <- cbind(df.exp, means)\n",
    "    #df.exp$type <- means\n",
    "} "
   ]
  },
  {
   "cell_type": "code",
   "execution_count": 352,
   "metadata": {},
   "outputs": [],
   "source": [
    "colnames(df.exp)[2:15] <- barcode_names"
   ]
  },
  {
   "cell_type": "code",
   "execution_count": 353,
   "metadata": {},
   "outputs": [
    {
     "data": {
      "text/html": [
       "<table class=\"dataframe\">\n",
       "<caption>A data.frame: 15 × 15</caption>\n",
       "<thead>\n",
       "\t<tr><th></th><th scope=col>rownames</th><th scope=col>Nts_barcode</th><th scope=col>Col15a1_barcode</th><th scope=col>Samd3_barcode</th><th scope=col>Foxp2_barcode</th><th scope=col>Sst_barcode</th><th scope=col>Drd3_barcode</th><th scope=col>Esr1_barcode</th><th scope=col>Met_barcode</th><th scope=col>Slc17a6_barcode</th><th scope=col>Drd2_barcode</th><th scope=col>Crhr2_barcode</th><th scope=col>Onecut2_barcode</th><th scope=col>Pax6_barcode</th><th scope=col>Tacr1_barcode</th></tr>\n",
       "\t<tr><th></th><th scope=col>&lt;chr&gt;</th><th scope=col>&lt;dbl&gt;</th><th scope=col>&lt;dbl&gt;</th><th scope=col>&lt;dbl&gt;</th><th scope=col>&lt;dbl&gt;</th><th scope=col>&lt;dbl&gt;</th><th scope=col>&lt;dbl&gt;</th><th scope=col>&lt;dbl&gt;</th><th scope=col>&lt;dbl&gt;</th><th scope=col>&lt;dbl&gt;</th><th scope=col>&lt;dbl&gt;</th><th scope=col>&lt;dbl&gt;</th><th scope=col>&lt;dbl&gt;</th><th scope=col>&lt;dbl&gt;</th><th scope=col>&lt;dbl&gt;</th></tr>\n",
       "</thead>\n",
       "<tbody>\n",
       "\t<tr><th scope=row>Drd2</th><td>Drd2   </td><td>2.324962e+00</td><td>4.009084e-02</td><td>1.451598e+00</td><td>4.722998e+00</td><td>3.662976e+00</td><td>6.829076e-02</td><td>  3.2553386</td><td>3.862324e+00</td><td>  3.85955947</td><td>6.792064e+00</td><td>9.082344e-02</td><td>6.459544e-01</td><td>1.856873e+00</td><td>5.144790e+00</td></tr>\n",
       "\t<tr><th scope=row>Drd3</th><td>Drd3   </td><td>3.614218e+00</td><td>4.336623e-02</td><td>1.831823e+00</td><td>7.844507e-01</td><td>3.211450e+00</td><td>7.442396e+00</td><td>  2.7059182</td><td>2.106778e+00</td><td>  4.12405286</td><td>2.625911e+00</td><td>2.129263e-02</td><td>5.793473e-01</td><td>2.329090e+00</td><td>2.324018e+00</td></tr>\n",
       "\t<tr><th scope=row>Esr1</th><td>Esr1   </td><td>2.312566e-04</td><td>5.677352e-04</td><td>3.497059e-03</td><td>1.241465e-03</td><td>1.963325e-04</td><td>0.000000e+00</td><td>  7.2913362</td><td>0.000000e+00</td><td>  0.02008811</td><td>4.206394e-04</td><td>9.421519e-04</td><td>7.152436e-03</td><td>3.612592e-03</td><td>3.080647e-03</td></tr>\n",
       "\t<tr><th scope=row>Foxp2</th><td>Foxp2  </td><td>1.290412e-02</td><td>4.585553e-03</td><td>7.184867e-02</td><td>7.532045e+00</td><td>2.163584e-02</td><td>5.188067e-03</td><td>  0.8920073</td><td>1.178714e-02</td><td>  0.96546256</td><td>1.198822e-02</td><td>1.205954e-02</td><td>5.677246e-02</td><td>3.849991e-01</td><td>1.674222e+00</td></tr>\n",
       "\t<tr><th scope=row>Met</th><td>Met    </td><td>7.108829e-02</td><td>1.052930e-01</td><td>1.295025e+00</td><td>3.330074e+00</td><td>1.727765e+00</td><td>3.005696e-02</td><td>  2.5305064</td><td>7.237736e+00</td><td>  2.41938326</td><td>5.159843e-02</td><td>1.940833e-02</td><td>4.742959e-01</td><td>2.032341e+00</td><td>2.511277e+00</td></tr>\n",
       "\t<tr><th scope=row>Nts</th><td>Nts    </td><td>7.185375e+00</td><td>5.157656e-02</td><td>1.620092e+00</td><td>3.817660e+00</td><td>2.844662e+00</td><td>7.539615e-02</td><td>  2.7702868</td><td>2.472179e+00</td><td>  3.45726872</td><td>1.088755e-01</td><td>4.371585e-02</td><td>5.856057e-01</td><td>2.603647e+00</td><td>1.838486e+00</td></tr>\n",
       "\t<tr><th scope=row>Onecut2</th><td>Onecut2</td><td>2.627450e+01</td><td>1.792921e+01</td><td>3.093991e+01</td><td>2.253631e+01</td><td>2.001433e+01</td><td>3.409823e+01</td><td> 47.8248932</td><td>2.770203e+01</td><td>172.21127753</td><td>2.261827e+01</td><td>1.397569e+01</td><td>4.057506e+02</td><td>5.177929e+01</td><td>1.326450e+01</td></tr>\n",
       "\t<tr><th scope=row>Pax6</th><td>Pax6   </td><td>1.156283e-03</td><td>1.528518e-03</td><td>3.656017e-02</td><td>3.258845e-03</td><td>2.866455e-03</td><td>3.947443e-04</td><td>  0.6549725</td><td>5.503553e-03</td><td>  0.51612335</td><td>2.103197e-03</td><td>9.421519e-04</td><td>2.190434e-02</td><td>7.561500e+00</td><td>1.034217e-02</td></tr>\n",
       "\t<tr><th scope=row>Samd3</th><td>Samd3  </td><td>4.800888e-02</td><td>1.432440e-02</td><td>1.211270e+01</td><td>4.910770e-01</td><td>9.274748e-02</td><td>1.810184e-02</td><td>  1.1891397</td><td>7.089617e-02</td><td>  3.19048458</td><td>2.103197e-02</td><td>1.074053e-02</td><td>1.238266e-01</td><td>5.243420e-01</td><td>1.945208e-01</td></tr>\n",
       "\t<tr><th scope=row>Sst</th><td>Sst    </td><td>7.733222e-02</td><td>2.607215e-02</td><td>6.312192e-01</td><td>2.421633e+00</td><td>8.646680e+00</td><td>3.727514e-02</td><td>  1.4429530</td><td>1.288352e-01</td><td>  1.40687225</td><td>5.650589e-02</td><td>1.060863e-01</td><td>2.954850e-01</td><td>1.263891e+00</td><td>2.784575e+00</td></tr>\n",
       "\t<tr><th scope=row>Tacr1</th><td>Tacr1  </td><td>5.503908e-03</td><td>1.353830e-03</td><td>2.018757e-02</td><td>3.778709e-02</td><td>1.613853e-02</td><td>4.229403e-03</td><td>  0.5430140</td><td>1.148379e-02</td><td>  1.00669604</td><td>5.047672e-03</td><td>1.432071e-02</td><td>1.475190e-02</td><td>3.671082e-01</td><td>7.213995e+00</td></tr>\n",
       "\t<tr><th scope=row>Slc32a1</th><td>Slc32a1</td><td>1.964542e+02</td><td>1.622384e+02</td><td>1.940016e+02</td><td>2.745680e+02</td><td>2.331280e+02</td><td>1.308250e+02</td><td>246.3004881</td><td>2.610144e+02</td><td>198.81550661</td><td>1.666473e+02</td><td>1.899226e+02</td><td>9.093473e+01</td><td>2.080341e+02</td><td>2.233620e+02</td></tr>\n",
       "\t<tr><th scope=row>Slc17a6</th><td>Slc17a6</td><td>2.312566e-04</td><td>9.607826e-04</td><td>2.702273e-03</td><td>3.879578e-03</td><td>1.256528e-03</td><td>0.000000e+00</td><td>  0.4490543</td><td>9.533715e-04</td><td>  6.60493392</td><td>9.113853e-04</td><td>5.276050e-03</td><td>2.682164e-03</td><td>2.546018e-02</td><td>4.510947e-03</td></tr>\n",
       "\t<tr><th scope=row>Col15a1</th><td>Col15a1</td><td>7.599325e+00</td><td>1.707529e+01</td><td>1.682435e+01</td><td>4.967256e+00</td><td>1.488852e+01</td><td>6.224948e+00</td><td> 10.3065894</td><td>1.371759e+01</td><td> 15.57973568</td><td>5.901500e+00</td><td>4.469192e+00</td><td>7.736701e+00</td><td>7.845519e+00</td><td>4.201452e+00</td></tr>\n",
       "\t<tr><th scope=row>Crhr2</th><td>Crhr2  </td><td>1.339300e+00</td><td>4.135732e-02</td><td>8.219679e-01</td><td>2.557185e+00</td><td>2.080810e+00</td><td>1.153048e+00</td><td>  1.5216595</td><td>1.949948e+00</td><td>  2.70590308</td><td>1.911946e+00</td><td>5.791973e+00</td><td>3.625391e-01</td><td>1.329262e+00</td><td>5.158103e+00</td></tr>\n",
       "</tbody>\n",
       "</table>\n"
      ],
      "text/latex": [
       "A data.frame: 15 × 15\n",
       "\\begin{tabular}{r|lllllllllllllll}\n",
       "  & rownames & Nts\\_barcode & Col15a1\\_barcode & Samd3\\_barcode & Foxp2\\_barcode & Sst\\_barcode & Drd3\\_barcode & Esr1\\_barcode & Met\\_barcode & Slc17a6\\_barcode & Drd2\\_barcode & Crhr2\\_barcode & Onecut2\\_barcode & Pax6\\_barcode & Tacr1\\_barcode\\\\\n",
       "  & <chr> & <dbl> & <dbl> & <dbl> & <dbl> & <dbl> & <dbl> & <dbl> & <dbl> & <dbl> & <dbl> & <dbl> & <dbl> & <dbl> & <dbl>\\\\\n",
       "\\hline\n",
       "\tDrd2 & Drd2    & 2.324962e+00 & 4.009084e-02 & 1.451598e+00 & 4.722998e+00 & 3.662976e+00 & 6.829076e-02 &   3.2553386 & 3.862324e+00 &   3.85955947 & 6.792064e+00 & 9.082344e-02 & 6.459544e-01 & 1.856873e+00 & 5.144790e+00\\\\\n",
       "\tDrd3 & Drd3    & 3.614218e+00 & 4.336623e-02 & 1.831823e+00 & 7.844507e-01 & 3.211450e+00 & 7.442396e+00 &   2.7059182 & 2.106778e+00 &   4.12405286 & 2.625911e+00 & 2.129263e-02 & 5.793473e-01 & 2.329090e+00 & 2.324018e+00\\\\\n",
       "\tEsr1 & Esr1    & 2.312566e-04 & 5.677352e-04 & 3.497059e-03 & 1.241465e-03 & 1.963325e-04 & 0.000000e+00 &   7.2913362 & 0.000000e+00 &   0.02008811 & 4.206394e-04 & 9.421519e-04 & 7.152436e-03 & 3.612592e-03 & 3.080647e-03\\\\\n",
       "\tFoxp2 & Foxp2   & 1.290412e-02 & 4.585553e-03 & 7.184867e-02 & 7.532045e+00 & 2.163584e-02 & 5.188067e-03 &   0.8920073 & 1.178714e-02 &   0.96546256 & 1.198822e-02 & 1.205954e-02 & 5.677246e-02 & 3.849991e-01 & 1.674222e+00\\\\\n",
       "\tMet & Met     & 7.108829e-02 & 1.052930e-01 & 1.295025e+00 & 3.330074e+00 & 1.727765e+00 & 3.005696e-02 &   2.5305064 & 7.237736e+00 &   2.41938326 & 5.159843e-02 & 1.940833e-02 & 4.742959e-01 & 2.032341e+00 & 2.511277e+00\\\\\n",
       "\tNts & Nts     & 7.185375e+00 & 5.157656e-02 & 1.620092e+00 & 3.817660e+00 & 2.844662e+00 & 7.539615e-02 &   2.7702868 & 2.472179e+00 &   3.45726872 & 1.088755e-01 & 4.371585e-02 & 5.856057e-01 & 2.603647e+00 & 1.838486e+00\\\\\n",
       "\tOnecut2 & Onecut2 & 2.627450e+01 & 1.792921e+01 & 3.093991e+01 & 2.253631e+01 & 2.001433e+01 & 3.409823e+01 &  47.8248932 & 2.770203e+01 & 172.21127753 & 2.261827e+01 & 1.397569e+01 & 4.057506e+02 & 5.177929e+01 & 1.326450e+01\\\\\n",
       "\tPax6 & Pax6    & 1.156283e-03 & 1.528518e-03 & 3.656017e-02 & 3.258845e-03 & 2.866455e-03 & 3.947443e-04 &   0.6549725 & 5.503553e-03 &   0.51612335 & 2.103197e-03 & 9.421519e-04 & 2.190434e-02 & 7.561500e+00 & 1.034217e-02\\\\\n",
       "\tSamd3 & Samd3   & 4.800888e-02 & 1.432440e-02 & 1.211270e+01 & 4.910770e-01 & 9.274748e-02 & 1.810184e-02 &   1.1891397 & 7.089617e-02 &   3.19048458 & 2.103197e-02 & 1.074053e-02 & 1.238266e-01 & 5.243420e-01 & 1.945208e-01\\\\\n",
       "\tSst & Sst     & 7.733222e-02 & 2.607215e-02 & 6.312192e-01 & 2.421633e+00 & 8.646680e+00 & 3.727514e-02 &   1.4429530 & 1.288352e-01 &   1.40687225 & 5.650589e-02 & 1.060863e-01 & 2.954850e-01 & 1.263891e+00 & 2.784575e+00\\\\\n",
       "\tTacr1 & Tacr1   & 5.503908e-03 & 1.353830e-03 & 2.018757e-02 & 3.778709e-02 & 1.613853e-02 & 4.229403e-03 &   0.5430140 & 1.148379e-02 &   1.00669604 & 5.047672e-03 & 1.432071e-02 & 1.475190e-02 & 3.671082e-01 & 7.213995e+00\\\\\n",
       "\tSlc32a1 & Slc32a1 & 1.964542e+02 & 1.622384e+02 & 1.940016e+02 & 2.745680e+02 & 2.331280e+02 & 1.308250e+02 & 246.3004881 & 2.610144e+02 & 198.81550661 & 1.666473e+02 & 1.899226e+02 & 9.093473e+01 & 2.080341e+02 & 2.233620e+02\\\\\n",
       "\tSlc17a6 & Slc17a6 & 2.312566e-04 & 9.607826e-04 & 2.702273e-03 & 3.879578e-03 & 1.256528e-03 & 0.000000e+00 &   0.4490543 & 9.533715e-04 &   6.60493392 & 9.113853e-04 & 5.276050e-03 & 2.682164e-03 & 2.546018e-02 & 4.510947e-03\\\\\n",
       "\tCol15a1 & Col15a1 & 7.599325e+00 & 1.707529e+01 & 1.682435e+01 & 4.967256e+00 & 1.488852e+01 & 6.224948e+00 &  10.3065894 & 1.371759e+01 &  15.57973568 & 5.901500e+00 & 4.469192e+00 & 7.736701e+00 & 7.845519e+00 & 4.201452e+00\\\\\n",
       "\tCrhr2 & Crhr2   & 1.339300e+00 & 4.135732e-02 & 8.219679e-01 & 2.557185e+00 & 2.080810e+00 & 1.153048e+00 &   1.5216595 & 1.949948e+00 &   2.70590308 & 1.911946e+00 & 5.791973e+00 & 3.625391e-01 & 1.329262e+00 & 5.158103e+00\\\\\n",
       "\\end{tabular}\n"
      ],
      "text/markdown": [
       "\n",
       "A data.frame: 15 × 15\n",
       "\n",
       "| <!--/--> | rownames &lt;chr&gt; | Nts_barcode &lt;dbl&gt; | Col15a1_barcode &lt;dbl&gt; | Samd3_barcode &lt;dbl&gt; | Foxp2_barcode &lt;dbl&gt; | Sst_barcode &lt;dbl&gt; | Drd3_barcode &lt;dbl&gt; | Esr1_barcode &lt;dbl&gt; | Met_barcode &lt;dbl&gt; | Slc17a6_barcode &lt;dbl&gt; | Drd2_barcode &lt;dbl&gt; | Crhr2_barcode &lt;dbl&gt; | Onecut2_barcode &lt;dbl&gt; | Pax6_barcode &lt;dbl&gt; | Tacr1_barcode &lt;dbl&gt; |\n",
       "|---|---|---|---|---|---|---|---|---|---|---|---|---|---|---|---|\n",
       "| Drd2 | Drd2    | 2.324962e+00 | 4.009084e-02 | 1.451598e+00 | 4.722998e+00 | 3.662976e+00 | 6.829076e-02 |   3.2553386 | 3.862324e+00 |   3.85955947 | 6.792064e+00 | 9.082344e-02 | 6.459544e-01 | 1.856873e+00 | 5.144790e+00 |\n",
       "| Drd3 | Drd3    | 3.614218e+00 | 4.336623e-02 | 1.831823e+00 | 7.844507e-01 | 3.211450e+00 | 7.442396e+00 |   2.7059182 | 2.106778e+00 |   4.12405286 | 2.625911e+00 | 2.129263e-02 | 5.793473e-01 | 2.329090e+00 | 2.324018e+00 |\n",
       "| Esr1 | Esr1    | 2.312566e-04 | 5.677352e-04 | 3.497059e-03 | 1.241465e-03 | 1.963325e-04 | 0.000000e+00 |   7.2913362 | 0.000000e+00 |   0.02008811 | 4.206394e-04 | 9.421519e-04 | 7.152436e-03 | 3.612592e-03 | 3.080647e-03 |\n",
       "| Foxp2 | Foxp2   | 1.290412e-02 | 4.585553e-03 | 7.184867e-02 | 7.532045e+00 | 2.163584e-02 | 5.188067e-03 |   0.8920073 | 1.178714e-02 |   0.96546256 | 1.198822e-02 | 1.205954e-02 | 5.677246e-02 | 3.849991e-01 | 1.674222e+00 |\n",
       "| Met | Met     | 7.108829e-02 | 1.052930e-01 | 1.295025e+00 | 3.330074e+00 | 1.727765e+00 | 3.005696e-02 |   2.5305064 | 7.237736e+00 |   2.41938326 | 5.159843e-02 | 1.940833e-02 | 4.742959e-01 | 2.032341e+00 | 2.511277e+00 |\n",
       "| Nts | Nts     | 7.185375e+00 | 5.157656e-02 | 1.620092e+00 | 3.817660e+00 | 2.844662e+00 | 7.539615e-02 |   2.7702868 | 2.472179e+00 |   3.45726872 | 1.088755e-01 | 4.371585e-02 | 5.856057e-01 | 2.603647e+00 | 1.838486e+00 |\n",
       "| Onecut2 | Onecut2 | 2.627450e+01 | 1.792921e+01 | 3.093991e+01 | 2.253631e+01 | 2.001433e+01 | 3.409823e+01 |  47.8248932 | 2.770203e+01 | 172.21127753 | 2.261827e+01 | 1.397569e+01 | 4.057506e+02 | 5.177929e+01 | 1.326450e+01 |\n",
       "| Pax6 | Pax6    | 1.156283e-03 | 1.528518e-03 | 3.656017e-02 | 3.258845e-03 | 2.866455e-03 | 3.947443e-04 |   0.6549725 | 5.503553e-03 |   0.51612335 | 2.103197e-03 | 9.421519e-04 | 2.190434e-02 | 7.561500e+00 | 1.034217e-02 |\n",
       "| Samd3 | Samd3   | 4.800888e-02 | 1.432440e-02 | 1.211270e+01 | 4.910770e-01 | 9.274748e-02 | 1.810184e-02 |   1.1891397 | 7.089617e-02 |   3.19048458 | 2.103197e-02 | 1.074053e-02 | 1.238266e-01 | 5.243420e-01 | 1.945208e-01 |\n",
       "| Sst | Sst     | 7.733222e-02 | 2.607215e-02 | 6.312192e-01 | 2.421633e+00 | 8.646680e+00 | 3.727514e-02 |   1.4429530 | 1.288352e-01 |   1.40687225 | 5.650589e-02 | 1.060863e-01 | 2.954850e-01 | 1.263891e+00 | 2.784575e+00 |\n",
       "| Tacr1 | Tacr1   | 5.503908e-03 | 1.353830e-03 | 2.018757e-02 | 3.778709e-02 | 1.613853e-02 | 4.229403e-03 |   0.5430140 | 1.148379e-02 |   1.00669604 | 5.047672e-03 | 1.432071e-02 | 1.475190e-02 | 3.671082e-01 | 7.213995e+00 |\n",
       "| Slc32a1 | Slc32a1 | 1.964542e+02 | 1.622384e+02 | 1.940016e+02 | 2.745680e+02 | 2.331280e+02 | 1.308250e+02 | 246.3004881 | 2.610144e+02 | 198.81550661 | 1.666473e+02 | 1.899226e+02 | 9.093473e+01 | 2.080341e+02 | 2.233620e+02 |\n",
       "| Slc17a6 | Slc17a6 | 2.312566e-04 | 9.607826e-04 | 2.702273e-03 | 3.879578e-03 | 1.256528e-03 | 0.000000e+00 |   0.4490543 | 9.533715e-04 |   6.60493392 | 9.113853e-04 | 5.276050e-03 | 2.682164e-03 | 2.546018e-02 | 4.510947e-03 |\n",
       "| Col15a1 | Col15a1 | 7.599325e+00 | 1.707529e+01 | 1.682435e+01 | 4.967256e+00 | 1.488852e+01 | 6.224948e+00 |  10.3065894 | 1.371759e+01 |  15.57973568 | 5.901500e+00 | 4.469192e+00 | 7.736701e+00 | 7.845519e+00 | 4.201452e+00 |\n",
       "| Crhr2 | Crhr2   | 1.339300e+00 | 4.135732e-02 | 8.219679e-01 | 2.557185e+00 | 2.080810e+00 | 1.153048e+00 |   1.5216595 | 1.949948e+00 |   2.70590308 | 1.911946e+00 | 5.791973e+00 | 3.625391e-01 | 1.329262e+00 | 5.158103e+00 |\n",
       "\n"
      ],
      "text/plain": [
       "        rownames Nts_barcode  Col15a1_barcode Samd3_barcode Foxp2_barcode\n",
       "Drd2    Drd2     2.324962e+00 4.009084e-02    1.451598e+00  4.722998e+00 \n",
       "Drd3    Drd3     3.614218e+00 4.336623e-02    1.831823e+00  7.844507e-01 \n",
       "Esr1    Esr1     2.312566e-04 5.677352e-04    3.497059e-03  1.241465e-03 \n",
       "Foxp2   Foxp2    1.290412e-02 4.585553e-03    7.184867e-02  7.532045e+00 \n",
       "Met     Met      7.108829e-02 1.052930e-01    1.295025e+00  3.330074e+00 \n",
       "Nts     Nts      7.185375e+00 5.157656e-02    1.620092e+00  3.817660e+00 \n",
       "Onecut2 Onecut2  2.627450e+01 1.792921e+01    3.093991e+01  2.253631e+01 \n",
       "Pax6    Pax6     1.156283e-03 1.528518e-03    3.656017e-02  3.258845e-03 \n",
       "Samd3   Samd3    4.800888e-02 1.432440e-02    1.211270e+01  4.910770e-01 \n",
       "Sst     Sst      7.733222e-02 2.607215e-02    6.312192e-01  2.421633e+00 \n",
       "Tacr1   Tacr1    5.503908e-03 1.353830e-03    2.018757e-02  3.778709e-02 \n",
       "Slc32a1 Slc32a1  1.964542e+02 1.622384e+02    1.940016e+02  2.745680e+02 \n",
       "Slc17a6 Slc17a6  2.312566e-04 9.607826e-04    2.702273e-03  3.879578e-03 \n",
       "Col15a1 Col15a1  7.599325e+00 1.707529e+01    1.682435e+01  4.967256e+00 \n",
       "Crhr2   Crhr2    1.339300e+00 4.135732e-02    8.219679e-01  2.557185e+00 \n",
       "        Sst_barcode  Drd3_barcode Esr1_barcode Met_barcode  Slc17a6_barcode\n",
       "Drd2    3.662976e+00 6.829076e-02   3.2553386  3.862324e+00   3.85955947   \n",
       "Drd3    3.211450e+00 7.442396e+00   2.7059182  2.106778e+00   4.12405286   \n",
       "Esr1    1.963325e-04 0.000000e+00   7.2913362  0.000000e+00   0.02008811   \n",
       "Foxp2   2.163584e-02 5.188067e-03   0.8920073  1.178714e-02   0.96546256   \n",
       "Met     1.727765e+00 3.005696e-02   2.5305064  7.237736e+00   2.41938326   \n",
       "Nts     2.844662e+00 7.539615e-02   2.7702868  2.472179e+00   3.45726872   \n",
       "Onecut2 2.001433e+01 3.409823e+01  47.8248932  2.770203e+01 172.21127753   \n",
       "Pax6    2.866455e-03 3.947443e-04   0.6549725  5.503553e-03   0.51612335   \n",
       "Samd3   9.274748e-02 1.810184e-02   1.1891397  7.089617e-02   3.19048458   \n",
       "Sst     8.646680e+00 3.727514e-02   1.4429530  1.288352e-01   1.40687225   \n",
       "Tacr1   1.613853e-02 4.229403e-03   0.5430140  1.148379e-02   1.00669604   \n",
       "Slc32a1 2.331280e+02 1.308250e+02 246.3004881  2.610144e+02 198.81550661   \n",
       "Slc17a6 1.256528e-03 0.000000e+00   0.4490543  9.533715e-04   6.60493392   \n",
       "Col15a1 1.488852e+01 6.224948e+00  10.3065894  1.371759e+01  15.57973568   \n",
       "Crhr2   2.080810e+00 1.153048e+00   1.5216595  1.949948e+00   2.70590308   \n",
       "        Drd2_barcode Crhr2_barcode Onecut2_barcode Pax6_barcode Tacr1_barcode\n",
       "Drd2    6.792064e+00 9.082344e-02  6.459544e-01    1.856873e+00 5.144790e+00 \n",
       "Drd3    2.625911e+00 2.129263e-02  5.793473e-01    2.329090e+00 2.324018e+00 \n",
       "Esr1    4.206394e-04 9.421519e-04  7.152436e-03    3.612592e-03 3.080647e-03 \n",
       "Foxp2   1.198822e-02 1.205954e-02  5.677246e-02    3.849991e-01 1.674222e+00 \n",
       "Met     5.159843e-02 1.940833e-02  4.742959e-01    2.032341e+00 2.511277e+00 \n",
       "Nts     1.088755e-01 4.371585e-02  5.856057e-01    2.603647e+00 1.838486e+00 \n",
       "Onecut2 2.261827e+01 1.397569e+01  4.057506e+02    5.177929e+01 1.326450e+01 \n",
       "Pax6    2.103197e-03 9.421519e-04  2.190434e-02    7.561500e+00 1.034217e-02 \n",
       "Samd3   2.103197e-02 1.074053e-02  1.238266e-01    5.243420e-01 1.945208e-01 \n",
       "Sst     5.650589e-02 1.060863e-01  2.954850e-01    1.263891e+00 2.784575e+00 \n",
       "Tacr1   5.047672e-03 1.432071e-02  1.475190e-02    3.671082e-01 7.213995e+00 \n",
       "Slc32a1 1.666473e+02 1.899226e+02  9.093473e+01    2.080341e+02 2.233620e+02 \n",
       "Slc17a6 9.113853e-04 5.276050e-03  2.682164e-03    2.546018e-02 4.510947e-03 \n",
       "Col15a1 5.901500e+00 4.469192e+00  7.736701e+00    7.845519e+00 4.201452e+00 \n",
       "Crhr2   1.911946e+00 5.791973e+00  3.625391e-01    1.329262e+00 5.158103e+00 "
      ]
     },
     "metadata": {},
     "output_type": "display_data"
    }
   ],
   "source": [
    "df.exp"
   ]
  },
  {
   "cell_type": "markdown",
   "metadata": {},
   "source": [
    "% of cells expressing each gene"
   ]
  },
  {
   "cell_type": "code",
   "execution_count": 354,
   "metadata": {},
   "outputs": [],
   "source": [
    "df.pct <- data.frame(rownames=rownames(exp.data))\n",
    "for (type in barcode_names){\n",
    "    sub <- subset(exp.data, select=eval(parse(text=type)))\n",
    "    sum <- data.frame(rowSums(sub > 0)) / dim(sub)[2] * 100\n",
    "    df.pct <- cbind(df.pct, sum)\n",
    "} "
   ]
  },
  {
   "cell_type": "code",
   "execution_count": 355,
   "metadata": {},
   "outputs": [],
   "source": [
    "colnames(df.pct)[2:15] <- barcode_names"
   ]
  },
  {
   "cell_type": "code",
   "execution_count": 356,
   "metadata": {},
   "outputs": [
    {
     "data": {
      "text/html": [
       "<table class=\"dataframe\">\n",
       "<caption>A data.frame: 15 × 15</caption>\n",
       "<thead>\n",
       "\t<tr><th></th><th scope=col>rownames</th><th scope=col>Nts_barcode</th><th scope=col>Col15a1_barcode</th><th scope=col>Samd3_barcode</th><th scope=col>Foxp2_barcode</th><th scope=col>Sst_barcode</th><th scope=col>Drd3_barcode</th><th scope=col>Esr1_barcode</th><th scope=col>Met_barcode</th><th scope=col>Slc17a6_barcode</th><th scope=col>Drd2_barcode</th><th scope=col>Crhr2_barcode</th><th scope=col>Onecut2_barcode</th><th scope=col>Pax6_barcode</th><th scope=col>Tacr1_barcode</th></tr>\n",
       "\t<tr><th></th><th scope=col>&lt;chr&gt;</th><th scope=col>&lt;dbl&gt;</th><th scope=col>&lt;dbl&gt;</th><th scope=col>&lt;dbl&gt;</th><th scope=col>&lt;dbl&gt;</th><th scope=col>&lt;dbl&gt;</th><th scope=col>&lt;dbl&gt;</th><th scope=col>&lt;dbl&gt;</th><th scope=col>&lt;dbl&gt;</th><th scope=col>&lt;dbl&gt;</th><th scope=col>&lt;dbl&gt;</th><th scope=col>&lt;dbl&gt;</th><th scope=col>&lt;dbl&gt;</th><th scope=col>&lt;dbl&gt;</th><th scope=col>&lt;dbl&gt;</th></tr>\n",
       "</thead>\n",
       "<tbody>\n",
       "\t<tr><th scope=row>Drd2</th><td>Drd2   </td><td>29.845983072</td><td> 0.559000786</td><td>19.85375934</td><td>55.80384854</td><td>43.77429615</td><td> 1.133479953</td><td> 39.322758</td><td>45.51482059</td><td> 42.9074890</td><td>94.068984857</td><td> 1.43207085</td><td>  8.04649084</td><td> 24.56562876</td><td>59.02739575</td></tr>\n",
       "\t<tr><th scope=row>Drd3</th><td>Drd3   </td><td>37.278571759</td><td> 0.576469561</td><td>23.14417422</td><td> 9.91620112</td><td>37.22857031</td><td>96.858963514</td><td> 30.719951</td><td>26.78107124</td><td> 43.3656388</td><td>31.232473360</td><td> 0.39570379</td><td>  7.37594993</td><td> 26.56115603</td><td>23.98503686</td></tr>\n",
       "\t<tr><th scope=row>Esr1</th><td>Esr1   </td><td> 0.004625133</td><td> 0.008734387</td><td> 0.06358290</td><td> 0.02327747</td><td> 0.00392665</td><td> 0.000000000</td><td>100.000000</td><td> 0.00000000</td><td>  0.3700441</td><td> 0.007010656</td><td> 0.01884304</td><td>  0.13410818</td><td>  0.06881129</td><td> 0.05501155</td></tr>\n",
       "\t<tr><th scope=row>Foxp2</th><td>Foxp2  </td><td> 0.240506915</td><td> 0.074242292</td><td> 1.12859641</td><td>99.75170701</td><td> 0.39266502</td><td> 0.095866464</td><td> 11.531422</td><td> 0.21667533</td><td> 12.1409692</td><td> 0.224340998</td><td> 0.20727341</td><td>  0.84935181</td><td>  5.45329434</td><td>21.67455166</td></tr>\n",
       "\t<tr><th scope=row>Met</th><td>Met    </td><td> 1.258036169</td><td> 1.432439514</td><td>18.13702114</td><td>41.33302297</td><td>22.80598421</td><td> 0.535724356</td><td> 33.068944</td><td>95.04680187</td><td> 30.2907489</td><td> 0.890353337</td><td> 0.32033164</td><td>  5.99016540</td><td> 26.13108550</td><td>30.27835846</td></tr>\n",
       "\t<tr><th scope=row>Nts</th><td>Nts    </td><td>95.948383516</td><td> 0.768626081</td><td>21.74535050</td><td>43.20297952</td><td>34.30321593</td><td> 1.285738454</td><td> 33.312996</td><td>30.32587970</td><td> 39.5770925</td><td> 1.864834549</td><td> 0.75372150</td><td>  7.24184175</td><td> 31.94563908</td><td>21.66354935</td></tr>\n",
       "\t<tr><th scope=row>Onecut2</th><td>Onecut2</td><td>29.207714722</td><td>43.056162110</td><td>34.54140836</td><td>28.80198634</td><td>26.01013076</td><td>35.036372864</td><td> 42.647956</td><td>30.27387762</td><td> 78.6431718</td><td>27.341559170</td><td>18.46617675</td><td>100.00000000</td><td> 45.77670738</td><td>18.54989548</td></tr>\n",
       "\t<tr><th scope=row>Pax6</th><td>Pax6   </td><td> 0.023125665</td><td> 0.017468775</td><td> 0.50866317</td><td> 0.06207325</td><td> 0.05104645</td><td> 0.005639204</td><td>  8.267236</td><td> 0.10400416</td><td>  6.3964758</td><td> 0.035053281</td><td> 0.01884304</td><td>  0.40232454</td><td>100.00000000</td><td> 0.19804159</td></tr>\n",
       "\t<tr><th scope=row>Samd3</th><td>Samd3  </td><td> 0.790897738</td><td> 0.209625295</td><td>99.98410428</td><td> 6.30819367</td><td> 1.44500726</td><td> 0.298877798</td><td>  9.823063</td><td> 1.19171434</td><td> 16.0176211</td><td> 0.336511497</td><td> 0.16958734</td><td>  1.43048726</td><td>  6.57147772</td><td> 2.60754758</td></tr>\n",
       "\t<tr><th scope=row>Sst</th><td>Sst    </td><td> 1.345913695</td><td> 0.397414621</td><td> 8.39294230</td><td>27.38206083</td><td>99.68979464</td><td> 0.654147634</td><td> 16.595485</td><td> 2.15808632</td><td> 15.1718062</td><td> 1.002523836</td><td> 1.35669870</td><td>  3.93383996</td><td> 14.70841218</td><td>29.73924524</td></tr>\n",
       "\t<tr><th scope=row>Tacr1</th><td>Tacr1  </td><td> 0.097127792</td><td> 0.026203162</td><td> 0.33381021</td><td> 0.65952824</td><td> 0.28271881</td><td> 0.073309649</td><td>  7.413057</td><td> 0.19934131</td><td> 12.4229075</td><td> 0.091138531</td><td> 0.24495949</td><td>  0.22351363</td><td>  5.09203509</td><td>99.94498845</td></tr>\n",
       "\t<tr><th scope=row>Slc32a1</th><td>Slc32a1</td><td>97.109291892</td><td>98.488951000</td><td>93.30790017</td><td>99.26288020</td><td>97.43197079</td><td>91.016748435</td><td> 96.400244</td><td>98.04558849</td><td> 83.5947137</td><td>95.947840718</td><td>98.11569625</td><td> 94.41215914</td><td> 94.78754516</td><td>95.35702498</td></tr>\n",
       "\t<tr><th scope=row>Slc17a6</th><td>Slc17a6</td><td> 0.004625133</td><td> 0.017468775</td><td> 0.04768717</td><td> 0.07759156</td><td> 0.02355990</td><td> 0.000000000</td><td>  6.680903</td><td> 0.01733403</td><td>100.0000000</td><td> 0.014021312</td><td> 0.09421519</td><td>  0.04470273</td><td>  0.44727335</td><td> 0.08801848</td></tr>\n",
       "\t<tr><th scope=row>Col15a1</th><td>Col15a1</td><td>46.773969752</td><td>71.744257140</td><td>64.34589096</td><td>46.52389820</td><td>53.03726391</td><td>36.976258952</td><td> 53.874314</td><td>59.39937598</td><td> 64.5991189</td><td>35.298653954</td><td>27.64273601</td><td> 40.23245418</td><td> 45.07139171</td><td>30.32236770</td></tr>\n",
       "\t<tr><th scope=row>Crhr2</th><td>Crhr2  </td><td>19.055547847</td><td> 0.668180627</td><td>12.28739469</td><td>34.95499690</td><td>29.22605725</td><td>16.810466362</td><td> 20.866382</td><td>26.77240423</td><td> 34.7665198</td><td>26.072630398</td><td>89.42905596</td><td>  5.40902995</td><td> 18.95750903</td><td>64.64957641</td></tr>\n",
       "</tbody>\n",
       "</table>\n"
      ],
      "text/latex": [
       "A data.frame: 15 × 15\n",
       "\\begin{tabular}{r|lllllllllllllll}\n",
       "  & rownames & Nts\\_barcode & Col15a1\\_barcode & Samd3\\_barcode & Foxp2\\_barcode & Sst\\_barcode & Drd3\\_barcode & Esr1\\_barcode & Met\\_barcode & Slc17a6\\_barcode & Drd2\\_barcode & Crhr2\\_barcode & Onecut2\\_barcode & Pax6\\_barcode & Tacr1\\_barcode\\\\\n",
       "  & <chr> & <dbl> & <dbl> & <dbl> & <dbl> & <dbl> & <dbl> & <dbl> & <dbl> & <dbl> & <dbl> & <dbl> & <dbl> & <dbl> & <dbl>\\\\\n",
       "\\hline\n",
       "\tDrd2 & Drd2    & 29.845983072 &  0.559000786 & 19.85375934 & 55.80384854 & 43.77429615 &  1.133479953 &  39.322758 & 45.51482059 &  42.9074890 & 94.068984857 &  1.43207085 &   8.04649084 &  24.56562876 & 59.02739575\\\\\n",
       "\tDrd3 & Drd3    & 37.278571759 &  0.576469561 & 23.14417422 &  9.91620112 & 37.22857031 & 96.858963514 &  30.719951 & 26.78107124 &  43.3656388 & 31.232473360 &  0.39570379 &   7.37594993 &  26.56115603 & 23.98503686\\\\\n",
       "\tEsr1 & Esr1    &  0.004625133 &  0.008734387 &  0.06358290 &  0.02327747 &  0.00392665 &  0.000000000 & 100.000000 &  0.00000000 &   0.3700441 &  0.007010656 &  0.01884304 &   0.13410818 &   0.06881129 &  0.05501155\\\\\n",
       "\tFoxp2 & Foxp2   &  0.240506915 &  0.074242292 &  1.12859641 & 99.75170701 &  0.39266502 &  0.095866464 &  11.531422 &  0.21667533 &  12.1409692 &  0.224340998 &  0.20727341 &   0.84935181 &   5.45329434 & 21.67455166\\\\\n",
       "\tMet & Met     &  1.258036169 &  1.432439514 & 18.13702114 & 41.33302297 & 22.80598421 &  0.535724356 &  33.068944 & 95.04680187 &  30.2907489 &  0.890353337 &  0.32033164 &   5.99016540 &  26.13108550 & 30.27835846\\\\\n",
       "\tNts & Nts     & 95.948383516 &  0.768626081 & 21.74535050 & 43.20297952 & 34.30321593 &  1.285738454 &  33.312996 & 30.32587970 &  39.5770925 &  1.864834549 &  0.75372150 &   7.24184175 &  31.94563908 & 21.66354935\\\\\n",
       "\tOnecut2 & Onecut2 & 29.207714722 & 43.056162110 & 34.54140836 & 28.80198634 & 26.01013076 & 35.036372864 &  42.647956 & 30.27387762 &  78.6431718 & 27.341559170 & 18.46617675 & 100.00000000 &  45.77670738 & 18.54989548\\\\\n",
       "\tPax6 & Pax6    &  0.023125665 &  0.017468775 &  0.50866317 &  0.06207325 &  0.05104645 &  0.005639204 &   8.267236 &  0.10400416 &   6.3964758 &  0.035053281 &  0.01884304 &   0.40232454 & 100.00000000 &  0.19804159\\\\\n",
       "\tSamd3 & Samd3   &  0.790897738 &  0.209625295 & 99.98410428 &  6.30819367 &  1.44500726 &  0.298877798 &   9.823063 &  1.19171434 &  16.0176211 &  0.336511497 &  0.16958734 &   1.43048726 &   6.57147772 &  2.60754758\\\\\n",
       "\tSst & Sst     &  1.345913695 &  0.397414621 &  8.39294230 & 27.38206083 & 99.68979464 &  0.654147634 &  16.595485 &  2.15808632 &  15.1718062 &  1.002523836 &  1.35669870 &   3.93383996 &  14.70841218 & 29.73924524\\\\\n",
       "\tTacr1 & Tacr1   &  0.097127792 &  0.026203162 &  0.33381021 &  0.65952824 &  0.28271881 &  0.073309649 &   7.413057 &  0.19934131 &  12.4229075 &  0.091138531 &  0.24495949 &   0.22351363 &   5.09203509 & 99.94498845\\\\\n",
       "\tSlc32a1 & Slc32a1 & 97.109291892 & 98.488951000 & 93.30790017 & 99.26288020 & 97.43197079 & 91.016748435 &  96.400244 & 98.04558849 &  83.5947137 & 95.947840718 & 98.11569625 &  94.41215914 &  94.78754516 & 95.35702498\\\\\n",
       "\tSlc17a6 & Slc17a6 &  0.004625133 &  0.017468775 &  0.04768717 &  0.07759156 &  0.02355990 &  0.000000000 &   6.680903 &  0.01733403 & 100.0000000 &  0.014021312 &  0.09421519 &   0.04470273 &   0.44727335 &  0.08801848\\\\\n",
       "\tCol15a1 & Col15a1 & 46.773969752 & 71.744257140 & 64.34589096 & 46.52389820 & 53.03726391 & 36.976258952 &  53.874314 & 59.39937598 &  64.5991189 & 35.298653954 & 27.64273601 &  40.23245418 &  45.07139171 & 30.32236770\\\\\n",
       "\tCrhr2 & Crhr2   & 19.055547847 &  0.668180627 & 12.28739469 & 34.95499690 & 29.22605725 & 16.810466362 &  20.866382 & 26.77240423 &  34.7665198 & 26.072630398 & 89.42905596 &   5.40902995 &  18.95750903 & 64.64957641\\\\\n",
       "\\end{tabular}\n"
      ],
      "text/markdown": [
       "\n",
       "A data.frame: 15 × 15\n",
       "\n",
       "| <!--/--> | rownames &lt;chr&gt; | Nts_barcode &lt;dbl&gt; | Col15a1_barcode &lt;dbl&gt; | Samd3_barcode &lt;dbl&gt; | Foxp2_barcode &lt;dbl&gt; | Sst_barcode &lt;dbl&gt; | Drd3_barcode &lt;dbl&gt; | Esr1_barcode &lt;dbl&gt; | Met_barcode &lt;dbl&gt; | Slc17a6_barcode &lt;dbl&gt; | Drd2_barcode &lt;dbl&gt; | Crhr2_barcode &lt;dbl&gt; | Onecut2_barcode &lt;dbl&gt; | Pax6_barcode &lt;dbl&gt; | Tacr1_barcode &lt;dbl&gt; |\n",
       "|---|---|---|---|---|---|---|---|---|---|---|---|---|---|---|---|\n",
       "| Drd2 | Drd2    | 29.845983072 |  0.559000786 | 19.85375934 | 55.80384854 | 43.77429615 |  1.133479953 |  39.322758 | 45.51482059 |  42.9074890 | 94.068984857 |  1.43207085 |   8.04649084 |  24.56562876 | 59.02739575 |\n",
       "| Drd3 | Drd3    | 37.278571759 |  0.576469561 | 23.14417422 |  9.91620112 | 37.22857031 | 96.858963514 |  30.719951 | 26.78107124 |  43.3656388 | 31.232473360 |  0.39570379 |   7.37594993 |  26.56115603 | 23.98503686 |\n",
       "| Esr1 | Esr1    |  0.004625133 |  0.008734387 |  0.06358290 |  0.02327747 |  0.00392665 |  0.000000000 | 100.000000 |  0.00000000 |   0.3700441 |  0.007010656 |  0.01884304 |   0.13410818 |   0.06881129 |  0.05501155 |\n",
       "| Foxp2 | Foxp2   |  0.240506915 |  0.074242292 |  1.12859641 | 99.75170701 |  0.39266502 |  0.095866464 |  11.531422 |  0.21667533 |  12.1409692 |  0.224340998 |  0.20727341 |   0.84935181 |   5.45329434 | 21.67455166 |\n",
       "| Met | Met     |  1.258036169 |  1.432439514 | 18.13702114 | 41.33302297 | 22.80598421 |  0.535724356 |  33.068944 | 95.04680187 |  30.2907489 |  0.890353337 |  0.32033164 |   5.99016540 |  26.13108550 | 30.27835846 |\n",
       "| Nts | Nts     | 95.948383516 |  0.768626081 | 21.74535050 | 43.20297952 | 34.30321593 |  1.285738454 |  33.312996 | 30.32587970 |  39.5770925 |  1.864834549 |  0.75372150 |   7.24184175 |  31.94563908 | 21.66354935 |\n",
       "| Onecut2 | Onecut2 | 29.207714722 | 43.056162110 | 34.54140836 | 28.80198634 | 26.01013076 | 35.036372864 |  42.647956 | 30.27387762 |  78.6431718 | 27.341559170 | 18.46617675 | 100.00000000 |  45.77670738 | 18.54989548 |\n",
       "| Pax6 | Pax6    |  0.023125665 |  0.017468775 |  0.50866317 |  0.06207325 |  0.05104645 |  0.005639204 |   8.267236 |  0.10400416 |   6.3964758 |  0.035053281 |  0.01884304 |   0.40232454 | 100.00000000 |  0.19804159 |\n",
       "| Samd3 | Samd3   |  0.790897738 |  0.209625295 | 99.98410428 |  6.30819367 |  1.44500726 |  0.298877798 |   9.823063 |  1.19171434 |  16.0176211 |  0.336511497 |  0.16958734 |   1.43048726 |   6.57147772 |  2.60754758 |\n",
       "| Sst | Sst     |  1.345913695 |  0.397414621 |  8.39294230 | 27.38206083 | 99.68979464 |  0.654147634 |  16.595485 |  2.15808632 |  15.1718062 |  1.002523836 |  1.35669870 |   3.93383996 |  14.70841218 | 29.73924524 |\n",
       "| Tacr1 | Tacr1   |  0.097127792 |  0.026203162 |  0.33381021 |  0.65952824 |  0.28271881 |  0.073309649 |   7.413057 |  0.19934131 |  12.4229075 |  0.091138531 |  0.24495949 |   0.22351363 |   5.09203509 | 99.94498845 |\n",
       "| Slc32a1 | Slc32a1 | 97.109291892 | 98.488951000 | 93.30790017 | 99.26288020 | 97.43197079 | 91.016748435 |  96.400244 | 98.04558849 |  83.5947137 | 95.947840718 | 98.11569625 |  94.41215914 |  94.78754516 | 95.35702498 |\n",
       "| Slc17a6 | Slc17a6 |  0.004625133 |  0.017468775 |  0.04768717 |  0.07759156 |  0.02355990 |  0.000000000 |   6.680903 |  0.01733403 | 100.0000000 |  0.014021312 |  0.09421519 |   0.04470273 |   0.44727335 |  0.08801848 |\n",
       "| Col15a1 | Col15a1 | 46.773969752 | 71.744257140 | 64.34589096 | 46.52389820 | 53.03726391 | 36.976258952 |  53.874314 | 59.39937598 |  64.5991189 | 35.298653954 | 27.64273601 |  40.23245418 |  45.07139171 | 30.32236770 |\n",
       "| Crhr2 | Crhr2   | 19.055547847 |  0.668180627 | 12.28739469 | 34.95499690 | 29.22605725 | 16.810466362 |  20.866382 | 26.77240423 |  34.7665198 | 26.072630398 | 89.42905596 |   5.40902995 |  18.95750903 | 64.64957641 |\n",
       "\n"
      ],
      "text/plain": [
       "        rownames Nts_barcode  Col15a1_barcode Samd3_barcode Foxp2_barcode\n",
       "Drd2    Drd2     29.845983072  0.559000786    19.85375934   55.80384854  \n",
       "Drd3    Drd3     37.278571759  0.576469561    23.14417422    9.91620112  \n",
       "Esr1    Esr1      0.004625133  0.008734387     0.06358290    0.02327747  \n",
       "Foxp2   Foxp2     0.240506915  0.074242292     1.12859641   99.75170701  \n",
       "Met     Met       1.258036169  1.432439514    18.13702114   41.33302297  \n",
       "Nts     Nts      95.948383516  0.768626081    21.74535050   43.20297952  \n",
       "Onecut2 Onecut2  29.207714722 43.056162110    34.54140836   28.80198634  \n",
       "Pax6    Pax6      0.023125665  0.017468775     0.50866317    0.06207325  \n",
       "Samd3   Samd3     0.790897738  0.209625295    99.98410428    6.30819367  \n",
       "Sst     Sst       1.345913695  0.397414621     8.39294230   27.38206083  \n",
       "Tacr1   Tacr1     0.097127792  0.026203162     0.33381021    0.65952824  \n",
       "Slc32a1 Slc32a1  97.109291892 98.488951000    93.30790017   99.26288020  \n",
       "Slc17a6 Slc17a6   0.004625133  0.017468775     0.04768717    0.07759156  \n",
       "Col15a1 Col15a1  46.773969752 71.744257140    64.34589096   46.52389820  \n",
       "Crhr2   Crhr2    19.055547847  0.668180627    12.28739469   34.95499690  \n",
       "        Sst_barcode Drd3_barcode Esr1_barcode Met_barcode Slc17a6_barcode\n",
       "Drd2    43.77429615  1.133479953  39.322758   45.51482059  42.9074890    \n",
       "Drd3    37.22857031 96.858963514  30.719951   26.78107124  43.3656388    \n",
       "Esr1     0.00392665  0.000000000 100.000000    0.00000000   0.3700441    \n",
       "Foxp2    0.39266502  0.095866464  11.531422    0.21667533  12.1409692    \n",
       "Met     22.80598421  0.535724356  33.068944   95.04680187  30.2907489    \n",
       "Nts     34.30321593  1.285738454  33.312996   30.32587970  39.5770925    \n",
       "Onecut2 26.01013076 35.036372864  42.647956   30.27387762  78.6431718    \n",
       "Pax6     0.05104645  0.005639204   8.267236    0.10400416   6.3964758    \n",
       "Samd3    1.44500726  0.298877798   9.823063    1.19171434  16.0176211    \n",
       "Sst     99.68979464  0.654147634  16.595485    2.15808632  15.1718062    \n",
       "Tacr1    0.28271881  0.073309649   7.413057    0.19934131  12.4229075    \n",
       "Slc32a1 97.43197079 91.016748435  96.400244   98.04558849  83.5947137    \n",
       "Slc17a6  0.02355990  0.000000000   6.680903    0.01733403 100.0000000    \n",
       "Col15a1 53.03726391 36.976258952  53.874314   59.39937598  64.5991189    \n",
       "Crhr2   29.22605725 16.810466362  20.866382   26.77240423  34.7665198    \n",
       "        Drd2_barcode Crhr2_barcode Onecut2_barcode Pax6_barcode Tacr1_barcode\n",
       "Drd2    94.068984857  1.43207085     8.04649084     24.56562876 59.02739575  \n",
       "Drd3    31.232473360  0.39570379     7.37594993     26.56115603 23.98503686  \n",
       "Esr1     0.007010656  0.01884304     0.13410818      0.06881129  0.05501155  \n",
       "Foxp2    0.224340998  0.20727341     0.84935181      5.45329434 21.67455166  \n",
       "Met      0.890353337  0.32033164     5.99016540     26.13108550 30.27835846  \n",
       "Nts      1.864834549  0.75372150     7.24184175     31.94563908 21.66354935  \n",
       "Onecut2 27.341559170 18.46617675   100.00000000     45.77670738 18.54989548  \n",
       "Pax6     0.035053281  0.01884304     0.40232454    100.00000000  0.19804159  \n",
       "Samd3    0.336511497  0.16958734     1.43048726      6.57147772  2.60754758  \n",
       "Sst      1.002523836  1.35669870     3.93383996     14.70841218 29.73924524  \n",
       "Tacr1    0.091138531  0.24495949     0.22351363      5.09203509 99.94498845  \n",
       "Slc32a1 95.947840718 98.11569625    94.41215914     94.78754516 95.35702498  \n",
       "Slc17a6  0.014021312  0.09421519     0.04470273      0.44727335  0.08801848  \n",
       "Col15a1 35.298653954 27.64273601    40.23245418     45.07139171 30.32236770  \n",
       "Crhr2   26.072630398 89.42905596     5.40902995     18.95750903 64.64957641  "
      ]
     },
     "metadata": {},
     "output_type": "display_data"
    }
   ],
   "source": [
    "df.pct"
   ]
  },
  {
   "cell_type": "markdown",
   "metadata": {},
   "source": [
    "Plotting both as a disc plot"
   ]
  },
  {
   "cell_type": "code",
   "execution_count": 286,
   "metadata": {},
   "outputs": [
    {
     "name": "stderr",
     "output_type": "stream",
     "text": [
      "\n",
      "Attaching package: 'scales'\n",
      "\n",
      "\n",
      "The following object is masked from 'package:purrr':\n",
      "\n",
      "    discard\n",
      "\n",
      "\n",
      "The following object is masked from 'package:readr':\n",
      "\n",
      "    col_factor\n",
      "\n",
      "\n"
     ]
    }
   ],
   "source": [
    "library(reshape2)\n",
    "library(scales)"
   ]
  },
  {
   "cell_type": "code",
   "execution_count": 321,
   "metadata": {
    "scrolled": true
   },
   "outputs": [
    {
     "data": {
      "text/html": [
       "<table class=\"dataframe\">\n",
       "<caption>A data.frame: 15 × 15</caption>\n",
       "<thead>\n",
       "\t<tr><th></th><th scope=col>rownames</th><th scope=col>Nts_barcode</th><th scope=col>Col15a1_barcode</th><th scope=col>Samd3_barcode</th><th scope=col>Foxp2_barcode</th><th scope=col>Sst_barcode</th><th scope=col>Drd3_barcode</th><th scope=col>Esr1_barcode</th><th scope=col>Met_barcode</th><th scope=col>Slc17a6_barcode</th><th scope=col>Drd2_barcode</th><th scope=col>Crhr2_barcode</th><th scope=col>Onecut2_barcode</th><th scope=col>Pax6_barcode</th><th scope=col>Tacr1_barcode</th></tr>\n",
       "\t<tr><th></th><th scope=col>&lt;chr&gt;</th><th scope=col>&lt;dbl&gt;</th><th scope=col>&lt;dbl&gt;</th><th scope=col>&lt;dbl&gt;</th><th scope=col>&lt;dbl&gt;</th><th scope=col>&lt;dbl&gt;</th><th scope=col>&lt;dbl&gt;</th><th scope=col>&lt;dbl&gt;</th><th scope=col>&lt;dbl&gt;</th><th scope=col>&lt;dbl&gt;</th><th scope=col>&lt;dbl&gt;</th><th scope=col>&lt;dbl&gt;</th><th scope=col>&lt;dbl&gt;</th><th scope=col>&lt;dbl&gt;</th><th scope=col>&lt;dbl&gt;</th></tr>\n",
       "</thead>\n",
       "<tbody>\n",
       "\t<tr><th scope=row>Drd2</th><td>Drd2   </td><td>2.324962e+00</td><td>4.009084e-02</td><td>1.451598e+00</td><td>4.722998e+00</td><td>3.662976e+00</td><td>6.829076e-02</td><td>  3.2553386</td><td>3.862324e+00</td><td>  3.85955947</td><td>6.792064e+00</td><td>9.082344e-02</td><td>6.459544e-01</td><td>1.856873e+00</td><td>5.144790e+00</td></tr>\n",
       "\t<tr><th scope=row>Drd3</th><td>Drd3   </td><td>3.614218e+00</td><td>4.336623e-02</td><td>1.831823e+00</td><td>7.844507e-01</td><td>3.211450e+00</td><td>7.442396e+00</td><td>  2.7059182</td><td>2.106778e+00</td><td>  4.12405286</td><td>2.625911e+00</td><td>2.129263e-02</td><td>5.793473e-01</td><td>2.329090e+00</td><td>2.324018e+00</td></tr>\n",
       "\t<tr><th scope=row>Esr1</th><td>Esr1   </td><td>2.312566e-04</td><td>5.677352e-04</td><td>3.497059e-03</td><td>1.241465e-03</td><td>1.963325e-04</td><td>0.000000e+00</td><td>  7.2913362</td><td>0.000000e+00</td><td>  0.02008811</td><td>4.206394e-04</td><td>9.421519e-04</td><td>7.152436e-03</td><td>3.612592e-03</td><td>3.080647e-03</td></tr>\n",
       "\t<tr><th scope=row>Foxp2</th><td>Foxp2  </td><td>1.290412e-02</td><td>4.585553e-03</td><td>7.184867e-02</td><td>7.532045e+00</td><td>2.163584e-02</td><td>5.188067e-03</td><td>  0.8920073</td><td>1.178714e-02</td><td>  0.96546256</td><td>1.198822e-02</td><td>1.205954e-02</td><td>5.677246e-02</td><td>3.849991e-01</td><td>1.674222e+00</td></tr>\n",
       "\t<tr><th scope=row>Met</th><td>Met    </td><td>7.108829e-02</td><td>1.052930e-01</td><td>1.295025e+00</td><td>3.330074e+00</td><td>1.727765e+00</td><td>3.005696e-02</td><td>  2.5305064</td><td>7.237736e+00</td><td>  2.41938326</td><td>5.159843e-02</td><td>1.940833e-02</td><td>4.742959e-01</td><td>2.032341e+00</td><td>2.511277e+00</td></tr>\n",
       "\t<tr><th scope=row>Nts</th><td>Nts    </td><td>7.185375e+00</td><td>5.157656e-02</td><td>1.620092e+00</td><td>3.817660e+00</td><td>2.844662e+00</td><td>7.539615e-02</td><td>  2.7702868</td><td>2.472179e+00</td><td>  3.45726872</td><td>1.088755e-01</td><td>4.371585e-02</td><td>5.856057e-01</td><td>2.603647e+00</td><td>1.838486e+00</td></tr>\n",
       "\t<tr><th scope=row>Onecut2</th><td>Onecut2</td><td>2.627450e+01</td><td>1.792921e+01</td><td>3.093991e+01</td><td>2.253631e+01</td><td>2.001433e+01</td><td>3.409823e+01</td><td> 47.8248932</td><td>2.770203e+01</td><td>172.21127753</td><td>2.261827e+01</td><td>1.397569e+01</td><td>4.057506e+02</td><td>5.177929e+01</td><td>1.326450e+01</td></tr>\n",
       "\t<tr><th scope=row>Pax6</th><td>Pax6   </td><td>1.156283e-03</td><td>1.528518e-03</td><td>3.656017e-02</td><td>3.258845e-03</td><td>2.866455e-03</td><td>3.947443e-04</td><td>  0.6549725</td><td>5.503553e-03</td><td>  0.51612335</td><td>2.103197e-03</td><td>9.421519e-04</td><td>2.190434e-02</td><td>7.561500e+00</td><td>1.034217e-02</td></tr>\n",
       "\t<tr><th scope=row>Samd3</th><td>Samd3  </td><td>4.800888e-02</td><td>1.432440e-02</td><td>1.211270e+01</td><td>4.910770e-01</td><td>9.274748e-02</td><td>1.810184e-02</td><td>  1.1891397</td><td>7.089617e-02</td><td>  3.19048458</td><td>2.103197e-02</td><td>1.074053e-02</td><td>1.238266e-01</td><td>5.243420e-01</td><td>1.945208e-01</td></tr>\n",
       "\t<tr><th scope=row>Sst</th><td>Sst    </td><td>7.733222e-02</td><td>2.607215e-02</td><td>6.312192e-01</td><td>2.421633e+00</td><td>8.646680e+00</td><td>3.727514e-02</td><td>  1.4429530</td><td>1.288352e-01</td><td>  1.40687225</td><td>5.650589e-02</td><td>1.060863e-01</td><td>2.954850e-01</td><td>1.263891e+00</td><td>2.784575e+00</td></tr>\n",
       "\t<tr><th scope=row>Tacr1</th><td>Tacr1  </td><td>5.503908e-03</td><td>1.353830e-03</td><td>2.018757e-02</td><td>3.778709e-02</td><td>1.613853e-02</td><td>4.229403e-03</td><td>  0.5430140</td><td>1.148379e-02</td><td>  1.00669604</td><td>5.047672e-03</td><td>1.432071e-02</td><td>1.475190e-02</td><td>3.671082e-01</td><td>7.213995e+00</td></tr>\n",
       "\t<tr><th scope=row>Slc32a1</th><td>Slc32a1</td><td>1.964542e+02</td><td>1.622384e+02</td><td>1.940016e+02</td><td>2.745680e+02</td><td>2.331280e+02</td><td>1.308250e+02</td><td>246.3004881</td><td>2.610144e+02</td><td>198.81550661</td><td>1.666473e+02</td><td>1.899226e+02</td><td>9.093473e+01</td><td>2.080341e+02</td><td>2.233620e+02</td></tr>\n",
       "\t<tr><th scope=row>Slc17a6</th><td>Slc17a6</td><td>2.312566e-04</td><td>9.607826e-04</td><td>2.702273e-03</td><td>3.879578e-03</td><td>1.256528e-03</td><td>0.000000e+00</td><td>  0.4490543</td><td>9.533715e-04</td><td>  6.60493392</td><td>9.113853e-04</td><td>5.276050e-03</td><td>2.682164e-03</td><td>2.546018e-02</td><td>4.510947e-03</td></tr>\n",
       "\t<tr><th scope=row>Col15a1</th><td>Col15a1</td><td>7.599325e+00</td><td>1.707529e+01</td><td>1.682435e+01</td><td>4.967256e+00</td><td>1.488852e+01</td><td>6.224948e+00</td><td> 10.3065894</td><td>1.371759e+01</td><td> 15.57973568</td><td>5.901500e+00</td><td>4.469192e+00</td><td>7.736701e+00</td><td>7.845519e+00</td><td>4.201452e+00</td></tr>\n",
       "\t<tr><th scope=row>Crhr2</th><td>Crhr2  </td><td>1.339300e+00</td><td>4.135732e-02</td><td>8.219679e-01</td><td>2.557185e+00</td><td>2.080810e+00</td><td>1.153048e+00</td><td>  1.5216595</td><td>1.949948e+00</td><td>  2.70590308</td><td>1.911946e+00</td><td>5.791973e+00</td><td>3.625391e-01</td><td>1.329262e+00</td><td>5.158103e+00</td></tr>\n",
       "</tbody>\n",
       "</table>\n"
      ],
      "text/latex": [
       "A data.frame: 15 × 15\n",
       "\\begin{tabular}{r|lllllllllllllll}\n",
       "  & rownames & Nts\\_barcode & Col15a1\\_barcode & Samd3\\_barcode & Foxp2\\_barcode & Sst\\_barcode & Drd3\\_barcode & Esr1\\_barcode & Met\\_barcode & Slc17a6\\_barcode & Drd2\\_barcode & Crhr2\\_barcode & Onecut2\\_barcode & Pax6\\_barcode & Tacr1\\_barcode\\\\\n",
       "  & <chr> & <dbl> & <dbl> & <dbl> & <dbl> & <dbl> & <dbl> & <dbl> & <dbl> & <dbl> & <dbl> & <dbl> & <dbl> & <dbl> & <dbl>\\\\\n",
       "\\hline\n",
       "\tDrd2 & Drd2    & 2.324962e+00 & 4.009084e-02 & 1.451598e+00 & 4.722998e+00 & 3.662976e+00 & 6.829076e-02 &   3.2553386 & 3.862324e+00 &   3.85955947 & 6.792064e+00 & 9.082344e-02 & 6.459544e-01 & 1.856873e+00 & 5.144790e+00\\\\\n",
       "\tDrd3 & Drd3    & 3.614218e+00 & 4.336623e-02 & 1.831823e+00 & 7.844507e-01 & 3.211450e+00 & 7.442396e+00 &   2.7059182 & 2.106778e+00 &   4.12405286 & 2.625911e+00 & 2.129263e-02 & 5.793473e-01 & 2.329090e+00 & 2.324018e+00\\\\\n",
       "\tEsr1 & Esr1    & 2.312566e-04 & 5.677352e-04 & 3.497059e-03 & 1.241465e-03 & 1.963325e-04 & 0.000000e+00 &   7.2913362 & 0.000000e+00 &   0.02008811 & 4.206394e-04 & 9.421519e-04 & 7.152436e-03 & 3.612592e-03 & 3.080647e-03\\\\\n",
       "\tFoxp2 & Foxp2   & 1.290412e-02 & 4.585553e-03 & 7.184867e-02 & 7.532045e+00 & 2.163584e-02 & 5.188067e-03 &   0.8920073 & 1.178714e-02 &   0.96546256 & 1.198822e-02 & 1.205954e-02 & 5.677246e-02 & 3.849991e-01 & 1.674222e+00\\\\\n",
       "\tMet & Met     & 7.108829e-02 & 1.052930e-01 & 1.295025e+00 & 3.330074e+00 & 1.727765e+00 & 3.005696e-02 &   2.5305064 & 7.237736e+00 &   2.41938326 & 5.159843e-02 & 1.940833e-02 & 4.742959e-01 & 2.032341e+00 & 2.511277e+00\\\\\n",
       "\tNts & Nts     & 7.185375e+00 & 5.157656e-02 & 1.620092e+00 & 3.817660e+00 & 2.844662e+00 & 7.539615e-02 &   2.7702868 & 2.472179e+00 &   3.45726872 & 1.088755e-01 & 4.371585e-02 & 5.856057e-01 & 2.603647e+00 & 1.838486e+00\\\\\n",
       "\tOnecut2 & Onecut2 & 2.627450e+01 & 1.792921e+01 & 3.093991e+01 & 2.253631e+01 & 2.001433e+01 & 3.409823e+01 &  47.8248932 & 2.770203e+01 & 172.21127753 & 2.261827e+01 & 1.397569e+01 & 4.057506e+02 & 5.177929e+01 & 1.326450e+01\\\\\n",
       "\tPax6 & Pax6    & 1.156283e-03 & 1.528518e-03 & 3.656017e-02 & 3.258845e-03 & 2.866455e-03 & 3.947443e-04 &   0.6549725 & 5.503553e-03 &   0.51612335 & 2.103197e-03 & 9.421519e-04 & 2.190434e-02 & 7.561500e+00 & 1.034217e-02\\\\\n",
       "\tSamd3 & Samd3   & 4.800888e-02 & 1.432440e-02 & 1.211270e+01 & 4.910770e-01 & 9.274748e-02 & 1.810184e-02 &   1.1891397 & 7.089617e-02 &   3.19048458 & 2.103197e-02 & 1.074053e-02 & 1.238266e-01 & 5.243420e-01 & 1.945208e-01\\\\\n",
       "\tSst & Sst     & 7.733222e-02 & 2.607215e-02 & 6.312192e-01 & 2.421633e+00 & 8.646680e+00 & 3.727514e-02 &   1.4429530 & 1.288352e-01 &   1.40687225 & 5.650589e-02 & 1.060863e-01 & 2.954850e-01 & 1.263891e+00 & 2.784575e+00\\\\\n",
       "\tTacr1 & Tacr1   & 5.503908e-03 & 1.353830e-03 & 2.018757e-02 & 3.778709e-02 & 1.613853e-02 & 4.229403e-03 &   0.5430140 & 1.148379e-02 &   1.00669604 & 5.047672e-03 & 1.432071e-02 & 1.475190e-02 & 3.671082e-01 & 7.213995e+00\\\\\n",
       "\tSlc32a1 & Slc32a1 & 1.964542e+02 & 1.622384e+02 & 1.940016e+02 & 2.745680e+02 & 2.331280e+02 & 1.308250e+02 & 246.3004881 & 2.610144e+02 & 198.81550661 & 1.666473e+02 & 1.899226e+02 & 9.093473e+01 & 2.080341e+02 & 2.233620e+02\\\\\n",
       "\tSlc17a6 & Slc17a6 & 2.312566e-04 & 9.607826e-04 & 2.702273e-03 & 3.879578e-03 & 1.256528e-03 & 0.000000e+00 &   0.4490543 & 9.533715e-04 &   6.60493392 & 9.113853e-04 & 5.276050e-03 & 2.682164e-03 & 2.546018e-02 & 4.510947e-03\\\\\n",
       "\tCol15a1 & Col15a1 & 7.599325e+00 & 1.707529e+01 & 1.682435e+01 & 4.967256e+00 & 1.488852e+01 & 6.224948e+00 &  10.3065894 & 1.371759e+01 &  15.57973568 & 5.901500e+00 & 4.469192e+00 & 7.736701e+00 & 7.845519e+00 & 4.201452e+00\\\\\n",
       "\tCrhr2 & Crhr2   & 1.339300e+00 & 4.135732e-02 & 8.219679e-01 & 2.557185e+00 & 2.080810e+00 & 1.153048e+00 &   1.5216595 & 1.949948e+00 &   2.70590308 & 1.911946e+00 & 5.791973e+00 & 3.625391e-01 & 1.329262e+00 & 5.158103e+00\\\\\n",
       "\\end{tabular}\n"
      ],
      "text/markdown": [
       "\n",
       "A data.frame: 15 × 15\n",
       "\n",
       "| <!--/--> | rownames &lt;chr&gt; | Nts_barcode &lt;dbl&gt; | Col15a1_barcode &lt;dbl&gt; | Samd3_barcode &lt;dbl&gt; | Foxp2_barcode &lt;dbl&gt; | Sst_barcode &lt;dbl&gt; | Drd3_barcode &lt;dbl&gt; | Esr1_barcode &lt;dbl&gt; | Met_barcode &lt;dbl&gt; | Slc17a6_barcode &lt;dbl&gt; | Drd2_barcode &lt;dbl&gt; | Crhr2_barcode &lt;dbl&gt; | Onecut2_barcode &lt;dbl&gt; | Pax6_barcode &lt;dbl&gt; | Tacr1_barcode &lt;dbl&gt; |\n",
       "|---|---|---|---|---|---|---|---|---|---|---|---|---|---|---|---|\n",
       "| Drd2 | Drd2    | 2.324962e+00 | 4.009084e-02 | 1.451598e+00 | 4.722998e+00 | 3.662976e+00 | 6.829076e-02 |   3.2553386 | 3.862324e+00 |   3.85955947 | 6.792064e+00 | 9.082344e-02 | 6.459544e-01 | 1.856873e+00 | 5.144790e+00 |\n",
       "| Drd3 | Drd3    | 3.614218e+00 | 4.336623e-02 | 1.831823e+00 | 7.844507e-01 | 3.211450e+00 | 7.442396e+00 |   2.7059182 | 2.106778e+00 |   4.12405286 | 2.625911e+00 | 2.129263e-02 | 5.793473e-01 | 2.329090e+00 | 2.324018e+00 |\n",
       "| Esr1 | Esr1    | 2.312566e-04 | 5.677352e-04 | 3.497059e-03 | 1.241465e-03 | 1.963325e-04 | 0.000000e+00 |   7.2913362 | 0.000000e+00 |   0.02008811 | 4.206394e-04 | 9.421519e-04 | 7.152436e-03 | 3.612592e-03 | 3.080647e-03 |\n",
       "| Foxp2 | Foxp2   | 1.290412e-02 | 4.585553e-03 | 7.184867e-02 | 7.532045e+00 | 2.163584e-02 | 5.188067e-03 |   0.8920073 | 1.178714e-02 |   0.96546256 | 1.198822e-02 | 1.205954e-02 | 5.677246e-02 | 3.849991e-01 | 1.674222e+00 |\n",
       "| Met | Met     | 7.108829e-02 | 1.052930e-01 | 1.295025e+00 | 3.330074e+00 | 1.727765e+00 | 3.005696e-02 |   2.5305064 | 7.237736e+00 |   2.41938326 | 5.159843e-02 | 1.940833e-02 | 4.742959e-01 | 2.032341e+00 | 2.511277e+00 |\n",
       "| Nts | Nts     | 7.185375e+00 | 5.157656e-02 | 1.620092e+00 | 3.817660e+00 | 2.844662e+00 | 7.539615e-02 |   2.7702868 | 2.472179e+00 |   3.45726872 | 1.088755e-01 | 4.371585e-02 | 5.856057e-01 | 2.603647e+00 | 1.838486e+00 |\n",
       "| Onecut2 | Onecut2 | 2.627450e+01 | 1.792921e+01 | 3.093991e+01 | 2.253631e+01 | 2.001433e+01 | 3.409823e+01 |  47.8248932 | 2.770203e+01 | 172.21127753 | 2.261827e+01 | 1.397569e+01 | 4.057506e+02 | 5.177929e+01 | 1.326450e+01 |\n",
       "| Pax6 | Pax6    | 1.156283e-03 | 1.528518e-03 | 3.656017e-02 | 3.258845e-03 | 2.866455e-03 | 3.947443e-04 |   0.6549725 | 5.503553e-03 |   0.51612335 | 2.103197e-03 | 9.421519e-04 | 2.190434e-02 | 7.561500e+00 | 1.034217e-02 |\n",
       "| Samd3 | Samd3   | 4.800888e-02 | 1.432440e-02 | 1.211270e+01 | 4.910770e-01 | 9.274748e-02 | 1.810184e-02 |   1.1891397 | 7.089617e-02 |   3.19048458 | 2.103197e-02 | 1.074053e-02 | 1.238266e-01 | 5.243420e-01 | 1.945208e-01 |\n",
       "| Sst | Sst     | 7.733222e-02 | 2.607215e-02 | 6.312192e-01 | 2.421633e+00 | 8.646680e+00 | 3.727514e-02 |   1.4429530 | 1.288352e-01 |   1.40687225 | 5.650589e-02 | 1.060863e-01 | 2.954850e-01 | 1.263891e+00 | 2.784575e+00 |\n",
       "| Tacr1 | Tacr1   | 5.503908e-03 | 1.353830e-03 | 2.018757e-02 | 3.778709e-02 | 1.613853e-02 | 4.229403e-03 |   0.5430140 | 1.148379e-02 |   1.00669604 | 5.047672e-03 | 1.432071e-02 | 1.475190e-02 | 3.671082e-01 | 7.213995e+00 |\n",
       "| Slc32a1 | Slc32a1 | 1.964542e+02 | 1.622384e+02 | 1.940016e+02 | 2.745680e+02 | 2.331280e+02 | 1.308250e+02 | 246.3004881 | 2.610144e+02 | 198.81550661 | 1.666473e+02 | 1.899226e+02 | 9.093473e+01 | 2.080341e+02 | 2.233620e+02 |\n",
       "| Slc17a6 | Slc17a6 | 2.312566e-04 | 9.607826e-04 | 2.702273e-03 | 3.879578e-03 | 1.256528e-03 | 0.000000e+00 |   0.4490543 | 9.533715e-04 |   6.60493392 | 9.113853e-04 | 5.276050e-03 | 2.682164e-03 | 2.546018e-02 | 4.510947e-03 |\n",
       "| Col15a1 | Col15a1 | 7.599325e+00 | 1.707529e+01 | 1.682435e+01 | 4.967256e+00 | 1.488852e+01 | 6.224948e+00 |  10.3065894 | 1.371759e+01 |  15.57973568 | 5.901500e+00 | 4.469192e+00 | 7.736701e+00 | 7.845519e+00 | 4.201452e+00 |\n",
       "| Crhr2 | Crhr2   | 1.339300e+00 | 4.135732e-02 | 8.219679e-01 | 2.557185e+00 | 2.080810e+00 | 1.153048e+00 |   1.5216595 | 1.949948e+00 |   2.70590308 | 1.911946e+00 | 5.791973e+00 | 3.625391e-01 | 1.329262e+00 | 5.158103e+00 |\n",
       "\n"
      ],
      "text/plain": [
       "        rownames Nts_barcode  Col15a1_barcode Samd3_barcode Foxp2_barcode\n",
       "Drd2    Drd2     2.324962e+00 4.009084e-02    1.451598e+00  4.722998e+00 \n",
       "Drd3    Drd3     3.614218e+00 4.336623e-02    1.831823e+00  7.844507e-01 \n",
       "Esr1    Esr1     2.312566e-04 5.677352e-04    3.497059e-03  1.241465e-03 \n",
       "Foxp2   Foxp2    1.290412e-02 4.585553e-03    7.184867e-02  7.532045e+00 \n",
       "Met     Met      7.108829e-02 1.052930e-01    1.295025e+00  3.330074e+00 \n",
       "Nts     Nts      7.185375e+00 5.157656e-02    1.620092e+00  3.817660e+00 \n",
       "Onecut2 Onecut2  2.627450e+01 1.792921e+01    3.093991e+01  2.253631e+01 \n",
       "Pax6    Pax6     1.156283e-03 1.528518e-03    3.656017e-02  3.258845e-03 \n",
       "Samd3   Samd3    4.800888e-02 1.432440e-02    1.211270e+01  4.910770e-01 \n",
       "Sst     Sst      7.733222e-02 2.607215e-02    6.312192e-01  2.421633e+00 \n",
       "Tacr1   Tacr1    5.503908e-03 1.353830e-03    2.018757e-02  3.778709e-02 \n",
       "Slc32a1 Slc32a1  1.964542e+02 1.622384e+02    1.940016e+02  2.745680e+02 \n",
       "Slc17a6 Slc17a6  2.312566e-04 9.607826e-04    2.702273e-03  3.879578e-03 \n",
       "Col15a1 Col15a1  7.599325e+00 1.707529e+01    1.682435e+01  4.967256e+00 \n",
       "Crhr2   Crhr2    1.339300e+00 4.135732e-02    8.219679e-01  2.557185e+00 \n",
       "        Sst_barcode  Drd3_barcode Esr1_barcode Met_barcode  Slc17a6_barcode\n",
       "Drd2    3.662976e+00 6.829076e-02   3.2553386  3.862324e+00   3.85955947   \n",
       "Drd3    3.211450e+00 7.442396e+00   2.7059182  2.106778e+00   4.12405286   \n",
       "Esr1    1.963325e-04 0.000000e+00   7.2913362  0.000000e+00   0.02008811   \n",
       "Foxp2   2.163584e-02 5.188067e-03   0.8920073  1.178714e-02   0.96546256   \n",
       "Met     1.727765e+00 3.005696e-02   2.5305064  7.237736e+00   2.41938326   \n",
       "Nts     2.844662e+00 7.539615e-02   2.7702868  2.472179e+00   3.45726872   \n",
       "Onecut2 2.001433e+01 3.409823e+01  47.8248932  2.770203e+01 172.21127753   \n",
       "Pax6    2.866455e-03 3.947443e-04   0.6549725  5.503553e-03   0.51612335   \n",
       "Samd3   9.274748e-02 1.810184e-02   1.1891397  7.089617e-02   3.19048458   \n",
       "Sst     8.646680e+00 3.727514e-02   1.4429530  1.288352e-01   1.40687225   \n",
       "Tacr1   1.613853e-02 4.229403e-03   0.5430140  1.148379e-02   1.00669604   \n",
       "Slc32a1 2.331280e+02 1.308250e+02 246.3004881  2.610144e+02 198.81550661   \n",
       "Slc17a6 1.256528e-03 0.000000e+00   0.4490543  9.533715e-04   6.60493392   \n",
       "Col15a1 1.488852e+01 6.224948e+00  10.3065894  1.371759e+01  15.57973568   \n",
       "Crhr2   2.080810e+00 1.153048e+00   1.5216595  1.949948e+00   2.70590308   \n",
       "        Drd2_barcode Crhr2_barcode Onecut2_barcode Pax6_barcode Tacr1_barcode\n",
       "Drd2    6.792064e+00 9.082344e-02  6.459544e-01    1.856873e+00 5.144790e+00 \n",
       "Drd3    2.625911e+00 2.129263e-02  5.793473e-01    2.329090e+00 2.324018e+00 \n",
       "Esr1    4.206394e-04 9.421519e-04  7.152436e-03    3.612592e-03 3.080647e-03 \n",
       "Foxp2   1.198822e-02 1.205954e-02  5.677246e-02    3.849991e-01 1.674222e+00 \n",
       "Met     5.159843e-02 1.940833e-02  4.742959e-01    2.032341e+00 2.511277e+00 \n",
       "Nts     1.088755e-01 4.371585e-02  5.856057e-01    2.603647e+00 1.838486e+00 \n",
       "Onecut2 2.261827e+01 1.397569e+01  4.057506e+02    5.177929e+01 1.326450e+01 \n",
       "Pax6    2.103197e-03 9.421519e-04  2.190434e-02    7.561500e+00 1.034217e-02 \n",
       "Samd3   2.103197e-02 1.074053e-02  1.238266e-01    5.243420e-01 1.945208e-01 \n",
       "Sst     5.650589e-02 1.060863e-01  2.954850e-01    1.263891e+00 2.784575e+00 \n",
       "Tacr1   5.047672e-03 1.432071e-02  1.475190e-02    3.671082e-01 7.213995e+00 \n",
       "Slc32a1 1.666473e+02 1.899226e+02  9.093473e+01    2.080341e+02 2.233620e+02 \n",
       "Slc17a6 9.113853e-04 5.276050e-03  2.682164e-03    2.546018e-02 4.510947e-03 \n",
       "Col15a1 5.901500e+00 4.469192e+00  7.736701e+00    7.845519e+00 4.201452e+00 \n",
       "Crhr2   1.911946e+00 5.791973e+00  3.625391e-01    1.329262e+00 5.158103e+00 "
      ]
     },
     "metadata": {},
     "output_type": "display_data"
    }
   ],
   "source": [
    "df.exp"
   ]
  },
  {
   "cell_type": "code",
   "execution_count": 357,
   "metadata": {},
   "outputs": [],
   "source": [
    "df.exp <- df.exp[-c(12),]\n",
    "df.pct <- df.pct[-c(12),]"
   ]
  },
  {
   "cell_type": "code",
   "execution_count": 361,
   "metadata": {},
   "outputs": [],
   "source": [
    "df.exp <- data.frame(apply(df.exp[2:15], 2, scale))\n",
    "#df.exp$rownames <- labels"
   ]
  },
  {
   "cell_type": "code",
   "execution_count": 363,
   "metadata": {},
   "outputs": [],
   "source": [
    "df.exp$rownames <- df.pct$rownames"
   ]
  },
  {
   "cell_type": "code",
   "execution_count": 375,
   "metadata": {},
   "outputs": [
    {
     "name": "stderr",
     "output_type": "stream",
     "text": [
      "Using rownames as id variables\n",
      "\n",
      "Using rownames as id variables\n",
      "\n"
     ]
    }
   ],
   "source": [
    "df.plot <- cbind(melt(df.exp), melt(df.pct)['value'])\n",
    "colnames(df.plot) <- c('rownames','variable','exp','pct')"
   ]
  },
  {
   "cell_type": "code",
   "execution_count": 376,
   "metadata": {},
   "outputs": [],
   "source": [
    "df.plot <- df.plot[df.plot$rownames != 'Drd2',]\n",
    "df.plot <- df.plot[df.plot$variable != 'Drd2_barcode',]"
   ]
  },
  {
   "cell_type": "code",
   "execution_count": 377,
   "metadata": {
    "scrolled": true
   },
   "outputs": [],
   "source": [
    "df.plot$variable <- factor(df.plot$variable, levels=c('Sst_barcode','Met_barcode','Col15a1_barcode','Nts_barcode','Drd3_barcode','Foxp2_barcode','Tacr1_barcode','Samd3_barcode','Pax6_barcode','Slc17a6_barcode','Crhr2_barcode','Esr1_barcode','Onecut2_barcode'))"
   ]
  },
  {
   "cell_type": "code",
   "execution_count": 378,
   "metadata": {
    "scrolled": true
   },
   "outputs": [],
   "source": [
    "df.plot$rownames <- factor(df.plot$rownames, levels=c('Sst','Met','Col15a1','Nts','Drd3','Foxp2','Tacr1','Samd3','Pax6','Slc17a6','Crhr2','Esr1','Onecut2'))"
   ]
  },
  {
   "cell_type": "code",
   "execution_count": 391,
   "metadata": {},
   "outputs": [
    {
     "data": {
      "image/png": "[encoded data removed]",
      "text/plain": [
       "plot without title"
      ]
     },
     "metadata": {
      "image/png": {
       "height": 420,
       "width": 420
      }
     },
     "output_type": "display_data"
    }
   ],
   "source": [
    "ggplot(df.plot, aes(x=variable, y=rownames))+\n",
    "  geom_point(aes(size=pct, color=exp))+\n",
    "  scale_color_gradient2(low = \"white\",high = \"darkred\", mid='red', midpoint=1.5) +\n",
    "  scale_size(range=c(0.5,5)) +\n",
    "  theme_classic() +\n",
    "  theme(panel.background = element_rect(colour = \"black\", size=.25, fill=NA, linetype=\"solid\"),\n",
    "        axis.line=element_line(size=0.25),\n",
    "        axis.ticks=element_line(size=0.25),\n",
    "        axis.text.y = element_text(size=6),\n",
    "        axis.text.x = element_text( size=6, angle=45, hjust=1),\n",
    "        axis.title.y = element_blank(),\n",
    "        axis.title.x = element_text(size=6),\n",
    "        legend.position='bottom',\n",
    "        legend.key.size = unit(0.25, 'cm'))+\n",
    "  xlab('Coordinates from Bregma') +\n",
    "  ylab('Gene') + coord_flip()\n",
    "ggsave('HCR_snRNAseq_files/LS_HCR_discplot.pdf',width=5, height=4)"
   ]
  },
  {
   "cell_type": "markdown",
   "metadata": {},
   "source": [
    "Will now use the DotPlot function to extract the percent of cells expressing each gene. Can also use the information caluclated above, as they are the same. This is just what we did originally for the correlation analysis"
   ]
  },
  {
   "cell_type": "code",
   "execution_count": 390,
   "metadata": {
    "scrolled": true
   },
   "outputs": [
    {
     "data": {
      "text/html": [
       "<table class=\"dataframe\">\n",
       "<caption>A data.frame: 210 × 5</caption>\n",
       "<thead>\n",
       "\t<tr><th></th><th scope=col>avg.exp</th><th scope=col>pct.exp</th><th scope=col>features.plot</th><th scope=col>id</th><th scope=col>avg.exp.scaled</th></tr>\n",
       "\t<tr><th></th><th scope=col>&lt;dbl&gt;</th><th scope=col>&lt;dbl&gt;</th><th scope=col>&lt;fct&gt;</th><th scope=col>&lt;fct&gt;</th><th scope=col>&lt;dbl&gt;</th></tr>\n",
       "</thead>\n",
       "<tbody>\n",
       "\t<tr><th scope=row>Col15a1</th><td>7.627229e+125</td><td>53.03726391</td><td>Col15a1</td><td>Sst</td><td>2.898549e+02</td></tr>\n",
       "\t<tr><th scope=row>Met</th><td> 2.691396e+07</td><td>22.80598421</td><td>Met    </td><td>Sst</td><td>1.710816e+01</td></tr>\n",
       "\t<tr><th scope=row>Nts</th><td> 6.829584e+13</td><td>34.30321593</td><td>Nts    </td><td>Sst</td><td>3.185487e+01</td></tr>\n",
       "\t<tr><th scope=row>Sst</th><td> 1.931525e+14</td><td>99.68979464</td><td>Sst    </td><td>Sst</td><td>3.289450e+01</td></tr>\n",
       "\t<tr><th scope=row>Crhr2</th><td> 2.374469e+06</td><td>29.22605725</td><td>Crhr2  </td><td>Sst</td><td>1.468028e+01</td></tr>\n",
       "\t<tr><th scope=row>Drd3</th><td> 7.229263e+09</td><td>37.22857031</td><td>Drd3   </td><td>Sst</td><td>2.270140e+01</td></tr>\n",
       "\t<tr><th scope=row>Esr1</th><td> 5.788399e-03</td><td> 0.00392665</td><td>Esr1   </td><td>Sst</td><td>5.771711e-03</td></tr>\n",
       "\t<tr><th scope=row>Foxp2</th><td> 1.789800e+00</td><td> 0.39266502</td><td>Foxp2  </td><td>Sst</td><td>1.025970e+00</td></tr>\n",
       "\t<tr><th scope=row>Tacr1</th><td> 8.597140e+00</td><td> 0.28271881</td><td>Tacr1  </td><td>Sst</td><td>2.261465e+00</td></tr>\n",
       "\t<tr><th scope=row>Pax6</th><td> 2.709535e-01</td><td> 0.05104645</td><td>Pax6   </td><td>Sst</td><td>2.397674e-01</td></tr>\n",
       "\t<tr><th scope=row>Drd2</th><td> 6.829595e+13</td><td>43.77429615</td><td>Drd2   </td><td>Sst</td><td>3.185487e+01</td></tr>\n",
       "\t<tr><th scope=row>Samd3</th><td> 2.891182e+04</td><td> 1.44500726</td><td>Samd3  </td><td>Sst</td><td>1.027204e+01</td></tr>\n",
       "\t<tr><th scope=row>Onecut2</th><td>          Inf</td><td>26.01013076</td><td>Onecut2</td><td>Sst</td><td>         Inf</td></tr>\n",
       "\t<tr><th scope=row>Slc17a6</th><td> 5.475754e-02</td><td> 0.02355990</td><td>Slc17a6</td><td>Sst</td><td>5.331092e-02</td></tr>\n",
       "\t<tr><th scope=row>Slc32a1</th><td>          Inf</td><td>97.43197079</td><td>Slc32a1</td><td>Sst</td><td>         Inf</td></tr>\n",
       "\t<tr><th scope=row>Col15a11</th><td>1.854082e+130</td><td>59.39937598</td><td>Col15a1</td><td>Met</td><td>2.999535e+02</td></tr>\n",
       "\t<tr><th scope=row>Met1</th><td> 5.787941e+11</td><td>95.04680187</td><td>Met    </td><td>Met</td><td>2.708421e+01</td></tr>\n",
       "\t<tr><th scope=row>Nts1</th><td> 1.786001e+09</td><td>30.32587970</td><td>Nts    </td><td>Met</td><td>2.130324e+01</td></tr>\n",
       "\t<tr><th scope=row>Sst1</th><td> 3.805564e+02</td><td> 2.15808632</td><td>Sst    </td><td>Met</td><td>5.944259e+00</td></tr>\n",
       "\t<tr><th scope=row>Crhr21</th><td> 9.303448e+09</td><td>26.77240423</td><td>Crhr2  </td><td>Met</td><td>2.295365e+01</td></tr>\n",
       "\t<tr><th scope=row>Drd31</th><td> 2.167419e+08</td><td>26.78107124</td><td>Drd3   </td><td>Met</td><td>1.919422e+01</td></tr>\n",
       "\t<tr><th scope=row>Esr11</th><td> 0.000000e+00</td><td> 0.00000000</td><td>Esr1   </td><td>Met</td><td>0.000000e+00</td></tr>\n",
       "\t<tr><th scope=row>Foxp21</th><td> 1.028595e+00</td><td> 0.21667533</td><td>Foxp2  </td><td>Met</td><td>7.073435e-01</td></tr>\n",
       "\t<tr><th scope=row>Tacr11</th><td> 9.181677e+00</td><td> 0.19934131</td><td>Tacr1  </td><td>Met</td><td>2.320590e+00</td></tr>\n",
       "\t<tr><th scope=row>Pax61</th><td> 3.392578e-01</td><td> 0.10400416</td><td>Pax6   </td><td>Met</td><td>2.921155e-01</td></tr>\n",
       "\t<tr><th scope=row>Drd21</th><td> 6.707804e+09</td><td>45.51482059</td><td>Drd2   </td><td>Met</td><td>2.262654e+01</td></tr>\n",
       "\t<tr><th scope=row>Samd31</th><td> 1.340575e+02</td><td> 1.19171434</td><td>Samd3  </td><td>Met</td><td>4.905701e+00</td></tr>\n",
       "\t<tr><th scope=row>Onecut21</th><td>          Inf</td><td>30.27387762</td><td>Onecut2</td><td>Met</td><td>         Inf</td></tr>\n",
       "\t<tr><th scope=row>Slc17a61</th><td> 6.664381e-02</td><td> 0.01733403</td><td>Slc17a6</td><td>Met</td><td>6.451710e-02</td></tr>\n",
       "\t<tr><th scope=row>Slc32a11</th><td>          Inf</td><td>98.04558849</td><td>Slc32a1</td><td>Met</td><td>         Inf</td></tr>\n",
       "\t<tr><th scope=row>...</th><td>...</td><td>...</td><td>...</td><td>...</td><td>...</td></tr>\n",
       "\t<tr><th scope=row>Col15a112</th><td>5.992139e+83</td><td> 53.87431361</td><td>Col15a1</td><td>Esr1   </td><td>192.9050112</td></tr>\n",
       "\t<tr><th scope=row>Met12</th><td>2.855020e+07</td><td> 33.06894448</td><td>Met    </td><td>Esr1   </td><td> 17.1671746</td></tr>\n",
       "\t<tr><th scope=row>Nts12</th><td>1.125941e+09</td><td> 33.31299573</td><td>Nts    </td><td>Esr1   </td><td> 20.8418848</td></tr>\n",
       "\t<tr><th scope=row>Sst12</th><td>3.324937e+09</td><td> 16.59548505</td><td>Sst    </td><td>Esr1   </td><td> 21.9247166</td></tr>\n",
       "\t<tr><th scope=row>Crhr212</th><td>1.778151e+06</td><td> 20.86638194</td><td>Crhr2  </td><td>Esr1   </td><td> 14.3910850</td></tr>\n",
       "\t<tr><th scope=row>Drd312</th><td>2.642402e+13</td><td> 30.71995119</td><td>Drd3   </td><td>Esr1   </td><td> 30.9052944</td></tr>\n",
       "\t<tr><th scope=row>Esr112</th><td>3.599369e+12</td><td>100.00000000</td><td>Esr1   </td><td>Esr1   </td><td> 28.9117796</td></tr>\n",
       "\t<tr><th scope=row>Foxp212</th><td>1.442294e+15</td><td> 11.53142160</td><td>Foxp2  </td><td>Esr1   </td><td> 34.9050112</td></tr>\n",
       "\t<tr><th scope=row>Tacr112</th><td>2.306650e+07</td><td>  7.41305674</td><td>Tacr1  </td><td>Esr1   </td><td> 16.9538920</td></tr>\n",
       "\t<tr><th scope=row>Pax612</th><td>1.199902e+09</td><td>  8.26723612</td><td>Pax6   </td><td>Esr1   </td><td> 20.9055060</td></tr>\n",
       "\t<tr><th scope=row>Drd212</th><td>3.331390e+09</td><td> 39.32275778</td><td>Drd2   </td><td>Esr1   </td><td> 21.9266555</td></tr>\n",
       "\t<tr><th scope=row>Samd312</th><td>5.038564e+34</td><td>  9.82306284</td><td>Samd3  </td><td>Esr1   </td><td> 79.9050143</td></tr>\n",
       "\t<tr><th scope=row>Onecut212</th><td>         Inf</td><td> 42.64795607</td><td>Onecut2</td><td>Esr1   </td><td>        Inf</td></tr>\n",
       "\t<tr><th scope=row>Slc17a612</th><td>6.710001e+03</td><td>  6.68090299</td><td>Slc17a6</td><td>Esr1   </td><td>  8.8115035</td></tr>\n",
       "\t<tr><th scope=row>Slc32a112</th><td>         Inf</td><td> 96.40024405</td><td>Slc32a1</td><td>Esr1   </td><td>        Inf</td></tr>\n",
       "\t<tr><th scope=row>Col15a113</th><td>5.316313e+45</td><td> 40.23245418</td><td>Col15a1</td><td>Onecut2</td><td>105.2871091</td></tr>\n",
       "\t<tr><th scope=row>Met13</th><td>4.410956e+06</td><td>  5.99016540</td><td>Met    </td><td>Onecut2</td><td> 15.2996023</td></tr>\n",
       "\t<tr><th scope=row>Nts13</th><td>2.385136e+08</td><td>  7.24184175</td><td>Nts    </td><td>Onecut2</td><td> 19.2899368</td></tr>\n",
       "\t<tr><th scope=row>Sst13</th><td>1.155731e+05</td><td>  3.93383996</td><td>Sst    </td><td>Onecut2</td><td> 11.6576675</td></tr>\n",
       "\t<tr><th scope=row>Crhr213</th><td>8.536302e+03</td><td>  5.40902995</td><td>Crhr2  </td><td>Onecut2</td><td>  9.0522003</td></tr>\n",
       "\t<tr><th scope=row>Drd313</th><td>8.981744e+04</td><td>  7.37594993</td><td>Drd3   </td><td>Onecut2</td><td> 11.4055455</td></tr>\n",
       "\t<tr><th scope=row>Esr113</th><td>3.116920e-01</td><td>  0.13410818</td><td>Esr1   </td><td>Onecut2</td><td>  0.2713179</td></tr>\n",
       "\t<tr><th scope=row>Foxp213</th><td>5.054514e+01</td><td>  0.84935181</td><td>Foxp2  </td><td>Onecut2</td><td>  3.9424579</td></tr>\n",
       "\t<tr><th scope=row>Tacr113</th><td>1.137580e+01</td><td>  0.22351363</td><td>Tacr1  </td><td>Onecut2</td><td>  2.5157429</td></tr>\n",
       "\t<tr><th scope=row>Pax613</th><td>1.244957e+00</td><td>  0.40232454</td><td>Pax6   </td><td>Onecut2</td><td>  0.8086865</td></tr>\n",
       "\t<tr><th scope=row>Drd213</th><td>1.681467e+06</td><td>  8.04649084</td><td>Drd2   </td><td>Onecut2</td><td> 14.3351778</td></tr>\n",
       "\t<tr><th scope=row>Samd313</th><td>4.456601e+05</td><td>  1.43048726</td><td>Samd3  </td><td>Onecut2</td><td> 13.0073142</td></tr>\n",
       "\t<tr><th scope=row>Onecut213</th><td>         Inf</td><td>100.00000000</td><td>Onecut2</td><td>Onecut2</td><td>        Inf</td></tr>\n",
       "\t<tr><th scope=row>Slc17a613</th><td>1.798966e-01</td><td>  0.04470273</td><td>Slc17a6</td><td>Onecut2</td><td>  0.1654268</td></tr>\n",
       "\t<tr><th scope=row>Slc32a113</th><td>         Inf</td><td> 94.41215914</td><td>Slc32a1</td><td>Onecut2</td><td>        Inf</td></tr>\n",
       "</tbody>\n",
       "</table>\n"
      ],
      "text/latex": [
       "A data.frame: 210 × 5\n",
       "\\begin{tabular}{r|lllll}\n",
       "  & avg.exp & pct.exp & features.plot & id & avg.exp.scaled\\\\\n",
       "  & <dbl> & <dbl> & <fct> & <fct> & <dbl>\\\\\n",
       "\\hline\n",
       "\tCol15a1 & 7.627229e+125 & 53.03726391 & Col15a1 & Sst & 2.898549e+02\\\\\n",
       "\tMet &  2.691396e+07 & 22.80598421 & Met     & Sst & 1.710816e+01\\\\\n",
       "\tNts &  6.829584e+13 & 34.30321593 & Nts     & Sst & 3.185487e+01\\\\\n",
       "\tSst &  1.931525e+14 & 99.68979464 & Sst     & Sst & 3.289450e+01\\\\\n",
       "\tCrhr2 &  2.374469e+06 & 29.22605725 & Crhr2   & Sst & 1.468028e+01\\\\\n",
       "\tDrd3 &  7.229263e+09 & 37.22857031 & Drd3    & Sst & 2.270140e+01\\\\\n",
       "\tEsr1 &  5.788399e-03 &  0.00392665 & Esr1    & Sst & 5.771711e-03\\\\\n",
       "\tFoxp2 &  1.789800e+00 &  0.39266502 & Foxp2   & Sst & 1.025970e+00\\\\\n",
       "\tTacr1 &  8.597140e+00 &  0.28271881 & Tacr1   & Sst & 2.261465e+00\\\\\n",
       "\tPax6 &  2.709535e-01 &  0.05104645 & Pax6    & Sst & 2.397674e-01\\\\\n",
       "\tDrd2 &  6.829595e+13 & 43.77429615 & Drd2    & Sst & 3.185487e+01\\\\\n",
       "\tSamd3 &  2.891182e+04 &  1.44500726 & Samd3   & Sst & 1.027204e+01\\\\\n",
       "\tOnecut2 &           Inf & 26.01013076 & Onecut2 & Sst &          Inf\\\\\n",
       "\tSlc17a6 &  5.475754e-02 &  0.02355990 & Slc17a6 & Sst & 5.331092e-02\\\\\n",
       "\tSlc32a1 &           Inf & 97.43197079 & Slc32a1 & Sst &          Inf\\\\\n",
       "\tCol15a11 & 1.854082e+130 & 59.39937598 & Col15a1 & Met & 2.999535e+02\\\\\n",
       "\tMet1 &  5.787941e+11 & 95.04680187 & Met     & Met & 2.708421e+01\\\\\n",
       "\tNts1 &  1.786001e+09 & 30.32587970 & Nts     & Met & 2.130324e+01\\\\\n",
       "\tSst1 &  3.805564e+02 &  2.15808632 & Sst     & Met & 5.944259e+00\\\\\n",
       "\tCrhr21 &  9.303448e+09 & 26.77240423 & Crhr2   & Met & 2.295365e+01\\\\\n",
       "\tDrd31 &  2.167419e+08 & 26.78107124 & Drd3    & Met & 1.919422e+01\\\\\n",
       "\tEsr11 &  0.000000e+00 &  0.00000000 & Esr1    & Met & 0.000000e+00\\\\\n",
       "\tFoxp21 &  1.028595e+00 &  0.21667533 & Foxp2   & Met & 7.073435e-01\\\\\n",
       "\tTacr11 &  9.181677e+00 &  0.19934131 & Tacr1   & Met & 2.320590e+00\\\\\n",
       "\tPax61 &  3.392578e-01 &  0.10400416 & Pax6    & Met & 2.921155e-01\\\\\n",
       "\tDrd21 &  6.707804e+09 & 45.51482059 & Drd2    & Met & 2.262654e+01\\\\\n",
       "\tSamd31 &  1.340575e+02 &  1.19171434 & Samd3   & Met & 4.905701e+00\\\\\n",
       "\tOnecut21 &           Inf & 30.27387762 & Onecut2 & Met &          Inf\\\\\n",
       "\tSlc17a61 &  6.664381e-02 &  0.01733403 & Slc17a6 & Met & 6.451710e-02\\\\\n",
       "\tSlc32a11 &           Inf & 98.04558849 & Slc32a1 & Met &          Inf\\\\\n",
       "\t... & ... & ... & ... & ... & ...\\\\\n",
       "\tCol15a112 & 5.992139e+83 &  53.87431361 & Col15a1 & Esr1    & 192.9050112\\\\\n",
       "\tMet12 & 2.855020e+07 &  33.06894448 & Met     & Esr1    &  17.1671746\\\\\n",
       "\tNts12 & 1.125941e+09 &  33.31299573 & Nts     & Esr1    &  20.8418848\\\\\n",
       "\tSst12 & 3.324937e+09 &  16.59548505 & Sst     & Esr1    &  21.9247166\\\\\n",
       "\tCrhr212 & 1.778151e+06 &  20.86638194 & Crhr2   & Esr1    &  14.3910850\\\\\n",
       "\tDrd312 & 2.642402e+13 &  30.71995119 & Drd3    & Esr1    &  30.9052944\\\\\n",
       "\tEsr112 & 3.599369e+12 & 100.00000000 & Esr1    & Esr1    &  28.9117796\\\\\n",
       "\tFoxp212 & 1.442294e+15 &  11.53142160 & Foxp2   & Esr1    &  34.9050112\\\\\n",
       "\tTacr112 & 2.306650e+07 &   7.41305674 & Tacr1   & Esr1    &  16.9538920\\\\\n",
       "\tPax612 & 1.199902e+09 &   8.26723612 & Pax6    & Esr1    &  20.9055060\\\\\n",
       "\tDrd212 & 3.331390e+09 &  39.32275778 & Drd2    & Esr1    &  21.9266555\\\\\n",
       "\tSamd312 & 5.038564e+34 &   9.82306284 & Samd3   & Esr1    &  79.9050143\\\\\n",
       "\tOnecut212 &          Inf &  42.64795607 & Onecut2 & Esr1    &         Inf\\\\\n",
       "\tSlc17a612 & 6.710001e+03 &   6.68090299 & Slc17a6 & Esr1    &   8.8115035\\\\\n",
       "\tSlc32a112 &          Inf &  96.40024405 & Slc32a1 & Esr1    &         Inf\\\\\n",
       "\tCol15a113 & 5.316313e+45 &  40.23245418 & Col15a1 & Onecut2 & 105.2871091\\\\\n",
       "\tMet13 & 4.410956e+06 &   5.99016540 & Met     & Onecut2 &  15.2996023\\\\\n",
       "\tNts13 & 2.385136e+08 &   7.24184175 & Nts     & Onecut2 &  19.2899368\\\\\n",
       "\tSst13 & 1.155731e+05 &   3.93383996 & Sst     & Onecut2 &  11.6576675\\\\\n",
       "\tCrhr213 & 8.536302e+03 &   5.40902995 & Crhr2   & Onecut2 &   9.0522003\\\\\n",
       "\tDrd313 & 8.981744e+04 &   7.37594993 & Drd3    & Onecut2 &  11.4055455\\\\\n",
       "\tEsr113 & 3.116920e-01 &   0.13410818 & Esr1    & Onecut2 &   0.2713179\\\\\n",
       "\tFoxp213 & 5.054514e+01 &   0.84935181 & Foxp2   & Onecut2 &   3.9424579\\\\\n",
       "\tTacr113 & 1.137580e+01 &   0.22351363 & Tacr1   & Onecut2 &   2.5157429\\\\\n",
       "\tPax613 & 1.244957e+00 &   0.40232454 & Pax6    & Onecut2 &   0.8086865\\\\\n",
       "\tDrd213 & 1.681467e+06 &   8.04649084 & Drd2    & Onecut2 &  14.3351778\\\\\n",
       "\tSamd313 & 4.456601e+05 &   1.43048726 & Samd3   & Onecut2 &  13.0073142\\\\\n",
       "\tOnecut213 &          Inf & 100.00000000 & Onecut2 & Onecut2 &         Inf\\\\\n",
       "\tSlc17a613 & 1.798966e-01 &   0.04470273 & Slc17a6 & Onecut2 &   0.1654268\\\\\n",
       "\tSlc32a113 &          Inf &  94.41215914 & Slc32a1 & Onecut2 &         Inf\\\\\n",
       "\\end{tabular}\n"
      ],
      "text/markdown": [
       "\n",
       "A data.frame: 210 × 5\n",
       "\n",
       "| <!--/--> | avg.exp &lt;dbl&gt; | pct.exp &lt;dbl&gt; | features.plot &lt;fct&gt; | id &lt;fct&gt; | avg.exp.scaled &lt;dbl&gt; |\n",
       "|---|---|---|---|---|---|\n",
       "| Col15a1 | 7.627229e+125 | 53.03726391 | Col15a1 | Sst | 2.898549e+02 |\n",
       "| Met |  2.691396e+07 | 22.80598421 | Met     | Sst | 1.710816e+01 |\n",
       "| Nts |  6.829584e+13 | 34.30321593 | Nts     | Sst | 3.185487e+01 |\n",
       "| Sst |  1.931525e+14 | 99.68979464 | Sst     | Sst | 3.289450e+01 |\n",
       "| Crhr2 |  2.374469e+06 | 29.22605725 | Crhr2   | Sst | 1.468028e+01 |\n",
       "| Drd3 |  7.229263e+09 | 37.22857031 | Drd3    | Sst | 2.270140e+01 |\n",
       "| Esr1 |  5.788399e-03 |  0.00392665 | Esr1    | Sst | 5.771711e-03 |\n",
       "| Foxp2 |  1.789800e+00 |  0.39266502 | Foxp2   | Sst | 1.025970e+00 |\n",
       "| Tacr1 |  8.597140e+00 |  0.28271881 | Tacr1   | Sst | 2.261465e+00 |\n",
       "| Pax6 |  2.709535e-01 |  0.05104645 | Pax6    | Sst | 2.397674e-01 |\n",
       "| Drd2 |  6.829595e+13 | 43.77429615 | Drd2    | Sst | 3.185487e+01 |\n",
       "| Samd3 |  2.891182e+04 |  1.44500726 | Samd3   | Sst | 1.027204e+01 |\n",
       "| Onecut2 |           Inf | 26.01013076 | Onecut2 | Sst |          Inf |\n",
       "| Slc17a6 |  5.475754e-02 |  0.02355990 | Slc17a6 | Sst | 5.331092e-02 |\n",
       "| Slc32a1 |           Inf | 97.43197079 | Slc32a1 | Sst |          Inf |\n",
       "| Col15a11 | 1.854082e+130 | 59.39937598 | Col15a1 | Met | 2.999535e+02 |\n",
       "| Met1 |  5.787941e+11 | 95.04680187 | Met     | Met | 2.708421e+01 |\n",
       "| Nts1 |  1.786001e+09 | 30.32587970 | Nts     | Met | 2.130324e+01 |\n",
       "| Sst1 |  3.805564e+02 |  2.15808632 | Sst     | Met | 5.944259e+00 |\n",
       "| Crhr21 |  9.303448e+09 | 26.77240423 | Crhr2   | Met | 2.295365e+01 |\n",
       "| Drd31 |  2.167419e+08 | 26.78107124 | Drd3    | Met | 1.919422e+01 |\n",
       "| Esr11 |  0.000000e+00 |  0.00000000 | Esr1    | Met | 0.000000e+00 |\n",
       "| Foxp21 |  1.028595e+00 |  0.21667533 | Foxp2   | Met | 7.073435e-01 |\n",
       "| Tacr11 |  9.181677e+00 |  0.19934131 | Tacr1   | Met | 2.320590e+00 |\n",
       "| Pax61 |  3.392578e-01 |  0.10400416 | Pax6    | Met | 2.921155e-01 |\n",
       "| Drd21 |  6.707804e+09 | 45.51482059 | Drd2    | Met | 2.262654e+01 |\n",
       "| Samd31 |  1.340575e+02 |  1.19171434 | Samd3   | Met | 4.905701e+00 |\n",
       "| Onecut21 |           Inf | 30.27387762 | Onecut2 | Met |          Inf |\n",
       "| Slc17a61 |  6.664381e-02 |  0.01733403 | Slc17a6 | Met | 6.451710e-02 |\n",
       "| Slc32a11 |           Inf | 98.04558849 | Slc32a1 | Met |          Inf |\n",
       "| ... | ... | ... | ... | ... | ... |\n",
       "| Col15a112 | 5.992139e+83 |  53.87431361 | Col15a1 | Esr1    | 192.9050112 |\n",
       "| Met12 | 2.855020e+07 |  33.06894448 | Met     | Esr1    |  17.1671746 |\n",
       "| Nts12 | 1.125941e+09 |  33.31299573 | Nts     | Esr1    |  20.8418848 |\n",
       "| Sst12 | 3.324937e+09 |  16.59548505 | Sst     | Esr1    |  21.9247166 |\n",
       "| Crhr212 | 1.778151e+06 |  20.86638194 | Crhr2   | Esr1    |  14.3910850 |\n",
       "| Drd312 | 2.642402e+13 |  30.71995119 | Drd3    | Esr1    |  30.9052944 |\n",
       "| Esr112 | 3.599369e+12 | 100.00000000 | Esr1    | Esr1    |  28.9117796 |\n",
       "| Foxp212 | 1.442294e+15 |  11.53142160 | Foxp2   | Esr1    |  34.9050112 |\n",
       "| Tacr112 | 2.306650e+07 |   7.41305674 | Tacr1   | Esr1    |  16.9538920 |\n",
       "| Pax612 | 1.199902e+09 |   8.26723612 | Pax6    | Esr1    |  20.9055060 |\n",
       "| Drd212 | 3.331390e+09 |  39.32275778 | Drd2    | Esr1    |  21.9266555 |\n",
       "| Samd312 | 5.038564e+34 |   9.82306284 | Samd3   | Esr1    |  79.9050143 |\n",
       "| Onecut212 |          Inf |  42.64795607 | Onecut2 | Esr1    |         Inf |\n",
       "| Slc17a612 | 6.710001e+03 |   6.68090299 | Slc17a6 | Esr1    |   8.8115035 |\n",
       "| Slc32a112 |          Inf |  96.40024405 | Slc32a1 | Esr1    |         Inf |\n",
       "| Col15a113 | 5.316313e+45 |  40.23245418 | Col15a1 | Onecut2 | 105.2871091 |\n",
       "| Met13 | 4.410956e+06 |   5.99016540 | Met     | Onecut2 |  15.2996023 |\n",
       "| Nts13 | 2.385136e+08 |   7.24184175 | Nts     | Onecut2 |  19.2899368 |\n",
       "| Sst13 | 1.155731e+05 |   3.93383996 | Sst     | Onecut2 |  11.6576675 |\n",
       "| Crhr213 | 8.536302e+03 |   5.40902995 | Crhr2   | Onecut2 |   9.0522003 |\n",
       "| Drd313 | 8.981744e+04 |   7.37594993 | Drd3    | Onecut2 |  11.4055455 |\n",
       "| Esr113 | 3.116920e-01 |   0.13410818 | Esr1    | Onecut2 |   0.2713179 |\n",
       "| Foxp213 | 5.054514e+01 |   0.84935181 | Foxp2   | Onecut2 |   3.9424579 |\n",
       "| Tacr113 | 1.137580e+01 |   0.22351363 | Tacr1   | Onecut2 |   2.5157429 |\n",
       "| Pax613 | 1.244957e+00 |   0.40232454 | Pax6    | Onecut2 |   0.8086865 |\n",
       "| Drd213 | 1.681467e+06 |   8.04649084 | Drd2    | Onecut2 |  14.3351778 |\n",
       "| Samd313 | 4.456601e+05 |   1.43048726 | Samd3   | Onecut2 |  13.0073142 |\n",
       "| Onecut213 |          Inf | 100.00000000 | Onecut2 | Onecut2 |         Inf |\n",
       "| Slc17a613 | 1.798966e-01 |   0.04470273 | Slc17a6 | Onecut2 |   0.1654268 |\n",
       "| Slc32a113 |          Inf |  94.41215914 | Slc32a1 | Onecut2 |         Inf |\n",
       "\n"
      ],
      "text/plain": [
       "          avg.exp       pct.exp      features.plot id      avg.exp.scaled\n",
       "Col15a1   7.627229e+125 53.03726391  Col15a1       Sst     2.898549e+02  \n",
       "Met        2.691396e+07 22.80598421  Met           Sst     1.710816e+01  \n",
       "Nts        6.829584e+13 34.30321593  Nts           Sst     3.185487e+01  \n",
       "Sst        1.931525e+14 99.68979464  Sst           Sst     3.289450e+01  \n",
       "Crhr2      2.374469e+06 29.22605725  Crhr2         Sst     1.468028e+01  \n",
       "Drd3       7.229263e+09 37.22857031  Drd3          Sst     2.270140e+01  \n",
       "Esr1       5.788399e-03  0.00392665  Esr1          Sst     5.771711e-03  \n",
       "Foxp2      1.789800e+00  0.39266502  Foxp2         Sst     1.025970e+00  \n",
       "Tacr1      8.597140e+00  0.28271881  Tacr1         Sst     2.261465e+00  \n",
       "Pax6       2.709535e-01  0.05104645  Pax6          Sst     2.397674e-01  \n",
       "Drd2       6.829595e+13 43.77429615  Drd2          Sst     3.185487e+01  \n",
       "Samd3      2.891182e+04  1.44500726  Samd3         Sst     1.027204e+01  \n",
       "Onecut2             Inf 26.01013076  Onecut2       Sst              Inf  \n",
       "Slc17a6    5.475754e-02  0.02355990  Slc17a6       Sst     5.331092e-02  \n",
       "Slc32a1             Inf 97.43197079  Slc32a1       Sst              Inf  \n",
       "Col15a11  1.854082e+130 59.39937598  Col15a1       Met     2.999535e+02  \n",
       "Met1       5.787941e+11 95.04680187  Met           Met     2.708421e+01  \n",
       "Nts1       1.786001e+09 30.32587970  Nts           Met     2.130324e+01  \n",
       "Sst1       3.805564e+02  2.15808632  Sst           Met     5.944259e+00  \n",
       "Crhr21     9.303448e+09 26.77240423  Crhr2         Met     2.295365e+01  \n",
       "Drd31      2.167419e+08 26.78107124  Drd3          Met     1.919422e+01  \n",
       "Esr11      0.000000e+00  0.00000000  Esr1          Met     0.000000e+00  \n",
       "Foxp21     1.028595e+00  0.21667533  Foxp2         Met     7.073435e-01  \n",
       "Tacr11     9.181677e+00  0.19934131  Tacr1         Met     2.320590e+00  \n",
       "Pax61      3.392578e-01  0.10400416  Pax6          Met     2.921155e-01  \n",
       "Drd21      6.707804e+09 45.51482059  Drd2          Met     2.262654e+01  \n",
       "Samd31     1.340575e+02  1.19171434  Samd3         Met     4.905701e+00  \n",
       "Onecut21            Inf 30.27387762  Onecut2       Met              Inf  \n",
       "Slc17a61   6.664381e-02  0.01733403  Slc17a6       Met     6.451710e-02  \n",
       "Slc32a11            Inf 98.04558849  Slc32a1       Met              Inf  \n",
       "...       ...           ...          ...           ...     ...           \n",
       "Col15a112 5.992139e+83   53.87431361 Col15a1       Esr1    192.9050112   \n",
       "Met12     2.855020e+07   33.06894448 Met           Esr1     17.1671746   \n",
       "Nts12     1.125941e+09   33.31299573 Nts           Esr1     20.8418848   \n",
       "Sst12     3.324937e+09   16.59548505 Sst           Esr1     21.9247166   \n",
       "Crhr212   1.778151e+06   20.86638194 Crhr2         Esr1     14.3910850   \n",
       "Drd312    2.642402e+13   30.71995119 Drd3          Esr1     30.9052944   \n",
       "Esr112    3.599369e+12  100.00000000 Esr1          Esr1     28.9117796   \n",
       "Foxp212   1.442294e+15   11.53142160 Foxp2         Esr1     34.9050112   \n",
       "Tacr112   2.306650e+07    7.41305674 Tacr1         Esr1     16.9538920   \n",
       "Pax612    1.199902e+09    8.26723612 Pax6          Esr1     20.9055060   \n",
       "Drd212    3.331390e+09   39.32275778 Drd2          Esr1     21.9266555   \n",
       "Samd312   5.038564e+34    9.82306284 Samd3         Esr1     79.9050143   \n",
       "Onecut212          Inf   42.64795607 Onecut2       Esr1            Inf   \n",
       "Slc17a612 6.710001e+03    6.68090299 Slc17a6       Esr1      8.8115035   \n",
       "Slc32a112          Inf   96.40024405 Slc32a1       Esr1            Inf   \n",
       "Col15a113 5.316313e+45   40.23245418 Col15a1       Onecut2 105.2871091   \n",
       "Met13     4.410956e+06    5.99016540 Met           Onecut2  15.2996023   \n",
       "Nts13     2.385136e+08    7.24184175 Nts           Onecut2  19.2899368   \n",
       "Sst13     1.155731e+05    3.93383996 Sst           Onecut2  11.6576675   \n",
       "Crhr213   8.536302e+03    5.40902995 Crhr2         Onecut2   9.0522003   \n",
       "Drd313    8.981744e+04    7.37594993 Drd3          Onecut2  11.4055455   \n",
       "Esr113    3.116920e-01    0.13410818 Esr1          Onecut2   0.2713179   \n",
       "Foxp213   5.054514e+01    0.84935181 Foxp2         Onecut2   3.9424579   \n",
       "Tacr113   1.137580e+01    0.22351363 Tacr1         Onecut2   2.5157429   \n",
       "Pax613    1.244957e+00    0.40232454 Pax6          Onecut2   0.8086865   \n",
       "Drd213    1.681467e+06    8.04649084 Drd2          Onecut2  14.3351778   \n",
       "Samd313   4.456601e+05    1.43048726 Samd3         Onecut2  13.0073142   \n",
       "Onecut213          Inf  100.00000000 Onecut2       Onecut2         Inf   \n",
       "Slc17a613 1.798966e-01    0.04470273 Slc17a6       Onecut2   0.1654268   \n",
       "Slc32a113          Inf   94.41215914 Slc32a1       Onecut2         Inf   "
      ]
     },
     "metadata": {},
     "output_type": "display_data"
    }
   ],
   "source": [
    "hcr.avg <- DotPlot(LS.HCR,feature=c('Col15a1','Met','Nts','Sst','Crhr2','Drd3','Esr1','Foxp2','Tacr1','Pax6','Drd2','Samd3','Onecut2','Slc17a6','Slc32a1'), scale=FALSE, cols=c('gray','red'), assay='RNA')$data\n",
    "hcr.avg"
   ]
  },
  {
   "cell_type": "code",
   "execution_count": null,
   "metadata": {},
   "outputs": [],
   "source": [
    "saveRDS(hcr.avg, file=\"HCR_snRNAseq_files/LS_HCR_marker_expression_df.rds\")"
   ]
  }
 ],
 "metadata": {
  "kernelspec": {
   "display_name": "R",
   "language": "R",
   "name": "ir"
  },
  "language_info": {
   "codemirror_mode": "r",
   "file_extension": ".r",
   "mimetype": "text/x-r-source",
   "name": "R",
   "pygments_lexer": "r",
   "version": "4.1.2"
  }
 },
 "nbformat": 4,
 "nbformat_minor": 2
}
