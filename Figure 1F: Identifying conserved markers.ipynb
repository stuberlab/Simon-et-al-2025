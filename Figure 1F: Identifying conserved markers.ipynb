{
 "cells": [
  {
   "cell_type": "markdown",
   "metadata": {},
   "source": [
    "## Conserved marker analysis\n",
    "\n"
   ]
  },
  {
   "cell_type": "markdown",
   "metadata": {},
   "source": [
    "Identifying genes that distinguish a given cell cluster from all others"
   ]
  },
  {
   "cell_type": "markdown",
   "metadata": {},
   "source": [
    "#### Import libraries"
   ]
  },
  {
   "cell_type": "code",
   "execution_count": 1,
   "metadata": {
    "scrolled": false
   },
   "outputs": [
    {
     "name": "stderr",
     "output_type": "stream",
     "text": [
      "Attaching SeuratObject\n",
      "\n",
      "\n",
      "Attaching package: 'dplyr'\n",
      "\n",
      "\n",
      "The following objects are masked from 'package:stats':\n",
      "\n",
      "    filter, lag\n",
      "\n",
      "\n",
      "The following objects are masked from 'package:base':\n",
      "\n",
      "    intersect, setdiff, setequal, union\n",
      "\n",
      "\n"
     ]
    },
    {
     "data": {
      "text/html": [
       "<style> .container { width:95% !important; } </style>"
      ]
     },
     "metadata": {},
     "output_type": "display_data"
    },
    {
     "name": "stderr",
     "output_type": "stream",
     "text": [
      "\n",
      "Attaching package: 'tidyr'\n",
      "\n",
      "\n",
      "The following object is masked from 'package:magrittr':\n",
      "\n",
      "    extract\n",
      "\n",
      "\n"
     ]
    }
   ],
   "source": [
    "library(Seurat)\n",
    "library(dplyr)\n",
    "library(magrittr)\n",
    "library(scales)\n",
    "library(ggplot2)\n",
    "library(xlsx)\n",
    "library(tidyr)"
   ]
  },
  {
   "cell_type": "markdown",
   "metadata": {},
   "source": [
    "#### Load in .rds files"
   ]
  },
  {
   "cell_type": "code",
   "execution_count": 2,
   "metadata": {},
   "outputs": [],
   "source": [
    "LS.integrated<-readRDS(file = \"C:/Users/stuberadmin/Documents/scRNAseq/211119-RS-rv4/Neurons_only_iter2/LS_integrated.rds\")"
   ]
  },
  {
   "cell_type": "code",
   "execution_count": 3,
   "metadata": {},
   "outputs": [],
   "source": [
    "LS_sal<-readRDS(file = \"C:/Users/stuberadmin/Documents/scRNAseq/211119-RS-rv4/Neurons_only_iter2/LS_sal.rds\")\n",
    "LS_mor<-readRDS(file = \"C:/Users/stuberadmin/Documents/scRNAseq/211119-RS-rv4/Neurons_only_iter2/LS_mor.rds\")\n",
    "LS_nal<-readRDS(file = \"C:/Users/stuberadmin/Documents/scRNAseq/211119-RS-rv4/Neurons_only_iter2/LS_nal.rds\")\n",
    "LS_one_mor<-readRDS( file = \"C:/Users/stuberadmin/Documents/scRNAseq/211119-RS-rv4/Neurons_only_iter2/LS_one_mor.rds\")\n",
    "LS_nal_no_mor<-readRDS( file = \"C:/Users/stuberadmin/Documents/scRNAseq/211119-RS-rv4/Neurons_only_iter2/LS_nal_no_mor.rds\")"
   ]
  },
  {
   "cell_type": "markdown",
   "metadata": {},
   "source": [
    "#### Assigning identities to all cell clusters"
   ]
  },
  {
   "cell_type": "code",
   "execution_count": 4,
   "metadata": {},
   "outputs": [
    {
     "data": {
      "text/plain": [
       "\n",
       "   0    1    2    3    4    5    6    7    8    9   10   11   12   13 \n",
       "3124 2731 2316 2248 2157 2116 2028 1919 1904 1860 1634 1015  437  118 "
      ]
     },
     "metadata": {},
     "output_type": "display_data"
    }
   ],
   "source": [
    "table(Idents(LS.integrated))"
   ]
  },
  {
   "cell_type": "code",
   "execution_count": 5,
   "metadata": {},
   "outputs": [],
   "source": [
    "new.ident <- c(\"Gaba1\",\"Gaba2\",\"Gaba3\",\"Gaba4\",\"Gaba5\",\"Gaba6\",\"Gaba7\",\"Glu1\",\"Gaba8\",\"Gaba9\",\"Gaba10\",\"Glu2\",\"Gaba11\",\"Gaba12\")\n",
    "names(x = new.ident) <- levels(x =LS.integrated)\n",
    "LS.integrated<- RenameIdents(object =LS.integrated, new.ident)"
   ]
  },
  {
   "cell_type": "code",
   "execution_count": 6,
   "metadata": {},
   "outputs": [],
   "source": [
    "for (i in 1:length(new.ident)){\n",
    "assign(paste(new.ident[i],\"_barcode\",sep=\"\"),colnames(LS.integrated@assays$RNA@data[,which(Idents(object=LS.integrated) %in% new.ident[i])]))# this gives all barcodes in cluster\n",
    "assign(paste(new.ident[i],\"_barcode_LS_sal\",sep=\"\"),intersect(colnames(LS_sal@assays$RNA@data),eval(parse(text = paste(new.ident[i],\"_barcode\",sep=\"\")))))\n",
    "assign(paste(new.ident[i],\"_barcode_LS_mor\",sep=\"\"),intersect(colnames(LS_mor@assays$RNA@data),eval(parse(text = paste(new.ident[i],\"_barcode\",sep=\"\")))))\n",
    "assign(paste(new.ident[i],\"_barcode_LS_nal\",sep=\"\"),intersect(colnames(LS_nal@assays$RNA@data),eval(parse(text = paste(new.ident[i],\"_barcode\",sep=\"\")))))\n",
    "assign(paste(new.ident[i],\"_barcode_LS_one_mor\",sep=\"\"),intersect(colnames(LS_one_mor@assays$RNA@data),eval(parse(text = paste(new.ident[i],\"_barcode\",sep=\"\")))))\n",
    "assign(paste(new.ident[i],\"_barcode_LS_nal_no_mor\",sep=\"\"),intersect(colnames(LS_nal_no_mor@assays$RNA@data),eval(parse(text = paste(new.ident[i],\"_barcode\",sep=\"\")))))\n",
    "}"
   ]
  },
  {
   "cell_type": "code",
   "execution_count": 7,
   "metadata": {},
   "outputs": [
    {
     "data": {
      "text/plain": [
       "\n",
       " Gaba1  Gaba2  Gaba3  Gaba4  Gaba5  Gaba6  Gaba7   Glu1  Gaba8  Gaba9 Gaba10 \n",
       "  3124   2731   2316   2248   2157   2116   2028   1919   1904   1860   1634 \n",
       "  Glu2 Gaba11 Gaba12 \n",
       "  1015    437    118 "
      ]
     },
     "metadata": {},
     "output_type": "display_data"
    }
   ],
   "source": [
    "table(Idents(LS.integrated))"
   ]
  },
  {
   "cell_type": "markdown",
   "metadata": {},
   "source": [
    "#### Assigning cell types to metadata"
   ]
  },
  {
   "cell_type": "code",
   "execution_count": 8,
   "metadata": {},
   "outputs": [],
   "source": [
    "#creating vector of variable names\n",
    "barcode_names <- unique(paste(Idents(LS.integrated),\"_barcode\",sep=\"\"))"
   ]
  },
  {
   "cell_type": "code",
   "execution_count": 9,
   "metadata": {},
   "outputs": [],
   "source": [
    "celltype<-vector()\n",
    "for (i in 1:dim(LS.integrated@meta.data)[1]){\n",
    "    celltype[i]<-toString(new.ident[LS.integrated@meta.data$integrated_snn_res.0.2[i]])\n",
    "}\n",
    "LS.integrated@meta.data$celltype<-celltype"
   ]
  },
  {
   "cell_type": "code",
   "execution_count": 10,
   "metadata": {},
   "outputs": [
    {
     "data": {
      "text/plain": [
       "\n",
       " Gaba1 Gaba10 Gaba11 Gaba12  Gaba2  Gaba3  Gaba4  Gaba5  Gaba6  Gaba7  Gaba8 \n",
       "  3124   1634    437    118   2731   2316   2248   2157   2116   2028   1904 \n",
       " Gaba9   Glu1   Glu2 \n",
       "  1860   1919   1015 "
      ]
     },
     "metadata": {},
     "output_type": "display_data"
    }
   ],
   "source": [
    "table(LS.integrated@meta.data$celltype)"
   ]
  },
  {
   "cell_type": "markdown",
   "metadata": {},
   "source": [
    "#### Conserved marker analysis"
   ]
  },
  {
   "cell_type": "code",
   "execution_count": 15,
   "metadata": {},
   "outputs": [],
   "source": [
    "DefaultAssay(LS.integrated) <- \"SCT\""
   ]
  },
  {
   "cell_type": "code",
   "execution_count": null,
   "metadata": {},
   "outputs": [],
   "source": [
    "LS.integrated_corrected <- PrepSCTFindMarkers(LS.integrated)"
   ]
  },
  {
   "cell_type": "code",
   "execution_count": null,
   "metadata": {
    "scrolled": true
   },
   "outputs": [],
   "source": [
    "#conserved markers per cluster\n",
    "Cell_type<-c(\"Gaba1\",\"Gaba2\",\"Gaba3\",\"Gaba4\",\"Gaba5\",\"Gaba6\",\"Gaba7\",\"Glu1\",\"Gaba8\",\"Gaba9\",\"Gaba10\",\"Glu2\",\"Gaba11\",\"Gaba12\")\n",
    "for (i in 1:length(Cell_type)){\n",
    "one.markers <- FindConservedMarkers(LS.integrated, ident.1 = Cell_type[i], grouping.var = \"stim\",print.bar = FALSE, assay=\"SCT\")\n",
    "one.markers<-subset(one.markers, LS_sal_avg_log2FC>0 & LS_mor_avg_log2FC>0 & LS_nal_avg_log2FC>0 & LS_one_mor_avg_log2FC>0 & LS_nal_no_mor_avg_log2FC>0)\n",
    "sort_marker<-one.markers[order(-one.markers[\"LS_sal_avg_log2FC\"]),]\n",
    "write.xlsx(sort_marker,file=(paste(\"conserved_markers/\",Cell_type[i],\"_gene_assay_SCT.xlsx\",sep=\"\")))}"
   ]
  },
  {
   "cell_type": "markdown",
   "metadata": {},
   "source": [
    "#### Cell cluster dendrogram (informs ordering for marker heatmap)"
   ]
  },
  {
   "cell_type": "code",
   "execution_count": null,
   "metadata": {},
   "outputs": [],
   "source": [
    "DefaultAssay(LS.integrated) <- \"integrated\""
   ]
  },
  {
   "cell_type": "code",
   "execution_count": null,
   "metadata": {},
   "outputs": [],
   "source": [
    "pdf(file=\"C:/Users/stuberadmin/Documents/scRNAseq/211119-RS-rv4/Neurons_only_iter2/cluster_tree_umap.pdf\",width=10,height=5) \n",
    "LS.integrated <- BuildClusterTree(LS.integrated, verbose = FALSE, reorder = FALSE, reduction='umap')\n",
    "PlotClusterTree(LS.integrated)\n",
    "dev.off()"
   ]
  },
  {
   "cell_type": "markdown",
   "metadata": {},
   "source": [
    "#### Conserved marker heatmap"
   ]
  },
  {
   "cell_type": "code",
   "execution_count": 15,
   "metadata": {},
   "outputs": [],
   "source": [
    "Gaba1<-read.xlsx2(file=\"Gaba1_gene_assay_SCT.xlsx\",sheetIndex=1)\n",
    "Gaba1$LS_sal_avg_log2FC<-as.numeric(paste(Gaba1$LS_sal_avg_log2FC))\n",
    "Gaba1<-subset(Gaba1,LS_sal_avg_log2FC > 0.1)\n",
    "\n",
    "Gaba2<-read.xlsx2(file=\"Gaba2_gene_assay_SCT.xlsx\",sheetIndex=1)\n",
    "Gaba2$LS_sal_avg_log2FC<-as.numeric(paste(Gaba2$LS_sal_avg_log2FC))\n",
    "Gaba2<-subset(Gaba2,LS_sal_avg_log2FC > 0.1)\n",
    "\n",
    "Gaba3<-read.xlsx2(file=\"Gaba3_gene_assay_SCT.xlsx\",sheetIndex=1)\n",
    "Gaba3$LS_sal_avg_log2FC<-as.numeric(paste(Gaba3$LS_sal_avg_log2FC))\n",
    "Gaba3<-subset(Gaba3,LS_sal_avg_log2FC > 0.1)\n",
    "\n",
    "Gaba4<-read.xlsx2(file=\"Gaba4_gene_assay_SCT.xlsx\",sheetIndex=1)\n",
    "Gaba4$LS_sal_avg_log2FC<-as.numeric(paste(Gaba4$LS_sal_avg_log2FC))\n",
    "Gaba4<-subset(Gaba4,LS_sal_avg_log2FC > 0.1)\n",
    "\n",
    "Gaba5<-read.xlsx2(file=\"Gaba5_gene_assay_SCT.xlsx\",sheetIndex=1)\n",
    "Gaba5$LS_sal_avg_log2FC<-as.numeric(paste(Gaba5$LS_sal_avg_log2FC))\n",
    "Gaba5<-subset(Gaba5,LS_sal_avg_log2FC > 0.1)\n",
    "\n",
    "Gaba6<-read.xlsx2(file=\"Gaba6_gene_assay_SCT.xlsx\",sheetIndex=1)\n",
    "Gaba6$LS_sal_avg_log2FC<-as.numeric(paste(Gaba6$LS_sal_avg_log2FC))\n",
    "Gaba6<-subset(Gaba6,LS_sal_avg_log2FC > 0.1)\n",
    "\n",
    "Gaba7<-read.xlsx2(file=\"Gaba7_gene_assay_SCT.xlsx\",sheetIndex=1)\n",
    "Gaba7$LS_sal_avg_log2FC<-as.numeric(paste(Gaba7$LS_sal_avg_log2FC))\n",
    "Gaba7<-subset(Gaba7,LS_sal_avg_log2FC > 0.1)\n",
    "\n",
    "Gaba8<-read.xlsx2(file=\"Gaba8_gene_assay_SCT.xlsx\",sheetIndex=1)\n",
    "Gaba8$LS_sal_avg_log2FC<-as.numeric(paste(Gaba8$LS_sal_avg_log2FC))\n",
    "Gaba8<-subset(Gaba8,LS_sal_avg_log2FC > 0.1)\n",
    "\n",
    "Gaba9<-read.xlsx2(file=\"Gaba9_gene_assay_SCT.xlsx\",sheetIndex=1)\n",
    "Gaba9$LS_sal_avg_log2FC<-as.numeric(paste(Gaba9$LS_sal_avg_log2FC))\n",
    "Gaba9<-subset(Gaba9,LS_sal_avg_log2FC > 0.1)\n",
    "\n",
    "Gaba10<-read.xlsx2(file=\"Gaba10_gene_assay_SCT.xlsx\",sheetIndex=1)\n",
    "Gaba10$LS_sal_avg_log2FC<-as.numeric(paste(Gaba10$LS_sal_avg_log2FC))\n",
    "Gaba10<-subset(Gaba10,LS_sal_avg_log2FC > 0.1)\n",
    "\n",
    "Gaba11<-read.xlsx2(file=\"Gaba11_gene_assay_SCT.xlsx\",sheetIndex=1)\n",
    "Gaba11$LS_sal_avg_log2FC<-as.numeric(paste(Gaba11$LS_sal_avg_log2FC))\n",
    "Gaba11<-subset(Gaba11,LS_sal_avg_log2FC > 0.1)\n",
    "\n",
    "Gaba12<-read.xlsx2(file=\"Gaba12_gene_assay_SCT.xlsx\",sheetIndex=1)\n",
    "Gaba12$LS_sal_avg_log2FC<-as.numeric(paste(Gaba12$LS_sal_avg_log2FC))\n",
    "Gaba12<-subset(Gaba12,LS_sal_avg_log2FC > 0.1)\n",
    "\n",
    "Glu1<-read.xlsx2(file=\"Glu1_gene_assay_SCT.xlsx\",sheetIndex=1)\n",
    "Glu1$LS_sal_avg_log2FC<-as.numeric(paste(Glu1$LS_sal_avg_log2FC))\n",
    "Glu1<-subset(Glu1,LS_sal_avg_log2FC > 0.1)\n",
    "\n",
    "Glu2<-read.xlsx2(file=\"Glu2_gene_assay_SCT.xlsx\",sheetIndex=1)\n",
    "Glu2$LS_sal_avg_log2FC<-as.numeric(paste(Glu2$LS_sal_avg_log2FC))\n",
    "Glu2<-subset(Glu2,LS_sal_avg_log2FC > 0.1)"
   ]
  },
  {
   "cell_type": "code",
   "execution_count": 16,
   "metadata": {},
   "outputs": [],
   "source": [
    "gene_list <- c(as.character(Glu2$X.), as.character(Glu1$X.), as.character(Gaba12$X.), as.character(Gaba10$X.), as.character(Gaba5$X.), as.character(Gaba3$X.), as.character(Gaba11$X.), as.character(Gaba6$X.), as.character(Gaba7$X.), as.character(Gaba4$X.), as.character(Gaba1$X.), as.character(Gaba2$X.), as.character(Gaba8$X.), as.character(Gaba9$X.))"
   ]
  },
  {
   "cell_type": "code",
   "execution_count": null,
   "metadata": {
    "scrolled": true
   },
   "outputs": [],
   "source": [
    "gene_list <- unique(gene_list)"
   ]
  },
  {
   "cell_type": "code",
   "execution_count": null,
   "metadata": {},
   "outputs": [],
   "source": [
    "Cell_type<-c(\"Glu2\",\"Glu1\",\"Gaba12\",\"Gaba10\",\"Gaba5\",\"Gaba3\",\"Gaba11\",\"Gaba6\",\"Gaba7\",\"Gaba4\",\"Gaba1\",\"Gaba2\",\"Gaba8\",\"Gaba9\")\n",
    "Cell_type<-factor((Cell_type),levels=c(\"Glu2\",\"Glu1\",\"Gaba12\",\"Gaba10\",\"Gaba5\",\"Gaba3\",\"Gaba11\",\"Gaba6\",\"Gaba7\",\"Gaba4\",\"Gaba1\",\"Gaba2\",\"Gaba8\",\"Gaba9\"))"
   ]
  },
  {
   "cell_type": "code",
   "execution_count": null,
   "metadata": {},
   "outputs": [],
   "source": [
    "Cell_number<- data.frame(Date=as.Date(character()),File=character(),User=character(),stringsAsFactors=FALSE)\n",
    "\n",
    "for (i in 1:length(gene_list)){\n",
    "L<-length(Cell_type)\n",
    "\n",
    "    \n",
    "Cell_number_t<- data.frame(\"cluster\" =Cell_type, \"gene\"=(rep(gene_list[i],L))) # do not use c if the gene is factorizsed\n",
    "#used normalized uncorrected data\n",
    "for (p in 1:length(Cell_type)){\n",
    "#Cell_number_t$pct[p]<-100*sum(LS.integrated@assays$SCT@data[gene_list[i],eval(parse(text=paste(Cell_type[p],\"_barcode\",sep=\"\")))]>0)/length(eval(parse(text=paste(Cell_type[p],\"_barcode\",sep=\"\"))))\n",
    "Cell_number_t$zscore[p]<-(mean(LS.integrated@assays$SCT@data[gene_list[i],rownames(subset(LS.integrated@meta.data,celltype==Cell_type[p]))])-mean(LS.integrated@assays$SCT@data[gene_list[i],]))/sd(LS.integrated@assays$SCT@data[gene_list[i],])\n",
    "Cell_number_t$FC[p]<-mean(LS.integrated@assays$SCT@data[gene_list[i],rownames(subset(LS.integrated@meta.data,celltype==Cell_type[p]))])-mean(LS.integrated@assays$SCT@data[gene_list[i],rownames(subset(LS.integrated@meta.data,celltype!=Cell_type[p]))])\n",
    "    }\n",
    "Cell_number<-rbind(Cell_number_t,Cell_number)}\n",
    "as.factor(Cell_number$cluster)\n",
    "#actor(Cell_number$gene,levels=gene_list)"
   ]
  },
  {
   "cell_type": "code",
   "execution_count": null,
   "metadata": {
    "scrolled": true
   },
   "outputs": [],
   "source": [
    "head(Cell_number, 100)"
   ]
  },
  {
   "cell_type": "code",
   "execution_count": null,
   "metadata": {},
   "outputs": [],
   "source": [
    "saveRDS(Cell_number, file='conserved_markers/heatmap_table')"
   ]
  },
  {
   "cell_type": "code",
   "execution_count": 89,
   "metadata": {},
   "outputs": [],
   "source": [
    "Cell_number <- readRDS(file='heatmap_table')"
   ]
  },
  {
   "cell_type": "code",
   "execution_count": 91,
   "metadata": {},
   "outputs": [],
   "source": [
    "Cell_number$cluster<-factor(Cell_number$cluster,levels=(c(\"Glu2\",\"Glu1\",\"Gaba12\",\"Gaba10\",\"Gaba5\",\"Gaba3\",\"Gaba11\",\"Gaba6\",\"Gaba7\",\"Gaba4\",\"Gaba1\",\"Gaba2\",\"Gaba8\",\"Gaba9\")))"
   ]
  },
  {
   "cell_type": "code",
   "execution_count": 92,
   "metadata": {},
   "outputs": [],
   "source": [
    "Cell_number$gene<-factor(Cell_number$gene, levels=unique(Cell_number$gene))"
   ]
  },
  {
   "cell_type": "code",
   "execution_count": 95,
   "metadata": {},
   "outputs": [
    {
     "name": "stderr",
     "output_type": "stream",
     "text": [
      "Warning message in Ops.factor(left, right):\n",
      "\"'<' not meaningful for factors\"\n",
      "Warning message in Ops.factor(left, right):\n",
      "\"'<' not meaningful for factors\"\n"
     ]
    }
   ],
   "source": [
    "#if want to kick out zscore less than 0\n",
    "Cell_number[Cell_number < 0] <- 0"
   ]
  },
  {
   "cell_type": "code",
   "execution_count": 115,
   "metadata": {},
   "outputs": [
    {
     "data": {
      "image/png": "[encoded data removed]",
      "text/plain": [
       "plot without title"
      ]
     },
     "metadata": {
      "image/png": {
       "height": 420,
       "width": 420
      }
     },
     "output_type": "display_data"
    }
   ],
   "source": [
    "low<- 0\n",
    "high<- 1\n",
    "p<-ggplot(Cell_number, aes(gene, cluster))+ \n",
    "  geom_tile(aes(fill =zscore))+ \n",
    "scale_fill_gradient2(limits=c(low, high), breaks=seq(low,high,by=1),high = \"#930F16\",mid=\"#DD6B71\",midpoint=0.50,low = \"white\",oob=squish)\n",
    "pp<-p+\n",
    "theme_classic()+\n",
    "theme(axis.text.x=element_text( size=6, angle=90, hjust=1, vjust=.5),\n",
    "            axis.text.y=element_blank(),\n",
    "            plot.title = element_text(size=8),\n",
    "            panel.background = element_rect(colour = \"black\", size=.25, fill=NA),\n",
    "            axis.line.y = element_blank(),\n",
    "            axis.line.x=element_blank(),\n",
    "            axis.ticks.y = element_blank(),\n",
    "            axis.title.y = element_blank(),\n",
    "            axis.ticks.x = element_line(size=0.25),\n",
    "            axis.title.x = element_blank(),\n",
    "            legend.key.height= unit(0.2, 'cm'), \n",
    "            legend.key.width = unit(1.0, 'cm'),\n",
    "            legend.position = \"bottom\",\n",
    "            legend.text = element_text(size=6),\n",
    "            legend.title = element_blank())+\n",
    "coord_flip()\n",
    "print(pp)"
   ]
  },
  {
   "cell_type": "markdown",
   "metadata": {},
   "source": [
    "#### Plotting selected markers for each cell cluster"
   ]
  },
  {
   "cell_type": "code",
   "execution_count": null,
   "metadata": {},
   "outputs": [],
   "source": [
    "LS.integrated <- NormalizeData(LS.integrated, assay='RNA')"
   ]
  },
  {
   "cell_type": "code",
   "execution_count": null,
   "metadata": {},
   "outputs": [],
   "source": [
    "# Define an order of cluster identities\n",
    "my_levels <- (c(\"Glu2\",\"Glu1\",\"Gaba12\",\"Gaba10\",\"Gaba5\",\"Gaba3\",\"Gaba11\",\"Gaba6\",\"Gaba7\",\"Gaba4\",\"Gaba1\",\"Gaba2\",\"Gaba8\",\"Gaba9\"))\n",
    "\n",
    "# Relevel object@ident\n",
    "Idents(LS.integrated) <- factor(x = Idents(LS.integrated), levels = my_levels)"
   ]
  },
  {
   "cell_type": "code",
   "execution_count": null,
   "metadata": {},
   "outputs": [],
   "source": [
    "DotPlot(LS.integrated, feature = rev(c('Onecut2','Samd3','Foxp2','Tacr1','Crhr2','Sst','Pax6','Esr1','Col15a1','Drd3','Nts','Met')), cols=c('gray','red'), dot.scale=4) +\n",
    "theme_classic()+\n",
    "    theme(axis.title=element_blank(),\n",
    "          axis.text.y=element_text(size=6,colour = \"black\"),\n",
    "          axis.text.x=element_text(size=6,angle = 50, hjust =1,colour = \"black\"),\n",
    "          axis.line = element_blank(),\n",
    "          axis.ticks = element_line(size=0.25),\n",
    "          legend.key.size = unit(0.4, \"cm\"),\n",
    "          panel.background = element_rect(colour = \"black\", size=.25, fill=NA),\n",
    "          legend.title = element_text(size=8),\n",
    "          legend.text = element_text(size=6),\n",
    "          legend.position='bottom')+\n",
    "          coord_flip() \n",
    "ggsave(file=\"canonical_markers_new_legend.pdf\",height=1.75, width=2.85)"
   ]
  }
 ],
 "metadata": {
  "kernelspec": {
   "display_name": "R",
   "language": "R",
   "name": "ir"
  },
  "language_info": {
   "codemirror_mode": "r",
   "file_extension": ".r",
   "mimetype": "text/x-r-source",
   "name": "R",
   "pygments_lexer": "r",
   "version": "4.1.2"
  }
 },
 "nbformat": 4,
 "nbformat_minor": 2
}
