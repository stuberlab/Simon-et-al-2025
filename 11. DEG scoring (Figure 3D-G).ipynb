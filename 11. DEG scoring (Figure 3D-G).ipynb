{
 "cells": [
  {
   "cell_type": "markdown",
   "metadata": {},
   "source": [
    "## DEG scoring (Figure 3D-G)"
   ]
  },
  {
   "cell_type": "markdown",
   "metadata": {
    "scrolled": true
   },
   "source": [
    "#### Import libraries"
   ]
  },
  {
   "cell_type": "code",
   "execution_count": 1,
   "metadata": {},
   "outputs": [
    {
     "name": "stderr",
     "output_type": "stream",
     "text": [
      "Attaching SeuratObject\n",
      "\n",
      "\n",
      "Attaching package: 'dplyr'\n",
      "\n",
      "\n",
      "The following objects are masked from 'package:stats':\n",
      "\n",
      "    filter, lag\n",
      "\n",
      "\n",
      "The following objects are masked from 'package:base':\n",
      "\n",
      "    intersect, setdiff, setequal, union\n",
      "\n",
      "\n"
     ]
    }
   ],
   "source": [
    "library(Seurat)\n",
    "library(dplyr)\n",
    "library(magrittr)\n",
    "library(xlsx)\n",
    "library(ggplot2)\n",
    "library(ggrepel)\n",
    "library(ggpubr)\n",
    "library(reshape2)\n",
    "library(scales)"
   ]
  },
  {
   "cell_type": "markdown",
   "metadata": {},
   "source": [
    "#### Load in data"
   ]
  },
  {
   "cell_type": "code",
   "execution_count": 2,
   "metadata": {},
   "outputs": [],
   "source": [
    "LS.integrated<-readRDS(file = \"C:/Users/stuberadmin/Documents/scRNAseq/211119-RS-rv4/Neurons_only_iter2/LS_integrated.rds\")\n",
    "LS_sal<-readRDS(file = \"C:/Users/stuberadmin/Documents/scRNAseq/211119-RS-rv4/Neurons_only_iter2/LS_sal.rds\")\n",
    "LS_mor<-readRDS(file = \"C:/Users/stuberadmin/Documents/scRNAseq/211119-RS-rv4/Neurons_only_iter2/LS_mor.rds\")\n",
    "LS_nal<-readRDS(file = \"C:/Users/stuberadmin/Documents/scRNAseq/211119-RS-rv4/Neurons_only_iter2/LS_nal.rds\")\n",
    "LS_one_mor<-readRDS( file = \"C:/Users/stuberadmin/Documents/scRNAseq/211119-RS-rv4/Neurons_only_iter2/LS_one_mor.rds\")\n",
    "LS_nal_no_mor<-readRDS( file = \"C:/Users/stuberadmin/Documents/scRNAseq/211119-RS-rv4/Neurons_only_iter2/LS_nal_no_mor.rds\")"
   ]
  },
  {
   "cell_type": "markdown",
   "metadata": {},
   "source": [
    "#### Rename clusters with cell type identities"
   ]
  },
  {
   "cell_type": "code",
   "execution_count": 3,
   "metadata": {},
   "outputs": [],
   "source": [
    "new.ident <- c(\"Gaba1\",\"Gaba2\",\"Gaba3\",\"Gaba4\",\"Gaba5\",\"Gaba6\",\"Gaba7\",\"Glu1\",\"Gaba8\",\"Gaba9\",\"Gaba10\",\"Glu2\",\"Gaba11\",\"Gaba12\")\n",
    "names(x = new.ident) <- levels(x =LS.integrated)\n",
    "LS.integrated<- RenameIdents(object =LS.integrated, new.ident)"
   ]
  },
  {
   "cell_type": "code",
   "execution_count": 4,
   "metadata": {},
   "outputs": [],
   "source": [
    "for (i in 1:length(new.ident)){\n",
    "assign(paste(new.ident[i],\"_barcode\",sep=\"\"),colnames(LS.integrated@assays$RNA@data[,which(Idents(object=LS.integrated) %in% new.ident[i])]))# this gives all barcodes in cluster\n",
    "assign(paste(new.ident[i],\"_barcode_LS_sal\",sep=\"\"),intersect(colnames(LS_sal@assays$RNA@data),eval(parse(text = paste(new.ident[i],\"_barcode\",sep=\"\")))))\n",
    "assign(paste(new.ident[i],\"_barcode_LS_mor\",sep=\"\"),intersect(colnames(LS_mor@assays$RNA@data),eval(parse(text = paste(new.ident[i],\"_barcode\",sep=\"\")))))\n",
    "assign(paste(new.ident[i],\"_barcode_LS_nal\",sep=\"\"),intersect(colnames(LS_nal@assays$RNA@data),eval(parse(text = paste(new.ident[i],\"_barcode\",sep=\"\")))))\n",
    "assign(paste(new.ident[i],\"_barcode_LS_one_mor\",sep=\"\"),intersect(colnames(LS_one_mor@assays$RNA@data),eval(parse(text = paste(new.ident[i],\"_barcode\",sep=\"\")))))\n",
    "assign(paste(new.ident[i],\"_barcode_LS_nal_no_mor\",sep=\"\"),intersect(colnames(LS_nal_no_mor@assays$RNA@data),eval(parse(text = paste(new.ident[i],\"_barcode\",sep=\"\")))))\n",
    "}"
   ]
  },
  {
   "cell_type": "code",
   "execution_count": 5,
   "metadata": {},
   "outputs": [],
   "source": [
    "DefaultAssay(LS.integrated) <- 'RNA'"
   ]
  },
  {
   "cell_type": "code",
   "execution_count": 6,
   "metadata": {},
   "outputs": [],
   "source": [
    "LS.integrated <- NormalizeData(LS.integrated, assay='RNA')"
   ]
  },
  {
   "cell_type": "markdown",
   "metadata": {},
   "source": [
    "#### Identify DEGs in each cell cluster"
   ]
  },
  {
   "cell_type": "markdown",
   "metadata": {},
   "source": [
    "Limiting the number of cells sampled from each cell cluster to reduce the likelihood that more DEGs will be discovered in cell clusters with more cells"
   ]
  },
  {
   "cell_type": "code",
   "execution_count": null,
   "metadata": {},
   "outputs": [],
   "source": [
    "Cell_type<-c(\"Gaba1\",\"Gaba2\",\"Gaba3\",\"Gaba4\",\"Gaba5\",\"Gaba6\",\"Gaba7\",\"Glu1\",\"Gaba8\",\"Gaba9\",\"Gaba10\",\"Glu2\",\"Gaba11\",\"Gaba12\")"
   ]
  },
  {
   "cell_type": "code",
   "execution_count": null,
   "metadata": {},
   "outputs": [],
   "source": [
    "LS.integrated@meta.data$celltype.stim <- paste0(Idents(LS.integrated), \"_\", LS.integrated@meta.data$stim)\n",
    "LS.integrated[[\"celltype\"]] <- Idents(object = LS.integrated)\n",
    "Idents(LS.integrated = LS.integrated) <- LS.integrated@meta.data$celltype.stim"
   ]
  },
  {
   "cell_type": "markdown",
   "metadata": {},
   "source": [
    "saline versus chronic morphine"
   ]
  },
  {
   "cell_type": "code",
   "execution_count": null,
   "metadata": {},
   "outputs": [],
   "source": [
    "for (i in 1:length(Cell_type)){\n",
    "    one.markers <- FindMarkers(assay=\"RNA\",slot='data',LS.integrated, , ident.1 = paste(Cell_type[i],\"_LS_sal\",sep=\"\"), ident.2 =paste(Cell_type[i],\"_LS_mor\",sep=\"\"), grouping.var = \"stim\",print.bar = FALSE,logfc.threshold = 0.1,min.pct = 0,min.cells.gene = 3, min.cells.group = 1, max.cells.per.ident = 100)\n",
    "\n",
    "one.markers$p_val_adjust<-one.markers$p_val*(dim(one.markers)[1]:1)\n",
    "sort_marker<-one.markers[order(-one.markers[\"avg_log2FC\"]),]\n",
    "write.xlsx2(subset(sort_marker,p_val_adjust<0.05 & pct.1>0.01),file=(paste(\"C:/Users/stuberadmin/Documents/scRNAseq/211119-RS-rv4/Neurons_only_iter2/DEG/Independent_limit100/sal_over_mor/\",Cell_type[i],\"_gene_adjust_all.xlsx\",sep=\"\")))}"
   ]
  },
  {
   "cell_type": "markdown",
   "metadata": {},
   "source": [
    "saline versus naloxone (chronic morphine + naloxone)"
   ]
  },
  {
   "cell_type": "code",
   "execution_count": null,
   "metadata": {},
   "outputs": [],
   "source": [
    "for (i in 1:length(Cell_type)){\n",
    "    one.markers <- FindMarkers(assay=\"RNA\",LS.integrated, ident.1 = paste(Cell_type[i],\"_LS_sal\",sep=\"\"), ident.2 =paste(Cell_type[i],\"_LS_nal\",sep=\"\"), grouping.var = \"stim\",print.bar = FALSE,logfc.threshold = 0.1,min.pct = 0,min.cells.gene = 3, min.cells.group = 1, max.cells.per.ident = 100)\n",
    "\n",
    "one.markers$p_val_adjust<-one.markers$p_val*(dim(one.markers)[1]:1)\n",
    "sort_marker<-one.markers[order(-one.markers[\"avg_log2FC\"]),]\n",
    "write.xlsx2(subset(sort_marker,p_val_adjust<0.05 & pct.1>0.01),file=(paste(\"C:/Users/stuberadmin/Documents/scRNAseq/211119-RS-rv4/Neurons_only_iter2/DEG/Independent_limit100/sal_over_nal/\",Cell_type[i],\"_gene_adjust_all.xlsx\",sep=\"\")))}"
   ]
  },
  {
   "cell_type": "markdown",
   "metadata": {},
   "source": [
    "chronic morphine versus naloxone"
   ]
  },
  {
   "cell_type": "code",
   "execution_count": null,
   "metadata": {},
   "outputs": [],
   "source": [
    "for (i in 1:length(Cell_type)){\n",
    "    one.markers <- FindMarkers(assay=\"RNA\",LS.integrated, ident.1 = paste(Cell_type[i],\"_LS_mor\",sep=\"\"), ident.2 =paste(Cell_type[i],\"_LS_nal\",sep=\"\"), grouping.var = \"stim\",print.bar = FALSE,logfc.threshold = 0.1,min.pct = 0,min.cells.gene = 3, min.cells.group = 1, max.cells.per.ident = 100)\n",
    "\n",
    "one.markers$p_val_adjust<-one.markers$p_val*(dim(one.markers)[1]:1)\n",
    "sort_marker<-one.markers[order(-one.markers[\"avg_log2FC\"]),]\n",
    "write.xlsx2(subset(sort_marker,p_val_adjust<0.05 & pct.1>0.01),file=(paste(\"C:/Users/stuberadmin/Documents/scRNAseq/211119-RS-rv4/Neurons_only_iter2/DEG/Independent_limit_Venn/mor_over_nal/\",Cell_type[i],\"_gene_adjust_all.xlsx\",sep=\"\")))}"
   ]
  },
  {
   "cell_type": "markdown",
   "metadata": {},
   "source": [
    "#### Computing a DEG score for each cell type and condition"
   ]
  },
  {
   "cell_type": "markdown",
   "metadata": {},
   "source": [
    "Reload data"
   ]
  },
  {
   "cell_type": "code",
   "execution_count": null,
   "metadata": {},
   "outputs": [],
   "source": [
    "LS.integrated<-readRDS(file = \"C:/Users/stuberadmin/Documents/scRNAseq/211119-RS-rv4/Neurons_only_iter2/LS_integrated.rds\")\n",
    "LS_sal<-readRDS(file = \"C:/Users/stuberadmin/Documents/scRNAseq/211119-RS-rv4/Neurons_only_iter2/LS_sal.rds\")\n",
    "LS_mor<-readRDS(file = \"C:/Users/stuberadmin/Documents/scRNAseq/211119-RS-rv4/Neurons_only_iter2/LS_mor.rds\")\n",
    "LS_nal<-readRDS(file = \"C:/Users/stuberadmin/Documents/scRNAseq/211119-RS-rv4/Neurons_only_iter2/LS_nal.rds\")\n",
    "LS_one_mor<-readRDS( file = \"C:/Users/stuberadmin/Documents/scRNAseq/211119-RS-rv4/Neurons_only_iter2/LS_one_mor.rds\")\n",
    "LS_nal_no_mor<-readRDS( file = \"C:/Users/stuberadmin/Documents/scRNAseq/211119-RS-rv4/Neurons_only_iter2/LS_nal_no_mor.rds\")"
   ]
  },
  {
   "cell_type": "code",
   "execution_count": null,
   "metadata": {},
   "outputs": [],
   "source": [
    "new.ident <- c(\"Gaba1\",\"Gaba2\",\"Gaba3\",\"Gaba4\",\"Gaba5\",\"Gaba6\",\"Gaba7\",\"Glu1\",\"Gaba8\",\"Gaba9\",\"Gaba10\",\"Glu2\",\"Gaba11\",\"Gaba12\")\n",
    "names(x = new.ident) <- levels(x =LS.integrated)\n",
    "LS.integrated<- RenameIdents(object =LS.integrated, new.ident)"
   ]
  },
  {
   "cell_type": "code",
   "execution_count": null,
   "metadata": {},
   "outputs": [],
   "source": [
    "for (i in 1:length(new.ident)){\n",
    "assign(paste(new.ident[i],\"_barcode\",sep=\"\"),colnames(LS.integrated@assays$RNA@data[,which(Idents(object=LS.integrated) %in% new.ident[i])]))# this gives all barcodes in cluster\n",
    "assign(paste(new.ident[i],\"_barcode_LS_sal\",sep=\"\"),intersect(colnames(LS_sal@assays$RNA@data),eval(parse(text = paste(new.ident[i],\"_barcode\",sep=\"\")))))\n",
    "assign(paste(new.ident[i],\"_barcode_LS_mor\",sep=\"\"),intersect(colnames(LS_mor@assays$RNA@data),eval(parse(text = paste(new.ident[i],\"_barcode\",sep=\"\")))))\n",
    "assign(paste(new.ident[i],\"_barcode_LS_nal\",sep=\"\"),intersect(colnames(LS_nal@assays$RNA@data),eval(parse(text = paste(new.ident[i],\"_barcode\",sep=\"\")))))\n",
    "assign(paste(new.ident[i],\"_barcode_LS_one_mor\",sep=\"\"),intersect(colnames(LS_one_mor@assays$RNA@data),eval(parse(text = paste(new.ident[i],\"_barcode\",sep=\"\")))))\n",
    "assign(paste(new.ident[i],\"_barcode_LS_nal_no_mor\",sep=\"\"),intersect(colnames(LS_nal_no_mor@assays$RNA@data),eval(parse(text = paste(new.ident[i],\"_barcode\",sep=\"\")))))\n",
    "}"
   ]
  },
  {
   "cell_type": "code",
   "execution_count": null,
   "metadata": {},
   "outputs": [],
   "source": [
    "DefaultAssay(LS.integrated) <- 'RNA'"
   ]
  },
  {
   "cell_type": "code",
   "execution_count": null,
   "metadata": {},
   "outputs": [],
   "source": [
    "LS.integrated <- NormalizeData(LS.integrated, assay='RNA')"
   ]
  },
  {
   "cell_type": "markdown",
   "metadata": {},
   "source": [
    "saline versus chronic morphine"
   ]
  },
  {
   "cell_type": "code",
   "execution_count": 7,
   "metadata": {},
   "outputs": [],
   "source": [
    "Cell_type<-c(\"Gaba1\",\"Gaba2\",\"Gaba3\",\"Gaba4\",\"Gaba5\",\"Gaba6\",\"Gaba7\",\"Glu1\",\"Gaba8\",\"Gaba9\",\"Gaba10\",\"Glu2\",\"Gaba11\",\"Gaba12\")"
   ]
  },
  {
   "cell_type": "code",
   "execution_count": 8,
   "metadata": {},
   "outputs": [
    {
     "name": "stdout",
     "output_type": "stream",
     "text": [
      " chr [1:431] \"Ly6h\" \"Ckb\" \"Ubb\" \"Matk\" \"Actb\" \"Snhg11\" \"Acp1\" \"Tmsb4x\" ...\n"
     ]
    }
   ],
   "source": [
    "setwd(\"C:/Users/stuberadmin/Documents/scRNAseq/211119-RS-rv4/Neurons_only_iter2/DEG/Independent_limit100/sal_over_mor/\")\n",
    "lmor <- list() # creates a list\n",
    "\n",
    "list_mor <- dir(pattern = \"*.xlsx\") # creates the list of all the csv files in the directory\n",
    "for (k in 1:length(list_mor)){\n",
    " lmor[[k]] <- read.xlsx(list_mor[k], sheetIndex=1)$NA.\n",
    "}\n",
    "str(lmor[[1]]) \n",
    "\n",
    "cluster_order <- gsub('_gene_adjust_all.xlsx','',list_mor)\n",
    "t1 <- lapply(lmor, unlist)\n",
    "t2 <- lapply(t1, length)\n",
    "mor.df <- data.frame(cluster_order, unlist(t2))"
   ]
  },
  {
   "cell_type": "markdown",
   "metadata": {},
   "source": [
    "saline versus naloxone"
   ]
  },
  {
   "cell_type": "code",
   "execution_count": 9,
   "metadata": {},
   "outputs": [
    {
     "name": "stdout",
     "output_type": "stream",
     "text": [
      " chr [1:162] \"Ly6h\" \"Snhg11\" \"Matk\" \"Ckb\" \"Tmem191c\" \"Actb\" \"Ubb\" \"Gm47283\" ...\n"
     ]
    }
   ],
   "source": [
    "setwd(\"C:/Users/stuberadmin/Documents/scRNAseq/211119-RS-rv4/Neurons_only_iter2/DEG/Independent_limit100/sal_over_nal/\")\n",
    "lnal_sal <- list() # creates a list\n",
    "\n",
    "list_nal_sal <- dir(pattern = \"*.xlsx\") # creates the list of all the csv files in the directory\n",
    "for (k in 1:length(list_nal_sal)){\n",
    " lnal_sal[[k]] <- read.xlsx(list_nal_sal[k], sheetIndex=1)$NA.\n",
    "}\n",
    "str(lnal_sal[[1]]) \n",
    "\n",
    "cluster_order <- gsub('_gene_adjust_all.xlsx','',list_nal_sal)\n",
    "t1 <- lapply(lnal_sal, unlist)\n",
    "t2 <- lapply(t1, length)\n",
    "nal_sal.df <- data.frame(cluster_order, unlist(t2))"
   ]
  },
  {
   "cell_type": "markdown",
   "metadata": {},
   "source": [
    "morphine versus naloxone"
   ]
  },
  {
   "cell_type": "code",
   "execution_count": 10,
   "metadata": {},
   "outputs": [
    {
     "name": "stdout",
     "output_type": "stream",
     "text": [
      " chr [1:30] \"Gria4\" \"Slc35f1\" \"Srsf7\" \"Ext1\" \"Adcy8\" \"Sltm\" \"Lrfn5\" \"Ssbp4\" ...\n"
     ]
    }
   ],
   "source": [
    "setwd(\"C:/Users/stuberadmin/Documents/scRNAseq/211119-RS-rv4/Neurons_only_iter2/DEG/Independent_limit100/mor_over_nal/\")\n",
    "lnal <- list() # creates a list\n",
    "\n",
    "list_nal <- dir(pattern = \"*.xlsx\") # creates the list of all the csv files in the directory\n",
    "for (k in 1:length(list_nal)){\n",
    " lnal[[k]] <- read.xlsx(list_nal[k], sheetIndex=1)$NA.\n",
    "}\n",
    "str(lnal[[1]]) \n",
    "\n",
    "cluster_order <- gsub('_gene_adjust_all.xlsx','',list_nal)\n",
    "t1 <- lapply(lnal, unlist)\n",
    "t2 <- lapply(t1, length)\n",
    "nal.df <- data.frame(cluster_order, unlist(t2))"
   ]
  },
  {
   "cell_type": "markdown",
   "metadata": {},
   "source": [
    "Check if DEG scores are correlated with the number of cells in each group"
   ]
  },
  {
   "cell_type": "code",
   "execution_count": 11,
   "metadata": {},
   "outputs": [],
   "source": [
    "cor.df <- cbind(mor.df, nal.df[2])\n",
    "\n",
    "cor.df<-cor.df[-c(15),]\n",
    "\n",
    "cell.no <- data.frame(table(Idents(LS.integrated)))\n",
    "\n",
    "cor.df <- cor.df[match(Cell_type, cor.df$cluster_order),]\n",
    "\n",
    "cor.df<-cbind(cor.df, cell.no$Freq)\n",
    "\n",
    "colnames(cor.df) <- c('celltype','mor','nal','freq')"
   ]
  },
  {
   "cell_type": "code",
   "execution_count": 12,
   "metadata": {},
   "outputs": [
    {
     "name": "stderr",
     "output_type": "stream",
     "text": [
      "`geom_smooth()` using formula 'y ~ x'\n",
      "\n",
      "`geom_smooth()` using formula 'y ~ x'\n",
      "\n"
     ]
    },
    {
     "data": {
      "image/png": "[encoded data removed]",
      "text/plain": [
       "plot without title"
      ]
     },
     "metadata": {
      "image/png": {
       "height": 420,
       "width": 420
      }
     },
     "output_type": "display_data"
    }
   ],
   "source": [
    "ggplot(cor.df, aes(x=freq, y=mor))+\n",
    "geom_point(data=cor.df, aes(x=freq, y=mor),size=0.3, color='black') +\n",
    "geom_point(data=cor.df, aes(x=freq, y=nal),size=0.3, color='red') +\n",
    "    theme_classic() + \n",
    "    theme(axis.line = element_blank(), \n",
    "         plot.title=element_blank(),\n",
    "         panel.background = element_rect(colour = \"black\", size=.25, fill=NA),\n",
    "         axis.text = element_text(size=6),\n",
    "         axis.title = element_text(size=6),\n",
    "         axis.ticks = element_line(size=0.25)) +\n",
    "geom_smooth(data=cor.df, aes(x=freq, y=mor), method='lm', color=\"black\", fill=\"black\", alpha=0.1, size=0.5) +\n",
    "stat_cor(data=cor.df, aes(x=freq, y=mor), size=2, label.sep=\", \")+\n",
    "geom_smooth(data=cor.df, aes(x=freq, y=nal), method='lm', color=\"red\", fill=\"red\", alpha=0.1, size=0.5) +\n",
    "stat_cor(data=cor.df, aes(x=freq, y=nal), size=2, label.sep=\", \", color='red')+\n",
    "ylab(\"Number of DEGs\") +\n",
    "xlab(\"Number of cells in cluster\")"
   ]
  },
  {
   "cell_type": "markdown",
   "metadata": {},
   "source": [
    "Plotting DEG enrichment scores"
   ]
  },
  {
   "cell_type": "code",
   "execution_count": 13,
   "metadata": {},
   "outputs": [
    {
     "data": {
      "text/html": [
       "<table class=\"dataframe\">\n",
       "<caption>A data.frame: 14 × 4</caption>\n",
       "<thead>\n",
       "\t<tr><th scope=col>cluster_order</th><th scope=col>unlist.t2.</th><th scope=col>unlist.t2.</th><th scope=col>unlist.t2.</th></tr>\n",
       "\t<tr><th scope=col>&lt;chr&gt;</th><th scope=col>&lt;int&gt;</th><th scope=col>&lt;int&gt;</th><th scope=col>&lt;int&gt;</th></tr>\n",
       "</thead>\n",
       "<tbody>\n",
       "\t<tr><td>Gaba1 </td><td>431</td><td>162</td><td> 30</td></tr>\n",
       "\t<tr><td>Gaba10</td><td>388</td><td>138</td><td> 10</td></tr>\n",
       "\t<tr><td>Gaba11</td><td>181</td><td>154</td><td>  2</td></tr>\n",
       "\t<tr><td>Gaba12</td><td>  2</td><td>  2</td><td>  0</td></tr>\n",
       "\t<tr><td>Gaba2 </td><td>345</td><td>118</td><td> 41</td></tr>\n",
       "\t<tr><td>Gaba3 </td><td>342</td><td>128</td><td> 19</td></tr>\n",
       "\t<tr><td>Gaba4 </td><td>282</td><td> 99</td><td> 35</td></tr>\n",
       "\t<tr><td>Gaba5 </td><td>277</td><td>124</td><td> 33</td></tr>\n",
       "\t<tr><td>Gaba6 </td><td>289</td><td> 83</td><td> 18</td></tr>\n",
       "\t<tr><td>Gaba7 </td><td>347</td><td>138</td><td> 45</td></tr>\n",
       "\t<tr><td>Gaba8 </td><td>400</td><td>202</td><td>222</td></tr>\n",
       "\t<tr><td>Gaba9 </td><td>309</td><td> 99</td><td> 21</td></tr>\n",
       "\t<tr><td>Glu1  </td><td>183</td><td> 62</td><td> 11</td></tr>\n",
       "\t<tr><td>Glu2  </td><td>519</td><td>183</td><td>  7</td></tr>\n",
       "</tbody>\n",
       "</table>\n"
      ],
      "text/latex": [
       "A data.frame: 14 × 4\n",
       "\\begin{tabular}{llll}\n",
       " cluster\\_order & unlist.t2. & unlist.t2. & unlist.t2.\\\\\n",
       " <chr> & <int> & <int> & <int>\\\\\n",
       "\\hline\n",
       "\t Gaba1  & 431 & 162 &  30\\\\\n",
       "\t Gaba10 & 388 & 138 &  10\\\\\n",
       "\t Gaba11 & 181 & 154 &   2\\\\\n",
       "\t Gaba12 &   2 &   2 &   0\\\\\n",
       "\t Gaba2  & 345 & 118 &  41\\\\\n",
       "\t Gaba3  & 342 & 128 &  19\\\\\n",
       "\t Gaba4  & 282 &  99 &  35\\\\\n",
       "\t Gaba5  & 277 & 124 &  33\\\\\n",
       "\t Gaba6  & 289 &  83 &  18\\\\\n",
       "\t Gaba7  & 347 & 138 &  45\\\\\n",
       "\t Gaba8  & 400 & 202 & 222\\\\\n",
       "\t Gaba9  & 309 &  99 &  21\\\\\n",
       "\t Glu1   & 183 &  62 &  11\\\\\n",
       "\t Glu2   & 519 & 183 &   7\\\\\n",
       "\\end{tabular}\n"
      ],
      "text/markdown": [
       "\n",
       "A data.frame: 14 × 4\n",
       "\n",
       "| cluster_order &lt;chr&gt; | unlist.t2. &lt;int&gt; | unlist.t2. &lt;int&gt; | unlist.t2. &lt;int&gt; |\n",
       "|---|---|---|---|\n",
       "| Gaba1  | 431 | 162 |  30 |\n",
       "| Gaba10 | 388 | 138 |  10 |\n",
       "| Gaba11 | 181 | 154 |   2 |\n",
       "| Gaba12 |   2 |   2 |   0 |\n",
       "| Gaba2  | 345 | 118 |  41 |\n",
       "| Gaba3  | 342 | 128 |  19 |\n",
       "| Gaba4  | 282 |  99 |  35 |\n",
       "| Gaba5  | 277 | 124 |  33 |\n",
       "| Gaba6  | 289 |  83 |  18 |\n",
       "| Gaba7  | 347 | 138 |  45 |\n",
       "| Gaba8  | 400 | 202 | 222 |\n",
       "| Gaba9  | 309 |  99 |  21 |\n",
       "| Glu1   | 183 |  62 |  11 |\n",
       "| Glu2   | 519 | 183 |   7 |\n",
       "\n"
      ],
      "text/plain": [
       "   cluster_order unlist.t2. unlist.t2. unlist.t2.\n",
       "1  Gaba1         431        162         30       \n",
       "2  Gaba10        388        138         10       \n",
       "3  Gaba11        181        154          2       \n",
       "4  Gaba12          2          2          0       \n",
       "5  Gaba2         345        118         41       \n",
       "6  Gaba3         342        128         19       \n",
       "7  Gaba4         282         99         35       \n",
       "8  Gaba5         277        124         33       \n",
       "9  Gaba6         289         83         18       \n",
       "10 Gaba7         347        138         45       \n",
       "11 Gaba8         400        202        222       \n",
       "12 Gaba9         309         99         21       \n",
       "13 Glu1          183         62         11       \n",
       "14 Glu2          519        183          7       "
      ]
     },
     "metadata": {},
     "output_type": "display_data"
    }
   ],
   "source": [
    "DEGs <- cbind(mor.df, nal_sal.df[2], nal.df[2])\n",
    "DEGs"
   ]
  },
  {
   "cell_type": "code",
   "execution_count": 14,
   "metadata": {},
   "outputs": [
    {
     "name": "stderr",
     "output_type": "stream",
     "text": [
      "Using Celltype as id variables\n",
      "\n"
     ]
    }
   ],
   "source": [
    "DEGs <- cbind(mor.df, nal_sal.df[2], nal.df[2])\n",
    "\n",
    "normalize <- function(x){\n",
    " (x-min(x)) / (max(x)-min(x))\n",
    "    }\n",
    "\n",
    "DEGs[2:4] <- apply(DEGs[2:4], MARGIN=2, FUN=normalize) \n",
    "\n",
    "DEGs$cluster_order <- factor(DEGs$cluster_order, levels=c(\"Glu2\",\"Glu1\",\"Gaba12\",\"Gaba10\",\"Gaba5\",\"Gaba3\",\"Gaba11\",\"Gaba6\",\"Gaba7\",\"Gaba4\",\"Gaba1\",\"Gaba2\",\"Gaba8\",\"Gaba9\"))\n",
    "\n",
    "colnames(DEGs) <- c('Celltype','Mor','Nal','Nal2')\n",
    "\n",
    "DEG.df <- melt(DEGs)\n",
    "\n",
    "DEG.df$variable <- factor(DEG.df$variable, levels=rev(c('Mor','Nal','Nal2')))"
   ]
  },
  {
   "cell_type": "code",
   "execution_count": 15,
   "metadata": {},
   "outputs": [
    {
     "data": {
      "image/png": "[encoded data removed]",
      "text/plain": [
       "plot without title"
      ]
     },
     "metadata": {
      "image/png": {
       "height": 420,
       "width": 420
      }
     },
     "output_type": "display_data"
    }
   ],
   "source": [
    "ggplot(DEG.df, aes(Celltype,variable)) + \n",
    "geom_tile(aes(fill =value))+ \n",
    "scale_fill_gradient(low = \"black\",high = \"darkorange\",oob=squish)+\n",
    "theme_classic()+\n",
    "    theme(axis.title=element_blank(),\n",
    "          axis.text.y=element_text(size=6,colour = \"black\"),\n",
    "          axis.text.x=element_text(size=6,angle = 50, hjust =1,colour = \"black\"),\n",
    "          axis.line = element_blank(),\n",
    "          axis.ticks = element_line(size=0.25),\n",
    "          legend.key.size = unit(0.4, \"cm\"),\n",
    "          panel.background = element_rect(color = \"black\", size=.25, fill=NA),\n",
    "          legend.title = element_text(size=8),\n",
    "          legend.text = element_text(size=6),\n",
    "          legend.position='bottom')"
   ]
  },
  {
   "cell_type": "markdown",
   "metadata": {},
   "source": [
    "Because the DEG scores for the mor vs nal comparison are highly correlated with the number of cells in each cluster, we will have to devise a different strategy for this comparison"
   ]
  },
  {
   "cell_type": "markdown",
   "metadata": {},
   "source": [
    "#### Computing a DEG score for each condition comparison (100 restarts)\n"
   ]
  },
  {
   "cell_type": "markdown",
   "metadata": {},
   "source": [
    "We will define the DEG enrichment score as the number of DEGs that are either up- or downregulated between each condition and within each celltype. To do this, we must randomly sample a certain number of cells per cluster / per group to perform the calculation 100x (more is better). From here, we can simply take the average DEG number. If were were to use all cells in each cluster, the number of DEGs would be highly correlated with the # of cells in that cluster, and if we were to sample, say, ~100 cells per cluster only once, we could stochastically extract cells that happen to be higher or lower than the median of the population."
   ]
  },
  {
   "cell_type": "code",
   "execution_count": null,
   "metadata": {},
   "outputs": [],
   "source": [
    "#set the seed for the entire session\n",
    "set.seed(1027)"
   ]
  },
  {
   "cell_type": "code",
   "execution_count": null,
   "metadata": {},
   "outputs": [],
   "source": [
    "#Create list of seeds through which to iterate\n",
    "seed_list <- sample(1:1000, 100, replace=FALSE)"
   ]
  },
  {
   "cell_type": "code",
   "execution_count": null,
   "metadata": {
    "scrolled": true
   },
   "outputs": [],
   "source": [
    "#creating a df that will contain frequency information for every gene that appears in the DEG discovery\n",
    "#gene.df <- data.frame(rownames(LS.integrated@assays$RNA@data))"
   ]
  },
  {
   "cell_type": "code",
   "execution_count": null,
   "metadata": {},
   "outputs": [],
   "source": [
    "#Define list of cell types of interest\n",
    "Cell_type<-c(\"Gaba1\",\"Gaba2\",\"Gaba3\",\"Gaba4\",\"Gaba5\",\"Gaba6\",\"Gaba7\",\"Glu1\",\"Gaba8\",\"Gaba9\",\"Gaba10\",\"Glu2\",\"Gaba11\",\"Gaba12\")"
   ]
  },
  {
   "cell_type": "code",
   "execution_count": null,
   "metadata": {},
   "outputs": [],
   "source": [
    "LS.integrated@meta.data$celltype.stim <- paste0(Idents(LS.integrated), \"_\", LS.integrated@meta.data$stim)\n",
    "LS.integrated[[\"celltype\"]] <- Idents(object = LS.integrated)\n",
    "Idents(LS.integrated = LS.integrated) <- LS.integrated@meta.data$celltype.stim"
   ]
  },
  {
   "cell_type": "markdown",
   "metadata": {},
   "source": [
    "Morphine versus naloxone"
   ]
  },
  {
   "cell_type": "code",
   "execution_count": null,
   "metadata": {
    "scrolled": true
   },
   "outputs": [],
   "source": [
    "deg.list <- vector()\n",
    "deg.df <- data.frame(Cell_type)\n",
    "deg.meta <- data.frame('p_val','avg_log2FC','pct.1','pct.2','p_val_adj','cell_type','seed')\n",
    "colnames(deg.meta) <- c('p_val','avg_log2FC','pct.1','pct.2','p_val_adj','cell_type','seed')\n",
    "deg.meta <- deg.meta[-1,]\n",
    "\n",
    "for (seed in seed_list){\n",
    "    #iterates through seed list\n",
    "    set.seed(seed)\n",
    "    \n",
    "    #iterates through list of cell types\n",
    "    for (i in 1:length(Cell_type)){\n",
    "        deg <- FindMarkers(assay=\"RNA\",slot='data',LS.integrated, , ident.1 = paste(Cell_type[i],\"_LS_mor\",sep=\"\"), ident.2 =paste(Cell_type[i],\"_LS_nal\",sep=\"\"), grouping.var = \"stim\",print.bar = FALSE,\n",
    "                        logfc.threshold = 0.1,min.pct = 0,min.cells.gene = 3, min.cells.group = 1, max.cells.per.ident = 100, random.seed=seed) #100 was chosen as the sample size due to how small Gaba12 is\n",
    "        deg.sub <- subset(deg,p_val_adj <0.05)\n",
    "        deg.count <- length(rownames(deg.sub))\n",
    "        if (deg.count > 0){ \n",
    "            deg.sub$cell_type <- Cell_type[i]\n",
    "            deg.sub$gene <- rownames(deg.sub)\n",
    "            deg.sub$seed <- seed\n",
    "            deg.meta <- rbind(deg.meta, deg.sub)\n",
    "        }\n",
    "        deg.list[i] <- deg.count\n",
    "        message(Cell_type[i])\n",
    "    }\n",
    "    \n",
    "    deg.df <- cbind(deg.df,deg.list)\n",
    "    deg.list <- vector()\n",
    "    message(which(seed_list == seed))               \n",
    "}\n",
    "\n",
    "#write.xlsx2(deg.meta, file=\"C:/Users/stuberadmin/Documents/scRNAseq/211119-RS-rv4/Neurons_only_iter2/DEG/Independent_100-restarts/mor_over_nal/deg_df_mor_over_nal.xlsx\")\n"
   ]
  },
  {
   "cell_type": "code",
   "execution_count": null,
   "metadata": {
    "scrolled": true
   },
   "outputs": [],
   "source": [
    "deg.meta"
   ]
  },
  {
   "cell_type": "code",
   "execution_count": null,
   "metadata": {},
   "outputs": [],
   "source": [
    "deg.df"
   ]
  },
  {
   "cell_type": "code",
   "execution_count": null,
   "metadata": {},
   "outputs": [],
   "source": [
    "saveRDS(deg.df, file=\"C:/Users/stuberadmin/Documents/scRNAseq/211119-RS-rv4/Neurons_only_iter2/DEG/Independent_100-restarts/deg_count_df_mor_over_nal.rds\")"
   ]
  },
  {
   "cell_type": "markdown",
   "metadata": {},
   "source": [
    "#### Plotting distribution of DEGs over runs"
   ]
  },
  {
   "cell_type": "code",
   "execution_count": 16,
   "metadata": {},
   "outputs": [],
   "source": [
    "x <-readRDS(file=\"C:/Users/stuberadmin/Documents/scRNAseq/211119-RS-rv4/Neurons_only_iter2/DEG/Independent_100-restarts/mor_over_nal/deg_count_df_mor_over_nal.rds\")"
   ]
  },
  {
   "cell_type": "code",
   "execution_count": 17,
   "metadata": {},
   "outputs": [],
   "source": [
    "#Gaba8\n",
    "a <- data.frame(as.numeric(x[9,2:101]))\n",
    "colnames(a) <- 'a'\n",
    "#Gaba7\n",
    "b <- data.frame(as.numeric(x[7,2:101]))\n",
    "colnames(b) <- 'b'\n",
    "#Glu2\n",
    "c <- data.frame(as.numeric(x[1,2:101]))\n",
    "colnames(c) <- 'c'"
   ]
  },
  {
   "cell_type": "code",
   "execution_count": 18,
   "metadata": {},
   "outputs": [],
   "source": [
    "p <- ggplot() + geom_histogram(data=a, aes(x=a), fill='black',alpha=0.5,binwidth=2) + geom_histogram(data=b, aes(x=b), fill='orange',alpha=0.5,binwidth=2) + geom_histogram(data=c, aes(x=c), fill='blue',alpha=0.5,binwidth=2)  + theme_classic()"
   ]
  },
  {
   "cell_type": "code",
   "execution_count": 19,
   "metadata": {},
   "outputs": [
    {
     "data": {
      "image/png": "[encoded data removed]",
      "text/plain": [
       "plot without title"
      ]
     },
     "metadata": {
      "image/png": {
       "height": 420,
       "width": 420
      }
     },
     "output_type": "display_data"
    }
   ],
   "source": [
    "p <- ggplot(data=a, aes(x=a), fill='black',alpha=0.5) + \n",
    "    geom_density(color = \"darkred\",fill='darkred', alpha=0.4, size = 0.5, bw=1)  + \n",
    "    theme_classic() + \n",
    "    theme(axis.title=element_blank(),\n",
    "         plot.title=element_blank(),\n",
    "         axis.text.y = element_text(size=6),\n",
    "         axis.text.x = element_text(size=6),\n",
    "         axis.ticks = element_line(size=0.25),\n",
    "         axis.line = element_line(size=0.25)) +\n",
    "    xlim(0,25) + ylim(0,0.4) + ggtitle('Gaba8')\n",
    "p"
   ]
  },
  {
   "cell_type": "code",
   "execution_count": 20,
   "metadata": {},
   "outputs": [
    {
     "data": {
      "image/png": "[encoded data removed]",
      "text/plain": [
       "plot without title"
      ]
     },
     "metadata": {
      "image/png": {
       "height": 420,
       "width": 420
      }
     },
     "output_type": "display_data"
    }
   ],
   "source": [
    "p <- ggplot(data=b, aes(x=b)) + \n",
    "    geom_density(color = \"blue\",fill='darkblue', alpha=0.2, size = 0.5, bw=1)  + \n",
    "    theme_classic() + \n",
    "    theme(axis.title=element_blank(),\n",
    "         plot.title=element_blank(),\n",
    "         axis.text.y = element_text(size=6),\n",
    "         axis.text.x = element_text(size=6),\n",
    "         axis.ticks = element_line(size=0.25),\n",
    "         axis.line = element_line(size=0.25)) +\n",
    "    xlim(0,25) + ylim(0,0.4) + ggtitle('Gaba7')\n",
    "p"
   ]
  },
  {
   "cell_type": "code",
   "execution_count": 21,
   "metadata": {},
   "outputs": [
    {
     "data": {
      "image/png": "[encoded data removed]",
      "text/plain": [
       "plot without title"
      ]
     },
     "metadata": {
      "image/png": {
       "height": 420,
       "width": 420
      }
     },
     "output_type": "display_data"
    }
   ],
   "source": [
    "p <- ggplot(data=c, aes(x=c)) + \n",
    "    geom_density(color = \"darkorange\",fill='darkorange', alpha=0.2, size = 0.5, bw=1)  + \n",
    "    theme_classic() + \n",
    "    theme(axis.title=element_blank(),\n",
    "         plot.title=element_blank(),\n",
    "         axis.text.y = element_text(size=6),\n",
    "         axis.text.x = element_text(size=6),\n",
    "         axis.ticks = element_line(size=0.25),\n",
    "         axis.line = element_line(size=0.25)) +\n",
    "    xlim(0,25) + ylim(0,0.4) + ggtitle('Gaba1')\n",
    "p"
   ]
  },
  {
   "cell_type": "markdown",
   "metadata": {},
   "source": [
    "#### New DEG enrichment score plot for mor vs nal"
   ]
  },
  {
   "cell_type": "code",
   "execution_count": 22,
   "metadata": {},
   "outputs": [],
   "source": [
    "deg.df<-readRDS(file=\"C:/Users/stuberadmin/Documents/scRNAseq/211119-RS-rv4/Neurons_only_iter2/DEG/Independent_100-restarts/mor_over_nal/deg_count_df_mor_over_nal.rds\")"
   ]
  },
  {
   "cell_type": "code",
   "execution_count": 23,
   "metadata": {},
   "outputs": [
    {
     "data": {
      "text/html": [
       "0.0322014332808074"
      ],
      "text/latex": [
       "0.0322014332808074"
      ],
      "text/markdown": [
       "0.0322014332808074"
      ],
      "text/plain": [
       "[1] 0.03220143"
      ]
     },
     "metadata": {},
     "output_type": "display_data"
    }
   ],
   "source": [
    "#correlation between DEGs and number of cells in each cluster\n",
    "deg <- data.frame(rowMeans(deg.df[,2:101]))\n",
    "\n",
    "freq <- data.frame(table(Idents(LS.integrated)))\n",
    "df <- cbind(freq, deg)\n",
    "colnames(df) <- c('cell_type','Freq','deg')\n",
    "\n",
    "cor(df$Freq, df$deg)"
   ]
  },
  {
   "cell_type": "markdown",
   "metadata": {},
   "source": [
    "Plotting"
   ]
  },
  {
   "cell_type": "code",
   "execution_count": 24,
   "metadata": {},
   "outputs": [],
   "source": [
    "df$variable <- 1"
   ]
  },
  {
   "cell_type": "code",
   "execution_count": 25,
   "metadata": {},
   "outputs": [],
   "source": [
    "df$cell_type <- factor(df$cell_type, levels=c(\"Glu2\",\"Glu1\",\"Gaba12\",\"Gaba10\",\"Gaba5\",\"Gaba3\",\"Gaba11\",\"Gaba6\",\"Gaba7\",\"Gaba4\",\"Gaba1\",\"Gaba2\",\"Gaba8\",\"Gaba9\"))"
   ]
  },
  {
   "cell_type": "code",
   "execution_count": 26,
   "metadata": {
    "scrolled": false
   },
   "outputs": [
    {
     "data": {
      "image/png": "[encoded data removed]",
      "text/plain": [
       "plot without title"
      ]
     },
     "metadata": {
      "image/png": {
       "height": 420,
       "width": 420
      }
     },
     "output_type": "display_data"
    }
   ],
   "source": [
    "ggplot(df, aes(cell_type,variable)) + \n",
    "geom_tile(aes(fill = deg))+ \n",
    "scale_fill_gradient(low = \"black\",high = \"darkorange\",oob=squish)+\n",
    "theme_classic()+\n",
    "    theme(axis.title=element_blank(),\n",
    "          axis.text.y=element_text(size=6,colour = \"black\"),\n",
    "          axis.text.x=element_text(size=6,angle = 50, hjust =1,colour = \"black\"),\n",
    "          axis.line = element_blank(),\n",
    "          axis.ticks = element_line(size=0.25),\n",
    "          legend.key.size = unit(0.4, \"cm\"),\n",
    "          panel.background = element_rect(color = \"black\", size=.25, fill=NA),\n",
    "          legend.title = element_text(size=8),\n",
    "          legend.text = element_text(size=6),\n",
    "          legend.position='bottom')"
   ]
  },
  {
   "cell_type": "markdown",
   "metadata": {},
   "source": [
    "#### Gene correlation with DEG enrichment score"
   ]
  },
  {
   "cell_type": "code",
   "execution_count": 27,
   "metadata": {},
   "outputs": [],
   "source": [
    "normalize <- function(x){\n",
    " (x-min(x)) / (max(x)-min(x))\n",
    "    }"
   ]
  },
  {
   "cell_type": "code",
   "execution_count": 28,
   "metadata": {},
   "outputs": [],
   "source": [
    "deg.df<-readRDS(file=\"C:/Users/stuberadmin/Documents/scRNAseq/211119-RS-rv4/Neurons_only_iter2/DEG/Independent_100-restarts/mor_over_nal/deg_count_df_mor_over_nal.rds\")"
   ]
  },
  {
   "cell_type": "code",
   "execution_count": 29,
   "metadata": {},
   "outputs": [],
   "source": [
    "df.mean <- data.frame(normalize(rowMeans(deg.df[,2:101])))\n",
    "\n",
    "#subsetting the cells that are in the chronic morphine group only\n",
    "#We decided to use this group as a sort of \"baseline\" for the expression that may be predictive for Nal-induced DEG enrichment\n",
    "LS.sub <- subset(LS.integrated, cells = colnames(LS_mor))"
   ]
  },
  {
   "cell_type": "markdown",
   "metadata": {},
   "source": [
    "For oprm1"
   ]
  },
  {
   "cell_type": "code",
   "execution_count": 30,
   "metadata": {},
   "outputs": [],
   "source": [
    "oprm1 <- DotPlot(LS.sub, feature='Oprm1',scale=FALSE)$data$avg.exp\n",
    "oprm1 <- normalize(expm1(oprm1))"
   ]
  },
  {
   "cell_type": "code",
   "execution_count": 31,
   "metadata": {},
   "outputs": [],
   "source": [
    "library(ggpubr)"
   ]
  },
  {
   "cell_type": "code",
   "execution_count": 32,
   "metadata": {},
   "outputs": [
    {
     "data": {
      "text/html": [
       "<table class=\"dataframe\">\n",
       "<caption>A matrix: 1 × 1 of type dbl</caption>\n",
       "<thead>\n",
       "\t<tr><th></th><th scope=col>oprm1</th></tr>\n",
       "</thead>\n",
       "<tbody>\n",
       "\t<tr><th scope=row>normalize.rowMeans.deg.df...2.101...</th><td>-0.06153202</td></tr>\n",
       "</tbody>\n",
       "</table>\n"
      ],
      "text/latex": [
       "A matrix: 1 × 1 of type dbl\n",
       "\\begin{tabular}{r|l}\n",
       "  & oprm1\\\\\n",
       "\\hline\n",
       "\tnormalize.rowMeans.deg.df...2.101... & -0.06153202\\\\\n",
       "\\end{tabular}\n"
      ],
      "text/markdown": [
       "\n",
       "A matrix: 1 × 1 of type dbl\n",
       "\n",
       "| <!--/--> | oprm1 |\n",
       "|---|---|\n",
       "| normalize.rowMeans.deg.df...2.101... | -0.06153202 |\n",
       "\n"
      ],
      "text/plain": [
       "                                     oprm1      \n",
       "normalize.rowMeans.deg.df...2.101... -0.06153202"
      ]
     },
     "metadata": {},
     "output_type": "display_data"
    },
    {
     "name": "stderr",
     "output_type": "stream",
     "text": [
      "`geom_smooth()` using formula 'y ~ x'\n",
      "\n",
      "Saving 6.67 x 6.67 in image\n",
      "\n",
      "`geom_smooth()` using formula 'y ~ x'\n",
      "\n"
     ]
    },
    {
     "data": {
      "image/png": "[encoded data removed]",
      "text/plain": [
       "plot without title"
      ]
     },
     "metadata": {
      "image/png": {
       "height": 420,
       "width": 420
      }
     },
     "output_type": "display_data"
    }
   ],
   "source": [
    "cor.df <- cbind(df.mean, oprm1)\n",
    "#cor.df<-cor.df[-9,] #remove Gaba8\n",
    "cor(cor.df[1], cor.df[2])\n",
    "colnames(cor.df) <- c('deg','exp')\n",
    "\n",
    "ggplot(cor.df, aes(x=exp, y=deg)) +\n",
    "    geom_point(size=0.5) +\n",
    "    theme_classic() +\n",
    "    theme(axis.line = element_blank(), \n",
    "         plot.title=element_blank(),\n",
    "         panel.background = element_rect(colour = \"black\", size=.25, fill=NA),\n",
    "         axis.text = element_text(size=6),\n",
    "         axis.title = element_text(size=6),\n",
    "         axis.ticks = element_line(size=0.25)) +\n",
    "    scale_color_manual(values=c('black','red')) +\n",
    "    NoLegend() +\n",
    "    xlab(\"Average expression\") + \n",
    "    ylab(\"Standardized variance\") +\n",
    "    stat_cor(size=2, label.sep=\", \") +\n",
    "    geom_smooth(method='lm', color=\"red\", fill=\"red\", alpha=0.1, size=0.5)\n",
    "ggsave('oprm1_deg.pdf')"
   ]
  },
  {
   "cell_type": "markdown",
   "metadata": {},
   "source": [
    "For nts"
   ]
  },
  {
   "cell_type": "code",
   "execution_count": 44,
   "metadata": {},
   "outputs": [],
   "source": [
    "nts <- DotPlot(LS.sub, feature='Nts',scale=FALSE)$data$avg.exp\n",
    "nts <- normalize(expm1(nts))"
   ]
  },
  {
   "cell_type": "code",
   "execution_count": 45,
   "metadata": {},
   "outputs": [
    {
     "data": {
      "text/html": [
       "<table class=\"dataframe\">\n",
       "<caption>A matrix: 1 × 1 of type dbl</caption>\n",
       "<thead>\n",
       "\t<tr><th></th><th scope=col>nts</th></tr>\n",
       "</thead>\n",
       "<tbody>\n",
       "\t<tr><th scope=row>normalize.rowMeans.deg.df...2.101...</th><td>0.9901819</td></tr>\n",
       "</tbody>\n",
       "</table>\n"
      ],
      "text/latex": [
       "A matrix: 1 × 1 of type dbl\n",
       "\\begin{tabular}{r|l}\n",
       "  & nts\\\\\n",
       "\\hline\n",
       "\tnormalize.rowMeans.deg.df...2.101... & 0.9901819\\\\\n",
       "\\end{tabular}\n"
      ],
      "text/markdown": [
       "\n",
       "A matrix: 1 × 1 of type dbl\n",
       "\n",
       "| <!--/--> | nts |\n",
       "|---|---|\n",
       "| normalize.rowMeans.deg.df...2.101... | 0.9901819 |\n",
       "\n"
      ],
      "text/plain": [
       "                                     nts      \n",
       "normalize.rowMeans.deg.df...2.101... 0.9901819"
      ]
     },
     "metadata": {},
     "output_type": "display_data"
    },
    {
     "name": "stderr",
     "output_type": "stream",
     "text": [
      "`geom_smooth()` using formula 'y ~ x'\n",
      "\n",
      "Saving 6.67 x 6.67 in image\n",
      "\n",
      "`geom_smooth()` using formula 'y ~ x'\n",
      "\n"
     ]
    },
    {
     "data": {
      "image/png": "[encoded data removed]",
      "text/plain": [
       "plot without title"
      ]
     },
     "metadata": {
      "image/png": {
       "height": 420,
       "width": 420
      }
     },
     "output_type": "display_data"
    }
   ],
   "source": [
    "# for nts\n",
    "cor.df <- cbind(df.mean, nts)\n",
    "#cor.df<-cor.df[-9,] #remove Gaba8\n",
    "cor(cor.df[1], cor.df[2])\n",
    "colnames(cor.df) <- c('deg','exp')\n",
    "\n",
    "ggplot(cor.df, aes(x=exp, y=deg)) +\n",
    "    geom_point(size=0.5) +\n",
    "    theme_classic() +\n",
    "    theme(axis.line = element_blank(), \n",
    "         plot.title=element_blank(),\n",
    "         panel.background = element_rect(colour = \"black\", size=.25, fill=NA),\n",
    "         axis.text = element_text(size=6),\n",
    "         axis.title = element_text(size=6),\n",
    "         axis.ticks = element_line(size=0.25)) +\n",
    "    scale_color_manual(values=c('black','red')) +\n",
    "    NoLegend() +\n",
    "    xlab(\"Average expression\") + \n",
    "    ylab(\"Standardized variance\") +\n",
    "    stat_cor(size=2, label.sep=\", \") +\n",
    "    geom_smooth(method='lm', color=\"red\", fill=\"red\", alpha=0.1, size=0.5)\n",
    "ggsave('nts_deg.pdf')"
   ]
  },
  {
   "cell_type": "code",
   "execution_count": 35,
   "metadata": {},
   "outputs": [
    {
     "data": {
      "text/html": [
       "<table class=\"dataframe\">\n",
       "<caption>A matrix: 1 × 1 of type dbl</caption>\n",
       "<thead>\n",
       "\t<tr><th></th><th scope=col>nts</th></tr>\n",
       "</thead>\n",
       "<tbody>\n",
       "\t<tr><th scope=row>normalize.rowMeans.deg.df...2.101...</th><td>0.8323612</td></tr>\n",
       "</tbody>\n",
       "</table>\n"
      ],
      "text/latex": [
       "A matrix: 1 × 1 of type dbl\n",
       "\\begin{tabular}{r|l}\n",
       "  & nts\\\\\n",
       "\\hline\n",
       "\tnormalize.rowMeans.deg.df...2.101... & 0.8323612\\\\\n",
       "\\end{tabular}\n"
      ],
      "text/markdown": [
       "\n",
       "A matrix: 1 × 1 of type dbl\n",
       "\n",
       "| <!--/--> | nts |\n",
       "|---|---|\n",
       "| normalize.rowMeans.deg.df...2.101... | 0.8323612 |\n",
       "\n"
      ],
      "text/plain": [
       "                                     nts      \n",
       "normalize.rowMeans.deg.df...2.101... 0.8323612"
      ]
     },
     "metadata": {},
     "output_type": "display_data"
    },
    {
     "name": "stderr",
     "output_type": "stream",
     "text": [
      "`geom_smooth()` using formula 'y ~ x'\n",
      "\n",
      "Saving 6.67 x 6.67 in image\n",
      "\n",
      "`geom_smooth()` using formula 'y ~ x'\n",
      "\n"
     ]
    },
    {
     "data": {
      "image/png": "[encoded data removed]",
      "text/plain": [
       "plot without title"
      ]
     },
     "metadata": {
      "image/png": {
       "height": 420,
       "width": 420
      }
     },
     "output_type": "display_data"
    }
   ],
   "source": [
    "# for nts\n",
    "cor.df <- cbind(df.mean, nts)\n",
    "cor.df<-cor.df[-9,] #remove Gaba8\n",
    "cor(cor.df[1], cor.df[2])\n",
    "colnames(cor.df) <- c('deg','exp')\n",
    "\n",
    "ggplot(cor.df, aes(x=exp, y=deg)) +\n",
    "    geom_point(size=0.5) +\n",
    "    theme_classic() +\n",
    "    theme(axis.line = element_blank(), \n",
    "         plot.title=element_blank(),\n",
    "         panel.background = element_rect(colour = \"black\", size=.25, fill=NA),\n",
    "         axis.text = element_text(size=6),\n",
    "         axis.title = element_text(size=6),\n",
    "         axis.ticks = element_line(size=0.25)) +\n",
    "    scale_color_manual(values=c('black','red')) +\n",
    "    NoLegend() +\n",
    "    xlab(\"Average expression\") + \n",
    "    ylab(\"Standardized variance\") +\n",
    "    stat_cor(size=2, label.sep=\", \") +\n",
    "    geom_smooth(method='lm', color=\"red\", fill=\"red\", alpha=0.1, size=0.5)\n",
    "ggsave('nts_deg_nogaba8.pdf')"
   ]
  },
  {
   "cell_type": "code",
   "execution_count": 46,
   "metadata": {},
   "outputs": [
    {
     "data": {
      "text/html": [
       "<table class=\"dataframe\">\n",
       "<caption>A data.frame: 14 × 2</caption>\n",
       "<thead>\n",
       "\t<tr><th scope=col>deg</th><th scope=col>exp</th></tr>\n",
       "\t<tr><th scope=col>&lt;dbl&gt;</th><th scope=col>&lt;dbl&gt;</th></tr>\n",
       "</thead>\n",
       "<tbody>\n",
       "\t<tr><td>0.014466546</td><td>0.008995644</td></tr>\n",
       "\t<tr><td>0.032549729</td><td>0.007520322</td></tr>\n",
       "\t<tr><td>0.009041591</td><td>0.000000000</td></tr>\n",
       "\t<tr><td>0.030741410</td><td>0.004813991</td></tr>\n",
       "\t<tr><td>0.027124774</td><td>0.012573282</td></tr>\n",
       "\t<tr><td>0.061482821</td><td>0.023485087</td></tr>\n",
       "\t<tr><td>0.204339964</td><td>0.113133862</td></tr>\n",
       "\t<tr><td>0.003616637</td><td>0.002038748</td></tr>\n",
       "\t<tr><td>1.000000000</td><td>1.000000000</td></tr>\n",
       "\t<tr><td>0.037974684</td><td>0.014151298</td></tr>\n",
       "\t<tr><td>0.037974684</td><td>0.017841192</td></tr>\n",
       "\t<tr><td>0.128390597</td><td>0.008287357</td></tr>\n",
       "\t<tr><td>0.005424955</td><td>0.003503412</td></tr>\n",
       "\t<tr><td>0.000000000</td><td>0.015511875</td></tr>\n",
       "</tbody>\n",
       "</table>\n"
      ],
      "text/latex": [
       "A data.frame: 14 × 2\n",
       "\\begin{tabular}{ll}\n",
       " deg & exp\\\\\n",
       " <dbl> & <dbl>\\\\\n",
       "\\hline\n",
       "\t 0.014466546 & 0.008995644\\\\\n",
       "\t 0.032549729 & 0.007520322\\\\\n",
       "\t 0.009041591 & 0.000000000\\\\\n",
       "\t 0.030741410 & 0.004813991\\\\\n",
       "\t 0.027124774 & 0.012573282\\\\\n",
       "\t 0.061482821 & 0.023485087\\\\\n",
       "\t 0.204339964 & 0.113133862\\\\\n",
       "\t 0.003616637 & 0.002038748\\\\\n",
       "\t 1.000000000 & 1.000000000\\\\\n",
       "\t 0.037974684 & 0.014151298\\\\\n",
       "\t 0.037974684 & 0.017841192\\\\\n",
       "\t 0.128390597 & 0.008287357\\\\\n",
       "\t 0.005424955 & 0.003503412\\\\\n",
       "\t 0.000000000 & 0.015511875\\\\\n",
       "\\end{tabular}\n"
      ],
      "text/markdown": [
       "\n",
       "A data.frame: 14 × 2\n",
       "\n",
       "| deg &lt;dbl&gt; | exp &lt;dbl&gt; |\n",
       "|---|---|\n",
       "| 0.014466546 | 0.008995644 |\n",
       "| 0.032549729 | 0.007520322 |\n",
       "| 0.009041591 | 0.000000000 |\n",
       "| 0.030741410 | 0.004813991 |\n",
       "| 0.027124774 | 0.012573282 |\n",
       "| 0.061482821 | 0.023485087 |\n",
       "| 0.204339964 | 0.113133862 |\n",
       "| 0.003616637 | 0.002038748 |\n",
       "| 1.000000000 | 1.000000000 |\n",
       "| 0.037974684 | 0.014151298 |\n",
       "| 0.037974684 | 0.017841192 |\n",
       "| 0.128390597 | 0.008287357 |\n",
       "| 0.005424955 | 0.003503412 |\n",
       "| 0.000000000 | 0.015511875 |\n",
       "\n"
      ],
      "text/plain": [
       "   deg         exp        \n",
       "1  0.014466546 0.008995644\n",
       "2  0.032549729 0.007520322\n",
       "3  0.009041591 0.000000000\n",
       "4  0.030741410 0.004813991\n",
       "5  0.027124774 0.012573282\n",
       "6  0.061482821 0.023485087\n",
       "7  0.204339964 0.113133862\n",
       "8  0.003616637 0.002038748\n",
       "9  1.000000000 1.000000000\n",
       "10 0.037974684 0.014151298\n",
       "11 0.037974684 0.017841192\n",
       "12 0.128390597 0.008287357\n",
       "13 0.005424955 0.003503412\n",
       "14 0.000000000 0.015511875"
      ]
     },
     "metadata": {},
     "output_type": "display_data"
    }
   ],
   "source": [
    "cor.df"
   ]
  },
  {
   "cell_type": "markdown",
   "metadata": {},
   "source": [
    "#### Identifying DEGs in Nts+ versus Nts- cells"
   ]
  },
  {
   "cell_type": "code",
   "execution_count": null,
   "metadata": {},
   "outputs": [],
   "source": [
    "#only taking the saline (control) group for this analysis\n",
    "LS.sub <- subset(LS.integrated, cells=colnames(LS_sal))\n",
    "\n",
    "LS.nts <- subset(LS.sub, Nts > 0)\n",
    "LS.other <- subset(LS.sub, Nts == 0)\n",
    "\n",
    "assay.data<-data.frame(GetAssayData(LS.integrated, slot='data'))\n",
    "assay.data <- assay.data[rownames(assay.data) %in% c('Nts','Drd2'),]\n",
    "\n",
    "data.nts <- assay.data[colnames(assay.data) %in% colnames(LS.nts)]\n",
    "data.other <- assay.data[colnames(assay.data) %in% colnames(LS.other)]"
   ]
  },
  {
   "cell_type": "code",
   "execution_count": null,
   "metadata": {},
   "outputs": [],
   "source": [
    "celltype.stim<-numeric()\n",
    "for (i in 1:dim(LS.integrated@meta.data)[1]){\n",
    "    if(colnames(LS.integrated)[i] %in% colnames(LS.nts)){\n",
    "        celltype.stim[i]<-paste(LS.integrated@meta.data$celltype[i],\"_N\")\n",
    "    }else if (colnames(LS.integrated)[i] %in% colnames(LS.other)){\n",
    "        celltype.stim[i]<-paste(LS.integrated@meta.data$celltype[i],\"_O\")\n",
    "    }else{\n",
    "        celltype.stim[i]<-paste(LS.integrated@meta.data$celltype[i],\"_None\")\n",
    "    }\n",
    "}\n",
    "\n",
    "LS.integrated@meta.data$celltype.stim<-celltype.stim\n",
    "\n",
    "LS.integrated[[\"celltype\"]] <- Idents(object = LS.integrated)\n",
    "Idents(LS.integrated = LS.integrated) <- LS.integrated@meta.data$celltype.stim"
   ]
  },
  {
   "cell_type": "code",
   "execution_count": null,
   "metadata": {},
   "outputs": [],
   "source": [
    "one.markers <- FindMarkers(LS.integrated, assay='RNA', slot='data', ident.1 = \" _N\", ident.2 =\" _O\", grouping.var = \"stim\",print.bar = FALSE,logfc.threshold = 0,min.pct = 0,min.cells.gene = 3, min.cells.group = 1)\n",
    "one.markers$p_val_adjust<-one.markers$p_val*(dim(one.markers)[1]:1)\n",
    "sort_marker<-one.markers[order(-one.markers[\"avg_log2FC\"]),]\n",
    "write.xlsx2(subset(sort_marker,avg_log2FC>0.1 & p_val_adjust<0.05 & pct.1>0.01),file=(paste(\"RNA_Nts_genes_up_saline-group-only.xlsx\",sep=\"\")))\n",
    "write.xlsx2(subset(sort_marker,avg_log2FC<0.1 & p_val_adjust<0.05 & pct.1>0.01),file=(paste(\"RNA_Nts_genes_down_saline-group-only.xlsx\",sep=\"\")))"
   ]
  },
  {
   "cell_type": "markdown",
   "metadata": {},
   "source": [
    "#### Plotting molecular markers of NTS+ neurons"
   ]
  },
  {
   "cell_type": "code",
   "execution_count": 36,
   "metadata": {},
   "outputs": [],
   "source": [
    "Nts_conserved<-read.xlsx(\"C:/Users/stuberadmin/Documents/scRNAseq/211119-RS-rv4/Neurons_only_iter2/conserved_markers/Nts_compared_to_neg/RNA_Nts_genes_up.xlsx\",sheetIndex=1)"
   ]
  },
  {
   "cell_type": "code",
   "execution_count": 37,
   "metadata": {},
   "outputs": [
    {
     "data": {
      "text/html": [
       "<style>\n",
       ".list-inline {list-style: none; margin:0; padding: 0}\n",
       ".list-inline>li {display: inline-block}\n",
       ".list-inline>li:not(:last-child)::after {content: \"\\00b7\"; padding: 0 .5ex}\n",
       "</style>\n",
       "<ol class=list-inline><li>3539</li><li>9</li></ol>\n"
      ],
      "text/latex": [
       "\\begin{enumerate*}\n",
       "\\item 3539\n",
       "\\item 9\n",
       "\\end{enumerate*}\n"
      ],
      "text/markdown": [
       "1. 3539\n",
       "2. 9\n",
       "\n",
       "\n"
      ],
      "text/plain": [
       "[1] 3539    9"
      ]
     },
     "metadata": {},
     "output_type": "display_data"
    }
   ],
   "source": [
    "Nts_conserved$pct.change <- Nts_conserved$pct.1 - Nts_conserved$pct.2\n",
    "df_sig <- subset(Nts_conserved, avg_log2FC > 0)\n",
    "\n",
    "highlight <-vector(mode=\"numeric\", length=0)\n",
    "for (i in 1:dim(df_sig)[1]){\n",
    "    if (df_sig$avg_log2FC[i] > 0.1 & df_sig$p_val_adj[i] < 0.05) {highlight[i] <- \"Y\"}\n",
    "    else {highlight[i] <- \"N\"}\n",
    "}\n",
    "df_sig$highlight <-highlight\n",
    "\n",
    "dim(df_sig)\n",
    "\n",
    "df_sig$label <- NA\n",
    "df_sig$label[df_sig$highlight == \"Y\"] <- as.character(df_sig$NA.[df_sig$highlight == \"Y\"])\n",
    "\n",
    "df_sig$label <- NA\n",
    "df_sig$label <- ifelse(df_sig$NA. %in% c('Erbb4','Gria3','Adra1a','Gnal','Lrrk2','Drd2','Grin2a'), df_sig$NA., NA)\n",
    "\n",
    "df_sig <- df_sig[-1,]"
   ]
  },
  {
   "cell_type": "code",
   "execution_count": 38,
   "metadata": {},
   "outputs": [],
   "source": [
    "library(ggrepel)"
   ]
  },
  {
   "cell_type": "code",
   "execution_count": 39,
   "metadata": {},
   "outputs": [
    {
     "name": "stderr",
     "output_type": "stream",
     "text": [
      "Warning message:\n",
      "\"Removed 3531 rows containing missing values (geom_text_repel).\"\n"
     ]
    },
    {
     "data": {
      "image/png": "[encoded data removed]",
      "text/plain": [
       "plot without title"
      ]
     },
     "metadata": {
      "image/png": {
       "height": 420,
       "width": 420
      }
     },
     "output_type": "display_data"
    }
   ],
   "source": [
    "p <- ggplot(df_sig, aes(x=avg_log2FC, y= -log2(p_val_adj), col=highlight, label=label)) +\n",
    "    ggtitle(\"Gaba9_conserved_markers\") +\n",
    "    geom_text_repel(size=1.5, segment.size=0.25, max.overlaps = Inf, box.padding = 3, force=1000, min.segment.length = 1) +\n",
    "    geom_point(size=0.1) + \n",
    "    theme_classic() + \n",
    "    theme(axis.line=element_line(size=0.25),\n",
    "         axis.ticks=element_line(size=0.25),\n",
    "         axis.text=element_text(size=6),\n",
    "         axis.title=element_text(size=6),\n",
    "         axis.text.y=element_text(angle=90, hjust=.5),\n",
    "         plot.title=element_blank())+\n",
    "    geom_vline(xintercept=0.1, col=\"black\", linetype=\"dashed\", size=0.25) +\n",
    "    geom_hline(yintercept=-log(0.05), col=\"black\", linetype=\"dashed\", size=0.25) +\n",
    "    NoLegend()+\n",
    "    scale_color_manual(values=c(\"gray\",\"red\")) +\n",
    "    xlab('Average logFC')+\n",
    "    ylab('-log2(p-value)') \n",
    "p"
   ]
  },
  {
   "cell_type": "markdown",
   "metadata": {},
   "source": [
    "#### Gene ontology for Nts+ enriched genes"
   ]
  },
  {
   "cell_type": "code",
   "execution_count": 40,
   "metadata": {},
   "outputs": [],
   "source": [
    "nts_bp <- read.table(file=\"C:/Users/stuberadmin/Documents/scRNAseq/211119-RS-rV4/Neurons_only_iter2/conserved_markers/Nts_compared_to_neg/GO_Biological_Process_2021_table.txt\", header = TRUE, sep = \"\\t\", quote = \"\\\"\",dec=\".\",fill=TRUE,comment.char=\"\")"
   ]
  },
  {
   "cell_type": "code",
   "execution_count": 41,
   "metadata": {},
   "outputs": [],
   "source": [
    "new.numb <- unlist(apply(nts_bp[2], 1, function(y) sub(\"/.*\",\"\",y)))\n",
    "nts_bp$Overlap <- new.numb\n",
    "\n",
    "terms <- nts_bp[1:10,]$Term\n",
    "nts_bp <- nts_bp[nts_bp$Term %in% (terms),]\n",
    "nts_bp$Term <- factor(nts_bp$Term, levels=rev(terms))"
   ]
  },
  {
   "cell_type": "code",
   "execution_count": 42,
   "metadata": {},
   "outputs": [
    {
     "data": {
      "image/png": "[encoded data removed]",
      "text/plain": [
       "plot without title"
      ]
     },
     "metadata": {
      "image/png": {
       "height": 420,
       "width": 420
      }
     },
     "output_type": "display_data"
    }
   ],
   "source": [
    "p <- ggplot(nts_bp, aes(x = Term, y= Odds.Ratio))+\n",
    "geom_hline(yintercept = 0, linetype=\"dashed\", color = \"azure4\", size=.25)+\n",
    "geom_point (data=nts_bp,aes(x=Term, y=Odds.Ratio, size = as.numeric(-log2(P.value))), alpha=0.8)+\n",
    "geom_bar(stat='identity',width=0.1)+\n",
    "scale_size(range = c(1,3))+\n",
    "scale_x_discrete(limits= terms)+\n",
    "scale_y_continuous(limits=c(0,20))+\n",
    "scale_color_gradient(low=\"green\", high=\"red\",limits=c(0, NA))+\n",
    "coord_flip()+\n",
    "theme_bw()+\n",
    "theme(plot.title = element_text(size=6),\n",
    "    axis.title.y = element_blank(),\n",
    "    axis.title.x = element_text(size=6),\n",
    "    axis.line=element_line(size=0.25),\n",
    "    axis.ticks=element_line(size=0.25),\n",
    "    axis.ticks.length=unit(-0.1, \"cm\"),\n",
    "    axis.text.x = element_text(margin=margin(5,5,0,5,\"pt\"), size=6),\n",
    "    axis.text.y = element_text(margin=margin(5,5,5,5,\"pt\"), size=6),\n",
    "    axis.text = element_text(color = \"black\", size=6),\n",
    "    panel.grid.minor = element_blank(),\n",
    "    legend.position='bottomleft')+\n",
    "    theme(legend.title = element_text(size = 8),\n",
    "    legend.text = element_text(size = 6), \n",
    "    axis.ticks = element_line(colour = \"black\", size = .25),\n",
    "     legend.position='bottom')+\n",
    "ylab(\"Odds Ratio\")+\n",
    "ggtitle('Top 500 PC1 loading variables (DEGs)') +\n",
    "labs(size=\"-log2(p-value)\")\n",
    "p"
   ]
  }
 ],
 "metadata": {
  "kernelspec": {
   "display_name": "R",
   "language": "R",
   "name": "ir"
  },
  "language_info": {
   "codemirror_mode": "r",
   "file_extension": ".r",
   "mimetype": "text/x-r-source",
   "name": "R",
   "pygments_lexer": "r",
   "version": "4.1.2"
  }
 },
 "nbformat": 4,
 "nbformat_minor": 2
}
