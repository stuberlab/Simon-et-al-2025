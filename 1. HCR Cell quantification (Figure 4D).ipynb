{
 "cells": [
  {
   "cell_type": "markdown",
   "metadata": {},
   "source": [
    "## HCR Cell quantification"
   ]
  },
  {
   "cell_type": "markdown",
   "metadata": {},
   "source": [
    "This notebook details how to generate a disc plot of gene expression and cell density throughout the LS"
   ]
  },
  {
   "cell_type": "markdown",
   "metadata": {},
   "source": [
    "#### Import libraries"
   ]
  },
  {
   "cell_type": "code",
   "execution_count": 1,
   "metadata": {
    "scrolled": true
   },
   "outputs": [
    {
     "name": "stderr",
     "output_type": "stream",
     "text": [
      "-- \u001b[1mAttaching packages\u001b[22m ------------------------------------------------------------------------------- tidyverse 1.3.1 --\n",
      "\n",
      "\u001b[32mv\u001b[39m \u001b[34mggplot2\u001b[39m 3.3.5     \u001b[32mv\u001b[39m \u001b[34mpurrr  \u001b[39m 0.3.4\n",
      "\u001b[32mv\u001b[39m \u001b[34mtibble \u001b[39m 3.1.6     \u001b[32mv\u001b[39m \u001b[34mdplyr  \u001b[39m 1.0.7\n",
      "\u001b[32mv\u001b[39m \u001b[34mtidyr  \u001b[39m 1.1.4     \u001b[32mv\u001b[39m \u001b[34mstringr\u001b[39m 1.4.0\n",
      "\u001b[32mv\u001b[39m \u001b[34mreadr  \u001b[39m 2.1.1     \u001b[32mv\u001b[39m \u001b[34mforcats\u001b[39m 0.5.1\n",
      "\n",
      "-- \u001b[1mConflicts\u001b[22m ---------------------------------------------------------------------------------- tidyverse_conflicts() --\n",
      "\u001b[31mx\u001b[39m \u001b[34mdplyr\u001b[39m::\u001b[32mcombine()\u001b[39m masks \u001b[34mgridExtra\u001b[39m::combine()\n",
      "\u001b[31mx\u001b[39m \u001b[34mdplyr\u001b[39m::\u001b[32mfilter()\u001b[39m  masks \u001b[34mstats\u001b[39m::filter()\n",
      "\u001b[31mx\u001b[39m \u001b[34mdplyr\u001b[39m::\u001b[32mlag()\u001b[39m     masks \u001b[34mstats\u001b[39m::lag()\n",
      "\n",
      "\n",
      "Attaching package: 'plotly'\n",
      "\n",
      "\n",
      "The following object is masked from 'package:ggplot2':\n",
      "\n",
      "    last_plot\n",
      "\n",
      "\n",
      "The following object is masked from 'package:stats':\n",
      "\n",
      "    filter\n",
      "\n",
      "\n",
      "The following object is masked from 'package:graphics':\n",
      "\n",
      "    layout\n",
      "\n",
      "\n"
     ]
    }
   ],
   "source": [
    "library(cowplot)\n",
    "library(reshape2)\n",
    "library(gridExtra)\n",
    "library(tidyverse)\n",
    "library(dplyr)\n",
    "library(ggplot2)\n",
    "library(plotly)\n",
    "library(dplyr)"
   ]
  },
  {
   "cell_type": "markdown",
   "metadata": {},
   "source": [
    "#### Quantifying gene expression"
   ]
  },
  {
   "cell_type": "markdown",
   "metadata": {},
   "source": [
    "HCR probes are technically optimized to be resolvable at 20x, but due to the size of the septum, we imaged it at 10x. To assess gene expression, we decided to rely on signal intensity rather than spot counts, but spot counts were first used to determine whether a given cell should be considered postiive for each gene."
   ]
  },
  {
   "cell_type": "code",
   "execution_count": 2,
   "metadata": {},
   "outputs": [],
   "source": [
    "#read in data\n",
    "#data include all cells, from all animals in the study\n",
    "WT.bind <- readRDS(\"HCR_files/spot_counts.rds\")"
   ]
  },
  {
   "cell_type": "code",
   "execution_count": 3,
   "metadata": {},
   "outputs": [],
   "source": [
    "#subset spot data from large dataframe\n",
    "grab.spots<-colnames(WT.bind[grep('.Copies',colnames(WT.bind))])\n",
    "WT.spots <- WT.bind[grab.spots]\n",
    "rownames(WT.spots) <- WT.bind$barcode"
   ]
  },
  {
   "cell_type": "code",
   "execution_count": 4,
   "metadata": {},
   "outputs": [],
   "source": [
    "#if cell has gene expression lower than 5 spots, consider it negative\n",
    "WT.spots[WT.spots < 5] <- 0\n",
    "WT.spots[WT.spots == 0] <- NA"
   ]
  },
  {
   "cell_type": "markdown",
   "metadata": {},
   "source": [
    "Now looking at cell intensity as a metric for gene expression for only the cells that are considered positive for each gene"
   ]
  },
  {
   "cell_type": "code",
   "execution_count": 5,
   "metadata": {},
   "outputs": [],
   "source": [
    "int <- readRDS(file='HCR_files/cell_intensity.rds')"
   ]
  },
  {
   "cell_type": "code",
   "execution_count": 6,
   "metadata": {},
   "outputs": [],
   "source": [
    "colnames(int) <- gsub(\".Cell.Intensity\", \"\", colnames(int))\n",
    "rownames(int) <- int$barcode\n",
    "int$barcode <- NULL"
   ]
  },
  {
   "cell_type": "code",
   "execution_count": 7,
   "metadata": {},
   "outputs": [
    {
     "data": {
      "text/html": [
       "<style>\n",
       ".list-inline {list-style: none; margin:0; padding: 0}\n",
       ".list-inline>li {display: inline-block}\n",
       ".list-inline>li:not(:last-child)::after {content: \"\\00b7\"; padding: 0 .5ex}\n",
       "</style>\n",
       "<ol class=list-inline><li>237684</li><li>15</li></ol>\n"
      ],
      "text/latex": [
       "\\begin{enumerate*}\n",
       "\\item 237684\n",
       "\\item 15\n",
       "\\end{enumerate*}\n"
      ],
      "text/markdown": [
       "1. 237684\n",
       "2. 15\n",
       "\n",
       "\n"
      ],
      "text/plain": [
       "[1] 237684     15"
      ]
     },
     "metadata": {},
     "output_type": "display_data"
    }
   ],
   "source": [
    "WT.spots.mask <- WT.spots == 0\n",
    "dim(WT.spots.mask)"
   ]
  },
  {
   "cell_type": "code",
   "execution_count": 8,
   "metadata": {},
   "outputs": [
    {
     "data": {
      "text/html": [
       "<style>\n",
       ".dl-inline {width: auto; margin:0; padding: 0}\n",
       ".dl-inline>dt, .dl-inline>dd {float: none; width: auto; display: inline-block}\n",
       ".dl-inline>dt::after {content: \":\\0020\"; padding-right: .5ex}\n",
       ".dl-inline>dt:not(:first-of-type) {padding-left: .5ex}\n",
       "</style><dl class=dl-inline><dt>drd2</dt><dd>0.345160143993706</dd><dt>drd3</dt><dd>0.221874551181401</dd><dt>sst</dt><dd>0.315775570429646</dd><dt>tacr1</dt><dd>0.565951887316774</dd><dt>esr1</dt><dd>0.0743426797554737</dd><dt>foxp2</dt><dd>1.30659197278319</dd><dt>vglut2</dt><dd>0.345561272311136</dd><dt>pax6</dt><dd>0.0593106281365174</dd><dt>nts</dt><dd>0.385933228471416</dd><dt>crhr2</dt><dd>0.726223864092661</dd><dt>met</dt><dd>0.594002689183959</dd><dt>col15a1</dt><dd>0.128582351054341</dd><dt>samd3</dt><dd>0.0399342709185305</dd><dt>vgat</dt><dd>0.0102634578600158</dd><dt>onecut2</dt><dd>0.0256893421980445</dd></dl>\n"
      ],
      "text/latex": [
       "\\begin{description*}\n",
       "\\item[drd2] 0.345160143993706\n",
       "\\item[drd3] 0.221874551181401\n",
       "\\item[sst] 0.315775570429646\n",
       "\\item[tacr1] 0.565951887316774\n",
       "\\item[esr1] 0.0743426797554737\n",
       "\\item[foxp2] 1.30659197278319\n",
       "\\item[vglut2] 0.345561272311136\n",
       "\\item[pax6] 0.0593106281365174\n",
       "\\item[nts] 0.385933228471416\n",
       "\\item[crhr2] 0.726223864092661\n",
       "\\item[met] 0.594002689183959\n",
       "\\item[col15a1] 0.128582351054341\n",
       "\\item[samd3] 0.0399342709185305\n",
       "\\item[vgat] 0.0102634578600158\n",
       "\\item[onecut2] 0.0256893421980445\n",
       "\\end{description*}\n"
      ],
      "text/markdown": [
       "drd2\n",
       ":   0.345160143993706drd3\n",
       ":   0.221874551181401sst\n",
       ":   0.315775570429646tacr1\n",
       ":   0.565951887316774esr1\n",
       ":   0.0743426797554737foxp2\n",
       ":   1.30659197278319vglut2\n",
       ":   0.345561272311136pax6\n",
       ":   0.0593106281365174nts\n",
       ":   0.385933228471416crhr2\n",
       ":   0.726223864092661met\n",
       ":   0.594002689183959col15a1\n",
       ":   0.128582351054341samd3\n",
       ":   0.0399342709185305vgat\n",
       ":   0.0102634578600158onecut2\n",
       ":   0.0256893421980445\n",
       "\n"
      ],
      "text/plain": [
       "      drd2       drd3        sst      tacr1       esr1      foxp2     vglut2 \n",
       "0.34516014 0.22187455 0.31577557 0.56595189 0.07434268 1.30659197 0.34556127 \n",
       "      pax6        nts      crhr2        met    col15a1      samd3       vgat \n",
       "0.05931063 0.38593323 0.72622386 0.59400269 0.12858235 0.03993427 0.01026346 \n",
       "   onecut2 \n",
       "0.02568934 "
      ]
     },
     "metadata": {},
     "output_type": "display_data"
    }
   ],
   "source": [
    "int.masked <- replace(int, !WT.spots.mask, 0)\n",
    "colMeans(int.masked)"
   ]
  },
  {
   "cell_type": "code",
   "execution_count": 9,
   "metadata": {},
   "outputs": [],
   "source": [
    "int.masked[int.masked==0] <- NA"
   ]
  },
  {
   "cell_type": "markdown",
   "metadata": {},
   "source": [
    "Tedious way of splitting the data up by animal and section. Animal IDs range from WT-1 to WT-8. S2-6 refers to section order."
   ]
  },
  {
   "cell_type": "code",
   "execution_count": 10,
   "metadata": {},
   "outputs": [],
   "source": [
    "WT1S2 <- int.masked[grep(\"WT-1-S2\",rownames(int.masked)),]\n",
    "WT1S3 <- int.masked[grep(\"WT-1-S3\",rownames(int.masked)),]\n",
    "WT1S4 <- int.masked[grep(\"WT-1-S4\",rownames(int.masked)),]\n",
    "WT1S5 <- int.masked[grep(\"WT-1-S5\",rownames(int.masked)),]"
   ]
  },
  {
   "cell_type": "code",
   "execution_count": 11,
   "metadata": {},
   "outputs": [],
   "source": [
    "WT2S2 <- int.masked[grep(\"WT-2-S2\",rownames(int.masked)),]\n",
    "WT2S3 <- int.masked[grep(\"WT-2-S3\",rownames(int.masked)),]\n",
    "WT2S4 <- int.masked[grep(\"WT-2-S4\",rownames(int.masked)),]\n",
    "WT2S5 <- int.masked[grep(\"WT-2-S6\",rownames(int.masked)),]"
   ]
  },
  {
   "cell_type": "code",
   "execution_count": 12,
   "metadata": {},
   "outputs": [],
   "source": [
    "WT3S2 <- int.masked[grep(\"WT-3-S2\",rownames(int.masked)),]\n",
    "WT3S3 <- int.masked[grep(\"WT-3-S4\",rownames(int.masked)),]\n",
    "WT3S4 <- int.masked[grep(\"WT-3-S5\",rownames(int.masked)),]\n",
    "WT3S5 <- int.masked[grep(\"WT-3-S6\",rownames(int.masked)),]"
   ]
  },
  {
   "cell_type": "code",
   "execution_count": 13,
   "metadata": {},
   "outputs": [],
   "source": [
    "WT4S2 <- int.masked[grep(\"WT-4-S3\",rownames(int.masked)),]\n",
    "WT4S3 <- int.masked[grep(\"WT-4-S4\",rownames(int.masked)),]\n",
    "WT4S4 <- int.masked[grep(\"WT-4-S5\",rownames(int.masked)),]"
   ]
  },
  {
   "cell_type": "code",
   "execution_count": 14,
   "metadata": {},
   "outputs": [],
   "source": [
    "WT5S3 <- int.masked[grep(\"WT-5-S3\",rownames(int.masked)),]\n",
    "WT5S4 <- int.masked[grep(\"WT-5-S4\",rownames(int.masked)),]\n",
    "WT5S5 <- int.masked[grep(\"WT-5-S6\",rownames(int.masked)),]"
   ]
  },
  {
   "cell_type": "code",
   "execution_count": 15,
   "metadata": {},
   "outputs": [],
   "source": [
    "WT6S2 <- int.masked[grep(\"WT-6-S2\",rownames(int.masked)),]\n",
    "WT6S3 <- int.masked[grep(\"WT-6-S3\",rownames(int.masked)),]\n",
    "WT6S4 <- int.masked[grep(\"WT-6-S4\",rownames(int.masked)),]\n",
    "WT6S5 <- int.masked[grep(\"WT-6-S5\",rownames(int.masked)),]"
   ]
  },
  {
   "cell_type": "code",
   "execution_count": 16,
   "metadata": {},
   "outputs": [],
   "source": [
    "WT7S3 <- int.masked[grep(\"WT-7-S3\",rownames(int.masked)),]\n",
    "WT7S4 <- int.masked[grep(\"WT-7-S4\",rownames(int.masked)),]\n",
    "WT7S5 <- int.masked[grep(\"WT-7-S6\",rownames(int.masked)),]"
   ]
  },
  {
   "cell_type": "code",
   "execution_count": 17,
   "metadata": {},
   "outputs": [],
   "source": [
    "WT8S2 <- int.masked[grep(\"WT-8-S2\",rownames(int.masked)),]\n",
    "WT8S3 <- int.masked[grep(\"WT-8-S3\",rownames(int.masked)),]\n",
    "WT8S4 <- int.masked[grep(\"WT-8-S4\",rownames(int.masked)),]\n",
    "WT8S5 <- int.masked[grep(\"WT-8-S6\",rownames(int.masked)),]"
   ]
  },
  {
   "cell_type": "markdown",
   "metadata": {},
   "source": [
    "Summarize mean intensity over each animal and section"
   ]
  },
  {
   "cell_type": "code",
   "execution_count": 18,
   "metadata": {},
   "outputs": [],
   "source": [
    "WT1S2 <- summarize_if(WT1S2, is.numeric, mean, na.rm = TRUE)\n",
    "WT1S3 <- summarize_if(WT1S3, is.numeric, mean, na.rm = TRUE)\n",
    "WT1S4 <- summarize_if(WT1S4, is.numeric, mean, na.rm = TRUE)\n",
    "WT1S5 <- summarize_if(WT1S5, is.numeric, mean, na.rm = TRUE)\n",
    "\n",
    "WT2S2 <- summarize_if(WT2S2, is.numeric, mean, na.rm = TRUE)\n",
    "WT2S3 <- summarize_if(WT2S3, is.numeric, mean, na.rm = TRUE)\n",
    "WT2S4 <- summarize_if(WT2S4, is.numeric, mean, na.rm = TRUE)\n",
    "WT2S5 <- summarize_if(WT2S5, is.numeric, mean, na.rm = TRUE)\n",
    "\n",
    "WT3S2 <- summarize_if(WT3S2, is.numeric, mean, na.rm = TRUE)\n",
    "WT3S3 <- summarize_if(WT3S3, is.numeric, mean, na.rm = TRUE)\n",
    "WT3S4 <- summarize_if(WT3S4, is.numeric, mean, na.rm = TRUE)\n",
    "WT3S5 <- summarize_if(WT3S5, is.numeric, mean, na.rm = TRUE)\n",
    "\n",
    "WT4S2 <- summarize_if(WT4S2, is.numeric, mean, na.rm = TRUE)\n",
    "WT4S3 <- summarize_if(WT4S3, is.numeric, mean, na.rm = TRUE)\n",
    "WT4S4 <- summarize_if(WT4S4, is.numeric, mean, na.rm = TRUE)\n",
    "\n",
    "WT5S2 <- summarize_if(WT5S3, is.numeric, mean, na.rm = TRUE)\n",
    "WT5S3 <- summarize_if(WT5S3, is.numeric, mean, na.rm = TRUE)\n",
    "WT5S5 <- summarize_if(WT5S5, is.numeric, mean, na.rm = TRUE)\n",
    "\n",
    "WT6S2 <- summarize_if(WT6S2, is.numeric, mean, na.rm = TRUE)\n",
    "WT6S3 <- summarize_if(WT6S3, is.numeric, mean, na.rm = TRUE)\n",
    "WT6S4 <- summarize_if(WT6S4, is.numeric, mean, na.rm = TRUE)\n",
    "WT6S5 <- summarize_if(WT6S5, is.numeric, mean, na.rm = TRUE)\n",
    "\n",
    "WT7S3 <- summarize_if(WT7S3, is.numeric, mean, na.rm = TRUE)\n",
    "WT7S4 <- summarize_if(WT7S4, is.numeric, mean, na.rm = TRUE)\n",
    "WT7S5 <- summarize_if(WT7S5, is.numeric, mean, na.rm = TRUE)\n",
    "\n",
    "WT8S2 <- summarize_if(WT8S2, is.numeric, mean, na.rm = TRUE)\n",
    "WT8S3 <- summarize_if(WT8S3, is.numeric, mean, na.rm = TRUE)\n",
    "WT8S4 <- summarize_if(WT8S4, is.numeric, mean, na.rm = TRUE)\n",
    "WT8S5 <- summarize_if(WT8S5, is.numeric, mean, na.rm = TRUE)"
   ]
  },
  {
   "cell_type": "markdown",
   "metadata": {},
   "source": [
    "Combine into dataframes for each section/coordinate"
   ]
  },
  {
   "cell_type": "code",
   "execution_count": 19,
   "metadata": {},
   "outputs": [],
   "source": [
    "S1 <- rbind(WT1S2, WT2S2, WT3S2, WT4S2, WT5S2, WT6S2, WT8S2)\n",
    "S2 <- rbind(WT1S3, WT2S3, WT3S3, WT4S3, WT5S3, WT6S3, WT7S3, WT8S3)\n",
    "S3 <- rbind(WT1S4, WT2S4, WT3S4, WT4S4, WT6S4, WT8S4)\n",
    "S4 <- rbind(WT1S5, WT2S5, WT3S5, WT5S5, WT6S5, WT8S5)"
   ]
  },
  {
   "cell_type": "code",
   "execution_count": 20,
   "metadata": {},
   "outputs": [],
   "source": [
    "S1<-colMeans(S1, na.rm=TRUE)\n",
    "S1[is.na(S1)] <- 0\n",
    "S2<-colMeans(S2, na.rm=TRUE)\n",
    "S2[is.na(S2)] <- 0\n",
    "S3<-colMeans(S3, na.rm=TRUE)\n",
    "S3[is.na(S3)] <- 0\n",
    "S4<-colMeans(S4, na.rm=TRUE)\n",
    "S4[is.na(S4)] <- 0"
   ]
  },
  {
   "cell_type": "code",
   "execution_count": 21,
   "metadata": {},
   "outputs": [],
   "source": [
    "#big dataframe\n",
    "total <- data.frame(S1, S2, S3, S4)\n",
    "colnames(total) <- c('+1.0',\"+0.8\",\"+0.4\",\"+0.1\")\n",
    "rownames(total) <- gsub('.Copies','',rownames(total))"
   ]
  },
  {
   "cell_type": "code",
   "execution_count": 22,
   "metadata": {},
   "outputs": [],
   "source": [
    "normalize  <- function(x){\n",
    "  (x - min(x)) / (max(x) - min(x))\n",
    "}"
   ]
  },
  {
   "cell_type": "code",
   "execution_count": 23,
   "metadata": {
    "scrolled": true
   },
   "outputs": [],
   "source": [
    "total <- apply(total, 1, normalize)\n",
    "#rownames(total) <- colnames(total)\n",
    "\n",
    "#total<- data.frame(t(total))"
   ]
  },
  {
   "cell_type": "code",
   "execution_count": 24,
   "metadata": {},
   "outputs": [
    {
     "data": {
      "text/html": [
       "<table class=\"dataframe\">\n",
       "<caption>A data.frame: 15 × 4</caption>\n",
       "<thead>\n",
       "\t<tr><th></th><th scope=col>+1.0</th><th scope=col>+0.8</th><th scope=col>+0.4</th><th scope=col>+0.1</th></tr>\n",
       "\t<tr><th></th><th scope=col>&lt;dbl&gt;</th><th scope=col>&lt;dbl&gt;</th><th scope=col>&lt;dbl&gt;</th><th scope=col>&lt;dbl&gt;</th></tr>\n",
       "</thead>\n",
       "<tbody>\n",
       "\t<tr><th scope=row>drd2</th><td>0.5500621</td><td>0.0000000</td><td>1.0000000</td><td>0.07483475</td></tr>\n",
       "\t<tr><th scope=row>drd3</th><td>0.6386330</td><td>0.8105213</td><td>1.0000000</td><td>0.00000000</td></tr>\n",
       "\t<tr><th scope=row>sst</th><td>1.0000000</td><td>0.7571164</td><td>0.4796196</td><td>0.00000000</td></tr>\n",
       "\t<tr><th scope=row>tacr1</th><td>0.6494098</td><td>0.7119190</td><td>1.0000000</td><td>0.00000000</td></tr>\n",
       "\t<tr><th scope=row>esr1</th><td>0.7510710</td><td>0.3064018</td><td>1.0000000</td><td>0.00000000</td></tr>\n",
       "\t<tr><th scope=row>foxp2</th><td>1.0000000</td><td>0.0000000</td><td>0.2616131</td><td>0.09886735</td></tr>\n",
       "\t<tr><th scope=row>vglut2</th><td>0.3311879</td><td>1.0000000</td><td>0.0000000</td><td>0.65611463</td></tr>\n",
       "\t<tr><th scope=row>pax6</th><td>0.3646802</td><td>1.0000000</td><td>0.3016233</td><td>0.00000000</td></tr>\n",
       "\t<tr><th scope=row>nts</th><td>0.7242598</td><td>1.0000000</td><td>0.5358046</td><td>0.00000000</td></tr>\n",
       "\t<tr><th scope=row>crhr2</th><td>0.5446237</td><td>0.4727951</td><td>1.0000000</td><td>0.00000000</td></tr>\n",
       "\t<tr><th scope=row>met</th><td>0.2851112</td><td>0.0000000</td><td>0.2431363</td><td>1.00000000</td></tr>\n",
       "\t<tr><th scope=row>col15a1</th><td>1.0000000</td><td>0.5628417</td><td>0.8260122</td><td>0.00000000</td></tr>\n",
       "\t<tr><th scope=row>samd3</th><td>0.9935374</td><td>1.0000000</td><td>0.0000000</td><td>0.49517605</td></tr>\n",
       "\t<tr><th scope=row>vgat</th><td>1.0000000</td><td>0.8680014</td><td>0.4891269</td><td>0.00000000</td></tr>\n",
       "\t<tr><th scope=row>onecut2</th><td>0.8668245</td><td>0.8668245</td><td>0.0000000</td><td>1.00000000</td></tr>\n",
       "</tbody>\n",
       "</table>\n"
      ],
      "text/latex": [
       "A data.frame: 15 × 4\n",
       "\\begin{tabular}{r|llll}\n",
       "  & +1.0 & +0.8 & +0.4 & +0.1\\\\\n",
       "  & <dbl> & <dbl> & <dbl> & <dbl>\\\\\n",
       "\\hline\n",
       "\tdrd2 & 0.5500621 & 0.0000000 & 1.0000000 & 0.07483475\\\\\n",
       "\tdrd3 & 0.6386330 & 0.8105213 & 1.0000000 & 0.00000000\\\\\n",
       "\tsst & 1.0000000 & 0.7571164 & 0.4796196 & 0.00000000\\\\\n",
       "\ttacr1 & 0.6494098 & 0.7119190 & 1.0000000 & 0.00000000\\\\\n",
       "\tesr1 & 0.7510710 & 0.3064018 & 1.0000000 & 0.00000000\\\\\n",
       "\tfoxp2 & 1.0000000 & 0.0000000 & 0.2616131 & 0.09886735\\\\\n",
       "\tvglut2 & 0.3311879 & 1.0000000 & 0.0000000 & 0.65611463\\\\\n",
       "\tpax6 & 0.3646802 & 1.0000000 & 0.3016233 & 0.00000000\\\\\n",
       "\tnts & 0.7242598 & 1.0000000 & 0.5358046 & 0.00000000\\\\\n",
       "\tcrhr2 & 0.5446237 & 0.4727951 & 1.0000000 & 0.00000000\\\\\n",
       "\tmet & 0.2851112 & 0.0000000 & 0.2431363 & 1.00000000\\\\\n",
       "\tcol15a1 & 1.0000000 & 0.5628417 & 0.8260122 & 0.00000000\\\\\n",
       "\tsamd3 & 0.9935374 & 1.0000000 & 0.0000000 & 0.49517605\\\\\n",
       "\tvgat & 1.0000000 & 0.8680014 & 0.4891269 & 0.00000000\\\\\n",
       "\tonecut2 & 0.8668245 & 0.8668245 & 0.0000000 & 1.00000000\\\\\n",
       "\\end{tabular}\n"
      ],
      "text/markdown": [
       "\n",
       "A data.frame: 15 × 4\n",
       "\n",
       "| <!--/--> | +1.0 &lt;dbl&gt; | +0.8 &lt;dbl&gt; | +0.4 &lt;dbl&gt; | +0.1 &lt;dbl&gt; |\n",
       "|---|---|---|---|---|\n",
       "| drd2 | 0.5500621 | 0.0000000 | 1.0000000 | 0.07483475 |\n",
       "| drd3 | 0.6386330 | 0.8105213 | 1.0000000 | 0.00000000 |\n",
       "| sst | 1.0000000 | 0.7571164 | 0.4796196 | 0.00000000 |\n",
       "| tacr1 | 0.6494098 | 0.7119190 | 1.0000000 | 0.00000000 |\n",
       "| esr1 | 0.7510710 | 0.3064018 | 1.0000000 | 0.00000000 |\n",
       "| foxp2 | 1.0000000 | 0.0000000 | 0.2616131 | 0.09886735 |\n",
       "| vglut2 | 0.3311879 | 1.0000000 | 0.0000000 | 0.65611463 |\n",
       "| pax6 | 0.3646802 | 1.0000000 | 0.3016233 | 0.00000000 |\n",
       "| nts | 0.7242598 | 1.0000000 | 0.5358046 | 0.00000000 |\n",
       "| crhr2 | 0.5446237 | 0.4727951 | 1.0000000 | 0.00000000 |\n",
       "| met | 0.2851112 | 0.0000000 | 0.2431363 | 1.00000000 |\n",
       "| col15a1 | 1.0000000 | 0.5628417 | 0.8260122 | 0.00000000 |\n",
       "| samd3 | 0.9935374 | 1.0000000 | 0.0000000 | 0.49517605 |\n",
       "| vgat | 1.0000000 | 0.8680014 | 0.4891269 | 0.00000000 |\n",
       "| onecut2 | 0.8668245 | 0.8668245 | 0.0000000 | 1.00000000 |\n",
       "\n"
      ],
      "text/plain": [
       "        +1.0      +0.8      +0.4      +0.1      \n",
       "drd2    0.5500621 0.0000000 1.0000000 0.07483475\n",
       "drd3    0.6386330 0.8105213 1.0000000 0.00000000\n",
       "sst     1.0000000 0.7571164 0.4796196 0.00000000\n",
       "tacr1   0.6494098 0.7119190 1.0000000 0.00000000\n",
       "esr1    0.7510710 0.3064018 1.0000000 0.00000000\n",
       "foxp2   1.0000000 0.0000000 0.2616131 0.09886735\n",
       "vglut2  0.3311879 1.0000000 0.0000000 0.65611463\n",
       "pax6    0.3646802 1.0000000 0.3016233 0.00000000\n",
       "nts     0.7242598 1.0000000 0.5358046 0.00000000\n",
       "crhr2   0.5446237 0.4727951 1.0000000 0.00000000\n",
       "met     0.2851112 0.0000000 0.2431363 1.00000000\n",
       "col15a1 1.0000000 0.5628417 0.8260122 0.00000000\n",
       "samd3   0.9935374 1.0000000 0.0000000 0.49517605\n",
       "vgat    1.0000000 0.8680014 0.4891269 0.00000000\n",
       "onecut2 0.8668245 0.8668245 0.0000000 1.00000000"
      ]
     },
     "metadata": {},
     "output_type": "display_data"
    }
   ],
   "source": [
    "total <- data.frame(t(total))\n",
    "colnames(total) <- c('+1.0',\"+0.8\",\"+0.4\",\"+0.1\")\n",
    "total"
   ]
  },
  {
   "cell_type": "code",
   "execution_count": 25,
   "metadata": {},
   "outputs": [
    {
     "data": {
      "text/html": [
       "<table class=\"dataframe\">\n",
       "<caption>A data.frame: 15 × 6</caption>\n",
       "<thead>\n",
       "\t<tr><th></th><th scope=col>+1.0</th><th scope=col>+0.8</th><th scope=col>+0.4</th><th scope=col>+0.1</th><th scope=col>gene</th><th scope=col>section</th></tr>\n",
       "\t<tr><th></th><th scope=col>&lt;dbl&gt;</th><th scope=col>&lt;dbl&gt;</th><th scope=col>&lt;dbl&gt;</th><th scope=col>&lt;dbl&gt;</th><th scope=col>&lt;chr&gt;</th><th scope=col>&lt;chr&gt;</th></tr>\n",
       "</thead>\n",
       "<tbody>\n",
       "\t<tr><th scope=row>drd2</th><td>0.5500621</td><td>0.0000000</td><td>1.0000000</td><td>0.07483475</td><td>drd2   </td><td>+1.0</td></tr>\n",
       "\t<tr><th scope=row>drd3</th><td>0.6386330</td><td>0.8105213</td><td>1.0000000</td><td>0.00000000</td><td>drd3   </td><td>+0.8</td></tr>\n",
       "\t<tr><th scope=row>sst</th><td>1.0000000</td><td>0.7571164</td><td>0.4796196</td><td>0.00000000</td><td>sst    </td><td>+0.4</td></tr>\n",
       "\t<tr><th scope=row>tacr1</th><td>0.6494098</td><td>0.7119190</td><td>1.0000000</td><td>0.00000000</td><td>tacr1  </td><td>+0.1</td></tr>\n",
       "\t<tr><th scope=row>esr1</th><td>0.7510710</td><td>0.3064018</td><td>1.0000000</td><td>0.00000000</td><td>esr1   </td><td>gene</td></tr>\n",
       "\t<tr><th scope=row>foxp2</th><td>1.0000000</td><td>0.0000000</td><td>0.2616131</td><td>0.09886735</td><td>foxp2  </td><td>+1.0</td></tr>\n",
       "\t<tr><th scope=row>vglut2</th><td>0.3311879</td><td>1.0000000</td><td>0.0000000</td><td>0.65611463</td><td>vglut2 </td><td>+0.8</td></tr>\n",
       "\t<tr><th scope=row>pax6</th><td>0.3646802</td><td>1.0000000</td><td>0.3016233</td><td>0.00000000</td><td>pax6   </td><td>+0.4</td></tr>\n",
       "\t<tr><th scope=row>nts</th><td>0.7242598</td><td>1.0000000</td><td>0.5358046</td><td>0.00000000</td><td>nts    </td><td>+0.1</td></tr>\n",
       "\t<tr><th scope=row>crhr2</th><td>0.5446237</td><td>0.4727951</td><td>1.0000000</td><td>0.00000000</td><td>crhr2  </td><td>gene</td></tr>\n",
       "\t<tr><th scope=row>met</th><td>0.2851112</td><td>0.0000000</td><td>0.2431363</td><td>1.00000000</td><td>met    </td><td>+1.0</td></tr>\n",
       "\t<tr><th scope=row>col15a1</th><td>1.0000000</td><td>0.5628417</td><td>0.8260122</td><td>0.00000000</td><td>col15a1</td><td>+0.8</td></tr>\n",
       "\t<tr><th scope=row>samd3</th><td>0.9935374</td><td>1.0000000</td><td>0.0000000</td><td>0.49517605</td><td>samd3  </td><td>+0.4</td></tr>\n",
       "\t<tr><th scope=row>vgat</th><td>1.0000000</td><td>0.8680014</td><td>0.4891269</td><td>0.00000000</td><td>vgat   </td><td>+0.1</td></tr>\n",
       "\t<tr><th scope=row>onecut2</th><td>0.8668245</td><td>0.8668245</td><td>0.0000000</td><td>1.00000000</td><td>onecut2</td><td>gene</td></tr>\n",
       "</tbody>\n",
       "</table>\n"
      ],
      "text/latex": [
       "A data.frame: 15 × 6\n",
       "\\begin{tabular}{r|llllll}\n",
       "  & +1.0 & +0.8 & +0.4 & +0.1 & gene & section\\\\\n",
       "  & <dbl> & <dbl> & <dbl> & <dbl> & <chr> & <chr>\\\\\n",
       "\\hline\n",
       "\tdrd2 & 0.5500621 & 0.0000000 & 1.0000000 & 0.07483475 & drd2    & +1.0\\\\\n",
       "\tdrd3 & 0.6386330 & 0.8105213 & 1.0000000 & 0.00000000 & drd3    & +0.8\\\\\n",
       "\tsst & 1.0000000 & 0.7571164 & 0.4796196 & 0.00000000 & sst     & +0.4\\\\\n",
       "\ttacr1 & 0.6494098 & 0.7119190 & 1.0000000 & 0.00000000 & tacr1   & +0.1\\\\\n",
       "\tesr1 & 0.7510710 & 0.3064018 & 1.0000000 & 0.00000000 & esr1    & gene\\\\\n",
       "\tfoxp2 & 1.0000000 & 0.0000000 & 0.2616131 & 0.09886735 & foxp2   & +1.0\\\\\n",
       "\tvglut2 & 0.3311879 & 1.0000000 & 0.0000000 & 0.65611463 & vglut2  & +0.8\\\\\n",
       "\tpax6 & 0.3646802 & 1.0000000 & 0.3016233 & 0.00000000 & pax6    & +0.4\\\\\n",
       "\tnts & 0.7242598 & 1.0000000 & 0.5358046 & 0.00000000 & nts     & +0.1\\\\\n",
       "\tcrhr2 & 0.5446237 & 0.4727951 & 1.0000000 & 0.00000000 & crhr2   & gene\\\\\n",
       "\tmet & 0.2851112 & 0.0000000 & 0.2431363 & 1.00000000 & met     & +1.0\\\\\n",
       "\tcol15a1 & 1.0000000 & 0.5628417 & 0.8260122 & 0.00000000 & col15a1 & +0.8\\\\\n",
       "\tsamd3 & 0.9935374 & 1.0000000 & 0.0000000 & 0.49517605 & samd3   & +0.4\\\\\n",
       "\tvgat & 1.0000000 & 0.8680014 & 0.4891269 & 0.00000000 & vgat    & +0.1\\\\\n",
       "\tonecut2 & 0.8668245 & 0.8668245 & 0.0000000 & 1.00000000 & onecut2 & gene\\\\\n",
       "\\end{tabular}\n"
      ],
      "text/markdown": [
       "\n",
       "A data.frame: 15 × 6\n",
       "\n",
       "| <!--/--> | +1.0 &lt;dbl&gt; | +0.8 &lt;dbl&gt; | +0.4 &lt;dbl&gt; | +0.1 &lt;dbl&gt; | gene &lt;chr&gt; | section &lt;chr&gt; |\n",
       "|---|---|---|---|---|---|---|\n",
       "| drd2 | 0.5500621 | 0.0000000 | 1.0000000 | 0.07483475 | drd2    | +1.0 |\n",
       "| drd3 | 0.6386330 | 0.8105213 | 1.0000000 | 0.00000000 | drd3    | +0.8 |\n",
       "| sst | 1.0000000 | 0.7571164 | 0.4796196 | 0.00000000 | sst     | +0.4 |\n",
       "| tacr1 | 0.6494098 | 0.7119190 | 1.0000000 | 0.00000000 | tacr1   | +0.1 |\n",
       "| esr1 | 0.7510710 | 0.3064018 | 1.0000000 | 0.00000000 | esr1    | gene |\n",
       "| foxp2 | 1.0000000 | 0.0000000 | 0.2616131 | 0.09886735 | foxp2   | +1.0 |\n",
       "| vglut2 | 0.3311879 | 1.0000000 | 0.0000000 | 0.65611463 | vglut2  | +0.8 |\n",
       "| pax6 | 0.3646802 | 1.0000000 | 0.3016233 | 0.00000000 | pax6    | +0.4 |\n",
       "| nts | 0.7242598 | 1.0000000 | 0.5358046 | 0.00000000 | nts     | +0.1 |\n",
       "| crhr2 | 0.5446237 | 0.4727951 | 1.0000000 | 0.00000000 | crhr2   | gene |\n",
       "| met | 0.2851112 | 0.0000000 | 0.2431363 | 1.00000000 | met     | +1.0 |\n",
       "| col15a1 | 1.0000000 | 0.5628417 | 0.8260122 | 0.00000000 | col15a1 | +0.8 |\n",
       "| samd3 | 0.9935374 | 1.0000000 | 0.0000000 | 0.49517605 | samd3   | +0.4 |\n",
       "| vgat | 1.0000000 | 0.8680014 | 0.4891269 | 0.00000000 | vgat    | +0.1 |\n",
       "| onecut2 | 0.8668245 | 0.8668245 | 0.0000000 | 1.00000000 | onecut2 | gene |\n",
       "\n"
      ],
      "text/plain": [
       "        +1.0      +0.8      +0.4      +0.1       gene    section\n",
       "drd2    0.5500621 0.0000000 1.0000000 0.07483475 drd2    +1.0   \n",
       "drd3    0.6386330 0.8105213 1.0000000 0.00000000 drd3    +0.8   \n",
       "sst     1.0000000 0.7571164 0.4796196 0.00000000 sst     +0.4   \n",
       "tacr1   0.6494098 0.7119190 1.0000000 0.00000000 tacr1   +0.1   \n",
       "esr1    0.7510710 0.3064018 1.0000000 0.00000000 esr1    gene   \n",
       "foxp2   1.0000000 0.0000000 0.2616131 0.09886735 foxp2   +1.0   \n",
       "vglut2  0.3311879 1.0000000 0.0000000 0.65611463 vglut2  +0.8   \n",
       "pax6    0.3646802 1.0000000 0.3016233 0.00000000 pax6    +0.4   \n",
       "nts     0.7242598 1.0000000 0.5358046 0.00000000 nts     +0.1   \n",
       "crhr2   0.5446237 0.4727951 1.0000000 0.00000000 crhr2   gene   \n",
       "met     0.2851112 0.0000000 0.2431363 1.00000000 met     +1.0   \n",
       "col15a1 1.0000000 0.5628417 0.8260122 0.00000000 col15a1 +0.8   \n",
       "samd3   0.9935374 1.0000000 0.0000000 0.49517605 samd3   +0.4   \n",
       "vgat    1.0000000 0.8680014 0.4891269 0.00000000 vgat    +0.1   \n",
       "onecut2 0.8668245 0.8668245 0.0000000 1.00000000 onecut2 gene   "
      ]
     },
     "metadata": {},
     "output_type": "display_data"
    }
   ],
   "source": [
    "total$gene <- rownames(total)\n",
    "total$section <- colnames(total)\n",
    "total"
   ]
  },
  {
   "cell_type": "code",
   "execution_count": 26,
   "metadata": {
    "scrolled": true
   },
   "outputs": [
    {
     "name": "stderr",
     "output_type": "stream",
     "text": [
      "Using gene, section as id variables\n",
      "\n"
     ]
    },
    {
     "data": {
      "text/html": [
       "<table class=\"dataframe\">\n",
       "<caption>A data.frame: 60 × 4</caption>\n",
       "<thead>\n",
       "\t<tr><th scope=col>gene</th><th scope=col>section</th><th scope=col>variable</th><th scope=col>value</th></tr>\n",
       "\t<tr><th scope=col>&lt;chr&gt;</th><th scope=col>&lt;chr&gt;</th><th scope=col>&lt;fct&gt;</th><th scope=col>&lt;dbl&gt;</th></tr>\n",
       "</thead>\n",
       "<tbody>\n",
       "\t<tr><td>drd2   </td><td>+1.0</td><td>+1.0</td><td>0.55006210</td></tr>\n",
       "\t<tr><td>drd3   </td><td>+0.8</td><td>+1.0</td><td>0.63863299</td></tr>\n",
       "\t<tr><td>sst    </td><td>+0.4</td><td>+1.0</td><td>1.00000000</td></tr>\n",
       "\t<tr><td>tacr1  </td><td>+0.1</td><td>+1.0</td><td>0.64940982</td></tr>\n",
       "\t<tr><td>esr1   </td><td>gene</td><td>+1.0</td><td>0.75107101</td></tr>\n",
       "\t<tr><td>foxp2  </td><td>+1.0</td><td>+1.0</td><td>1.00000000</td></tr>\n",
       "\t<tr><td>vglut2 </td><td>+0.8</td><td>+1.0</td><td>0.33118791</td></tr>\n",
       "\t<tr><td>pax6   </td><td>+0.4</td><td>+1.0</td><td>0.36468020</td></tr>\n",
       "\t<tr><td>nts    </td><td>+0.1</td><td>+1.0</td><td>0.72425984</td></tr>\n",
       "\t<tr><td>crhr2  </td><td>gene</td><td>+1.0</td><td>0.54462371</td></tr>\n",
       "\t<tr><td>met    </td><td>+1.0</td><td>+1.0</td><td>0.28511122</td></tr>\n",
       "\t<tr><td>col15a1</td><td>+0.8</td><td>+1.0</td><td>1.00000000</td></tr>\n",
       "\t<tr><td>samd3  </td><td>+0.4</td><td>+1.0</td><td>0.99353737</td></tr>\n",
       "\t<tr><td>vgat   </td><td>+0.1</td><td>+1.0</td><td>1.00000000</td></tr>\n",
       "\t<tr><td>onecut2</td><td>gene</td><td>+1.0</td><td>0.86682453</td></tr>\n",
       "\t<tr><td>drd2   </td><td>+1.0</td><td>+0.8</td><td>0.00000000</td></tr>\n",
       "\t<tr><td>drd3   </td><td>+0.8</td><td>+0.8</td><td>0.81052130</td></tr>\n",
       "\t<tr><td>sst    </td><td>+0.4</td><td>+0.8</td><td>0.75711635</td></tr>\n",
       "\t<tr><td>tacr1  </td><td>+0.1</td><td>+0.8</td><td>0.71191900</td></tr>\n",
       "\t<tr><td>esr1   </td><td>gene</td><td>+0.8</td><td>0.30640180</td></tr>\n",
       "\t<tr><td>foxp2  </td><td>+1.0</td><td>+0.8</td><td>0.00000000</td></tr>\n",
       "\t<tr><td>vglut2 </td><td>+0.8</td><td>+0.8</td><td>1.00000000</td></tr>\n",
       "\t<tr><td>pax6   </td><td>+0.4</td><td>+0.8</td><td>1.00000000</td></tr>\n",
       "\t<tr><td>nts    </td><td>+0.1</td><td>+0.8</td><td>1.00000000</td></tr>\n",
       "\t<tr><td>crhr2  </td><td>gene</td><td>+0.8</td><td>0.47279508</td></tr>\n",
       "\t<tr><td>met    </td><td>+1.0</td><td>+0.8</td><td>0.00000000</td></tr>\n",
       "\t<tr><td>col15a1</td><td>+0.8</td><td>+0.8</td><td>0.56284168</td></tr>\n",
       "\t<tr><td>samd3  </td><td>+0.4</td><td>+0.8</td><td>1.00000000</td></tr>\n",
       "\t<tr><td>vgat   </td><td>+0.1</td><td>+0.8</td><td>0.86800143</td></tr>\n",
       "\t<tr><td>onecut2</td><td>gene</td><td>+0.8</td><td>0.86682453</td></tr>\n",
       "\t<tr><td>drd2   </td><td>+1.0</td><td>+0.4</td><td>1.00000000</td></tr>\n",
       "\t<tr><td>drd3   </td><td>+0.8</td><td>+0.4</td><td>1.00000000</td></tr>\n",
       "\t<tr><td>sst    </td><td>+0.4</td><td>+0.4</td><td>0.47961963</td></tr>\n",
       "\t<tr><td>tacr1  </td><td>+0.1</td><td>+0.4</td><td>1.00000000</td></tr>\n",
       "\t<tr><td>esr1   </td><td>gene</td><td>+0.4</td><td>1.00000000</td></tr>\n",
       "\t<tr><td>foxp2  </td><td>+1.0</td><td>+0.4</td><td>0.26161310</td></tr>\n",
       "\t<tr><td>vglut2 </td><td>+0.8</td><td>+0.4</td><td>0.00000000</td></tr>\n",
       "\t<tr><td>pax6   </td><td>+0.4</td><td>+0.4</td><td>0.30162331</td></tr>\n",
       "\t<tr><td>nts    </td><td>+0.1</td><td>+0.4</td><td>0.53580460</td></tr>\n",
       "\t<tr><td>crhr2  </td><td>gene</td><td>+0.4</td><td>1.00000000</td></tr>\n",
       "\t<tr><td>met    </td><td>+1.0</td><td>+0.4</td><td>0.24313628</td></tr>\n",
       "\t<tr><td>col15a1</td><td>+0.8</td><td>+0.4</td><td>0.82601218</td></tr>\n",
       "\t<tr><td>samd3  </td><td>+0.4</td><td>+0.4</td><td>0.00000000</td></tr>\n",
       "\t<tr><td>vgat   </td><td>+0.1</td><td>+0.4</td><td>0.48912687</td></tr>\n",
       "\t<tr><td>onecut2</td><td>gene</td><td>+0.4</td><td>0.00000000</td></tr>\n",
       "\t<tr><td>drd2   </td><td>+1.0</td><td>+0.1</td><td>0.07483475</td></tr>\n",
       "\t<tr><td>drd3   </td><td>+0.8</td><td>+0.1</td><td>0.00000000</td></tr>\n",
       "\t<tr><td>sst    </td><td>+0.4</td><td>+0.1</td><td>0.00000000</td></tr>\n",
       "\t<tr><td>tacr1  </td><td>+0.1</td><td>+0.1</td><td>0.00000000</td></tr>\n",
       "\t<tr><td>esr1   </td><td>gene</td><td>+0.1</td><td>0.00000000</td></tr>\n",
       "\t<tr><td>foxp2  </td><td>+1.0</td><td>+0.1</td><td>0.09886735</td></tr>\n",
       "\t<tr><td>vglut2 </td><td>+0.8</td><td>+0.1</td><td>0.65611463</td></tr>\n",
       "\t<tr><td>pax6   </td><td>+0.4</td><td>+0.1</td><td>0.00000000</td></tr>\n",
       "\t<tr><td>nts    </td><td>+0.1</td><td>+0.1</td><td>0.00000000</td></tr>\n",
       "\t<tr><td>crhr2  </td><td>gene</td><td>+0.1</td><td>0.00000000</td></tr>\n",
       "\t<tr><td>met    </td><td>+1.0</td><td>+0.1</td><td>1.00000000</td></tr>\n",
       "\t<tr><td>col15a1</td><td>+0.8</td><td>+0.1</td><td>0.00000000</td></tr>\n",
       "\t<tr><td>samd3  </td><td>+0.4</td><td>+0.1</td><td>0.49517605</td></tr>\n",
       "\t<tr><td>vgat   </td><td>+0.1</td><td>+0.1</td><td>0.00000000</td></tr>\n",
       "\t<tr><td>onecut2</td><td>gene</td><td>+0.1</td><td>1.00000000</td></tr>\n",
       "</tbody>\n",
       "</table>\n"
      ],
      "text/latex": [
       "A data.frame: 60 × 4\n",
       "\\begin{tabular}{llll}\n",
       " gene & section & variable & value\\\\\n",
       " <chr> & <chr> & <fct> & <dbl>\\\\\n",
       "\\hline\n",
       "\t drd2    & +1.0 & +1.0 & 0.55006210\\\\\n",
       "\t drd3    & +0.8 & +1.0 & 0.63863299\\\\\n",
       "\t sst     & +0.4 & +1.0 & 1.00000000\\\\\n",
       "\t tacr1   & +0.1 & +1.0 & 0.64940982\\\\\n",
       "\t esr1    & gene & +1.0 & 0.75107101\\\\\n",
       "\t foxp2   & +1.0 & +1.0 & 1.00000000\\\\\n",
       "\t vglut2  & +0.8 & +1.0 & 0.33118791\\\\\n",
       "\t pax6    & +0.4 & +1.0 & 0.36468020\\\\\n",
       "\t nts     & +0.1 & +1.0 & 0.72425984\\\\\n",
       "\t crhr2   & gene & +1.0 & 0.54462371\\\\\n",
       "\t met     & +1.0 & +1.0 & 0.28511122\\\\\n",
       "\t col15a1 & +0.8 & +1.0 & 1.00000000\\\\\n",
       "\t samd3   & +0.4 & +1.0 & 0.99353737\\\\\n",
       "\t vgat    & +0.1 & +1.0 & 1.00000000\\\\\n",
       "\t onecut2 & gene & +1.0 & 0.86682453\\\\\n",
       "\t drd2    & +1.0 & +0.8 & 0.00000000\\\\\n",
       "\t drd3    & +0.8 & +0.8 & 0.81052130\\\\\n",
       "\t sst     & +0.4 & +0.8 & 0.75711635\\\\\n",
       "\t tacr1   & +0.1 & +0.8 & 0.71191900\\\\\n",
       "\t esr1    & gene & +0.8 & 0.30640180\\\\\n",
       "\t foxp2   & +1.0 & +0.8 & 0.00000000\\\\\n",
       "\t vglut2  & +0.8 & +0.8 & 1.00000000\\\\\n",
       "\t pax6    & +0.4 & +0.8 & 1.00000000\\\\\n",
       "\t nts     & +0.1 & +0.8 & 1.00000000\\\\\n",
       "\t crhr2   & gene & +0.8 & 0.47279508\\\\\n",
       "\t met     & +1.0 & +0.8 & 0.00000000\\\\\n",
       "\t col15a1 & +0.8 & +0.8 & 0.56284168\\\\\n",
       "\t samd3   & +0.4 & +0.8 & 1.00000000\\\\\n",
       "\t vgat    & +0.1 & +0.8 & 0.86800143\\\\\n",
       "\t onecut2 & gene & +0.8 & 0.86682453\\\\\n",
       "\t drd2    & +1.0 & +0.4 & 1.00000000\\\\\n",
       "\t drd3    & +0.8 & +0.4 & 1.00000000\\\\\n",
       "\t sst     & +0.4 & +0.4 & 0.47961963\\\\\n",
       "\t tacr1   & +0.1 & +0.4 & 1.00000000\\\\\n",
       "\t esr1    & gene & +0.4 & 1.00000000\\\\\n",
       "\t foxp2   & +1.0 & +0.4 & 0.26161310\\\\\n",
       "\t vglut2  & +0.8 & +0.4 & 0.00000000\\\\\n",
       "\t pax6    & +0.4 & +0.4 & 0.30162331\\\\\n",
       "\t nts     & +0.1 & +0.4 & 0.53580460\\\\\n",
       "\t crhr2   & gene & +0.4 & 1.00000000\\\\\n",
       "\t met     & +1.0 & +0.4 & 0.24313628\\\\\n",
       "\t col15a1 & +0.8 & +0.4 & 0.82601218\\\\\n",
       "\t samd3   & +0.4 & +0.4 & 0.00000000\\\\\n",
       "\t vgat    & +0.1 & +0.4 & 0.48912687\\\\\n",
       "\t onecut2 & gene & +0.4 & 0.00000000\\\\\n",
       "\t drd2    & +1.0 & +0.1 & 0.07483475\\\\\n",
       "\t drd3    & +0.8 & +0.1 & 0.00000000\\\\\n",
       "\t sst     & +0.4 & +0.1 & 0.00000000\\\\\n",
       "\t tacr1   & +0.1 & +0.1 & 0.00000000\\\\\n",
       "\t esr1    & gene & +0.1 & 0.00000000\\\\\n",
       "\t foxp2   & +1.0 & +0.1 & 0.09886735\\\\\n",
       "\t vglut2  & +0.8 & +0.1 & 0.65611463\\\\\n",
       "\t pax6    & +0.4 & +0.1 & 0.00000000\\\\\n",
       "\t nts     & +0.1 & +0.1 & 0.00000000\\\\\n",
       "\t crhr2   & gene & +0.1 & 0.00000000\\\\\n",
       "\t met     & +1.0 & +0.1 & 1.00000000\\\\\n",
       "\t col15a1 & +0.8 & +0.1 & 0.00000000\\\\\n",
       "\t samd3   & +0.4 & +0.1 & 0.49517605\\\\\n",
       "\t vgat    & +0.1 & +0.1 & 0.00000000\\\\\n",
       "\t onecut2 & gene & +0.1 & 1.00000000\\\\\n",
       "\\end{tabular}\n"
      ],
      "text/markdown": [
       "\n",
       "A data.frame: 60 × 4\n",
       "\n",
       "| gene &lt;chr&gt; | section &lt;chr&gt; | variable &lt;fct&gt; | value &lt;dbl&gt; |\n",
       "|---|---|---|---|\n",
       "| drd2    | +1.0 | +1.0 | 0.55006210 |\n",
       "| drd3    | +0.8 | +1.0 | 0.63863299 |\n",
       "| sst     | +0.4 | +1.0 | 1.00000000 |\n",
       "| tacr1   | +0.1 | +1.0 | 0.64940982 |\n",
       "| esr1    | gene | +1.0 | 0.75107101 |\n",
       "| foxp2   | +1.0 | +1.0 | 1.00000000 |\n",
       "| vglut2  | +0.8 | +1.0 | 0.33118791 |\n",
       "| pax6    | +0.4 | +1.0 | 0.36468020 |\n",
       "| nts     | +0.1 | +1.0 | 0.72425984 |\n",
       "| crhr2   | gene | +1.0 | 0.54462371 |\n",
       "| met     | +1.0 | +1.0 | 0.28511122 |\n",
       "| col15a1 | +0.8 | +1.0 | 1.00000000 |\n",
       "| samd3   | +0.4 | +1.0 | 0.99353737 |\n",
       "| vgat    | +0.1 | +1.0 | 1.00000000 |\n",
       "| onecut2 | gene | +1.0 | 0.86682453 |\n",
       "| drd2    | +1.0 | +0.8 | 0.00000000 |\n",
       "| drd3    | +0.8 | +0.8 | 0.81052130 |\n",
       "| sst     | +0.4 | +0.8 | 0.75711635 |\n",
       "| tacr1   | +0.1 | +0.8 | 0.71191900 |\n",
       "| esr1    | gene | +0.8 | 0.30640180 |\n",
       "| foxp2   | +1.0 | +0.8 | 0.00000000 |\n",
       "| vglut2  | +0.8 | +0.8 | 1.00000000 |\n",
       "| pax6    | +0.4 | +0.8 | 1.00000000 |\n",
       "| nts     | +0.1 | +0.8 | 1.00000000 |\n",
       "| crhr2   | gene | +0.8 | 0.47279508 |\n",
       "| met     | +1.0 | +0.8 | 0.00000000 |\n",
       "| col15a1 | +0.8 | +0.8 | 0.56284168 |\n",
       "| samd3   | +0.4 | +0.8 | 1.00000000 |\n",
       "| vgat    | +0.1 | +0.8 | 0.86800143 |\n",
       "| onecut2 | gene | +0.8 | 0.86682453 |\n",
       "| drd2    | +1.0 | +0.4 | 1.00000000 |\n",
       "| drd3    | +0.8 | +0.4 | 1.00000000 |\n",
       "| sst     | +0.4 | +0.4 | 0.47961963 |\n",
       "| tacr1   | +0.1 | +0.4 | 1.00000000 |\n",
       "| esr1    | gene | +0.4 | 1.00000000 |\n",
       "| foxp2   | +1.0 | +0.4 | 0.26161310 |\n",
       "| vglut2  | +0.8 | +0.4 | 0.00000000 |\n",
       "| pax6    | +0.4 | +0.4 | 0.30162331 |\n",
       "| nts     | +0.1 | +0.4 | 0.53580460 |\n",
       "| crhr2   | gene | +0.4 | 1.00000000 |\n",
       "| met     | +1.0 | +0.4 | 0.24313628 |\n",
       "| col15a1 | +0.8 | +0.4 | 0.82601218 |\n",
       "| samd3   | +0.4 | +0.4 | 0.00000000 |\n",
       "| vgat    | +0.1 | +0.4 | 0.48912687 |\n",
       "| onecut2 | gene | +0.4 | 0.00000000 |\n",
       "| drd2    | +1.0 | +0.1 | 0.07483475 |\n",
       "| drd3    | +0.8 | +0.1 | 0.00000000 |\n",
       "| sst     | +0.4 | +0.1 | 0.00000000 |\n",
       "| tacr1   | +0.1 | +0.1 | 0.00000000 |\n",
       "| esr1    | gene | +0.1 | 0.00000000 |\n",
       "| foxp2   | +1.0 | +0.1 | 0.09886735 |\n",
       "| vglut2  | +0.8 | +0.1 | 0.65611463 |\n",
       "| pax6    | +0.4 | +0.1 | 0.00000000 |\n",
       "| nts     | +0.1 | +0.1 | 0.00000000 |\n",
       "| crhr2   | gene | +0.1 | 0.00000000 |\n",
       "| met     | +1.0 | +0.1 | 1.00000000 |\n",
       "| col15a1 | +0.8 | +0.1 | 0.00000000 |\n",
       "| samd3   | +0.4 | +0.1 | 0.49517605 |\n",
       "| vgat    | +0.1 | +0.1 | 0.00000000 |\n",
       "| onecut2 | gene | +0.1 | 1.00000000 |\n",
       "\n"
      ],
      "text/plain": [
       "   gene    section variable value     \n",
       "1  drd2    +1.0    +1.0     0.55006210\n",
       "2  drd3    +0.8    +1.0     0.63863299\n",
       "3  sst     +0.4    +1.0     1.00000000\n",
       "4  tacr1   +0.1    +1.0     0.64940982\n",
       "5  esr1    gene    +1.0     0.75107101\n",
       "6  foxp2   +1.0    +1.0     1.00000000\n",
       "7  vglut2  +0.8    +1.0     0.33118791\n",
       "8  pax6    +0.4    +1.0     0.36468020\n",
       "9  nts     +0.1    +1.0     0.72425984\n",
       "10 crhr2   gene    +1.0     0.54462371\n",
       "11 met     +1.0    +1.0     0.28511122\n",
       "12 col15a1 +0.8    +1.0     1.00000000\n",
       "13 samd3   +0.4    +1.0     0.99353737\n",
       "14 vgat    +0.1    +1.0     1.00000000\n",
       "15 onecut2 gene    +1.0     0.86682453\n",
       "16 drd2    +1.0    +0.8     0.00000000\n",
       "17 drd3    +0.8    +0.8     0.81052130\n",
       "18 sst     +0.4    +0.8     0.75711635\n",
       "19 tacr1   +0.1    +0.8     0.71191900\n",
       "20 esr1    gene    +0.8     0.30640180\n",
       "21 foxp2   +1.0    +0.8     0.00000000\n",
       "22 vglut2  +0.8    +0.8     1.00000000\n",
       "23 pax6    +0.4    +0.8     1.00000000\n",
       "24 nts     +0.1    +0.8     1.00000000\n",
       "25 crhr2   gene    +0.8     0.47279508\n",
       "26 met     +1.0    +0.8     0.00000000\n",
       "27 col15a1 +0.8    +0.8     0.56284168\n",
       "28 samd3   +0.4    +0.8     1.00000000\n",
       "29 vgat    +0.1    +0.8     0.86800143\n",
       "30 onecut2 gene    +0.8     0.86682453\n",
       "31 drd2    +1.0    +0.4     1.00000000\n",
       "32 drd3    +0.8    +0.4     1.00000000\n",
       "33 sst     +0.4    +0.4     0.47961963\n",
       "34 tacr1   +0.1    +0.4     1.00000000\n",
       "35 esr1    gene    +0.4     1.00000000\n",
       "36 foxp2   +1.0    +0.4     0.26161310\n",
       "37 vglut2  +0.8    +0.4     0.00000000\n",
       "38 pax6    +0.4    +0.4     0.30162331\n",
       "39 nts     +0.1    +0.4     0.53580460\n",
       "40 crhr2   gene    +0.4     1.00000000\n",
       "41 met     +1.0    +0.4     0.24313628\n",
       "42 col15a1 +0.8    +0.4     0.82601218\n",
       "43 samd3   +0.4    +0.4     0.00000000\n",
       "44 vgat    +0.1    +0.4     0.48912687\n",
       "45 onecut2 gene    +0.4     0.00000000\n",
       "46 drd2    +1.0    +0.1     0.07483475\n",
       "47 drd3    +0.8    +0.1     0.00000000\n",
       "48 sst     +0.4    +0.1     0.00000000\n",
       "49 tacr1   +0.1    +0.1     0.00000000\n",
       "50 esr1    gene    +0.1     0.00000000\n",
       "51 foxp2   +1.0    +0.1     0.09886735\n",
       "52 vglut2  +0.8    +0.1     0.65611463\n",
       "53 pax6    +0.4    +0.1     0.00000000\n",
       "54 nts     +0.1    +0.1     0.00000000\n",
       "55 crhr2   gene    +0.1     0.00000000\n",
       "56 met     +1.0    +0.1     1.00000000\n",
       "57 col15a1 +0.8    +0.1     0.00000000\n",
       "58 samd3   +0.4    +0.1     0.49517605\n",
       "59 vgat    +0.1    +0.1     0.00000000\n",
       "60 onecut2 gene    +0.1     1.00000000"
      ]
     },
     "metadata": {},
     "output_type": "display_data"
    }
   ],
   "source": [
    "df.intensity <- melt(total)\n",
    "df.intensity"
   ]
  },
  {
   "cell_type": "markdown",
   "metadata": {},
   "source": [
    "Now calculating the positive cell density"
   ]
  },
  {
   "cell_type": "code",
   "execution_count": 27,
   "metadata": {},
   "outputs": [],
   "source": [
    "ROI_list <- c(1874168.625, 2205660.75,2390094.75, 2312219,2226446.000000, 1948594.875000, 2646696.250000, 2668375.250000, 2578066.00, 1509925.625, 2267222.5, 2787576.5, 1907188.75, 2192280.25, 2399668.5, 2160530.750000, 1678974.250000, 1911630.250000, 1654767.250000, 1955940.000000, 3216285.000000, 2394981.500000, 2633755.750000, 2135123.000000, 2400050.500000, 1841517.625000, 2292515.250000, 2672981.750000, 2493335.250000    )\n",
    "ROI_list <- ROI_list/1000000"
   ]
  },
  {
   "cell_type": "code",
   "execution_count": 28,
   "metadata": {
    "scrolled": true
   },
   "outputs": [
    {
     "data": {
      "text/html": [
       "<style>\n",
       ".list-inline {list-style: none; margin:0; padding: 0}\n",
       ".list-inline>li {display: inline-block}\n",
       ".list-inline>li:not(:last-child)::after {content: \"\\00b7\"; padding: 0 .5ex}\n",
       "</style>\n",
       "<ol class=list-inline><li>4.1281247246696</li><li>4.85828359030837</li><li>5.26452588105727</li><li>5.09299339207048</li><li>4.90406607929515</li><li>4.29205919603524</li><li>5.82972742290749</li><li>5.87747852422907</li><li>5.67855947136564</li><li>3.32582736784141</li><li>4.99388215859031</li><li>6.14003634361234</li><li>4.20085627753304</li><li>4.82881112334802</li><li>5.28561343612335</li><li>4.75887830396476</li><li>3.69818116740088</li><li>4.21063931718062</li><li>3.64486178414097</li><li>4.30823788546255</li><li>7.0843281938326</li><li>5.27528964757709</li><li>5.80122411894273</li><li>4.7029140969163</li><li>5.28645484581498</li><li>4.05620622246696</li><li>5.04959306167401</li><li>5.887625</li><li>5.49192786343612</li></ol>\n"
      ],
      "text/latex": [
       "\\begin{enumerate*}\n",
       "\\item 4.1281247246696\n",
       "\\item 4.85828359030837\n",
       "\\item 5.26452588105727\n",
       "\\item 5.09299339207048\n",
       "\\item 4.90406607929515\n",
       "\\item 4.29205919603524\n",
       "\\item 5.82972742290749\n",
       "\\item 5.87747852422907\n",
       "\\item 5.67855947136564\n",
       "\\item 3.32582736784141\n",
       "\\item 4.99388215859031\n",
       "\\item 6.14003634361234\n",
       "\\item 4.20085627753304\n",
       "\\item 4.82881112334802\n",
       "\\item 5.28561343612335\n",
       "\\item 4.75887830396476\n",
       "\\item 3.69818116740088\n",
       "\\item 4.21063931718062\n",
       "\\item 3.64486178414097\n",
       "\\item 4.30823788546255\n",
       "\\item 7.0843281938326\n",
       "\\item 5.27528964757709\n",
       "\\item 5.80122411894273\n",
       "\\item 4.7029140969163\n",
       "\\item 5.28645484581498\n",
       "\\item 4.05620622246696\n",
       "\\item 5.04959306167401\n",
       "\\item 5.887625\n",
       "\\item 5.49192786343612\n",
       "\\end{enumerate*}\n"
      ],
      "text/markdown": [
       "1. 4.1281247246696\n",
       "2. 4.85828359030837\n",
       "3. 5.26452588105727\n",
       "4. 5.09299339207048\n",
       "5. 4.90406607929515\n",
       "6. 4.29205919603524\n",
       "7. 5.82972742290749\n",
       "8. 5.87747852422907\n",
       "9. 5.67855947136564\n",
       "10. 3.32582736784141\n",
       "11. 4.99388215859031\n",
       "12. 6.14003634361234\n",
       "13. 4.20085627753304\n",
       "14. 4.82881112334802\n",
       "15. 5.28561343612335\n",
       "16. 4.75887830396476\n",
       "17. 3.69818116740088\n",
       "18. 4.21063931718062\n",
       "19. 3.64486178414097\n",
       "20. 4.30823788546255\n",
       "21. 7.0843281938326\n",
       "22. 5.27528964757709\n",
       "23. 5.80122411894273\n",
       "24. 4.7029140969163\n",
       "25. 5.28645484581498\n",
       "26. 4.05620622246696\n",
       "27. 5.04959306167401\n",
       "28. 5.887625\n",
       "29. 5.49192786343612\n",
       "\n",
       "\n"
      ],
      "text/plain": [
       " [1] 4.128125 4.858284 5.264526 5.092993 4.904066 4.292059 5.829727 5.877479\n",
       " [9] 5.678559 3.325827 4.993882 6.140036 4.200856 4.828811 5.285613 4.758878\n",
       "[17] 3.698181 4.210639 3.644862 4.308238 7.084328 5.275290 5.801224 4.702914\n",
       "[25] 5.286455 4.056206 5.049593 5.887625 5.491928"
      ]
     },
     "metadata": {},
     "output_type": "display_data"
    }
   ],
   "source": [
    "# The original resolution for the images was actually 0.454 um per pixel. These data were generated using 1 um per pixel as a default, so this factor is intended to correct this error\n",
    "ROI_list <- ROI_list / 0.454\n",
    "ROI_list"
   ]
  },
  {
   "cell_type": "code",
   "execution_count": 29,
   "metadata": {},
   "outputs": [],
   "source": [
    "WT.bind <- readRDS(\"HCR_files/spot_counts.rds\")"
   ]
  },
  {
   "cell_type": "code",
   "execution_count": 30,
   "metadata": {},
   "outputs": [],
   "source": [
    "grab.spots<-colnames(WT.bind[grep('.Copies',colnames(WT.bind))])\n",
    "WT.spots <- WT.bind[grab.spots]\n",
    "rownames(WT.spots) <- WT.bind$barcode"
   ]
  },
  {
   "cell_type": "code",
   "execution_count": 31,
   "metadata": {},
   "outputs": [],
   "source": [
    "WT.spots[WT.spots < 5] <- 0\n",
    "WT.spots[WT.spots > 0] <- 1"
   ]
  },
  {
   "cell_type": "code",
   "execution_count": 32,
   "metadata": {
    "scrolled": true
   },
   "outputs": [
    {
     "data": {
      "text/html": [
       "<table class=\"dataframe\">\n",
       "<caption>A data.frame: 6 × 15</caption>\n",
       "<thead>\n",
       "\t<tr><th></th><th scope=col>drd2.Copies</th><th scope=col>drd3.Copies</th><th scope=col>sst.Copies</th><th scope=col>tacr1.Copies</th><th scope=col>esr1.Copies</th><th scope=col>foxp2.Copies</th><th scope=col>vglut2.Copies</th><th scope=col>pax6.Copies</th><th scope=col>nts.Copies</th><th scope=col>crhr2.Copies</th><th scope=col>met.Copies</th><th scope=col>col15a1.Copies</th><th scope=col>samd3.Copies</th><th scope=col>vgat.Copies</th><th scope=col>onecut2.Copies</th></tr>\n",
       "\t<tr><th></th><th scope=col>&lt;dbl&gt;</th><th scope=col>&lt;dbl&gt;</th><th scope=col>&lt;dbl&gt;</th><th scope=col>&lt;dbl&gt;</th><th scope=col>&lt;dbl&gt;</th><th scope=col>&lt;dbl&gt;</th><th scope=col>&lt;dbl&gt;</th><th scope=col>&lt;dbl&gt;</th><th scope=col>&lt;dbl&gt;</th><th scope=col>&lt;dbl&gt;</th><th scope=col>&lt;dbl&gt;</th><th scope=col>&lt;dbl&gt;</th><th scope=col>&lt;dbl&gt;</th><th scope=col>&lt;dbl&gt;</th><th scope=col>&lt;dbl&gt;</th></tr>\n",
       "</thead>\n",
       "<tbody>\n",
       "\t<tr><th scope=row>WT-1-S5 _ 1</th><td>0</td><td>0</td><td>0</td><td>0</td><td>0</td><td>0</td><td>0</td><td>0</td><td>0</td><td>0</td><td>0</td><td>1</td><td>0</td><td>0</td><td>0</td></tr>\n",
       "\t<tr><th scope=row>WT-1-S5 _ 2</th><td>0</td><td>0</td><td>0</td><td>0</td><td>0</td><td>0</td><td>0</td><td>0</td><td>0</td><td>0</td><td>0</td><td>0</td><td>0</td><td>0</td><td>0</td></tr>\n",
       "\t<tr><th scope=row>WT-1-S5 _ 3</th><td>0</td><td>0</td><td>0</td><td>0</td><td>0</td><td>0</td><td>0</td><td>0</td><td>0</td><td>0</td><td>0</td><td>0</td><td>0</td><td>0</td><td>0</td></tr>\n",
       "\t<tr><th scope=row>WT-1-S5 _ 4</th><td>0</td><td>0</td><td>0</td><td>0</td><td>0</td><td>0</td><td>0</td><td>0</td><td>0</td><td>0</td><td>0</td><td>0</td><td>0</td><td>1</td><td>0</td></tr>\n",
       "\t<tr><th scope=row>WT-1-S5 _ 5</th><td>0</td><td>0</td><td>0</td><td>0</td><td>0</td><td>0</td><td>0</td><td>0</td><td>0</td><td>0</td><td>0</td><td>0</td><td>0</td><td>1</td><td>0</td></tr>\n",
       "\t<tr><th scope=row>WT-1-S5 _ 6</th><td>0</td><td>0</td><td>0</td><td>0</td><td>0</td><td>0</td><td>0</td><td>0</td><td>0</td><td>0</td><td>0</td><td>0</td><td>0</td><td>1</td><td>0</td></tr>\n",
       "</tbody>\n",
       "</table>\n"
      ],
      "text/latex": [
       "A data.frame: 6 × 15\n",
       "\\begin{tabular}{r|lllllllllllllll}\n",
       "  & drd2.Copies & drd3.Copies & sst.Copies & tacr1.Copies & esr1.Copies & foxp2.Copies & vglut2.Copies & pax6.Copies & nts.Copies & crhr2.Copies & met.Copies & col15a1.Copies & samd3.Copies & vgat.Copies & onecut2.Copies\\\\\n",
       "  & <dbl> & <dbl> & <dbl> & <dbl> & <dbl> & <dbl> & <dbl> & <dbl> & <dbl> & <dbl> & <dbl> & <dbl> & <dbl> & <dbl> & <dbl>\\\\\n",
       "\\hline\n",
       "\tWT-1-S5 \\_ 1 & 0 & 0 & 0 & 0 & 0 & 0 & 0 & 0 & 0 & 0 & 0 & 1 & 0 & 0 & 0\\\\\n",
       "\tWT-1-S5 \\_ 2 & 0 & 0 & 0 & 0 & 0 & 0 & 0 & 0 & 0 & 0 & 0 & 0 & 0 & 0 & 0\\\\\n",
       "\tWT-1-S5 \\_ 3 & 0 & 0 & 0 & 0 & 0 & 0 & 0 & 0 & 0 & 0 & 0 & 0 & 0 & 0 & 0\\\\\n",
       "\tWT-1-S5 \\_ 4 & 0 & 0 & 0 & 0 & 0 & 0 & 0 & 0 & 0 & 0 & 0 & 0 & 0 & 1 & 0\\\\\n",
       "\tWT-1-S5 \\_ 5 & 0 & 0 & 0 & 0 & 0 & 0 & 0 & 0 & 0 & 0 & 0 & 0 & 0 & 1 & 0\\\\\n",
       "\tWT-1-S5 \\_ 6 & 0 & 0 & 0 & 0 & 0 & 0 & 0 & 0 & 0 & 0 & 0 & 0 & 0 & 1 & 0\\\\\n",
       "\\end{tabular}\n"
      ],
      "text/markdown": [
       "\n",
       "A data.frame: 6 × 15\n",
       "\n",
       "| <!--/--> | drd2.Copies &lt;dbl&gt; | drd3.Copies &lt;dbl&gt; | sst.Copies &lt;dbl&gt; | tacr1.Copies &lt;dbl&gt; | esr1.Copies &lt;dbl&gt; | foxp2.Copies &lt;dbl&gt; | vglut2.Copies &lt;dbl&gt; | pax6.Copies &lt;dbl&gt; | nts.Copies &lt;dbl&gt; | crhr2.Copies &lt;dbl&gt; | met.Copies &lt;dbl&gt; | col15a1.Copies &lt;dbl&gt; | samd3.Copies &lt;dbl&gt; | vgat.Copies &lt;dbl&gt; | onecut2.Copies &lt;dbl&gt; |\n",
       "|---|---|---|---|---|---|---|---|---|---|---|---|---|---|---|---|\n",
       "| WT-1-S5 _ 1 | 0 | 0 | 0 | 0 | 0 | 0 | 0 | 0 | 0 | 0 | 0 | 1 | 0 | 0 | 0 |\n",
       "| WT-1-S5 _ 2 | 0 | 0 | 0 | 0 | 0 | 0 | 0 | 0 | 0 | 0 | 0 | 0 | 0 | 0 | 0 |\n",
       "| WT-1-S5 _ 3 | 0 | 0 | 0 | 0 | 0 | 0 | 0 | 0 | 0 | 0 | 0 | 0 | 0 | 0 | 0 |\n",
       "| WT-1-S5 _ 4 | 0 | 0 | 0 | 0 | 0 | 0 | 0 | 0 | 0 | 0 | 0 | 0 | 0 | 1 | 0 |\n",
       "| WT-1-S5 _ 5 | 0 | 0 | 0 | 0 | 0 | 0 | 0 | 0 | 0 | 0 | 0 | 0 | 0 | 1 | 0 |\n",
       "| WT-1-S5 _ 6 | 0 | 0 | 0 | 0 | 0 | 0 | 0 | 0 | 0 | 0 | 0 | 0 | 0 | 1 | 0 |\n",
       "\n"
      ],
      "text/plain": [
       "            drd2.Copies drd3.Copies sst.Copies tacr1.Copies esr1.Copies\n",
       "WT-1-S5 _ 1 0           0           0          0            0          \n",
       "WT-1-S5 _ 2 0           0           0          0            0          \n",
       "WT-1-S5 _ 3 0           0           0          0            0          \n",
       "WT-1-S5 _ 4 0           0           0          0            0          \n",
       "WT-1-S5 _ 5 0           0           0          0            0          \n",
       "WT-1-S5 _ 6 0           0           0          0            0          \n",
       "            foxp2.Copies vglut2.Copies pax6.Copies nts.Copies crhr2.Copies\n",
       "WT-1-S5 _ 1 0            0             0           0          0           \n",
       "WT-1-S5 _ 2 0            0             0           0          0           \n",
       "WT-1-S5 _ 3 0            0             0           0          0           \n",
       "WT-1-S5 _ 4 0            0             0           0          0           \n",
       "WT-1-S5 _ 5 0            0             0           0          0           \n",
       "WT-1-S5 _ 6 0            0             0           0          0           \n",
       "            met.Copies col15a1.Copies samd3.Copies vgat.Copies onecut2.Copies\n",
       "WT-1-S5 _ 1 0          1              0            0           0             \n",
       "WT-1-S5 _ 2 0          0              0            0           0             \n",
       "WT-1-S5 _ 3 0          0              0            0           0             \n",
       "WT-1-S5 _ 4 0          0              0            1           0             \n",
       "WT-1-S5 _ 5 0          0              0            1           0             \n",
       "WT-1-S5 _ 6 0          0              0            1           0             "
      ]
     },
     "metadata": {},
     "output_type": "display_data"
    }
   ],
   "source": [
    "head(WT.spots)"
   ]
  },
  {
   "cell_type": "code",
   "execution_count": 33,
   "metadata": {},
   "outputs": [],
   "source": [
    "WT1S2 <- WT.spots[grep(\"WT-1-S2\",rownames(WT.spots)),]\n",
    "WT1S3 <- WT.spots[grep(\"WT-1-S3\",rownames(WT.spots)),]\n",
    "WT1S4 <- WT.spots[grep(\"WT-1-S4\",rownames(WT.spots)),]\n",
    "WT1S5 <- WT.spots[grep(\"WT-1-S5\",rownames(WT.spots)),]"
   ]
  },
  {
   "cell_type": "code",
   "execution_count": 34,
   "metadata": {},
   "outputs": [],
   "source": [
    "WT2S2 <- WT.spots[grep(\"WT-2-S2\",rownames(WT.spots)),]\n",
    "WT2S3 <- WT.spots[grep(\"WT-2-S3\",rownames(WT.spots)),]\n",
    "WT2S4 <- WT.spots[grep(\"WT-2-S4\",rownames(WT.spots)),]\n",
    "WT2S5 <- WT.spots[grep(\"WT-2-S6\",rownames(WT.spots)),]"
   ]
  },
  {
   "cell_type": "code",
   "execution_count": 35,
   "metadata": {},
   "outputs": [],
   "source": [
    "WT3S2 <- WT.spots[grep(\"WT-3-S2\",rownames(WT.spots)),]\n",
    "WT3S3 <- WT.spots[grep(\"WT-3-S4\",rownames(WT.spots)),]\n",
    "WT3S4 <- WT.spots[grep(\"WT-3-S5\",rownames(WT.spots)),]\n",
    "WT3S5 <- WT.spots[grep(\"WT-3-S6\",rownames(WT.spots)),]"
   ]
  },
  {
   "cell_type": "code",
   "execution_count": 36,
   "metadata": {},
   "outputs": [],
   "source": [
    "WT4S2 <- WT.spots[grep(\"WT-4-S3\",rownames(WT.spots)),]\n",
    "WT4S3 <- WT.spots[grep(\"WT-4-S4\",rownames(WT.spots)),]\n",
    "WT4S4 <- WT.spots[grep(\"WT-4-S5\",rownames(WT.spots)),]"
   ]
  },
  {
   "cell_type": "code",
   "execution_count": 37,
   "metadata": {},
   "outputs": [],
   "source": [
    "WT5S3 <- WT.spots[grep(\"WT-5-S3\",rownames(WT.spots)),]\n",
    "WT5S4 <- WT.spots[grep(\"WT-5-S4\",rownames(WT.spots)),]\n",
    "WT5S5 <- WT.spots[grep(\"WT-5-S6\",rownames(WT.spots)),]"
   ]
  },
  {
   "cell_type": "code",
   "execution_count": 38,
   "metadata": {},
   "outputs": [],
   "source": [
    "WT6S2 <- WT.spots[grep(\"WT-6-S2\",rownames(WT.spots)),]\n",
    "WT6S3 <- WT.spots[grep(\"WT-6-S3\",rownames(WT.spots)),]\n",
    "WT6S4 <- WT.spots[grep(\"WT-6-S4\",rownames(WT.spots)),]\n",
    "WT6S5 <- WT.spots[grep(\"WT-6-S5\",rownames(WT.spots)),]"
   ]
  },
  {
   "cell_type": "code",
   "execution_count": 39,
   "metadata": {},
   "outputs": [],
   "source": [
    "WT7S3 <- WT.spots[grep(\"WT-7-S3\",rownames(WT.spots)),]\n",
    "WT7S4 <- WT.spots[grep(\"WT-7-S4\",rownames(WT.spots)),]\n",
    "WT7S5 <- WT.spots[grep(\"WT-7-S6\",rownames(WT.spots)),]"
   ]
  },
  {
   "cell_type": "code",
   "execution_count": 40,
   "metadata": {},
   "outputs": [],
   "source": [
    "WT8S2 <- WT.spots[grep(\"WT-8-S2\",rownames(WT.spots)),]\n",
    "WT8S3 <- WT.spots[grep(\"WT-8-S3\",rownames(WT.spots)),]\n",
    "WT8S4 <- WT.spots[grep(\"WT-8-S4\",rownames(WT.spots)),]\n",
    "WT8S5 <- WT.spots[grep(\"WT-8-S6\",rownames(WT.spots)),]"
   ]
  },
  {
   "cell_type": "code",
   "execution_count": 41,
   "metadata": {},
   "outputs": [],
   "source": [
    "WT1S2.s <- colSums(WT1S2)/ROI_list[1]\n",
    "WT1S3.s <- colSums(WT1S3)/ROI_list[2]\n",
    "WT1S4.s <- colSums(WT1S4)/ROI_list[3]\n",
    "WT1S5.s <- colSums(WT1S5)/ROI_list[4]\n",
    "\n",
    "WT2S2.s <- colSums(WT2S2)/ROI_list[5]\n",
    "WT2S3.s <- colSums(WT2S3)/ROI_list[6]\n",
    "WT2S4.s <- colSums(WT2S4)/ROI_list[7]\n",
    "WT2S5.s <- colSums(WT2S5)/ROI_list[8]\n",
    "\n",
    "WT3S2.s <- colSums(WT3S2)/ROI_list[9]\n",
    "WT3S3.s <- colSums(WT3S3)/ROI_list[10]\n",
    "WT3S4.s <- colSums(WT3S4)/ROI_list[11]\n",
    "WT3S5.s <- colSums(WT3S5)/ROI_list[12]\n",
    "\n",
    "WT4S2.s <- colSums(WT4S2)/ROI_list[13]\n",
    "WT4S3.s <- colSums(WT4S3)/ROI_list[14]\n",
    "WT4S4.s <- colSums(WT4S4)/ROI_list[15]\n",
    "\n",
    "WT5S2.s <- colSums(WT5S3)/ROI_list[16]\n",
    "WT5S3.s <- colSums(WT5S4)/ROI_list[17]\n",
    "WT5S5.s <- colSums(WT5S5)/ROI_list[18]\n",
    "\n",
    "WT6S2.s <- colSums(WT6S2)/ROI_list[19]\n",
    "WT6S3.s <- colSums(WT6S3)/ROI_list[20]\n",
    "WT6S4.s <- colSums(WT6S4)/ROI_list[21]\n",
    "WT6S5.s <- colSums(WT6S5)/ROI_list[22]\n",
    "\n",
    "WT7S3.s <- colSums(WT7S3)/ROI_list[23]\n",
    "WT7S4.s <- colSums(WT7S4)/ROI_list[24]\n",
    "WT7S5.s <- colSums(WT7S5)/ROI_list[25]\n",
    "\n",
    "WT8S2.s <- colSums(WT8S2)/ROI_list[26]\n",
    "WT8S3.s <- colSums(WT8S3)/ROI_list[27]\n",
    "WT8S4.s <- colSums(WT8S4)/ROI_list[28]\n",
    "WT8S5.s <- colSums(WT8S5)/ROI_list[29]"
   ]
  },
  {
   "cell_type": "code",
   "execution_count": 42,
   "metadata": {},
   "outputs": [],
   "source": [
    "S1 <- data.frame(WT1S2.s, WT2S2.s, WT3S2.s, WT4S2.s, WT5S2.s, WT6S2.s, WT8S2.s)\n",
    "S2 <- data.frame(WT1S3.s, WT2S3.s, WT3S3.s, WT4S3.s, WT5S3.s, WT6S3.s, WT7S3.s, WT8S3.s)\n",
    "S3 <- data.frame(WT1S4.s, WT2S4.s, WT3S4.s, WT4S4.s, WT6S4.s, WT8S4.s)\n",
    "S4 <- data.frame(WT1S5.s, WT2S5.s, WT3S5.s, WT5S5.s, WT6S5.s, WT8S5.s)"
   ]
  },
  {
   "cell_type": "code",
   "execution_count": 43,
   "metadata": {},
   "outputs": [],
   "source": [
    "S1<-data.frame(rowMeans(S1))\n",
    "S2<-data.frame(rowMeans(S2))\n",
    "S3<-data.frame(rowMeans(S3))\n",
    "S4<-data.frame(rowMeans(S4))"
   ]
  },
  {
   "cell_type": "code",
   "execution_count": 44,
   "metadata": {},
   "outputs": [],
   "source": [
    "total <- cbind(S1, S2, S3, S4)"
   ]
  },
  {
   "cell_type": "code",
   "execution_count": 45,
   "metadata": {},
   "outputs": [],
   "source": [
    "colnames(total) <- c('+1.0',\"+0.8\",\"+0.4\",\"+0.1\")"
   ]
  },
  {
   "cell_type": "code",
   "execution_count": 46,
   "metadata": {},
   "outputs": [],
   "source": [
    "rownames(total) <- gsub('.Copies','',rownames(total))"
   ]
  },
  {
   "cell_type": "code",
   "execution_count": 47,
   "metadata": {
    "scrolled": true
   },
   "outputs": [
    {
     "data": {
      "text/html": [
       "<table class=\"dataframe\">\n",
       "<caption>A data.frame: 15 × 6</caption>\n",
       "<thead>\n",
       "\t<tr><th></th><th scope=col>+1.0</th><th scope=col>+0.8</th><th scope=col>+0.4</th><th scope=col>+0.1</th><th scope=col>gene</th><th scope=col>section</th></tr>\n",
       "\t<tr><th></th><th scope=col>&lt;dbl&gt;</th><th scope=col>&lt;dbl&gt;</th><th scope=col>&lt;dbl&gt;</th><th scope=col>&lt;dbl&gt;</th><th scope=col>&lt;chr&gt;</th><th scope=col>&lt;chr&gt;</th></tr>\n",
       "</thead>\n",
       "<tbody>\n",
       "\t<tr><th scope=row>drd2</th><td> 220.00454</td><td> 292.19285</td><td> 205.53770</td><td> 138.01370</td><td>drd2   </td><td>+1.0</td></tr>\n",
       "\t<tr><th scope=row>drd3</th><td> 174.28521</td><td> 232.46070</td><td> 161.54955</td><td> 124.48089</td><td>drd3   </td><td>+0.8</td></tr>\n",
       "\t<tr><th scope=row>sst</th><td> 258.44478</td><td> 323.52481</td><td> 204.20737</td><td> 242.98223</td><td>sst    </td><td>+0.4</td></tr>\n",
       "\t<tr><th scope=row>tacr1</th><td>  93.76739</td><td>  96.72923</td><td>  40.09705</td><td> 145.61060</td><td>tacr1  </td><td>+0.1</td></tr>\n",
       "\t<tr><th scope=row>esr1</th><td>  15.21210</td><td>  34.15802</td><td>  38.41676</td><td>  15.02742</td><td>esr1   </td><td>gene</td></tr>\n",
       "\t<tr><th scope=row>foxp2</th><td> 182.10316</td><td> 144.41120</td><td>  44.43149</td><td>  35.81890</td><td>foxp2  </td><td>+1.0</td></tr>\n",
       "\t<tr><th scope=row>vglut2</th><td>  28.40075</td><td>  41.54321</td><td>  27.16764</td><td>  53.48942</td><td>vglut2 </td><td>+0.8</td></tr>\n",
       "\t<tr><th scope=row>pax6</th><td>  25.68180</td><td>  42.64095</td><td>  28.28096</td><td>  47.16125</td><td>pax6   </td><td>+0.4</td></tr>\n",
       "\t<tr><th scope=row>nts</th><td> 211.22865</td><td> 384.93387</td><td> 244.82302</td><td>  79.95435</td><td>nts    </td><td>+0.1</td></tr>\n",
       "\t<tr><th scope=row>crhr2</th><td> 180.10076</td><td> 257.17496</td><td> 156.60149</td><td> 177.25750</td><td>crhr2  </td><td>gene</td></tr>\n",
       "\t<tr><th scope=row>met</th><td>  97.39157</td><td> 130.67028</td><td> 156.15467</td><td> 266.58891</td><td>met    </td><td>+1.0</td></tr>\n",
       "\t<tr><th scope=row>col15a1</th><td> 347.61721</td><td> 516.92519</td><td> 630.50420</td><td> 497.27347</td><td>col15a1</td><td>+0.8</td></tr>\n",
       "\t<tr><th scope=row>samd3</th><td>  51.29278</td><td>  40.05447</td><td>  52.61682</td><td>  56.61953</td><td>samd3  </td><td>+0.4</td></tr>\n",
       "\t<tr><th scope=row>vgat</th><td>1182.94556</td><td>1472.10078</td><td>1389.64100</td><td>1212.70834</td><td>vgat   </td><td>+0.1</td></tr>\n",
       "\t<tr><th scope=row>onecut2</th><td> 369.05168</td><td> 506.78293</td><td> 421.81215</td><td> 437.37696</td><td>onecut2</td><td>gene</td></tr>\n",
       "</tbody>\n",
       "</table>\n"
      ],
      "text/latex": [
       "A data.frame: 15 × 6\n",
       "\\begin{tabular}{r|llllll}\n",
       "  & +1.0 & +0.8 & +0.4 & +0.1 & gene & section\\\\\n",
       "  & <dbl> & <dbl> & <dbl> & <dbl> & <chr> & <chr>\\\\\n",
       "\\hline\n",
       "\tdrd2 &  220.00454 &  292.19285 &  205.53770 &  138.01370 & drd2    & +1.0\\\\\n",
       "\tdrd3 &  174.28521 &  232.46070 &  161.54955 &  124.48089 & drd3    & +0.8\\\\\n",
       "\tsst &  258.44478 &  323.52481 &  204.20737 &  242.98223 & sst     & +0.4\\\\\n",
       "\ttacr1 &   93.76739 &   96.72923 &   40.09705 &  145.61060 & tacr1   & +0.1\\\\\n",
       "\tesr1 &   15.21210 &   34.15802 &   38.41676 &   15.02742 & esr1    & gene\\\\\n",
       "\tfoxp2 &  182.10316 &  144.41120 &   44.43149 &   35.81890 & foxp2   & +1.0\\\\\n",
       "\tvglut2 &   28.40075 &   41.54321 &   27.16764 &   53.48942 & vglut2  & +0.8\\\\\n",
       "\tpax6 &   25.68180 &   42.64095 &   28.28096 &   47.16125 & pax6    & +0.4\\\\\n",
       "\tnts &  211.22865 &  384.93387 &  244.82302 &   79.95435 & nts     & +0.1\\\\\n",
       "\tcrhr2 &  180.10076 &  257.17496 &  156.60149 &  177.25750 & crhr2   & gene\\\\\n",
       "\tmet &   97.39157 &  130.67028 &  156.15467 &  266.58891 & met     & +1.0\\\\\n",
       "\tcol15a1 &  347.61721 &  516.92519 &  630.50420 &  497.27347 & col15a1 & +0.8\\\\\n",
       "\tsamd3 &   51.29278 &   40.05447 &   52.61682 &   56.61953 & samd3   & +0.4\\\\\n",
       "\tvgat & 1182.94556 & 1472.10078 & 1389.64100 & 1212.70834 & vgat    & +0.1\\\\\n",
       "\tonecut2 &  369.05168 &  506.78293 &  421.81215 &  437.37696 & onecut2 & gene\\\\\n",
       "\\end{tabular}\n"
      ],
      "text/markdown": [
       "\n",
       "A data.frame: 15 × 6\n",
       "\n",
       "| <!--/--> | +1.0 &lt;dbl&gt; | +0.8 &lt;dbl&gt; | +0.4 &lt;dbl&gt; | +0.1 &lt;dbl&gt; | gene &lt;chr&gt; | section &lt;chr&gt; |\n",
       "|---|---|---|---|---|---|---|\n",
       "| drd2 |  220.00454 |  292.19285 |  205.53770 |  138.01370 | drd2    | +1.0 |\n",
       "| drd3 |  174.28521 |  232.46070 |  161.54955 |  124.48089 | drd3    | +0.8 |\n",
       "| sst |  258.44478 |  323.52481 |  204.20737 |  242.98223 | sst     | +0.4 |\n",
       "| tacr1 |   93.76739 |   96.72923 |   40.09705 |  145.61060 | tacr1   | +0.1 |\n",
       "| esr1 |   15.21210 |   34.15802 |   38.41676 |   15.02742 | esr1    | gene |\n",
       "| foxp2 |  182.10316 |  144.41120 |   44.43149 |   35.81890 | foxp2   | +1.0 |\n",
       "| vglut2 |   28.40075 |   41.54321 |   27.16764 |   53.48942 | vglut2  | +0.8 |\n",
       "| pax6 |   25.68180 |   42.64095 |   28.28096 |   47.16125 | pax6    | +0.4 |\n",
       "| nts |  211.22865 |  384.93387 |  244.82302 |   79.95435 | nts     | +0.1 |\n",
       "| crhr2 |  180.10076 |  257.17496 |  156.60149 |  177.25750 | crhr2   | gene |\n",
       "| met |   97.39157 |  130.67028 |  156.15467 |  266.58891 | met     | +1.0 |\n",
       "| col15a1 |  347.61721 |  516.92519 |  630.50420 |  497.27347 | col15a1 | +0.8 |\n",
       "| samd3 |   51.29278 |   40.05447 |   52.61682 |   56.61953 | samd3   | +0.4 |\n",
       "| vgat | 1182.94556 | 1472.10078 | 1389.64100 | 1212.70834 | vgat    | +0.1 |\n",
       "| onecut2 |  369.05168 |  506.78293 |  421.81215 |  437.37696 | onecut2 | gene |\n",
       "\n"
      ],
      "text/plain": [
       "        +1.0       +0.8       +0.4       +0.1       gene    section\n",
       "drd2     220.00454  292.19285  205.53770  138.01370 drd2    +1.0   \n",
       "drd3     174.28521  232.46070  161.54955  124.48089 drd3    +0.8   \n",
       "sst      258.44478  323.52481  204.20737  242.98223 sst     +0.4   \n",
       "tacr1     93.76739   96.72923   40.09705  145.61060 tacr1   +0.1   \n",
       "esr1      15.21210   34.15802   38.41676   15.02742 esr1    gene   \n",
       "foxp2    182.10316  144.41120   44.43149   35.81890 foxp2   +1.0   \n",
       "vglut2    28.40075   41.54321   27.16764   53.48942 vglut2  +0.8   \n",
       "pax6      25.68180   42.64095   28.28096   47.16125 pax6    +0.4   \n",
       "nts      211.22865  384.93387  244.82302   79.95435 nts     +0.1   \n",
       "crhr2    180.10076  257.17496  156.60149  177.25750 crhr2   gene   \n",
       "met       97.39157  130.67028  156.15467  266.58891 met     +1.0   \n",
       "col15a1  347.61721  516.92519  630.50420  497.27347 col15a1 +0.8   \n",
       "samd3     51.29278   40.05447   52.61682   56.61953 samd3   +0.4   \n",
       "vgat    1182.94556 1472.10078 1389.64100 1212.70834 vgat    +0.1   \n",
       "onecut2  369.05168  506.78293  421.81215  437.37696 onecut2 gene   "
      ]
     },
     "metadata": {},
     "output_type": "display_data"
    }
   ],
   "source": [
    "total$gene <- rownames(total)\n",
    "total$section <- colnames(total)\n",
    "total"
   ]
  },
  {
   "cell_type": "code",
   "execution_count": 48,
   "metadata": {},
   "outputs": [
    {
     "name": "stderr",
     "output_type": "stream",
     "text": [
      "Using gene, section as id variables\n",
      "\n"
     ]
    }
   ],
   "source": [
    "library(tibble)\n",
    "df.density <- melt(total)"
   ]
  },
  {
   "cell_type": "markdown",
   "metadata": {},
   "source": [
    "Combining both datasets into one discplot"
   ]
  },
  {
   "cell_type": "code",
   "execution_count": 49,
   "metadata": {
    "scrolled": true
   },
   "outputs": [
    {
     "data": {
      "text/html": [
       "<table class=\"dataframe\">\n",
       "<caption>A data.frame: 60 × 4</caption>\n",
       "<thead>\n",
       "\t<tr><th scope=col>gene</th><th scope=col>section</th><th scope=col>variable</th><th scope=col>value</th></tr>\n",
       "\t<tr><th scope=col>&lt;chr&gt;</th><th scope=col>&lt;chr&gt;</th><th scope=col>&lt;fct&gt;</th><th scope=col>&lt;dbl&gt;</th></tr>\n",
       "</thead>\n",
       "<tbody>\n",
       "\t<tr><td>drd2   </td><td>+1.0</td><td>+1.0</td><td> 220.00454</td></tr>\n",
       "\t<tr><td>drd3   </td><td>+0.8</td><td>+1.0</td><td> 174.28521</td></tr>\n",
       "\t<tr><td>sst    </td><td>+0.4</td><td>+1.0</td><td> 258.44478</td></tr>\n",
       "\t<tr><td>tacr1  </td><td>+0.1</td><td>+1.0</td><td>  93.76739</td></tr>\n",
       "\t<tr><td>esr1   </td><td>gene</td><td>+1.0</td><td>  15.21210</td></tr>\n",
       "\t<tr><td>foxp2  </td><td>+1.0</td><td>+1.0</td><td> 182.10316</td></tr>\n",
       "\t<tr><td>vglut2 </td><td>+0.8</td><td>+1.0</td><td>  28.40075</td></tr>\n",
       "\t<tr><td>pax6   </td><td>+0.4</td><td>+1.0</td><td>  25.68180</td></tr>\n",
       "\t<tr><td>nts    </td><td>+0.1</td><td>+1.0</td><td> 211.22865</td></tr>\n",
       "\t<tr><td>crhr2  </td><td>gene</td><td>+1.0</td><td> 180.10076</td></tr>\n",
       "\t<tr><td>met    </td><td>+1.0</td><td>+1.0</td><td>  97.39157</td></tr>\n",
       "\t<tr><td>col15a1</td><td>+0.8</td><td>+1.0</td><td> 347.61721</td></tr>\n",
       "\t<tr><td>samd3  </td><td>+0.4</td><td>+1.0</td><td>  51.29278</td></tr>\n",
       "\t<tr><td>vgat   </td><td>+0.1</td><td>+1.0</td><td>1182.94556</td></tr>\n",
       "\t<tr><td>onecut2</td><td>gene</td><td>+1.0</td><td> 369.05168</td></tr>\n",
       "\t<tr><td>drd2   </td><td>+1.0</td><td>+0.8</td><td> 292.19285</td></tr>\n",
       "\t<tr><td>drd3   </td><td>+0.8</td><td>+0.8</td><td> 232.46070</td></tr>\n",
       "\t<tr><td>sst    </td><td>+0.4</td><td>+0.8</td><td> 323.52481</td></tr>\n",
       "\t<tr><td>tacr1  </td><td>+0.1</td><td>+0.8</td><td>  96.72923</td></tr>\n",
       "\t<tr><td>esr1   </td><td>gene</td><td>+0.8</td><td>  34.15802</td></tr>\n",
       "\t<tr><td>foxp2  </td><td>+1.0</td><td>+0.8</td><td> 144.41120</td></tr>\n",
       "\t<tr><td>vglut2 </td><td>+0.8</td><td>+0.8</td><td>  41.54321</td></tr>\n",
       "\t<tr><td>pax6   </td><td>+0.4</td><td>+0.8</td><td>  42.64095</td></tr>\n",
       "\t<tr><td>nts    </td><td>+0.1</td><td>+0.8</td><td> 384.93387</td></tr>\n",
       "\t<tr><td>crhr2  </td><td>gene</td><td>+0.8</td><td> 257.17496</td></tr>\n",
       "\t<tr><td>met    </td><td>+1.0</td><td>+0.8</td><td> 130.67028</td></tr>\n",
       "\t<tr><td>col15a1</td><td>+0.8</td><td>+0.8</td><td> 516.92519</td></tr>\n",
       "\t<tr><td>samd3  </td><td>+0.4</td><td>+0.8</td><td>  40.05447</td></tr>\n",
       "\t<tr><td>vgat   </td><td>+0.1</td><td>+0.8</td><td>1472.10078</td></tr>\n",
       "\t<tr><td>onecut2</td><td>gene</td><td>+0.8</td><td> 506.78293</td></tr>\n",
       "\t<tr><td>drd2   </td><td>+1.0</td><td>+0.4</td><td> 205.53770</td></tr>\n",
       "\t<tr><td>drd3   </td><td>+0.8</td><td>+0.4</td><td> 161.54955</td></tr>\n",
       "\t<tr><td>sst    </td><td>+0.4</td><td>+0.4</td><td> 204.20737</td></tr>\n",
       "\t<tr><td>tacr1  </td><td>+0.1</td><td>+0.4</td><td>  40.09705</td></tr>\n",
       "\t<tr><td>esr1   </td><td>gene</td><td>+0.4</td><td>  38.41676</td></tr>\n",
       "\t<tr><td>foxp2  </td><td>+1.0</td><td>+0.4</td><td>  44.43149</td></tr>\n",
       "\t<tr><td>vglut2 </td><td>+0.8</td><td>+0.4</td><td>  27.16764</td></tr>\n",
       "\t<tr><td>pax6   </td><td>+0.4</td><td>+0.4</td><td>  28.28096</td></tr>\n",
       "\t<tr><td>nts    </td><td>+0.1</td><td>+0.4</td><td> 244.82302</td></tr>\n",
       "\t<tr><td>crhr2  </td><td>gene</td><td>+0.4</td><td> 156.60149</td></tr>\n",
       "\t<tr><td>met    </td><td>+1.0</td><td>+0.4</td><td> 156.15467</td></tr>\n",
       "\t<tr><td>col15a1</td><td>+0.8</td><td>+0.4</td><td> 630.50420</td></tr>\n",
       "\t<tr><td>samd3  </td><td>+0.4</td><td>+0.4</td><td>  52.61682</td></tr>\n",
       "\t<tr><td>vgat   </td><td>+0.1</td><td>+0.4</td><td>1389.64100</td></tr>\n",
       "\t<tr><td>onecut2</td><td>gene</td><td>+0.4</td><td> 421.81215</td></tr>\n",
       "\t<tr><td>drd2   </td><td>+1.0</td><td>+0.1</td><td> 138.01370</td></tr>\n",
       "\t<tr><td>drd3   </td><td>+0.8</td><td>+0.1</td><td> 124.48089</td></tr>\n",
       "\t<tr><td>sst    </td><td>+0.4</td><td>+0.1</td><td> 242.98223</td></tr>\n",
       "\t<tr><td>tacr1  </td><td>+0.1</td><td>+0.1</td><td> 145.61060</td></tr>\n",
       "\t<tr><td>esr1   </td><td>gene</td><td>+0.1</td><td>  15.02742</td></tr>\n",
       "\t<tr><td>foxp2  </td><td>+1.0</td><td>+0.1</td><td>  35.81890</td></tr>\n",
       "\t<tr><td>vglut2 </td><td>+0.8</td><td>+0.1</td><td>  53.48942</td></tr>\n",
       "\t<tr><td>pax6   </td><td>+0.4</td><td>+0.1</td><td>  47.16125</td></tr>\n",
       "\t<tr><td>nts    </td><td>+0.1</td><td>+0.1</td><td>  79.95435</td></tr>\n",
       "\t<tr><td>crhr2  </td><td>gene</td><td>+0.1</td><td> 177.25750</td></tr>\n",
       "\t<tr><td>met    </td><td>+1.0</td><td>+0.1</td><td> 266.58891</td></tr>\n",
       "\t<tr><td>col15a1</td><td>+0.8</td><td>+0.1</td><td> 497.27347</td></tr>\n",
       "\t<tr><td>samd3  </td><td>+0.4</td><td>+0.1</td><td>  56.61953</td></tr>\n",
       "\t<tr><td>vgat   </td><td>+0.1</td><td>+0.1</td><td>1212.70834</td></tr>\n",
       "\t<tr><td>onecut2</td><td>gene</td><td>+0.1</td><td> 437.37696</td></tr>\n",
       "</tbody>\n",
       "</table>\n"
      ],
      "text/latex": [
       "A data.frame: 60 × 4\n",
       "\\begin{tabular}{llll}\n",
       " gene & section & variable & value\\\\\n",
       " <chr> & <chr> & <fct> & <dbl>\\\\\n",
       "\\hline\n",
       "\t drd2    & +1.0 & +1.0 &  220.00454\\\\\n",
       "\t drd3    & +0.8 & +1.0 &  174.28521\\\\\n",
       "\t sst     & +0.4 & +1.0 &  258.44478\\\\\n",
       "\t tacr1   & +0.1 & +1.0 &   93.76739\\\\\n",
       "\t esr1    & gene & +1.0 &   15.21210\\\\\n",
       "\t foxp2   & +1.0 & +1.0 &  182.10316\\\\\n",
       "\t vglut2  & +0.8 & +1.0 &   28.40075\\\\\n",
       "\t pax6    & +0.4 & +1.0 &   25.68180\\\\\n",
       "\t nts     & +0.1 & +1.0 &  211.22865\\\\\n",
       "\t crhr2   & gene & +1.0 &  180.10076\\\\\n",
       "\t met     & +1.0 & +1.0 &   97.39157\\\\\n",
       "\t col15a1 & +0.8 & +1.0 &  347.61721\\\\\n",
       "\t samd3   & +0.4 & +1.0 &   51.29278\\\\\n",
       "\t vgat    & +0.1 & +1.0 & 1182.94556\\\\\n",
       "\t onecut2 & gene & +1.0 &  369.05168\\\\\n",
       "\t drd2    & +1.0 & +0.8 &  292.19285\\\\\n",
       "\t drd3    & +0.8 & +0.8 &  232.46070\\\\\n",
       "\t sst     & +0.4 & +0.8 &  323.52481\\\\\n",
       "\t tacr1   & +0.1 & +0.8 &   96.72923\\\\\n",
       "\t esr1    & gene & +0.8 &   34.15802\\\\\n",
       "\t foxp2   & +1.0 & +0.8 &  144.41120\\\\\n",
       "\t vglut2  & +0.8 & +0.8 &   41.54321\\\\\n",
       "\t pax6    & +0.4 & +0.8 &   42.64095\\\\\n",
       "\t nts     & +0.1 & +0.8 &  384.93387\\\\\n",
       "\t crhr2   & gene & +0.8 &  257.17496\\\\\n",
       "\t met     & +1.0 & +0.8 &  130.67028\\\\\n",
       "\t col15a1 & +0.8 & +0.8 &  516.92519\\\\\n",
       "\t samd3   & +0.4 & +0.8 &   40.05447\\\\\n",
       "\t vgat    & +0.1 & +0.8 & 1472.10078\\\\\n",
       "\t onecut2 & gene & +0.8 &  506.78293\\\\\n",
       "\t drd2    & +1.0 & +0.4 &  205.53770\\\\\n",
       "\t drd3    & +0.8 & +0.4 &  161.54955\\\\\n",
       "\t sst     & +0.4 & +0.4 &  204.20737\\\\\n",
       "\t tacr1   & +0.1 & +0.4 &   40.09705\\\\\n",
       "\t esr1    & gene & +0.4 &   38.41676\\\\\n",
       "\t foxp2   & +1.0 & +0.4 &   44.43149\\\\\n",
       "\t vglut2  & +0.8 & +0.4 &   27.16764\\\\\n",
       "\t pax6    & +0.4 & +0.4 &   28.28096\\\\\n",
       "\t nts     & +0.1 & +0.4 &  244.82302\\\\\n",
       "\t crhr2   & gene & +0.4 &  156.60149\\\\\n",
       "\t met     & +1.0 & +0.4 &  156.15467\\\\\n",
       "\t col15a1 & +0.8 & +0.4 &  630.50420\\\\\n",
       "\t samd3   & +0.4 & +0.4 &   52.61682\\\\\n",
       "\t vgat    & +0.1 & +0.4 & 1389.64100\\\\\n",
       "\t onecut2 & gene & +0.4 &  421.81215\\\\\n",
       "\t drd2    & +1.0 & +0.1 &  138.01370\\\\\n",
       "\t drd3    & +0.8 & +0.1 &  124.48089\\\\\n",
       "\t sst     & +0.4 & +0.1 &  242.98223\\\\\n",
       "\t tacr1   & +0.1 & +0.1 &  145.61060\\\\\n",
       "\t esr1    & gene & +0.1 &   15.02742\\\\\n",
       "\t foxp2   & +1.0 & +0.1 &   35.81890\\\\\n",
       "\t vglut2  & +0.8 & +0.1 &   53.48942\\\\\n",
       "\t pax6    & +0.4 & +0.1 &   47.16125\\\\\n",
       "\t nts     & +0.1 & +0.1 &   79.95435\\\\\n",
       "\t crhr2   & gene & +0.1 &  177.25750\\\\\n",
       "\t met     & +1.0 & +0.1 &  266.58891\\\\\n",
       "\t col15a1 & +0.8 & +0.1 &  497.27347\\\\\n",
       "\t samd3   & +0.4 & +0.1 &   56.61953\\\\\n",
       "\t vgat    & +0.1 & +0.1 & 1212.70834\\\\\n",
       "\t onecut2 & gene & +0.1 &  437.37696\\\\\n",
       "\\end{tabular}\n"
      ],
      "text/markdown": [
       "\n",
       "A data.frame: 60 × 4\n",
       "\n",
       "| gene &lt;chr&gt; | section &lt;chr&gt; | variable &lt;fct&gt; | value &lt;dbl&gt; |\n",
       "|---|---|---|---|\n",
       "| drd2    | +1.0 | +1.0 |  220.00454 |\n",
       "| drd3    | +0.8 | +1.0 |  174.28521 |\n",
       "| sst     | +0.4 | +1.0 |  258.44478 |\n",
       "| tacr1   | +0.1 | +1.0 |   93.76739 |\n",
       "| esr1    | gene | +1.0 |   15.21210 |\n",
       "| foxp2   | +1.0 | +1.0 |  182.10316 |\n",
       "| vglut2  | +0.8 | +1.0 |   28.40075 |\n",
       "| pax6    | +0.4 | +1.0 |   25.68180 |\n",
       "| nts     | +0.1 | +1.0 |  211.22865 |\n",
       "| crhr2   | gene | +1.0 |  180.10076 |\n",
       "| met     | +1.0 | +1.0 |   97.39157 |\n",
       "| col15a1 | +0.8 | +1.0 |  347.61721 |\n",
       "| samd3   | +0.4 | +1.0 |   51.29278 |\n",
       "| vgat    | +0.1 | +1.0 | 1182.94556 |\n",
       "| onecut2 | gene | +1.0 |  369.05168 |\n",
       "| drd2    | +1.0 | +0.8 |  292.19285 |\n",
       "| drd3    | +0.8 | +0.8 |  232.46070 |\n",
       "| sst     | +0.4 | +0.8 |  323.52481 |\n",
       "| tacr1   | +0.1 | +0.8 |   96.72923 |\n",
       "| esr1    | gene | +0.8 |   34.15802 |\n",
       "| foxp2   | +1.0 | +0.8 |  144.41120 |\n",
       "| vglut2  | +0.8 | +0.8 |   41.54321 |\n",
       "| pax6    | +0.4 | +0.8 |   42.64095 |\n",
       "| nts     | +0.1 | +0.8 |  384.93387 |\n",
       "| crhr2   | gene | +0.8 |  257.17496 |\n",
       "| met     | +1.0 | +0.8 |  130.67028 |\n",
       "| col15a1 | +0.8 | +0.8 |  516.92519 |\n",
       "| samd3   | +0.4 | +0.8 |   40.05447 |\n",
       "| vgat    | +0.1 | +0.8 | 1472.10078 |\n",
       "| onecut2 | gene | +0.8 |  506.78293 |\n",
       "| drd2    | +1.0 | +0.4 |  205.53770 |\n",
       "| drd3    | +0.8 | +0.4 |  161.54955 |\n",
       "| sst     | +0.4 | +0.4 |  204.20737 |\n",
       "| tacr1   | +0.1 | +0.4 |   40.09705 |\n",
       "| esr1    | gene | +0.4 |   38.41676 |\n",
       "| foxp2   | +1.0 | +0.4 |   44.43149 |\n",
       "| vglut2  | +0.8 | +0.4 |   27.16764 |\n",
       "| pax6    | +0.4 | +0.4 |   28.28096 |\n",
       "| nts     | +0.1 | +0.4 |  244.82302 |\n",
       "| crhr2   | gene | +0.4 |  156.60149 |\n",
       "| met     | +1.0 | +0.4 |  156.15467 |\n",
       "| col15a1 | +0.8 | +0.4 |  630.50420 |\n",
       "| samd3   | +0.4 | +0.4 |   52.61682 |\n",
       "| vgat    | +0.1 | +0.4 | 1389.64100 |\n",
       "| onecut2 | gene | +0.4 |  421.81215 |\n",
       "| drd2    | +1.0 | +0.1 |  138.01370 |\n",
       "| drd3    | +0.8 | +0.1 |  124.48089 |\n",
       "| sst     | +0.4 | +0.1 |  242.98223 |\n",
       "| tacr1   | +0.1 | +0.1 |  145.61060 |\n",
       "| esr1    | gene | +0.1 |   15.02742 |\n",
       "| foxp2   | +1.0 | +0.1 |   35.81890 |\n",
       "| vglut2  | +0.8 | +0.1 |   53.48942 |\n",
       "| pax6    | +0.4 | +0.1 |   47.16125 |\n",
       "| nts     | +0.1 | +0.1 |   79.95435 |\n",
       "| crhr2   | gene | +0.1 |  177.25750 |\n",
       "| met     | +1.0 | +0.1 |  266.58891 |\n",
       "| col15a1 | +0.8 | +0.1 |  497.27347 |\n",
       "| samd3   | +0.4 | +0.1 |   56.61953 |\n",
       "| vgat    | +0.1 | +0.1 | 1212.70834 |\n",
       "| onecut2 | gene | +0.1 |  437.37696 |\n",
       "\n"
      ],
      "text/plain": [
       "   gene    section variable value     \n",
       "1  drd2    +1.0    +1.0      220.00454\n",
       "2  drd3    +0.8    +1.0      174.28521\n",
       "3  sst     +0.4    +1.0      258.44478\n",
       "4  tacr1   +0.1    +1.0       93.76739\n",
       "5  esr1    gene    +1.0       15.21210\n",
       "6  foxp2   +1.0    +1.0      182.10316\n",
       "7  vglut2  +0.8    +1.0       28.40075\n",
       "8  pax6    +0.4    +1.0       25.68180\n",
       "9  nts     +0.1    +1.0      211.22865\n",
       "10 crhr2   gene    +1.0      180.10076\n",
       "11 met     +1.0    +1.0       97.39157\n",
       "12 col15a1 +0.8    +1.0      347.61721\n",
       "13 samd3   +0.4    +1.0       51.29278\n",
       "14 vgat    +0.1    +1.0     1182.94556\n",
       "15 onecut2 gene    +1.0      369.05168\n",
       "16 drd2    +1.0    +0.8      292.19285\n",
       "17 drd3    +0.8    +0.8      232.46070\n",
       "18 sst     +0.4    +0.8      323.52481\n",
       "19 tacr1   +0.1    +0.8       96.72923\n",
       "20 esr1    gene    +0.8       34.15802\n",
       "21 foxp2   +1.0    +0.8      144.41120\n",
       "22 vglut2  +0.8    +0.8       41.54321\n",
       "23 pax6    +0.4    +0.8       42.64095\n",
       "24 nts     +0.1    +0.8      384.93387\n",
       "25 crhr2   gene    +0.8      257.17496\n",
       "26 met     +1.0    +0.8      130.67028\n",
       "27 col15a1 +0.8    +0.8      516.92519\n",
       "28 samd3   +0.4    +0.8       40.05447\n",
       "29 vgat    +0.1    +0.8     1472.10078\n",
       "30 onecut2 gene    +0.8      506.78293\n",
       "31 drd2    +1.0    +0.4      205.53770\n",
       "32 drd3    +0.8    +0.4      161.54955\n",
       "33 sst     +0.4    +0.4      204.20737\n",
       "34 tacr1   +0.1    +0.4       40.09705\n",
       "35 esr1    gene    +0.4       38.41676\n",
       "36 foxp2   +1.0    +0.4       44.43149\n",
       "37 vglut2  +0.8    +0.4       27.16764\n",
       "38 pax6    +0.4    +0.4       28.28096\n",
       "39 nts     +0.1    +0.4      244.82302\n",
       "40 crhr2   gene    +0.4      156.60149\n",
       "41 met     +1.0    +0.4      156.15467\n",
       "42 col15a1 +0.8    +0.4      630.50420\n",
       "43 samd3   +0.4    +0.4       52.61682\n",
       "44 vgat    +0.1    +0.4     1389.64100\n",
       "45 onecut2 gene    +0.4      421.81215\n",
       "46 drd2    +1.0    +0.1      138.01370\n",
       "47 drd3    +0.8    +0.1      124.48089\n",
       "48 sst     +0.4    +0.1      242.98223\n",
       "49 tacr1   +0.1    +0.1      145.61060\n",
       "50 esr1    gene    +0.1       15.02742\n",
       "51 foxp2   +1.0    +0.1       35.81890\n",
       "52 vglut2  +0.8    +0.1       53.48942\n",
       "53 pax6    +0.4    +0.1       47.16125\n",
       "54 nts     +0.1    +0.1       79.95435\n",
       "55 crhr2   gene    +0.1      177.25750\n",
       "56 met     +1.0    +0.1      266.58891\n",
       "57 col15a1 +0.8    +0.1      497.27347\n",
       "58 samd3   +0.4    +0.1       56.61953\n",
       "59 vgat    +0.1    +0.1     1212.70834\n",
       "60 onecut2 gene    +0.1      437.37696"
      ]
     },
     "metadata": {},
     "output_type": "display_data"
    }
   ],
   "source": [
    "df.density"
   ]
  },
  {
   "cell_type": "code",
   "execution_count": 50,
   "metadata": {
    "scrolled": true
   },
   "outputs": [
    {
     "data": {
      "text/html": [
       "<table class=\"dataframe\">\n",
       "<caption>A data.frame: 60 × 4</caption>\n",
       "<thead>\n",
       "\t<tr><th scope=col>gene</th><th scope=col>section</th><th scope=col>variable</th><th scope=col>value</th></tr>\n",
       "\t<tr><th scope=col>&lt;chr&gt;</th><th scope=col>&lt;chr&gt;</th><th scope=col>&lt;fct&gt;</th><th scope=col>&lt;dbl&gt;</th></tr>\n",
       "</thead>\n",
       "<tbody>\n",
       "\t<tr><td>drd2   </td><td>+1.0</td><td>+1.0</td><td>0.55006210</td></tr>\n",
       "\t<tr><td>drd3   </td><td>+0.8</td><td>+1.0</td><td>0.63863299</td></tr>\n",
       "\t<tr><td>sst    </td><td>+0.4</td><td>+1.0</td><td>1.00000000</td></tr>\n",
       "\t<tr><td>tacr1  </td><td>+0.1</td><td>+1.0</td><td>0.64940982</td></tr>\n",
       "\t<tr><td>esr1   </td><td>gene</td><td>+1.0</td><td>0.75107101</td></tr>\n",
       "\t<tr><td>foxp2  </td><td>+1.0</td><td>+1.0</td><td>1.00000000</td></tr>\n",
       "\t<tr><td>vglut2 </td><td>+0.8</td><td>+1.0</td><td>0.33118791</td></tr>\n",
       "\t<tr><td>pax6   </td><td>+0.4</td><td>+1.0</td><td>0.36468020</td></tr>\n",
       "\t<tr><td>nts    </td><td>+0.1</td><td>+1.0</td><td>0.72425984</td></tr>\n",
       "\t<tr><td>crhr2  </td><td>gene</td><td>+1.0</td><td>0.54462371</td></tr>\n",
       "\t<tr><td>met    </td><td>+1.0</td><td>+1.0</td><td>0.28511122</td></tr>\n",
       "\t<tr><td>col15a1</td><td>+0.8</td><td>+1.0</td><td>1.00000000</td></tr>\n",
       "\t<tr><td>samd3  </td><td>+0.4</td><td>+1.0</td><td>0.99353737</td></tr>\n",
       "\t<tr><td>vgat   </td><td>+0.1</td><td>+1.0</td><td>1.00000000</td></tr>\n",
       "\t<tr><td>onecut2</td><td>gene</td><td>+1.0</td><td>0.86682453</td></tr>\n",
       "\t<tr><td>drd2   </td><td>+1.0</td><td>+0.8</td><td>0.00000000</td></tr>\n",
       "\t<tr><td>drd3   </td><td>+0.8</td><td>+0.8</td><td>0.81052130</td></tr>\n",
       "\t<tr><td>sst    </td><td>+0.4</td><td>+0.8</td><td>0.75711635</td></tr>\n",
       "\t<tr><td>tacr1  </td><td>+0.1</td><td>+0.8</td><td>0.71191900</td></tr>\n",
       "\t<tr><td>esr1   </td><td>gene</td><td>+0.8</td><td>0.30640180</td></tr>\n",
       "\t<tr><td>foxp2  </td><td>+1.0</td><td>+0.8</td><td>0.00000000</td></tr>\n",
       "\t<tr><td>vglut2 </td><td>+0.8</td><td>+0.8</td><td>1.00000000</td></tr>\n",
       "\t<tr><td>pax6   </td><td>+0.4</td><td>+0.8</td><td>1.00000000</td></tr>\n",
       "\t<tr><td>nts    </td><td>+0.1</td><td>+0.8</td><td>1.00000000</td></tr>\n",
       "\t<tr><td>crhr2  </td><td>gene</td><td>+0.8</td><td>0.47279508</td></tr>\n",
       "\t<tr><td>met    </td><td>+1.0</td><td>+0.8</td><td>0.00000000</td></tr>\n",
       "\t<tr><td>col15a1</td><td>+0.8</td><td>+0.8</td><td>0.56284168</td></tr>\n",
       "\t<tr><td>samd3  </td><td>+0.4</td><td>+0.8</td><td>1.00000000</td></tr>\n",
       "\t<tr><td>vgat   </td><td>+0.1</td><td>+0.8</td><td>0.86800143</td></tr>\n",
       "\t<tr><td>onecut2</td><td>gene</td><td>+0.8</td><td>0.86682453</td></tr>\n",
       "\t<tr><td>drd2   </td><td>+1.0</td><td>+0.4</td><td>1.00000000</td></tr>\n",
       "\t<tr><td>drd3   </td><td>+0.8</td><td>+0.4</td><td>1.00000000</td></tr>\n",
       "\t<tr><td>sst    </td><td>+0.4</td><td>+0.4</td><td>0.47961963</td></tr>\n",
       "\t<tr><td>tacr1  </td><td>+0.1</td><td>+0.4</td><td>1.00000000</td></tr>\n",
       "\t<tr><td>esr1   </td><td>gene</td><td>+0.4</td><td>1.00000000</td></tr>\n",
       "\t<tr><td>foxp2  </td><td>+1.0</td><td>+0.4</td><td>0.26161310</td></tr>\n",
       "\t<tr><td>vglut2 </td><td>+0.8</td><td>+0.4</td><td>0.00000000</td></tr>\n",
       "\t<tr><td>pax6   </td><td>+0.4</td><td>+0.4</td><td>0.30162331</td></tr>\n",
       "\t<tr><td>nts    </td><td>+0.1</td><td>+0.4</td><td>0.53580460</td></tr>\n",
       "\t<tr><td>crhr2  </td><td>gene</td><td>+0.4</td><td>1.00000000</td></tr>\n",
       "\t<tr><td>met    </td><td>+1.0</td><td>+0.4</td><td>0.24313628</td></tr>\n",
       "\t<tr><td>col15a1</td><td>+0.8</td><td>+0.4</td><td>0.82601218</td></tr>\n",
       "\t<tr><td>samd3  </td><td>+0.4</td><td>+0.4</td><td>0.00000000</td></tr>\n",
       "\t<tr><td>vgat   </td><td>+0.1</td><td>+0.4</td><td>0.48912687</td></tr>\n",
       "\t<tr><td>onecut2</td><td>gene</td><td>+0.4</td><td>0.00000000</td></tr>\n",
       "\t<tr><td>drd2   </td><td>+1.0</td><td>+0.1</td><td>0.07483475</td></tr>\n",
       "\t<tr><td>drd3   </td><td>+0.8</td><td>+0.1</td><td>0.00000000</td></tr>\n",
       "\t<tr><td>sst    </td><td>+0.4</td><td>+0.1</td><td>0.00000000</td></tr>\n",
       "\t<tr><td>tacr1  </td><td>+0.1</td><td>+0.1</td><td>0.00000000</td></tr>\n",
       "\t<tr><td>esr1   </td><td>gene</td><td>+0.1</td><td>0.00000000</td></tr>\n",
       "\t<tr><td>foxp2  </td><td>+1.0</td><td>+0.1</td><td>0.09886735</td></tr>\n",
       "\t<tr><td>vglut2 </td><td>+0.8</td><td>+0.1</td><td>0.65611463</td></tr>\n",
       "\t<tr><td>pax6   </td><td>+0.4</td><td>+0.1</td><td>0.00000000</td></tr>\n",
       "\t<tr><td>nts    </td><td>+0.1</td><td>+0.1</td><td>0.00000000</td></tr>\n",
       "\t<tr><td>crhr2  </td><td>gene</td><td>+0.1</td><td>0.00000000</td></tr>\n",
       "\t<tr><td>met    </td><td>+1.0</td><td>+0.1</td><td>1.00000000</td></tr>\n",
       "\t<tr><td>col15a1</td><td>+0.8</td><td>+0.1</td><td>0.00000000</td></tr>\n",
       "\t<tr><td>samd3  </td><td>+0.4</td><td>+0.1</td><td>0.49517605</td></tr>\n",
       "\t<tr><td>vgat   </td><td>+0.1</td><td>+0.1</td><td>0.00000000</td></tr>\n",
       "\t<tr><td>onecut2</td><td>gene</td><td>+0.1</td><td>1.00000000</td></tr>\n",
       "</tbody>\n",
       "</table>\n"
      ],
      "text/latex": [
       "A data.frame: 60 × 4\n",
       "\\begin{tabular}{llll}\n",
       " gene & section & variable & value\\\\\n",
       " <chr> & <chr> & <fct> & <dbl>\\\\\n",
       "\\hline\n",
       "\t drd2    & +1.0 & +1.0 & 0.55006210\\\\\n",
       "\t drd3    & +0.8 & +1.0 & 0.63863299\\\\\n",
       "\t sst     & +0.4 & +1.0 & 1.00000000\\\\\n",
       "\t tacr1   & +0.1 & +1.0 & 0.64940982\\\\\n",
       "\t esr1    & gene & +1.0 & 0.75107101\\\\\n",
       "\t foxp2   & +1.0 & +1.0 & 1.00000000\\\\\n",
       "\t vglut2  & +0.8 & +1.0 & 0.33118791\\\\\n",
       "\t pax6    & +0.4 & +1.0 & 0.36468020\\\\\n",
       "\t nts     & +0.1 & +1.0 & 0.72425984\\\\\n",
       "\t crhr2   & gene & +1.0 & 0.54462371\\\\\n",
       "\t met     & +1.0 & +1.0 & 0.28511122\\\\\n",
       "\t col15a1 & +0.8 & +1.0 & 1.00000000\\\\\n",
       "\t samd3   & +0.4 & +1.0 & 0.99353737\\\\\n",
       "\t vgat    & +0.1 & +1.0 & 1.00000000\\\\\n",
       "\t onecut2 & gene & +1.0 & 0.86682453\\\\\n",
       "\t drd2    & +1.0 & +0.8 & 0.00000000\\\\\n",
       "\t drd3    & +0.8 & +0.8 & 0.81052130\\\\\n",
       "\t sst     & +0.4 & +0.8 & 0.75711635\\\\\n",
       "\t tacr1   & +0.1 & +0.8 & 0.71191900\\\\\n",
       "\t esr1    & gene & +0.8 & 0.30640180\\\\\n",
       "\t foxp2   & +1.0 & +0.8 & 0.00000000\\\\\n",
       "\t vglut2  & +0.8 & +0.8 & 1.00000000\\\\\n",
       "\t pax6    & +0.4 & +0.8 & 1.00000000\\\\\n",
       "\t nts     & +0.1 & +0.8 & 1.00000000\\\\\n",
       "\t crhr2   & gene & +0.8 & 0.47279508\\\\\n",
       "\t met     & +1.0 & +0.8 & 0.00000000\\\\\n",
       "\t col15a1 & +0.8 & +0.8 & 0.56284168\\\\\n",
       "\t samd3   & +0.4 & +0.8 & 1.00000000\\\\\n",
       "\t vgat    & +0.1 & +0.8 & 0.86800143\\\\\n",
       "\t onecut2 & gene & +0.8 & 0.86682453\\\\\n",
       "\t drd2    & +1.0 & +0.4 & 1.00000000\\\\\n",
       "\t drd3    & +0.8 & +0.4 & 1.00000000\\\\\n",
       "\t sst     & +0.4 & +0.4 & 0.47961963\\\\\n",
       "\t tacr1   & +0.1 & +0.4 & 1.00000000\\\\\n",
       "\t esr1    & gene & +0.4 & 1.00000000\\\\\n",
       "\t foxp2   & +1.0 & +0.4 & 0.26161310\\\\\n",
       "\t vglut2  & +0.8 & +0.4 & 0.00000000\\\\\n",
       "\t pax6    & +0.4 & +0.4 & 0.30162331\\\\\n",
       "\t nts     & +0.1 & +0.4 & 0.53580460\\\\\n",
       "\t crhr2   & gene & +0.4 & 1.00000000\\\\\n",
       "\t met     & +1.0 & +0.4 & 0.24313628\\\\\n",
       "\t col15a1 & +0.8 & +0.4 & 0.82601218\\\\\n",
       "\t samd3   & +0.4 & +0.4 & 0.00000000\\\\\n",
       "\t vgat    & +0.1 & +0.4 & 0.48912687\\\\\n",
       "\t onecut2 & gene & +0.4 & 0.00000000\\\\\n",
       "\t drd2    & +1.0 & +0.1 & 0.07483475\\\\\n",
       "\t drd3    & +0.8 & +0.1 & 0.00000000\\\\\n",
       "\t sst     & +0.4 & +0.1 & 0.00000000\\\\\n",
       "\t tacr1   & +0.1 & +0.1 & 0.00000000\\\\\n",
       "\t esr1    & gene & +0.1 & 0.00000000\\\\\n",
       "\t foxp2   & +1.0 & +0.1 & 0.09886735\\\\\n",
       "\t vglut2  & +0.8 & +0.1 & 0.65611463\\\\\n",
       "\t pax6    & +0.4 & +0.1 & 0.00000000\\\\\n",
       "\t nts     & +0.1 & +0.1 & 0.00000000\\\\\n",
       "\t crhr2   & gene & +0.1 & 0.00000000\\\\\n",
       "\t met     & +1.0 & +0.1 & 1.00000000\\\\\n",
       "\t col15a1 & +0.8 & +0.1 & 0.00000000\\\\\n",
       "\t samd3   & +0.4 & +0.1 & 0.49517605\\\\\n",
       "\t vgat    & +0.1 & +0.1 & 0.00000000\\\\\n",
       "\t onecut2 & gene & +0.1 & 1.00000000\\\\\n",
       "\\end{tabular}\n"
      ],
      "text/markdown": [
       "\n",
       "A data.frame: 60 × 4\n",
       "\n",
       "| gene &lt;chr&gt; | section &lt;chr&gt; | variable &lt;fct&gt; | value &lt;dbl&gt; |\n",
       "|---|---|---|---|\n",
       "| drd2    | +1.0 | +1.0 | 0.55006210 |\n",
       "| drd3    | +0.8 | +1.0 | 0.63863299 |\n",
       "| sst     | +0.4 | +1.0 | 1.00000000 |\n",
       "| tacr1   | +0.1 | +1.0 | 0.64940982 |\n",
       "| esr1    | gene | +1.0 | 0.75107101 |\n",
       "| foxp2   | +1.0 | +1.0 | 1.00000000 |\n",
       "| vglut2  | +0.8 | +1.0 | 0.33118791 |\n",
       "| pax6    | +0.4 | +1.0 | 0.36468020 |\n",
       "| nts     | +0.1 | +1.0 | 0.72425984 |\n",
       "| crhr2   | gene | +1.0 | 0.54462371 |\n",
       "| met     | +1.0 | +1.0 | 0.28511122 |\n",
       "| col15a1 | +0.8 | +1.0 | 1.00000000 |\n",
       "| samd3   | +0.4 | +1.0 | 0.99353737 |\n",
       "| vgat    | +0.1 | +1.0 | 1.00000000 |\n",
       "| onecut2 | gene | +1.0 | 0.86682453 |\n",
       "| drd2    | +1.0 | +0.8 | 0.00000000 |\n",
       "| drd3    | +0.8 | +0.8 | 0.81052130 |\n",
       "| sst     | +0.4 | +0.8 | 0.75711635 |\n",
       "| tacr1   | +0.1 | +0.8 | 0.71191900 |\n",
       "| esr1    | gene | +0.8 | 0.30640180 |\n",
       "| foxp2   | +1.0 | +0.8 | 0.00000000 |\n",
       "| vglut2  | +0.8 | +0.8 | 1.00000000 |\n",
       "| pax6    | +0.4 | +0.8 | 1.00000000 |\n",
       "| nts     | +0.1 | +0.8 | 1.00000000 |\n",
       "| crhr2   | gene | +0.8 | 0.47279508 |\n",
       "| met     | +1.0 | +0.8 | 0.00000000 |\n",
       "| col15a1 | +0.8 | +0.8 | 0.56284168 |\n",
       "| samd3   | +0.4 | +0.8 | 1.00000000 |\n",
       "| vgat    | +0.1 | +0.8 | 0.86800143 |\n",
       "| onecut2 | gene | +0.8 | 0.86682453 |\n",
       "| drd2    | +1.0 | +0.4 | 1.00000000 |\n",
       "| drd3    | +0.8 | +0.4 | 1.00000000 |\n",
       "| sst     | +0.4 | +0.4 | 0.47961963 |\n",
       "| tacr1   | +0.1 | +0.4 | 1.00000000 |\n",
       "| esr1    | gene | +0.4 | 1.00000000 |\n",
       "| foxp2   | +1.0 | +0.4 | 0.26161310 |\n",
       "| vglut2  | +0.8 | +0.4 | 0.00000000 |\n",
       "| pax6    | +0.4 | +0.4 | 0.30162331 |\n",
       "| nts     | +0.1 | +0.4 | 0.53580460 |\n",
       "| crhr2   | gene | +0.4 | 1.00000000 |\n",
       "| met     | +1.0 | +0.4 | 0.24313628 |\n",
       "| col15a1 | +0.8 | +0.4 | 0.82601218 |\n",
       "| samd3   | +0.4 | +0.4 | 0.00000000 |\n",
       "| vgat    | +0.1 | +0.4 | 0.48912687 |\n",
       "| onecut2 | gene | +0.4 | 0.00000000 |\n",
       "| drd2    | +1.0 | +0.1 | 0.07483475 |\n",
       "| drd3    | +0.8 | +0.1 | 0.00000000 |\n",
       "| sst     | +0.4 | +0.1 | 0.00000000 |\n",
       "| tacr1   | +0.1 | +0.1 | 0.00000000 |\n",
       "| esr1    | gene | +0.1 | 0.00000000 |\n",
       "| foxp2   | +1.0 | +0.1 | 0.09886735 |\n",
       "| vglut2  | +0.8 | +0.1 | 0.65611463 |\n",
       "| pax6    | +0.4 | +0.1 | 0.00000000 |\n",
       "| nts     | +0.1 | +0.1 | 0.00000000 |\n",
       "| crhr2   | gene | +0.1 | 0.00000000 |\n",
       "| met     | +1.0 | +0.1 | 1.00000000 |\n",
       "| col15a1 | +0.8 | +0.1 | 0.00000000 |\n",
       "| samd3   | +0.4 | +0.1 | 0.49517605 |\n",
       "| vgat    | +0.1 | +0.1 | 0.00000000 |\n",
       "| onecut2 | gene | +0.1 | 1.00000000 |\n",
       "\n"
      ],
      "text/plain": [
       "   gene    section variable value     \n",
       "1  drd2    +1.0    +1.0     0.55006210\n",
       "2  drd3    +0.8    +1.0     0.63863299\n",
       "3  sst     +0.4    +1.0     1.00000000\n",
       "4  tacr1   +0.1    +1.0     0.64940982\n",
       "5  esr1    gene    +1.0     0.75107101\n",
       "6  foxp2   +1.0    +1.0     1.00000000\n",
       "7  vglut2  +0.8    +1.0     0.33118791\n",
       "8  pax6    +0.4    +1.0     0.36468020\n",
       "9  nts     +0.1    +1.0     0.72425984\n",
       "10 crhr2   gene    +1.0     0.54462371\n",
       "11 met     +1.0    +1.0     0.28511122\n",
       "12 col15a1 +0.8    +1.0     1.00000000\n",
       "13 samd3   +0.4    +1.0     0.99353737\n",
       "14 vgat    +0.1    +1.0     1.00000000\n",
       "15 onecut2 gene    +1.0     0.86682453\n",
       "16 drd2    +1.0    +0.8     0.00000000\n",
       "17 drd3    +0.8    +0.8     0.81052130\n",
       "18 sst     +0.4    +0.8     0.75711635\n",
       "19 tacr1   +0.1    +0.8     0.71191900\n",
       "20 esr1    gene    +0.8     0.30640180\n",
       "21 foxp2   +1.0    +0.8     0.00000000\n",
       "22 vglut2  +0.8    +0.8     1.00000000\n",
       "23 pax6    +0.4    +0.8     1.00000000\n",
       "24 nts     +0.1    +0.8     1.00000000\n",
       "25 crhr2   gene    +0.8     0.47279508\n",
       "26 met     +1.0    +0.8     0.00000000\n",
       "27 col15a1 +0.8    +0.8     0.56284168\n",
       "28 samd3   +0.4    +0.8     1.00000000\n",
       "29 vgat    +0.1    +0.8     0.86800143\n",
       "30 onecut2 gene    +0.8     0.86682453\n",
       "31 drd2    +1.0    +0.4     1.00000000\n",
       "32 drd3    +0.8    +0.4     1.00000000\n",
       "33 sst     +0.4    +0.4     0.47961963\n",
       "34 tacr1   +0.1    +0.4     1.00000000\n",
       "35 esr1    gene    +0.4     1.00000000\n",
       "36 foxp2   +1.0    +0.4     0.26161310\n",
       "37 vglut2  +0.8    +0.4     0.00000000\n",
       "38 pax6    +0.4    +0.4     0.30162331\n",
       "39 nts     +0.1    +0.4     0.53580460\n",
       "40 crhr2   gene    +0.4     1.00000000\n",
       "41 met     +1.0    +0.4     0.24313628\n",
       "42 col15a1 +0.8    +0.4     0.82601218\n",
       "43 samd3   +0.4    +0.4     0.00000000\n",
       "44 vgat    +0.1    +0.4     0.48912687\n",
       "45 onecut2 gene    +0.4     0.00000000\n",
       "46 drd2    +1.0    +0.1     0.07483475\n",
       "47 drd3    +0.8    +0.1     0.00000000\n",
       "48 sst     +0.4    +0.1     0.00000000\n",
       "49 tacr1   +0.1    +0.1     0.00000000\n",
       "50 esr1    gene    +0.1     0.00000000\n",
       "51 foxp2   +1.0    +0.1     0.09886735\n",
       "52 vglut2  +0.8    +0.1     0.65611463\n",
       "53 pax6    +0.4    +0.1     0.00000000\n",
       "54 nts     +0.1    +0.1     0.00000000\n",
       "55 crhr2   gene    +0.1     0.00000000\n",
       "56 met     +1.0    +0.1     1.00000000\n",
       "57 col15a1 +0.8    +0.1     0.00000000\n",
       "58 samd3   +0.4    +0.1     0.49517605\n",
       "59 vgat    +0.1    +0.1     0.00000000\n",
       "60 onecut2 gene    +0.1     1.00000000"
      ]
     },
     "metadata": {},
     "output_type": "display_data"
    }
   ],
   "source": [
    "df.intensity"
   ]
  },
  {
   "cell_type": "code",
   "execution_count": 51,
   "metadata": {},
   "outputs": [
    {
     "data": {
      "text/html": [
       "<table class=\"dataframe\">\n",
       "<caption>A data.frame: 60 × 5</caption>\n",
       "<thead>\n",
       "\t<tr><th scope=col>gene</th><th scope=col>section</th><th scope=col>variable</th><th scope=col>value</th><th scope=col>intensity</th></tr>\n",
       "\t<tr><th scope=col>&lt;chr&gt;</th><th scope=col>&lt;chr&gt;</th><th scope=col>&lt;fct&gt;</th><th scope=col>&lt;dbl&gt;</th><th scope=col>&lt;dbl&gt;</th></tr>\n",
       "</thead>\n",
       "<tbody>\n",
       "\t<tr><td>drd2   </td><td>+1.0</td><td>+1.0</td><td> 220.00454</td><td>0.55006210</td></tr>\n",
       "\t<tr><td>drd3   </td><td>+0.8</td><td>+1.0</td><td> 174.28521</td><td>0.63863299</td></tr>\n",
       "\t<tr><td>sst    </td><td>+0.4</td><td>+1.0</td><td> 258.44478</td><td>1.00000000</td></tr>\n",
       "\t<tr><td>tacr1  </td><td>+0.1</td><td>+1.0</td><td>  93.76739</td><td>0.64940982</td></tr>\n",
       "\t<tr><td>esr1   </td><td>gene</td><td>+1.0</td><td>  15.21210</td><td>0.75107101</td></tr>\n",
       "\t<tr><td>foxp2  </td><td>+1.0</td><td>+1.0</td><td> 182.10316</td><td>1.00000000</td></tr>\n",
       "\t<tr><td>vglut2 </td><td>+0.8</td><td>+1.0</td><td>  28.40075</td><td>0.33118791</td></tr>\n",
       "\t<tr><td>pax6   </td><td>+0.4</td><td>+1.0</td><td>  25.68180</td><td>0.36468020</td></tr>\n",
       "\t<tr><td>nts    </td><td>+0.1</td><td>+1.0</td><td> 211.22865</td><td>0.72425984</td></tr>\n",
       "\t<tr><td>crhr2  </td><td>gene</td><td>+1.0</td><td> 180.10076</td><td>0.54462371</td></tr>\n",
       "\t<tr><td>met    </td><td>+1.0</td><td>+1.0</td><td>  97.39157</td><td>0.28511122</td></tr>\n",
       "\t<tr><td>col15a1</td><td>+0.8</td><td>+1.0</td><td> 347.61721</td><td>1.00000000</td></tr>\n",
       "\t<tr><td>samd3  </td><td>+0.4</td><td>+1.0</td><td>  51.29278</td><td>0.99353737</td></tr>\n",
       "\t<tr><td>vgat   </td><td>+0.1</td><td>+1.0</td><td>1182.94556</td><td>1.00000000</td></tr>\n",
       "\t<tr><td>onecut2</td><td>gene</td><td>+1.0</td><td> 369.05168</td><td>0.86682453</td></tr>\n",
       "\t<tr><td>drd2   </td><td>+1.0</td><td>+0.8</td><td> 292.19285</td><td>0.00000000</td></tr>\n",
       "\t<tr><td>drd3   </td><td>+0.8</td><td>+0.8</td><td> 232.46070</td><td>0.81052130</td></tr>\n",
       "\t<tr><td>sst    </td><td>+0.4</td><td>+0.8</td><td> 323.52481</td><td>0.75711635</td></tr>\n",
       "\t<tr><td>tacr1  </td><td>+0.1</td><td>+0.8</td><td>  96.72923</td><td>0.71191900</td></tr>\n",
       "\t<tr><td>esr1   </td><td>gene</td><td>+0.8</td><td>  34.15802</td><td>0.30640180</td></tr>\n",
       "\t<tr><td>foxp2  </td><td>+1.0</td><td>+0.8</td><td> 144.41120</td><td>0.00000000</td></tr>\n",
       "\t<tr><td>vglut2 </td><td>+0.8</td><td>+0.8</td><td>  41.54321</td><td>1.00000000</td></tr>\n",
       "\t<tr><td>pax6   </td><td>+0.4</td><td>+0.8</td><td>  42.64095</td><td>1.00000000</td></tr>\n",
       "\t<tr><td>nts    </td><td>+0.1</td><td>+0.8</td><td> 384.93387</td><td>1.00000000</td></tr>\n",
       "\t<tr><td>crhr2  </td><td>gene</td><td>+0.8</td><td> 257.17496</td><td>0.47279508</td></tr>\n",
       "\t<tr><td>met    </td><td>+1.0</td><td>+0.8</td><td> 130.67028</td><td>0.00000000</td></tr>\n",
       "\t<tr><td>col15a1</td><td>+0.8</td><td>+0.8</td><td> 516.92519</td><td>0.56284168</td></tr>\n",
       "\t<tr><td>samd3  </td><td>+0.4</td><td>+0.8</td><td>  40.05447</td><td>1.00000000</td></tr>\n",
       "\t<tr><td>vgat   </td><td>+0.1</td><td>+0.8</td><td>1472.10078</td><td>0.86800143</td></tr>\n",
       "\t<tr><td>onecut2</td><td>gene</td><td>+0.8</td><td> 506.78293</td><td>0.86682453</td></tr>\n",
       "\t<tr><td>drd2   </td><td>+1.0</td><td>+0.4</td><td> 205.53770</td><td>1.00000000</td></tr>\n",
       "\t<tr><td>drd3   </td><td>+0.8</td><td>+0.4</td><td> 161.54955</td><td>1.00000000</td></tr>\n",
       "\t<tr><td>sst    </td><td>+0.4</td><td>+0.4</td><td> 204.20737</td><td>0.47961963</td></tr>\n",
       "\t<tr><td>tacr1  </td><td>+0.1</td><td>+0.4</td><td>  40.09705</td><td>1.00000000</td></tr>\n",
       "\t<tr><td>esr1   </td><td>gene</td><td>+0.4</td><td>  38.41676</td><td>1.00000000</td></tr>\n",
       "\t<tr><td>foxp2  </td><td>+1.0</td><td>+0.4</td><td>  44.43149</td><td>0.26161310</td></tr>\n",
       "\t<tr><td>vglut2 </td><td>+0.8</td><td>+0.4</td><td>  27.16764</td><td>0.00000000</td></tr>\n",
       "\t<tr><td>pax6   </td><td>+0.4</td><td>+0.4</td><td>  28.28096</td><td>0.30162331</td></tr>\n",
       "\t<tr><td>nts    </td><td>+0.1</td><td>+0.4</td><td> 244.82302</td><td>0.53580460</td></tr>\n",
       "\t<tr><td>crhr2  </td><td>gene</td><td>+0.4</td><td> 156.60149</td><td>1.00000000</td></tr>\n",
       "\t<tr><td>met    </td><td>+1.0</td><td>+0.4</td><td> 156.15467</td><td>0.24313628</td></tr>\n",
       "\t<tr><td>col15a1</td><td>+0.8</td><td>+0.4</td><td> 630.50420</td><td>0.82601218</td></tr>\n",
       "\t<tr><td>samd3  </td><td>+0.4</td><td>+0.4</td><td>  52.61682</td><td>0.00000000</td></tr>\n",
       "\t<tr><td>vgat   </td><td>+0.1</td><td>+0.4</td><td>1389.64100</td><td>0.48912687</td></tr>\n",
       "\t<tr><td>onecut2</td><td>gene</td><td>+0.4</td><td> 421.81215</td><td>0.00000000</td></tr>\n",
       "\t<tr><td>drd2   </td><td>+1.0</td><td>+0.1</td><td> 138.01370</td><td>0.07483475</td></tr>\n",
       "\t<tr><td>drd3   </td><td>+0.8</td><td>+0.1</td><td> 124.48089</td><td>0.00000000</td></tr>\n",
       "\t<tr><td>sst    </td><td>+0.4</td><td>+0.1</td><td> 242.98223</td><td>0.00000000</td></tr>\n",
       "\t<tr><td>tacr1  </td><td>+0.1</td><td>+0.1</td><td> 145.61060</td><td>0.00000000</td></tr>\n",
       "\t<tr><td>esr1   </td><td>gene</td><td>+0.1</td><td>  15.02742</td><td>0.00000000</td></tr>\n",
       "\t<tr><td>foxp2  </td><td>+1.0</td><td>+0.1</td><td>  35.81890</td><td>0.09886735</td></tr>\n",
       "\t<tr><td>vglut2 </td><td>+0.8</td><td>+0.1</td><td>  53.48942</td><td>0.65611463</td></tr>\n",
       "\t<tr><td>pax6   </td><td>+0.4</td><td>+0.1</td><td>  47.16125</td><td>0.00000000</td></tr>\n",
       "\t<tr><td>nts    </td><td>+0.1</td><td>+0.1</td><td>  79.95435</td><td>0.00000000</td></tr>\n",
       "\t<tr><td>crhr2  </td><td>gene</td><td>+0.1</td><td> 177.25750</td><td>0.00000000</td></tr>\n",
       "\t<tr><td>met    </td><td>+1.0</td><td>+0.1</td><td> 266.58891</td><td>1.00000000</td></tr>\n",
       "\t<tr><td>col15a1</td><td>+0.8</td><td>+0.1</td><td> 497.27347</td><td>0.00000000</td></tr>\n",
       "\t<tr><td>samd3  </td><td>+0.4</td><td>+0.1</td><td>  56.61953</td><td>0.49517605</td></tr>\n",
       "\t<tr><td>vgat   </td><td>+0.1</td><td>+0.1</td><td>1212.70834</td><td>0.00000000</td></tr>\n",
       "\t<tr><td>onecut2</td><td>gene</td><td>+0.1</td><td> 437.37696</td><td>1.00000000</td></tr>\n",
       "</tbody>\n",
       "</table>\n"
      ],
      "text/latex": [
       "A data.frame: 60 × 5\n",
       "\\begin{tabular}{lllll}\n",
       " gene & section & variable & value & intensity\\\\\n",
       " <chr> & <chr> & <fct> & <dbl> & <dbl>\\\\\n",
       "\\hline\n",
       "\t drd2    & +1.0 & +1.0 &  220.00454 & 0.55006210\\\\\n",
       "\t drd3    & +0.8 & +1.0 &  174.28521 & 0.63863299\\\\\n",
       "\t sst     & +0.4 & +1.0 &  258.44478 & 1.00000000\\\\\n",
       "\t tacr1   & +0.1 & +1.0 &   93.76739 & 0.64940982\\\\\n",
       "\t esr1    & gene & +1.0 &   15.21210 & 0.75107101\\\\\n",
       "\t foxp2   & +1.0 & +1.0 &  182.10316 & 1.00000000\\\\\n",
       "\t vglut2  & +0.8 & +1.0 &   28.40075 & 0.33118791\\\\\n",
       "\t pax6    & +0.4 & +1.0 &   25.68180 & 0.36468020\\\\\n",
       "\t nts     & +0.1 & +1.0 &  211.22865 & 0.72425984\\\\\n",
       "\t crhr2   & gene & +1.0 &  180.10076 & 0.54462371\\\\\n",
       "\t met     & +1.0 & +1.0 &   97.39157 & 0.28511122\\\\\n",
       "\t col15a1 & +0.8 & +1.0 &  347.61721 & 1.00000000\\\\\n",
       "\t samd3   & +0.4 & +1.0 &   51.29278 & 0.99353737\\\\\n",
       "\t vgat    & +0.1 & +1.0 & 1182.94556 & 1.00000000\\\\\n",
       "\t onecut2 & gene & +1.0 &  369.05168 & 0.86682453\\\\\n",
       "\t drd2    & +1.0 & +0.8 &  292.19285 & 0.00000000\\\\\n",
       "\t drd3    & +0.8 & +0.8 &  232.46070 & 0.81052130\\\\\n",
       "\t sst     & +0.4 & +0.8 &  323.52481 & 0.75711635\\\\\n",
       "\t tacr1   & +0.1 & +0.8 &   96.72923 & 0.71191900\\\\\n",
       "\t esr1    & gene & +0.8 &   34.15802 & 0.30640180\\\\\n",
       "\t foxp2   & +1.0 & +0.8 &  144.41120 & 0.00000000\\\\\n",
       "\t vglut2  & +0.8 & +0.8 &   41.54321 & 1.00000000\\\\\n",
       "\t pax6    & +0.4 & +0.8 &   42.64095 & 1.00000000\\\\\n",
       "\t nts     & +0.1 & +0.8 &  384.93387 & 1.00000000\\\\\n",
       "\t crhr2   & gene & +0.8 &  257.17496 & 0.47279508\\\\\n",
       "\t met     & +1.0 & +0.8 &  130.67028 & 0.00000000\\\\\n",
       "\t col15a1 & +0.8 & +0.8 &  516.92519 & 0.56284168\\\\\n",
       "\t samd3   & +0.4 & +0.8 &   40.05447 & 1.00000000\\\\\n",
       "\t vgat    & +0.1 & +0.8 & 1472.10078 & 0.86800143\\\\\n",
       "\t onecut2 & gene & +0.8 &  506.78293 & 0.86682453\\\\\n",
       "\t drd2    & +1.0 & +0.4 &  205.53770 & 1.00000000\\\\\n",
       "\t drd3    & +0.8 & +0.4 &  161.54955 & 1.00000000\\\\\n",
       "\t sst     & +0.4 & +0.4 &  204.20737 & 0.47961963\\\\\n",
       "\t tacr1   & +0.1 & +0.4 &   40.09705 & 1.00000000\\\\\n",
       "\t esr1    & gene & +0.4 &   38.41676 & 1.00000000\\\\\n",
       "\t foxp2   & +1.0 & +0.4 &   44.43149 & 0.26161310\\\\\n",
       "\t vglut2  & +0.8 & +0.4 &   27.16764 & 0.00000000\\\\\n",
       "\t pax6    & +0.4 & +0.4 &   28.28096 & 0.30162331\\\\\n",
       "\t nts     & +0.1 & +0.4 &  244.82302 & 0.53580460\\\\\n",
       "\t crhr2   & gene & +0.4 &  156.60149 & 1.00000000\\\\\n",
       "\t met     & +1.0 & +0.4 &  156.15467 & 0.24313628\\\\\n",
       "\t col15a1 & +0.8 & +0.4 &  630.50420 & 0.82601218\\\\\n",
       "\t samd3   & +0.4 & +0.4 &   52.61682 & 0.00000000\\\\\n",
       "\t vgat    & +0.1 & +0.4 & 1389.64100 & 0.48912687\\\\\n",
       "\t onecut2 & gene & +0.4 &  421.81215 & 0.00000000\\\\\n",
       "\t drd2    & +1.0 & +0.1 &  138.01370 & 0.07483475\\\\\n",
       "\t drd3    & +0.8 & +0.1 &  124.48089 & 0.00000000\\\\\n",
       "\t sst     & +0.4 & +0.1 &  242.98223 & 0.00000000\\\\\n",
       "\t tacr1   & +0.1 & +0.1 &  145.61060 & 0.00000000\\\\\n",
       "\t esr1    & gene & +0.1 &   15.02742 & 0.00000000\\\\\n",
       "\t foxp2   & +1.0 & +0.1 &   35.81890 & 0.09886735\\\\\n",
       "\t vglut2  & +0.8 & +0.1 &   53.48942 & 0.65611463\\\\\n",
       "\t pax6    & +0.4 & +0.1 &   47.16125 & 0.00000000\\\\\n",
       "\t nts     & +0.1 & +0.1 &   79.95435 & 0.00000000\\\\\n",
       "\t crhr2   & gene & +0.1 &  177.25750 & 0.00000000\\\\\n",
       "\t met     & +1.0 & +0.1 &  266.58891 & 1.00000000\\\\\n",
       "\t col15a1 & +0.8 & +0.1 &  497.27347 & 0.00000000\\\\\n",
       "\t samd3   & +0.4 & +0.1 &   56.61953 & 0.49517605\\\\\n",
       "\t vgat    & +0.1 & +0.1 & 1212.70834 & 0.00000000\\\\\n",
       "\t onecut2 & gene & +0.1 &  437.37696 & 1.00000000\\\\\n",
       "\\end{tabular}\n"
      ],
      "text/markdown": [
       "\n",
       "A data.frame: 60 × 5\n",
       "\n",
       "| gene &lt;chr&gt; | section &lt;chr&gt; | variable &lt;fct&gt; | value &lt;dbl&gt; | intensity &lt;dbl&gt; |\n",
       "|---|---|---|---|---|\n",
       "| drd2    | +1.0 | +1.0 |  220.00454 | 0.55006210 |\n",
       "| drd3    | +0.8 | +1.0 |  174.28521 | 0.63863299 |\n",
       "| sst     | +0.4 | +1.0 |  258.44478 | 1.00000000 |\n",
       "| tacr1   | +0.1 | +1.0 |   93.76739 | 0.64940982 |\n",
       "| esr1    | gene | +1.0 |   15.21210 | 0.75107101 |\n",
       "| foxp2   | +1.0 | +1.0 |  182.10316 | 1.00000000 |\n",
       "| vglut2  | +0.8 | +1.0 |   28.40075 | 0.33118791 |\n",
       "| pax6    | +0.4 | +1.0 |   25.68180 | 0.36468020 |\n",
       "| nts     | +0.1 | +1.0 |  211.22865 | 0.72425984 |\n",
       "| crhr2   | gene | +1.0 |  180.10076 | 0.54462371 |\n",
       "| met     | +1.0 | +1.0 |   97.39157 | 0.28511122 |\n",
       "| col15a1 | +0.8 | +1.0 |  347.61721 | 1.00000000 |\n",
       "| samd3   | +0.4 | +1.0 |   51.29278 | 0.99353737 |\n",
       "| vgat    | +0.1 | +1.0 | 1182.94556 | 1.00000000 |\n",
       "| onecut2 | gene | +1.0 |  369.05168 | 0.86682453 |\n",
       "| drd2    | +1.0 | +0.8 |  292.19285 | 0.00000000 |\n",
       "| drd3    | +0.8 | +0.8 |  232.46070 | 0.81052130 |\n",
       "| sst     | +0.4 | +0.8 |  323.52481 | 0.75711635 |\n",
       "| tacr1   | +0.1 | +0.8 |   96.72923 | 0.71191900 |\n",
       "| esr1    | gene | +0.8 |   34.15802 | 0.30640180 |\n",
       "| foxp2   | +1.0 | +0.8 |  144.41120 | 0.00000000 |\n",
       "| vglut2  | +0.8 | +0.8 |   41.54321 | 1.00000000 |\n",
       "| pax6    | +0.4 | +0.8 |   42.64095 | 1.00000000 |\n",
       "| nts     | +0.1 | +0.8 |  384.93387 | 1.00000000 |\n",
       "| crhr2   | gene | +0.8 |  257.17496 | 0.47279508 |\n",
       "| met     | +1.0 | +0.8 |  130.67028 | 0.00000000 |\n",
       "| col15a1 | +0.8 | +0.8 |  516.92519 | 0.56284168 |\n",
       "| samd3   | +0.4 | +0.8 |   40.05447 | 1.00000000 |\n",
       "| vgat    | +0.1 | +0.8 | 1472.10078 | 0.86800143 |\n",
       "| onecut2 | gene | +0.8 |  506.78293 | 0.86682453 |\n",
       "| drd2    | +1.0 | +0.4 |  205.53770 | 1.00000000 |\n",
       "| drd3    | +0.8 | +0.4 |  161.54955 | 1.00000000 |\n",
       "| sst     | +0.4 | +0.4 |  204.20737 | 0.47961963 |\n",
       "| tacr1   | +0.1 | +0.4 |   40.09705 | 1.00000000 |\n",
       "| esr1    | gene | +0.4 |   38.41676 | 1.00000000 |\n",
       "| foxp2   | +1.0 | +0.4 |   44.43149 | 0.26161310 |\n",
       "| vglut2  | +0.8 | +0.4 |   27.16764 | 0.00000000 |\n",
       "| pax6    | +0.4 | +0.4 |   28.28096 | 0.30162331 |\n",
       "| nts     | +0.1 | +0.4 |  244.82302 | 0.53580460 |\n",
       "| crhr2   | gene | +0.4 |  156.60149 | 1.00000000 |\n",
       "| met     | +1.0 | +0.4 |  156.15467 | 0.24313628 |\n",
       "| col15a1 | +0.8 | +0.4 |  630.50420 | 0.82601218 |\n",
       "| samd3   | +0.4 | +0.4 |   52.61682 | 0.00000000 |\n",
       "| vgat    | +0.1 | +0.4 | 1389.64100 | 0.48912687 |\n",
       "| onecut2 | gene | +0.4 |  421.81215 | 0.00000000 |\n",
       "| drd2    | +1.0 | +0.1 |  138.01370 | 0.07483475 |\n",
       "| drd3    | +0.8 | +0.1 |  124.48089 | 0.00000000 |\n",
       "| sst     | +0.4 | +0.1 |  242.98223 | 0.00000000 |\n",
       "| tacr1   | +0.1 | +0.1 |  145.61060 | 0.00000000 |\n",
       "| esr1    | gene | +0.1 |   15.02742 | 0.00000000 |\n",
       "| foxp2   | +1.0 | +0.1 |   35.81890 | 0.09886735 |\n",
       "| vglut2  | +0.8 | +0.1 |   53.48942 | 0.65611463 |\n",
       "| pax6    | +0.4 | +0.1 |   47.16125 | 0.00000000 |\n",
       "| nts     | +0.1 | +0.1 |   79.95435 | 0.00000000 |\n",
       "| crhr2   | gene | +0.1 |  177.25750 | 0.00000000 |\n",
       "| met     | +1.0 | +0.1 |  266.58891 | 1.00000000 |\n",
       "| col15a1 | +0.8 | +0.1 |  497.27347 | 0.00000000 |\n",
       "| samd3   | +0.4 | +0.1 |   56.61953 | 0.49517605 |\n",
       "| vgat    | +0.1 | +0.1 | 1212.70834 | 0.00000000 |\n",
       "| onecut2 | gene | +0.1 |  437.37696 | 1.00000000 |\n",
       "\n"
      ],
      "text/plain": [
       "   gene    section variable value      intensity \n",
       "1  drd2    +1.0    +1.0      220.00454 0.55006210\n",
       "2  drd3    +0.8    +1.0      174.28521 0.63863299\n",
       "3  sst     +0.4    +1.0      258.44478 1.00000000\n",
       "4  tacr1   +0.1    +1.0       93.76739 0.64940982\n",
       "5  esr1    gene    +1.0       15.21210 0.75107101\n",
       "6  foxp2   +1.0    +1.0      182.10316 1.00000000\n",
       "7  vglut2  +0.8    +1.0       28.40075 0.33118791\n",
       "8  pax6    +0.4    +1.0       25.68180 0.36468020\n",
       "9  nts     +0.1    +1.0      211.22865 0.72425984\n",
       "10 crhr2   gene    +1.0      180.10076 0.54462371\n",
       "11 met     +1.0    +1.0       97.39157 0.28511122\n",
       "12 col15a1 +0.8    +1.0      347.61721 1.00000000\n",
       "13 samd3   +0.4    +1.0       51.29278 0.99353737\n",
       "14 vgat    +0.1    +1.0     1182.94556 1.00000000\n",
       "15 onecut2 gene    +1.0      369.05168 0.86682453\n",
       "16 drd2    +1.0    +0.8      292.19285 0.00000000\n",
       "17 drd3    +0.8    +0.8      232.46070 0.81052130\n",
       "18 sst     +0.4    +0.8      323.52481 0.75711635\n",
       "19 tacr1   +0.1    +0.8       96.72923 0.71191900\n",
       "20 esr1    gene    +0.8       34.15802 0.30640180\n",
       "21 foxp2   +1.0    +0.8      144.41120 0.00000000\n",
       "22 vglut2  +0.8    +0.8       41.54321 1.00000000\n",
       "23 pax6    +0.4    +0.8       42.64095 1.00000000\n",
       "24 nts     +0.1    +0.8      384.93387 1.00000000\n",
       "25 crhr2   gene    +0.8      257.17496 0.47279508\n",
       "26 met     +1.0    +0.8      130.67028 0.00000000\n",
       "27 col15a1 +0.8    +0.8      516.92519 0.56284168\n",
       "28 samd3   +0.4    +0.8       40.05447 1.00000000\n",
       "29 vgat    +0.1    +0.8     1472.10078 0.86800143\n",
       "30 onecut2 gene    +0.8      506.78293 0.86682453\n",
       "31 drd2    +1.0    +0.4      205.53770 1.00000000\n",
       "32 drd3    +0.8    +0.4      161.54955 1.00000000\n",
       "33 sst     +0.4    +0.4      204.20737 0.47961963\n",
       "34 tacr1   +0.1    +0.4       40.09705 1.00000000\n",
       "35 esr1    gene    +0.4       38.41676 1.00000000\n",
       "36 foxp2   +1.0    +0.4       44.43149 0.26161310\n",
       "37 vglut2  +0.8    +0.4       27.16764 0.00000000\n",
       "38 pax6    +0.4    +0.4       28.28096 0.30162331\n",
       "39 nts     +0.1    +0.4      244.82302 0.53580460\n",
       "40 crhr2   gene    +0.4      156.60149 1.00000000\n",
       "41 met     +1.0    +0.4      156.15467 0.24313628\n",
       "42 col15a1 +0.8    +0.4      630.50420 0.82601218\n",
       "43 samd3   +0.4    +0.4       52.61682 0.00000000\n",
       "44 vgat    +0.1    +0.4     1389.64100 0.48912687\n",
       "45 onecut2 gene    +0.4      421.81215 0.00000000\n",
       "46 drd2    +1.0    +0.1      138.01370 0.07483475\n",
       "47 drd3    +0.8    +0.1      124.48089 0.00000000\n",
       "48 sst     +0.4    +0.1      242.98223 0.00000000\n",
       "49 tacr1   +0.1    +0.1      145.61060 0.00000000\n",
       "50 esr1    gene    +0.1       15.02742 0.00000000\n",
       "51 foxp2   +1.0    +0.1       35.81890 0.09886735\n",
       "52 vglut2  +0.8    +0.1       53.48942 0.65611463\n",
       "53 pax6    +0.4    +0.1       47.16125 0.00000000\n",
       "54 nts     +0.1    +0.1       79.95435 0.00000000\n",
       "55 crhr2   gene    +0.1      177.25750 0.00000000\n",
       "56 met     +1.0    +0.1      266.58891 1.00000000\n",
       "57 col15a1 +0.8    +0.1      497.27347 0.00000000\n",
       "58 samd3   +0.4    +0.1       56.61953 0.49517605\n",
       "59 vgat    +0.1    +0.1     1212.70834 0.00000000\n",
       "60 onecut2 gene    +0.1      437.37696 1.00000000"
      ]
     },
     "metadata": {},
     "output_type": "display_data"
    }
   ],
   "source": [
    "df.dot <- cbind(df.density, df.intensity$value)\n",
    "colnames(df.dot) <- c('gene','section','variable','value','intensity')\n",
    "df.dot"
   ]
  },
  {
   "cell_type": "code",
   "execution_count": 52,
   "metadata": {},
   "outputs": [],
   "source": [
    "df.dot.sub <-df.dot[df.dot$gene != NA,]\n",
    "#df.dot.sub <-df.dot[df.dot$gene == \"vgat\",] #if want to remove vgat due to scaling issue\n",
    "\n",
    "df.dot<-df.dot[order(df.dot$value, df.dot$gene),]\n",
    "df.dot$gene <- factor(df.dot$gene, levels=unique(df.dot$gene))"
   ]
  },
  {
   "cell_type": "code",
   "execution_count": 53,
   "metadata": {},
   "outputs": [
    {
     "data": {
      "image/png": "[encoded data removed]",
      "text/plain": [
       "plot without title"
      ]
     },
     "metadata": {
      "image/png": {
       "height": 420,
       "width": 420
      }
     },
     "output_type": "display_data"
    }
   ],
   "source": [
    "ggplot(df.dot, aes(x=variable, y=gene))+\n",
    "  geom_point(aes(size=value, color=intensity))+\n",
    "  scale_color_gradient(low = \"gray\",high = \"red\") +\n",
    "  scale_size(range=c(0.5,5)) +\n",
    "  theme_classic() +\n",
    "  theme(panel.background = element_rect(colour = \"black\", size=.25, fill=NA, linetype=\"solid\"),\n",
    "        axis.line=element_line(size=0.25),\n",
    "        axis.ticks=element_line(size=0.25),\n",
    "        axis.text.y = element_text(size=8),\n",
    "        axis.text.x = element_text( size=8),\n",
    "        axis.title.y = element_blank(),\n",
    "        axis.title.x = element_text(size=8),\n",
    "        legend.position='bottom',\n",
    "        legend.key.size = unit(0.25, 'cm'))+\n",
    "  xlab('Coordinates from Bregma') +\n",
    "  ylab('Gene') +\n",
    "  scale_x_discrete(labels=c('+1.0','+0.8','+0.4','+0.1'))"
   ]
  },
  {
   "cell_type": "code",
   "execution_count": null,
   "metadata": {},
   "outputs": [],
   "source": []
  },
  {
   "cell_type": "code",
   "execution_count": null,
   "metadata": {},
   "outputs": [],
   "source": []
  },
  {
   "cell_type": "code",
   "execution_count": null,
   "metadata": {},
   "outputs": [],
   "source": []
  },
  {
   "cell_type": "code",
   "execution_count": null,
   "metadata": {},
   "outputs": [],
   "source": []
  },
  {
   "cell_type": "code",
   "execution_count": null,
   "metadata": {},
   "outputs": [],
   "source": []
  },
  {
   "cell_type": "code",
   "execution_count": null,
   "metadata": {},
   "outputs": [],
   "source": []
  },
  {
   "cell_type": "code",
   "execution_count": null,
   "metadata": {},
   "outputs": [],
   "source": []
  },
  {
   "cell_type": "code",
   "execution_count": null,
   "metadata": {},
   "outputs": [],
   "source": []
  },
  {
   "cell_type": "code",
   "execution_count": null,
   "metadata": {},
   "outputs": [],
   "source": []
  },
  {
   "cell_type": "code",
   "execution_count": null,
   "metadata": {},
   "outputs": [],
   "source": []
  },
  {
   "cell_type": "markdown",
   "metadata": {},
   "source": [
    "Proportion of cells"
   ]
  },
  {
   "cell_type": "code",
   "execution_count": null,
   "metadata": {},
   "outputs": [],
   "source": [
    "WT.bind <- readRDS(\"master_files/spot_counts.rds\")"
   ]
  },
  {
   "cell_type": "code",
   "execution_count": null,
   "metadata": {},
   "outputs": [],
   "source": [
    "grab.spots<-colnames(WT.bind[grep('.Copies',colnames(WT.bind))])\n",
    "WT.spots <- WT.bind[grab.spots]\n",
    "rownames(WT.spots) <- WT.bind$barcode"
   ]
  },
  {
   "cell_type": "code",
   "execution_count": null,
   "metadata": {},
   "outputs": [],
   "source": [
    "WT.spots[WT.spots < 5] <- 0\n",
    "WT.spots[WT.spots > 0] <- 1"
   ]
  },
  {
   "cell_type": "code",
   "execution_count": null,
   "metadata": {
    "scrolled": true
   },
   "outputs": [],
   "source": [
    "head(WT.spots)"
   ]
  },
  {
   "cell_type": "code",
   "execution_count": null,
   "metadata": {},
   "outputs": [],
   "source": [
    "WT1S2 <- WT.spots[grep(\"WT-1-S2\",rownames(WT.spots)),]\n",
    "WT1S3 <- WT.spots[grep(\"WT-1-S3\",rownames(WT.spots)),]\n",
    "WT1S4 <- WT.spots[grep(\"WT-1-S4\",rownames(WT.spots)),]\n",
    "WT1S5 <- WT.spots[grep(\"WT-1-S5\",rownames(WT.spots)),]"
   ]
  },
  {
   "cell_type": "code",
   "execution_count": null,
   "metadata": {},
   "outputs": [],
   "source": [
    "WT2S2 <- WT.spots[grep(\"WT-2-S2\",rownames(WT.spots)),]\n",
    "WT2S3 <- WT.spots[grep(\"WT-2-S3\",rownames(WT.spots)),]\n",
    "WT2S4 <- WT.spots[grep(\"WT-2-S4\",rownames(WT.spots)),]\n",
    "WT2S5 <- WT.spots[grep(\"WT-2-S6\",rownames(WT.spots)),]"
   ]
  },
  {
   "cell_type": "code",
   "execution_count": null,
   "metadata": {},
   "outputs": [],
   "source": [
    "WT3S2 <- WT.spots[grep(\"WT-3-S2\",rownames(WT.spots)),]\n",
    "WT3S3 <- WT.spots[grep(\"WT-3-S4\",rownames(WT.spots)),]\n",
    "WT3S4 <- WT.spots[grep(\"WT-3-S5\",rownames(WT.spots)),]\n",
    "WT3S5 <- WT.spots[grep(\"WT-3-S6\",rownames(WT.spots)),]"
   ]
  },
  {
   "cell_type": "code",
   "execution_count": null,
   "metadata": {},
   "outputs": [],
   "source": [
    "WT4S2 <- WT.spots[grep(\"WT-4-S3\",rownames(WT.spots)),]\n",
    "WT4S3 <- WT.spots[grep(\"WT-4-S4\",rownames(WT.spots)),]\n",
    "WT4S4 <- WT.spots[grep(\"WT-4-S5\",rownames(WT.spots)),]"
   ]
  },
  {
   "cell_type": "code",
   "execution_count": null,
   "metadata": {},
   "outputs": [],
   "source": [
    "WT5S3 <- WT.spots[grep(\"WT-5-S3\",rownames(WT.spots)),]\n",
    "WT5S4 <- WT.spots[grep(\"WT-5-S4\",rownames(WT.spots)),]\n",
    "WT5S5 <- WT.spots[grep(\"WT-5-S6\",rownames(WT.spots)),]"
   ]
  },
  {
   "cell_type": "code",
   "execution_count": null,
   "metadata": {},
   "outputs": [],
   "source": [
    "WT6S2 <- WT.spots[grep(\"WT-6-S2\",rownames(WT.spots)),]\n",
    "WT6S3 <- WT.spots[grep(\"WT-6-S3\",rownames(WT.spots)),]\n",
    "WT6S4 <- WT.spots[grep(\"WT-6-S4\",rownames(WT.spots)),]\n",
    "WT6S5 <- WT.spots[grep(\"WT-6-S5\",rownames(WT.spots)),]"
   ]
  },
  {
   "cell_type": "code",
   "execution_count": null,
   "metadata": {},
   "outputs": [],
   "source": [
    "WT7S3 <- WT.spots[grep(\"WT-7-S3\",rownames(WT.spots)),]\n",
    "WT7S4 <- WT.spots[grep(\"WT-7-S4\",rownames(WT.spots)),]\n",
    "WT7S5 <- WT.spots[grep(\"WT-7-S6\",rownames(WT.spots)),]"
   ]
  },
  {
   "cell_type": "code",
   "execution_count": null,
   "metadata": {},
   "outputs": [],
   "source": [
    "WT8S2 <- WT.spots[grep(\"WT-8-S2\",rownames(WT.spots)),]\n",
    "WT8S3 <- WT.spots[grep(\"WT-8-S3\",rownames(WT.spots)),]\n",
    "WT8S4 <- WT.spots[grep(\"WT-8-S4\",rownames(WT.spots)),]\n",
    "WT8S5 <- WT.spots[grep(\"WT-8-S6\",rownames(WT.spots)),]"
   ]
  },
  {
   "cell_type": "code",
   "execution_count": null,
   "metadata": {},
   "outputs": [],
   "source": [
    "WT1S2.s <- colSums(WT1S2)\n",
    "WT1S3.s <- colSums(WT1S3)\n",
    "WT1S4.s <- colSums(WT1S4)\n",
    "WT1S5.s <- colSums(WT1S5)\n",
    "\n",
    "WT2S2.s <- colSums(WT2S2)\n",
    "WT2S3.s <- colSums(WT2S3)\n",
    "WT2S4.s <- colSums(WT2S4)\n",
    "WT2S5.s <- colSums(WT2S5)\n",
    "\n",
    "WT3S2.s <- colSums(WT3S2)\n",
    "WT3S3.s <- colSums(WT3S3)\n",
    "WT3S4.s <- colSums(WT3S4)\n",
    "WT3S5.s <- colSums(WT3S5)\n",
    "\n",
    "WT4S2.s <- colSums(WT4S2)\n",
    "WT4S3.s <- colSums(WT4S3)\n",
    "WT4S4.s <- colSums(WT4S4)\n",
    "\n",
    "WT5S2.s <- colSums(WT5S3)\n",
    "WT5S3.s <- colSums(WT5S4)\n",
    "WT5S5.s <- colSums(WT5S5)\n",
    "\n",
    "WT6S2.s <- colSums(WT6S2)\n",
    "WT6S3.s <- colSums(WT6S3)\n",
    "WT6S4.s <- colSums(WT6S4)\n",
    "WT6S5.s <- colSums(WT6S5)\n",
    "\n",
    "WT7S3.s <- colSums(WT7S3)\n",
    "WT7S4.s <- colSums(WT7S4)\n",
    "WT7S5.s <- colSums(WT7S5)\n",
    "\n",
    "WT8S2.s <- colSums(WT8S2)\n",
    "WT8S3.s <- colSums(WT8S3)\n",
    "WT8S4.s <- colSums(WT8S4)\n",
    "WT8S5.s <- colSums(WT8S5)"
   ]
  },
  {
   "cell_type": "code",
   "execution_count": null,
   "metadata": {},
   "outputs": [],
   "source": [
    "S1 <- data.frame(WT1S2.s, WT2S2.s, WT3S2.s, WT4S2.s, WT5S2.s, WT6S2.s, WT8S2.s)\n",
    "S2 <- data.frame(WT1S3.s, WT2S3.s, WT3S3.s, WT4S3.s, WT5S3.s, WT6S3.s, WT7S3.s, WT8S3.s)\n",
    "S3 <- data.frame(WT1S4.s, WT2S4.s, WT3S4.s, WT4S4.s, WT6S4.s, WT8S4.s)\n",
    "S4 <- data.frame(WT1S5.s, WT2S5.s, WT3S5.s, WT5S5.s, WT6S5.s, WT8S5.s)"
   ]
  },
  {
   "cell_type": "code",
   "execution_count": null,
   "metadata": {},
   "outputs": [],
   "source": [
    "S1<-data.frame(rowSums(S1))\n",
    "S2<-data.frame(rowSums(S2))\n",
    "S3<-data.frame(rowSums(S3))\n",
    "S4<-data.frame(rowSums(S4))"
   ]
  },
  {
   "cell_type": "code",
   "execution_count": null,
   "metadata": {},
   "outputs": [],
   "source": [
    "total <- cbind(S1, S2, S3, S4)"
   ]
  },
  {
   "cell_type": "code",
   "execution_count": null,
   "metadata": {},
   "outputs": [],
   "source": [
    "total <- data.frame(rowSums(total))"
   ]
  },
  {
   "cell_type": "code",
   "execution_count": null,
   "metadata": {},
   "outputs": [],
   "source": [
    "total.num <- length(rownames(WT.spots[rowSums(WT.spots) > 0,]))"
   ]
  },
  {
   "cell_type": "code",
   "execution_count": null,
   "metadata": {
    "scrolled": true
   },
   "outputs": [],
   "source": [
    "prop<-total/total.num*100"
   ]
  },
  {
   "cell_type": "code",
   "execution_count": null,
   "metadata": {
    "scrolled": true
   },
   "outputs": [],
   "source": [
    "prop"
   ]
  },
  {
   "cell_type": "code",
   "execution_count": null,
   "metadata": {},
   "outputs": [],
   "source": [
    "rownames(prop) <- gsub('.Copies','',rownames(total))\n",
    "prop$gene <- rownames(prop)"
   ]
  },
  {
   "cell_type": "code",
   "execution_count": null,
   "metadata": {
    "scrolled": true
   },
   "outputs": [],
   "source": [
    "prop"
   ]
  },
  {
   "cell_type": "code",
   "execution_count": null,
   "metadata": {
    "scrolled": true
   },
   "outputs": [],
   "source": [
    "prop <- prop[prop$gene != 'vgat',]"
   ]
  },
  {
   "cell_type": "code",
   "execution_count": null,
   "metadata": {},
   "outputs": [],
   "source": [
    "prop$gene<-factor(prop$gene, levels=c('onecut2','col15a1','sst','crhr2','drd2','drd3','met','nts','tacr1','samd3','foxp2','vglut2','pax6','esr1'))"
   ]
  },
  {
   "cell_type": "code",
   "execution_count": null,
   "metadata": {},
   "outputs": [],
   "source": [
    "ggplot(prop, aes(x=gene, y=rowSums.total.))+\n",
    "    geom_bar(stat='identity') +\n",
    "      theme_classic() +\n",
    "      theme(\n",
    "        axis.line=element_line(size=0.25),\n",
    "        axis.ticks=element_line(size=0.25),\n",
    "        axis.text.y = element_text(size=8),\n",
    "        axis.text.x = element_text( size=8),\n",
    "        axis.title.y = element_blank(),\n",
    "        axis.title.x = element_blank(),\n",
    "        legend.position='none',\n",
    "        legend.key.size = unit(0.25, 'cm')) +\n",
    "        scale_y_continuous(expand = c(0, 0))\n",
    "ggsave(\"Cell_prop.pdf\", width=4, height=1)"
   ]
  },
  {
   "cell_type": "code",
   "execution_count": null,
   "metadata": {},
   "outputs": [],
   "source": []
  },
  {
   "cell_type": "code",
   "execution_count": null,
   "metadata": {
    "scrolled": true
   },
   "outputs": [],
   "source": [
    "seq_tally <- readRDS(file='C:/Users/stuberadmin/Documents/HCR_analysis/graphs/seq_tally.rds')\n",
    "seq_tally"
   ]
  },
  {
   "cell_type": "code",
   "execution_count": null,
   "metadata": {
    "scrolled": true
   },
   "outputs": [],
   "source": [
    "prop"
   ]
  },
  {
   "cell_type": "code",
   "execution_count": null,
   "metadata": {},
   "outputs": [],
   "source": [
    "prop<- prop[match(seq_tally$gene,prop$gene),]"
   ]
  },
  {
   "cell_type": "code",
   "execution_count": null,
   "metadata": {},
   "outputs": [],
   "source": [
    "prop"
   ]
  },
  {
   "cell_type": "code",
   "execution_count": null,
   "metadata": {
    "scrolled": false
   },
   "outputs": [],
   "source": [
    "df<-cbind(seq_tally, prop$rowSums.total.)"
   ]
  },
  {
   "cell_type": "code",
   "execution_count": null,
   "metadata": {},
   "outputs": [],
   "source": [
    "df"
   ]
  },
  {
   "cell_type": "code",
   "execution_count": null,
   "metadata": {
    "scrolled": true
   },
   "outputs": [],
   "source": [
    "colnames(df) <- c(\"seq\",\"gene\",\"hcr\")"
   ]
  },
  {
   "cell_type": "code",
   "execution_count": null,
   "metadata": {},
   "outputs": [],
   "source": [
    "cor(df$seq, df$hcr)"
   ]
  },
  {
   "cell_type": "code",
   "execution_count": null,
   "metadata": {},
   "outputs": [],
   "source": [
    "library(ggplot2)\n",
    "library(ggrepel)\n",
    "library(ggpubr)"
   ]
  },
  {
   "cell_type": "code",
   "execution_count": null,
   "metadata": {},
   "outputs": [],
   "source": [
    "df"
   ]
  },
  {
   "cell_type": "code",
   "execution_count": null,
   "metadata": {},
   "outputs": [],
   "source": [
    "df <- df[-c(9), ]  "
   ]
  },
  {
   "cell_type": "code",
   "execution_count": null,
   "metadata": {},
   "outputs": [],
   "source": [
    "ggplot(df, aes(x=hcr, y=seq, label=gene)) +\n",
    "    geom_point(size=0.5) +\n",
    "    theme_classic() +\n",
    "    geom_text_repel(size=2) +\n",
    "    theme(axis.line = element_blank(), \n",
    "         plot.title=element_blank(),\n",
    "         panel.background = element_rect(colour = \"black\", size=.25, fill=NA),\n",
    "         axis.text = element_text(size=6),\n",
    "         axis.title = element_text(size=6),\n",
    "         axis.ticks = element_line(size=0.25)) +\n",
    "    geom_smooth(method='lm', color=\"red\", fill=\"red\", alpha=0.1, size=0.5)+\n",
    "    xlab(\"HCR cell abundance (%)\") + \n",
    "    ylab(\"scRNAseq cell abundance (%)\")+\n",
    "    stat_cor(size=2, label.sep=\", \")\n",
    "ggsave('cor_between_seq_hcr_no-vgat.pdf',width=1, height=1.5)"
   ]
  },
  {
   "cell_type": "code",
   "execution_count": null,
   "metadata": {},
   "outputs": [],
   "source": []
  },
  {
   "cell_type": "code",
   "execution_count": null,
   "metadata": {},
   "outputs": [],
   "source": []
  },
  {
   "cell_type": "code",
   "execution_count": null,
   "metadata": {},
   "outputs": [],
   "source": []
  },
  {
   "cell_type": "code",
   "execution_count": null,
   "metadata": {},
   "outputs": [],
   "source": []
  },
  {
   "cell_type": "markdown",
   "metadata": {},
   "source": [
    "Coexpression heatmap"
   ]
  },
  {
   "cell_type": "code",
   "execution_count": null,
   "metadata": {},
   "outputs": [],
   "source": []
  },
  {
   "cell_type": "code",
   "execution_count": null,
   "metadata": {},
   "outputs": [],
   "source": [
    "WT.bind <- readRDS(\"master_files/spot_counts.rds\")"
   ]
  },
  {
   "cell_type": "code",
   "execution_count": null,
   "metadata": {},
   "outputs": [],
   "source": [
    "grab.spots<-colnames(WT.bind[grep('.Copies',colnames(WT.bind))])\n",
    "WT.spots <- WT.bind[grab.spots]\n",
    "rownames(WT.spots) <- WT.bind$barcode"
   ]
  },
  {
   "cell_type": "code",
   "execution_count": null,
   "metadata": {},
   "outputs": [],
   "source": [
    "WT.spots[WT.spots < 5] <- 0\n",
    "WT.spots[WT.spots >= 5] <- 1"
   ]
  },
  {
   "cell_type": "code",
   "execution_count": null,
   "metadata": {},
   "outputs": [],
   "source": [
    "WT.spots"
   ]
  },
  {
   "cell_type": "code",
   "execution_count": null,
   "metadata": {},
   "outputs": [],
   "source": [
    "WT1S2 <- WT.spots[grep(\"WT-1-S2\",rownames(WT.spots)),]\n",
    "WT1S3 <- WT.spots[grep(\"WT-1-S3\",rownames(WT.spots)),]\n",
    "WT1S4 <- WT.spots[grep(\"WT-1-S4\",rownames(WT.spots)),]\n",
    "WT1S5 <- WT.spots[grep(\"WT-1-S5\",rownames(WT.spots)),]"
   ]
  },
  {
   "cell_type": "code",
   "execution_count": null,
   "metadata": {},
   "outputs": [],
   "source": [
    "WT2S2 <- WT.spots[grep(\"WT-2-S2\",rownames(WT.spots)),]\n",
    "WT2S3 <- WT.spots[grep(\"WT-2-S3\",rownames(WT.spots)),]\n",
    "WT2S4 <- WT.spots[grep(\"WT-2-S4\",rownames(WT.spots)),]\n",
    "WT2S5 <- WT.spots[grep(\"WT-2-S6\",rownames(WT.spots)),]"
   ]
  },
  {
   "cell_type": "code",
   "execution_count": null,
   "metadata": {},
   "outputs": [],
   "source": [
    "WT3S2 <- WT.spots[grep(\"WT-3-S2\",rownames(WT.spots)),]\n",
    "WT3S3 <- WT.spots[grep(\"WT-3-S4\",rownames(WT.spots)),]\n",
    "WT3S4 <- WT.spots[grep(\"WT-3-S5\",rownames(WT.spots)),]\n",
    "WT3S5 <- WT.spots[grep(\"WT-3-S6\",rownames(WT.spots)),]"
   ]
  },
  {
   "cell_type": "code",
   "execution_count": null,
   "metadata": {},
   "outputs": [],
   "source": [
    "WT4S2 <- WT.spots[grep(\"WT-4-S3\",rownames(WT.spots)),]\n",
    "WT4S3 <- WT.spots[grep(\"WT-4-S4\",rownames(WT.spots)),]\n",
    "WT4S4 <- WT.spots[grep(\"WT-4-S5\",rownames(WT.spots)),]"
   ]
  },
  {
   "cell_type": "code",
   "execution_count": null,
   "metadata": {},
   "outputs": [],
   "source": [
    "WT5S3 <- WT.spots[grep(\"WT-5-S3\",rownames(WT.spots)),]\n",
    "WT5S4 <- WT.spots[grep(\"WT-5-S4\",rownames(WT.spots)),]\n",
    "WT5S5 <- WT.spots[grep(\"WT-5-S6\",rownames(WT.spots)),]"
   ]
  },
  {
   "cell_type": "code",
   "execution_count": null,
   "metadata": {},
   "outputs": [],
   "source": [
    "WT6S2 <- WT.spots[grep(\"WT-6-S2\",rownames(WT.spots)),]\n",
    "WT6S3 <- WT.spots[grep(\"WT-6-S3\",rownames(WT.spots)),]\n",
    "WT6S4 <- WT.spots[grep(\"WT-6-S4\",rownames(WT.spots)),]\n",
    "WT6S5 <- WT.spots[grep(\"WT-6-S5\",rownames(WT.spots)),]"
   ]
  },
  {
   "cell_type": "code",
   "execution_count": null,
   "metadata": {},
   "outputs": [],
   "source": [
    "WT7S3 <- WT.spots[grep(\"WT-7-S3\",rownames(WT.spots)),]\n",
    "WT7S4 <- WT.spots[grep(\"WT-7-S4\",rownames(WT.spots)),]\n",
    "WT7S5 <- WT.spots[grep(\"WT-7-S6\",rownames(WT.spots)),]"
   ]
  },
  {
   "cell_type": "code",
   "execution_count": null,
   "metadata": {},
   "outputs": [],
   "source": [
    "WT8S2 <- WT.spots[grep(\"WT-8-S2\",rownames(WT.spots)),]\n",
    "WT8S3 <- WT.spots[grep(\"WT-8-S3\",rownames(WT.spots)),]\n",
    "WT8S4 <- WT.spots[grep(\"WT-8-S4\",rownames(WT.spots)),]\n",
    "WT8S5 <- WT.spots[grep(\"WT-8-S6\",rownames(WT.spots)),]"
   ]
  },
  {
   "cell_type": "code",
   "execution_count": null,
   "metadata": {},
   "outputs": [],
   "source": [
    "S1 <- rbind(WT1S2, WT2S2, WT3S2, WT4S2, WT5S3, WT6S2, WT8S2)\n",
    "S1 <- S1[S1$tacr1 > 0,]\n",
    "S2 <- rbind(WT1S3, WT2S3, WT3S3, WT4S3, WT6S3, WT7S3, WT8S3)\n",
    "S2 <- S2[S2$tacr1 > 0,]\n",
    "S3 <- rbind(WT1S4, WT2S4, WT3S4, WT4S4, WT5S4, WT6S4, WT8S4)\n",
    "S3 <- S3[S3$tacr1 > 0,]\n",
    "S4 <- rbind(WT1S5, WT2S5, WT3S5, WT5S5, WT6S5, WT8S5)\n",
    "S4 <- S4[S4$tacr1 > 0,]"
   ]
  },
  {
   "cell_type": "code",
   "execution_count": null,
   "metadata": {},
   "outputs": [],
   "source": [
    "S1<-data.frame(colSums(S1))\n",
    "S1<- S1/S1['tacr1.Copies',]*100\n",
    "S2<-data.frame(colSums(S2))\n",
    "S2<-S2/S2['tacr1.Copies',]*100\n",
    "S3<-data.frame(colSums(S3))\n",
    "S3<-S3/S3['tacr1.Copies',]*100\n",
    "S4<-data.frame(colSums(S4))\n",
    "S4<-S4/S4['tacr1.Copies',]*100"
   ]
  },
  {
   "cell_type": "code",
   "execution_count": null,
   "metadata": {},
   "outputs": [],
   "source": [
    "total <- cbind(S1, S2, S3, S4)"
   ]
  },
  {
   "cell_type": "code",
   "execution_count": null,
   "metadata": {},
   "outputs": [],
   "source": [
    "colnames(total) <- c('+1.0',\"+0.8\",\"+0.4\",\"+0.1\")"
   ]
  },
  {
   "cell_type": "code",
   "execution_count": null,
   "metadata": {},
   "outputs": [],
   "source": [
    "rownames(total) <- gsub('.Copies','',rownames(total))"
   ]
  },
  {
   "cell_type": "code",
   "execution_count": null,
   "metadata": {
    "scrolled": true
   },
   "outputs": [],
   "source": [
    "total$gene <- rownames(total)\n",
    "total$section <- colnames(total)\n",
    "total"
   ]
  },
  {
   "cell_type": "code",
   "execution_count": null,
   "metadata": {},
   "outputs": [],
   "source": [
    "#total <- total[-c(12,14,15),]"
   ]
  },
  {
   "cell_type": "code",
   "execution_count": null,
   "metadata": {},
   "outputs": [],
   "source": [
    "library(reshape2)\n",
    "library(ggplot2)\n",
    "library(tibble)\n",
    "df.spots <- melt(total)"
   ]
  },
  {
   "cell_type": "code",
   "execution_count": null,
   "metadata": {},
   "outputs": [],
   "source": [
    "df.spots <-df.spots[df.spots$gene != \"tacr1\",]"
   ]
  },
  {
   "cell_type": "code",
   "execution_count": null,
   "metadata": {
    "scrolled": true
   },
   "outputs": [],
   "source": [
    "df.spots<-df.spots[order(df.spots$value),]"
   ]
  },
  {
   "cell_type": "code",
   "execution_count": null,
   "metadata": {},
   "outputs": [],
   "source": [
    "df.spots$gene <- factor(df.spots$gene, levels = unique(df.spots$gene))"
   ]
  },
  {
   "cell_type": "code",
   "execution_count": null,
   "metadata": {},
   "outputs": [],
   "source": [
    "ggplot(df.spots, aes(x=variable, y=gene, fill=value))+\n",
    "  geom_tile()+\n",
    "  geom_text(aes(label = round(value, 1)),size=2) +\n",
    "  scale_fill_gradient(low = \"white\",high = \"red\") +\n",
    "  theme_classic() +\n",
    "  theme(panel.background = element_rect(colour = \"black\", size=.25, fill=NA, linetype=\"solid\"),\n",
    "        axis.line=element_line(size=0.25),\n",
    "        axis.ticks=element_line(size=0.25),\n",
    "        axis.text.y = element_text(size=8),\n",
    "        axis.text.x = element_text( size=8),\n",
    "        axis.title.y = element_blank(),\n",
    "        axis.title.x = element_text(size=8),\n",
    "        legend.position='bottom',\n",
    "        legend.key.size = unit(0.25, 'cm'))+\n",
    "  xlab('Coordinates from Bregma') +\n",
    "  ylab('Gene') +\n",
    "  scale_x_discrete(labels=c('+1.0','+0.8','+0.4','+0.1')) \n",
    "\n",
    "ggsave('heatmap_tacr1_coexpression.svg',width=2, height=3.5)\n",
    "ggsave('heatmap_tacr1_coexpression.pdf',width=2, height=3.5)"
   ]
  },
  {
   "cell_type": "code",
   "execution_count": null,
   "metadata": {},
   "outputs": [],
   "source": []
  },
  {
   "cell_type": "code",
   "execution_count": null,
   "metadata": {},
   "outputs": [],
   "source": []
  },
  {
   "cell_type": "code",
   "execution_count": null,
   "metadata": {},
   "outputs": [],
   "source": []
  },
  {
   "cell_type": "code",
   "execution_count": null,
   "metadata": {},
   "outputs": [],
   "source": []
  },
  {
   "cell_type": "code",
   "execution_count": null,
   "metadata": {},
   "outputs": [],
   "source": []
  },
  {
   "cell_type": "code",
   "execution_count": null,
   "metadata": {},
   "outputs": [],
   "source": []
  },
  {
   "cell_type": "markdown",
   "metadata": {},
   "source": [
    "#### Either or "
   ]
  },
  {
   "cell_type": "code",
   "execution_count": null,
   "metadata": {},
   "outputs": [],
   "source": [
    "WT1S2 <- WT.spots[grep(\"WT-1-S2\",rownames(WT.spots)),]\n",
    "WT1S3 <- WT.spots[grep(\"WT-1-S3\",rownames(WT.spots)),]\n",
    "WT1S4 <- WT.spots[grep(\"WT-1-S4\",rownames(WT.spots)),]\n",
    "WT1S5 <- WT.spots[grep(\"WT-1-S5\",rownames(WT.spots)),]"
   ]
  },
  {
   "cell_type": "code",
   "execution_count": null,
   "metadata": {},
   "outputs": [],
   "source": [
    "WT2S2 <- WT.spots[grep(\"WT-2-S2\",rownames(WT.spots)),]\n",
    "WT2S3 <- WT.spots[grep(\"WT-2-S3\",rownames(WT.spots)),]\n",
    "WT2S4 <- WT.spots[grep(\"WT-2-S4\",rownames(WT.spots)),]\n",
    "WT2S5 <- WT.spots[grep(\"WT-2-S6\",rownames(WT.spots)),]"
   ]
  },
  {
   "cell_type": "code",
   "execution_count": null,
   "metadata": {},
   "outputs": [],
   "source": [
    "WT3S2 <- WT.spots[grep(\"WT-3-S2\",rownames(WT.spots)),]\n",
    "WT3S3 <- WT.spots[grep(\"WT-3-S4\",rownames(WT.spots)),]\n",
    "WT3S4 <- WT.spots[grep(\"WT-3-S5\",rownames(WT.spots)),]\n",
    "WT3S5 <- WT.spots[grep(\"WT-3-S6\",rownames(WT.spots)),]"
   ]
  },
  {
   "cell_type": "code",
   "execution_count": null,
   "metadata": {},
   "outputs": [],
   "source": [
    "WT4S2 <- WT.spots[grep(\"WT-4-S3\",rownames(WT.spots)),]\n",
    "WT4S3 <- WT.spots[grep(\"WT-4-S4\",rownames(WT.spots)),]\n",
    "WT4S4 <- WT.spots[grep(\"WT-4-S5\",rownames(WT.spots)),]"
   ]
  },
  {
   "cell_type": "code",
   "execution_count": null,
   "metadata": {},
   "outputs": [],
   "source": [
    "WT5S3 <- WT.spots[grep(\"WT-5-S3\",rownames(WT.spots)),]\n",
    "WT5S4 <- WT.spots[grep(\"WT-5-S4\",rownames(WT.spots)),]\n",
    "WT5S5 <- WT.spots[grep(\"WT-5-S6\",rownames(WT.spots)),]"
   ]
  },
  {
   "cell_type": "code",
   "execution_count": null,
   "metadata": {},
   "outputs": [],
   "source": [
    "WT6S2 <- WT.spots[grep(\"WT-6-S2\",rownames(WT.spots)),]\n",
    "WT6S3 <- WT.spots[grep(\"WT-6-S3\",rownames(WT.spots)),]\n",
    "WT6S4 <- WT.spots[grep(\"WT-6-S4\",rownames(WT.spots)),]\n",
    "WT6S5 <- WT.spots[grep(\"WT-6-S5\",rownames(WT.spots)),]"
   ]
  },
  {
   "cell_type": "code",
   "execution_count": null,
   "metadata": {},
   "outputs": [],
   "source": [
    "WT7S3 <- WT.spots[grep(\"WT-7-S3\",rownames(WT.spots)),]\n",
    "WT7S4 <- WT.spots[grep(\"WT-7-S4\",rownames(WT.spots)),]\n",
    "WT7S5 <- WT.spots[grep(\"WT-7-S6\",rownames(WT.spots)),]"
   ]
  },
  {
   "cell_type": "code",
   "execution_count": null,
   "metadata": {},
   "outputs": [],
   "source": [
    "WT8S2 <- WT.spots[grep(\"WT-8-S2\",rownames(WT.spots)),]\n",
    "WT8S3 <- WT.spots[grep(\"WT-8-S3\",rownames(WT.spots)),]\n",
    "WT8S4 <- WT.spots[grep(\"WT-8-S4\",rownames(WT.spots)),]\n",
    "WT8S5 <- WT.spots[grep(\"WT-8-S6\",rownames(WT.spots)),]"
   ]
  },
  {
   "cell_type": "code",
   "execution_count": null,
   "metadata": {},
   "outputs": [],
   "source": [
    "S1 <- rbind(WT1S2, WT2S2, WT3S2, WT4S2, WT5S3, WT6S2, WT8S2)\n",
    "colnames(S1) <- gsub('.Copies',\"\",colnames(S1))\n",
    "S2 <- rbind(WT1S3, WT2S3, WT3S3, WT4S3, WT6S3, WT7S3, WT8S3)\n",
    "colnames(S2) <- gsub('.Copies',\"\",colnames(S2))\n",
    "S3 <- rbind(WT1S4, WT2S4, WT3S4, WT4S4, WT5S4, WT6S4, WT8S4)\n",
    "colnames(S3) <- gsub('.Copies',\"\",colnames(S3))\n",
    "S4 <- rbind(WT1S5, WT2S5, WT3S5, WT5S5, WT6S5, WT8S5)\n",
    "colnames(S4) <- gsub('.Copies',\"\",colnames(S4))"
   ]
  },
  {
   "cell_type": "code",
   "execution_count": null,
   "metadata": {},
   "outputs": [],
   "source": [
    "S.all <- rbind(WT1S2, WT2S2, WT3S2, WT4S2, WT5S3, WT6S2, WT8S2, WT1S3, WT2S3, WT3S3, WT4S3, WT6S3, WT7S3, WT8S3, WT1S4, WT2S4, WT3S4, WT4S4, WT5S4, WT6S4, WT8S4, WT1S5, WT2S5, WT3S5, WT5S5, WT6S5, WT8S5)\n",
    "colnames(S.all) <- gsub('.Copies',\"\",colnames(S.all))"
   ]
  },
  {
   "cell_type": "code",
   "execution_count": null,
   "metadata": {},
   "outputs": [],
   "source": [
    "gene_list <- c('nts', 'sst','met','foxp2','crhr2','esr1','tacr1','pax6','drd3','samd3','onecut2','col15a1')"
   ]
  },
  {
   "cell_type": "code",
   "execution_count": null,
   "metadata": {},
   "outputs": [],
   "source": [
    "#function to find overlap\n",
    "calculate_overlap <- function(gene, gene_list, data){\n",
    "    lista <- vector()\n",
    "    S1.df <- data.frame()\n",
    "        for (gene2 in gene_list) {\n",
    "            either <- data[data[c(gene)] > 0 | data[c(gene2)] > 0,]\n",
    "            both <- data[data[c(gene)] > 0 & data[c(gene2)] > 0,]\n",
    "            overlap <- dim(both)[1]/dim(either)[1]*100\n",
    "            lista[gene2] <- overlap\n",
    "    }\n",
    "    return(lista)\n",
    "}\n",
    "    "
   ]
  },
  {
   "cell_type": "code",
   "execution_count": null,
   "metadata": {},
   "outputs": [],
   "source": [
    "gene_list"
   ]
  },
  {
   "cell_type": "code",
   "execution_count": null,
   "metadata": {},
   "outputs": [],
   "source": [
    "gene_list2 <- c('nts.2','sst.2','met.2','foxp2.2','crhr2.2','esr1.2','tacr1.2','pax6.2','drd3.2','samd3.2','onecut2.2','col15a1.2')"
   ]
  },
  {
   "cell_type": "code",
   "execution_count": null,
   "metadata": {},
   "outputs": [],
   "source": [
    "output.S1 <- data.frame(lapply(gene_list, calculate_overlap, gene_list=gene_list, data=S1))\n",
    "colnames(output.S1) <- gene_list2"
   ]
  },
  {
   "cell_type": "code",
   "execution_count": null,
   "metadata": {},
   "outputs": [],
   "source": [
    "output.S2 <- data.frame(lapply(gene_list, calculate_overlap, gene_list=gene_list, data=S2))\n",
    "colnames(output.S2) <- gene_list2"
   ]
  },
  {
   "cell_type": "code",
   "execution_count": null,
   "metadata": {},
   "outputs": [],
   "source": [
    "output.S3 <- data.frame(lapply(gene_list, calculate_overlap, gene_list=gene_list, data=S3))\n",
    "colnames(output.S3) <- gene_list2"
   ]
  },
  {
   "cell_type": "code",
   "execution_count": null,
   "metadata": {},
   "outputs": [],
   "source": [
    "output.S4 <- data.frame(lapply(gene_list, calculate_overlap, gene_list=gene_list, data=S4))\n",
    "colnames(output.S4) <- gene_list2"
   ]
  },
  {
   "cell_type": "code",
   "execution_count": null,
   "metadata": {},
   "outputs": [],
   "source": [
    "output.all <- data.frame(lapply(gene_list, calculate_overlap, gene_list=gene_list, data=S.all))\n",
    "colnames(output.all) <- gene_list2"
   ]
  },
  {
   "cell_type": "code",
   "execution_count": null,
   "metadata": {},
   "outputs": [],
   "source": [
    "output.S1"
   ]
  },
  {
   "cell_type": "code",
   "execution_count": null,
   "metadata": {},
   "outputs": [],
   "source": [
    "output.S2"
   ]
  },
  {
   "cell_type": "code",
   "execution_count": null,
   "metadata": {},
   "outputs": [],
   "source": [
    "output.S3"
   ]
  },
  {
   "cell_type": "code",
   "execution_count": null,
   "metadata": {},
   "outputs": [],
   "source": [
    "output.S4"
   ]
  },
  {
   "cell_type": "code",
   "execution_count": null,
   "metadata": {},
   "outputs": [],
   "source": [
    "output.all"
   ]
  },
  {
   "cell_type": "code",
   "execution_count": null,
   "metadata": {},
   "outputs": [],
   "source": [
    "cor.df.long <-melt(data.matrix(output.S4), id=colnames(output.S4))"
   ]
  },
  {
   "cell_type": "code",
   "execution_count": null,
   "metadata": {},
   "outputs": [],
   "source": [
    "new_order <- c('sst','nts','crhr2','col15a1','onecut2','met','drd3','tacr1','foxp2','pax6','esr1','samd3')"
   ]
  },
  {
   "cell_type": "code",
   "execution_count": null,
   "metadata": {},
   "outputs": [],
   "source": [
    "new_order2 <- c('sst.2','nts.2','crhr2.2','col15a1.2','onecut2.2','met.2','drd3.2','tacr1.2','foxp2.2','pax6.2','esr1.2','samd3.2')"
   ]
  },
  {
   "cell_type": "code",
   "execution_count": null,
   "metadata": {},
   "outputs": [],
   "source": [
    "cor.df.long$Var1<-factor(cor.df.long$Var1, levels=rev(new_order))"
   ]
  },
  {
   "cell_type": "code",
   "execution_count": null,
   "metadata": {},
   "outputs": [],
   "source": [
    "cor.df.long$Var2<-factor(cor.df.long$Var2, levels=(new_order2))"
   ]
  },
  {
   "cell_type": "code",
   "execution_count": null,
   "metadata": {},
   "outputs": [],
   "source": [
    "ggplot(cor.df.long, aes(x=Var1, y=Var2, fill=value))+\n",
    "geom_tile() + scale_fill_gradient(low='white',high='darkred',limits=c(0,30)) +\n",
    "theme_classic()+\n",
    "    theme( axis.line=element_line(size=0.25),\n",
    "        axis.ticks=element_line(size=0.25),\n",
    "        axis.text.y = element_text(size=6,),\n",
    "        axis.text.x = element_text(size=6, angle=45, hjust=1),\n",
    "        axis.title = element_blank(),\n",
    "        legend.position='bottom',\n",
    "        legend.key.size = unit(.2, 'cm'),\n",
    "        legend.title = element_text(size=6),\n",
    "        legend.text = element_text(size=6)) + coord_flip()\n",
    "ggsave('C:/Users/stuberadmin/Documents/HCR_analysis/graphs/overlap_S1.pdf',width=2, height=2)"
   ]
  },
  {
   "cell_type": "code",
   "execution_count": null,
   "metadata": {},
   "outputs": [],
   "source": [
    "ggplot(cor.df.long, aes(x=Var1, y=Var2, fill=value))+\n",
    "geom_tile() + scale_fill_gradient(low='white',high='darkred',limits=c(0,30)) +\n",
    "theme_classic()+\n",
    "    theme( axis.line=element_line(size=0.25),\n",
    "        axis.ticks=element_line(size=0.25),\n",
    "        axis.text.y = element_text(size=6,),\n",
    "        axis.text.x = element_text(size=6, angle=45, hjust=1),\n",
    "        axis.title = element_blank(),\n",
    "        legend.position='bottom',\n",
    "        legend.key.size = unit(.2, 'cm'),\n",
    "        legend.title = element_text(size=6),\n",
    "        legend.text = element_text(size=6)) + coord_flip()\n",
    "ggsave('C:/Users/stuberadmin/Documents/HCR_analysis/graphs/overlap_S2.pdf',width=2, height=2)"
   ]
  },
  {
   "cell_type": "code",
   "execution_count": null,
   "metadata": {},
   "outputs": [],
   "source": [
    "ggplot(cor.df.long, aes(x=Var1, y=Var2, fill=value))+\n",
    "geom_tile() + scale_fill_gradient(low='white',high='darkred',limits=c(0,30)) +\n",
    "theme_classic()+\n",
    "    theme( axis.line=element_line(size=0.25),\n",
    "        axis.ticks=element_line(size=0.25),\n",
    "        axis.text.y = element_text(size=6,),\n",
    "        axis.text.x = element_text(size=6, angle=45, hjust=1),\n",
    "        axis.title = element_blank(),\n",
    "        legend.position='bottom',\n",
    "        legend.key.size = unit(.2, 'cm'),\n",
    "        legend.title = element_text(size=6),\n",
    "        legend.text = element_text(size=6)) + coord_flip()\n",
    "ggsave('C:/Users/stuberadmin/Documents/HCR_analysis/graphs/overlap_S3.pdf',width=2, height=2)"
   ]
  },
  {
   "cell_type": "code",
   "execution_count": null,
   "metadata": {},
   "outputs": [],
   "source": [
    "ggplot(cor.df.long, aes(x=Var1, y=Var2, fill=value))+\n",
    "geom_tile() + scale_fill_gradient(low='white',high='darkred',limits=c(0,30)) +\n",
    "theme_classic()+\n",
    "    theme( axis.line=element_line(size=0.25),\n",
    "        axis.ticks=element_line(size=0.25),\n",
    "        axis.text.y = element_text(size=6,),\n",
    "        axis.text.x = element_text(size=6, angle=45, hjust=1),\n",
    "        axis.title = element_blank(),\n",
    "        legend.position='bottom',\n",
    "        legend.key.size = unit(.2, 'cm'),\n",
    "        legend.title = element_text(size=6),\n",
    "        legend.text = element_text(size=6)) + coord_flip()\n",
    "ggsave('C:/Users/stuberadmin/Documents/HCR_analysis/graphs/overlap_S4.pdf',width=2, height=2)"
   ]
  },
  {
   "cell_type": "code",
   "execution_count": null,
   "metadata": {},
   "outputs": [],
   "source": [
    "ggplot(cor.df.long, aes(x=Var1, y=Var2, fill=value))+\n",
    "geom_tile() + scale_fill_gradient(low='white',high='darkred',limits=c(0,30)) +\n",
    "theme_classic()+\n",
    "    theme( axis.line=element_line(size=0.25),\n",
    "        axis.ticks=element_line(size=0.25),\n",
    "        axis.text.y = element_text(size=6,),\n",
    "        axis.text.x = element_text(size=6, angle=45, hjust=1),\n",
    "        axis.title = element_blank(),\n",
    "        legend.position='bottom',\n",
    "        legend.key.size = unit(.2, 'cm'),\n",
    "        legend.title = element_text(size=6),\n",
    "        legend.text = element_text(size=6)) + coord_flip()"
   ]
  },
  {
   "cell_type": "code",
   "execution_count": null,
   "metadata": {},
   "outputs": [],
   "source": []
  },
  {
   "cell_type": "code",
   "execution_count": null,
   "metadata": {},
   "outputs": [],
   "source": [
    "pdf('C:/Users/stuberadmin/Documents/HCR_analysis/graphs/dendrogram_overlap4.pdf',width=10, height=10)\n",
    "plot(hclust(dist(output.all)), hang=-1)\n",
    "dev.off()"
   ]
  },
  {
   "cell_type": "code",
   "execution_count": null,
   "metadata": {},
   "outputs": [],
   "source": [
    "hclust(dist(output.all))$labels"
   ]
  },
  {
   "cell_type": "code",
   "execution_count": null,
   "metadata": {
    "scrolled": true
   },
   "outputs": [],
   "source": [
    "output.S1"
   ]
  },
  {
   "cell_type": "code",
   "execution_count": null,
   "metadata": {},
   "outputs": [],
   "source": [
    "library(reshape2)\n",
    "library(ggplot2)\n",
    "library(tibble)"
   ]
  },
  {
   "cell_type": "code",
   "execution_count": null,
   "metadata": {},
   "outputs": [],
   "source": [
    "nts.heatmap <- data.frame('S1' = output.S1$nts.2,\n",
    "           'S2' = output.S2$nts.2,\n",
    "           'S3' = output.S3$nts.2,\n",
    "           'S4' = output.S4$nts.2)\n",
    "rownames(nts.heatmap) <- rownames(output.S1)"
   ]
  },
  {
   "cell_type": "code",
   "execution_count": null,
   "metadata": {},
   "outputs": [],
   "source": [
    "nts.heatmap <- nts.heatmap[-c(1),]"
   ]
  },
  {
   "cell_type": "code",
   "execution_count": null,
   "metadata": {},
   "outputs": [],
   "source": [
    "colnames(nts.heatmap) <- c('+1.0',\"+0.8\",\"+0.4\",\"+0.1\")"
   ]
  },
  {
   "cell_type": "code",
   "execution_count": null,
   "metadata": {},
   "outputs": [],
   "source": [
    "nts.heatmap$gene <- rownames(nts.heatmap)"
   ]
  },
  {
   "cell_type": "code",
   "execution_count": null,
   "metadata": {
    "scrolled": true
   },
   "outputs": [],
   "source": [
    "nts.heatmap <- melt(nts.heatmap)"
   ]
  },
  {
   "cell_type": "code",
   "execution_count": null,
   "metadata": {},
   "outputs": [],
   "source": [
    "nts.heatmap$gene <- factor(nts.heatmap$gene, levels = rev(rownames(output.all)))"
   ]
  },
  {
   "cell_type": "code",
   "execution_count": null,
   "metadata": {},
   "outputs": [],
   "source": [
    "ggplot(nts.heatmap, aes(x=variable, y=gene, fill=value))+\n",
    "  geom_tile()+\n",
    "  geom_text(aes(label = round(value, 1)),size=2) +\n",
    "  scale_fill_gradient(low = \"white\",high = \"red\") +\n",
    "  theme_classic() +\n",
    "  theme(panel.background = element_rect(colour = \"black\", size=.25, fill=NA, linetype=\"solid\"),\n",
    "        axis.line=element_line(size=0.25),\n",
    "        axis.ticks=element_line(size=0.25),\n",
    "        axis.text.y = element_text(size=8),\n",
    "        axis.text.x = element_text( size=8),\n",
    "        axis.title.y = element_blank(),\n",
    "        axis.title.x = element_text(size=8),\n",
    "        legend.position='bottom',\n",
    "        legend.key.size = unit(0.25, 'cm'))+\n",
    "  xlab('Coordinates from Bregma') +\n",
    "  ylab('Gene') +\n",
    "  scale_x_discrete(labels=c('+1.0','+0.8','+0.4','+0.1')) \n",
    "ggsave('C:/Users/stuberadmin/Documents/HCR_analysis/graphs/nts_heatmap.pdf',width=2, height=3.5)"
   ]
  },
  {
   "cell_type": "code",
   "execution_count": null,
   "metadata": {},
   "outputs": [],
   "source": []
  },
  {
   "cell_type": "code",
   "execution_count": null,
   "metadata": {},
   "outputs": [],
   "source": []
  },
  {
   "cell_type": "code",
   "execution_count": null,
   "metadata": {},
   "outputs": [],
   "source": []
  },
  {
   "cell_type": "code",
   "execution_count": null,
   "metadata": {},
   "outputs": [],
   "source": []
  },
  {
   "cell_type": "code",
   "execution_count": null,
   "metadata": {},
   "outputs": [],
   "source": []
  },
  {
   "cell_type": "code",
   "execution_count": null,
   "metadata": {},
   "outputs": [],
   "source": [
    "df.spots <-df.spots[df.spots$gene != \"nts\",]"
   ]
  },
  {
   "cell_type": "code",
   "execution_count": null,
   "metadata": {
    "scrolled": true
   },
   "outputs": [],
   "source": [
    "df.spots<-df.spots[order(df.spots$value),]"
   ]
  },
  {
   "cell_type": "code",
   "execution_count": null,
   "metadata": {},
   "outputs": [],
   "source": [
    "df.spots$gene <- factor(df.spots$gene, levels = unique(df.spots$gene))"
   ]
  },
  {
   "cell_type": "code",
   "execution_count": null,
   "metadata": {},
   "outputs": [],
   "source": [
    "ggplot(df.spots, aes(x=variable, y=gene, fill=value))+\n",
    "  geom_tile()+\n",
    "  geom_text(aes(label = round(value, 1)),size=2) +\n",
    "  scale_fill_gradient(low = \"white\",high = \"red\") +\n",
    "  theme_classic() +\n",
    "  theme(panel.background = element_rect(colour = \"black\", size=.25, fill=NA, linetype=\"solid\"),\n",
    "        axis.line=element_line(size=0.25),\n",
    "        axis.ticks=element_line(size=0.25),\n",
    "        axis.text.y = element_text(size=8),\n",
    "        axis.text.x = element_text( size=8),\n",
    "        axis.title.y = element_blank(),\n",
    "        axis.title.x = element_text(size=8),\n",
    "        legend.position='bottom',\n",
    "        legend.key.size = unit(0.25, 'cm'))+\n",
    "  xlab('Coordinates from Bregma') +\n",
    "  ylab('Gene') +\n",
    "  scale_x_discrete(labels=c('+1.0','+0.8','+0.4','+0.1')) \n",
    "\n",
    "#ggsave('heatmap_nts_coexpression.svg',width=2, height=3.5)\n",
    "#ggsave('heatmap_nts_coexpression.pdf',width=2, height=3.5)"
   ]
  },
  {
   "cell_type": "code",
   "execution_count": null,
   "metadata": {},
   "outputs": [],
   "source": [
    "ggplot(df.spots, aes(x=variable, y=gene, fill=value))+\n",
    "  geom_tile()+\n",
    "  geom_text(aes(label = round(value, 1)),size=2) +\n",
    "  scale_fill_gradient(low = \"white\",high = \"red\") +\n",
    "  theme_classic() +\n",
    "  theme(panel.background = element_rect(colour = \"black\", size=.25, fill=NA, linetype=\"solid\"),\n",
    "        axis.line=element_line(size=0.25),\n",
    "        axis.ticks=element_line(size=0.25),\n",
    "        axis.text.y = element_text(size=8),\n",
    "        axis.text.x = element_text( size=8),\n",
    "        axis.title.y = element_blank(),\n",
    "        axis.title.x = element_text(size=8),\n",
    "        legend.position='bottom',\n",
    "        legend.key.size = unit(0.25, 'cm'))+\n",
    "  xlab('Coordinates from Bregma') +\n",
    "  ylab('Gene') +\n",
    "  scale_x_discrete(labels=c('+1.0','+0.8','+0.4','+0.1')) \n",
    "\n",
    "#ggsave('heatmap_met_coexpression.svg',width=2, height=3.5)\n",
    "#ggsave('heatmap_met_coexpression.pdf',width=2, height=3.5)"
   ]
  },
  {
   "cell_type": "code",
   "execution_count": null,
   "metadata": {},
   "outputs": [],
   "source": []
  },
  {
   "cell_type": "code",
   "execution_count": null,
   "metadata": {},
   "outputs": [],
   "source": []
  },
  {
   "cell_type": "code",
   "execution_count": null,
   "metadata": {},
   "outputs": [],
   "source": []
  },
  {
   "cell_type": "code",
   "execution_count": null,
   "metadata": {},
   "outputs": [],
   "source": []
  },
  {
   "cell_type": "code",
   "execution_count": null,
   "metadata": {},
   "outputs": [],
   "source": []
  },
  {
   "cell_type": "code",
   "execution_count": null,
   "metadata": {},
   "outputs": [],
   "source": []
  },
  {
   "cell_type": "code",
   "execution_count": null,
   "metadata": {},
   "outputs": [],
   "source": []
  }
 ],
 "metadata": {
  "colab": {
   "name": "Heatmap_num_pos.ipynb",
   "provenance": []
  },
  "kernelspec": {
   "display_name": "R",
   "language": "R",
   "name": "ir"
  },
  "language_info": {
   "codemirror_mode": "r",
   "file_extension": ".r",
   "mimetype": "text/x-r-source",
   "name": "R",
   "pygments_lexer": "r",
   "version": "4.1.2"
  }
 },
 "nbformat": 4,
 "nbformat_minor": 1
}
