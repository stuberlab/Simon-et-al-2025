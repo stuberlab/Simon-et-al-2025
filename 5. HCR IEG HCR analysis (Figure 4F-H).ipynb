{
 "cells": [
  {
   "cell_type": "markdown",
   "metadata": {},
   "source": [
    "## IEG HCR analysis (Figure 4F-H)"
   ]
  },
  {
   "cell_type": "markdown",
   "metadata": {},
   "source": [
    "This notebook calculates the abundance of Fos in Nts+ cells"
   ]
  },
  {
   "cell_type": "markdown",
   "metadata": {},
   "source": [
    "#### Import libraries"
   ]
  },
  {
   "cell_type": "code",
   "execution_count": 1,
   "metadata": {
    "scrolled": true
   },
   "outputs": [
    {
     "name": "stderr",
     "output_type": "stream",
     "text": [
      "-- \u001b[1mAttaching packages\u001b[22m ------------------------------------------------------------------------------- tidyverse 1.3.1 --\n",
      "\n",
      "\u001b[32mv\u001b[39m \u001b[34mggplot2\u001b[39m 3.3.5     \u001b[32mv\u001b[39m \u001b[34mpurrr  \u001b[39m 0.3.4\n",
      "\u001b[32mv\u001b[39m \u001b[34mtibble \u001b[39m 3.1.6     \u001b[32mv\u001b[39m \u001b[34mdplyr  \u001b[39m 1.0.7\n",
      "\u001b[32mv\u001b[39m \u001b[34mtidyr  \u001b[39m 1.1.4     \u001b[32mv\u001b[39m \u001b[34mstringr\u001b[39m 1.4.0\n",
      "\u001b[32mv\u001b[39m \u001b[34mreadr  \u001b[39m 2.1.1     \u001b[32mv\u001b[39m \u001b[34mforcats\u001b[39m 0.5.1\n",
      "\n",
      "-- \u001b[1mConflicts\u001b[22m ---------------------------------------------------------------------------------- tidyverse_conflicts() --\n",
      "\u001b[31mx\u001b[39m \u001b[34mdplyr\u001b[39m::\u001b[32mcombine()\u001b[39m masks \u001b[34mgridExtra\u001b[39m::combine()\n",
      "\u001b[31mx\u001b[39m \u001b[34mdplyr\u001b[39m::\u001b[32mfilter()\u001b[39m  masks \u001b[34mstats\u001b[39m::filter()\n",
      "\u001b[31mx\u001b[39m \u001b[34mdplyr\u001b[39m::\u001b[32mlag()\u001b[39m     masks \u001b[34mstats\u001b[39m::lag()\n",
      "\n",
      "\n",
      "Attaching package: 'plotly'\n",
      "\n",
      "\n",
      "The following object is masked from 'package:ggplot2':\n",
      "\n",
      "    last_plot\n",
      "\n",
      "\n",
      "The following object is masked from 'package:stats':\n",
      "\n",
      "    filter\n",
      "\n",
      "\n",
      "The following object is masked from 'package:graphics':\n",
      "\n",
      "    layout\n",
      "\n",
      "\n",
      "------------------------------------------------------------------------------\n",
      "\n",
      "You have loaded plyr after dplyr - this is likely to cause problems.\n",
      "If you need functions from both plyr and dplyr, please load plyr first, then dplyr:\n",
      "library(plyr); library(dplyr)\n",
      "\n",
      "------------------------------------------------------------------------------\n",
      "\n",
      "\n",
      "Attaching package: 'plyr'\n",
      "\n",
      "\n",
      "The following objects are masked from 'package:plotly':\n",
      "\n",
      "    arrange, mutate, rename, summarise\n",
      "\n",
      "\n",
      "The following objects are masked from 'package:dplyr':\n",
      "\n",
      "    arrange, count, desc, failwith, id, mutate, rename, summarise,\n",
      "    summarize\n",
      "\n",
      "\n",
      "The following object is masked from 'package:purrr':\n",
      "\n",
      "    compact\n",
      "\n",
      "\n"
     ]
    }
   ],
   "source": [
    "library(cowplot)\n",
    "library(reshape2)\n",
    "library(gridExtra)\n",
    "library(tidyverse)\n",
    "library(dplyr)\n",
    "library(ggplot2)\n",
    "library(plotly)\n",
    "library(xlsx)\n",
    "library(plyr)"
   ]
  },
  {
   "cell_type": "markdown",
   "metadata": {},
   "source": [
    "#### Load in data file"
   ]
  },
  {
   "cell_type": "code",
   "execution_count": 1,
   "metadata": {
    "scrolled": true
   },
   "outputs": [
    {
     "data": {
      "text/html": [
       "<table class=\"dataframe\">\n",
       "<caption>A data.frame: 203061 × 8</caption>\n",
       "<thead>\n",
       "\t<tr><th scope=col>section.ident</th><th scope=col>group</th><th scope=col>animal</th><th scope=col>slide</th><th scope=col>sex</th><th scope=col>nts.Copies</th><th scope=col>met.Copies</th><th scope=col>fos.Copies</th></tr>\n",
       "\t<tr><th scope=col>&lt;chr&gt;</th><th scope=col>&lt;chr&gt;</th><th scope=col>&lt;chr&gt;</th><th scope=col>&lt;chr&gt;</th><th scope=col>&lt;chr&gt;</th><th scope=col>&lt;int&gt;</th><th scope=col>&lt;int&gt;</th><th scope=col>&lt;int&gt;</th></tr>\n",
       "</thead>\n",
       "<tbody>\n",
       "\t<tr><td>sal_M1s1</td><td>sal</td><td>A9</td><td>S5</td><td>male</td><td> 0</td><td> 0</td><td> 7</td></tr>\n",
       "\t<tr><td>sal_M1s1</td><td>sal</td><td>A9</td><td>S5</td><td>male</td><td> 0</td><td> 0</td><td> 0</td></tr>\n",
       "\t<tr><td>sal_M1s1</td><td>sal</td><td>A9</td><td>S5</td><td>male</td><td> 1</td><td> 0</td><td> 1</td></tr>\n",
       "\t<tr><td>sal_M1s1</td><td>sal</td><td>A9</td><td>S5</td><td>male</td><td> 0</td><td> 0</td><td> 0</td></tr>\n",
       "\t<tr><td>sal_M1s1</td><td>sal</td><td>A9</td><td>S5</td><td>male</td><td> 0</td><td> 0</td><td> 0</td></tr>\n",
       "\t<tr><td>sal_M1s1</td><td>sal</td><td>A9</td><td>S5</td><td>male</td><td> 0</td><td> 0</td><td> 0</td></tr>\n",
       "\t<tr><td>sal_M1s1</td><td>sal</td><td>A9</td><td>S5</td><td>male</td><td> 0</td><td> 0</td><td>11</td></tr>\n",
       "\t<tr><td>sal_M1s1</td><td>sal</td><td>A9</td><td>S5</td><td>male</td><td> 0</td><td> 0</td><td> 0</td></tr>\n",
       "\t<tr><td>sal_M1s1</td><td>sal</td><td>A9</td><td>S5</td><td>male</td><td> 0</td><td> 0</td><td> 6</td></tr>\n",
       "\t<tr><td>sal_M1s1</td><td>sal</td><td>A9</td><td>S5</td><td>male</td><td> 0</td><td> 0</td><td> 2</td></tr>\n",
       "\t<tr><td>sal_M1s1</td><td>sal</td><td>A9</td><td>S5</td><td>male</td><td> 0</td><td> 0</td><td>12</td></tr>\n",
       "\t<tr><td>sal_M1s1</td><td>sal</td><td>A9</td><td>S5</td><td>male</td><td> 0</td><td> 0</td><td> 0</td></tr>\n",
       "\t<tr><td>sal_M1s1</td><td>sal</td><td>A9</td><td>S5</td><td>male</td><td> 0</td><td> 0</td><td> 0</td></tr>\n",
       "\t<tr><td>sal_M1s1</td><td>sal</td><td>A9</td><td>S5</td><td>male</td><td> 0</td><td> 0</td><td> 0</td></tr>\n",
       "\t<tr><td>sal_M1s1</td><td>sal</td><td>A9</td><td>S5</td><td>male</td><td> 3</td><td> 0</td><td> 8</td></tr>\n",
       "\t<tr><td>sal_M1s1</td><td>sal</td><td>A9</td><td>S5</td><td>male</td><td> 4</td><td> 0</td><td> 6</td></tr>\n",
       "\t<tr><td>sal_M1s1</td><td>sal</td><td>A9</td><td>S5</td><td>male</td><td> 0</td><td> 0</td><td>13</td></tr>\n",
       "\t<tr><td>sal_M1s1</td><td>sal</td><td>A9</td><td>S5</td><td>male</td><td> 2</td><td> 0</td><td>16</td></tr>\n",
       "\t<tr><td>sal_M1s1</td><td>sal</td><td>A9</td><td>S5</td><td>male</td><td> 0</td><td> 0</td><td> 0</td></tr>\n",
       "\t<tr><td>sal_M1s1</td><td>sal</td><td>A9</td><td>S5</td><td>male</td><td> 0</td><td> 0</td><td> 1</td></tr>\n",
       "\t<tr><td>sal_M1s1</td><td>sal</td><td>A9</td><td>S5</td><td>male</td><td> 9</td><td> 0</td><td> 0</td></tr>\n",
       "\t<tr><td>sal_M1s1</td><td>sal</td><td>A9</td><td>S5</td><td>male</td><td> 0</td><td> 0</td><td> 4</td></tr>\n",
       "\t<tr><td>sal_M1s1</td><td>sal</td><td>A9</td><td>S5</td><td>male</td><td> 1</td><td> 0</td><td> 3</td></tr>\n",
       "\t<tr><td>sal_M1s1</td><td>sal</td><td>A9</td><td>S5</td><td>male</td><td>14</td><td> 0</td><td> 5</td></tr>\n",
       "\t<tr><td>sal_M1s1</td><td>sal</td><td>A9</td><td>S5</td><td>male</td><td> 1</td><td> 0</td><td> 3</td></tr>\n",
       "\t<tr><td>sal_M1s1</td><td>sal</td><td>A9</td><td>S5</td><td>male</td><td> 2</td><td> 0</td><td>12</td></tr>\n",
       "\t<tr><td>sal_M1s1</td><td>sal</td><td>A9</td><td>S5</td><td>male</td><td> 1</td><td>50</td><td> 0</td></tr>\n",
       "\t<tr><td>sal_M1s1</td><td>sal</td><td>A9</td><td>S5</td><td>male</td><td> 7</td><td> 0</td><td> 4</td></tr>\n",
       "\t<tr><td>sal_M1s1</td><td>sal</td><td>A9</td><td>S5</td><td>male</td><td> 0</td><td> 0</td><td> 2</td></tr>\n",
       "\t<tr><td>sal_M1s1</td><td>sal</td><td>A9</td><td>S5</td><td>male</td><td> 0</td><td> 0</td><td> 0</td></tr>\n",
       "\t<tr><td>...</td><td>...</td><td>...</td><td>...</td><td>...</td><td>...</td><td>...</td><td>...</td></tr>\n",
       "\t<tr><td>nal_F2s2</td><td>nal</td><td>A8</td><td>S4</td><td>female</td><td> 3</td><td> 0</td><td> 25</td></tr>\n",
       "\t<tr><td>nal_F2s2</td><td>nal</td><td>A8</td><td>S4</td><td>female</td><td> 0</td><td> 0</td><td>  8</td></tr>\n",
       "\t<tr><td>nal_F2s2</td><td>nal</td><td>A8</td><td>S4</td><td>female</td><td> 1</td><td> 2</td><td> 11</td></tr>\n",
       "\t<tr><td>nal_F2s2</td><td>nal</td><td>A8</td><td>S4</td><td>female</td><td> 7</td><td> 1</td><td> 36</td></tr>\n",
       "\t<tr><td>nal_F2s2</td><td>nal</td><td>A8</td><td>S4</td><td>female</td><td> 0</td><td> 0</td><td>  8</td></tr>\n",
       "\t<tr><td>nal_F2s2</td><td>nal</td><td>A8</td><td>S4</td><td>female</td><td>32</td><td>61</td><td> 22</td></tr>\n",
       "\t<tr><td>nal_F2s2</td><td>nal</td><td>A8</td><td>S4</td><td>female</td><td> 1</td><td> 0</td><td> 29</td></tr>\n",
       "\t<tr><td>nal_F2s2</td><td>nal</td><td>A8</td><td>S4</td><td>female</td><td> 0</td><td> 0</td><td> 11</td></tr>\n",
       "\t<tr><td>nal_F2s2</td><td>nal</td><td>A8</td><td>S4</td><td>female</td><td>75</td><td> 3</td><td>111</td></tr>\n",
       "\t<tr><td>nal_F2s2</td><td>nal</td><td>A8</td><td>S4</td><td>female</td><td> 1</td><td> 0</td><td> 25</td></tr>\n",
       "\t<tr><td>nal_F2s2</td><td>nal</td><td>A8</td><td>S4</td><td>female</td><td> 0</td><td> 0</td><td>  8</td></tr>\n",
       "\t<tr><td>nal_F2s2</td><td>nal</td><td>A8</td><td>S4</td><td>female</td><td> 0</td><td> 0</td><td> 12</td></tr>\n",
       "\t<tr><td>nal_F2s2</td><td>nal</td><td>A8</td><td>S4</td><td>female</td><td> 0</td><td> 0</td><td> 32</td></tr>\n",
       "\t<tr><td>nal_F2s2</td><td>nal</td><td>A8</td><td>S4</td><td>female</td><td> 0</td><td> 0</td><td>  3</td></tr>\n",
       "\t<tr><td>nal_F2s2</td><td>nal</td><td>A8</td><td>S4</td><td>female</td><td> 0</td><td> 0</td><td>  0</td></tr>\n",
       "\t<tr><td>nal_F2s2</td><td>nal</td><td>A8</td><td>S4</td><td>female</td><td> 0</td><td> 0</td><td>  5</td></tr>\n",
       "\t<tr><td>nal_F2s2</td><td>nal</td><td>A8</td><td>S4</td><td>female</td><td> 0</td><td> 0</td><td>  2</td></tr>\n",
       "\t<tr><td>nal_F2s2</td><td>nal</td><td>A8</td><td>S4</td><td>female</td><td> 2</td><td> 0</td><td> 12</td></tr>\n",
       "\t<tr><td>nal_F2s2</td><td>nal</td><td>A8</td><td>S4</td><td>female</td><td> 3</td><td> 0</td><td> 10</td></tr>\n",
       "\t<tr><td>nal_F2s2</td><td>nal</td><td>A8</td><td>S4</td><td>female</td><td>33</td><td> 1</td><td> 17</td></tr>\n",
       "\t<tr><td>nal_F2s2</td><td>nal</td><td>A8</td><td>S4</td><td>female</td><td>13</td><td> 1</td><td> 26</td></tr>\n",
       "\t<tr><td>nal_F2s2</td><td>nal</td><td>A8</td><td>S4</td><td>female</td><td> 1</td><td> 0</td><td>  9</td></tr>\n",
       "\t<tr><td>nal_F2s2</td><td>nal</td><td>A8</td><td>S4</td><td>female</td><td> 0</td><td> 1</td><td>  8</td></tr>\n",
       "\t<tr><td>nal_F2s2</td><td>nal</td><td>A8</td><td>S4</td><td>female</td><td> 8</td><td>35</td><td>  9</td></tr>\n",
       "\t<tr><td>nal_F2s2</td><td>nal</td><td>A8</td><td>S4</td><td>female</td><td> 0</td><td> 0</td><td> 13</td></tr>\n",
       "\t<tr><td>nal_F2s2</td><td>nal</td><td>A8</td><td>S4</td><td>female</td><td> 0</td><td> 0</td><td> 11</td></tr>\n",
       "\t<tr><td>nal_F2s2</td><td>nal</td><td>A8</td><td>S4</td><td>female</td><td> 0</td><td> 7</td><td> 13</td></tr>\n",
       "\t<tr><td>nal_F2s2</td><td>nal</td><td>A8</td><td>S4</td><td>female</td><td> 1</td><td>22</td><td> 16</td></tr>\n",
       "\t<tr><td>nal_F2s2</td><td>nal</td><td>A8</td><td>S4</td><td>female</td><td> 0</td><td> 0</td><td>  0</td></tr>\n",
       "\t<tr><td>nal_F2s2</td><td>nal</td><td>A8</td><td>S4</td><td>female</td><td> 0</td><td> 8</td><td>  9</td></tr>\n",
       "</tbody>\n",
       "</table>\n"
      ],
      "text/latex": [
       "A data.frame: 203061 × 8\n",
       "\\begin{tabular}{llllllll}\n",
       " section.ident & group & animal & slide & sex & nts.Copies & met.Copies & fos.Copies\\\\\n",
       " <chr> & <chr> & <chr> & <chr> & <chr> & <int> & <int> & <int>\\\\\n",
       "\\hline\n",
       "\t sal\\_M1s1 & sal & A9 & S5 & male &  0 &  0 &  7\\\\\n",
       "\t sal\\_M1s1 & sal & A9 & S5 & male &  0 &  0 &  0\\\\\n",
       "\t sal\\_M1s1 & sal & A9 & S5 & male &  1 &  0 &  1\\\\\n",
       "\t sal\\_M1s1 & sal & A9 & S5 & male &  0 &  0 &  0\\\\\n",
       "\t sal\\_M1s1 & sal & A9 & S5 & male &  0 &  0 &  0\\\\\n",
       "\t sal\\_M1s1 & sal & A9 & S5 & male &  0 &  0 &  0\\\\\n",
       "\t sal\\_M1s1 & sal & A9 & S5 & male &  0 &  0 & 11\\\\\n",
       "\t sal\\_M1s1 & sal & A9 & S5 & male &  0 &  0 &  0\\\\\n",
       "\t sal\\_M1s1 & sal & A9 & S5 & male &  0 &  0 &  6\\\\\n",
       "\t sal\\_M1s1 & sal & A9 & S5 & male &  0 &  0 &  2\\\\\n",
       "\t sal\\_M1s1 & sal & A9 & S5 & male &  0 &  0 & 12\\\\\n",
       "\t sal\\_M1s1 & sal & A9 & S5 & male &  0 &  0 &  0\\\\\n",
       "\t sal\\_M1s1 & sal & A9 & S5 & male &  0 &  0 &  0\\\\\n",
       "\t sal\\_M1s1 & sal & A9 & S5 & male &  0 &  0 &  0\\\\\n",
       "\t sal\\_M1s1 & sal & A9 & S5 & male &  3 &  0 &  8\\\\\n",
       "\t sal\\_M1s1 & sal & A9 & S5 & male &  4 &  0 &  6\\\\\n",
       "\t sal\\_M1s1 & sal & A9 & S5 & male &  0 &  0 & 13\\\\\n",
       "\t sal\\_M1s1 & sal & A9 & S5 & male &  2 &  0 & 16\\\\\n",
       "\t sal\\_M1s1 & sal & A9 & S5 & male &  0 &  0 &  0\\\\\n",
       "\t sal\\_M1s1 & sal & A9 & S5 & male &  0 &  0 &  1\\\\\n",
       "\t sal\\_M1s1 & sal & A9 & S5 & male &  9 &  0 &  0\\\\\n",
       "\t sal\\_M1s1 & sal & A9 & S5 & male &  0 &  0 &  4\\\\\n",
       "\t sal\\_M1s1 & sal & A9 & S5 & male &  1 &  0 &  3\\\\\n",
       "\t sal\\_M1s1 & sal & A9 & S5 & male & 14 &  0 &  5\\\\\n",
       "\t sal\\_M1s1 & sal & A9 & S5 & male &  1 &  0 &  3\\\\\n",
       "\t sal\\_M1s1 & sal & A9 & S5 & male &  2 &  0 & 12\\\\\n",
       "\t sal\\_M1s1 & sal & A9 & S5 & male &  1 & 50 &  0\\\\\n",
       "\t sal\\_M1s1 & sal & A9 & S5 & male &  7 &  0 &  4\\\\\n",
       "\t sal\\_M1s1 & sal & A9 & S5 & male &  0 &  0 &  2\\\\\n",
       "\t sal\\_M1s1 & sal & A9 & S5 & male &  0 &  0 &  0\\\\\n",
       "\t ... & ... & ... & ... & ... & ... & ... & ...\\\\\n",
       "\t nal\\_F2s2 & nal & A8 & S4 & female &  3 &  0 &  25\\\\\n",
       "\t nal\\_F2s2 & nal & A8 & S4 & female &  0 &  0 &   8\\\\\n",
       "\t nal\\_F2s2 & nal & A8 & S4 & female &  1 &  2 &  11\\\\\n",
       "\t nal\\_F2s2 & nal & A8 & S4 & female &  7 &  1 &  36\\\\\n",
       "\t nal\\_F2s2 & nal & A8 & S4 & female &  0 &  0 &   8\\\\\n",
       "\t nal\\_F2s2 & nal & A8 & S4 & female & 32 & 61 &  22\\\\\n",
       "\t nal\\_F2s2 & nal & A8 & S4 & female &  1 &  0 &  29\\\\\n",
       "\t nal\\_F2s2 & nal & A8 & S4 & female &  0 &  0 &  11\\\\\n",
       "\t nal\\_F2s2 & nal & A8 & S4 & female & 75 &  3 & 111\\\\\n",
       "\t nal\\_F2s2 & nal & A8 & S4 & female &  1 &  0 &  25\\\\\n",
       "\t nal\\_F2s2 & nal & A8 & S4 & female &  0 &  0 &   8\\\\\n",
       "\t nal\\_F2s2 & nal & A8 & S4 & female &  0 &  0 &  12\\\\\n",
       "\t nal\\_F2s2 & nal & A8 & S4 & female &  0 &  0 &  32\\\\\n",
       "\t nal\\_F2s2 & nal & A8 & S4 & female &  0 &  0 &   3\\\\\n",
       "\t nal\\_F2s2 & nal & A8 & S4 & female &  0 &  0 &   0\\\\\n",
       "\t nal\\_F2s2 & nal & A8 & S4 & female &  0 &  0 &   5\\\\\n",
       "\t nal\\_F2s2 & nal & A8 & S4 & female &  0 &  0 &   2\\\\\n",
       "\t nal\\_F2s2 & nal & A8 & S4 & female &  2 &  0 &  12\\\\\n",
       "\t nal\\_F2s2 & nal & A8 & S4 & female &  3 &  0 &  10\\\\\n",
       "\t nal\\_F2s2 & nal & A8 & S4 & female & 33 &  1 &  17\\\\\n",
       "\t nal\\_F2s2 & nal & A8 & S4 & female & 13 &  1 &  26\\\\\n",
       "\t nal\\_F2s2 & nal & A8 & S4 & female &  1 &  0 &   9\\\\\n",
       "\t nal\\_F2s2 & nal & A8 & S4 & female &  0 &  1 &   8\\\\\n",
       "\t nal\\_F2s2 & nal & A8 & S4 & female &  8 & 35 &   9\\\\\n",
       "\t nal\\_F2s2 & nal & A8 & S4 & female &  0 &  0 &  13\\\\\n",
       "\t nal\\_F2s2 & nal & A8 & S4 & female &  0 &  0 &  11\\\\\n",
       "\t nal\\_F2s2 & nal & A8 & S4 & female &  0 &  7 &  13\\\\\n",
       "\t nal\\_F2s2 & nal & A8 & S4 & female &  1 & 22 &  16\\\\\n",
       "\t nal\\_F2s2 & nal & A8 & S4 & female &  0 &  0 &   0\\\\\n",
       "\t nal\\_F2s2 & nal & A8 & S4 & female &  0 &  8 &   9\\\\\n",
       "\\end{tabular}\n"
      ],
      "text/markdown": [
       "\n",
       "A data.frame: 203061 × 8\n",
       "\n",
       "| section.ident &lt;chr&gt; | group &lt;chr&gt; | animal &lt;chr&gt; | slide &lt;chr&gt; | sex &lt;chr&gt; | nts.Copies &lt;int&gt; | met.Copies &lt;int&gt; | fos.Copies &lt;int&gt; |\n",
       "|---|---|---|---|---|---|---|---|\n",
       "| sal_M1s1 | sal | A9 | S5 | male |  0 |  0 |  7 |\n",
       "| sal_M1s1 | sal | A9 | S5 | male |  0 |  0 |  0 |\n",
       "| sal_M1s1 | sal | A9 | S5 | male |  1 |  0 |  1 |\n",
       "| sal_M1s1 | sal | A9 | S5 | male |  0 |  0 |  0 |\n",
       "| sal_M1s1 | sal | A9 | S5 | male |  0 |  0 |  0 |\n",
       "| sal_M1s1 | sal | A9 | S5 | male |  0 |  0 |  0 |\n",
       "| sal_M1s1 | sal | A9 | S5 | male |  0 |  0 | 11 |\n",
       "| sal_M1s1 | sal | A9 | S5 | male |  0 |  0 |  0 |\n",
       "| sal_M1s1 | sal | A9 | S5 | male |  0 |  0 |  6 |\n",
       "| sal_M1s1 | sal | A9 | S5 | male |  0 |  0 |  2 |\n",
       "| sal_M1s1 | sal | A9 | S5 | male |  0 |  0 | 12 |\n",
       "| sal_M1s1 | sal | A9 | S5 | male |  0 |  0 |  0 |\n",
       "| sal_M1s1 | sal | A9 | S5 | male |  0 |  0 |  0 |\n",
       "| sal_M1s1 | sal | A9 | S5 | male |  0 |  0 |  0 |\n",
       "| sal_M1s1 | sal | A9 | S5 | male |  3 |  0 |  8 |\n",
       "| sal_M1s1 | sal | A9 | S5 | male |  4 |  0 |  6 |\n",
       "| sal_M1s1 | sal | A9 | S5 | male |  0 |  0 | 13 |\n",
       "| sal_M1s1 | sal | A9 | S5 | male |  2 |  0 | 16 |\n",
       "| sal_M1s1 | sal | A9 | S5 | male |  0 |  0 |  0 |\n",
       "| sal_M1s1 | sal | A9 | S5 | male |  0 |  0 |  1 |\n",
       "| sal_M1s1 | sal | A9 | S5 | male |  9 |  0 |  0 |\n",
       "| sal_M1s1 | sal | A9 | S5 | male |  0 |  0 |  4 |\n",
       "| sal_M1s1 | sal | A9 | S5 | male |  1 |  0 |  3 |\n",
       "| sal_M1s1 | sal | A9 | S5 | male | 14 |  0 |  5 |\n",
       "| sal_M1s1 | sal | A9 | S5 | male |  1 |  0 |  3 |\n",
       "| sal_M1s1 | sal | A9 | S5 | male |  2 |  0 | 12 |\n",
       "| sal_M1s1 | sal | A9 | S5 | male |  1 | 50 |  0 |\n",
       "| sal_M1s1 | sal | A9 | S5 | male |  7 |  0 |  4 |\n",
       "| sal_M1s1 | sal | A9 | S5 | male |  0 |  0 |  2 |\n",
       "| sal_M1s1 | sal | A9 | S5 | male |  0 |  0 |  0 |\n",
       "| ... | ... | ... | ... | ... | ... | ... | ... |\n",
       "| nal_F2s2 | nal | A8 | S4 | female |  3 |  0 |  25 |\n",
       "| nal_F2s2 | nal | A8 | S4 | female |  0 |  0 |   8 |\n",
       "| nal_F2s2 | nal | A8 | S4 | female |  1 |  2 |  11 |\n",
       "| nal_F2s2 | nal | A8 | S4 | female |  7 |  1 |  36 |\n",
       "| nal_F2s2 | nal | A8 | S4 | female |  0 |  0 |   8 |\n",
       "| nal_F2s2 | nal | A8 | S4 | female | 32 | 61 |  22 |\n",
       "| nal_F2s2 | nal | A8 | S4 | female |  1 |  0 |  29 |\n",
       "| nal_F2s2 | nal | A8 | S4 | female |  0 |  0 |  11 |\n",
       "| nal_F2s2 | nal | A8 | S4 | female | 75 |  3 | 111 |\n",
       "| nal_F2s2 | nal | A8 | S4 | female |  1 |  0 |  25 |\n",
       "| nal_F2s2 | nal | A8 | S4 | female |  0 |  0 |   8 |\n",
       "| nal_F2s2 | nal | A8 | S4 | female |  0 |  0 |  12 |\n",
       "| nal_F2s2 | nal | A8 | S4 | female |  0 |  0 |  32 |\n",
       "| nal_F2s2 | nal | A8 | S4 | female |  0 |  0 |   3 |\n",
       "| nal_F2s2 | nal | A8 | S4 | female |  0 |  0 |   0 |\n",
       "| nal_F2s2 | nal | A8 | S4 | female |  0 |  0 |   5 |\n",
       "| nal_F2s2 | nal | A8 | S4 | female |  0 |  0 |   2 |\n",
       "| nal_F2s2 | nal | A8 | S4 | female |  2 |  0 |  12 |\n",
       "| nal_F2s2 | nal | A8 | S4 | female |  3 |  0 |  10 |\n",
       "| nal_F2s2 | nal | A8 | S4 | female | 33 |  1 |  17 |\n",
       "| nal_F2s2 | nal | A8 | S4 | female | 13 |  1 |  26 |\n",
       "| nal_F2s2 | nal | A8 | S4 | female |  1 |  0 |   9 |\n",
       "| nal_F2s2 | nal | A8 | S4 | female |  0 |  1 |   8 |\n",
       "| nal_F2s2 | nal | A8 | S4 | female |  8 | 35 |   9 |\n",
       "| nal_F2s2 | nal | A8 | S4 | female |  0 |  0 |  13 |\n",
       "| nal_F2s2 | nal | A8 | S4 | female |  0 |  0 |  11 |\n",
       "| nal_F2s2 | nal | A8 | S4 | female |  0 |  7 |  13 |\n",
       "| nal_F2s2 | nal | A8 | S4 | female |  1 | 22 |  16 |\n",
       "| nal_F2s2 | nal | A8 | S4 | female |  0 |  0 |   0 |\n",
       "| nal_F2s2 | nal | A8 | S4 | female |  0 |  8 |   9 |\n",
       "\n"
      ],
      "text/plain": [
       "       section.ident group animal slide sex    nts.Copies met.Copies fos.Copies\n",
       "1      sal_M1s1      sal   A9     S5    male    0          0          7        \n",
       "2      sal_M1s1      sal   A9     S5    male    0          0          0        \n",
       "3      sal_M1s1      sal   A9     S5    male    1          0          1        \n",
       "4      sal_M1s1      sal   A9     S5    male    0          0          0        \n",
       "5      sal_M1s1      sal   A9     S5    male    0          0          0        \n",
       "6      sal_M1s1      sal   A9     S5    male    0          0          0        \n",
       "7      sal_M1s1      sal   A9     S5    male    0          0         11        \n",
       "8      sal_M1s1      sal   A9     S5    male    0          0          0        \n",
       "9      sal_M1s1      sal   A9     S5    male    0          0          6        \n",
       "10     sal_M1s1      sal   A9     S5    male    0          0          2        \n",
       "11     sal_M1s1      sal   A9     S5    male    0          0         12        \n",
       "12     sal_M1s1      sal   A9     S5    male    0          0          0        \n",
       "13     sal_M1s1      sal   A9     S5    male    0          0          0        \n",
       "14     sal_M1s1      sal   A9     S5    male    0          0          0        \n",
       "15     sal_M1s1      sal   A9     S5    male    3          0          8        \n",
       "16     sal_M1s1      sal   A9     S5    male    4          0          6        \n",
       "17     sal_M1s1      sal   A9     S5    male    0          0         13        \n",
       "18     sal_M1s1      sal   A9     S5    male    2          0         16        \n",
       "19     sal_M1s1      sal   A9     S5    male    0          0          0        \n",
       "20     sal_M1s1      sal   A9     S5    male    0          0          1        \n",
       "21     sal_M1s1      sal   A9     S5    male    9          0          0        \n",
       "22     sal_M1s1      sal   A9     S5    male    0          0          4        \n",
       "23     sal_M1s1      sal   A9     S5    male    1          0          3        \n",
       "24     sal_M1s1      sal   A9     S5    male   14          0          5        \n",
       "25     sal_M1s1      sal   A9     S5    male    1          0          3        \n",
       "26     sal_M1s1      sal   A9     S5    male    2          0         12        \n",
       "27     sal_M1s1      sal   A9     S5    male    1         50          0        \n",
       "28     sal_M1s1      sal   A9     S5    male    7          0          4        \n",
       "29     sal_M1s1      sal   A9     S5    male    0          0          2        \n",
       "30     sal_M1s1      sal   A9     S5    male    0          0          0        \n",
       "...    ...           ...   ...    ...   ...    ...        ...        ...       \n",
       "203032 nal_F2s2      nal   A8     S4    female  3          0          25       \n",
       "203033 nal_F2s2      nal   A8     S4    female  0          0           8       \n",
       "203034 nal_F2s2      nal   A8     S4    female  1          2          11       \n",
       "203035 nal_F2s2      nal   A8     S4    female  7          1          36       \n",
       "203036 nal_F2s2      nal   A8     S4    female  0          0           8       \n",
       "203037 nal_F2s2      nal   A8     S4    female 32         61          22       \n",
       "203038 nal_F2s2      nal   A8     S4    female  1          0          29       \n",
       "203039 nal_F2s2      nal   A8     S4    female  0          0          11       \n",
       "203040 nal_F2s2      nal   A8     S4    female 75          3         111       \n",
       "203041 nal_F2s2      nal   A8     S4    female  1          0          25       \n",
       "203042 nal_F2s2      nal   A8     S4    female  0          0           8       \n",
       "203043 nal_F2s2      nal   A8     S4    female  0          0          12       \n",
       "203044 nal_F2s2      nal   A8     S4    female  0          0          32       \n",
       "203045 nal_F2s2      nal   A8     S4    female  0          0           3       \n",
       "203046 nal_F2s2      nal   A8     S4    female  0          0           0       \n",
       "203047 nal_F2s2      nal   A8     S4    female  0          0           5       \n",
       "203048 nal_F2s2      nal   A8     S4    female  0          0           2       \n",
       "203049 nal_F2s2      nal   A8     S4    female  2          0          12       \n",
       "203050 nal_F2s2      nal   A8     S4    female  3          0          10       \n",
       "203051 nal_F2s2      nal   A8     S4    female 33          1          17       \n",
       "203052 nal_F2s2      nal   A8     S4    female 13          1          26       \n",
       "203053 nal_F2s2      nal   A8     S4    female  1          0           9       \n",
       "203054 nal_F2s2      nal   A8     S4    female  0          1           8       \n",
       "203055 nal_F2s2      nal   A8     S4    female  8         35           9       \n",
       "203056 nal_F2s2      nal   A8     S4    female  0          0          13       \n",
       "203057 nal_F2s2      nal   A8     S4    female  0          0          11       \n",
       "203058 nal_F2s2      nal   A8     S4    female  0          7          13       \n",
       "203059 nal_F2s2      nal   A8     S4    female  1         22          16       \n",
       "203060 nal_F2s2      nal   A8     S4    female  0          0           0       \n",
       "203061 nal_F2s2      nal   A8     S4    female  0          8           9       "
      ]
     },
     "metadata": {},
     "output_type": "display_data"
    }
   ],
   "source": [
    "spots <- readRDS(file='HCR_IEG_files/spots.rds')\n",
    "spots"
   ]
  },
  {
   "cell_type": "markdown",
   "metadata": {},
   "source": [
    "#### Measuring expression differencs and statistics"
   ]
  },
  {
   "cell_type": "markdown",
   "metadata": {},
   "source": [
    "I chose to keep only the top 15th percentile of NTS spot counts as a threshold for NTS+ cells. This was determined using spatial plots from HALO. Met was determined in a similar fashion. IEGs (readout of MOR and NAL treatment) were treated as total distributions instead (not thresholded)"
   ]
  },
  {
   "cell_type": "code",
   "execution_count": 3,
   "metadata": {},
   "outputs": [
    {
     "name": "stderr",
     "output_type": "stream",
     "text": [
      "Using section.ident, group, animal, slide, sex as id variables\n",
      "\n"
     ]
    }
   ],
   "source": [
    "spots.df <- melt(spots)"
   ]
  },
  {
   "cell_type": "markdown",
   "metadata": {},
   "source": [
    "Plotting cumulative relative frequency plots of groups compared against one another. Code isn't fancy. As is, you will have to manually rename variables to plot the genes you want"
   ]
  },
  {
   "cell_type": "code",
   "execution_count": 4,
   "metadata": {},
   "outputs": [],
   "source": [
    "#for nts+\n",
    "nts.df <- spots[spots$nts.Copies >= 24 & !spots$met.Copies >= 28,]"
   ]
  },
  {
   "cell_type": "code",
   "execution_count": 5,
   "metadata": {},
   "outputs": [],
   "source": [
    "#for met+\n",
    "met.df <- spots[spots$met.Copies >= 24 & !spots$nts.Copies >= 28,]"
   ]
  },
  {
   "cell_type": "code",
   "execution_count": 6,
   "metadata": {},
   "outputs": [],
   "source": [
    "#also interested in cells negative for both\n",
    "neg.df <- spots[!spots$nts.Copies >= 24 & !spots$met.Copies >= 28,]"
   ]
  },
  {
   "cell_type": "code",
   "execution_count": 7,
   "metadata": {},
   "outputs": [],
   "source": [
    "#also interested in cells negative for both\n",
    "both.df <- spots[spots$nts.Copies >= 24 & spots$met.Copies >= 28,]"
   ]
  },
  {
   "cell_type": "markdown",
   "metadata": {},
   "source": [
    "#### Violin plots"
   ]
  },
  {
   "cell_type": "code",
   "execution_count": 8,
   "metadata": {
    "scrolled": true
   },
   "outputs": [],
   "source": [
    "#both+ cells expressing this gene, grab useful columns\n",
    "both.fos <- both.df[c(\"group\", \"fos.Copies\")]"
   ]
  },
  {
   "cell_type": "code",
   "execution_count": 9,
   "metadata": {},
   "outputs": [],
   "source": [
    "both.fos.sal <- both.fos[both.fos$group == 'sal',]\n",
    "both.fos.mor <- both.fos[both.fos$group == 'mor',]\n",
    "both.fos.nal <- both.fos[both.fos$group == 'nal',]"
   ]
  },
  {
   "cell_type": "code",
   "execution_count": 10,
   "metadata": {
    "scrolled": true
   },
   "outputs": [],
   "source": [
    "#Factor the column names to control which is plotted first\n",
    "both.fos$group <- factor(both.fos$group, levels=c('sal','mor','nal'))"
   ]
  },
  {
   "cell_type": "code",
   "execution_count": 11,
   "metadata": {},
   "outputs": [],
   "source": [
    "#set color scale for groups\n",
    "color_scale <- c('black','#4392FE','darkorange')"
   ]
  },
  {
   "cell_type": "code",
   "execution_count": 12,
   "metadata": {
    "scrolled": false
   },
   "outputs": [
    {
     "name": "stderr",
     "output_type": "stream",
     "text": [
      "Warning message:\n",
      "\"Removed 466 rows containing non-finite values (stat_ydensity).\"\n",
      "Warning message:\n",
      "\"Removed 466 rows containing non-finite values (stat_boxplot).\"\n",
      "Warning message:\n",
      "\"position_dodge requires non-overlapping x intervals\"\n",
      "Warning message:\n",
      "\"Removed 466 rows containing non-finite values (stat_ydensity).\"\n",
      "Warning message:\n",
      "\"Removed 466 rows containing non-finite values (stat_boxplot).\"\n",
      "Warning message:\n",
      "\"position_dodge requires non-overlapping x intervals\"\n"
     ]
    },
    {
     "data": {
      "image/png": "[encoded data removed]",
      "text/plain": [
       "plot without title"
      ]
     },
     "metadata": {
      "image/png": {
       "height": 420,
       "width": 420
      }
     },
     "output_type": "display_data"
    }
   ],
   "source": [
    "#First, violin + box plots to compare median gene expression\n",
    "ggplot(both.fos, aes(x=group, y=fos.Copies)) +\n",
    "    geom_violin(aes(x=group, y=fos.Copies, color=group), size=0.25, width=1.25, ) +\n",
    "    geom_boxplot(size=0.1,width=0.1, outlier.shape = NA, fill='white')+\n",
    "    theme_classic() +\n",
    "    theme(axis.title.y=element_text(size=6,colour = \"black\"),\n",
    "          axis.title.x=element_blank(),\n",
    "          axis.text.y=element_text(size=6,colour = \"black\"),\n",
    "          axis.text.x=element_text(size=6, colour = \"black\", angle=45, hjust=1),\n",
    "          axis.line = element_line(size=0.25),\n",
    "          axis.ticks = element_line(size=0.25),\n",
    "          legend.position=\"none\") +\n",
    "    ylab('#fos copies') +\n",
    "    scale_color_manual(values=color_scale) +\n",
    "    scale_x_discrete(labels=c(\"Sal\",\"Mor\",\"Nal\")) +\n",
    "    ylim(c(0,100))\n",
    "ggsave('C:/Users/stuberadmin/Documents/HCR_analysis/IEG_HCR_results/IEG_HCR_results_final/both_fos_vln.pdf', width=1, height=1)"
   ]
  },
  {
   "cell_type": "markdown",
   "metadata": {},
   "source": [
    "#### CDFs"
   ]
  },
  {
   "cell_type": "markdown",
   "metadata": {},
   "source": [
    "First, use ggplot and geom_histogram to generate binned data. The SAL, MOR and NAL groups are added to the plot one by one. \"y=cumsum(..count..)\" is what produces the cumulative couinhba across each group, and this value is divided by the total number of cells in each group (\"dim(gene)[1]\"). Histograms are forced to be white because they will technically be part of the final graph...but invisible"
   ]
  },
  {
   "cell_type": "code",
   "execution_count": 13,
   "metadata": {},
   "outputs": [],
   "source": [
    "p <- ggplot(both.fos.sal, aes(x=fos.Copies)) + geom_histogram(aes(y=cumsum(..count..)/dim(both.fos.sal)[1]),fill='white', binwidth=1) +\n",
    "    geom_histogram(data=both.fos.mor, aes(x=fos.Copies, y=cumsum(..count..)/dim(both.fos.mor)[1]), fill=\"white\", binwidth=1) +\n",
    "    geom_histogram(data=both.fos.nal, aes(x=fos.Copies, y=cumsum(..count..)/dim(both.fos.nal)[1]), fill=\"white\", binwidth=1) +\n",
    "    xlim(c(0,300))"
   ]
  },
  {
   "cell_type": "code",
   "execution_count": 14,
   "metadata": {},
   "outputs": [
    {
     "name": "stderr",
     "output_type": "stream",
     "text": [
      "Warning message:\n",
      "\"Removed 19 rows containing non-finite values (stat_bin).\"\n",
      "Warning message:\n",
      "\"Removed 42 rows containing non-finite values (stat_bin).\"\n",
      "Warning message:\n",
      "\"Removed 19 rows containing non-finite values (stat_bin).\"\n",
      "Warning message:\n",
      "\"Removed 42 rows containing non-finite values (stat_bin).\"\n",
      "Warning message:\n",
      "\"Removed 19 rows containing non-finite values (stat_bin).\"\n",
      "Warning message:\n",
      "\"Removed 42 rows containing non-finite values (stat_bin).\"\n"
     ]
    }
   ],
   "source": [
    "#Extracting data from the plotted object. We're going to use this to plot the pretty line for each group\n",
    "#sal\n",
    "d <- ggplot_build(p)$data[[1]]\n",
    "df1 <- data.frame(x = c(0, d$xmax), y = c(0, d$y))\n",
    "\n",
    "#mor\n",
    "d <- ggplot_build(p)$data[[2]]\n",
    "df2 <- data.frame(x = c(0, d$xmax), y = c(0, d$y))\n",
    "\n",
    "#nal\n",
    "d <- ggplot_build(p)$data[[3]]\n",
    "df3 <- data.frame(x = c(0, d$xmax), y = c(0, d$y))"
   ]
  },
  {
   "cell_type": "code",
   "execution_count": 15,
   "metadata": {
    "scrolled": true
   },
   "outputs": [
    {
     "name": "stderr",
     "output_type": "stream",
     "text": [
      "Scale for 'x' is already present. Adding another scale for 'x', which will\n",
      "replace the existing scale.\n",
      "\n",
      "Warning message:\n",
      "\"Removed 47 rows containing non-finite values (stat_bin).\"\n",
      "Warning message:\n",
      "\"Removed 75 rows containing non-finite values (stat_bin).\"\n",
      "Warning message:\n",
      "\"Removed 2 rows containing missing values (geom_bar).\"\n",
      "Warning message:\n",
      "\"Removed 2 rows containing missing values (geom_bar).\"\n",
      "Warning message:\n",
      "\"Removed 2 rows containing missing values (geom_bar).\"\n",
      "Warning message:\n",
      "\"Removed 101 row(s) containing missing values (geom_path).\"\n",
      "Warning message:\n",
      "\"Removed 101 row(s) containing missing values (geom_path).\"\n",
      "Warning message:\n",
      "\"Removed 101 row(s) containing missing values (geom_path).\"\n",
      "Warning message:\n",
      "\"Removed 47 rows containing non-finite values (stat_bin).\"\n",
      "Warning message:\n",
      "\"Removed 75 rows containing non-finite values (stat_bin).\"\n",
      "Warning message:\n",
      "\"Removed 2 rows containing missing values (geom_bar).\"\n",
      "Warning message:\n",
      "\"Removed 2 rows containing missing values (geom_bar).\"\n",
      "Warning message:\n",
      "\"Removed 2 rows containing missing values (geom_bar).\"\n",
      "Warning message:\n",
      "\"Removed 101 row(s) containing missing values (geom_path).\"\n",
      "Warning message:\n",
      "\"Removed 101 row(s) containing missing values (geom_path).\"\n",
      "Warning message:\n",
      "\"Removed 101 row(s) containing missing values (geom_path).\"\n"
     ]
    },
    {
     "data": {
      "image/png": "[encoded data removed]",
      "text/plain": [
       "plot without title"
      ]
     },
     "metadata": {
      "image/png": {
       "height": 420,
       "width": 420
      }
     },
     "output_type": "display_data"
    }
   ],
   "source": [
    "#Second plot that is stacked on the first. This time, geom_line is used for each group\n",
    "p2<- p + geom_line(data = df1, aes(x = x, y = y), color = \"black\", size = 0.25) +\n",
    "    geom_line(data = df2, aes(x = x, y = y), color = \"#4392FE\", size = 0.25) +\n",
    "    geom_line(data = df3, aes(x = x, y = y), color = \"darkorange\", size = 0.25) +\n",
    "        theme_classic() +\n",
    "        theme(axis.title.y=element_text(size=6,colour = \"black\"),\n",
    "          axis.title.x=element_text(size=6,colour = \"black\"),\n",
    "          axis.text.y=element_text(size=6,colour = \"black\"),\n",
    "          axis.text.x=element_text(size=6, colour = \"black\"),\n",
    "          axis.line = element_line(size=0.25),\n",
    "          axis.ticks = element_line(size=0.25)) +\n",
    "        ylab('cum relative freq of both+ cells') +\n",
    "        xlab('fos spot count')  + xlim(c(0,200))\n",
    "p2\n",
    "ggsave('C:/Users/stuberadmin/Documents/HCR_analysis/IEG_HCR_results/IEG_HCR_results_final/both_fos_dist.pdf', width=1.5, height=1.5)"
   ]
  },
  {
   "cell_type": "code",
   "execution_count": 16,
   "metadata": {},
   "outputs": [
    {
     "name": "stderr",
     "output_type": "stream",
     "text": [
      "Warning message:\n",
      "\"Removed 47 rows containing non-finite values (stat_bin).\"\n",
      "Warning message:\n",
      "\"Removed 75 rows containing non-finite values (stat_bin).\"\n",
      "Warning message:\n",
      "\"Removed 47 rows containing non-finite values (stat_bin).\"\n",
      "Warning message:\n",
      "\"Removed 75 rows containing non-finite values (stat_bin).\"\n",
      "Warning message:\n",
      "\"Removed 47 rows containing non-finite values (stat_bin).\"\n",
      "Warning message:\n",
      "\"Removed 75 rows containing non-finite values (stat_bin).\"\n"
     ]
    }
   ],
   "source": [
    "#Now extracting CDF line data to perform two-sample K-S test for each group comparison\n",
    "#sal\n",
    "sal.fd <- ggplot_build(p2)$data[[4]][1:101,]$y\n",
    "#mor\n",
    "mor.fd <- ggplot_build(p2)$data[[5]][1:101,]$y\n",
    "#nal\n",
    "nal.fd <- ggplot_build(p2)$data[[6]][1:101,]$y"
   ]
  },
  {
   "cell_type": "code",
   "execution_count": 17,
   "metadata": {
    "scrolled": true
   },
   "outputs": [
    {
     "name": "stderr",
     "output_type": "stream",
     "text": [
      "Warning message in ks.test(sal.fd, mor.fd):\n",
      "\"p-value will be approximate in the presence of ties\"\n"
     ]
    },
    {
     "data": {
      "text/html": [
       "9.48114919907539e-11"
      ],
      "text/latex": [
       "9.48114919907539e-11"
      ],
      "text/markdown": [
       "9.48114919907539e-11"
      ],
      "text/plain": [
       "[1] 9.481149e-11"
      ]
     },
     "metadata": {},
     "output_type": "display_data"
    },
    {
     "data": {
      "text/html": [
       "<strong>D:</strong> 0.485148514851485"
      ],
      "text/latex": [
       "\\textbf{D:} 0.485148514851485"
      ],
      "text/markdown": [
       "**D:** 0.485148514851485"
      ],
      "text/plain": [
       "        D \n",
       "0.4851485 "
      ]
     },
     "metadata": {},
     "output_type": "display_data"
    }
   ],
   "source": [
    "test <- ks.test(sal.fd, mor.fd)\n",
    "test$p.value\n",
    "test$statistic\n",
    "#number of comparisons are predetermined\n",
    "#extracting p-values for each comparison"
   ]
  },
  {
   "cell_type": "code",
   "execution_count": 18,
   "metadata": {
    "scrolled": true
   },
   "outputs": [
    {
     "name": "stderr",
     "output_type": "stream",
     "text": [
      "Warning message in ks.test(mor.fd, nal.fd):\n",
      "\"p-value will be approximate in the presence of ties\"\n"
     ]
    },
    {
     "data": {
      "text/html": [
       "2.14273043752655e-14"
      ],
      "text/latex": [
       "2.14273043752655e-14"
      ],
      "text/markdown": [
       "2.14273043752655e-14"
      ],
      "text/plain": [
       "[1] 2.14273e-14"
      ]
     },
     "metadata": {},
     "output_type": "display_data"
    },
    {
     "data": {
      "text/html": [
       "<strong>D:</strong> 0.564356435643564"
      ],
      "text/latex": [
       "\\textbf{D:} 0.564356435643564"
      ],
      "text/markdown": [
       "**D:** 0.564356435643564"
      ],
      "text/plain": [
       "        D \n",
       "0.5643564 "
      ]
     },
     "metadata": {},
     "output_type": "display_data"
    }
   ],
   "source": [
    "test <- ks.test(mor.fd, nal.fd)\n",
    "test$p.value\n",
    "test$statistic\n",
    "#number of comparisons are predetermined\n",
    "#extracting p-values for each comparison"
   ]
  },
  {
   "cell_type": "markdown",
   "metadata": {},
   "source": [
    "#### Linear mixed effects modeling"
   ]
  },
  {
   "cell_type": "markdown",
   "metadata": {},
   "source": [
    "Reload the data"
   ]
  },
  {
   "cell_type": "code",
   "execution_count": 19,
   "metadata": {
    "scrolled": true
   },
   "outputs": [],
   "source": [
    "spots <- readRDS('HCR_IEG_files/spots.rds')"
   ]
  },
  {
   "cell_type": "code",
   "execution_count": 25,
   "metadata": {},
   "outputs": [],
   "source": [
    "#for nts+\n",
    "nts.df <- spots[spots$nts.Copies >= 24 & !spots$met.Copies >= 28,]"
   ]
  },
  {
   "cell_type": "code",
   "execution_count": 26,
   "metadata": {},
   "outputs": [],
   "source": [
    "#for met+\n",
    "met.df <- spots[spots$met.Copies >= 24 & !spots$nts.Copies >= 28,]"
   ]
  },
  {
   "cell_type": "code",
   "execution_count": 27,
   "metadata": {},
   "outputs": [],
   "source": [
    "#also interested in cells negative for both\n",
    "neg.df <- spots[!spots$nts.Copies >= 24 & !spots$met.Copies >= 28,]"
   ]
  },
  {
   "cell_type": "code",
   "execution_count": 28,
   "metadata": {},
   "outputs": [],
   "source": [
    "#also interested in cells negative for both\n",
    "both.df <- spots[spots$nts.Copies >= 24 & spots$met.Copies >= 28,]"
   ]
  },
  {
   "cell_type": "markdown",
   "metadata": {},
   "source": [
    "Linear mixed effects modeling for statistical analysis"
   ]
  },
  {
   "cell_type": "code",
   "execution_count": 29,
   "metadata": {},
   "outputs": [
    {
     "name": "stderr",
     "output_type": "stream",
     "text": [
      "Loading required package: Matrix\n",
      "\n",
      "\n",
      "Attaching package: 'Matrix'\n",
      "\n",
      "\n",
      "The following objects are masked from 'package:tidyr':\n",
      "\n",
      "    expand, pack, unpack\n",
      "\n",
      "\n",
      "Warning message:\n",
      "\"package 'lmerTest' was built under R version 4.1.3\"\n",
      "\n",
      "Attaching package: 'lmerTest'\n",
      "\n",
      "\n",
      "The following object is masked from 'package:lme4':\n",
      "\n",
      "    lmer\n",
      "\n",
      "\n",
      "The following object is masked from 'package:stats':\n",
      "\n",
      "    step\n",
      "\n",
      "\n"
     ]
    }
   ],
   "source": [
    "library(lme4)\n",
    "library(lmerTest)"
   ]
  },
  {
   "cell_type": "code",
   "execution_count": 30,
   "metadata": {},
   "outputs": [],
   "source": [
    "#set seed for reproducibility\n",
    "set.seed(1546)"
   ]
  },
  {
   "cell_type": "code",
   "execution_count": 31,
   "metadata": {},
   "outputs": [],
   "source": [
    "both.spots.all$group <- factor(both.spots.all$group, levels=c('sal','mor','nal'))\n",
    "\n",
    "both.spots.all$group <- relevel(both.spots.all$group, ref = 2)\n",
    "\n",
    "both.spots.all$fos.Copies <- log(both.spots.all$fos.Copies)\n",
    "\n",
    "both.spots.all$fos.Copies[is.infinite(both.spots.all$fos.Copies)] <- NA"
   ]
  },
  {
   "cell_type": "code",
   "execution_count": 32,
   "metadata": {
    "scrolled": false
   },
   "outputs": [
    {
     "name": "stderr",
     "output_type": "stream",
     "text": [
      "boundary (singular) fit: see ?isSingular\n",
      "\n"
     ]
    },
    {
     "data": {
      "text/plain": [
       "Linear mixed model fit by REML. t-tests use Satterthwaite's method [\n",
       "lmerModLmerTest]\n",
       "Formula: fos.Copies ~ group + (1 | sex) + (1 | slide) + (1 | animal)\n",
       "   Data: both.spots.all\n",
       "\n",
       "REML criterion at convergence: 111975.6\n",
       "\n",
       "Scaled residuals: \n",
       "    Min      1Q  Median      3Q     Max \n",
       "-2.5774 -0.6806  0.0389  0.7105  3.5535 \n",
       "\n",
       "Random effects:\n",
       " Groups   Name        Variance Std.Dev.\n",
       " animal   (Intercept) 0.1645   0.4056  \n",
       " slide    (Intercept) 0.0000   0.0000  \n",
       " sex      (Intercept) 0.1255   0.3543  \n",
       " Residual             1.5981   1.2642  \n",
       "Number of obs: 33842, groups:  animal, 12; slide, 6; sex, 2\n",
       "\n",
       "Fixed effects:\n",
       "            Estimate Std. Error     df t value Pr(>|t|)  \n",
       "(Intercept)   1.8915     0.3226 1.8191   5.864   0.0346 *\n",
       "groupsal      0.7804     0.2874 8.0176   2.715   0.0264 *\n",
       "groupnal      0.8598     0.2873 8.0087   2.992   0.0173 *\n",
       "---\n",
       "Signif. codes:  0 '***' 0.001 '**' 0.01 '*' 0.05 '.' 0.1 ' ' 1\n",
       "\n",
       "Correlation of Fixed Effects:\n",
       "         (Intr) gropsl\n",
       "groupsal -0.445       \n",
       "groupnal -0.446  0.500\n",
       "optimizer (nloptwrap) convergence code: 0 (OK)\n",
       "boundary (singular) fit: see ?isSingular\n"
      ]
     },
     "metadata": {},
     "output_type": "display_data"
    }
   ],
   "source": [
    "Dat1 <- lmer(fos.Copies ~ group + (1 | sex) + (1 | slide) + (1 | animal), both.spots.all)\n",
    "summary(Dat1)"
   ]
  },
  {
   "cell_type": "code",
   "execution_count": 34,
   "metadata": {},
   "outputs": [],
   "source": [
    "saveRDS(Dat1, file='C:/Users/stuberadmin/Documents/HCR_analysis/IEG_HCR_results/IEG_HCR_results_final/both_fos_lme_stats.rds')"
   ]
  },
  {
   "cell_type": "code",
   "execution_count": 35,
   "metadata": {},
   "outputs": [
    {
     "data": {
      "image/png": "[encoded data removed]",
      "text/plain": [
       "Plot with title \"Histogram of res.m1\""
      ]
     },
     "metadata": {
      "image/png": {
       "height": 420,
       "width": 420
      }
     },
     "output_type": "display_data"
    },
    {
     "data": {
      "image/png": "[encoded data removed]",
      "text/plain": [
       "Plot with title \"Normal Q-Q Plot\""
      ]
     },
     "metadata": {
      "image/png": {
       "height": 420,
       "width": 420
      }
     },
     "output_type": "display_data"
    }
   ],
   "source": [
    "# Check residuals\n",
    "res.m1 <- residuals(Dat1)\n",
    "hist(res.m1)\n",
    "\n",
    "qqnorm(res.m1)\n",
    "qqline(res.m1, col=\"red\")"
   ]
  },
  {
   "cell_type": "markdown",
   "metadata": {},
   "source": [
    "#### Plotting the average expression across sections"
   ]
  },
  {
   "cell_type": "code",
   "execution_count": 49,
   "metadata": {},
   "outputs": [],
   "source": [
    "#also interested in cells negative for both\n",
    "both.spots.all <- spots[spots$nts.Copies >= 24 & spots$met.Copies >= 28,]"
   ]
  },
  {
   "cell_type": "code",
   "execution_count": 50,
   "metadata": {},
   "outputs": [],
   "source": [
    "sections <- unique(both.spots.all$section.ident)"
   ]
  },
  {
   "cell_type": "code",
   "execution_count": 51,
   "metadata": {},
   "outputs": [],
   "source": [
    "saline.sections <- sections[grep(\"sal\", sections)]\n",
    "morphine.sections <- sections[grep(\"mor\", sections)]\n",
    "naloxone.sections<- sections[grep(\"nal\", sections)]"
   ]
  },
  {
   "cell_type": "code",
   "execution_count": 52,
   "metadata": {
    "scrolled": true
   },
   "outputs": [],
   "source": [
    "sal.med <- data.frame(Date=as.Date(character()),File=character(),User=character(),stringsAsFactors=FALSE)\n",
    "for (i in 1:length(saline.sections)) {\n",
    "    sal.med.gene <- apply(both.spots.all[both.spots.all$section.ident==saline.sections[i],][,6:8], 2, median, na.rm=T)\n",
    "    sal.med<- rbind(sal.med, sal.med.gene)\n",
    "}\n",
    "\n",
    "mor.med <- data.frame(Date=as.Date(character()),File=character(),User=character(),stringsAsFactors=FALSE)\n",
    "for (i in 1:length(saline.sections)) {\n",
    "    mor.med.gene <- apply(both.spots.all[both.spots.all$section.ident==morphine.sections[i],][,6:8], 2, median, na.rm=T)\n",
    "    mor.med<- rbind(mor.med, mor.med.gene)\n",
    "}\n",
    "\n",
    "nal.med <- data.frame(Date=as.Date(character()),File=character(),User=character(),stringsAsFactors=FALSE)\n",
    "for (i in 1:length(saline.sections)) {\n",
    "    nal.med.gene <- apply(both.spots.all[both.spots.all$section.ident==naloxone.sections[i],][,6:8], 2, median, na.rm=T)\n",
    "    nal.med<- rbind(nal.med, nal.med.gene)\n",
    "}"
   ]
  },
  {
   "cell_type": "code",
   "execution_count": 53,
   "metadata": {
    "scrolled": true
   },
   "outputs": [],
   "source": [
    "colnames(sal.med) <- colnames(both.spots.all[,6:8])\n",
    "colnames(mor.med) <- colnames(both.spots.all[,6:8])\n",
    "colnames(nal.med) <- colnames(both.spots.all[,6:8])"
   ]
  },
  {
   "cell_type": "code",
   "execution_count": 54,
   "metadata": {},
   "outputs": [],
   "source": [
    "fos.sal.med <- as.data.frame(sal.med$fos.Copies)\n",
    "fos.sal.med$group <- 'sal'\n",
    "colnames(fos.sal.med) <- c('fos','group')\n",
    "#removing outliers\n",
    "#fos.sal.med <- ifelse(length(fos.sal.outlier)==0, fos.sal.med, fos.sal.med[fos.sal.med < fos.sal.outlier,])\n",
    "fos.sal.med <- data.frame('fos'=fos.sal.med, 'group'='sal')\n",
    "colnames(fos.sal.med) <- c('fos','group')\n",
    "\n",
    "fos.mor.med <- as.data.frame(mor.med$fos.Copies)\n",
    "fos.mor.med$group <- 'mor'\n",
    "colnames(fos.mor.med) <- c('fos','group')\n",
    "#fos.mor.med <- ifelse(length(fos.mor.outlier)==0, fos.mor.med, fos.mor.med[fos.mor.med < fos.mor.outlier,])\n",
    "fos.mor.med <- data.frame('fos'=fos.mor.med, 'group'='mor')\n",
    "colnames(fos.mor.med) <- c('fos','group')\n",
    "\n",
    "fos.nal.med <- as.data.frame(nal.med$fos.Copies)\n",
    "fos.nal.med$group <- 'nal'\n",
    "colnames(fos.nal.med) <- c('fos','group')\n",
    "#fos.nal.outlier <- boxplot.stats(fos.nal.med$fos)$out\n",
    "#fos.nal.med <- ifelse(length(fos.nal.outlier)==0, fos.nal.med, fos.nal.med[fos.nal.med < fos.nal.outlier,])\n",
    "fos.nal.med <- data.frame('fos'=fos.nal.med, 'group'='nal')\n",
    "colnames(fos.nal.med) <- c('fos','group')"
   ]
  },
  {
   "cell_type": "code",
   "execution_count": 55,
   "metadata": {},
   "outputs": [],
   "source": [
    "test.df<-rbind(fos.sal.med, fos.mor.med, fos.nal.med)"
   ]
  },
  {
   "cell_type": "code",
   "execution_count": 58,
   "metadata": {
    "scrolled": false
   },
   "outputs": [
    {
     "data": {
      "image/png": "[encoded data removed]",
      "text/plain": [
       "plot without title"
      ]
     },
     "metadata": {
      "image/png": {
       "height": 420,
       "width": 420
      }
     },
     "output_type": "display_data"
    }
   ],
   "source": [
    "#First, violin + box plots to compare median gene expression\n",
    "color_scale <- c('black','#4392FE','darkorange')\n",
    "test.df$group <- factor(test.df$group, levels=c('sal','mor','nal'))\n",
    "\n",
    "ggplot(test.df, aes(x=group, y=fos)) +\n",
    "    geom_bar(aes(x=group, y=fos, color=group),stat='summary', fun=mean, size=0.25, fill='white') +\n",
    "    geom_point(aes(x=group, y=fos, color=group), size=0.5)+\n",
    "    stat_summary(aes(x=group, y=fos, color=group),fun.data = mean_se, geom = \"errorbar\", width=0.25, size=0.25)+\n",
    "    theme_classic() +\n",
    "    theme(axis.title.y=element_text(size=6,colour = \"black\"),\n",
    "          axis.title.x=element_text(size=6, color='black'),\n",
    "          axis.text.y=element_text(size=6,colour = \"black\"),\n",
    "          axis.text.x=element_text(size=6, colour = \"black\", angle=45, hjust=1),\n",
    "          axis.line = element_line(size=0.25),\n",
    "          axis.ticks = element_line(size=0.25),\n",
    "          legend.position=\"none\") +\n",
    "    ylab('fos median copy # in both+ cells') +\n",
    "    scale_color_manual(values=color_scale) +\n",
    "    scale_x_discrete(labels=c(\"Sal\",\"Mor\",\"Nal\")) +\n",
    "    scale_y_continuous(expand=c(0,0), limits=c(0, 120))\n",
    "ggsave('C:/Users/stuberadmin/Documents/HCR_analysis/IEG_HCR_results/IEG_HCR_results_final/both_fos_bar.pdf', width=0.75, height=1.5)"
   ]
  },
  {
   "cell_type": "code",
   "execution_count": null,
   "metadata": {},
   "outputs": [],
   "source": []
  }
 ],
 "metadata": {
  "colab": {
   "name": "boxplot_all_cells.ipynb",
   "provenance": []
  },
  "kernelspec": {
   "display_name": "R",
   "language": "R",
   "name": "ir"
  },
  "language_info": {
   "codemirror_mode": "r",
   "file_extension": ".r",
   "mimetype": "text/x-r-source",
   "name": "R",
   "pygments_lexer": "r",
   "version": "4.1.2"
  }
 },
 "nbformat": 4,
 "nbformat_minor": 1
}
