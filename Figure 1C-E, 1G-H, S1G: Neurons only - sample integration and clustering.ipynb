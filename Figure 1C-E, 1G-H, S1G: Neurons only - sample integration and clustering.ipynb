{
 "cells": [
  {
   "cell_type": "markdown",
   "metadata": {},
   "source": [
    "## Neurons only - sample integration and clustering"
   ]
  },
  {
   "cell_type": "markdown",
   "metadata": {},
   "source": [
    "#### Import libraries"
   ]
  },
  {
   "cell_type": "code",
   "execution_count": 2,
   "metadata": {
    "scrolled": true
   },
   "outputs": [
    {
     "name": "stderr",
     "output_type": "stream",
     "text": [
      "Attaching SeuratObject\n",
      "\n",
      "\n",
      "Attaching package: 'dplyr'\n",
      "\n",
      "\n",
      "The following objects are masked from 'package:stats':\n",
      "\n",
      "    filter, lag\n",
      "\n",
      "\n",
      "The following objects are masked from 'package:base':\n",
      "\n",
      "    intersect, setdiff, setequal, union\n",
      "\n",
      "\n"
     ]
    },
    {
     "data": {
      "text/html": [
       "<style> .container { width:95% !important; } </style>"
      ]
     },
     "metadata": {},
     "output_type": "display_data"
    },
    {
     "name": "stderr",
     "output_type": "stream",
     "text": [
      "Loading required package: ggraph\n",
      "\n"
     ]
    }
   ],
   "source": [
    "library(Seurat)\n",
    "library(dplyr)\n",
    "library(magrittr)\n",
    "library(ggplot2)\n",
    "library(xlsx)\n",
    "library(clustree)\n",
    "library(cowplot)"
   ]
  },
  {
   "cell_type": "markdown",
   "metadata": {},
   "source": [
    "Saline (control) group"
   ]
  },
  {
   "cell_type": "code",
   "execution_count": null,
   "metadata": {},
   "outputs": [],
   "source": [
    "LS_sal.data <-Read10X(data.dir = \"/Users/stuberadmin/Documents/scRNAseq/201130/30-434124718/01_analysis/cellranger_count/LS-SAL-1/raw_feature_bc_matrix\")\n",
    "colnames(LS_sal.data) = paste0(colnames(LS_sal.data),\"LS_sal\")\n",
    "LS_sal<- CreateSeuratObject(counts = LS_sal.data, min.cells = 3, min.features = 200, project = \"LS_morphine\")\n",
    "new_LS_barcodes <- gsub(\"-1\",\"\",colnames(LS_sal))\n",
    "LS_sal <- RenameCells(LS_sal, new.names = new_LS_barcodes)\n",
    "LS_sal@meta.data$stim <- \"LS_sal\"\n",
    "Neuron_id<-readRDS(file = \"C:/Users/stuberadmin/Documents/scRNAseq/211119-RS/All_cells/Neuron_LS_sal_id.rds\")\n",
    "LS_sal<-subset(x = LS_sal, cells=Neuron_id)"
   ]
  },
  {
   "cell_type": "markdown",
   "metadata": {},
   "source": [
    "Chronic morphine group"
   ]
  },
  {
   "cell_type": "code",
   "execution_count": null,
   "metadata": {},
   "outputs": [],
   "source": [
    "LS_mor.data <-Read10X(data.dir = \"/Users/stuberadmin/Documents/scRNAseq/201130/30-434124718/01_analysis/cellranger_count/LS-MOR-1/raw_feature_bc_matrix\")\n",
    "colnames(LS_mor.data) = paste0(colnames(LS_mor.data),\"LS_mor\")\n",
    "LS_mor<- CreateSeuratObject(counts = LS_mor.data, min.cells = 3, min.features = 200, project = \"LS_morphine\")\n",
    "new_LS_barcodes <- gsub(\"-1\",\"\",colnames(LS_mor))\n",
    "LS_mor <- RenameCells(LS_mor, new.names = new_LS_barcodes)\n",
    "LS_mor@meta.data$stim <- \"LS_mor\"\n",
    "Neuron_id<-readRDS(file = \"C:/Users/stuberadmin/Documents/scRNAseq/211119-RS/All_cells/Neuron_LS_mor_id.rds\")\n",
    "LS_mor<-subset(x = LS_mor, cells=Neuron_id)"
   ]
  },
  {
   "cell_type": "markdown",
   "metadata": {},
   "source": [
    "Precipitated withdrawal (chronic morphine + naloxone)"
   ]
  },
  {
   "cell_type": "code",
   "execution_count": null,
   "metadata": {},
   "outputs": [],
   "source": [
    "LS_nal.data <-Read10X(data.dir = \"/Users/stuberadmin/Documents/scRNAseq/201130/30-434124718/01_analysis/cellranger_count/LS-NAL-1/raw_feature_bc_matrix\")\n",
    "colnames(LS_nal.data) = paste0(colnames(LS_nal.data),\"LS_nal\")\n",
    "LS_nal<- CreateSeuratObject(counts = LS_nal.data, min.cells = 3, min.features = 200, project = \"LS_morphine\")\n",
    "new_LS_barcodes <- gsub(\"-1\",\"\",colnames(LS_nal))\n",
    "LS_nal <- RenameCells(LS_nal, new.names = new_LS_barcodes)\n",
    "LS_nal@meta.data$stim <- \"LS_nal\"\n",
    "Neuron_id<-readRDS(file = \"C:/Users/stuberadmin/Documents/scRNAseq/211119-RS/All_cells/Neuron_LS_nal_id.rds\")\n",
    "LS_nal<-subset(x = LS_nal, cells=Neuron_id)"
   ]
  },
  {
   "cell_type": "markdown",
   "metadata": {},
   "source": [
    "Acute morphine"
   ]
  },
  {
   "cell_type": "code",
   "execution_count": null,
   "metadata": {},
   "outputs": [],
   "source": [
    "LS_one_mor.data <-Read10X(data.dir = \"C:/Users/stuberadmin/Documents/scRNAseq/211119-RS/raw_data/Mor_single/analysis\")\n",
    "colnames(LS_one_mor.data) = paste0(colnames(LS_one_mor.data),\"LS_one_mor\")\n",
    "LS_one_mor<- CreateSeuratObject(counts = LS_one_mor.data, min.cells = 3, min.features = 200, project = \"LS_morphine\")\n",
    "new_LS_barcodes <- gsub(\"-1\",\"\",colnames(LS_one_mor))\n",
    "LS_one_mor <- RenameCells(LS_one_mor, new.names = new_LS_barcodes)\n",
    "LS_one_mor@meta.data$stim <- \"LS_one_mor\"\n",
    "Neuron_id<-readRDS(file = \"C:/Users/stuberadmin/Documents/scRNAseq/211119-RS/All_cells/Neuron_LS_one_mor_id.rds\")\n",
    "Neuron_id <- gsub(\"-1\",\"\",Neuron_id)\n",
    "LS_one_mor<-subset(x = LS_one_mor, cells=Neuron_id)"
   ]
  },
  {
   "cell_type": "markdown",
   "metadata": {},
   "source": [
    "Acute naloxone (drug-naive)"
   ]
  },
  {
   "cell_type": "code",
   "execution_count": null,
   "metadata": {},
   "outputs": [],
   "source": [
    "LS_nal_no_mor.data <-Read10X(data.dir = \"C:/Users/stuberadmin/Documents/scRNAseq/211119-RS/raw_data/Nal_no_mor/analysis\")\n",
    "colnames(LS_nal_no_mor.data) = paste0(colnames(LS_nal_no_mor.data),\"LS_nal_no_mor\")\n",
    "LS_nal_no_mor<- CreateSeuratObject(counts = LS_nal_no_mor.data, min.cells = 3, min.features = 200, project = \"LS_morphine\")\n",
    "new_LS_barcodes <- gsub(\"-1\",\"\",colnames(LS_nal_no_mor))\n",
    "LS_nal_no_mor <- RenameCells(LS_nal_no_mor, new.names = new_LS_barcodes)\n",
    "LS_nal_no_mor@meta.data$stim <- \"LS_nal_no_mor\"\n",
    "Neuron_id<-readRDS(file = \"C:/Users/stuberadmin/Documents/scRNAseq/211119-RS/All_cells/Neuron_LS_nal_no_mor_id.rds\")\n",
    "Neuron_id <- gsub(\"-1\",\"\",Neuron_id)\n",
    "LS_nal_no_mor<-subset(x = LS_nal_no_mor, cells=Neuron_id)"
   ]
  },
  {
   "cell_type": "markdown",
   "metadata": {},
   "source": [
    "Adding % mito enrichment to the metadata"
   ]
  },
  {
   "cell_type": "code",
   "execution_count": null,
   "metadata": {},
   "outputs": [],
   "source": [
    "mito.features <- grep(pattern = \"^mt-\", x = rownames(x =LS_sal), value = TRUE)\n",
    "percent.mito <- Matrix::colSums(x = GetAssayData(object = LS_sal, slot = 'counts')[mito.features, ]) / Matrix::colSums(x = GetAssayData(object = LS_sal, slot = 'counts'))\n",
    "LS_sal[['percent.mito']] <- percent.mito"
   ]
  },
  {
   "cell_type": "code",
   "execution_count": null,
   "metadata": {},
   "outputs": [],
   "source": [
    "mito.features <- grep(pattern = \"^mt-\", x = rownames(x =LS_mor), value = TRUE)\n",
    "percent.mito <- Matrix::colSums(x = GetAssayData(object = LS_mor, slot = 'counts')[mito.features, ]) / Matrix::colSums(x = GetAssayData(object = LS_mor, slot = 'counts'))\n",
    "LS_mor[['percent.mito']] <- percent.mito"
   ]
  },
  {
   "cell_type": "code",
   "execution_count": null,
   "metadata": {},
   "outputs": [],
   "source": [
    "mito.features <- grep(pattern = \"^mt-\", x = rownames(x =LS_nal), value = TRUE)\n",
    "percent.mito <- Matrix::colSums(x = GetAssayData(object = LS_nal, slot = 'counts')[mito.features, ]) / Matrix::colSums(x = GetAssayData(object = LS_nal, slot = 'counts'))\n",
    "LS_nal[['percent.mito']] <- percent.mito"
   ]
  },
  {
   "cell_type": "code",
   "execution_count": null,
   "metadata": {},
   "outputs": [],
   "source": [
    "mito.features <- grep(pattern = \"^mt-\", x = rownames(x =LS_one_mor), value = TRUE)\n",
    "percent.mito <- Matrix::colSums(x = GetAssayData(object = LS_one_mor, slot = 'counts')[mito.features, ]) / Matrix::colSums(x = GetAssayData(object = LS_one_mor, slot = 'counts'))\n",
    "LS_one_mor[['percent.mito']] <- percent.mito"
   ]
  },
  {
   "cell_type": "code",
   "execution_count": null,
   "metadata": {},
   "outputs": [],
   "source": [
    "mito.features <- grep(pattern = \"^mt-\", x = rownames(x =LS_nal_no_mor), value = TRUE)\n",
    "percent.mito <- Matrix::colSums(x = GetAssayData(object = LS_nal_no_mor, slot = 'counts')[mito.features, ]) / Matrix::colSums(x = GetAssayData(object = LS_nal_no_mor, slot = 'counts'))\n",
    "LS_nal_no_mor[['percent.mito']] <- percent.mito"
   ]
  },
  {
   "cell_type": "markdown",
   "metadata": {},
   "source": [
    "#### Sample normalization using scTransform, followed by dimensionality reduction and clustering"
   ]
  },
  {
   "cell_type": "code",
   "execution_count": null,
   "metadata": {},
   "outputs": [],
   "source": [
    "library('sctransform')"
   ]
  },
  {
   "cell_type": "code",
   "execution_count": null,
   "metadata": {},
   "outputs": [],
   "source": [
    "LS.list<-objects()\n",
    "LS.list$LS_sal<-LS_sal\n",
    "LS.list$LS_mor<-LS_mor\n",
    "LS.list$LS_nal<-LS_nal\n",
    "LS.list$LS_one_mor<-LS_one_mor\n",
    "LS.list$LS_nal_no_mor<-LS_nal_no_mor"
   ]
  },
  {
   "cell_type": "code",
   "execution_count": null,
   "metadata": {},
   "outputs": [],
   "source": [
    "reference.list <- LS.list[c(\"LS_sal\",\"LS_mor\",\"LS_nal\",\"LS_one_mor\",\"LS_nal_no_mor\")]"
   ]
  },
  {
   "cell_type": "code",
   "execution_count": null,
   "metadata": {},
   "outputs": [],
   "source": [
    "reference.list <- lapply(X = reference.list, FUN = SCTransform)"
   ]
  },
  {
   "cell_type": "code",
   "execution_count": null,
   "metadata": {},
   "outputs": [],
   "source": [
    "features <- SelectIntegrationFeatures(object.list = reference.list, nfeatures = 3000)"
   ]
  },
  {
   "cell_type": "code",
   "execution_count": null,
   "metadata": {},
   "outputs": [],
   "source": [
    "reference.list <- PrepSCTIntegration(object.list = reference.list, anchor.features = features)"
   ]
  },
  {
   "cell_type": "code",
   "execution_count": null,
   "metadata": {
    "scrolled": true
   },
   "outputs": [],
   "source": [
    "LS.anchors <- FindIntegrationAnchors(object.list = reference.list, normalization.method = \"SCT\",\n",
    "    anchor.features = features)"
   ]
  },
  {
   "cell_type": "code",
   "execution_count": null,
   "metadata": {
    "scrolled": true
   },
   "outputs": [],
   "source": [
    "LS.integrated <- IntegrateData(anchorset = LS.anchors, normalization.method = \"SCT\")"
   ]
  },
  {
   "cell_type": "code",
   "execution_count": null,
   "metadata": {},
   "outputs": [],
   "source": [
    "LS.integrated <- RunPCA(LS.integrated, verbose = FALSE, dims=1:30)"
   ]
  },
  {
   "cell_type": "code",
   "execution_count": null,
   "metadata": {
    "scrolled": true
   },
   "outputs": [],
   "source": [
    "LS.integrated <- RunUMAP(LS.integrated, reduction = \"pca\", dims = 1:30)"
   ]
  },
  {
   "cell_type": "code",
   "execution_count": null,
   "metadata": {},
   "outputs": [],
   "source": [
    "DimPlot(object = LS.integrated, reduction = \"umap\", group.by = \"stim\", repel = TRUE, pt.size = 0.20, label.size=2.5) +\n",
    "theme_classic() + \n",
    "theme(axis.line=element_blank(),\n",
    "     axis.text=element_blank(),\n",
    "     axis.title=element_blank(),\n",
    "     axis.ticks=element_blank())\n",
    "ggsave(file=\"C:/Users/stuberadmin/Documents/scRNAseq/211119-RS-rV4/Neurons_only_iter1/Neurons_int_umap.png\",width=6,height=4)\n",
    "ggsave(file=\"C:/Users/stuberadmin/Documents/scRNAseq/211119-RS-rV4/Neurons_only_iter1/Neurons_int_umap.pdf\",width=6,height=4)\n",
    "ggsave(file=\"C:/Users/stuberadmin/Documents/scRNAseq/211119-RS-rV4/Neurons_only_iter1/Neurons_int_umap.svg\")"
   ]
  },
  {
   "cell_type": "code",
   "execution_count": 8,
   "metadata": {},
   "outputs": [
    {
     "name": "stderr",
     "output_type": "stream",
     "text": [
      "Computing nearest neighbor graph\n",
      "\n",
      "Computing SNN\n",
      "\n"
     ]
    }
   ],
   "source": [
    "LS.integrated <- FindNeighbors(object = LS.integrated, dims=1:30)"
   ]
  },
  {
   "cell_type": "markdown",
   "metadata": {},
   "source": [
    "Identifying ideal clustering resolution"
   ]
  },
  {
   "cell_type": "code",
   "execution_count": 4,
   "metadata": {},
   "outputs": [],
   "source": [
    "set.seed(5)"
   ]
  },
  {
   "cell_type": "code",
   "execution_count": 9,
   "metadata": {
    "scrolled": true
   },
   "outputs": [
    {
     "name": "stderr",
     "output_type": "stream",
     "text": [
      "Warning message:\n",
      "\"The following arguments are not used: dims.use\"\n",
      "Suggested parameter: dims instead of dims.use\n",
      "\n",
      "\n",
      "Warning message:\n",
      "\"The following arguments are not used: dims.use\"\n",
      "Suggested parameter: dims instead of dims.use\n",
      "\n",
      "\n"
     ]
    },
    {
     "name": "stdout",
     "output_type": "stream",
     "text": [
      "Modularity Optimizer version 1.3.0 by Ludo Waltman and Nees Jan van Eck\n",
      "\n",
      "Number of nodes: 32782\n",
      "Number of edges: 1291201\n",
      "\n",
      "Running Louvain algorithm...\n",
      "Maximum modularity in 10 random starts: 0.9924\n",
      "Number of communities: 4\n",
      "Elapsed time: 3 seconds\n"
     ]
    },
    {
     "name": "stderr",
     "output_type": "stream",
     "text": [
      "Warning message:\n",
      "\"The following arguments are not used: dims.use\"\n",
      "Suggested parameter: dims instead of dims.use\n",
      "\n",
      "\n",
      "Warning message:\n",
      "\"The following arguments are not used: dims.use\"\n",
      "Suggested parameter: dims instead of dims.use\n",
      "\n",
      "\n"
     ]
    },
    {
     "name": "stdout",
     "output_type": "stream",
     "text": [
      "Modularity Optimizer version 1.3.0 by Ludo Waltman and Nees Jan van Eck\n",
      "\n",
      "Number of nodes: 32782\n",
      "Number of edges: 1291201\n",
      "\n",
      "Running Louvain algorithm...\n",
      "Maximum modularity in 10 random starts: 0.9794\n",
      "Number of communities: 8\n",
      "Elapsed time: 3 seconds\n"
     ]
    },
    {
     "name": "stderr",
     "output_type": "stream",
     "text": [
      "Warning message:\n",
      "\"The following arguments are not used: dims.use\"\n",
      "Suggested parameter: dims instead of dims.use\n",
      "\n",
      "\n",
      "Warning message:\n",
      "\"The following arguments are not used: dims.use\"\n",
      "Suggested parameter: dims instead of dims.use\n",
      "\n",
      "\n"
     ]
    },
    {
     "name": "stdout",
     "output_type": "stream",
     "text": [
      "Modularity Optimizer version 1.3.0 by Ludo Waltman and Nees Jan van Eck\n",
      "\n",
      "Number of nodes: 32782\n",
      "Number of edges: 1291201\n",
      "\n",
      "Running Louvain algorithm...\n",
      "Maximum modularity in 10 random starts: 0.9733\n",
      "Number of communities: 13\n",
      "Elapsed time: 3 seconds\n"
     ]
    },
    {
     "name": "stderr",
     "output_type": "stream",
     "text": [
      "Warning message:\n",
      "\"The following arguments are not used: dims.use\"\n",
      "Suggested parameter: dims instead of dims.use\n",
      "\n",
      "\n",
      "Warning message:\n",
      "\"The following arguments are not used: dims.use\"\n",
      "Suggested parameter: dims instead of dims.use\n",
      "\n",
      "\n"
     ]
    },
    {
     "name": "stdout",
     "output_type": "stream",
     "text": [
      "Modularity Optimizer version 1.3.0 by Ludo Waltman and Nees Jan van Eck\n",
      "\n",
      "Number of nodes: 32782\n",
      "Number of edges: 1291201\n",
      "\n",
      "Running Louvain algorithm...\n",
      "Maximum modularity in 10 random starts: 0.9690\n",
      "Number of communities: 16\n",
      "Elapsed time: 3 seconds\n"
     ]
    },
    {
     "name": "stderr",
     "output_type": "stream",
     "text": [
      "Warning message:\n",
      "\"The following arguments are not used: dims.use\"\n",
      "Suggested parameter: dims instead of dims.use\n",
      "\n",
      "\n",
      "Warning message:\n",
      "\"The following arguments are not used: dims.use\"\n",
      "Suggested parameter: dims instead of dims.use\n",
      "\n",
      "\n"
     ]
    },
    {
     "name": "stdout",
     "output_type": "stream",
     "text": [
      "Modularity Optimizer version 1.3.0 by Ludo Waltman and Nees Jan van Eck\n",
      "\n",
      "Number of nodes: 32782\n",
      "Number of edges: 1291201\n",
      "\n",
      "Running Louvain algorithm...\n",
      "Maximum modularity in 10 random starts: 0.9652\n",
      "Number of communities: 17\n",
      "Elapsed time: 3 seconds\n"
     ]
    }
   ],
   "source": [
    "LS.integrated <- FindClusters(LS.integrated, resolution = 0.01, dims.use = 1:30)\n",
    "LS.integrated <- FindClusters(LS.integrated, resolution = 0.05, dims.use = 1:30)\n",
    "LS.integrated <- FindClusters(LS.integrated, resolution = 0.10, dims.use = 1:30)\n",
    "LS.integrated <- FindClusters(LS.integrated, resolution = 0.15, dims.use = 1:30)\n",
    "LS.integrated <- FindClusters(LS.integrated, resolution = 0.20, dims.use = 1:30)"
   ]
  },
  {
   "cell_type": "code",
   "execution_count": 10,
   "metadata": {
    "scrolled": false
   },
   "outputs": [
    {
     "name": "stderr",
     "output_type": "stream",
     "text": [
      "Warning message:\n",
      "\"`guides(<scale> = FALSE)` is deprecated. Please use `guides(<scale> = \"none\")` instead.\"\n"
     ]
    },
    {
     "data": {
      "image/png": "[encoded data removed]",
      "text/plain": [
       "plot without title"
      ]
     },
     "metadata": {
      "image/png": {
       "height": 420,
       "width": 420
      }
     },
     "output_type": "display_data"
    }
   ],
   "source": [
    "clustree(LS.integrated@meta.data, prefix = \"integrated_snn_res.\", legend.position='bottom', edge_width = 0.5, node_size_range=c(3,10),node_text_size = 2, layout='tree') +\n",
    "guides(edge_colour = FALSE, edge_alpha = FALSE, fill=guide_legend(title=\"resolution\")) +\n",
    "theme(plot.title=element_text(size=10))+\n",
    "ggtitle('Resolution analysis')\n",
    "ggsave(file=\"/resolution_clustree_final.pdf\",width=6,height=5)"
   ]
  },
  {
   "cell_type": "code",
   "execution_count": null,
   "metadata": {},
   "outputs": [],
   "source": [
    "DimPlot(object = LS.integrated, reduction = \"umap\", group.by = \"integrated_snn_res.0.2\", label = TRUE, repel = TRUE, pt.size = 0.65) +\n",
    "theme_classic() + \n",
    "NoLegend()+\n",
    "theme(plot.title=element_blank(),\n",
    "     axis.line=element_blank(),\n",
    "     axis.text=element_blank(),\n",
    "     axis.title=element_blank(),\n",
    "     axis.ticks=element_blank())\n",
    "ggsave(file=\"C:/Users/stuberadmin/Documents/scRNAseq/211119-RS-rv4/Neurons_only_iter1/Neurons_umap_number.png\",width=10,height=10)"
   ]
  },
  {
   "cell_type": "code",
   "execution_count": null,
   "metadata": {},
   "outputs": [],
   "source": [
    "DefaultAssay(LS.integrated) <- \"RNA\""
   ]
  },
  {
   "cell_type": "code",
   "execution_count": null,
   "metadata": {},
   "outputs": [],
   "source": [
    "#  gaba\n",
    "F<-FeaturePlot(object =LS.integrated, features = c(\"Slc32a1\",\"Slc17a6\",\"Slc17a7\",\"Slc18a2\"))\n",
    "ggsave(file=\"C:/Users/stuberadmin/Documents/scRNAseq/211119-RS-rv4/Neurons_only_iter1/feature_plots/feature_selection_vesicletransporters.png\",width=10,height=10)\n",
    "#ggsave(file=\"/Users/stuberadmin/Documents/scRNAseq/191204/Neurons_only_iter3/feature_selection_vesicletransporters.svg\")"
   ]
  },
  {
   "cell_type": "code",
   "execution_count": null,
   "metadata": {},
   "outputs": [],
   "source": [
    "saveRDS(LS.integrated, file = \"C:/Users/stuberadmin/Documents/scRNAseq/211119-RS-rv4/Neurons_only_iter1/LS_integrated.rds\")\n",
    "saveRDS(LS_sal, file = \"C:/Users/stuberadmin/Documents/scRNAseq/211119-RS-rv4/Neurons_only_iter1/LS_sal.rds\")\n",
    "saveRDS(LS_mor, file = \"C:/Users/stuberadmin/Documents/scRNAseq/211119-RS-rv4/Neurons_only_iter1/LS_mor.rds\")\n",
    "saveRDS(LS_nal, file = \"C:/Users/stuberadmin/Documents/scRNAseq/211119-RS-rv4/Neurons_only_iter1/LS_nal.rds\")\n",
    "saveRDS(LS_one_mor, file = \"C:/Users/stuberadmin/Documents/scRNAseq/211119-RS-rv4/Neurons_only_iter1/LS_one_mor.rds\")\n",
    "saveRDS(LS_nal_no_mor, file = \"C:/Users/stuberadmin/Documents/scRNAseq/211119-RS-rv4/Neurons_only_iter1/LS_nal_no_mor.rds\")"
   ]
  },
  {
   "cell_type": "markdown",
   "metadata": {},
   "source": [
    "#### Loading in processed .rds files"
   ]
  },
  {
   "cell_type": "code",
   "execution_count": null,
   "metadata": {},
   "outputs": [],
   "source": [
    "LS.integrated<-readRDS(file = \"C:/Users/stuberadmin/Documents/scRNAseq/211119-RS-rv4/Neurons_only_iter1/LS_integrated.rds\")\n",
    "LS_sal<-readRDS(file = \"C:/Users/stuberadmin/Documents/scRNAseq/211119-RS-rv4/Neurons_only_iter1/LS_sal.rds\")\n",
    "LS_mor<-readRDS(file = \"C:/Users/stuberadmin/Documents/scRNAseq/211119-RS-rv4/Neurons_only_iter1/LS_mor.rds\")\n",
    "LS_nal<-readRDS(file = \"C:/Users/stuberadmin/Documents/scRNAseq/211119-RS-rv4/Neurons_only_iter1/LS_nal.rds\")\n",
    "LS_one_mor<-readRDS( file = \"C:/Users/stuberadmin/Documents/scRNAseq/211119-RS-rv4/Neurons_only_iter1/LS_one_mor.rds\")\n",
    "LS_nal_no_mor<-readRDS( file = \"C:/Users/stuberadmin/Documents/scRNAseq/211119-RS-rv4/Neurons_only_iter1/LS_nal_no_mor.rds\")"
   ]
  },
  {
   "cell_type": "markdown",
   "metadata": {},
   "source": [
    "#### Name cell clusters"
   ]
  },
  {
   "cell_type": "code",
   "execution_count": null,
   "metadata": {},
   "outputs": [],
   "source": [
    "new.ident <- c(\"Gaba1\",\"Gaba2\",\"Gaba3\",\"Gaba4\",\"Gaba5\",\"Gaba6\",\"Gaba7\",\"Gaba8\",\"Gaba9\",\"Glu1\",\"Gaba10\",\"Gaba11\",\"Gaba12\",\"Gaba13\",\"Glu2\",\"Gaba13\",\"Gaba14\")\n",
    "names(x = new.ident) <- levels(x =LS.integrated)\n",
    "LS.integrated<- RenameIdents(object =LS.integrated, new.ident)"
   ]
  },
  {
   "cell_type": "code",
   "execution_count": null,
   "metadata": {},
   "outputs": [],
   "source": [
    "D <- DimPlot(object = LS.integrated, reduction = \"umap\", label = TRUE, repel = TRUE, label.size=4)\n",
    "D+ theme_classic() + NoLegend() +\n",
    "theme(axis.line=element_blank(),\n",
    "     axis.text=element_blank(),\n",
    "     axis.title=element_blank(),\n",
    "     axis.ticks=element_blank())\n",
    "ggsave(file=\"/Umap_name.pdf\",width=5,height=5)"
   ]
  },
  {
   "cell_type": "code",
   "execution_count": null,
   "metadata": {},
   "outputs": [],
   "source": [
    "mito.features <- grep(pattern = \"^mt-\", x = rownames(x =LS.integrated), value = TRUE)\n",
    "percent.mito <- Matrix::colSums(x = GetAssayData(object = LS.integrated, slot = 'counts')[mito.features, ]) / Matrix::colSums(x = GetAssayData(object = LS.integrated, slot = 'counts'))\n",
    "LS.integrated[['percent.mito']] <- percent.mito"
   ]
  },
  {
   "cell_type": "markdown",
   "metadata": {},
   "source": [
    "#### Generate variables for barcodes of each cell cluster"
   ]
  },
  {
   "cell_type": "code",
   "execution_count": null,
   "metadata": {},
   "outputs": [],
   "source": [
    "table(Idents(LS.integrated))"
   ]
  },
  {
   "cell_type": "code",
   "execution_count": null,
   "metadata": {},
   "outputs": [],
   "source": [
    "for (i in 1:length(new.ident)){\n",
    "assign(paste(new.ident[i],\"_barcode\",sep=\"\"),colnames(LS.integrated@assays$RNA@data[,which(Idents(object=LS.integrated) %in% new.ident[i])]))# this gives all barcodes in cluster\n",
    "assign(paste(new.ident[i],\"_barcode_LS_sal\",sep=\"\"),intersect(colnames(LS_sal@assays$RNA@data),eval(parse(text = paste(new.ident[i],\"_barcode\",sep=\"\")))))\n",
    "assign(paste(new.ident[i],\"_barcode_LS_mor\",sep=\"\"),intersect(colnames(LS_mor@assays$RNA@data),eval(parse(text = paste(new.ident[i],\"_barcode\",sep=\"\")))))\n",
    "assign(paste(new.ident[i],\"_barcode_LS_nal\",sep=\"\"),intersect(colnames(LS_nal@assays$RNA@data),eval(parse(text = paste(new.ident[i],\"_barcode\",sep=\"\")))))\n",
    "assign(paste(new.ident[i],\"_barcode_LS_one_mor\",sep=\"\"),intersect(colnames(LS_one_mor@assays$RNA@data),eval(parse(text = paste(new.ident[i],\"_barcode\",sep=\"\")))))\n",
    "assign(paste(new.ident[i],\"_barcode_LS_nal_no_mor\",sep=\"\"),intersect(colnames(LS_nal_no_mor@assays$RNA@data),eval(parse(text = paste(new.ident[i],\"_barcode\",sep=\"\")))))\n",
    "}"
   ]
  },
  {
   "cell_type": "code",
   "execution_count": null,
   "metadata": {},
   "outputs": [],
   "source": [
    "#creating vector of variable names\n",
    "barcode_names <- unique(paste(Idents(LS.integrated),\"_barcode\",sep=\"\"))"
   ]
  },
  {
   "cell_type": "code",
   "execution_count": null,
   "metadata": {},
   "outputs": [],
   "source": [
    "celltype<-vector()\n",
    "for (i in 1:dim(LS.integrated@meta.data)[1]){\n",
    "    celltype[i]<-toString(new.ident[LS.integrated@meta.data$integrated_snn_res.0.2[i]])\n",
    "}\n",
    "LS.integrated@meta.data$celltype<-celltype"
   ]
  },
  {
   "cell_type": "markdown",
   "metadata": {},
   "source": [
    "#### Quick quality metric assessment"
   ]
  },
  {
   "cell_type": "code",
   "execution_count": null,
   "metadata": {},
   "outputs": [],
   "source": [
    "VlnPlot(LS.integrated, feature=c('nCount_RNA'))"
   ]
  },
  {
   "cell_type": "code",
   "execution_count": null,
   "metadata": {},
   "outputs": [],
   "source": [
    "VlnPlot(LS.integrated, feature=c('nCount_feature'))"
   ]
  },
  {
   "cell_type": "code",
   "execution_count": null,
   "metadata": {},
   "outputs": [],
   "source": [
    "VlnPlot(LS.integrated, feature=c('percent.mito'))"
   ]
  },
  {
   "cell_type": "markdown",
   "metadata": {},
   "source": [
    "Gaba1 has low RNA and feature enrichment, and slightly elevated percent mito. We decided to toss this cell cluster because of low sequencing coverage"
   ]
  },
  {
   "cell_type": "markdown",
   "metadata": {},
   "source": [
    "#### Identifying conserved markers for each cell type"
   ]
  },
  {
   "cell_type": "code",
   "execution_count": null,
   "metadata": {},
   "outputs": [],
   "source": [
    "DefaultAssay(LS.integrated) <- \"SCT\""
   ]
  },
  {
   "cell_type": "code",
   "execution_count": null,
   "metadata": {},
   "outputs": [],
   "source": [
    "LS.integrated_corrected <- PrepSCTFindMarkers(LS.integrated)"
   ]
  },
  {
   "cell_type": "markdown",
   "metadata": {},
   "source": [
    "Code will iterate through all cell clusters to identify genes that distinguish 1 cell cluster from all other cells"
   ]
  },
  {
   "cell_type": "code",
   "execution_count": null,
   "metadata": {},
   "outputs": [],
   "source": [
    "#conserved markers per cluster\n",
    "#LS_sal_p_val_adj<0.05 & LS_mor_p_val_adj<0.05 & LS_nal_p_val_adj<0.05 & LS_one_mor_p_val_adj<0.05 & LS_nal_no_mor_p_val_adj<0.05\n",
    "Cell_type<-c(\"Gaba1\",\"Gaba2\",\"Gaba3\",\"Gaba4\",\"Gaba5\",\"Gaba6\",\"Gaba7\",\"Gaba8\",\"Gaba9\",\"Glu1\",\"Gaba10\",\"Gaba11\",\"Gaba12\",\"Gaba13\",\"Glu2\",\"Gaba13\",\"Gaba14\")\n",
    "for (i in 1:length(Cell_type)){\n",
    "one.markers <- FindConservedMarkers(LS.integrated_corrected, ident.1 = Cell_type[i], grouping.var = \"stim\",print.bar = FALSE, assay=\"SCT\")\n",
    "one.markers<-subset(one.markers, LS_sal_avg_log2FC>0 & LS_mor_avg_log2FC>0 & LS_nal_avg_log2FC>0 & LS_one_mor_avg_log2FC>0 & LS_nal_no_mor_avg_log2FC>0)\n",
    "sort_marker<-one.markers[order(-one.markers[\"LS_sal_avg_log2FC\"]),]\n",
    "write.xlsx(sort_marker,file=(paste(\"/conserved_markers/\",Cell_type[i],\"_gene_assay_SCT.xlsx\",sep=\"\")))}"
   ]
  },
  {
   "cell_type": "markdown",
   "metadata": {},
   "source": [
    "Gaba11 and Gaba13 were enriched for Apoe and Mog, respectively, which means they are not as likely to be purely neurons. For this reason, they were also removed from the dataset"
   ]
  },
  {
   "cell_type": "markdown",
   "metadata": {},
   "source": [
    "#### Kicking out cell clusters that were deemed to be either low quality or contamination "
   ]
  },
  {
   "cell_type": "code",
   "execution_count": null,
   "metadata": {},
   "outputs": [],
   "source": [
    "Remove_barcode<- c(Gaba1_barcode, Gaba11_barcode, Gaba13_barcode)\n",
    "Retained_barcode_LS_sal <- subset(LS_sal, cells=Remove_barcode,invert=TRUE)\n",
    "Retained_barcode_LS_mor <- subset(LS_mor, cells=Remove_barcode,invert=TRUE)\n",
    "Retained_barcode_LS_nal <- subset(LS_nal, cells=Remove_barcode,invert=TRUE)\n",
    "Retained_barcode_LS_one_mor <- subset(LS_one_mor, cells=Remove_barcode,invert=TRUE)\n",
    "Retained_barcode_LS_nal_no_mor <- subset(LS_nal_no_mor, cells=Remove_barcode,invert=TRUE)"
   ]
  },
  {
   "cell_type": "code",
   "execution_count": null,
   "metadata": {},
   "outputs": [],
   "source": [
    "saveRDS(Retained_barcode_LS_sal, file=\"/retained_LS_sal_id.rds\")\n",
    "saveRDS(Retained_barcode_LS_mor, file=\"/retained_LS_mor_id.rds\")\n",
    "saveRDS(Retained_barcode_LS_nal, file=\"/retained_LS_nal_id.rds\")\n",
    "saveRDS(Retained_barcode_LS_nal_no_mor, file=\"/retained_LS_nal_no_mor_id.rds\")\n",
    "saveRDS(Retained_barcode_LS_one_mor, file=\"/retained_LS_one_mor_id.rds\")"
   ]
  },
  {
   "cell_type": "markdown",
   "metadata": {},
   "source": [
    "## Second clustering iteration with \"cleaned\" version of the data"
   ]
  },
  {
   "cell_type": "markdown",
   "metadata": {},
   "source": [
    "Saline (control) group"
   ]
  },
  {
   "cell_type": "code",
   "execution_count": null,
   "metadata": {},
   "outputs": [],
   "source": [
    "LS_sal.data <-Read10X(data.dir = \"/Users/stuberadmin/Documents/scRNAseq/201130/30-434124718/01_analysis/cellranger_count/LS-SAL-1/raw_feature_bc_matrix\")\n",
    "colnames(LS_sal.data) = paste0(colnames(LS_sal.data),\"LS_sal\")\n",
    "LS_sal<- CreateSeuratObject(counts = LS_sal.data, min.cells = 3, min.features = 200, project = \"LS_morphine\")\n",
    "new_LS_barcodes <- gsub(\"-1\",\"\",colnames(LS_sal))\n",
    "LS_sal <- RenameCells(LS_sal, new.names = new_LS_barcodes)\n",
    "LS_sal@meta.data$stim <- \"LS_sal\"\n",
    "Neuron_id<-colnames(Retained_barcode_LS_sal)\n",
    "LS_sal<-subset(x = LS_sal, cells=Neuron_id)"
   ]
  },
  {
   "cell_type": "markdown",
   "metadata": {},
   "source": [
    "Chronic morphine group"
   ]
  },
  {
   "cell_type": "code",
   "execution_count": null,
   "metadata": {},
   "outputs": [],
   "source": [
    "LS_mor.data <-Read10X(data.dir = \"/Users/stuberadmin/Documents/scRNAseq/201130/30-434124718/01_analysis/cellranger_count/LS-MOR-1/raw_feature_bc_matrix\")\n",
    "colnames(LS_mor.data) = paste0(colnames(LS_mor.data),\"LS_mor\")\n",
    "LS_mor<- CreateSeuratObject(counts = LS_mor.data, min.cells = 3, min.features = 200, project = \"LS_morphine\")\n",
    "new_LS_barcodes <- gsub(\"-1\",\"\",colnames(LS_mor))\n",
    "LS_mor <- RenameCells(LS_mor, new.names = new_LS_barcodes)\n",
    "LS_mor@meta.data$stim <- \"LS_mor\"\n",
    "Neuron_id<- colnames(Retained_barcode_LS_mor)\n",
    "LS_mor<-subset(x = LS_mor, cells=Neuron_id)"
   ]
  },
  {
   "cell_type": "markdown",
   "metadata": {},
   "source": [
    "Precipitated withdrawal (chronic morphine + naloxone)"
   ]
  },
  {
   "cell_type": "code",
   "execution_count": null,
   "metadata": {},
   "outputs": [],
   "source": [
    "LS_nal.data <-Read10X(data.dir = \"/Users/stuberadmin/Documents/scRNAseq/201130/30-434124718/01_analysis/cellranger_count/LS-NAL-1/raw_feature_bc_matrix\")\n",
    "colnames(LS_nal.data) = paste0(colnames(LS_nal.data),\"LS_nal\")\n",
    "LS_nal<- CreateSeuratObject(counts = LS_nal.data, min.cells = 3, min.features = 200, project = \"LS_morphine\")\n",
    "new_LS_barcodes <- gsub(\"-1\",\"\",colnames(LS_nal))\n",
    "LS_nal <- RenameCells(LS_nal, new.names = new_LS_barcodes)\n",
    "LS_nal@meta.data$stim <- \"LS_nal\"\n",
    "Neuron_id<- colnames(Retained_barcode_LS_nal)\n",
    "LS_nal<-subset(x = LS_nal, cells=Neuron_id)"
   ]
  },
  {
   "cell_type": "markdown",
   "metadata": {},
   "source": [
    "Acute morphine "
   ]
  },
  {
   "cell_type": "code",
   "execution_count": null,
   "metadata": {},
   "outputs": [],
   "source": [
    "LS_one_mor.data <-Read10X(data.dir = \"C:/Users/stuberadmin/Documents/scRNAseq/211119-RS/raw_data/Mor_single/analysis\")\n",
    "colnames(LS_one_mor.data) = paste0(colnames(LS_one_mor.data),\"LS_one_mor\")\n",
    "LS_one_mor<- CreateSeuratObject(counts = LS_one_mor.data, min.cells = 3, min.features = 200, project = \"LS_morphine\")\n",
    "new_LS_barcodes <- gsub(\"-1\",\"\",colnames(LS_one_mor))\n",
    "LS_one_mor <- RenameCells(LS_one_mor, new.names = new_LS_barcodes)\n",
    "LS_one_mor@meta.data$stim <- \"LS_one_mor\"\n",
    "Neuron_id<-colnames(Retained_barcode_LS_one_mor)\n",
    "LS_one_mor<-subset(x = LS_one_mor, cells=Neuron_id)"
   ]
  },
  {
   "cell_type": "markdown",
   "metadata": {},
   "source": [
    "Acute naloxone (drug naive)"
   ]
  },
  {
   "cell_type": "code",
   "execution_count": null,
   "metadata": {},
   "outputs": [],
   "source": [
    "LS_nal_no_mor.data <-Read10X(data.dir = \"C:/Users/stuberadmin/Documents/scRNAseq/211119-RS/raw_data/Nal_no_mor/analysis\")\n",
    "colnames(LS_nal_no_mor.data) = paste0(colnames(LS_nal_no_mor.data),\"LS_nal_no_mor\")\n",
    "LS_nal_no_mor<- CreateSeuratObject(counts = LS_nal_no_mor.data, min.cells = 3, min.features = 200, project = \"LS_morphine\")\n",
    "new_LS_barcodes <- gsub(\"-1\",\"\",colnames(LS_nal_no_mor))\n",
    "LS_nal_no_mor <- RenameCells(LS_nal_no_mor, new.names = new_LS_barcodes)\n",
    "LS_nal_no_mor@meta.data$stim <- \"LS_nal_no_mor\"\n",
    "Neuron_id<-colnames(Retained_barcode_LS_nal_no_mor)\n",
    "LS_nal_no_mor<-subset(x = LS_nal_no_mor, cells=Neuron_id)"
   ]
  },
  {
   "cell_type": "markdown",
   "metadata": {},
   "source": [
    "Add % mito enrichment to metadata"
   ]
  },
  {
   "cell_type": "code",
   "execution_count": null,
   "metadata": {},
   "outputs": [],
   "source": [
    "mito.features <- grep(pattern = \"^mt-\", x = rownames(x =LS_sal), value = TRUE)\n",
    "percent.mito <- Matrix::colSums(x = GetAssayData(object = LS_sal, slot = 'counts')[mito.features, ]) / Matrix::colSums(x = GetAssayData(object = LS_sal, slot = 'counts'))\n",
    "LS_sal[['percent.mito']] <- percent.mito"
   ]
  },
  {
   "cell_type": "code",
   "execution_count": null,
   "metadata": {},
   "outputs": [],
   "source": [
    "mito.features <- grep(pattern = \"^mt-\", x = rownames(x =LS_mor), value = TRUE)\n",
    "percent.mito <- Matrix::colSums(x = GetAssayData(object = LS_mor, slot = 'counts')[mito.features, ]) / Matrix::colSums(x = GetAssayData(object = LS_mor, slot = 'counts'))\n",
    "LS_mor[['percent.mito']] <- percent.mito"
   ]
  },
  {
   "cell_type": "code",
   "execution_count": null,
   "metadata": {},
   "outputs": [],
   "source": [
    "mito.features <- grep(pattern = \"^mt-\", x = rownames(x =LS_nal), value = TRUE)\n",
    "percent.mito <- Matrix::colSums(x = GetAssayData(object = LS_nal, slot = 'counts')[mito.features, ]) / Matrix::colSums(x = GetAssayData(object = LS_nal, slot = 'counts'))\n",
    "LS_nal[['percent.mito']] <- percent.mito"
   ]
  },
  {
   "cell_type": "code",
   "execution_count": null,
   "metadata": {},
   "outputs": [],
   "source": [
    "mito.features <- grep(pattern = \"^mt-\", x = rownames(x =LS_one_mor), value = TRUE)\n",
    "percent.mito <- Matrix::colSums(x = GetAssayData(object = LS_one_mor, slot = 'counts')[mito.features, ]) / Matrix::colSums(x = GetAssayData(object = LS_one_mor, slot = 'counts'))\n",
    "LS_one_mor[['percent.mito']] <- percent.mito"
   ]
  },
  {
   "cell_type": "code",
   "execution_count": null,
   "metadata": {},
   "outputs": [],
   "source": [
    "mito.features <- grep(pattern = \"^mt-\", x = rownames(x =LS_nal_no_mor), value = TRUE)\n",
    "percent.mito <- Matrix::colSums(x = GetAssayData(object = LS_nal_no_mor, slot = 'counts')[mito.features, ]) / Matrix::colSums(x = GetAssayData(object = LS_nal_no_mor, slot = 'counts'))\n",
    "LS_nal_no_mor[['percent.mito']] <- percent.mito"
   ]
  },
  {
   "cell_type": "markdown",
   "metadata": {},
   "source": [
    "#### Sample normalization using scTransform, followed by dimensionality reduction and clustering"
   ]
  },
  {
   "cell_type": "code",
   "execution_count": null,
   "metadata": {},
   "outputs": [],
   "source": [
    "library('sctransform')"
   ]
  },
  {
   "cell_type": "code",
   "execution_count": null,
   "metadata": {},
   "outputs": [],
   "source": [
    "LS.list<-objects()\n",
    "LS.list$LS_sal<-LS_sal\n",
    "LS.list$LS_mor<-LS_mor\n",
    "LS.list$LS_nal<-LS_nal\n",
    "LS.list$LS_one_mor<-LS_one_mor\n",
    "LS.list$LS_nal_no_mor<-LS_nal_no_mor"
   ]
  },
  {
   "cell_type": "code",
   "execution_count": null,
   "metadata": {},
   "outputs": [],
   "source": [
    "reference.list <- LS.list[c(\"LS_sal\",\"LS_mor\",\"LS_nal\",\"LS_one_mor\",\"LS_nal_no_mor\")]"
   ]
  },
  {
   "cell_type": "code",
   "execution_count": null,
   "metadata": {},
   "outputs": [],
   "source": [
    "reference.list <- lapply(X = reference.list, FUN = SCTransform)"
   ]
  },
  {
   "cell_type": "code",
   "execution_count": null,
   "metadata": {},
   "outputs": [],
   "source": [
    "features <- SelectIntegrationFeatures(object.list = reference.list, nfeatures = 3000)"
   ]
  },
  {
   "cell_type": "code",
   "execution_count": null,
   "metadata": {},
   "outputs": [],
   "source": [
    "reference.list <- PrepSCTIntegration(object.list = reference.list, anchor.features = features)"
   ]
  },
  {
   "cell_type": "code",
   "execution_count": null,
   "metadata": {},
   "outputs": [],
   "source": [
    "LS.anchors <- FindIntegrationAnchors(object.list = reference.list, normalization.method = \"SCT\",\n",
    "    anchor.features = features)"
   ]
  },
  {
   "cell_type": "code",
   "execution_count": null,
   "metadata": {},
   "outputs": [],
   "source": [
    "LS.integrated <- IntegrateData(anchorset = LS.anchors, normalization.method = \"SCT\")"
   ]
  },
  {
   "cell_type": "code",
   "execution_count": null,
   "metadata": {},
   "outputs": [],
   "source": [
    "LS.integrated <- RunPCA(LS.integrated, verbose = FALSE, dims=1:30)"
   ]
  },
  {
   "cell_type": "code",
   "execution_count": null,
   "metadata": {},
   "outputs": [],
   "source": [
    "LS.integrated <- RunUMAP(LS.integrated, reduction = \"pca\", dims = 1:30)"
   ]
  },
  {
   "cell_type": "code",
   "execution_count": null,
   "metadata": {},
   "outputs": [],
   "source": [
    "library(ggplot2)\n",
    "library(cowplot)"
   ]
  },
  {
   "cell_type": "code",
   "execution_count": null,
   "metadata": {},
   "outputs": [],
   "source": [
    "DimPlot(object = LS.integrated, reduction = \"umap\", group.by = \"stim\", repel = TRUE, pt.size = 0.20, label.size=2.5) +\n",
    "theme_classic() + \n",
    "theme(plot.title=element_blank(),\n",
    "     axis.line=element_blank(),\n",
    "     axis.text=element_blank(),\n",
    "     axis.title=element_blank(),\n",
    "     axis.ticks=element_blank())\n",
    "ggsave(file=\"C:/Users/stuberadmin/Documents/scRNAseq/211119-RS-rv4/Neurons_only_iter2/Neurons_int_umap.png\",width=6,height=4)\n",
    "ggsave(file=\"C:/Users/stuberadmin/Documents/scRNAseq/211119-RS-rv4/Neurons_only_iter2/Neurons_int_umap.svg\")"
   ]
  },
  {
   "cell_type": "code",
   "execution_count": null,
   "metadata": {},
   "outputs": [],
   "source": [
    "saveRDS(LS.integrated, file='C:/Users/stuberadmin/Documents/scRNAseq/211119-RS-rv4/Neurons_only_iter2/LS.integrated_PCA')"
   ]
  },
  {
   "cell_type": "markdown",
   "metadata": {},
   "source": [
    "#### Identifying suitable number of final cell clusters"
   ]
  },
  {
   "cell_type": "code",
   "execution_count": 44,
   "metadata": {},
   "outputs": [],
   "source": [
    "LS.integrated <- readRDS(file=\"C:/Users/stuberadmin/Documents/scRNAseq/211119-RS-rV4/Neurons_only_iter2/LS.integrated_PCA\")"
   ]
  },
  {
   "cell_type": "code",
   "execution_count": 45,
   "metadata": {},
   "outputs": [
    {
     "name": "stderr",
     "output_type": "stream",
     "text": [
      "Computing nearest neighbor graph\n",
      "\n",
      "Computing SNN\n",
      "\n"
     ]
    }
   ],
   "source": [
    "LS.integrated <- FindNeighbors(object = LS.integrated, dims=1:30)"
   ]
  },
  {
   "cell_type": "code",
   "execution_count": null,
   "metadata": {},
   "outputs": [],
   "source": [
    "LS.integrated <- FindClusters(LS.integrated, resolution = 0.2, dims.use = 1:30)"
   ]
  },
  {
   "cell_type": "code",
   "execution_count": 34,
   "metadata": {},
   "outputs": [
    {
     "name": "stderr",
     "output_type": "stream",
     "text": [
      "Warning message:\n",
      "\"The following arguments are not used: dims.use\"\n",
      "Suggested parameter: dims instead of dims.use\n",
      "\n",
      "\n",
      "Warning message:\n",
      "\"The following arguments are not used: dims.use\"\n",
      "Suggested parameter: dims instead of dims.use\n",
      "\n",
      "\n"
     ]
    },
    {
     "name": "stdout",
     "output_type": "stream",
     "text": [
      "Modularity Optimizer version 1.3.0 by Ludo Waltman and Nees Jan van Eck\n",
      "\n",
      "Number of nodes: 25607\n",
      "Number of edges: 976798\n",
      "\n",
      "Running Louvain algorithm...\n",
      "Maximum modularity in 10 random starts: 0.9773\n",
      "Number of communities: 7\n",
      "Elapsed time: 2 seconds\n"
     ]
    }
   ],
   "source": [
    "LS.integrated <- FindClusters(LS.integrated, resolution = 0.05, dims.use = 1:30)"
   ]
  },
  {
   "cell_type": "code",
   "execution_count": 46,
   "metadata": {},
   "outputs": [
    {
     "name": "stderr",
     "output_type": "stream",
     "text": [
      "Computing nearest neighbor graph\n",
      "\n",
      "Computing SNN\n",
      "\n"
     ]
    }
   ],
   "source": [
    "LS.integrated <- FindNeighbors(object = LS.integrated, dims=1:30)"
   ]
  },
  {
   "cell_type": "code",
   "execution_count": 4,
   "metadata": {},
   "outputs": [],
   "source": [
    "set.seed(5)"
   ]
  },
  {
   "cell_type": "code",
   "execution_count": 47,
   "metadata": {
    "scrolled": true
   },
   "outputs": [
    {
     "name": "stderr",
     "output_type": "stream",
     "text": [
      "Warning message:\n",
      "\"The following arguments are not used: dims.use\"\n",
      "Suggested parameter: dims instead of dims.use\n",
      "\n",
      "\n",
      "Warning message:\n",
      "\"The following arguments are not used: dims.use\"\n",
      "Suggested parameter: dims instead of dims.use\n",
      "\n",
      "\n"
     ]
    },
    {
     "name": "stdout",
     "output_type": "stream",
     "text": [
      "Modularity Optimizer version 1.3.0 by Ludo Waltman and Nees Jan van Eck\n",
      "\n",
      "Number of nodes: 25607\n",
      "Number of edges: 976798\n",
      "\n",
      "Running Louvain algorithm...\n",
      "Maximum modularity in 10 random starts: 0.9916\n",
      "Number of communities: 3\n",
      "Elapsed time: 2 seconds\n"
     ]
    },
    {
     "name": "stderr",
     "output_type": "stream",
     "text": [
      "Warning message:\n",
      "\"The following arguments are not used: dims.use\"\n",
      "Suggested parameter: dims instead of dims.use\n",
      "\n",
      "\n",
      "Warning message:\n",
      "\"The following arguments are not used: dims.use\"\n",
      "Suggested parameter: dims instead of dims.use\n",
      "\n",
      "\n"
     ]
    },
    {
     "name": "stdout",
     "output_type": "stream",
     "text": [
      "Modularity Optimizer version 1.3.0 by Ludo Waltman and Nees Jan van Eck\n",
      "\n",
      "Number of nodes: 25607\n",
      "Number of edges: 976798\n",
      "\n",
      "Running Louvain algorithm...\n",
      "Maximum modularity in 10 random starts: 0.9835\n",
      "Number of communities: 5\n",
      "Elapsed time: 2 seconds\n"
     ]
    },
    {
     "name": "stderr",
     "output_type": "stream",
     "text": [
      "Warning message:\n",
      "\"The following arguments are not used: dims.use\"\n",
      "Suggested parameter: dims instead of dims.use\n",
      "\n",
      "\n",
      "Warning message:\n",
      "\"The following arguments are not used: dims.use\"\n",
      "Suggested parameter: dims instead of dims.use\n",
      "\n",
      "\n"
     ]
    },
    {
     "name": "stdout",
     "output_type": "stream",
     "text": [
      "Modularity Optimizer version 1.3.0 by Ludo Waltman and Nees Jan van Eck\n",
      "\n",
      "Number of nodes: 25607\n",
      "Number of edges: 976798\n",
      "\n",
      "Running Louvain algorithm...\n",
      "Maximum modularity in 10 random starts: 0.9773\n",
      "Number of communities: 7\n",
      "Elapsed time: 2 seconds\n"
     ]
    },
    {
     "name": "stderr",
     "output_type": "stream",
     "text": [
      "Warning message:\n",
      "\"The following arguments are not used: dims.use\"\n",
      "Suggested parameter: dims instead of dims.use\n",
      "\n",
      "\n",
      "Warning message:\n",
      "\"The following arguments are not used: dims.use\"\n",
      "Suggested parameter: dims instead of dims.use\n",
      "\n",
      "\n"
     ]
    },
    {
     "name": "stdout",
     "output_type": "stream",
     "text": [
      "Modularity Optimizer version 1.3.0 by Ludo Waltman and Nees Jan van Eck\n",
      "\n",
      "Number of nodes: 25607\n",
      "Number of edges: 976798\n",
      "\n",
      "Running Louvain algorithm...\n",
      "Maximum modularity in 10 random starts: 0.9709\n",
      "Number of communities: 11\n",
      "Elapsed time: 2 seconds\n"
     ]
    },
    {
     "name": "stderr",
     "output_type": "stream",
     "text": [
      "Warning message:\n",
      "\"The following arguments are not used: dims.use\"\n",
      "Suggested parameter: dims instead of dims.use\n",
      "\n",
      "\n",
      "Warning message:\n",
      "\"The following arguments are not used: dims.use\"\n",
      "Suggested parameter: dims instead of dims.use\n",
      "\n",
      "\n"
     ]
    },
    {
     "name": "stdout",
     "output_type": "stream",
     "text": [
      "Modularity Optimizer version 1.3.0 by Ludo Waltman and Nees Jan van Eck\n",
      "\n",
      "Number of nodes: 25607\n",
      "Number of edges: 976798\n",
      "\n",
      "Running Louvain algorithm...\n",
      "Maximum modularity in 10 random starts: 0.9660\n",
      "Number of communities: 13\n",
      "Elapsed time: 2 seconds\n"
     ]
    },
    {
     "name": "stderr",
     "output_type": "stream",
     "text": [
      "Warning message:\n",
      "\"The following arguments are not used: dims.use\"\n",
      "Suggested parameter: dims instead of dims.use\n",
      "\n",
      "\n",
      "Warning message:\n",
      "\"The following arguments are not used: dims.use\"\n",
      "Suggested parameter: dims instead of dims.use\n",
      "\n",
      "\n"
     ]
    },
    {
     "name": "stdout",
     "output_type": "stream",
     "text": [
      "Modularity Optimizer version 1.3.0 by Ludo Waltman and Nees Jan van Eck\n",
      "\n",
      "Number of nodes: 25607\n",
      "Number of edges: 976798\n",
      "\n",
      "Running Louvain algorithm...\n",
      "Maximum modularity in 10 random starts: 0.9617\n",
      "Number of communities: 14\n",
      "Elapsed time: 2 seconds\n"
     ]
    }
   ],
   "source": [
    "#For clustree analysis\n",
    "LS.integrated <- FindClusters(LS.integrated, resolution = 0.01, dims.use = 1:30)\n",
    "LS.integrated <- FindClusters(LS.integrated, resolution = 0.025, dims.use = 1:30)\n",
    "LS.integrated <- FindClusters(LS.integrated, resolution = 0.05, dims.use = 1:30)\n",
    "LS.integrated <- FindClusters(LS.integrated, resolution = 0.10, dims.use = 1:30)\n",
    "LS.integrated <- FindClusters(LS.integrated, resolution = 0.15, dims.use = 1:30)\n",
    "LS.integrated <- FindClusters(LS.integrated, resolution = 0.20, dims.use = 1:30)"
   ]
  },
  {
   "cell_type": "code",
   "execution_count": 25,
   "metadata": {
    "scrolled": false
   },
   "outputs": [
    {
     "name": "stderr",
     "output_type": "stream",
     "text": [
      "Warning message:\n",
      "\"`guides(<scale> = FALSE)` is deprecated. Please use `guides(<scale> = \"none\")` instead.\"\n"
     ]
    },
    {
     "data": {
      "image/png": "[encoded data removed]",
      "text/plain": [
       "plot without title"
      ]
     },
     "metadata": {
      "image/png": {
       "height": 420,
       "width": 420
      }
     },
     "output_type": "display_data"
    }
   ],
   "source": [
    "clustree(LS.integrated@meta.data, prefix = \"integrated_snn_res.\", legend.position='bottom', edge_width = 0.5, node_size_range=c(3,10),node_text_size = 2, layout='tree') +\n",
    "guides(edge_colour = FALSE, edge_alpha = FALSE, fill=guide_legend(title=\"resolution\")) +\n",
    "theme(plot.title=element_text(size=10))+\n",
    "ggtitle('Resolution analysis')\n",
    "ggsave(file=\"C:/Users/stuberadmin/Documents/scRNAseq/211119-RS-rV4/Neurons_only_iter2/resolution_clustree.pdf\",width=6,height=5)"
   ]
  },
  {
   "cell_type": "code",
   "execution_count": 67,
   "metadata": {},
   "outputs": [
    {
     "data": {
      "image/png": "[encoded data removed]",
      "text/plain": [
       "plot without title"
      ]
     },
     "metadata": {
      "image/png": {
       "height": 420,
       "width": 420
      }
     },
     "output_type": "display_data"
    }
   ],
   "source": [
    "DimPlot(object = LS.integrated, reduction = \"umap\", group.by = \"integrated_snn_res.0.01\", label = TRUE, repel = TRUE, pt.size = 1, cells.highlight=c(Glu1_barcode, Glu2_barcode, Gaba1_barcode), cols.highlight=c('#4392FE', 'red')) +\n",
    "theme_classic() + \n",
    "NoLegend()+\n",
    "theme(plot.title=element_blank(),\n",
    "     axis.line=element_blank(),\n",
    "     axis.text=element_blank(),\n",
    "     axis.title=element_blank(),\n",
    "     axis.ticks=element_blank())\n",
    "#ggsave(file=\"C:/Users/stuberadmin/Documents/scRNAseq/211119-RS-rv4/Neurons_only_iter2/Neurons_umap_number_res001.pdf\",width=10,height=10)\n",
    "#ggsave(file=\"C:/Users/stuberadmin/Documents/scRNAseq/211119-RS-rv4/Neurons_only_iter2/Neurons_umap_number_res001.png\",width=10,height=10)"
   ]
  },
  {
   "cell_type": "code",
   "execution_count": 54,
   "metadata": {},
   "outputs": [
    {
     "data": {
      "image/png": "[encoded data removed]",
      "text/plain": [
       "plot without title"
      ]
     },
     "metadata": {
      "image/png": {
       "height": 420,
       "width": 420
      }
     },
     "output_type": "display_data"
    }
   ],
   "source": [
    "DimPlot(object = LS.integrated, reduction = \"umap\", group.by = \"integrated_snn_res.0.025\", label = TRUE, repel = TRUE, pt.size = 1) +\n",
    "theme_classic() + \n",
    "NoLegend()+\n",
    "theme(plot.title=element_blank(),\n",
    "     axis.line=element_blank(),\n",
    "     axis.text=element_blank(),\n",
    "     axis.title=element_blank(),\n",
    "     axis.ticks=element_blank())\n",
    "ggsave(file=\"C:/Users/stuberadmin/Documents/scRNAseq/211119-RS-rv4/Neurons_only_iter2/Neurons_umap_number_res0025.pdf\",width=10,height=10)\n",
    "ggsave(file=\"C:/Users/stuberadmin/Documents/scRNAseq/211119-RS-rv4/Neurons_only_iter2/Neurons_umap_number_res0025.png\",width=10,height=10)"
   ]
  },
  {
   "cell_type": "code",
   "execution_count": 55,
   "metadata": {},
   "outputs": [
    {
     "data": {
      "image/png": "[encoded data removed]",
      "text/plain": [
       "plot without title"
      ]
     },
     "metadata": {
      "image/png": {
       "height": 420,
       "width": 420
      }
     },
     "output_type": "display_data"
    }
   ],
   "source": [
    "DimPlot(object = LS.integrated, reduction = \"umap\", group.by = \"integrated_snn_res.0.05\", label = TRUE, repel = TRUE, pt.size = 1) +\n",
    "theme_classic() + \n",
    "NoLegend()+\n",
    "theme(plot.title=element_blank(),\n",
    "     axis.line=element_blank(),\n",
    "     axis.text=element_blank(),\n",
    "     axis.title=element_blank(),\n",
    "     axis.ticks=element_blank())\n",
    "ggsave(file=\"C:/Users/stuberadmin/Documents/scRNAseq/211119-RS-rv4/Neurons_only_iter2/Neurons_umap_number_res05.pdf\",width=10,height=10)\n",
    "ggsave(file=\"C:/Users/stuberadmin/Documents/scRNAseq/211119-RS-rv4/Neurons_only_iter2/Neurons_umap_number_res05.png\",width=10,height=10)"
   ]
  },
  {
   "cell_type": "code",
   "execution_count": 56,
   "metadata": {},
   "outputs": [
    {
     "data": {
      "image/png": "[encoded data removed]",
      "text/plain": [
       "plot without title"
      ]
     },
     "metadata": {
      "image/png": {
       "height": 420,
       "width": 420
      }
     },
     "output_type": "display_data"
    }
   ],
   "source": [
    "DimPlot(object = LS.integrated, reduction = \"umap\", group.by = \"integrated_snn_res.0.1\", label = TRUE, repel = TRUE, pt.size = 1) +\n",
    "theme_classic() + \n",
    "NoLegend()+\n",
    "theme(plot.title=element_blank(),\n",
    "     axis.line=element_blank(),\n",
    "     axis.text=element_blank(),\n",
    "     axis.title=element_blank(),\n",
    "     axis.ticks=element_blank())\n",
    "ggsave(file=\"C:/Users/stuberadmin/Documents/scRNAseq/211119-RS-rv4/Neurons_only_iter2/Neurons_umap_number_res01.pdf\",width=10,height=10)\n",
    "ggsave(file=\"C:/Users/stuberadmin/Documents/scRNAseq/211119-RS-rv4/Neurons_only_iter2/Neurons_umap_number_res01.png\",width=10,height=10)"
   ]
  },
  {
   "cell_type": "code",
   "execution_count": 57,
   "metadata": {},
   "outputs": [
    {
     "data": {
      "image/png": "[encoded data removed]",
      "text/plain": [
       "plot without title"
      ]
     },
     "metadata": {
      "image/png": {
       "height": 420,
       "width": 420
      }
     },
     "output_type": "display_data"
    }
   ],
   "source": [
    "DimPlot(object = LS.integrated, reduction = \"umap\", group.by = \"integrated_snn_res.0.15\", label = TRUE, repel = TRUE, pt.size = 1) +\n",
    "theme_classic() + \n",
    "NoLegend()+\n",
    "theme(plot.title=element_blank(),\n",
    "     axis.line=element_blank(),\n",
    "     axis.text=element_blank(),\n",
    "     axis.title=element_blank(),\n",
    "     axis.ticks=element_blank())\n",
    "ggsave(file=\"C:/Users/stuberadmin/Documents/scRNAseq/211119-RS-rv4/Neurons_only_iter2/Neurons_umap_number_res015.pdf\",width=10,height=10)\n",
    "ggsave(file=\"C:/Users/stuberadmin/Documents/scRNAseq/211119-RS-rv4/Neurons_only_iter2/Neurons_umap_number_res015.png\",width=10,height=10)"
   ]
  },
  {
   "cell_type": "code",
   "execution_count": 19,
   "metadata": {},
   "outputs": [
    {
     "data": {
      "image/png": "[encoded data removed]",
      "text/plain": [
       "plot without title"
      ]
     },
     "metadata": {
      "image/png": {
       "height": 420,
       "width": 420
      }
     },
     "output_type": "display_data"
    }
   ],
   "source": [
    "DimPlot(object = LS.integrated, reduction = \"umap\", group.by = \"integrated_snn_res.0.2\", label = TRUE, repel = TRUE, pt.size = 0.65) +\n",
    "theme_classic() + \n",
    "NoLegend()+\n",
    "theme(plot.title=element_blank(),\n",
    "     axis.line=element_blank(),\n",
    "     axis.text=element_blank(),\n",
    "     axis.title=element_blank(),\n",
    "     axis.ticks=element_blank())\n",
    "#ggsave(file=\"C:/Users/stuberadmin/Documents/scRNAseq/211119-RS-rv4/Neurons_only_iter2/Neurons_umap_number.pdf\",width=10,height=10)\n",
    "#ggsave(file=\"C:/Users/stuberadmin/Documents/scRNAseq/211119-RS-rv4/Neurons_only_iter2/Neurons_umap_number.png\",width=10,height=10)"
   ]
  },
  {
   "cell_type": "code",
   "execution_count": null,
   "metadata": {},
   "outputs": [],
   "source": [
    "DimPlot(object = LS.integrated, reduction = \"umap\", group.by = \"integrated_snn_res.0.2\", label = TRUE, repel = TRUE, pt.size = 0.65) +\n",
    "theme_classic() + \n",
    "NoLegend()+\n",
    "theme(plot.title=element_blank(),\n",
    "     axis.line=element_blank(),\n",
    "     axis.text=element_blank(),\n",
    "     axis.title=element_blank(),\n",
    "     axis.ticks=element_blank())\n",
    "ggsave(file=\"C:/Users/stuberadmin/Documents/scRNAseq/211119-RS-rv4/Neurons_only_iter2/Neurons_umap_number.pdf\",width=10,height=10)\n",
    "ggsave(file=\"C:/Users/stuberadmin/Documents/scRNAseq/211119-RS-rv4/Neurons_only_iter2/Neurons_umap_number.png\",width=10,height=10)"
   ]
  },
  {
   "cell_type": "code",
   "execution_count": null,
   "metadata": {},
   "outputs": [],
   "source": [
    "DefaultAssay(LS.integrated) <- \"RNA\""
   ]
  },
  {
   "cell_type": "code",
   "execution_count": null,
   "metadata": {},
   "outputs": [],
   "source": [
    "#  gaba\n",
    "F<-FeaturePlot(object =LS.integrated, features = c(\"Slc32a1\",\"Slc17a6\",\"Slc17a7\",\"Slc18a2\"))\n",
    "ggsave(file=\"C:/Users/stuberadmin/Documents/scRNAseq/211119-RS-rv4/Neurons_only_iter2/feature_plots/feature_selection_vesicletransporters.pdf\",width=10,height=10)\n",
    "#ggsave(file=\"/Users/stuberadmin/Documents/scRNAseq/191204/Neurons_only_iter3/feature_selection_vesicletransporters.svg\")"
   ]
  },
  {
   "cell_type": "markdown",
   "metadata": {},
   "source": [
    "Saving final .rds files for further analysis"
   ]
  },
  {
   "cell_type": "code",
   "execution_count": null,
   "metadata": {},
   "outputs": [],
   "source": [
    "saveRDS(LS.integrated, file = \"C:/Users/stuberadmin/Documents/scRNAseq/211119-RS-rv4/Neurons_only_iter2/LS_integrated.rds\")\n",
    "saveRDS(LS_sal, file = \"C:/Users/stuberadmin/Documents/scRNAseq/211119-RS-rv4/Neurons_only_iter2/LS_sal.rds\")\n",
    "saveRDS(LS_mor, file = \"C:/Users/stuberadmin/Documents/scRNAseq/211119-RS-rv4/Neurons_only_iter2/LS_mor.rds\")\n",
    "saveRDS(LS_nal, file = \"C:/Users/stuberadmin/Documents/scRNAseq/211119-RS-rv4/Neurons_only_iter2/LS_nal.rds\")\n",
    "saveRDS(LS_one_mor, file = \"C:/Users/stuberadmin/Documents/scRNAseq/211119-RS-rv4/Neurons_only_iter2/LS_one_mor.rds\")\n",
    "saveRDS(LS_nal_no_mor, file = \"C:/Users/stuberadmin/Documents/scRNAseq/211119-RS-rv4/Neurons_only_iter2/LS_nal_no_mor.rds\")"
   ]
  },
  {
   "cell_type": "code",
   "execution_count": null,
   "metadata": {},
   "outputs": [],
   "source": []
  },
  {
   "cell_type": "code",
   "execution_count": null,
   "metadata": {},
   "outputs": [],
   "source": []
  },
  {
   "cell_type": "code",
   "execution_count": null,
   "metadata": {},
   "outputs": [],
   "source": []
  },
  {
   "cell_type": "code",
   "execution_count": null,
   "metadata": {},
   "outputs": [],
   "source": []
  },
  {
   "cell_type": "code",
   "execution_count": null,
   "metadata": {},
   "outputs": [],
   "source": []
  },
  {
   "cell_type": "code",
   "execution_count": null,
   "metadata": {},
   "outputs": [],
   "source": []
  }
 ],
 "metadata": {
  "kernelspec": {
   "display_name": "R",
   "language": "R",
   "name": "ir"
  },
  "language_info": {
   "codemirror_mode": "r",
   "file_extension": ".r",
   "mimetype": "text/x-r-source",
   "name": "R",
   "pygments_lexer": "r",
   "version": "4.1.2"
  }
 },
 "nbformat": 4,
 "nbformat_minor": 2
}
