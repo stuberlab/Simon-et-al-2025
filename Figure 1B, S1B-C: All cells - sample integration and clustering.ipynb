{
 "cells": [
  {
   "cell_type": "markdown",
   "metadata": {},
   "source": [
    "## Sample integration and clustering"
   ]
  },
  {
   "cell_type": "markdown",
   "metadata": {},
   "source": [
    "https://satijalab.org/seurat/articles/get_started.html"
   ]
  },
  {
   "cell_type": "markdown",
   "metadata": {},
   "source": [
    "#### Import libraries"
   ]
  },
  {
   "cell_type": "code",
   "execution_count": 3,
   "metadata": {},
   "outputs": [
    {
     "name": "stderr",
     "output_type": "stream",
     "text": [
      "Attaching SeuratObject\n",
      "\n",
      "\n",
      "Attaching package: 'dplyr'\n",
      "\n",
      "\n",
      "The following objects are masked from 'package:stats':\n",
      "\n",
      "    filter, lag\n",
      "\n",
      "\n",
      "The following objects are masked from 'package:base':\n",
      "\n",
      "    intersect, setdiff, setequal, union\n",
      "\n",
      "\n"
     ]
    },
    {
     "data": {
      "text/html": [
       "<style> .container { width:95% !important; } </style>"
      ]
     },
     "metadata": {},
     "output_type": "display_data"
    }
   ],
   "source": [
    "library(Seurat)\n",
    "library(dplyr)\n",
    "library(magrittr)\n",
    "library(xlsx)\n",
    "library(ggplot2)\n",
    "library(cowplot)\n",
    "library(forcats)\n",
    "library(reshape2)"
   ]
  },
  {
   "cell_type": "markdown",
   "metadata": {},
   "source": [
    "#### Load in files"
   ]
  },
  {
   "cell_type": "markdown",
   "metadata": {},
   "source": [
    "Saline (control) group"
   ]
  },
  {
   "cell_type": "code",
   "execution_count": null,
   "metadata": {},
   "outputs": [],
   "source": [
    "LS_sal.data <-Read10X(data.dir = \"/Users/stuberadmin/Documents/scRNAseq/201130/30-434124718/01_analysis/cellranger_count/LS-SAL-1/raw_feature_bc_matrix\")\n",
    "colnames(LS_sal.data) = paste0(colnames(LS_sal.data),\"LS_sal\")\n",
    "LS_sal<- CreateSeuratObject(counts = LS_sal.data, min.cells = 3, min.features = 200, project = \"10X_LS_morphine\")\n",
    "new_LS_barcodes <- gsub(\"-1\",\"\",colnames(LS_sal))\n",
    "LS_sal <- RenameCells(LS_sal, new.names = new_LS_barcodes)\n",
    "LS_sal@meta.data$stim <- \"LS_sal\"\n",
    "\n",
    "LS_sal_clean<-rownames(read.table(file=\"/Users/stuberadmin/Documents/scRNAseq/201130/Doublet_processing/LS_sal/Final_nondoublets_groups_cntl.txt\"))\n",
    "LS_sal_doublet<-rownames(read.table(file=\"/Users/stuberadmin/Documents/scRNAseq/201130/Doublet_processing/LS_sal/Final_doublets_groups_cntl.txt\"))\n",
    "doubletrate_LS_sal<-100*length(LS_sal_doublet)/(length(LS_sal_clean)+length(LS_sal_doublet))\n",
    "doubletrate_LS_sal\n",
    "LS_sal<-subset(x=LS_sal,cells=LS_sal_clean)"
   ]
  },
  {
   "cell_type": "markdown",
   "metadata": {},
   "source": [
    "Chronic morphine group"
   ]
  },
  {
   "cell_type": "code",
   "execution_count": null,
   "metadata": {},
   "outputs": [],
   "source": [
    "LS_mor.data <-Read10X(data.dir = \"/Users/stuberadmin/Documents/scRNAseq/201130/30-434124718/01_analysis/cellranger_count/LS-MOR-1/raw_feature_bc_matrix\")\n",
    "colnames(LS_mor.data) = paste0(colnames(LS_mor.data),\"LS_mor\")\n",
    "LS_mor<- CreateSeuratObject(counts = LS_mor.data, min.cells = 3, min.features = 200, project = \"10X_LS_morphine\")\n",
    "new_LS_barcodes <- gsub(\"-1\",\"\",colnames(LS_mor))\n",
    "LS_mor <- RenameCells(LS_mor, new.names = new_LS_barcodes)\n",
    "LS_mor@meta.data$stim <- \"LS_mor\"\n",
    "\n",
    "LS_mor_clean<-rownames(read.table(file=\"/Users/stuberadmin/Documents/scRNAseq/201130/Doublet_processing/LS_mor/Final_nondoublets_groups_cntl.txt\"))\n",
    "LS_mor_doublet<-rownames(read.table(file=\"/Users/stuberadmin/Documents/scRNAseq/201130/Doublet_processing/LS_mor/Final_doublets_groups_cntl.txt\"))\n",
    "doubletrate_LS_mor<-100*length(LS_mor_doublet)/(length(LS_mor_clean)+length(LS_mor_doublet))\n",
    "doubletrate_LS_mor\n",
    "LS_mor<-subset(x=LS_mor,cells=LS_mor_clean)"
   ]
  },
  {
   "cell_type": "markdown",
   "metadata": {},
   "source": [
    "Precipitated withdrawal group"
   ]
  },
  {
   "cell_type": "code",
   "execution_count": null,
   "metadata": {},
   "outputs": [],
   "source": [
    "LS_nal.data <-Read10X(data.dir = \"/Users/stuberadmin/Documents/scRNAseq/201130/30-434124718/01_analysis/cellranger_count/LS-NAL-1/raw_feature_bc_matrix\")\n",
    "colnames(LS_nal.data) = paste0(colnames(LS_nal.data),\"LS_nal\")\n",
    "LS_nal<- CreateSeuratObject(counts = LS_nal.data, min.cells = 3, min.features = 200, project = \"10X_LS_morphine\")\n",
    "new_LS_barcodes <- gsub(\"-1\",\"\",colnames(LS_nal))\n",
    "LS_nal <- RenameCells(LS_nal, new.names = new_LS_barcodes)\n",
    "LS_nal@meta.data$stim <- \"LS_nal\"\n",
    "\n",
    "LS_nal_clean<-rownames(read.table(file=\"/Users/stuberadmin/Documents/scRNAseq/201130/Doublet_processing/LS_nal/Final_nondoublets_groups_cntl.txt\"))\n",
    "LS_nal_doublet<-rownames(read.table(file=\"/Users/stuberadmin/Documents/scRNAseq/201130/Doublet_processing/LS_nal/Final_doublets_groups_cntl.txt\"))\n",
    "doubletrate_LS_nal<-100*length(LS_nal_doublet)/(length(LS_nal_clean)+length(LS_nal_doublet))\n",
    "doubletrate_LS_nal\n",
    "LS_nal<-subset(x=LS_nal,cells=LS_nal_clean)"
   ]
  },
  {
   "cell_type": "markdown",
   "metadata": {},
   "source": [
    "Acute morphine group"
   ]
  },
  {
   "cell_type": "code",
   "execution_count": null,
   "metadata": {},
   "outputs": [],
   "source": [
    "LS_one_mor.data <-Read10X(data.dir = \"C:/Users/stuberadmin/Documents/scRNAseq/211119-RS/raw_data/Mor_single/analysis\")\n",
    "colnames(LS_one_mor.data) = paste0(colnames(LS_one_mor.data),\"LS_one_mor\")\n",
    "LS_one_mor<- CreateSeuratObject(counts = LS_one_mor.data, min.cells = 3, min.features = 200, project = \"10X_LS_morphine\")\n",
    "LS_one_mor@meta.data$stim <- \"LS_one_mor\"\n",
    "\n",
    "LS_one_mor_clean<-rownames(read.table(file=\"C:/Users/stuberadmin/Documents/scRNAseq/211119-RS/Doublet_processing/LS_one_mor/Final_nondoublets_groups_cntl.txt\"))\n",
    "LS_one_mor_doublet<-rownames(read.table(file=\"C:/Users/stuberadmin/Documents/scRNAseq/211119-RS/Doublet_processing/LS_one_mor/Final_doublets_groups_cntl.txt\"))\n",
    "doubletrate_LS_one_mor<-100*length(LS_one_mor_doublet)/(length(LS_one_mor_clean)+length(LS_one_mor_doublet))\n",
    "doubletrate_LS_one_mor"
   ]
  },
  {
   "cell_type": "markdown",
   "metadata": {},
   "source": [
    "Acute naloxone (drug-naive)"
   ]
  },
  {
   "cell_type": "code",
   "execution_count": null,
   "metadata": {},
   "outputs": [],
   "source": [
    "LS_nal_no_mor.data <-Read10X(data.dir = \"C:/Users/stuberadmin/Documents/scRNAseq/211119-RS/raw_data/Nal_no_mor/analysis\")\n",
    "colnames(LS_nal_no_mor.data) = paste0(colnames(LS_nal_no_mor.data),\"LS_nal_no_mor\")\n",
    "LS_nal_no_mor<- CreateSeuratObject(counts = LS_nal_no_mor.data, min.cells = 3, min.features = 200, project = \"10X_LS_morphine\")\n",
    "LS_nal_no_mor@meta.data$stim <- \"LS_nal_no_mor\"\n",
    "\n",
    "LS_nal_no_mor_clean<-rownames(read.table(file=\"C:/Users/stuberadmin/Documents/scRNAseq/211119-RS/Doublet_processing/LS_nal_no_mor/Final_nondoublets_groups_cntl.txt\"))\n",
    "LS_nal_no_mor_doublet<-rownames(read.table(file=\"C:/Users/stuberadmin/Documents/scRNAseq/211119-RS/Doublet_processing/LS_nal_no_mor/Final_doublets_groups_cntl.txt\"))\n",
    "doubletrate_LS_nal_no_mor<-100*length(LS_nal_no_mor_doublet)/(length(LS_nal_no_mor_clean)+length(LS_nal_no_mor_doublet))\n",
    "doubletrate_LS_nal_no_mor"
   ]
  },
  {
   "cell_type": "markdown",
   "metadata": {},
   "source": [
    "Adding %mitochondrial reads to metadata"
   ]
  },
  {
   "cell_type": "code",
   "execution_count": null,
   "metadata": {},
   "outputs": [],
   "source": [
    "mito.features <- grep(pattern = \"^mt-\", x = rownames(x =LS_sal), value = TRUE)\n",
    "percent.mito <- Matrix::colSums(x = GetAssayData(object = LS_sal, slot = 'counts')[mito.features, ]) / Matrix::colSums(x = GetAssayData(object = LS_sal, slot = 'counts'))\n",
    "LS_sal[['percent.mito']] <- percent.mito\n"
   ]
  },
  {
   "cell_type": "code",
   "execution_count": null,
   "metadata": {},
   "outputs": [],
   "source": [
    "mito.features <- grep(pattern = \"^mt-\", x = rownames(x =LS_mor), value = TRUE)\n",
    "percent.mito <- Matrix::colSums(x = GetAssayData(object = LS_mor, slot = 'counts')[mito.features, ]) / Matrix::colSums(x = GetAssayData(object =LS_mor, slot = 'counts'))\n",
    "LS_mor[['percent.mito']] <- percent.mito"
   ]
  },
  {
   "cell_type": "code",
   "execution_count": null,
   "metadata": {},
   "outputs": [],
   "source": [
    "mito.features <- grep(pattern = \"^mt-\", x = rownames(x =LS_nal), value = TRUE)\n",
    "percent.mito <- Matrix::colSums(x = GetAssayData(object = LS_nal, slot = 'counts')[mito.features, ]) / Matrix::colSums(x = GetAssayData(object = LS_nal, slot = 'counts'))\n",
    "LS_nal[['percent.mito']] <- percent.mito"
   ]
  },
  {
   "cell_type": "code",
   "execution_count": null,
   "metadata": {},
   "outputs": [],
   "source": [
    "mito.features <- grep(pattern = \"^mt-\", x = rownames(x =LS_one_mor), value = TRUE)\n",
    "percent.mito <- Matrix::colSums(x = GetAssayData(object = LS_one_mor, slot = 'counts')[mito.features, ]) / Matrix::colSums(x = GetAssayData(object = LS_one_mor, slot = 'counts'))\n",
    "LS_one_mor[['percent.mito']] <- percent.mito"
   ]
  },
  {
   "cell_type": "code",
   "execution_count": null,
   "metadata": {},
   "outputs": [],
   "source": [
    "mito.features <- grep(pattern = \"^mt-\", x = rownames(x =LS_nal_no_mor), value = TRUE)\n",
    "percent.mito <- Matrix::colSums(x = GetAssayData(object = LS_nal_no_mor, slot = 'counts')[mito.features, ]) / Matrix::colSums(x = GetAssayData(object = LS_nal_no_mor, slot = 'counts'))\n",
    "LS_nal_no_mor[['percent.mito']] <- percent.mito"
   ]
  },
  {
   "cell_type": "code",
   "execution_count": null,
   "metadata": {},
   "outputs": [],
   "source": [
    "LS_sal <- subset(x = LS_sal, subset = nCount_RNA > 500 & nCount_RNA < 25000 & percent.mito < 0.1)\n",
    "LS_mor<- subset(x = LS_mor, subset = nCount_RNA > 500 & nCount_RNA < 25000 & percent.mito < 0.1)\n",
    "LS_nal <- subset(x = LS_nal, subset = nCount_RNA > 500 & nCount_RNA < 25000 & percent.mito < 0.1)"
   ]
  },
  {
   "cell_type": "markdown",
   "metadata": {},
   "source": [
    "#### Sample normalization, integration, dimensionality reduction, and clustering"
   ]
  },
  {
   "cell_type": "code",
   "execution_count": null,
   "metadata": {},
   "outputs": [],
   "source": [
    "LS_sal<- NormalizeData(object = LS_sal,verbose = FALSE) \n",
    "LS_mor<- NormalizeData(object = LS_mor,verbose = FALSE) \n",
    "LS_nal<- NormalizeData(object = LS_nal,verbose = FALSE) \n",
    "LS_one_mor<- NormalizeData(object = LS_one_mor,verbose = FALSE) \n",
    "LS_nal_no_mor<- NormalizeData(object = LS_nal_no_mor,verbose = FALSE) "
   ]
  },
  {
   "cell_type": "code",
   "execution_count": null,
   "metadata": {
    "scrolled": true
   },
   "outputs": [],
   "source": [
    "LS_sal<- FindVariableFeatures(object =LS_sal,selection.method = \"vst\", nfeatures = 2000, verbose = FALSE)\n",
    "length(x = VariableFeatures(object = LS_sal))\n",
    "LS_mor<- FindVariableFeatures(object =LS_mor,selection.method = \"vst\", nfeatures = 2000, verbose = FALSE)\n",
    "length(x = VariableFeatures(object =LS_mor))\n",
    "LS_nal<- FindVariableFeatures(object =LS_nal,selection.method = \"vst\", nfeatures = 2000, verbose = FALSE)\n",
    "length(x = VariableFeatures(object = LS_nal))\n",
    "LS_one_mor<- FindVariableFeatures(object =LS_one_mor,selection.method = \"vst\", nfeatures = 2000, verbose = FALSE)\n",
    "length(x = VariableFeatures(object = LS_one_mor))\n",
    "LS_nal_no_mor<- FindVariableFeatures(object =LS_nal_no_mor,selection.method = \"vst\", nfeatures = 2000, verbose = FALSE)\n",
    "length(x = VariableFeatures(object = LS_nal_no_mor))"
   ]
  },
  {
   "cell_type": "code",
   "execution_count": null,
   "metadata": {},
   "outputs": [],
   "source": [
    "LS.list<-objects()\n",
    "LS.list$LS_sal<-LS_sal\n",
    "LS.list$LS_mor<-LS_mor\n",
    "LS.list$LS_nal<-LS_nal\n",
    "LS.list$LS_one_mor<-LS_one_mor\n",
    "LS.list$LS_nal_no_mor<-LS_nal_no_mor"
   ]
  },
  {
   "cell_type": "code",
   "execution_count": null,
   "metadata": {},
   "outputs": [],
   "source": [
    "reference.list <- LS.list[c(\"LS_sal\",\"LS_mor\",\"LS_nal\",\"LS_one_mor\",\"LS_nal_no_mor\")]\n",
    "LS.anchors <- FindIntegrationAnchors(object.list = reference.list, dims = 1:30) "
   ]
  },
  {
   "cell_type": "code",
   "execution_count": null,
   "metadata": {},
   "outputs": [],
   "source": [
    "LS.integrated <- IntegrateData(anchorset = LS.anchors, dims = 1:30)"
   ]
  },
  {
   "cell_type": "code",
   "execution_count": null,
   "metadata": {},
   "outputs": [],
   "source": [
    "DefaultAssay(object = LS.integrated) <- \"integrated\" "
   ]
  },
  {
   "cell_type": "code",
   "execution_count": null,
   "metadata": {},
   "outputs": [],
   "source": [
    "LS.integrated <- ScaleData(object = LS.integrated, , vars.to.regress = c(\"nCount_RNA\", \"percent.mito\"),verbose = FALSE)"
   ]
  },
  {
   "cell_type": "code",
   "execution_count": null,
   "metadata": {},
   "outputs": [],
   "source": [
    "LS.integrated <- RunPCA(object = LS.integrated, npcs = 30, verbose = FALSE)"
   ]
  },
  {
   "cell_type": "code",
   "execution_count": null,
   "metadata": {},
   "outputs": [],
   "source": [
    "LS.integrated <- RunUMAP(object = LS.integrated, reduction = \"pca\", dims = 1:30)"
   ]
  },
  {
   "cell_type": "code",
   "execution_count": null,
   "metadata": {},
   "outputs": [],
   "source": [
    "p1 <- DimPlot(object = LS.integrated, reduction = \"umap\", group.by = \"stim\")\n",
    "plot_grid(p1)\n",
    "ggsave(file=\"C:/Users/stuberadmin/Documents/scRNAseq/211119-RS/All_cells/allcell_umap.pdf\",width=10,height=10)\n",
    "ggsave(file=\"C:/Users/stuberadmin/Documents/scRNAseq/211119-RS/All_cells/allcell_umap.png\",width=10,height=10)"
   ]
  },
  {
   "cell_type": "code",
   "execution_count": null,
   "metadata": {
    "scrolled": true
   },
   "outputs": [],
   "source": [
    "LS.integrated <- FindNeighbors(object = LS.integrated, dims=1:30)"
   ]
  },
  {
   "cell_type": "code",
   "execution_count": null,
   "metadata": {},
   "outputs": [],
   "source": [
    "LS.integrated <- FindClusters(LS.integrated, resolution = 0.5, dims.use = 1:30, graph.name = \"integrated_snn\")"
   ]
  },
  {
   "cell_type": "markdown",
   "metadata": {},
   "source": [
    "Save .rds files"
   ]
  },
  {
   "cell_type": "code",
   "execution_count": null,
   "metadata": {},
   "outputs": [],
   "source": [
    "saveRDS(LS.integrated, file = \"C:/Users/stuberadmin/Documents/scRNAseq/211119-RS/All_cells/LS_integrated.rds\")\n",
    "saveRDS(LS_sal, file = \"C:/Users/stuberadmin/Documents/scRNAseq/211119-RS/All_cells/LS_sal.rds\")\n",
    "saveRDS(LS_mor, file = \"C:/Users/stuberadmin/Documents/scRNAseq/211119-RS/All_cells/LS_mor.rds\")\n",
    "saveRDS(LS_nal, file = \"C:/Users/stuberadmin/Documents/scRNAseq/211119-RS/All_cells/LS_nal.rds\")\n",
    "saveRDS(LS_one_mor, file = \"C:/Users/stuberadmin/Documents/scRNAseq/211119-RS/All_cells/LS_one_mor.rds\")\n",
    "saveRDS(LS_nal_no_mor, file = \"C:/Users/stuberadmin/Documents/scRNAseq/211119-RS/All_cells/LS_nal_no_mor.rds\")"
   ]
  },
  {
   "cell_type": "markdown",
   "metadata": {},
   "source": [
    "#### Identifying cell types"
   ]
  },
  {
   "cell_type": "code",
   "execution_count": null,
   "metadata": {},
   "outputs": [],
   "source": [
    "DefaultAssay(LS.integrated) <- \"RNA\""
   ]
  },
  {
   "cell_type": "markdown",
   "metadata": {},
   "source": [
    "Manual identification"
   ]
  },
  {
   "cell_type": "code",
   "execution_count": null,
   "metadata": {},
   "outputs": [],
   "source": [
    "F<-FeaturePlot(object =LS.integrated, features = c(\"Stmn2\",\"Thy1\",\"Aldoc\",\"Aqp4\",\"Tmem119\",\"C1qc\",\"Mog\",\"Opalin\",\"Pdgfra\",\"Gpr17\",\"Cldn5\",\"Tagln\",\"Vtn\",\"Flt1\",\"Spp1\",\"Foxj1\",\"Fam216b\",\"Cspg4\"))\n",
    "ggsave(file=\"LS_int_feature_all_genes.png\",width=10,height=10)"
   ]
  },
  {
   "cell_type": "code",
   "execution_count": 7,
   "metadata": {},
   "outputs": [],
   "source": [
    "new.ident <- c(\"Astrocyte1\",\"Oligo1\",\"Neuron1\",\"Neuron2\",\"Neuron3\",\"Neuron4\",\"Neuron5\",\"Neuron6\",\"Neuron7\",\"Neuron8\",\"Neuron9\",\"Neuron10\",\"Astrocyte2\",\"Neuron11\",\"Neuron12\",\"OPC1\",\"Microglia1\",\"Oligo2\",\"Neuron13\",\"Neuron14\",\"Neuron15\",\"Neuron16\",\"Misc1\",\"Misc2\",\"Misc3\",\"Misc4\",\"Misc5\",\"Misc6\",\"Microglia2\",\"OPC2\",\"Misc7\",\"Neuron17\",\"Neuron18\",\"OPC3\",\"Microglia3\",\"Misc8\")\n",
    "names(x = new.ident) <- levels(x =LS.integrated)\n",
    "LS.integrated<- RenameIdents(object =LS.integrated, new.ident)"
   ]
  },
  {
   "cell_type": "code",
   "execution_count": 14,
   "metadata": {
    "scrolled": false
   },
   "outputs": [
    {
     "data": {
      "image/png": "[encoded data removed]",
      "text/plain": [
       "plot without title"
      ]
     },
     "metadata": {
      "image/png": {
       "height": 420,
       "width": 420
      }
     },
     "output_type": "display_data"
    }
   ],
   "source": [
    "DimPlot(object = LS.integrated, reduction = \"umap\", label = FALSE, repel = TRUE, pt.size = 0.25, label.size=2.5,cells.highlight=Neuron_barcode, sizes.highlight=0.25, cols.highlight=c('#DE2D26','black')) +\n",
    "theme_classic() + \n",
    "theme(axis.line=element_blank(),\n",
    "     axis.text=element_blank(),\n",
    "     axis.title=element_blank(),\n",
    "     axis.ticks=element_blank())\n",
    "ggsave(file=\"/All_cells_neurons_highlight.pdf\",width=4,height=4)"
   ]
  },
  {
   "cell_type": "markdown",
   "metadata": {},
   "source": [
    "Adding cell-type identification to the metadata"
   ]
  },
  {
   "cell_type": "code",
   "execution_count": 11,
   "metadata": {},
   "outputs": [],
   "source": [
    "celltype<-vector()\n",
    "for (i in 1:dim(LS.integrated@meta.data)[1]){\n",
    "    celltype[i]<-toString(new.ident[LS.integrated@meta.data$integrated_snn_res.0.5[i]])\n",
    "}\n",
    "LS.integrated@meta.data$cell_type<-celltype"
   ]
  },
  {
   "cell_type": "code",
   "execution_count": 18,
   "metadata": {},
   "outputs": [
    {
     "data": {
      "text/plain": [
       "\n",
       "Astrocyte1     Oligo1    Neuron1    Neuron2    Neuron3    Neuron4    Neuron5 \n",
       "      5118       5103       4196       3844       3090       3055       2451 \n",
       "   Neuron6    Neuron7    Neuron8    Neuron9   Neuron10 Astrocyte2   Neuron11 \n",
       "      2336       2236       2030       1904       1812       1769       1716 \n",
       "  Neuron12       OPC1 Microglia1     Oligo2   Neuron13   Neuron14   Neuron15 \n",
       "      1660       1604       1394       1344       1142       1027        684 \n",
       "  Neuron16      Misc1      Misc2      Misc3      Misc4      Misc5      Misc6 \n",
       "       514        512        435        430        353        273        242 \n",
       "Microglia2       OPC2      Misc7   Neuron17   Neuron18       OPC3 Microglia3 \n",
       "       224        181        176        114        113         45         41 \n",
       "     Misc8 \n",
       "        20 "
      ]
     },
     "metadata": {},
     "output_type": "display_data"
    }
   ],
   "source": [
    "table(Idents(LS.integrated))"
   ]
  },
  {
   "cell_type": "markdown",
   "metadata": {},
   "source": [
    "Generating \"barcode\" variables for each cell cluster and each experimental condition"
   ]
  },
  {
   "cell_type": "code",
   "execution_count": 8,
   "metadata": {},
   "outputs": [],
   "source": [
    "for (i in 1:length(new.ident)){\n",
    "assign(paste(new.ident[i],\"_barcode\",sep=\"\"),colnames(LS.integrated@assays$RNA@data[,which(Idents(object=LS.integrated) %in% new.ident[i])]))\n",
    "assign(paste(new.ident[i],\"_barcode_LS_sal\",sep=\"\"),intersect(colnames(LS_sal@assays$RNA@data),eval(parse(text = paste(new.ident[i],\"_barcode\",sep=\"\")))))\n",
    "assign(paste(new.ident[i],\"_barcode_LS_mor\",sep=\"\"),intersect(colnames(LS_mor@assays$RNA@data),eval(parse(text = paste(new.ident[i],\"_barcode\",sep=\"\")))))\n",
    "assign(paste(new.ident[i],\"_barcode_LS_nal\",sep=\"\"),intersect(colnames(LS_nal@assays$RNA@data),eval(parse(text = paste(new.ident[i],\"_barcode\",sep=\"\")))))\n",
    "assign(paste(new.ident[i],\"_barcode_LS_one_mor\",sep=\"\"),intersect(colnames(LS_one_mor@assays$RNA@data),eval(parse(text = paste(new.ident[i],\"_barcode\",sep=\"\")))))\n",
    "assign(paste(new.ident[i],\"_barcode_LS_nal_no_mor\",sep=\"\"),intersect(colnames(LS_nal_no_mor@assays$RNA@data),eval(parse(text = paste(new.ident[i],\"_barcode\",sep=\"\")))))\n",
    "}\n"
   ]
  },
  {
   "cell_type": "markdown",
   "metadata": {},
   "source": [
    "Generating \"barcode\" variables for each cell class"
   ]
  },
  {
   "cell_type": "code",
   "execution_count": 33,
   "metadata": {},
   "outputs": [],
   "source": [
    "Neuron_barcode<-c(Neuron1_barcode,Neuron2_barcode,Neuron3_barcode, Neuron4_barcode,Neuron5_barcode,Neuron6_barcode,Neuron7_barcode,Neuron8_barcode,Neuron9_barcode,Neuron10_barcode,Neuron11_barcode,Neuron12_barcode,Neuron13_barcode,Neuron14_barcode,Neuron15_barcode,Neuron16_barcode)\n",
    "Neuron_barcode_LS_sal<-intersect(Neuron_barcode,rownames(LS_sal@meta.data))\n",
    "Neuron_barcode_LS_mor<-intersect(Neuron_barcode,rownames(LS_mor@meta.data))\n",
    "Neuron_barcode_LS_nal<-intersect(Neuron_barcode,rownames(LS_nal@meta.data))\n",
    "Neuron_barcode_LS_one_mor<-intersect(Neuron_barcode,rownames(LS_one_mor@meta.data))\n",
    "Neuron_barcode_LS_nal_no_mor<-intersect(Neuron_barcode,rownames(LS_nal_no_mor@meta.data))"
   ]
  },
  {
   "cell_type": "code",
   "execution_count": null,
   "metadata": {},
   "outputs": [],
   "source": [
    "Astrocyte_barcode<-c(Astrocyte_barcode)\n",
    "Astrocyte_barcode_LS_sal<-intersect(Astrocyte_barcode,rownames(LS_sal@meta.data))\n",
    "Astrocyte_barcode_LS_mor<-intersect(Astrocyte_barcode,rownames(LS_mor@meta.data))\n",
    "Astrocyte_barcode_LS_nal<-intersect(Astrocyte_barcode,rownames(LS_nal@meta.data))"
   ]
  },
  {
   "cell_type": "code",
   "execution_count": 9,
   "metadata": {},
   "outputs": [],
   "source": [
    "Microglia_barcode<-c(Microglia1_barcode,Microglia2_barcode,Microglia3_barcode)\n",
    "Microglia_barcode_LS_sal<-intersect(Microglia_barcode,rownames(LS_sal@meta.data))\n",
    "Microglia_barcode_LS_mor<-intersect(Microglia_barcode,rownames(LS_mor@meta.data))\n",
    "Microglia_barcode_LS_nal<-intersect(Microglia_barcode,rownames(LS_nal@meta.data))\n",
    "Microglia_barcode_LS_one_mor<-intersect(Microglia_barcode,rownames(LS_one_mor@meta.data))\n",
    "Microglia_barcode_LS_nal_no_mor<-intersect(Microglia_barcode,rownames(LS_nal_no_mor@meta.data))"
   ]
  },
  {
   "cell_type": "markdown",
   "metadata": {},
   "source": [
    "Saving neuron barcodes for future reclustering"
   ]
  },
  {
   "cell_type": "code",
   "execution_count": null,
   "metadata": {},
   "outputs": [],
   "source": [
    "saveRDS(Neuron_barcode_LS_sal, file=\"/Neuron_LS_sal_id.rds\")\n",
    "saveRDS(Neuron_barcode_LS_mor, file=\"/Neuron_LS_mor_id.rds\")\n",
    "saveRDS(Neuron_barcode_LS_nal, file=\"/Neuron_LS_nal_id.rds\")\n",
    "saveRDS(Neuron_barcode_LS_one_mor, file=\"/Neuron_LS_one_mor_id.rds\")\n",
    "saveRDS(Neuron_barcode_LS_nal_no_mor, file=\"/Neuron_LS_nal_no_mor_id.rds\")"
   ]
  },
  {
   "cell_type": "markdown",
   "metadata": {},
   "source": [
    "#### Violin plot for markers"
   ]
  },
  {
   "cell_type": "code",
   "execution_count": null,
   "metadata": {},
   "outputs": [],
   "source": [
    "Cell_type<-rev(c(\"Neuron1\",\"Neuron2\",\"Neuron3\",\"Neuron4\",\"Neuron5\",\"Neuron6\",\"Neuron7\",\"Neuron8\",\"Neuron9\",\"Neuron10\",\"Neuron11\",\"Neuron12\",\"Neuron13\",\"Neuron14\",\"Neuron15\",\"Neuron16\",\"Neuron17\",\"Neuron18\",\"Astrocyte1\",\"Astrocyte2\",\"Oligo1\",\"Oligo2\",\"OPC1\",\"OPC2\",\"OPC3\",\"Microglia1\",\"Microglia2\",\"Microglia3\"))\n",
    "gene_list<-c(\"Stmn2\" ,\"Thy1\" ,\"Slc4a4\",\"Ntsr2\",\"Pdgfra\",\"Gpr17\",\"Mog\",\"Opalin\",\"Tmem119\",\"C1qc\")"
   ]
  },
  {
   "cell_type": "code",
   "execution_count": null,
   "metadata": {},
   "outputs": [],
   "source": [
    "Cell_number<- data.frame(Date=as.Date(character()),File=character(),User=character(),stringsAsFactors=FALSE)\n",
    "\n",
    "for (i in 1:length(Cell_type)){\n",
    "L<-length(eval(parse(text = paste(Cell_type[i],\"_barcode\",sep=\"\"))))\n",
    "\n",
    "Cell_number_t<- data.frame(\"type\" =c(rep(Cell_type[i],L)))\n",
    "for (p in 1:length(gene_list)){\n",
    "Cell_number_t[gene_list[p]]<-as.vector(LS.integrated@assays$RNA@data[gene_list[p],eval(parse(text = paste(Cell_type[i],\"_barcode\",sep=\"\")))])\n",
    "}\n",
    "Cell_number<-rbind(Cell_number_t,Cell_number)}\n",
    "as.factor(Cell_number$type)"
   ]
  },
  {
   "cell_type": "code",
   "execution_count": null,
   "metadata": {
    "scrolled": true
   },
   "outputs": [],
   "source": [
    "df <- melt(Cell_number)"
   ]
  },
  {
   "cell_type": "code",
   "execution_count": null,
   "metadata": {},
   "outputs": [],
   "source": [
    "cell.colors<-c(\"orange\",\"orange\",\"orange\",\"orange\",\"orange\",\"orange\",\"orange\",\"orange\",\"orange\",\"orange\",\"orange\",\"orange\",\"orange\",\"orange\",\"orange\",\"orange\",\"orange\",\"orange\",\"gray\",\"gray\",\"gray\",\"gray\",\"gray\",\"gray\",\"gray\",\"gray\",\"gray\",\"gray\",\"gray\",\"gray\",\"gray\",\"gray\",\"gray\",\"gray\",\"gray\")"
   ]
  },
  {
   "cell_type": "code",
   "execution_count": null,
   "metadata": {},
   "outputs": [],
   "source": [
    "df$type <- factor(df$type, levels=c(\"Neuron1\",\"Neuron2\",\"Neuron3\",\"Neuron4\",\"Neuron5\",\"Neuron6\",\"Neuron7\",\"Neuron8\",\"Neuron9\",\"Neuron10\",\"Neuron11\",\"Neuron12\",\"Neuron13\",\"Neuron14\",\"Neuron15\",\"Neuron16\",\"Neuron17\",\"Neuron18\",\"Astrocyte1\",\"Astrocyte2\",\"Oligo1\",\"Oligo2\",\"OPC1\",\"OPC2\",\"OPC3\",\"Microglia1\",\"Microglia2\",\"Microglia3\"))"
   ]
  },
  {
   "cell_type": "code",
   "execution_count": null,
   "metadata": {},
   "outputs": [],
   "source": [
    "pg <- ggplot(df, aes(x=type, y=value, fill=type, size=.1)) + \n",
    "geom_violin(width=3, size=0.1) +\n",
    "stat_summary(fun.y=median, geom=\"point\", size=0.25, color=\"white\")+\n",
    "theme_classic()+\n",
    "    theme(axis.line=element_line(size=0.25),\n",
    "         axis.ticks=element_line(size=0.25),\n",
    "         axis.text=element_text(size=6),\n",
    "         axis.text.x=element_text(angle=90, hjust=1, vjust=0.5),\n",
    "         axis.title=element_text(size=8),\n",
    "         axis.title.x=element_blank(),\n",
    "         axis.text.y=element_text(angle=90, hjust=.5),\n",
    "         plot.title=element_blank())+\n",
    "    theme(legend.title = element_text(size = 8),\n",
    "          legend.text = element_text(size = 6), \n",
    "          axis.ticks = element_line(colour = \"black\", size = .25), \n",
    "          axis.line = element_line(colour = 'black', size = .25))+\n",
    "ggtitle(\"Gene counts by group\") +\n",
    "ylab('logFC expression')+\n",
    "scale_fill_manual(values = cell.colors)+\n",
    "scale_color_manual(values = cell.colors) +\n",
    "scale_discrete_manual(Cell_number$type, values = c(\"Neuron1\",\"Neuron2\",\"Neuron3\",\"Neuron4\",\"Neuron5\",\"Neuron6\",\"Neuron7\",\"Neuron8\",\"Neuron9\",\"Neuron10\",\"Neuron11\",\"Neuron12\",\"Neuron13\",\"Neuron14\",\"Neuron15\",\"Neuron16\",\"Neuron17\",\"Neuron18\",\"Astrocyte1\",\"Astrocyte2\",\"Oligo1\",\"Oligo2\",\"OPC1\",\"OPC2\",\"OPC3\",\"Microglia1\",\"Microglia2\",\"Microglia3\"))\n",
    "pg + facet_grid(rows = vars(df$variable)) + NoLegend() +\n",
    "theme(strip.background = element_rect(color=\"black\", size=0.25, linetype=\"solid\"), strip.text.y = element_text(size = 8),\n",
    "      panel.background = element_rect(colour = \"black\", size=.25, fill=NA))\n",
    "\n",
    "ggsave(file=\"/Genes_by_cluster.png\",width=5,height=5)\n",
    "ggsave(file=\"/Genes_by_cluster.pdf\",width=5,height=5)\n",
    "ggsave(file=\"/Genes_by_cluster.svg\",width=5,height=5)"
   ]
  },
  {
   "cell_type": "markdown",
   "metadata": {},
   "source": [
    "#### Total number of cells per cell class"
   ]
  },
  {
   "cell_type": "code",
   "execution_count": 4,
   "metadata": {},
   "outputs": [],
   "source": [
    "new.ident <- c(\"Astrocyte\",\"Oligo\",\"Neuron\",\"Neuron\",\"Neuron\",\"Neuron\",\"Neuron\",\"Neuron\",\"Neuron\",\"Neuron\",\"Neuron\",\"Neuron\",\"Astrocyte\",\"Neuron\",\"Neuron\",\"OPC\",\"Microglia\",\"Oligo\",\"Neuron\",\"Neuron\",\"Neuron\",\"Neuron\",\"Misc\",\"Misc\",\"Misc\",\"Misc\",\"Misc\",\"Misc\",\"Microglia\",\"OPC\",\"Misc\",\"Neuron\",\"Neuron\",\"OPC\",\"Microglia\",\"Misc\")\n",
    "names(x = new.ident) <- levels(x =LS.integrated)\n",
    "LS.integrated<- RenameIdents(object =LS.integrated, new.ident)"
   ]
  },
  {
   "cell_type": "code",
   "execution_count": 7,
   "metadata": {},
   "outputs": [
    {
     "data": {
      "text/plain": [
       "\n",
       "Astrocyte     Oligo    Neuron       OPC Microglia      Misc \n",
       "     6887      6447     33924      1830      1659      2441 "
      ]
     },
     "metadata": {},
     "output_type": "display_data"
    }
   ],
   "source": [
    "table(Idents(LS.integrated))"
   ]
  },
  {
   "cell_type": "code",
   "execution_count": 5,
   "metadata": {},
   "outputs": [],
   "source": [
    "Cells_in_clusters <- as.data.frame(table(Idents(LS.integrated)))"
   ]
  },
  {
   "cell_type": "code",
   "execution_count": 6,
   "metadata": {},
   "outputs": [],
   "source": [
    "colnames(Cells_in_clusters)[1] <- \"Cluster\"\n",
    "colnames(Cells_in_clusters)[2] <- \"Number\""
   ]
  },
  {
   "cell_type": "code",
   "execution_count": null,
   "metadata": {},
   "outputs": [],
   "source": [
    "Cells_in_clusters$Cluster <- factor(Cells_in_clusters$Cluster, levels = c(\"Astrocyte\",\"Oligo\",\"Neuron\",\"OPC\",\"Microglia\",\"Misc\"))"
   ]
  },
  {
   "cell_type": "code",
   "execution_count": null,
   "metadata": {},
   "outputs": [],
   "source": [
    "Cells_in_clusters$Cluster <- factor(Cells_in_clusters$Cluster, levels = c(\"Neuron1\",\"Neuron2\",\"Neuron3\",\"Neuron4\",\"Neuron5\",\"Neuron6\",\"Neuron7\",\"Neuron8\",\"Neuron9\",\"Neuron10\",\"Neuron11\",\"Neuron12\",\"Neuron13\",\"Neuron14\",\"Neuron15\",\"Neuron16\",\"Neuron17\",\"Neuron18\", \"Astrocyte1\",\"Astrocyte2\",\"Oligo1\",\"Oligo2\",\"OPC1\",\"OPC2\",\"OPC3\",\"Microglia1\",\"Microglia2\",\"Microglia3\"))"
   ]
  },
  {
   "cell_type": "code",
   "execution_count": null,
   "metadata": {},
   "outputs": [],
   "source": [
    "Cells_in_clusters <- na.omit(Cells_in_clusters)"
   ]
  },
  {
   "cell_type": "code",
   "execution_count": null,
   "metadata": {},
   "outputs": [],
   "source": [
    "p <- ggplot(data=Cells_in_clusters, aes (x=Cluster, y=Number)) +\n",
    "    geom_bar(stat=\"identity\", position=\"identity\") +\n",
    "    scale_y_continuous(breaks = seq(0, 2000, by =1000 ), limits=c(0,2000), expand = c(0, 0))+\n",
    "    theme_classic() +\n",
    "    theme(axis.line = element_line(color=\"black\",size=0.1), \n",
    "          axis.title.x= element_blank(), \n",
    "          axis.text.y=element_text(size=8) ,\n",
    "          axis.text.x=element_text(angle = 45,hjust = 1, size=8, ) ,\n",
    "          plot.title=element_text(size=8)) +\n",
    "    theme(legend.title = element_text(size = 10),\n",
    "          legend.text = element_text(size = 8), \n",
    "          axis.ticks = element_line(colour = \"black\", size = .25), \n",
    "          axis.line = element_line(colour = 'black', size = .25))+\n",
    "    theme(axis.line=element_line(size=0.25),\n",
    "         axis.ticks=element_line(size=0.25),\n",
    "         axis.text=element_blank(),\n",
    "         axis.title=element_blank(),\n",
    "         axis.text.y=element_blank())+\n",
    "ggtitle(\"Number of cells in each group\")+\n",
    "coord_flip()\n",
    "\n",
    "ggsave(p, file=(\"/cell_counts.png\"), height=4, width=.5)\n",
    "ggsave(p, file=(\"/cell_counts.pdf\"), height=4, width=.5)"
   ]
  },
  {
   "cell_type": "code",
   "execution_count": null,
   "metadata": {},
   "outputs": [],
   "source": []
  }
 ],
 "metadata": {
  "kernelspec": {
   "display_name": "R",
   "language": "R",
   "name": "ir"
  },
  "language_info": {
   "codemirror_mode": "r",
   "file_extension": ".r",
   "mimetype": "text/x-r-source",
   "name": "R",
   "pygments_lexer": "r",
   "version": "4.1.2"
  }
 },
 "nbformat": 4,
 "nbformat_minor": 2
}
