{
 "cells": [
  {
   "cell_type": "markdown",
   "metadata": {},
   "source": [
    "# IEG analysis"
   ]
  },
  {
   "cell_type": "markdown",
   "metadata": {},
   "source": [
    "To identify which cell clusters are selectively activated by each input stimulation"
   ]
  },
  {
   "cell_type": "markdown",
   "metadata": {},
   "source": [
    "#### Import libraries"
   ]
  },
  {
   "cell_type": "code",
   "execution_count": 1,
   "metadata": {
    "scrolled": true
   },
   "outputs": [
    {
     "name": "stderr",
     "output_type": "stream",
     "text": [
      "Attaching SeuratObject\n",
      "\n",
      "\n",
      "Attaching package: 'dplyr'\n",
      "\n",
      "\n",
      "The following objects are masked from 'package:stats':\n",
      "\n",
      "    filter, lag\n",
      "\n",
      "\n",
      "The following objects are masked from 'package:base':\n",
      "\n",
      "    intersect, setdiff, setequal, union\n",
      "\n",
      "\n",
      "\n",
      "Attaching package: 'tidyr'\n",
      "\n",
      "\n",
      "The following object is masked from 'package:magrittr':\n",
      "\n",
      "    extract\n",
      "\n",
      "\n"
     ]
    }
   ],
   "source": [
    "library(Seurat)\n",
    "library(dplyr)\n",
    "library(magrittr)\n",
    "library(ggplot2)\n",
    "library(xlsx)\n",
    "library(tidyr)\n",
    "library(cowplot)\n",
    "library(svglite)\n",
    "library(xlsx)"
   ]
  },
  {
   "cell_type": "markdown",
   "metadata": {},
   "source": [
    "#### Load in .rds files"
   ]
  },
  {
   "cell_type": "code",
   "execution_count": 2,
   "metadata": {},
   "outputs": [],
   "source": [
    "LS.integrated<-readRDS(file = \"C:/Users/stuberadmin/Documents/scRNAseq/211119-RS-rv4/Neurons_only_iter2/LS_integrated.rds\")\n",
    "LS_sal<-readRDS(file = \"C:/Users/stuberadmin/Documents/scRNAseq/211119-RS-rv4/Neurons_only_iter2/LS_sal.rds\")\n",
    "LS_mor<-readRDS(file = \"C:/Users/stuberadmin/Documents/scRNAseq/211119-RS-rv4/Neurons_only_iter2/LS_mor.rds\")\n",
    "LS_nal<-readRDS(file = \"C:/Users/stuberadmin/Documents/scRNAseq/211119-RS-rv4/Neurons_only_iter2/LS_nal.rds\")\n",
    "LS_one_mor<-readRDS( file = \"C:/Users/stuberadmin/Documents/scRNAseq/211119-RS-rv4/Neurons_only_iter2/LS_one_mor.rds\")\n",
    "LS_nal_no_mor<-readRDS( file = \"C:/Users/stuberadmin/Documents/scRNAseq/211119-RS-rv4/Neurons_only_iter2/LS_nal_no_mor.rds\")"
   ]
  },
  {
   "cell_type": "markdown",
   "metadata": {},
   "source": [
    "#### Assign identities to cell clusters"
   ]
  },
  {
   "cell_type": "code",
   "execution_count": 3,
   "metadata": {},
   "outputs": [],
   "source": [
    "new.ident <- c(\"Gaba1\",\"Gaba2\",\"Gaba3\",\"Gaba4\",\"Gaba5\",\"Gaba6\",\"Gaba7\",\"Glu1\",\"Gaba8\",\"Gaba9\",\"Gaba10\",\"Glu2\",\"Gaba11\",\"Gaba12\")\n",
    "names(x = new.ident) <- levels(x =LS.integrated)\n",
    "LS.integrated<- RenameIdents(object =LS.integrated, new.ident)"
   ]
  },
  {
   "cell_type": "code",
   "execution_count": 4,
   "metadata": {},
   "outputs": [],
   "source": [
    "for (i in 1:length(new.ident)){\n",
    "assign(paste(new.ident[i],\"_barcode\",sep=\"\"),colnames(LS.integrated@assays$RNA@data[,which(Idents(object=LS.integrated) %in% new.ident[i])]))# this gives all barcodes in cluster\n",
    "assign(paste(new.ident[i],\"_barcode_sal\",sep=\"\"),intersect(colnames(LS_sal@assays$RNA@data),eval(parse(text = paste(new.ident[i],\"_barcode\",sep=\"\")))))\n",
    "assign(paste(new.ident[i],\"_barcode_mor\",sep=\"\"),intersect(colnames(LS_mor@assays$RNA@data),eval(parse(text = paste(new.ident[i],\"_barcode\",sep=\"\")))))\n",
    "assign(paste(new.ident[i],\"_barcode_nal\",sep=\"\"),intersect(colnames(LS_nal@assays$RNA@data),eval(parse(text = paste(new.ident[i],\"_barcode\",sep=\"\")))))\n",
    "assign(paste(new.ident[i],\"_barcode_one_mor\",sep=\"\"),intersect(colnames(LS_one_mor@assays$RNA@data),eval(parse(text = paste(new.ident[i],\"_barcode\",sep=\"\")))))\n",
    "assign(paste(new.ident[i],\"_barcode_nal_no_mor\",sep=\"\"),intersect(colnames(LS_nal_no_mor@assays$RNA@data),eval(parse(text = paste(new.ident[i],\"_barcode\",sep=\"\")))))\n",
    "}"
   ]
  },
  {
   "cell_type": "code",
   "execution_count": 5,
   "metadata": {},
   "outputs": [],
   "source": [
    "barcode_names <- unique(paste(Idents(LS.integrated),\"_barcode\",sep=\"\"))"
   ]
  },
  {
   "cell_type": "code",
   "execution_count": 6,
   "metadata": {},
   "outputs": [],
   "source": [
    "celltype<-vector()\n",
    "for (i in 1:dim(LS.integrated@meta.data)[1]){\n",
    "    celltype[i]<-toString(new.ident[LS.integrated@meta.data$integrated_snn_res.0.2[i]])\n",
    "}\n",
    "LS.integrated@meta.data$celltype<-celltype"
   ]
  },
  {
   "cell_type": "code",
   "execution_count": 7,
   "metadata": {},
   "outputs": [],
   "source": [
    "DefaultAssay(LS.integrated)<-'RNA'"
   ]
  },
  {
   "cell_type": "code",
   "execution_count": 8,
   "metadata": {
    "scrolled": true
   },
   "outputs": [],
   "source": [
    "LS.integrated<-NormalizeData(LS.integrated)"
   ]
  },
  {
   "cell_type": "markdown",
   "metadata": {},
   "source": [
    "#### Import IEG list"
   ]
  },
  {
   "cell_type": "code",
   "execution_count": 9,
   "metadata": {},
   "outputs": [],
   "source": [
    "IEG<-read.xlsx(\"/Users/stuberadmin/Documents/scRNAseq/201130/Neurons_only/Neurons_only_retained/optimal_resolution/IEG/IEGs.xlsx\",sheetIndex=1)\n",
    "IEG<-as.character(IEG[[1]])\n",
    "all_genes <- unlist(LS.integrated@assays$RNA@data@Dimnames[1])\n",
    "IEG <- IEG[IEG %in% all_genes]\n",
    "Add_gene <- c('Fos')\n",
    "IEG <- append(IEG, Add_gene)"
   ]
  },
  {
   "cell_type": "code",
   "execution_count": 10,
   "metadata": {},
   "outputs": [
    {
     "data": {
      "text/html": [
       "130"
      ],
      "text/latex": [
       "130"
      ],
      "text/markdown": [
       "130"
      ],
      "text/plain": [
       "[1] 130"
      ]
     },
     "metadata": {},
     "output_type": "display_data"
    }
   ],
   "source": [
    "length(IEG)"
   ]
  },
  {
   "cell_type": "code",
   "execution_count": 11,
   "metadata": {},
   "outputs": [
    {
     "data": {
      "text/html": [
       "<style>\n",
       ".list-inline {list-style: none; margin:0; padding: 0}\n",
       ".list-inline>li {display: inline-block}\n",
       ".list-inline>li:not(:last-child)::after {content: \"\\00b7\"; padding: 0 .5ex}\n",
       "</style>\n",
       "<ol class=list-inline><li>'Fosb'</li><li>'Fosl1'</li><li>'Fosl2'</li><li>'Jun'</li><li>'Junb'</li><li>'Jund'</li><li>'Egr1'</li><li>'Egr2'</li><li>'Egr3'</li><li>'Egr4'</li><li>'Nr4a1'</li><li>'Nr4a2'</li><li>'Nr4a3'</li><li>'Arc'</li><li>'Homer1'</li><li>'Rheb'</li><li>'Rgs2'</li><li>'Plk2'</li><li>'Ptgs2'</li><li>'Bdnf'</li><li>'Inhba'</li><li>'Nptx2'</li><li>'Plat'</li><li>'Nrn1'</li><li>'Myc'</li><li>'Dusp1'</li><li>'Dusp5'</li><li>'Dusp6'</li><li>'Pcdh8'</li><li>'Cyr61'</li><li>'Gadd45b'</li><li>'Trib1'</li><li>'Gem'</li><li>'Btg2'</li><li>'Ier2'</li><li>'Npas4'</li><li>'Rasd1'</li><li>'Crem'</li><li>'Mbnl2'</li><li>'Arf4'</li><li>'Gadd45g'</li><li>'Arih1'</li><li>'Nup98'</li><li>'Ppp1r15a'</li><li>'Fbxo33'</li><li>'Per1'</li><li>'Per2'</li><li>'Maff'</li><li>'Zfp36'</li><li>'Srf'</li><li>'Mcl1'</li><li>'Ctgf'</li><li>'Il6'</li><li>'Atf3'</li><li>'Rcan1'</li><li>'Ncoa7'</li><li>'Bhlhe40'</li><li>'Slc2a3'</li><li>'Nfkbia'</li><li>'Ier3'</li><li>'Sgk1'</li><li>'Klf6'</li><li>'Klf10'</li><li>'Nfkbiz'</li><li>'Gbp2b'</li><li>'Tnfaip3'</li><li>'Cebpd'</li><li>'Hbegf'</li><li>'Ldlr'</li><li>'Tsc22d1'</li><li>'F3'</li><li>'Ccl2'</li><li>'Csrnp1'</li><li>'Pmaip1'</li><li>'Zfp36l2'</li><li>'Plau'</li><li>'Ccl5'</li><li>'Saa3'</li><li>'Tnf'</li><li>'Irf1'</li><li>'Cd83'</li><li>'Map3k8'</li><li>'Socs3'</li><li>'Il1a'</li><li>'Il1b'</li><li>'Sod2'</li><li>'Pim1'</li><li>'Peli1'</li><li>'Tlr2'</li><li>'Ccl3'</li><li>'Noct'</li><li>'Bcl3'</li><li>'Ifit2'</li><li>'Icam1'</li><li>'Ifit1'</li><li>'Tnfsf9'</li><li>'Ccrl2'</li><li>'Cxcl10'</li><li>'Gbp2'</li><li>'Il10'</li><li>'Acod1'</li><li>'Mmp13'</li><li>'Il23a'</li><li>'Arhgef3'</li><li>'Serpine1'</li><li>'Traf1'</li><li>'Vcam1'</li><li>'Ackr4'</li><li>'Marcksl1'</li><li>'Nfkbid'</li><li>'Ikbke'</li><li>'Ccl12'</li><li>'Ifit3'</li><li>'Cebpb'</li><li>'Zfp36l1'</li><li>'Txnip'</li><li>'Nfib'</li><li>'Hes1'</li><li>'Pias1'</li><li>'Klf2'</li><li>'Dusp2'</li><li>'Wee1'</li><li>'Thbs1'</li><li>'Sik1'</li><li>'Gdf15'</li><li>'Ier5'</li><li>'Rgs1'</li><li>'Id2'</li><li>'Apold1'</li><li>'Fos'</li></ol>\n"
      ],
      "text/latex": [
       "\\begin{enumerate*}\n",
       "\\item 'Fosb'\n",
       "\\item 'Fosl1'\n",
       "\\item 'Fosl2'\n",
       "\\item 'Jun'\n",
       "\\item 'Junb'\n",
       "\\item 'Jund'\n",
       "\\item 'Egr1'\n",
       "\\item 'Egr2'\n",
       "\\item 'Egr3'\n",
       "\\item 'Egr4'\n",
       "\\item 'Nr4a1'\n",
       "\\item 'Nr4a2'\n",
       "\\item 'Nr4a3'\n",
       "\\item 'Arc'\n",
       "\\item 'Homer1'\n",
       "\\item 'Rheb'\n",
       "\\item 'Rgs2'\n",
       "\\item 'Plk2'\n",
       "\\item 'Ptgs2'\n",
       "\\item 'Bdnf'\n",
       "\\item 'Inhba'\n",
       "\\item 'Nptx2'\n",
       "\\item 'Plat'\n",
       "\\item 'Nrn1'\n",
       "\\item 'Myc'\n",
       "\\item 'Dusp1'\n",
       "\\item 'Dusp5'\n",
       "\\item 'Dusp6'\n",
       "\\item 'Pcdh8'\n",
       "\\item 'Cyr61'\n",
       "\\item 'Gadd45b'\n",
       "\\item 'Trib1'\n",
       "\\item 'Gem'\n",
       "\\item 'Btg2'\n",
       "\\item 'Ier2'\n",
       "\\item 'Npas4'\n",
       "\\item 'Rasd1'\n",
       "\\item 'Crem'\n",
       "\\item 'Mbnl2'\n",
       "\\item 'Arf4'\n",
       "\\item 'Gadd45g'\n",
       "\\item 'Arih1'\n",
       "\\item 'Nup98'\n",
       "\\item 'Ppp1r15a'\n",
       "\\item 'Fbxo33'\n",
       "\\item 'Per1'\n",
       "\\item 'Per2'\n",
       "\\item 'Maff'\n",
       "\\item 'Zfp36'\n",
       "\\item 'Srf'\n",
       "\\item 'Mcl1'\n",
       "\\item 'Ctgf'\n",
       "\\item 'Il6'\n",
       "\\item 'Atf3'\n",
       "\\item 'Rcan1'\n",
       "\\item 'Ncoa7'\n",
       "\\item 'Bhlhe40'\n",
       "\\item 'Slc2a3'\n",
       "\\item 'Nfkbia'\n",
       "\\item 'Ier3'\n",
       "\\item 'Sgk1'\n",
       "\\item 'Klf6'\n",
       "\\item 'Klf10'\n",
       "\\item 'Nfkbiz'\n",
       "\\item 'Gbp2b'\n",
       "\\item 'Tnfaip3'\n",
       "\\item 'Cebpd'\n",
       "\\item 'Hbegf'\n",
       "\\item 'Ldlr'\n",
       "\\item 'Tsc22d1'\n",
       "\\item 'F3'\n",
       "\\item 'Ccl2'\n",
       "\\item 'Csrnp1'\n",
       "\\item 'Pmaip1'\n",
       "\\item 'Zfp36l2'\n",
       "\\item 'Plau'\n",
       "\\item 'Ccl5'\n",
       "\\item 'Saa3'\n",
       "\\item 'Tnf'\n",
       "\\item 'Irf1'\n",
       "\\item 'Cd83'\n",
       "\\item 'Map3k8'\n",
       "\\item 'Socs3'\n",
       "\\item 'Il1a'\n",
       "\\item 'Il1b'\n",
       "\\item 'Sod2'\n",
       "\\item 'Pim1'\n",
       "\\item 'Peli1'\n",
       "\\item 'Tlr2'\n",
       "\\item 'Ccl3'\n",
       "\\item 'Noct'\n",
       "\\item 'Bcl3'\n",
       "\\item 'Ifit2'\n",
       "\\item 'Icam1'\n",
       "\\item 'Ifit1'\n",
       "\\item 'Tnfsf9'\n",
       "\\item 'Ccrl2'\n",
       "\\item 'Cxcl10'\n",
       "\\item 'Gbp2'\n",
       "\\item 'Il10'\n",
       "\\item 'Acod1'\n",
       "\\item 'Mmp13'\n",
       "\\item 'Il23a'\n",
       "\\item 'Arhgef3'\n",
       "\\item 'Serpine1'\n",
       "\\item 'Traf1'\n",
       "\\item 'Vcam1'\n",
       "\\item 'Ackr4'\n",
       "\\item 'Marcksl1'\n",
       "\\item 'Nfkbid'\n",
       "\\item 'Ikbke'\n",
       "\\item 'Ccl12'\n",
       "\\item 'Ifit3'\n",
       "\\item 'Cebpb'\n",
       "\\item 'Zfp36l1'\n",
       "\\item 'Txnip'\n",
       "\\item 'Nfib'\n",
       "\\item 'Hes1'\n",
       "\\item 'Pias1'\n",
       "\\item 'Klf2'\n",
       "\\item 'Dusp2'\n",
       "\\item 'Wee1'\n",
       "\\item 'Thbs1'\n",
       "\\item 'Sik1'\n",
       "\\item 'Gdf15'\n",
       "\\item 'Ier5'\n",
       "\\item 'Rgs1'\n",
       "\\item 'Id2'\n",
       "\\item 'Apold1'\n",
       "\\item 'Fos'\n",
       "\\end{enumerate*}\n"
      ],
      "text/markdown": [
       "1. 'Fosb'\n",
       "2. 'Fosl1'\n",
       "3. 'Fosl2'\n",
       "4. 'Jun'\n",
       "5. 'Junb'\n",
       "6. 'Jund'\n",
       "7. 'Egr1'\n",
       "8. 'Egr2'\n",
       "9. 'Egr3'\n",
       "10. 'Egr4'\n",
       "11. 'Nr4a1'\n",
       "12. 'Nr4a2'\n",
       "13. 'Nr4a3'\n",
       "14. 'Arc'\n",
       "15. 'Homer1'\n",
       "16. 'Rheb'\n",
       "17. 'Rgs2'\n",
       "18. 'Plk2'\n",
       "19. 'Ptgs2'\n",
       "20. 'Bdnf'\n",
       "21. 'Inhba'\n",
       "22. 'Nptx2'\n",
       "23. 'Plat'\n",
       "24. 'Nrn1'\n",
       "25. 'Myc'\n",
       "26. 'Dusp1'\n",
       "27. 'Dusp5'\n",
       "28. 'Dusp6'\n",
       "29. 'Pcdh8'\n",
       "30. 'Cyr61'\n",
       "31. 'Gadd45b'\n",
       "32. 'Trib1'\n",
       "33. 'Gem'\n",
       "34. 'Btg2'\n",
       "35. 'Ier2'\n",
       "36. 'Npas4'\n",
       "37. 'Rasd1'\n",
       "38. 'Crem'\n",
       "39. 'Mbnl2'\n",
       "40. 'Arf4'\n",
       "41. 'Gadd45g'\n",
       "42. 'Arih1'\n",
       "43. 'Nup98'\n",
       "44. 'Ppp1r15a'\n",
       "45. 'Fbxo33'\n",
       "46. 'Per1'\n",
       "47. 'Per2'\n",
       "48. 'Maff'\n",
       "49. 'Zfp36'\n",
       "50. 'Srf'\n",
       "51. 'Mcl1'\n",
       "52. 'Ctgf'\n",
       "53. 'Il6'\n",
       "54. 'Atf3'\n",
       "55. 'Rcan1'\n",
       "56. 'Ncoa7'\n",
       "57. 'Bhlhe40'\n",
       "58. 'Slc2a3'\n",
       "59. 'Nfkbia'\n",
       "60. 'Ier3'\n",
       "61. 'Sgk1'\n",
       "62. 'Klf6'\n",
       "63. 'Klf10'\n",
       "64. 'Nfkbiz'\n",
       "65. 'Gbp2b'\n",
       "66. 'Tnfaip3'\n",
       "67. 'Cebpd'\n",
       "68. 'Hbegf'\n",
       "69. 'Ldlr'\n",
       "70. 'Tsc22d1'\n",
       "71. 'F3'\n",
       "72. 'Ccl2'\n",
       "73. 'Csrnp1'\n",
       "74. 'Pmaip1'\n",
       "75. 'Zfp36l2'\n",
       "76. 'Plau'\n",
       "77. 'Ccl5'\n",
       "78. 'Saa3'\n",
       "79. 'Tnf'\n",
       "80. 'Irf1'\n",
       "81. 'Cd83'\n",
       "82. 'Map3k8'\n",
       "83. 'Socs3'\n",
       "84. 'Il1a'\n",
       "85. 'Il1b'\n",
       "86. 'Sod2'\n",
       "87. 'Pim1'\n",
       "88. 'Peli1'\n",
       "89. 'Tlr2'\n",
       "90. 'Ccl3'\n",
       "91. 'Noct'\n",
       "92. 'Bcl3'\n",
       "93. 'Ifit2'\n",
       "94. 'Icam1'\n",
       "95. 'Ifit1'\n",
       "96. 'Tnfsf9'\n",
       "97. 'Ccrl2'\n",
       "98. 'Cxcl10'\n",
       "99. 'Gbp2'\n",
       "100. 'Il10'\n",
       "101. 'Acod1'\n",
       "102. 'Mmp13'\n",
       "103. 'Il23a'\n",
       "104. 'Arhgef3'\n",
       "105. 'Serpine1'\n",
       "106. 'Traf1'\n",
       "107. 'Vcam1'\n",
       "108. 'Ackr4'\n",
       "109. 'Marcksl1'\n",
       "110. 'Nfkbid'\n",
       "111. 'Ikbke'\n",
       "112. 'Ccl12'\n",
       "113. 'Ifit3'\n",
       "114. 'Cebpb'\n",
       "115. 'Zfp36l1'\n",
       "116. 'Txnip'\n",
       "117. 'Nfib'\n",
       "118. 'Hes1'\n",
       "119. 'Pias1'\n",
       "120. 'Klf2'\n",
       "121. 'Dusp2'\n",
       "122. 'Wee1'\n",
       "123. 'Thbs1'\n",
       "124. 'Sik1'\n",
       "125. 'Gdf15'\n",
       "126. 'Ier5'\n",
       "127. 'Rgs1'\n",
       "128. 'Id2'\n",
       "129. 'Apold1'\n",
       "130. 'Fos'\n",
       "\n",
       "\n"
      ],
      "text/plain": [
       "  [1] \"Fosb\"     \"Fosl1\"    \"Fosl2\"    \"Jun\"      \"Junb\"     \"Jund\"    \n",
       "  [7] \"Egr1\"     \"Egr2\"     \"Egr3\"     \"Egr4\"     \"Nr4a1\"    \"Nr4a2\"   \n",
       " [13] \"Nr4a3\"    \"Arc\"      \"Homer1\"   \"Rheb\"     \"Rgs2\"     \"Plk2\"    \n",
       " [19] \"Ptgs2\"    \"Bdnf\"     \"Inhba\"    \"Nptx2\"    \"Plat\"     \"Nrn1\"    \n",
       " [25] \"Myc\"      \"Dusp1\"    \"Dusp5\"    \"Dusp6\"    \"Pcdh8\"    \"Cyr61\"   \n",
       " [31] \"Gadd45b\"  \"Trib1\"    \"Gem\"      \"Btg2\"     \"Ier2\"     \"Npas4\"   \n",
       " [37] \"Rasd1\"    \"Crem\"     \"Mbnl2\"    \"Arf4\"     \"Gadd45g\"  \"Arih1\"   \n",
       " [43] \"Nup98\"    \"Ppp1r15a\" \"Fbxo33\"   \"Per1\"     \"Per2\"     \"Maff\"    \n",
       " [49] \"Zfp36\"    \"Srf\"      \"Mcl1\"     \"Ctgf\"     \"Il6\"      \"Atf3\"    \n",
       " [55] \"Rcan1\"    \"Ncoa7\"    \"Bhlhe40\"  \"Slc2a3\"   \"Nfkbia\"   \"Ier3\"    \n",
       " [61] \"Sgk1\"     \"Klf6\"     \"Klf10\"    \"Nfkbiz\"   \"Gbp2b\"    \"Tnfaip3\" \n",
       " [67] \"Cebpd\"    \"Hbegf\"    \"Ldlr\"     \"Tsc22d1\"  \"F3\"       \"Ccl2\"    \n",
       " [73] \"Csrnp1\"   \"Pmaip1\"   \"Zfp36l2\"  \"Plau\"     \"Ccl5\"     \"Saa3\"    \n",
       " [79] \"Tnf\"      \"Irf1\"     \"Cd83\"     \"Map3k8\"   \"Socs3\"    \"Il1a\"    \n",
       " [85] \"Il1b\"     \"Sod2\"     \"Pim1\"     \"Peli1\"    \"Tlr2\"     \"Ccl3\"    \n",
       " [91] \"Noct\"     \"Bcl3\"     \"Ifit2\"    \"Icam1\"    \"Ifit1\"    \"Tnfsf9\"  \n",
       " [97] \"Ccrl2\"    \"Cxcl10\"   \"Gbp2\"     \"Il10\"     \"Acod1\"    \"Mmp13\"   \n",
       "[103] \"Il23a\"    \"Arhgef3\"  \"Serpine1\" \"Traf1\"    \"Vcam1\"    \"Ackr4\"   \n",
       "[109] \"Marcksl1\" \"Nfkbid\"   \"Ikbke\"    \"Ccl12\"    \"Ifit3\"    \"Cebpb\"   \n",
       "[115] \"Zfp36l1\"  \"Txnip\"    \"Nfib\"     \"Hes1\"     \"Pias1\"    \"Klf2\"    \n",
       "[121] \"Dusp2\"    \"Wee1\"     \"Thbs1\"    \"Sik1\"     \"Gdf15\"    \"Ier5\"    \n",
       "[127] \"Rgs1\"     \"Id2\"      \"Apold1\"   \"Fos\"     "
      ]
     },
     "metadata": {},
     "output_type": "display_data"
    }
   ],
   "source": [
    "IEG"
   ]
  },
  {
   "cell_type": "markdown",
   "metadata": {},
   "source": [
    "#### IEG feature plots"
   ]
  },
  {
   "cell_type": "code",
   "execution_count": 12,
   "metadata": {},
   "outputs": [
    {
     "data": {
      "image/png": "[encoded data removed]",
      "text/plain": [
       "plot without title"
      ]
     },
     "metadata": {
      "image/png": {
       "height": 420,
       "width": 420
      }
     },
     "output_type": "display_data"
    }
   ],
   "source": [
    "FeaturePlot(LS.integrated, feature='Fos', col=c('gray','red')) + theme_minimal()"
   ]
  },
  {
   "cell_type": "code",
   "execution_count": 13,
   "metadata": {},
   "outputs": [
    {
     "data": {
      "image/png": "[encoded data removed]",
      "text/plain": [
       "plot without title"
      ]
     },
     "metadata": {
      "image/png": {
       "height": 420,
       "width": 420
      }
     },
     "output_type": "display_data"
    }
   ],
   "source": [
    "FeaturePlot(LS.integrated, feature='Homer1', col=c('gray','red')) + theme_minimal()"
   ]
  },
  {
   "cell_type": "markdown",
   "metadata": {},
   "source": [
    "#### Grabbing dataframe of all IEGs for all cells"
   ]
  },
  {
   "cell_type": "code",
   "execution_count": 14,
   "metadata": {},
   "outputs": [],
   "source": [
    "#Grabbing all expression data\n",
    "assay.data<-data.frame(GetAssayData(LS.integrated, slot='data'))"
   ]
  },
  {
   "cell_type": "code",
   "execution_count": 15,
   "metadata": {},
   "outputs": [],
   "source": [
    "Cell_type <- c(\"Gaba1\",\"Gaba2\",\"Gaba3\",\"Gaba4\",\"Gaba5\",\"Gaba6\",\"Gaba7\",\"Glu1\",\"Gaba8\",\"Gaba9\",\"Gaba10\",\"Glu2\",\"Gaba11\",\"Gaba12\")"
   ]
  },
  {
   "cell_type": "code",
   "execution_count": 16,
   "metadata": {
    "scrolled": true
   },
   "outputs": [
    {
     "name": "stderr",
     "output_type": "stream",
     "text": [
      "Warning message in wilcox.test.default(as.numeric(data.con), as.numeric(data.stim)):\n",
      "\"cannot compute exact p-value with ties\"\n",
      "Warning message in wilcox.test.default(as.numeric(data.con), as.numeric(data.stim)):\n",
      "\"cannot compute exact p-value with ties\"\n",
      "Warning message in wilcox.test.default(as.numeric(data.con), as.numeric(data.stim)):\n",
      "\"cannot compute exact p-value with ties\"\n",
      "Warning message in wilcox.test.default(as.numeric(data.con), as.numeric(data.stim)):\n",
      "\"cannot compute exact p-value with ties\"\n",
      "Warning message in wilcox.test.default(as.numeric(data.con), as.numeric(data.stim)):\n",
      "\"cannot compute exact p-value with ties\"\n",
      "Warning message in wilcox.test.default(as.numeric(data.con), as.numeric(data.stim)):\n",
      "\"cannot compute exact p-value with ties\"\n",
      "Warning message in wilcox.test.default(as.numeric(data.con), as.numeric(data.stim)):\n",
      "\"cannot compute exact p-value with ties\"\n",
      "Warning message in wilcox.test.default(as.numeric(data.con), as.numeric(data.stim)):\n",
      "\"cannot compute exact p-value with ties\"\n",
      "Warning message in wilcox.test.default(as.numeric(data.con), as.numeric(data.stim)):\n",
      "\"cannot compute exact p-value with ties\"\n",
      "Warning message in wilcox.test.default(as.numeric(data.con), as.numeric(data.stim)):\n",
      "\"cannot compute exact p-value with ties\"\n",
      "Warning message in wilcox.test.default(as.numeric(data.con), as.numeric(data.stim)):\n",
      "\"cannot compute exact p-value with ties\"\n",
      "Warning message in wilcox.test.default(as.numeric(data.con), as.numeric(data.stim)):\n",
      "\"cannot compute exact p-value with ties\"\n",
      "Warning message in wilcox.test.default(as.numeric(data.con), as.numeric(data.stim)):\n",
      "\"cannot compute exact p-value with ties\"\n",
      "Warning message in wilcox.test.default(as.numeric(data.con), as.numeric(data.stim)):\n",
      "\"cannot compute exact p-value with ties\"\n",
      "Warning message in wilcox.test.default(as.numeric(data.con), as.numeric(data.stim)):\n",
      "\"cannot compute exact p-value with ties\"\n",
      "Warning message in wilcox.test.default(as.numeric(data.con), as.numeric(data.stim)):\n",
      "\"cannot compute exact p-value with ties\"\n",
      "Warning message in wilcox.test.default(as.numeric(data.con), as.numeric(data.stim)):\n",
      "\"cannot compute exact p-value with ties\"\n",
      "Warning message in wilcox.test.default(as.numeric(data.con), as.numeric(data.stim)):\n",
      "\"cannot compute exact p-value with ties\"\n",
      "Warning message in wilcox.test.default(as.numeric(data.con), as.numeric(data.stim)):\n",
      "\"cannot compute exact p-value with ties\"\n",
      "Warning message in wilcox.test.default(as.numeric(data.con), as.numeric(data.stim)):\n",
      "\"cannot compute exact p-value with ties\"\n",
      "Warning message in wilcox.test.default(as.numeric(data.con), as.numeric(data.stim)):\n",
      "\"cannot compute exact p-value with ties\"\n",
      "Warning message in wilcox.test.default(as.numeric(data.con), as.numeric(data.stim)):\n",
      "\"cannot compute exact p-value with ties\"\n",
      "Warning message in wilcox.test.default(as.numeric(data.con), as.numeric(data.stim)):\n",
      "\"cannot compute exact p-value with ties\"\n",
      "Warning message in wilcox.test.default(as.numeric(data.con), as.numeric(data.stim)):\n",
      "\"cannot compute exact p-value with ties\"\n",
      "Warning message in wilcox.test.default(as.numeric(data.con), as.numeric(data.stim)):\n",
      "\"cannot compute exact p-value with ties\"\n",
      "Warning message in wilcox.test.default(as.numeric(data.con), as.numeric(data.stim)):\n",
      "\"cannot compute exact p-value with ties\"\n",
      "Warning message in wilcox.test.default(as.numeric(data.con), as.numeric(data.stim)):\n",
      "\"cannot compute exact p-value with ties\"\n",
      "Warning message in wilcox.test.default(as.numeric(data.con), as.numeric(data.stim)):\n",
      "\"cannot compute exact p-value with ties\"\n",
      "Warning message in wilcox.test.default(as.numeric(data.con), as.numeric(data.stim)):\n",
      "\"cannot compute exact p-value with ties\"\n",
      "Warning message in wilcox.test.default(as.numeric(data.con), as.numeric(data.stim)):\n",
      "\"cannot compute exact p-value with ties\"\n",
      "Warning message in wilcox.test.default(as.numeric(data.con), as.numeric(data.stim)):\n",
      "\"cannot compute exact p-value with ties\"\n",
      "Warning message in wilcox.test.default(as.numeric(data.con), as.numeric(data.stim)):\n",
      "\"cannot compute exact p-value with ties\"\n",
      "Warning message in wilcox.test.default(as.numeric(data.con), as.numeric(data.stim)):\n",
      "\"cannot compute exact p-value with ties\"\n",
      "Warning message in wilcox.test.default(as.numeric(data.con), as.numeric(data.stim)):\n",
      "\"cannot compute exact p-value with ties\"\n",
      "Warning message in wilcox.test.default(as.numeric(data.con), as.numeric(data.stim)):\n",
      "\"cannot compute exact p-value with ties\"\n",
      "Warning message in wilcox.test.default(as.numeric(data.con), as.numeric(data.stim)):\n",
      "\"cannot compute exact p-value with ties\"\n",
      "Warning message in wilcox.test.default(as.numeric(data.con), as.numeric(data.stim)):\n",
      "\"cannot compute exact p-value with ties\"\n",
      "Warning message in wilcox.test.default(as.numeric(data.con), as.numeric(data.stim)):\n",
      "\"cannot compute exact p-value with ties\"\n",
      "Warning message in wilcox.test.default(as.numeric(data.con), as.numeric(data.stim)):\n",
      "\"cannot compute exact p-value with ties\"\n",
      "Warning message in wilcox.test.default(as.numeric(data.con), as.numeric(data.stim)):\n",
      "\"cannot compute exact p-value with ties\"\n",
      "Warning message in wilcox.test.default(as.numeric(data.con), as.numeric(data.stim)):\n",
      "\"cannot compute exact p-value with ties\"\n",
      "Warning message in wilcox.test.default(as.numeric(data.con), as.numeric(data.stim)):\n",
      "\"cannot compute exact p-value with ties\"\n",
      "Warning message in wilcox.test.default(as.numeric(data.con), as.numeric(data.stim)):\n",
      "\"cannot compute exact p-value with ties\"\n",
      "Warning message in wilcox.test.default(as.numeric(data.con), as.numeric(data.stim)):\n",
      "\"cannot compute exact p-value with ties\"\n",
      "Warning message in wilcox.test.default(as.numeric(data.con), as.numeric(data.stim)):\n",
      "\"cannot compute exact p-value with ties\"\n",
      "Warning message in wilcox.test.default(as.numeric(data.con), as.numeric(data.stim)):\n",
      "\"cannot compute exact p-value with ties\"\n",
      "Warning message in wilcox.test.default(as.numeric(data.con), as.numeric(data.stim)):\n",
      "\"cannot compute exact p-value with ties\"\n",
      "Warning message in wilcox.test.default(as.numeric(data.con), as.numeric(data.stim)):\n",
      "\"cannot compute exact p-value with ties\"\n",
      "Warning message in wilcox.test.default(as.numeric(data.con), as.numeric(data.stim)):\n",
      "\"cannot compute exact p-value with ties\"\n",
      "Warning message in wilcox.test.default(as.numeric(data.con), as.numeric(data.stim)):\n",
      "\"cannot compute exact p-value with ties\"\n",
      "Warning message in wilcox.test.default(as.numeric(data.con), as.numeric(data.stim)):\n",
      "\"cannot compute exact p-value with ties\"\n",
      "Warning message in wilcox.test.default(as.numeric(data.con), as.numeric(data.stim)):\n",
      "\"cannot compute exact p-value with ties\"\n",
      "Warning message in wilcox.test.default(as.numeric(data.con), as.numeric(data.stim)):\n",
      "\"cannot compute exact p-value with ties\"\n",
      "Warning message in wilcox.test.default(as.numeric(data.con), as.numeric(data.stim)):\n",
      "\"cannot compute exact p-value with ties\"\n",
      "Warning message in wilcox.test.default(as.numeric(data.con), as.numeric(data.stim)):\n",
      "\"cannot compute exact p-value with ties\"\n",
      "Warning message in wilcox.test.default(as.numeric(data.con), as.numeric(data.stim)):\n",
      "\"cannot compute exact p-value with ties\"\n",
      "Warning message in wilcox.test.default(as.numeric(data.con), as.numeric(data.stim)):\n",
      "\"cannot compute exact p-value with ties\"\n",
      "Warning message in wilcox.test.default(as.numeric(data.con), as.numeric(data.stim)):\n",
      "\"cannot compute exact p-value with ties\"\n",
      "Warning message in wilcox.test.default(as.numeric(data.con), as.numeric(data.stim)):\n",
      "\"cannot compute exact p-value with ties\"\n",
      "Warning message in wilcox.test.default(as.numeric(data.con), as.numeric(data.stim)):\n",
      "\"cannot compute exact p-value with ties\"\n",
      "Warning message in wilcox.test.default(as.numeric(data.con), as.numeric(data.stim)):\n",
      "\"cannot compute exact p-value with ties\"\n",
      "Warning message in wilcox.test.default(as.numeric(data.con), as.numeric(data.stim)):\n",
      "\"cannot compute exact p-value with ties\"\n",
      "Warning message in wilcox.test.default(as.numeric(data.con), as.numeric(data.stim)):\n",
      "\"cannot compute exact p-value with ties\"\n",
      "Warning message in wilcox.test.default(as.numeric(data.con), as.numeric(data.stim)):\n",
      "\"cannot compute exact p-value with ties\"\n",
      "Warning message in wilcox.test.default(as.numeric(data.con), as.numeric(data.stim)):\n",
      "\"cannot compute exact p-value with ties\"\n",
      "Warning message in wilcox.test.default(as.numeric(data.con), as.numeric(data.stim)):\n",
      "\"cannot compute exact p-value with ties\"\n"
     ]
    },
    {
     "name": "stderr",
     "output_type": "stream",
     "text": [
      "Warning message in wilcox.test.default(as.numeric(data.con), as.numeric(data.stim)):\n",
      "\"cannot compute exact p-value with ties\"\n",
      "Warning message in wilcox.test.default(as.numeric(data.con), as.numeric(data.stim)):\n",
      "\"cannot compute exact p-value with ties\"\n",
      "Warning message in wilcox.test.default(as.numeric(data.con), as.numeric(data.stim)):\n",
      "\"cannot compute exact p-value with ties\"\n",
      "Warning message in wilcox.test.default(as.numeric(data.con), as.numeric(data.stim)):\n",
      "\"cannot compute exact p-value with ties\"\n",
      "Warning message in wilcox.test.default(as.numeric(data.con), as.numeric(data.stim)):\n",
      "\"cannot compute exact p-value with ties\"\n",
      "Warning message in wilcox.test.default(as.numeric(data.con), as.numeric(data.stim)):\n",
      "\"cannot compute exact p-value with ties\"\n",
      "Warning message in wilcox.test.default(as.numeric(data.con), as.numeric(data.stim)):\n",
      "\"cannot compute exact p-value with ties\"\n",
      "Warning message in wilcox.test.default(as.numeric(data.con), as.numeric(data.stim)):\n",
      "\"cannot compute exact p-value with ties\"\n",
      "Warning message in wilcox.test.default(as.numeric(data.con), as.numeric(data.stim)):\n",
      "\"cannot compute exact p-value with ties\"\n",
      "Warning message in wilcox.test.default(as.numeric(data.con), as.numeric(data.stim)):\n",
      "\"cannot compute exact p-value with ties\"\n",
      "Warning message in wilcox.test.default(as.numeric(data.con), as.numeric(data.stim)):\n",
      "\"cannot compute exact p-value with ties\"\n",
      "Warning message in wilcox.test.default(as.numeric(data.con), as.numeric(data.stim)):\n",
      "\"cannot compute exact p-value with ties\"\n",
      "Warning message in wilcox.test.default(as.numeric(data.con), as.numeric(data.stim)):\n",
      "\"cannot compute exact p-value with ties\"\n",
      "Warning message in wilcox.test.default(as.numeric(data.con), as.numeric(data.stim)):\n",
      "\"cannot compute exact p-value with ties\"\n",
      "Warning message in wilcox.test.default(as.numeric(data.con), as.numeric(data.stim)):\n",
      "\"cannot compute exact p-value with ties\"\n",
      "Warning message in wilcox.test.default(as.numeric(data.con), as.numeric(data.stim)):\n",
      "\"cannot compute exact p-value with ties\"\n",
      "Warning message in wilcox.test.default(as.numeric(data.con), as.numeric(data.stim)):\n",
      "\"cannot compute exact p-value with ties\"\n",
      "Warning message in wilcox.test.default(as.numeric(data.con), as.numeric(data.stim)):\n",
      "\"cannot compute exact p-value with ties\"\n",
      "Warning message in wilcox.test.default(as.numeric(data.con), as.numeric(data.stim)):\n",
      "\"cannot compute exact p-value with ties\"\n",
      "Warning message in wilcox.test.default(as.numeric(data.con), as.numeric(data.stim)):\n",
      "\"cannot compute exact p-value with ties\"\n",
      "Warning message in wilcox.test.default(as.numeric(data.con), as.numeric(data.stim)):\n",
      "\"cannot compute exact p-value with ties\"\n",
      "Warning message in wilcox.test.default(as.numeric(data.con), as.numeric(data.stim)):\n",
      "\"cannot compute exact p-value with ties\"\n",
      "Warning message in wilcox.test.default(as.numeric(data.con), as.numeric(data.stim)):\n",
      "\"cannot compute exact p-value with ties\"\n",
      "Warning message in wilcox.test.default(as.numeric(data.con), as.numeric(data.stim)):\n",
      "\"cannot compute exact p-value with ties\"\n",
      "Warning message in wilcox.test.default(as.numeric(data.con), as.numeric(data.stim)):\n",
      "\"cannot compute exact p-value with ties\"\n",
      "Warning message in wilcox.test.default(as.numeric(data.con), as.numeric(data.stim)):\n",
      "\"cannot compute exact p-value with ties\"\n",
      "Warning message in wilcox.test.default(as.numeric(data.con), as.numeric(data.stim)):\n",
      "\"cannot compute exact p-value with ties\"\n",
      "Warning message in wilcox.test.default(as.numeric(data.con), as.numeric(data.stim)):\n",
      "\"cannot compute exact p-value with ties\"\n",
      "Warning message in wilcox.test.default(as.numeric(data.con), as.numeric(data.stim)):\n",
      "\"cannot compute exact p-value with ties\"\n",
      "Warning message in wilcox.test.default(as.numeric(data.con), as.numeric(data.stim)):\n",
      "\"cannot compute exact p-value with ties\"\n",
      "Warning message in wilcox.test.default(as.numeric(data.con), as.numeric(data.stim)):\n",
      "\"cannot compute exact p-value with ties\"\n",
      "Warning message in wilcox.test.default(as.numeric(data.con), as.numeric(data.stim)):\n",
      "\"cannot compute exact p-value with ties\"\n",
      "Warning message in wilcox.test.default(as.numeric(data.con), as.numeric(data.stim)):\n",
      "\"cannot compute exact p-value with ties\"\n",
      "Warning message in wilcox.test.default(as.numeric(data.con), as.numeric(data.stim)):\n",
      "\"cannot compute exact p-value with ties\"\n",
      "Warning message in wilcox.test.default(as.numeric(data.con), as.numeric(data.stim)):\n",
      "\"cannot compute exact p-value with ties\"\n",
      "Warning message in wilcox.test.default(as.numeric(data.con), as.numeric(data.stim)):\n",
      "\"cannot compute exact p-value with ties\"\n",
      "Warning message in wilcox.test.default(as.numeric(data.con), as.numeric(data.stim)):\n",
      "\"cannot compute exact p-value with ties\"\n",
      "Warning message in wilcox.test.default(as.numeric(data.con), as.numeric(data.stim)):\n",
      "\"cannot compute exact p-value with ties\"\n",
      "Warning message in wilcox.test.default(as.numeric(data.con), as.numeric(data.stim)):\n",
      "\"cannot compute exact p-value with ties\"\n",
      "Warning message in wilcox.test.default(as.numeric(data.con), as.numeric(data.stim)):\n",
      "\"cannot compute exact p-value with ties\"\n",
      "Warning message in wilcox.test.default(as.numeric(data.con), as.numeric(data.stim)):\n",
      "\"cannot compute exact p-value with ties\"\n",
      "Warning message in wilcox.test.default(as.numeric(data.con), as.numeric(data.stim)):\n",
      "\"cannot compute exact p-value with ties\"\n",
      "Warning message in wilcox.test.default(as.numeric(data.con), as.numeric(data.stim)):\n",
      "\"cannot compute exact p-value with ties\"\n",
      "Warning message in wilcox.test.default(as.numeric(data.con), as.numeric(data.stim)):\n",
      "\"cannot compute exact p-value with ties\"\n",
      "Warning message in wilcox.test.default(as.numeric(data.con), as.numeric(data.stim)):\n",
      "\"cannot compute exact p-value with ties\"\n",
      "Warning message in wilcox.test.default(as.numeric(data.con), as.numeric(data.stim)):\n",
      "\"cannot compute exact p-value with ties\"\n",
      "Warning message in wilcox.test.default(as.numeric(data.con), as.numeric(data.stim)):\n",
      "\"cannot compute exact p-value with ties\"\n",
      "Warning message in wilcox.test.default(as.numeric(data.con), as.numeric(data.stim)):\n",
      "\"cannot compute exact p-value with ties\"\n",
      "Warning message in wilcox.test.default(as.numeric(data.con), as.numeric(data.stim)):\n",
      "\"cannot compute exact p-value with ties\"\n",
      "Warning message in wilcox.test.default(as.numeric(data.con), as.numeric(data.stim)):\n",
      "\"cannot compute exact p-value with ties\"\n",
      "Warning message in wilcox.test.default(as.numeric(data.con), as.numeric(data.stim)):\n",
      "\"cannot compute exact p-value with ties\"\n",
      "Warning message in wilcox.test.default(as.numeric(data.con), as.numeric(data.stim)):\n",
      "\"cannot compute exact p-value with ties\"\n",
      "Warning message in wilcox.test.default(as.numeric(data.con), as.numeric(data.stim)):\n",
      "\"cannot compute exact p-value with ties\"\n",
      "Warning message in wilcox.test.default(as.numeric(data.con), as.numeric(data.stim)):\n",
      "\"cannot compute exact p-value with ties\"\n",
      "Warning message in wilcox.test.default(as.numeric(data.con), as.numeric(data.stim)):\n",
      "\"cannot compute exact p-value with ties\"\n",
      "Warning message in wilcox.test.default(as.numeric(data.con), as.numeric(data.stim)):\n",
      "\"cannot compute exact p-value with ties\"\n",
      "Warning message in wilcox.test.default(as.numeric(data.con), as.numeric(data.stim)):\n",
      "\"cannot compute exact p-value with ties\"\n",
      "Warning message in wilcox.test.default(as.numeric(data.con), as.numeric(data.stim)):\n",
      "\"cannot compute exact p-value with ties\"\n",
      "Warning message in wilcox.test.default(as.numeric(data.con), as.numeric(data.stim)):\n",
      "\"cannot compute exact p-value with ties\"\n",
      "Warning message in wilcox.test.default(as.numeric(data.con), as.numeric(data.stim)):\n",
      "\"cannot compute exact p-value with ties\"\n",
      "Warning message in wilcox.test.default(as.numeric(data.con), as.numeric(data.stim)):\n",
      "\"cannot compute exact p-value with ties\"\n",
      "Warning message in wilcox.test.default(as.numeric(data.con), as.numeric(data.stim)):\n",
      "\"cannot compute exact p-value with ties\"\n",
      "Warning message in wilcox.test.default(as.numeric(data.con), as.numeric(data.stim)):\n",
      "\"cannot compute exact p-value with ties\"\n",
      "Warning message in wilcox.test.default(as.numeric(data.con), as.numeric(data.stim)):\n",
      "\"cannot compute exact p-value with ties\"\n"
     ]
    }
   ],
   "source": [
    "#only including cells that have any expression of a given IEG\n",
    "#p value calc through wilcox, post hoc BH\n",
    "\n",
    "log2FC <- vector()\n",
    "IEG.df <- data.frame(Cell_type)\n",
    "p.val <- vector()\n",
    "p.val.df <- data.frame(Cell_type)\n",
    "\n",
    "for (i in IEG){\n",
    "    IEG.data <- assay.data[rownames(assay.data) %in% i,]\n",
    "    \n",
    "    for (c in Cell_type){\n",
    "        cells.con <- intersect(colnames(LS_mor), eval(as.symbol(paste(c,'_barcode',sep=''))))\n",
    "        cells.stim <- intersect(colnames(LS_nal), eval(as.symbol(paste(c,'_barcode',sep=''))))\n",
    "    \n",
    "        data.con <- IEG.data[colnames(IEG.data) %in% cells.con]\n",
    "        data.stim <- IEG.data[colnames(IEG.data) %in% cells.stim]\n",
    "        \n",
    "        p <- wilcox.test(as.numeric(data.con), as.numeric(data.stim))$p.value\n",
    "        p <- p.adjust(p, method='BH',n=length(Cell_type))\n",
    "        p <- ifelse(p > 1, 1, p)\n",
    "        p.val[c] <- p\n",
    "        \n",
    "        #include all cells in analysis\n",
    "        mean.stim <- rowMeans(expm1(data.stim ))\n",
    "        mean.con <- rowMeans(expm1(data.con ))\n",
    "        \n",
    "        #include only cells positive for each gene\n",
    "        #mean.stim <- rowMeans(expm1(data.stim > 0))\n",
    "        #mean.con <- rowMeans(expm1(data.con > 0))\n",
    "        \n",
    "        mean.diff <- log2(mean.stim) - log2(mean.con)\n",
    "        mean.diff[is.infinite(mean.diff)]<-NA\n",
    "        log2FC[c] <- mean.diff \n",
    "    \n",
    "    }\n",
    "    \n",
    "    IEG.df <- cbind(IEG.df, data.frame(log2FC))\n",
    "    log2FC <- vector()\n",
    "    \n",
    "    p.val.df <- cbind(p.val.df, data.frame(p.val))\n",
    "    p.val <- vector()\n",
    "}"
   ]
  },
  {
   "cell_type": "code",
   "execution_count": 17,
   "metadata": {},
   "outputs": [
    {
     "data": {
      "text/html": [
       "<table class=\"dataframe\">\n",
       "<caption>A data.frame: 6 × 17</caption>\n",
       "<thead>\n",
       "\t<tr><th></th><th scope=col>Nr4a3</th><th scope=col>Homer1</th><th scope=col>Rheb</th><th scope=col>Inhba</th><th scope=col>Nptx2</th><th scope=col>Dusp5</th><th scope=col>Gem</th><th scope=col>Mbnl2</th><th scope=col>Ncoa7</th><th scope=col>Bhlhe40</th><th scope=col>Hbegf</th><th scope=col>Pim1</th><th scope=col>Peli1</th><th scope=col>Noct</th><th scope=col>Arhgef3</th><th scope=col>Ackr4</th><th scope=col>Nfkbid</th></tr>\n",
       "\t<tr><th></th><th scope=col>&lt;dbl&gt;</th><th scope=col>&lt;dbl&gt;</th><th scope=col>&lt;dbl&gt;</th><th scope=col>&lt;dbl&gt;</th><th scope=col>&lt;dbl&gt;</th><th scope=col>&lt;dbl&gt;</th><th scope=col>&lt;dbl&gt;</th><th scope=col>&lt;dbl&gt;</th><th scope=col>&lt;dbl&gt;</th><th scope=col>&lt;dbl&gt;</th><th scope=col>&lt;dbl&gt;</th><th scope=col>&lt;dbl&gt;</th><th scope=col>&lt;dbl&gt;</th><th scope=col>&lt;dbl&gt;</th><th scope=col>&lt;dbl&gt;</th><th scope=col>&lt;dbl&gt;</th><th scope=col>&lt;dbl&gt;</th></tr>\n",
       "</thead>\n",
       "<tbody>\n",
       "\t<tr><th scope=row>Gaba1</th><td>0.1170470</td><td>0.4278760658</td><td>1.00000000</td><td>1.00000000</td><td>1.000000000</td><td>1.00000000</td><td>1.00000000</td><td>1.0000000000</td><td>1.000000000</td><td>1.000000000</td><td>1.0000000</td><td>0.8804686569</td><td>0.02426471</td><td>1.00000000</td><td>0.15866994</td><td>1.000000e+00</td><td>0.03618386</td></tr>\n",
       "\t<tr><th scope=row>Gaba2</th><td>0.0394259</td><td>1.0000000000</td><td>0.95511557</td><td>0.03438933</td><td>1.000000000</td><td>1.00000000</td><td>0.05115730</td><td>1.0000000000</td><td>1.000000000</td><td>1.000000000</td><td>1.0000000</td><td>1.0000000000</td><td>0.40148811</td><td>1.00000000</td><td>1.00000000</td><td>1.000000e+00</td><td>1.00000000</td></tr>\n",
       "\t<tr><th scope=row>Gaba4</th><td>1.0000000</td><td>1.0000000000</td><td>1.00000000</td><td>0.55204304</td><td>1.000000000</td><td>0.01031274</td><td>1.00000000</td><td>1.0000000000</td><td>1.000000000</td><td>1.000000000</td><td>1.0000000</td><td>1.0000000000</td><td>0.40687295</td><td>1.00000000</td><td>1.00000000</td><td>1.000000e+00</td><td>1.00000000</td></tr>\n",
       "\t<tr><th scope=row>Gaba7</th><td>1.0000000</td><td>1.0000000000</td><td>1.00000000</td><td>1.00000000</td><td>1.000000000</td><td>1.00000000</td><td>1.00000000</td><td>1.0000000000</td><td>1.000000000</td><td>0.007962383</td><td>1.0000000</td><td>1.0000000000</td><td>0.55434189</td><td>1.00000000</td><td>0.04321539</td><td>1.000000e+00</td><td>1.00000000</td></tr>\n",
       "\t<tr><th scope=row>Gaba8</th><td>1.0000000</td><td>0.0000596395</td><td>0.02038367</td><td>1.00000000</td><td>0.001727945</td><td>0.18990672</td><td>0.04603575</td><td>0.0008603571</td><td>0.002072465</td><td>1.000000000</td><td>1.0000000</td><td>0.0009926842</td><td>1.00000000</td><td>0.00270671</td><td>0.49587229</td><td>2.923911e-05</td><td>1.00000000</td></tr>\n",
       "\t<tr><th scope=row>Glu2</th><td>1.0000000</td><td>1.0000000000</td><td>1.00000000</td><td>0.02351334</td><td>1.000000000</td><td>1.00000000</td><td>1.00000000</td><td>1.0000000000</td><td>1.000000000</td><td>1.000000000</td><td>0.0173699</td><td>1.0000000000</td><td>0.32803386</td><td>0.14156334</td><td>0.09250877</td><td>1.000000e+00</td><td>1.00000000</td></tr>\n",
       "</tbody>\n",
       "</table>\n"
      ],
      "text/latex": [
       "A data.frame: 6 × 17\n",
       "\\begin{tabular}{r|lllllllllllllllll}\n",
       "  & Nr4a3 & Homer1 & Rheb & Inhba & Nptx2 & Dusp5 & Gem & Mbnl2 & Ncoa7 & Bhlhe40 & Hbegf & Pim1 & Peli1 & Noct & Arhgef3 & Ackr4 & Nfkbid\\\\\n",
       "  & <dbl> & <dbl> & <dbl> & <dbl> & <dbl> & <dbl> & <dbl> & <dbl> & <dbl> & <dbl> & <dbl> & <dbl> & <dbl> & <dbl> & <dbl> & <dbl> & <dbl>\\\\\n",
       "\\hline\n",
       "\tGaba1 & 0.1170470 & 0.4278760658 & 1.00000000 & 1.00000000 & 1.000000000 & 1.00000000 & 1.00000000 & 1.0000000000 & 1.000000000 & 1.000000000 & 1.0000000 & 0.8804686569 & 0.02426471 & 1.00000000 & 0.15866994 & 1.000000e+00 & 0.03618386\\\\\n",
       "\tGaba2 & 0.0394259 & 1.0000000000 & 0.95511557 & 0.03438933 & 1.000000000 & 1.00000000 & 0.05115730 & 1.0000000000 & 1.000000000 & 1.000000000 & 1.0000000 & 1.0000000000 & 0.40148811 & 1.00000000 & 1.00000000 & 1.000000e+00 & 1.00000000\\\\\n",
       "\tGaba4 & 1.0000000 & 1.0000000000 & 1.00000000 & 0.55204304 & 1.000000000 & 0.01031274 & 1.00000000 & 1.0000000000 & 1.000000000 & 1.000000000 & 1.0000000 & 1.0000000000 & 0.40687295 & 1.00000000 & 1.00000000 & 1.000000e+00 & 1.00000000\\\\\n",
       "\tGaba7 & 1.0000000 & 1.0000000000 & 1.00000000 & 1.00000000 & 1.000000000 & 1.00000000 & 1.00000000 & 1.0000000000 & 1.000000000 & 0.007962383 & 1.0000000 & 1.0000000000 & 0.55434189 & 1.00000000 & 0.04321539 & 1.000000e+00 & 1.00000000\\\\\n",
       "\tGaba8 & 1.0000000 & 0.0000596395 & 0.02038367 & 1.00000000 & 0.001727945 & 0.18990672 & 0.04603575 & 0.0008603571 & 0.002072465 & 1.000000000 & 1.0000000 & 0.0009926842 & 1.00000000 & 0.00270671 & 0.49587229 & 2.923911e-05 & 1.00000000\\\\\n",
       "\tGlu2 & 1.0000000 & 1.0000000000 & 1.00000000 & 0.02351334 & 1.000000000 & 1.00000000 & 1.00000000 & 1.0000000000 & 1.000000000 & 1.000000000 & 0.0173699 & 1.0000000000 & 0.32803386 & 0.14156334 & 0.09250877 & 1.000000e+00 & 1.00000000\\\\\n",
       "\\end{tabular}\n"
      ],
      "text/markdown": [
       "\n",
       "A data.frame: 6 × 17\n",
       "\n",
       "| <!--/--> | Nr4a3 &lt;dbl&gt; | Homer1 &lt;dbl&gt; | Rheb &lt;dbl&gt; | Inhba &lt;dbl&gt; | Nptx2 &lt;dbl&gt; | Dusp5 &lt;dbl&gt; | Gem &lt;dbl&gt; | Mbnl2 &lt;dbl&gt; | Ncoa7 &lt;dbl&gt; | Bhlhe40 &lt;dbl&gt; | Hbegf &lt;dbl&gt; | Pim1 &lt;dbl&gt; | Peli1 &lt;dbl&gt; | Noct &lt;dbl&gt; | Arhgef3 &lt;dbl&gt; | Ackr4 &lt;dbl&gt; | Nfkbid &lt;dbl&gt; |\n",
       "|---|---|---|---|---|---|---|---|---|---|---|---|---|---|---|---|---|---|\n",
       "| Gaba1 | 0.1170470 | 0.4278760658 | 1.00000000 | 1.00000000 | 1.000000000 | 1.00000000 | 1.00000000 | 1.0000000000 | 1.000000000 | 1.000000000 | 1.0000000 | 0.8804686569 | 0.02426471 | 1.00000000 | 0.15866994 | 1.000000e+00 | 0.03618386 |\n",
       "| Gaba2 | 0.0394259 | 1.0000000000 | 0.95511557 | 0.03438933 | 1.000000000 | 1.00000000 | 0.05115730 | 1.0000000000 | 1.000000000 | 1.000000000 | 1.0000000 | 1.0000000000 | 0.40148811 | 1.00000000 | 1.00000000 | 1.000000e+00 | 1.00000000 |\n",
       "| Gaba4 | 1.0000000 | 1.0000000000 | 1.00000000 | 0.55204304 | 1.000000000 | 0.01031274 | 1.00000000 | 1.0000000000 | 1.000000000 | 1.000000000 | 1.0000000 | 1.0000000000 | 0.40687295 | 1.00000000 | 1.00000000 | 1.000000e+00 | 1.00000000 |\n",
       "| Gaba7 | 1.0000000 | 1.0000000000 | 1.00000000 | 1.00000000 | 1.000000000 | 1.00000000 | 1.00000000 | 1.0000000000 | 1.000000000 | 0.007962383 | 1.0000000 | 1.0000000000 | 0.55434189 | 1.00000000 | 0.04321539 | 1.000000e+00 | 1.00000000 |\n",
       "| Gaba8 | 1.0000000 | 0.0000596395 | 0.02038367 | 1.00000000 | 0.001727945 | 0.18990672 | 0.04603575 | 0.0008603571 | 0.002072465 | 1.000000000 | 1.0000000 | 0.0009926842 | 1.00000000 | 0.00270671 | 0.49587229 | 2.923911e-05 | 1.00000000 |\n",
       "| Glu2 | 1.0000000 | 1.0000000000 | 1.00000000 | 0.02351334 | 1.000000000 | 1.00000000 | 1.00000000 | 1.0000000000 | 1.000000000 | 1.000000000 | 0.0173699 | 1.0000000000 | 0.32803386 | 0.14156334 | 0.09250877 | 1.000000e+00 | 1.00000000 |\n",
       "\n"
      ],
      "text/plain": [
       "      Nr4a3     Homer1       Rheb       Inhba      Nptx2       Dusp5     \n",
       "Gaba1 0.1170470 0.4278760658 1.00000000 1.00000000 1.000000000 1.00000000\n",
       "Gaba2 0.0394259 1.0000000000 0.95511557 0.03438933 1.000000000 1.00000000\n",
       "Gaba4 1.0000000 1.0000000000 1.00000000 0.55204304 1.000000000 0.01031274\n",
       "Gaba7 1.0000000 1.0000000000 1.00000000 1.00000000 1.000000000 1.00000000\n",
       "Gaba8 1.0000000 0.0000596395 0.02038367 1.00000000 0.001727945 0.18990672\n",
       "Glu2  1.0000000 1.0000000000 1.00000000 0.02351334 1.000000000 1.00000000\n",
       "      Gem        Mbnl2        Ncoa7       Bhlhe40     Hbegf     Pim1        \n",
       "Gaba1 1.00000000 1.0000000000 1.000000000 1.000000000 1.0000000 0.8804686569\n",
       "Gaba2 0.05115730 1.0000000000 1.000000000 1.000000000 1.0000000 1.0000000000\n",
       "Gaba4 1.00000000 1.0000000000 1.000000000 1.000000000 1.0000000 1.0000000000\n",
       "Gaba7 1.00000000 1.0000000000 1.000000000 0.007962383 1.0000000 1.0000000000\n",
       "Gaba8 0.04603575 0.0008603571 0.002072465 1.000000000 1.0000000 0.0009926842\n",
       "Glu2  1.00000000 1.0000000000 1.000000000 1.000000000 0.0173699 1.0000000000\n",
       "      Peli1      Noct       Arhgef3    Ackr4        Nfkbid    \n",
       "Gaba1 0.02426471 1.00000000 0.15866994 1.000000e+00 0.03618386\n",
       "Gaba2 0.40148811 1.00000000 1.00000000 1.000000e+00 1.00000000\n",
       "Gaba4 0.40687295 1.00000000 1.00000000 1.000000e+00 1.00000000\n",
       "Gaba7 0.55434189 1.00000000 0.04321539 1.000000e+00 1.00000000\n",
       "Gaba8 1.00000000 0.00270671 0.49587229 2.923911e-05 1.00000000\n",
       "Glu2  0.32803386 0.14156334 0.09250877 1.000000e+00 1.00000000"
      ]
     },
     "metadata": {},
     "output_type": "display_data"
    }
   ],
   "source": [
    "colnames(p.val.df) <- c('Cell_type',IEG)\n",
    "\n",
    "library(dplyr)\n",
    "p.sub <- p.val.df %>% filter_all(any_vars(.<0.05)) %>% \n",
    "select_if(function(x) any(x < 0.05))\n",
    "          \n",
    "sub.genes <- colnames(p.sub)\n",
    "sub.cells <- rownames(p.sub)\n",
    "          \n",
    "p.sub          "
   ]
  },
  {
   "cell_type": "code",
   "execution_count": 18,
   "metadata": {},
   "outputs": [
    {
     "name": "stderr",
     "output_type": "stream",
     "text": [
      "\n",
      "Attaching package: 'reshape2'\n",
      "\n",
      "\n",
      "The following object is masked from 'package:tidyr':\n",
      "\n",
      "    smiths\n",
      "\n",
      "\n"
     ]
    }
   ],
   "source": [
    "library(reshape2)\n",
    "library(scales)"
   ]
  },
  {
   "cell_type": "code",
   "execution_count": 19,
   "metadata": {},
   "outputs": [
    {
     "name": "stderr",
     "output_type": "stream",
     "text": [
      "Using Cell_type as id variables\n",
      "\n",
      "Using Cell_type as id variables\n",
      "\n"
     ]
    },
    {
     "data": {
      "text/html": [
       "<table class=\"dataframe\">\n",
       "<caption>A data.frame: 238 × 5</caption>\n",
       "<thead>\n",
       "\t<tr><th></th><th scope=col>cell_type</th><th scope=col>gene</th><th scope=col>logFC</th><th scope=col>pvalue</th><th scope=col>highlight</th></tr>\n",
       "\t<tr><th></th><th scope=col>&lt;chr&gt;</th><th scope=col>&lt;fct&gt;</th><th scope=col>&lt;dbl&gt;</th><th scope=col>&lt;dbl&gt;</th><th scope=col>&lt;chr&gt;</th></tr>\n",
       "</thead>\n",
       "<tbody>\n",
       "\t<tr><th scope=row>93</th><td>Gaba8 </td><td>Gem    </td><td>3.452491</td><td>0.0460357492</td><td>*</td></tr>\n",
       "\t<tr><th scope=row>97</th><td>Gaba11</td><td>Gem    </td><td>3.272678</td><td>1.0000000000</td><td>0</td></tr>\n",
       "\t<tr><th scope=row>74</th><td>Gaba4 </td><td>Dusp5  </td><td>2.930410</td><td>0.0103127357</td><td>*</td></tr>\n",
       "\t<tr><th scope=row>155</th><td>Gaba1 </td><td>Pim1   </td><td>2.903016</td><td>0.8804686569</td><td>0</td></tr>\n",
       "\t<tr><th scope=row>85</th><td>Gaba1 </td><td>Gem    </td><td>2.847912</td><td>1.0000000000</td><td>0</td></tr>\n",
       "\t<tr><th scope=row>163</th><td>Gaba8 </td><td>Pim1   </td><td>2.595290</td><td>0.0009926842</td><td>*</td></tr>\n",
       "\t<tr><th scope=row>65</th><td>Gaba8 </td><td>Nptx2  </td><td>2.338045</td><td>0.0017279451</td><td>*</td></tr>\n",
       "\t<tr><th scope=row>88</th><td>Gaba4 </td><td>Gem    </td><td>2.099801</td><td>1.0000000000</td><td>0</td></tr>\n",
       "\t<tr><th scope=row>91</th><td>Gaba7 </td><td>Gem    </td><td>2.017333</td><td>1.0000000000</td><td>0</td></tr>\n",
       "\t<tr><th scope=row>157</th><td>Gaba3 </td><td>Pim1   </td><td>1.927679</td><td>1.0000000000</td><td>0</td></tr>\n",
       "\t<tr><th scope=row>237</th><td>Gaba11</td><td>Nfkbid </td><td>1.913248</td><td>1.0000000000</td><td>0</td></tr>\n",
       "\t<tr><th scope=row>166</th><td>Glu2  </td><td>Pim1   </td><td>1.902760</td><td>1.0000000000</td><td>0</td></tr>\n",
       "\t<tr><th scope=row>238</th><td>Gaba12</td><td>Nfkbid </td><td>1.793153</td><td>1.0000000000</td><td>0</td></tr>\n",
       "\t<tr><th scope=row>159</th><td>Gaba5 </td><td>Pim1   </td><td>1.734092</td><td>1.0000000000</td><td>0</td></tr>\n",
       "\t<tr><th scope=row>156</th><td>Gaba2 </td><td>Pim1   </td><td>1.591490</td><td>1.0000000000</td><td>0</td></tr>\n",
       "\t<tr><th scope=row>83</th><td>Gaba11</td><td>Dusp5  </td><td>1.418458</td><td>1.0000000000</td><td>0</td></tr>\n",
       "\t<tr><th scope=row>158</th><td>Gaba4 </td><td>Pim1   </td><td>1.409954</td><td>1.0000000000</td><td>0</td></tr>\n",
       "\t<tr><th scope=row>162</th><td>Glu1  </td><td>Pim1   </td><td>1.369362</td><td>1.0000000000</td><td>0</td></tr>\n",
       "\t<tr><th scope=row>232</th><td>Glu1  </td><td>Nfkbid </td><td>1.342069</td><td>1.0000000000</td><td>0</td></tr>\n",
       "\t<tr><th scope=row>61</th><td>Gaba5 </td><td>Nptx2  </td><td>1.328762</td><td>1.0000000000</td><td>0</td></tr>\n",
       "\t<tr><th scope=row>79</th><td>Gaba8 </td><td>Dusp5  </td><td>1.318568</td><td>0.1899067174</td><td>0</td></tr>\n",
       "\t<tr><th scope=row>94</th><td>Gaba9 </td><td>Gem    </td><td>1.213181</td><td>1.0000000000</td><td>0</td></tr>\n",
       "\t<tr><th scope=row>141</th><td>Gaba1 </td><td>Hbegf  </td><td>1.162041</td><td>1.0000000000</td><td>0</td></tr>\n",
       "\t<tr><th scope=row>137</th><td>Gaba10</td><td>Bhlhe40</td><td>1.160391</td><td>1.0000000000</td><td>0</td></tr>\n",
       "\t<tr><th scope=row>196</th><td>Gaba12</td><td>Noct   </td><td>1.156562</td><td>1.0000000000</td><td>0</td></tr>\n",
       "\t<tr><th scope=row>226</th><td>Gaba2 </td><td>Nfkbid </td><td>1.075632</td><td>1.0000000000</td><td>0</td></tr>\n",
       "\t<tr><th scope=row>148</th><td>Glu1  </td><td>Hbegf  </td><td>1.072529</td><td>1.0000000000</td><td>0</td></tr>\n",
       "\t<tr><th scope=row>96</th><td>Glu2  </td><td>Gem    </td><td>1.052624</td><td>1.0000000000</td><td>0</td></tr>\n",
       "\t<tr><th scope=row>4</th><td>Gaba4 </td><td>Nr4a3  </td><td>1.032794</td><td>1.0000000000</td><td>0</td></tr>\n",
       "\t<tr><th scope=row>57</th><td>Gaba1 </td><td>Nptx2  </td><td>1.022694</td><td>1.0000000000</td><td>0</td></tr>\n",
       "\t<tr><th scope=row>...</th><td>...</td><td>...</td><td>...</td><td>...</td><td>...</td></tr>\n",
       "\t<tr><th scope=row>132</th><td>Gaba6 </td><td>Bhlhe40</td><td>-0.5017053</td><td>1.000000e+00</td><td>0</td></tr>\n",
       "\t<tr><th scope=row>54</th><td>Glu2  </td><td>Inhba  </td><td>-0.5257836</td><td>2.351334e-02</td><td>*</td></tr>\n",
       "\t<tr><th scope=row>135</th><td>Gaba8 </td><td>Bhlhe40</td><td>-0.5570858</td><td>1.000000e+00</td><td>0</td></tr>\n",
       "\t<tr><th scope=row>147</th><td>Gaba7 </td><td>Hbegf  </td><td>-0.6061861</td><td>1.000000e+00</td><td>0</td></tr>\n",
       "\t<tr><th scope=row>194</th><td>Glu2  </td><td>Noct   </td><td>-0.6641956</td><td>1.415633e-01</td><td>0</td></tr>\n",
       "\t<tr><th scope=row>11</th><td>Gaba10</td><td>Nr4a3  </td><td>-0.7127962</td><td>1.000000e+00</td><td>0</td></tr>\n",
       "\t<tr><th scope=row>151</th><td>Gaba10</td><td>Hbegf  </td><td>-0.7763500</td><td>1.000000e+00</td><td>0</td></tr>\n",
       "\t<tr><th scope=row>229</th><td>Gaba5 </td><td>Nfkbid </td><td>-0.8149196</td><td>1.000000e+00</td><td>0</td></tr>\n",
       "\t<tr><th scope=row>75</th><td>Gaba5 </td><td>Dusp5  </td><td>-0.8728106</td><td>1.000000e+00</td><td>0</td></tr>\n",
       "\t<tr><th scope=row>234</th><td>Gaba9 </td><td>Nfkbid </td><td>-0.8909075</td><td>1.000000e+00</td><td>0</td></tr>\n",
       "\t<tr><th scope=row>64</th><td>Glu1  </td><td>Nptx2  </td><td>-0.8968768</td><td>1.000000e+00</td><td>0</td></tr>\n",
       "\t<tr><th scope=row>235</th><td>Gaba10</td><td>Nfkbid </td><td>-0.9206521</td><td>1.000000e+00</td><td>0</td></tr>\n",
       "\t<tr><th scope=row>76</th><td>Gaba6 </td><td>Dusp5  </td><td>-0.9314890</td><td>1.000000e+00</td><td>0</td></tr>\n",
       "\t<tr><th scope=row>82</th><td>Glu2  </td><td>Dusp5  </td><td>-0.9532210</td><td>1.000000e+00</td><td>0</td></tr>\n",
       "\t<tr><th scope=row>219</th><td>Gaba8 </td><td>Ackr4  </td><td>-0.9954785</td><td>2.923911e-05</td><td>*</td></tr>\n",
       "\t<tr><th scope=row>62</th><td>Gaba6 </td><td>Nptx2  </td><td>-1.0012767</td><td>1.000000e+00</td><td>0</td></tr>\n",
       "\t<tr><th scope=row>5</th><td>Gaba5 </td><td>Nr4a3  </td><td>-1.0039857</td><td>1.000000e+00</td><td>0</td></tr>\n",
       "\t<tr><th scope=row>164</th><td>Gaba9 </td><td>Pim1   </td><td>-1.0352540</td><td>1.000000e+00</td><td>0</td></tr>\n",
       "\t<tr><th scope=row>59</th><td>Gaba3 </td><td>Nptx2  </td><td>-1.0402640</td><td>1.000000e+00</td><td>0</td></tr>\n",
       "\t<tr><th scope=row>87</th><td>Gaba3 </td><td>Gem    </td><td>-1.3164786</td><td>1.000000e+00</td><td>0</td></tr>\n",
       "\t<tr><th scope=row>225</th><td>Gaba1 </td><td>Nfkbid </td><td>-1.3573136</td><td>3.618386e-02</td><td>*</td></tr>\n",
       "\t<tr><th scope=row>13</th><td>Gaba11</td><td>Nr4a3  </td><td>-1.4047644</td><td>1.000000e+00</td><td>0</td></tr>\n",
       "\t<tr><th scope=row>133</th><td>Gaba7 </td><td>Bhlhe40</td><td>-1.6679992</td><td>7.962383e-03</td><td>*</td></tr>\n",
       "\t<tr><th scope=row>2</th><td>Gaba2 </td><td>Nr4a3  </td><td>-1.7173166</td><td>3.942590e-02</td><td>*</td></tr>\n",
       "\t<tr><th scope=row>1</th><td>Gaba1 </td><td>Nr4a3  </td><td>-1.8371220</td><td>1.170470e-01</td><td>0</td></tr>\n",
       "\t<tr><th scope=row>86</th><td>Gaba2 </td><td>Gem    </td><td>-1.9024113</td><td>5.115730e-02</td><td>0</td></tr>\n",
       "\t<tr><th scope=row>3</th><td>Gaba3 </td><td>Nr4a3  </td><td>-1.9537696</td><td>1.128987e-01</td><td>0</td></tr>\n",
       "\t<tr><th scope=row>89</th><td>Gaba5 </td><td>Gem    </td><td>-2.0243418</td><td>1.000000e+00</td><td>0</td></tr>\n",
       "\t<tr><th scope=row>90</th><td>Gaba6 </td><td>Gem    </td><td>-2.1524049</td><td>1.000000e+00</td><td>0</td></tr>\n",
       "\t<tr><th scope=row>152</th><td>Glu2  </td><td>Hbegf  </td><td>-4.5800100</td><td>1.736990e-02</td><td>*</td></tr>\n",
       "</tbody>\n",
       "</table>\n"
      ],
      "text/latex": [
       "A data.frame: 238 × 5\n",
       "\\begin{tabular}{r|lllll}\n",
       "  & cell\\_type & gene & logFC & pvalue & highlight\\\\\n",
       "  & <chr> & <fct> & <dbl> & <dbl> & <chr>\\\\\n",
       "\\hline\n",
       "\t93 & Gaba8  & Gem     & 3.452491 & 0.0460357492 & *\\\\\n",
       "\t97 & Gaba11 & Gem     & 3.272678 & 1.0000000000 & 0\\\\\n",
       "\t74 & Gaba4  & Dusp5   & 2.930410 & 0.0103127357 & *\\\\\n",
       "\t155 & Gaba1  & Pim1    & 2.903016 & 0.8804686569 & 0\\\\\n",
       "\t85 & Gaba1  & Gem     & 2.847912 & 1.0000000000 & 0\\\\\n",
       "\t163 & Gaba8  & Pim1    & 2.595290 & 0.0009926842 & *\\\\\n",
       "\t65 & Gaba8  & Nptx2   & 2.338045 & 0.0017279451 & *\\\\\n",
       "\t88 & Gaba4  & Gem     & 2.099801 & 1.0000000000 & 0\\\\\n",
       "\t91 & Gaba7  & Gem     & 2.017333 & 1.0000000000 & 0\\\\\n",
       "\t157 & Gaba3  & Pim1    & 1.927679 & 1.0000000000 & 0\\\\\n",
       "\t237 & Gaba11 & Nfkbid  & 1.913248 & 1.0000000000 & 0\\\\\n",
       "\t166 & Glu2   & Pim1    & 1.902760 & 1.0000000000 & 0\\\\\n",
       "\t238 & Gaba12 & Nfkbid  & 1.793153 & 1.0000000000 & 0\\\\\n",
       "\t159 & Gaba5  & Pim1    & 1.734092 & 1.0000000000 & 0\\\\\n",
       "\t156 & Gaba2  & Pim1    & 1.591490 & 1.0000000000 & 0\\\\\n",
       "\t83 & Gaba11 & Dusp5   & 1.418458 & 1.0000000000 & 0\\\\\n",
       "\t158 & Gaba4  & Pim1    & 1.409954 & 1.0000000000 & 0\\\\\n",
       "\t162 & Glu1   & Pim1    & 1.369362 & 1.0000000000 & 0\\\\\n",
       "\t232 & Glu1   & Nfkbid  & 1.342069 & 1.0000000000 & 0\\\\\n",
       "\t61 & Gaba5  & Nptx2   & 1.328762 & 1.0000000000 & 0\\\\\n",
       "\t79 & Gaba8  & Dusp5   & 1.318568 & 0.1899067174 & 0\\\\\n",
       "\t94 & Gaba9  & Gem     & 1.213181 & 1.0000000000 & 0\\\\\n",
       "\t141 & Gaba1  & Hbegf   & 1.162041 & 1.0000000000 & 0\\\\\n",
       "\t137 & Gaba10 & Bhlhe40 & 1.160391 & 1.0000000000 & 0\\\\\n",
       "\t196 & Gaba12 & Noct    & 1.156562 & 1.0000000000 & 0\\\\\n",
       "\t226 & Gaba2  & Nfkbid  & 1.075632 & 1.0000000000 & 0\\\\\n",
       "\t148 & Glu1   & Hbegf   & 1.072529 & 1.0000000000 & 0\\\\\n",
       "\t96 & Glu2   & Gem     & 1.052624 & 1.0000000000 & 0\\\\\n",
       "\t4 & Gaba4  & Nr4a3   & 1.032794 & 1.0000000000 & 0\\\\\n",
       "\t57 & Gaba1  & Nptx2   & 1.022694 & 1.0000000000 & 0\\\\\n",
       "\t... & ... & ... & ... & ... & ...\\\\\n",
       "\t132 & Gaba6  & Bhlhe40 & -0.5017053 & 1.000000e+00 & 0\\\\\n",
       "\t54 & Glu2   & Inhba   & -0.5257836 & 2.351334e-02 & *\\\\\n",
       "\t135 & Gaba8  & Bhlhe40 & -0.5570858 & 1.000000e+00 & 0\\\\\n",
       "\t147 & Gaba7  & Hbegf   & -0.6061861 & 1.000000e+00 & 0\\\\\n",
       "\t194 & Glu2   & Noct    & -0.6641956 & 1.415633e-01 & 0\\\\\n",
       "\t11 & Gaba10 & Nr4a3   & -0.7127962 & 1.000000e+00 & 0\\\\\n",
       "\t151 & Gaba10 & Hbegf   & -0.7763500 & 1.000000e+00 & 0\\\\\n",
       "\t229 & Gaba5  & Nfkbid  & -0.8149196 & 1.000000e+00 & 0\\\\\n",
       "\t75 & Gaba5  & Dusp5   & -0.8728106 & 1.000000e+00 & 0\\\\\n",
       "\t234 & Gaba9  & Nfkbid  & -0.8909075 & 1.000000e+00 & 0\\\\\n",
       "\t64 & Glu1   & Nptx2   & -0.8968768 & 1.000000e+00 & 0\\\\\n",
       "\t235 & Gaba10 & Nfkbid  & -0.9206521 & 1.000000e+00 & 0\\\\\n",
       "\t76 & Gaba6  & Dusp5   & -0.9314890 & 1.000000e+00 & 0\\\\\n",
       "\t82 & Glu2   & Dusp5   & -0.9532210 & 1.000000e+00 & 0\\\\\n",
       "\t219 & Gaba8  & Ackr4   & -0.9954785 & 2.923911e-05 & *\\\\\n",
       "\t62 & Gaba6  & Nptx2   & -1.0012767 & 1.000000e+00 & 0\\\\\n",
       "\t5 & Gaba5  & Nr4a3   & -1.0039857 & 1.000000e+00 & 0\\\\\n",
       "\t164 & Gaba9  & Pim1    & -1.0352540 & 1.000000e+00 & 0\\\\\n",
       "\t59 & Gaba3  & Nptx2   & -1.0402640 & 1.000000e+00 & 0\\\\\n",
       "\t87 & Gaba3  & Gem     & -1.3164786 & 1.000000e+00 & 0\\\\\n",
       "\t225 & Gaba1  & Nfkbid  & -1.3573136 & 3.618386e-02 & *\\\\\n",
       "\t13 & Gaba11 & Nr4a3   & -1.4047644 & 1.000000e+00 & 0\\\\\n",
       "\t133 & Gaba7  & Bhlhe40 & -1.6679992 & 7.962383e-03 & *\\\\\n",
       "\t2 & Gaba2  & Nr4a3   & -1.7173166 & 3.942590e-02 & *\\\\\n",
       "\t1 & Gaba1  & Nr4a3   & -1.8371220 & 1.170470e-01 & 0\\\\\n",
       "\t86 & Gaba2  & Gem     & -1.9024113 & 5.115730e-02 & 0\\\\\n",
       "\t3 & Gaba3  & Nr4a3   & -1.9537696 & 1.128987e-01 & 0\\\\\n",
       "\t89 & Gaba5  & Gem     & -2.0243418 & 1.000000e+00 & 0\\\\\n",
       "\t90 & Gaba6  & Gem     & -2.1524049 & 1.000000e+00 & 0\\\\\n",
       "\t152 & Glu2   & Hbegf   & -4.5800100 & 1.736990e-02 & *\\\\\n",
       "\\end{tabular}\n"
      ],
      "text/markdown": [
       "\n",
       "A data.frame: 238 × 5\n",
       "\n",
       "| <!--/--> | cell_type &lt;chr&gt; | gene &lt;fct&gt; | logFC &lt;dbl&gt; | pvalue &lt;dbl&gt; | highlight &lt;chr&gt; |\n",
       "|---|---|---|---|---|---|\n",
       "| 93 | Gaba8  | Gem     | 3.452491 | 0.0460357492 | * |\n",
       "| 97 | Gaba11 | Gem     | 3.272678 | 1.0000000000 | 0 |\n",
       "| 74 | Gaba4  | Dusp5   | 2.930410 | 0.0103127357 | * |\n",
       "| 155 | Gaba1  | Pim1    | 2.903016 | 0.8804686569 | 0 |\n",
       "| 85 | Gaba1  | Gem     | 2.847912 | 1.0000000000 | 0 |\n",
       "| 163 | Gaba8  | Pim1    | 2.595290 | 0.0009926842 | * |\n",
       "| 65 | Gaba8  | Nptx2   | 2.338045 | 0.0017279451 | * |\n",
       "| 88 | Gaba4  | Gem     | 2.099801 | 1.0000000000 | 0 |\n",
       "| 91 | Gaba7  | Gem     | 2.017333 | 1.0000000000 | 0 |\n",
       "| 157 | Gaba3  | Pim1    | 1.927679 | 1.0000000000 | 0 |\n",
       "| 237 | Gaba11 | Nfkbid  | 1.913248 | 1.0000000000 | 0 |\n",
       "| 166 | Glu2   | Pim1    | 1.902760 | 1.0000000000 | 0 |\n",
       "| 238 | Gaba12 | Nfkbid  | 1.793153 | 1.0000000000 | 0 |\n",
       "| 159 | Gaba5  | Pim1    | 1.734092 | 1.0000000000 | 0 |\n",
       "| 156 | Gaba2  | Pim1    | 1.591490 | 1.0000000000 | 0 |\n",
       "| 83 | Gaba11 | Dusp5   | 1.418458 | 1.0000000000 | 0 |\n",
       "| 158 | Gaba4  | Pim1    | 1.409954 | 1.0000000000 | 0 |\n",
       "| 162 | Glu1   | Pim1    | 1.369362 | 1.0000000000 | 0 |\n",
       "| 232 | Glu1   | Nfkbid  | 1.342069 | 1.0000000000 | 0 |\n",
       "| 61 | Gaba5  | Nptx2   | 1.328762 | 1.0000000000 | 0 |\n",
       "| 79 | Gaba8  | Dusp5   | 1.318568 | 0.1899067174 | 0 |\n",
       "| 94 | Gaba9  | Gem     | 1.213181 | 1.0000000000 | 0 |\n",
       "| 141 | Gaba1  | Hbegf   | 1.162041 | 1.0000000000 | 0 |\n",
       "| 137 | Gaba10 | Bhlhe40 | 1.160391 | 1.0000000000 | 0 |\n",
       "| 196 | Gaba12 | Noct    | 1.156562 | 1.0000000000 | 0 |\n",
       "| 226 | Gaba2  | Nfkbid  | 1.075632 | 1.0000000000 | 0 |\n",
       "| 148 | Glu1   | Hbegf   | 1.072529 | 1.0000000000 | 0 |\n",
       "| 96 | Glu2   | Gem     | 1.052624 | 1.0000000000 | 0 |\n",
       "| 4 | Gaba4  | Nr4a3   | 1.032794 | 1.0000000000 | 0 |\n",
       "| 57 | Gaba1  | Nptx2   | 1.022694 | 1.0000000000 | 0 |\n",
       "| ... | ... | ... | ... | ... | ... |\n",
       "| 132 | Gaba6  | Bhlhe40 | -0.5017053 | 1.000000e+00 | 0 |\n",
       "| 54 | Glu2   | Inhba   | -0.5257836 | 2.351334e-02 | * |\n",
       "| 135 | Gaba8  | Bhlhe40 | -0.5570858 | 1.000000e+00 | 0 |\n",
       "| 147 | Gaba7  | Hbegf   | -0.6061861 | 1.000000e+00 | 0 |\n",
       "| 194 | Glu2   | Noct    | -0.6641956 | 1.415633e-01 | 0 |\n",
       "| 11 | Gaba10 | Nr4a3   | -0.7127962 | 1.000000e+00 | 0 |\n",
       "| 151 | Gaba10 | Hbegf   | -0.7763500 | 1.000000e+00 | 0 |\n",
       "| 229 | Gaba5  | Nfkbid  | -0.8149196 | 1.000000e+00 | 0 |\n",
       "| 75 | Gaba5  | Dusp5   | -0.8728106 | 1.000000e+00 | 0 |\n",
       "| 234 | Gaba9  | Nfkbid  | -0.8909075 | 1.000000e+00 | 0 |\n",
       "| 64 | Glu1   | Nptx2   | -0.8968768 | 1.000000e+00 | 0 |\n",
       "| 235 | Gaba10 | Nfkbid  | -0.9206521 | 1.000000e+00 | 0 |\n",
       "| 76 | Gaba6  | Dusp5   | -0.9314890 | 1.000000e+00 | 0 |\n",
       "| 82 | Glu2   | Dusp5   | -0.9532210 | 1.000000e+00 | 0 |\n",
       "| 219 | Gaba8  | Ackr4   | -0.9954785 | 2.923911e-05 | * |\n",
       "| 62 | Gaba6  | Nptx2   | -1.0012767 | 1.000000e+00 | 0 |\n",
       "| 5 | Gaba5  | Nr4a3   | -1.0039857 | 1.000000e+00 | 0 |\n",
       "| 164 | Gaba9  | Pim1    | -1.0352540 | 1.000000e+00 | 0 |\n",
       "| 59 | Gaba3  | Nptx2   | -1.0402640 | 1.000000e+00 | 0 |\n",
       "| 87 | Gaba3  | Gem     | -1.3164786 | 1.000000e+00 | 0 |\n",
       "| 225 | Gaba1  | Nfkbid  | -1.3573136 | 3.618386e-02 | * |\n",
       "| 13 | Gaba11 | Nr4a3   | -1.4047644 | 1.000000e+00 | 0 |\n",
       "| 133 | Gaba7  | Bhlhe40 | -1.6679992 | 7.962383e-03 | * |\n",
       "| 2 | Gaba2  | Nr4a3   | -1.7173166 | 3.942590e-02 | * |\n",
       "| 1 | Gaba1  | Nr4a3   | -1.8371220 | 1.170470e-01 | 0 |\n",
       "| 86 | Gaba2  | Gem     | -1.9024113 | 5.115730e-02 | 0 |\n",
       "| 3 | Gaba3  | Nr4a3   | -1.9537696 | 1.128987e-01 | 0 |\n",
       "| 89 | Gaba5  | Gem     | -2.0243418 | 1.000000e+00 | 0 |\n",
       "| 90 | Gaba6  | Gem     | -2.1524049 | 1.000000e+00 | 0 |\n",
       "| 152 | Glu2   | Hbegf   | -4.5800100 | 1.736990e-02 | * |\n",
       "\n"
      ],
      "text/plain": [
       "    cell_type gene    logFC      pvalue       highlight\n",
       "93  Gaba8     Gem     3.452491   0.0460357492 *        \n",
       "97  Gaba11    Gem     3.272678   1.0000000000 0        \n",
       "74  Gaba4     Dusp5   2.930410   0.0103127357 *        \n",
       "155 Gaba1     Pim1    2.903016   0.8804686569 0        \n",
       "85  Gaba1     Gem     2.847912   1.0000000000 0        \n",
       "163 Gaba8     Pim1    2.595290   0.0009926842 *        \n",
       "65  Gaba8     Nptx2   2.338045   0.0017279451 *        \n",
       "88  Gaba4     Gem     2.099801   1.0000000000 0        \n",
       "91  Gaba7     Gem     2.017333   1.0000000000 0        \n",
       "157 Gaba3     Pim1    1.927679   1.0000000000 0        \n",
       "237 Gaba11    Nfkbid  1.913248   1.0000000000 0        \n",
       "166 Glu2      Pim1    1.902760   1.0000000000 0        \n",
       "238 Gaba12    Nfkbid  1.793153   1.0000000000 0        \n",
       "159 Gaba5     Pim1    1.734092   1.0000000000 0        \n",
       "156 Gaba2     Pim1    1.591490   1.0000000000 0        \n",
       "83  Gaba11    Dusp5   1.418458   1.0000000000 0        \n",
       "158 Gaba4     Pim1    1.409954   1.0000000000 0        \n",
       "162 Glu1      Pim1    1.369362   1.0000000000 0        \n",
       "232 Glu1      Nfkbid  1.342069   1.0000000000 0        \n",
       "61  Gaba5     Nptx2   1.328762   1.0000000000 0        \n",
       "79  Gaba8     Dusp5   1.318568   0.1899067174 0        \n",
       "94  Gaba9     Gem     1.213181   1.0000000000 0        \n",
       "141 Gaba1     Hbegf   1.162041   1.0000000000 0        \n",
       "137 Gaba10    Bhlhe40 1.160391   1.0000000000 0        \n",
       "196 Gaba12    Noct    1.156562   1.0000000000 0        \n",
       "226 Gaba2     Nfkbid  1.075632   1.0000000000 0        \n",
       "148 Glu1      Hbegf   1.072529   1.0000000000 0        \n",
       "96  Glu2      Gem     1.052624   1.0000000000 0        \n",
       "4   Gaba4     Nr4a3   1.032794   1.0000000000 0        \n",
       "57  Gaba1     Nptx2   1.022694   1.0000000000 0        \n",
       "... ...       ...     ...        ...          ...      \n",
       "132 Gaba6     Bhlhe40 -0.5017053 1.000000e+00 0        \n",
       "54  Glu2      Inhba   -0.5257836 2.351334e-02 *        \n",
       "135 Gaba8     Bhlhe40 -0.5570858 1.000000e+00 0        \n",
       "147 Gaba7     Hbegf   -0.6061861 1.000000e+00 0        \n",
       "194 Glu2      Noct    -0.6641956 1.415633e-01 0        \n",
       "11  Gaba10    Nr4a3   -0.7127962 1.000000e+00 0        \n",
       "151 Gaba10    Hbegf   -0.7763500 1.000000e+00 0        \n",
       "229 Gaba5     Nfkbid  -0.8149196 1.000000e+00 0        \n",
       "75  Gaba5     Dusp5   -0.8728106 1.000000e+00 0        \n",
       "234 Gaba9     Nfkbid  -0.8909075 1.000000e+00 0        \n",
       "64  Glu1      Nptx2   -0.8968768 1.000000e+00 0        \n",
       "235 Gaba10    Nfkbid  -0.9206521 1.000000e+00 0        \n",
       "76  Gaba6     Dusp5   -0.9314890 1.000000e+00 0        \n",
       "82  Glu2      Dusp5   -0.9532210 1.000000e+00 0        \n",
       "219 Gaba8     Ackr4   -0.9954785 2.923911e-05 *        \n",
       "62  Gaba6     Nptx2   -1.0012767 1.000000e+00 0        \n",
       "5   Gaba5     Nr4a3   -1.0039857 1.000000e+00 0        \n",
       "164 Gaba9     Pim1    -1.0352540 1.000000e+00 0        \n",
       "59  Gaba3     Nptx2   -1.0402640 1.000000e+00 0        \n",
       "87  Gaba3     Gem     -1.3164786 1.000000e+00 0        \n",
       "225 Gaba1     Nfkbid  -1.3573136 3.618386e-02 *        \n",
       "13  Gaba11    Nr4a3   -1.4047644 1.000000e+00 0        \n",
       "133 Gaba7     Bhlhe40 -1.6679992 7.962383e-03 *        \n",
       "2   Gaba2     Nr4a3   -1.7173166 3.942590e-02 *        \n",
       "1   Gaba1     Nr4a3   -1.8371220 1.170470e-01 0        \n",
       "86  Gaba2     Gem     -1.9024113 5.115730e-02 0        \n",
       "3   Gaba3     Nr4a3   -1.9537696 1.128987e-01 0        \n",
       "89  Gaba5     Gem     -2.0243418 1.000000e+00 0        \n",
       "90  Gaba6     Gem     -2.1524049 1.000000e+00 0        \n",
       "152 Glu2      Hbegf   -4.5800100 1.736990e-02 *        "
      ]
     },
     "metadata": {},
     "output_type": "display_data"
    }
   ],
   "source": [
    "colnames(IEG.df)[2:131] <- IEG\n",
    "colnames(p.val.df)[2:131] <- IEG\n",
    "\n",
    "IEG.sub.long <- melt(cbind(IEG.df[sub.genes],Cell_type))\n",
    "p.sub.long <- melt(cbind(p.val.df[sub.genes],Cell_type))\n",
    "\n",
    "big.df <- cbind(IEG.sub.long, p.sub.long$value)\n",
    "colnames(big.df) <- c(\"cell_type\",'gene','logFC','pvalue')\n",
    "\n",
    "big.df$highlight <- ifelse(big.df$pvalue < 0.05, '*',NA)\n",
    "\n",
    "big.df[is.na(big.df)]<-0\n",
    "big.df <- with(big.df, big.df[order(-logFC,pvalue),])\n",
    "big.df"
   ]
  },
  {
   "cell_type": "code",
   "execution_count": 20,
   "metadata": {},
   "outputs": [],
   "source": [
    "gene_list <- unique(big.df$gene)\n",
    "cell_list <- unique(big.df$cell_type)\n",
    "\n",
    "big.df$gene<-factor(big.df$gene,levels=(gene_list))\n",
    "big.df$cell_type<-factor(big.df$cell_type,levels=rev(cell_list))"
   ]
  },
  {
   "cell_type": "code",
   "execution_count": 21,
   "metadata": {},
   "outputs": [],
   "source": [
    "saveRDS(big.df, file='sig-IEG_dataframe.rds')\n",
    "saveRDS(gene_list, file='sig-IEG_list.rds')"
   ]
  },
  {
   "cell_type": "code",
   "execution_count": 9,
   "metadata": {},
   "outputs": [],
   "source": [
    "big.df <- readRDS(file='sig-IEG_dataframe.rds')\n",
    "gene_list <- readRDS(file='sig-IEG_list.rds')"
   ]
  },
  {
   "cell_type": "code",
   "execution_count": 22,
   "metadata": {},
   "outputs": [
    {
     "name": "stderr",
     "output_type": "stream",
     "text": [
      "Warning message:\n",
      "\"Ignoring unknown parameters: label.size, fill\"\n"
     ]
    },
    {
     "data": {
      "image/png": "[encoded data removed]",
      "text/plain": [
       "plot without title"
      ]
     },
     "metadata": {
      "image/png": {
       "height": 420,
       "width": 420
      }
     },
     "output_type": "display_data"
    }
   ],
   "source": [
    "ggplot(big.df, aes(x=cell_type, y=gene, fill=logFC, label=highlight)) +\n",
    "    geom_tile(color='white') + scale_fill_gradient2(limits=c(-4,4), breaks=seq(-4,4,by=2),low = \"purple\",mid='white',high = \"darkorange\", midpoint=0, oob=squish) +\n",
    "    theme_classic() +\n",
    "    theme(axis.title=element_blank(),\n",
    "         axis.line = element_blank(), \n",
    "         plot.title=element_blank(),\n",
    "         panel.background = element_rect(colour = \"black\", size=.25, fill=NA),\n",
    "         axis.text.y = element_text(size=6),\n",
    "         axis.text.x = element_text(size=6,angle=45, hjust=1),\n",
    "         axis.ticks = element_line(size=0.25)) +\n",
    "    geom_text(data=subset(big.df, highlight == '*'),\n",
    "        aes(cell_type,gene,label=highlight), vjust=0.5,label.size=NA, size=3, fill=NA) +\n",
    "    #NoLegend() +\n",
    "    coord_flip()"
   ]
  },
  {
   "cell_type": "markdown",
   "metadata": {},
   "source": [
    "#### Counting the number of IEGs that are siginicantly altered"
   ]
  },
  {
   "cell_type": "code",
   "execution_count": 16,
   "metadata": {},
   "outputs": [
    {
     "data": {
      "text/html": [
       "2"
      ],
      "text/latex": [
       "2"
      ],
      "text/markdown": [
       "2"
      ],
      "text/plain": [
       "[1] 2"
      ]
     },
     "metadata": {},
     "output_type": "display_data"
    }
   ],
   "source": [
    "Gl2<- length(which(big.df$highlight =='*' & big.df$cell_type == 'Glu2'))\n",
    "Gl2"
   ]
  },
  {
   "cell_type": "code",
   "execution_count": 17,
   "metadata": {},
   "outputs": [],
   "source": [
    "G8 <- length(which(big.df$highlight =='*' & big.df$cell_type == 'Gaba8'))\n",
    "G9<- length(which(big.df$highlight =='*' & big.df$cell_type == 'Gaba9'))\n",
    "G2<- length(which(big.df$highlight =='*' & big.df$cell_type == 'Gaba2'))\n",
    "G6<- length(which(big.df$highlight =='*' & big.df$cell_type == 'Gaba6'))\n",
    "G1<- length(which(big.df$highlight =='*' & big.df$cell_type == 'Gaba1'))\n",
    "G10<- length(which(big.df$highlight =='*' & big.df$cell_type == 'Gaba10'))\n",
    "G3<- length(which(big.df$highlight =='*' & big.df$cell_type == 'Gaba3'))\n",
    "Gl2<- length(which(big.df$highlight =='*' & big.df$cell_type == 'Glu2'))\n",
    "G7<- length(which(big.df$highlight =='*' & big.df$cell_type == 'Gaba7'))\n",
    "Gl1<- length(which(big.df$highlight =='*' & big.df$cell_type == 'Glu1'))\n",
    "G4<- length(which(big.df$highlight =='*' & big.df$cell_type == 'Gaba4'))\n",
    "G5<- length(which(big.df$highlight =='*' & big.df$cell_type == 'Gaba5'))\n",
    "G11<- length(which(big.df$highlight =='*' & big.df$cell_type == 'Gaba11'))\n",
    "G12<- length(which(big.df$highlight =='*' & big.df$cell_type == 'Gaba12'))\n",
    "\n",
    "all <- as.numeric(c(G8, G11, G4, G1, G7, G3, Gl2, G12, G5, G2, Gl1, G9, G10, G6))"
   ]
  },
  {
   "cell_type": "code",
   "execution_count": 18,
   "metadata": {},
   "outputs": [],
   "source": [
    "Cell_type<-c(\"Gaba8\", \"Gaba11\", \"Gaba4\", \"Gaba1\", \"Gaba7\", \"Gaba3\", \"Glu2\", \"Gaba12\", \"Gaba5\", \"Gaba2\", \"Glu1\", \"Gaba9\", \"Gaba10\", \"Gaba6\")"
   ]
  },
  {
   "cell_type": "code",
   "execution_count": 19,
   "metadata": {},
   "outputs": [],
   "source": [
    "all <- data.frame(Type = Cell_type, Number = all)"
   ]
  },
  {
   "cell_type": "code",
   "execution_count": 20,
   "metadata": {},
   "outputs": [],
   "source": [
    "all$Type <- factor(all$Type, levels=Cell_type)"
   ]
  },
  {
   "cell_type": "code",
   "execution_count": 22,
   "metadata": {},
   "outputs": [
    {
     "data": {
      "image/png": "[encoded data removed]",
      "text/plain": [
       "plot without title"
      ]
     },
     "metadata": {
      "image/png": {
       "height": 420,
       "width": 420
      }
     },
     "output_type": "display_data"
    }
   ],
   "source": [
    "ggplot(all, aes(x=Type, y=Number)) + \n",
    "    geom_bar(stat='identity') +\n",
    "    theme_classic() +\n",
    "    theme(axis.line=element_line(size=0.25),\n",
    "         axis.ticks=element_line(size=0.25),\n",
    "         axis.text=element_text(size=6),\n",
    "         axis.title=element_text(size=8),\n",
    "         axis.title.x=element_blank(),\n",
    "         axis.text.y=element_text(angle=90, hjust=.5)) +\n",
    "         scale_y_continuous(expand = c(0, 0))\n",
    "ggsave('IEG_count.pdf',width=1.75,height=1)"
   ]
  },
  {
   "cell_type": "markdown",
   "metadata": {},
   "source": [
    "#### Calculating logFC for list of IEGs across all celltypes"
   ]
  },
  {
   "cell_type": "code",
   "execution_count": 140,
   "metadata": {},
   "outputs": [],
   "source": [
    "Cell_type <- c(\"Gaba1\",\"Gaba2\",\"Gaba3\",\"Gaba4\",\"Gaba5\",\"Gaba6\",\"Gaba7\",\"Glu1\",\"Gaba8\",\"Gaba9\",\"Gaba10\",\"Glu2\",\"Gaba11\",\"Gaba12\")"
   ]
  },
  {
   "cell_type": "code",
   "execution_count": 141,
   "metadata": {},
   "outputs": [],
   "source": [
    "assay.data<-data.frame(GetAssayData(LS.integrated, slot='data'))\n",
    "assay.data.sub <- assay.data[rownames(assay.data) %in% IEG,]\n",
    "IEG.data<-data.frame(apply(assay.data.sub, FUN=mean, MARGIN=2))"
   ]
  },
  {
   "cell_type": "code",
   "execution_count": 142,
   "metadata": {},
   "outputs": [],
   "source": [
    "p.test.exp <- function(cells_con, cells_stim, cells, data) {\n",
    "    \n",
    "    p.val<-vector()\n",
    "    log2FC<-vector()\n",
    "    \n",
    "    for (i in cells){\n",
    "    cells.con <- intersect(colnames(cells_con), eval(as.symbol(paste(i,'_barcode',sep=''))))\n",
    "    cells.stim <- intersect(colnames(cells_stim), eval(as.symbol(paste(i,'_barcode',sep=''))))\n",
    "    data.con <- data[rownames(IEG.data) %in% cells.con,]\n",
    "    data.stim <- data[rownames(IEG.data) %in% cells.stim,]\n",
    "        \n",
    "    #before averaging the 'data' slot, convert from log\n",
    "    mean.stim <- mean(expm1(data.stim))\n",
    "    mean.con <- mean(expm1(data.con))\n",
    "    #to compute the log2FC difference between stim and con\n",
    "    mean.diff <- log2(mean.stim) - log2(mean.con)\n",
    "    log2FC[i] <- mean.diff\n",
    "    \n",
    "    p <- wilcox.test(data.con, data.stim)$p.value*length(cells)\n",
    "    p <- ifelse(p > 1, 1, p)\n",
    "    p.val[i] <- p\n",
    "    \n",
    "    }\n",
    "    \n",
    "    return(data.frame(p.val,log2FC))\n",
    "    \n",
    "}"
   ]
  },
  {
   "cell_type": "code",
   "execution_count": 143,
   "metadata": {},
   "outputs": [],
   "source": [
    "LS.nal <-p.test.exp(cells_con=LS_mor, cells_stim=LS_nal, cells=Cell_type, data=IEG.data)\n",
    "LS.nal_sal <-p.test.exp(cells_con=LS_sal, cells_stim=LS_nal, cells=Cell_type, data=IEG.data)\n",
    "\n",
    "LS.nal$id <- rownames(LS.nal)\n",
    "LS.nal$sig <- ifelse(LS.nal$p.val < 0.05, 'red','black')"
   ]
  },
  {
   "cell_type": "code",
   "execution_count": 144,
   "metadata": {},
   "outputs": [],
   "source": [
    "library(ggrepel)"
   ]
  },
  {
   "cell_type": "code",
   "execution_count": 145,
   "metadata": {},
   "outputs": [
    {
     "data": {
      "image/png": "[encoded data removed]",
      "text/plain": [
       "plot without title"
      ]
     },
     "metadata": {
      "image/png": {
       "height": 420,
       "width": 420
      }
     },
     "output_type": "display_data"
    }
   ],
   "source": [
    "ggplot(LS.nal, aes(x=log2FC, y=-log2(p.val), label=id)) +\n",
    "    ggtitle(\"NAL-induced IEGs\") +\n",
    "    geom_point(size=0.5, color=LS.nal$sig) + \n",
    "    scale_color_manual(values = c(\"TRUE\" = \"red\", \"FALSE\" = \"black\")) +\n",
    "    geom_text_repel(size=2) +\n",
    "    theme_classic() + \n",
    "    theme(axis.line = element_blank(), \n",
    "         plot.title=element_blank(),\n",
    "         panel.background = element_rect(colour = \"black\", size=.25, fill=NA),\n",
    "         axis.text = element_text(size=6),\n",
    "         axis.title = element_text(size=6),\n",
    "         axis.ticks = element_line(size=0.25)) +\n",
    "    xlab(\"logFC expression\") + \n",
    "    ylab(\"-log2(p-value)\") +\n",
    "    geom_vline(xintercept=0, size=0.25) +\n",
    "    geom_hline(yintercept=-log2(0.05), linetype='dashed', size=0.25) +\n",
    "ylim(c(0,NA))"
   ]
  },
  {
   "cell_type": "markdown",
   "metadata": {},
   "source": [
    "Now plotting \"classic\" IEGs as a side-by-side comparison"
   ]
  },
  {
   "cell_type": "code",
   "execution_count": 146,
   "metadata": {
    "scrolled": true
   },
   "outputs": [
    {
     "name": "stderr",
     "output_type": "stream",
     "text": [
      "Using Cell_type as id variables\n",
      "\n"
     ]
    }
   ],
   "source": [
    "classic.sub <- melt(IEG.df[c('Cell_type','Fos','Fosb','Egr1','Egr3','Arc','Jun','Junb','Jund','Nr4a1')])"
   ]
  },
  {
   "cell_type": "code",
   "execution_count": 147,
   "metadata": {
    "scrolled": true
   },
   "outputs": [],
   "source": [
    "colnames(classic.sub) <- c('Cell_type',\"gene\",\"logFC\")"
   ]
  },
  {
   "cell_type": "code",
   "execution_count": 148,
   "metadata": {},
   "outputs": [],
   "source": [
    "classic.sub$Cell_type<-factor(classic.sub$Cell_type,levels=rev(cell_list))"
   ]
  },
  {
   "cell_type": "code",
   "execution_count": 149,
   "metadata": {},
   "outputs": [],
   "source": [
    "classic.sub[is.na(classic.sub)]<-0"
   ]
  },
  {
   "cell_type": "code",
   "execution_count": 150,
   "metadata": {},
   "outputs": [
    {
     "data": {
      "image/png": "[encoded data removed]",
      "text/plain": [
       "plot without title"
      ]
     },
     "metadata": {
      "image/png": {
       "height": 420,
       "width": 420
      }
     },
     "output_type": "display_data"
    }
   ],
   "source": [
    "ggplot(classic.sub, aes(x=Cell_type, y=gene, fill=logFC)) +\n",
    "    geom_tile(color='white') + scale_fill_gradient2(limits=c(-4,4), breaks=seq(-4,4,by=2),low = \"purple\",mid='white',high = \"darkorange\", midpoint=0, oob=squish) +\n",
    "    theme_classic() +\n",
    "    theme(axis.title=element_blank(),\n",
    "         axis.line = element_blank(), \n",
    "         plot.title=element_blank(),\n",
    "         panel.background = element_rect(colour = \"black\", size=.25, fill=NA),\n",
    "         axis.text.y = element_text(size=6),\n",
    "         axis.text.x = element_text(size=6,angle=45, hjust=1),\n",
    "         axis.ticks = element_line(size=0.25)) +\n",
    "    NoLegend() +\n",
    "    coord_flip()\n",
    "#ggsave(file=\"C:/Users/stuberadmin/Documents/scRNAseq/211119-RS-rv4/Neurons_only_iter2/IEG/mor_v_nal/IEG_heatmap_classic.pdf\",width=1.5,height=1.75)"
   ]
  },
  {
   "cell_type": "markdown",
   "metadata": {},
   "source": [
    "Plotting combined IEG score"
   ]
  },
  {
   "cell_type": "code",
   "execution_count": 151,
   "metadata": {},
   "outputs": [],
   "source": [
    "Cell_type <- c(\"Gaba1\",\"Gaba2\",\"Gaba3\",\"Gaba4\",\"Gaba5\",\"Gaba6\",\"Gaba7\",\"Glu1\",\"Gaba8\",\"Gaba9\",\"Gaba10\",\"Glu2\",\"Gaba11\",\"Gaba12\")\n",
    "gene_list <- c('Cell_type','Fos','Fosb','Egr1','Egr3','Arc','Jun','Junb','Jund','Nr4a1')\n",
    "IEG <- gene_list"
   ]
  },
  {
   "cell_type": "code",
   "execution_count": 152,
   "metadata": {},
   "outputs": [],
   "source": [
    "assay.data<-data.frame(GetAssayData(LS.integrated, slot='data'))\n",
    "assay.data.sub <- assay.data[rownames(assay.data) %in% IEG,]\n",
    "IEG.data<-data.frame(apply(assay.data.sub, FUN=mean, MARGIN=2))"
   ]
  },
  {
   "cell_type": "code",
   "execution_count": 153,
   "metadata": {},
   "outputs": [],
   "source": [
    "p.test.exp <- function(cells_con, cells_stim, cells, data) {\n",
    "    \n",
    "    p.val<-vector()\n",
    "    log2FC<-vector()\n",
    "    \n",
    "    for (i in cells){\n",
    "    cells.con <- intersect(colnames(cells_con), eval(as.symbol(paste(i,'_barcode',sep=''))))\n",
    "    cells.stim <- intersect(colnames(cells_stim), eval(as.symbol(paste(i,'_barcode',sep=''))))\n",
    "    data.con <- data[rownames(IEG.data) %in% cells.con,]\n",
    "    data.stim <- data[rownames(IEG.data) %in% cells.stim,]\n",
    "        \n",
    "    #before averaging the 'data' slot, convert from log to cartesian expression\n",
    "    mean.stim <- mean(expm1(data.stim))\n",
    "    mean.con <- mean(expm1(data.con))\n",
    "    #to compute the log2FC difference between stim and con\n",
    "    mean.diff <- log2(mean.stim) - log2(mean.con)\n",
    "    log2FC[i] <- mean.diff\n",
    "\n",
    "    p <- wilcox.test(data.con, data.stim)$p.value*length(cells)\n",
    "    p <- ifelse(p > 1, 1, p)\n",
    "    p.val[i] <- p\n",
    "    \n",
    "    }\n",
    "    \n",
    "    return(data.frame(p.val,log2FC))\n",
    "    \n",
    "}"
   ]
  },
  {
   "cell_type": "code",
   "execution_count": 154,
   "metadata": {},
   "outputs": [
    {
     "name": "stderr",
     "output_type": "stream",
     "text": [
      "Warning message in wilcox.test.default(data.con, data.stim):\n",
      "\"cannot compute exact p-value with ties\"\n"
     ]
    }
   ],
   "source": [
    "LS.nal <-p.test.exp(cells_con=LS_mor, cells_stim=LS_nal, cells=Cell_type, data=IEG.data)\n",
    "LS.nal$id <- rownames(LS.nal)\n",
    "LS.nal$sig <- ifelse(LS.nal$p.val < 0.05, 'red','black')"
   ]
  },
  {
   "cell_type": "code",
   "execution_count": 155,
   "metadata": {},
   "outputs": [
    {
     "data": {
      "image/png": "[encoded data removed]",
      "text/plain": [
       "plot without title"
      ]
     },
     "metadata": {
      "image/png": {
       "height": 420,
       "width": 420
      }
     },
     "output_type": "display_data"
    }
   ],
   "source": [
    "ggplot(LS.nal, aes(x=log2FC, y=-log2(p.val), label=id)) +\n",
    "    ggtitle(\"NAL-induced IEGs\") +\n",
    "    geom_point(size=0.5, color=LS.nal$sig) + \n",
    "    scale_color_manual(values = c(\"TRUE\" = \"red\", \"FALSE\" = \"black\")) +\n",
    "    geom_text_repel(size=2) +\n",
    "    theme_classic() + \n",
    "    theme(axis.line = element_blank(), \n",
    "         plot.title=element_blank(),\n",
    "         panel.background = element_rect(colour = \"black\", size=.25, fill=NA),\n",
    "         axis.text = element_text(size=6),\n",
    "         axis.title = element_text(size=6),\n",
    "         axis.ticks = element_line(size=0.25)) +\n",
    "    xlab(\"logFC expression\") + \n",
    "    ylab(\"-log2(p-value)\") +\n",
    "    geom_vline(xintercept=0, size=0.25) +\n",
    "    geom_hline(yintercept=-log2(0.05), linetype='dashed', size=0.25) +\n",
    "ylim(c(0,NA))"
   ]
  },
  {
   "cell_type": "code",
   "execution_count": null,
   "metadata": {},
   "outputs": [],
   "source": []
  }
 ],
 "metadata": {
  "kernelspec": {
   "display_name": "R",
   "language": "R",
   "name": "ir"
  },
  "language_info": {
   "codemirror_mode": "r",
   "file_extension": ".r",
   "mimetype": "text/x-r-source",
   "name": "R",
   "pygments_lexer": "r",
   "version": "4.1.2"
  }
 },
 "nbformat": 4,
 "nbformat_minor": 2
}
