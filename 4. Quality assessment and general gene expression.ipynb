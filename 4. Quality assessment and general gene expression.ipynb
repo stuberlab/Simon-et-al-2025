{
 "cells": [
  {
   "cell_type": "markdown",
   "metadata": {},
   "source": [
    "## Analyzing the quality and gene expression profile of septal neurons"
   ]
  },
  {
   "cell_type": "markdown",
   "metadata": {},
   "source": [
    "#### Import libraries"
   ]
  },
  {
   "cell_type": "code",
   "execution_count": 1,
   "metadata": {
    "scrolled": false
   },
   "outputs": [
    {
     "name": "stderr",
     "output_type": "stream",
     "text": [
      "Attaching SeuratObject\n",
      "\n",
      "\n",
      "Attaching package: 'dplyr'\n",
      "\n",
      "\n",
      "The following objects are masked from 'package:stats':\n",
      "\n",
      "    filter, lag\n",
      "\n",
      "\n",
      "The following objects are masked from 'package:base':\n",
      "\n",
      "    intersect, setdiff, setequal, union\n",
      "\n",
      "\n"
     ]
    },
    {
     "data": {
      "text/html": [
       "<style> .container { width:95% !important; } </style>"
      ]
     },
     "metadata": {},
     "output_type": "display_data"
    },
    {
     "name": "stderr",
     "output_type": "stream",
     "text": [
      "\n",
      "Attaching package: 'tidyr'\n",
      "\n",
      "\n",
      "The following object is masked from 'package:magrittr':\n",
      "\n",
      "    extract\n",
      "\n",
      "\n"
     ]
    }
   ],
   "source": [
    "library(Seurat)\n",
    "library(dplyr)\n",
    "library(magrittr)\n",
    "library(ggplot2)\n",
    "library(xlsx)\n",
    "library(tidyr)\n",
    "library(ggplot2)\n",
    "library(cowplot)\n",
    "library(svglite)"
   ]
  },
  {
   "cell_type": "markdown",
   "metadata": {},
   "source": [
    "#### Load in .rds files from previous notebook"
   ]
  },
  {
   "cell_type": "code",
   "execution_count": 4,
   "metadata": {},
   "outputs": [],
   "source": [
    "LS.integrated<-readRDS(file = \"/LS_integrated.rds\")"
   ]
  },
  {
   "cell_type": "code",
   "execution_count": 5,
   "metadata": {},
   "outputs": [],
   "source": [
    "LS_sal<-readRDS(file = \"/LS_sal.rds\")\n",
    "LS_mor<-readRDS(file = \"/LS_mor.rds\")\n",
    "LS_nal<-readRDS(file = \"/LS_nal.rds\")\n",
    "LS_one_mor<-readRDS( file = \"/LS_one_mor.rds\")\n",
    "LS_nal_no_mor<-readRDS( file = \"/LS_nal_no_mor.rds\")"
   ]
  },
  {
   "cell_type": "markdown",
   "metadata": {},
   "source": [
    "#### Assigning identities to each cell cluster"
   ]
  },
  {
   "cell_type": "markdown",
   "metadata": {},
   "source": [
    "Need to normalize the RNA slot as we primarily used this version of the data to perform downstream analyses"
   ]
  },
  {
   "cell_type": "code",
   "execution_count": 6,
   "metadata": {},
   "outputs": [],
   "source": [
    "LS.integrated <- NormalizeData(LS.integrated)"
   ]
  },
  {
   "cell_type": "code",
   "execution_count": 7,
   "metadata": {
    "scrolled": false
   },
   "outputs": [
    {
     "data": {
      "text/plain": [
       "\n",
       "   0    1    2    3    4    5    6    7    8    9   10   11   12   13 \n",
       "3124 2731 2316 2248 2157 2116 2028 1919 1904 1860 1634 1015  437  118 "
      ]
     },
     "metadata": {},
     "output_type": "display_data"
    }
   ],
   "source": [
    "table(Idents(LS.integrated))"
   ]
  },
  {
   "cell_type": "code",
   "execution_count": 8,
   "metadata": {},
   "outputs": [],
   "source": [
    "new.ident <- c(\"Gaba1\",\"Gaba2\",\"Gaba3\",\"Gaba4\",\"Gaba5\",\"Gaba6\",\"Gaba7\",\"Glu1\",\"Gaba8\",\"Gaba9\",\"Gaba10\",\"Glu2\",\"Gaba11\",\"Gaba12\")\n",
    "names(x = new.ident) <- levels(x =LS.integrated)\n",
    "LS.integrated<- RenameIdents(object =LS.integrated, new.ident)"
   ]
  },
  {
   "cell_type": "code",
   "execution_count": 9,
   "metadata": {},
   "outputs": [],
   "source": [
    "for (i in 1:length(new.ident)){\n",
    "assign(paste(new.ident[i],\"_barcode\",sep=\"\"),colnames(LS.integrated@assays$RNA@data[,which(Idents(object=LS.integrated) %in% new.ident[i])]))# this gives all barcodes in cluster\n",
    "assign(paste(new.ident[i],\"_barcode_LS_sal\",sep=\"\"),intersect(colnames(LS_sal@assays$RNA@data),eval(parse(text = paste(new.ident[i],\"_barcode\",sep=\"\")))))\n",
    "assign(paste(new.ident[i],\"_barcode_LS_mor\",sep=\"\"),intersect(colnames(LS_mor@assays$RNA@data),eval(parse(text = paste(new.ident[i],\"_barcode\",sep=\"\")))))\n",
    "assign(paste(new.ident[i],\"_barcode_LS_nal\",sep=\"\"),intersect(colnames(LS_nal@assays$RNA@data),eval(parse(text = paste(new.ident[i],\"_barcode\",sep=\"\")))))\n",
    "assign(paste(new.ident[i],\"_barcode_LS_one_mor\",sep=\"\"),intersect(colnames(LS_one_mor@assays$RNA@data),eval(parse(text = paste(new.ident[i],\"_barcode\",sep=\"\")))))\n",
    "assign(paste(new.ident[i],\"_barcode_LS_nal_no_mor\",sep=\"\"),intersect(colnames(LS_nal_no_mor@assays$RNA@data),eval(parse(text = paste(new.ident[i],\"_barcode\",sep=\"\")))))\n",
    "}"
   ]
  },
  {
   "cell_type": "code",
   "execution_count": 10,
   "metadata": {},
   "outputs": [
    {
     "data": {
      "text/plain": [
       "\n",
       " Gaba1  Gaba2  Gaba3  Gaba4  Gaba5  Gaba6  Gaba7   Glu1  Gaba8  Gaba9 Gaba10 \n",
       "  3124   2731   2316   2248   2157   2116   2028   1919   1904   1860   1634 \n",
       "  Glu2 Gaba11 Gaba12 \n",
       "  1015    437    118 "
      ]
     },
     "metadata": {},
     "output_type": "display_data"
    }
   ],
   "source": [
    "table(Idents(LS.integrated))"
   ]
  },
  {
   "cell_type": "markdown",
   "metadata": {},
   "source": [
    "UMAP plot labeled by cell cluster"
   ]
  },
  {
   "cell_type": "code",
   "execution_count": null,
   "metadata": {},
   "outputs": [],
   "source": [
    "mycols <- c('Gaba1'='#491822','Gaba11'='#672235','Gaba3'='#77283F','Gaba4'='#822B4F','Gaba6'='#8A2E6A','Gaba10'='#8D3091','Gaba7'='#6836A1','Gaba2'='#4939AC','Gaba5'='#3956AC','Gaba8'='#3988AC','Gaba9'='#3BB0AA','Gaba12'='#CACF6E','Glu1'='#6ECFA1','Glu2'='#99D685')"
   ]
  },
  {
   "cell_type": "code",
   "execution_count": null,
   "metadata": {},
   "outputs": [],
   "source": [
    "my_cols2 <- mycols[order(as.integer(names(mycols)))]\n",
    "scales::show_col(my_cols2)"
   ]
  },
  {
   "cell_type": "code",
   "execution_count": null,
   "metadata": {},
   "outputs": [],
   "source": [
    "DimPlot(object = LS.integrated, cols=my_cols2, reduction = \"umap\", label = TRUE, repel = TRUE, pt.size = 0.25, label.size=4) +\n",
    "theme_classic() + \n",
    "NoLegend() + \n",
    "theme(plot.title=element_blank(),\n",
    "     axis.line=element_blank(),\n",
    "     axis.text=element_blank(),\n",
    "     axis.title=element_blank(),\n",
    "     axis.ticks=element_blank())\n",
    "ggsave(file=\"C:/Users/stuberadmin/Documents/scRNAseq/211119-RS-rv4/Neurons_only_iter2/Neurons_names.pdf\",width=3,height=3, units=\"in\")\n",
    "ggsave(file=\"C:/Users/stuberadmin/Documents/scRNAseq/211119-RS-rv4/Neurons_only_iter2/Neurons_names.png\",width=3,height=3, units=\"in\")"
   ]
  },
  {
   "cell_type": "markdown",
   "metadata": {},
   "source": [
    "UMAP plot split by group"
   ]
  },
  {
   "cell_type": "code",
   "execution_count": 77,
   "metadata": {},
   "outputs": [
    {
     "data": {
      "image/png": "[encoded data removed]",
      "text/plain": [
       "plot without title"
      ]
     },
     "metadata": {
      "image/png": {
       "height": 420,
       "width": 420
      }
     },
     "output_type": "display_data"
    }
   ],
   "source": [
    "DimPlot(object = LS.integrated, cols=my_cols2, split.by='stim', reduction = \"umap\", label = TRUE, repel = TRUE, pt.size = 0.25, label.size=4) +\n",
    "theme_classic() + \n",
    "NoLegend() + \n",
    "theme(plot.title=element_blank(),\n",
    "     axis.line=element_blank(),\n",
    "     axis.text=element_blank(),\n",
    "     axis.title=element_blank(),\n",
    "     axis.ticks=element_blank())\n",
    "ggsave(file=\"C:/Users/stuberadmin/Documents/scRNAseq/211119-RS-rv4/Neurons_only_iter2/Neurons_by_stim.pdf\",width=15,height=3, units=\"in\")\n",
    "ggsave(file=\"C:/Users/stuberadmin/Documents/scRNAseq/211119-RS-rv4/Neurons_only_iter2/Neurons_by_stim.png\",width=15,height=3, units=\"in\")"
   ]
  },
  {
   "cell_type": "markdown",
   "metadata": {},
   "source": [
    "Assigning cell cluster name to metadata"
   ]
  },
  {
   "cell_type": "code",
   "execution_count": 11,
   "metadata": {},
   "outputs": [],
   "source": [
    "#creating vector of variable names\n",
    "barcode_names <- unique(paste(Idents(LS.integrated),\"_barcode\",sep=\"\"))"
   ]
  },
  {
   "cell_type": "code",
   "execution_count": 12,
   "metadata": {},
   "outputs": [],
   "source": [
    "celltype<-vector()\n",
    "for (i in 1:dim(LS.integrated@meta.data)[1]){\n",
    "    celltype[i]<-toString(new.ident[LS.integrated@meta.data$integrated_snn_res.0.2[i]])\n",
    "}\n",
    "LS.integrated@meta.data$celltype<-celltype"
   ]
  },
  {
   "cell_type": "code",
   "execution_count": 13,
   "metadata": {},
   "outputs": [
    {
     "data": {
      "text/plain": [
       "\n",
       " Gaba1 Gaba10 Gaba11 Gaba12  Gaba2  Gaba3  Gaba4  Gaba5  Gaba6  Gaba7  Gaba8 \n",
       "  3124   1634    437    118   2731   2316   2248   2157   2116   2028   1904 \n",
       " Gaba9   Glu1   Glu2 \n",
       "  1860   1919   1015 "
      ]
     },
     "metadata": {},
     "output_type": "display_data"
    }
   ],
   "source": [
    "table(LS.integrated@meta.data$celltype)"
   ]
  },
  {
   "cell_type": "code",
   "execution_count": null,
   "metadata": {},
   "outputs": [],
   "source": [
    "table(Idents(LS.integrated))"
   ]
  },
  {
   "cell_type": "code",
   "execution_count": null,
   "metadata": {},
   "outputs": [],
   "source": [
    "str(LS.integrated)"
   ]
  },
  {
   "cell_type": "markdown",
   "metadata": {},
   "source": [
    "#### Quality metrics across cell types"
   ]
  },
  {
   "cell_type": "markdown",
   "metadata": {},
   "source": [
    "Cell counts in each cluster"
   ]
  },
  {
   "cell_type": "code",
   "execution_count": null,
   "metadata": {},
   "outputs": [],
   "source": [
    "Cells_in_clusters <- as.data.frame(table(Idents(LS.integrated)))"
   ]
  },
  {
   "cell_type": "code",
   "execution_count": null,
   "metadata": {},
   "outputs": [],
   "source": [
    "colnames(Cells_in_clusters)[1] <- \"Cluster\"\n",
    "colnames(Cells_in_clusters)[2] <- \"Number\""
   ]
  },
  {
   "cell_type": "code",
   "execution_count": null,
   "metadata": {},
   "outputs": [],
   "source": [
    "Cells_in_clusters$Cluster <- factor(Cells_in_clusters$Cluster, levels = c(\"Gaba1\",\"Gaba2\",\"Gaba3\",\"Gaba4\",\"Gaba5\",\"Gaba6\",\"Gaba7\",\"Glu1\",\"Gaba8\",\"Gaba9\",\"Gaba10\",\"Glu2\",\"Gaba11\",\"Gaba12\"))"
   ]
  },
  {
   "cell_type": "code",
   "execution_count": null,
   "metadata": {},
   "outputs": [],
   "source": [
    "Cells_in_clusters$Cluster <- factor(Cells_in_clusters$Cluster, levels = c(\"Glu2\",\"Glu1\",\"Gaba12\",\"Gaba10\",\"Gaba5\",\"Gaba3\",\"Gaba11\",\"Gaba6\",\"Gaba7\",\"Gaba4\",\"Gaba1\",\"Gaba2\",\"Gaba8\",\"Gaba9\"))"
   ]
  },
  {
   "cell_type": "code",
   "execution_count": null,
   "metadata": {},
   "outputs": [],
   "source": [
    "#group.colors <- c(LS_sal=\"#23bbef\",LS_mor=\"#fc8b84\", LS_nal=\"#21d936\")\n",
    "p <- ggplot(data=Cells_in_clusters, aes (x=Cluster, y=Number)) +\n",
    "geom_bar(stat=\"identity\", position=\"identity\") +\n",
    "scale_y_continuous(breaks = seq(0, 3500, by = 500), limits=c(0,3500), expand = c(0, 0))+\n",
    "theme_classic() +\n",
    "theme(axis.line = element_line(color=\"black\",size=0.1), axis.title.x= element_blank(), axis.text.y=element_text(size=8) ,axis.text.x=element_text(angle = 90, vjust=0.5, hjust = 1, size=8, ) ,plot.title=element_text(size=11)) +\n",
    "theme(legend.title = element_text(size = 10),legend.text = element_text(size = 8), axis.ticks = element_line(colour = \"black\", size = .25), axis.line = element_line(colour = 'black', size = .25))+\n",
    "ggtitle(\"Number of cells in each group\") +\n",
    "expand_limits(x = 0, y = 0) \n",
    "#scale_fill_manual(values=group.colors)\n",
    "p\n",
    "\n",
    "#ggsave(file=\"C:/Users/stuberadmin/Documents/scRNAseq/211119-RS-rv4/Neurons_only_iter2/quality_control/no_cells_per_cluster_reordered.png\",width=3,height=1)\n",
    "#ggsave(file=\"C:/Users/stuberadmin/Documents/scRNAseq/211119-RS-rv4/Neurons_only_iter2/quality_control/no_cells_per_cluster_reordered.pdf\",width=3,height=1)"
   ]
  },
  {
   "cell_type": "markdown",
   "metadata": {},
   "source": [
    "Mito reads vs UMIs by group"
   ]
  },
  {
   "cell_type": "code",
   "execution_count": null,
   "metadata": {},
   "outputs": [],
   "source": [
    "DefaultAssay(LS.integrated) <- 'RNA'"
   ]
  },
  {
   "cell_type": "code",
   "execution_count": null,
   "metadata": {
    "scrolled": true
   },
   "outputs": [],
   "source": [
    "mito.features <- grep(pattern = \"^mt-\", x = rownames(x =LS.integrated), value = TRUE)\n",
    "percent.mito <- Matrix::colSums(x = GetAssayData(object = LS.integrated, slot = 'counts')[mito.features, ]) / Matrix::colSums(x = GetAssayData(object = LS.integrated, slot = 'counts'))*100\n",
    "LS.integrated[['percent.mito']] <- percent.mito"
   ]
  },
  {
   "cell_type": "code",
   "execution_count": null,
   "metadata": {},
   "outputs": [],
   "source": [
    "group.colors <- c(LS_sal=\"lightgray\",LS_one_mor=\"#29D6C2\",LS_mor=\"#6C29D6\", LS_nal_no_mor=\"#D6293D\",LS_nal=\"#93D629\")"
   ]
  },
  {
   "cell_type": "code",
   "execution_count": null,
   "metadata": {},
   "outputs": [],
   "source": [
    "FeatureScatter(LS.integrated,feature1 = \"nCount_RNA\", feature2 = \"percent.mito\", group.by=\"stim\", pt.size=0.5) + theme_classic() + \n",
    "ggtitle(\"Percent mito reads vs nCountRNA\")+\n",
    "theme(legend.position=c(0.85,0.85)) +\n",
    "    theme(axis.line=element_line(size=0.25),\n",
    "         axis.ticks=element_line(size=0.25),\n",
    "         axis.text=element_text(size=6),\n",
    "         axis.title=element_text(size=8),\n",
    "         axis.text.y=element_text(angle=90, hjust=.5),\n",
    "         plot.title=element_text(size=10)) +    \n",
    "scale_color_manual(values = group.colors)\n",
    "ggsave(file=\"C:/Users/stuberadmin/Documents/scRNAseq/211119-RS-rv4/Neurons_only_iter2/Quality_control/percentmito_vs_nCountRNA.png\",width=4,height=4)\n",
    "ggsave(file=\"C:/Users/stuberadmin/Documents/scRNAseq/211119-RS-rv4/Neurons_only_iter2/Quality_control/percentmito_vs_nCountRNA.pdf\",width=4,height=4)"
   ]
  },
  {
   "cell_type": "code",
   "execution_count": null,
   "metadata": {},
   "outputs": [],
   "source": [
    "new.ident <- c(\"Neuron\",\"Neuron\",\"Neuron\",\"Neuron\",\"Neuron\",\"Neuron\",\"Neuron\",\"Neuron\",\"Neuron\",\"Neuron\",\"Neuron\",\"Neuron\",\"Neuron\",\"Neuron\")\n",
    "names(x = new.ident) <- levels(x =LS.integrated)\n",
    "LS.integrated<- RenameIdents(object =LS.integrated, new.ident)"
   ]
  },
  {
   "cell_type": "code",
   "execution_count": null,
   "metadata": {
    "scrolled": false
   },
   "outputs": [],
   "source": [
    "nCounts <- LS.integrated@meta.data$nCount_RNA\n",
    "nFeatures <- LS.integrated@meta.data$nFeature_RNA\n",
    "mito <- LS.integrated@meta.data$percent.mito\n",
    "\n",
    "all <- data.frame(counts = nCounts, features = nFeatures, percent.mito = mito)\n",
    "\n",
    "ggplot(all, aes(x = nCounts, y = percent.mito)) +\n",
    "    geom_point(color=\"orange\", size=0.5) +\n",
    "    theme_classic()+\n",
    "     theme(axis.line=element_line(size=0.25),\n",
    "         axis.ticks=element_line(size=0.25),\n",
    "         axis.text=element_text(size=6),\n",
    "           axis.text.y=element_text(angle=90, hjust=0.5),\n",
    "         axis.title=element_text(size=8))+\n",
    "    scale_x_continuous(expand = c(0, 0), limits=c(0,20000)) + \n",
    "    scale_y_continuous(expand = c(0, 0), limits=c(0,0.1))+\n",
    "    xlab(\"UMIs\")+\n",
    "    ylab(\"Mito read enrichment (%)\")\n",
    "ggsave(file=\"C:/Users/stuberadmin/Documents/scRNAseq/211119-RS-rv4/Neurons_only_iter2/Quality_control/percent.mito_scatter_neurons.pdf\",width=2,height=2, units=\"in\")\n",
    "ggsave(file=\"C:/Users/stuberadmin/Documents/scRNAseq/211119-RS-rv4/Neurons_only_iter2/Quality_control/percent.mito_scatter_neurons.png\",width=2,height=2, units=\"in\")"
   ]
  },
  {
   "cell_type": "code",
   "execution_count": null,
   "metadata": {},
   "outputs": [],
   "source": [
    "RNA <- ggplot(all, aes(x = \"nCounts\",y=nCounts)) +\n",
    "    geom_violin(fill=\"orange\", size=0.25) +\n",
    "    theme_classic() +\n",
    "    stat_summary(fun.y=median, geom=\"point\", size=0.25, color=\"white\") +\n",
    "    theme(axis.line=element_line(size=0.25),\n",
    "         axis.ticks=element_line(size=0.25),\n",
    "         axis.text=element_text(size=6),\n",
    "         axis.title=element_text(size=6),\n",
    "         axis.title.x=element_blank(),\n",
    "         axis.text.y=element_text(size=6, hjust=.5))+\n",
    "        ylim(c(0,20000)) +\n",
    "        ylab(\"UMI counts\") +\n",
    "        xlab(\"Neurons only\")\n",
    "ggsave(RNA, file=\"C:/Users/stuberadmin/Documents/scRNAseq/211119-RS-rv4/Neurons_only_iter2/Quality_control/nCount_vln_neurons.pdf\",width=0.75,height=0.85)\n",
    "ggsave(RNA, file=\"C:/Users/stuberadmin/Documents/scRNAseq/211119-RS-rv4/Neurons_only_iter2/Quality_control/nCount_vln_neurons.png\",width=0.75,height=0.85)\n",
    "\n",
    "Genes <- ggplot(all, aes(x = \"nFeatures\",y=nFeatures)) +\n",
    "    geom_violin(fill=\"orange\", size=0.25) +\n",
    "    theme_classic() +\n",
    "    stat_summary(fun.y=median, geom=\"point\", size=0.25, color=\"white\") +\n",
    "    theme(axis.line=element_line(size=0.25),\n",
    "         axis.ticks=element_line(size=0.25),\n",
    "         axis.text=element_text(size=6),\n",
    "         axis.title=element_text(size=8),\n",
    "         axis.title.x=element_blank(),\n",
    "         axis.text.y=element_text(size=6, hjust=.5))+\n",
    "        ylim(c(0,6000)) +\n",
    "        ylab(\"Gene counts\") +\n",
    "        xlab(\"Neurons only\")\n",
    "ggsave(Genes, file=\"C:/Users/stuberadmin/Documents/scRNAseq/211119-RS-rv4/Neurons_only_iter2/Quality_control/nFeature_vln_neurons.pdf\",width=0.75,height=0.85)\n",
    "ggsave(Genes, file=\"C:/Users/stuberadmin/Documents/scRNAseq/211119-RS-rv4/Neurons_only_iter2/Quality_control/nFeature_vln_neurons.png\",width=0.75,height=0.85)\n",
    "\n",
    "Mito <- ggplot(all, aes(x = \"percent mito\",y=percent.mito)) +\n",
    "    geom_violin(fill=\"orange\", size=0.25) +\n",
    "    theme_classic() +\n",
    "    stat_summary(fun.y=median, geom=\"point\", size=0.25, color=\"white\") +\n",
    "    theme(axis.line=element_line(size=0.25),\n",
    "         axis.ticks=element_line(size=0.25),\n",
    "         axis.text=element_text(size=6),\n",
    "         axis.title=element_text(size=6),\n",
    "         axis.title.x=element_blank(),\n",
    "         axis.text.y=element_text(size=6, hjust=.5))+        \n",
    "        ylim(c(0,1)) +\n",
    "        ylab(\"Mito read enrichment (%)\") +\n",
    "        xlab(\"Neurons only\")\n",
    "ggsave(Mito, file=\"C:/Users/stuberadmin/Documents/scRNAseq/211119-RS-rv4/Neurons_only_iter2/Quality_control/percent.mito_vln_neurons.pdf\",width=0.75,height=0.85)\n",
    "ggsave(Mito, file=\"C:/Users/stuberadmin/Documents/scRNAseq/211119-RS-rv4/Neurons_only_iter2/Quality_control/percent.mito_vln_neurons.png\",width=0.75,height=0.85)"
   ]
  },
  {
   "cell_type": "markdown",
   "metadata": {},
   "source": [
    "Proportion of cells in each group"
   ]
  },
  {
   "cell_type": "code",
   "execution_count": 10,
   "metadata": {},
   "outputs": [],
   "source": [
    "subset <- as.data.frame(table(Idents(LS.integrated)))\n",
    "cluster_numbers<- subset[2]"
   ]
  },
  {
   "cell_type": "code",
   "execution_count": 11,
   "metadata": {},
   "outputs": [],
   "source": [
    "subset <- rep(array(unlist(cluster_numbers)),5)"
   ]
  },
  {
   "cell_type": "code",
   "execution_count": 12,
   "metadata": {},
   "outputs": [],
   "source": [
    "cluster_by_group <- as.data.frame(table(Idents(LS.integrated), LS.integrated$stim))\n",
    "colnames(cluster_by_group) <- c(\"Cluster\",\"Group\",\"Cells\")\n",
    "cluster_by_group$Total <- subset"
   ]
  },
  {
   "cell_type": "code",
   "execution_count": 13,
   "metadata": {},
   "outputs": [],
   "source": [
    "cluster_by_group <- transform(cluster_by_group, prop = Cells/Total)"
   ]
  },
  {
   "cell_type": "code",
   "execution_count": 14,
   "metadata": {},
   "outputs": [],
   "source": [
    "cluster_by_group$Cluster<-factor(cluster_by_group$Cluster, levels=c(\"Gaba1\",\"Gaba2\",\"Gaba3\",\"Gaba4\",\"Gaba5\",\"Gaba6\",\"Gaba7\",\"Gaba8\",\"Gaba9\",\"Gaba10\",\"Gaba11\",\"Gaba12\",'Glu1',\"Glu2\"))"
   ]
  },
  {
   "cell_type": "code",
   "execution_count": null,
   "metadata": {},
   "outputs": [],
   "source": [
    "cluster_by_group$Cluster<-factor(cluster_by_group$Cluster, levels=c(\"Glu2\",\"Glu1\",\"Gaba12\",\"Gaba10\",\"Gaba5\",\"Gaba3\",\"Gaba11\",\"Gaba6\",\"Gaba7\",\"Gaba4\",\"Gaba1\",\"Gaba2\",\"Gaba8\",\"Gaba9\"))"
   ]
  },
  {
   "cell_type": "code",
   "execution_count": 22,
   "metadata": {},
   "outputs": [],
   "source": [
    "cluster_by_group$Group <- factor(cluster_by_group$Group, levels = (c(\"LS_sal\", \"LS_mor\",\"LS_nal\",\"LS_one_mor\",\"LS_nal_no_mor\")), ordered=TRUE)"
   ]
  },
  {
   "cell_type": "code",
   "execution_count": 23,
   "metadata": {},
   "outputs": [
    {
     "data": {
      "image/png": "[encoded data removed]",
      "text/plain": [
       "plot without title"
      ]
     },
     "metadata": {
      "image/png": {
       "height": 420,
       "width": 420
      }
     },
     "output_type": "display_data"
    }
   ],
   "source": [
    "group.colors <- c(LS_sal=\"darkgray\",LS_one_mor=\"#29D6C2\",LS_mor=\"#4392FE\", LS_nal_no_mor=\"#D6293D\",LS_nal=\"darkorange\")\n",
    "p <- ggplot(data=cluster_by_group, aes (x=Cluster, y=prop, fill=Group)) +\n",
    "    geom_bar(stat=\"identity\", position=\"stack\") +\n",
    "    scale_y_continuous(breaks = seq(0, 1, by = .1), limits=c(0,1), expand = c(0, 0))+\n",
    "    theme_classic() +\n",
    "    theme(axis.line = element_line(color=\"black\",size=0.25), \n",
    "          axis.text.y=element_text(size=6),\n",
    "          axis.title.x = element_blank(), \n",
    "          axis.title.y = element_text(size=6),\n",
    "          axis.text.x=element_text(angle = 90, vjust=0.5, hjust = 1, size=5, ) ,\n",
    "          plot.title=element_blank()) +\n",
    "    theme(legend.position='bottom',\n",
    "          legend.title = element_text(size = 6),\n",
    "          legend.text = element_text(size = 6), \n",
    "          axis.ticks = element_line(colour = \"black\", size = .25), \n",
    "          axis.line = element_line(colour = 'black', size = .25),\n",
    "         legend.key.size = unit(0.1, \"in\"))+\n",
    "    ggtitle(\"Proportion of cells\") +\n",
    "    expand_limits(x = 0, y = 0) +\n",
    "    scale_fill_manual(values=group.colors)+\n",
    "    ylab(\"proportion of cells\")\n",
    "\n",
    "#ggsave(file=\"prop_of_group_per_cluster.pdf\",width=2,height=2)\n",
    "#ggsave(file=\"quality_control/prop_of_group_per_cluster.png\",height=2,width=2)\n",
    "p"
   ]
  },
  {
   "cell_type": "markdown",
   "metadata": {},
   "source": [
    "#### UMI and gene plots"
   ]
  },
  {
   "cell_type": "code",
   "execution_count": 33,
   "metadata": {},
   "outputs": [],
   "source": [
    "wanted_col <- c(\"celltype\",\"stim\",\"nCount_RNA\",\"nFeature_RNA\",\"percent.mito\")"
   ]
  },
  {
   "cell_type": "code",
   "execution_count": 34,
   "metadata": {},
   "outputs": [],
   "source": [
    "subset <- as.data.frame(LS.integrated@meta.data[,wanted_col])"
   ]
  },
  {
   "cell_type": "code",
   "execution_count": 35,
   "metadata": {},
   "outputs": [],
   "source": [
    "col <- vector(mode=\"numeric\", length=0)\n",
    "for (i in 1:length(subset$celltype)){\n",
    "    if (subset$stim[i]==\"LS_sal\"){col[i]<- \"lightgray\"}\n",
    "    else if (subset$stim[i]==\"LS_one_mor\"){col[i]<- \"#29D6C2\"}\n",
    "    else if (subset$stim[i]==\"LS_mor\"){col[i]<- \"#6C29D6\"}\n",
    "    else if (subset$stim[i]==\"LS_nal_no_mor\"){col[i]<- \"#D6293D\"}\n",
    "    else if (subset$stim[i]==\"LS_nal\"){col[i]<- \"#93D629\"}\n",
    "}\n",
    "subset$col <- col"
   ]
  },
  {
   "cell_type": "code",
   "execution_count": 36,
   "metadata": {},
   "outputs": [],
   "source": [
    "subset$stim <- factor(subset$stim, levels=c(\"LS_sal\",\"LS_mor\",\"LS_nal\",\"LS_one_mor\",\"LS_nal_no_mor\"))"
   ]
  },
  {
   "cell_type": "code",
   "execution_count": 37,
   "metadata": {},
   "outputs": [],
   "source": [
    "subset$celltype <- factor(subset$celltype, levels=c(\"Glu2\",\"Glu1\",\"Gaba12\",\"Gaba10\",\"Gaba5\",\"Gaba3\",\"Gaba11\",\"Gaba6\",\"Gaba7\",\"Gaba4\",\"Gaba1\",\"Gaba2\",\"Gaba8\",\"Gaba9\"))"
   ]
  },
  {
   "cell_type": "code",
   "execution_count": 38,
   "metadata": {},
   "outputs": [],
   "source": [
    "subset$celltype <- factor(subset$celltype, levels=c(\"Gaba1\",\"Gaba2\",\"Gaba3\",\"Gaba4\",\"Gaba5\",\"Gaba6\",\"Gaba7\",\"Gaba8\",\"Gaba9\",\"Gaba10\",\"Gaba11\",\"Gaba12\",\"Glu1\",\"Glu2\"))"
   ]
  },
  {
   "cell_type": "code",
   "execution_count": 39,
   "metadata": {
    "scrolled": true
   },
   "outputs": [
    {
     "data": {
      "text/html": [
       "<table class=\"dataframe\">\n",
       "<caption>A data.frame: 25607 × 6</caption>\n",
       "<thead>\n",
       "\t<tr><th></th><th scope=col>celltype</th><th scope=col>stim</th><th scope=col>nCount_RNA</th><th scope=col>nFeature_RNA</th><th scope=col>percent.mito</th><th scope=col>col</th></tr>\n",
       "\t<tr><th></th><th scope=col>&lt;fct&gt;</th><th scope=col>&lt;fct&gt;</th><th scope=col>&lt;dbl&gt;</th><th scope=col>&lt;int&gt;</th><th scope=col>&lt;dbl&gt;</th><th scope=col>&lt;chr&gt;</th></tr>\n",
       "</thead>\n",
       "<tbody>\n",
       "\t<tr><th scope=row>AAACGCTCAGGCACAALS_sal</th><td>Gaba2 </td><td>LS_sal</td><td> 4968</td><td>2491</td><td>0.0002012882</td><td>lightgray</td></tr>\n",
       "\t<tr><th scope=row>AAAGAACCAGCAGATGLS_sal</th><td>Gaba2 </td><td>LS_sal</td><td> 1516</td><td>1004</td><td>0.0006596306</td><td>lightgray</td></tr>\n",
       "\t<tr><th scope=row>AAAGAACGTCCGAAAGLS_sal</th><td>Gaba2 </td><td>LS_sal</td><td> 5914</td><td>2766</td><td>0.0003381806</td><td>lightgray</td></tr>\n",
       "\t<tr><th scope=row>AAAGGATGTGTTTCTTLS_sal</th><td>Gaba2 </td><td>LS_sal</td><td> 4910</td><td>2580</td><td>0.0006109980</td><td>lightgray</td></tr>\n",
       "\t<tr><th scope=row>AACAAAGGTTTGTTCTLS_sal</th><td>Gaba2 </td><td>LS_sal</td><td> 7893</td><td>3257</td><td>0.0003800836</td><td>lightgray</td></tr>\n",
       "\t<tr><th scope=row>AACACACCAGAGAAAGLS_sal</th><td>Gaba2 </td><td>LS_sal</td><td> 5457</td><td>2584</td><td>0.0001832509</td><td>lightgray</td></tr>\n",
       "\t<tr><th scope=row>AACAGGGCATCGAACTLS_sal</th><td>Gaba2 </td><td>LS_sal</td><td> 4697</td><td>2350</td><td>0.0002129019</td><td>lightgray</td></tr>\n",
       "\t<tr><th scope=row>AACCACAAGCAGCCTCLS_sal</th><td>Gaba2 </td><td>LS_sal</td><td> 6891</td><td>3142</td><td>0.0014511682</td><td>lightgray</td></tr>\n",
       "\t<tr><th scope=row>AACCACATCAGGACAGLS_sal</th><td>Gaba2 </td><td>LS_sal</td><td> 7591</td><td>3194</td><td>0.0000000000</td><td>lightgray</td></tr>\n",
       "\t<tr><th scope=row>AACCCAACATGAATAGLS_sal</th><td>Gaba2 </td><td>LS_sal</td><td> 7108</td><td>3146</td><td>0.0002813731</td><td>lightgray</td></tr>\n",
       "\t<tr><th scope=row>AACGAAAAGAAGATCTLS_sal</th><td>Gaba2 </td><td>LS_sal</td><td> 6598</td><td>2880</td><td>0.0001515611</td><td>lightgray</td></tr>\n",
       "\t<tr><th scope=row>AACGGGATCAGTAGGGLS_sal</th><td>Gaba5 </td><td>LS_sal</td><td> 6352</td><td>2953</td><td>0.0007871537</td><td>lightgray</td></tr>\n",
       "\t<tr><th scope=row>AAGAACATCATGCATGLS_sal</th><td>Gaba10</td><td>LS_sal</td><td> 7885</td><td>3545</td><td>0.0003804692</td><td>lightgray</td></tr>\n",
       "\t<tr><th scope=row>AAGACAAGTCACAGAGLS_sal</th><td>Gaba2 </td><td>LS_sal</td><td> 7336</td><td>3341</td><td>0.0009541985</td><td>lightgray</td></tr>\n",
       "\t<tr><th scope=row>AAGCATCGTTTCCAAGLS_sal</th><td>Gaba2 </td><td>LS_sal</td><td> 4256</td><td>2311</td><td>0.0000000000</td><td>lightgray</td></tr>\n",
       "\t<tr><th scope=row>AAGCGAGCAGCTGGTCLS_sal</th><td>Gaba2 </td><td>LS_sal</td><td> 5877</td><td>2867</td><td>0.0001701548</td><td>lightgray</td></tr>\n",
       "\t<tr><th scope=row>AAGCGTTAGCTACAAALS_sal</th><td>Gaba2 </td><td>LS_sal</td><td> 3336</td><td>1995</td><td>0.0011990408</td><td>lightgray</td></tr>\n",
       "\t<tr><th scope=row>AAGCGTTGTGTGTGGALS_sal</th><td>Gaba2 </td><td>LS_sal</td><td> 4673</td><td>2350</td><td>0.0008559812</td><td>lightgray</td></tr>\n",
       "\t<tr><th scope=row>AAGCGTTTCCAACTGALS_sal</th><td>Gaba2 </td><td>LS_sal</td><td> 6988</td><td>3132</td><td>0.0000000000</td><td>lightgray</td></tr>\n",
       "\t<tr><th scope=row>AAGGAATTCTTAAGGCLS_sal</th><td>Gaba2 </td><td>LS_sal</td><td> 8483</td><td>3559</td><td>0.0005894141</td><td>lightgray</td></tr>\n",
       "\t<tr><th scope=row>AAGTCGTAGAACCCGALS_sal</th><td>Gaba2 </td><td>LS_sal</td><td> 7023</td><td>3094</td><td>0.0001423893</td><td>lightgray</td></tr>\n",
       "\t<tr><th scope=row>AAGTGAAAGCAATAACLS_sal</th><td>Gaba2 </td><td>LS_sal</td><td> 8603</td><td>3702</td><td>0.0005811926</td><td>lightgray</td></tr>\n",
       "\t<tr><th scope=row>AAGTGAACATTAAGCCLS_sal</th><td>Gaba2 </td><td>LS_sal</td><td> 5579</td><td>2775</td><td>0.0001792436</td><td>lightgray</td></tr>\n",
       "\t<tr><th scope=row>AAGTGAATCGACTCCTLS_sal</th><td>Gaba2 </td><td>LS_sal</td><td> 7183</td><td>3052</td><td>0.0006960880</td><td>lightgray</td></tr>\n",
       "\t<tr><th scope=row>AAGTTCGTCACATACGLS_sal</th><td>Gaba2 </td><td>LS_sal</td><td>10009</td><td>3563</td><td>0.0001998202</td><td>lightgray</td></tr>\n",
       "\t<tr><th scope=row>AATAGAGCAGCTGTATLS_sal</th><td>Gaba2 </td><td>LS_sal</td><td> 5686</td><td>2872</td><td>0.0007034822</td><td>lightgray</td></tr>\n",
       "\t<tr><th scope=row>AATAGAGTCTCAGTCCLS_sal</th><td>Gaba2 </td><td>LS_sal</td><td> 8438</td><td>3347</td><td>0.0004740460</td><td>lightgray</td></tr>\n",
       "\t<tr><th scope=row>AATCGACAGGTAATCALS_sal</th><td>Gaba2 </td><td>LS_sal</td><td> 4465</td><td>2210</td><td>0.0004479283</td><td>lightgray</td></tr>\n",
       "\t<tr><th scope=row>AATCGACCATCGGAGALS_sal</th><td>Gaba2 </td><td>LS_sal</td><td> 5054</td><td>2611</td><td>0.0007914523</td><td>lightgray</td></tr>\n",
       "\t<tr><th scope=row>AATCGTGTCAAGCCTALS_sal</th><td>Gaba2 </td><td>LS_sal</td><td> 4921</td><td>2468</td><td>0.0002032107</td><td>lightgray</td></tr>\n",
       "\t<tr><th scope=row>...</th><td>...</td><td>...</td><td>...</td><td>...</td><td>...</td><td>...</td></tr>\n",
       "\t<tr><th scope=row>TAATCTCTCAGCGTCGLS_nal_no_mor</th><td>Gaba7</td><td>LS_nal_no_mor</td><td> 2177</td><td>1271</td><td>0.0004593477</td><td>#D6293D</td></tr>\n",
       "\t<tr><th scope=row>TACCCGTGTCTGCAATLS_nal_no_mor</th><td>Gaba7</td><td>LS_nal_no_mor</td><td> 5280</td><td>2341</td><td>0.0018939394</td><td>#D6293D</td></tr>\n",
       "\t<tr><th scope=row>TACCTGCTCTTCGGTCLS_nal_no_mor</th><td>Gaba7</td><td>LS_nal_no_mor</td><td> 5018</td><td>2493</td><td>0.0025906736</td><td>#D6293D</td></tr>\n",
       "\t<tr><th scope=row>TAGGAGGAGAGTCAATLS_nal_no_mor</th><td>Gaba7</td><td>LS_nal_no_mor</td><td> 2120</td><td>1300</td><td>0.0047169811</td><td>#D6293D</td></tr>\n",
       "\t<tr><th scope=row>TAGGAGGAGGGCTAACLS_nal_no_mor</th><td>Gaba7</td><td>LS_nal_no_mor</td><td> 5417</td><td>2681</td><td>0.0055381207</td><td>#D6293D</td></tr>\n",
       "\t<tr><th scope=row>TCAAGACTCGGTTCAALS_nal_no_mor</th><td>Gaba7</td><td>LS_nal_no_mor</td><td> 2442</td><td>1496</td><td>0.0028665029</td><td>#D6293D</td></tr>\n",
       "\t<tr><th scope=row>TCACAAGTCTTCGATTLS_nal_no_mor</th><td>Gaba7</td><td>LS_nal_no_mor</td><td> 4390</td><td>2077</td><td>0.0027334852</td><td>#D6293D</td></tr>\n",
       "\t<tr><th scope=row>TCATCATCACGCTTAALS_nal_no_mor</th><td>Gaba7</td><td>LS_nal_no_mor</td><td> 5474</td><td>2672</td><td>0.0067592254</td><td>#D6293D</td></tr>\n",
       "\t<tr><th scope=row>TCATCATGTTCGTTCCLS_nal_no_mor</th><td>Gaba7</td><td>LS_nal_no_mor</td><td> 4662</td><td>2246</td><td>0.0008580009</td><td>#D6293D</td></tr>\n",
       "\t<tr><th scope=row>TCCCAGTGTATCGTTGLS_nal_no_mor</th><td>Gaba7</td><td>LS_nal_no_mor</td><td> 2949</td><td>1693</td><td>0.0016954900</td><td>#D6293D</td></tr>\n",
       "\t<tr><th scope=row>TCCGGGATCGACTCCTLS_nal_no_mor</th><td>Gaba7</td><td>LS_nal_no_mor</td><td> 3047</td><td>1748</td><td>0.0036101083</td><td>#D6293D</td></tr>\n",
       "\t<tr><th scope=row>TCCGTGTGTAGCCCTGLS_nal_no_mor</th><td>Gaba7</td><td>LS_nal_no_mor</td><td> 6069</td><td>2814</td><td>0.0014829461</td><td>#D6293D</td></tr>\n",
       "\t<tr><th scope=row>TCCTTTCAGACTGAGCLS_nal_no_mor</th><td>Gaba7</td><td>LS_nal_no_mor</td><td>11748</td><td>4060</td><td>0.0014470548</td><td>#D6293D</td></tr>\n",
       "\t<tr><th scope=row>TCGGGTGTCAGCATTGLS_nal_no_mor</th><td>Gaba7</td><td>LS_nal_no_mor</td><td> 3427</td><td>1831</td><td>0.0017508025</td><td>#D6293D</td></tr>\n",
       "\t<tr><th scope=row>TCGTGCTGTTGTCATGLS_nal_no_mor</th><td>Gaba7</td><td>LS_nal_no_mor</td><td> 2878</td><td>1707</td><td>0.0017373176</td><td>#D6293D</td></tr>\n",
       "\t<tr><th scope=row>TCTAACTGTGGAGGTTLS_nal_no_mor</th><td>Gaba7</td><td>LS_nal_no_mor</td><td> 3933</td><td>2062</td><td>0.0017798118</td><td>#D6293D</td></tr>\n",
       "\t<tr><th scope=row>TCTTTGACAGGAATATLS_nal_no_mor</th><td>Gaba7</td><td>LS_nal_no_mor</td><td> 3814</td><td>2026</td><td>0.0018353435</td><td>#D6293D</td></tr>\n",
       "\t<tr><th scope=row>TGAGTCAGTTCCGGTGLS_nal_no_mor</th><td>Gaba7</td><td>LS_nal_no_mor</td><td> 6529</td><td>2814</td><td>0.0012253025</td><td>#D6293D</td></tr>\n",
       "\t<tr><th scope=row>TGATTCTTCCGTTTCGLS_nal_no_mor</th><td>Gaba7</td><td>LS_nal_no_mor</td><td> 5195</td><td>2545</td><td>0.0000000000</td><td>#D6293D</td></tr>\n",
       "\t<tr><th scope=row>TGCATCCCATTGCAACLS_nal_no_mor</th><td>Gaba7</td><td>LS_nal_no_mor</td><td> 5469</td><td>2543</td><td>0.0007313951</td><td>#D6293D</td></tr>\n",
       "\t<tr><th scope=row>TGGGCTGGTCTCGGGTLS_nal_no_mor</th><td>Gaba7</td><td>LS_nal_no_mor</td><td> 5233</td><td>2398</td><td>0.0003821899</td><td>#D6293D</td></tr>\n",
       "\t<tr><th scope=row>TTACAGGAGAATAGTCLS_nal_no_mor</th><td>Gaba7</td><td>LS_nal_no_mor</td><td> 2619</td><td>1564</td><td>0.0019091256</td><td>#D6293D</td></tr>\n",
       "\t<tr><th scope=row>TTCCACGTCCTTGACCLS_nal_no_mor</th><td>Gaba7</td><td>LS_nal_no_mor</td><td> 2869</td><td>1717</td><td>0.0006971070</td><td>#D6293D</td></tr>\n",
       "\t<tr><th scope=row>TTGCCTGCAACGGCTCLS_nal_no_mor</th><td>Gaba7</td><td>LS_nal_no_mor</td><td> 3973</td><td>1992</td><td>0.0037754845</td><td>#D6293D</td></tr>\n",
       "\t<tr><th scope=row>TTGTGTTTCCGTGACGLS_nal_no_mor</th><td>Gaba7</td><td>LS_nal_no_mor</td><td> 4517</td><td>2128</td><td>0.0002213859</td><td>#D6293D</td></tr>\n",
       "\t<tr><th scope=row>CAGCGTGGTGAGTCAGLS_nal_no_mor</th><td>Glu1 </td><td>LS_nal_no_mor</td><td> 3241</td><td>1907</td><td>0.0027769207</td><td>#D6293D</td></tr>\n",
       "\t<tr><th scope=row>CCGGGTACATTGCCTCLS_nal_no_mor</th><td>Glu1 </td><td>LS_nal_no_mor</td><td>15062</td><td>5333</td><td>0.0020581596</td><td>#D6293D</td></tr>\n",
       "\t<tr><th scope=row>GAAGCCCAGTCATCCALS_nal_no_mor</th><td>Glu1 </td><td>LS_nal_no_mor</td><td> 6793</td><td>3009</td><td>0.0007360518</td><td>#D6293D</td></tr>\n",
       "\t<tr><th scope=row>GGGAAGTGTCAAGCGALS_nal_no_mor</th><td>Glu1 </td><td>LS_nal_no_mor</td><td> 6042</td><td>2850</td><td>0.0021516054</td><td>#D6293D</td></tr>\n",
       "\t<tr><th scope=row>TGATGGTTCGCTTGAALS_nal_no_mor</th><td>Glu1 </td><td>LS_nal_no_mor</td><td> 2811</td><td>1605</td><td>0.0014229811</td><td>#D6293D</td></tr>\n",
       "</tbody>\n",
       "</table>\n"
      ],
      "text/latex": [
       "A data.frame: 25607 × 6\n",
       "\\begin{tabular}{r|llllll}\n",
       "  & celltype & stim & nCount\\_RNA & nFeature\\_RNA & percent.mito & col\\\\\n",
       "  & <fct> & <fct> & <dbl> & <int> & <dbl> & <chr>\\\\\n",
       "\\hline\n",
       "\tAAACGCTCAGGCACAALS\\_sal & Gaba2  & LS\\_sal &  4968 & 2491 & 0.0002012882 & lightgray\\\\\n",
       "\tAAAGAACCAGCAGATGLS\\_sal & Gaba2  & LS\\_sal &  1516 & 1004 & 0.0006596306 & lightgray\\\\\n",
       "\tAAAGAACGTCCGAAAGLS\\_sal & Gaba2  & LS\\_sal &  5914 & 2766 & 0.0003381806 & lightgray\\\\\n",
       "\tAAAGGATGTGTTTCTTLS\\_sal & Gaba2  & LS\\_sal &  4910 & 2580 & 0.0006109980 & lightgray\\\\\n",
       "\tAACAAAGGTTTGTTCTLS\\_sal & Gaba2  & LS\\_sal &  7893 & 3257 & 0.0003800836 & lightgray\\\\\n",
       "\tAACACACCAGAGAAAGLS\\_sal & Gaba2  & LS\\_sal &  5457 & 2584 & 0.0001832509 & lightgray\\\\\n",
       "\tAACAGGGCATCGAACTLS\\_sal & Gaba2  & LS\\_sal &  4697 & 2350 & 0.0002129019 & lightgray\\\\\n",
       "\tAACCACAAGCAGCCTCLS\\_sal & Gaba2  & LS\\_sal &  6891 & 3142 & 0.0014511682 & lightgray\\\\\n",
       "\tAACCACATCAGGACAGLS\\_sal & Gaba2  & LS\\_sal &  7591 & 3194 & 0.0000000000 & lightgray\\\\\n",
       "\tAACCCAACATGAATAGLS\\_sal & Gaba2  & LS\\_sal &  7108 & 3146 & 0.0002813731 & lightgray\\\\\n",
       "\tAACGAAAAGAAGATCTLS\\_sal & Gaba2  & LS\\_sal &  6598 & 2880 & 0.0001515611 & lightgray\\\\\n",
       "\tAACGGGATCAGTAGGGLS\\_sal & Gaba5  & LS\\_sal &  6352 & 2953 & 0.0007871537 & lightgray\\\\\n",
       "\tAAGAACATCATGCATGLS\\_sal & Gaba10 & LS\\_sal &  7885 & 3545 & 0.0003804692 & lightgray\\\\\n",
       "\tAAGACAAGTCACAGAGLS\\_sal & Gaba2  & LS\\_sal &  7336 & 3341 & 0.0009541985 & lightgray\\\\\n",
       "\tAAGCATCGTTTCCAAGLS\\_sal & Gaba2  & LS\\_sal &  4256 & 2311 & 0.0000000000 & lightgray\\\\\n",
       "\tAAGCGAGCAGCTGGTCLS\\_sal & Gaba2  & LS\\_sal &  5877 & 2867 & 0.0001701548 & lightgray\\\\\n",
       "\tAAGCGTTAGCTACAAALS\\_sal & Gaba2  & LS\\_sal &  3336 & 1995 & 0.0011990408 & lightgray\\\\\n",
       "\tAAGCGTTGTGTGTGGALS\\_sal & Gaba2  & LS\\_sal &  4673 & 2350 & 0.0008559812 & lightgray\\\\\n",
       "\tAAGCGTTTCCAACTGALS\\_sal & Gaba2  & LS\\_sal &  6988 & 3132 & 0.0000000000 & lightgray\\\\\n",
       "\tAAGGAATTCTTAAGGCLS\\_sal & Gaba2  & LS\\_sal &  8483 & 3559 & 0.0005894141 & lightgray\\\\\n",
       "\tAAGTCGTAGAACCCGALS\\_sal & Gaba2  & LS\\_sal &  7023 & 3094 & 0.0001423893 & lightgray\\\\\n",
       "\tAAGTGAAAGCAATAACLS\\_sal & Gaba2  & LS\\_sal &  8603 & 3702 & 0.0005811926 & lightgray\\\\\n",
       "\tAAGTGAACATTAAGCCLS\\_sal & Gaba2  & LS\\_sal &  5579 & 2775 & 0.0001792436 & lightgray\\\\\n",
       "\tAAGTGAATCGACTCCTLS\\_sal & Gaba2  & LS\\_sal &  7183 & 3052 & 0.0006960880 & lightgray\\\\\n",
       "\tAAGTTCGTCACATACGLS\\_sal & Gaba2  & LS\\_sal & 10009 & 3563 & 0.0001998202 & lightgray\\\\\n",
       "\tAATAGAGCAGCTGTATLS\\_sal & Gaba2  & LS\\_sal &  5686 & 2872 & 0.0007034822 & lightgray\\\\\n",
       "\tAATAGAGTCTCAGTCCLS\\_sal & Gaba2  & LS\\_sal &  8438 & 3347 & 0.0004740460 & lightgray\\\\\n",
       "\tAATCGACAGGTAATCALS\\_sal & Gaba2  & LS\\_sal &  4465 & 2210 & 0.0004479283 & lightgray\\\\\n",
       "\tAATCGACCATCGGAGALS\\_sal & Gaba2  & LS\\_sal &  5054 & 2611 & 0.0007914523 & lightgray\\\\\n",
       "\tAATCGTGTCAAGCCTALS\\_sal & Gaba2  & LS\\_sal &  4921 & 2468 & 0.0002032107 & lightgray\\\\\n",
       "\t... & ... & ... & ... & ... & ... & ...\\\\\n",
       "\tTAATCTCTCAGCGTCGLS\\_nal\\_no\\_mor & Gaba7 & LS\\_nal\\_no\\_mor &  2177 & 1271 & 0.0004593477 & \\#D6293D\\\\\n",
       "\tTACCCGTGTCTGCAATLS\\_nal\\_no\\_mor & Gaba7 & LS\\_nal\\_no\\_mor &  5280 & 2341 & 0.0018939394 & \\#D6293D\\\\\n",
       "\tTACCTGCTCTTCGGTCLS\\_nal\\_no\\_mor & Gaba7 & LS\\_nal\\_no\\_mor &  5018 & 2493 & 0.0025906736 & \\#D6293D\\\\\n",
       "\tTAGGAGGAGAGTCAATLS\\_nal\\_no\\_mor & Gaba7 & LS\\_nal\\_no\\_mor &  2120 & 1300 & 0.0047169811 & \\#D6293D\\\\\n",
       "\tTAGGAGGAGGGCTAACLS\\_nal\\_no\\_mor & Gaba7 & LS\\_nal\\_no\\_mor &  5417 & 2681 & 0.0055381207 & \\#D6293D\\\\\n",
       "\tTCAAGACTCGGTTCAALS\\_nal\\_no\\_mor & Gaba7 & LS\\_nal\\_no\\_mor &  2442 & 1496 & 0.0028665029 & \\#D6293D\\\\\n",
       "\tTCACAAGTCTTCGATTLS\\_nal\\_no\\_mor & Gaba7 & LS\\_nal\\_no\\_mor &  4390 & 2077 & 0.0027334852 & \\#D6293D\\\\\n",
       "\tTCATCATCACGCTTAALS\\_nal\\_no\\_mor & Gaba7 & LS\\_nal\\_no\\_mor &  5474 & 2672 & 0.0067592254 & \\#D6293D\\\\\n",
       "\tTCATCATGTTCGTTCCLS\\_nal\\_no\\_mor & Gaba7 & LS\\_nal\\_no\\_mor &  4662 & 2246 & 0.0008580009 & \\#D6293D\\\\\n",
       "\tTCCCAGTGTATCGTTGLS\\_nal\\_no\\_mor & Gaba7 & LS\\_nal\\_no\\_mor &  2949 & 1693 & 0.0016954900 & \\#D6293D\\\\\n",
       "\tTCCGGGATCGACTCCTLS\\_nal\\_no\\_mor & Gaba7 & LS\\_nal\\_no\\_mor &  3047 & 1748 & 0.0036101083 & \\#D6293D\\\\\n",
       "\tTCCGTGTGTAGCCCTGLS\\_nal\\_no\\_mor & Gaba7 & LS\\_nal\\_no\\_mor &  6069 & 2814 & 0.0014829461 & \\#D6293D\\\\\n",
       "\tTCCTTTCAGACTGAGCLS\\_nal\\_no\\_mor & Gaba7 & LS\\_nal\\_no\\_mor & 11748 & 4060 & 0.0014470548 & \\#D6293D\\\\\n",
       "\tTCGGGTGTCAGCATTGLS\\_nal\\_no\\_mor & Gaba7 & LS\\_nal\\_no\\_mor &  3427 & 1831 & 0.0017508025 & \\#D6293D\\\\\n",
       "\tTCGTGCTGTTGTCATGLS\\_nal\\_no\\_mor & Gaba7 & LS\\_nal\\_no\\_mor &  2878 & 1707 & 0.0017373176 & \\#D6293D\\\\\n",
       "\tTCTAACTGTGGAGGTTLS\\_nal\\_no\\_mor & Gaba7 & LS\\_nal\\_no\\_mor &  3933 & 2062 & 0.0017798118 & \\#D6293D\\\\\n",
       "\tTCTTTGACAGGAATATLS\\_nal\\_no\\_mor & Gaba7 & LS\\_nal\\_no\\_mor &  3814 & 2026 & 0.0018353435 & \\#D6293D\\\\\n",
       "\tTGAGTCAGTTCCGGTGLS\\_nal\\_no\\_mor & Gaba7 & LS\\_nal\\_no\\_mor &  6529 & 2814 & 0.0012253025 & \\#D6293D\\\\\n",
       "\tTGATTCTTCCGTTTCGLS\\_nal\\_no\\_mor & Gaba7 & LS\\_nal\\_no\\_mor &  5195 & 2545 & 0.0000000000 & \\#D6293D\\\\\n",
       "\tTGCATCCCATTGCAACLS\\_nal\\_no\\_mor & Gaba7 & LS\\_nal\\_no\\_mor &  5469 & 2543 & 0.0007313951 & \\#D6293D\\\\\n",
       "\tTGGGCTGGTCTCGGGTLS\\_nal\\_no\\_mor & Gaba7 & LS\\_nal\\_no\\_mor &  5233 & 2398 & 0.0003821899 & \\#D6293D\\\\\n",
       "\tTTACAGGAGAATAGTCLS\\_nal\\_no\\_mor & Gaba7 & LS\\_nal\\_no\\_mor &  2619 & 1564 & 0.0019091256 & \\#D6293D\\\\\n",
       "\tTTCCACGTCCTTGACCLS\\_nal\\_no\\_mor & Gaba7 & LS\\_nal\\_no\\_mor &  2869 & 1717 & 0.0006971070 & \\#D6293D\\\\\n",
       "\tTTGCCTGCAACGGCTCLS\\_nal\\_no\\_mor & Gaba7 & LS\\_nal\\_no\\_mor &  3973 & 1992 & 0.0037754845 & \\#D6293D\\\\\n",
       "\tTTGTGTTTCCGTGACGLS\\_nal\\_no\\_mor & Gaba7 & LS\\_nal\\_no\\_mor &  4517 & 2128 & 0.0002213859 & \\#D6293D\\\\\n",
       "\tCAGCGTGGTGAGTCAGLS\\_nal\\_no\\_mor & Glu1  & LS\\_nal\\_no\\_mor &  3241 & 1907 & 0.0027769207 & \\#D6293D\\\\\n",
       "\tCCGGGTACATTGCCTCLS\\_nal\\_no\\_mor & Glu1  & LS\\_nal\\_no\\_mor & 15062 & 5333 & 0.0020581596 & \\#D6293D\\\\\n",
       "\tGAAGCCCAGTCATCCALS\\_nal\\_no\\_mor & Glu1  & LS\\_nal\\_no\\_mor &  6793 & 3009 & 0.0007360518 & \\#D6293D\\\\\n",
       "\tGGGAAGTGTCAAGCGALS\\_nal\\_no\\_mor & Glu1  & LS\\_nal\\_no\\_mor &  6042 & 2850 & 0.0021516054 & \\#D6293D\\\\\n",
       "\tTGATGGTTCGCTTGAALS\\_nal\\_no\\_mor & Glu1  & LS\\_nal\\_no\\_mor &  2811 & 1605 & 0.0014229811 & \\#D6293D\\\\\n",
       "\\end{tabular}\n"
      ],
      "text/markdown": [
       "\n",
       "A data.frame: 25607 × 6\n",
       "\n",
       "| <!--/--> | celltype &lt;fct&gt; | stim &lt;fct&gt; | nCount_RNA &lt;dbl&gt; | nFeature_RNA &lt;int&gt; | percent.mito &lt;dbl&gt; | col &lt;chr&gt; |\n",
       "|---|---|---|---|---|---|---|\n",
       "| AAACGCTCAGGCACAALS_sal | Gaba2  | LS_sal |  4968 | 2491 | 0.0002012882 | lightgray |\n",
       "| AAAGAACCAGCAGATGLS_sal | Gaba2  | LS_sal |  1516 | 1004 | 0.0006596306 | lightgray |\n",
       "| AAAGAACGTCCGAAAGLS_sal | Gaba2  | LS_sal |  5914 | 2766 | 0.0003381806 | lightgray |\n",
       "| AAAGGATGTGTTTCTTLS_sal | Gaba2  | LS_sal |  4910 | 2580 | 0.0006109980 | lightgray |\n",
       "| AACAAAGGTTTGTTCTLS_sal | Gaba2  | LS_sal |  7893 | 3257 | 0.0003800836 | lightgray |\n",
       "| AACACACCAGAGAAAGLS_sal | Gaba2  | LS_sal |  5457 | 2584 | 0.0001832509 | lightgray |\n",
       "| AACAGGGCATCGAACTLS_sal | Gaba2  | LS_sal |  4697 | 2350 | 0.0002129019 | lightgray |\n",
       "| AACCACAAGCAGCCTCLS_sal | Gaba2  | LS_sal |  6891 | 3142 | 0.0014511682 | lightgray |\n",
       "| AACCACATCAGGACAGLS_sal | Gaba2  | LS_sal |  7591 | 3194 | 0.0000000000 | lightgray |\n",
       "| AACCCAACATGAATAGLS_sal | Gaba2  | LS_sal |  7108 | 3146 | 0.0002813731 | lightgray |\n",
       "| AACGAAAAGAAGATCTLS_sal | Gaba2  | LS_sal |  6598 | 2880 | 0.0001515611 | lightgray |\n",
       "| AACGGGATCAGTAGGGLS_sal | Gaba5  | LS_sal |  6352 | 2953 | 0.0007871537 | lightgray |\n",
       "| AAGAACATCATGCATGLS_sal | Gaba10 | LS_sal |  7885 | 3545 | 0.0003804692 | lightgray |\n",
       "| AAGACAAGTCACAGAGLS_sal | Gaba2  | LS_sal |  7336 | 3341 | 0.0009541985 | lightgray |\n",
       "| AAGCATCGTTTCCAAGLS_sal | Gaba2  | LS_sal |  4256 | 2311 | 0.0000000000 | lightgray |\n",
       "| AAGCGAGCAGCTGGTCLS_sal | Gaba2  | LS_sal |  5877 | 2867 | 0.0001701548 | lightgray |\n",
       "| AAGCGTTAGCTACAAALS_sal | Gaba2  | LS_sal |  3336 | 1995 | 0.0011990408 | lightgray |\n",
       "| AAGCGTTGTGTGTGGALS_sal | Gaba2  | LS_sal |  4673 | 2350 | 0.0008559812 | lightgray |\n",
       "| AAGCGTTTCCAACTGALS_sal | Gaba2  | LS_sal |  6988 | 3132 | 0.0000000000 | lightgray |\n",
       "| AAGGAATTCTTAAGGCLS_sal | Gaba2  | LS_sal |  8483 | 3559 | 0.0005894141 | lightgray |\n",
       "| AAGTCGTAGAACCCGALS_sal | Gaba2  | LS_sal |  7023 | 3094 | 0.0001423893 | lightgray |\n",
       "| AAGTGAAAGCAATAACLS_sal | Gaba2  | LS_sal |  8603 | 3702 | 0.0005811926 | lightgray |\n",
       "| AAGTGAACATTAAGCCLS_sal | Gaba2  | LS_sal |  5579 | 2775 | 0.0001792436 | lightgray |\n",
       "| AAGTGAATCGACTCCTLS_sal | Gaba2  | LS_sal |  7183 | 3052 | 0.0006960880 | lightgray |\n",
       "| AAGTTCGTCACATACGLS_sal | Gaba2  | LS_sal | 10009 | 3563 | 0.0001998202 | lightgray |\n",
       "| AATAGAGCAGCTGTATLS_sal | Gaba2  | LS_sal |  5686 | 2872 | 0.0007034822 | lightgray |\n",
       "| AATAGAGTCTCAGTCCLS_sal | Gaba2  | LS_sal |  8438 | 3347 | 0.0004740460 | lightgray |\n",
       "| AATCGACAGGTAATCALS_sal | Gaba2  | LS_sal |  4465 | 2210 | 0.0004479283 | lightgray |\n",
       "| AATCGACCATCGGAGALS_sal | Gaba2  | LS_sal |  5054 | 2611 | 0.0007914523 | lightgray |\n",
       "| AATCGTGTCAAGCCTALS_sal | Gaba2  | LS_sal |  4921 | 2468 | 0.0002032107 | lightgray |\n",
       "| ... | ... | ... | ... | ... | ... | ... |\n",
       "| TAATCTCTCAGCGTCGLS_nal_no_mor | Gaba7 | LS_nal_no_mor |  2177 | 1271 | 0.0004593477 | #D6293D |\n",
       "| TACCCGTGTCTGCAATLS_nal_no_mor | Gaba7 | LS_nal_no_mor |  5280 | 2341 | 0.0018939394 | #D6293D |\n",
       "| TACCTGCTCTTCGGTCLS_nal_no_mor | Gaba7 | LS_nal_no_mor |  5018 | 2493 | 0.0025906736 | #D6293D |\n",
       "| TAGGAGGAGAGTCAATLS_nal_no_mor | Gaba7 | LS_nal_no_mor |  2120 | 1300 | 0.0047169811 | #D6293D |\n",
       "| TAGGAGGAGGGCTAACLS_nal_no_mor | Gaba7 | LS_nal_no_mor |  5417 | 2681 | 0.0055381207 | #D6293D |\n",
       "| TCAAGACTCGGTTCAALS_nal_no_mor | Gaba7 | LS_nal_no_mor |  2442 | 1496 | 0.0028665029 | #D6293D |\n",
       "| TCACAAGTCTTCGATTLS_nal_no_mor | Gaba7 | LS_nal_no_mor |  4390 | 2077 | 0.0027334852 | #D6293D |\n",
       "| TCATCATCACGCTTAALS_nal_no_mor | Gaba7 | LS_nal_no_mor |  5474 | 2672 | 0.0067592254 | #D6293D |\n",
       "| TCATCATGTTCGTTCCLS_nal_no_mor | Gaba7 | LS_nal_no_mor |  4662 | 2246 | 0.0008580009 | #D6293D |\n",
       "| TCCCAGTGTATCGTTGLS_nal_no_mor | Gaba7 | LS_nal_no_mor |  2949 | 1693 | 0.0016954900 | #D6293D |\n",
       "| TCCGGGATCGACTCCTLS_nal_no_mor | Gaba7 | LS_nal_no_mor |  3047 | 1748 | 0.0036101083 | #D6293D |\n",
       "| TCCGTGTGTAGCCCTGLS_nal_no_mor | Gaba7 | LS_nal_no_mor |  6069 | 2814 | 0.0014829461 | #D6293D |\n",
       "| TCCTTTCAGACTGAGCLS_nal_no_mor | Gaba7 | LS_nal_no_mor | 11748 | 4060 | 0.0014470548 | #D6293D |\n",
       "| TCGGGTGTCAGCATTGLS_nal_no_mor | Gaba7 | LS_nal_no_mor |  3427 | 1831 | 0.0017508025 | #D6293D |\n",
       "| TCGTGCTGTTGTCATGLS_nal_no_mor | Gaba7 | LS_nal_no_mor |  2878 | 1707 | 0.0017373176 | #D6293D |\n",
       "| TCTAACTGTGGAGGTTLS_nal_no_mor | Gaba7 | LS_nal_no_mor |  3933 | 2062 | 0.0017798118 | #D6293D |\n",
       "| TCTTTGACAGGAATATLS_nal_no_mor | Gaba7 | LS_nal_no_mor |  3814 | 2026 | 0.0018353435 | #D6293D |\n",
       "| TGAGTCAGTTCCGGTGLS_nal_no_mor | Gaba7 | LS_nal_no_mor |  6529 | 2814 | 0.0012253025 | #D6293D |\n",
       "| TGATTCTTCCGTTTCGLS_nal_no_mor | Gaba7 | LS_nal_no_mor |  5195 | 2545 | 0.0000000000 | #D6293D |\n",
       "| TGCATCCCATTGCAACLS_nal_no_mor | Gaba7 | LS_nal_no_mor |  5469 | 2543 | 0.0007313951 | #D6293D |\n",
       "| TGGGCTGGTCTCGGGTLS_nal_no_mor | Gaba7 | LS_nal_no_mor |  5233 | 2398 | 0.0003821899 | #D6293D |\n",
       "| TTACAGGAGAATAGTCLS_nal_no_mor | Gaba7 | LS_nal_no_mor |  2619 | 1564 | 0.0019091256 | #D6293D |\n",
       "| TTCCACGTCCTTGACCLS_nal_no_mor | Gaba7 | LS_nal_no_mor |  2869 | 1717 | 0.0006971070 | #D6293D |\n",
       "| TTGCCTGCAACGGCTCLS_nal_no_mor | Gaba7 | LS_nal_no_mor |  3973 | 1992 | 0.0037754845 | #D6293D |\n",
       "| TTGTGTTTCCGTGACGLS_nal_no_mor | Gaba7 | LS_nal_no_mor |  4517 | 2128 | 0.0002213859 | #D6293D |\n",
       "| CAGCGTGGTGAGTCAGLS_nal_no_mor | Glu1  | LS_nal_no_mor |  3241 | 1907 | 0.0027769207 | #D6293D |\n",
       "| CCGGGTACATTGCCTCLS_nal_no_mor | Glu1  | LS_nal_no_mor | 15062 | 5333 | 0.0020581596 | #D6293D |\n",
       "| GAAGCCCAGTCATCCALS_nal_no_mor | Glu1  | LS_nal_no_mor |  6793 | 3009 | 0.0007360518 | #D6293D |\n",
       "| GGGAAGTGTCAAGCGALS_nal_no_mor | Glu1  | LS_nal_no_mor |  6042 | 2850 | 0.0021516054 | #D6293D |\n",
       "| TGATGGTTCGCTTGAALS_nal_no_mor | Glu1  | LS_nal_no_mor |  2811 | 1605 | 0.0014229811 | #D6293D |\n",
       "\n"
      ],
      "text/plain": [
       "                              celltype stim          nCount_RNA nFeature_RNA\n",
       "AAACGCTCAGGCACAALS_sal        Gaba2    LS_sal         4968      2491        \n",
       "AAAGAACCAGCAGATGLS_sal        Gaba2    LS_sal         1516      1004        \n",
       "AAAGAACGTCCGAAAGLS_sal        Gaba2    LS_sal         5914      2766        \n",
       "AAAGGATGTGTTTCTTLS_sal        Gaba2    LS_sal         4910      2580        \n",
       "AACAAAGGTTTGTTCTLS_sal        Gaba2    LS_sal         7893      3257        \n",
       "AACACACCAGAGAAAGLS_sal        Gaba2    LS_sal         5457      2584        \n",
       "AACAGGGCATCGAACTLS_sal        Gaba2    LS_sal         4697      2350        \n",
       "AACCACAAGCAGCCTCLS_sal        Gaba2    LS_sal         6891      3142        \n",
       "AACCACATCAGGACAGLS_sal        Gaba2    LS_sal         7591      3194        \n",
       "AACCCAACATGAATAGLS_sal        Gaba2    LS_sal         7108      3146        \n",
       "AACGAAAAGAAGATCTLS_sal        Gaba2    LS_sal         6598      2880        \n",
       "AACGGGATCAGTAGGGLS_sal        Gaba5    LS_sal         6352      2953        \n",
       "AAGAACATCATGCATGLS_sal        Gaba10   LS_sal         7885      3545        \n",
       "AAGACAAGTCACAGAGLS_sal        Gaba2    LS_sal         7336      3341        \n",
       "AAGCATCGTTTCCAAGLS_sal        Gaba2    LS_sal         4256      2311        \n",
       "AAGCGAGCAGCTGGTCLS_sal        Gaba2    LS_sal         5877      2867        \n",
       "AAGCGTTAGCTACAAALS_sal        Gaba2    LS_sal         3336      1995        \n",
       "AAGCGTTGTGTGTGGALS_sal        Gaba2    LS_sal         4673      2350        \n",
       "AAGCGTTTCCAACTGALS_sal        Gaba2    LS_sal         6988      3132        \n",
       "AAGGAATTCTTAAGGCLS_sal        Gaba2    LS_sal         8483      3559        \n",
       "AAGTCGTAGAACCCGALS_sal        Gaba2    LS_sal         7023      3094        \n",
       "AAGTGAAAGCAATAACLS_sal        Gaba2    LS_sal         8603      3702        \n",
       "AAGTGAACATTAAGCCLS_sal        Gaba2    LS_sal         5579      2775        \n",
       "AAGTGAATCGACTCCTLS_sal        Gaba2    LS_sal         7183      3052        \n",
       "AAGTTCGTCACATACGLS_sal        Gaba2    LS_sal        10009      3563        \n",
       "AATAGAGCAGCTGTATLS_sal        Gaba2    LS_sal         5686      2872        \n",
       "AATAGAGTCTCAGTCCLS_sal        Gaba2    LS_sal         8438      3347        \n",
       "AATCGACAGGTAATCALS_sal        Gaba2    LS_sal         4465      2210        \n",
       "AATCGACCATCGGAGALS_sal        Gaba2    LS_sal         5054      2611        \n",
       "AATCGTGTCAAGCCTALS_sal        Gaba2    LS_sal         4921      2468        \n",
       "...                           ...      ...           ...        ...         \n",
       "TAATCTCTCAGCGTCGLS_nal_no_mor Gaba7    LS_nal_no_mor  2177      1271        \n",
       "TACCCGTGTCTGCAATLS_nal_no_mor Gaba7    LS_nal_no_mor  5280      2341        \n",
       "TACCTGCTCTTCGGTCLS_nal_no_mor Gaba7    LS_nal_no_mor  5018      2493        \n",
       "TAGGAGGAGAGTCAATLS_nal_no_mor Gaba7    LS_nal_no_mor  2120      1300        \n",
       "TAGGAGGAGGGCTAACLS_nal_no_mor Gaba7    LS_nal_no_mor  5417      2681        \n",
       "TCAAGACTCGGTTCAALS_nal_no_mor Gaba7    LS_nal_no_mor  2442      1496        \n",
       "TCACAAGTCTTCGATTLS_nal_no_mor Gaba7    LS_nal_no_mor  4390      2077        \n",
       "TCATCATCACGCTTAALS_nal_no_mor Gaba7    LS_nal_no_mor  5474      2672        \n",
       "TCATCATGTTCGTTCCLS_nal_no_mor Gaba7    LS_nal_no_mor  4662      2246        \n",
       "TCCCAGTGTATCGTTGLS_nal_no_mor Gaba7    LS_nal_no_mor  2949      1693        \n",
       "TCCGGGATCGACTCCTLS_nal_no_mor Gaba7    LS_nal_no_mor  3047      1748        \n",
       "TCCGTGTGTAGCCCTGLS_nal_no_mor Gaba7    LS_nal_no_mor  6069      2814        \n",
       "TCCTTTCAGACTGAGCLS_nal_no_mor Gaba7    LS_nal_no_mor 11748      4060        \n",
       "TCGGGTGTCAGCATTGLS_nal_no_mor Gaba7    LS_nal_no_mor  3427      1831        \n",
       "TCGTGCTGTTGTCATGLS_nal_no_mor Gaba7    LS_nal_no_mor  2878      1707        \n",
       "TCTAACTGTGGAGGTTLS_nal_no_mor Gaba7    LS_nal_no_mor  3933      2062        \n",
       "TCTTTGACAGGAATATLS_nal_no_mor Gaba7    LS_nal_no_mor  3814      2026        \n",
       "TGAGTCAGTTCCGGTGLS_nal_no_mor Gaba7    LS_nal_no_mor  6529      2814        \n",
       "TGATTCTTCCGTTTCGLS_nal_no_mor Gaba7    LS_nal_no_mor  5195      2545        \n",
       "TGCATCCCATTGCAACLS_nal_no_mor Gaba7    LS_nal_no_mor  5469      2543        \n",
       "TGGGCTGGTCTCGGGTLS_nal_no_mor Gaba7    LS_nal_no_mor  5233      2398        \n",
       "TTACAGGAGAATAGTCLS_nal_no_mor Gaba7    LS_nal_no_mor  2619      1564        \n",
       "TTCCACGTCCTTGACCLS_nal_no_mor Gaba7    LS_nal_no_mor  2869      1717        \n",
       "TTGCCTGCAACGGCTCLS_nal_no_mor Gaba7    LS_nal_no_mor  3973      1992        \n",
       "TTGTGTTTCCGTGACGLS_nal_no_mor Gaba7    LS_nal_no_mor  4517      2128        \n",
       "CAGCGTGGTGAGTCAGLS_nal_no_mor Glu1     LS_nal_no_mor  3241      1907        \n",
       "CCGGGTACATTGCCTCLS_nal_no_mor Glu1     LS_nal_no_mor 15062      5333        \n",
       "GAAGCCCAGTCATCCALS_nal_no_mor Glu1     LS_nal_no_mor  6793      3009        \n",
       "GGGAAGTGTCAAGCGALS_nal_no_mor Glu1     LS_nal_no_mor  6042      2850        \n",
       "TGATGGTTCGCTTGAALS_nal_no_mor Glu1     LS_nal_no_mor  2811      1605        \n",
       "                              percent.mito col      \n",
       "AAACGCTCAGGCACAALS_sal        0.0002012882 lightgray\n",
       "AAAGAACCAGCAGATGLS_sal        0.0006596306 lightgray\n",
       "AAAGAACGTCCGAAAGLS_sal        0.0003381806 lightgray\n",
       "AAAGGATGTGTTTCTTLS_sal        0.0006109980 lightgray\n",
       "AACAAAGGTTTGTTCTLS_sal        0.0003800836 lightgray\n",
       "AACACACCAGAGAAAGLS_sal        0.0001832509 lightgray\n",
       "AACAGGGCATCGAACTLS_sal        0.0002129019 lightgray\n",
       "AACCACAAGCAGCCTCLS_sal        0.0014511682 lightgray\n",
       "AACCACATCAGGACAGLS_sal        0.0000000000 lightgray\n",
       "AACCCAACATGAATAGLS_sal        0.0002813731 lightgray\n",
       "AACGAAAAGAAGATCTLS_sal        0.0001515611 lightgray\n",
       "AACGGGATCAGTAGGGLS_sal        0.0007871537 lightgray\n",
       "AAGAACATCATGCATGLS_sal        0.0003804692 lightgray\n",
       "AAGACAAGTCACAGAGLS_sal        0.0009541985 lightgray\n",
       "AAGCATCGTTTCCAAGLS_sal        0.0000000000 lightgray\n",
       "AAGCGAGCAGCTGGTCLS_sal        0.0001701548 lightgray\n",
       "AAGCGTTAGCTACAAALS_sal        0.0011990408 lightgray\n",
       "AAGCGTTGTGTGTGGALS_sal        0.0008559812 lightgray\n",
       "AAGCGTTTCCAACTGALS_sal        0.0000000000 lightgray\n",
       "AAGGAATTCTTAAGGCLS_sal        0.0005894141 lightgray\n",
       "AAGTCGTAGAACCCGALS_sal        0.0001423893 lightgray\n",
       "AAGTGAAAGCAATAACLS_sal        0.0005811926 lightgray\n",
       "AAGTGAACATTAAGCCLS_sal        0.0001792436 lightgray\n",
       "AAGTGAATCGACTCCTLS_sal        0.0006960880 lightgray\n",
       "AAGTTCGTCACATACGLS_sal        0.0001998202 lightgray\n",
       "AATAGAGCAGCTGTATLS_sal        0.0007034822 lightgray\n",
       "AATAGAGTCTCAGTCCLS_sal        0.0004740460 lightgray\n",
       "AATCGACAGGTAATCALS_sal        0.0004479283 lightgray\n",
       "AATCGACCATCGGAGALS_sal        0.0007914523 lightgray\n",
       "AATCGTGTCAAGCCTALS_sal        0.0002032107 lightgray\n",
       "...                           ...          ...      \n",
       "TAATCTCTCAGCGTCGLS_nal_no_mor 0.0004593477 #D6293D  \n",
       "TACCCGTGTCTGCAATLS_nal_no_mor 0.0018939394 #D6293D  \n",
       "TACCTGCTCTTCGGTCLS_nal_no_mor 0.0025906736 #D6293D  \n",
       "TAGGAGGAGAGTCAATLS_nal_no_mor 0.0047169811 #D6293D  \n",
       "TAGGAGGAGGGCTAACLS_nal_no_mor 0.0055381207 #D6293D  \n",
       "TCAAGACTCGGTTCAALS_nal_no_mor 0.0028665029 #D6293D  \n",
       "TCACAAGTCTTCGATTLS_nal_no_mor 0.0027334852 #D6293D  \n",
       "TCATCATCACGCTTAALS_nal_no_mor 0.0067592254 #D6293D  \n",
       "TCATCATGTTCGTTCCLS_nal_no_mor 0.0008580009 #D6293D  \n",
       "TCCCAGTGTATCGTTGLS_nal_no_mor 0.0016954900 #D6293D  \n",
       "TCCGGGATCGACTCCTLS_nal_no_mor 0.0036101083 #D6293D  \n",
       "TCCGTGTGTAGCCCTGLS_nal_no_mor 0.0014829461 #D6293D  \n",
       "TCCTTTCAGACTGAGCLS_nal_no_mor 0.0014470548 #D6293D  \n",
       "TCGGGTGTCAGCATTGLS_nal_no_mor 0.0017508025 #D6293D  \n",
       "TCGTGCTGTTGTCATGLS_nal_no_mor 0.0017373176 #D6293D  \n",
       "TCTAACTGTGGAGGTTLS_nal_no_mor 0.0017798118 #D6293D  \n",
       "TCTTTGACAGGAATATLS_nal_no_mor 0.0018353435 #D6293D  \n",
       "TGAGTCAGTTCCGGTGLS_nal_no_mor 0.0012253025 #D6293D  \n",
       "TGATTCTTCCGTTTCGLS_nal_no_mor 0.0000000000 #D6293D  \n",
       "TGCATCCCATTGCAACLS_nal_no_mor 0.0007313951 #D6293D  \n",
       "TGGGCTGGTCTCGGGTLS_nal_no_mor 0.0003821899 #D6293D  \n",
       "TTACAGGAGAATAGTCLS_nal_no_mor 0.0019091256 #D6293D  \n",
       "TTCCACGTCCTTGACCLS_nal_no_mor 0.0006971070 #D6293D  \n",
       "TTGCCTGCAACGGCTCLS_nal_no_mor 0.0037754845 #D6293D  \n",
       "TTGTGTTTCCGTGACGLS_nal_no_mor 0.0002213859 #D6293D  \n",
       "CAGCGTGGTGAGTCAGLS_nal_no_mor 0.0027769207 #D6293D  \n",
       "CCGGGTACATTGCCTCLS_nal_no_mor 0.0020581596 #D6293D  \n",
       "GAAGCCCAGTCATCCALS_nal_no_mor 0.0007360518 #D6293D  \n",
       "GGGAAGTGTCAAGCGALS_nal_no_mor 0.0021516054 #D6293D  \n",
       "TGATGGTTCGCTTGAALS_nal_no_mor 0.0014229811 #D6293D  "
      ]
     },
     "metadata": {},
     "output_type": "display_data"
    }
   ],
   "source": [
    "subset"
   ]
  },
  {
   "cell_type": "code",
   "execution_count": 40,
   "metadata": {},
   "outputs": [
    {
     "name": "stderr",
     "output_type": "stream",
     "text": [
      "Warning message:\n",
      "\"`fun.y` is deprecated. Use `fun` instead.\"\n"
     ]
    },
    {
     "ename": "ERROR",
     "evalue": "Error in is_reference(x, quote(expr = )): object 'my_cols2' not found\n",
     "output_type": "error",
     "traceback": [
      "Error in is_reference(x, quote(expr = )): object 'my_cols2' not found\nTraceback:\n",
      "1. scale_fill_manual(values = my_cols2)",
      "2. manual_scale(aesthetics, values, breaks, ..., na.value = na.value)",
      "3. is_missing(values)",
      "4. is_reference(x, quote(expr = ))"
     ]
    }
   ],
   "source": [
    "pu <- ggplot(subset, aes(x=celltype, y=nCount_RNA, color=celltype, fill=celltype)) + \n",
    "    geom_violin(width=0.75, size=0.25) +\n",
    "    stat_summary(fun.y=median, geom=\"point\", size=0.25, color=\"white\")+\n",
    "    theme_classic()+\n",
    "    theme(axis.line = element_line(color=\"black\",size=0.1),\n",
    "          axis.text.y=element_text(size=6) ,\n",
    "          axis.text.x=element_text(hjust=1, size=6, angle=45),\n",
    "          axis.title.x=element_blank(),\n",
    "          axis.title.y=element_blank(),\n",
    "          plot.title=element_blank()) +\n",
    "    theme(legend.title = element_text(size = 8),\n",
    "          legend.text = element_text(size = 6), \n",
    "          axis.ticks = element_line(colour = \"black\", size = .25), \n",
    "          axis.line = element_line(colour = 'black', size = .25))+\n",
    "    ggtitle(\"UMI counts by group\") +\n",
    "    scale_fill_manual(values = my_cols2)+\n",
    "    scale_color_manual(values = rep('black', 14))+\n",
    "    NoLegend()\n",
    "pu\n",
    "#ggsave(file=\"UMIs_by_celltype.pdf\",width=2.5,height=1)\n",
    "#ggsave(file=\"UMIs_by_celltype.png\",width=2.5,height=1)"
   ]
  },
  {
   "cell_type": "code",
   "execution_count": 41,
   "metadata": {},
   "outputs": [
    {
     "name": "stderr",
     "output_type": "stream",
     "text": [
      "Warning message:\n",
      "\"`fun.y` is deprecated. Use `fun` instead.\"\n"
     ]
    },
    {
     "data": {
      "image/png": "[encoded data removed]",
      "text/plain": [
       "plot without title"
      ]
     },
     "metadata": {
      "image/png": {
       "height": 420,
       "width": 420
      }
     },
     "output_type": "display_data"
    }
   ],
   "source": [
    "group.colors <- c(LS_sal=\"darkgray\",LS_one_mor=\"#29D6C2\",LS_mor=\"#4392FE\", LS_nal_no_mor=\"#D6293D\",LS_nal=\"darkorange\")\n",
    "pu <- ggplot(subset, aes(x=stim, y=nCount_RNA, color=stim, fill=stim)) + \n",
    "    geom_violin(width=0.75, size=0.25) +\n",
    "    stat_summary(fun.y=median, geom=\"point\", size=1, color=\"white\")+\n",
    "    theme_classic()+\n",
    "    theme(axis.line = element_line(color=\"black\",size=0.1),\n",
    "          axis.text.y=element_text(size=6) ,\n",
    "          axis.text.x=element_text(vjust=0.5, size=6),\n",
    "          axis.title.x=element_blank(),\n",
    "          axis.title.y=element_text(size=8),\n",
    "          plot.title=element_blank()) +\n",
    "    theme(legend.title = element_text(size = 6),\n",
    "          legend.text = element_text(size = 6), \n",
    "          axis.ticks = element_line(colour = \"black\", size = .25), \n",
    "          axis.line = element_line(colour = 'black', size = .25))+\n",
    "    ggtitle(\"UMI counts by group\") +\n",
    "    scale_fill_manual(values = group.colors)+\n",
    "    scale_color_manual(values = c(\"black\",\"black\",\"black\",\"black\",\"black\"))+\n",
    "    NoLegend()\n",
    "pu\n",
    "#ggsave(file=\"UMIs_by_group_combined.pdf\",width=1,height=1)\n",
    "#ggsave(file=\"UMIs_by_group_combined.png\",width=1,height=1)"
   ]
  },
  {
   "cell_type": "code",
   "execution_count": 42,
   "metadata": {},
   "outputs": [
    {
     "name": "stderr",
     "output_type": "stream",
     "text": [
      "Warning message:\n",
      "\"`fun.y` is deprecated. Use `fun` instead.\"\n"
     ]
    },
    {
     "data": {
      "image/png": "[encoded data removed]",
      "text/plain": [
       "plot without title"
      ]
     },
     "metadata": {
      "image/png": {
       "height": 420,
       "width": 420
      }
     },
     "output_type": "display_data"
    }
   ],
   "source": [
    "pu <- ggplot(subset, aes(x=celltype, y=nCount_RNA, fill=stim, color=stim,)) + \n",
    "geom_violin(width=1, size=0.25) +\n",
    "stat_summary(fun.y=median, geom=\"point\", size=0.25, color=\"white\")+\n",
    "theme_classic()+\n",
    "theme(axis.line = element_line(color=\"black\",size=0.1), \n",
    "      axis.text.y=element_text(size=8) ,\n",
    "      axis.text.x=element_text(angle = 90, vjust=0.5, hjust = 1, size=6) ,\n",
    "      plot.title=element_blank(),\n",
    "      axis.title=element_blank()) +\n",
    "theme(legend.title = element_text(size = 11),legend.text = element_text(size = 6), axis.ticks = element_line(colour = \"black\", size = .25), axis.line = element_line(colour = 'black', size = .25))+\n",
    "ggtitle(\"UMI counts by group\") +\n",
    "scale_fill_manual(values = group.colors)+\n",
    "scale_color_manual(values = c(\"black\",\"black\",\"black\",\"black\",\"black\"))\n",
    "pu + facet_grid(rows = vars(subset$stim)) + NoLegend() +\n",
    "theme(strip.background = element_rect(color=\"black\", size=0.25, linetype=\"solid\"), strip.text.y = element_text(size = 6),\n",
    "      panel.background = element_rect(colour = \"black\", size=.5, fill=NA))\n",
    "#ggsave(file=\"UMIs_by_group.png\",width=3,height=3)\n",
    "#ggsave(file=\"UMIs_by_group.pdf\",width=3,height=3)"
   ]
  },
  {
   "cell_type": "code",
   "execution_count": 43,
   "metadata": {
    "scrolled": true
   },
   "outputs": [
    {
     "name": "stderr",
     "output_type": "stream",
     "text": [
      "Warning message:\n",
      "\"`fun.y` is deprecated. Use `fun` instead.\"\n"
     ]
    },
    {
     "ename": "ERROR",
     "evalue": "Error in is_reference(x, quote(expr = )): object 'my_cols2' not found\n",
     "output_type": "error",
     "traceback": [
      "Error in is_reference(x, quote(expr = )): object 'my_cols2' not found\nTraceback:\n",
      "1. scale_fill_manual(values = my_cols2)",
      "2. manual_scale(aesthetics, values, breaks, ..., na.value = na.value)",
      "3. is_missing(values)",
      "4. is_reference(x, quote(expr = ))"
     ]
    }
   ],
   "source": [
    "pg <- ggplot(subset, aes(x=celltype, y=nFeature_RNA, color=celltype, fill=celltype)) + \n",
    "    geom_violin(width=0.75, size=0.25) +\n",
    "    stat_summary(fun.y=median, geom=\"point\", size=0.25, color=\"white\")+\n",
    "    theme_classic()+\n",
    "    theme(axis.line = element_line(color=\"black\",size=0.1),\n",
    "           axis.title.x=element_blank(),\n",
    "          axis.text.y=element_text(size=6) ,\n",
    "            axis.title.y=element_blank(),\n",
    "          axis.text.x=element_text( hjust=1,angle=45, size=6),\n",
    "          plot.title=element_blank()) +\n",
    "    theme(legend.title = element_text(size = 8),\n",
    "          legend.text = element_text(size = 6), \n",
    "          axis.ticks = element_line(colour = \"black\", size = .25), \n",
    "          axis.line = element_line(colour = 'black', size = .25))+\n",
    "    ggtitle(\"UMI counts by group\") +\n",
    "    scale_fill_manual(values = my_cols2)+\n",
    "    scale_color_manual(values = rep('black',14))+\n",
    "    NoLegend()\n",
    "pg\n",
    "#ggsave(file=\"Genes_by_celltype.pdf\",width=2.5,height=1)\n",
    "#ggsave(file=\"Genes_by_celltype.png\",width=2.5,height=1)"
   ]
  },
  {
   "cell_type": "code",
   "execution_count": 44,
   "metadata": {
    "scrolled": true
   },
   "outputs": [
    {
     "name": "stderr",
     "output_type": "stream",
     "text": [
      "Warning message:\n",
      "\"`fun.y` is deprecated. Use `fun` instead.\"\n"
     ]
    },
    {
     "data": {
      "image/png": "[encoded data removed]",
      "text/plain": [
       "plot without title"
      ]
     },
     "metadata": {
      "image/png": {
       "height": 420,
       "width": 420
      }
     },
     "output_type": "display_data"
    }
   ],
   "source": [
    "group.colors <- c(LS_sal=\"darkgray\",LS_one_mor=\"#29D6C2\",LS_mor=\"#4392FE\", LS_nal_no_mor=\"#D6293D\",LS_nal=\"darkorange\")\n",
    "pg <- ggplot(subset, aes(x=stim, y=nFeature_RNA, color=stim, fill=stim)) + \n",
    "    geom_violin(width=0.75, size=0.25) +\n",
    "    stat_summary(fun.y=median, geom=\"point\", size=1, color=\"white\")+\n",
    "    theme_classic()+\n",
    "    theme(axis.line = element_line(color=\"black\",size=0.1),\n",
    "           axis.title.x=element_blank(),\n",
    "          axis.text.y=element_text(size=6) ,\n",
    "            axis.title.y=element_text(size=8),\n",
    "          axis.text.x=element_text( vjust=0.5, size=6),\n",
    "          plot.title=element_blank()) +\n",
    "    theme(legend.title = element_text(size = 6),\n",
    "          legend.text = element_text(size = 6), \n",
    "          axis.ticks = element_line(colour = \"black\", size = .25), \n",
    "          axis.line = element_line(colour = 'black', size = .25))+\n",
    "    ggtitle(\"UMI counts by group\") +\n",
    "    scale_fill_manual(values = group.colors)+\n",
    "    scale_color_manual(values = c(\"black\",\"black\",\"black\",\"black\",\"black\"))+\n",
    "    NoLegend()\n",
    "pg\n",
    "#ggsave(file=\"Genes_by_group_combined.pdf\",width=1,height=1)\n",
    "#ggsave(file=\"Genes_by_group_combined.png\",width=1,height=1)"
   ]
  },
  {
   "cell_type": "code",
   "execution_count": 62,
   "metadata": {
    "scrolled": true
   },
   "outputs": [
    {
     "data": {
      "text/html": [
       "<table class=\"dataframe\">\n",
       "<caption>A data.frame: 25607 × 6</caption>\n",
       "<thead>\n",
       "\t<tr><th></th><th scope=col>celltype</th><th scope=col>stim</th><th scope=col>nCount_RNA</th><th scope=col>nFeature_RNA</th><th scope=col>percent.mito</th><th scope=col>col</th></tr>\n",
       "\t<tr><th></th><th scope=col>&lt;fct&gt;</th><th scope=col>&lt;fct&gt;</th><th scope=col>&lt;dbl&gt;</th><th scope=col>&lt;int&gt;</th><th scope=col>&lt;dbl&gt;</th><th scope=col>&lt;chr&gt;</th></tr>\n",
       "</thead>\n",
       "<tbody>\n",
       "\t<tr><th scope=row>AAACGCTCAGGCACAALS_sal</th><td>Gaba2 </td><td>LS_sal</td><td> 4968</td><td>2491</td><td>0.0002012882</td><td>lightgray</td></tr>\n",
       "\t<tr><th scope=row>AAAGAACCAGCAGATGLS_sal</th><td>Gaba2 </td><td>LS_sal</td><td> 1516</td><td>1004</td><td>0.0006596306</td><td>lightgray</td></tr>\n",
       "\t<tr><th scope=row>AAAGAACGTCCGAAAGLS_sal</th><td>Gaba2 </td><td>LS_sal</td><td> 5914</td><td>2766</td><td>0.0003381806</td><td>lightgray</td></tr>\n",
       "\t<tr><th scope=row>AAAGGATGTGTTTCTTLS_sal</th><td>Gaba2 </td><td>LS_sal</td><td> 4910</td><td>2580</td><td>0.0006109980</td><td>lightgray</td></tr>\n",
       "\t<tr><th scope=row>AACAAAGGTTTGTTCTLS_sal</th><td>Gaba2 </td><td>LS_sal</td><td> 7893</td><td>3257</td><td>0.0003800836</td><td>lightgray</td></tr>\n",
       "\t<tr><th scope=row>AACACACCAGAGAAAGLS_sal</th><td>Gaba2 </td><td>LS_sal</td><td> 5457</td><td>2584</td><td>0.0001832509</td><td>lightgray</td></tr>\n",
       "\t<tr><th scope=row>AACAGGGCATCGAACTLS_sal</th><td>Gaba2 </td><td>LS_sal</td><td> 4697</td><td>2350</td><td>0.0002129019</td><td>lightgray</td></tr>\n",
       "\t<tr><th scope=row>AACCACAAGCAGCCTCLS_sal</th><td>Gaba2 </td><td>LS_sal</td><td> 6891</td><td>3142</td><td>0.0014511682</td><td>lightgray</td></tr>\n",
       "\t<tr><th scope=row>AACCACATCAGGACAGLS_sal</th><td>Gaba2 </td><td>LS_sal</td><td> 7591</td><td>3194</td><td>0.0000000000</td><td>lightgray</td></tr>\n",
       "\t<tr><th scope=row>AACCCAACATGAATAGLS_sal</th><td>Gaba2 </td><td>LS_sal</td><td> 7108</td><td>3146</td><td>0.0002813731</td><td>lightgray</td></tr>\n",
       "\t<tr><th scope=row>AACGAAAAGAAGATCTLS_sal</th><td>Gaba2 </td><td>LS_sal</td><td> 6598</td><td>2880</td><td>0.0001515611</td><td>lightgray</td></tr>\n",
       "\t<tr><th scope=row>AACGGGATCAGTAGGGLS_sal</th><td>Gaba5 </td><td>LS_sal</td><td> 6352</td><td>2953</td><td>0.0007871537</td><td>lightgray</td></tr>\n",
       "\t<tr><th scope=row>AAGAACATCATGCATGLS_sal</th><td>Gaba10</td><td>LS_sal</td><td> 7885</td><td>3545</td><td>0.0003804692</td><td>lightgray</td></tr>\n",
       "\t<tr><th scope=row>AAGACAAGTCACAGAGLS_sal</th><td>Gaba2 </td><td>LS_sal</td><td> 7336</td><td>3341</td><td>0.0009541985</td><td>lightgray</td></tr>\n",
       "\t<tr><th scope=row>AAGCATCGTTTCCAAGLS_sal</th><td>Gaba2 </td><td>LS_sal</td><td> 4256</td><td>2311</td><td>0.0000000000</td><td>lightgray</td></tr>\n",
       "\t<tr><th scope=row>AAGCGAGCAGCTGGTCLS_sal</th><td>Gaba2 </td><td>LS_sal</td><td> 5877</td><td>2867</td><td>0.0001701548</td><td>lightgray</td></tr>\n",
       "\t<tr><th scope=row>AAGCGTTAGCTACAAALS_sal</th><td>Gaba2 </td><td>LS_sal</td><td> 3336</td><td>1995</td><td>0.0011990408</td><td>lightgray</td></tr>\n",
       "\t<tr><th scope=row>AAGCGTTGTGTGTGGALS_sal</th><td>Gaba2 </td><td>LS_sal</td><td> 4673</td><td>2350</td><td>0.0008559812</td><td>lightgray</td></tr>\n",
       "\t<tr><th scope=row>AAGCGTTTCCAACTGALS_sal</th><td>Gaba2 </td><td>LS_sal</td><td> 6988</td><td>3132</td><td>0.0000000000</td><td>lightgray</td></tr>\n",
       "\t<tr><th scope=row>AAGGAATTCTTAAGGCLS_sal</th><td>Gaba2 </td><td>LS_sal</td><td> 8483</td><td>3559</td><td>0.0005894141</td><td>lightgray</td></tr>\n",
       "\t<tr><th scope=row>AAGTCGTAGAACCCGALS_sal</th><td>Gaba2 </td><td>LS_sal</td><td> 7023</td><td>3094</td><td>0.0001423893</td><td>lightgray</td></tr>\n",
       "\t<tr><th scope=row>AAGTGAAAGCAATAACLS_sal</th><td>Gaba2 </td><td>LS_sal</td><td> 8603</td><td>3702</td><td>0.0005811926</td><td>lightgray</td></tr>\n",
       "\t<tr><th scope=row>AAGTGAACATTAAGCCLS_sal</th><td>Gaba2 </td><td>LS_sal</td><td> 5579</td><td>2775</td><td>0.0001792436</td><td>lightgray</td></tr>\n",
       "\t<tr><th scope=row>AAGTGAATCGACTCCTLS_sal</th><td>Gaba2 </td><td>LS_sal</td><td> 7183</td><td>3052</td><td>0.0006960880</td><td>lightgray</td></tr>\n",
       "\t<tr><th scope=row>AAGTTCGTCACATACGLS_sal</th><td>Gaba2 </td><td>LS_sal</td><td>10009</td><td>3563</td><td>0.0001998202</td><td>lightgray</td></tr>\n",
       "\t<tr><th scope=row>AATAGAGCAGCTGTATLS_sal</th><td>Gaba2 </td><td>LS_sal</td><td> 5686</td><td>2872</td><td>0.0007034822</td><td>lightgray</td></tr>\n",
       "\t<tr><th scope=row>AATAGAGTCTCAGTCCLS_sal</th><td>Gaba2 </td><td>LS_sal</td><td> 8438</td><td>3347</td><td>0.0004740460</td><td>lightgray</td></tr>\n",
       "\t<tr><th scope=row>AATCGACAGGTAATCALS_sal</th><td>Gaba2 </td><td>LS_sal</td><td> 4465</td><td>2210</td><td>0.0004479283</td><td>lightgray</td></tr>\n",
       "\t<tr><th scope=row>AATCGACCATCGGAGALS_sal</th><td>Gaba2 </td><td>LS_sal</td><td> 5054</td><td>2611</td><td>0.0007914523</td><td>lightgray</td></tr>\n",
       "\t<tr><th scope=row>AATCGTGTCAAGCCTALS_sal</th><td>Gaba2 </td><td>LS_sal</td><td> 4921</td><td>2468</td><td>0.0002032107</td><td>lightgray</td></tr>\n",
       "\t<tr><th scope=row>...</th><td>...</td><td>...</td><td>...</td><td>...</td><td>...</td><td>...</td></tr>\n",
       "\t<tr><th scope=row>TAATCTCTCAGCGTCGLS_nal_no_mor</th><td>Gaba7</td><td>LS_nal_no_mor</td><td> 2177</td><td>1271</td><td>0.0004593477</td><td>#D6293D</td></tr>\n",
       "\t<tr><th scope=row>TACCCGTGTCTGCAATLS_nal_no_mor</th><td>Gaba7</td><td>LS_nal_no_mor</td><td> 5280</td><td>2341</td><td>0.0018939394</td><td>#D6293D</td></tr>\n",
       "\t<tr><th scope=row>TACCTGCTCTTCGGTCLS_nal_no_mor</th><td>Gaba7</td><td>LS_nal_no_mor</td><td> 5018</td><td>2493</td><td>0.0025906736</td><td>#D6293D</td></tr>\n",
       "\t<tr><th scope=row>TAGGAGGAGAGTCAATLS_nal_no_mor</th><td>Gaba7</td><td>LS_nal_no_mor</td><td> 2120</td><td>1300</td><td>0.0047169811</td><td>#D6293D</td></tr>\n",
       "\t<tr><th scope=row>TAGGAGGAGGGCTAACLS_nal_no_mor</th><td>Gaba7</td><td>LS_nal_no_mor</td><td> 5417</td><td>2681</td><td>0.0055381207</td><td>#D6293D</td></tr>\n",
       "\t<tr><th scope=row>TCAAGACTCGGTTCAALS_nal_no_mor</th><td>Gaba7</td><td>LS_nal_no_mor</td><td> 2442</td><td>1496</td><td>0.0028665029</td><td>#D6293D</td></tr>\n",
       "\t<tr><th scope=row>TCACAAGTCTTCGATTLS_nal_no_mor</th><td>Gaba7</td><td>LS_nal_no_mor</td><td> 4390</td><td>2077</td><td>0.0027334852</td><td>#D6293D</td></tr>\n",
       "\t<tr><th scope=row>TCATCATCACGCTTAALS_nal_no_mor</th><td>Gaba7</td><td>LS_nal_no_mor</td><td> 5474</td><td>2672</td><td>0.0067592254</td><td>#D6293D</td></tr>\n",
       "\t<tr><th scope=row>TCATCATGTTCGTTCCLS_nal_no_mor</th><td>Gaba7</td><td>LS_nal_no_mor</td><td> 4662</td><td>2246</td><td>0.0008580009</td><td>#D6293D</td></tr>\n",
       "\t<tr><th scope=row>TCCCAGTGTATCGTTGLS_nal_no_mor</th><td>Gaba7</td><td>LS_nal_no_mor</td><td> 2949</td><td>1693</td><td>0.0016954900</td><td>#D6293D</td></tr>\n",
       "\t<tr><th scope=row>TCCGGGATCGACTCCTLS_nal_no_mor</th><td>Gaba7</td><td>LS_nal_no_mor</td><td> 3047</td><td>1748</td><td>0.0036101083</td><td>#D6293D</td></tr>\n",
       "\t<tr><th scope=row>TCCGTGTGTAGCCCTGLS_nal_no_mor</th><td>Gaba7</td><td>LS_nal_no_mor</td><td> 6069</td><td>2814</td><td>0.0014829461</td><td>#D6293D</td></tr>\n",
       "\t<tr><th scope=row>TCCTTTCAGACTGAGCLS_nal_no_mor</th><td>Gaba7</td><td>LS_nal_no_mor</td><td>11748</td><td>4060</td><td>0.0014470548</td><td>#D6293D</td></tr>\n",
       "\t<tr><th scope=row>TCGGGTGTCAGCATTGLS_nal_no_mor</th><td>Gaba7</td><td>LS_nal_no_mor</td><td> 3427</td><td>1831</td><td>0.0017508025</td><td>#D6293D</td></tr>\n",
       "\t<tr><th scope=row>TCGTGCTGTTGTCATGLS_nal_no_mor</th><td>Gaba7</td><td>LS_nal_no_mor</td><td> 2878</td><td>1707</td><td>0.0017373176</td><td>#D6293D</td></tr>\n",
       "\t<tr><th scope=row>TCTAACTGTGGAGGTTLS_nal_no_mor</th><td>Gaba7</td><td>LS_nal_no_mor</td><td> 3933</td><td>2062</td><td>0.0017798118</td><td>#D6293D</td></tr>\n",
       "\t<tr><th scope=row>TCTTTGACAGGAATATLS_nal_no_mor</th><td>Gaba7</td><td>LS_nal_no_mor</td><td> 3814</td><td>2026</td><td>0.0018353435</td><td>#D6293D</td></tr>\n",
       "\t<tr><th scope=row>TGAGTCAGTTCCGGTGLS_nal_no_mor</th><td>Gaba7</td><td>LS_nal_no_mor</td><td> 6529</td><td>2814</td><td>0.0012253025</td><td>#D6293D</td></tr>\n",
       "\t<tr><th scope=row>TGATTCTTCCGTTTCGLS_nal_no_mor</th><td>Gaba7</td><td>LS_nal_no_mor</td><td> 5195</td><td>2545</td><td>0.0000000000</td><td>#D6293D</td></tr>\n",
       "\t<tr><th scope=row>TGCATCCCATTGCAACLS_nal_no_mor</th><td>Gaba7</td><td>LS_nal_no_mor</td><td> 5469</td><td>2543</td><td>0.0007313951</td><td>#D6293D</td></tr>\n",
       "\t<tr><th scope=row>TGGGCTGGTCTCGGGTLS_nal_no_mor</th><td>Gaba7</td><td>LS_nal_no_mor</td><td> 5233</td><td>2398</td><td>0.0003821899</td><td>#D6293D</td></tr>\n",
       "\t<tr><th scope=row>TTACAGGAGAATAGTCLS_nal_no_mor</th><td>Gaba7</td><td>LS_nal_no_mor</td><td> 2619</td><td>1564</td><td>0.0019091256</td><td>#D6293D</td></tr>\n",
       "\t<tr><th scope=row>TTCCACGTCCTTGACCLS_nal_no_mor</th><td>Gaba7</td><td>LS_nal_no_mor</td><td> 2869</td><td>1717</td><td>0.0006971070</td><td>#D6293D</td></tr>\n",
       "\t<tr><th scope=row>TTGCCTGCAACGGCTCLS_nal_no_mor</th><td>Gaba7</td><td>LS_nal_no_mor</td><td> 3973</td><td>1992</td><td>0.0037754845</td><td>#D6293D</td></tr>\n",
       "\t<tr><th scope=row>TTGTGTTTCCGTGACGLS_nal_no_mor</th><td>Gaba7</td><td>LS_nal_no_mor</td><td> 4517</td><td>2128</td><td>0.0002213859</td><td>#D6293D</td></tr>\n",
       "\t<tr><th scope=row>CAGCGTGGTGAGTCAGLS_nal_no_mor</th><td>Glu1 </td><td>LS_nal_no_mor</td><td> 3241</td><td>1907</td><td>0.0027769207</td><td>#D6293D</td></tr>\n",
       "\t<tr><th scope=row>CCGGGTACATTGCCTCLS_nal_no_mor</th><td>Glu1 </td><td>LS_nal_no_mor</td><td>15062</td><td>5333</td><td>0.0020581596</td><td>#D6293D</td></tr>\n",
       "\t<tr><th scope=row>GAAGCCCAGTCATCCALS_nal_no_mor</th><td>Glu1 </td><td>LS_nal_no_mor</td><td> 6793</td><td>3009</td><td>0.0007360518</td><td>#D6293D</td></tr>\n",
       "\t<tr><th scope=row>GGGAAGTGTCAAGCGALS_nal_no_mor</th><td>Glu1 </td><td>LS_nal_no_mor</td><td> 6042</td><td>2850</td><td>0.0021516054</td><td>#D6293D</td></tr>\n",
       "\t<tr><th scope=row>TGATGGTTCGCTTGAALS_nal_no_mor</th><td>Glu1 </td><td>LS_nal_no_mor</td><td> 2811</td><td>1605</td><td>0.0014229811</td><td>#D6293D</td></tr>\n",
       "</tbody>\n",
       "</table>\n"
      ],
      "text/latex": [
       "A data.frame: 25607 × 6\n",
       "\\begin{tabular}{r|llllll}\n",
       "  & celltype & stim & nCount\\_RNA & nFeature\\_RNA & percent.mito & col\\\\\n",
       "  & <fct> & <fct> & <dbl> & <int> & <dbl> & <chr>\\\\\n",
       "\\hline\n",
       "\tAAACGCTCAGGCACAALS\\_sal & Gaba2  & LS\\_sal &  4968 & 2491 & 0.0002012882 & lightgray\\\\\n",
       "\tAAAGAACCAGCAGATGLS\\_sal & Gaba2  & LS\\_sal &  1516 & 1004 & 0.0006596306 & lightgray\\\\\n",
       "\tAAAGAACGTCCGAAAGLS\\_sal & Gaba2  & LS\\_sal &  5914 & 2766 & 0.0003381806 & lightgray\\\\\n",
       "\tAAAGGATGTGTTTCTTLS\\_sal & Gaba2  & LS\\_sal &  4910 & 2580 & 0.0006109980 & lightgray\\\\\n",
       "\tAACAAAGGTTTGTTCTLS\\_sal & Gaba2  & LS\\_sal &  7893 & 3257 & 0.0003800836 & lightgray\\\\\n",
       "\tAACACACCAGAGAAAGLS\\_sal & Gaba2  & LS\\_sal &  5457 & 2584 & 0.0001832509 & lightgray\\\\\n",
       "\tAACAGGGCATCGAACTLS\\_sal & Gaba2  & LS\\_sal &  4697 & 2350 & 0.0002129019 & lightgray\\\\\n",
       "\tAACCACAAGCAGCCTCLS\\_sal & Gaba2  & LS\\_sal &  6891 & 3142 & 0.0014511682 & lightgray\\\\\n",
       "\tAACCACATCAGGACAGLS\\_sal & Gaba2  & LS\\_sal &  7591 & 3194 & 0.0000000000 & lightgray\\\\\n",
       "\tAACCCAACATGAATAGLS\\_sal & Gaba2  & LS\\_sal &  7108 & 3146 & 0.0002813731 & lightgray\\\\\n",
       "\tAACGAAAAGAAGATCTLS\\_sal & Gaba2  & LS\\_sal &  6598 & 2880 & 0.0001515611 & lightgray\\\\\n",
       "\tAACGGGATCAGTAGGGLS\\_sal & Gaba5  & LS\\_sal &  6352 & 2953 & 0.0007871537 & lightgray\\\\\n",
       "\tAAGAACATCATGCATGLS\\_sal & Gaba10 & LS\\_sal &  7885 & 3545 & 0.0003804692 & lightgray\\\\\n",
       "\tAAGACAAGTCACAGAGLS\\_sal & Gaba2  & LS\\_sal &  7336 & 3341 & 0.0009541985 & lightgray\\\\\n",
       "\tAAGCATCGTTTCCAAGLS\\_sal & Gaba2  & LS\\_sal &  4256 & 2311 & 0.0000000000 & lightgray\\\\\n",
       "\tAAGCGAGCAGCTGGTCLS\\_sal & Gaba2  & LS\\_sal &  5877 & 2867 & 0.0001701548 & lightgray\\\\\n",
       "\tAAGCGTTAGCTACAAALS\\_sal & Gaba2  & LS\\_sal &  3336 & 1995 & 0.0011990408 & lightgray\\\\\n",
       "\tAAGCGTTGTGTGTGGALS\\_sal & Gaba2  & LS\\_sal &  4673 & 2350 & 0.0008559812 & lightgray\\\\\n",
       "\tAAGCGTTTCCAACTGALS\\_sal & Gaba2  & LS\\_sal &  6988 & 3132 & 0.0000000000 & lightgray\\\\\n",
       "\tAAGGAATTCTTAAGGCLS\\_sal & Gaba2  & LS\\_sal &  8483 & 3559 & 0.0005894141 & lightgray\\\\\n",
       "\tAAGTCGTAGAACCCGALS\\_sal & Gaba2  & LS\\_sal &  7023 & 3094 & 0.0001423893 & lightgray\\\\\n",
       "\tAAGTGAAAGCAATAACLS\\_sal & Gaba2  & LS\\_sal &  8603 & 3702 & 0.0005811926 & lightgray\\\\\n",
       "\tAAGTGAACATTAAGCCLS\\_sal & Gaba2  & LS\\_sal &  5579 & 2775 & 0.0001792436 & lightgray\\\\\n",
       "\tAAGTGAATCGACTCCTLS\\_sal & Gaba2  & LS\\_sal &  7183 & 3052 & 0.0006960880 & lightgray\\\\\n",
       "\tAAGTTCGTCACATACGLS\\_sal & Gaba2  & LS\\_sal & 10009 & 3563 & 0.0001998202 & lightgray\\\\\n",
       "\tAATAGAGCAGCTGTATLS\\_sal & Gaba2  & LS\\_sal &  5686 & 2872 & 0.0007034822 & lightgray\\\\\n",
       "\tAATAGAGTCTCAGTCCLS\\_sal & Gaba2  & LS\\_sal &  8438 & 3347 & 0.0004740460 & lightgray\\\\\n",
       "\tAATCGACAGGTAATCALS\\_sal & Gaba2  & LS\\_sal &  4465 & 2210 & 0.0004479283 & lightgray\\\\\n",
       "\tAATCGACCATCGGAGALS\\_sal & Gaba2  & LS\\_sal &  5054 & 2611 & 0.0007914523 & lightgray\\\\\n",
       "\tAATCGTGTCAAGCCTALS\\_sal & Gaba2  & LS\\_sal &  4921 & 2468 & 0.0002032107 & lightgray\\\\\n",
       "\t... & ... & ... & ... & ... & ... & ...\\\\\n",
       "\tTAATCTCTCAGCGTCGLS\\_nal\\_no\\_mor & Gaba7 & LS\\_nal\\_no\\_mor &  2177 & 1271 & 0.0004593477 & \\#D6293D\\\\\n",
       "\tTACCCGTGTCTGCAATLS\\_nal\\_no\\_mor & Gaba7 & LS\\_nal\\_no\\_mor &  5280 & 2341 & 0.0018939394 & \\#D6293D\\\\\n",
       "\tTACCTGCTCTTCGGTCLS\\_nal\\_no\\_mor & Gaba7 & LS\\_nal\\_no\\_mor &  5018 & 2493 & 0.0025906736 & \\#D6293D\\\\\n",
       "\tTAGGAGGAGAGTCAATLS\\_nal\\_no\\_mor & Gaba7 & LS\\_nal\\_no\\_mor &  2120 & 1300 & 0.0047169811 & \\#D6293D\\\\\n",
       "\tTAGGAGGAGGGCTAACLS\\_nal\\_no\\_mor & Gaba7 & LS\\_nal\\_no\\_mor &  5417 & 2681 & 0.0055381207 & \\#D6293D\\\\\n",
       "\tTCAAGACTCGGTTCAALS\\_nal\\_no\\_mor & Gaba7 & LS\\_nal\\_no\\_mor &  2442 & 1496 & 0.0028665029 & \\#D6293D\\\\\n",
       "\tTCACAAGTCTTCGATTLS\\_nal\\_no\\_mor & Gaba7 & LS\\_nal\\_no\\_mor &  4390 & 2077 & 0.0027334852 & \\#D6293D\\\\\n",
       "\tTCATCATCACGCTTAALS\\_nal\\_no\\_mor & Gaba7 & LS\\_nal\\_no\\_mor &  5474 & 2672 & 0.0067592254 & \\#D6293D\\\\\n",
       "\tTCATCATGTTCGTTCCLS\\_nal\\_no\\_mor & Gaba7 & LS\\_nal\\_no\\_mor &  4662 & 2246 & 0.0008580009 & \\#D6293D\\\\\n",
       "\tTCCCAGTGTATCGTTGLS\\_nal\\_no\\_mor & Gaba7 & LS\\_nal\\_no\\_mor &  2949 & 1693 & 0.0016954900 & \\#D6293D\\\\\n",
       "\tTCCGGGATCGACTCCTLS\\_nal\\_no\\_mor & Gaba7 & LS\\_nal\\_no\\_mor &  3047 & 1748 & 0.0036101083 & \\#D6293D\\\\\n",
       "\tTCCGTGTGTAGCCCTGLS\\_nal\\_no\\_mor & Gaba7 & LS\\_nal\\_no\\_mor &  6069 & 2814 & 0.0014829461 & \\#D6293D\\\\\n",
       "\tTCCTTTCAGACTGAGCLS\\_nal\\_no\\_mor & Gaba7 & LS\\_nal\\_no\\_mor & 11748 & 4060 & 0.0014470548 & \\#D6293D\\\\\n",
       "\tTCGGGTGTCAGCATTGLS\\_nal\\_no\\_mor & Gaba7 & LS\\_nal\\_no\\_mor &  3427 & 1831 & 0.0017508025 & \\#D6293D\\\\\n",
       "\tTCGTGCTGTTGTCATGLS\\_nal\\_no\\_mor & Gaba7 & LS\\_nal\\_no\\_mor &  2878 & 1707 & 0.0017373176 & \\#D6293D\\\\\n",
       "\tTCTAACTGTGGAGGTTLS\\_nal\\_no\\_mor & Gaba7 & LS\\_nal\\_no\\_mor &  3933 & 2062 & 0.0017798118 & \\#D6293D\\\\\n",
       "\tTCTTTGACAGGAATATLS\\_nal\\_no\\_mor & Gaba7 & LS\\_nal\\_no\\_mor &  3814 & 2026 & 0.0018353435 & \\#D6293D\\\\\n",
       "\tTGAGTCAGTTCCGGTGLS\\_nal\\_no\\_mor & Gaba7 & LS\\_nal\\_no\\_mor &  6529 & 2814 & 0.0012253025 & \\#D6293D\\\\\n",
       "\tTGATTCTTCCGTTTCGLS\\_nal\\_no\\_mor & Gaba7 & LS\\_nal\\_no\\_mor &  5195 & 2545 & 0.0000000000 & \\#D6293D\\\\\n",
       "\tTGCATCCCATTGCAACLS\\_nal\\_no\\_mor & Gaba7 & LS\\_nal\\_no\\_mor &  5469 & 2543 & 0.0007313951 & \\#D6293D\\\\\n",
       "\tTGGGCTGGTCTCGGGTLS\\_nal\\_no\\_mor & Gaba7 & LS\\_nal\\_no\\_mor &  5233 & 2398 & 0.0003821899 & \\#D6293D\\\\\n",
       "\tTTACAGGAGAATAGTCLS\\_nal\\_no\\_mor & Gaba7 & LS\\_nal\\_no\\_mor &  2619 & 1564 & 0.0019091256 & \\#D6293D\\\\\n",
       "\tTTCCACGTCCTTGACCLS\\_nal\\_no\\_mor & Gaba7 & LS\\_nal\\_no\\_mor &  2869 & 1717 & 0.0006971070 & \\#D6293D\\\\\n",
       "\tTTGCCTGCAACGGCTCLS\\_nal\\_no\\_mor & Gaba7 & LS\\_nal\\_no\\_mor &  3973 & 1992 & 0.0037754845 & \\#D6293D\\\\\n",
       "\tTTGTGTTTCCGTGACGLS\\_nal\\_no\\_mor & Gaba7 & LS\\_nal\\_no\\_mor &  4517 & 2128 & 0.0002213859 & \\#D6293D\\\\\n",
       "\tCAGCGTGGTGAGTCAGLS\\_nal\\_no\\_mor & Glu1  & LS\\_nal\\_no\\_mor &  3241 & 1907 & 0.0027769207 & \\#D6293D\\\\\n",
       "\tCCGGGTACATTGCCTCLS\\_nal\\_no\\_mor & Glu1  & LS\\_nal\\_no\\_mor & 15062 & 5333 & 0.0020581596 & \\#D6293D\\\\\n",
       "\tGAAGCCCAGTCATCCALS\\_nal\\_no\\_mor & Glu1  & LS\\_nal\\_no\\_mor &  6793 & 3009 & 0.0007360518 & \\#D6293D\\\\\n",
       "\tGGGAAGTGTCAAGCGALS\\_nal\\_no\\_mor & Glu1  & LS\\_nal\\_no\\_mor &  6042 & 2850 & 0.0021516054 & \\#D6293D\\\\\n",
       "\tTGATGGTTCGCTTGAALS\\_nal\\_no\\_mor & Glu1  & LS\\_nal\\_no\\_mor &  2811 & 1605 & 0.0014229811 & \\#D6293D\\\\\n",
       "\\end{tabular}\n"
      ],
      "text/markdown": [
       "\n",
       "A data.frame: 25607 × 6\n",
       "\n",
       "| <!--/--> | celltype &lt;fct&gt; | stim &lt;fct&gt; | nCount_RNA &lt;dbl&gt; | nFeature_RNA &lt;int&gt; | percent.mito &lt;dbl&gt; | col &lt;chr&gt; |\n",
       "|---|---|---|---|---|---|---|\n",
       "| AAACGCTCAGGCACAALS_sal | Gaba2  | LS_sal |  4968 | 2491 | 0.0002012882 | lightgray |\n",
       "| AAAGAACCAGCAGATGLS_sal | Gaba2  | LS_sal |  1516 | 1004 | 0.0006596306 | lightgray |\n",
       "| AAAGAACGTCCGAAAGLS_sal | Gaba2  | LS_sal |  5914 | 2766 | 0.0003381806 | lightgray |\n",
       "| AAAGGATGTGTTTCTTLS_sal | Gaba2  | LS_sal |  4910 | 2580 | 0.0006109980 | lightgray |\n",
       "| AACAAAGGTTTGTTCTLS_sal | Gaba2  | LS_sal |  7893 | 3257 | 0.0003800836 | lightgray |\n",
       "| AACACACCAGAGAAAGLS_sal | Gaba2  | LS_sal |  5457 | 2584 | 0.0001832509 | lightgray |\n",
       "| AACAGGGCATCGAACTLS_sal | Gaba2  | LS_sal |  4697 | 2350 | 0.0002129019 | lightgray |\n",
       "| AACCACAAGCAGCCTCLS_sal | Gaba2  | LS_sal |  6891 | 3142 | 0.0014511682 | lightgray |\n",
       "| AACCACATCAGGACAGLS_sal | Gaba2  | LS_sal |  7591 | 3194 | 0.0000000000 | lightgray |\n",
       "| AACCCAACATGAATAGLS_sal | Gaba2  | LS_sal |  7108 | 3146 | 0.0002813731 | lightgray |\n",
       "| AACGAAAAGAAGATCTLS_sal | Gaba2  | LS_sal |  6598 | 2880 | 0.0001515611 | lightgray |\n",
       "| AACGGGATCAGTAGGGLS_sal | Gaba5  | LS_sal |  6352 | 2953 | 0.0007871537 | lightgray |\n",
       "| AAGAACATCATGCATGLS_sal | Gaba10 | LS_sal |  7885 | 3545 | 0.0003804692 | lightgray |\n",
       "| AAGACAAGTCACAGAGLS_sal | Gaba2  | LS_sal |  7336 | 3341 | 0.0009541985 | lightgray |\n",
       "| AAGCATCGTTTCCAAGLS_sal | Gaba2  | LS_sal |  4256 | 2311 | 0.0000000000 | lightgray |\n",
       "| AAGCGAGCAGCTGGTCLS_sal | Gaba2  | LS_sal |  5877 | 2867 | 0.0001701548 | lightgray |\n",
       "| AAGCGTTAGCTACAAALS_sal | Gaba2  | LS_sal |  3336 | 1995 | 0.0011990408 | lightgray |\n",
       "| AAGCGTTGTGTGTGGALS_sal | Gaba2  | LS_sal |  4673 | 2350 | 0.0008559812 | lightgray |\n",
       "| AAGCGTTTCCAACTGALS_sal | Gaba2  | LS_sal |  6988 | 3132 | 0.0000000000 | lightgray |\n",
       "| AAGGAATTCTTAAGGCLS_sal | Gaba2  | LS_sal |  8483 | 3559 | 0.0005894141 | lightgray |\n",
       "| AAGTCGTAGAACCCGALS_sal | Gaba2  | LS_sal |  7023 | 3094 | 0.0001423893 | lightgray |\n",
       "| AAGTGAAAGCAATAACLS_sal | Gaba2  | LS_sal |  8603 | 3702 | 0.0005811926 | lightgray |\n",
       "| AAGTGAACATTAAGCCLS_sal | Gaba2  | LS_sal |  5579 | 2775 | 0.0001792436 | lightgray |\n",
       "| AAGTGAATCGACTCCTLS_sal | Gaba2  | LS_sal |  7183 | 3052 | 0.0006960880 | lightgray |\n",
       "| AAGTTCGTCACATACGLS_sal | Gaba2  | LS_sal | 10009 | 3563 | 0.0001998202 | lightgray |\n",
       "| AATAGAGCAGCTGTATLS_sal | Gaba2  | LS_sal |  5686 | 2872 | 0.0007034822 | lightgray |\n",
       "| AATAGAGTCTCAGTCCLS_sal | Gaba2  | LS_sal |  8438 | 3347 | 0.0004740460 | lightgray |\n",
       "| AATCGACAGGTAATCALS_sal | Gaba2  | LS_sal |  4465 | 2210 | 0.0004479283 | lightgray |\n",
       "| AATCGACCATCGGAGALS_sal | Gaba2  | LS_sal |  5054 | 2611 | 0.0007914523 | lightgray |\n",
       "| AATCGTGTCAAGCCTALS_sal | Gaba2  | LS_sal |  4921 | 2468 | 0.0002032107 | lightgray |\n",
       "| ... | ... | ... | ... | ... | ... | ... |\n",
       "| TAATCTCTCAGCGTCGLS_nal_no_mor | Gaba7 | LS_nal_no_mor |  2177 | 1271 | 0.0004593477 | #D6293D |\n",
       "| TACCCGTGTCTGCAATLS_nal_no_mor | Gaba7 | LS_nal_no_mor |  5280 | 2341 | 0.0018939394 | #D6293D |\n",
       "| TACCTGCTCTTCGGTCLS_nal_no_mor | Gaba7 | LS_nal_no_mor |  5018 | 2493 | 0.0025906736 | #D6293D |\n",
       "| TAGGAGGAGAGTCAATLS_nal_no_mor | Gaba7 | LS_nal_no_mor |  2120 | 1300 | 0.0047169811 | #D6293D |\n",
       "| TAGGAGGAGGGCTAACLS_nal_no_mor | Gaba7 | LS_nal_no_mor |  5417 | 2681 | 0.0055381207 | #D6293D |\n",
       "| TCAAGACTCGGTTCAALS_nal_no_mor | Gaba7 | LS_nal_no_mor |  2442 | 1496 | 0.0028665029 | #D6293D |\n",
       "| TCACAAGTCTTCGATTLS_nal_no_mor | Gaba7 | LS_nal_no_mor |  4390 | 2077 | 0.0027334852 | #D6293D |\n",
       "| TCATCATCACGCTTAALS_nal_no_mor | Gaba7 | LS_nal_no_mor |  5474 | 2672 | 0.0067592254 | #D6293D |\n",
       "| TCATCATGTTCGTTCCLS_nal_no_mor | Gaba7 | LS_nal_no_mor |  4662 | 2246 | 0.0008580009 | #D6293D |\n",
       "| TCCCAGTGTATCGTTGLS_nal_no_mor | Gaba7 | LS_nal_no_mor |  2949 | 1693 | 0.0016954900 | #D6293D |\n",
       "| TCCGGGATCGACTCCTLS_nal_no_mor | Gaba7 | LS_nal_no_mor |  3047 | 1748 | 0.0036101083 | #D6293D |\n",
       "| TCCGTGTGTAGCCCTGLS_nal_no_mor | Gaba7 | LS_nal_no_mor |  6069 | 2814 | 0.0014829461 | #D6293D |\n",
       "| TCCTTTCAGACTGAGCLS_nal_no_mor | Gaba7 | LS_nal_no_mor | 11748 | 4060 | 0.0014470548 | #D6293D |\n",
       "| TCGGGTGTCAGCATTGLS_nal_no_mor | Gaba7 | LS_nal_no_mor |  3427 | 1831 | 0.0017508025 | #D6293D |\n",
       "| TCGTGCTGTTGTCATGLS_nal_no_mor | Gaba7 | LS_nal_no_mor |  2878 | 1707 | 0.0017373176 | #D6293D |\n",
       "| TCTAACTGTGGAGGTTLS_nal_no_mor | Gaba7 | LS_nal_no_mor |  3933 | 2062 | 0.0017798118 | #D6293D |\n",
       "| TCTTTGACAGGAATATLS_nal_no_mor | Gaba7 | LS_nal_no_mor |  3814 | 2026 | 0.0018353435 | #D6293D |\n",
       "| TGAGTCAGTTCCGGTGLS_nal_no_mor | Gaba7 | LS_nal_no_mor |  6529 | 2814 | 0.0012253025 | #D6293D |\n",
       "| TGATTCTTCCGTTTCGLS_nal_no_mor | Gaba7 | LS_nal_no_mor |  5195 | 2545 | 0.0000000000 | #D6293D |\n",
       "| TGCATCCCATTGCAACLS_nal_no_mor | Gaba7 | LS_nal_no_mor |  5469 | 2543 | 0.0007313951 | #D6293D |\n",
       "| TGGGCTGGTCTCGGGTLS_nal_no_mor | Gaba7 | LS_nal_no_mor |  5233 | 2398 | 0.0003821899 | #D6293D |\n",
       "| TTACAGGAGAATAGTCLS_nal_no_mor | Gaba7 | LS_nal_no_mor |  2619 | 1564 | 0.0019091256 | #D6293D |\n",
       "| TTCCACGTCCTTGACCLS_nal_no_mor | Gaba7 | LS_nal_no_mor |  2869 | 1717 | 0.0006971070 | #D6293D |\n",
       "| TTGCCTGCAACGGCTCLS_nal_no_mor | Gaba7 | LS_nal_no_mor |  3973 | 1992 | 0.0037754845 | #D6293D |\n",
       "| TTGTGTTTCCGTGACGLS_nal_no_mor | Gaba7 | LS_nal_no_mor |  4517 | 2128 | 0.0002213859 | #D6293D |\n",
       "| CAGCGTGGTGAGTCAGLS_nal_no_mor | Glu1  | LS_nal_no_mor |  3241 | 1907 | 0.0027769207 | #D6293D |\n",
       "| CCGGGTACATTGCCTCLS_nal_no_mor | Glu1  | LS_nal_no_mor | 15062 | 5333 | 0.0020581596 | #D6293D |\n",
       "| GAAGCCCAGTCATCCALS_nal_no_mor | Glu1  | LS_nal_no_mor |  6793 | 3009 | 0.0007360518 | #D6293D |\n",
       "| GGGAAGTGTCAAGCGALS_nal_no_mor | Glu1  | LS_nal_no_mor |  6042 | 2850 | 0.0021516054 | #D6293D |\n",
       "| TGATGGTTCGCTTGAALS_nal_no_mor | Glu1  | LS_nal_no_mor |  2811 | 1605 | 0.0014229811 | #D6293D |\n",
       "\n"
      ],
      "text/plain": [
       "                              celltype stim          nCount_RNA nFeature_RNA\n",
       "AAACGCTCAGGCACAALS_sal        Gaba2    LS_sal         4968      2491        \n",
       "AAAGAACCAGCAGATGLS_sal        Gaba2    LS_sal         1516      1004        \n",
       "AAAGAACGTCCGAAAGLS_sal        Gaba2    LS_sal         5914      2766        \n",
       "AAAGGATGTGTTTCTTLS_sal        Gaba2    LS_sal         4910      2580        \n",
       "AACAAAGGTTTGTTCTLS_sal        Gaba2    LS_sal         7893      3257        \n",
       "AACACACCAGAGAAAGLS_sal        Gaba2    LS_sal         5457      2584        \n",
       "AACAGGGCATCGAACTLS_sal        Gaba2    LS_sal         4697      2350        \n",
       "AACCACAAGCAGCCTCLS_sal        Gaba2    LS_sal         6891      3142        \n",
       "AACCACATCAGGACAGLS_sal        Gaba2    LS_sal         7591      3194        \n",
       "AACCCAACATGAATAGLS_sal        Gaba2    LS_sal         7108      3146        \n",
       "AACGAAAAGAAGATCTLS_sal        Gaba2    LS_sal         6598      2880        \n",
       "AACGGGATCAGTAGGGLS_sal        Gaba5    LS_sal         6352      2953        \n",
       "AAGAACATCATGCATGLS_sal        Gaba10   LS_sal         7885      3545        \n",
       "AAGACAAGTCACAGAGLS_sal        Gaba2    LS_sal         7336      3341        \n",
       "AAGCATCGTTTCCAAGLS_sal        Gaba2    LS_sal         4256      2311        \n",
       "AAGCGAGCAGCTGGTCLS_sal        Gaba2    LS_sal         5877      2867        \n",
       "AAGCGTTAGCTACAAALS_sal        Gaba2    LS_sal         3336      1995        \n",
       "AAGCGTTGTGTGTGGALS_sal        Gaba2    LS_sal         4673      2350        \n",
       "AAGCGTTTCCAACTGALS_sal        Gaba2    LS_sal         6988      3132        \n",
       "AAGGAATTCTTAAGGCLS_sal        Gaba2    LS_sal         8483      3559        \n",
       "AAGTCGTAGAACCCGALS_sal        Gaba2    LS_sal         7023      3094        \n",
       "AAGTGAAAGCAATAACLS_sal        Gaba2    LS_sal         8603      3702        \n",
       "AAGTGAACATTAAGCCLS_sal        Gaba2    LS_sal         5579      2775        \n",
       "AAGTGAATCGACTCCTLS_sal        Gaba2    LS_sal         7183      3052        \n",
       "AAGTTCGTCACATACGLS_sal        Gaba2    LS_sal        10009      3563        \n",
       "AATAGAGCAGCTGTATLS_sal        Gaba2    LS_sal         5686      2872        \n",
       "AATAGAGTCTCAGTCCLS_sal        Gaba2    LS_sal         8438      3347        \n",
       "AATCGACAGGTAATCALS_sal        Gaba2    LS_sal         4465      2210        \n",
       "AATCGACCATCGGAGALS_sal        Gaba2    LS_sal         5054      2611        \n",
       "AATCGTGTCAAGCCTALS_sal        Gaba2    LS_sal         4921      2468        \n",
       "...                           ...      ...           ...        ...         \n",
       "TAATCTCTCAGCGTCGLS_nal_no_mor Gaba7    LS_nal_no_mor  2177      1271        \n",
       "TACCCGTGTCTGCAATLS_nal_no_mor Gaba7    LS_nal_no_mor  5280      2341        \n",
       "TACCTGCTCTTCGGTCLS_nal_no_mor Gaba7    LS_nal_no_mor  5018      2493        \n",
       "TAGGAGGAGAGTCAATLS_nal_no_mor Gaba7    LS_nal_no_mor  2120      1300        \n",
       "TAGGAGGAGGGCTAACLS_nal_no_mor Gaba7    LS_nal_no_mor  5417      2681        \n",
       "TCAAGACTCGGTTCAALS_nal_no_mor Gaba7    LS_nal_no_mor  2442      1496        \n",
       "TCACAAGTCTTCGATTLS_nal_no_mor Gaba7    LS_nal_no_mor  4390      2077        \n",
       "TCATCATCACGCTTAALS_nal_no_mor Gaba7    LS_nal_no_mor  5474      2672        \n",
       "TCATCATGTTCGTTCCLS_nal_no_mor Gaba7    LS_nal_no_mor  4662      2246        \n",
       "TCCCAGTGTATCGTTGLS_nal_no_mor Gaba7    LS_nal_no_mor  2949      1693        \n",
       "TCCGGGATCGACTCCTLS_nal_no_mor Gaba7    LS_nal_no_mor  3047      1748        \n",
       "TCCGTGTGTAGCCCTGLS_nal_no_mor Gaba7    LS_nal_no_mor  6069      2814        \n",
       "TCCTTTCAGACTGAGCLS_nal_no_mor Gaba7    LS_nal_no_mor 11748      4060        \n",
       "TCGGGTGTCAGCATTGLS_nal_no_mor Gaba7    LS_nal_no_mor  3427      1831        \n",
       "TCGTGCTGTTGTCATGLS_nal_no_mor Gaba7    LS_nal_no_mor  2878      1707        \n",
       "TCTAACTGTGGAGGTTLS_nal_no_mor Gaba7    LS_nal_no_mor  3933      2062        \n",
       "TCTTTGACAGGAATATLS_nal_no_mor Gaba7    LS_nal_no_mor  3814      2026        \n",
       "TGAGTCAGTTCCGGTGLS_nal_no_mor Gaba7    LS_nal_no_mor  6529      2814        \n",
       "TGATTCTTCCGTTTCGLS_nal_no_mor Gaba7    LS_nal_no_mor  5195      2545        \n",
       "TGCATCCCATTGCAACLS_nal_no_mor Gaba7    LS_nal_no_mor  5469      2543        \n",
       "TGGGCTGGTCTCGGGTLS_nal_no_mor Gaba7    LS_nal_no_mor  5233      2398        \n",
       "TTACAGGAGAATAGTCLS_nal_no_mor Gaba7    LS_nal_no_mor  2619      1564        \n",
       "TTCCACGTCCTTGACCLS_nal_no_mor Gaba7    LS_nal_no_mor  2869      1717        \n",
       "TTGCCTGCAACGGCTCLS_nal_no_mor Gaba7    LS_nal_no_mor  3973      1992        \n",
       "TTGTGTTTCCGTGACGLS_nal_no_mor Gaba7    LS_nal_no_mor  4517      2128        \n",
       "CAGCGTGGTGAGTCAGLS_nal_no_mor Glu1     LS_nal_no_mor  3241      1907        \n",
       "CCGGGTACATTGCCTCLS_nal_no_mor Glu1     LS_nal_no_mor 15062      5333        \n",
       "GAAGCCCAGTCATCCALS_nal_no_mor Glu1     LS_nal_no_mor  6793      3009        \n",
       "GGGAAGTGTCAAGCGALS_nal_no_mor Glu1     LS_nal_no_mor  6042      2850        \n",
       "TGATGGTTCGCTTGAALS_nal_no_mor Glu1     LS_nal_no_mor  2811      1605        \n",
       "                              percent.mito col      \n",
       "AAACGCTCAGGCACAALS_sal        0.0002012882 lightgray\n",
       "AAAGAACCAGCAGATGLS_sal        0.0006596306 lightgray\n",
       "AAAGAACGTCCGAAAGLS_sal        0.0003381806 lightgray\n",
       "AAAGGATGTGTTTCTTLS_sal        0.0006109980 lightgray\n",
       "AACAAAGGTTTGTTCTLS_sal        0.0003800836 lightgray\n",
       "AACACACCAGAGAAAGLS_sal        0.0001832509 lightgray\n",
       "AACAGGGCATCGAACTLS_sal        0.0002129019 lightgray\n",
       "AACCACAAGCAGCCTCLS_sal        0.0014511682 lightgray\n",
       "AACCACATCAGGACAGLS_sal        0.0000000000 lightgray\n",
       "AACCCAACATGAATAGLS_sal        0.0002813731 lightgray\n",
       "AACGAAAAGAAGATCTLS_sal        0.0001515611 lightgray\n",
       "AACGGGATCAGTAGGGLS_sal        0.0007871537 lightgray\n",
       "AAGAACATCATGCATGLS_sal        0.0003804692 lightgray\n",
       "AAGACAAGTCACAGAGLS_sal        0.0009541985 lightgray\n",
       "AAGCATCGTTTCCAAGLS_sal        0.0000000000 lightgray\n",
       "AAGCGAGCAGCTGGTCLS_sal        0.0001701548 lightgray\n",
       "AAGCGTTAGCTACAAALS_sal        0.0011990408 lightgray\n",
       "AAGCGTTGTGTGTGGALS_sal        0.0008559812 lightgray\n",
       "AAGCGTTTCCAACTGALS_sal        0.0000000000 lightgray\n",
       "AAGGAATTCTTAAGGCLS_sal        0.0005894141 lightgray\n",
       "AAGTCGTAGAACCCGALS_sal        0.0001423893 lightgray\n",
       "AAGTGAAAGCAATAACLS_sal        0.0005811926 lightgray\n",
       "AAGTGAACATTAAGCCLS_sal        0.0001792436 lightgray\n",
       "AAGTGAATCGACTCCTLS_sal        0.0006960880 lightgray\n",
       "AAGTTCGTCACATACGLS_sal        0.0001998202 lightgray\n",
       "AATAGAGCAGCTGTATLS_sal        0.0007034822 lightgray\n",
       "AATAGAGTCTCAGTCCLS_sal        0.0004740460 lightgray\n",
       "AATCGACAGGTAATCALS_sal        0.0004479283 lightgray\n",
       "AATCGACCATCGGAGALS_sal        0.0007914523 lightgray\n",
       "AATCGTGTCAAGCCTALS_sal        0.0002032107 lightgray\n",
       "...                           ...          ...      \n",
       "TAATCTCTCAGCGTCGLS_nal_no_mor 0.0004593477 #D6293D  \n",
       "TACCCGTGTCTGCAATLS_nal_no_mor 0.0018939394 #D6293D  \n",
       "TACCTGCTCTTCGGTCLS_nal_no_mor 0.0025906736 #D6293D  \n",
       "TAGGAGGAGAGTCAATLS_nal_no_mor 0.0047169811 #D6293D  \n",
       "TAGGAGGAGGGCTAACLS_nal_no_mor 0.0055381207 #D6293D  \n",
       "TCAAGACTCGGTTCAALS_nal_no_mor 0.0028665029 #D6293D  \n",
       "TCACAAGTCTTCGATTLS_nal_no_mor 0.0027334852 #D6293D  \n",
       "TCATCATCACGCTTAALS_nal_no_mor 0.0067592254 #D6293D  \n",
       "TCATCATGTTCGTTCCLS_nal_no_mor 0.0008580009 #D6293D  \n",
       "TCCCAGTGTATCGTTGLS_nal_no_mor 0.0016954900 #D6293D  \n",
       "TCCGGGATCGACTCCTLS_nal_no_mor 0.0036101083 #D6293D  \n",
       "TCCGTGTGTAGCCCTGLS_nal_no_mor 0.0014829461 #D6293D  \n",
       "TCCTTTCAGACTGAGCLS_nal_no_mor 0.0014470548 #D6293D  \n",
       "TCGGGTGTCAGCATTGLS_nal_no_mor 0.0017508025 #D6293D  \n",
       "TCGTGCTGTTGTCATGLS_nal_no_mor 0.0017373176 #D6293D  \n",
       "TCTAACTGTGGAGGTTLS_nal_no_mor 0.0017798118 #D6293D  \n",
       "TCTTTGACAGGAATATLS_nal_no_mor 0.0018353435 #D6293D  \n",
       "TGAGTCAGTTCCGGTGLS_nal_no_mor 0.0012253025 #D6293D  \n",
       "TGATTCTTCCGTTTCGLS_nal_no_mor 0.0000000000 #D6293D  \n",
       "TGCATCCCATTGCAACLS_nal_no_mor 0.0007313951 #D6293D  \n",
       "TGGGCTGGTCTCGGGTLS_nal_no_mor 0.0003821899 #D6293D  \n",
       "TTACAGGAGAATAGTCLS_nal_no_mor 0.0019091256 #D6293D  \n",
       "TTCCACGTCCTTGACCLS_nal_no_mor 0.0006971070 #D6293D  \n",
       "TTGCCTGCAACGGCTCLS_nal_no_mor 0.0037754845 #D6293D  \n",
       "TTGTGTTTCCGTGACGLS_nal_no_mor 0.0002213859 #D6293D  \n",
       "CAGCGTGGTGAGTCAGLS_nal_no_mor 0.0027769207 #D6293D  \n",
       "CCGGGTACATTGCCTCLS_nal_no_mor 0.0020581596 #D6293D  \n",
       "GAAGCCCAGTCATCCALS_nal_no_mor 0.0007360518 #D6293D  \n",
       "GGGAAGTGTCAAGCGALS_nal_no_mor 0.0021516054 #D6293D  \n",
       "TGATGGTTCGCTTGAALS_nal_no_mor 0.0014229811 #D6293D  "
      ]
     },
     "metadata": {},
     "output_type": "display_data"
    }
   ],
   "source": [
    "subset"
   ]
  },
  {
   "cell_type": "code",
   "execution_count": 45,
   "metadata": {
    "scrolled": true
   },
   "outputs": [
    {
     "name": "stderr",
     "output_type": "stream",
     "text": [
      "Warning message:\n",
      "\"`fun.y` is deprecated. Use `fun` instead.\"\n"
     ]
    },
    {
     "data": {
      "image/png": "[encoded data removed]",
      "text/plain": [
       "plot without title"
      ]
     },
     "metadata": {
      "image/png": {
       "height": 420,
       "width": 420
      }
     },
     "output_type": "display_data"
    }
   ],
   "source": [
    "pg <- ggplot(subset, aes(x=celltype, y=nFeature_RNA, fill=stim, color=stim,)) + \n",
    "geom_violin(width=1, size=0.25) +\n",
    "stat_summary(fun.y=median, geom=\"point\", size=0.25, color=\"white\")+\n",
    "theme_classic()+\n",
    "theme(axis.line = element_line(color=\"black\",size=0.1), \n",
    "      axis.text.y=element_text(size=8) ,\n",
    "      axis.text.x=element_text(angle = 90, vjust=0.5, hjust = 1, size=6) ,\n",
    "      plot.title=element_blank(),\n",
    "      axis.title=element_blank()) +\n",
    "theme(legend.title = element_text(size = 11),legend.text = element_text(size = 6), axis.ticks = element_line(colour = \"black\", size = .25), axis.line = element_line(colour = 'black', size = .25))+\n",
    "ggtitle(\"UMI counts by group\") +\n",
    "scale_fill_manual(values = group.colors)+\n",
    "scale_color_manual(values = c(\"black\",\"black\",\"black\",\"black\",\"black\"))\n",
    "pg + facet_grid(rows = vars(subset$stim)) + NoLegend() +\n",
    "theme(strip.background = element_rect(color=\"black\", size=0.25, linetype=\"solid\"), strip.text.y = element_text(size = 6),\n",
    "      panel.background = element_rect(colour = \"black\", size=.5, fill=NA))\n",
    "#ggsave(file=\"Genes_by_group.png\",width=3,height=3)\n",
    "#ggsave(file=\"Quality_control/Genes_by_group.pdf\",width=3,height=3)"
   ]
  },
  {
   "cell_type": "code",
   "execution_count": 38,
   "metadata": {},
   "outputs": [
    {
     "name": "stderr",
     "output_type": "stream",
     "text": [
      "Warning message:\n",
      "\"`fun.y` is deprecated. Use `fun` instead.\"\n"
     ]
    },
    {
     "data": {
      "image/png": "[encoded data removed]",
      "text/plain": [
       "plot without title"
      ]
     },
     "metadata": {
      "image/png": {
       "height": 420,
       "width": 420
      }
     },
     "output_type": "display_data"
    }
   ],
   "source": [
    "group.colors <- c(LS_sal=\"darkgray\",LS_one_mor=\"#29D6C2\",LS_mor=\"#4392FE\", LS_nal_no_mor=\"#D6293D\",LS_nal=\"darkorange\")\n",
    "pm <- ggplot(subset, aes(x=stim, y=percent.mito, color=stim, fill=stim)) + \n",
    "    geom_violin(width=0.75, size=0.25) +\n",
    "    stat_summary(fun.y=median, geom=\"point\", size=1, color=\"white\")+\n",
    "    theme_classic()+\n",
    "    theme(axis.line = element_line(color=\"black\",size=0.1),\n",
    "           axis.title.x=element_blank(),\n",
    "          axis.text.y=element_text(size=6) ,\n",
    "            axis.title.y=element_text(size=6),\n",
    "          axis.text.x=element_text( vjust=0.5, size=6),\n",
    "          plot.title=element_blank()) +\n",
    "    theme(legend.title = element_text(size = 8),\n",
    "          legend.text = element_text(size = 6), \n",
    "          axis.ticks = element_line(colour = \"black\", size = .25), \n",
    "          axis.line = element_line(colour = 'black', size = .25))+\n",
    "    ggtitle(\"UMI counts by group\") +\n",
    "    scale_fill_manual(values = group.colors)+\n",
    "    scale_color_manual(values = c(\"black\",\"black\",\"black\",\"black\",\"black\"))+\n",
    "    NoLegend()\n",
    "pm\n",
    "#ggsave(file=\"Mito_by_group_combined.pdf\",width=1,height=1)\n",
    "#ggsave(file=\"Mito_by_group_combined.png\",width=1,height=1)"
   ]
  },
  {
   "cell_type": "code",
   "execution_count": 51,
   "metadata": {},
   "outputs": [
    {
     "name": "stderr",
     "output_type": "stream",
     "text": [
      "Warning message:\n",
      "\"`fun.y` is deprecated. Use `fun` instead.\"\n"
     ]
    },
    {
     "data": {
      "image/png": "[encoded data removed]",
      "text/plain": [
       "plot without title"
      ]
     },
     "metadata": {
      "image/png": {
       "height": 420,
       "width": 420
      }
     },
     "output_type": "display_data"
    }
   ],
   "source": [
    "pm <- ggplot(subset, aes(x=celltype, y=percent.mito, fill=stim, color=stim,)) + \n",
    "geom_violin(width=1, size=0.25) +\n",
    "stat_summary(fun.y=median, geom=\"point\", size=0.25, color=\"white\")+\n",
    "theme_classic()+\n",
    "theme(axis.line = element_line(color=\"black\",size=0.1), \n",
    "      axis.text.y=element_text(size=8) ,\n",
    "      axis.text.x=element_text(angle = 90, vjust=0.5, hjust = 1, size=6) ,\n",
    "      plot.title=element_blank(),\n",
    "      axis.title=element_blank()) +\n",
    "theme(legend.title = element_text(size = 11),legend.text = element_text(size = 6), axis.ticks = element_line(colour = \"black\", size = .25), axis.line = element_line(colour = 'black', size = .25))+\n",
    "ggtitle(\"UMI counts by group\") +\n",
    "scale_fill_manual(values = group.colors)+\n",
    "scale_color_manual(values = c(\"black\",\"black\",\"black\",\"black\",\"black\"))\n",
    "pu + facet_grid(rows = vars(subset$stim)) + NoLegend() +\n",
    "theme(strip.background = element_rect(color=\"black\", size=0.25, linetype=\"solid\"), strip.text.y = element_text(size = 6),\n",
    "      panel.background = element_rect(colour = \"black\", size=.5, fill=NA))\n",
    "ggsave(file=\"mito_by_group_reordered.png\",width=3,height=3)\n",
    "ggsave(file=\"mito_by_group_reordered.pdf\",width=3,height=3)"
   ]
  },
  {
   "cell_type": "code",
   "execution_count": null,
   "metadata": {},
   "outputs": [],
   "source": []
  },
  {
   "cell_type": "code",
   "execution_count": null,
   "metadata": {
    "scrolled": false
   },
   "outputs": [],
   "source": [
    "pg <- ggplot(subset, aes(x=celltype, y=percent.mito, color=celltype, fill=celltype)) + \n",
    "    geom_violin(width=0.75, size=0.25) +\n",
    "    stat_summary(fun.y=median, geom=\"point\", size=0.25, color=\"white\")+\n",
    "    theme_classic()+\n",
    "    theme(axis.line = element_line(color=\"black\",size=0.1),\n",
    "           axis.title.x=element_blank(),\n",
    "          axis.text.y=element_text(size=6) ,\n",
    "            axis.title.y=element_blank(),\n",
    "          axis.text.x=element_text( hjust=1,angle=45, size=6),\n",
    "          plot.title=element_blank()) +\n",
    "    theme(legend.title = element_text(size = 8),\n",
    "          legend.text = element_text(size = 6), \n",
    "          axis.ticks = element_line(colour = \"black\", size = .25), \n",
    "          axis.line = element_line(colour = 'black', size = .25))+\n",
    "    ggtitle(\"UMI counts by group\") +\n",
    "    scale_fill_manual(values = my_cols2)+\n",
    "    scale_color_manual(values = rep('black',14))+\n",
    "    NoLegend()\n",
    "pg\n",
    "ggsave(file=\"mito_by_celltype.pdf\",width=2.5,height=1)\n",
    "ggsave(file=\"mito_by_celltype.png\",width=2.5,height=1)"
   ]
  },
  {
   "cell_type": "code",
   "execution_count": null,
   "metadata": {},
   "outputs": [],
   "source": []
  },
  {
   "cell_type": "markdown",
   "metadata": {},
   "source": [
    "#### UMI:Gene ratio"
   ]
  },
  {
   "cell_type": "code",
   "execution_count": 46,
   "metadata": {},
   "outputs": [],
   "source": [
    "wanted_col <- c(\"celltype\",\"nCount_RNA\",\"nFeature_RNA\")"
   ]
  },
  {
   "cell_type": "code",
   "execution_count": 47,
   "metadata": {},
   "outputs": [],
   "source": [
    "subset <- as.data.frame(LS.integrated@meta.data[,wanted_col])"
   ]
  },
  {
   "cell_type": "code",
   "execution_count": 48,
   "metadata": {},
   "outputs": [],
   "source": [
    "subset$celltype <- factor(subset$celltype, levels=c(\"Gaba1\",\"Gaba2\",\"Gaba3\",\"Gaba4\",\"Gaba5\",\"Gaba6\",\"Gaba7\",\"Gaba8\",\"Gaba9\",\"Gaba10\",\"Gaba11\",\"Gaba12\",\"Glu1\",'Glu2'))"
   ]
  },
  {
   "cell_type": "code",
   "execution_count": 49,
   "metadata": {},
   "outputs": [],
   "source": [
    "subset$celltype <- factor(subset$celltype, levels=c(\"Glu2\",\"Glu1\",\"Gaba12\",\"Gaba10\",\"Gaba5\",\"Gaba3\",\"Gaba11\",\"Gaba6\",\"Gaba7\",\"Gaba4\",\"Gaba1\",\"Gaba2\",\"Gaba8\",\"Gaba9\"))"
   ]
  },
  {
   "cell_type": "code",
   "execution_count": 50,
   "metadata": {
    "scrolled": true
   },
   "outputs": [
    {
     "name": "stderr",
     "output_type": "stream",
     "text": [
      "Warning message:\n",
      "\"`fun.y` is deprecated. Use `fun` instead.\"\n",
      "Warning message:\n",
      "\"position_dodge requires non-overlapping x intervals\"\n",
      "Warning message:\n",
      "\"`fun.y` is deprecated. Use `fun` instead.\"\n",
      "Warning message:\n",
      "\"position_dodge requires non-overlapping x intervals\"\n"
     ]
    },
    {
     "data": {
      "image/png": "[encoded data removed]",
      "text/plain": [
       "plot without title"
      ]
     },
     "metadata": {
      "image/png": {
       "height": 420,
       "width": 420
      }
     },
     "output_type": "display_data"
    },
    {
     "data": {
      "image/png": "[encoded data removed]",
      "text/plain": [
       "plot without title"
      ]
     },
     "metadata": {
      "image/png": {
       "height": 420,
       "width": 420
      }
     },
     "output_type": "display_data"
    }
   ],
   "source": [
    "#remaking UMI and gene violin plots to grab median counts\n",
    "pu <- ggplot(subset, aes(x=celltype, y=nCount_RNA)) + \n",
    "geom_violin(width=1.3, size=0.25) +\n",
    "stat_summary(fun.y=median, geom=\"point\", size=0.5, color=\"white\")+\n",
    "theme_classic()+\n",
    "theme(axis.line = element_line(color=\"black\",size=0.1), axis.text.y=element_text(size=8) ,axis.text.x=element_text(angle = 90, vjust=0.5, hjust = 1, size=8) ,plot.title=element_text(size=10, face=\"bold\")) +\n",
    "theme(legend.title = element_text(size = 11),legend.text = element_text(size = 8), axis.ticks = element_line(colour = \"black\", size = .25), axis.line = element_line(colour = 'black', size = .25))\n",
    "pu\n",
    "\n",
    "pg <- ggplot(subset, aes(x=celltype, y=nFeature_RNA)) + \n",
    "geom_violin(width=1.3, size=0.25) +\n",
    "stat_summary(fun.y=median, geom=\"point\", size=0.5, color=\"white\")+\n",
    "theme_classic()+\n",
    "theme(axis.line = element_line(color=\"black\",size=0.1), axis.text.y=element_text(size=8) ,axis.text.x=element_text(angle = 90, vjust=0.5, hjust = 1, size=8) ,plot.title=element_text(size=10, face=\"bold\")) +\n",
    "theme(legend.title = element_text(size = 11),legend.text = element_text(size = 8), axis.ticks = element_line(colour = \"black\", size = .25), axis.line = element_line(colour = 'black', size = .25))\n",
    "pg"
   ]
  },
  {
   "cell_type": "code",
   "execution_count": 51,
   "metadata": {},
   "outputs": [
    {
     "name": "stderr",
     "output_type": "stream",
     "text": [
      "Warning message:\n",
      "\"position_dodge requires non-overlapping x intervals\"\n",
      "Warning message:\n",
      "\"position_dodge requires non-overlapping x intervals\"\n"
     ]
    }
   ],
   "source": [
    "UMI_median <- as.data.frame(ggplot_build(pu)$data[[2]]$y)\n",
    "colnames(UMI_median)[1] <- \"UMI\"\n",
    "gene_median <- as.data.frame(ggplot_build(pg)$data[[2]]$y)\n",
    "colnames(gene_median)[1] <- \"Gene\""
   ]
  },
  {
   "cell_type": "code",
   "execution_count": 52,
   "metadata": {},
   "outputs": [],
   "source": [
    "Cell_type <- as.data.frame(c(\"Gaba1\",\"Gaba2\",\"Gaba3\",\"Gaba4\",\"Gaba5\",\"Gaba6\",\"Gaba7\",\"Glu1\",\"Gaba8\",\"Gaba9\",\"Gaba10\",\"Glu2\",\"Gaba11\",\"Gaba12\"))\n",
    "colnames(Cell_type)[1] <- \"Cluster\""
   ]
  },
  {
   "cell_type": "code",
   "execution_count": 53,
   "metadata": {},
   "outputs": [],
   "source": [
    "Cell_type <- as.data.frame(c(\"Glu2\",\"Glu1\",\"Gaba12\",\"Gaba10\",\"Gaba5\",\"Gaba3\",\"Gaba11\",\"Gaba6\",\"Gaba7\",\"Gaba4\",\"Gaba1\",\"Gaba2\",\"Gaba8\",\"Gaba9\"))\n",
    "colnames(Cell_type)[1] <- \"Cluster\""
   ]
  },
  {
   "cell_type": "code",
   "execution_count": 54,
   "metadata": {},
   "outputs": [],
   "source": [
    "stat_table <- cbind(Cell_type,UMI_median,gene_median)\n",
    "stat_table$ratio <- stat_table$UMI / stat_table$Gene"
   ]
  },
  {
   "cell_type": "code",
   "execution_count": 55,
   "metadata": {},
   "outputs": [],
   "source": [
    "stat_table$Cluster <- factor(stat_table$Cluster, levels=c(\"Gaba1\",\"Gaba2\",\"Gaba3\",\"Gaba4\",\"Gaba5\",\"Gaba6\",\"Gaba7\",\"Gaba8\",\"Gaba9\",\"Gaba10\",\"Gaba11\",\"Gaba12\",\"Glu1\",'Glu2'))"
   ]
  },
  {
   "cell_type": "code",
   "execution_count": 56,
   "metadata": {},
   "outputs": [],
   "source": [
    "stat_table$Cluster <- factor(stat_table$Cluster, levels=c(\"Glu2\",\"Glu1\",\"Gaba12\",\"Gaba10\",\"Gaba5\",\"Gaba3\",\"Gaba11\",\"Gaba6\",\"Gaba7\",\"Gaba4\",\"Gaba1\",\"Gaba2\",\"Gaba8\",\"Gaba9\"))"
   ]
  },
  {
   "cell_type": "code",
   "execution_count": 57,
   "metadata": {},
   "outputs": [
    {
     "data": {
      "text/html": [
       "<table class=\"dataframe\">\n",
       "<caption>A data.frame: 14 × 4</caption>\n",
       "<thead>\n",
       "\t<tr><th scope=col>Cluster</th><th scope=col>UMI</th><th scope=col>Gene</th><th scope=col>ratio</th></tr>\n",
       "\t<tr><th scope=col>&lt;fct&gt;</th><th scope=col>&lt;dbl&gt;</th><th scope=col>&lt;dbl&gt;</th><th scope=col>&lt;dbl&gt;</th></tr>\n",
       "</thead>\n",
       "<tbody>\n",
       "\t<tr><td>Glu2  </td><td>7044.0</td><td>3108.0</td><td>2.266409</td></tr>\n",
       "\t<tr><td>Glu1  </td><td>3810.0</td><td>1944.0</td><td>1.959877</td></tr>\n",
       "\t<tr><td>Gaba12</td><td>5925.0</td><td>2649.5</td><td>2.236271</td></tr>\n",
       "\t<tr><td>Gaba10</td><td>6218.0</td><td>2860.5</td><td>2.173746</td></tr>\n",
       "\t<tr><td>Gaba5 </td><td>5861.0</td><td>2635.0</td><td>2.224288</td></tr>\n",
       "\t<tr><td>Gaba3 </td><td>6798.0</td><td>2914.5</td><td>2.332476</td></tr>\n",
       "\t<tr><td>Gaba11</td><td>7826.0</td><td>3211.0</td><td>2.437247</td></tr>\n",
       "\t<tr><td>Gaba6 </td><td>5663.0</td><td>2614.0</td><td>2.166412</td></tr>\n",
       "\t<tr><td>Gaba7 </td><td>6384.0</td><td>2826.5</td><td>2.258624</td></tr>\n",
       "\t<tr><td>Gaba4 </td><td>4960.0</td><td>2515.5</td><td>1.971775</td></tr>\n",
       "\t<tr><td>Gaba1 </td><td>7163.5</td><td>3095.0</td><td>2.314540</td></tr>\n",
       "\t<tr><td>Gaba2 </td><td>6230.0</td><td>2803.0</td><td>2.222619</td></tr>\n",
       "\t<tr><td>Gaba8 </td><td>7202.5</td><td>2995.5</td><td>2.404440</td></tr>\n",
       "\t<tr><td>Gaba9 </td><td>5811.5</td><td>2625.5</td><td>2.213483</td></tr>\n",
       "</tbody>\n",
       "</table>\n"
      ],
      "text/latex": [
       "A data.frame: 14 × 4\n",
       "\\begin{tabular}{llll}\n",
       " Cluster & UMI & Gene & ratio\\\\\n",
       " <fct> & <dbl> & <dbl> & <dbl>\\\\\n",
       "\\hline\n",
       "\t Glu2   & 7044.0 & 3108.0 & 2.266409\\\\\n",
       "\t Glu1   & 3810.0 & 1944.0 & 1.959877\\\\\n",
       "\t Gaba12 & 5925.0 & 2649.5 & 2.236271\\\\\n",
       "\t Gaba10 & 6218.0 & 2860.5 & 2.173746\\\\\n",
       "\t Gaba5  & 5861.0 & 2635.0 & 2.224288\\\\\n",
       "\t Gaba3  & 6798.0 & 2914.5 & 2.332476\\\\\n",
       "\t Gaba11 & 7826.0 & 3211.0 & 2.437247\\\\\n",
       "\t Gaba6  & 5663.0 & 2614.0 & 2.166412\\\\\n",
       "\t Gaba7  & 6384.0 & 2826.5 & 2.258624\\\\\n",
       "\t Gaba4  & 4960.0 & 2515.5 & 1.971775\\\\\n",
       "\t Gaba1  & 7163.5 & 3095.0 & 2.314540\\\\\n",
       "\t Gaba2  & 6230.0 & 2803.0 & 2.222619\\\\\n",
       "\t Gaba8  & 7202.5 & 2995.5 & 2.404440\\\\\n",
       "\t Gaba9  & 5811.5 & 2625.5 & 2.213483\\\\\n",
       "\\end{tabular}\n"
      ],
      "text/markdown": [
       "\n",
       "A data.frame: 14 × 4\n",
       "\n",
       "| Cluster &lt;fct&gt; | UMI &lt;dbl&gt; | Gene &lt;dbl&gt; | ratio &lt;dbl&gt; |\n",
       "|---|---|---|---|\n",
       "| Glu2   | 7044.0 | 3108.0 | 2.266409 |\n",
       "| Glu1   | 3810.0 | 1944.0 | 1.959877 |\n",
       "| Gaba12 | 5925.0 | 2649.5 | 2.236271 |\n",
       "| Gaba10 | 6218.0 | 2860.5 | 2.173746 |\n",
       "| Gaba5  | 5861.0 | 2635.0 | 2.224288 |\n",
       "| Gaba3  | 6798.0 | 2914.5 | 2.332476 |\n",
       "| Gaba11 | 7826.0 | 3211.0 | 2.437247 |\n",
       "| Gaba6  | 5663.0 | 2614.0 | 2.166412 |\n",
       "| Gaba7  | 6384.0 | 2826.5 | 2.258624 |\n",
       "| Gaba4  | 4960.0 | 2515.5 | 1.971775 |\n",
       "| Gaba1  | 7163.5 | 3095.0 | 2.314540 |\n",
       "| Gaba2  | 6230.0 | 2803.0 | 2.222619 |\n",
       "| Gaba8  | 7202.5 | 2995.5 | 2.404440 |\n",
       "| Gaba9  | 5811.5 | 2625.5 | 2.213483 |\n",
       "\n"
      ],
      "text/plain": [
       "   Cluster UMI    Gene   ratio   \n",
       "1  Glu2    7044.0 3108.0 2.266409\n",
       "2  Glu1    3810.0 1944.0 1.959877\n",
       "3  Gaba12  5925.0 2649.5 2.236271\n",
       "4  Gaba10  6218.0 2860.5 2.173746\n",
       "5  Gaba5   5861.0 2635.0 2.224288\n",
       "6  Gaba3   6798.0 2914.5 2.332476\n",
       "7  Gaba11  7826.0 3211.0 2.437247\n",
       "8  Gaba6   5663.0 2614.0 2.166412\n",
       "9  Gaba7   6384.0 2826.5 2.258624\n",
       "10 Gaba4   4960.0 2515.5 1.971775\n",
       "11 Gaba1   7163.5 3095.0 2.314540\n",
       "12 Gaba2   6230.0 2803.0 2.222619\n",
       "13 Gaba8   7202.5 2995.5 2.404440\n",
       "14 Gaba9   5811.5 2625.5 2.213483"
      ]
     },
     "metadata": {},
     "output_type": "display_data"
    }
   ],
   "source": [
    "stat_table"
   ]
  },
  {
   "cell_type": "code",
   "execution_count": null,
   "metadata": {
    "scrolled": true
   },
   "outputs": [],
   "source": [
    "ggplot(data=stat_table, aes (x=Cluster, y=ratio, fill=Cluster)) +\n",
    "    geom_bar(stat=\"identity\", position=\"identity\") +\n",
    "    scale_y_continuous(breaks = seq(0, 2.5, by = 0.5), limits=c(0,2.5), expand = c(0, 0))+\n",
    "    geom_hline(yintercept=2, linetype=\"dashed\", size=0.25)+\n",
    "    theme_classic() +\n",
    "    theme(axis.line = element_line(color=\"black\",size=0.25),  \n",
    "          axis.text.y=element_text(size=8),\n",
    "          axis.text.x=element_text(angle = 45, hjust=1, size=8), \n",
    "          plot.title=element_text(size=10)) +\n",
    "    theme(legend.title = element_text(size = 11),\n",
    "          legend.text = element_text(size = 8), \n",
    "          axis.ticks = element_line(colour = \"black\", size = .25), \n",
    "          axis.title.x=element_blank())+\n",
    "    theme(axis.text=element_text(size=6),\n",
    "         axis.title=element_text(size=8))\n",
    "    ylab(\"UMI:Gene ratio\") +\n",
    "    scale_fill_manual(values = my_cols2)\n",
    "    #scale_color_manual(values = rep('black',14))\n",
    "\n",
    "#ggsave(file=\"umi_ratio_neurons_reordered.pdf\",width=3,height=2)\n",
    "#ggsave(file=\"umi_ratio_neurons_reordered.png\",width=3,height=2)"
   ]
  },
  {
   "cell_type": "code",
   "execution_count": null,
   "metadata": {
    "scrolled": true
   },
   "outputs": [],
   "source": [
    "p <- ggplot(data=stat_table, aes (x=Cluster, y=ratio)) +\n",
    "geom_bar(stat=\"identity\", position=\"identity\") +\n",
    "scale_y_continuous(breaks = seq(0, 3, by = 0.5), limits=c(0,3), expand = c(0, 0))+\n",
    "geom_hline(yintercept=2, linetype=\"dashed\", size=0.25)+\n",
    "theme_classic() +\n",
    "theme(axis.line = element_line(color=\"black\",size=0.1), panel.grid.major = element_blank(), panel.grid.minor = element_blank(), axis.text.y=element_text(size=8) ,axis.text.x=element_text(angle = 90, vjust=0.5, hjust = 1, size=8, ) ,plot.title=element_text(size=11)) +\n",
    "theme(legend.title = element_text(size = 11),legend.text = element_text(size = 8), axis.ticks = element_line(colour = \"black\", size = .25), axis.line = element_line(colour = 'black', size = .25))+\n",
    "ggtitle(\"UMI:Gene ratio among all clusters\") +\n",
    "expand_limits(x = 0, y = 0) \n",
    "p\n",
    "\n",
    "#ggsave(file=\"UMI_gene_ratio_reordered.pdf\",width=4,height=4)\n",
    "#ggsave(file=\"UMI_gene_ratio_reordered.png\",width=4,height=4)"
   ]
  },
  {
   "cell_type": "code",
   "execution_count": null,
   "metadata": {},
   "outputs": [],
   "source": []
  },
  {
   "cell_type": "code",
   "execution_count": null,
   "metadata": {},
   "outputs": [],
   "source": []
  },
  {
   "cell_type": "code",
   "execution_count": null,
   "metadata": {},
   "outputs": [],
   "source": []
  },
  {
   "cell_type": "code",
   "execution_count": null,
   "metadata": {},
   "outputs": [],
   "source": []
  },
  {
   "cell_type": "code",
   "execution_count": null,
   "metadata": {},
   "outputs": [],
   "source": []
  },
  {
   "cell_type": "code",
   "execution_count": null,
   "metadata": {},
   "outputs": [],
   "source": []
  },
  {
   "cell_type": "code",
   "execution_count": null,
   "metadata": {},
   "outputs": [],
   "source": []
  },
  {
   "cell_type": "code",
   "execution_count": null,
   "metadata": {},
   "outputs": [],
   "source": []
  },
  {
   "cell_type": "code",
   "execution_count": null,
   "metadata": {},
   "outputs": [],
   "source": []
  },
  {
   "cell_type": "markdown",
   "metadata": {},
   "source": [
    "### % Enrichment of each major cell type in the dataset"
   ]
  },
  {
   "cell_type": "code",
   "execution_count": 78,
   "metadata": {},
   "outputs": [],
   "source": [
    "total<-sum(data.frame(table(Idents(LS.integrated)))$Freq)"
   ]
  },
  {
   "cell_type": "code",
   "execution_count": 79,
   "metadata": {},
   "outputs": [],
   "source": [
    "Nts <- sum(data.frame(table(Idents(subset(LS.integrated, Nts > 0))))$Freq)/total*100\n",
    "Sst <- sum(data.frame(table(Idents(subset(LS.integrated, Sst > 0))))$Freq)/total*100\n",
    "Crhr2 <- sum(data.frame(table(Idents(subset(LS.integrated, Crhr2 > 0))))$Freq)/total*100\n",
    "Drd2 <- sum(data.frame(table(Idents(subset(LS.integrated, Drd2 > 0))))$Freq)/total*100\n",
    "Drd3 <- sum(data.frame(table(Idents(subset(LS.integrated, Drd3 > 0))))$Freq)/total*100\n",
    "Met <- sum(data.frame(table(Idents(subset(LS.integrated, Met > 0))))$Freq)/total*100\n",
    "Esr1 <- sum(data.frame(table(Idents(subset(LS.integrated, Esr1 > 0))))$Freq)/total*100\n",
    "Slc17a6 <- sum(data.frame(table(Idents(subset(LS.integrated, Slc17a6 > 0))))$Freq)/total*100\n",
    "Slc32a1 <- sum(data.frame(table(Idents(subset(LS.integrated, Slc32a1 > 0))))$Freq)/total*100\n",
    "Tacr1 <- sum(data.frame(table(Idents(subset(LS.integrated, Tacr1 > 0))))$Freq)/total*100\n",
    "Pax6 <- sum(data.frame(table(Idents(subset(LS.integrated, Pax6 > 0))))$Freq)/total*100\n",
    "Foxp2 <- sum(data.frame(table(Idents(subset(LS.integrated, Foxp2 > 0))))$Freq)/total*100\n",
    "Samd3 <- sum(data.frame(table(Idents(subset(LS.integrated, Samd3 > 0))))$Freq)/total*100\n",
    "Onecut2 <- sum(data.frame(table(Idents(subset(LS.integrated, Onecut2 > 0))))$Freq)/total*100\n",
    "Col15a1 <- sum(data.frame(table(Idents(subset(LS.integrated, Col15a1 > 0))))$Freq)/total*100"
   ]
  },
  {
   "cell_type": "code",
   "execution_count": 80,
   "metadata": {},
   "outputs": [],
   "source": [
    "tally <-data.frame(\"nts\"=Nts, \n",
    "          \"sst\"=Sst,\n",
    "          \"crhr2\"=Crhr2,\n",
    "          \"drd2\"=Drd2,\n",
    "          \"drd3\"=Drd3,\n",
    "          \"met\"=Met,\n",
    "          \"esr1\"=Esr1,\n",
    "          \"vglut2\"=Slc17a6,\n",
    "          \"vgat\"=Slc32a1,\n",
    "           \"tacr1\"=Tacr1,\n",
    "           \"pax6\"=Pax6,\n",
    "           \"foxp2\"=Foxp2,\n",
    "           \"samd3\"=Samd3,\n",
    "           \"onecut2\"=Onecut2,\n",
    "           \"col15a1\"=Col15a1)"
   ]
  },
  {
   "cell_type": "code",
   "execution_count": 81,
   "metadata": {},
   "outputs": [],
   "source": [
    "tally<-data.frame(t(tally))\n",
    "tally$gene <- rownames(tally)\n",
    "colnames(tally)<-c('prop','gene')"
   ]
  },
  {
   "cell_type": "code",
   "execution_count": 82,
   "metadata": {},
   "outputs": [
    {
     "data": {
      "text/html": [
       "<table class=\"dataframe\">\n",
       "<caption>A data.frame: 15 × 2</caption>\n",
       "<thead>\n",
       "\t<tr><th></th><th scope=col>prop</th><th scope=col>gene</th></tr>\n",
       "\t<tr><th></th><th scope=col>&lt;dbl&gt;</th><th scope=col>&lt;chr&gt;</th></tr>\n",
       "</thead>\n",
       "<tbody>\n",
       "\t<tr><th scope=row>nts</th><td>12.805092</td><td>nts    </td></tr>\n",
       "\t<tr><th scope=row>sst</th><td>17.831062</td><td>sst    </td></tr>\n",
       "\t<tr><th scope=row>crhr2</th><td> 6.873121</td><td>crhr2  </td></tr>\n",
       "\t<tr><th scope=row>drd2</th><td>13.574413</td><td>drd2   </td></tr>\n",
       "\t<tr><th scope=row>drd3</th><td> 4.721365</td><td>drd3   </td></tr>\n",
       "\t<tr><th scope=row>met</th><td> 9.149842</td><td>met    </td></tr>\n",
       "\t<tr><th scope=row>esr1</th><td> 7.954856</td><td>esr1   </td></tr>\n",
       "\t<tr><th scope=row>vglut2</th><td> 8.001718</td><td>vglut2 </td></tr>\n",
       "\t<tr><th scope=row>vgat</th><td>41.824501</td><td>vgat   </td></tr>\n",
       "\t<tr><th scope=row>tacr1</th><td> 4.932245</td><td>tacr1  </td></tr>\n",
       "\t<tr><th scope=row>pax6</th><td> 4.943961</td><td>pax6   </td></tr>\n",
       "\t<tr><th scope=row>foxp2</th><td>16.616550</td><td>foxp2  </td></tr>\n",
       "\t<tr><th scope=row>samd3</th><td> 4.229312</td><td>samd3  </td></tr>\n",
       "\t<tr><th scope=row>onecut2</th><td> 6.822353</td><td>onecut2</td></tr>\n",
       "\t<tr><th scope=row>col15a1</th><td> 9.349006</td><td>col15a1</td></tr>\n",
       "</tbody>\n",
       "</table>\n"
      ],
      "text/latex": [
       "A data.frame: 15 × 2\n",
       "\\begin{tabular}{r|ll}\n",
       "  & prop & gene\\\\\n",
       "  & <dbl> & <chr>\\\\\n",
       "\\hline\n",
       "\tnts & 12.805092 & nts    \\\\\n",
       "\tsst & 17.831062 & sst    \\\\\n",
       "\tcrhr2 &  6.873121 & crhr2  \\\\\n",
       "\tdrd2 & 13.574413 & drd2   \\\\\n",
       "\tdrd3 &  4.721365 & drd3   \\\\\n",
       "\tmet &  9.149842 & met    \\\\\n",
       "\tesr1 &  7.954856 & esr1   \\\\\n",
       "\tvglut2 &  8.001718 & vglut2 \\\\\n",
       "\tvgat & 41.824501 & vgat   \\\\\n",
       "\ttacr1 &  4.932245 & tacr1  \\\\\n",
       "\tpax6 &  4.943961 & pax6   \\\\\n",
       "\tfoxp2 & 16.616550 & foxp2  \\\\\n",
       "\tsamd3 &  4.229312 & samd3  \\\\\n",
       "\tonecut2 &  6.822353 & onecut2\\\\\n",
       "\tcol15a1 &  9.349006 & col15a1\\\\\n",
       "\\end{tabular}\n"
      ],
      "text/markdown": [
       "\n",
       "A data.frame: 15 × 2\n",
       "\n",
       "| <!--/--> | prop &lt;dbl&gt; | gene &lt;chr&gt; |\n",
       "|---|---|---|\n",
       "| nts | 12.805092 | nts     |\n",
       "| sst | 17.831062 | sst     |\n",
       "| crhr2 |  6.873121 | crhr2   |\n",
       "| drd2 | 13.574413 | drd2    |\n",
       "| drd3 |  4.721365 | drd3    |\n",
       "| met |  9.149842 | met     |\n",
       "| esr1 |  7.954856 | esr1    |\n",
       "| vglut2 |  8.001718 | vglut2  |\n",
       "| vgat | 41.824501 | vgat    |\n",
       "| tacr1 |  4.932245 | tacr1   |\n",
       "| pax6 |  4.943961 | pax6    |\n",
       "| foxp2 | 16.616550 | foxp2   |\n",
       "| samd3 |  4.229312 | samd3   |\n",
       "| onecut2 |  6.822353 | onecut2 |\n",
       "| col15a1 |  9.349006 | col15a1 |\n",
       "\n"
      ],
      "text/plain": [
       "        prop      gene   \n",
       "nts     12.805092 nts    \n",
       "sst     17.831062 sst    \n",
       "crhr2    6.873121 crhr2  \n",
       "drd2    13.574413 drd2   \n",
       "drd3     4.721365 drd3   \n",
       "met      9.149842 met    \n",
       "esr1     7.954856 esr1   \n",
       "vglut2   8.001718 vglut2 \n",
       "vgat    41.824501 vgat   \n",
       "tacr1    4.932245 tacr1  \n",
       "pax6     4.943961 pax6   \n",
       "foxp2   16.616550 foxp2  \n",
       "samd3    4.229312 samd3  \n",
       "onecut2  6.822353 onecut2\n",
       "col15a1  9.349006 col15a1"
      ]
     },
     "metadata": {},
     "output_type": "display_data"
    }
   ],
   "source": [
    "tally"
   ]
  },
  {
   "cell_type": "code",
   "execution_count": null,
   "metadata": {},
   "outputs": [],
   "source": [
    "saveRDS(tally, file='C:/Users/stuberadmin/Documents/HCR_analysis/graphs/seq_tally.rds')"
   ]
  },
  {
   "cell_type": "code",
   "execution_count": null,
   "metadata": {},
   "outputs": [],
   "source": []
  },
  {
   "cell_type": "code",
   "execution_count": null,
   "metadata": {},
   "outputs": [],
   "source": []
  },
  {
   "cell_type": "code",
   "execution_count": null,
   "metadata": {},
   "outputs": [],
   "source": []
  },
  {
   "cell_type": "markdown",
   "metadata": {},
   "source": [
    "### Feature plots"
   ]
  },
  {
   "cell_type": "code",
   "execution_count": 11,
   "metadata": {},
   "outputs": [],
   "source": [
    "LS.integrated <- NormalizeData(LS.integrated, assay='RNA')"
   ]
  },
  {
   "cell_type": "code",
   "execution_count": null,
   "metadata": {},
   "outputs": [],
   "source": [
    "RidgePlot(LS.integrated, feature='Oprm1', group.by='stim', assay='RNA')"
   ]
  },
  {
   "cell_type": "code",
   "execution_count": 13,
   "metadata": {},
   "outputs": [
    {
     "data": {
      "image/png": "[encoded data removed]",
      "text/plain": [
       "plot without title"
      ]
     },
     "metadata": {
      "image/png": {
       "height": 420,
       "width": 420
      }
     },
     "output_type": "display_data"
    }
   ],
   "source": [
    "FeaturePlot(LS.integrated, 'Homer1', order=FALSE)"
   ]
  },
  {
   "cell_type": "code",
   "execution_count": null,
   "metadata": {},
   "outputs": [],
   "source": []
  },
  {
   "cell_type": "code",
   "execution_count": 21,
   "metadata": {},
   "outputs": [
    {
     "data": {
      "image/png": "[encoded data removed]",
      "text/plain": [
       "plot without title"
      ]
     },
     "metadata": {
      "image/png": {
       "height": 420,
       "width": 420
      }
     },
     "output_type": "display_data"
    }
   ],
   "source": [
    "FeaturePlot(LS.integrated, 'Homer1',split.by='stim', order=TRUE, col=c('gray','red'))"
   ]
  },
  {
   "cell_type": "code",
   "execution_count": 32,
   "metadata": {},
   "outputs": [
    {
     "data": {
      "image/png": "[encoded data removed]",
      "text/plain": [
       "plot without title"
      ]
     },
     "metadata": {
      "image/png": {
       "height": 420,
       "width": 420
      }
     },
     "output_type": "display_data"
    }
   ],
   "source": [
    "FeaturePlot(LS.integrated, 'Inhba',split.by='stim', order=TRUE, col=c('gray','red'), pt.size=0.1) \n",
    "ggsave(file='C:/Users/stuberadmin/Documents/scRNAseq/211119-RS-rV4/Neurons_only_iter2/IEG/mor_v_nal/Fos_feature_by_group.pdf', width=15, height=3)"
   ]
  },
  {
   "cell_type": "code",
   "execution_count": null,
   "metadata": {},
   "outputs": [],
   "source": [
    "FeaturePlot(LS.integrated, 'Tgm2', order=TRUE)"
   ]
  },
  {
   "cell_type": "code",
   "execution_count": null,
   "metadata": {},
   "outputs": [],
   "source": [
    "DotPlot(LS.integrated, feature='Tgm2', scale=FALSE)"
   ]
  },
  {
   "cell_type": "code",
   "execution_count": null,
   "metadata": {},
   "outputs": [],
   "source": []
  },
  {
   "cell_type": "code",
   "execution_count": null,
   "metadata": {},
   "outputs": [],
   "source": [
    "DefaultAssay(LS.integrated) <- \"SCT\""
   ]
  },
  {
   "cell_type": "code",
   "execution_count": 18,
   "metadata": {},
   "outputs": [],
   "source": [
    "LS.integrated <- NormalizeData(LS.integrated, assay='RNA')"
   ]
  },
  {
   "cell_type": "code",
   "execution_count": 19,
   "metadata": {},
   "outputs": [],
   "source": [
    "DefaultAssay(LS.integrated) <- \"RNA\""
   ]
  },
  {
   "cell_type": "code",
   "execution_count": null,
   "metadata": {},
   "outputs": [],
   "source": [
    "?FindConservedMarkers"
   ]
  },
  {
   "cell_type": "code",
   "execution_count": null,
   "metadata": {},
   "outputs": [],
   "source": [
    "?DimPlot"
   ]
  },
  {
   "cell_type": "code",
   "execution_count": null,
   "metadata": {},
   "outputs": [],
   "source": [
    "F <- DimPlot(LS.integrated, sizes.highlight=0.25, pt.size=.1, ncol=1, group.by='stim', split.by='stim')+\n",
    "theme_classic()+\n",
    "theme(axis.line=element_blank(),\n",
    "      plot.title=element_blank(),\n",
    "      axis.ticks=element_blank(),\n",
    "       axis.text=element_blank(),\n",
    "     axis.title=element_blank()) + NoLegend()\n",
    "F\n",
    "ggsave(F,file=\"C:/Users/stuberadmin/Documents/scRNAseq/211119-RS-rv4/Neurons_only_iter2/stim_clusters.pdf\",width=5,height=17)\n",
    "ggsave(F,file=\"C:/Users/stuberadmin/Documents/scRNAseq/211119-RS-rv4/Neurons_only_iter2/stim_clusters.png\",width=5,height=17)\n",
    "#c(Gaba1_barcode, Gaba2_barcode, Gaba3_barcode, Gaba4_barcode, Gaba5_barcode, Gaba6_barcode, Gaba7_barcode, Gaba8_barcode, Gaba9_barcode, Gaba10_barcode, Gaba11_barcode, Gaba12_barcode)"
   ]
  },
  {
   "cell_type": "code",
   "execution_count": null,
   "metadata": {},
   "outputs": [],
   "source": [
    "F <- DimPlot(LS.integrated, sizes.highlight=0.25, cells.highlight = c(Gaba2_barcode), cols.highlight=c(\"red\"), pt.size=.1, ncol=1)+\n",
    "theme_classic()+\n",
    "theme(axis.line=element_blank(),\n",
    "      plot.title=element_blank(),\n",
    "      axis.ticks=element_blank(),\n",
    "       axis.text=element_blank(),\n",
    "     axis.title=element_blank()) + NoLegend()\n",
    "F\n",
    "ggsave(F,file=\"C:/Users/stuberadmin/Documents/scRNAseq/211119-RS-rv4/Neurons_only_iter2/feature_plots/Gaba2_clusters.pdf\",width=5,height=5)\n",
    "ggsave(F,file=\"C:/Users/stuberadmin/Documents/scRNAseq/211119-RS-rv4/Neurons_only_iter2/feature_plots/Gaba2_clusters.png\",width=5,height=5)\n",
    "#c(Gaba1_barcode, Gaba2_barcode, Gaba3_barcode, Gaba4_barcode, Gaba5_barcode, Gaba6_barcode, Gaba7_barcode, Gaba8_barcode, Gaba9_barcode, Gaba10_barcode, Gaba11_barcode, Gaba12_barcode)"
   ]
  },
  {
   "cell_type": "code",
   "execution_count": null,
   "metadata": {},
   "outputs": [],
   "source": [
    "DotPlot(LS.integrated, feature=\"Drd3\")"
   ]
  },
  {
   "cell_type": "code",
   "execution_count": null,
   "metadata": {},
   "outputs": [],
   "source": []
  },
  {
   "cell_type": "code",
   "execution_count": null,
   "metadata": {},
   "outputs": [],
   "source": []
  },
  {
   "cell_type": "code",
   "execution_count": null,
   "metadata": {},
   "outputs": [],
   "source": []
  },
  {
   "cell_type": "code",
   "execution_count": null,
   "metadata": {},
   "outputs": [],
   "source": [
    "F <- FeaturePlot(object =LS.integrated, features = c(\"Meis2\"), cols=c(\"gray\",\"red\"), pt.size=.1, ncol=1, order=FALSE)+\n",
    "theme_classic()+\n",
    "theme(axis.line=element_blank(),\n",
    "      plot.title=element_blank(),\n",
    "      axis.ticks=element_blank(),\n",
    "       axis.text=element_blank(),\n",
    "     axis.title=element_blank())\n",
    "\n",
    "ggsave(F,file=\"C:/Users/stuberadmin/Documents/scRNAseq/211119-RS-rv4/Neurons_only_iter2/feature_plots/Meis2_scale.pdf\",width=3,height=3)\n",
    "ggsave(F,file=\"C:/Users/stuberadmin/Documents/scRNAseq/211119-RS-rv4/Neurons_only_iter2/feature_plots/Meis2_scale.png\",width=3,height=3)\n",
    "\n",
    "F2 <- F + NoLegend()\n",
    "\n",
    "ggsave(F2,file=\"C:/Users/stuberadmin/Documents/scRNAseq/211119-RS-rv4/Neurons_only_iter2/feature_plots/Meis2.pdf\",width=4,height=3)\n",
    "ggsave(F2,file=\"C:/Users/stuberadmin/Documents/scRNAseq/211119-RS-rv4/Neurons_only_iter2/feature_plots/Meis2.png\",width=4,height=3)\n",
    "\n",
    "F2"
   ]
  },
  {
   "cell_type": "code",
   "execution_count": null,
   "metadata": {},
   "outputs": [],
   "source": [
    "F <- FeaturePlot(object =LS.integrated, features = c(\"Ndnf\"), cols=c(\"gray\",\"red\"), pt.size=.1, ncol=1, order=TRUE)+\n",
    "theme_classic()+\n",
    "theme(axis.line=element_blank(),\n",
    "      plot.title=element_blank(),\n",
    "      axis.ticks=element_blank(),\n",
    "       axis.text=element_blank(),\n",
    "     axis.title=element_blank())\n",
    "\n",
    "ggsave(F,file=\"C:/Users/stuberadmin/Documents/scRNAseq/211119-RS-rv4/Neurons_only_iter2/feature_plots/transcription_factors/Ndnf_scale.pdf\",width=3,height=3)\n",
    "ggsave(F,file=\"C:/Users/stuberadmin/Documents/scRNAseq/211119-RS-rv4/Neurons_only_iter2/feature_plots/transcription_factors/Ndnf_scale.png\",width=3,height=3)\n",
    "\n",
    "F2 <- F + NoLegend()\n",
    "\n",
    "ggsave(F2,file=\"C:/Users/stuberadmin/Documents/scRNAseq/211119-RS-rv4/Neurons_only_iter2/feature_plots/transcription_factors/Ndnf.pdf\",width=4,height=3)\n",
    "ggsave(F2,file=\"C:/Users/stuberadmin/Documents/scRNAseq/211119-RS-rv4/Neurons_only_iter2/feature_plots/transcription_factors/Ndnf.png\",width=4,height=3)\n",
    "\n",
    "F2"
   ]
  },
  {
   "cell_type": "code",
   "execution_count": null,
   "metadata": {},
   "outputs": [],
   "source": [
    "F <- FeaturePlot(object =LS.integrated, features = c(\"Jun\"), cols=c(\"gray\",\"red\"), pt.size=.1, ncol=1, order=TRUE, split.by='stim')+\n",
    "theme_classic()+\n",
    "theme(axis.line=element_blank(),\n",
    "      plot.title=element_blank(),\n",
    "      axis.ticks=element_blank(),\n",
    "       axis.text=element_blank(),\n",
    "     axis.title=element_blank())\n",
    "\n",
    "ggsave(F,file=\"C:/Users/stuberadmin/Documents/scRNAseq/211119-RS-rv4/Neurons_only_iter2/feature_plots/Jun_group_scale.pdf\",width=15,height=3)\n",
    "ggsave(F,file=\"C:/Users/stuberadmin/Documents/scRNAseq/211119-RS-rv4/Neurons_only_iter2/feature_plots/Jun_group_scale.png\",width=15,height=3)\n",
    "\n",
    "F2 <- F + NoLegend()\n",
    "\n",
    "ggsave(F2,file=\"C:/Users/stuberadmin/Documents/scRNAseq/211119-RS-rv4/Neurons_only_iter2/feature_plots/Jun_group.pdf\",width=20,height=3)\n",
    "ggsave(F2,file=\"C:/Users/stuberadmin/Documents/scRNAseq/211119-RS-rv4/Neurons_only_iter2/feature_plots/Jun_group.png\",width=20,height=3)"
   ]
  },
  {
   "cell_type": "code",
   "execution_count": null,
   "metadata": {},
   "outputs": [],
   "source": [
    "F2"
   ]
  },
  {
   "cell_type": "code",
   "execution_count": null,
   "metadata": {},
   "outputs": [],
   "source": [
    "?FeaturePlot"
   ]
  },
  {
   "cell_type": "code",
   "execution_count": null,
   "metadata": {},
   "outputs": [],
   "source": []
  },
  {
   "cell_type": "code",
   "execution_count": null,
   "metadata": {},
   "outputs": [],
   "source": [
    "F <- FeaturePlot(object =LS.integrated, features = c(\"Oprm1\"), cols=c(\"gray\",\"blue\"), pt.size=.1, ncol=1, order=TRUE, slot='data')+\n",
    "theme_classic()+\n",
    "theme(axis.line=element_blank(),\n",
    "      plot.title=element_text(size=10),\n",
    "      axis.ticks=element_blank(),\n",
    "       axis.text=element_blank(),\n",
    "     axis.title=element_blank())\n",
    "F\n"
   ]
  },
  {
   "cell_type": "code",
   "execution_count": null,
   "metadata": {},
   "outputs": [],
   "source": []
  },
  {
   "cell_type": "code",
   "execution_count": null,
   "metadata": {},
   "outputs": [],
   "source": [
    "RidgePlot(LS.integrated, 'Oprm1', group.by='stim')"
   ]
  },
  {
   "cell_type": "code",
   "execution_count": null,
   "metadata": {},
   "outputs": [],
   "source": [
    "LS.integrated <- NormalizeData(LS.integrated)"
   ]
  },
  {
   "cell_type": "code",
   "execution_count": null,
   "metadata": {},
   "outputs": [],
   "source": []
  },
  {
   "cell_type": "code",
   "execution_count": null,
   "metadata": {},
   "outputs": [],
   "source": []
  },
  {
   "cell_type": "code",
   "execution_count": null,
   "metadata": {},
   "outputs": [],
   "source": []
  },
  {
   "cell_type": "code",
   "execution_count": null,
   "metadata": {},
   "outputs": [],
   "source": [
    "mycols <- c('Gaba1'='#491822','Gaba11'='#672235','Gaba3'='#77283F','Gaba4'='#822B4F','Gaba6'='#8A2E6A','Gaba10'='#8D3091','Gaba7'='#6836A1','Gaba2'='#4939AC','Gaba5'='#3956AC','Gaba8'='#3988AC','Gaba9'='#3BB0AA','Gaba12'='#CACF6E','Glu1'='#6ECFA1','Glu2'='#99D685')"
   ]
  },
  {
   "cell_type": "code",
   "execution_count": null,
   "metadata": {},
   "outputs": [],
   "source": [
    "mycols <- c('Gaba1'='#D2797F','Gaba11'='#D47D9A','Gaba3'='#D47DB2','Gaba4'='#C579D2','Gaba6'='#9D79D2','Gaba10'='#8189D5','Gaba7'='#85A0D6','Gaba2'='#88B9D7','Gaba5'='#88D7D7','Gaba8'='#90DAB9','Gaba9'='#94DB96','Gaba12'='#B4DE9C','Glu1'='#DDE0A3','Glu2'='#E7BFB6')"
   ]
  },
  {
   "cell_type": "code",
   "execution_count": null,
   "metadata": {},
   "outputs": [],
   "source": [
    "my_cols2 <- mycols[order(as.integer(names(mycols)))]\n",
    "scales::show_col(my_cols2)"
   ]
  },
  {
   "cell_type": "code",
   "execution_count": null,
   "metadata": {},
   "outputs": [],
   "source": []
  },
  {
   "cell_type": "code",
   "execution_count": null,
   "metadata": {},
   "outputs": [],
   "source": [
    "levels(LS.integrated) <- c('Gaba1','Gaba2','Gaba3','Gaba4','Gaba5','Gaba6','Gaba7','Gaba8','Gaba9','Gaba10','Gaba11','Gaba12','Glu1','Glu2')"
   ]
  },
  {
   "cell_type": "code",
   "execution_count": null,
   "metadata": {},
   "outputs": [],
   "source": [
    "?VlnPlot"
   ]
  },
  {
   "cell_type": "code",
   "execution_count": null,
   "metadata": {
    "scrolled": false
   },
   "outputs": [],
   "source": [
    "VlnPlot(LS.integrated, features = c('Slc32a1'), cols=my_cols2, pt.size=0)\n",
    "ggsave(file=\"C:/Users/stuberadmin/Documents/scRNAseq/211119-RS-rv4/Neurons_only_iter2/violin_plots/Vgat.pdf\",width=15,height=3)\n",
    "VlnPlot(LS.integrated, features = c('Slc17a6'), cols=my_cols2, pt.size=0)\n",
    "ggsave(file=\"C:/Users/stuberadmin/Documents/scRNAseq/211119-RS-rv4/Neurons_only_iter2/violin_plots/Vglut2.pdf\",width=15,height=3)\n",
    "VlnPlot(LS.integrated, features = c('Nts'), cols=my_cols2, pt.size=0)\n",
    "ggsave(file=\"C:/Users/stuberadmin/Documents/scRNAseq/211119-RS-rv4/Neurons_only_iter2/violin_plots/Nts.pdf\",width=15,height=3)\n",
    "VlnPlot(LS.integrated, features = c('Sst'), cols=my_cols2, pt.size=0)\n",
    "ggsave(file=\"C:/Users/stuberadmin/Documents/scRNAseq/211119-RS-rv4/Neurons_only_iter2/violin_plots/Sst.pdf\",width=15,height=3)\n",
    "VlnPlot(LS.integrated, features = c('Crhr2'), cols=my_cols2, pt.size=0)\n",
    "ggsave(file=\"C:/Users/stuberadmin/Documents/scRNAseq/211119-RS-rv4/Neurons_only_iter2/violin_plots/Crhr2.pdf\",width=15,height=3)\n",
    "VlnPlot(LS.integrated, features = c('Oprm1'), cols=my_cols2, pt.size=0)\n",
    "ggsave(file=\"C:/Users/stuberadmin/Documents/scRNAseq/211119-RS-rv4/Neurons_only_iter2/violin_plots/Oprm1.pdf\",width=15,height=3)"
   ]
  },
  {
   "cell_type": "code",
   "execution_count": null,
   "metadata": {},
   "outputs": [],
   "source": []
  },
  {
   "cell_type": "code",
   "execution_count": null,
   "metadata": {},
   "outputs": [],
   "source": []
  },
  {
   "cell_type": "code",
   "execution_count": null,
   "metadata": {},
   "outputs": [],
   "source": []
  },
  {
   "cell_type": "markdown",
   "metadata": {},
   "source": [
    "## Checking data quality"
   ]
  },
  {
   "cell_type": "markdown",
   "metadata": {},
   "source": [
    "# disc plot"
   ]
  },
  {
   "cell_type": "markdown",
   "metadata": {},
   "source": [
    "#### DEGs"
   ]
  },
  {
   "cell_type": "code",
   "execution_count": null,
   "metadata": {},
   "outputs": [],
   "source": [
    "DefaultAssay(LS.integrated) <- 'RNA'"
   ]
  },
  {
   "cell_type": "code",
   "execution_count": null,
   "metadata": {},
   "outputs": [],
   "source": [
    "LS.integrated <- NormalizeData(LS.integrated)"
   ]
  },
  {
   "cell_type": "code",
   "execution_count": null,
   "metadata": {},
   "outputs": [],
   "source": []
  },
  {
   "cell_type": "code",
   "execution_count": null,
   "metadata": {},
   "outputs": [],
   "source": [
    "Cell_type <- c(\"Glu2\",\"Glu1\",\"Gaba12\",\"Gaba10\",\"Gaba5\",\"Gaba3\",\"Gaba11\",\"Gaba6\",\"Gaba7\",\"Gaba4\",\"Gaba1\",\"Gaba2\",\"Gaba8\",\"Gaba9\")"
   ]
  },
  {
   "cell_type": "code",
   "execution_count": null,
   "metadata": {},
   "outputs": [],
   "source": [
    "gene_list <- c('Nts','Drd2')"
   ]
  },
  {
   "cell_type": "code",
   "execution_count": null,
   "metadata": {},
   "outputs": [],
   "source": [
    "?DotPlot"
   ]
  },
  {
   "cell_type": "code",
   "execution_count": null,
   "metadata": {},
   "outputs": [],
   "source": [
    "DotPlot(LS.integrated, feature = 'Oprm1', cols=c('white','red'))$data"
   ]
  },
  {
   "cell_type": "code",
   "execution_count": null,
   "metadata": {},
   "outputs": [],
   "source": [
    "DotPlot(LS.integrated, feature = 'Oprm1', cols=c('gray','red')) +\n",
    "theme_classic()+\n",
    "    theme(axis.title=element_blank(),\n",
    "          axis.text.y=element_text(size=6,colour = \"black\"),\n",
    "          axis.text.x=element_text(size=6,angle = 50, hjust =1,colour = \"black\"),\n",
    "          axis.line = element_blank(),\n",
    "          axis.ticks = element_line(size=0.25),\n",
    "          legend.key.size = unit(0.4, \"cm\"),\n",
    "          panel.background = element_rect(colour = \"black\", size=.25, fill=NA),\n",
    "          legend.title = element_text(size=8),\n",
    "          legend.text = element_text(size=6),\n",
    "          legend.position='bottom')\n",
    "ggsave(file=\"C:/Users/stuberadmin/Documents/scRNAseq/211119-RS-rv4/Neurons_only_iter2/discplots/oprm1.pdf\",height=4, width=2)"
   ]
  },
  {
   "cell_type": "code",
   "execution_count": null,
   "metadata": {},
   "outputs": [],
   "source": [
    "# Define an order of cluster identities\n",
    "my_levels <- rev(c(\"Gaba9\",\"Gaba8\",\"Gaba6\",\"Gaba7\",\"Glu2\",\"Gaba3\",\"Gaba1\",\"Gaba5\",\"Gaba10\",\"Gaba12\",\"Glu1\",\"Gaba4\",\"Gaba2\",\"Gaba11\"))\n",
    "\n",
    "# Relevel object@ident\n",
    "Idents(LS.integrated) <- factor(x = Idents(LS.integrated), levels = my_levels)"
   ]
  },
  {
   "cell_type": "code",
   "execution_count": null,
   "metadata": {},
   "outputs": [],
   "source": [
    "DotPlot(LS.integrated, feature = c('Oprm1','Drd2','Adra1a','Nts'), cols=c('gray','red')) +\n",
    "theme_classic()+\n",
    "    theme(axis.title=element_blank(),\n",
    "          axis.text.y=element_text(size=6,colour = \"black\"),\n",
    "          axis.text.x=element_text(size=6,angle = 50, hjust =1,colour = \"black\"),\n",
    "          axis.line = element_blank(),\n",
    "          axis.ticks = element_line(size=0.25),\n",
    "          legend.key.size = unit(0.4, \"cm\"),\n",
    "          panel.background = element_rect(colour = \"black\", size=.25, fill=NA),\n",
    "          legend.title = element_text(size=8),\n",
    "          legend.text = element_text(size=6),\n",
    "          legend.position='bottom')\n",
    "ggsave(file=\"C:/Users/stuberadmin/Documents/scRNAseq/211119-RS-rv4/Neurons_only_iter2/discplots/oprm1_nts_drd2_adra1a.pdf\",height=4, width=2)"
   ]
  },
  {
   "cell_type": "code",
   "execution_count": null,
   "metadata": {},
   "outputs": [],
   "source": []
  },
  {
   "cell_type": "code",
   "execution_count": null,
   "metadata": {},
   "outputs": [],
   "source": []
  },
  {
   "cell_type": "code",
   "execution_count": null,
   "metadata": {},
   "outputs": [],
   "source": [
    "new.ident <- c(\"Gaba1\",\"Gaba2\",\"Gaba3\",\"Gaba4\",\"Gaba5\",\"Gaba6\",\"Gaba7\",\"Glu1\",\"Gaba8\",\"Gaba9\",\"Gaba10\",\"Glu2\",\"Gaba11\",\"Gaba7\")\n",
    "names(x = new.ident) <- levels(x =LS.integrated)\n",
    "LS.integrated<- RenameIdents(object =LS.integrated, new.ident)"
   ]
  },
  {
   "cell_type": "code",
   "execution_count": null,
   "metadata": {},
   "outputs": [],
   "source": [
    "?DotPlot"
   ]
  },
  {
   "cell_type": "code",
   "execution_count": null,
   "metadata": {},
   "outputs": [],
   "source": [
    "DotPlot(LS.integrated, feature = c('Oprm1','Oprd1','Oprk1','Oprl1','Penk','Pdyn','Pnoc'), cols=c('gray','red'), idents=c('Gaba5','Gaba7','Gaba4'), scale = TRUE) +\n",
    "theme_classic()+\n",
    "    theme(axis.title=element_blank(),\n",
    "          axis.text.y=element_text(size=6,colour = \"black\"),\n",
    "          axis.text.x=element_text(size=6,angle = 50, hjust =1,colour = \"black\"),\n",
    "          axis.line = element_blank(),\n",
    "          axis.ticks = element_line(size=0.25),\n",
    "          legend.key.size = unit(0.4, \"cm\"),\n",
    "          panel.background = element_rect(colour = \"black\", size=.25, fill=NA),\n",
    "          legend.title = element_text(size=8),\n",
    "          legend.text = element_text(size=6),\n",
    "          legend.position='bottom')\n",
    "ggsave(file=\"C:/Users/stuberadmin/Documents/scRNAseq/211119-RS-rv4/Neurons_only_iter2/discplots/lhx2_foxp2_esr1_opioids.pdf\",height=2, width=2)"
   ]
  },
  {
   "cell_type": "code",
   "execution_count": null,
   "metadata": {},
   "outputs": [],
   "source": []
  },
  {
   "cell_type": "code",
   "execution_count": null,
   "metadata": {},
   "outputs": [],
   "source": []
  },
  {
   "cell_type": "code",
   "execution_count": null,
   "metadata": {},
   "outputs": [],
   "source": []
  },
  {
   "cell_type": "code",
   "execution_count": null,
   "metadata": {},
   "outputs": [],
   "source": []
  },
  {
   "cell_type": "code",
   "execution_count": null,
   "metadata": {},
   "outputs": [],
   "source": []
  },
  {
   "cell_type": "code",
   "execution_count": null,
   "metadata": {},
   "outputs": [],
   "source": []
  },
  {
   "cell_type": "code",
   "execution_count": null,
   "metadata": {},
   "outputs": [],
   "source": [
    "gene_list <- c(\"Sema3a\", \"Sst\", \"Zeb2\", \"Col15a1\", \"Crhr2\",\"Hunk\",\"Stac2\", \"Tacr1\", \"Foxp2\",\"Drd3\", \"Nts\",\"Tmem132c\",\"Esr1\", \"Pax6\",\"Onecut2\",\"Sox6\")"
   ]
  },
  {
   "cell_type": "code",
   "execution_count": null,
   "metadata": {},
   "outputs": [],
   "source": [
    "Cell_number_avg<- data.frame(Date=as.Date(character()),File=character(),User=character(),stringsAsFactors=FALSE)\n",
    "\n",
    "for (i in 1:length(gene_list)){\n",
    "L<-length(Cell_type)\n",
    "\n",
    "Cell_number_avg_t<- data.frame(\"cluster\" =Cell_type, \"gene\"=(rep(gene_list[i],L))) # do not use c if the gene is factorizsed\n",
    "#used normalized uncorrected data\n",
    "for (p in 1:length(Cell_type)){\n",
    "Cell_number_avg_t$pct[p]<-100*sum(LS.integrated@assays$RNA@data[gene_list[i],eval(parse(text=paste(Cell_type[p],\"_barcode\",sep=\"\")))]>0)/length(eval(parse(text=paste(Cell_type[p],\"_barcode\",sep=\"\"))))\n",
    "Cell_number_avg_t$avg[p]<-(mean(LS.integrated@assays$RNA@data[gene_list[i],eval(parse(text=paste(Cell_type[p],\"_barcode\",sep=\"\")))]))\n",
    "#for avg only consider the expressed cell\n",
    " #t<-LHb.integrated@assays$RNA@data[gene_list[i],eval(parse(text=paste(Cell_type[p],\"_barcode\",sep=\"\")))]>0\n",
    "# Cell_number_avg_t$avg[p]<-mean(LHb.integrated@assays$RNA@data[gene_list[i],t])/sd(LHb.integrated@assays$RNA@data[gene_list[i],eval(parse(text=paste(Cell_type[p],\"_barcode\",sep=\"\")))])    \n",
    "    }\n",
    "Cell_number_avg<-rbind(Cell_number_avg_t,Cell_number_avg)}\n",
    "as.factor(Cell_number_avg$cluster)"
   ]
  },
  {
   "cell_type": "code",
   "execution_count": null,
   "metadata": {},
   "outputs": [],
   "source": [
    "#zscoring\n",
    "Cell_number<- data.frame(Date=as.Date(character()),File=character(),User=character(),stringsAsFactors=FALSE)\n",
    "\n",
    "for (i in 1:length(gene_list)){\n",
    "L<-length(Cell_type)\n",
    "\n",
    "Cell_number_t<- data.frame(\"cluster\" =Cell_type, \"gene\"=(rep(gene_list[i],L))) # do not use c if the gene is factorizsed\n",
    "#used normalized uncorrected data\n",
    "for (p in 1:length(Cell_type)){\n",
    "Cell_number_t$zscore[p]<-(mean(LS.integrated@assays$RNA@data[gene_list[i],rownames(subset(LS.integrated@meta.data,celltype==Cell_type[p]))])-mean(LS.integrated@assays$RNA@data[gene_list[i],]))/sd(LS.integrated@assays$RNA@data[gene_list[i],])\n",
    "Cell_number_t$pct[p]<-100*sum(LS.integrated@assays$RNA@data[gene_list[i],eval(parse(text=paste(Cell_type[p],\"_barcode\",sep=\"\")))]>0)/length(eval(parse(text=paste(Cell_type[p],\"_barcode\",sep=\"\"))))\n",
    "#Cell_number_t$avg[p]<-(mean(LS.integrated@assays$RNA@data[gene_list[i],eval(parse(text=paste(Cell_type[p],\"_barcode\",sep=\"\")))])-mean(LS.integrated@assays$RNA@data[gene_list[i],]))/sd(LS.integrated@assays$RNA@data[gene_list[i],])#for avg only consider the expressed cell\n",
    " #t<-LHb.integrated@assays$RNA@data[gene_list[i],eval(parse(text=paste(Cell_type[p],\"_barcode\",sep=\"\")))]>0\n",
    "# Cell_number_t$avg[p]<-mean(LHb.integrated@assays$RNA@data[gene_list[i],t])/sd(LHb.integrated@assays$RNA@data[gene_list[i],eval(parse(text=paste(Cell_type[p],\"_barcode\",sep=\"\")))])  \n",
    "#Cell_number_t$avg[p]<-(mean(LS.integrated@assays$RNA@data[gene_list[i],eval(parse(text=paste(Cell_type[p],\"_barcode\",sep=\"\")))])-mean(LS.integrated@assays$RNA@data[gene_list[i],]))/sd(LS.integrated@assays$RNA@data[gene_list[i],])\n",
    "    }\n",
    "Cell_number<-rbind(Cell_number_t,Cell_number)}\n",
    "as.factor(Cell_number$cluster)"
   ]
  },
  {
   "cell_type": "code",
   "execution_count": null,
   "metadata": {},
   "outputs": [],
   "source": [
    "#zscoring\n",
    "Cell_number_drd<- data.frame(Date=as.Date(character()),File=character(),User=character(),stringsAsFactors=FALSE)\n",
    "\n",
    "for (i in 1:length(gene_list)){\n",
    "L<-length(Cell_type)\n",
    "\n",
    "Cell_number_drd_t<- data.frame(\"cluster\" =Cell_type, \"gene\"=(rep(gene_list[i],L))) # do not use c if the gene is factorizsed\n",
    "#used normalized uncorrected data\n",
    "for (p in 1:length(Cell_type)){\n",
    "Cell_number_drd_t$zscore[p]<-(mean(LS.integrated@assays$RNA@data[gene_list[i],rownames(subset(LS.integrated@meta.data,celltype==Cell_type[p]))])-mean(LS.integrated@assays$RNA@data[gene_list[i],]))/sd(LS.integrated@assays$RNA@data[gene_list[i],])\n",
    "Cell_number_drd_t$pct[p]<-100*sum(LS.integrated@assays$RNA@data[gene_list[i],eval(parse(text=paste(Cell_type[p],\"_barcode\",sep=\"\")))]>0)/length(eval(parse(text=paste(Cell_type[p],\"_barcode\",sep=\"\"))))\n",
    "#Cell_number_drd_t$avg[p]<-(mean(LS.integrated@assays$RNA@data[gene_list[i],eval(parse(text=paste(Cell_type[p],\"_barcode\",sep=\"\")))])-mean(LS.integrated@assays$RNA@data[gene_list[i],]))/sd(LS.integrated@assays$RNA@data[gene_list[i],])#for avg only consider the expressed cell\n",
    " #t<-LHb.integrated@assays$RNA@data[gene_list[i],eval(parse(text=paste(Cell_type[p],\"_barcode\",sep=\"\")))]>0\n",
    "# Cell_number_drd_t$avg[p]<-mean(LHb.integrated@assays$RNA@data[gene_list[i],t])/sd(LHb.integrated@assays$RNA@data[gene_list[i],eval(parse(text=paste(Cell_type[p],\"_barcode\",sep=\"\")))])  \n",
    "#Cell_number_drd_t$avg[p]<-(mean(LS.integrated@assays$RNA@data[gene_list[i],eval(parse(text=paste(Cell_type[p],\"_barcode\",sep=\"\")))])-mean(LS.integrated@assays$RNA@data[gene_list[i],]))/sd(LS.integrated@assays$RNA@data[gene_list[i],])\n",
    "    }\n",
    "Cell_number_drd<-rbind(Cell_number_drd_t,Cell_number_drd)}\n",
    "as.factor(Cell_number_drd$cluster)"
   ]
  },
  {
   "cell_type": "code",
   "execution_count": null,
   "metadata": {},
   "outputs": [],
   "source": [
    "#zscoring\n",
    "Cell_number_op<- data.frame(Date=as.Date(character()),File=character(),User=character(),stringsAsFactors=FALSE)\n",
    "\n",
    "for (i in 1:length(gene_list)){\n",
    "L<-length(Cell_type)\n",
    "\n",
    "Cell_number_op_t<- data.frame(\"cluster\" =Cell_type, \"gene\"=(rep(gene_list[i],L))) # do not use c if the gene is factorizsed\n",
    "#used normalized uncorrected data\n",
    "for (p in 1:length(Cell_type)){\n",
    "Cell_number_op_t$zscore[p]<-(mean(LS.integrated@assays$RNA@data[gene_list[i],rownames(subset(LS.integrated@meta.data,celltype==Cell_type[p]))])-mean(LS.integrated@assays$RNA@data[gene_list[i],]))/sd(LS.integrated@assays$RNA@data[gene_list[i],])\n",
    "Cell_number_op_t$pct[p]<-100*sum(LS.integrated@assays$RNA@data[gene_list[i],eval(parse(text=paste(Cell_type[p],\"_barcode\",sep=\"\")))]>0)/length(eval(parse(text=paste(Cell_type[p],\"_barcode\",sep=\"\"))))\n",
    "#Cell_number_op_t$avg[p]<-(mean(LS.integrated@assays$RNA@data[gene_list[i],eval(parse(text=paste(Cell_type[p],\"_barcode\",sep=\"\")))])-mean(LS.integrated@assays$RNA@data[gene_list[i],]))/sd(LS.integrated@assays$RNA@data[gene_list[i],])#for avg only consider the expressed cell\n",
    " #t<-LHb.integrated@assays$RNA@data[gene_list[i],eval(parse(text=paste(Cell_type[p],\"_barcode\",sep=\"\")))]>0\n",
    "# Cell_number_op_t$avg[p]<-mean(LHb.integrated@assays$RNA@data[gene_list[i],t])/sd(LHb.integrated@assays$RNA@data[gene_list[i],eval(parse(text=paste(Cell_type[p],\"_barcode\",sep=\"\")))])  \n",
    "#Cell_number_op_t$avg[p]<-(mean(LS.integrated@assays$RNA@data[gene_list[i],eval(parse(text=paste(Cell_type[p],\"_barcode\",sep=\"\")))])-mean(LS.integrated@assays$RNA@data[gene_list[i],]))/sd(LS.integrated@assays$RNA@data[gene_list[i],])\n",
    "    }\n",
    "Cell_number_op<-rbind(Cell_number_op_t,Cell_number_op)}\n",
    "as.factor(Cell_number_op$cluster)"
   ]
  },
  {
   "cell_type": "code",
   "execution_count": null,
   "metadata": {},
   "outputs": [],
   "source": [
    "#zscoring\n",
    "Cell_number_canonical<- data.frame(Date=as.Date(character()),File=character(),User=character(),stringsAsFactors=FALSE)\n",
    "\n",
    "for (i in 1:length(gene_list)){\n",
    "L<-length(Cell_type)\n",
    "\n",
    "Cell_number_canonical_t<- data.frame(\"cluster\" =Cell_type, \"gene\"=(rep(gene_list[i],L))) # do not use c if the gene is factorizsed\n",
    "#used normalized uncorrected data\n",
    "for (p in 1:length(Cell_type)){\n",
    "Cell_number_canonical_t$zscore[p]<-(mean(LS.integrated@assays$RNA@data[gene_list[i],rownames(subset(LS.integrated@meta.data,celltype==Cell_type[p]))])-mean(LS.integrated@assays$RNA@data[gene_list[i],]))/sd(LS.integrated@assays$RNA@data[gene_list[i],])\n",
    "Cell_number_canonical_t$pct[p]<-100*sum(LS.integrated@assays$RNA@data[gene_list[i],eval(parse(text=paste(Cell_type[p],\"_barcode\",sep=\"\")))]>0)/length(eval(parse(text=paste(Cell_type[p],\"_barcode\",sep=\"\"))))\n",
    "#Cell_number_canonical_t$avg[p]<-(mean(LS.integrated@assays$RNA@data[gene_list[i],eval(parse(text=paste(Cell_type[p],\"_barcode\",sep=\"\")))])-mean(LS.integrated@assays$RNA@data[gene_list[i],]))/sd(LS.integrated@assays$RNA@data[gene_list[i],])#for avg only consider the expressed cell\n",
    " #t<-LHb.integrated@assays$RNA@data[gene_list[i],eval(parse(text=paste(Cell_type[p],\"_barcode\",sep=\"\")))]>0\n",
    "# Cell_number_canonical_t$avg[p]<-mean(LHb.integrated@assays$RNA@data[gene_list[i],t])/sd(LHb.integrated@assays$RNA@data[gene_list[i],eval(parse(text=paste(Cell_type[p],\"_barcode\",sep=\"\")))])  \n",
    "#Cell_number_canonical_t$avg[p]<-(mean(LS.integrated@assays$RNA@data[gene_list[i],eval(parse(text=paste(Cell_type[p],\"_barcode\",sep=\"\")))])-mean(LS.integrated@assays$RNA@data[gene_list[i],]))/sd(LS.integrated@assays$RNA@data[gene_list[i],])\n",
    "    }\n",
    "Cell_number_canonical<-rbind(Cell_number_canonical_t,Cell_number_canonical)}\n",
    "as.factor(Cell_number_canonical$cluster)"
   ]
  },
  {
   "cell_type": "code",
   "execution_count": null,
   "metadata": {},
   "outputs": [],
   "source": [
    "Cell_number$cluster<-factor(Cell_number$cluster, levels=c('Vgat1','Vgat2','Vgat3','Vgat4','Vgat5','Vgat6','Vgat7','Vgat8','Vgat9','Vgat10','Vgat11','Vgat12','Vgat13','Vgat14','Vgat15','Vgat16','Vgat17','Vglu1','Vglu2'))"
   ]
  },
  {
   "cell_type": "code",
   "execution_count": null,
   "metadata": {},
   "outputs": [],
   "source": [
    "Cell_number$cluster<-factor(Cell_number$cluster, levels=c(c(\"Vglu1\",\"Vgat17\",\"Vgat1\",\"Vgat9\",\"Vgat7\",\"Vgat4\",\"Vgat5\",\"Vgat16\",\"Vgat6\",\"Vgat12\",\"Vgat14\",\"Vgat2\",\"Vgat8\",\"Vgat13\",\"Vgat3\",\"Vgat10\",\"Vgat11\",\"Vglu2\",\"Vgat15\")))"
   ]
  },
  {
   "cell_type": "code",
   "execution_count": null,
   "metadata": {},
   "outputs": [],
   "source": [
    "Cell_number$cluster<-factor(Cell_number$cluster, levels=rev(c('Vgat1','Vgat2','Vgat3','Vgat4','Vgat5','Vgat6','Vgat7','Vgat8','Vgat9','Vgat10','Vgat11','Vgat12','Vgat13','Vgat14','Vgat15','Vgat16','Vgat17','Vglu1','Vglu2')))"
   ]
  },
  {
   "cell_type": "code",
   "execution_count": null,
   "metadata": {},
   "outputs": [],
   "source": [
    "Cell_number_avg$cluster<-factor(Cell_number_avg$cluster, levels=c('Vgat1','Vgat2','Vgat3','Vgat4','Vgat5','Vgat6','Vgat7','Vgat8','Vgat9','Vgat10','Vgat11','Vgat12','Vgat13','Vgat14','Vgat15','Vgat16','Vgat17','Vglu1','Vglu2'))"
   ]
  },
  {
   "cell_type": "code",
   "execution_count": null,
   "metadata": {},
   "outputs": [],
   "source": [
    "Cell_number_avg$gene<-factor(Cell_number_avg$gene, levels=rev(c(\"Sema3a\", \"Sst\", \"Zeb2\", \"Cpa6\", \"Crhr2\",\"Stac2\", \"Tacr1\", \"Foxp2\",\"Drd3\", \"Nts\",\"Tmem132c\",\"Esr1\", \"Pax6\",\"Onecut2\",\"Sox6\")))"
   ]
  },
  {
   "cell_type": "code",
   "execution_count": null,
   "metadata": {},
   "outputs": [],
   "source": [
    "Cell_number_avg$cluster<-factor(Cell_number_avg$cluster, levels=c(c(\"Vglu1\",\"Vgat17\",\"Vgat1\",\"Vgat9\",\"Vgat7\",\"Vgat4\",\"Vgat5\",\"Vgat16\",\"Vgat6\",\"Vgat12\",\"Vgat14\",\"Vgat2\",\"Vgat8\",\"Vgat13\",\"Vgat3\",\"Vgat10\",\"Vgat11\",\"Vglu2\",\"Vgat15\")))"
   ]
  },
  {
   "cell_type": "code",
   "execution_count": null,
   "metadata": {},
   "outputs": [],
   "source": [
    "Cell_number$cluster<-factor(Cell_number$cluster, levels=c(c(\"Vglu1\",\"Vgat17\",\"Vgat1\",\"Vgat9\",\"Vgat7\",\"Vgat4\",\"Vgat5\",\"Vgat16\",\"Vgat6\",\"Vgat12\",\"Vgat14\",\"Vgat2\",\"Vgat8\",\"Vgat13\",\"Vgat3\",\"Vgat10\",\"Vgat11\",\"Vglu2\",\"Vgat15\")))"
   ]
  },
  {
   "cell_type": "code",
   "execution_count": null,
   "metadata": {},
   "outputs": [],
   "source": [
    "Cell_number$gene<-factor(Cell_number$gene, levels=rev(c(\"Sema3a\", \"Sst\", \"Zeb2\", \"Cpa6\", \"Crhr2\",\"Stac2\", \"Tacr1\", \"Foxp2\",\"Drd3\", \"Nts\",\"Tmem132c\",\"Esr1\", \"Pax6\",\"Onecut2\",\"Sox6\")))"
   ]
  },
  {
   "cell_type": "code",
   "execution_count": null,
   "metadata": {},
   "outputs": [],
   "source": [
    "Cell_number_drd$cluster<-factor(Cell_number_drd$cluster, levels=c('Vgat1','Vgat2','Vgat3','Vgat4','Vgat5','Vgat6','Vgat7','Vgat8','Vgat9','Vgat10','Vgat11','Vgat12','Vgat13','Vgat14','Vgat15','Vgat16','Vgat17','Vglu1','Vglu2'))"
   ]
  },
  {
   "cell_type": "code",
   "execution_count": null,
   "metadata": {},
   "outputs": [],
   "source": [
    "Cell_number_op$cluster<-factor(Cell_number_op$cluster, levels=c('Vgat1','Vgat2','Vgat3','Vgat4','Vgat5','Vgat6','Vgat7','Vgat8','Vgat9','Vgat10','Vgat11','Vgat12','Vgat13','Vgat14','Vgat15','Vgat16','Vgat17','Vglu1','Vglu2'))"
   ]
  },
  {
   "cell_type": "code",
   "execution_count": null,
   "metadata": {},
   "outputs": [],
   "source": [
    "Cell_number_canonical$cluster<-factor(Cell_number_canonical$cluster, levels=c('Vgat1','Vgat2','Vgat3','Vgat4','Vgat5','Vgat6','Vgat7','Vgat8','Vgat9','Vgat10','Vgat11','Vgat12','Vgat13','Vgat14','Vgat15','Vgat16','Vgat17','Vglu1','Vglu2'))"
   ]
  },
  {
   "cell_type": "code",
   "execution_count": null,
   "metadata": {},
   "outputs": [],
   "source": [
    "library(scales)\n",
    "library(reshape2)\n"
   ]
  },
  {
   "cell_type": "code",
   "execution_count": null,
   "metadata": {
    "scrolled": false
   },
   "outputs": [],
   "source": [
    "P <- ggplot(Cell_number_avg, aes(cluster, gene)) + \n",
    "geom_point(aes(size = pct, colour=avg)) +  \n",
    "scale_x_discrete(limits = (levels(Cell_number_avg$cluster)))+\n",
    "scale_y_discrete(limits =(levels(Cell_number_avg$gene)))+\n",
    "scale_color_gradient2(low = \"darkgreen\", mid=\"gray\", high = \"red\",midpoint=0,limits = c(0,0.4),oob=squish) + \n",
    "geom_point(aes(size = pct), pch=21,, lwd=0,stroke=0)+ \n",
    "scale_size_continuous(range = c(0,6))+\n",
    "theme_classic()+\n",
    "    theme(axis.title=element_blank(),\n",
    "          axis.text.y=element_text(size=6,colour = \"black\"),\n",
    "          axis.text.x=element_text(size=6,angle = 50, hjust =1,colour = \"black\"),\n",
    "          axis.line = element_blank(),\n",
    "          axis.ticks = element_line(size=0.25),\n",
    "          legend.key.size = unit(0.4, \"cm\"),\n",
    "          panel.background = element_rect(colour = \"black\", size=.25, fill=NA),\n",
    "          legend.title = element_text(size=8),\n",
    "          legend.text = element_text(size=6),\n",
    "          legend.position='bottom')\n",
    "#ggsave(file=\"C:/Users/stuberadmin/Documents/scRNAseq/211119-RS-rv4/Neurons_only_iter2/discplots/receptor_dotplot_1_20.svg\",height=4, width=2)\n",
    "#ggsave(file=\"C:/Users/stuberadmin/Documents/scRNAseq/211119-RS-rv4/Neurons_only_iter2/discplots/receptor_dotplot_1_20.png\",height=4, width=2)\n",
    "P"
   ]
  },
  {
   "cell_type": "code",
   "execution_count": null,
   "metadata": {},
   "outputs": [],
   "source": [
    "P <- ggplot(Cell_number, aes(cluster, gene, fill=zscore)) + \n",
    "geom_tile() +  scale_fill_gradient2(limits=c(-1,1), breaks=seq(-1,1,by=0.5),low = \"blue\",mid=\"white\",high = \"darkorange\", midpoint=0, oob=squish) +\n",
    "scale_x_discrete(limits = (levels(Cell_number_avg$cluster)))+\n",
    "scale_y_discrete(limits =(levels(Cell_number_avg$gene)))+\n",
    "scale_color_gradient2(low = \"darkgreen\", mid=\"gray\", high = \"red\",midpoint=0,limits = c(0,0.4),oob=squish) + \n",
    "geom_point(aes(size = pct), pch=21,, lwd=0,stroke=0)+ \n",
    "scale_size_continuous(range = c(0,6))+\n",
    "theme_classic()+\n",
    "    theme(axis.title=element_blank(),\n",
    "          axis.text.y=element_text(size=6,colour = \"black\"),\n",
    "          axis.text.x=element_text(size=6,angle = 50, hjust =1,colour = \"black\"),\n",
    "          axis.line = element_blank(),\n",
    "          axis.ticks = element_line(size=0.25),\n",
    "          legend.key.size = unit(0.4, \"cm\"),\n",
    "          panel.background = element_rect(colour = \"black\", size=.25, fill=NA),\n",
    "          legend.title = element_text(size=8),\n",
    "          legend.text = element_text(size=6),\n",
    "          legend.position='bottom')\n",
    "#ggsave(file=\"C:/Users/stuberadmin/Documents/scRNAseq/211119-RS-rv4/Neurons_only_iter2/discplots/receptor_dotplot.svg\",height=4, width=2)\n",
    "#ggsave(file=\"C:/Users/stuberadmin/Documents/scRNAseq/211119-RS-rv4/Neurons_only_iter2/discplots/receptor_dotplot.png\",height=4, width=2)\n",
    "P"
   ]
  },
  {
   "cell_type": "code",
   "execution_count": null,
   "metadata": {},
   "outputs": [],
   "source": [
    "Cell_number$gene<-factor(Cell_number$gene, levels=c(\"Drd1\",\"Drd2\",\"Drd3\"))"
   ]
  },
  {
   "cell_type": "code",
   "execution_count": null,
   "metadata": {},
   "outputs": [],
   "source": [
    "library(scales)"
   ]
  },
  {
   "cell_type": "code",
   "execution_count": null,
   "metadata": {},
   "outputs": [],
   "source": [
    "?geom_point()"
   ]
  },
  {
   "cell_type": "code",
   "execution_count": null,
   "metadata": {
    "scrolled": false
   },
   "outputs": [],
   "source": [
    "P2 <- ggplot(Cell_number, aes(cluster,gene)) + \n",
    "geom_point(aes(size = pct, colour=zscore)) +\n",
    "scale_x_discrete(limits = (levels(Cell_number$cluster)))+\n",
    "scale_y_discrete(limits =(levels(Cell_number$gene)))+\n",
    "scale_color_gradient2(low = \"darkgreen\", mid=\"gray\", high = \"red\",midpoint=0,limits = c(0,1),oob=squish) + \n",
    "geom_point(aes(size = pct), pch=21,, lwd=0,stroke=0)+ \n",
    "scale_size_continuous(range = c(0,6))+\n",
    "theme_classic()+\n",
    "    theme(axis.title=element_blank(),\n",
    "          axis.text.y=element_text(size=6,colour = \"black\"),\n",
    "          axis.text.x=element_text(size=6,angle = 50, hjust =1,colour = \"black\"),\n",
    "          axis.line = element_blank(),\n",
    "          axis.ticks = element_line(size=0.25),\n",
    "          legend.key.size = unit(0.4, \"cm\"),\n",
    "          panel.background = element_rect(colour = \"black\", size=.25, fill=NA),\n",
    "          legend.title = element_text(size=8),\n",
    "          legend.text = element_text(size=6),\n",
    "          legend.position='left')\n",
    "#scale_x_discrete(limits = rev(levels(gene)))\n",
    "#ggsave(file=\"C:/Users/stuberadmin/Documents/scRNAseq/211119-RS-rv4/Neurons_only_iter2/discplots/receptor_zscore.pdf\",height=4, width=2)\n",
    "#ggsave(file=\"C:/Users/stuberadmin/Documents/scRNAseq/211119-RS-rv4/Neurons_only_iter2/discplots/receptor_zscore.png\",height=4, width=2)\n",
    "#ggsave(file=\"C:/Users/stuberadmin/Documents/scRNAseq/211119-RS-rv4/Neurons_only_iter2/discplots/receptor_zscore.svg\",height=4, width=2)\n",
    "P2"
   ]
  },
  {
   "cell_type": "code",
   "execution_count": null,
   "metadata": {},
   "outputs": [],
   "source": [
    "VlnPlot(LS.integrated, \"Foxp2\", group.by=\"stim\")"
   ]
  },
  {
   "cell_type": "code",
   "execution_count": null,
   "metadata": {
    "scrolled": false
   },
   "outputs": [],
   "source": [
    "P2 <- ggplot(Cell_number, aes(cluster,gene)) + \n",
    "geom_point(aes(size = pct, colour=zscore)) +\n",
    "scale_x_discrete(limits = (levels(Cell_number$cluster)))+\n",
    "scale_y_discrete(limits =(levels(Cell_number$gene)))+\n",
    "scale_color_gradient2(low = \"darkgreen\", mid=\"gray\", high = \"red\",midpoint=0,limits = c(0,2),oob=squish) + \n",
    "geom_point(aes(size = pct), pch=21,, lwd=0,stroke=0)+ \n",
    "scale_size_continuous(range = c(0,6))+\n",
    "theme_classic()+\n",
    "    theme(axis.title=element_blank(),\n",
    "          axis.text.y=element_text(size=6,colour = \"black\"),\n",
    "          axis.text.x=element_text(size=6,angle = 50, hjust =1,colour = \"black\"),\n",
    "          axis.line = element_blank(),\n",
    "          axis.ticks = element_line(size=0.25),\n",
    "          legend.key.size = unit(0.4, \"cm\"),\n",
    "          panel.background = element_rect(colour = \"black\", size=.25, fill=NA),\n",
    "          legend.title = element_text(size=8),\n",
    "          legend.text = element_text(size=6),\n",
    "          legend.position='bottom')\n",
    "#scale_x_discrete(limits = rev(levels(gene)))\n",
    "#ggsave(file=\"C:/Users/stuberadmin/Documents/scRNAseq/211119-RS-rv4/Neurons_only_iter2/conserved_markers/conserved_markers_dotplot_zscore.pdf\",height=4, width=4)\n",
    "#ggsave(file=\"C:/Users/stuberadmin/Documents/scRNAseq/211119-RS-rv4/Neurons_only_iter2/conserved_markers/conserved_markers_dotplot_zscore.png\",height=4, width=4)\n",
    "#ggsave(file=\"C:/Users/stuberadmin/Documents/scRNAseq/211119-RS-rv4/Neurons_only_iter2/conserved_markers/conserved_markers_dotplot_zscore.svg\",height=5, width=6)\n",
    "P2"
   ]
  },
  {
   "cell_type": "code",
   "execution_count": null,
   "metadata": {},
   "outputs": [],
   "source": [
    "P_drd <- ggplot(Cell_number_avg, aes(cluster, gene)) + \n",
    "geom_point(aes(size = pct, colour=avg)) +  \n",
    "scale_x_discrete(limits = (levels(Cell_number_avg$cluster)))+\n",
    "scale_y_discrete(limits =(levels(Cell_number_avg$gene)))+\n",
    "scale_color_gradient2(low = \"darkgreen\", mid=\"white\", high = \"darkblue\",midpoint=0,limits = c(0,1),oob=squish) + \n",
    "geom_point(aes(size = pct), pch=21,, lwd=0,stroke=0)+ \n",
    "scale_size_continuous(range = c(0,6))+\n",
    "theme_classic()+\n",
    "    theme(axis.title.y=element_text(size=10),\n",
    "          axis.title.x=element_blank(),\n",
    "          axis.text.y=element_text(size=8,colour = \"black\"),\n",
    "          axis.text.x=element_text(size=8,angle = 50, hjust =1,colour = \"black\"),\n",
    "          #panel.grid.major = element_blank(), panel.grid.minor = element_blank(),\n",
    "          #panel.background = element_blank(), \n",
    "          axis.line = element_line(colour = \"black\"),\n",
    "          legend.key.size = unit(0.4, \"cm\"),\n",
    "          panel.background = element_rect(colour = \"black\", size=.5, fill=NA))\n",
    "ggsave(file=\"C:/Users/stuberadmin/Documents/scRNAseq/211119-RS-rv4/Neurons_only_iter2/discplots/cre_genes_avg.pdf\",height=11.4, width=6 , paper = \"letter\")\n",
    "ggsave(file=\"C:/Users/stuberadmin/Documents/scRNAseq/211119-RS-rv4/Neurons_only_iter2/discplots/cre_genes_avg.png\",height=11.4, width=6)\n",
    "P_drd"
   ]
  },
  {
   "cell_type": "code",
   "execution_count": null,
   "metadata": {
    "scrolled": true
   },
   "outputs": [],
   "source": [
    "P_drd <- ggplot(Cell_number, aes(cluster, gene)) + \n",
    "geom_point(aes(size = pct, colour=zscore)) +  \n",
    "scale_x_discrete(limits = (levels(Cell_number$cluster)))+\n",
    "scale_y_discrete(limits =(levels(Cell_number$gene)))+\n",
    "scale_color_gradient2(low = \"darkgreen\", mid=\"white\", high = \"darkblue\",midpoint=0,limits = c(0,0.5),oob=squish) + \n",
    "geom_point(aes(size = pct), pch=21,, lwd=0,stroke=0)+ \n",
    "scale_size_continuous(range = c(0,6))+\n",
    "theme_classic()+\n",
    "    theme(axis.title.y=element_text(size=10),\n",
    "          axis.title.x=element_blank(),\n",
    "          axis.text.y=element_text(size=8,colour = \"black\"),\n",
    "          axis.text.x=element_text(size=8,angle = 50, hjust =1,colour = \"black\"),\n",
    "          #panel.grid.major = element_blank(), panel.grid.minor = element_blank(),\n",
    "          #panel.background = element_blank(), \n",
    "          axis.line = element_line(colour = \"black\"),\n",
    "          legend.key.size = unit(0.4, \"cm\"),\n",
    "          panel.background = element_rect(colour = \"black\", size=.5, fill=NA))\n",
    "ggsave(file=\"C:/Users/stuberadmin/Documents/scRNAseq/211119-RS-rv4/Neurons_only_iter2/discplots/cre_genes.pdf\",height=11.4, width=6 , paper = \"letter\")\n",
    "ggsave(file=\"C:/Users/stuberadmin/Documents/scRNAseq/211119-RS-rv4/Neurons_only_iter2/discplots/cre_genes.png\",height=11.4, width=6)\n",
    "P_drd"
   ]
  },
  {
   "cell_type": "code",
   "execution_count": null,
   "metadata": {},
   "outputs": [],
   "source": [
    "P_drd <- ggplot(Cell_number_drd, aes(cluster, gene)) + \n",
    "geom_point(aes(size = pct, colour=zscore)) +  \n",
    "scale_x_discrete(limits = (levels(Cell_number_drd$cluster)))+\n",
    "scale_y_discrete(limits =(levels(Cell_number_drd$gene)))+\n",
    "scale_color_gradient2(low = \"darkgreen\", mid=\"white\", high = \"darkblue\",midpoint=0,limits = c(0,1),oob=squish) + \n",
    "geom_point(aes(size = pct), pch=21,, lwd=0,stroke=0)+ \n",
    "scale_size_continuous(range = c(0,6))+\n",
    "theme_classic()+\n",
    "    theme(axis.title.y=element_text(size=10),\n",
    "          axis.title.x=element_blank(),\n",
    "          axis.text.y=element_text(size=8,colour = \"black\"),\n",
    "          axis.text.x=element_text(size=8,angle = 50, hjust =1,colour = \"black\"),\n",
    "          #panel.grid.major = element_blank(), panel.grid.minor = element_blank(),\n",
    "          #panel.background = element_blank(), \n",
    "          axis.line = element_line(colour = \"black\"),\n",
    "          legend.key.size = unit(0.4, \"cm\"),\n",
    "          panel.background = element_rect(colour = \"black\", size=.5, fill=NA))\n",
    "ggsave(file=\"C:/Users/stuberadmin/Documents/scRNAseq/211119-RS-rv4/Neurons_only_iter2/discplots/cre_genes.pdf\",height=3, width=6 , paper = \"letter\")\n",
    "ggsave(file=\"C:/Users/stuberadmin/Documents/scRNAseq/211119-RS-rv4/Neurons_only_iter2/discplots/cre_genes.png\",height=3, width=6)\n",
    "P_drd"
   ]
  },
  {
   "cell_type": "code",
   "execution_count": null,
   "metadata": {},
   "outputs": [],
   "source": [
    "P_op <- ggplot(Cell_number_op, aes(cluster, gene)) + \n",
    "geom_point(aes(size = pct, colour=zscore)) +  \n",
    "scale_x_discrete(limits = (levels(Cell_number_op$cluster)))+\n",
    "scale_y_discrete(limits =(levels(Cell_number_op$gene)))+\n",
    "scale_color_gradient2(low = \"darkgreen\", mid=\"white\", high = \"darkblue\",midpoint=0,limits = c(0,1),oob=squish) + \n",
    "geom_point(aes(size = pct), pch=21,, lwd=0,stroke=0)+ \n",
    "scale_size_continuous(range = c(0,6))+\n",
    "theme_classic()+\n",
    "    theme(axis.title.y=element_text(size=10),\n",
    "          axis.title.x=element_blank(),\n",
    "          axis.text.y=element_text(size=8,colour = \"black\"),\n",
    "          axis.text.x=element_text(size=8,angle = 50, hjust =1,colour = \"black\"),\n",
    "          #panel.grid.major = element_blank(), panel.grid.minor = element_blank(),\n",
    "          #panel.background = element_blank(), \n",
    "          axis.line = element_line(colour = \"black\"),\n",
    "          legend.key.size = unit(0.4, \"cm\"),\n",
    "          panel.background = element_rect(colour = \"black\", size=.5, fill=NA))\n",
    "ggsave(file=\"C:/Users/stuberadmin/Documents/scRNAseq/211119-RS-rv4/Neurons_only_iter2/discplots/op_genes.pdf\",height=1.8, width=6 , paper = \"letter\")\n",
    "ggsave(file=\"C:/Users/stuberadmin/Documents/scRNAseq/211119-RS-rv4/Neurons_only_iter2/discplots/op_genes.png\",height=1.8, width=6)\n",
    "P_op"
   ]
  },
  {
   "cell_type": "code",
   "execution_count": null,
   "metadata": {},
   "outputs": [],
   "source": [
    "P_canonical <- ggplot(Cell_number_canonical, aes(cluster, gene)) + \n",
    "geom_point(aes(size = pct, colour=zscore)) +  \n",
    "scale_x_discrete(limits = (levels(Cell_number_canonical$cluster)))+\n",
    "scale_y_discrete(limits =(levels(Cell_number_canonical$gene)))+\n",
    "scale_color_gradient2(low = \"darkgreen\", mid=\"white\", high = \"darkblue\",midpoint=0,limits = c(0,1),oob=squish) + \n",
    "geom_point(aes(size = pct), pch=21,, lwd=0,stroke=0)+ \n",
    "scale_size_continuous(range = c(0,6))+\n",
    "    theme(axis.title.y=element_text(size=10),\n",
    "          axis.title.x=element_blank(),\n",
    "          axis.text.y=element_text(size=8,colour = \"black\"),\n",
    "          axis.text.x=element_text(size=8,angle = 50, hjust =1,colour = \"black\"),\n",
    "          panel.grid.major = element_blank(), panel.grid.minor = element_blank(),\n",
    "          panel.background = element_blank(), \n",
    "          axis.line = element_line(colour = \"black\"),\n",
    "          legend.key.size = unit(0.4, \"cm\"))\n",
    "ggsave(file=\"C:/Users/stuberadmin/Documents/scRNAseq/211119-RS-rv4/Neurons_only_iter2/discplots/canonical_genes.pdf\",height=3, width=6 , paper = \"letter\")\n",
    "ggsave(file=\"C:/Users/stuberadmin/Documents/scRNAseq/211119-RS-rv4/Neurons_only_iter2/discplots/canonical_genes.png\",height=3, width=6)\n",
    "P_canonical"
   ]
  },
  {
   "cell_type": "code",
   "execution_count": null,
   "metadata": {},
   "outputs": [],
   "source": []
  },
  {
   "cell_type": "code",
   "execution_count": null,
   "metadata": {},
   "outputs": [],
   "source": [
    "P <- ggplot(Cell_number, aes(cluster, gene)) + \n",
    "geom_point(aes(size = pct, colour=zscore)) +  \n",
    "scale_x_discrete(limits = (levels(Cell_number$cluster)))+\n",
    "scale_y_discrete(limits =(levels(Cell_number$gene)))+\n",
    "scale_color_gradient2(low = \"darkgreen\", mid=\"white\", high = \"darkblue\",midpoint=0,limits = c(0,1),oob=squish) + \n",
    "geom_point(aes(size = pct), pch=21,, lwd=0,stroke=0)+ \n",
    "scale_size_continuous(range = c(0,6))+\n",
    "    theme(axis.title.y=element_text(size=10),\n",
    "          axis.title.x=element_blank(),\n",
    "          axis.text.y=element_text(size=8,colour = \"black\"),\n",
    "          axis.text.x=element_text(size=8,angle = 50, hjust =1,colour = \"black\"),\n",
    "          panel.grid.major = element_blank(), panel.grid.minor = element_blank(),\n",
    "          panel.background = element_blank(), \n",
    "          axis.line = element_line(colour = \"black\"),\n",
    "          legend.key.size = unit(0.4, \"cm\"))\n",
    "ggsave(file=\"C:/Users/stuberadmin/Documents/scRNAseq/211119-RS-rv4/Neurons_only_iter2/discplots/drd_genes.pdf\",height=3, width=6 , paper = \"letter\")\n",
    "ggsave(file=\"C:/Users/stuberadmin/Documents/scRNAseq/211119-RS-rv4/Neurons_only_iter2/discplots/drd_genes.png\",height=3, width=6)\n",
    "P"
   ]
  },
  {
   "cell_type": "code",
   "execution_count": null,
   "metadata": {},
   "outputs": [],
   "source": []
  },
  {
   "cell_type": "code",
   "execution_count": null,
   "metadata": {},
   "outputs": [],
   "source": []
  },
  {
   "cell_type": "code",
   "execution_count": null,
   "metadata": {},
   "outputs": [],
   "source": [
    "low<- -1.0\n",
    "high<-1.0\n",
    "p<-ggplot(Cell_number, aes(gene, cluster))+ \n",
    "  geom_tile(aes(fill =zscore))+ scale_fill_gradient2(limits=c(low, high), breaks=seq(low,high,by=0.15),low = \"darkgreen\", mid=\"white\",high = \"red\", midpoint=0,oob=squish)\n",
    "#scale_x_discrete(breaks=c(0,5994,7712,9820,11428,11674,11836,11878))\n",
    "pp<-p+theme(axis.text.x=element_text(angle=90, size=8),axis.text.y=element_blank(),plot.title = element_text(size=12),panel.grid.major = element_blank(), panel.grid.minor = element_blank(),\n",
    "panel.background = element_blank(), axis.line = element_blank(),axis.ticks.y = element_blank(),axis.ticks.x = element_blank(),\n",
    "legend.key.height= unit(1.5, 'cm'), legend.key.width = unit(0.2, 'cm'))+\n",
    "xlab('Genes') +\n",
    "ylab('Group') +\n",
    "coord_flip()\n",
    "#scale_y_discrete(labels= newlabs)\n",
    "print(pp)\n",
    "#ggsave(file='/Users/stuberadmin/Documents/scRNAseq/201130/Neurons_only_iter4/Neurons_only_iter4_retained/optimal_resolution/DEG/Group/DEG_heatmap.png',width=5,height=5)"
   ]
  },
  {
   "cell_type": "code",
   "execution_count": null,
   "metadata": {},
   "outputs": [],
   "source": []
  },
  {
   "cell_type": "code",
   "execution_count": null,
   "metadata": {},
   "outputs": [],
   "source": []
  },
  {
   "cell_type": "code",
   "execution_count": null,
   "metadata": {},
   "outputs": [],
   "source": []
  },
  {
   "cell_type": "markdown",
   "metadata": {},
   "source": [
    "GPCR"
   ]
  },
  {
   "cell_type": "code",
   "execution_count": null,
   "metadata": {},
   "outputs": [],
   "source": [
    "DefaultAssay(LS.integrated) <- \"RNA\""
   ]
  },
  {
   "cell_type": "code",
   "execution_count": null,
   "metadata": {},
   "outputs": [],
   "source": [
    "#http://www.informatics.jax.org/vocab/gene_ontology/GO:0004930\n",
    "GPCR<-read.xlsx2(file=\"/Users/stuberadmin/Documents/scRNAseq/191204/Neurons_only_iter4/discplots/gpcrs/results_gpcrs.xlsx\", 1,stringsAsFactors = FALSE)"
   ]
  },
  {
   "cell_type": "code",
   "execution_count": null,
   "metadata": {},
   "outputs": [],
   "source": [
    "GPCR<-GPCR[grep(\"receptor\",GPCR$Name),]"
   ]
  },
  {
   "cell_type": "code",
   "execution_count": null,
   "metadata": {},
   "outputs": [],
   "source": [
    "Cell_type<-factor(rev(c(\"Vgat1\",\"Vgat2\",\"Vgat3\",\"Vgat4\",\"Vgat5\",\"Vgat6\",\"Vgat7\",\"Vgat8\",\"Vgat9\",\"Vgat10\",\"Vgat11\",\"Vgat12\",\"Vgat13\",\"Vglut1\",\"Vglut2\")))\n",
    "gene_list<-intersect(unique(GPCR$gene),rownames(LS.integrated@assays$RNA@data))"
   ]
  },
  {
   "cell_type": "code",
   "execution_count": null,
   "metadata": {},
   "outputs": [],
   "source": [
    "gene_list<-sort(gene_list)"
   ]
  },
  {
   "cell_type": "code",
   "execution_count": null,
   "metadata": {},
   "outputs": [],
   "source": [
    "#gene_list<-rev(gene_list[1:50])\n",
    "#gene_list<-rev(gene_list[51:100])\n",
    "#gene_list<-rev(gene_list[101:150])\n",
    "#gene_list<-rev(gene_list[151:200])\n",
    "#gene_list<-rev(gene_list[201:250])\n",
    "gene_list<-rev(gene_list[251:302])"
   ]
  },
  {
   "cell_type": "code",
   "execution_count": null,
   "metadata": {},
   "outputs": [],
   "source": [
    "Cell_number<- data.frame(Date=as.Date(character()),File=character(),User=character(),stringsAsFactors=FALSE)\n",
    "\n",
    "for (i in 1:length(gene_list)){\n",
    "L<-length(Cell_type)\n",
    "\n",
    "Cell_number_t<- data.frame(\"cluster\" =Cell_type, \"gene\"=c(rep(gene_list[i],L)))\n",
    "#used normalized uncorrected data\n",
    "for (p in 1:length(Cell_type)){\n",
    "Cell_number_t$pct[p]<-100*sum(LS.integrated@assays$RNA@data[gene_list[i],eval(parse(text=paste(Cell_type[p],\"_barcode\",sep=\"\")))]>0)/length(eval(parse(text=paste(Cell_type[p],\"_barcode\",sep=\"\"))))\n",
    "Cell_number_t$avg[p]<-(mean(LS.integrated@assays$RNA@data[gene_list[i],eval(parse(text=paste(Cell_type[p],\"_barcode\",sep=\"\")))]))\n",
    "#for avg only consider the expressed cell\n",
    " #t<-LHb.integrated@assays$RNA@data[gene_list[i],eval(parse(text=paste(Cell_type[p],\"_barcode\",sep=\"\")))]>0\n",
    "# Cell_number_t$avg[p]<-mean(LHb.integrated@assays$RNA@data[gene_list[i],t])/sd(LHb.integrated@assays$RNA@data[gene_list[i],eval(parse(text=paste(Cell_type[p],\"_barcode\",sep=\"\")))])    \n",
    "    }\n",
    "Cell_number<-rbind(Cell_number_t,Cell_number)}\n",
    "as.factor(Cell_number$cluster)"
   ]
  },
  {
   "cell_type": "code",
   "execution_count": null,
   "metadata": {},
   "outputs": [],
   "source": [
    "library(scales)"
   ]
  },
  {
   "cell_type": "code",
   "execution_count": null,
   "metadata": {},
   "outputs": [],
   "source": [
    "Cell_number$cluster <- factor(Cell_number$cluster, rev(c(\"Vgat1\",\"Vgat2\",\"Vgat3\",\"Vgat4\",\"Vgat5\",\"Vgat6\",\"Vgat7\",\"Vgat8\",\"Vgat9\",\"Vgat10\",\"Vgat11\",\"Vgat12\",\"Vgat13\",\"Vglut1\",\"Vglut2\")))"
   ]
  },
  {
   "cell_type": "code",
   "execution_count": null,
   "metadata": {},
   "outputs": [],
   "source": [
    "ggplot(Cell_number, aes(gene, cluster)) + geom_point(aes(size = pct, colour=avg, stat=\"identity\")) + \n",
    "scale_color_gradient(low = \"white\", high = \"darkblue\",limits = c(0,1.5),oob=squish) + \n",
    "geom_point(aes(size = pct), pch=21,, lwd=0,stroke=0)+ scale_size_continuous(range = c(0,3.8),limits=c(0,100),breaks=seq(0,100,25))+\n",
    "theme(axis.title.y=element_text(size=15),axis.text.y=element_text(size=8),axis.text.x=element_text(size=6,angle = 50, hjust = 1),panel.grid.major = element_blank(), panel.grid.minor = element_blank(),\n",
    "panel.background = element_blank(), axis.line = element_line(colour = \"black\"))+ggtitle(\"% cells\")\n",
    "ggsave(file=\"/Users/stuberadmin/Documents/scRNAseq/201130/Neurons_only_iter4/Neurons_only_iter4_retained/optimal_resolution/discplots/GPCRs_pt6_dotplot.pdf\",height=4, width=10 , paper = \"letter\")\n",
    "ggsave(file=\"/Users/stuberadmin/Documents/scRNAseq/201130/Neurons_only_iter4/Neurons_only_iter4_retained/optimal_resolution/discplots/GPCRs_pt6_dotplot.svg\")"
   ]
  },
  {
   "cell_type": "code",
   "execution_count": null,
   "metadata": {},
   "outputs": [],
   "source": [
    "#reverse\n",
    "ggplot(Cell_number, aes(cluster, gene)) + geom_point(aes(size = pct, colour=avg)) + \n",
    "scale_x_discrete(limits = rev(levels(Cell_number$cluster)))+scale_y_discrete(limits =rev(levels(Cell_number$gene)))+\n",
    "scale_color_gradient(low = \"white\", high = \"darkblue\",limits = c(0,1.5),oob=squish) + \n",
    "geom_point(aes(size = pct), pch=21,, lwd=0,stroke=0)+\n",
    "theme(axis.title.y=element_text(size=15),axis.text.y=element_text(size=8),axis.text.x=element_text(size=6,angle = 0, hjust = 0.5),panel.grid.major = element_blank(), panel.grid.minor = element_blank(),\n",
    "panel.background = element_blank(), axis.line = element_line(colour = \"black\"))+ggtitle(\"% cells\")\n",
    "ggsave(file=\"/Users/stuberadmin/Documents/scRNAseq/201130/Neurons_only_iter4/Neurons_only_iter4_retained/optimal_resolution/discplots/GPCRs_pt6_dotplot_trans.pdf\",height=4, width=10 , paper = \"letter\")\n",
    "ggsave(file=\"/Users/stuberadmin/Documents/scRNAseq/201130/Neurons_only_iter4/Neurons_only_iter4_retained/optimal_resolution/discplots/GPCRs_pt6_dotplot_trans.svg\")"
   ]
  },
  {
   "cell_type": "code",
   "execution_count": null,
   "metadata": {},
   "outputs": [],
   "source": []
  },
  {
   "cell_type": "markdown",
   "metadata": {},
   "source": [
    "neuropeptide"
   ]
  },
  {
   "cell_type": "code",
   "execution_count": null,
   "metadata": {},
   "outputs": [],
   "source": [
    "#neuropeptide,http://www.informatics.jax.org/go/term/GO:0007218\n",
    "NP<-read.xlsx2(file=\"/Users/stuberadmin/Documents/scRNAseq/191204/Neurons_only_iter4/discplots/neuropeptides/results_neuropeptides.xlsx\", 1,stringsAsFactors = FALSE)"
   ]
  },
  {
   "cell_type": "code",
   "execution_count": null,
   "metadata": {},
   "outputs": [],
   "source": [
    "NP<-NP[-grep(\"receptor\",NP$Name),]"
   ]
  },
  {
   "cell_type": "code",
   "execution_count": null,
   "metadata": {},
   "outputs": [],
   "source": [
    "Cell_type<-factor(rev(c(\"Vgat1\",\"Vgat2\",\"Vgat3\",\"Vgat4\",\"Vgat5\",\"Vgat6\",\"Vgat7\",\"Vgat8\",\"Vgat9\",\"Vgat10\",\"Vgat11\",\"Vgat12\",\"Vgat13\",\"Vglut1\",\"Vglut2\")))\n",
    "gene_list<-intersect(unique(NP$gene),rownames(LS.integrated@assays$RNA@data))"
   ]
  },
  {
   "cell_type": "code",
   "execution_count": null,
   "metadata": {},
   "outputs": [],
   "source": [
    "gene_list<-sort(gene_list)"
   ]
  },
  {
   "cell_type": "code",
   "execution_count": null,
   "metadata": {},
   "outputs": [],
   "source": [
    "Cell_number<- data.frame(Date=as.Date(character()),File=character(),User=character(),stringsAsFactors=FALSE)\n",
    "\n",
    "for (i in 1:length(gene_list)){\n",
    "L<-length(Cell_type)\n",
    "\n",
    "Cell_number_t<- data.frame(\"cluster\" =Cell_type, \"gene\"=c(rep(gene_list[i],L)))\n",
    "#used normalized uncorrected data\n",
    "for (p in 1:length(Cell_type)){\n",
    "Cell_number_t$pct[p]<-100*sum(LS.integrated@assays$RNA@data[gene_list[i],eval(parse(text=paste(Cell_type[p],\"_barcode\",sep=\"\")))]>0)/length(eval(parse(text=paste(Cell_type[p],\"_barcode\",sep=\"\"))))\n",
    "Cell_number_t$avg[p]<-(mean(LS.integrated@assays$RNA@data[gene_list[i],eval(parse(text=paste(Cell_type[p],\"_barcode\",sep=\"\")))])-mean(LS.integrated@assays$RNA@data[gene_list[i],]))/sd(LS.integrated@assays$RNA@data[gene_list[i],])\n",
    "#for avg only consider the expressed cell\n",
    " #t<-LHb.integrated@assays$RNA@data[gene_list[i],eval(parse(text=paste(Cell_type[p],\"_barcode\",sep=\"\")))]>0\n",
    "# Cell_number_t$avg[p]<-mean(LHb.integrated@assays$RNA@data[gene_list[i],t])/sd(LHb.integrated@assays$RNA@data[gene_list[i],eval(parse(text=paste(Cell_type[p],\"_barcode\",sep=\"\")))])    \n",
    "    }\n",
    "Cell_number<-rbind(Cell_number_t,Cell_number)}\n",
    "as.factor(Cell_number$cluster)"
   ]
  },
  {
   "cell_type": "code",
   "execution_count": null,
   "metadata": {},
   "outputs": [],
   "source": [
    "Cell_number$cluster <- factor(Cell_number$cluster, rev(c(\"Vgat1\",\"Vgat2\",\"Vgat3\",\"Vgat4\",\"Vgat5\",\"Vgat6\",\"Vgat7\",\"Vgat8\",\"Vgat9\",\"Vgat10\",\"Vgat11\",\"Vgat12\",\"Vgat13\",\"Vglut1\",\"Vglut2\")))"
   ]
  },
  {
   "cell_type": "code",
   "execution_count": null,
   "metadata": {},
   "outputs": [],
   "source": [
    "ggplot(Cell_number, aes(gene, cluster)) + geom_point(aes(size = pct, colour=avg)) + \n",
    "scale_x_discrete(limits =rev(levels(Cell_number$gene)))+scale_color_gradient(low = \"white\", high = \"darkblue\",limits = c(0,1.5),oob=squish) + \n",
    "geom_point(aes(size = pct), pch=21,, lwd=0,stroke=0)+ scale_size_continuous(range = c(0,3.8),limits=c(0,100),breaks=seq(0,100,25))+\n",
    "theme(axis.title.y=element_text(size=15),axis.text.y=element_text(size=8),axis.text.x=element_text(size=6,angle = 50, hjust = 1),panel.grid.major = element_blank(), panel.grid.minor = element_blank(),\n",
    "panel.background = element_blank(), axis.line = element_line(colour = \"black\"))+ggtitle(\"% cells\")\n",
    "ggsave(file=\"/Users/stuberadmin/Documents/scRNAseq/201130/Neurons_only_iter4/Neurons_only_iter4_retained/optimal_resolution/discplots/Neuropeptides_dotplot.pdf\",height=4, width=10 , paper = \"letter\")\n",
    "ggsave(file=\"/Users/stuberadmin/Documents/scRNAseq/201130/Neurons_only_iter4/Neurons_only_iter4_retained/optimal_resolution/discplots/Neuropeptides_dotplot.svg\")"
   ]
  },
  {
   "cell_type": "code",
   "execution_count": null,
   "metadata": {},
   "outputs": [],
   "source": [
    "#reverse\n",
    "ggplot(Cell_number, aes(cluster, gene)) + geom_point(aes(size = pct, colour=avg)) + \n",
    "scale_x_discrete(limits = rev(levels(Cell_number$cluster)))+scale_y_discrete(limits =(levels(Cell_number$gene)))+\n",
    "scale_color_gradient(low = \"white\", high = \"darkblue\",limits = c(0,1.5),oob=squish) + \n",
    "geom_point(aes(size = pct), pch=21,, lwd=0,stroke=0)+\n",
    "theme(axis.title.y=element_text(size=15),axis.text.y=element_text(size=8),axis.text.x=element_text(size=6,angle = 0, hjust = 0.5),panel.grid.major = element_blank(), panel.grid.minor = element_blank(),\n",
    "panel.background = element_blank(), axis.line = element_line(colour = \"black\"))+ggtitle(\"% cells\")\n",
    "ggsave(file=\"/Users/stuberadmin/Documents/scRNAseq/201130/Neurons_only_iter4/Neurons_only_iter4_retained/optimal_resolution/discplots/Neuropeptides_dotplot_trans.pdf\",height=4, width=10 , paper = \"letter\")\n",
    "ggsave(file=\"/Users/stuberadmin/Documents/scRNAseq/201130/Neurons_only_iter4/Neurons_only_iter4_retained/optimal_resolution/discplots/Neuropeptides_dotplot_trans.svg\")"
   ]
  },
  {
   "cell_type": "code",
   "execution_count": null,
   "metadata": {},
   "outputs": [],
   "source": []
  },
  {
   "cell_type": "code",
   "execution_count": null,
   "metadata": {},
   "outputs": [],
   "source": []
  },
  {
   "cell_type": "markdown",
   "metadata": {},
   "source": [
    "miscellaneous"
   ]
  },
  {
   "cell_type": "code",
   "execution_count": null,
   "metadata": {},
   "outputs": [],
   "source": [
    "misc<-read.xlsx2(file=\"/Users/stuberadmin/Documents/scRNAseq/191204/Neurons_only_iter4/discplots/misc/results_miscellaneous.xlsx\", 1,stringsAsFactors = FALSE)"
   ]
  },
  {
   "cell_type": "code",
   "execution_count": null,
   "metadata": {},
   "outputs": [],
   "source": [
    "Cell_type<-factor(rev(c(\"Vgat1\",\"Vgat2\",\"Vgat3\",\"Vgat4\",\"Vglut1\",\"Vgat5\",\"Vgat6\",\"Vgat7\",\"Vglut2\",\"Vgat8\",\"Vgat9\",\"Vgat10\",\"Vgat11\",\"Vgat12\",\"Vgat13\",\"Vgat14\",\"Vgat15\",\"Vgat16\",\"Vgat17\")))\n",
    "gene_list<-intersect(unique(misc$gene),rownames(LS.integrated@assays$RNA@data))"
   ]
  },
  {
   "cell_type": "code",
   "execution_count": null,
   "metadata": {},
   "outputs": [],
   "source": [
    "gene_list<-sort(gene_list)"
   ]
  },
  {
   "cell_type": "code",
   "execution_count": null,
   "metadata": {},
   "outputs": [],
   "source": [
    "gene_list"
   ]
  },
  {
   "cell_type": "code",
   "execution_count": null,
   "metadata": {},
   "outputs": [],
   "source": [
    "#gene_list<-rev(gene_list[1:55])\n",
    "#gene_list<-rev(gene_list[56:110])\n",
    "gene_list<-rev(gene_list[111:172])"
   ]
  },
  {
   "cell_type": "code",
   "execution_count": null,
   "metadata": {
    "scrolled": true
   },
   "outputs": [],
   "source": [
    "Cell_number<- data.frame(Date=as.Date(character()),File=character(),User=character(),stringsAsFactors=FALSE)\n",
    "\n",
    "for (i in 1:length(gene_list)){\n",
    "L<-length(Cell_type)\n",
    "\n",
    "Cell_number_t<- data.frame(\"cluster\" =Cell_type, \"gene\"=c(rep(gene_list[i],L)))\n",
    "#used normalized uncorrected data\n",
    "for (p in 1:length(Cell_type)){\n",
    "Cell_number_t$pct[p]<-100*sum(LS.integrated@assays$RNA@data[gene_list[i],eval(parse(text=paste(Cell_type[p],\"_barcode\",sep=\"\")))]>0)/length(eval(parse(text=paste(Cell_type[p],\"_barcode\",sep=\"\"))))\n",
    "Cell_number_t$avg[p]<-(mean(LS.integrated@assays$RNA@data[gene_list[i],eval(parse(text=paste(Cell_type[p],\"_barcode\",sep=\"\")))])-mean(LS.integrated@assays$RNA@data[gene_list[i],]))/sd(LS.integrated@assays$RNA@data[gene_list[i],])\n",
    "#for avg only consider the expressed cell\n",
    " #t<-LHb.integrated@assays$RNA@data[gene_list[i],eval(parse(text=paste(Cell_type[p],\"_barcode\",sep=\"\")))]>0\n",
    "# Cell_number_t$avg[p]<-mean(LHb.integrated@assays$RNA@data[gene_list[i],t])/sd(LHb.integrated@assays$RNA@data[gene_list[i],eval(parse(text=paste(Cell_type[p],\"_barcode\",sep=\"\")))])    \n",
    "    }\n",
    "Cell_number<-rbind(Cell_number_t,Cell_number)}\n",
    "as.factor(Cell_number$cluster)"
   ]
  },
  {
   "cell_type": "code",
   "execution_count": null,
   "metadata": {},
   "outputs": [],
   "source": [
    "ggplot(Cell_number, aes(gene, cluster)) + geom_point(aes(size = pct, colour=avg)) + \n",
    "scale_x_discrete(limits =rev(levels(Cell_number$gene)))+scale_color_gradient(low = \"white\", high = \"darkblue\",limits = c(-1.5,1.5),oob=squish) + \n",
    "geom_point(aes(size = pct), pch=21,, lwd=0,stroke=0)+ scale_size_continuous(range = c(0,3.8),limits=c(0,100),breaks=seq(0,100,25))+\n",
    "theme(axis.title.y=element_text(size=15),axis.text.y=element_text(size=8),axis.text.x=element_text(size=6,angle = 50, hjust = 1),panel.grid.major = element_blank(), panel.grid.minor = element_blank(),\n",
    "panel.background = element_blank(), axis.line = element_line(colour = \"black\"))+ggtitle(\"% cells\")\n",
    "ggsave(file=\"/Users/stuberadmin/Documents/scRNAseq/201130/Neurons_only_iter4/discplots/Misc_pt3_dotplot.pdf\",height=4, width=10 , paper = \"letter\")\n",
    "ggsave(file=\"/Users/stuberadmin/Documents/scRNAseq/201130/Neurons_only_iter4/discplots/Misc_pt3_dotplot.svg\")"
   ]
  },
  {
   "cell_type": "code",
   "execution_count": null,
   "metadata": {},
   "outputs": [],
   "source": [
    "#reverse\n",
    "ggplot(Cell_number, aes(cluster, gene)) + geom_point(aes(size = pct, colour=avg)) + \n",
    "scale_x_discrete(limits = rev(levels(Cell_number$cluster)))+scale_y_discrete(limits =(levels(Cell_number$gene)))+\n",
    "scale_color_gradient(low = \"white\", high = \"darkblue\",limits = c(-1.5,1.5),oob=squish) + \n",
    "geom_point(aes(size = pct), pch=21,, lwd=0,stroke=0)+\n",
    "theme(axis.title.y=element_text(size=15),axis.text.y=element_text(size=8),axis.text.x=element_text(size=6,angle = 0, hjust = 0.5),panel.grid.major = element_blank(), panel.grid.minor = element_blank(),\n",
    "panel.background = element_blank(), axis.line = element_line(colour = \"black\"))+ggtitle(\"% cells\")\n",
    "ggsave(file=\"/Users/stuberadmin/Documents/scRNAseq/201130/Neurons_only_iter4/discplots/Misc_pt3_dotplot.pdf\",height=4, width=10 , paper = \"letter\")\n",
    "ggsave(file=\"/Users/stuberadmin/Documents/scRNAseq/201130/Neurons_only_iter4/discplots/Misc_pt3_dotplot.svg\")"
   ]
  },
  {
   "cell_type": "code",
   "execution_count": null,
   "metadata": {},
   "outputs": [],
   "source": []
  },
  {
   "cell_type": "code",
   "execution_count": null,
   "metadata": {},
   "outputs": [],
   "source": [
    "VlnPlot(LS.integrated, \"Uty\")"
   ]
  },
  {
   "cell_type": "code",
   "execution_count": null,
   "metadata": {},
   "outputs": [],
   "source": []
  },
  {
   "cell_type": "code",
   "execution_count": null,
   "metadata": {},
   "outputs": [],
   "source": []
  },
  {
   "cell_type": "code",
   "execution_count": null,
   "metadata": {},
   "outputs": [],
   "source": []
  },
  {
   "cell_type": "code",
   "execution_count": null,
   "metadata": {},
   "outputs": [],
   "source": []
  },
  {
   "cell_type": "markdown",
   "metadata": {},
   "source": [
    "\n",
    "# analyze number of cell in each cluster"
   ]
  },
  {
   "cell_type": "code",
   "execution_count": null,
   "metadata": {},
   "outputs": [],
   "source": [
    "Cell_type<-rev(c('Vgat1','Vgat2','Vgat3','Vgat4','Vgat5','Vgat6','Vgat7','Vgat8','Vgat9','Vgat10','Vgat11','Vgat12','Vgat13','Vgat14','Vgat15','Vgat16','Vgat17','Vgat18','Vglu1','Vglu2'))"
   ]
  },
  {
   "cell_type": "code",
   "execution_count": null,
   "metadata": {},
   "outputs": [],
   "source": [
    "Cell_number<- data.frame(Date=as.Date(character()),File=character(),User=character(),stringsAsFactors=FALSE)"
   ]
  },
  {
   "cell_type": "code",
   "execution_count": null,
   "metadata": {},
   "outputs": [],
   "source": [
    "#zscoring\n",
    "Cell_number<- data.frame(Date=as.Date(character()),File=character(),User=character(),stringsAsFactors=FALSE)\n",
    "\n",
    "for (i in 1:length(Cell_type)){\n",
    "    Cell_number$pct[i]<-100*sum(LS.integrated@assays$RNA@data[\"Drd2\",eval(parse(text=paste(Cell_type[p],\"_barcode\",sep=\"\")))]>0)/length(eval(parse(text=paste(Cell_type[p],\"_barcode\",sep=\"\"))))\n",
    "}"
   ]
  },
  {
   "cell_type": "code",
   "execution_count": null,
   "metadata": {},
   "outputs": [],
   "source": []
  },
  {
   "cell_type": "code",
   "execution_count": null,
   "metadata": {},
   "outputs": [],
   "source": []
  },
  {
   "cell_type": "code",
   "execution_count": null,
   "metadata": {},
   "outputs": [],
   "source": []
  },
  {
   "cell_type": "code",
   "execution_count": null,
   "metadata": {},
   "outputs": [],
   "source": []
  },
  {
   "cell_type": "code",
   "execution_count": null,
   "metadata": {},
   "outputs": [],
   "source": []
  },
  {
   "cell_type": "markdown",
   "metadata": {},
   "source": [
    "# simple version with one value for one cluster"
   ]
  },
  {
   "cell_type": "code",
   "execution_count": null,
   "metadata": {},
   "outputs": [],
   "source": [
    "Cell_type<-c('Vgat1','Vgat2','Vgat3','Vgat4','Vgat5','Vgat6','Vgat7','Vgat8','Vgat9','Vgat10','Vgat11','Vgat12','Vgat13','Vgat14','Vgat15','Vgat16','Vgat17','Vgat18','Vglu1','Vglu2')\n",
    "# make a data frame for cell number (this data frame is a simple version giving single value for each cluster) \n",
    "Cell_number<- data.frame(\"type\" =c(Cell_type,Cell_type,Cell_type), \"Cond\" = c(rep(\"LS_sal\",length(Cell_type)),rep(\"LS_mor\",length(Cell_type)),rep(\"LS_nal\",length(Cell_type))))\n",
    "# be careful with how you define factor and levels\n",
    "as.factor(Cell_number$type)\n",
    "as.factor(Cell_number$Cond)\n",
    "levels(Cell_number$type)<-c('Vgat1','Vgat2','Vgat3','Vgat4','Vgat5','Vgat6','Vgat7','Vgat8','Vgat9','Vgat10','Vgat11','Vgat12','Vgat13','Vgat14','Vgat15','Vgat16','Vgat17','Vgat18','Vglu1','Vglu2')\n",
    "\n",
    "Numberofcells<-vector(mode=\"numeric\", length=0)\n",
    "proportion<-vector(mode=\"numeric\", length=0)\n",
    "\n",
    "for (i in 1:dim(Cell_number)[1]){Numberofcells[i]<-length(eval(parse(text = paste(Cell_number$type[i],\"_barcode\",\"_\",Cell_number$Cond[i],sep=\"\"))))}\n",
    "Cell_number$len<-Numberofcells\n",
    "\n",
    "for (i in 1:dim(Cell_number)[1]){if (Cell_number$Cond[i]==\"LS_sal\"){proportion[i]<-100*length(eval(parse(text = paste(Cell_number$type[i],\"_barcode\",\"_\",Cell_number$Cond[i],sep=\"\"))))/sum(Cell_number$len[grep(\"LS_sal\",Cell_number$Cond)])} \n",
    " else if(Cell_number$Cond[i]==\"LS_mor\") {proportion[i]<-100*length(eval(parse(text = paste(Cell_number$type[i],\"_barcode\",\"_\",Cell_number$Cond[i],sep=\"\"))))/sum(Cell_number$len[grep(\"LS_mor\",Cell_number$Cond)])}\n",
    "   else if(Cell_number$Cond[i]==\"LS_nal\") {proportion[i]<-100*length(eval(parse(text = paste(Cell_number$type[i],\"_barcode\",\"_\",Cell_number$Cond[i],sep=\"\"))))/sum(Cell_number$len[grep(\"LS_nal\",Cell_number$Cond)])}\n",
    "     }\n",
    "Cell_number$prop<-proportion\n",
    "\n"
   ]
  },
  {
   "cell_type": "code",
   "execution_count": null,
   "metadata": {},
   "outputs": [],
   "source": [
    "Cell_type<-c('Vgat1','Vgat2','Vgat3','Vgat4','Vgat5','Vgat6','Vgat7','Vgat8','Vgat9','Vgat10','Vgat11','Vgat12','Vgat13','Vgat14','Vgat15','Vgat16','Vgat17','Vgat18','Vglu1','Vglu2')\n",
    "# make a data frame for cell number (this data frame is a simple version giving single value for each cluster) \n",
    "Cell_number<- data.frame(\"type\" =c(Cell_type,Cell_type,Cell_type), \"Cond\" = c(rep(\"LS_sal\",length(Cell_type)),rep(\"LS_mor\",length(Cell_type)),rep(\"LS_nal\",length(Cell_type))))\n",
    "# be careful with how you define factor and levels\n",
    "as.factor(Cell_number$type)\n",
    "as.factor(Cell_number$Cond)\n",
    "levels(Cell_number$type)<-c('Vgat1','Vgat2','Vgat3','Vgat4','Vgat5','Vgat6','Vgat7','Vgat8','Vgat9','Vgat10','Vgat11','Vgat12','Vgat13','Vgat14','Vgat15','Vgat16','Vgat17','Vgat18','Vglu1','Vglu2')\n",
    "\n",
    "Numberofcells<-vector(mode=\"numeric\", length=0)\n",
    "proportion<-vector(mode=\"numeric\", length=0)\n",
    "\n",
    "for (i in 1:dim(Cell_number)[1]){Numberofcells[i]<-length(eval(parse(text = paste(Cell_number$type[i],\"_barcode\",\"_\",Cell_number$Cond[i],sep=\"\"))))}\n",
    "Cell_number$len<-Numberofcells\n",
    "\n",
    "for (i in 1:dim(Cell_number)[1]){if (Cell_number$Cond[i]==\"LS_sal\"){proportion[i]<-100*length(eval(parse(text = paste(Cell_number$type[i],\"_barcode\",\"_\",Cell_number$Cond[i],sep=\"\"))))/sum(Cell_number$len[grep(\"LS_sal\",Cell_number$Cond)])} \n",
    " else if(Cell_number$Cond[i]==\"LS_mor\") {proportion[i]<-100*length(eval(parse(text = paste(Cell_number$type[i],\"_barcode\",\"_\",Cell_number$Cond[i],sep=\"\"))))/sum(Cell_number$len[grep(\"LS_mor\",Cell_number$Cond)])}\n",
    "   else if(Cell_number$Cond[i]==\"LS_nal\") {proportion[i]<-100*length(eval(parse(text = paste(Cell_number$type[i],\"_barcode\",\"_\",Cell_number$Cond[i],sep=\"\"))))/sum(Cell_number$len[grep(\"LS_nal\",Cell_number$Cond)])}\n",
    "     }\n",
    "Cell_number$prop<-proportion\n",
    "\n"
   ]
  },
  {
   "cell_type": "code",
   "execution_count": null,
   "metadata": {},
   "outputs": [],
   "source": [
    "Cell_type<-c('Vgat1','Vgat2','Vgat3','Vgat4','Vgat5','Vgat6','Vgat7','Vgat8','Vgat9','Vgat10','Vgat11','Vgat12','Vgat13','Vgat14','Vgat15','Vgat16','Vgat17','Vglu1','Vglu2')\n",
    "Cell_number<- data.frame(\"type\" =c(Cell_type,Cell_type,Cell_type), \"Cond\" = c(rep(\"LS_sal\",length(Cell_type)),rep(\"LS_mor\",length(Cell_type)),rep(\"LS_nal\",length(Cell_type))))\n",
    "as.factor(Cell_number$type)\n",
    "as.factor(Cell_number$Cond)\n",
    "levels(Cell_number$type)<-c('Vgat1','Vgat2','Vgat3','Vgat4','Vgat5','Vgat6','Vgat7','Vgat8','Vgat9','Vgat10','Vgat11','Vgat12','Vgat13','Vgat14','Vgat15','Vgat16','Vgat17','Vglu1','Vglu2')\n",
    "\n",
    "Numberofcells<-vector(mode=\"numeric\", length=0)\n",
    "proportion<-vector(mode=\"numeric\", length=0)"
   ]
  },
  {
   "cell_type": "code",
   "execution_count": null,
   "metadata": {},
   "outputs": [],
   "source": [
    "for (i in 1:dim(Cell_number)[1]){Numberofcells[i]<-length(eval(parse(text = paste(Cell_number$type[i],\"_barcode\",\"_\",Cell_number$Cond[i],sep=\"\"))))}\n",
    "Cell_number$len<-Numberofcells"
   ]
  },
  {
   "cell_type": "code",
   "execution_count": null,
   "metadata": {},
   "outputs": [],
   "source": [
    "for (i in 1:dim(Cell_number)[1]){if (Cell_number$Cond[i]==\"LS_sal\"){proportion[i]<-100*length(eval(parse(text = paste(Cell_number$type[i],\"_barcode\",\"_\",Cell_number$Cond[i],sep=\"\"))))/sum(Cell_number$len[grep(\"LS_sal\",Cell_number$Cond)])} \n",
    " else if(Cell_number$Cond[i]==\"LS_mor\") {proportion[i]<-100*length(eval(parse(text = paste(Cell_number$type[i],\"_barcode\",\"_\",Cell_number$Cond[i],sep=\"\"))))/sum(Cell_number$len[grep(\"LS_mor\",Cell_number$Cond)])}\n",
    "   else if(Cell_number$Cond[i]==\"LS_nal\") {proportion[i]<-100*length(eval(parse(text = paste(Cell_number$type[i],\"_barcode\",\"_\",Cell_number$Cond[i],sep=\"\"))))/sum(Cell_number$len[grep(\"LS_nal\",Cell_number$Cond)])}\n",
    "     }\n",
    "Cell_number$prop<-proportion"
   ]
  },
  {
   "cell_type": "code",
   "execution_count": null,
   "metadata": {},
   "outputs": [],
   "source": [
    "levels(Cell_number)<-c(\"LS_sal\",\"LS_mor\",\"LS_nal\")"
   ]
  },
  {
   "cell_type": "code",
   "execution_count": null,
   "metadata": {},
   "outputs": [],
   "source": [
    "head(Cell_number)"
   ]
  },
  {
   "cell_type": "code",
   "execution_count": null,
   "metadata": {},
   "outputs": [],
   "source": [
    "aggregate(Cell_number$len, by=list(Group=Cell_number$type), FUN=sum)"
   ]
  },
  {
   "cell_type": "code",
   "execution_count": null,
   "metadata": {},
   "outputs": [],
   "source": [
    "Drd2_raw<-vector(mode=\"numeric\",length=0)\n",
    "Drd2_raw_number<-vector(mode=\"numeric\",length=0)\n",
    "for (i in 1:dim(Cell_number)[1]){Drd2_raw[i]<-100*sum(LS.integrated@assays$RNA@data[\"Drd2\",eval(parse(text = paste(Cell_number$type[i],\"_barcode_\",Cell_number$Cond[i],sep=\"\")))]>0)/Cell_number$len[i]\n",
    "         Drd2_raw_number[i]<-sum(LS.integrated@assays$RNA@data[\"Drd2\",eval(parse(text = paste(Cell_number$type[i],\"_barcode_\",Cell_number$Cond[i],sep=\"\")))]>0)   }\n",
    "Cell_number$Drd2_raw<-Drd2_raw\n",
    "Cell_number$Drd2_raw_number<-Drd2_raw_number\n",
    "Cell_number"
   ]
  },
  {
   "cell_type": "code",
   "execution_count": null,
   "metadata": {},
   "outputs": [],
   "source": [
    "Drd3_raw<-vector(mode=\"numeric\",length=0)\n",
    "Drd3_raw_number<-vector(mode=\"numeric\",length=0)\n",
    "for (i in 1:dim(Cell_number)[1]){Drd3_raw[i]<-100*sum(LS.integrated@assays$RNA@data[\"Drd3\",eval(parse(text = paste(Cell_number$type[i],\"_barcode_\",Cell_number$Cond[i],sep=\"\")))]>0)/Cell_number$len[i]\n",
    "         Drd3_raw_number[i]<-sum(LS.integrated@assays$RNA@data[\"Drd3\",eval(parse(text = paste(Cell_number$type[i],\"_barcode_\",Cell_number$Cond[i],sep=\"\")))]>0)   }\n",
    "Cell_number$Drd3_raw<-Drd3_raw\n",
    "Cell_number$Drd3_raw_number<-Drd3_raw_number\n",
    "Cell_number"
   ]
  },
  {
   "cell_type": "code",
   "execution_count": null,
   "metadata": {},
   "outputs": [],
   "source": []
  },
  {
   "cell_type": "code",
   "execution_count": null,
   "metadata": {},
   "outputs": [],
   "source": []
  },
  {
   "cell_type": "code",
   "execution_count": null,
   "metadata": {},
   "outputs": [],
   "source": [
    "Drd <- vector(mode=\"numeric\")\n",
    "for (i in 1:length(Cell_type)){\n",
    "    test <- subset(LS.integrated, cells=(eval(parse(text=paste(Cell_type[i],\"_barcode\",sep=\"\")))), (Prkca>0))\n",
    "    Drd[i] <- length(colnames(test))\n",
    "}"
   ]
  },
  {
   "cell_type": "code",
   "execution_count": null,
   "metadata": {},
   "outputs": [],
   "source": [
    "Cell_type"
   ]
  },
  {
   "cell_type": "code",
   "execution_count": null,
   "metadata": {},
   "outputs": [],
   "source": [
    "Drd"
   ]
  },
  {
   "cell_type": "code",
   "execution_count": null,
   "metadata": {},
   "outputs": [],
   "source": [
    "typeof(Drd)"
   ]
  },
  {
   "cell_type": "code",
   "execution_count": null,
   "metadata": {},
   "outputs": [],
   "source": [
    "totals <- as.numeric(table(Idents(LS.integrated)))"
   ]
  },
  {
   "cell_type": "code",
   "execution_count": null,
   "metadata": {},
   "outputs": [],
   "source": [
    "table(Idents(LS.integrated))"
   ]
  },
  {
   "cell_type": "code",
   "execution_count": null,
   "metadata": {},
   "outputs": [],
   "source": [
    "totals"
   ]
  },
  {
   "cell_type": "code",
   "execution_count": null,
   "metadata": {},
   "outputs": [],
   "source": [
    "as.matrix(rev((Drd/totals)*100))"
   ]
  },
  {
   "cell_type": "code",
   "execution_count": null,
   "metadata": {},
   "outputs": [],
   "source": []
  },
  {
   "cell_type": "code",
   "execution_count": null,
   "metadata": {},
   "outputs": [],
   "source": [
    "counts_arc <- FetchData(LS.integrated, 'Arc', slot='counts')\n",
    "counts_fos <- FetchData(LS.integrated, 'Fos', slot='counts')\n",
    "counts_egr1 <- FetchData(LS.integrated, 'Egr1', slot='counts')\n",
    "counts_jun <- FetchData(LS.integrated, 'Jun', slot='counts')\n",
    "counts_junb <- FetchData(LS.integrated, 'Junb', slot='counts')\n",
    "counts_homer1 <- FetchData(LS.integrated, 'Homer1', slot='counts')\n",
    "counts_inhba <- FetchData(LS.integrated, 'Inhba', slot='counts')\n",
    "counts_btg2 <- FetchData(LS.integrated, 'Btg2', slot='counts')"
   ]
  },
  {
   "cell_type": "code",
   "execution_count": null,
   "metadata": {},
   "outputs": [],
   "source": [
    "counts_arc <- as.numeric(unlist(counts_arc))\n",
    "counts_fos <- as.numeric(unlist(counts_fos))\n",
    "counts_egr1 <- as.numeric(unlist(counts_egr1))\n",
    "counts_jun <- as.numeric(unlist(counts_jun))\n",
    "counts_junb <- as.numeric(unlist(counts_junb))\n",
    "counts_homer1 <- as.numeric(unlist(counts_homer1))\n",
    "counts_inhba <- as.numeric(unlist(counts_inhba))\n",
    "counts_btg2 <- as.numeric(unlist(counts_btg2))"
   ]
  },
  {
   "cell_type": "code",
   "execution_count": null,
   "metadata": {},
   "outputs": [],
   "source": [
    "counts_arc <- as.data.frame(counts_arc[counts_arc > -1])\n",
    "counts_fos <- as.data.frame(counts_fos[counts_fos > -1])\n",
    "counts_egr1 <- as.data.frame(counts_egr1[counts_egr1 > -1])\n",
    "counts_jun <- as.data.frame(counts_jun[counts_jun > -1])\n",
    "counts_junb <- as.data.frame(counts_junb[counts_junb > -1])\n",
    "counts_homer1 <- as.data.frame(counts_homer1[counts_homer1 > -1])\n",
    "counts_inhba <- as.data.frame(counts_inhba[counts_inhba > -1])\n",
    "counts_btg2 <- as.data.frame(counts_btg2[counts_btg2 > -1])"
   ]
  },
  {
   "cell_type": "code",
   "execution_count": null,
   "metadata": {},
   "outputs": [],
   "source": [
    "counts_arc$arc <- \"arc\"\n",
    "colnames(counts_arc)[2] <- \"gene\"\n",
    "colnames(counts_arc)[1] <- \"counts\"\n",
    "\n",
    "counts_fos$fos <- \"fos\"\n",
    "colnames(counts_fos)[2] <- \"gene\"\n",
    "colnames(counts_fos)[1] <- \"counts\"\n",
    "\n",
    "counts_egr1$egr1 <- \"egr1\"\n",
    "colnames(counts_egr1)[2] <- \"gene\"\n",
    "colnames(counts_egr1)[1] <- \"counts\"\n",
    "\n",
    "counts_jun$jun <- \"jun\"\n",
    "colnames(counts_jun)[2] <- \"gene\"\n",
    "colnames(counts_jun)[1] <- \"counts\"\n",
    "\n",
    "counts_junb$junb <- \"junb\"\n",
    "colnames(counts_junb)[2] <- \"gene\"\n",
    "colnames(counts_junb)[1] <- \"counts\""
   ]
  },
  {
   "cell_type": "code",
   "execution_count": null,
   "metadata": {},
   "outputs": [],
   "source": [
    "counts_homer1$homer1 <- \"homer1\"\n",
    "colnames(counts_homer1)[2] <- \"gene\"\n",
    "colnames(counts_homer1)[1] <- \"counts\"\n",
    "\n",
    "counts_inhba$inhba <- \"inhba\"\n",
    "colnames(counts_inhba)[2] <- \"gene\"\n",
    "colnames(counts_inhba)[1] <- \"counts\"\n",
    "\n",
    "counts_btg2$btg2 <- \"btg2\"\n",
    "colnames(counts_btg2)[2] <- \"gene\"\n",
    "colnames(counts_btg2)[1] <- \"counts\""
   ]
  },
  {
   "cell_type": "code",
   "execution_count": null,
   "metadata": {},
   "outputs": [],
   "source": [
    "IEG <- rbind(counts_arc, counts_fos, counts_egr1, counts_jun, counts_junb, counts_homer1, counts_inhba, counts_btg2)"
   ]
  },
  {
   "cell_type": "code",
   "execution_count": null,
   "metadata": {},
   "outputs": [],
   "source": [
    "ggplot(IEG, aes(x=counts, col=gene)) +\n",
    "    geom_histogram(fill=\"white\", bins=50)+\n",
    "    theme_classic()+\n",
    "    ylim(c(0,20000))"
   ]
  },
  {
   "cell_type": "code",
   "execution_count": null,
   "metadata": {},
   "outputs": [],
   "source": [
    "     Pcdh8 Fbxo33 Jun Junb Egr4 Arc Homer1 Rheb Rgs2 Dusp5 Btg2 Arf4 Per1 Sik1 Jund Inhba Slc2a3 Tsc22d1 Sod2 Hes1 Pias1 Rasd1 Nr4a1 Ncoa7 Arhgef3 Crem Per2 Egr1 Bdnf Nrn1 Plat Mbnl2 Arih1 Gadd45g Sgk1 Rcan1 Noct Cyr61 "
   ]
  },
  {
   "cell_type": "code",
   "execution_count": null,
   "metadata": {},
   "outputs": [],
   "source": [
    "length(colnames(subset(LS.integrated, (Fbxo33 > 0))))\n",
    "length(colnames(subset(LS.integrated, (Homer1 > 0))))\n",
    "length(colnames(subset(LS.integrated, (Rgs2 > 0))))\n",
    "length(colnames(subset(LS.integrated, (Btg2 > 0))))\n",
    "length(colnames(subset(LS.integrated, (Inhba > 0))))"
   ]
  },
  {
   "cell_type": "code",
   "execution_count": null,
   "metadata": {},
   "outputs": [],
   "source": [
    "length(colnames(subset(LS.integrated, (Arc > 0))))\n",
    "length(colnames(subset(LS.integrated, (Fos > 0))))\n",
    "length(colnames(subset(LS.integrated, (Egr1 > 0))))\n",
    "length(colnames(subset(LS.integrated, (Jun > 0))))\n",
    "length(colnames(subset(LS.integrated, (Junb > 0))))"
   ]
  },
  {
   "cell_type": "code",
   "execution_count": null,
   "metadata": {},
   "outputs": [],
   "source": []
  },
  {
   "cell_type": "code",
   "execution_count": null,
   "metadata": {},
   "outputs": [],
   "source": []
  },
  {
   "cell_type": "code",
   "execution_count": null,
   "metadata": {},
   "outputs": [],
   "source": []
  },
  {
   "cell_type": "code",
   "execution_count": null,
   "metadata": {},
   "outputs": [],
   "source": [
    "#using unaligned\n",
    "Fos_raw<-vector(mode=\"numeric\",length=0)\n",
    "Fos_raw_number<-vector(mode=\"numeric\",length=0)\n",
    "for (i in 1:dim(Cell_number)[1]){Fos_raw[i]<-100*sum(LS.integrated@assays$RNA@data[\"Fos\",eval(parse(text = paste(Cell_number$type[i],\"_barcode_\",Cell_number$Cond[i],sep=\"\")))]>0)/Cell_number$len[i]\n",
    "    Fos_raw_number[i]<-sum(LS.integrated@assays$RNA@data[\"Fos\",eval(parse(text = paste(Cell_number$type[i],\"_barcode_\",Cell_number$Cond[i],sep=\"\")))]>0)                            }\n",
    "Cell_number$Fos_raw<-Fos_raw\n",
    "Cell_number$Fos_raw_number<-Fos_raw_number\n",
    "\n",
    "Egr1_raw<-vector(mode=\"numeric\",length=0)\n",
    "Egr1_raw_number<-vector(mode=\"numeric\",length=0)\n",
    "for (i in 1:dim(Cell_number)[1]){Egr1_raw[i]<-100*sum(LS.integrated@assays$RNA@data[\"Egr1\",eval(parse(text = paste(Cell_number$type[i],\"_barcode_\",Cell_number$Cond[i],sep=\"\")))]>0)/Cell_number$len[i]\n",
    "         Egr1_raw_number[i]<-sum(LS.integrated@assays$RNA@data[\"Egr1\",eval(parse(text = paste(Cell_number$type[i],\"_barcode_\",Cell_number$Cond[i],sep=\"\")))]>0)   }\n",
    "Cell_number$Egr1_raw<-Egr1_raw\n",
    "Cell_number$Egr1_raw_number<-Egr1_raw_number\n",
    "Cell_number\n",
    "\n",
    "Arc_raw<-vector(mode=\"numeric\",length=0)\n",
    "Arc_raw_number<-vector(mode=\"numeric\",length=0)\n",
    "for (i in 1:dim(Cell_number)[1]){Arc_raw[i]<-100*sum(LS.integrated@assays$RNA@data[\"Arc\",eval(parse(text = paste(Cell_number$type[i],\"_barcode_\",Cell_number$Cond[i],sep=\"\")))]>0)/Cell_number$len[i]\n",
    "         Arc_raw_number[i]<-sum(LS.integrated@assays$RNA@data[\"Arc\",eval(parse(text = paste(Cell_number$type[i],\"_barcode_\",Cell_number$Cond[i],sep=\"\")))]>0)   }\n",
    "Cell_number$Arc_raw<-Arc_raw\n",
    "Cell_number$Arc_raw_number<-Arc_raw_number\n",
    "Cell_number\n",
    "\n",
    "Jun_raw<-vector(mode=\"numeric\",length=0)\n",
    "Jun_raw_number<-vector(mode=\"numeric\",length=0)\n",
    "for (i in 1:dim(Cell_number)[1]){Jun_raw[i]<-100*sum(LS.integrated@assays$RNA@data[\"Jun\",eval(parse(text = paste(Cell_number$type[i],\"_barcode_\",Cell_number$Cond[i],sep=\"\")))]>0)/Cell_number$len[i]\n",
    "         Jun_raw_number[i]<-sum(LS.integrated@assays$RNA@data[\"Jun\",eval(parse(text = paste(Cell_number$type[i],\"_barcode_\",Cell_number$Cond[i],sep=\"\")))]>0)   }\n",
    "Cell_number$Jun_raw<-Jun_raw\n",
    "Cell_number$Jun_raw_number<-Jun_raw_number\n",
    "Cell_number\n",
    "\n",
    "Fosb_raw<-vector(mode=\"numeric\",length=0)\n",
    "Fosb_raw_number<-vector(mode=\"numeric\",length=0)\n",
    "for (i in 1:dim(Cell_number)[1]){Fosb_raw[i]<-100*sum(LS.integrated@assays$RNA@data[\"Fosb\",eval(parse(text = paste(Cell_number$type[i],\"_barcode_\",Cell_number$Cond[i],sep=\"\")))]>0)/Cell_number$len[i]\n",
    "         Fosb_raw_number[i]<-sum(LS.integrated@assays$RNA@data[\"Fosb\",eval(parse(text = paste(Cell_number$type[i],\"_barcode_\",Cell_number$Cond[i],sep=\"\")))]>0)   }\n",
    "Cell_number$Fosb_raw<-Fosb_raw\n",
    "Cell_number$Fosb_raw_number<-Fosb_raw_number\n",
    "Cell_number"
   ]
  },
  {
   "cell_type": "code",
   "execution_count": null,
   "metadata": {},
   "outputs": [],
   "source": [
    "Cell_number$type<-factor(Cell_number$type,levels=c(\"Vgat1_LS_Foxp2\",\"Vgat2_LS\",\"Vgat3_LS_Nts\",\"Vgat4_SEP\",\"Vglu1_SEP\",\"Vgat5_MS_Sox6\",\"Vgat6_LS\",\"Vgat7_SFi_Syt6\",\"Vgat8_LS_Crhr2\",\"Vglu2_LS\"))"
   ]
  },
  {
   "cell_type": "code",
   "execution_count": null,
   "metadata": {},
   "outputs": [],
   "source": [
    "Cell_number"
   ]
  },
  {
   "cell_type": "code",
   "execution_count": null,
   "metadata": {
    "scrolled": true
   },
   "outputs": [],
   "source": [
    "Cell_number$Fos_raw_negative<-Cell_number$len-Cell_number$Fos_raw_number\n",
    "Cell_number$Egr1_raw_negative<-Cell_number$len-Cell_number$Egr1_raw_number\n",
    "write.xlsx2(Cell_number,file=\"/Users/stuberadmin/Documents/scRNAseq/201130/Neurons_only_iter4/Neurons_only_iter4_retained/optimal_resolution/Cell_Number_LS_neurons_IEG.xlsx\")"
   ]
  },
  {
   "cell_type": "markdown",
   "metadata": {},
   "source": [
    "skip below until having stimulus group"
   ]
  },
  {
   "cell_type": "code",
   "execution_count": null,
   "metadata": {},
   "outputs": [],
   "source": [
    "\n",
    "Cell_type<-c(\"Vgat1\",\"Vgat2\",\"Vgat3\",\"Vgat4\",\"Vglut1\",\"Vgat5\",\"Vgat6\",\"Vgat7\",\"Vglut2\",\"Vgat8\",\"Vgat9\",\"Vgat10\",\"Vgat11\",\"Vgat12\",\"Vgat13\",\"Vgat14\",\"Vgat15\",\"Vgat16\",\"Vgat17\")\n",
    "\n",
    "IEG<- data.frame(\"type\" =Cell_type)\n",
    "# be careful with how you define factor and levels\n",
    "as.factor(Cell_number$type)\n",
    "levels(Cell_number$type)<-c(\"Vgat1\",\"Vgat2\",\"Vgat3\",\"Vgat4\",\"Vglut1\",\"Vgat5\",\"Vgat6\",\"Vgat7\",\"Vglut2\",\"Vgat8\",\"Vgat9\",\"Vgat10\",\"Vgat11\",\"Vgat12\",\"Vgat13\",\"Vgat14\",\"Vgat15\",\"Vgat16\",\"Vgat17\")\n",
    "\n",
    "Fisher_p_Fos<-vector(mode=\"numeric\", length=0)\n",
    "Chi_p_Fos<-vector(mode=\"numeric\", length=0)\n",
    "Fisher_p_Egr1<-vector(mode=\"numeric\", length=0)\n",
    "Chi_p_Egr1<-vector(mode=\"numeric\", length=0)\n",
    "\n",
    "for (i in 1:length(Cell_type)){\n",
    "    tempc<-subset(Cell_number,type==IEG$type[i] & Cond==\"cntl\")\n",
    "temps<-subset(Cell_number,type==IEG$type[i] & Cond==\"stim\")\n",
    "test = matrix(c(tempc$Fos_raw_number,tempc$Fos_raw_negative,temps$Fos_raw_number,temps$Fos_raw_negative), ncol=2)\n",
    "temp_f<-fisher.test(test)\n",
    "temp_c<-chisq.test(test)\n",
    "    Fisher_p_Fos[i]<-temp_f$p.value\n",
    "    Chi_p_Fos[i]<-temp_c$p.value\n",
    "    # repeat with Egr1\n",
    "    \n",
    "test = matrix(c(tempc$Egr1_raw_number,tempc$Egr1_raw_negative,temps$Egr1_raw_number,temps$Egr1_raw_negative), ncol=2)\n",
    "temp_f<-fisher.test(test)\n",
    "temp_c<-chisq.test(test)\n",
    "    Fisher_p_Egr1[i]<-temp_f$p.value\n",
    "    Chi_p_Egr1[i]<-temp_c$p.value\n",
    "}\n",
    "IEG$Fisher_p_Fos<-Fisher_p_Fos\n",
    "IEG$Chi_p_Fos<-Chi_p_Fos\n",
    "\n",
    "IEG$Fisher_p_Egr1<-Fisher_p_Egr1\n",
    "IEG$Chi_p_Egr1<-Chi_p_Egr1\n",
    "\n"
   ]
  },
  {
   "cell_type": "code",
   "execution_count": null,
   "metadata": {},
   "outputs": [],
   "source": [
    "write.xlsx2(IEG,file=\"/media/garret/New Volume/scRNAseq_data/Yoshiko/LHb_integrate/clean/Neurons/gene2000_30/Cell_Number_Hb_neurons_IEG_stats.xlsx\")"
   ]
  },
  {
   "cell_type": "markdown",
   "metadata": {},
   "source": [
    "making bargraph for cell numbers and IEG"
   ]
  },
  {
   "cell_type": "code",
   "execution_count": null,
   "metadata": {},
   "outputs": [],
   "source": [
    "# number of cells in each cluster\n",
    "ggplot(Cell_number,aes(x=type,y=len,fill=Cond))+geom_bar(stat = \"identity\",position=position_dodge())+theme(axis.text.x=element_text(size=10,angle = 50, hjust = 1))+ggtitle(\"Number of Cells\")\n",
    "#dev.copy2pdf(file=\"/media/garret/New Volume/scRNAseq_data/Rhiana/Neurons/number of cells.pdf\")"
   ]
  },
  {
   "cell_type": "code",
   "execution_count": null,
   "metadata": {},
   "outputs": [],
   "source": [
    "# proportion of cells\n",
    "ggplot(Cell_number,aes(x=type,y=proportion,fill=Cond))+geom_bar(stat = \"identity\",position=position_dodge())+ylab(\"Percentage\")+theme(axis.text.x=element_text(size=10,angle = 50, hjust = 1))+ggtitle(\"% cells\")\n",
    "#dev.copy2pdf(file=\"/media/garret/New Volume/scRNAseq_data/Rhiana/Neurons/percentageof cells.pdf\")"
   ]
  },
  {
   "cell_type": "code",
   "execution_count": null,
   "metadata": {},
   "outputs": [],
   "source": [
    "# proportion of c-fos_raw\n",
    "ggplot(Cell_number,aes(x=type,y=Fos_raw,fill=Cond))+geom_bar(stat = \"identity\",position=position_dodge())+ylab(\"Percentage\")+theme(axis.text.x=element_text(size=10,angle = 50, hjust = 1))+ggtitle(\"Fos_raw (%)\")\n",
    "#dev.copy2pdf(file=\"/media/garret/New Volume/scRNAseq_data/Rhiana/Neurons/percentage of Fos_raw.pdf\")"
   ]
  },
  {
   "cell_type": "code",
   "execution_count": null,
   "metadata": {},
   "outputs": [],
   "source": [
    "# proportion of Egr1_raw\n",
    "ggplot(Cell_number,aes(x=type,y=Egr1_raw,fill=Cond))+geom_bar(stat = \"identity\",position=position_dodge())+ylab(\"Percentage\")+theme(axis.text.x=element_text(size=10,angle = 50, hjust = 1))+ggtitle(\"Egr1_raw (%)\")\n",
    "dev.copy2pdf(file=\"/media/garret/New Volume/scRNAseq_data/Rhiana/Neurons/percentage of Egr1_raw.pdf\")"
   ]
  },
  {
   "cell_type": "markdown",
   "metadata": {},
   "source": [
    "# identifying dimorphic genes in each cell type"
   ]
  },
  {
   "cell_type": "markdown",
   "metadata": {},
   "source": [
    "1. change identity"
   ]
  },
  {
   "cell_type": "code",
   "execution_count": null,
   "metadata": {},
   "outputs": [],
   "source": [
    "#to compare the combined male cells with female cells, change the identity of every cell\n",
    "# like LS12 to LS12_male"
   ]
  },
  {
   "cell_type": "code",
   "execution_count": null,
   "metadata": {},
   "outputs": [],
   "source": [
    "table(Idents(object = LS.integrated_clean))"
   ]
  },
  {
   "cell_type": "code",
   "execution_count": null,
   "metadata": {},
   "outputs": [],
   "source": [
    "str(LS.integrated_clean@meta.data$stim)"
   ]
  },
  {
   "cell_type": "code",
   "execution_count": null,
   "metadata": {},
   "outputs": [],
   "source": [
    "celltype.stim<-numeric()\n",
    "for (i in 1:dim(LS.integrated_clean@meta.data)[1]){\n",
    "    if(colnames(LS.integrated_clean)[i] %in% colnames(LS_male_clean)){\n",
    "        celltype.stim[i]<-paste(LS.integrated_clean@meta.data$celltype[i],\"_M\")\n",
    "    }else if (colnames(LS.integrated_clean)[i] %in% colnames(LS_female_clean)){\n",
    "        celltype.stim[i]<-paste(LS.integrated_clean@meta.data$celltype[i],\"_F\")\n",
    "    }\n",
    "}"
   ]
  },
  {
   "cell_type": "code",
   "execution_count": null,
   "metadata": {},
   "outputs": [],
   "source": [
    "LS.integrated_clean@meta.data$celltype.stim<-celltype.stim"
   ]
  },
  {
   "cell_type": "code",
   "execution_count": null,
   "metadata": {},
   "outputs": [],
   "source": [
    "LS.integrated_clean@meta.data$celltype.stim"
   ]
  },
  {
   "cell_type": "code",
   "execution_count": null,
   "metadata": {},
   "outputs": [],
   "source": [
    "LS.integrated_clean[[\"celltype\"]] <- Idents(object = LS.integrated_clean)\n",
    "Idents(LS.integrated_clean = LS.integrated_clean) <- LS.integrated_clean@meta.data$celltype.stim"
   ]
  },
  {
   "cell_type": "code",
   "execution_count": null,
   "metadata": {},
   "outputs": [],
   "source": [
    "LS.integrated_clean@meta.data[\"celltype.stim\"]<-LS.integrated_clean@meta.data[\"celltype.sex\"]"
   ]
  },
  {
   "cell_type": "code",
   "execution_count": null,
   "metadata": {},
   "outputs": [],
   "source": [
    "LS.integrated_clean[[\"celltype\"]] <- Idents(object = LS.integrated_clean)\n",
    "Idents(LS.integrated_clean = LS.integrated_clean) <- LS.integrated_clean@meta.data$celltype.stim"
   ]
  },
  {
   "cell_type": "code",
   "execution_count": null,
   "metadata": {},
   "outputs": [],
   "source": [
    "# now you see difference\n",
    "table(Idents(object = LS.integrated_clean))"
   ]
  },
  {
   "cell_type": "code",
   "execution_count": null,
   "metadata": {
    "scrolled": true
   },
   "outputs": [],
   "source": [
    "LS.integrated_clean@meta.data"
   ]
  },
  {
   "cell_type": "code",
   "execution_count": null,
   "metadata": {},
   "outputs": [],
   "source": []
  },
  {
   "cell_type": "markdown",
   "metadata": {},
   "source": [
    "2. DEG analysis between sexes"
   ]
  },
  {
   "cell_type": "code",
   "execution_count": null,
   "metadata": {},
   "outputs": [],
   "source": [
    "DefaultAssay(LS.integrated_clean) <- \"RNA\" # you may compare results with DefaultAssay(LS.integrated_clean) <- \"integrated\""
   ]
  },
  {
   "cell_type": "code",
   "execution_count": null,
   "metadata": {
    "scrolled": false
   },
   "outputs": [],
   "source": [
    "#male rich\n",
    "one.markers <- FindMarkers(LS.integrated_clean, assay='RNA', slot='data', ident.1 = \" _M\", ident.2 =\" _F\", grouping.var = \"stim\",print.bar = FALSE,logfc.threshold = 0,min.pct = 0,min.cells.gene = 3, min.cells.group = 1)\n",
    "one.markers$p_val_adjust<-one.markers$p_val*(dim(one.markers)[1]:1)\n",
    "sort_marker<-one.markers[order(-one.markers[\"avg_log2FC\"]),]\n",
    "write.xlsx2(subset(sort_marker,avg_log2FC>0.1 & p_val_adjust<0.05 & pct.1>0.01),file=(paste(\"C:/Users/stuberadmin/Documents/scRNAseq/211119-RS-rv4/Neurons_only_iter2/sex_specific/RNA_dimorphic_genes_male.xlsx\",sep=\"\")))\n"
   ]
  },
  {
   "cell_type": "code",
   "execution_count": null,
   "metadata": {
    "scrolled": false
   },
   "outputs": [],
   "source": [
    "#female rich\n",
    "one.markers <- FindMarkers(LS.integrated_clean, assay='RNA', slot='data', ident.1 = \" _F\", ident.2 =\" _M\", grouping.var = \"stim\",print.bar = FALSE,logfc.threshold = 0,min.pct = 0,min.cells.gene = 3, min.cells.group = 1)\n",
    "one.markers$p_val_adjust<-one.markers$p_val*(dim(one.markers)[1]:1)\n",
    "sort_marker<-one.markers[order(-one.markers[\"avg_log2FC\"]),]\n",
    "write.xlsx2(subset(sort_marker,avg_log2FC>0.1 & p_val_adjust<0.05 & pct.1>0.01),file=(paste(\"C:/Users/stuberadmin/Documents/scRNAseq/211119-RS-rv4/Neurons_only_iter2/sex_specific/RNA_dimorphic_genes_female.xlsx\",sep=\"\")))"
   ]
  },
  {
   "cell_type": "code",
   "execution_count": null,
   "metadata": {
    "scrolled": false
   },
   "outputs": [],
   "source": [
    "#male rich\n",
    "Cell_type<-c(\"Gaba1\",\"Gaba2\",\"Gaba3\",\"Gaba4\",\"Gaba5\",\"Gaba6\",\"Gaba7\",\"Glu1\",\"Gaba8\",\"Gaba9\",\"Gaba10\",\"Glu2\",\"Gaba11\",\"Gaba12\")\n",
    "for(i in 1:length(Cell_type)){\n",
    "one.markers <- FindMarkers(LS.integrated_clean, assay='RNA', slot='data', ident.1 = paste(Cell_type[i],\"_M\"), ident.2 =paste(Cell_type[i],\"_F\"), grouping.var = \"stim\",print.bar = FALSE,log2FC.threshold = 0,min.pct = 0,min.cells.gene = 3, min.cells.group = 1)\n",
    "\n",
    "one.markers$p_val_adjust<-one.markers$p_val*(dim(one.markers)[1]:1)\n",
    "sort_marker<-one.markers[order(-one.markers[\"avg_log2FC\"]),]\n",
    "write.xlsx2(subset(sort_marker,avg_log2FC>0.1 & p_val_adjust<0.05 & pct.1>0.1),file=(paste(\"C:/Users/stuberadmin/Documents/scRNAseq/211119-RS-rv4/Neurons_only_iter2/sex_specific/male_genes/RNA_dimorphic_genes_\",Cell_type[i],\".xlsx\",sep=\"\")))\n",
    "}\n"
   ]
  },
  {
   "cell_type": "code",
   "execution_count": null,
   "metadata": {},
   "outputs": [],
   "source": [
    "#female rich\n",
    "Cell_type<-c(\"Gaba1\",\"Gaba2\",\"Gaba3\",\"Gaba4\",\"Gaba5\",\"Gaba6\",\"Gaba7\",\"Glu1\",\"Gaba8\",\"Gaba9\",\"Gaba10\",\"Glu2\",\"Gaba11\",\"Gaba12\")\n",
    "for(i in 1:length(Cell_type)){\n",
    "one.markers <- FindMarkers(LS.integrated_clean, ident.1 = paste(Cell_type[i],\"_F\"), ident.2 =paste(Cell_type[i],\"_M\"), grouping.var = \"stim\",print.bar = FALSE,log2FC.threshold = 0,min.pct = 0,min.cells.gene = 3, min.cells.group = 1)\n",
    "\n",
    "one.markers$p_val_adjust<-one.markers$p_val*(dim(one.markers)[1]:1)\n",
    "sort_marker<-one.markers[order(-one.markers[\"avg_log2FC\"]),]\n",
    "write.xlsx2(subset(sort_marker,avg_log2FC>0.1 & p_val_adjust<0.05 & pct.1>0.1),file=(paste(\"C:/Users/stuberadmin/Documents/scRNAseq/211119-RS-rv4/Neurons_only_iter2/sex_specific/female_genes/RNA_dimorphic_genes_\",Cell_type[i],\".xlsx\",sep=\"\")))\n",
    "}\n"
   ]
  },
  {
   "cell_type": "code",
   "execution_count": null,
   "metadata": {},
   "outputs": [],
   "source": []
  },
  {
   "cell_type": "code",
   "execution_count": null,
   "metadata": {},
   "outputs": [],
   "source": [
    "LS.integrated@assays"
   ]
  },
  {
   "cell_type": "code",
   "execution_count": null,
   "metadata": {},
   "outputs": [],
   "source": [
    "str(LS.integrated)"
   ]
  },
  {
   "cell_type": "code",
   "execution_count": null,
   "metadata": {},
   "outputs": [],
   "source": [
    "cluster_numbers = table(LS.integrated@active.ident)"
   ]
  },
  {
   "cell_type": "code",
   "execution_count": null,
   "metadata": {},
   "outputs": [],
   "source": [
    "as.data.frame(cluster_numbers)"
   ]
  },
  {
   "cell_type": "code",
   "execution_count": null,
   "metadata": {},
   "outputs": [],
   "source": [
    "p <- ggplot(as.data.frame(cluster_numbers),aes(x=Var1,y=Freq)) + geom_bar(stat=\"Identity\") + labs(title=\"No. of cells per cluster\", x=\"cluster identity\", y = \"no. of cells\")\n",
    "p"
   ]
  },
  {
   "cell_type": "code",
   "execution_count": null,
   "metadata": {},
   "outputs": [],
   "source": []
  },
  {
   "cell_type": "code",
   "execution_count": null,
   "metadata": {},
   "outputs": [],
   "source": []
  },
  {
   "cell_type": "code",
   "execution_count": null,
   "metadata": {},
   "outputs": [],
   "source": []
  },
  {
   "cell_type": "code",
   "execution_count": null,
   "metadata": {},
   "outputs": [],
   "source": []
  },
  {
   "cell_type": "markdown",
   "metadata": {},
   "source": [
    "## Extracting barcodes of specific cluters"
   ]
  },
  {
   "cell_type": "code",
   "execution_count": null,
   "metadata": {},
   "outputs": [],
   "source": [
    "Vgat2 <- subset(LS.integrated, cells=Vgat2_barcode)"
   ]
  },
  {
   "cell_type": "code",
   "execution_count": null,
   "metadata": {},
   "outputs": [],
   "source": [
    "Drd_rich <- subset(LS.integrated,cells=c(Vgat1_barcode, Vgat2_barcode, Vgat4_barcode, Vgat6_barcode, Vgat12_barcode, Vgat17_barcode))"
   ]
  },
  {
   "cell_type": "code",
   "execution_count": null,
   "metadata": {},
   "outputs": [],
   "source": [
    "Drd_rich <- subset(LS.integrated,cells=c(Vgat2_barcode, Vgat4_barcode, Vgat12_barcode, Vgat17_barcode))"
   ]
  },
  {
   "cell_type": "code",
   "execution_count": null,
   "metadata": {},
   "outputs": [],
   "source": [
    "Drd_lack <- subset(LS.integrated,cells=c(Vgat1_barcode, Vgat2_barcode, Vgat4_barcode, Vgat6_barcode, Vgat12_barcode, Vgat17_barcode), invert=TRUE)"
   ]
  },
  {
   "cell_type": "code",
   "execution_count": null,
   "metadata": {},
   "outputs": [],
   "source": [
    "str(Drd_lack)"
   ]
  },
  {
   "cell_type": "code",
   "execution_count": null,
   "metadata": {},
   "outputs": [],
   "source": []
  },
  {
   "cell_type": "code",
   "execution_count": null,
   "metadata": {},
   "outputs": [],
   "source": []
  },
  {
   "cell_type": "code",
   "execution_count": null,
   "metadata": {},
   "outputs": [],
   "source": [
    "Vgat1_3_LS_int <- subset(LS.integrated,cells=c(Vgat1_LS_Foxp2_barcode,Vgat3_LS_Nts_barcode))"
   ]
  },
  {
   "cell_type": "code",
   "execution_count": null,
   "metadata": {},
   "outputs": [],
   "source": [
    "Vgat1_LS_int <- subset(LS.integrated,cells=c(Vgat1_barcode))"
   ]
  },
  {
   "cell_type": "code",
   "execution_count": null,
   "metadata": {},
   "outputs": [],
   "source": [
    "Vgat2_LS_int <- subset(LS.integrated, cells=Vgat2_LS_barcode)"
   ]
  },
  {
   "cell_type": "code",
   "execution_count": null,
   "metadata": {},
   "outputs": [],
   "source": [
    "Vgat6_8_LS_int <- subset(LS.integrated, cells=c(Vgat6_SEP_barcode,Vgat8_LS_Crhr2_barcode))"
   ]
  },
  {
   "cell_type": "code",
   "execution_count": null,
   "metadata": {},
   "outputs": [],
   "source": [
    "saveRDS(colnames(Drd_rich), file=\"C:/Users/stuberadmin/Documents/scRNAseq/211119-RS-rv4/Neurons_only_iter2/Drd_id.rds\")"
   ]
  },
  {
   "cell_type": "code",
   "execution_count": null,
   "metadata": {},
   "outputs": [],
   "source": [
    "saveRDS(colnames(Vgat1_3_LS_int), file=\"/Users/stuberadmin/Documents/scRNAseq/201130/Neurons_only_iter4/Neurons_only_iter4_retained/optimal_resolution/Vgat1_3_int_id.rds\")\n",
    "saveRDS(colnames(Vgat2_LS_int), file=\"/Users/stuberadmin/Documents/scRNAseq/201130/Neurons_only_iter4/Neurons_only_iter4_retained/optimal_resolution/Vgat2_int_id.rds\")\n",
    "saveRDS(colnames(Vgat6_8_LS_int), file=\"/Users/stuberadmin/Documents/scRNAseq/201130/Neurons_only_iter4/Neurons_only_iter4_retained/optimal_resolution/Vgat6_8_int_id.rds\")"
   ]
  },
  {
   "cell_type": "code",
   "execution_count": null,
   "metadata": {},
   "outputs": [],
   "source": [
    "length(colnames(Vgat6_8_LS_int))"
   ]
  },
  {
   "cell_type": "code",
   "execution_count": null,
   "metadata": {},
   "outputs": [],
   "source": []
  },
  {
   "cell_type": "code",
   "execution_count": null,
   "metadata": {},
   "outputs": [],
   "source": []
  },
  {
   "cell_type": "code",
   "execution_count": null,
   "metadata": {},
   "outputs": [],
   "source": []
  },
  {
   "cell_type": "code",
   "execution_count": null,
   "metadata": {},
   "outputs": [],
   "source": []
  },
  {
   "cell_type": "code",
   "execution_count": null,
   "metadata": {},
   "outputs": [],
   "source": []
  },
  {
   "cell_type": "code",
   "execution_count": null,
   "metadata": {},
   "outputs": [],
   "source": []
  },
  {
   "cell_type": "code",
   "execution_count": null,
   "metadata": {},
   "outputs": [],
   "source": []
  },
  {
   "cell_type": "code",
   "execution_count": null,
   "metadata": {},
   "outputs": [],
   "source": []
  },
  {
   "cell_type": "code",
   "execution_count": null,
   "metadata": {},
   "outputs": [],
   "source": []
  },
  {
   "cell_type": "code",
   "execution_count": null,
   "metadata": {},
   "outputs": [],
   "source": []
  },
  {
   "cell_type": "code",
   "execution_count": null,
   "metadata": {},
   "outputs": [],
   "source": []
  },
  {
   "cell_type": "code",
   "execution_count": null,
   "metadata": {},
   "outputs": [],
   "source": []
  },
  {
   "cell_type": "code",
   "execution_count": null,
   "metadata": {},
   "outputs": [],
   "source": []
  },
  {
   "cell_type": "code",
   "execution_count": null,
   "metadata": {},
   "outputs": [],
   "source": []
  },
  {
   "cell_type": "markdown",
   "metadata": {},
   "source": [
    "## Prepping data for COMETSC"
   ]
  },
  {
   "cell_type": "code",
   "execution_count": null,
   "metadata": {},
   "outputs": [],
   "source": []
  },
  {
   "cell_type": "code",
   "execution_count": null,
   "metadata": {},
   "outputs": [],
   "source": [
    "#Extracting gene counts\n",
    "matrix_cometsc <- Seurat::GetAssayData(LS.integrated)\n",
    "write.table(as.matrix(matrix_cometsc), file= \"/Users/stuberadmin/Documents/scRNAseq/201130/Neurons_only_iter4/Neurons_only_iter4_retained/optimal_resolution/granular_resolution/neighbors_fix/COMETsc/LS_integrated_counts.txt\", row.names=TRUE, col.names=TRUE, sep = \"\\t\", quote = FALSE)"
   ]
  },
  {
   "cell_type": "code",
   "execution_count": null,
   "metadata": {},
   "outputs": [],
   "source": [
    "#To properly format the counts file for COMETsc, we need to add a tab to the document. Otherwise it will not be read by COMET\n",
    "#system(\"sed '1s/.*/\\t&/' LS_integrated_counts.txt > LS_integrated_counts_2.txt\") to add tab to the beginning of the text file"
   ]
  },
  {
   "cell_type": "code",
   "execution_count": null,
   "metadata": {},
   "outputs": [],
   "source": [
    "#The UMAP coordinates for each cell should also be extracted\n",
    "umap_cometsc <- Embeddings(LS.integrated, reduction = \"umap\")\n",
    "write.table(umap_cometsc, file=\"/Users/stuberadmin/Documents/scRNAseq/201130/Neurons_only_iter4/Neurons_only_iter4_retained/optimal_resolution/granular_resolution/neighbors_fix/COMETsc/LS_integrated_UMAP_coordinates.txt\", row.names=TRUE, col.names=FALSE, sep = \"\\t\", quote = FALSE)"
   ]
  },
  {
   "cell_type": "code",
   "execution_count": null,
   "metadata": {},
   "outputs": [],
   "source": [
    "#If the identities of the cells have been reassigned to cell types, they must be converted back to numbers, as COMET only accepts numbers for \"names\"\n",
    "new.ident <- c(\"0\",\"1\",\"2\",\"3\",\"4\",\"5\",\"6\",\"7\",\"8\",\"9\",\"10\",\"11\",\"12\",\"13\",\"14\",\"15\",\"16\",\"17\",\"18\",\"19\",\"20\")\n",
    "names(x = new.ident) <- levels(x =LS.integrated)\n",
    "LS.integrated<- RenameIdents(object =LS.integrated, new.ident)"
   ]
  },
  {
   "cell_type": "code",
   "execution_count": null,
   "metadata": {},
   "outputs": [],
   "source": [
    "colnames(LS.integrated@meta.data)\n",
    "cluster_cometsc <- noquote(as.matrix(Idents(LS.integrated))) # Get the active cluster identities. Should be numbers. COMET does not take Non-Number cluster names.\n",
    "write.table(cluster_cometsc, file = \"/Users/stuberadmin/Documents/scRNAseq/201130/Neurons_only_iter4/Neurons_only_iter4_retained/optimal_resolution/granular_resolution/neighbors_fix//COMETsc/LS_integrated_cluster_IDs.txt\", row.names=TRUE, col.names=FALSE, sep = \"\\t\", quote = FALSE)"
   ]
  },
  {
   "cell_type": "code",
   "execution_count": null,
   "metadata": {},
   "outputs": [],
   "source": []
  },
  {
   "cell_type": "code",
   "execution_count": null,
   "metadata": {},
   "outputs": [],
   "source": [
    "#Will also need to extract a list of relevant genes. Here, the top 2000 variable genes are exported to a .txt file\n",
    "LS.integrated <- FindVariableFeatures(LS.integrated, selection.method = \"vst\", nfeatures = 2000)"
   ]
  },
  {
   "cell_type": "code",
   "execution_count": null,
   "metadata": {},
   "outputs": [],
   "source": [
    "gene_cometsc <- VariableFeatures(LS.integrated)"
   ]
  },
  {
   "cell_type": "code",
   "execution_count": null,
   "metadata": {},
   "outputs": [],
   "source": [
    "write.table(gene_cometsc, file = \"/Users/stuberadmin/Documents/scRNAseq/201130/Neurons_only_iter4/Neurons_only_iter4_retained/optimal_resolution/granular_resolution/neighbors_fix/COMETsc/LS_integrated_variable_genes.txt\", col.names = FALSE, row.names = FALSE, quote = FALSE)"
   ]
  },
  {
   "cell_type": "code",
   "execution_count": null,
   "metadata": {},
   "outputs": [],
   "source": [
    "#COMETsc must be run in an environment that supports Python 3.6. Otherwise packages will not compile correctly"
   ]
  },
  {
   "cell_type": "code",
   "execution_count": null,
   "metadata": {},
   "outputs": [],
   "source": [
    "table(Idents(LS.integrated))"
   ]
  },
  {
   "cell_type": "markdown",
   "metadata": {},
   "source": [
    "# Redefining Cell identities"
   ]
  },
  {
   "cell_type": "markdown",
   "metadata": {},
   "source": [
    "## First removing undesirable cell clusters (from contamination)"
   ]
  },
  {
   "cell_type": "code",
   "execution_count": null,
   "metadata": {},
   "outputs": [],
   "source": [
    "cells <- c(Vgat8_barcode, Vgat12_barcode, Vgat13_barcode)"
   ]
  },
  {
   "cell_type": "code",
   "execution_count": null,
   "metadata": {},
   "outputs": [],
   "source": [
    "LS.integrated <- subset(LS.integrated, cells=cells, invert=TRUE)\n",
    "LS_sal <- subset(LS_sal, cells=cells, invert=TRUE)\n",
    "LS_mor <- subset(LS_mor, cells=cells, invert=TRUE)\n",
    "LS_nal <- subset(LS_nal, cells=cells, invert=TRUE)"
   ]
  },
  {
   "cell_type": "code",
   "execution_count": null,
   "metadata": {},
   "outputs": [],
   "source": [
    "table(Idents(LS.integrated))"
   ]
  },
  {
   "cell_type": "code",
   "execution_count": null,
   "metadata": {},
   "outputs": [],
   "source": [
    "saveRDS(LS.integrated, file=\"/Users/stuberadmin/Documents/scRNAseq/201130/Neurons_only_iter4/Neurons_only_iter4_retained/optimal_resolution/LS_integrated_renamed.rds\")"
   ]
  },
  {
   "cell_type": "code",
   "execution_count": null,
   "metadata": {},
   "outputs": [],
   "source": [
    "saveRDS(LS_sal, file=\"/Users/stuberadmin/Documents/scRNAseq/201130/Neurons_only_iter4/Neurons_only_iter4_retained/optimal_resolution/LS_sal_renamed.rds\")\n",
    "saveRDS(LS_mor, file=\"/Users/stuberadmin/Documents/scRNAseq/201130/Neurons_only_iter4/Neurons_only_iter4_retained/optimal_resolution/LS_mor_renamed.rds\")\n",
    "saveRDS(LS_nal, file=\"/Users/stuberadmin/Documents/scRNAseq/201130/Neurons_only_iter4/Neurons_only_iter4_retained/optimal_resolution/LS_nal_renamed.rds\")\n"
   ]
  },
  {
   "cell_type": "markdown",
   "metadata": {},
   "source": [
    "## Now merging and renaming certain clusters"
   ]
  },
  {
   "cell_type": "code",
   "execution_count": null,
   "metadata": {},
   "outputs": [],
   "source": [
    "new.ident <- c(\"Vgat1_LS\",\"Vgat2_LS\",\"Vgat3_LS\",\"Vgat4_SEP\",\"Vglu1_SEP\",\"Vgat5_MS\",\"Vgat6_LS\",\"Vgat7_MS\",\"Vgat6_LS\",\"Vgat8_LS\",\"Vgat2_LS\",\"Vglu2_LS\")\n",
    "names(x = new.ident) <- levels(x =LS.integrated)\n",
    "LS.integrated<- RenameIdents(object =LS.integrated, new.ident)"
   ]
  },
  {
   "cell_type": "code",
   "execution_count": null,
   "metadata": {},
   "outputs": [],
   "source": []
  },
  {
   "cell_type": "code",
   "execution_count": null,
   "metadata": {},
   "outputs": [],
   "source": [
    "help(DimPlot)"
   ]
  },
  {
   "cell_type": "code",
   "execution_count": null,
   "metadata": {},
   "outputs": [],
   "source": [
    "D <- DimPlot(object = LS.integrated, reduction = \"umap\", label = TRUE, repel = TRUE, label.size=4)\n",
    "D + theme_classic() + NoLegend()\n",
    "ggsave(file=\"/Users/stuberadmin/Documents/scRNAseq/201130/Neurons_only_iter4/Neurons_only_iter4_retained/optimal_resolution/Umap_name_reassigned.pdf\",width=5,height=5)\n",
    "ggsave(file=\"/Users/stuberadmin/Documents/scRNAseq/201130/Neurons_only_iter4/Neurons_only_iter4_retained/optimal_resolution/Umap_name_reassigned.svg\")"
   ]
  },
  {
   "cell_type": "code",
   "execution_count": null,
   "metadata": {},
   "outputs": [],
   "source": [
    "saveRDS(LS.integrated, file=\"/Users/stuberadmin/Documents/scRNAseq/201130/Neurons_only_iter4/Neurons_only_iter4_retained/optimal_resolution/LS_integrated_renamed.rds\")"
   ]
  },
  {
   "cell_type": "code",
   "execution_count": null,
   "metadata": {},
   "outputs": [],
   "source": [
    "saveRDS(LS_sal, file=\"/Users/stuberadmin/Documents/scRNAseq/201130/Neurons_only_iter4/Neurons_only_iter4_retained/optimal_resolution/LS_sal_renamed.rds\")\n",
    "saveRDS(LS_mor, file=\"/Users/stuberadmin/Documents/scRNAseq/201130/Neurons_only_iter4/Neurons_only_iter4_retained/optimal_resolution/LS_mor_renamed.rds\")\n",
    "saveRDS(LS_nal, file=\"/Users/stuberadmin/Documents/scRNAseq/201130/Neurons_only_iter4/Neurons_only_iter4_retained/optimal_resolution/LS_nal_renamed.rds\")\n"
   ]
  },
  {
   "cell_type": "code",
   "execution_count": null,
   "metadata": {},
   "outputs": [],
   "source": []
  },
  {
   "cell_type": "code",
   "execution_count": null,
   "metadata": {},
   "outputs": [],
   "source": []
  },
  {
   "cell_type": "code",
   "execution_count": null,
   "metadata": {},
   "outputs": [],
   "source": []
  },
  {
   "cell_type": "code",
   "execution_count": null,
   "metadata": {},
   "outputs": [],
   "source": [
    "extract_seurat_v4 <- function(seurat, out, project.name = NULL) {\n",
    "\n",
    "\tmessage(\"@ Seurat version is \", packageVersion(\"Seurat\"))\n",
    "\n",
    "\tmessage(\"@ extracting data...\")\n",
    "\t# get raw counts\n",
    "\tcounts <- GetAssayData(seurat, assay='SCT',slot='data')\n",
    "\n",
    "\t# get dim reductions\n",
    "\tseurat <- AddMetaData(seurat,\n",
    "\t\tmetadata = seurat@reductions$umap@cell.embeddings, col.name = c(\"UMAP_1\", \"UMAP_2\"))\n",
    "\tseurat <- AddMetaData(seurat,\n",
    "\t\tmetadata = seurat@reductions$pca@cell.embeddings, col.name = c(\"PC_1\", \"PC_2\"))\n",
    "\n",
    "\t# get active ident\n",
    "\tseurat[[\"active.ident\"]] <- Idents(object = seurat)\n",
    "\n",
    "\t# extract metadata\n",
    "\tmeta <- seurat@meta.data\n",
    "\n",
    "\t# get commands record\n",
    "\tcommands <- seurat@commands\n",
    "\n",
    "\t# assign a project name\n",
    "\tif (is.null(project.name)) project.name <- seurat@project.name\n",
    "\n",
    "\tmessage(\"@ saving data...\")\n",
    "\tsave(counts, meta, commands, project.name, file = out)\n",
    "\n",
    "\tmessage(\"@ done. Components written to \", out)\n",
    "\n",
    "}"
   ]
  },
  {
   "cell_type": "code",
   "execution_count": null,
   "metadata": {},
   "outputs": [],
   "source": [
    "extract_seurat_v4(LS.integrated, 'C:/Users/stuberadmin/Documents/scRNAseq/211119-RS-rv4/Neurons_only_iter2/LS_integrated_v3.rds', project.name='LS_morphine')"
   ]
  },
  {
   "cell_type": "code",
   "execution_count": null,
   "metadata": {},
   "outputs": [],
   "source": []
  },
  {
   "cell_type": "code",
   "execution_count": null,
   "metadata": {},
   "outputs": [],
   "source": []
  },
  {
   "cell_type": "code",
   "execution_count": null,
   "metadata": {},
   "outputs": [],
   "source": []
  },
  {
   "cell_type": "code",
   "execution_count": null,
   "metadata": {},
   "outputs": [],
   "source": []
  },
  {
   "cell_type": "code",
   "execution_count": null,
   "metadata": {},
   "outputs": [],
   "source": [
    "DotPlot(LS.integrated, feature='Oprm1')"
   ]
  },
  {
   "cell_type": "code",
   "execution_count": null,
   "metadata": {},
   "outputs": [],
   "source": [
    "DefaultAssay(LS.integrated)<-'RNA'"
   ]
  },
  {
   "cell_type": "code",
   "execution_count": null,
   "metadata": {},
   "outputs": [],
   "source": [
    "LS.integrated<-NormalizeData(LS.integrated)"
   ]
  },
  {
   "cell_type": "code",
   "execution_count": null,
   "metadata": {},
   "outputs": [],
   "source": [
    "Sod2_LS <- FetchData(LS.integrated, 'Sod2', slot='data')\n",
    "Sod2_mor_values <- Sod2_LS[which(rownames(Sod2_LS) %in% Glu2_barcode_LS_mor),]"
   ]
  },
  {
   "cell_type": "code",
   "execution_count": null,
   "metadata": {},
   "outputs": [],
   "source": [
    "Sod2_LS <- FetchData(LS.integrated, 'Sod2', slot='data')\n",
    "Sod2_nal_values <- Sod2_LS[which(rownames(Sod2_LS) %in% Glu2_barcode_LS_nal),]"
   ]
  },
  {
   "cell_type": "code",
   "execution_count": null,
   "metadata": {},
   "outputs": [],
   "source": [
    "Oprm1_LS <- FetchData(LS.integrated, 'Oprm1', slot='data')\n",
    "Oprm1_mor_values <- Oprm1_LS[which(rownames(Oprm1_LS) %in% Glu2_barcode_LS_mor),]"
   ]
  },
  {
   "cell_type": "code",
   "execution_count": null,
   "metadata": {},
   "outputs": [],
   "source": [
    "Oprm1_LS <- FetchData(LS.integrated, 'Oprm1', slot='data')\n",
    "Oprm1_nal_values <- Oprm1_LS[which(rownames(Oprm1_LS) %in% Glu2_barcode_LS_nal),]"
   ]
  },
  {
   "cell_type": "code",
   "execution_count": null,
   "metadata": {},
   "outputs": [],
   "source": []
  },
  {
   "cell_type": "code",
   "execution_count": null,
   "metadata": {},
   "outputs": [],
   "source": [
    "cor(Oprm1_mor_values, Sod2_mor_values)"
   ]
  },
  {
   "cell_type": "code",
   "execution_count": null,
   "metadata": {},
   "outputs": [],
   "source": []
  },
  {
   "cell_type": "code",
   "execution_count": null,
   "metadata": {},
   "outputs": [],
   "source": []
  },
  {
   "cell_type": "code",
   "execution_count": null,
   "metadata": {},
   "outputs": [],
   "source": [
    "Sod2_mor <- Sod2[grep(\"LS_mor\",Sod2)]\n",
    "Sod2_nal <- Sod2[grep(\"LS_nal$\",Sod2)]"
   ]
  },
  {
   "cell_type": "code",
   "execution_count": null,
   "metadata": {},
   "outputs": [],
   "source": []
  },
  {
   "cell_type": "markdown",
   "metadata": {},
   "source": [
    "### Congruency between seq and hcr datasets"
   ]
  },
  {
   "cell_type": "code",
   "execution_count": 83,
   "metadata": {},
   "outputs": [],
   "source": [
    "hcr.avg <- readRDS(file=\"C:/Users/stuberadmin/Documents/scRNAseq/HCR_seurat/LS_HCR_marker_expression_df.rds\")"
   ]
  },
  {
   "cell_type": "code",
   "execution_count": 84,
   "metadata": {},
   "outputs": [],
   "source": [
    "seq.avg <- DotPlot(LS.integrated, features=c('Col15a1','Met','Nts','Sst','Crhr2','Drd3','Esr1','Foxp2','Tacr1','Pax6','Drd2','Samd3','Onecut2','Slc32a1','Slc17a6'))$data"
   ]
  },
  {
   "cell_type": "code",
   "execution_count": 85,
   "metadata": {
    "scrolled": true
   },
   "outputs": [
    {
     "data": {
      "text/html": [
       "<table class=\"dataframe\">\n",
       "<caption>A data.frame: 210 × 5</caption>\n",
       "<thead>\n",
       "\t<tr><th></th><th scope=col>avg.exp</th><th scope=col>pct.exp</th><th scope=col>features.plot</th><th scope=col>id</th><th scope=col>avg.exp.scaled</th></tr>\n",
       "\t<tr><th></th><th scope=col>&lt;dbl&gt;</th><th scope=col>&lt;dbl&gt;</th><th scope=col>&lt;fct&gt;</th><th scope=col>&lt;fct&gt;</th><th scope=col>&lt;dbl&gt;</th></tr>\n",
       "</thead>\n",
       "<tbody>\n",
       "\t<tr><th scope=row>Col15a1</th><td>4.497402e+02</td><td>53.03726391</td><td>Col15a1</td><td>Sst</td><td>6.110891036</td></tr>\n",
       "\t<tr><th scope=row>Met</th><td>5.837171e+01</td><td>22.80598421</td><td>Met    </td><td>Sst</td><td>4.083817913</td></tr>\n",
       "\t<tr><th scope=row>Nts</th><td>1.300511e+02</td><td>34.30321593</td><td>Nts    </td><td>Sst</td><td>4.875586995</td></tr>\n",
       "\t<tr><th scope=row>Sst</th><td>5.827256e+02</td><td>99.68979464</td><td>Sst    </td><td>Sst</td><td>6.369431007</td></tr>\n",
       "\t<tr><th scope=row>Crhr2</th><td>1.204824e+02</td><td>29.22605725</td><td>Crhr2  </td><td>Sst</td><td>4.799769125</td></tr>\n",
       "\t<tr><th scope=row>Drd3</th><td>1.943907e+02</td><td>37.22857031</td><td>Drd3   </td><td>Sst</td><td>5.275001139</td></tr>\n",
       "\t<tr><th scope=row>Esr1</th><td>1.720706e-03</td><td> 0.00392665</td><td>Esr1   </td><td>Sst</td><td>0.001719227</td></tr>\n",
       "\t<tr><th scope=row>Foxp2</th><td>7.276940e-01</td><td> 0.39266502</td><td>Foxp2  </td><td>Sst</td><td>0.546787599</td></tr>\n",
       "\t<tr><th scope=row>Tacr1</th><td>1.201166e+00</td><td> 0.28271881</td><td>Tacr1  </td><td>Sst</td><td>0.788987171</td></tr>\n",
       "\t<tr><th scope=row>Pax6</th><td>4.740384e-02</td><td> 0.05104645</td><td>Pax6   </td><td>Sst</td><td>0.046314574</td></tr>\n",
       "\t<tr><th scope=row>Drd2</th><td>2.039424e+02</td><td>43.77429615</td><td>Drd2   </td><td>Sst</td><td>5.322729003</td></tr>\n",
       "\t<tr><th scope=row>Samd3</th><td>2.664802e+00</td><td> 1.44500726</td><td>Samd3  </td><td>Sst</td><td>1.298774188</td></tr>\n",
       "\t<tr><th scope=row>Onecut2</th><td>5.342888e+02</td><td>26.01013076</td><td>Onecut2</td><td>Sst</td><td>6.282806468</td></tr>\n",
       "\t<tr><th scope=row>Slc32a1</th><td>7.721351e+03</td><td>97.43197079</td><td>Slc32a1</td><td>Sst</td><td>8.951874151</td></tr>\n",
       "\t<tr><th scope=row>Slc17a6</th><td>1.322034e-02</td><td> 0.02355990</td><td>Slc17a6</td><td>Sst</td><td>0.013133710</td></tr>\n",
       "\t<tr><th scope=row>Col15a11</th><td>4.625335e+02</td><td>59.39937598</td><td>Col15a1</td><td>Met</td><td>6.138878762</td></tr>\n",
       "\t<tr><th scope=row>Met1</th><td>4.256443e+02</td><td>95.04680187</td><td>Met    </td><td>Met</td><td>6.055950696</td></tr>\n",
       "\t<tr><th scope=row>Nts1</th><td>9.573186e+01</td><td>30.32587970</td><td>Nts    </td><td>Met</td><td>4.571942866</td></tr>\n",
       "\t<tr><th scope=row>Sst1</th><td>3.420222e+00</td><td> 2.15808632</td><td>Sst    </td><td>Met</td><td>1.486190005</td></tr>\n",
       "\t<tr><th scope=row>Crhr21</th><td>8.815313e+01</td><td>26.77240423</td><td>Crhr2  </td><td>Met</td><td>4.490355406</td></tr>\n",
       "\t<tr><th scope=row>Drd31</th><td>1.109854e+02</td><td>26.78107124</td><td>Drd3   </td><td>Met</td><td>4.718368907</td></tr>\n",
       "\t<tr><th scope=row>Esr11</th><td>0.000000e+00</td><td> 0.00000000</td><td>Esr1   </td><td>Met</td><td>0.000000000</td></tr>\n",
       "\t<tr><th scope=row>Foxp21</th><td>3.151601e-01</td><td> 0.21667533</td><td>Foxp2  </td><td>Met</td><td>0.273958378</td></tr>\n",
       "\t<tr><th scope=row>Tacr11</th><td>5.743592e-01</td><td> 0.19934131</td><td>Tacr1  </td><td>Met</td><td>0.453848362</td></tr>\n",
       "\t<tr><th scope=row>Pax61</th><td>9.384699e-02</td><td> 0.10400416</td><td>Pax6   </td><td>Met</td><td>0.089700830</td></tr>\n",
       "\t<tr><th scope=row>Drd21</th><td>1.561899e+02</td><td>45.51482059</td><td>Drd2   </td><td>Met</td><td>5.057454873</td></tr>\n",
       "\t<tr><th scope=row>Samd31</th><td>2.757492e+00</td><td> 1.19171434</td><td>Samd3  </td><td>Met</td><td>1.323751738</td></tr>\n",
       "\t<tr><th scope=row>Onecut21</th><td>7.114553e+02</td><td>30.27387762</td><td>Onecut2</td><td>Met</td><td>6.568717113</td></tr>\n",
       "\t<tr><th scope=row>Slc32a11</th><td>7.942134e+03</td><td>98.04558849</td><td>Slc32a1</td><td>Met</td><td>8.980063132</td></tr>\n",
       "\t<tr><th scope=row>Slc17a61</th><td>1.185397e-02</td><td> 0.01733403</td><td>Slc17a6</td><td>Met</td><td>0.011784260</td></tr>\n",
       "\t<tr><th scope=row>...</th><td>...</td><td>...</td><td>...</td><td>...</td><td>...</td></tr>\n",
       "\t<tr><th scope=row>Col15a112</th><td>3.381685e+02</td><td> 53.87431361</td><td>Col15a1</td><td>Esr1   </td><td>5.82649699</td></tr>\n",
       "\t<tr><th scope=row>Met12</th><td>1.014949e+02</td><td> 33.06894448</td><td>Met    </td><td>Esr1   </td><td>4.62981331</td></tr>\n",
       "\t<tr><th scope=row>Nts12</th><td>1.037048e+02</td><td> 33.31299573</td><td>Nts    </td><td>Esr1   </td><td>4.65114540</td></tr>\n",
       "\t<tr><th scope=row>Sst12</th><td>4.772821e+01</td><td> 16.59548505</td><td>Sst    </td><td>Esr1   </td><td>3.88625822</td></tr>\n",
       "\t<tr><th scope=row>Crhr212</th><td>6.673932e+01</td><td> 20.86638194</td><td>Crhr2  </td><td>Esr1   </td><td>4.21566684</td></tr>\n",
       "\t<tr><th scope=row>Drd312</th><td>1.049722e+02</td><td> 30.71995119</td><td>Drd3   </td><td>Esr1   </td><td>4.66317718</td></tr>\n",
       "\t<tr><th scope=row>Esr112</th><td>4.446076e+02</td><td>100.00000000</td><td>Esr1   </td><td>Esr1   </td><td>6.09943876</td></tr>\n",
       "\t<tr><th scope=row>Foxp212</th><td>3.974919e+01</td><td> 11.53142160</td><td>Foxp2  </td><td>Esr1   </td><td>3.70743595</td></tr>\n",
       "\t<tr><th scope=row>Tacr112</th><td>2.368559e+01</td><td>  7.41305674</td><td>Tacr1  </td><td>Esr1   </td><td>3.20621961</td></tr>\n",
       "\t<tr><th scope=row>Pax612</th><td>3.505173e+01</td><td>  8.26723612</td><td>Pax6   </td><td>Esr1   </td><td>3.58495495</td></tr>\n",
       "\t<tr><th scope=row>Drd212</th><td>1.082582e+02</td><td> 39.32275778</td><td>Drd2   </td><td>Esr1   </td><td>4.69371416</td></tr>\n",
       "\t<tr><th scope=row>Samd312</th><td>6.387712e+01</td><td>  9.82306284</td><td>Samd3  </td><td>Esr1   </td><td>4.17249509</td></tr>\n",
       "\t<tr><th scope=row>Onecut212</th><td>1.151766e+03</td><td> 42.64795607</td><td>Onecut2</td><td>Esr1   </td><td>7.04991982</td></tr>\n",
       "\t<tr><th scope=row>Slc32a112</th><td>7.352392e+03</td><td> 96.40024405</td><td>Slc32a1</td><td>Esr1   </td><td>8.90291697</td></tr>\n",
       "\t<tr><th scope=row>Slc17a612</th><td>1.780429e+01</td><td>  6.68090299</td><td>Slc17a6</td><td>Esr1   </td><td>2.93408485</td></tr>\n",
       "\t<tr><th scope=row>Col15a113</th><td>1.534072e+02</td><td> 40.23245418</td><td>Col15a1</td><td>Onecut2</td><td>5.03959309</td></tr>\n",
       "\t<tr><th scope=row>Met13</th><td>4.049257e+00</td><td>  5.99016540</td><td>Met    </td><td>Onecut2</td><td>1.61924107</td></tr>\n",
       "\t<tr><th scope=row>Nts13</th><td>5.572697e+00</td><td>  7.24184175</td><td>Nts    </td><td>Onecut2</td><td>1.88292426</td></tr>\n",
       "\t<tr><th scope=row>Sst13</th><td>2.949752e+00</td><td>  3.93383996</td><td>Sst    </td><td>Onecut2</td><td>1.37365271</td></tr>\n",
       "\t<tr><th scope=row>Crhr213</th><td>3.739706e+00</td><td>  5.40902995</td><td>Crhr2  </td><td>Onecut2</td><td>1.55597511</td></tr>\n",
       "\t<tr><th scope=row>Drd313</th><td>6.066656e+00</td><td>  7.37594993</td><td>Drd3   </td><td>Onecut2</td><td>1.95538732</td></tr>\n",
       "\t<tr><th scope=row>Esr113</th><td>5.604269e-02</td><td>  0.13410818</td><td>Esr1   </td><td>Onecut2</td><td>0.05452861</td></tr>\n",
       "\t<tr><th scope=row>Foxp213</th><td>5.259040e-01</td><td>  0.84935181</td><td>Foxp2  </td><td>Onecut2</td><td>0.42258702</td></tr>\n",
       "\t<tr><th scope=row>Tacr113</th><td>1.201454e-01</td><td>  0.22351363</td><td>Tacr1  </td><td>Onecut2</td><td>0.11345852</td></tr>\n",
       "\t<tr><th scope=row>Pax613</th><td>1.821655e-01</td><td>  0.40232454</td><td>Pax6   </td><td>Onecut2</td><td>0.16734790</td></tr>\n",
       "\t<tr><th scope=row>Drd213</th><td>6.427225e+00</td><td>  8.04649084</td><td>Drd2   </td><td>Onecut2</td><td>2.00515229</td></tr>\n",
       "\t<tr><th scope=row>Samd313</th><td>1.201680e+00</td><td>  1.43048726</td><td>Samd3  </td><td>Onecut2</td><td>0.78922056</td></tr>\n",
       "\t<tr><th scope=row>Onecut213</th><td>8.056587e+03</td><td>100.00000000</td><td>Onecut2</td><td>Onecut2</td><td>8.99436943</td></tr>\n",
       "\t<tr><th scope=row>Slc32a113</th><td>1.759097e+03</td><td> 94.41215914</td><td>Slc32a1</td><td>Onecut2</td><td>7.47312428</td></tr>\n",
       "\t<tr><th scope=row>Slc17a613</th><td>1.733784e-02</td><td>  0.04470273</td><td>Slc17a6</td><td>Onecut2</td><td>0.01718925</td></tr>\n",
       "</tbody>\n",
       "</table>\n"
      ],
      "text/latex": [
       "A data.frame: 210 × 5\n",
       "\\begin{tabular}{r|lllll}\n",
       "  & avg.exp & pct.exp & features.plot & id & avg.exp.scaled\\\\\n",
       "  & <dbl> & <dbl> & <fct> & <fct> & <dbl>\\\\\n",
       "\\hline\n",
       "\tCol15a1 & 4.497402e+02 & 53.03726391 & Col15a1 & Sst & 6.110891036\\\\\n",
       "\tMet & 5.837171e+01 & 22.80598421 & Met     & Sst & 4.083817913\\\\\n",
       "\tNts & 1.300511e+02 & 34.30321593 & Nts     & Sst & 4.875586995\\\\\n",
       "\tSst & 5.827256e+02 & 99.68979464 & Sst     & Sst & 6.369431007\\\\\n",
       "\tCrhr2 & 1.204824e+02 & 29.22605725 & Crhr2   & Sst & 4.799769125\\\\\n",
       "\tDrd3 & 1.943907e+02 & 37.22857031 & Drd3    & Sst & 5.275001139\\\\\n",
       "\tEsr1 & 1.720706e-03 &  0.00392665 & Esr1    & Sst & 0.001719227\\\\\n",
       "\tFoxp2 & 7.276940e-01 &  0.39266502 & Foxp2   & Sst & 0.546787599\\\\\n",
       "\tTacr1 & 1.201166e+00 &  0.28271881 & Tacr1   & Sst & 0.788987171\\\\\n",
       "\tPax6 & 4.740384e-02 &  0.05104645 & Pax6    & Sst & 0.046314574\\\\\n",
       "\tDrd2 & 2.039424e+02 & 43.77429615 & Drd2    & Sst & 5.322729003\\\\\n",
       "\tSamd3 & 2.664802e+00 &  1.44500726 & Samd3   & Sst & 1.298774188\\\\\n",
       "\tOnecut2 & 5.342888e+02 & 26.01013076 & Onecut2 & Sst & 6.282806468\\\\\n",
       "\tSlc32a1 & 7.721351e+03 & 97.43197079 & Slc32a1 & Sst & 8.951874151\\\\\n",
       "\tSlc17a6 & 1.322034e-02 &  0.02355990 & Slc17a6 & Sst & 0.013133710\\\\\n",
       "\tCol15a11 & 4.625335e+02 & 59.39937598 & Col15a1 & Met & 6.138878762\\\\\n",
       "\tMet1 & 4.256443e+02 & 95.04680187 & Met     & Met & 6.055950696\\\\\n",
       "\tNts1 & 9.573186e+01 & 30.32587970 & Nts     & Met & 4.571942866\\\\\n",
       "\tSst1 & 3.420222e+00 &  2.15808632 & Sst     & Met & 1.486190005\\\\\n",
       "\tCrhr21 & 8.815313e+01 & 26.77240423 & Crhr2   & Met & 4.490355406\\\\\n",
       "\tDrd31 & 1.109854e+02 & 26.78107124 & Drd3    & Met & 4.718368907\\\\\n",
       "\tEsr11 & 0.000000e+00 &  0.00000000 & Esr1    & Met & 0.000000000\\\\\n",
       "\tFoxp21 & 3.151601e-01 &  0.21667533 & Foxp2   & Met & 0.273958378\\\\\n",
       "\tTacr11 & 5.743592e-01 &  0.19934131 & Tacr1   & Met & 0.453848362\\\\\n",
       "\tPax61 & 9.384699e-02 &  0.10400416 & Pax6    & Met & 0.089700830\\\\\n",
       "\tDrd21 & 1.561899e+02 & 45.51482059 & Drd2    & Met & 5.057454873\\\\\n",
       "\tSamd31 & 2.757492e+00 &  1.19171434 & Samd3   & Met & 1.323751738\\\\\n",
       "\tOnecut21 & 7.114553e+02 & 30.27387762 & Onecut2 & Met & 6.568717113\\\\\n",
       "\tSlc32a11 & 7.942134e+03 & 98.04558849 & Slc32a1 & Met & 8.980063132\\\\\n",
       "\tSlc17a61 & 1.185397e-02 &  0.01733403 & Slc17a6 & Met & 0.011784260\\\\\n",
       "\t... & ... & ... & ... & ... & ...\\\\\n",
       "\tCol15a112 & 3.381685e+02 &  53.87431361 & Col15a1 & Esr1    & 5.82649699\\\\\n",
       "\tMet12 & 1.014949e+02 &  33.06894448 & Met     & Esr1    & 4.62981331\\\\\n",
       "\tNts12 & 1.037048e+02 &  33.31299573 & Nts     & Esr1    & 4.65114540\\\\\n",
       "\tSst12 & 4.772821e+01 &  16.59548505 & Sst     & Esr1    & 3.88625822\\\\\n",
       "\tCrhr212 & 6.673932e+01 &  20.86638194 & Crhr2   & Esr1    & 4.21566684\\\\\n",
       "\tDrd312 & 1.049722e+02 &  30.71995119 & Drd3    & Esr1    & 4.66317718\\\\\n",
       "\tEsr112 & 4.446076e+02 & 100.00000000 & Esr1    & Esr1    & 6.09943876\\\\\n",
       "\tFoxp212 & 3.974919e+01 &  11.53142160 & Foxp2   & Esr1    & 3.70743595\\\\\n",
       "\tTacr112 & 2.368559e+01 &   7.41305674 & Tacr1   & Esr1    & 3.20621961\\\\\n",
       "\tPax612 & 3.505173e+01 &   8.26723612 & Pax6    & Esr1    & 3.58495495\\\\\n",
       "\tDrd212 & 1.082582e+02 &  39.32275778 & Drd2    & Esr1    & 4.69371416\\\\\n",
       "\tSamd312 & 6.387712e+01 &   9.82306284 & Samd3   & Esr1    & 4.17249509\\\\\n",
       "\tOnecut212 & 1.151766e+03 &  42.64795607 & Onecut2 & Esr1    & 7.04991982\\\\\n",
       "\tSlc32a112 & 7.352392e+03 &  96.40024405 & Slc32a1 & Esr1    & 8.90291697\\\\\n",
       "\tSlc17a612 & 1.780429e+01 &   6.68090299 & Slc17a6 & Esr1    & 2.93408485\\\\\n",
       "\tCol15a113 & 1.534072e+02 &  40.23245418 & Col15a1 & Onecut2 & 5.03959309\\\\\n",
       "\tMet13 & 4.049257e+00 &   5.99016540 & Met     & Onecut2 & 1.61924107\\\\\n",
       "\tNts13 & 5.572697e+00 &   7.24184175 & Nts     & Onecut2 & 1.88292426\\\\\n",
       "\tSst13 & 2.949752e+00 &   3.93383996 & Sst     & Onecut2 & 1.37365271\\\\\n",
       "\tCrhr213 & 3.739706e+00 &   5.40902995 & Crhr2   & Onecut2 & 1.55597511\\\\\n",
       "\tDrd313 & 6.066656e+00 &   7.37594993 & Drd3    & Onecut2 & 1.95538732\\\\\n",
       "\tEsr113 & 5.604269e-02 &   0.13410818 & Esr1    & Onecut2 & 0.05452861\\\\\n",
       "\tFoxp213 & 5.259040e-01 &   0.84935181 & Foxp2   & Onecut2 & 0.42258702\\\\\n",
       "\tTacr113 & 1.201454e-01 &   0.22351363 & Tacr1   & Onecut2 & 0.11345852\\\\\n",
       "\tPax613 & 1.821655e-01 &   0.40232454 & Pax6    & Onecut2 & 0.16734790\\\\\n",
       "\tDrd213 & 6.427225e+00 &   8.04649084 & Drd2    & Onecut2 & 2.00515229\\\\\n",
       "\tSamd313 & 1.201680e+00 &   1.43048726 & Samd3   & Onecut2 & 0.78922056\\\\\n",
       "\tOnecut213 & 8.056587e+03 & 100.00000000 & Onecut2 & Onecut2 & 8.99436943\\\\\n",
       "\tSlc32a113 & 1.759097e+03 &  94.41215914 & Slc32a1 & Onecut2 & 7.47312428\\\\\n",
       "\tSlc17a613 & 1.733784e-02 &   0.04470273 & Slc17a6 & Onecut2 & 0.01718925\\\\\n",
       "\\end{tabular}\n"
      ],
      "text/markdown": [
       "\n",
       "A data.frame: 210 × 5\n",
       "\n",
       "| <!--/--> | avg.exp &lt;dbl&gt; | pct.exp &lt;dbl&gt; | features.plot &lt;fct&gt; | id &lt;fct&gt; | avg.exp.scaled &lt;dbl&gt; |\n",
       "|---|---|---|---|---|---|\n",
       "| Col15a1 | 4.497402e+02 | 53.03726391 | Col15a1 | Sst | 6.110891036 |\n",
       "| Met | 5.837171e+01 | 22.80598421 | Met     | Sst | 4.083817913 |\n",
       "| Nts | 1.300511e+02 | 34.30321593 | Nts     | Sst | 4.875586995 |\n",
       "| Sst | 5.827256e+02 | 99.68979464 | Sst     | Sst | 6.369431007 |\n",
       "| Crhr2 | 1.204824e+02 | 29.22605725 | Crhr2   | Sst | 4.799769125 |\n",
       "| Drd3 | 1.943907e+02 | 37.22857031 | Drd3    | Sst | 5.275001139 |\n",
       "| Esr1 | 1.720706e-03 |  0.00392665 | Esr1    | Sst | 0.001719227 |\n",
       "| Foxp2 | 7.276940e-01 |  0.39266502 | Foxp2   | Sst | 0.546787599 |\n",
       "| Tacr1 | 1.201166e+00 |  0.28271881 | Tacr1   | Sst | 0.788987171 |\n",
       "| Pax6 | 4.740384e-02 |  0.05104645 | Pax6    | Sst | 0.046314574 |\n",
       "| Drd2 | 2.039424e+02 | 43.77429615 | Drd2    | Sst | 5.322729003 |\n",
       "| Samd3 | 2.664802e+00 |  1.44500726 | Samd3   | Sst | 1.298774188 |\n",
       "| Onecut2 | 5.342888e+02 | 26.01013076 | Onecut2 | Sst | 6.282806468 |\n",
       "| Slc32a1 | 7.721351e+03 | 97.43197079 | Slc32a1 | Sst | 8.951874151 |\n",
       "| Slc17a6 | 1.322034e-02 |  0.02355990 | Slc17a6 | Sst | 0.013133710 |\n",
       "| Col15a11 | 4.625335e+02 | 59.39937598 | Col15a1 | Met | 6.138878762 |\n",
       "| Met1 | 4.256443e+02 | 95.04680187 | Met     | Met | 6.055950696 |\n",
       "| Nts1 | 9.573186e+01 | 30.32587970 | Nts     | Met | 4.571942866 |\n",
       "| Sst1 | 3.420222e+00 |  2.15808632 | Sst     | Met | 1.486190005 |\n",
       "| Crhr21 | 8.815313e+01 | 26.77240423 | Crhr2   | Met | 4.490355406 |\n",
       "| Drd31 | 1.109854e+02 | 26.78107124 | Drd3    | Met | 4.718368907 |\n",
       "| Esr11 | 0.000000e+00 |  0.00000000 | Esr1    | Met | 0.000000000 |\n",
       "| Foxp21 | 3.151601e-01 |  0.21667533 | Foxp2   | Met | 0.273958378 |\n",
       "| Tacr11 | 5.743592e-01 |  0.19934131 | Tacr1   | Met | 0.453848362 |\n",
       "| Pax61 | 9.384699e-02 |  0.10400416 | Pax6    | Met | 0.089700830 |\n",
       "| Drd21 | 1.561899e+02 | 45.51482059 | Drd2    | Met | 5.057454873 |\n",
       "| Samd31 | 2.757492e+00 |  1.19171434 | Samd3   | Met | 1.323751738 |\n",
       "| Onecut21 | 7.114553e+02 | 30.27387762 | Onecut2 | Met | 6.568717113 |\n",
       "| Slc32a11 | 7.942134e+03 | 98.04558849 | Slc32a1 | Met | 8.980063132 |\n",
       "| Slc17a61 | 1.185397e-02 |  0.01733403 | Slc17a6 | Met | 0.011784260 |\n",
       "| ... | ... | ... | ... | ... | ... |\n",
       "| Col15a112 | 3.381685e+02 |  53.87431361 | Col15a1 | Esr1    | 5.82649699 |\n",
       "| Met12 | 1.014949e+02 |  33.06894448 | Met     | Esr1    | 4.62981331 |\n",
       "| Nts12 | 1.037048e+02 |  33.31299573 | Nts     | Esr1    | 4.65114540 |\n",
       "| Sst12 | 4.772821e+01 |  16.59548505 | Sst     | Esr1    | 3.88625822 |\n",
       "| Crhr212 | 6.673932e+01 |  20.86638194 | Crhr2   | Esr1    | 4.21566684 |\n",
       "| Drd312 | 1.049722e+02 |  30.71995119 | Drd3    | Esr1    | 4.66317718 |\n",
       "| Esr112 | 4.446076e+02 | 100.00000000 | Esr1    | Esr1    | 6.09943876 |\n",
       "| Foxp212 | 3.974919e+01 |  11.53142160 | Foxp2   | Esr1    | 3.70743595 |\n",
       "| Tacr112 | 2.368559e+01 |   7.41305674 | Tacr1   | Esr1    | 3.20621961 |\n",
       "| Pax612 | 3.505173e+01 |   8.26723612 | Pax6    | Esr1    | 3.58495495 |\n",
       "| Drd212 | 1.082582e+02 |  39.32275778 | Drd2    | Esr1    | 4.69371416 |\n",
       "| Samd312 | 6.387712e+01 |   9.82306284 | Samd3   | Esr1    | 4.17249509 |\n",
       "| Onecut212 | 1.151766e+03 |  42.64795607 | Onecut2 | Esr1    | 7.04991982 |\n",
       "| Slc32a112 | 7.352392e+03 |  96.40024405 | Slc32a1 | Esr1    | 8.90291697 |\n",
       "| Slc17a612 | 1.780429e+01 |   6.68090299 | Slc17a6 | Esr1    | 2.93408485 |\n",
       "| Col15a113 | 1.534072e+02 |  40.23245418 | Col15a1 | Onecut2 | 5.03959309 |\n",
       "| Met13 | 4.049257e+00 |   5.99016540 | Met     | Onecut2 | 1.61924107 |\n",
       "| Nts13 | 5.572697e+00 |   7.24184175 | Nts     | Onecut2 | 1.88292426 |\n",
       "| Sst13 | 2.949752e+00 |   3.93383996 | Sst     | Onecut2 | 1.37365271 |\n",
       "| Crhr213 | 3.739706e+00 |   5.40902995 | Crhr2   | Onecut2 | 1.55597511 |\n",
       "| Drd313 | 6.066656e+00 |   7.37594993 | Drd3    | Onecut2 | 1.95538732 |\n",
       "| Esr113 | 5.604269e-02 |   0.13410818 | Esr1    | Onecut2 | 0.05452861 |\n",
       "| Foxp213 | 5.259040e-01 |   0.84935181 | Foxp2   | Onecut2 | 0.42258702 |\n",
       "| Tacr113 | 1.201454e-01 |   0.22351363 | Tacr1   | Onecut2 | 0.11345852 |\n",
       "| Pax613 | 1.821655e-01 |   0.40232454 | Pax6    | Onecut2 | 0.16734790 |\n",
       "| Drd213 | 6.427225e+00 |   8.04649084 | Drd2    | Onecut2 | 2.00515229 |\n",
       "| Samd313 | 1.201680e+00 |   1.43048726 | Samd3   | Onecut2 | 0.78922056 |\n",
       "| Onecut213 | 8.056587e+03 | 100.00000000 | Onecut2 | Onecut2 | 8.99436943 |\n",
       "| Slc32a113 | 1.759097e+03 |  94.41215914 | Slc32a1 | Onecut2 | 7.47312428 |\n",
       "| Slc17a613 | 1.733784e-02 |   0.04470273 | Slc17a6 | Onecut2 | 0.01718925 |\n",
       "\n"
      ],
      "text/plain": [
       "          avg.exp      pct.exp      features.plot id      avg.exp.scaled\n",
       "Col15a1   4.497402e+02 53.03726391  Col15a1       Sst     6.110891036   \n",
       "Met       5.837171e+01 22.80598421  Met           Sst     4.083817913   \n",
       "Nts       1.300511e+02 34.30321593  Nts           Sst     4.875586995   \n",
       "Sst       5.827256e+02 99.68979464  Sst           Sst     6.369431007   \n",
       "Crhr2     1.204824e+02 29.22605725  Crhr2         Sst     4.799769125   \n",
       "Drd3      1.943907e+02 37.22857031  Drd3          Sst     5.275001139   \n",
       "Esr1      1.720706e-03  0.00392665  Esr1          Sst     0.001719227   \n",
       "Foxp2     7.276940e-01  0.39266502  Foxp2         Sst     0.546787599   \n",
       "Tacr1     1.201166e+00  0.28271881  Tacr1         Sst     0.788987171   \n",
       "Pax6      4.740384e-02  0.05104645  Pax6          Sst     0.046314574   \n",
       "Drd2      2.039424e+02 43.77429615  Drd2          Sst     5.322729003   \n",
       "Samd3     2.664802e+00  1.44500726  Samd3         Sst     1.298774188   \n",
       "Onecut2   5.342888e+02 26.01013076  Onecut2       Sst     6.282806468   \n",
       "Slc32a1   7.721351e+03 97.43197079  Slc32a1       Sst     8.951874151   \n",
       "Slc17a6   1.322034e-02  0.02355990  Slc17a6       Sst     0.013133710   \n",
       "Col15a11  4.625335e+02 59.39937598  Col15a1       Met     6.138878762   \n",
       "Met1      4.256443e+02 95.04680187  Met           Met     6.055950696   \n",
       "Nts1      9.573186e+01 30.32587970  Nts           Met     4.571942866   \n",
       "Sst1      3.420222e+00  2.15808632  Sst           Met     1.486190005   \n",
       "Crhr21    8.815313e+01 26.77240423  Crhr2         Met     4.490355406   \n",
       "Drd31     1.109854e+02 26.78107124  Drd3          Met     4.718368907   \n",
       "Esr11     0.000000e+00  0.00000000  Esr1          Met     0.000000000   \n",
       "Foxp21    3.151601e-01  0.21667533  Foxp2         Met     0.273958378   \n",
       "Tacr11    5.743592e-01  0.19934131  Tacr1         Met     0.453848362   \n",
       "Pax61     9.384699e-02  0.10400416  Pax6          Met     0.089700830   \n",
       "Drd21     1.561899e+02 45.51482059  Drd2          Met     5.057454873   \n",
       "Samd31    2.757492e+00  1.19171434  Samd3         Met     1.323751738   \n",
       "Onecut21  7.114553e+02 30.27387762  Onecut2       Met     6.568717113   \n",
       "Slc32a11  7.942134e+03 98.04558849  Slc32a1       Met     8.980063132   \n",
       "Slc17a61  1.185397e-02  0.01733403  Slc17a6       Met     0.011784260   \n",
       "...       ...          ...          ...           ...     ...           \n",
       "Col15a112 3.381685e+02  53.87431361 Col15a1       Esr1    5.82649699    \n",
       "Met12     1.014949e+02  33.06894448 Met           Esr1    4.62981331    \n",
       "Nts12     1.037048e+02  33.31299573 Nts           Esr1    4.65114540    \n",
       "Sst12     4.772821e+01  16.59548505 Sst           Esr1    3.88625822    \n",
       "Crhr212   6.673932e+01  20.86638194 Crhr2         Esr1    4.21566684    \n",
       "Drd312    1.049722e+02  30.71995119 Drd3          Esr1    4.66317718    \n",
       "Esr112    4.446076e+02 100.00000000 Esr1          Esr1    6.09943876    \n",
       "Foxp212   3.974919e+01  11.53142160 Foxp2         Esr1    3.70743595    \n",
       "Tacr112   2.368559e+01   7.41305674 Tacr1         Esr1    3.20621961    \n",
       "Pax612    3.505173e+01   8.26723612 Pax6          Esr1    3.58495495    \n",
       "Drd212    1.082582e+02  39.32275778 Drd2          Esr1    4.69371416    \n",
       "Samd312   6.387712e+01   9.82306284 Samd3         Esr1    4.17249509    \n",
       "Onecut212 1.151766e+03  42.64795607 Onecut2       Esr1    7.04991982    \n",
       "Slc32a112 7.352392e+03  96.40024405 Slc32a1       Esr1    8.90291697    \n",
       "Slc17a612 1.780429e+01   6.68090299 Slc17a6       Esr1    2.93408485    \n",
       "Col15a113 1.534072e+02  40.23245418 Col15a1       Onecut2 5.03959309    \n",
       "Met13     4.049257e+00   5.99016540 Met           Onecut2 1.61924107    \n",
       "Nts13     5.572697e+00   7.24184175 Nts           Onecut2 1.88292426    \n",
       "Sst13     2.949752e+00   3.93383996 Sst           Onecut2 1.37365271    \n",
       "Crhr213   3.739706e+00   5.40902995 Crhr2         Onecut2 1.55597511    \n",
       "Drd313    6.066656e+00   7.37594993 Drd3          Onecut2 1.95538732    \n",
       "Esr113    5.604269e-02   0.13410818 Esr1          Onecut2 0.05452861    \n",
       "Foxp213   5.259040e-01   0.84935181 Foxp2         Onecut2 0.42258702    \n",
       "Tacr113   1.201454e-01   0.22351363 Tacr1         Onecut2 0.11345852    \n",
       "Pax613    1.821655e-01   0.40232454 Pax6          Onecut2 0.16734790    \n",
       "Drd213    6.427225e+00   8.04649084 Drd2          Onecut2 2.00515229    \n",
       "Samd313   1.201680e+00   1.43048726 Samd3         Onecut2 0.78922056    \n",
       "Onecut213 8.056587e+03 100.00000000 Onecut2       Onecut2 8.99436943    \n",
       "Slc32a113 1.759097e+03  94.41215914 Slc32a1       Onecut2 7.47312428    \n",
       "Slc17a613 1.733784e-02   0.04470273 Slc17a6       Onecut2 0.01718925    "
      ]
     },
     "metadata": {},
     "output_type": "display_data"
    }
   ],
   "source": [
    "hcr.avg"
   ]
  },
  {
   "cell_type": "code",
   "execution_count": 86,
   "metadata": {
    "scrolled": true
   },
   "outputs": [
    {
     "data": {
      "text/html": [
       "<table class=\"dataframe\">\n",
       "<caption>A data.frame: 210 × 5</caption>\n",
       "<thead>\n",
       "\t<tr><th></th><th scope=col>avg.exp</th><th scope=col>pct.exp</th><th scope=col>features.plot</th><th scope=col>id</th><th scope=col>avg.exp.scaled</th></tr>\n",
       "\t<tr><th></th><th scope=col>&lt;dbl&gt;</th><th scope=col>&lt;dbl&gt;</th><th scope=col>&lt;fct&gt;</th><th scope=col>&lt;fct&gt;</th><th scope=col>&lt;dbl&gt;</th></tr>\n",
       "</thead>\n",
       "<tbody>\n",
       "\t<tr><th scope=row>Col15a1</th><td>0.996368292</td><td>43.0217670</td><td>Col15a1</td><td>Gaba1</td><td> 2.5000000</td></tr>\n",
       "\t<tr><th scope=row>Met</th><td>0.541850316</td><td>23.7516005</td><td>Met    </td><td>Gaba1</td><td> 1.3787352</td></tr>\n",
       "\t<tr><th scope=row>Nts</th><td>0.175762728</td><td> 7.3943662</td><td>Nts    </td><td>Gaba1</td><td>-0.3533082</td></tr>\n",
       "\t<tr><th scope=row>Sst</th><td>0.648736857</td><td>24.2317542</td><td>Sst    </td><td>Gaba1</td><td>-0.1014496</td></tr>\n",
       "\t<tr><th scope=row>Crhr2</th><td>0.064994983</td><td> 3.2650448</td><td>Crhr2  </td><td>Gaba1</td><td>-0.3831107</td></tr>\n",
       "\t<tr><th scope=row>Drd3</th><td>0.018515661</td><td> 0.8962868</td><td>Drd3   </td><td>Gaba1</td><td>-0.5523265</td></tr>\n",
       "\t<tr><th scope=row>Esr1</th><td>0.080006455</td><td> 4.8015365</td><td>Esr1   </td><td>Gaba1</td><td>-0.4628544</td></tr>\n",
       "\t<tr><th scope=row>Foxp2</th><td>0.200010633</td><td> 7.7144686</td><td>Foxp2  </td><td>Gaba1</td><td>-0.4195472</td></tr>\n",
       "\t<tr><th scope=row>Tacr1</th><td>0.102983469</td><td> 5.8898848</td><td>Tacr1  </td><td>Gaba1</td><td>-0.0134882</td></tr>\n",
       "\t<tr><th scope=row>Pax6</th><td>0.021906317</td><td> 1.2804097</td><td>Pax6   </td><td>Gaba1</td><td>-0.3032590</td></tr>\n",
       "\t<tr><th scope=row>Drd2</th><td>0.458284007</td><td>23.5595391</td><td>Drd2   </td><td>Gaba1</td><td> 1.2900561</td></tr>\n",
       "\t<tr><th scope=row>Samd3</th><td>0.004190527</td><td> 0.2880922</td><td>Samd3  </td><td>Gaba1</td><td>-0.2765219</td></tr>\n",
       "\t<tr><th scope=row>Onecut2</th><td>0.015015598</td><td> 0.9282971</td><td>Onecut2</td><td>Gaba1</td><td>-0.3917906</td></tr>\n",
       "\t<tr><th scope=row>Slc32a1</th><td>1.181653225</td><td>48.6555698</td><td>Slc32a1</td><td>Gaba1</td><td> 0.2993305</td></tr>\n",
       "\t<tr><th scope=row>Slc17a6</th><td>0.008670513</td><td> 0.5441741</td><td>Slc17a6</td><td>Gaba1</td><td>-0.4089912</td></tr>\n",
       "\t<tr><th scope=row>Col15a11</th><td>0.021656412</td><td> 1.3181985</td><td>Col15a1</td><td>Gaba2</td><td>-0.5553861</td></tr>\n",
       "\t<tr><th scope=row>Met1</th><td>0.022888889</td><td> 1.4646650</td><td>Met    </td><td>Gaba2</td><td>-0.5447554</td></tr>\n",
       "\t<tr><th scope=row>Nts1</th><td>0.149187020</td><td> 6.2614427</td><td>Nts    </td><td>Gaba2</td><td>-0.3818691</td></tr>\n",
       "\t<tr><th scope=row>Sst1</th><td>0.503025709</td><td>16.6605639</td><td>Sst    </td><td>Gaba2</td><td>-0.2669475</td></tr>\n",
       "\t<tr><th scope=row>Crhr21</th><td>0.076562015</td><td> 4.2475284</td><td>Crhr2  </td><td>Gaba2</td><td>-0.3324634</td></tr>\n",
       "\t<tr><th scope=row>Drd31</th><td>0.684828297</td><td>20.1025265</td><td>Drd3   </td><td>Gaba2</td><td> 2.5000000</td></tr>\n",
       "\t<tr><th scope=row>Esr11</th><td>0.116423275</td><td> 6.3346759</td><td>Esr1   </td><td>Gaba2</td><td>-0.3025671</td></tr>\n",
       "\t<tr><th scope=row>Foxp21</th><td>0.379084410</td><td>11.6807030</td><td>Foxp2  </td><td>Gaba2</td><td>-0.3779629</td></tr>\n",
       "\t<tr><th scope=row>Tacr11</th><td>0.035262437</td><td> 2.0139143</td><td>Tacr1  </td><td>Gaba2</td><td>-0.5379076</td></tr>\n",
       "\t<tr><th scope=row>Pax61</th><td>0.015457847</td><td> 0.9886488</td><td>Pax6   </td><td>Gaba2</td><td>-0.3236582</td></tr>\n",
       "\t<tr><th scope=row>Drd21</th><td>0.273752112</td><td>14.5734163</td><td>Drd2   </td><td>Gaba2</td><td> 0.2572655</td></tr>\n",
       "\t<tr><th scope=row>Samd31</th><td>0.002888126</td><td> 0.1830831</td><td>Samd3  </td><td>Gaba2</td><td>-0.2793272</td></tr>\n",
       "\t<tr><th scope=row>Onecut21</th><td>0.158638088</td><td> 8.7513731</td><td>Onecut2</td><td>Gaba2</td><td>-0.1474960</td></tr>\n",
       "\t<tr><th scope=row>Slc32a11</th><td>0.978570538</td><td>40.2782863</td><td>Slc32a1</td><td>Gaba2</td><td>-0.1951876</td></tr>\n",
       "\t<tr><th scope=row>Slc17a61</th><td>0.005361436</td><td> 0.3661662</td><td>Slc17a6</td><td>Gaba2</td><td>-0.4137091</td></tr>\n",
       "\t<tr><th scope=row>...</th><td>...</td><td>...</td><td>...</td><td>...</td><td>...</td></tr>\n",
       "\t<tr><th scope=row>Col15a112</th><td> 0.27829286</td><td> 14.4164760</td><td>Col15a1</td><td>Gaba11</td><td> 0.4484833</td></tr>\n",
       "\t<tr><th scope=row>Met12</th><td> 0.03619233</td><td>  1.8306636</td><td>Met    </td><td>Gaba11</td><td>-0.4954472</td></tr>\n",
       "\t<tr><th scope=row>Nts12</th><td> 0.08887119</td><td>  4.5766590</td><td>Nts    </td><td>Gaba11</td><td>-0.4466906</td></tr>\n",
       "\t<tr><th scope=row>Sst12</th><td> 2.49424303</td><td> 56.9794050</td><td>Sst    </td><td>Gaba11</td><td> 1.9946665</td></tr>\n",
       "\t<tr><th scope=row>Crhr212</th><td> 0.03619696</td><td>  2.0594966</td><td>Crhr2  </td><td>Gaba11</td><td>-0.5092055</td></tr>\n",
       "\t<tr><th scope=row>Drd312</th><td> 0.07427908</td><td>  4.3478261</td><td>Drd3   </td><td>Gaba11</td><td>-0.2311165</td></tr>\n",
       "\t<tr><th scope=row>Esr112</th><td> 0.24256469</td><td> 11.8993135</td><td>Esr1   </td><td>Gaba11</td><td> 0.2526398</td></tr>\n",
       "\t<tr><th scope=row>Foxp212</th><td> 0.32271311</td><td>  9.6109840</td><td>Foxp2  </td><td>Gaba11</td><td>-0.3910533</td></tr>\n",
       "\t<tr><th scope=row>Tacr112</th><td> 0.03000174</td><td>  1.6018307</td><td>Tacr1  </td><td>Gaba11</td><td>-0.5786455</td></tr>\n",
       "\t<tr><th scope=row>Pax612</th><td> 0.01184645</td><td>  0.6864989</td><td>Pax6   </td><td>Gaba11</td><td>-0.3350826</td></tr>\n",
       "\t<tr><th scope=row>Drd212</th><td> 0.11641442</td><td>  7.0938215</td><td>Drd2   </td><td>Gaba11</td><td>-0.6233242</td></tr>\n",
       "\t<tr><th scope=row>Samd312</th><td> 0.00402804</td><td>  0.2288330</td><td>Samd3  </td><td>Gaba11</td><td>-0.2768719</td></tr>\n",
       "\t<tr><th scope=row>Onecut212</th><td> 0.03996130</td><td>  2.5171625</td><td>Onecut2</td><td>Gaba11</td><td>-0.3493592</td></tr>\n",
       "\t<tr><th scope=row>Slc32a112</th><td> 1.01765947</td><td> 44.6224256</td><td>Slc32a1</td><td>Gaba11</td><td>-0.1000038</td></tr>\n",
       "\t<tr><th scope=row>Slc17a612</th><td> 0.01368892</td><td>  0.9153318</td><td>Slc17a6</td><td>Gaba11</td><td>-0.4018361</td></tr>\n",
       "\t<tr><th scope=row>Col15a113</th><td> 0.00000000</td><td>  0.0000000</td><td>Col15a1</td><td>Gaba12</td><td>-0.6400982</td></tr>\n",
       "\t<tr><th scope=row>Met13</th><td> 0.00000000</td><td>  0.0000000</td><td>Met    </td><td>Gaba12</td><td>-0.6295913</td></tr>\n",
       "\t<tr><th scope=row>Nts13</th><td> 0.18768730</td><td>  6.7796610</td><td>Nts    </td><td>Gaba12</td><td>-0.3404928</td></tr>\n",
       "\t<tr><th scope=row>Sst13</th><td> 0.12908621</td><td>  6.7796610</td><td>Sst    </td><td>Gaba12</td><td>-0.6916660</td></tr>\n",
       "\t<tr><th scope=row>Crhr213</th><td> 0.29066377</td><td> 17.7966102</td><td>Crhr2  </td><td>Gaba12</td><td> 0.6050005</td></tr>\n",
       "\t<tr><th scope=row>Drd313</th><td> 0.02340323</td><td>  1.6949153</td><td>Drd3   </td><td>Gaba12</td><td>-0.5241730</td></tr>\n",
       "\t<tr><th scope=row>Esr113</th><td> 0.06278506</td><td>  3.3898305</td><td>Esr1   </td><td>Gaba12</td><td>-0.5386537</td></tr>\n",
       "\t<tr><th scope=row>Foxp213</th><td>14.13297311</td><td>100.0000000</td><td>Foxp2  </td><td>Gaba12</td><td> 2.5000000</td></tr>\n",
       "\t<tr><th scope=row>Tacr113</th><td> 0.02651592</td><td>  1.6949153</td><td>Tacr1  </td><td>Gaba12</td><td>-0.6056391</td></tr>\n",
       "\t<tr><th scope=row>Pax613</th><td> 0.02294767</td><td>  0.8474576</td><td>Pax6   </td><td>Gaba12</td><td>-0.2999648</td></tr>\n",
       "\t<tr><th scope=row>Drd213</th><td> 0.02316450</td><td>  1.6949153</td><td>Drd2   </td><td>Gaba12</td><td>-1.1452266</td></tr>\n",
       "\t<tr><th scope=row>Samd313</th><td> 0.00000000</td><td>  0.0000000</td><td>Samd3  </td><td>Gaba12</td><td>-0.2855480</td></tr>\n",
       "\t<tr><th scope=row>Onecut213</th><td> 0.19797766</td><td> 11.0169492</td><td>Onecut2</td><td>Gaba12</td><td>-0.0805814</td></tr>\n",
       "\t<tr><th scope=row>Slc32a113</th><td> 1.41337147</td><td> 51.6949153</td><td>Slc32a1</td><td>Gaba12</td><td> 0.8635778</td></tr>\n",
       "\t<tr><th scope=row>Slc17a613</th><td> 0.02708718</td><td>  1.6949153</td><td>Slc17a6</td><td>Gaba12</td><td>-0.3827335</td></tr>\n",
       "</tbody>\n",
       "</table>\n"
      ],
      "text/latex": [
       "A data.frame: 210 × 5\n",
       "\\begin{tabular}{r|lllll}\n",
       "  & avg.exp & pct.exp & features.plot & id & avg.exp.scaled\\\\\n",
       "  & <dbl> & <dbl> & <fct> & <fct> & <dbl>\\\\\n",
       "\\hline\n",
       "\tCol15a1 & 0.996368292 & 43.0217670 & Col15a1 & Gaba1 &  2.5000000\\\\\n",
       "\tMet & 0.541850316 & 23.7516005 & Met     & Gaba1 &  1.3787352\\\\\n",
       "\tNts & 0.175762728 &  7.3943662 & Nts     & Gaba1 & -0.3533082\\\\\n",
       "\tSst & 0.648736857 & 24.2317542 & Sst     & Gaba1 & -0.1014496\\\\\n",
       "\tCrhr2 & 0.064994983 &  3.2650448 & Crhr2   & Gaba1 & -0.3831107\\\\\n",
       "\tDrd3 & 0.018515661 &  0.8962868 & Drd3    & Gaba1 & -0.5523265\\\\\n",
       "\tEsr1 & 0.080006455 &  4.8015365 & Esr1    & Gaba1 & -0.4628544\\\\\n",
       "\tFoxp2 & 0.200010633 &  7.7144686 & Foxp2   & Gaba1 & -0.4195472\\\\\n",
       "\tTacr1 & 0.102983469 &  5.8898848 & Tacr1   & Gaba1 & -0.0134882\\\\\n",
       "\tPax6 & 0.021906317 &  1.2804097 & Pax6    & Gaba1 & -0.3032590\\\\\n",
       "\tDrd2 & 0.458284007 & 23.5595391 & Drd2    & Gaba1 &  1.2900561\\\\\n",
       "\tSamd3 & 0.004190527 &  0.2880922 & Samd3   & Gaba1 & -0.2765219\\\\\n",
       "\tOnecut2 & 0.015015598 &  0.9282971 & Onecut2 & Gaba1 & -0.3917906\\\\\n",
       "\tSlc32a1 & 1.181653225 & 48.6555698 & Slc32a1 & Gaba1 &  0.2993305\\\\\n",
       "\tSlc17a6 & 0.008670513 &  0.5441741 & Slc17a6 & Gaba1 & -0.4089912\\\\\n",
       "\tCol15a11 & 0.021656412 &  1.3181985 & Col15a1 & Gaba2 & -0.5553861\\\\\n",
       "\tMet1 & 0.022888889 &  1.4646650 & Met     & Gaba2 & -0.5447554\\\\\n",
       "\tNts1 & 0.149187020 &  6.2614427 & Nts     & Gaba2 & -0.3818691\\\\\n",
       "\tSst1 & 0.503025709 & 16.6605639 & Sst     & Gaba2 & -0.2669475\\\\\n",
       "\tCrhr21 & 0.076562015 &  4.2475284 & Crhr2   & Gaba2 & -0.3324634\\\\\n",
       "\tDrd31 & 0.684828297 & 20.1025265 & Drd3    & Gaba2 &  2.5000000\\\\\n",
       "\tEsr11 & 0.116423275 &  6.3346759 & Esr1    & Gaba2 & -0.3025671\\\\\n",
       "\tFoxp21 & 0.379084410 & 11.6807030 & Foxp2   & Gaba2 & -0.3779629\\\\\n",
       "\tTacr11 & 0.035262437 &  2.0139143 & Tacr1   & Gaba2 & -0.5379076\\\\\n",
       "\tPax61 & 0.015457847 &  0.9886488 & Pax6    & Gaba2 & -0.3236582\\\\\n",
       "\tDrd21 & 0.273752112 & 14.5734163 & Drd2    & Gaba2 &  0.2572655\\\\\n",
       "\tSamd31 & 0.002888126 &  0.1830831 & Samd3   & Gaba2 & -0.2793272\\\\\n",
       "\tOnecut21 & 0.158638088 &  8.7513731 & Onecut2 & Gaba2 & -0.1474960\\\\\n",
       "\tSlc32a11 & 0.978570538 & 40.2782863 & Slc32a1 & Gaba2 & -0.1951876\\\\\n",
       "\tSlc17a61 & 0.005361436 &  0.3661662 & Slc17a6 & Gaba2 & -0.4137091\\\\\n",
       "\t... & ... & ... & ... & ... & ...\\\\\n",
       "\tCol15a112 &  0.27829286 &  14.4164760 & Col15a1 & Gaba11 &  0.4484833\\\\\n",
       "\tMet12 &  0.03619233 &   1.8306636 & Met     & Gaba11 & -0.4954472\\\\\n",
       "\tNts12 &  0.08887119 &   4.5766590 & Nts     & Gaba11 & -0.4466906\\\\\n",
       "\tSst12 &  2.49424303 &  56.9794050 & Sst     & Gaba11 &  1.9946665\\\\\n",
       "\tCrhr212 &  0.03619696 &   2.0594966 & Crhr2   & Gaba11 & -0.5092055\\\\\n",
       "\tDrd312 &  0.07427908 &   4.3478261 & Drd3    & Gaba11 & -0.2311165\\\\\n",
       "\tEsr112 &  0.24256469 &  11.8993135 & Esr1    & Gaba11 &  0.2526398\\\\\n",
       "\tFoxp212 &  0.32271311 &   9.6109840 & Foxp2   & Gaba11 & -0.3910533\\\\\n",
       "\tTacr112 &  0.03000174 &   1.6018307 & Tacr1   & Gaba11 & -0.5786455\\\\\n",
       "\tPax612 &  0.01184645 &   0.6864989 & Pax6    & Gaba11 & -0.3350826\\\\\n",
       "\tDrd212 &  0.11641442 &   7.0938215 & Drd2    & Gaba11 & -0.6233242\\\\\n",
       "\tSamd312 &  0.00402804 &   0.2288330 & Samd3   & Gaba11 & -0.2768719\\\\\n",
       "\tOnecut212 &  0.03996130 &   2.5171625 & Onecut2 & Gaba11 & -0.3493592\\\\\n",
       "\tSlc32a112 &  1.01765947 &  44.6224256 & Slc32a1 & Gaba11 & -0.1000038\\\\\n",
       "\tSlc17a612 &  0.01368892 &   0.9153318 & Slc17a6 & Gaba11 & -0.4018361\\\\\n",
       "\tCol15a113 &  0.00000000 &   0.0000000 & Col15a1 & Gaba12 & -0.6400982\\\\\n",
       "\tMet13 &  0.00000000 &   0.0000000 & Met     & Gaba12 & -0.6295913\\\\\n",
       "\tNts13 &  0.18768730 &   6.7796610 & Nts     & Gaba12 & -0.3404928\\\\\n",
       "\tSst13 &  0.12908621 &   6.7796610 & Sst     & Gaba12 & -0.6916660\\\\\n",
       "\tCrhr213 &  0.29066377 &  17.7966102 & Crhr2   & Gaba12 &  0.6050005\\\\\n",
       "\tDrd313 &  0.02340323 &   1.6949153 & Drd3    & Gaba12 & -0.5241730\\\\\n",
       "\tEsr113 &  0.06278506 &   3.3898305 & Esr1    & Gaba12 & -0.5386537\\\\\n",
       "\tFoxp213 & 14.13297311 & 100.0000000 & Foxp2   & Gaba12 &  2.5000000\\\\\n",
       "\tTacr113 &  0.02651592 &   1.6949153 & Tacr1   & Gaba12 & -0.6056391\\\\\n",
       "\tPax613 &  0.02294767 &   0.8474576 & Pax6    & Gaba12 & -0.2999648\\\\\n",
       "\tDrd213 &  0.02316450 &   1.6949153 & Drd2    & Gaba12 & -1.1452266\\\\\n",
       "\tSamd313 &  0.00000000 &   0.0000000 & Samd3   & Gaba12 & -0.2855480\\\\\n",
       "\tOnecut213 &  0.19797766 &  11.0169492 & Onecut2 & Gaba12 & -0.0805814\\\\\n",
       "\tSlc32a113 &  1.41337147 &  51.6949153 & Slc32a1 & Gaba12 &  0.8635778\\\\\n",
       "\tSlc17a613 &  0.02708718 &   1.6949153 & Slc17a6 & Gaba12 & -0.3827335\\\\\n",
       "\\end{tabular}\n"
      ],
      "text/markdown": [
       "\n",
       "A data.frame: 210 × 5\n",
       "\n",
       "| <!--/--> | avg.exp &lt;dbl&gt; | pct.exp &lt;dbl&gt; | features.plot &lt;fct&gt; | id &lt;fct&gt; | avg.exp.scaled &lt;dbl&gt; |\n",
       "|---|---|---|---|---|---|\n",
       "| Col15a1 | 0.996368292 | 43.0217670 | Col15a1 | Gaba1 |  2.5000000 |\n",
       "| Met | 0.541850316 | 23.7516005 | Met     | Gaba1 |  1.3787352 |\n",
       "| Nts | 0.175762728 |  7.3943662 | Nts     | Gaba1 | -0.3533082 |\n",
       "| Sst | 0.648736857 | 24.2317542 | Sst     | Gaba1 | -0.1014496 |\n",
       "| Crhr2 | 0.064994983 |  3.2650448 | Crhr2   | Gaba1 | -0.3831107 |\n",
       "| Drd3 | 0.018515661 |  0.8962868 | Drd3    | Gaba1 | -0.5523265 |\n",
       "| Esr1 | 0.080006455 |  4.8015365 | Esr1    | Gaba1 | -0.4628544 |\n",
       "| Foxp2 | 0.200010633 |  7.7144686 | Foxp2   | Gaba1 | -0.4195472 |\n",
       "| Tacr1 | 0.102983469 |  5.8898848 | Tacr1   | Gaba1 | -0.0134882 |\n",
       "| Pax6 | 0.021906317 |  1.2804097 | Pax6    | Gaba1 | -0.3032590 |\n",
       "| Drd2 | 0.458284007 | 23.5595391 | Drd2    | Gaba1 |  1.2900561 |\n",
       "| Samd3 | 0.004190527 |  0.2880922 | Samd3   | Gaba1 | -0.2765219 |\n",
       "| Onecut2 | 0.015015598 |  0.9282971 | Onecut2 | Gaba1 | -0.3917906 |\n",
       "| Slc32a1 | 1.181653225 | 48.6555698 | Slc32a1 | Gaba1 |  0.2993305 |\n",
       "| Slc17a6 | 0.008670513 |  0.5441741 | Slc17a6 | Gaba1 | -0.4089912 |\n",
       "| Col15a11 | 0.021656412 |  1.3181985 | Col15a1 | Gaba2 | -0.5553861 |\n",
       "| Met1 | 0.022888889 |  1.4646650 | Met     | Gaba2 | -0.5447554 |\n",
       "| Nts1 | 0.149187020 |  6.2614427 | Nts     | Gaba2 | -0.3818691 |\n",
       "| Sst1 | 0.503025709 | 16.6605639 | Sst     | Gaba2 | -0.2669475 |\n",
       "| Crhr21 | 0.076562015 |  4.2475284 | Crhr2   | Gaba2 | -0.3324634 |\n",
       "| Drd31 | 0.684828297 | 20.1025265 | Drd3    | Gaba2 |  2.5000000 |\n",
       "| Esr11 | 0.116423275 |  6.3346759 | Esr1    | Gaba2 | -0.3025671 |\n",
       "| Foxp21 | 0.379084410 | 11.6807030 | Foxp2   | Gaba2 | -0.3779629 |\n",
       "| Tacr11 | 0.035262437 |  2.0139143 | Tacr1   | Gaba2 | -0.5379076 |\n",
       "| Pax61 | 0.015457847 |  0.9886488 | Pax6    | Gaba2 | -0.3236582 |\n",
       "| Drd21 | 0.273752112 | 14.5734163 | Drd2    | Gaba2 |  0.2572655 |\n",
       "| Samd31 | 0.002888126 |  0.1830831 | Samd3   | Gaba2 | -0.2793272 |\n",
       "| Onecut21 | 0.158638088 |  8.7513731 | Onecut2 | Gaba2 | -0.1474960 |\n",
       "| Slc32a11 | 0.978570538 | 40.2782863 | Slc32a1 | Gaba2 | -0.1951876 |\n",
       "| Slc17a61 | 0.005361436 |  0.3661662 | Slc17a6 | Gaba2 | -0.4137091 |\n",
       "| ... | ... | ... | ... | ... | ... |\n",
       "| Col15a112 |  0.27829286 |  14.4164760 | Col15a1 | Gaba11 |  0.4484833 |\n",
       "| Met12 |  0.03619233 |   1.8306636 | Met     | Gaba11 | -0.4954472 |\n",
       "| Nts12 |  0.08887119 |   4.5766590 | Nts     | Gaba11 | -0.4466906 |\n",
       "| Sst12 |  2.49424303 |  56.9794050 | Sst     | Gaba11 |  1.9946665 |\n",
       "| Crhr212 |  0.03619696 |   2.0594966 | Crhr2   | Gaba11 | -0.5092055 |\n",
       "| Drd312 |  0.07427908 |   4.3478261 | Drd3    | Gaba11 | -0.2311165 |\n",
       "| Esr112 |  0.24256469 |  11.8993135 | Esr1    | Gaba11 |  0.2526398 |\n",
       "| Foxp212 |  0.32271311 |   9.6109840 | Foxp2   | Gaba11 | -0.3910533 |\n",
       "| Tacr112 |  0.03000174 |   1.6018307 | Tacr1   | Gaba11 | -0.5786455 |\n",
       "| Pax612 |  0.01184645 |   0.6864989 | Pax6    | Gaba11 | -0.3350826 |\n",
       "| Drd212 |  0.11641442 |   7.0938215 | Drd2    | Gaba11 | -0.6233242 |\n",
       "| Samd312 |  0.00402804 |   0.2288330 | Samd3   | Gaba11 | -0.2768719 |\n",
       "| Onecut212 |  0.03996130 |   2.5171625 | Onecut2 | Gaba11 | -0.3493592 |\n",
       "| Slc32a112 |  1.01765947 |  44.6224256 | Slc32a1 | Gaba11 | -0.1000038 |\n",
       "| Slc17a612 |  0.01368892 |   0.9153318 | Slc17a6 | Gaba11 | -0.4018361 |\n",
       "| Col15a113 |  0.00000000 |   0.0000000 | Col15a1 | Gaba12 | -0.6400982 |\n",
       "| Met13 |  0.00000000 |   0.0000000 | Met     | Gaba12 | -0.6295913 |\n",
       "| Nts13 |  0.18768730 |   6.7796610 | Nts     | Gaba12 | -0.3404928 |\n",
       "| Sst13 |  0.12908621 |   6.7796610 | Sst     | Gaba12 | -0.6916660 |\n",
       "| Crhr213 |  0.29066377 |  17.7966102 | Crhr2   | Gaba12 |  0.6050005 |\n",
       "| Drd313 |  0.02340323 |   1.6949153 | Drd3    | Gaba12 | -0.5241730 |\n",
       "| Esr113 |  0.06278506 |   3.3898305 | Esr1    | Gaba12 | -0.5386537 |\n",
       "| Foxp213 | 14.13297311 | 100.0000000 | Foxp2   | Gaba12 |  2.5000000 |\n",
       "| Tacr113 |  0.02651592 |   1.6949153 | Tacr1   | Gaba12 | -0.6056391 |\n",
       "| Pax613 |  0.02294767 |   0.8474576 | Pax6    | Gaba12 | -0.2999648 |\n",
       "| Drd213 |  0.02316450 |   1.6949153 | Drd2    | Gaba12 | -1.1452266 |\n",
       "| Samd313 |  0.00000000 |   0.0000000 | Samd3   | Gaba12 | -0.2855480 |\n",
       "| Onecut213 |  0.19797766 |  11.0169492 | Onecut2 | Gaba12 | -0.0805814 |\n",
       "| Slc32a113 |  1.41337147 |  51.6949153 | Slc32a1 | Gaba12 |  0.8635778 |\n",
       "| Slc17a613 |  0.02708718 |   1.6949153 | Slc17a6 | Gaba12 | -0.3827335 |\n",
       "\n"
      ],
      "text/plain": [
       "          avg.exp     pct.exp     features.plot id     avg.exp.scaled\n",
       "Col15a1   0.996368292 43.0217670  Col15a1       Gaba1   2.5000000    \n",
       "Met       0.541850316 23.7516005  Met           Gaba1   1.3787352    \n",
       "Nts       0.175762728  7.3943662  Nts           Gaba1  -0.3533082    \n",
       "Sst       0.648736857 24.2317542  Sst           Gaba1  -0.1014496    \n",
       "Crhr2     0.064994983  3.2650448  Crhr2         Gaba1  -0.3831107    \n",
       "Drd3      0.018515661  0.8962868  Drd3          Gaba1  -0.5523265    \n",
       "Esr1      0.080006455  4.8015365  Esr1          Gaba1  -0.4628544    \n",
       "Foxp2     0.200010633  7.7144686  Foxp2         Gaba1  -0.4195472    \n",
       "Tacr1     0.102983469  5.8898848  Tacr1         Gaba1  -0.0134882    \n",
       "Pax6      0.021906317  1.2804097  Pax6          Gaba1  -0.3032590    \n",
       "Drd2      0.458284007 23.5595391  Drd2          Gaba1   1.2900561    \n",
       "Samd3     0.004190527  0.2880922  Samd3         Gaba1  -0.2765219    \n",
       "Onecut2   0.015015598  0.9282971  Onecut2       Gaba1  -0.3917906    \n",
       "Slc32a1   1.181653225 48.6555698  Slc32a1       Gaba1   0.2993305    \n",
       "Slc17a6   0.008670513  0.5441741  Slc17a6       Gaba1  -0.4089912    \n",
       "Col15a11  0.021656412  1.3181985  Col15a1       Gaba2  -0.5553861    \n",
       "Met1      0.022888889  1.4646650  Met           Gaba2  -0.5447554    \n",
       "Nts1      0.149187020  6.2614427  Nts           Gaba2  -0.3818691    \n",
       "Sst1      0.503025709 16.6605639  Sst           Gaba2  -0.2669475    \n",
       "Crhr21    0.076562015  4.2475284  Crhr2         Gaba2  -0.3324634    \n",
       "Drd31     0.684828297 20.1025265  Drd3          Gaba2   2.5000000    \n",
       "Esr11     0.116423275  6.3346759  Esr1          Gaba2  -0.3025671    \n",
       "Foxp21    0.379084410 11.6807030  Foxp2         Gaba2  -0.3779629    \n",
       "Tacr11    0.035262437  2.0139143  Tacr1         Gaba2  -0.5379076    \n",
       "Pax61     0.015457847  0.9886488  Pax6          Gaba2  -0.3236582    \n",
       "Drd21     0.273752112 14.5734163  Drd2          Gaba2   0.2572655    \n",
       "Samd31    0.002888126  0.1830831  Samd3         Gaba2  -0.2793272    \n",
       "Onecut21  0.158638088  8.7513731  Onecut2       Gaba2  -0.1474960    \n",
       "Slc32a11  0.978570538 40.2782863  Slc32a1       Gaba2  -0.1951876    \n",
       "Slc17a61  0.005361436  0.3661662  Slc17a6       Gaba2  -0.4137091    \n",
       "...       ...         ...         ...           ...    ...           \n",
       "Col15a112  0.27829286  14.4164760 Col15a1       Gaba11  0.4484833    \n",
       "Met12      0.03619233   1.8306636 Met           Gaba11 -0.4954472    \n",
       "Nts12      0.08887119   4.5766590 Nts           Gaba11 -0.4466906    \n",
       "Sst12      2.49424303  56.9794050 Sst           Gaba11  1.9946665    \n",
       "Crhr212    0.03619696   2.0594966 Crhr2         Gaba11 -0.5092055    \n",
       "Drd312     0.07427908   4.3478261 Drd3          Gaba11 -0.2311165    \n",
       "Esr112     0.24256469  11.8993135 Esr1          Gaba11  0.2526398    \n",
       "Foxp212    0.32271311   9.6109840 Foxp2         Gaba11 -0.3910533    \n",
       "Tacr112    0.03000174   1.6018307 Tacr1         Gaba11 -0.5786455    \n",
       "Pax612     0.01184645   0.6864989 Pax6          Gaba11 -0.3350826    \n",
       "Drd212     0.11641442   7.0938215 Drd2          Gaba11 -0.6233242    \n",
       "Samd312    0.00402804   0.2288330 Samd3         Gaba11 -0.2768719    \n",
       "Onecut212  0.03996130   2.5171625 Onecut2       Gaba11 -0.3493592    \n",
       "Slc32a112  1.01765947  44.6224256 Slc32a1       Gaba11 -0.1000038    \n",
       "Slc17a612  0.01368892   0.9153318 Slc17a6       Gaba11 -0.4018361    \n",
       "Col15a113  0.00000000   0.0000000 Col15a1       Gaba12 -0.6400982    \n",
       "Met13      0.00000000   0.0000000 Met           Gaba12 -0.6295913    \n",
       "Nts13      0.18768730   6.7796610 Nts           Gaba12 -0.3404928    \n",
       "Sst13      0.12908621   6.7796610 Sst           Gaba12 -0.6916660    \n",
       "Crhr213    0.29066377  17.7966102 Crhr2         Gaba12  0.6050005    \n",
       "Drd313     0.02340323   1.6949153 Drd3          Gaba12 -0.5241730    \n",
       "Esr113     0.06278506   3.3898305 Esr1          Gaba12 -0.5386537    \n",
       "Foxp213   14.13297311 100.0000000 Foxp2         Gaba12  2.5000000    \n",
       "Tacr113    0.02651592   1.6949153 Tacr1         Gaba12 -0.6056391    \n",
       "Pax613     0.02294767   0.8474576 Pax6          Gaba12 -0.2999648    \n",
       "Drd213     0.02316450   1.6949153 Drd2          Gaba12 -1.1452266    \n",
       "Samd313    0.00000000   0.0000000 Samd3         Gaba12 -0.2855480    \n",
       "Onecut213  0.19797766  11.0169492 Onecut2       Gaba12 -0.0805814    \n",
       "Slc32a113  1.41337147  51.6949153 Slc32a1       Gaba12  0.8635778    \n",
       "Slc17a613  0.02708718   1.6949153 Slc17a6       Gaba12 -0.3827335    "
      ]
     },
     "metadata": {},
     "output_type": "display_data"
    }
   ],
   "source": [
    "seq.avg"
   ]
  },
  {
   "cell_type": "code",
   "execution_count": 87,
   "metadata": {
    "scrolled": false
   },
   "outputs": [
    {
     "data": {
      "text/html": [
       "0.854131083111908"
      ],
      "text/latex": [
       "0.854131083111908"
      ],
      "text/markdown": [
       "0.854131083111908"
      ],
      "text/plain": [
       "[1] 0.8541311"
      ]
     },
     "metadata": {},
     "output_type": "display_data"
    }
   ],
   "source": [
    "cor(hcr.avg[hcr.avg$id=='Sst',]$pct.exp, seq.avg[seq.avg$id=='Gaba11',]$pct.exp)"
   ]
  },
  {
   "cell_type": "code",
   "execution_count": 88,
   "metadata": {},
   "outputs": [
    {
     "data": {
      "text/html": [
       "0.64346829525392"
      ],
      "text/latex": [
       "0.64346829525392"
      ],
      "text/markdown": [
       "0.64346829525392"
      ],
      "text/plain": [
       "[1] 0.6434683"
      ]
     },
     "metadata": {},
     "output_type": "display_data"
    }
   ],
   "source": [
    "cor(hcr.avg[hcr.avg$id=='Nts',]$pct.exp, seq.avg[seq.avg$id=='Gaba8',]$pct.exp)"
   ]
  },
  {
   "cell_type": "code",
   "execution_count": 89,
   "metadata": {},
   "outputs": [
    {
     "data": {
      "text/html": [
       "0.804491496765275"
      ],
      "text/latex": [
       "0.804491496765275"
      ],
      "text/markdown": [
       "0.804491496765275"
      ],
      "text/plain": [
       "[1] 0.8044915"
      ]
     },
     "metadata": {},
     "output_type": "display_data"
    }
   ],
   "source": [
    "cor(hcr.avg[hcr.avg$id=='Foxp2',]$pct.exp, seq.avg[seq.avg$id=='Gaba7',]$pct.exp)"
   ]
  },
  {
   "cell_type": "code",
   "execution_count": 90,
   "metadata": {},
   "outputs": [
    {
     "data": {
      "text/html": [
       "0.828424841823094"
      ],
      "text/latex": [
       "0.828424841823094"
      ],
      "text/markdown": [
       "0.828424841823094"
      ],
      "text/plain": [
       "[1] 0.8284248"
      ]
     },
     "metadata": {},
     "output_type": "display_data"
    }
   ],
   "source": [
    "cor(hcr.avg[hcr.avg$id=='Pax6',]$pct.exp, seq.avg[seq.avg$id=='Gaba6',]$pct.exp)"
   ]
  },
  {
   "cell_type": "code",
   "execution_count": 91,
   "metadata": {},
   "outputs": [
    {
     "data": {
      "text/html": [
       "0.803914680700187"
      ],
      "text/latex": [
       "0.803914680700187"
      ],
      "text/markdown": [
       "0.803914680700187"
      ],
      "text/plain": [
       "[1] 0.8039147"
      ]
     },
     "metadata": {},
     "output_type": "display_data"
    }
   ],
   "source": [
    "cor(hcr.avg[hcr.avg$id=='Met',]$pct.exp, seq.avg[seq.avg$id=='Gaba9',]$pct.exp)"
   ]
  },
  {
   "cell_type": "code",
   "execution_count": 92,
   "metadata": {
    "scrolled": true
   },
   "outputs": [
    {
     "data": {
      "text/html": [
       "0.626244585105134"
      ],
      "text/latex": [
       "0.626244585105134"
      ],
      "text/markdown": [
       "0.626244585105134"
      ],
      "text/plain": [
       "[1] 0.6262446"
      ]
     },
     "metadata": {},
     "output_type": "display_data"
    }
   ],
   "source": [
    "cor(hcr.avg[hcr.avg$id=='Tacr1',]$pct.exp, seq.avg[seq.avg$id=='Gaba10',]$pct.exp)"
   ]
  },
  {
   "cell_type": "code",
   "execution_count": 93,
   "metadata": {
    "scrolled": false
   },
   "outputs": [
    {
     "data": {
      "text/html": [
       "0.835426498835923"
      ],
      "text/latex": [
       "0.835426498835923"
      ],
      "text/markdown": [
       "0.835426498835923"
      ],
      "text/plain": [
       "[1] 0.8354265"
      ]
     },
     "metadata": {},
     "output_type": "display_data"
    }
   ],
   "source": [
    "cor(hcr.avg[hcr.avg$id=='Esr1',]$pct.exp, seq.avg[seq.avg$id=='Gaba4',]$pct.exp)"
   ]
  },
  {
   "cell_type": "code",
   "execution_count": 94,
   "metadata": {
    "scrolled": true
   },
   "outputs": [
    {
     "data": {
      "text/html": [
       "0.912416801266573"
      ],
      "text/latex": [
       "0.912416801266573"
      ],
      "text/markdown": [
       "0.912416801266573"
      ],
      "text/plain": [
       "[1] 0.9124168"
      ]
     },
     "metadata": {},
     "output_type": "display_data"
    }
   ],
   "source": [
    "cor(hcr.avg[hcr.avg$id=='Crhr2',]$pct.exp, seq.avg[seq.avg$id=='Gaba5',]$pct.exp)"
   ]
  },
  {
   "cell_type": "code",
   "execution_count": 95,
   "metadata": {
    "scrolled": true
   },
   "outputs": [
    {
     "data": {
      "text/html": [
       "0.912416801266573"
      ],
      "text/latex": [
       "0.912416801266573"
      ],
      "text/markdown": [
       "0.912416801266573"
      ],
      "text/plain": [
       "[1] 0.9124168"
      ]
     },
     "metadata": {},
     "output_type": "display_data"
    }
   ],
   "source": [
    "cor(hcr.avg[hcr.avg$id=='Crhr2',]$pct.exp, seq.avg[seq.avg$id=='Gaba5',]$pct.exp)"
   ]
  },
  {
   "cell_type": "code",
   "execution_count": 96,
   "metadata": {
    "scrolled": true
   },
   "outputs": [
    {
     "data": {
      "text/html": [
       "0.741013391003228"
      ],
      "text/latex": [
       "0.741013391003228"
      ],
      "text/markdown": [
       "0.741013391003228"
      ],
      "text/plain": [
       "[1] 0.7410134"
      ]
     },
     "metadata": {},
     "output_type": "display_data"
    }
   ],
   "source": [
    "cor(hcr.avg[hcr.avg$id=='Col15a1',]$pct.exp, seq.avg[seq.avg$id=='Gaba1',]$pct.exp)"
   ]
  },
  {
   "cell_type": "code",
   "execution_count": 97,
   "metadata": {
    "scrolled": true
   },
   "outputs": [
    {
     "data": {
      "text/html": [
       "0.713202060362794"
      ],
      "text/latex": [
       "0.713202060362794"
      ],
      "text/markdown": [
       "0.713202060362794"
      ],
      "text/plain": [
       "[1] 0.7132021"
      ]
     },
     "metadata": {},
     "output_type": "display_data"
    }
   ],
   "source": [
    "cor(hcr.avg[hcr.avg$id=='Drd3',]$pct.exp, seq.avg[seq.avg$id=='Gaba2',]$pct.exp)"
   ]
  },
  {
   "cell_type": "code",
   "execution_count": 98,
   "metadata": {
    "scrolled": true
   },
   "outputs": [
    {
     "data": {
      "text/html": [
       "0.445869859552595"
      ],
      "text/latex": [
       "0.445869859552595"
      ],
      "text/markdown": [
       "0.445869859552595"
      ],
      "text/plain": [
       "[1] 0.4458699"
      ]
     },
     "metadata": {},
     "output_type": "display_data"
    }
   ],
   "source": [
    "cor(hcr.avg[hcr.avg$id=='Onecut2',]$pct.exp, seq.avg[seq.avg$id=='Glu2',]$pct.exp)"
   ]
  },
  {
   "cell_type": "code",
   "execution_count": 99,
   "metadata": {
    "scrolled": true
   },
   "outputs": [
    {
     "data": {
      "text/html": [
       "0.263521137782222"
      ],
      "text/latex": [
       "0.263521137782222"
      ],
      "text/markdown": [
       "0.263521137782222"
      ],
      "text/plain": [
       "[1] 0.2635211"
      ]
     },
     "metadata": {},
     "output_type": "display_data"
    }
   ],
   "source": [
    "cor(hcr.avg[hcr.avg$id=='Samd3',]$pct.exp, seq.avg[seq.avg$id=='Glu1',]$pct.exp)"
   ]
  },
  {
   "cell_type": "code",
   "execution_count": null,
   "metadata": {},
   "outputs": [],
   "source": []
  },
  {
   "cell_type": "code",
   "execution_count": 100,
   "metadata": {},
   "outputs": [],
   "source": [
    "genes <- c('Col15a1','Met','Nts','Sst','Crhr2','Drd3','Esr1','Foxp2','Tacr1','Pax6','Drd2','Samd3','Onecut2','Slc32a1','Slc17a6')"
   ]
  },
  {
   "cell_type": "code",
   "execution_count": 101,
   "metadata": {},
   "outputs": [],
   "source": [
    "seq.types <- c('Gaba11','Gaba9','Gaba1','Gaba8','Gaba2',\"Gaba7\",\"Gaba10\",\"Glu1\",\"Gaba6\",\"Gaba5\",'Gaba4',\"Glu2\")"
   ]
  },
  {
   "cell_type": "code",
   "execution_count": 102,
   "metadata": {},
   "outputs": [],
   "source": [
    "hcr.types <- c('Sst','Met','Col15a1','Nts','Drd3',\"Foxp2\",\"Tacr1\",\"Samd3\",\"Pax6\",\"Crhr2\",'Esr1',\"Onecut2\")"
   ]
  },
  {
   "cell_type": "code",
   "execution_count": 103,
   "metadata": {},
   "outputs": [],
   "source": [
    "cor.1 <- vector()\n",
    "cor.2 <- data.frame('gene'=seq.types)\n",
    "for (i in seq.types){\n",
    "    for (k in hcr.types){\n",
    "        a<-cor(hcr.avg[hcr.avg$id==k,]$pct.exp, seq.avg[seq.avg$id==i,]$pct.exp)\n",
    "        cor.1[k] <- a\n",
    "    }\n",
    "    cor.2<-cbind(cor.2,cor.1)\n",
    "}"
   ]
  },
  {
   "cell_type": "code",
   "execution_count": null,
   "metadata": {},
   "outputs": [],
   "source": [
    "cor.test(x, y, method=c(\"pearson\", \"kendall\", \"spearman\"))"
   ]
  },
  {
   "cell_type": "code",
   "execution_count": 118,
   "metadata": {},
   "outputs": [],
   "source": [
    "p.1 <- vector()\n",
    "p.2 <- data.frame('gene'=seq.types)\n",
    "for (i in seq.types){\n",
    "    for (k in hcr.types){\n",
    "        a<-cor.test(hcr.avg[hcr.avg$id==k,]$pct.exp, seq.avg[seq.avg$id==i,]$pct.exp, method=\"pearson\")$p.value\n",
    "        p.1[k] <- a\n",
    "    }\n",
    "    p.2<-cbind(p.2,p.1)\n",
    "}"
   ]
  },
  {
   "cell_type": "code",
   "execution_count": 119,
   "metadata": {},
   "outputs": [
    {
     "data": {
      "text/html": [
       "<table class=\"dataframe\">\n",
       "<caption>A data.frame: 12 × 13</caption>\n",
       "<thead>\n",
       "\t<tr><th></th><th scope=col>gene</th><th scope=col>p.1</th><th scope=col>p.1</th><th scope=col>p.1</th><th scope=col>p.1</th><th scope=col>p.1</th><th scope=col>p.1</th><th scope=col>p.1</th><th scope=col>p.1</th><th scope=col>p.1</th><th scope=col>p.1</th><th scope=col>p.1</th><th scope=col>p.1</th></tr>\n",
       "\t<tr><th></th><th scope=col>&lt;chr&gt;</th><th scope=col>&lt;dbl&gt;</th><th scope=col>&lt;dbl&gt;</th><th scope=col>&lt;dbl&gt;</th><th scope=col>&lt;dbl&gt;</th><th scope=col>&lt;dbl&gt;</th><th scope=col>&lt;dbl&gt;</th><th scope=col>&lt;dbl&gt;</th><th scope=col>&lt;dbl&gt;</th><th scope=col>&lt;dbl&gt;</th><th scope=col>&lt;dbl&gt;</th><th scope=col>&lt;dbl&gt;</th><th scope=col>&lt;dbl&gt;</th></tr>\n",
       "</thead>\n",
       "<tbody>\n",
       "\t<tr><th scope=row>Sst</th><td>Gaba11</td><td>5.053117e-05</td><td>0.0064758660</td><td>0.001172769</td><td>0.005859736</td><td>0.002267144</td><td>0.8064619884</td><td>0.07116665</td><td>0.2854332</td><td>0.1316269756</td><td>2.314582e-02</td><td>0.0585249776</td><td>0.68632287</td></tr>\n",
       "\t<tr><th scope=row>Met</th><td>Gaba9 </td><td>4.448671e-01</td><td>0.0003040611</td><td>0.001329740</td><td>0.445973675</td><td>0.102690594</td><td>0.9304336824</td><td>0.15382778</td><td>0.2544169</td><td>0.2919895220</td><td>1.009163e-01</td><td>0.1403753902</td><td>0.72109120</td></tr>\n",
       "\t<tr><th scope=row>Col15a1</th><td>Gaba1 </td><td>1.056064e-01</td><td>0.0650853464</td><td>0.001573532</td><td>0.539785164</td><td>0.039223530</td><td>0.6488858535</td><td>0.01515537</td><td>0.6143134</td><td>0.0840754768</td><td>8.555583e-02</td><td>0.0120659534</td><td>0.50745816</td></tr>\n",
       "\t<tr><th scope=row>Nts</th><td>Gaba8 </td><td>3.397284e-01</td><td>0.0902075294</td><td>0.065163078</td><td>0.009648418</td><td>0.025819145</td><td>0.4607202018</td><td>0.06465922</td><td>0.3752805</td><td>0.1703912973</td><td>4.520658e-02</td><td>0.0780256105</td><td>0.95698833</td></tr>\n",
       "\t<tr><th scope=row>Drd3</th><td>Gaba2 </td><td>3.258039e-01</td><td>0.2575593695</td><td>0.199087717</td><td>0.775522507</td><td>0.002835242</td><td>0.9114786155</td><td>0.09950058</td><td>0.4665735</td><td>0.2951766927</td><td>9.962526e-02</td><td>0.0773742995</td><td>0.86674029</td></tr>\n",
       "\t<tr><th scope=row>Foxp2</th><td>Gaba7 </td><td>1.448449e-01</td><td>0.0080900194</td><td>0.013578603</td><td>0.055065175</td><td>0.018679991</td><td>0.0002987387</td><td>0.03187336</td><td>0.2827449</td><td>0.2558674007</td><td>2.917872e-02</td><td>0.0740235661</td><td>0.59845337</td></tr>\n",
       "\t<tr><th scope=row>Tacr1</th><td>Gaba10</td><td>3.046101e-01</td><td>0.0349518199</td><td>0.074861737</td><td>0.421663706</td><td>0.076781152</td><td>0.6430623930</td><td>0.01249868</td><td>0.1553252</td><td>0.4123485417</td><td>6.467090e-03</td><td>0.1466599181</td><td>0.38629814</td></tr>\n",
       "\t<tr><th scope=row>Samd3</th><td>Glu1  </td><td>4.233258e-01</td><td>0.2267686687</td><td>0.074847016</td><td>0.712695946</td><td>0.214246647</td><td>0.9372234424</td><td>0.23484182</td><td>0.3426244</td><td>0.4596136182</td><td>3.081897e-01</td><td>0.2050115531</td><td>0.72844051</td></tr>\n",
       "\t<tr><th scope=row>Pax6</th><td>Gaba6 </td><td>4.284647e-01</td><td>0.1318905086</td><td>0.129266695</td><td>0.556480215</td><td>0.136022924</td><td>0.9628539125</td><td>0.10775820</td><td>0.2304963</td><td>0.0001359473</td><td>2.290337e-01</td><td>0.1611162597</td><td>0.80070598</td></tr>\n",
       "\t<tr><th scope=row>Crhr2</th><td>Gaba5 </td><td>2.394002e-01</td><td>0.0243109645</td><td>0.096964603</td><td>0.668015458</td><td>0.059993288</td><td>0.6613604492</td><td>0.03269623</td><td>0.5650801</td><td>0.1542265761</td><td>2.122207e-06</td><td>0.0248594488</td><td>0.78067048</td></tr>\n",
       "\t<tr><th scope=row>Esr1</th><td>Gaba4 </td><td>1.831417e-01</td><td>0.0768737176</td><td>0.046745489</td><td>0.408859322</td><td>0.046832338</td><td>0.8300744541</td><td>0.04914453</td><td>0.2595933</td><td>0.2294117264</td><td>1.453025e-01</td><td>0.0001055644</td><td>0.93779635</td></tr>\n",
       "\t<tr><th scope=row>Onecut2</th><td>Glu2  </td><td>2.690554e-01</td><td>0.1257309903</td><td>0.096091658</td><td>0.611280971</td><td>0.042741705</td><td>0.7090066562</td><td>0.04525829</td><td>0.5607503</td><td>0.2111753587</td><td>1.794053e-01</td><td>0.0431918038</td><td>0.09575836</td></tr>\n",
       "</tbody>\n",
       "</table>\n"
      ],
      "text/latex": [
       "A data.frame: 12 × 13\n",
       "\\begin{tabular}{r|lllllllllllll}\n",
       "  & gene & p.1 & p.1 & p.1 & p.1 & p.1 & p.1 & p.1 & p.1 & p.1 & p.1 & p.1 & p.1\\\\\n",
       "  & <chr> & <dbl> & <dbl> & <dbl> & <dbl> & <dbl> & <dbl> & <dbl> & <dbl> & <dbl> & <dbl> & <dbl> & <dbl>\\\\\n",
       "\\hline\n",
       "\tSst & Gaba11 & 5.053117e-05 & 0.0064758660 & 0.001172769 & 0.005859736 & 0.002267144 & 0.8064619884 & 0.07116665 & 0.2854332 & 0.1316269756 & 2.314582e-02 & 0.0585249776 & 0.68632287\\\\\n",
       "\tMet & Gaba9  & 4.448671e-01 & 0.0003040611 & 0.001329740 & 0.445973675 & 0.102690594 & 0.9304336824 & 0.15382778 & 0.2544169 & 0.2919895220 & 1.009163e-01 & 0.1403753902 & 0.72109120\\\\\n",
       "\tCol15a1 & Gaba1  & 1.056064e-01 & 0.0650853464 & 0.001573532 & 0.539785164 & 0.039223530 & 0.6488858535 & 0.01515537 & 0.6143134 & 0.0840754768 & 8.555583e-02 & 0.0120659534 & 0.50745816\\\\\n",
       "\tNts & Gaba8  & 3.397284e-01 & 0.0902075294 & 0.065163078 & 0.009648418 & 0.025819145 & 0.4607202018 & 0.06465922 & 0.3752805 & 0.1703912973 & 4.520658e-02 & 0.0780256105 & 0.95698833\\\\\n",
       "\tDrd3 & Gaba2  & 3.258039e-01 & 0.2575593695 & 0.199087717 & 0.775522507 & 0.002835242 & 0.9114786155 & 0.09950058 & 0.4665735 & 0.2951766927 & 9.962526e-02 & 0.0773742995 & 0.86674029\\\\\n",
       "\tFoxp2 & Gaba7  & 1.448449e-01 & 0.0080900194 & 0.013578603 & 0.055065175 & 0.018679991 & 0.0002987387 & 0.03187336 & 0.2827449 & 0.2558674007 & 2.917872e-02 & 0.0740235661 & 0.59845337\\\\\n",
       "\tTacr1 & Gaba10 & 3.046101e-01 & 0.0349518199 & 0.074861737 & 0.421663706 & 0.076781152 & 0.6430623930 & 0.01249868 & 0.1553252 & 0.4123485417 & 6.467090e-03 & 0.1466599181 & 0.38629814\\\\\n",
       "\tSamd3 & Glu1   & 4.233258e-01 & 0.2267686687 & 0.074847016 & 0.712695946 & 0.214246647 & 0.9372234424 & 0.23484182 & 0.3426244 & 0.4596136182 & 3.081897e-01 & 0.2050115531 & 0.72844051\\\\\n",
       "\tPax6 & Gaba6  & 4.284647e-01 & 0.1318905086 & 0.129266695 & 0.556480215 & 0.136022924 & 0.9628539125 & 0.10775820 & 0.2304963 & 0.0001359473 & 2.290337e-01 & 0.1611162597 & 0.80070598\\\\\n",
       "\tCrhr2 & Gaba5  & 2.394002e-01 & 0.0243109645 & 0.096964603 & 0.668015458 & 0.059993288 & 0.6613604492 & 0.03269623 & 0.5650801 & 0.1542265761 & 2.122207e-06 & 0.0248594488 & 0.78067048\\\\\n",
       "\tEsr1 & Gaba4  & 1.831417e-01 & 0.0768737176 & 0.046745489 & 0.408859322 & 0.046832338 & 0.8300744541 & 0.04914453 & 0.2595933 & 0.2294117264 & 1.453025e-01 & 0.0001055644 & 0.93779635\\\\\n",
       "\tOnecut2 & Glu2   & 2.690554e-01 & 0.1257309903 & 0.096091658 & 0.611280971 & 0.042741705 & 0.7090066562 & 0.04525829 & 0.5607503 & 0.2111753587 & 1.794053e-01 & 0.0431918038 & 0.09575836\\\\\n",
       "\\end{tabular}\n"
      ],
      "text/markdown": [
       "\n",
       "A data.frame: 12 × 13\n",
       "\n",
       "| <!--/--> | gene &lt;chr&gt; | p.1 &lt;dbl&gt; | p.1 &lt;dbl&gt; | p.1 &lt;dbl&gt; | p.1 &lt;dbl&gt; | p.1 &lt;dbl&gt; | p.1 &lt;dbl&gt; | p.1 &lt;dbl&gt; | p.1 &lt;dbl&gt; | p.1 &lt;dbl&gt; | p.1 &lt;dbl&gt; | p.1 &lt;dbl&gt; | p.1 &lt;dbl&gt; |\n",
       "|---|---|---|---|---|---|---|---|---|---|---|---|---|---|\n",
       "| Sst | Gaba11 | 5.053117e-05 | 0.0064758660 | 0.001172769 | 0.005859736 | 0.002267144 | 0.8064619884 | 0.07116665 | 0.2854332 | 0.1316269756 | 2.314582e-02 | 0.0585249776 | 0.68632287 |\n",
       "| Met | Gaba9  | 4.448671e-01 | 0.0003040611 | 0.001329740 | 0.445973675 | 0.102690594 | 0.9304336824 | 0.15382778 | 0.2544169 | 0.2919895220 | 1.009163e-01 | 0.1403753902 | 0.72109120 |\n",
       "| Col15a1 | Gaba1  | 1.056064e-01 | 0.0650853464 | 0.001573532 | 0.539785164 | 0.039223530 | 0.6488858535 | 0.01515537 | 0.6143134 | 0.0840754768 | 8.555583e-02 | 0.0120659534 | 0.50745816 |\n",
       "| Nts | Gaba8  | 3.397284e-01 | 0.0902075294 | 0.065163078 | 0.009648418 | 0.025819145 | 0.4607202018 | 0.06465922 | 0.3752805 | 0.1703912973 | 4.520658e-02 | 0.0780256105 | 0.95698833 |\n",
       "| Drd3 | Gaba2  | 3.258039e-01 | 0.2575593695 | 0.199087717 | 0.775522507 | 0.002835242 | 0.9114786155 | 0.09950058 | 0.4665735 | 0.2951766927 | 9.962526e-02 | 0.0773742995 | 0.86674029 |\n",
       "| Foxp2 | Gaba7  | 1.448449e-01 | 0.0080900194 | 0.013578603 | 0.055065175 | 0.018679991 | 0.0002987387 | 0.03187336 | 0.2827449 | 0.2558674007 | 2.917872e-02 | 0.0740235661 | 0.59845337 |\n",
       "| Tacr1 | Gaba10 | 3.046101e-01 | 0.0349518199 | 0.074861737 | 0.421663706 | 0.076781152 | 0.6430623930 | 0.01249868 | 0.1553252 | 0.4123485417 | 6.467090e-03 | 0.1466599181 | 0.38629814 |\n",
       "| Samd3 | Glu1   | 4.233258e-01 | 0.2267686687 | 0.074847016 | 0.712695946 | 0.214246647 | 0.9372234424 | 0.23484182 | 0.3426244 | 0.4596136182 | 3.081897e-01 | 0.2050115531 | 0.72844051 |\n",
       "| Pax6 | Gaba6  | 4.284647e-01 | 0.1318905086 | 0.129266695 | 0.556480215 | 0.136022924 | 0.9628539125 | 0.10775820 | 0.2304963 | 0.0001359473 | 2.290337e-01 | 0.1611162597 | 0.80070598 |\n",
       "| Crhr2 | Gaba5  | 2.394002e-01 | 0.0243109645 | 0.096964603 | 0.668015458 | 0.059993288 | 0.6613604492 | 0.03269623 | 0.5650801 | 0.1542265761 | 2.122207e-06 | 0.0248594488 | 0.78067048 |\n",
       "| Esr1 | Gaba4  | 1.831417e-01 | 0.0768737176 | 0.046745489 | 0.408859322 | 0.046832338 | 0.8300744541 | 0.04914453 | 0.2595933 | 0.2294117264 | 1.453025e-01 | 0.0001055644 | 0.93779635 |\n",
       "| Onecut2 | Glu2   | 2.690554e-01 | 0.1257309903 | 0.096091658 | 0.611280971 | 0.042741705 | 0.7090066562 | 0.04525829 | 0.5607503 | 0.2111753587 | 1.794053e-01 | 0.0431918038 | 0.09575836 |\n",
       "\n"
      ],
      "text/plain": [
       "        gene   p.1          p.1          p.1         p.1         p.1        \n",
       "Sst     Gaba11 5.053117e-05 0.0064758660 0.001172769 0.005859736 0.002267144\n",
       "Met     Gaba9  4.448671e-01 0.0003040611 0.001329740 0.445973675 0.102690594\n",
       "Col15a1 Gaba1  1.056064e-01 0.0650853464 0.001573532 0.539785164 0.039223530\n",
       "Nts     Gaba8  3.397284e-01 0.0902075294 0.065163078 0.009648418 0.025819145\n",
       "Drd3    Gaba2  3.258039e-01 0.2575593695 0.199087717 0.775522507 0.002835242\n",
       "Foxp2   Gaba7  1.448449e-01 0.0080900194 0.013578603 0.055065175 0.018679991\n",
       "Tacr1   Gaba10 3.046101e-01 0.0349518199 0.074861737 0.421663706 0.076781152\n",
       "Samd3   Glu1   4.233258e-01 0.2267686687 0.074847016 0.712695946 0.214246647\n",
       "Pax6    Gaba6  4.284647e-01 0.1318905086 0.129266695 0.556480215 0.136022924\n",
       "Crhr2   Gaba5  2.394002e-01 0.0243109645 0.096964603 0.668015458 0.059993288\n",
       "Esr1    Gaba4  1.831417e-01 0.0768737176 0.046745489 0.408859322 0.046832338\n",
       "Onecut2 Glu2   2.690554e-01 0.1257309903 0.096091658 0.611280971 0.042741705\n",
       "        p.1          p.1        p.1       p.1          p.1         \n",
       "Sst     0.8064619884 0.07116665 0.2854332 0.1316269756 2.314582e-02\n",
       "Met     0.9304336824 0.15382778 0.2544169 0.2919895220 1.009163e-01\n",
       "Col15a1 0.6488858535 0.01515537 0.6143134 0.0840754768 8.555583e-02\n",
       "Nts     0.4607202018 0.06465922 0.3752805 0.1703912973 4.520658e-02\n",
       "Drd3    0.9114786155 0.09950058 0.4665735 0.2951766927 9.962526e-02\n",
       "Foxp2   0.0002987387 0.03187336 0.2827449 0.2558674007 2.917872e-02\n",
       "Tacr1   0.6430623930 0.01249868 0.1553252 0.4123485417 6.467090e-03\n",
       "Samd3   0.9372234424 0.23484182 0.3426244 0.4596136182 3.081897e-01\n",
       "Pax6    0.9628539125 0.10775820 0.2304963 0.0001359473 2.290337e-01\n",
       "Crhr2   0.6613604492 0.03269623 0.5650801 0.1542265761 2.122207e-06\n",
       "Esr1    0.8300744541 0.04914453 0.2595933 0.2294117264 1.453025e-01\n",
       "Onecut2 0.7090066562 0.04525829 0.5607503 0.2111753587 1.794053e-01\n",
       "        p.1          p.1       \n",
       "Sst     0.0585249776 0.68632287\n",
       "Met     0.1403753902 0.72109120\n",
       "Col15a1 0.0120659534 0.50745816\n",
       "Nts     0.0780256105 0.95698833\n",
       "Drd3    0.0773742995 0.86674029\n",
       "Foxp2   0.0740235661 0.59845337\n",
       "Tacr1   0.1466599181 0.38629814\n",
       "Samd3   0.2050115531 0.72844051\n",
       "Pax6    0.1611162597 0.80070598\n",
       "Crhr2   0.0248594488 0.78067048\n",
       "Esr1    0.0001055644 0.93779635\n",
       "Onecut2 0.0431918038 0.09575836"
      ]
     },
     "metadata": {},
     "output_type": "display_data"
    }
   ],
   "source": [
    "p.2"
   ]
  },
  {
   "cell_type": "code",
   "execution_count": 104,
   "metadata": {},
   "outputs": [
    {
     "name": "stderr",
     "output_type": "stream",
     "text": [
      "\n",
      "Attaching package: 'reshape2'\n",
      "\n",
      "\n",
      "The following object is masked from 'package:tidyr':\n",
      "\n",
      "    smiths\n",
      "\n",
      "\n"
     ]
    }
   ],
   "source": [
    "library(reshape2)"
   ]
  },
  {
   "cell_type": "code",
   "execution_count": 105,
   "metadata": {},
   "outputs": [],
   "source": [
    "cor.df <- cor.2[2:13]\n",
    "colnames(cor.df)<-hcr.types\n",
    "rownames(cor.df)<-seq.types"
   ]
  },
  {
   "cell_type": "code",
   "execution_count": 106,
   "metadata": {
    "scrolled": true
   },
   "outputs": [],
   "source": [
    "cor.df<-data.matrix(cor.df)"
   ]
  },
  {
   "cell_type": "code",
   "execution_count": 107,
   "metadata": {},
   "outputs": [],
   "source": [
    "cor.df.long <-melt(cor.df)"
   ]
  },
  {
   "cell_type": "code",
   "execution_count": 108,
   "metadata": {
    "scrolled": true
   },
   "outputs": [
    {
     "data": {
      "text/html": [
       "<table class=\"dataframe\">\n",
       "<caption>A data.frame: 144 × 3</caption>\n",
       "<thead>\n",
       "\t<tr><th scope=col>Var1</th><th scope=col>Var2</th><th scope=col>value</th></tr>\n",
       "\t<tr><th scope=col>&lt;fct&gt;</th><th scope=col>&lt;fct&gt;</th><th scope=col>&lt;dbl&gt;</th></tr>\n",
       "</thead>\n",
       "<tbody>\n",
       "\t<tr><td>Gaba11</td><td>Sst    </td><td>0.8541311</td></tr>\n",
       "\t<tr><td>Gaba9 </td><td>Sst    </td><td>0.2134944</td></tr>\n",
       "\t<tr><td>Gaba1 </td><td>Sst    </td><td>0.4344634</td></tr>\n",
       "\t<tr><td>Gaba8 </td><td>Sst    </td><td>0.2650493</td></tr>\n",
       "\t<tr><td>Gaba2 </td><td>Sst    </td><td>0.2725022</td></tr>\n",
       "\t<tr><td>Gaba7 </td><td>Sst    </td><td>0.3952071</td></tr>\n",
       "\t<tr><td>Gaba10</td><td>Sst    </td><td>0.2842047</td></tr>\n",
       "\t<tr><td>Glu1  </td><td>Sst    </td><td>0.2234841</td></tr>\n",
       "\t<tr><td>Gaba6 </td><td>Sst    </td><td>0.2210778</td></tr>\n",
       "\t<tr><td>Gaba5 </td><td>Sst    </td><td>0.3235801</td></tr>\n",
       "\t<tr><td>Gaba4 </td><td>Sst    </td><td>0.3633330</td></tr>\n",
       "\t<tr><td>Glu2  </td><td>Sst    </td><td>0.3049623</td></tr>\n",
       "\t<tr><td>Gaba11</td><td>Met    </td><td>0.6681689</td></tr>\n",
       "\t<tr><td>Gaba9 </td><td>Met    </td><td>0.8039147</td></tr>\n",
       "\t<tr><td>Gaba1 </td><td>Met    </td><td>0.4878170</td></tr>\n",
       "\t<tr><td>Gaba8 </td><td>Met    </td><td>0.4526664</td></tr>\n",
       "\t<tr><td>Gaba2 </td><td>Met    </td><td>0.3120232</td></tr>\n",
       "\t<tr><td>Gaba7 </td><td>Met    </td><td>0.6546439</td></tr>\n",
       "\t<tr><td>Gaba10</td><td>Met    </td><td>0.5467151</td></tr>\n",
       "\t<tr><td>Glu1  </td><td>Met    </td><td>0.3319428</td></tr>\n",
       "\t<tr><td>Gaba6 </td><td>Met    </td><td>0.4072602</td></tr>\n",
       "\t<tr><td>Gaba5 </td><td>Met    </td><td>0.5770347</td></tr>\n",
       "\t<tr><td>Gaba4 </td><td>Met    </td><td>0.4702987</td></tr>\n",
       "\t<tr><td>Glu2  </td><td>Met    </td><td>0.4132748</td></tr>\n",
       "\t<tr><td>Gaba11</td><td>Col15a1</td><td>0.7537439</td></tr>\n",
       "\t<tr><td>Gaba9 </td><td>Col15a1</td><td>0.7483921</td></tr>\n",
       "\t<tr><td>Gaba1 </td><td>Col15a1</td><td>0.7410134</td></tr>\n",
       "\t<tr><td>Gaba8 </td><td>Col15a1</td><td>0.4876942</td></tr>\n",
       "\t<tr><td>Gaba2 </td><td>Col15a1</td><td>0.3513546</td></tr>\n",
       "\t<tr><td>Gaba7 </td><td>Col15a1</td><td>0.6205166</td></tr>\n",
       "\t<tr><td>...</td><td>...</td><td>...</td></tr>\n",
       "\t<tr><td>Gaba10</td><td>Crhr2  </td><td> 0.66824935</td></tr>\n",
       "\t<tr><td>Glu1  </td><td>Crhr2  </td><td> 0.28219585</td></tr>\n",
       "\t<tr><td>Gaba6 </td><td>Crhr2  </td><td> 0.33042226</td></tr>\n",
       "\t<tr><td>Gaba5 </td><td>Crhr2  </td><td> 0.91241680</td></tr>\n",
       "\t<tr><td>Gaba4 </td><td>Crhr2  </td><td> 0.39479485</td></tr>\n",
       "\t<tr><td>Glu2  </td><td>Crhr2  </td><td> 0.36623680</td></tr>\n",
       "\t<tr><td>Gaba11</td><td>Esr1   </td><td> 0.49858293</td></tr>\n",
       "\t<tr><td>Gaba9 </td><td>Esr1   </td><td> 0.39928003</td></tr>\n",
       "\t<tr><td>Gaba1 </td><td>Esr1   </td><td> 0.62864789</td></tr>\n",
       "\t<tr><td>Gaba8 </td><td>Esr1   </td><td> 0.46869312</td></tr>\n",
       "\t<tr><td>Gaba2 </td><td>Esr1   </td><td> 0.46959885</td></tr>\n",
       "\t<tr><td>Gaba7 </td><td>Esr1   </td><td> 0.47434678</td></tr>\n",
       "\t<tr><td>Gaba10</td><td>Esr1   </td><td> 0.39357722</td></tr>\n",
       "\t<tr><td>Glu1  </td><td>Esr1   </td><td> 0.34706255</td></tr>\n",
       "\t<tr><td>Gaba6 </td><td>Esr1   </td><td> 0.38105438</td></tr>\n",
       "\t<tr><td>Gaba5 </td><td>Esr1   </td><td> 0.57524774</td></tr>\n",
       "\t<tr><td>Gaba4 </td><td>Esr1   </td><td> 0.83542650</td></tr>\n",
       "\t<tr><td>Glu2  </td><td>Esr1   </td><td> 0.52772682</td></tr>\n",
       "\t<tr><td>Gaba11</td><td>Onecut2</td><td>-0.11380700</td></tr>\n",
       "\t<tr><td>Gaba9 </td><td>Onecut2</td><td>-0.10067663</td></tr>\n",
       "\t<tr><td>Gaba1 </td><td>Onecut2</td><td> 0.18574988</td></tr>\n",
       "\t<tr><td>Gaba8 </td><td>Onecut2</td><td>-0.01524766</td></tr>\n",
       "\t<tr><td>Gaba2 </td><td>Onecut2</td><td> 0.04741536</td></tr>\n",
       "\t<tr><td>Gaba7 </td><td>Onecut2</td><td>-0.14806618</td></tr>\n",
       "\t<tr><td>Gaba10</td><td>Onecut2</td><td>-0.24129145</td></tr>\n",
       "\t<tr><td>Glu1  </td><td>Onecut2</td><td>-0.09792652</td></tr>\n",
       "\t<tr><td>Gaba6 </td><td>Onecut2</td><td>-0.07127916</td></tr>\n",
       "\t<tr><td>Gaba5 </td><td>Onecut2</td><td>-0.07860225</td></tr>\n",
       "\t<tr><td>Gaba4 </td><td>Onecut2</td><td>-0.02206151</td></tr>\n",
       "\t<tr><td>Glu2  </td><td>Onecut2</td><td> 0.44586986</td></tr>\n",
       "</tbody>\n",
       "</table>\n"
      ],
      "text/latex": [
       "A data.frame: 144 × 3\n",
       "\\begin{tabular}{lll}\n",
       " Var1 & Var2 & value\\\\\n",
       " <fct> & <fct> & <dbl>\\\\\n",
       "\\hline\n",
       "\t Gaba11 & Sst     & 0.8541311\\\\\n",
       "\t Gaba9  & Sst     & 0.2134944\\\\\n",
       "\t Gaba1  & Sst     & 0.4344634\\\\\n",
       "\t Gaba8  & Sst     & 0.2650493\\\\\n",
       "\t Gaba2  & Sst     & 0.2725022\\\\\n",
       "\t Gaba7  & Sst     & 0.3952071\\\\\n",
       "\t Gaba10 & Sst     & 0.2842047\\\\\n",
       "\t Glu1   & Sst     & 0.2234841\\\\\n",
       "\t Gaba6  & Sst     & 0.2210778\\\\\n",
       "\t Gaba5  & Sst     & 0.3235801\\\\\n",
       "\t Gaba4  & Sst     & 0.3633330\\\\\n",
       "\t Glu2   & Sst     & 0.3049623\\\\\n",
       "\t Gaba11 & Met     & 0.6681689\\\\\n",
       "\t Gaba9  & Met     & 0.8039147\\\\\n",
       "\t Gaba1  & Met     & 0.4878170\\\\\n",
       "\t Gaba8  & Met     & 0.4526664\\\\\n",
       "\t Gaba2  & Met     & 0.3120232\\\\\n",
       "\t Gaba7  & Met     & 0.6546439\\\\\n",
       "\t Gaba10 & Met     & 0.5467151\\\\\n",
       "\t Glu1   & Met     & 0.3319428\\\\\n",
       "\t Gaba6  & Met     & 0.4072602\\\\\n",
       "\t Gaba5  & Met     & 0.5770347\\\\\n",
       "\t Gaba4  & Met     & 0.4702987\\\\\n",
       "\t Glu2   & Met     & 0.4132748\\\\\n",
       "\t Gaba11 & Col15a1 & 0.7537439\\\\\n",
       "\t Gaba9  & Col15a1 & 0.7483921\\\\\n",
       "\t Gaba1  & Col15a1 & 0.7410134\\\\\n",
       "\t Gaba8  & Col15a1 & 0.4876942\\\\\n",
       "\t Gaba2  & Col15a1 & 0.3513546\\\\\n",
       "\t Gaba7  & Col15a1 & 0.6205166\\\\\n",
       "\t ... & ... & ...\\\\\n",
       "\t Gaba10 & Crhr2   &  0.66824935\\\\\n",
       "\t Glu1   & Crhr2   &  0.28219585\\\\\n",
       "\t Gaba6  & Crhr2   &  0.33042226\\\\\n",
       "\t Gaba5  & Crhr2   &  0.91241680\\\\\n",
       "\t Gaba4  & Crhr2   &  0.39479485\\\\\n",
       "\t Glu2   & Crhr2   &  0.36623680\\\\\n",
       "\t Gaba11 & Esr1    &  0.49858293\\\\\n",
       "\t Gaba9  & Esr1    &  0.39928003\\\\\n",
       "\t Gaba1  & Esr1    &  0.62864789\\\\\n",
       "\t Gaba8  & Esr1    &  0.46869312\\\\\n",
       "\t Gaba2  & Esr1    &  0.46959885\\\\\n",
       "\t Gaba7  & Esr1    &  0.47434678\\\\\n",
       "\t Gaba10 & Esr1    &  0.39357722\\\\\n",
       "\t Glu1   & Esr1    &  0.34706255\\\\\n",
       "\t Gaba6  & Esr1    &  0.38105438\\\\\n",
       "\t Gaba5  & Esr1    &  0.57524774\\\\\n",
       "\t Gaba4  & Esr1    &  0.83542650\\\\\n",
       "\t Glu2   & Esr1    &  0.52772682\\\\\n",
       "\t Gaba11 & Onecut2 & -0.11380700\\\\\n",
       "\t Gaba9  & Onecut2 & -0.10067663\\\\\n",
       "\t Gaba1  & Onecut2 &  0.18574988\\\\\n",
       "\t Gaba8  & Onecut2 & -0.01524766\\\\\n",
       "\t Gaba2  & Onecut2 &  0.04741536\\\\\n",
       "\t Gaba7  & Onecut2 & -0.14806618\\\\\n",
       "\t Gaba10 & Onecut2 & -0.24129145\\\\\n",
       "\t Glu1   & Onecut2 & -0.09792652\\\\\n",
       "\t Gaba6  & Onecut2 & -0.07127916\\\\\n",
       "\t Gaba5  & Onecut2 & -0.07860225\\\\\n",
       "\t Gaba4  & Onecut2 & -0.02206151\\\\\n",
       "\t Glu2   & Onecut2 &  0.44586986\\\\\n",
       "\\end{tabular}\n"
      ],
      "text/markdown": [
       "\n",
       "A data.frame: 144 × 3\n",
       "\n",
       "| Var1 &lt;fct&gt; | Var2 &lt;fct&gt; | value &lt;dbl&gt; |\n",
       "|---|---|---|\n",
       "| Gaba11 | Sst     | 0.8541311 |\n",
       "| Gaba9  | Sst     | 0.2134944 |\n",
       "| Gaba1  | Sst     | 0.4344634 |\n",
       "| Gaba8  | Sst     | 0.2650493 |\n",
       "| Gaba2  | Sst     | 0.2725022 |\n",
       "| Gaba7  | Sst     | 0.3952071 |\n",
       "| Gaba10 | Sst     | 0.2842047 |\n",
       "| Glu1   | Sst     | 0.2234841 |\n",
       "| Gaba6  | Sst     | 0.2210778 |\n",
       "| Gaba5  | Sst     | 0.3235801 |\n",
       "| Gaba4  | Sst     | 0.3633330 |\n",
       "| Glu2   | Sst     | 0.3049623 |\n",
       "| Gaba11 | Met     | 0.6681689 |\n",
       "| Gaba9  | Met     | 0.8039147 |\n",
       "| Gaba1  | Met     | 0.4878170 |\n",
       "| Gaba8  | Met     | 0.4526664 |\n",
       "| Gaba2  | Met     | 0.3120232 |\n",
       "| Gaba7  | Met     | 0.6546439 |\n",
       "| Gaba10 | Met     | 0.5467151 |\n",
       "| Glu1   | Met     | 0.3319428 |\n",
       "| Gaba6  | Met     | 0.4072602 |\n",
       "| Gaba5  | Met     | 0.5770347 |\n",
       "| Gaba4  | Met     | 0.4702987 |\n",
       "| Glu2   | Met     | 0.4132748 |\n",
       "| Gaba11 | Col15a1 | 0.7537439 |\n",
       "| Gaba9  | Col15a1 | 0.7483921 |\n",
       "| Gaba1  | Col15a1 | 0.7410134 |\n",
       "| Gaba8  | Col15a1 | 0.4876942 |\n",
       "| Gaba2  | Col15a1 | 0.3513546 |\n",
       "| Gaba7  | Col15a1 | 0.6205166 |\n",
       "| ... | ... | ... |\n",
       "| Gaba10 | Crhr2   |  0.66824935 |\n",
       "| Glu1   | Crhr2   |  0.28219585 |\n",
       "| Gaba6  | Crhr2   |  0.33042226 |\n",
       "| Gaba5  | Crhr2   |  0.91241680 |\n",
       "| Gaba4  | Crhr2   |  0.39479485 |\n",
       "| Glu2   | Crhr2   |  0.36623680 |\n",
       "| Gaba11 | Esr1    |  0.49858293 |\n",
       "| Gaba9  | Esr1    |  0.39928003 |\n",
       "| Gaba1  | Esr1    |  0.62864789 |\n",
       "| Gaba8  | Esr1    |  0.46869312 |\n",
       "| Gaba2  | Esr1    |  0.46959885 |\n",
       "| Gaba7  | Esr1    |  0.47434678 |\n",
       "| Gaba10 | Esr1    |  0.39357722 |\n",
       "| Glu1   | Esr1    |  0.34706255 |\n",
       "| Gaba6  | Esr1    |  0.38105438 |\n",
       "| Gaba5  | Esr1    |  0.57524774 |\n",
       "| Gaba4  | Esr1    |  0.83542650 |\n",
       "| Glu2   | Esr1    |  0.52772682 |\n",
       "| Gaba11 | Onecut2 | -0.11380700 |\n",
       "| Gaba9  | Onecut2 | -0.10067663 |\n",
       "| Gaba1  | Onecut2 |  0.18574988 |\n",
       "| Gaba8  | Onecut2 | -0.01524766 |\n",
       "| Gaba2  | Onecut2 |  0.04741536 |\n",
       "| Gaba7  | Onecut2 | -0.14806618 |\n",
       "| Gaba10 | Onecut2 | -0.24129145 |\n",
       "| Glu1   | Onecut2 | -0.09792652 |\n",
       "| Gaba6  | Onecut2 | -0.07127916 |\n",
       "| Gaba5  | Onecut2 | -0.07860225 |\n",
       "| Gaba4  | Onecut2 | -0.02206151 |\n",
       "| Glu2   | Onecut2 |  0.44586986 |\n",
       "\n"
      ],
      "text/plain": [
       "    Var1   Var2    value      \n",
       "1   Gaba11 Sst     0.8541311  \n",
       "2   Gaba9  Sst     0.2134944  \n",
       "3   Gaba1  Sst     0.4344634  \n",
       "4   Gaba8  Sst     0.2650493  \n",
       "5   Gaba2  Sst     0.2725022  \n",
       "6   Gaba7  Sst     0.3952071  \n",
       "7   Gaba10 Sst     0.2842047  \n",
       "8   Glu1   Sst     0.2234841  \n",
       "9   Gaba6  Sst     0.2210778  \n",
       "10  Gaba5  Sst     0.3235801  \n",
       "11  Gaba4  Sst     0.3633330  \n",
       "12  Glu2   Sst     0.3049623  \n",
       "13  Gaba11 Met     0.6681689  \n",
       "14  Gaba9  Met     0.8039147  \n",
       "15  Gaba1  Met     0.4878170  \n",
       "16  Gaba8  Met     0.4526664  \n",
       "17  Gaba2  Met     0.3120232  \n",
       "18  Gaba7  Met     0.6546439  \n",
       "19  Gaba10 Met     0.5467151  \n",
       "20  Glu1   Met     0.3319428  \n",
       "21  Gaba6  Met     0.4072602  \n",
       "22  Gaba5  Met     0.5770347  \n",
       "23  Gaba4  Met     0.4702987  \n",
       "24  Glu2   Met     0.4132748  \n",
       "25  Gaba11 Col15a1 0.7537439  \n",
       "26  Gaba9  Col15a1 0.7483921  \n",
       "27  Gaba1  Col15a1 0.7410134  \n",
       "28  Gaba8  Col15a1 0.4876942  \n",
       "29  Gaba2  Col15a1 0.3513546  \n",
       "30  Gaba7  Col15a1 0.6205166  \n",
       "... ...    ...     ...        \n",
       "115 Gaba10 Crhr2    0.66824935\n",
       "116 Glu1   Crhr2    0.28219585\n",
       "117 Gaba6  Crhr2    0.33042226\n",
       "118 Gaba5  Crhr2    0.91241680\n",
       "119 Gaba4  Crhr2    0.39479485\n",
       "120 Glu2   Crhr2    0.36623680\n",
       "121 Gaba11 Esr1     0.49858293\n",
       "122 Gaba9  Esr1     0.39928003\n",
       "123 Gaba1  Esr1     0.62864789\n",
       "124 Gaba8  Esr1     0.46869312\n",
       "125 Gaba2  Esr1     0.46959885\n",
       "126 Gaba7  Esr1     0.47434678\n",
       "127 Gaba10 Esr1     0.39357722\n",
       "128 Glu1   Esr1     0.34706255\n",
       "129 Gaba6  Esr1     0.38105438\n",
       "130 Gaba5  Esr1     0.57524774\n",
       "131 Gaba4  Esr1     0.83542650\n",
       "132 Glu2   Esr1     0.52772682\n",
       "133 Gaba11 Onecut2 -0.11380700\n",
       "134 Gaba9  Onecut2 -0.10067663\n",
       "135 Gaba1  Onecut2  0.18574988\n",
       "136 Gaba8  Onecut2 -0.01524766\n",
       "137 Gaba2  Onecut2  0.04741536\n",
       "138 Gaba7  Onecut2 -0.14806618\n",
       "139 Gaba10 Onecut2 -0.24129145\n",
       "140 Glu1   Onecut2 -0.09792652\n",
       "141 Gaba6  Onecut2 -0.07127916\n",
       "142 Gaba5  Onecut2 -0.07860225\n",
       "143 Gaba4  Onecut2 -0.02206151\n",
       "144 Glu2   Onecut2  0.44586986"
      ]
     },
     "metadata": {},
     "output_type": "display_data"
    }
   ],
   "source": [
    "cor.df.long"
   ]
  },
  {
   "cell_type": "code",
   "execution_count": 109,
   "metadata": {},
   "outputs": [],
   "source": [
    "cor.df.long$Var1<-factor(cor.df.long$Var1, levels=rev(c('Gaba5','Gaba11','Gaba6','Gaba4','Gaba7','Gaba9','Gaba1','Gaba2','Gaba8','Gaba10','Glu2','Glu1')))"
   ]
  },
  {
   "cell_type": "code",
   "execution_count": 110,
   "metadata": {},
   "outputs": [],
   "source": [
    "cor.df.long$Var2<-factor(cor.df.long$Var2, levels=(c('Crhr2','Sst','Pax6','Esr1','Foxp2','Met','Col15a1','Drd3','Nts','Tacr1','Onecut2','Samd3')))"
   ]
  },
  {
   "cell_type": "code",
   "execution_count": 111,
   "metadata": {},
   "outputs": [
    {
     "data": {
      "image/png": "[encoded data removed]",
      "text/plain": [
       "plot without title"
      ]
     },
     "metadata": {
      "image/png": {
       "height": 420,
       "width": 420
      }
     },
     "output_type": "display_data"
    }
   ],
   "source": [
    "ggplot(cor.df.long, aes(x=Var1, y=Var2, fill=value))+\n",
    "geom_tile() + scale_fill_gradient2(low='gray',mid='white',high='darkred',midpoint=0) +\n",
    "theme_classic()+\n",
    "    theme( axis.line=element_line(size=0.25),\n",
    "        axis.ticks=element_line(size=0.25),\n",
    "        axis.text.y = element_text(size=6,),\n",
    "        axis.text.x = element_text(size=6, angle=45, hjust=1),\n",
    "        axis.title = element_blank(),\n",
    "        legend.position='bottom',\n",
    "        legend.key.size = unit(.2, 'cm'),\n",
    "        legend.title = element_text(size=6),\n",
    "        legend.text = element_text(size=6)) + coord_flip()\n",
    "#ggsave('C:/Users/stuberadmin/Documents/scRNAseq/211119-RS-rv4/Neurons_only_iter2/HCR_seq_correlation.pdf',width=3, height=3)"
   ]
  },
  {
   "cell_type": "code",
   "execution_count": null,
   "metadata": {},
   "outputs": [],
   "source": []
  },
  {
   "cell_type": "code",
   "execution_count": null,
   "metadata": {},
   "outputs": [],
   "source": []
  },
  {
   "cell_type": "code",
   "execution_count": 127,
   "metadata": {},
   "outputs": [],
   "source": [
    "p.df <- p.2[2:13]\n",
    "colnames(p.df)<-hcr.types\n",
    "rownames(p.df)<-seq.types"
   ]
  },
  {
   "cell_type": "code",
   "execution_count": 128,
   "metadata": {
    "scrolled": true
   },
   "outputs": [],
   "source": [
    "p.df<-data.matrix(p.df)"
   ]
  },
  {
   "cell_type": "code",
   "execution_count": 129,
   "metadata": {},
   "outputs": [],
   "source": [
    "p.df.long <-melt(p.df)"
   ]
  },
  {
   "cell_type": "code",
   "execution_count": 130,
   "metadata": {
    "scrolled": true
   },
   "outputs": [
    {
     "data": {
      "text/html": [
       "<table class=\"dataframe\">\n",
       "<caption>A data.frame: 144 × 3</caption>\n",
       "<thead>\n",
       "\t<tr><th scope=col>Var1</th><th scope=col>Var2</th><th scope=col>value</th></tr>\n",
       "\t<tr><th scope=col>&lt;fct&gt;</th><th scope=col>&lt;fct&gt;</th><th scope=col>&lt;dbl&gt;</th></tr>\n",
       "</thead>\n",
       "<tbody>\n",
       "\t<tr><td>Gaba11</td><td>Sst    </td><td>5.053117e-05</td></tr>\n",
       "\t<tr><td>Gaba9 </td><td>Sst    </td><td>4.448671e-01</td></tr>\n",
       "\t<tr><td>Gaba1 </td><td>Sst    </td><td>1.056064e-01</td></tr>\n",
       "\t<tr><td>Gaba8 </td><td>Sst    </td><td>3.397284e-01</td></tr>\n",
       "\t<tr><td>Gaba2 </td><td>Sst    </td><td>3.258039e-01</td></tr>\n",
       "\t<tr><td>Gaba7 </td><td>Sst    </td><td>1.448449e-01</td></tr>\n",
       "\t<tr><td>Gaba10</td><td>Sst    </td><td>3.046101e-01</td></tr>\n",
       "\t<tr><td>Glu1  </td><td>Sst    </td><td>4.233258e-01</td></tr>\n",
       "\t<tr><td>Gaba6 </td><td>Sst    </td><td>4.284647e-01</td></tr>\n",
       "\t<tr><td>Gaba5 </td><td>Sst    </td><td>2.394002e-01</td></tr>\n",
       "\t<tr><td>Gaba4 </td><td>Sst    </td><td>1.831417e-01</td></tr>\n",
       "\t<tr><td>Glu2  </td><td>Sst    </td><td>2.690554e-01</td></tr>\n",
       "\t<tr><td>Gaba11</td><td>Met    </td><td>6.475866e-03</td></tr>\n",
       "\t<tr><td>Gaba9 </td><td>Met    </td><td>3.040611e-04</td></tr>\n",
       "\t<tr><td>Gaba1 </td><td>Met    </td><td>6.508535e-02</td></tr>\n",
       "\t<tr><td>Gaba8 </td><td>Met    </td><td>9.020753e-02</td></tr>\n",
       "\t<tr><td>Gaba2 </td><td>Met    </td><td>2.575594e-01</td></tr>\n",
       "\t<tr><td>Gaba7 </td><td>Met    </td><td>8.090019e-03</td></tr>\n",
       "\t<tr><td>Gaba10</td><td>Met    </td><td>3.495182e-02</td></tr>\n",
       "\t<tr><td>Glu1  </td><td>Met    </td><td>2.267687e-01</td></tr>\n",
       "\t<tr><td>Gaba6 </td><td>Met    </td><td>1.318905e-01</td></tr>\n",
       "\t<tr><td>Gaba5 </td><td>Met    </td><td>2.431096e-02</td></tr>\n",
       "\t<tr><td>Gaba4 </td><td>Met    </td><td>7.687372e-02</td></tr>\n",
       "\t<tr><td>Glu2  </td><td>Met    </td><td>1.257310e-01</td></tr>\n",
       "\t<tr><td>Gaba11</td><td>Col15a1</td><td>1.172769e-03</td></tr>\n",
       "\t<tr><td>Gaba9 </td><td>Col15a1</td><td>1.329740e-03</td></tr>\n",
       "\t<tr><td>Gaba1 </td><td>Col15a1</td><td>1.573532e-03</td></tr>\n",
       "\t<tr><td>Gaba8 </td><td>Col15a1</td><td>6.516308e-02</td></tr>\n",
       "\t<tr><td>Gaba2 </td><td>Col15a1</td><td>1.990877e-01</td></tr>\n",
       "\t<tr><td>Gaba7 </td><td>Col15a1</td><td>1.357860e-02</td></tr>\n",
       "\t<tr><td>...</td><td>...</td><td>...</td></tr>\n",
       "\t<tr><td>Gaba10</td><td>Crhr2  </td><td>6.467090e-03</td></tr>\n",
       "\t<tr><td>Glu1  </td><td>Crhr2  </td><td>3.081897e-01</td></tr>\n",
       "\t<tr><td>Gaba6 </td><td>Crhr2  </td><td>2.290337e-01</td></tr>\n",
       "\t<tr><td>Gaba5 </td><td>Crhr2  </td><td>2.122207e-06</td></tr>\n",
       "\t<tr><td>Gaba4 </td><td>Crhr2  </td><td>1.453025e-01</td></tr>\n",
       "\t<tr><td>Glu2  </td><td>Crhr2  </td><td>1.794053e-01</td></tr>\n",
       "\t<tr><td>Gaba11</td><td>Esr1   </td><td>5.852498e-02</td></tr>\n",
       "\t<tr><td>Gaba9 </td><td>Esr1   </td><td>1.403754e-01</td></tr>\n",
       "\t<tr><td>Gaba1 </td><td>Esr1   </td><td>1.206595e-02</td></tr>\n",
       "\t<tr><td>Gaba8 </td><td>Esr1   </td><td>7.802561e-02</td></tr>\n",
       "\t<tr><td>Gaba2 </td><td>Esr1   </td><td>7.737430e-02</td></tr>\n",
       "\t<tr><td>Gaba7 </td><td>Esr1   </td><td>7.402357e-02</td></tr>\n",
       "\t<tr><td>Gaba10</td><td>Esr1   </td><td>1.466599e-01</td></tr>\n",
       "\t<tr><td>Glu1  </td><td>Esr1   </td><td>2.050116e-01</td></tr>\n",
       "\t<tr><td>Gaba6 </td><td>Esr1   </td><td>1.611163e-01</td></tr>\n",
       "\t<tr><td>Gaba5 </td><td>Esr1   </td><td>2.485945e-02</td></tr>\n",
       "\t<tr><td>Gaba4 </td><td>Esr1   </td><td>1.055644e-04</td></tr>\n",
       "\t<tr><td>Glu2  </td><td>Esr1   </td><td>4.319180e-02</td></tr>\n",
       "\t<tr><td>Gaba11</td><td>Onecut2</td><td>6.863229e-01</td></tr>\n",
       "\t<tr><td>Gaba9 </td><td>Onecut2</td><td>7.210912e-01</td></tr>\n",
       "\t<tr><td>Gaba1 </td><td>Onecut2</td><td>5.074582e-01</td></tr>\n",
       "\t<tr><td>Gaba8 </td><td>Onecut2</td><td>9.569883e-01</td></tr>\n",
       "\t<tr><td>Gaba2 </td><td>Onecut2</td><td>8.667403e-01</td></tr>\n",
       "\t<tr><td>Gaba7 </td><td>Onecut2</td><td>5.984534e-01</td></tr>\n",
       "\t<tr><td>Gaba10</td><td>Onecut2</td><td>3.862981e-01</td></tr>\n",
       "\t<tr><td>Glu1  </td><td>Onecut2</td><td>7.284405e-01</td></tr>\n",
       "\t<tr><td>Gaba6 </td><td>Onecut2</td><td>8.007060e-01</td></tr>\n",
       "\t<tr><td>Gaba5 </td><td>Onecut2</td><td>7.806705e-01</td></tr>\n",
       "\t<tr><td>Gaba4 </td><td>Onecut2</td><td>9.377963e-01</td></tr>\n",
       "\t<tr><td>Glu2  </td><td>Onecut2</td><td>9.575836e-02</td></tr>\n",
       "</tbody>\n",
       "</table>\n"
      ],
      "text/latex": [
       "A data.frame: 144 × 3\n",
       "\\begin{tabular}{lll}\n",
       " Var1 & Var2 & value\\\\\n",
       " <fct> & <fct> & <dbl>\\\\\n",
       "\\hline\n",
       "\t Gaba11 & Sst     & 5.053117e-05\\\\\n",
       "\t Gaba9  & Sst     & 4.448671e-01\\\\\n",
       "\t Gaba1  & Sst     & 1.056064e-01\\\\\n",
       "\t Gaba8  & Sst     & 3.397284e-01\\\\\n",
       "\t Gaba2  & Sst     & 3.258039e-01\\\\\n",
       "\t Gaba7  & Sst     & 1.448449e-01\\\\\n",
       "\t Gaba10 & Sst     & 3.046101e-01\\\\\n",
       "\t Glu1   & Sst     & 4.233258e-01\\\\\n",
       "\t Gaba6  & Sst     & 4.284647e-01\\\\\n",
       "\t Gaba5  & Sst     & 2.394002e-01\\\\\n",
       "\t Gaba4  & Sst     & 1.831417e-01\\\\\n",
       "\t Glu2   & Sst     & 2.690554e-01\\\\\n",
       "\t Gaba11 & Met     & 6.475866e-03\\\\\n",
       "\t Gaba9  & Met     & 3.040611e-04\\\\\n",
       "\t Gaba1  & Met     & 6.508535e-02\\\\\n",
       "\t Gaba8  & Met     & 9.020753e-02\\\\\n",
       "\t Gaba2  & Met     & 2.575594e-01\\\\\n",
       "\t Gaba7  & Met     & 8.090019e-03\\\\\n",
       "\t Gaba10 & Met     & 3.495182e-02\\\\\n",
       "\t Glu1   & Met     & 2.267687e-01\\\\\n",
       "\t Gaba6  & Met     & 1.318905e-01\\\\\n",
       "\t Gaba5  & Met     & 2.431096e-02\\\\\n",
       "\t Gaba4  & Met     & 7.687372e-02\\\\\n",
       "\t Glu2   & Met     & 1.257310e-01\\\\\n",
       "\t Gaba11 & Col15a1 & 1.172769e-03\\\\\n",
       "\t Gaba9  & Col15a1 & 1.329740e-03\\\\\n",
       "\t Gaba1  & Col15a1 & 1.573532e-03\\\\\n",
       "\t Gaba8  & Col15a1 & 6.516308e-02\\\\\n",
       "\t Gaba2  & Col15a1 & 1.990877e-01\\\\\n",
       "\t Gaba7  & Col15a1 & 1.357860e-02\\\\\n",
       "\t ... & ... & ...\\\\\n",
       "\t Gaba10 & Crhr2   & 6.467090e-03\\\\\n",
       "\t Glu1   & Crhr2   & 3.081897e-01\\\\\n",
       "\t Gaba6  & Crhr2   & 2.290337e-01\\\\\n",
       "\t Gaba5  & Crhr2   & 2.122207e-06\\\\\n",
       "\t Gaba4  & Crhr2   & 1.453025e-01\\\\\n",
       "\t Glu2   & Crhr2   & 1.794053e-01\\\\\n",
       "\t Gaba11 & Esr1    & 5.852498e-02\\\\\n",
       "\t Gaba9  & Esr1    & 1.403754e-01\\\\\n",
       "\t Gaba1  & Esr1    & 1.206595e-02\\\\\n",
       "\t Gaba8  & Esr1    & 7.802561e-02\\\\\n",
       "\t Gaba2  & Esr1    & 7.737430e-02\\\\\n",
       "\t Gaba7  & Esr1    & 7.402357e-02\\\\\n",
       "\t Gaba10 & Esr1    & 1.466599e-01\\\\\n",
       "\t Glu1   & Esr1    & 2.050116e-01\\\\\n",
       "\t Gaba6  & Esr1    & 1.611163e-01\\\\\n",
       "\t Gaba5  & Esr1    & 2.485945e-02\\\\\n",
       "\t Gaba4  & Esr1    & 1.055644e-04\\\\\n",
       "\t Glu2   & Esr1    & 4.319180e-02\\\\\n",
       "\t Gaba11 & Onecut2 & 6.863229e-01\\\\\n",
       "\t Gaba9  & Onecut2 & 7.210912e-01\\\\\n",
       "\t Gaba1  & Onecut2 & 5.074582e-01\\\\\n",
       "\t Gaba8  & Onecut2 & 9.569883e-01\\\\\n",
       "\t Gaba2  & Onecut2 & 8.667403e-01\\\\\n",
       "\t Gaba7  & Onecut2 & 5.984534e-01\\\\\n",
       "\t Gaba10 & Onecut2 & 3.862981e-01\\\\\n",
       "\t Glu1   & Onecut2 & 7.284405e-01\\\\\n",
       "\t Gaba6  & Onecut2 & 8.007060e-01\\\\\n",
       "\t Gaba5  & Onecut2 & 7.806705e-01\\\\\n",
       "\t Gaba4  & Onecut2 & 9.377963e-01\\\\\n",
       "\t Glu2   & Onecut2 & 9.575836e-02\\\\\n",
       "\\end{tabular}\n"
      ],
      "text/markdown": [
       "\n",
       "A data.frame: 144 × 3\n",
       "\n",
       "| Var1 &lt;fct&gt; | Var2 &lt;fct&gt; | value &lt;dbl&gt; |\n",
       "|---|---|---|\n",
       "| Gaba11 | Sst     | 5.053117e-05 |\n",
       "| Gaba9  | Sst     | 4.448671e-01 |\n",
       "| Gaba1  | Sst     | 1.056064e-01 |\n",
       "| Gaba8  | Sst     | 3.397284e-01 |\n",
       "| Gaba2  | Sst     | 3.258039e-01 |\n",
       "| Gaba7  | Sst     | 1.448449e-01 |\n",
       "| Gaba10 | Sst     | 3.046101e-01 |\n",
       "| Glu1   | Sst     | 4.233258e-01 |\n",
       "| Gaba6  | Sst     | 4.284647e-01 |\n",
       "| Gaba5  | Sst     | 2.394002e-01 |\n",
       "| Gaba4  | Sst     | 1.831417e-01 |\n",
       "| Glu2   | Sst     | 2.690554e-01 |\n",
       "| Gaba11 | Met     | 6.475866e-03 |\n",
       "| Gaba9  | Met     | 3.040611e-04 |\n",
       "| Gaba1  | Met     | 6.508535e-02 |\n",
       "| Gaba8  | Met     | 9.020753e-02 |\n",
       "| Gaba2  | Met     | 2.575594e-01 |\n",
       "| Gaba7  | Met     | 8.090019e-03 |\n",
       "| Gaba10 | Met     | 3.495182e-02 |\n",
       "| Glu1   | Met     | 2.267687e-01 |\n",
       "| Gaba6  | Met     | 1.318905e-01 |\n",
       "| Gaba5  | Met     | 2.431096e-02 |\n",
       "| Gaba4  | Met     | 7.687372e-02 |\n",
       "| Glu2   | Met     | 1.257310e-01 |\n",
       "| Gaba11 | Col15a1 | 1.172769e-03 |\n",
       "| Gaba9  | Col15a1 | 1.329740e-03 |\n",
       "| Gaba1  | Col15a1 | 1.573532e-03 |\n",
       "| Gaba8  | Col15a1 | 6.516308e-02 |\n",
       "| Gaba2  | Col15a1 | 1.990877e-01 |\n",
       "| Gaba7  | Col15a1 | 1.357860e-02 |\n",
       "| ... | ... | ... |\n",
       "| Gaba10 | Crhr2   | 6.467090e-03 |\n",
       "| Glu1   | Crhr2   | 3.081897e-01 |\n",
       "| Gaba6  | Crhr2   | 2.290337e-01 |\n",
       "| Gaba5  | Crhr2   | 2.122207e-06 |\n",
       "| Gaba4  | Crhr2   | 1.453025e-01 |\n",
       "| Glu2   | Crhr2   | 1.794053e-01 |\n",
       "| Gaba11 | Esr1    | 5.852498e-02 |\n",
       "| Gaba9  | Esr1    | 1.403754e-01 |\n",
       "| Gaba1  | Esr1    | 1.206595e-02 |\n",
       "| Gaba8  | Esr1    | 7.802561e-02 |\n",
       "| Gaba2  | Esr1    | 7.737430e-02 |\n",
       "| Gaba7  | Esr1    | 7.402357e-02 |\n",
       "| Gaba10 | Esr1    | 1.466599e-01 |\n",
       "| Glu1   | Esr1    | 2.050116e-01 |\n",
       "| Gaba6  | Esr1    | 1.611163e-01 |\n",
       "| Gaba5  | Esr1    | 2.485945e-02 |\n",
       "| Gaba4  | Esr1    | 1.055644e-04 |\n",
       "| Glu2   | Esr1    | 4.319180e-02 |\n",
       "| Gaba11 | Onecut2 | 6.863229e-01 |\n",
       "| Gaba9  | Onecut2 | 7.210912e-01 |\n",
       "| Gaba1  | Onecut2 | 5.074582e-01 |\n",
       "| Gaba8  | Onecut2 | 9.569883e-01 |\n",
       "| Gaba2  | Onecut2 | 8.667403e-01 |\n",
       "| Gaba7  | Onecut2 | 5.984534e-01 |\n",
       "| Gaba10 | Onecut2 | 3.862981e-01 |\n",
       "| Glu1   | Onecut2 | 7.284405e-01 |\n",
       "| Gaba6  | Onecut2 | 8.007060e-01 |\n",
       "| Gaba5  | Onecut2 | 7.806705e-01 |\n",
       "| Gaba4  | Onecut2 | 9.377963e-01 |\n",
       "| Glu2   | Onecut2 | 9.575836e-02 |\n",
       "\n"
      ],
      "text/plain": [
       "    Var1   Var2    value       \n",
       "1   Gaba11 Sst     5.053117e-05\n",
       "2   Gaba9  Sst     4.448671e-01\n",
       "3   Gaba1  Sst     1.056064e-01\n",
       "4   Gaba8  Sst     3.397284e-01\n",
       "5   Gaba2  Sst     3.258039e-01\n",
       "6   Gaba7  Sst     1.448449e-01\n",
       "7   Gaba10 Sst     3.046101e-01\n",
       "8   Glu1   Sst     4.233258e-01\n",
       "9   Gaba6  Sst     4.284647e-01\n",
       "10  Gaba5  Sst     2.394002e-01\n",
       "11  Gaba4  Sst     1.831417e-01\n",
       "12  Glu2   Sst     2.690554e-01\n",
       "13  Gaba11 Met     6.475866e-03\n",
       "14  Gaba9  Met     3.040611e-04\n",
       "15  Gaba1  Met     6.508535e-02\n",
       "16  Gaba8  Met     9.020753e-02\n",
       "17  Gaba2  Met     2.575594e-01\n",
       "18  Gaba7  Met     8.090019e-03\n",
       "19  Gaba10 Met     3.495182e-02\n",
       "20  Glu1   Met     2.267687e-01\n",
       "21  Gaba6  Met     1.318905e-01\n",
       "22  Gaba5  Met     2.431096e-02\n",
       "23  Gaba4  Met     7.687372e-02\n",
       "24  Glu2   Met     1.257310e-01\n",
       "25  Gaba11 Col15a1 1.172769e-03\n",
       "26  Gaba9  Col15a1 1.329740e-03\n",
       "27  Gaba1  Col15a1 1.573532e-03\n",
       "28  Gaba8  Col15a1 6.516308e-02\n",
       "29  Gaba2  Col15a1 1.990877e-01\n",
       "30  Gaba7  Col15a1 1.357860e-02\n",
       "... ...    ...     ...         \n",
       "115 Gaba10 Crhr2   6.467090e-03\n",
       "116 Glu1   Crhr2   3.081897e-01\n",
       "117 Gaba6  Crhr2   2.290337e-01\n",
       "118 Gaba5  Crhr2   2.122207e-06\n",
       "119 Gaba4  Crhr2   1.453025e-01\n",
       "120 Glu2   Crhr2   1.794053e-01\n",
       "121 Gaba11 Esr1    5.852498e-02\n",
       "122 Gaba9  Esr1    1.403754e-01\n",
       "123 Gaba1  Esr1    1.206595e-02\n",
       "124 Gaba8  Esr1    7.802561e-02\n",
       "125 Gaba2  Esr1    7.737430e-02\n",
       "126 Gaba7  Esr1    7.402357e-02\n",
       "127 Gaba10 Esr1    1.466599e-01\n",
       "128 Glu1   Esr1    2.050116e-01\n",
       "129 Gaba6  Esr1    1.611163e-01\n",
       "130 Gaba5  Esr1    2.485945e-02\n",
       "131 Gaba4  Esr1    1.055644e-04\n",
       "132 Glu2   Esr1    4.319180e-02\n",
       "133 Gaba11 Onecut2 6.863229e-01\n",
       "134 Gaba9  Onecut2 7.210912e-01\n",
       "135 Gaba1  Onecut2 5.074582e-01\n",
       "136 Gaba8  Onecut2 9.569883e-01\n",
       "137 Gaba2  Onecut2 8.667403e-01\n",
       "138 Gaba7  Onecut2 5.984534e-01\n",
       "139 Gaba10 Onecut2 3.862981e-01\n",
       "140 Glu1   Onecut2 7.284405e-01\n",
       "141 Gaba6  Onecut2 8.007060e-01\n",
       "142 Gaba5  Onecut2 7.806705e-01\n",
       "143 Gaba4  Onecut2 9.377963e-01\n",
       "144 Glu2   Onecut2 9.575836e-02"
      ]
     },
     "metadata": {},
     "output_type": "display_data"
    }
   ],
   "source": [
    "p.df.long"
   ]
  },
  {
   "cell_type": "code",
   "execution_count": 131,
   "metadata": {},
   "outputs": [],
   "source": [
    "p.df.long$Var1<-factor(p.df.long$Var1, levels=rev(c('Gaba5','Gaba11','Gaba6','Gaba4','Gaba7','Gaba9','Gaba1','Gaba2','Gaba8','Gaba10','Glu2','Glu1')))"
   ]
  },
  {
   "cell_type": "code",
   "execution_count": 132,
   "metadata": {},
   "outputs": [],
   "source": [
    "p.df.long$Var2<-factor(p.df.long$Var2, levels=(c('Crhr2','Sst','Pax6','Esr1','Foxp2','Met','Col15a1','Drd3','Nts','Tacr1','Onecut2','Samd3')))"
   ]
  },
  {
   "cell_type": "code",
   "execution_count": 171,
   "metadata": {},
   "outputs": [
    {
     "data": {
      "image/png": "[encoded data removed]",
      "text/plain": [
       "plot without title"
      ]
     },
     "metadata": {
      "image/png": {
       "height": 420,
       "width": 420
      }
     },
     "output_type": "display_data"
    }
   ],
   "source": [
    "ggplot(p.df.long, aes(x=Var1, y=Var2, fill=-log2(value)))+\n",
    "geom_tile() + scale_fill_gradient2(low='gray',mid='white',high='darkred',midpoint=0) +\n",
    "theme_classic()+\n",
    "    theme( axis.line=element_line(size=0.25),\n",
    "        axis.ticks=element_line(size=0.25),\n",
    "        axis.text.y = element_text(size=6,),\n",
    "        axis.text.x = element_text(size=6, angle=45, hjust=1),\n",
    "        axis.title = element_blank(),\n",
    "        legend.position='bottom',\n",
    "        legend.key.size = unit(.2, 'cm'),\n",
    "        legend.title = element_text(size=6),\n",
    "        legend.text = element_text(size=6)) + coord_flip()\n",
    "ggsave('C:/Users/stuberadmin/Documents/scRNAseq/211119-RS-rv4/Neurons_only_iter2/HCR_seq_p-values.pdf',width=3, height=3)"
   ]
  },
  {
   "cell_type": "code",
   "execution_count": 161,
   "metadata": {},
   "outputs": [
    {
     "data": {
      "text/html": [
       "<table class=\"dataframe\">\n",
       "<caption>A matrix: 12 × 12 of type dbl</caption>\n",
       "<thead>\n",
       "\t<tr><th></th><th scope=col>Sst</th><th scope=col>Met</th><th scope=col>Col15a1</th><th scope=col>Nts</th><th scope=col>Drd3</th><th scope=col>Foxp2</th><th scope=col>Tacr1</th><th scope=col>Samd3</th><th scope=col>Pax6</th><th scope=col>Crhr2</th><th scope=col>Esr1</th><th scope=col>Onecut2</th></tr>\n",
       "</thead>\n",
       "<tbody>\n",
       "\t<tr><th scope=row>Gaba11</th><td>5.053117e-05</td><td>0.0064758660</td><td>0.001172769</td><td>0.005859736</td><td>0.002267144</td><td>0.8064619884</td><td>0.07116665</td><td>0.2854332</td><td>0.1316269756</td><td>2.314582e-02</td><td>0.0585249776</td><td>0.68632287</td></tr>\n",
       "\t<tr><th scope=row>Gaba9</th><td>4.448671e-01</td><td>0.0003040611</td><td>0.001329740</td><td>0.445973675</td><td>0.102690594</td><td>0.9304336824</td><td>0.15382778</td><td>0.2544169</td><td>0.2919895220</td><td>1.009163e-01</td><td>0.1403753902</td><td>0.72109120</td></tr>\n",
       "\t<tr><th scope=row>Gaba1</th><td>1.056064e-01</td><td>0.0650853464</td><td>0.001573532</td><td>0.539785164</td><td>0.039223530</td><td>0.6488858535</td><td>0.01515537</td><td>0.6143134</td><td>0.0840754768</td><td>8.555583e-02</td><td>0.0120659534</td><td>0.50745816</td></tr>\n",
       "\t<tr><th scope=row>Gaba8</th><td>3.397284e-01</td><td>0.0902075294</td><td>0.065163078</td><td>0.009648418</td><td>0.025819145</td><td>0.4607202018</td><td>0.06465922</td><td>0.3752805</td><td>0.1703912973</td><td>4.520658e-02</td><td>0.0780256105</td><td>0.95698833</td></tr>\n",
       "\t<tr><th scope=row>Gaba2</th><td>3.258039e-01</td><td>0.2575593695</td><td>0.199087717</td><td>0.775522507</td><td>0.002835242</td><td>0.9114786155</td><td>0.09950058</td><td>0.4665735</td><td>0.2951766927</td><td>9.962526e-02</td><td>0.0773742995</td><td>0.86674029</td></tr>\n",
       "\t<tr><th scope=row>Gaba7</th><td>1.448449e-01</td><td>0.0080900194</td><td>0.013578603</td><td>0.055065175</td><td>0.018679991</td><td>0.0002987387</td><td>0.03187336</td><td>0.2827449</td><td>0.2558674007</td><td>2.917872e-02</td><td>0.0740235661</td><td>0.59845337</td></tr>\n",
       "\t<tr><th scope=row>Gaba10</th><td>3.046101e-01</td><td>0.0349518199</td><td>0.074861737</td><td>0.421663706</td><td>0.076781152</td><td>0.6430623930</td><td>0.01249868</td><td>0.1553252</td><td>0.4123485417</td><td>6.467090e-03</td><td>0.1466599181</td><td>0.38629814</td></tr>\n",
       "\t<tr><th scope=row>Glu1</th><td>4.233258e-01</td><td>0.2267686687</td><td>0.074847016</td><td>0.712695946</td><td>0.214246647</td><td>0.9372234424</td><td>0.23484182</td><td>0.3426244</td><td>0.4596136182</td><td>3.081897e-01</td><td>0.2050115531</td><td>0.72844051</td></tr>\n",
       "\t<tr><th scope=row>Gaba6</th><td>4.284647e-01</td><td>0.1318905086</td><td>0.129266695</td><td>0.556480215</td><td>0.136022924</td><td>0.9628539125</td><td>0.10775820</td><td>0.2304963</td><td>0.0001359473</td><td>2.290337e-01</td><td>0.1611162597</td><td>0.80070598</td></tr>\n",
       "\t<tr><th scope=row>Gaba5</th><td>2.394002e-01</td><td>0.0243109645</td><td>0.096964603</td><td>0.668015458</td><td>0.059993288</td><td>0.6613604492</td><td>0.03269623</td><td>0.5650801</td><td>0.1542265761</td><td>2.122207e-06</td><td>0.0248594488</td><td>0.78067048</td></tr>\n",
       "\t<tr><th scope=row>Gaba4</th><td>1.831417e-01</td><td>0.0768737176</td><td>0.046745489</td><td>0.408859322</td><td>0.046832338</td><td>0.8300744541</td><td>0.04914453</td><td>0.2595933</td><td>0.2294117264</td><td>1.453025e-01</td><td>0.0001055644</td><td>0.93779635</td></tr>\n",
       "\t<tr><th scope=row>Glu2</th><td>2.690554e-01</td><td>0.1257309903</td><td>0.096091658</td><td>0.611280971</td><td>0.042741705</td><td>0.7090066562</td><td>0.04525829</td><td>0.5607503</td><td>0.2111753587</td><td>1.794053e-01</td><td>0.0431918038</td><td>0.09575836</td></tr>\n",
       "</tbody>\n",
       "</table>\n"
      ],
      "text/latex": [
       "A matrix: 12 × 12 of type dbl\n",
       "\\begin{tabular}{r|llllllllllll}\n",
       "  & Sst & Met & Col15a1 & Nts & Drd3 & Foxp2 & Tacr1 & Samd3 & Pax6 & Crhr2 & Esr1 & Onecut2\\\\\n",
       "\\hline\n",
       "\tGaba11 & 5.053117e-05 & 0.0064758660 & 0.001172769 & 0.005859736 & 0.002267144 & 0.8064619884 & 0.07116665 & 0.2854332 & 0.1316269756 & 2.314582e-02 & 0.0585249776 & 0.68632287\\\\\n",
       "\tGaba9 & 4.448671e-01 & 0.0003040611 & 0.001329740 & 0.445973675 & 0.102690594 & 0.9304336824 & 0.15382778 & 0.2544169 & 0.2919895220 & 1.009163e-01 & 0.1403753902 & 0.72109120\\\\\n",
       "\tGaba1 & 1.056064e-01 & 0.0650853464 & 0.001573532 & 0.539785164 & 0.039223530 & 0.6488858535 & 0.01515537 & 0.6143134 & 0.0840754768 & 8.555583e-02 & 0.0120659534 & 0.50745816\\\\\n",
       "\tGaba8 & 3.397284e-01 & 0.0902075294 & 0.065163078 & 0.009648418 & 0.025819145 & 0.4607202018 & 0.06465922 & 0.3752805 & 0.1703912973 & 4.520658e-02 & 0.0780256105 & 0.95698833\\\\\n",
       "\tGaba2 & 3.258039e-01 & 0.2575593695 & 0.199087717 & 0.775522507 & 0.002835242 & 0.9114786155 & 0.09950058 & 0.4665735 & 0.2951766927 & 9.962526e-02 & 0.0773742995 & 0.86674029\\\\\n",
       "\tGaba7 & 1.448449e-01 & 0.0080900194 & 0.013578603 & 0.055065175 & 0.018679991 & 0.0002987387 & 0.03187336 & 0.2827449 & 0.2558674007 & 2.917872e-02 & 0.0740235661 & 0.59845337\\\\\n",
       "\tGaba10 & 3.046101e-01 & 0.0349518199 & 0.074861737 & 0.421663706 & 0.076781152 & 0.6430623930 & 0.01249868 & 0.1553252 & 0.4123485417 & 6.467090e-03 & 0.1466599181 & 0.38629814\\\\\n",
       "\tGlu1 & 4.233258e-01 & 0.2267686687 & 0.074847016 & 0.712695946 & 0.214246647 & 0.9372234424 & 0.23484182 & 0.3426244 & 0.4596136182 & 3.081897e-01 & 0.2050115531 & 0.72844051\\\\\n",
       "\tGaba6 & 4.284647e-01 & 0.1318905086 & 0.129266695 & 0.556480215 & 0.136022924 & 0.9628539125 & 0.10775820 & 0.2304963 & 0.0001359473 & 2.290337e-01 & 0.1611162597 & 0.80070598\\\\\n",
       "\tGaba5 & 2.394002e-01 & 0.0243109645 & 0.096964603 & 0.668015458 & 0.059993288 & 0.6613604492 & 0.03269623 & 0.5650801 & 0.1542265761 & 2.122207e-06 & 0.0248594488 & 0.78067048\\\\\n",
       "\tGaba4 & 1.831417e-01 & 0.0768737176 & 0.046745489 & 0.408859322 & 0.046832338 & 0.8300744541 & 0.04914453 & 0.2595933 & 0.2294117264 & 1.453025e-01 & 0.0001055644 & 0.93779635\\\\\n",
       "\tGlu2 & 2.690554e-01 & 0.1257309903 & 0.096091658 & 0.611280971 & 0.042741705 & 0.7090066562 & 0.04525829 & 0.5607503 & 0.2111753587 & 1.794053e-01 & 0.0431918038 & 0.09575836\\\\\n",
       "\\end{tabular}\n"
      ],
      "text/markdown": [
       "\n",
       "A matrix: 12 × 12 of type dbl\n",
       "\n",
       "| <!--/--> | Sst | Met | Col15a1 | Nts | Drd3 | Foxp2 | Tacr1 | Samd3 | Pax6 | Crhr2 | Esr1 | Onecut2 |\n",
       "|---|---|---|---|---|---|---|---|---|---|---|---|---|\n",
       "| Gaba11 | 5.053117e-05 | 0.0064758660 | 0.001172769 | 0.005859736 | 0.002267144 | 0.8064619884 | 0.07116665 | 0.2854332 | 0.1316269756 | 2.314582e-02 | 0.0585249776 | 0.68632287 |\n",
       "| Gaba9 | 4.448671e-01 | 0.0003040611 | 0.001329740 | 0.445973675 | 0.102690594 | 0.9304336824 | 0.15382778 | 0.2544169 | 0.2919895220 | 1.009163e-01 | 0.1403753902 | 0.72109120 |\n",
       "| Gaba1 | 1.056064e-01 | 0.0650853464 | 0.001573532 | 0.539785164 | 0.039223530 | 0.6488858535 | 0.01515537 | 0.6143134 | 0.0840754768 | 8.555583e-02 | 0.0120659534 | 0.50745816 |\n",
       "| Gaba8 | 3.397284e-01 | 0.0902075294 | 0.065163078 | 0.009648418 | 0.025819145 | 0.4607202018 | 0.06465922 | 0.3752805 | 0.1703912973 | 4.520658e-02 | 0.0780256105 | 0.95698833 |\n",
       "| Gaba2 | 3.258039e-01 | 0.2575593695 | 0.199087717 | 0.775522507 | 0.002835242 | 0.9114786155 | 0.09950058 | 0.4665735 | 0.2951766927 | 9.962526e-02 | 0.0773742995 | 0.86674029 |\n",
       "| Gaba7 | 1.448449e-01 | 0.0080900194 | 0.013578603 | 0.055065175 | 0.018679991 | 0.0002987387 | 0.03187336 | 0.2827449 | 0.2558674007 | 2.917872e-02 | 0.0740235661 | 0.59845337 |\n",
       "| Gaba10 | 3.046101e-01 | 0.0349518199 | 0.074861737 | 0.421663706 | 0.076781152 | 0.6430623930 | 0.01249868 | 0.1553252 | 0.4123485417 | 6.467090e-03 | 0.1466599181 | 0.38629814 |\n",
       "| Glu1 | 4.233258e-01 | 0.2267686687 | 0.074847016 | 0.712695946 | 0.214246647 | 0.9372234424 | 0.23484182 | 0.3426244 | 0.4596136182 | 3.081897e-01 | 0.2050115531 | 0.72844051 |\n",
       "| Gaba6 | 4.284647e-01 | 0.1318905086 | 0.129266695 | 0.556480215 | 0.136022924 | 0.9628539125 | 0.10775820 | 0.2304963 | 0.0001359473 | 2.290337e-01 | 0.1611162597 | 0.80070598 |\n",
       "| Gaba5 | 2.394002e-01 | 0.0243109645 | 0.096964603 | 0.668015458 | 0.059993288 | 0.6613604492 | 0.03269623 | 0.5650801 | 0.1542265761 | 2.122207e-06 | 0.0248594488 | 0.78067048 |\n",
       "| Gaba4 | 1.831417e-01 | 0.0768737176 | 0.046745489 | 0.408859322 | 0.046832338 | 0.8300744541 | 0.04914453 | 0.2595933 | 0.2294117264 | 1.453025e-01 | 0.0001055644 | 0.93779635 |\n",
       "| Glu2 | 2.690554e-01 | 0.1257309903 | 0.096091658 | 0.611280971 | 0.042741705 | 0.7090066562 | 0.04525829 | 0.5607503 | 0.2111753587 | 1.794053e-01 | 0.0431918038 | 0.09575836 |\n",
       "\n"
      ],
      "text/plain": [
       "       Sst          Met          Col15a1     Nts         Drd3       \n",
       "Gaba11 5.053117e-05 0.0064758660 0.001172769 0.005859736 0.002267144\n",
       "Gaba9  4.448671e-01 0.0003040611 0.001329740 0.445973675 0.102690594\n",
       "Gaba1  1.056064e-01 0.0650853464 0.001573532 0.539785164 0.039223530\n",
       "Gaba8  3.397284e-01 0.0902075294 0.065163078 0.009648418 0.025819145\n",
       "Gaba2  3.258039e-01 0.2575593695 0.199087717 0.775522507 0.002835242\n",
       "Gaba7  1.448449e-01 0.0080900194 0.013578603 0.055065175 0.018679991\n",
       "Gaba10 3.046101e-01 0.0349518199 0.074861737 0.421663706 0.076781152\n",
       "Glu1   4.233258e-01 0.2267686687 0.074847016 0.712695946 0.214246647\n",
       "Gaba6  4.284647e-01 0.1318905086 0.129266695 0.556480215 0.136022924\n",
       "Gaba5  2.394002e-01 0.0243109645 0.096964603 0.668015458 0.059993288\n",
       "Gaba4  1.831417e-01 0.0768737176 0.046745489 0.408859322 0.046832338\n",
       "Glu2   2.690554e-01 0.1257309903 0.096091658 0.611280971 0.042741705\n",
       "       Foxp2        Tacr1      Samd3     Pax6         Crhr2        Esr1        \n",
       "Gaba11 0.8064619884 0.07116665 0.2854332 0.1316269756 2.314582e-02 0.0585249776\n",
       "Gaba9  0.9304336824 0.15382778 0.2544169 0.2919895220 1.009163e-01 0.1403753902\n",
       "Gaba1  0.6488858535 0.01515537 0.6143134 0.0840754768 8.555583e-02 0.0120659534\n",
       "Gaba8  0.4607202018 0.06465922 0.3752805 0.1703912973 4.520658e-02 0.0780256105\n",
       "Gaba2  0.9114786155 0.09950058 0.4665735 0.2951766927 9.962526e-02 0.0773742995\n",
       "Gaba7  0.0002987387 0.03187336 0.2827449 0.2558674007 2.917872e-02 0.0740235661\n",
       "Gaba10 0.6430623930 0.01249868 0.1553252 0.4123485417 6.467090e-03 0.1466599181\n",
       "Glu1   0.9372234424 0.23484182 0.3426244 0.4596136182 3.081897e-01 0.2050115531\n",
       "Gaba6  0.9628539125 0.10775820 0.2304963 0.0001359473 2.290337e-01 0.1611162597\n",
       "Gaba5  0.6613604492 0.03269623 0.5650801 0.1542265761 2.122207e-06 0.0248594488\n",
       "Gaba4  0.8300744541 0.04914453 0.2595933 0.2294117264 1.453025e-01 0.0001055644\n",
       "Glu2   0.7090066562 0.04525829 0.5607503 0.2111753587 1.794053e-01 0.0431918038\n",
       "       Onecut2   \n",
       "Gaba11 0.68632287\n",
       "Gaba9  0.72109120\n",
       "Gaba1  0.50745816\n",
       "Gaba8  0.95698833\n",
       "Gaba2  0.86674029\n",
       "Gaba7  0.59845337\n",
       "Gaba10 0.38629814\n",
       "Glu1   0.72844051\n",
       "Gaba6  0.80070598\n",
       "Gaba5  0.78067048\n",
       "Gaba4  0.93779635\n",
       "Glu2   0.09575836"
      ]
     },
     "metadata": {},
     "output_type": "display_data"
    }
   ],
   "source": [
    "p.df"
   ]
  },
  {
   "cell_type": "code",
   "execution_count": 136,
   "metadata": {},
   "outputs": [
    {
     "data": {
      "text/html": [
       "<table class=\"dataframe\">\n",
       "<caption>A matrix: 12 × 12 of type dbl</caption>\n",
       "<thead>\n",
       "\t<tr><th></th><th scope=col>Sst</th><th scope=col>Met</th><th scope=col>Col15a1</th><th scope=col>Nts</th><th scope=col>Drd3</th><th scope=col>Foxp2</th><th scope=col>Tacr1</th><th scope=col>Samd3</th><th scope=col>Pax6</th><th scope=col>Crhr2</th><th scope=col>Esr1</th><th scope=col>Onecut2</th></tr>\n",
       "</thead>\n",
       "<tbody>\n",
       "\t<tr><th scope=row>Gaba11</th><td>0.8541311</td><td>0.6681689</td><td>0.7537439</td><td>0.67403952</td><td>0.7241471</td><td> 0.06918328</td><td>0.4785183</td><td>-0.2952102</td><td>0.4075136</td><td>0.5809348</td><td>0.4985829</td><td>-0.11380700</td></tr>\n",
       "\t<tr><th scope=row>Gaba9</th><td>0.2134944</td><td>0.8039147</td><td>0.7483921</td><td>0.21298787</td><td>0.4377602</td><td> 0.02467833</td><td>0.3872698</td><td>-0.3139865</td><td>0.2913999</td><td>0.4397984</td><td>0.3992800</td><td>-0.10067663</td></tr>\n",
       "\t<tr><th scope=row>Gaba1</th><td>0.4344634</td><td>0.4878170</td><td>0.7410134</td><td>0.17204981</td><td>0.5364989</td><td> 0.12819499</td><td>0.6127562</td><td>-0.1417503</td><td>0.4605274</td><td>0.4585933</td><td>0.6286479</td><td> 0.18574988</td></tr>\n",
       "\t<tr><th scope=row>Gaba8</th><td>0.2650493</td><td>0.4526664</td><td>0.4876942</td><td>0.64346830</td><td>0.5721919</td><td> 0.20629698</td><td>0.4884917</td><td>-0.2467638</td><td>0.3734089</td><td>0.5235004</td><td>0.4686931</td><td>-0.01524766</td></tr>\n",
       "\t<tr><th scope=row>Gaba2</th><td>0.2725022</td><td>0.3120232</td><td>0.3513546</td><td>0.08049125</td><td>0.7132021</td><td> 0.03142433</td><td>0.4414428</td><td>-0.2036705</td><td>0.2895659</td><td>0.4412973</td><td>0.4695989</td><td> 0.04741536</td></tr>\n",
       "\t<tr><th scope=row>Gaba7</th><td>0.3952071</td><td>0.6546439</td><td>0.6205166</td><td>0.50461878</td><td>0.5974356</td><td> 0.80449150</td><td>0.5546737</td><td>-0.2967876</td><td>0.3130784</td><td>0.5621296</td><td>0.4743468</td><td>-0.14806618</td></tr>\n",
       "\t<tr><th scope=row>Gaba10</th><td>0.2842047</td><td>0.5467151</td><td>0.4731449</td><td>0.22426555</td><td>0.4704285</td><td> 0.13045913</td><td>0.6262446</td><td>-0.3859771</td><td>0.2286750</td><td>0.6682494</td><td>0.3935772</td><td>-0.24129145</td></tr>\n",
       "\t<tr><th scope=row>Glu1</th><td>0.2234841</td><td>0.3319428</td><td>0.4731659</td><td>0.10382854</td><td>0.3405264</td><td>-0.02226507</td><td>0.3265656</td><td> 0.2635211</td><td>0.2067954</td><td>0.2821958</td><td>0.3470626</td><td>-0.09792652</td></tr>\n",
       "\t<tr><th scope=row>Gaba6</th><td>0.2210778</td><td>0.4072602</td><td>0.4097983</td><td>0.16511721</td><td>0.4033314</td><td> 0.01316688</td><td>0.4320709</td><td>-0.3294454</td><td>0.8284248</td><td>0.3304223</td><td>0.3810544</td><td>-0.07127916</td></tr>\n",
       "\t<tr><th scope=row>Gaba5</th><td>0.3235801</td><td>0.5770347</td><td>0.4444298</td><td>0.12080809</td><td>0.4960999</td><td> 0.12336935</td><td>0.5524918</td><td>-0.1615811</td><td>0.3869247</td><td>0.9124168</td><td>0.5752477</td><td>-0.07860225</td></tr>\n",
       "\t<tr><th scope=row>Gaba4</th><td>0.3633330</td><td>0.4702987</td><td>0.5203651</td><td>0.23034003</td><td>0.5201905</td><td> 0.06061941</td><td>0.5156261</td><td>-0.3107602</td><td>0.3301694</td><td>0.3947948</td><td>0.8354265</td><td>-0.02206151</td></tr>\n",
       "\t<tr><th scope=row>Glu2</th><td>0.3049623</td><td>0.4132748</td><td>0.4454707</td><td>0.14295291</td><td>0.5286909</td><td> 0.10521725</td><td>0.5233938</td><td>-0.1633586</td><td>0.3426799</td><td>0.3662368</td><td>0.5277268</td><td> 0.44586986</td></tr>\n",
       "</tbody>\n",
       "</table>\n"
      ],
      "text/latex": [
       "A matrix: 12 × 12 of type dbl\n",
       "\\begin{tabular}{r|llllllllllll}\n",
       "  & Sst & Met & Col15a1 & Nts & Drd3 & Foxp2 & Tacr1 & Samd3 & Pax6 & Crhr2 & Esr1 & Onecut2\\\\\n",
       "\\hline\n",
       "\tGaba11 & 0.8541311 & 0.6681689 & 0.7537439 & 0.67403952 & 0.7241471 &  0.06918328 & 0.4785183 & -0.2952102 & 0.4075136 & 0.5809348 & 0.4985829 & -0.11380700\\\\\n",
       "\tGaba9 & 0.2134944 & 0.8039147 & 0.7483921 & 0.21298787 & 0.4377602 &  0.02467833 & 0.3872698 & -0.3139865 & 0.2913999 & 0.4397984 & 0.3992800 & -0.10067663\\\\\n",
       "\tGaba1 & 0.4344634 & 0.4878170 & 0.7410134 & 0.17204981 & 0.5364989 &  0.12819499 & 0.6127562 & -0.1417503 & 0.4605274 & 0.4585933 & 0.6286479 &  0.18574988\\\\\n",
       "\tGaba8 & 0.2650493 & 0.4526664 & 0.4876942 & 0.64346830 & 0.5721919 &  0.20629698 & 0.4884917 & -0.2467638 & 0.3734089 & 0.5235004 & 0.4686931 & -0.01524766\\\\\n",
       "\tGaba2 & 0.2725022 & 0.3120232 & 0.3513546 & 0.08049125 & 0.7132021 &  0.03142433 & 0.4414428 & -0.2036705 & 0.2895659 & 0.4412973 & 0.4695989 &  0.04741536\\\\\n",
       "\tGaba7 & 0.3952071 & 0.6546439 & 0.6205166 & 0.50461878 & 0.5974356 &  0.80449150 & 0.5546737 & -0.2967876 & 0.3130784 & 0.5621296 & 0.4743468 & -0.14806618\\\\\n",
       "\tGaba10 & 0.2842047 & 0.5467151 & 0.4731449 & 0.22426555 & 0.4704285 &  0.13045913 & 0.6262446 & -0.3859771 & 0.2286750 & 0.6682494 & 0.3935772 & -0.24129145\\\\\n",
       "\tGlu1 & 0.2234841 & 0.3319428 & 0.4731659 & 0.10382854 & 0.3405264 & -0.02226507 & 0.3265656 &  0.2635211 & 0.2067954 & 0.2821958 & 0.3470626 & -0.09792652\\\\\n",
       "\tGaba6 & 0.2210778 & 0.4072602 & 0.4097983 & 0.16511721 & 0.4033314 &  0.01316688 & 0.4320709 & -0.3294454 & 0.8284248 & 0.3304223 & 0.3810544 & -0.07127916\\\\\n",
       "\tGaba5 & 0.3235801 & 0.5770347 & 0.4444298 & 0.12080809 & 0.4960999 &  0.12336935 & 0.5524918 & -0.1615811 & 0.3869247 & 0.9124168 & 0.5752477 & -0.07860225\\\\\n",
       "\tGaba4 & 0.3633330 & 0.4702987 & 0.5203651 & 0.23034003 & 0.5201905 &  0.06061941 & 0.5156261 & -0.3107602 & 0.3301694 & 0.3947948 & 0.8354265 & -0.02206151\\\\\n",
       "\tGlu2 & 0.3049623 & 0.4132748 & 0.4454707 & 0.14295291 & 0.5286909 &  0.10521725 & 0.5233938 & -0.1633586 & 0.3426799 & 0.3662368 & 0.5277268 &  0.44586986\\\\\n",
       "\\end{tabular}\n"
      ],
      "text/markdown": [
       "\n",
       "A matrix: 12 × 12 of type dbl\n",
       "\n",
       "| <!--/--> | Sst | Met | Col15a1 | Nts | Drd3 | Foxp2 | Tacr1 | Samd3 | Pax6 | Crhr2 | Esr1 | Onecut2 |\n",
       "|---|---|---|---|---|---|---|---|---|---|---|---|---|\n",
       "| Gaba11 | 0.8541311 | 0.6681689 | 0.7537439 | 0.67403952 | 0.7241471 |  0.06918328 | 0.4785183 | -0.2952102 | 0.4075136 | 0.5809348 | 0.4985829 | -0.11380700 |\n",
       "| Gaba9 | 0.2134944 | 0.8039147 | 0.7483921 | 0.21298787 | 0.4377602 |  0.02467833 | 0.3872698 | -0.3139865 | 0.2913999 | 0.4397984 | 0.3992800 | -0.10067663 |\n",
       "| Gaba1 | 0.4344634 | 0.4878170 | 0.7410134 | 0.17204981 | 0.5364989 |  0.12819499 | 0.6127562 | -0.1417503 | 0.4605274 | 0.4585933 | 0.6286479 |  0.18574988 |\n",
       "| Gaba8 | 0.2650493 | 0.4526664 | 0.4876942 | 0.64346830 | 0.5721919 |  0.20629698 | 0.4884917 | -0.2467638 | 0.3734089 | 0.5235004 | 0.4686931 | -0.01524766 |\n",
       "| Gaba2 | 0.2725022 | 0.3120232 | 0.3513546 | 0.08049125 | 0.7132021 |  0.03142433 | 0.4414428 | -0.2036705 | 0.2895659 | 0.4412973 | 0.4695989 |  0.04741536 |\n",
       "| Gaba7 | 0.3952071 | 0.6546439 | 0.6205166 | 0.50461878 | 0.5974356 |  0.80449150 | 0.5546737 | -0.2967876 | 0.3130784 | 0.5621296 | 0.4743468 | -0.14806618 |\n",
       "| Gaba10 | 0.2842047 | 0.5467151 | 0.4731449 | 0.22426555 | 0.4704285 |  0.13045913 | 0.6262446 | -0.3859771 | 0.2286750 | 0.6682494 | 0.3935772 | -0.24129145 |\n",
       "| Glu1 | 0.2234841 | 0.3319428 | 0.4731659 | 0.10382854 | 0.3405264 | -0.02226507 | 0.3265656 |  0.2635211 | 0.2067954 | 0.2821958 | 0.3470626 | -0.09792652 |\n",
       "| Gaba6 | 0.2210778 | 0.4072602 | 0.4097983 | 0.16511721 | 0.4033314 |  0.01316688 | 0.4320709 | -0.3294454 | 0.8284248 | 0.3304223 | 0.3810544 | -0.07127916 |\n",
       "| Gaba5 | 0.3235801 | 0.5770347 | 0.4444298 | 0.12080809 | 0.4960999 |  0.12336935 | 0.5524918 | -0.1615811 | 0.3869247 | 0.9124168 | 0.5752477 | -0.07860225 |\n",
       "| Gaba4 | 0.3633330 | 0.4702987 | 0.5203651 | 0.23034003 | 0.5201905 |  0.06061941 | 0.5156261 | -0.3107602 | 0.3301694 | 0.3947948 | 0.8354265 | -0.02206151 |\n",
       "| Glu2 | 0.3049623 | 0.4132748 | 0.4454707 | 0.14295291 | 0.5286909 |  0.10521725 | 0.5233938 | -0.1633586 | 0.3426799 | 0.3662368 | 0.5277268 |  0.44586986 |\n",
       "\n"
      ],
      "text/plain": [
       "       Sst       Met       Col15a1   Nts        Drd3      Foxp2       Tacr1    \n",
       "Gaba11 0.8541311 0.6681689 0.7537439 0.67403952 0.7241471  0.06918328 0.4785183\n",
       "Gaba9  0.2134944 0.8039147 0.7483921 0.21298787 0.4377602  0.02467833 0.3872698\n",
       "Gaba1  0.4344634 0.4878170 0.7410134 0.17204981 0.5364989  0.12819499 0.6127562\n",
       "Gaba8  0.2650493 0.4526664 0.4876942 0.64346830 0.5721919  0.20629698 0.4884917\n",
       "Gaba2  0.2725022 0.3120232 0.3513546 0.08049125 0.7132021  0.03142433 0.4414428\n",
       "Gaba7  0.3952071 0.6546439 0.6205166 0.50461878 0.5974356  0.80449150 0.5546737\n",
       "Gaba10 0.2842047 0.5467151 0.4731449 0.22426555 0.4704285  0.13045913 0.6262446\n",
       "Glu1   0.2234841 0.3319428 0.4731659 0.10382854 0.3405264 -0.02226507 0.3265656\n",
       "Gaba6  0.2210778 0.4072602 0.4097983 0.16511721 0.4033314  0.01316688 0.4320709\n",
       "Gaba5  0.3235801 0.5770347 0.4444298 0.12080809 0.4960999  0.12336935 0.5524918\n",
       "Gaba4  0.3633330 0.4702987 0.5203651 0.23034003 0.5201905  0.06061941 0.5156261\n",
       "Glu2   0.3049623 0.4132748 0.4454707 0.14295291 0.5286909  0.10521725 0.5233938\n",
       "       Samd3      Pax6      Crhr2     Esr1      Onecut2    \n",
       "Gaba11 -0.2952102 0.4075136 0.5809348 0.4985829 -0.11380700\n",
       "Gaba9  -0.3139865 0.2913999 0.4397984 0.3992800 -0.10067663\n",
       "Gaba1  -0.1417503 0.4605274 0.4585933 0.6286479  0.18574988\n",
       "Gaba8  -0.2467638 0.3734089 0.5235004 0.4686931 -0.01524766\n",
       "Gaba2  -0.2036705 0.2895659 0.4412973 0.4695989  0.04741536\n",
       "Gaba7  -0.2967876 0.3130784 0.5621296 0.4743468 -0.14806618\n",
       "Gaba10 -0.3859771 0.2286750 0.6682494 0.3935772 -0.24129145\n",
       "Glu1    0.2635211 0.2067954 0.2821958 0.3470626 -0.09792652\n",
       "Gaba6  -0.3294454 0.8284248 0.3304223 0.3810544 -0.07127916\n",
       "Gaba5  -0.1615811 0.3869247 0.9124168 0.5752477 -0.07860225\n",
       "Gaba4  -0.3107602 0.3301694 0.3947948 0.8354265 -0.02206151\n",
       "Glu2   -0.1633586 0.3426799 0.3662368 0.5277268  0.44586986"
      ]
     },
     "metadata": {},
     "output_type": "display_data"
    }
   ],
   "source": [
    "cor.df"
   ]
  },
  {
   "cell_type": "code",
   "execution_count": null,
   "metadata": {},
   "outputs": [],
   "source": []
  }
 ],
 "metadata": {
  "kernelspec": {
   "display_name": "R",
   "language": "R",
   "name": "ir"
  },
  "language_info": {
   "codemirror_mode": "r",
   "file_extension": ".r",
   "mimetype": "text/x-r-source",
   "name": "R",
   "pygments_lexer": "r",
   "version": "4.1.2"
  }
 },
 "nbformat": 4,
 "nbformat_minor": 2
}
