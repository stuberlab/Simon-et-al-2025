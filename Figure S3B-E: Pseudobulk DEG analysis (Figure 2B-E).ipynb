{
 "cells": [
  {
   "cell_type": "markdown",
   "metadata": {},
   "source": [
    "## Pseudobulk DEG analysis (Figure 2B-E)"
   ]
  },
  {
   "cell_type": "markdown",
   "metadata": {},
   "source": [
    "This notebook includes code that identifies DEGs in each group (Sal vs mor, mor vs nal) with the data in a pseudobulk configuration (i.e. agnostic to cell cluster). First we identify the list of DEGs for each condition. Then we split the data up into the cell clusters to look more closely at cell-type-specific variations in DEG enrichment"
   ]
  },
  {
   "cell_type": "markdown",
   "metadata": {
    "scrolled": true
   },
   "source": [
    "#### Import libraries"
   ]
  },
  {
   "cell_type": "code",
   "execution_count": 1,
   "metadata": {},
   "outputs": [
    {
     "name": "stderr",
     "output_type": "stream",
     "text": [
      "Attaching SeuratObject\n",
      "\n",
      "\n",
      "Attaching package: 'dplyr'\n",
      "\n",
      "\n",
      "The following objects are masked from 'package:stats':\n",
      "\n",
      "    filter, lag\n",
      "\n",
      "\n",
      "The following objects are masked from 'package:base':\n",
      "\n",
      "    intersect, setdiff, setequal, union\n",
      "\n",
      "\n"
     ]
    }
   ],
   "source": [
    "library(Seurat)\n",
    "library(dplyr)\n",
    "library(magrittr)\n",
    "library(xlsx)\n",
    "library(ggplot2)\n",
    "library(ggrepel)"
   ]
  },
  {
   "cell_type": "markdown",
   "metadata": {},
   "source": [
    "#### Load in .rds files"
   ]
  },
  {
   "cell_type": "code",
   "execution_count": 2,
   "metadata": {},
   "outputs": [],
   "source": [
    "LS.integrated<-readRDS(file = \"C:/Users/stuberadmin/Documents/scRNAseq/211119-RS-rv4/Neurons_only_iter2/LS_integrated.rds\")\n",
    "LS_sal<-readRDS(file = \"C:/Users/stuberadmin/Documents/scRNAseq/211119-RS-rv4/Neurons_only_iter2/LS_sal.rds\")\n",
    "LS_mor<-readRDS(file = \"C:/Users/stuberadmin/Documents/scRNAseq/211119-RS-rv4/Neurons_only_iter2/LS_mor.rds\")\n",
    "LS_nal<-readRDS(file = \"C:/Users/stuberadmin/Documents/scRNAseq/211119-RS-rv4/Neurons_only_iter2/LS_nal.rds\")\n",
    "LS_one_mor<-readRDS( file = \"C:/Users/stuberadmin/Documents/scRNAseq/211119-RS-rv4/Neurons_only_iter2/LS_one_mor.rds\")\n",
    "LS_nal_no_mor<-readRDS( file = \"C:/Users/stuberadmin/Documents/scRNAseq/211119-RS-rv4/Neurons_only_iter2/LS_nal_no_mor.rds\")"
   ]
  },
  {
   "cell_type": "markdown",
   "metadata": {},
   "source": [
    "#### Assign identities to cell clusters"
   ]
  },
  {
   "cell_type": "code",
   "execution_count": 3,
   "metadata": {},
   "outputs": [],
   "source": [
    "new.ident <- c(\"Gaba1\",\"Gaba2\",\"Gaba3\",\"Gaba4\",\"Gaba5\",\"Gaba6\",\"Gaba7\",\"Glu1\",\"Gaba8\",\"Gaba9\",\"Gaba10\",\"Glu2\",\"Gaba11\",\"Gaba12\")\n",
    "names(x = new.ident) <- levels(x =LS.integrated)\n",
    "LS.integrated<- RenameIdents(object =LS.integrated, new.ident)"
   ]
  },
  {
   "cell_type": "code",
   "execution_count": 4,
   "metadata": {},
   "outputs": [
    {
     "data": {
      "text/plain": [
       "\n",
       " Gaba1  Gaba2  Gaba3  Gaba4  Gaba5  Gaba6  Gaba7   Glu1  Gaba8  Gaba9 Gaba10 \n",
       "  3124   2731   2316   2248   2157   2116   2028   1919   1904   1860   1634 \n",
       "  Glu2 Gaba11 Gaba12 \n",
       "  1015    437    118 "
      ]
     },
     "metadata": {},
     "output_type": "display_data"
    }
   ],
   "source": [
    "table(Idents(LS.integrated))"
   ]
  },
  {
   "cell_type": "code",
   "execution_count": 5,
   "metadata": {},
   "outputs": [],
   "source": [
    "for (i in 1:length(new.ident)){\n",
    "assign(paste(new.ident[i],\"_barcode\",sep=\"\"),colnames(LS.integrated@assays$RNA@data[,which(Idents(object=LS.integrated) %in% new.ident[i])]))# this gives all barcodes in cluster\n",
    "assign(paste(new.ident[i],\"_barcode_LS_sal\",sep=\"\"),intersect(colnames(LS_sal@assays$RNA@data),eval(parse(text = paste(new.ident[i],\"_barcode\",sep=\"\")))))\n",
    "assign(paste(new.ident[i],\"_barcode_LS_mor\",sep=\"\"),intersect(colnames(LS_mor@assays$RNA@data),eval(parse(text = paste(new.ident[i],\"_barcode\",sep=\"\")))))\n",
    "assign(paste(new.ident[i],\"_barcode_LS_nal\",sep=\"\"),intersect(colnames(LS_nal@assays$RNA@data),eval(parse(text = paste(new.ident[i],\"_barcode\",sep=\"\")))))\n",
    "assign(paste(new.ident[i],\"_barcode_LS_one_mor\",sep=\"\"),intersect(colnames(LS_one_mor@assays$RNA@data),eval(parse(text = paste(new.ident[i],\"_barcode\",sep=\"\")))))\n",
    "assign(paste(new.ident[i],\"_barcode_LS_nal_no_mor\",sep=\"\"),intersect(colnames(LS_nal_no_mor@assays$RNA@data),eval(parse(text = paste(new.ident[i],\"_barcode\",sep=\"\")))))\n",
    "}"
   ]
  },
  {
   "cell_type": "markdown",
   "metadata": {},
   "source": [
    "#### Identifying DEGs in pseudobulk"
   ]
  },
  {
   "cell_type": "code",
   "execution_count": null,
   "metadata": {},
   "outputs": [],
   "source": [
    "celltype.stim<-vector()\n",
    "for (i in 1:dim(LS.integrated@meta.data)[1]){\n",
    "    if(LS.integrated@meta.data$stim[i]==\"LS_sal\"){celltype.stim[i]<-\"Sal\"}\n",
    "    else if(LS.integrated@meta.data$stim[i]==\"LS_mor\"){celltype.stim[i]<-\"Mor\"}\n",
    "    else if(LS.integrated@meta.data$stim[i]==\"LS_nal\"){celltype.stim[i]<-\"Nal\"}\n",
    "    else if(LS.integrated@meta.data$stim[i]==\"LS_one_mor\"){celltype.stim[i]<-\"Mor_one\"}\n",
    "    else if(LS.integrated@meta.data$stim[i]==\"LS_nal_no_mor\"){celltype.stim[i]<-\"Nal_only\"}\n",
    "    \n",
    "}\n",
    "LS.integrated@meta.data$celltype.stim<-celltype.stim"
   ]
  },
  {
   "cell_type": "code",
   "execution_count": null,
   "metadata": {},
   "outputs": [],
   "source": [
    "LS.integrated[[\"celltype\"]] <- Idents(object = LS.integrated)\n",
    "Idents(LS.integrated = LS.integrated) <- LS.integrated@meta.data$celltype.stim"
   ]
  },
  {
   "cell_type": "code",
   "execution_count": null,
   "metadata": {},
   "outputs": [],
   "source": [
    "Cell_type <- c(\"Sal\",\"Mor\",\"Nal\",\"Mor_one\",\"Nal_only\")"
   ]
  },
  {
   "cell_type": "code",
   "execution_count": null,
   "metadata": {},
   "outputs": [],
   "source": [
    "DefaultAssay(LS.integrated) <- 'RNA'"
   ]
  },
  {
   "cell_type": "code",
   "execution_count": null,
   "metadata": {},
   "outputs": [],
   "source": [
    "one.markers <- FindMarkers(assay=\"RNA\",slot='data',LS.integrated, ident.1 = \"Sal\", ident.2 = \"Mor\", grouping.var = \"stim\",print.bar = TRUE,min.pct = 0,min.cells.gene = 3, min.cells.group = 1, logfc.threshold = 0.01)\n",
    "one.markers$p_val_adjust<-one.markers$p_val*(dim(one.markers)[1]:1)\n",
    "sort_marker<-one.markers[order(-one.markers[\"avg_log2FC\"]),]\n",
    "write.xlsx2(sort_marker, file=(\"C:/Users/stuberadmin/Documents/scRNAseq/211119-RS-rv4/Neurons_only_iter2/DEG/Group/sal_v_mor_RNA_allgenes.xlsx\"))"
   ]
  },
  {
   "cell_type": "code",
   "execution_count": null,
   "metadata": {},
   "outputs": [],
   "source": [
    "one.markers <- FindMarkers(assay=\"RNA\",LS.integrated, ident.1 = \"Mor\", ident.2 = \"Nal\", grouping.var = \"stim\",print.bar = FALSE,logfc.threshold = 0.01,min.pct = 0,min.cells.gene = 3, min.cells.group = 1)\n",
    "one.markers$p_val_adjust<-one.markers$p_val*(dim(one.markers)[1]:1)\n",
    "sort_marker<-one.markers[order(-one.markers[\"avg_log2FC\"]),]\n",
    "write.xlsx2(sort_marker, file=(\"C:/Users/stuberadmin/Documents/scRNAseq/211119-RS-rv4/Neurons_only_iter2/DEG/Group/mor_v_nal_RNA_allgenes.xlsx\"))"
   ]
  },
  {
   "cell_type": "code",
   "execution_count": null,
   "metadata": {},
   "outputs": [],
   "source": [
    "one.markers <- FindMarkers(assay=\"RNA\",LS.integrated, ident.1 = \"Sal\", ident.2 = \"Nal\", grouping.var = \"stim\",print.bar = FALSE,logfc.threshold = 0.1,min.pct = 0,min.cells.gene = 3, min.cells.group = 1)\n",
    "one.markers$p_val_adjust<-one.markers$p_val*(dim(one.markers)[1]:1)\n",
    "sort_marker<-one.markers[order(-one.markers[\"avg_log2FC\"]),]\n",
    "write.xlsx2(subset(sort_marker,avg_log2FC>0 & p_val_adjust<0.05 & pct.1>0.05),file=(\"C:/Users/stuberadmin/Documents/scRNAseq/211119-RS-rv4/Neurons_only_iter2/DEG/Group/sal_v_nal_RNA.xlsx\"))"
   ]
  },
  {
   "cell_type": "markdown",
   "metadata": {},
   "source": [
    "#### Plotting pseudobulk identified DEGs"
   ]
  },
  {
   "cell_type": "code",
   "execution_count": 6,
   "metadata": {},
   "outputs": [],
   "source": [
    "# load in data\n",
    "Mor_gene<-read.xlsx(\"C:/Users/stuberadmin/Documents/scRNAseq/211119-RS-rv4/Neurons_only_iter2/DEG/Group/mor_v_sal_RNA_allgenes.xlsx\",sheetIndex=1)"
   ]
  },
  {
   "cell_type": "code",
   "execution_count": 7,
   "metadata": {},
   "outputs": [],
   "source": [
    "dir <-vector(mode=\"numeric\", length=0)\n",
    "for (i in 1:length(Mor_gene$avg_log2FC)){\n",
    "    if (Mor_gene$avg_log2FC[i] > 0.10 & Mor_gene$p_val_adjust[i] < 0.05) {dir[i] <- \"Up\"}\n",
    "    else if (Mor_gene$avg_log2FC[i] < -0.10 & Mor_gene$p_val_adjust[i] < 0.05) {dir[i] <- \"Down\"}\n",
    "    else {dir[i] <- \"N\"}\n",
    "}\n",
    "\n",
    "Mor_gene <- cbind(Mor_gene, dir)\n",
    "\n",
    "Mor_gene$label <- NA\n",
    "Mor_gene$label[Mor_gene$dir != \"N\"] <- as.character(Mor_gene$NA.[Mor_gene$dir != \"N\"])"
   ]
  },
  {
   "cell_type": "code",
   "execution_count": 8,
   "metadata": {},
   "outputs": [
    {
     "name": "stderr",
     "output_type": "stream",
     "text": [
      "Warning message:\n",
      "\"Removed 9228 rows containing missing values (geom_text_repel).\"\n",
      "Warning message:\n",
      "\"ggrepel: 3577 unlabeled data points (too many overlaps). Consider increasing max.overlaps\"\n"
     ]
    },
    {
     "data": {
      "image/png": "[encoded data removed]",
      "text/plain": [
       "plot without title"
      ]
     },
     "metadata": {
      "image/png": {
       "height": 420,
       "width": 420
      }
     },
     "output_type": "display_data"
    }
   ],
   "source": [
    "p <- ggplot(Mor_gene, aes(x=avg_log2FC, y=-log2(p_val_adjust), col=dir, label=label)) +\n",
    "    ggtitle(\"NAL ppt withdrawal-induced DEGs\") +\n",
    "    geom_point(size=0.3) + \n",
    "    geom_text_repel(size=2, max.overlaps=getOption(\"ggrepel.max.overlaps\", default = 15)) +\n",
    "    theme_classic() + \n",
    "    theme(axis.line = element_blank(), \n",
    "         plot.title=element_blank(),\n",
    "         panel.background = element_rect(colour = \"black\", size=.25, fill=NA),\n",
    "         axis.text = element_text(size=6),\n",
    "         axis.title = element_text(size=6),\n",
    "         axis.ticks = element_line(size=0.25)) +\n",
    "    geom_vline(xintercept=c(-.1, .1), col=\"black\", linetype=\"dashed\", size=0.1) +\n",
    "    geom_hline(yintercept=1, col=\"black\",linetype=\"dashed\", size=0.1) +\n",
    "    scale_color_manual(values=c(\"blue\",\"gray\",\"orange\"))+\n",
    "    ylab('-log(p-value)')+\n",
    "    xlab('Average logFC')+\n",
    "    NoLegend()\n",
    "p"
   ]
  },
  {
   "cell_type": "markdown",
   "metadata": {},
   "source": [
    "#### Plotting gene ontology terms"
   ]
  },
  {
   "cell_type": "markdown",
   "metadata": {},
   "source": [
    "https://maayanlab.cloud/Enrichr/ to identify GO terms"
   ]
  },
  {
   "cell_type": "code",
   "execution_count": 9,
   "metadata": {},
   "outputs": [],
   "source": [
    "BP_mor_up <- read.table(file=\"C:/Users/stuberadmin/Documents/scRNAseq/211119-RS-rV4/Neurons_only_iter2/DEG/group/GO_analysis_sal_v_mor/GO_Biological_Process_2021_table_mor_up.txt\", header = TRUE, sep = \"\\t\", quote = \"\\\"\",dec=\".\",fill=TRUE,comment.char=\"\")\n",
    "BP_mor_down <- read.table(file=\"C:/Users/stuberadmin/Documents/scRNAseq/211119-RS-rV4/Neurons_only_iter2/DEG/group/GO_analysis_sal_v_mor/GO_Biological_Process_2021_table_mor_down.txt\", header = TRUE, sep = \"\\t\", quote = \"\\\"\",dec=\".\",fill=TRUE,comment.char=\"\")"
   ]
  },
  {
   "cell_type": "code",
   "execution_count": 10,
   "metadata": {},
   "outputs": [],
   "source": [
    "new.numb <- unlist(apply(BP_mor_up[2], 1, function(y) sub(\"/.*\",\"\",y)))\n",
    "BP_mor_up$Overlap <- new.numb\n",
    "                         \n",
    "new.numb <- unlist(apply(BP_mor_down[2], 1, function(y) sub(\"/.*\",\"\",y)))\n",
    "BP_mor_down$Overlap <- new.numb"
   ]
  },
  {
   "cell_type": "code",
   "execution_count": 11,
   "metadata": {},
   "outputs": [],
   "source": [
    "BP_mor_up_set <- BP_mor_up %>% slice(1:10)\n",
    "BP_mor_down_set <- BP_mor_down %>% slice(1:10)\n",
    "\n",
    "terms <- BP_mor_up_set$Term"
   ]
  },
  {
   "cell_type": "code",
   "execution_count": 12,
   "metadata": {},
   "outputs": [
    {
     "data": {
      "image/png": "[encoded data removed]",
      "text/plain": [
       "plot without title"
      ]
     },
     "metadata": {
      "image/png": {
       "height": 420,
       "width": 420
      }
     },
     "output_type": "display_data"
    }
   ],
   "source": [
    "p <- ggplot(BP_mor_up_set, aes(x = Term, y= -log2(Adjusted.P.value)))+\n",
    "geom_hline(yintercept = -log2(0.05), linetype=\"dashed\", color = \"blue\", size=.5)+\n",
    "geom_bar(stat='identity',width=0.5, color='darkorange', fill='darkorange')+\n",
    "scale_size(range = c(1,3))+\n",
    "scale_x_discrete(limits= rev(terms))+\n",
    "scale_y_continuous(limits=c(0,25))+\n",
    "coord_flip()+\n",
    "theme_bw()+\n",
    "theme(plot.title = element_text(size=8),\n",
    "    axis.title.y = element_blank(),\n",
    "    axis.title.x = element_text(size=6),\n",
    "    axis.line=element_line(size=0.25),\n",
    "    axis.ticks=element_line(size=0.25),\n",
    "    axis.ticks.length=unit(-0.1, \"cm\"),\n",
    "    axis.text.x = element_text(margin=margin(5,5,0,5,\"pt\"), size=6),\n",
    "    axis.text.y = element_text(margin=margin(5,5,5,5,\"pt\"), size=6),\n",
    "    axis.text = element_text(color = \"black\", size=6),\n",
    "    panel.grid.minor = element_blank(),\n",
    "    legend.position='bottomleft')+\n",
    "theme(legend.title = element_text(size = 8),\n",
    "    legend.text = element_text(size = 6), \n",
    "    axis.ticks = element_line(colour = \"black\", size = .25),\n",
    "     legend.position='none')+\n",
    "ylab(\"-log2(P.value)\")+\n",
    "ggtitle('Morphine upregulated')\n",
    "p"
   ]
  },
  {
   "cell_type": "code",
   "execution_count": 13,
   "metadata": {},
   "outputs": [],
   "source": [
    "terms <- BP_mor_down_set$Term"
   ]
  },
  {
   "cell_type": "code",
   "execution_count": 14,
   "metadata": {},
   "outputs": [
    {
     "data": {
      "image/png": "[encoded data removed]",
      "text/plain": [
       "plot without title"
      ]
     },
     "metadata": {
      "image/png": {
       "height": 420,
       "width": 420
      }
     },
     "output_type": "display_data"
    }
   ],
   "source": [
    "p <- ggplot(BP_mor_down_set, aes(x = Term, y= -log2(Adjusted.P.value)))+\n",
    "geom_hline(yintercept = -log2(0.05), linetype=\"dashed\", color = \"blue\", size=.5)+\n",
    "geom_bar(stat='identity',width=0.5, color='blue', fill='blue')+\n",
    "scale_size(range = c(1,3))+\n",
    "scale_x_discrete(limits= rev(terms))+\n",
    "scale_y_continuous(limits=c(0,180))+\n",
    "coord_flip()+\n",
    "theme_bw()+\n",
    "theme(plot.title = element_text(size=8),\n",
    "    axis.title.y = element_blank(),\n",
    "    axis.title.x = element_text(size=6),\n",
    "    axis.line=element_line(size=0.25),\n",
    "    axis.ticks=element_line(size=0.25),\n",
    "    axis.ticks.length=unit(-0.1, \"cm\"),\n",
    "    axis.text.x = element_text(margin=margin(5,5,0,5,\"pt\"), size=6),\n",
    "    axis.text.y = element_text(margin=margin(5,5,5,5,\"pt\"), size=6),\n",
    "    axis.text = element_text(color = \"black\", size=6),\n",
    "    panel.grid.minor = element_blank(),\n",
    "    legend.position='bottomleft')+\n",
    "theme(legend.title = element_text(size = 8),\n",
    "    legend.text = element_text(size = 6), \n",
    "    axis.ticks = element_line(colour = \"black\", size = .25),\n",
    "     legend.position='none')+\n",
    "ylab(\"-log2(P.value)\")+\n",
    "ggtitle('Morphine downregulated')\n",
    "p"
   ]
  },
  {
   "cell_type": "markdown",
   "metadata": {},
   "source": [
    "#### Calculating logFC of genes of interest between groups and within each cell type"
   ]
  },
  {
   "cell_type": "markdown",
   "metadata": {},
   "source": [
    "Reload .rds files"
   ]
  },
  {
   "cell_type": "code",
   "execution_count": null,
   "metadata": {},
   "outputs": [],
   "source": [
    "LS.integrated<-readRDS(file = \"C:/Users/stuberadmin/Documents/scRNAseq/211119-RS-rv4/Neurons_only_iter2/LS_integrated.rds\")\n",
    "LS_sal<-readRDS(file = \"C:/Users/stuberadmin/Documents/scRNAseq/211119-RS-rv4/Neurons_only_iter2/LS_sal.rds\")\n",
    "LS_mor<-readRDS(file = \"C:/Users/stuberadmin/Documents/scRNAseq/211119-RS-rv4/Neurons_only_iter2/LS_mor.rds\")\n",
    "LS_nal<-readRDS(file = \"C:/Users/stuberadmin/Documents/scRNAseq/211119-RS-rv4/Neurons_only_iter2/LS_nal.rds\")\n",
    "LS_one_mor<-readRDS( file = \"C:/Users/stuberadmin/Documents/scRNAseq/211119-RS-rv4/Neurons_only_iter2/LS_one_mor.rds\")\n",
    "LS_nal_no_mor<-readRDS( file = \"C:/Users/stuberadmin/Documents/scRNAseq/211119-RS-rv4/Neurons_only_iter2/LS_nal_no_mor.rds\")"
   ]
  },
  {
   "cell_type": "code",
   "execution_count": null,
   "metadata": {},
   "outputs": [],
   "source": [
    "new.ident <- c(\"Gaba1\",\"Gaba2\",\"Gaba3\",\"Gaba4\",\"Gaba5\",\"Gaba6\",\"Gaba7\",\"Glu1\",\"Gaba8\",\"Gaba9\",\"Gaba10\",\"Glu2\",\"Gaba11\",\"Gaba12\")\n",
    "names(x = new.ident) <- levels(x =LS.integrated)\n",
    "LS.integrated<- RenameIdents(object =LS.integrated, new.ident)"
   ]
  },
  {
   "cell_type": "code",
   "execution_count": null,
   "metadata": {},
   "outputs": [],
   "source": [
    "for (i in 1:length(new.ident)){\n",
    "assign(paste(new.ident[i],\"_barcode\",sep=\"\"),colnames(LS.integrated@assays$RNA@data[,which(Idents(object=LS.integrated) %in% new.ident[i])]))# this gives all barcodes in cluster\n",
    "assign(paste(new.ident[i],\"_barcode_LS_sal\",sep=\"\"),intersect(colnames(LS_sal@assays$RNA@data),eval(parse(text = paste(new.ident[i],\"_barcode\",sep=\"\")))))\n",
    "assign(paste(new.ident[i],\"_barcode_LS_mor\",sep=\"\"),intersect(colnames(LS_mor@assays$RNA@data),eval(parse(text = paste(new.ident[i],\"_barcode\",sep=\"\")))))\n",
    "assign(paste(new.ident[i],\"_barcode_LS_nal\",sep=\"\"),intersect(colnames(LS_nal@assays$RNA@data),eval(parse(text = paste(new.ident[i],\"_barcode\",sep=\"\")))))\n",
    "assign(paste(new.ident[i],\"_barcode_LS_one_mor\",sep=\"\"),intersect(colnames(LS_one_mor@assays$RNA@data),eval(parse(text = paste(new.ident[i],\"_barcode\",sep=\"\")))))\n",
    "assign(paste(new.ident[i],\"_barcode_LS_nal_no_mor\",sep=\"\"),intersect(colnames(LS_nal_no_mor@assays$RNA@data),eval(parse(text = paste(new.ident[i],\"_barcode\",sep=\"\")))))\n",
    "}"
   ]
  },
  {
   "cell_type": "code",
   "execution_count": 15,
   "metadata": {},
   "outputs": [],
   "source": [
    "Cell_type<-c(\"Gaba1\",\"Gaba2\",\"Gaba3\",\"Gaba4\",\"Gaba5\",\"Gaba6\",\"Gaba7\",\"Glu1\",\"Gaba8\",\"Gaba9\",\"Gaba10\",\"Glu2\",\"Gaba11\",\"Gaba12\")"
   ]
  },
  {
   "cell_type": "code",
   "execution_count": 16,
   "metadata": {},
   "outputs": [],
   "source": [
    "DefaultAssay(LS.integrated) <- \"RNA\"\n",
    "LS.integrated <- NormalizeData(LS.integrated)"
   ]
  },
  {
   "cell_type": "markdown",
   "metadata": {},
   "source": [
    "Generating a heatmap for specific DEGs (also includes p-value testing)"
   ]
  },
  {
   "cell_type": "code",
   "execution_count": 17,
   "metadata": {},
   "outputs": [],
   "source": [
    "assay.data<-data.frame(GetAssayData(LS.integrated, slot='data'))"
   ]
  },
  {
   "cell_type": "code",
   "execution_count": 18,
   "metadata": {},
   "outputs": [],
   "source": [
    "DEG <- c('Grm1','Grm5','Grm7','Grm8','Grin2a','Gria1','Gria2','Gria3','Gria4','Grid1','Grid2','Grik1','Grik2','Grik3','Gabra2','Gabra3','Gabra5','Gabrb1','Gabrb2','Gabrb3','Gabrg1','Gabrg2','Gabrg3','Cacna1b','Cacna1c','Cacna1e','Cacnb2','Kcnd2','Kcnq5','Kcnt2','Kcnma1')"
   ]
  },
  {
   "cell_type": "code",
   "execution_count": 19,
   "metadata": {
    "scrolled": true
   },
   "outputs": [
    {
     "name": "stderr",
     "output_type": "stream",
     "text": [
      "Warning message in wilcox.test.default(as.numeric(data.con), as.numeric(data.stim)):\n",
      "\"cannot compute exact p-value with ties\"\n",
      "Warning message in wilcox.test.default(as.numeric(data.con), as.numeric(data.stim)):\n",
      "\"cannot compute exact p-value with ties\"\n",
      "Warning message in wilcox.test.default(as.numeric(data.con), as.numeric(data.stim)):\n",
      "\"cannot compute exact p-value with ties\"\n",
      "Warning message in wilcox.test.default(as.numeric(data.con), as.numeric(data.stim)):\n",
      "\"cannot compute exact p-value with ties\"\n",
      "Warning message in wilcox.test.default(as.numeric(data.con), as.numeric(data.stim)):\n",
      "\"cannot compute exact p-value with ties\"\n",
      "Warning message in wilcox.test.default(as.numeric(data.con), as.numeric(data.stim)):\n",
      "\"cannot compute exact p-value with ties\"\n",
      "Warning message in wilcox.test.default(as.numeric(data.con), as.numeric(data.stim)):\n",
      "\"cannot compute exact p-value with ties\"\n",
      "Warning message in wilcox.test.default(as.numeric(data.con), as.numeric(data.stim)):\n",
      "\"cannot compute exact p-value with ties\"\n",
      "Warning message in wilcox.test.default(as.numeric(data.con), as.numeric(data.stim)):\n",
      "\"cannot compute exact p-value with ties\"\n",
      "Warning message in wilcox.test.default(as.numeric(data.con), as.numeric(data.stim)):\n",
      "\"cannot compute exact p-value with ties\"\n",
      "Warning message in wilcox.test.default(as.numeric(data.con), as.numeric(data.stim)):\n",
      "\"cannot compute exact p-value with ties\"\n",
      "Warning message in wilcox.test.default(as.numeric(data.con), as.numeric(data.stim)):\n",
      "\"cannot compute exact p-value with ties\"\n",
      "Warning message in wilcox.test.default(as.numeric(data.con), as.numeric(data.stim)):\n",
      "\"cannot compute exact p-value with ties\"\n",
      "Warning message in wilcox.test.default(as.numeric(data.con), as.numeric(data.stim)):\n",
      "\"cannot compute exact p-value with ties\"\n",
      "Warning message in wilcox.test.default(as.numeric(data.con), as.numeric(data.stim)):\n",
      "\"cannot compute exact p-value with ties\"\n",
      "Warning message in wilcox.test.default(as.numeric(data.con), as.numeric(data.stim)):\n",
      "\"cannot compute exact p-value with ties\"\n",
      "Warning message in wilcox.test.default(as.numeric(data.con), as.numeric(data.stim)):\n",
      "\"cannot compute exact p-value with ties\"\n",
      "Warning message in wilcox.test.default(as.numeric(data.con), as.numeric(data.stim)):\n",
      "\"cannot compute exact p-value with ties\"\n",
      "Warning message in wilcox.test.default(as.numeric(data.con), as.numeric(data.stim)):\n",
      "\"cannot compute exact p-value with ties\"\n",
      "Warning message in wilcox.test.default(as.numeric(data.con), as.numeric(data.stim)):\n",
      "\"cannot compute exact p-value with ties\"\n",
      "Warning message in wilcox.test.default(as.numeric(data.con), as.numeric(data.stim)):\n",
      "\"cannot compute exact p-value with ties\"\n",
      "Warning message in wilcox.test.default(as.numeric(data.con), as.numeric(data.stim)):\n",
      "\"cannot compute exact p-value with ties\"\n",
      "Warning message in wilcox.test.default(as.numeric(data.con), as.numeric(data.stim)):\n",
      "\"cannot compute exact p-value with ties\"\n",
      "Warning message in wilcox.test.default(as.numeric(data.con), as.numeric(data.stim)):\n",
      "\"cannot compute exact p-value with ties\"\n",
      "Warning message in wilcox.test.default(as.numeric(data.con), as.numeric(data.stim)):\n",
      "\"cannot compute exact p-value with ties\"\n",
      "Warning message in wilcox.test.default(as.numeric(data.con), as.numeric(data.stim)):\n",
      "\"cannot compute exact p-value with ties\"\n"
     ]
    }
   ],
   "source": [
    "#only including cells that have any expression of a given DEG\n",
    "#p value calc through wilcox, post hoc BH\n",
    "\n",
    "log2FC <- vector()\n",
    "DEG.df <- data.frame(Cell_type)\n",
    "p.val <- vector()\n",
    "p.val.df <- data.frame(Cell_type)\n",
    "\n",
    "for (i in DEG){\n",
    "    DEG.data <- assay.data[rownames(assay.data) %in% i,]\n",
    "    \n",
    "    for (c in Cell_type){\n",
    "        cells.con <- intersect(colnames(LS_sal), eval(as.symbol(paste(c,'_barcode',sep=''))))\n",
    "        cells.stim <- intersect(colnames(LS_mor), eval(as.symbol(paste(c,'_barcode',sep=''))))\n",
    "    \n",
    "        data.con <- DEG.data[colnames(DEG.data) %in% cells.con]\n",
    "        data.stim <- DEG.data[colnames(DEG.data) %in% cells.stim]\n",
    "        \n",
    "        p <- wilcox.test(as.numeric(data.con), as.numeric(data.stim))$p.value\n",
    "        p <- p.adjust(p, method='BH',n=length(Cell_type))\n",
    "        p <- ifelse(p > 1, 1, p)\n",
    "        p.val[c] <- p\n",
    "        \n",
    "        #include all cells in analysis\n",
    "        mean.stim <- rowMeans(expm1(data.stim ))\n",
    "        mean.con <- rowMeans(expm1(data.con ))\n",
    "        \n",
    "        #include only cells positive for each gene\n",
    "        #mean.stim <- rowMeans(expm1(data.stim > 0))\n",
    "        #mean.con <- rowMeans(expm1(data.con > 0))\n",
    "        \n",
    "        mean.diff <- log2(mean.stim) - log2(mean.con)\n",
    "        mean.diff[is.infinite(mean.diff)]<-NA\n",
    "        log2FC[c] <- mean.diff \n",
    "    \n",
    "    }\n",
    "    \n",
    "    DEG.df <- cbind(DEG.df, data.frame(log2FC))\n",
    "    log2FC <- vector()\n",
    "    \n",
    "    p.val.df <- cbind(p.val.df, data.frame(p.val))\n",
    "    p.val <- vector()\n",
    "}"
   ]
  },
  {
   "cell_type": "code",
   "execution_count": 20,
   "metadata": {},
   "outputs": [],
   "source": [
    "colnames(p.val.df) <- c('Cell_type',DEG)\n",
    "colnames(DEG.df) <- c('Cell_type',DEG)"
   ]
  },
  {
   "cell_type": "code",
   "execution_count": 21,
   "metadata": {},
   "outputs": [
    {
     "data": {
      "text/html": [
       "<table class=\"dataframe\">\n",
       "<caption>A data.frame: 14 × 32</caption>\n",
       "<thead>\n",
       "\t<tr><th></th><th scope=col>Cell_type</th><th scope=col>Grm1</th><th scope=col>Grm5</th><th scope=col>Grm7</th><th scope=col>Grm8</th><th scope=col>Grin2a</th><th scope=col>Gria1</th><th scope=col>Gria2</th><th scope=col>Gria3</th><th scope=col>Gria4</th><th scope=col>...</th><th scope=col>Gabrg2</th><th scope=col>Gabrg3</th><th scope=col>Cacna1b</th><th scope=col>Cacna1c</th><th scope=col>Cacna1e</th><th scope=col>Cacnb2</th><th scope=col>Kcnd2</th><th scope=col>Kcnq5</th><th scope=col>Kcnt2</th><th scope=col>Kcnma1</th></tr>\n",
       "\t<tr><th></th><th scope=col>&lt;chr&gt;</th><th scope=col>&lt;dbl&gt;</th><th scope=col>&lt;dbl&gt;</th><th scope=col>&lt;dbl&gt;</th><th scope=col>&lt;dbl&gt;</th><th scope=col>&lt;dbl&gt;</th><th scope=col>&lt;dbl&gt;</th><th scope=col>&lt;dbl&gt;</th><th scope=col>&lt;dbl&gt;</th><th scope=col>&lt;dbl&gt;</th><th scope=col>...</th><th scope=col>&lt;dbl&gt;</th><th scope=col>&lt;dbl&gt;</th><th scope=col>&lt;dbl&gt;</th><th scope=col>&lt;dbl&gt;</th><th scope=col>&lt;dbl&gt;</th><th scope=col>&lt;dbl&gt;</th><th scope=col>&lt;dbl&gt;</th><th scope=col>&lt;dbl&gt;</th><th scope=col>&lt;dbl&gt;</th><th scope=col>&lt;dbl&gt;</th></tr>\n",
       "</thead>\n",
       "<tbody>\n",
       "\t<tr><th scope=row>Gaba1</th><td>Gaba1 </td><td> 0.25963821</td><td>0.2588834</td><td>0.4005646</td><td>0.32342624</td><td> 0.1799494</td><td> 0.3918653</td><td>0.2946854</td><td>0.3084213</td><td> 0.3024448</td><td>...</td><td> 0.27988137</td><td> 0.2495432</td><td> 0.21679736</td><td>0.3500606</td><td> 0.45587124</td><td>0.26606465</td><td> 0.48806520</td><td> 0.18257600</td><td>0.3403779</td><td>0.4046657</td></tr>\n",
       "\t<tr><th scope=row>Gaba2</th><td>Gaba2 </td><td> 0.53851636</td><td>0.2315032</td><td>0.4708673</td><td>0.25099328</td><td> 0.2670386</td><td> 0.3551259</td><td>0.2893994</td><td>0.4173176</td><td> 0.1730292</td><td>...</td><td> 0.24589700</td><td> 0.2525499</td><td> 0.10322715</td><td>0.2913498</td><td> 0.38411562</td><td>0.20197543</td><td> 0.50241341</td><td> 0.31581854</td><td>0.5093497</td><td>0.5139604</td></tr>\n",
       "\t<tr><th scope=row>Gaba3</th><td>Gaba3 </td><td> 0.39536867</td><td>0.2060582</td><td>0.4213136</td><td>0.36748442</td><td> 0.0841550</td><td> 0.3496227</td><td>0.3280317</td><td>0.2175211</td><td> 0.2337193</td><td>...</td><td> 0.44937785</td><td> 0.3111345</td><td> 0.08382990</td><td>0.5220253</td><td> 0.42780082</td><td>0.22156914</td><td> 0.29484225</td><td> 0.48841173</td><td>0.5016788</td><td>0.3351840</td></tr>\n",
       "\t<tr><th scope=row>Gaba4</th><td>Gaba4 </td><td> 0.25023219</td><td>0.2400345</td><td>0.4679257</td><td>0.47651162</td><td> 0.3976679</td><td> 0.4264141</td><td>0.3295732</td><td>0.3466834</td><td> 0.1961929</td><td>...</td><td> 0.13344939</td><td> 0.4189827</td><td> 0.33691632</td><td>0.3477103</td><td> 0.49983415</td><td>0.30447234</td><td> 0.35155119</td><td> 0.45604961</td><td>0.4049972</td><td>0.4414178</td></tr>\n",
       "\t<tr><th scope=row>Gaba5</th><td>Gaba5 </td><td> 0.13180351</td><td>0.2511096</td><td>0.3438993</td><td>0.37476925</td><td> 0.1977685</td><td> 0.3127889</td><td>0.2663332</td><td>0.2361190</td><td> 0.2869413</td><td>...</td><td> 0.26233267</td><td> 0.2338667</td><td> 0.23494202</td><td>0.2828982</td><td> 0.40845084</td><td>0.36549969</td><td> 0.29703623</td><td> 0.26514563</td><td>0.5181527</td><td>0.4776929</td></tr>\n",
       "\t<tr><th scope=row>Gaba6</th><td>Gaba6 </td><td> 0.23637838</td><td>0.1752804</td><td>0.4076943</td><td>0.43960393</td><td> 0.1759615</td><td> 0.2902398</td><td>0.3050488</td><td>0.2300280</td><td> 0.2450660</td><td>...</td><td> 0.22806227</td><td> 0.1876823</td><td> 0.23781431</td><td>0.2455998</td><td> 0.48732487</td><td>0.36629323</td><td> 0.37107978</td><td> 0.34748862</td><td>0.4646587</td><td>0.2523722</td></tr>\n",
       "\t<tr><th scope=row>Gaba7</th><td>Gaba7 </td><td> 0.24141339</td><td>0.2652278</td><td>0.4545005</td><td>0.33535560</td><td> 0.1738188</td><td> 0.4497681</td><td>0.3397895</td><td>0.2977753</td><td> 0.1400795</td><td>...</td><td> 0.31150384</td><td> 0.2627897</td><td> 0.07545009</td><td>0.3622228</td><td> 0.49247683</td><td>0.18805580</td><td> 0.21154758</td><td> 0.14647881</td><td>0.4537205</td><td>0.3934106</td></tr>\n",
       "\t<tr><th scope=row>Glu1</th><td>Glu1  </td><td> 0.56370020</td><td>0.1556221</td><td>0.3457205</td><td>0.51614351</td><td>-0.1274921</td><td> 0.3457433</td><td>0.4806633</td><td>0.4317994</td><td> 0.4497215</td><td>...</td><td> 0.26268824</td><td> 0.2312596</td><td>-0.02014572</td><td>0.4675763</td><td> 0.32588440</td><td>0.08652986</td><td>-0.02705954</td><td> 0.18538023</td><td>0.4452755</td><td>0.1210077</td></tr>\n",
       "\t<tr><th scope=row>Gaba8</th><td>Gaba8 </td><td>-0.04718278</td><td>0.2350592</td><td>0.4485010</td><td>0.31473910</td><td> 0.3022235</td><td> 0.3994546</td><td>0.3029039</td><td>0.2988651</td><td> 0.1393479</td><td>...</td><td> 0.31353314</td><td> 0.3161694</td><td> 0.16463181</td><td>0.3434930</td><td> 0.43446385</td><td>0.37181010</td><td> 0.29452597</td><td> 0.34615026</td><td>0.2961035</td><td>0.3817956</td></tr>\n",
       "\t<tr><th scope=row>Gaba9</th><td>Gaba9 </td><td> 0.49542055</td><td>0.2021813</td><td>0.3453000</td><td>0.41318142</td><td> 0.4392998</td><td> 0.4437696</td><td>0.3707534</td><td>0.4594695</td><td> 0.3035368</td><td>...</td><td>-0.13966713</td><td> 0.2715704</td><td> 0.11910622</td><td>0.6385882</td><td> 0.33922566</td><td>0.20205210</td><td> 0.41760919</td><td> 0.27106418</td><td>0.4644976</td><td>0.4041596</td></tr>\n",
       "\t<tr><th scope=row>Gaba10</th><td>Gaba10</td><td> 0.39494732</td><td>0.1839951</td><td>0.4502822</td><td>0.61338529</td><td> 0.2274494</td><td> 0.5200276</td><td>0.2985092</td><td>0.3652674</td><td> 0.3030103</td><td>...</td><td>-0.06607215</td><td> 0.2826099</td><td> 0.24417654</td><td>0.3905903</td><td> 0.44409270</td><td>0.37117423</td><td> 0.52910124</td><td> 0.40672321</td><td>0.7536622</td><td>0.4122412</td></tr>\n",
       "\t<tr><th scope=row>Glu2</th><td>Glu2  </td><td> 0.31394864</td><td>0.5965697</td><td>0.4593478</td><td>0.39115834</td><td> 0.5901685</td><td> 0.6352421</td><td>0.3037118</td><td>0.3484943</td><td> 0.2752771</td><td>...</td><td> 0.28004388</td><td> 0.2782179</td><td> 0.12713029</td><td>0.3786022</td><td> 0.58828745</td><td>0.37049493</td><td> 0.45637391</td><td> 0.31823125</td><td>0.1988859</td><td>0.5787665</td></tr>\n",
       "\t<tr><th scope=row>Gaba11</th><td>Gaba11</td><td> 0.65777727</td><td>0.2642008</td><td>0.3030717</td><td>0.06569669</td><td> 0.2063093</td><td> 0.4721935</td><td>0.3081916</td><td>0.5998431</td><td> 0.1829914</td><td>...</td><td> 0.30366215</td><td> 0.2807644</td><td> 0.41838506</td><td>0.2674971</td><td> 0.66655149</td><td>0.32725212</td><td> 0.35144887</td><td> 0.31313939</td><td>0.2989057</td><td>0.4999525</td></tr>\n",
       "\t<tr><th scope=row>Gaba12</th><td>Gaba12</td><td> 1.69920143</td><td>0.1086744</td><td>0.2591543</td><td>1.06378591</td><td>-1.5672286</td><td>-0.0496510</td><td>0.4525349</td><td>0.9388822</td><td>-0.1165341</td><td>...</td><td> 0.90192539</td><td>-0.5330697</td><td> 0.55510499</td><td>0.8273057</td><td>-0.02043118</td><td>0.16262766</td><td> 0.44794920</td><td>-0.05180091</td><td>0.4331322</td><td>0.2335236</td></tr>\n",
       "</tbody>\n",
       "</table>\n"
      ],
      "text/latex": [
       "A data.frame: 14 × 32\n",
       "\\begin{tabular}{r|lllllllllllllllllllll}\n",
       "  & Cell\\_type & Grm1 & Grm5 & Grm7 & Grm8 & Grin2a & Gria1 & Gria2 & Gria3 & Gria4 & ... & Gabrg2 & Gabrg3 & Cacna1b & Cacna1c & Cacna1e & Cacnb2 & Kcnd2 & Kcnq5 & Kcnt2 & Kcnma1\\\\\n",
       "  & <chr> & <dbl> & <dbl> & <dbl> & <dbl> & <dbl> & <dbl> & <dbl> & <dbl> & <dbl> & ... & <dbl> & <dbl> & <dbl> & <dbl> & <dbl> & <dbl> & <dbl> & <dbl> & <dbl> & <dbl>\\\\\n",
       "\\hline\n",
       "\tGaba1 & Gaba1  &  0.25963821 & 0.2588834 & 0.4005646 & 0.32342624 &  0.1799494 &  0.3918653 & 0.2946854 & 0.3084213 &  0.3024448 & ... &  0.27988137 &  0.2495432 &  0.21679736 & 0.3500606 &  0.45587124 & 0.26606465 &  0.48806520 &  0.18257600 & 0.3403779 & 0.4046657\\\\\n",
       "\tGaba2 & Gaba2  &  0.53851636 & 0.2315032 & 0.4708673 & 0.25099328 &  0.2670386 &  0.3551259 & 0.2893994 & 0.4173176 &  0.1730292 & ... &  0.24589700 &  0.2525499 &  0.10322715 & 0.2913498 &  0.38411562 & 0.20197543 &  0.50241341 &  0.31581854 & 0.5093497 & 0.5139604\\\\\n",
       "\tGaba3 & Gaba3  &  0.39536867 & 0.2060582 & 0.4213136 & 0.36748442 &  0.0841550 &  0.3496227 & 0.3280317 & 0.2175211 &  0.2337193 & ... &  0.44937785 &  0.3111345 &  0.08382990 & 0.5220253 &  0.42780082 & 0.22156914 &  0.29484225 &  0.48841173 & 0.5016788 & 0.3351840\\\\\n",
       "\tGaba4 & Gaba4  &  0.25023219 & 0.2400345 & 0.4679257 & 0.47651162 &  0.3976679 &  0.4264141 & 0.3295732 & 0.3466834 &  0.1961929 & ... &  0.13344939 &  0.4189827 &  0.33691632 & 0.3477103 &  0.49983415 & 0.30447234 &  0.35155119 &  0.45604961 & 0.4049972 & 0.4414178\\\\\n",
       "\tGaba5 & Gaba5  &  0.13180351 & 0.2511096 & 0.3438993 & 0.37476925 &  0.1977685 &  0.3127889 & 0.2663332 & 0.2361190 &  0.2869413 & ... &  0.26233267 &  0.2338667 &  0.23494202 & 0.2828982 &  0.40845084 & 0.36549969 &  0.29703623 &  0.26514563 & 0.5181527 & 0.4776929\\\\\n",
       "\tGaba6 & Gaba6  &  0.23637838 & 0.1752804 & 0.4076943 & 0.43960393 &  0.1759615 &  0.2902398 & 0.3050488 & 0.2300280 &  0.2450660 & ... &  0.22806227 &  0.1876823 &  0.23781431 & 0.2455998 &  0.48732487 & 0.36629323 &  0.37107978 &  0.34748862 & 0.4646587 & 0.2523722\\\\\n",
       "\tGaba7 & Gaba7  &  0.24141339 & 0.2652278 & 0.4545005 & 0.33535560 &  0.1738188 &  0.4497681 & 0.3397895 & 0.2977753 &  0.1400795 & ... &  0.31150384 &  0.2627897 &  0.07545009 & 0.3622228 &  0.49247683 & 0.18805580 &  0.21154758 &  0.14647881 & 0.4537205 & 0.3934106\\\\\n",
       "\tGlu1 & Glu1   &  0.56370020 & 0.1556221 & 0.3457205 & 0.51614351 & -0.1274921 &  0.3457433 & 0.4806633 & 0.4317994 &  0.4497215 & ... &  0.26268824 &  0.2312596 & -0.02014572 & 0.4675763 &  0.32588440 & 0.08652986 & -0.02705954 &  0.18538023 & 0.4452755 & 0.1210077\\\\\n",
       "\tGaba8 & Gaba8  & -0.04718278 & 0.2350592 & 0.4485010 & 0.31473910 &  0.3022235 &  0.3994546 & 0.3029039 & 0.2988651 &  0.1393479 & ... &  0.31353314 &  0.3161694 &  0.16463181 & 0.3434930 &  0.43446385 & 0.37181010 &  0.29452597 &  0.34615026 & 0.2961035 & 0.3817956\\\\\n",
       "\tGaba9 & Gaba9  &  0.49542055 & 0.2021813 & 0.3453000 & 0.41318142 &  0.4392998 &  0.4437696 & 0.3707534 & 0.4594695 &  0.3035368 & ... & -0.13966713 &  0.2715704 &  0.11910622 & 0.6385882 &  0.33922566 & 0.20205210 &  0.41760919 &  0.27106418 & 0.4644976 & 0.4041596\\\\\n",
       "\tGaba10 & Gaba10 &  0.39494732 & 0.1839951 & 0.4502822 & 0.61338529 &  0.2274494 &  0.5200276 & 0.2985092 & 0.3652674 &  0.3030103 & ... & -0.06607215 &  0.2826099 &  0.24417654 & 0.3905903 &  0.44409270 & 0.37117423 &  0.52910124 &  0.40672321 & 0.7536622 & 0.4122412\\\\\n",
       "\tGlu2 & Glu2   &  0.31394864 & 0.5965697 & 0.4593478 & 0.39115834 &  0.5901685 &  0.6352421 & 0.3037118 & 0.3484943 &  0.2752771 & ... &  0.28004388 &  0.2782179 &  0.12713029 & 0.3786022 &  0.58828745 & 0.37049493 &  0.45637391 &  0.31823125 & 0.1988859 & 0.5787665\\\\\n",
       "\tGaba11 & Gaba11 &  0.65777727 & 0.2642008 & 0.3030717 & 0.06569669 &  0.2063093 &  0.4721935 & 0.3081916 & 0.5998431 &  0.1829914 & ... &  0.30366215 &  0.2807644 &  0.41838506 & 0.2674971 &  0.66655149 & 0.32725212 &  0.35144887 &  0.31313939 & 0.2989057 & 0.4999525\\\\\n",
       "\tGaba12 & Gaba12 &  1.69920143 & 0.1086744 & 0.2591543 & 1.06378591 & -1.5672286 & -0.0496510 & 0.4525349 & 0.9388822 & -0.1165341 & ... &  0.90192539 & -0.5330697 &  0.55510499 & 0.8273057 & -0.02043118 & 0.16262766 &  0.44794920 & -0.05180091 & 0.4331322 & 0.2335236\\\\\n",
       "\\end{tabular}\n"
      ],
      "text/markdown": [
       "\n",
       "A data.frame: 14 × 32\n",
       "\n",
       "| <!--/--> | Cell_type &lt;chr&gt; | Grm1 &lt;dbl&gt; | Grm5 &lt;dbl&gt; | Grm7 &lt;dbl&gt; | Grm8 &lt;dbl&gt; | Grin2a &lt;dbl&gt; | Gria1 &lt;dbl&gt; | Gria2 &lt;dbl&gt; | Gria3 &lt;dbl&gt; | Gria4 &lt;dbl&gt; | ... ... | Gabrg2 &lt;dbl&gt; | Gabrg3 &lt;dbl&gt; | Cacna1b &lt;dbl&gt; | Cacna1c &lt;dbl&gt; | Cacna1e &lt;dbl&gt; | Cacnb2 &lt;dbl&gt; | Kcnd2 &lt;dbl&gt; | Kcnq5 &lt;dbl&gt; | Kcnt2 &lt;dbl&gt; | Kcnma1 &lt;dbl&gt; |\n",
       "|---|---|---|---|---|---|---|---|---|---|---|---|---|---|---|---|---|---|---|---|---|---|\n",
       "| Gaba1 | Gaba1  |  0.25963821 | 0.2588834 | 0.4005646 | 0.32342624 |  0.1799494 |  0.3918653 | 0.2946854 | 0.3084213 |  0.3024448 | ... |  0.27988137 |  0.2495432 |  0.21679736 | 0.3500606 |  0.45587124 | 0.26606465 |  0.48806520 |  0.18257600 | 0.3403779 | 0.4046657 |\n",
       "| Gaba2 | Gaba2  |  0.53851636 | 0.2315032 | 0.4708673 | 0.25099328 |  0.2670386 |  0.3551259 | 0.2893994 | 0.4173176 |  0.1730292 | ... |  0.24589700 |  0.2525499 |  0.10322715 | 0.2913498 |  0.38411562 | 0.20197543 |  0.50241341 |  0.31581854 | 0.5093497 | 0.5139604 |\n",
       "| Gaba3 | Gaba3  |  0.39536867 | 0.2060582 | 0.4213136 | 0.36748442 |  0.0841550 |  0.3496227 | 0.3280317 | 0.2175211 |  0.2337193 | ... |  0.44937785 |  0.3111345 |  0.08382990 | 0.5220253 |  0.42780082 | 0.22156914 |  0.29484225 |  0.48841173 | 0.5016788 | 0.3351840 |\n",
       "| Gaba4 | Gaba4  |  0.25023219 | 0.2400345 | 0.4679257 | 0.47651162 |  0.3976679 |  0.4264141 | 0.3295732 | 0.3466834 |  0.1961929 | ... |  0.13344939 |  0.4189827 |  0.33691632 | 0.3477103 |  0.49983415 | 0.30447234 |  0.35155119 |  0.45604961 | 0.4049972 | 0.4414178 |\n",
       "| Gaba5 | Gaba5  |  0.13180351 | 0.2511096 | 0.3438993 | 0.37476925 |  0.1977685 |  0.3127889 | 0.2663332 | 0.2361190 |  0.2869413 | ... |  0.26233267 |  0.2338667 |  0.23494202 | 0.2828982 |  0.40845084 | 0.36549969 |  0.29703623 |  0.26514563 | 0.5181527 | 0.4776929 |\n",
       "| Gaba6 | Gaba6  |  0.23637838 | 0.1752804 | 0.4076943 | 0.43960393 |  0.1759615 |  0.2902398 | 0.3050488 | 0.2300280 |  0.2450660 | ... |  0.22806227 |  0.1876823 |  0.23781431 | 0.2455998 |  0.48732487 | 0.36629323 |  0.37107978 |  0.34748862 | 0.4646587 | 0.2523722 |\n",
       "| Gaba7 | Gaba7  |  0.24141339 | 0.2652278 | 0.4545005 | 0.33535560 |  0.1738188 |  0.4497681 | 0.3397895 | 0.2977753 |  0.1400795 | ... |  0.31150384 |  0.2627897 |  0.07545009 | 0.3622228 |  0.49247683 | 0.18805580 |  0.21154758 |  0.14647881 | 0.4537205 | 0.3934106 |\n",
       "| Glu1 | Glu1   |  0.56370020 | 0.1556221 | 0.3457205 | 0.51614351 | -0.1274921 |  0.3457433 | 0.4806633 | 0.4317994 |  0.4497215 | ... |  0.26268824 |  0.2312596 | -0.02014572 | 0.4675763 |  0.32588440 | 0.08652986 | -0.02705954 |  0.18538023 | 0.4452755 | 0.1210077 |\n",
       "| Gaba8 | Gaba8  | -0.04718278 | 0.2350592 | 0.4485010 | 0.31473910 |  0.3022235 |  0.3994546 | 0.3029039 | 0.2988651 |  0.1393479 | ... |  0.31353314 |  0.3161694 |  0.16463181 | 0.3434930 |  0.43446385 | 0.37181010 |  0.29452597 |  0.34615026 | 0.2961035 | 0.3817956 |\n",
       "| Gaba9 | Gaba9  |  0.49542055 | 0.2021813 | 0.3453000 | 0.41318142 |  0.4392998 |  0.4437696 | 0.3707534 | 0.4594695 |  0.3035368 | ... | -0.13966713 |  0.2715704 |  0.11910622 | 0.6385882 |  0.33922566 | 0.20205210 |  0.41760919 |  0.27106418 | 0.4644976 | 0.4041596 |\n",
       "| Gaba10 | Gaba10 |  0.39494732 | 0.1839951 | 0.4502822 | 0.61338529 |  0.2274494 |  0.5200276 | 0.2985092 | 0.3652674 |  0.3030103 | ... | -0.06607215 |  0.2826099 |  0.24417654 | 0.3905903 |  0.44409270 | 0.37117423 |  0.52910124 |  0.40672321 | 0.7536622 | 0.4122412 |\n",
       "| Glu2 | Glu2   |  0.31394864 | 0.5965697 | 0.4593478 | 0.39115834 |  0.5901685 |  0.6352421 | 0.3037118 | 0.3484943 |  0.2752771 | ... |  0.28004388 |  0.2782179 |  0.12713029 | 0.3786022 |  0.58828745 | 0.37049493 |  0.45637391 |  0.31823125 | 0.1988859 | 0.5787665 |\n",
       "| Gaba11 | Gaba11 |  0.65777727 | 0.2642008 | 0.3030717 | 0.06569669 |  0.2063093 |  0.4721935 | 0.3081916 | 0.5998431 |  0.1829914 | ... |  0.30366215 |  0.2807644 |  0.41838506 | 0.2674971 |  0.66655149 | 0.32725212 |  0.35144887 |  0.31313939 | 0.2989057 | 0.4999525 |\n",
       "| Gaba12 | Gaba12 |  1.69920143 | 0.1086744 | 0.2591543 | 1.06378591 | -1.5672286 | -0.0496510 | 0.4525349 | 0.9388822 | -0.1165341 | ... |  0.90192539 | -0.5330697 |  0.55510499 | 0.8273057 | -0.02043118 | 0.16262766 |  0.44794920 | -0.05180091 | 0.4331322 | 0.2335236 |\n",
       "\n"
      ],
      "text/plain": [
       "       Cell_type Grm1        Grm5      Grm7      Grm8       Grin2a    \n",
       "Gaba1  Gaba1      0.25963821 0.2588834 0.4005646 0.32342624  0.1799494\n",
       "Gaba2  Gaba2      0.53851636 0.2315032 0.4708673 0.25099328  0.2670386\n",
       "Gaba3  Gaba3      0.39536867 0.2060582 0.4213136 0.36748442  0.0841550\n",
       "Gaba4  Gaba4      0.25023219 0.2400345 0.4679257 0.47651162  0.3976679\n",
       "Gaba5  Gaba5      0.13180351 0.2511096 0.3438993 0.37476925  0.1977685\n",
       "Gaba6  Gaba6      0.23637838 0.1752804 0.4076943 0.43960393  0.1759615\n",
       "Gaba7  Gaba7      0.24141339 0.2652278 0.4545005 0.33535560  0.1738188\n",
       "Glu1   Glu1       0.56370020 0.1556221 0.3457205 0.51614351 -0.1274921\n",
       "Gaba8  Gaba8     -0.04718278 0.2350592 0.4485010 0.31473910  0.3022235\n",
       "Gaba9  Gaba9      0.49542055 0.2021813 0.3453000 0.41318142  0.4392998\n",
       "Gaba10 Gaba10     0.39494732 0.1839951 0.4502822 0.61338529  0.2274494\n",
       "Glu2   Glu2       0.31394864 0.5965697 0.4593478 0.39115834  0.5901685\n",
       "Gaba11 Gaba11     0.65777727 0.2642008 0.3030717 0.06569669  0.2063093\n",
       "Gaba12 Gaba12     1.69920143 0.1086744 0.2591543 1.06378591 -1.5672286\n",
       "       Gria1      Gria2     Gria3     Gria4      ... Gabrg2      Gabrg3    \n",
       "Gaba1   0.3918653 0.2946854 0.3084213  0.3024448 ...  0.27988137  0.2495432\n",
       "Gaba2   0.3551259 0.2893994 0.4173176  0.1730292 ...  0.24589700  0.2525499\n",
       "Gaba3   0.3496227 0.3280317 0.2175211  0.2337193 ...  0.44937785  0.3111345\n",
       "Gaba4   0.4264141 0.3295732 0.3466834  0.1961929 ...  0.13344939  0.4189827\n",
       "Gaba5   0.3127889 0.2663332 0.2361190  0.2869413 ...  0.26233267  0.2338667\n",
       "Gaba6   0.2902398 0.3050488 0.2300280  0.2450660 ...  0.22806227  0.1876823\n",
       "Gaba7   0.4497681 0.3397895 0.2977753  0.1400795 ...  0.31150384  0.2627897\n",
       "Glu1    0.3457433 0.4806633 0.4317994  0.4497215 ...  0.26268824  0.2312596\n",
       "Gaba8   0.3994546 0.3029039 0.2988651  0.1393479 ...  0.31353314  0.3161694\n",
       "Gaba9   0.4437696 0.3707534 0.4594695  0.3035368 ... -0.13966713  0.2715704\n",
       "Gaba10  0.5200276 0.2985092 0.3652674  0.3030103 ... -0.06607215  0.2826099\n",
       "Glu2    0.6352421 0.3037118 0.3484943  0.2752771 ...  0.28004388  0.2782179\n",
       "Gaba11  0.4721935 0.3081916 0.5998431  0.1829914 ...  0.30366215  0.2807644\n",
       "Gaba12 -0.0496510 0.4525349 0.9388822 -0.1165341 ...  0.90192539 -0.5330697\n",
       "       Cacna1b     Cacna1c   Cacna1e     Cacnb2     Kcnd2       Kcnq5      \n",
       "Gaba1   0.21679736 0.3500606  0.45587124 0.26606465  0.48806520  0.18257600\n",
       "Gaba2   0.10322715 0.2913498  0.38411562 0.20197543  0.50241341  0.31581854\n",
       "Gaba3   0.08382990 0.5220253  0.42780082 0.22156914  0.29484225  0.48841173\n",
       "Gaba4   0.33691632 0.3477103  0.49983415 0.30447234  0.35155119  0.45604961\n",
       "Gaba5   0.23494202 0.2828982  0.40845084 0.36549969  0.29703623  0.26514563\n",
       "Gaba6   0.23781431 0.2455998  0.48732487 0.36629323  0.37107978  0.34748862\n",
       "Gaba7   0.07545009 0.3622228  0.49247683 0.18805580  0.21154758  0.14647881\n",
       "Glu1   -0.02014572 0.4675763  0.32588440 0.08652986 -0.02705954  0.18538023\n",
       "Gaba8   0.16463181 0.3434930  0.43446385 0.37181010  0.29452597  0.34615026\n",
       "Gaba9   0.11910622 0.6385882  0.33922566 0.20205210  0.41760919  0.27106418\n",
       "Gaba10  0.24417654 0.3905903  0.44409270 0.37117423  0.52910124  0.40672321\n",
       "Glu2    0.12713029 0.3786022  0.58828745 0.37049493  0.45637391  0.31823125\n",
       "Gaba11  0.41838506 0.2674971  0.66655149 0.32725212  0.35144887  0.31313939\n",
       "Gaba12  0.55510499 0.8273057 -0.02043118 0.16262766  0.44794920 -0.05180091\n",
       "       Kcnt2     Kcnma1   \n",
       "Gaba1  0.3403779 0.4046657\n",
       "Gaba2  0.5093497 0.5139604\n",
       "Gaba3  0.5016788 0.3351840\n",
       "Gaba4  0.4049972 0.4414178\n",
       "Gaba5  0.5181527 0.4776929\n",
       "Gaba6  0.4646587 0.2523722\n",
       "Gaba7  0.4537205 0.3934106\n",
       "Glu1   0.4452755 0.1210077\n",
       "Gaba8  0.2961035 0.3817956\n",
       "Gaba9  0.4644976 0.4041596\n",
       "Gaba10 0.7536622 0.4122412\n",
       "Glu2   0.1988859 0.5787665\n",
       "Gaba11 0.2989057 0.4999525\n",
       "Gaba12 0.4331322 0.2335236"
      ]
     },
     "metadata": {},
     "output_type": "display_data"
    }
   ],
   "source": [
    "DEG.df"
   ]
  },
  {
   "cell_type": "code",
   "execution_count": 22,
   "metadata": {},
   "outputs": [
    {
     "name": "stderr",
     "output_type": "stream",
     "text": [
      "Using Cell_type as id variables\n",
      "\n",
      "Using Cell_type as id variables\n",
      "\n"
     ]
    }
   ],
   "source": [
    "library(reshape2)\n",
    "library(scales)\n",
    "\n",
    "sm.df <- melt(p.val.df)\n",
    "\n",
    "big.df <- melt(DEG.df)\n",
    "big.df$p.value <- sm.df$value\n",
    "\n",
    "#label tile if deemed significantly different\n",
    "big.df$highlight <- ifelse(big.df$p.value < 0.05, '*',NA)\n",
    "\n",
    "#order cell types\n",
    "big.df$Cell_type <- factor(big.df$Cell_type, levels=c(\"Glu2\",\"Glu1\",\"Gaba12\",\"Gaba10\",\"Gaba5\",\"Gaba3\",\"Gaba11\",\"Gaba6\",\"Gaba7\",\"Gaba4\",\"Gaba1\",\"Gaba2\",\"Gaba8\",\"Gaba9\"))"
   ]
  },
  {
   "cell_type": "code",
   "execution_count": 23,
   "metadata": {},
   "outputs": [
    {
     "name": "stderr",
     "output_type": "stream",
     "text": [
      "Warning message:\n",
      "\"Ignoring unknown parameters: label.size, fill\"\n"
     ]
    },
    {
     "data": {
      "image/png": "[encoded data removed]",
      "text/plain": [
       "plot without title"
      ]
     },
     "metadata": {
      "image/png": {
       "height": 420,
       "width": 420
      }
     },
     "output_type": "display_data"
    }
   ],
   "source": [
    "ggplot(big.df, aes(x=Cell_type, y=variable, fill=value, label=highlight)) +\n",
    "    geom_tile(color='white') + scale_fill_gradient2(limits=c(-0.6,0.6), breaks=seq(-0.6,0.6,by=0.3),low = \"purple\",mid='white',high = \"darkorange\", midpoint=0, oob=squish) +\n",
    "    theme_classic() +\n",
    "    theme(axis.title=element_blank(),\n",
    "         axis.line = element_blank(), \n",
    "         plot.title=element_blank(),\n",
    "         panel.background = element_rect(colour = \"black\", size=.25, fill=NA),\n",
    "         axis.text.y = element_text(size=6),\n",
    "         axis.text.x = element_text(size=6,angle=45, hjust=1),\n",
    "         axis.ticks = element_line(size=0.25)) +\n",
    "    geom_text(data=subset(big.df, highlight == '*'), aes(Cell_type,variable,label=highlight), vjust=0.5,label.size=NA, size=3, fill=NA, color='black') +\n",
    "    coord_flip()"
   ]
  }
 ],
 "metadata": {
  "kernelspec": {
   "display_name": "R",
   "language": "R",
   "name": "ir"
  },
  "language_info": {
   "codemirror_mode": "r",
   "file_extension": ".r",
   "mimetype": "text/x-r-source",
   "name": "R",
   "pygments_lexer": "r",
   "version": "4.1.2"
  }
 },
 "nbformat": 4,
 "nbformat_minor": 2
}
