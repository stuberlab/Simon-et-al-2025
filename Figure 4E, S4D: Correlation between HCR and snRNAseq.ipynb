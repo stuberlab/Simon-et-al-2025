{
 "cells": [
  {
   "cell_type": "markdown",
   "metadata": {},
   "source": [
    "## Correlation between HCR and snRNAseq"
   ]
  },
  {
   "cell_type": "markdown",
   "metadata": {},
   "source": [
    "This notebook includes code for assessing the correlation between HCR and snRNAseq datasets"
   ]
  },
  {
   "cell_type": "markdown",
   "metadata": {},
   "source": [
    "#### Import libraries"
   ]
  },
  {
   "cell_type": "code",
   "execution_count": 1,
   "metadata": {
    "scrolled": true
   },
   "outputs": [
    {
     "name": "stderr",
     "output_type": "stream",
     "text": [
      "-- \u001b[1mAttaching packages\u001b[22m ------------------------------------------------------------------------------- tidyverse 1.3.1 --\n",
      "\n",
      "\u001b[32mv\u001b[39m \u001b[34mggplot2\u001b[39m 3.3.5     \u001b[32mv\u001b[39m \u001b[34mpurrr  \u001b[39m 0.3.4\n",
      "\u001b[32mv\u001b[39m \u001b[34mtibble \u001b[39m 3.1.6     \u001b[32mv\u001b[39m \u001b[34mdplyr  \u001b[39m 1.0.7\n",
      "\u001b[32mv\u001b[39m \u001b[34mtidyr  \u001b[39m 1.1.4     \u001b[32mv\u001b[39m \u001b[34mstringr\u001b[39m 1.4.0\n",
      "\u001b[32mv\u001b[39m \u001b[34mreadr  \u001b[39m 2.1.1     \u001b[32mv\u001b[39m \u001b[34mforcats\u001b[39m 0.5.1\n",
      "\n",
      "-- \u001b[1mConflicts\u001b[22m ---------------------------------------------------------------------------------- tidyverse_conflicts() --\n",
      "\u001b[31mx\u001b[39m \u001b[34mdplyr\u001b[39m::\u001b[32mcombine()\u001b[39m masks \u001b[34mgridExtra\u001b[39m::combine()\n",
      "\u001b[31mx\u001b[39m \u001b[34mdplyr\u001b[39m::\u001b[32mfilter()\u001b[39m  masks \u001b[34mstats\u001b[39m::filter()\n",
      "\u001b[31mx\u001b[39m \u001b[34mdplyr\u001b[39m::\u001b[32mlag()\u001b[39m     masks \u001b[34mstats\u001b[39m::lag()\n",
      "\n",
      "\n",
      "Attaching package: 'plotly'\n",
      "\n",
      "\n",
      "The following object is masked from 'package:ggplot2':\n",
      "\n",
      "    last_plot\n",
      "\n",
      "\n",
      "The following object is masked from 'package:stats':\n",
      "\n",
      "    filter\n",
      "\n",
      "\n",
      "The following object is masked from 'package:graphics':\n",
      "\n",
      "    layout\n",
      "\n",
      "\n",
      "\n",
      "Attaching package: 'ggpubr'\n",
      "\n",
      "\n",
      "The following object is masked from 'package:cowplot':\n",
      "\n",
      "    get_legend\n",
      "\n",
      "\n"
     ]
    }
   ],
   "source": [
    "library(cowplot)\n",
    "library(reshape2)\n",
    "library(gridExtra)\n",
    "library(tidyverse)\n",
    "library(dplyr)\n",
    "library(ggplot2)\n",
    "library(plotly)\n",
    "library(ggrepel)\n",
    "library(ggpubr)"
   ]
  },
  {
   "cell_type": "markdown",
   "metadata": {},
   "source": [
    "#### Calculating proportion of cells in the HCR dataset that express each gene"
   ]
  },
  {
   "cell_type": "code",
   "execution_count": 2,
   "metadata": {},
   "outputs": [],
   "source": [
    "WT.bind <- readRDS(\"HCR_files/spot_counts.rds\")"
   ]
  },
  {
   "cell_type": "code",
   "execution_count": 3,
   "metadata": {},
   "outputs": [],
   "source": [
    "grab.spots<-colnames(WT.bind[grep('.Copies',colnames(WT.bind))])\n",
    "WT.spots <- WT.bind[grab.spots]\n",
    "rownames(WT.spots) <- WT.bind$barcode"
   ]
  },
  {
   "cell_type": "code",
   "execution_count": 4,
   "metadata": {},
   "outputs": [],
   "source": [
    "WT.spots[WT.spots < 5] <- 0\n",
    "WT.spots[WT.spots > 0] <- 1"
   ]
  },
  {
   "cell_type": "code",
   "execution_count": 5,
   "metadata": {},
   "outputs": [],
   "source": [
    "WT1S2 <- WT.spots[grep(\"WT-1-S2\",rownames(WT.spots)),]\n",
    "WT1S3 <- WT.spots[grep(\"WT-1-S3\",rownames(WT.spots)),]\n",
    "WT1S4 <- WT.spots[grep(\"WT-1-S4\",rownames(WT.spots)),]\n",
    "WT1S5 <- WT.spots[grep(\"WT-1-S5\",rownames(WT.spots)),]"
   ]
  },
  {
   "cell_type": "code",
   "execution_count": 6,
   "metadata": {},
   "outputs": [],
   "source": [
    "WT2S2 <- WT.spots[grep(\"WT-2-S2\",rownames(WT.spots)),]\n",
    "WT2S3 <- WT.spots[grep(\"WT-2-S3\",rownames(WT.spots)),]\n",
    "WT2S4 <- WT.spots[grep(\"WT-2-S4\",rownames(WT.spots)),]\n",
    "WT2S5 <- WT.spots[grep(\"WT-2-S6\",rownames(WT.spots)),]"
   ]
  },
  {
   "cell_type": "code",
   "execution_count": 7,
   "metadata": {},
   "outputs": [],
   "source": [
    "WT3S2 <- WT.spots[grep(\"WT-3-S2\",rownames(WT.spots)),]\n",
    "WT3S3 <- WT.spots[grep(\"WT-3-S4\",rownames(WT.spots)),]\n",
    "WT3S4 <- WT.spots[grep(\"WT-3-S5\",rownames(WT.spots)),]\n",
    "WT3S5 <- WT.spots[grep(\"WT-3-S6\",rownames(WT.spots)),]"
   ]
  },
  {
   "cell_type": "code",
   "execution_count": 8,
   "metadata": {},
   "outputs": [],
   "source": [
    "WT4S2 <- WT.spots[grep(\"WT-4-S3\",rownames(WT.spots)),]\n",
    "WT4S3 <- WT.spots[grep(\"WT-4-S4\",rownames(WT.spots)),]\n",
    "WT4S4 <- WT.spots[grep(\"WT-4-S5\",rownames(WT.spots)),]"
   ]
  },
  {
   "cell_type": "code",
   "execution_count": 9,
   "metadata": {},
   "outputs": [],
   "source": [
    "WT5S3 <- WT.spots[grep(\"WT-5-S3\",rownames(WT.spots)),]\n",
    "WT5S4 <- WT.spots[grep(\"WT-5-S4\",rownames(WT.spots)),]\n",
    "WT5S5 <- WT.spots[grep(\"WT-5-S6\",rownames(WT.spots)),]"
   ]
  },
  {
   "cell_type": "code",
   "execution_count": 10,
   "metadata": {},
   "outputs": [],
   "source": [
    "WT6S2 <- WT.spots[grep(\"WT-6-S2\",rownames(WT.spots)),]\n",
    "WT6S3 <- WT.spots[grep(\"WT-6-S3\",rownames(WT.spots)),]\n",
    "WT6S4 <- WT.spots[grep(\"WT-6-S4\",rownames(WT.spots)),]\n",
    "WT6S5 <- WT.spots[grep(\"WT-6-S5\",rownames(WT.spots)),]"
   ]
  },
  {
   "cell_type": "code",
   "execution_count": 11,
   "metadata": {},
   "outputs": [],
   "source": [
    "WT7S3 <- WT.spots[grep(\"WT-7-S3\",rownames(WT.spots)),]\n",
    "WT7S4 <- WT.spots[grep(\"WT-7-S4\",rownames(WT.spots)),]\n",
    "WT7S5 <- WT.spots[grep(\"WT-7-S6\",rownames(WT.spots)),]"
   ]
  },
  {
   "cell_type": "code",
   "execution_count": 12,
   "metadata": {},
   "outputs": [],
   "source": [
    "WT8S2 <- WT.spots[grep(\"WT-8-S2\",rownames(WT.spots)),]\n",
    "WT8S3 <- WT.spots[grep(\"WT-8-S3\",rownames(WT.spots)),]\n",
    "WT8S4 <- WT.spots[grep(\"WT-8-S4\",rownames(WT.spots)),]\n",
    "WT8S5 <- WT.spots[grep(\"WT-8-S6\",rownames(WT.spots)),]"
   ]
  },
  {
   "cell_type": "code",
   "execution_count": 13,
   "metadata": {},
   "outputs": [],
   "source": [
    "WT1S2.s <- colSums(WT1S2)\n",
    "WT1S3.s <- colSums(WT1S3)\n",
    "WT1S4.s <- colSums(WT1S4)\n",
    "WT1S5.s <- colSums(WT1S5)\n",
    "\n",
    "WT2S2.s <- colSums(WT2S2)\n",
    "WT2S3.s <- colSums(WT2S3)\n",
    "WT2S4.s <- colSums(WT2S4)\n",
    "WT2S5.s <- colSums(WT2S5)\n",
    "\n",
    "WT3S2.s <- colSums(WT3S2)\n",
    "WT3S3.s <- colSums(WT3S3)\n",
    "WT3S4.s <- colSums(WT3S4)\n",
    "WT3S5.s <- colSums(WT3S5)\n",
    "\n",
    "WT4S2.s <- colSums(WT4S2)\n",
    "WT4S3.s <- colSums(WT4S3)\n",
    "WT4S4.s <- colSums(WT4S4)\n",
    "\n",
    "WT5S2.s <- colSums(WT5S3)\n",
    "WT5S3.s <- colSums(WT5S4)\n",
    "WT5S5.s <- colSums(WT5S5)\n",
    "\n",
    "WT6S2.s <- colSums(WT6S2)\n",
    "WT6S3.s <- colSums(WT6S3)\n",
    "WT6S4.s <- colSums(WT6S4)\n",
    "WT6S5.s <- colSums(WT6S5)\n",
    "\n",
    "WT7S3.s <- colSums(WT7S3)\n",
    "WT7S4.s <- colSums(WT7S4)\n",
    "WT7S5.s <- colSums(WT7S5)\n",
    "\n",
    "WT8S2.s <- colSums(WT8S2)\n",
    "WT8S3.s <- colSums(WT8S3)\n",
    "WT8S4.s <- colSums(WT8S4)\n",
    "WT8S5.s <- colSums(WT8S5)"
   ]
  },
  {
   "cell_type": "code",
   "execution_count": 14,
   "metadata": {},
   "outputs": [],
   "source": [
    "S1 <- data.frame(WT1S2.s, WT2S2.s, WT3S2.s, WT4S2.s, WT5S2.s, WT6S2.s, WT8S2.s)\n",
    "S2 <- data.frame(WT1S3.s, WT2S3.s, WT3S3.s, WT4S3.s, WT5S3.s, WT6S3.s, WT7S3.s, WT8S3.s)\n",
    "S3 <- data.frame(WT1S4.s, WT2S4.s, WT3S4.s, WT4S4.s, WT6S4.s, WT8S4.s)\n",
    "S4 <- data.frame(WT1S5.s, WT2S5.s, WT3S5.s, WT5S5.s, WT6S5.s, WT8S5.s)"
   ]
  },
  {
   "cell_type": "code",
   "execution_count": 15,
   "metadata": {},
   "outputs": [],
   "source": [
    "S1<-data.frame(rowSums(S1))\n",
    "S2<-data.frame(rowSums(S2))\n",
    "S3<-data.frame(rowSums(S3))\n",
    "S4<-data.frame(rowSums(S4))"
   ]
  },
  {
   "cell_type": "code",
   "execution_count": 16,
   "metadata": {},
   "outputs": [],
   "source": [
    "total <- cbind(S1, S2, S3, S4)\n",
    "total <- data.frame(rowSums(total))\n",
    "total.num <- length(rownames(WT.spots[rowSums(WT.spots) > 0,]))\n",
    "\n",
    "prop<-total/total.num*100\n",
    "rownames(prop) <- gsub('.Copies','',rownames(total))\n",
    "prop$gene <- rownames(prop)"
   ]
  },
  {
   "cell_type": "code",
   "execution_count": 17,
   "metadata": {
    "scrolled": true
   },
   "outputs": [],
   "source": [
    "#prop <- prop[prop$gene != 'vgat',]"
   ]
  },
  {
   "cell_type": "code",
   "execution_count": 18,
   "metadata": {},
   "outputs": [],
   "source": [
    "prop$gene<-factor(prop$gene, levels=c('onecut2','col15a1','sst','crhr2','drd2','drd3','met','nts','tacr1','samd3','foxp2','vglut2','pax6','esr1','vgat'))"
   ]
  },
  {
   "cell_type": "code",
   "execution_count": 19,
   "metadata": {},
   "outputs": [
    {
     "data": {
      "image/png": "[encoded data removed]",
      "text/plain": [
       "plot without title"
      ]
     },
     "metadata": {
      "image/png": {
       "height": 420,
       "width": 420
      }
     },
     "output_type": "display_data"
    }
   ],
   "source": [
    "ggplot(prop, aes(x=gene, y=rowSums.total.))+\n",
    "    geom_bar(stat='identity') +\n",
    "      theme_classic() +\n",
    "      theme(\n",
    "        axis.line=element_line(size=0.25),\n",
    "        axis.ticks=element_line(size=0.25),\n",
    "        axis.text.y = element_text(size=8),\n",
    "        axis.text.x = element_text( size=8),\n",
    "        axis.title.y = element_blank(),\n",
    "        axis.title.x = element_blank(),\n",
    "        legend.position='none',\n",
    "        legend.key.size = unit(0.25, 'cm')) +\n",
    "        scale_y_continuous(expand = c(0, 0))"
   ]
  },
  {
   "cell_type": "markdown",
   "metadata": {},
   "source": [
    "#### Calculating the proportion of cells that express each gene in the snRNAseq data"
   ]
  },
  {
   "cell_type": "code",
   "execution_count": 20,
   "metadata": {},
   "outputs": [
    {
     "name": "stderr",
     "output_type": "stream",
     "text": [
      "Attaching SeuratObject\n",
      "\n",
      "\n",
      "Attaching package: 'magrittr'\n",
      "\n",
      "\n",
      "The following object is masked from 'package:purrr':\n",
      "\n",
      "    set_names\n",
      "\n",
      "\n",
      "The following object is masked from 'package:tidyr':\n",
      "\n",
      "    extract\n",
      "\n",
      "\n"
     ]
    }
   ],
   "source": [
    "library(Seurat)\n",
    "library(dplyr)\n",
    "library(magrittr)\n",
    "library(ggplot2)\n",
    "library(xlsx)\n",
    "library(tidyr)"
   ]
  },
  {
   "cell_type": "code",
   "execution_count": 21,
   "metadata": {},
   "outputs": [],
   "source": [
    "LS.integrated<-readRDS(file = \"C:/Users/stuberadmin/Documents/scRNAseq/211119-RS-rv4/Neurons_only_iter2/LS_integrated.rds\")\n",
    "LS_sal<-readRDS(file = \"C:/Users/stuberadmin/Documents/scRNAseq/211119-RS-rv4/Neurons_only_iter2/LS_sal.rds\")\n",
    "LS_mor<-readRDS(file = \"C:/Users/stuberadmin/Documents/scRNAseq/211119-RS-rv4/Neurons_only_iter2/LS_mor.rds\")\n",
    "LS_nal<-readRDS(file = \"C:/Users/stuberadmin/Documents/scRNAseq/211119-RS-rv4/Neurons_only_iter2/LS_nal.rds\")\n",
    "LS_one_mor<-readRDS( file = \"C:/Users/stuberadmin/Documents/scRNAseq/211119-RS-rv4/Neurons_only_iter2/LS_one_mor.rds\")\n",
    "LS_nal_no_mor<-readRDS( file = \"C:/Users/stuberadmin/Documents/scRNAseq/211119-RS-rv4/Neurons_only_iter2/LS_nal_no_mor.rds\")"
   ]
  },
  {
   "cell_type": "code",
   "execution_count": 22,
   "metadata": {},
   "outputs": [],
   "source": [
    "LS.integrated <- NormalizeData(LS.integrated)\n",
    "DefaultAssay(LS.integrated) <- \"RNA\""
   ]
  },
  {
   "cell_type": "code",
   "execution_count": 23,
   "metadata": {},
   "outputs": [],
   "source": [
    "new.ident <- c(\"Gaba1\",\"Gaba2\",\"Gaba3\",\"Gaba4\",\"Gaba5\",\"Gaba6\",\"Gaba7\",\"Glu1\",\"Gaba8\",\"Gaba9\",\"Gaba10\",\"Glu2\",\"Gaba11\",\"Gaba12\")\n",
    "names(x = new.ident) <- levels(x =LS.integrated)\n",
    "LS.integrated<- RenameIdents(object =LS.integrated, new.ident)"
   ]
  },
  {
   "cell_type": "code",
   "execution_count": 24,
   "metadata": {},
   "outputs": [],
   "source": [
    "total<-sum(data.frame(table(Idents(LS.integrated)))$Freq)"
   ]
  },
  {
   "cell_type": "code",
   "execution_count": 25,
   "metadata": {},
   "outputs": [],
   "source": [
    "Nts <- sum(data.frame(table(Idents(subset(LS.integrated, Nts > 0))))$Freq)/total*100\n",
    "Sst <- sum(data.frame(table(Idents(subset(LS.integrated, Sst > 0))))$Freq)/total*100\n",
    "Crhr2 <- sum(data.frame(table(Idents(subset(LS.integrated, Crhr2 > 0))))$Freq)/total*100\n",
    "Drd2 <- sum(data.frame(table(Idents(subset(LS.integrated, Drd2 > 0))))$Freq)/total*100\n",
    "Drd3 <- sum(data.frame(table(Idents(subset(LS.integrated, Drd3 > 0))))$Freq)/total*100\n",
    "Met <- sum(data.frame(table(Idents(subset(LS.integrated, Met > 0))))$Freq)/total*100\n",
    "Esr1 <- sum(data.frame(table(Idents(subset(LS.integrated, Esr1 > 0))))$Freq)/total*100\n",
    "Slc17a6 <- sum(data.frame(table(Idents(subset(LS.integrated, Slc17a6 > 0))))$Freq)/total*100\n",
    "Slc32a1 <- sum(data.frame(table(Idents(subset(LS.integrated, Slc32a1 > 0))))$Freq)/total*100\n",
    "Tacr1 <- sum(data.frame(table(Idents(subset(LS.integrated, Tacr1 > 0))))$Freq)/total*100\n",
    "Pax6 <- sum(data.frame(table(Idents(subset(LS.integrated, Pax6 > 0))))$Freq)/total*100\n",
    "Foxp2 <- sum(data.frame(table(Idents(subset(LS.integrated, Foxp2 > 0))))$Freq)/total*100\n",
    "Samd3 <- sum(data.frame(table(Idents(subset(LS.integrated, Samd3 > 0))))$Freq)/total*100\n",
    "Onecut2 <- sum(data.frame(table(Idents(subset(LS.integrated, Onecut2 > 0))))$Freq)/total*100\n",
    "Col15a1 <- sum(data.frame(table(Idents(subset(LS.integrated, Col15a1 > 0))))$Freq)/total*100"
   ]
  },
  {
   "cell_type": "code",
   "execution_count": 26,
   "metadata": {},
   "outputs": [],
   "source": [
    "tally <-data.frame(\"nts\"=Nts, \n",
    "          \"sst\"=Sst,\n",
    "          \"crhr2\"=Crhr2,\n",
    "          \"drd2\"=Drd2,\n",
    "          \"drd3\"=Drd3,\n",
    "          \"met\"=Met,\n",
    "          \"esr1\"=Esr1,\n",
    "          \"vglut2\"=Slc17a6,\n",
    "          \"vgat\"=Slc32a1,\n",
    "           \"tacr1\"=Tacr1,\n",
    "           \"pax6\"=Pax6,\n",
    "           \"foxp2\"=Foxp2,\n",
    "           \"samd3\"=Samd3,\n",
    "           \"onecut2\"=Onecut2,\n",
    "           \"col15a1\"=Col15a1)"
   ]
  },
  {
   "cell_type": "code",
   "execution_count": 27,
   "metadata": {},
   "outputs": [],
   "source": [
    "tally<-data.frame(t(tally))\n",
    "tally$gene <- rownames(tally)\n",
    "colnames(tally)<-c('prop','gene')"
   ]
  },
  {
   "cell_type": "code",
   "execution_count": 28,
   "metadata": {},
   "outputs": [
    {
     "data": {
      "text/html": [
       "<table class=\"dataframe\">\n",
       "<caption>A data.frame: 15 × 2</caption>\n",
       "<thead>\n",
       "\t<tr><th></th><th scope=col>prop</th><th scope=col>gene</th></tr>\n",
       "\t<tr><th></th><th scope=col>&lt;dbl&gt;</th><th scope=col>&lt;chr&gt;</th></tr>\n",
       "</thead>\n",
       "<tbody>\n",
       "\t<tr><th scope=row>nts</th><td>13.019877</td><td>nts    </td></tr>\n",
       "\t<tr><th scope=row>sst</th><td>18.397313</td><td>sst    </td></tr>\n",
       "\t<tr><th scope=row>crhr2</th><td> 6.943414</td><td>crhr2  </td></tr>\n",
       "\t<tr><th scope=row>drd2</th><td>13.914164</td><td>drd2   </td></tr>\n",
       "\t<tr><th scope=row>drd3</th><td> 4.764322</td><td>drd3   </td></tr>\n",
       "\t<tr><th scope=row>met</th><td> 9.302144</td><td>met    </td></tr>\n",
       "\t<tr><th scope=row>esr1</th><td> 8.083727</td><td>esr1   </td></tr>\n",
       "\t<tr><th scope=row>vglut2</th><td> 8.044675</td><td>vglut2 </td></tr>\n",
       "\t<tr><th scope=row>vgat</th><td>44.151990</td><td>vgat   </td></tr>\n",
       "\t<tr><th scope=row>tacr1</th><td> 4.975202</td><td>tacr1  </td></tr>\n",
       "\t<tr><th scope=row>pax6</th><td> 4.979107</td><td>pax6   </td></tr>\n",
       "\t<tr><th scope=row>foxp2</th><td>17.073456</td><td>foxp2  </td></tr>\n",
       "\t<tr><th scope=row>samd3</th><td> 4.237123</td><td>samd3  </td></tr>\n",
       "\t<tr><th scope=row>onecut2</th><td> 6.923888</td><td>onecut2</td></tr>\n",
       "\t<tr><th scope=row>col15a1</th><td> 9.509119</td><td>col15a1</td></tr>\n",
       "</tbody>\n",
       "</table>\n"
      ],
      "text/latex": [
       "A data.frame: 15 × 2\n",
       "\\begin{tabular}{r|ll}\n",
       "  & prop & gene\\\\\n",
       "  & <dbl> & <chr>\\\\\n",
       "\\hline\n",
       "\tnts & 13.019877 & nts    \\\\\n",
       "\tsst & 18.397313 & sst    \\\\\n",
       "\tcrhr2 &  6.943414 & crhr2  \\\\\n",
       "\tdrd2 & 13.914164 & drd2   \\\\\n",
       "\tdrd3 &  4.764322 & drd3   \\\\\n",
       "\tmet &  9.302144 & met    \\\\\n",
       "\tesr1 &  8.083727 & esr1   \\\\\n",
       "\tvglut2 &  8.044675 & vglut2 \\\\\n",
       "\tvgat & 44.151990 & vgat   \\\\\n",
       "\ttacr1 &  4.975202 & tacr1  \\\\\n",
       "\tpax6 &  4.979107 & pax6   \\\\\n",
       "\tfoxp2 & 17.073456 & foxp2  \\\\\n",
       "\tsamd3 &  4.237123 & samd3  \\\\\n",
       "\tonecut2 &  6.923888 & onecut2\\\\\n",
       "\tcol15a1 &  9.509119 & col15a1\\\\\n",
       "\\end{tabular}\n"
      ],
      "text/markdown": [
       "\n",
       "A data.frame: 15 × 2\n",
       "\n",
       "| <!--/--> | prop &lt;dbl&gt; | gene &lt;chr&gt; |\n",
       "|---|---|---|\n",
       "| nts | 13.019877 | nts     |\n",
       "| sst | 18.397313 | sst     |\n",
       "| crhr2 |  6.943414 | crhr2   |\n",
       "| drd2 | 13.914164 | drd2    |\n",
       "| drd3 |  4.764322 | drd3    |\n",
       "| met |  9.302144 | met     |\n",
       "| esr1 |  8.083727 | esr1    |\n",
       "| vglut2 |  8.044675 | vglut2  |\n",
       "| vgat | 44.151990 | vgat    |\n",
       "| tacr1 |  4.975202 | tacr1   |\n",
       "| pax6 |  4.979107 | pax6    |\n",
       "| foxp2 | 17.073456 | foxp2   |\n",
       "| samd3 |  4.237123 | samd3   |\n",
       "| onecut2 |  6.923888 | onecut2 |\n",
       "| col15a1 |  9.509119 | col15a1 |\n",
       "\n"
      ],
      "text/plain": [
       "        prop      gene   \n",
       "nts     13.019877 nts    \n",
       "sst     18.397313 sst    \n",
       "crhr2    6.943414 crhr2  \n",
       "drd2    13.914164 drd2   \n",
       "drd3     4.764322 drd3   \n",
       "met      9.302144 met    \n",
       "esr1     8.083727 esr1   \n",
       "vglut2   8.044675 vglut2 \n",
       "vgat    44.151990 vgat   \n",
       "tacr1    4.975202 tacr1  \n",
       "pax6     4.979107 pax6   \n",
       "foxp2   17.073456 foxp2  \n",
       "samd3    4.237123 samd3  \n",
       "onecut2  6.923888 onecut2\n",
       "col15a1  9.509119 col15a1"
      ]
     },
     "metadata": {},
     "output_type": "display_data"
    }
   ],
   "source": [
    "tally"
   ]
  },
  {
   "cell_type": "code",
   "execution_count": null,
   "metadata": {},
   "outputs": [],
   "source": [
    "saveRDS(tally, file='C:/Users/stuberadmin/Documents/HCR_analysis/graphs/seq_tally.rds')"
   ]
  },
  {
   "cell_type": "code",
   "execution_count": 29,
   "metadata": {
    "scrolled": true
   },
   "outputs": [
    {
     "data": {
      "text/html": [
       "<table class=\"dataframe\">\n",
       "<caption>A data.frame: 15 × 2</caption>\n",
       "<thead>\n",
       "\t<tr><th></th><th scope=col>prop</th><th scope=col>gene</th></tr>\n",
       "\t<tr><th></th><th scope=col>&lt;dbl&gt;</th><th scope=col>&lt;chr&gt;</th></tr>\n",
       "</thead>\n",
       "<tbody>\n",
       "\t<tr><th scope=row>nts</th><td>12.805092</td><td>nts    </td></tr>\n",
       "\t<tr><th scope=row>sst</th><td>17.831062</td><td>sst    </td></tr>\n",
       "\t<tr><th scope=row>crhr2</th><td> 6.873121</td><td>crhr2  </td></tr>\n",
       "\t<tr><th scope=row>drd2</th><td>13.574413</td><td>drd2   </td></tr>\n",
       "\t<tr><th scope=row>drd3</th><td> 4.721365</td><td>drd3   </td></tr>\n",
       "\t<tr><th scope=row>met</th><td> 9.149842</td><td>met    </td></tr>\n",
       "\t<tr><th scope=row>esr1</th><td> 7.954856</td><td>esr1   </td></tr>\n",
       "\t<tr><th scope=row>vglut2</th><td> 8.001718</td><td>vglut2 </td></tr>\n",
       "\t<tr><th scope=row>vgat</th><td>41.824501</td><td>vgat   </td></tr>\n",
       "\t<tr><th scope=row>tacr1</th><td> 4.932245</td><td>tacr1  </td></tr>\n",
       "\t<tr><th scope=row>pax6</th><td> 4.943961</td><td>pax6   </td></tr>\n",
       "\t<tr><th scope=row>foxp2</th><td>16.616550</td><td>foxp2  </td></tr>\n",
       "\t<tr><th scope=row>samd3</th><td> 4.229312</td><td>samd3  </td></tr>\n",
       "\t<tr><th scope=row>onecut2</th><td> 6.822353</td><td>onecut2</td></tr>\n",
       "\t<tr><th scope=row>col15a1</th><td> 9.349006</td><td>col15a1</td></tr>\n",
       "</tbody>\n",
       "</table>\n"
      ],
      "text/latex": [
       "A data.frame: 15 × 2\n",
       "\\begin{tabular}{r|ll}\n",
       "  & prop & gene\\\\\n",
       "  & <dbl> & <chr>\\\\\n",
       "\\hline\n",
       "\tnts & 12.805092 & nts    \\\\\n",
       "\tsst & 17.831062 & sst    \\\\\n",
       "\tcrhr2 &  6.873121 & crhr2  \\\\\n",
       "\tdrd2 & 13.574413 & drd2   \\\\\n",
       "\tdrd3 &  4.721365 & drd3   \\\\\n",
       "\tmet &  9.149842 & met    \\\\\n",
       "\tesr1 &  7.954856 & esr1   \\\\\n",
       "\tvglut2 &  8.001718 & vglut2 \\\\\n",
       "\tvgat & 41.824501 & vgat   \\\\\n",
       "\ttacr1 &  4.932245 & tacr1  \\\\\n",
       "\tpax6 &  4.943961 & pax6   \\\\\n",
       "\tfoxp2 & 16.616550 & foxp2  \\\\\n",
       "\tsamd3 &  4.229312 & samd3  \\\\\n",
       "\tonecut2 &  6.822353 & onecut2\\\\\n",
       "\tcol15a1 &  9.349006 & col15a1\\\\\n",
       "\\end{tabular}\n"
      ],
      "text/markdown": [
       "\n",
       "A data.frame: 15 × 2\n",
       "\n",
       "| <!--/--> | prop &lt;dbl&gt; | gene &lt;chr&gt; |\n",
       "|---|---|---|\n",
       "| nts | 12.805092 | nts     |\n",
       "| sst | 17.831062 | sst     |\n",
       "| crhr2 |  6.873121 | crhr2   |\n",
       "| drd2 | 13.574413 | drd2    |\n",
       "| drd3 |  4.721365 | drd3    |\n",
       "| met |  9.149842 | met     |\n",
       "| esr1 |  7.954856 | esr1    |\n",
       "| vglut2 |  8.001718 | vglut2  |\n",
       "| vgat | 41.824501 | vgat    |\n",
       "| tacr1 |  4.932245 | tacr1   |\n",
       "| pax6 |  4.943961 | pax6    |\n",
       "| foxp2 | 16.616550 | foxp2   |\n",
       "| samd3 |  4.229312 | samd3   |\n",
       "| onecut2 |  6.822353 | onecut2 |\n",
       "| col15a1 |  9.349006 | col15a1 |\n",
       "\n"
      ],
      "text/plain": [
       "        prop      gene   \n",
       "nts     12.805092 nts    \n",
       "sst     17.831062 sst    \n",
       "crhr2    6.873121 crhr2  \n",
       "drd2    13.574413 drd2   \n",
       "drd3     4.721365 drd3   \n",
       "met      9.149842 met    \n",
       "esr1     7.954856 esr1   \n",
       "vglut2   8.001718 vglut2 \n",
       "vgat    41.824501 vgat   \n",
       "tacr1    4.932245 tacr1  \n",
       "pax6     4.943961 pax6   \n",
       "foxp2   16.616550 foxp2  \n",
       "samd3    4.229312 samd3  \n",
       "onecut2  6.822353 onecut2\n",
       "col15a1  9.349006 col15a1"
      ]
     },
     "metadata": {},
     "output_type": "display_data"
    }
   ],
   "source": [
    "seq_tally <- readRDS(file='C:/Users/stuberadmin/Documents/HCR_analysis/graphs/seq_tally.rds')\n",
    "seq_tally"
   ]
  },
  {
   "cell_type": "markdown",
   "metadata": {},
   "source": [
    "Combining data"
   ]
  },
  {
   "cell_type": "code",
   "execution_count": 30,
   "metadata": {},
   "outputs": [],
   "source": [
    "prop<- prop[match(seq_tally$gene,prop$gene),]"
   ]
  },
  {
   "cell_type": "code",
   "execution_count": 31,
   "metadata": {
    "scrolled": false
   },
   "outputs": [],
   "source": [
    "df<-cbind(seq_tally, prop$rowSums.total.)"
   ]
  },
  {
   "cell_type": "code",
   "execution_count": 32,
   "metadata": {
    "scrolled": true
   },
   "outputs": [],
   "source": [
    "colnames(df) <- c(\"seq\",\"gene\",\"hcr\")"
   ]
  },
  {
   "cell_type": "code",
   "execution_count": 33,
   "metadata": {},
   "outputs": [
    {
     "data": {
      "text/html": [
       "0.843666948160971"
      ],
      "text/latex": [
       "0.843666948160971"
      ],
      "text/markdown": [
       "0.843666948160971"
      ],
      "text/plain": [
       "[1] 0.8436669"
      ]
     },
     "metadata": {},
     "output_type": "display_data"
    }
   ],
   "source": [
    "cor(df$seq, df$hcr)"
   ]
  },
  {
   "cell_type": "code",
   "execution_count": 34,
   "metadata": {},
   "outputs": [],
   "source": [
    "#df <- df[-c(9), ] #remove vgat"
   ]
  },
  {
   "cell_type": "code",
   "execution_count": 35,
   "metadata": {},
   "outputs": [
    {
     "name": "stderr",
     "output_type": "stream",
     "text": [
      "`geom_smooth()` using formula 'y ~ x'\n",
      "\n"
     ]
    },
    {
     "data": {
      "image/png": "[encoded data removed]",
      "text/plain": [
       "plot without title"
      ]
     },
     "metadata": {
      "image/png": {
       "height": 420,
       "width": 420
      }
     },
     "output_type": "display_data"
    }
   ],
   "source": [
    "ggplot(df, aes(x=hcr, y=seq, label=gene)) +\n",
    "    geom_point(size=0.5) +\n",
    "    theme_classic() +\n",
    "    geom_text_repel(size=2) +\n",
    "    theme(axis.line = element_blank(), \n",
    "         plot.title=element_blank(),\n",
    "         panel.background = element_rect(colour = \"black\", size=.25, fill=NA),\n",
    "         axis.text = element_text(size=6),\n",
    "         axis.title = element_text(size=6),\n",
    "         axis.ticks = element_line(size=0.25)) +\n",
    "    geom_smooth(method='lm', color=\"red\", fill=\"red\", alpha=0.1, size=0.5)+\n",
    "    xlab(\"HCR cell abundance (%)\") + \n",
    "    ylab(\"scRNAseq cell abundance (%)\")+\n",
    "    stat_cor(size=2, label.sep=\", \")"
   ]
  },
  {
   "cell_type": "markdown",
   "metadata": {},
   "source": [
    "#### Assessing correlations on a cluster-by-cluster basis"
   ]
  },
  {
   "cell_type": "code",
   "execution_count": 36,
   "metadata": {},
   "outputs": [],
   "source": [
    "hcr.avg <- readRDS(file=\"HCR_snRNAseq_files/LS_HCR_marker_expression_df.rds\")"
   ]
  },
  {
   "cell_type": "code",
   "execution_count": 37,
   "metadata": {},
   "outputs": [],
   "source": [
    "seq.avg <- DotPlot(LS.integrated, features=c('Col15a1','Met','Nts','Sst','Crhr2','Drd3','Esr1','Foxp2','Tacr1','Pax6','Drd2','Samd3','Onecut2','Slc32a1','Slc17a6'))$data"
   ]
  },
  {
   "cell_type": "code",
   "execution_count": 38,
   "metadata": {},
   "outputs": [],
   "source": [
    "genes <- c('Col15a1','Met','Nts','Sst','Crhr2','Drd3','Esr1','Foxp2','Tacr1','Pax6','Drd2','Samd3','Onecut2','Slc32a1','Slc17a6')\n",
    "seq.types <- c('Gaba11','Gaba9','Gaba1','Gaba8','Gaba2',\"Gaba7\",\"Gaba10\",\"Glu1\",\"Gaba6\",\"Gaba5\",'Gaba4',\"Glu2\")\n",
    "hcr.types <- c('Sst','Met','Col15a1','Nts','Drd3',\"Foxp2\",\"Tacr1\",\"Samd3\",\"Pax6\",\"Crhr2\",'Esr1',\"Onecut2\")"
   ]
  },
  {
   "cell_type": "code",
   "execution_count": 39,
   "metadata": {},
   "outputs": [],
   "source": [
    "cor.1 <- vector()\n",
    "cor.2 <- data.frame('gene'=seq.types)\n",
    "for (i in seq.types){\n",
    "    for (k in hcr.types){\n",
    "        a<-cor(hcr.avg[hcr.avg$id==k,]$pct.exp, seq.avg[seq.avg$id==i,]$pct.exp)\n",
    "        cor.1[k] <- a\n",
    "    }\n",
    "    cor.2<-cbind(cor.2,cor.1)\n",
    "}\n",
    "\n",
    "p.1 <- vector()\n",
    "p.2 <- data.frame('gene'=seq.types)\n",
    "for (i in seq.types){\n",
    "    for (k in hcr.types){\n",
    "        a<-cor.test(hcr.avg[hcr.avg$id==k,]$pct.exp, seq.avg[seq.avg$id==i,]$pct.exp, method=\"pearson\")$p.value\n",
    "        p.1[k] <- a\n",
    "    }\n",
    "    p.2<-cbind(p.2,p.1)\n",
    "}"
   ]
  },
  {
   "cell_type": "code",
   "execution_count": 40,
   "metadata": {},
   "outputs": [],
   "source": [
    "cor.df <- cor.2[2:13]\n",
    "colnames(cor.df)<-hcr.types\n",
    "rownames(cor.df)<-seq.types\n",
    "\n",
    "cor.df<-data.matrix(cor.df)\n",
    "cor.df.long <-melt(cor.df)\n",
    "\n",
    "cor.df.long$Var1<-factor(cor.df.long$Var1, levels=rev(c('Gaba5','Gaba11','Gaba6','Gaba4','Gaba7','Gaba9','Gaba1','Gaba2','Gaba8','Gaba10','Glu2','Glu1')))\n",
    "cor.df.long$Var2<-factor(cor.df.long$Var2, levels=(c('Crhr2','Sst','Pax6','Esr1','Foxp2','Met','Col15a1','Drd3','Nts','Tacr1','Onecut2','Samd3')))"
   ]
  },
  {
   "cell_type": "code",
   "execution_count": 41,
   "metadata": {},
   "outputs": [
    {
     "data": {
      "image/png": "[encoded data removed]",
      "text/plain": [
       "plot without title"
      ]
     },
     "metadata": {
      "image/png": {
       "height": 420,
       "width": 420
      }
     },
     "output_type": "display_data"
    }
   ],
   "source": [
    "ggplot(cor.df.long, aes(x=Var1, y=Var2, fill=value))+\n",
    "geom_tile() + scale_fill_gradient2(low='gray',mid='white',high='darkred',midpoint=0) +\n",
    "theme_classic()+\n",
    "    theme( axis.line=element_line(size=0.25),\n",
    "        axis.ticks=element_line(size=0.25),\n",
    "        axis.text.y = element_text(size=6,),\n",
    "        axis.text.x = element_text(size=6, angle=45, hjust=1),\n",
    "        axis.title = element_blank(),\n",
    "        legend.position='bottom',\n",
    "        legend.key.size = unit(.2, 'cm'),\n",
    "        legend.title = element_text(size=6),\n",
    "        legend.text = element_text(size=6)) + coord_flip()"
   ]
  },
  {
   "cell_type": "code",
   "execution_count": null,
   "metadata": {},
   "outputs": [],
   "source": []
  }
 ],
 "metadata": {
  "colab": {
   "name": "Heatmap_num_pos.ipynb",
   "provenance": []
  },
  "kernelspec": {
   "display_name": "R",
   "language": "R",
   "name": "ir"
  },
  "language_info": {
   "codemirror_mode": "r",
   "file_extension": ".r",
   "mimetype": "text/x-r-source",
   "name": "R",
   "pygments_lexer": "r",
   "version": "4.1.2"
  }
 },
 "nbformat": 4,
 "nbformat_minor": 1
}
